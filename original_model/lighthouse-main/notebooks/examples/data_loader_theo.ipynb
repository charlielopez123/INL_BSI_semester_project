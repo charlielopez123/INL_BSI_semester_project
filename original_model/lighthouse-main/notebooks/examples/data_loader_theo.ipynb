{
 "cells": [
  {
   "cell_type": "markdown",
   "metadata": {},
   "source": [
    "Getting started with loading CHUV data\n",
    "--------------------------------------\n",
    "\n",
    "In this notebook, you can see examples of how to load some of the CHUV data, such as *dt5*, \n",
    "or *gdp* generated files, or even whole *absd* directory.\n",
    "\n",
    "Requirements:  \n",
    "* having the *__UP2/* data \n",
    "* having set the env variable ``DATA_DIR`` to the above mentioned directory\n",
    "\n",
    "*Author: Etienne de Montalivet*"
   ]
  },
  {
   "cell_type": "code",
   "execution_count": 1,
   "metadata": {},
   "outputs": [],
   "source": [
    "%load_ext autoreload\n",
    "%autoreload 2"
   ]
  },
  {
   "cell_type": "code",
   "execution_count": 10,
   "metadata": {},
   "outputs": [],
   "source": [
    "import sys\n",
    "import os\n",
    "sys.path\n",
    "sys.path.append('/Users/theomaetz/Downloads/MA3/INL/lighthouse-main')\n",
    "os.environ['DATA_DIR'] = '/Volumes'"
   ]
  },
  {
   "cell_type": "code",
   "execution_count": 11,
   "metadata": {},
   "outputs": [
    {
     "name": "stderr",
     "output_type": "stream",
     "text": [
      "\u001b[32m2024-10-02 22:10:31.216\u001b[0m | \u001b[33m\u001b[1mWARNING \u001b[0m | \u001b[36mlighthouse.metadata\u001b[0m:\u001b[36mget_training_sessions\u001b[0m:\u001b[36m125\u001b[0m - \u001b[33m\u001b[1mOnly found 65 out of 66 training sessions\u001b[0m\n"
     ]
    }
   ],
   "source": [
    "from pathlib import Path\n",
    "import matplotlib.pyplot as plt\n",
    "\n",
    "import lighthouse.metadata as metadata\n",
    "from lighthouse.data_loader.load_chuv import load_absd, load_dt5, load_gdp, load_smr\n",
    "\n",
    "training_sessions = metadata.get_training_sessions()"
   ]
  },
  {
   "cell_type": "markdown",
   "metadata": {},
   "source": [
    "### GDP files - stimulation"
   ]
  },
  {
   "cell_type": "markdown",
   "metadata": {},
   "source": [
    "Loading GDP files for all sessions is still ongoing work which is why we load a specific session here."
   ]
  },
  {
   "cell_type": "code",
   "execution_count": 13,
   "metadata": {},
   "outputs": [],
   "source": [
    "data_dir = Path(os.environ[\"DATA_DIR\"]) / \"__UP2\" / \"0_RAW_DATA\" / \"UP2_001\"\n",
    "(\n",
    "    (stim_data, stim_times, stim_ch_names),\n",
    "    (pred_data, pred_times, pred_ch_names),\n",
    "    (enable_stim_data, enable_stim_times),\n",
    "    lm,\n",
    "    stim_metadata,\n",
    ") = load_gdp(\n",
    "    data_dir\n",
    "    / \"UP2001_2023_11_02_BSITraining_day11\"\n",
    "    / \"GDP\"\n",
    "    / \"Patients\"\n",
    "    / \"Patient_UP2001Rostral\"\n",
    "    / \"Sessions\"\n",
    "    / \"Session_20231102141829\"\n",
    "    / \"GeneralLogs\"\n",
    ")"
   ]
  },
  {
   "cell_type": "code",
   "execution_count": 14,
   "metadata": {},
   "outputs": [
    {
     "data": {
      "text/plain": [
       "((2, 4802), (13, 10543), (7,))"
      ]
     },
     "execution_count": 14,
     "metadata": {},
     "output_type": "execute_result"
    }
   ],
   "source": [
    "stim_data.shape, pred_data.shape, enable_stim_data.shape"
   ]
  },
  {
   "cell_type": "code",
   "execution_count": 15,
   "metadata": {},
   "outputs": [
    {
     "data": {
      "text/plain": [
       "(['newElbowExtension', 'newshflex'],\n",
       " ['elbowextension',\n",
       "  'elbowflexion',\n",
       "  'handclose',\n",
       "  'handopen',\n",
       "  'idle',\n",
       "  'shoulderabduction',\n",
       "  'shoulderadduction',\n",
       "  'shoulderextension',\n",
       "  'shoulderextrot',\n",
       "  'shoulderflexion',\n",
       "  'shoulderintrot',\n",
       "  'wristpronation',\n",
       "  'wristsupination'])"
      ]
     },
     "execution_count": 15,
     "metadata": {},
     "output_type": "execute_result"
    }
   ],
   "source": [
    "stim_ch_names, pred_ch_names"
   ]
  },
  {
   "cell_type": "code",
   "execution_count": 16,
   "metadata": {},
   "outputs": [
    {
     "data": {
      "text/plain": [
       "dict_keys(['newElbowExtension', 'newshflex', 'is_enable'])"
      ]
     },
     "execution_count": 16,
     "metadata": {},
     "output_type": "execute_result"
    }
   ],
   "source": [
    "stim_metadata.keys()"
   ]
  },
  {
   "cell_type": "code",
   "execution_count": 17,
   "metadata": {},
   "outputs": [
    {
     "data": {
      "text/html": [
       "<div>\n",
       "<style scoped>\n",
       "    .dataframe tbody tr th:only-of-type {\n",
       "        vertical-align: middle;\n",
       "    }\n",
       "\n",
       "    .dataframe tbody tr th {\n",
       "        vertical-align: top;\n",
       "    }\n",
       "\n",
       "    .dataframe thead th {\n",
       "        text-align: right;\n",
       "    }\n",
       "</style>\n",
       "<table border=\"1\" class=\"dataframe\">\n",
       "  <thead>\n",
       "    <tr style=\"text-align: right;\">\n",
       "      <th></th>\n",
       "      <th>Electrodes</th>\n",
       "      <th>LeadNum</th>\n",
       "      <th>FrequencyPeriod</th>\n",
       "      <th>FrequencyOffset</th>\n",
       "      <th>Amplitude</th>\n",
       "      <th>RelativeAmplitude</th>\n",
       "      <th>Ramping</th>\n",
       "      <th>Pulses</th>\n",
       "      <th>ModulationPeriod</th>\n",
       "      <th>Duration</th>\n",
       "      <th>RampingDuration</th>\n",
       "      <th>gdp_time</th>\n",
       "      <th>external_time</th>\n",
       "    </tr>\n",
       "  </thead>\n",
       "  <tbody>\n",
       "    <tr>\n",
       "      <th>0</th>\n",
       "      <td>[-1, 1, 0, 0, 0, 0, 0, 0, 1, 1, 0, 0, 0, 0, 0,...</td>\n",
       "      <td>0</td>\n",
       "      <td>50000</td>\n",
       "      <td>100</td>\n",
       "      <td>2.000000</td>\n",
       "      <td>0.0</td>\n",
       "      <td>False</td>\n",
       "      <td>1</td>\n",
       "      <td>0</td>\n",
       "      <td>1000</td>\n",
       "      <td>0</td>\n",
       "      <td>34690</td>\n",
       "      <td>1.698931e+12</td>\n",
       "    </tr>\n",
       "    <tr>\n",
       "      <th>1</th>\n",
       "      <td>[-1, 1, 0, 0, 0, 0, 0, 0, 1, 1, 0, 0, 0, 0, 0,...</td>\n",
       "      <td>0</td>\n",
       "      <td>50000</td>\n",
       "      <td>100</td>\n",
       "      <td>0.890992</td>\n",
       "      <td>0.0</td>\n",
       "      <td>False</td>\n",
       "      <td>1</td>\n",
       "      <td>0</td>\n",
       "      <td>1000</td>\n",
       "      <td>0</td>\n",
       "      <td>94769</td>\n",
       "      <td>1.698931e+12</td>\n",
       "    </tr>\n",
       "    <tr>\n",
       "      <th>2</th>\n",
       "      <td>[-1, 1, 0, 0, 0, 0, 0, 0, 1, 1, 0, 0, 0, 0, 0,...</td>\n",
       "      <td>0</td>\n",
       "      <td>50000</td>\n",
       "      <td>100</td>\n",
       "      <td>0.739594</td>\n",
       "      <td>0.0</td>\n",
       "      <td>False</td>\n",
       "      <td>1</td>\n",
       "      <td>0</td>\n",
       "      <td>1000</td>\n",
       "      <td>0</td>\n",
       "      <td>95070</td>\n",
       "      <td>1.698931e+12</td>\n",
       "    </tr>\n",
       "    <tr>\n",
       "      <th>3</th>\n",
       "      <td>[-1, 1, 0, 0, 0, 0, 0, 0, 1, 1, 0, 0, 0, 0, 0,...</td>\n",
       "      <td>0</td>\n",
       "      <td>50000</td>\n",
       "      <td>100</td>\n",
       "      <td>0.730589</td>\n",
       "      <td>0.0</td>\n",
       "      <td>False</td>\n",
       "      <td>1</td>\n",
       "      <td>0</td>\n",
       "      <td>1000</td>\n",
       "      <td>0</td>\n",
       "      <td>95368</td>\n",
       "      <td>1.698931e+12</td>\n",
       "    </tr>\n",
       "    <tr>\n",
       "      <th>4</th>\n",
       "      <td>[-1, 1, 0, 0, 0, 0, 0, 0, 1, 1, 0, 0, 0, 0, 0,...</td>\n",
       "      <td>0</td>\n",
       "      <td>50000</td>\n",
       "      <td>100</td>\n",
       "      <td>0.792260</td>\n",
       "      <td>0.0</td>\n",
       "      <td>False</td>\n",
       "      <td>1</td>\n",
       "      <td>0</td>\n",
       "      <td>1000</td>\n",
       "      <td>0</td>\n",
       "      <td>95608</td>\n",
       "      <td>1.698931e+12</td>\n",
       "    </tr>\n",
       "    <tr>\n",
       "      <th>...</th>\n",
       "      <td>...</td>\n",
       "      <td>...</td>\n",
       "      <td>...</td>\n",
       "      <td>...</td>\n",
       "      <td>...</td>\n",
       "      <td>...</td>\n",
       "      <td>...</td>\n",
       "      <td>...</td>\n",
       "      <td>...</td>\n",
       "      <td>...</td>\n",
       "      <td>...</td>\n",
       "      <td>...</td>\n",
       "      <td>...</td>\n",
       "    </tr>\n",
       "    <tr>\n",
       "      <th>4797</th>\n",
       "      <td>[-1, 1, 0, 0, 0, 0, 0, 0, 1, 1, 0, 0, 0, 0, 0,...</td>\n",
       "      <td>0</td>\n",
       "      <td>50000</td>\n",
       "      <td>100</td>\n",
       "      <td>0.752417</td>\n",
       "      <td>0.0</td>\n",
       "      <td>False</td>\n",
       "      <td>1</td>\n",
       "      <td>0</td>\n",
       "      <td>1000</td>\n",
       "      <td>0</td>\n",
       "      <td>1156119</td>\n",
       "      <td>1.698932e+12</td>\n",
       "    </tr>\n",
       "    <tr>\n",
       "      <th>4798</th>\n",
       "      <td>[-1, 1, 0, 0, 0, 0, 0, 0, 1, 1, 0, 0, 0, 0, 0,...</td>\n",
       "      <td>0</td>\n",
       "      <td>50000</td>\n",
       "      <td>100</td>\n",
       "      <td>0.760561</td>\n",
       "      <td>0.0</td>\n",
       "      <td>False</td>\n",
       "      <td>1</td>\n",
       "      <td>0</td>\n",
       "      <td>1000</td>\n",
       "      <td>0</td>\n",
       "      <td>1156479</td>\n",
       "      <td>1.698932e+12</td>\n",
       "    </tr>\n",
       "    <tr>\n",
       "      <th>4799</th>\n",
       "      <td>[-1, 1, 0, 0, 0, 0, 0, 0, 1, 1, 0, 0, 0, 0, 0,...</td>\n",
       "      <td>0</td>\n",
       "      <td>50000</td>\n",
       "      <td>100</td>\n",
       "      <td>0.742653</td>\n",
       "      <td>0.0</td>\n",
       "      <td>False</td>\n",
       "      <td>1</td>\n",
       "      <td>0</td>\n",
       "      <td>1000</td>\n",
       "      <td>0</td>\n",
       "      <td>1156838</td>\n",
       "      <td>1.698932e+12</td>\n",
       "    </tr>\n",
       "    <tr>\n",
       "      <th>4800</th>\n",
       "      <td>[-1, 1, 0, 0, 0, 0, 0, 0, 1, 1, 0, 0, 0, 0, 0,...</td>\n",
       "      <td>0</td>\n",
       "      <td>50000</td>\n",
       "      <td>100</td>\n",
       "      <td>0.726116</td>\n",
       "      <td>0.0</td>\n",
       "      <td>False</td>\n",
       "      <td>1</td>\n",
       "      <td>0</td>\n",
       "      <td>1000</td>\n",
       "      <td>0</td>\n",
       "      <td>1157139</td>\n",
       "      <td>1.698932e+12</td>\n",
       "    </tr>\n",
       "    <tr>\n",
       "      <th>4801</th>\n",
       "      <td>[-1, 1, 0, 0, 0, 0, 0, 0, 1, 1, 0, 0, 0, 0, 0,...</td>\n",
       "      <td>0</td>\n",
       "      <td>50000</td>\n",
       "      <td>100</td>\n",
       "      <td>0.763873</td>\n",
       "      <td>0.0</td>\n",
       "      <td>False</td>\n",
       "      <td>1</td>\n",
       "      <td>0</td>\n",
       "      <td>1000</td>\n",
       "      <td>0</td>\n",
       "      <td>1157439</td>\n",
       "      <td>1.698932e+12</td>\n",
       "    </tr>\n",
       "  </tbody>\n",
       "</table>\n",
       "<p>4802 rows × 13 columns</p>\n",
       "</div>"
      ],
      "text/plain": [
       "                                             Electrodes  LeadNum  \\\n",
       "0     [-1, 1, 0, 0, 0, 0, 0, 0, 1, 1, 0, 0, 0, 0, 0,...        0   \n",
       "1     [-1, 1, 0, 0, 0, 0, 0, 0, 1, 1, 0, 0, 0, 0, 0,...        0   \n",
       "2     [-1, 1, 0, 0, 0, 0, 0, 0, 1, 1, 0, 0, 0, 0, 0,...        0   \n",
       "3     [-1, 1, 0, 0, 0, 0, 0, 0, 1, 1, 0, 0, 0, 0, 0,...        0   \n",
       "4     [-1, 1, 0, 0, 0, 0, 0, 0, 1, 1, 0, 0, 0, 0, 0,...        0   \n",
       "...                                                 ...      ...   \n",
       "4797  [-1, 1, 0, 0, 0, 0, 0, 0, 1, 1, 0, 0, 0, 0, 0,...        0   \n",
       "4798  [-1, 1, 0, 0, 0, 0, 0, 0, 1, 1, 0, 0, 0, 0, 0,...        0   \n",
       "4799  [-1, 1, 0, 0, 0, 0, 0, 0, 1, 1, 0, 0, 0, 0, 0,...        0   \n",
       "4800  [-1, 1, 0, 0, 0, 0, 0, 0, 1, 1, 0, 0, 0, 0, 0,...        0   \n",
       "4801  [-1, 1, 0, 0, 0, 0, 0, 0, 1, 1, 0, 0, 0, 0, 0,...        0   \n",
       "\n",
       "      FrequencyPeriod  FrequencyOffset  Amplitude  RelativeAmplitude  Ramping  \\\n",
       "0               50000              100   2.000000                0.0    False   \n",
       "1               50000              100   0.890992                0.0    False   \n",
       "2               50000              100   0.739594                0.0    False   \n",
       "3               50000              100   0.730589                0.0    False   \n",
       "4               50000              100   0.792260                0.0    False   \n",
       "...               ...              ...        ...                ...      ...   \n",
       "4797            50000              100   0.752417                0.0    False   \n",
       "4798            50000              100   0.760561                0.0    False   \n",
       "4799            50000              100   0.742653                0.0    False   \n",
       "4800            50000              100   0.726116                0.0    False   \n",
       "4801            50000              100   0.763873                0.0    False   \n",
       "\n",
       "      Pulses  ModulationPeriod  Duration  RampingDuration  gdp_time  \\\n",
       "0          1                 0      1000                0     34690   \n",
       "1          1                 0      1000                0     94769   \n",
       "2          1                 0      1000                0     95070   \n",
       "3          1                 0      1000                0     95368   \n",
       "4          1                 0      1000                0     95608   \n",
       "...      ...               ...       ...              ...       ...   \n",
       "4797       1                 0      1000                0   1156119   \n",
       "4798       1                 0      1000                0   1156479   \n",
       "4799       1                 0      1000                0   1156838   \n",
       "4800       1                 0      1000                0   1157139   \n",
       "4801       1                 0      1000                0   1157439   \n",
       "\n",
       "      external_time  \n",
       "0      1.698931e+12  \n",
       "1      1.698931e+12  \n",
       "2      1.698931e+12  \n",
       "3      1.698931e+12  \n",
       "4      1.698931e+12  \n",
       "...             ...  \n",
       "4797   1.698932e+12  \n",
       "4798   1.698932e+12  \n",
       "4799   1.698932e+12  \n",
       "4800   1.698932e+12  \n",
       "4801   1.698932e+12  \n",
       "\n",
       "[4802 rows x 13 columns]"
      ]
     },
     "execution_count": 17,
     "metadata": {},
     "output_type": "execute_result"
    }
   ],
   "source": [
    "stim_metadata[\"newElbowExtension\"]"
   ]
  },
  {
   "cell_type": "code",
   "execution_count": 18,
   "metadata": {},
   "outputs": [
    {
     "data": {
      "text/plain": [
       "(array([0, 1, 0, 1, 0, 1, 0]),\n",
       " array([1.69893120e+12, 1.69893128e+12, 1.69893148e+12, 1.69893187e+12,\n",
       "        1.69893197e+12, 1.69893209e+12, 1.69893224e+12]))"
      ]
     },
     "execution_count": 18,
     "metadata": {},
     "output_type": "execute_result"
    }
   ],
   "source": [
    "enable_stim_data, enable_stim_times"
   ]
  },
  {
   "cell_type": "markdown",
   "metadata": {},
   "source": [
    "### smr files - pure hardware data (ecog, trigger, temp, acc)"
   ]
  },
  {
   "cell_type": "code",
   "execution_count": 19,
   "metadata": {},
   "outputs": [
    {
     "data": {
      "text/plain": [
       "[PosixPath('/Volumes/__UP2/0_RAW_DATA/UP2_001/UP2001_2023_10_24_BSITraining_day4/WISCI/2023_10_24_13_59_55 (rec1)/SN07_merged.smr'),\n",
       " PosixPath('/Volumes/__UP2/0_RAW_DATA/UP2_001/UP2001_2023_10_24_BSITraining_day4/WISCI/2023_10_24_14_17_20 (rec2_HandOpen_Close)/SN07_merged.smr'),\n",
       " PosixPath('/Volumes/__UP2/0_RAW_DATA/UP2_001/UP2001_2023_10_24_BSITraining_day4/WISCI/2023_10_24_15_03_57 (rec3)/SN07_merged.smr'),\n",
       " PosixPath('/Volumes/__UP2/0_RAW_DATA/UP2_001/UP2001_2023_10_24_BSITraining_day4/WISCI/2023_10_24_15_17_33 (rec4_PronationSupination)/SN07_merged.smr'),\n",
       " PosixPath('/Volumes/__UP2/0_RAW_DATA/UP2_001/UP2001_2023_10_24_BSITraining_day4/WISCI/2023_10_24_15_34_38 (rec5_pronationSUpination_Good)/SN07_merged.smr')]"
      ]
     },
     "metadata": {},
     "output_type": "display_data"
    }
   ],
   "source": [
    "smr_files = list(Path(training_sessions[0]).glob(\"**/*.smr\"))\n",
    "smr_file = smr_files[0]\n",
    "display(smr_files)"
   ]
  },
  {
   "cell_type": "code",
   "execution_count": 20,
   "metadata": {},
   "outputs": [
    {
     "name": "stderr",
     "output_type": "stream",
     "text": [
      "\u001b[32m2024-10-02 22:14:59.514\u001b[0m | \u001b[1mINFO    \u001b[0m | \u001b[36mlighthouse.data_loader.load_chuv\u001b[0m:\u001b[36mload_smr\u001b[0m:\u001b[36m1039\u001b[0m - \u001b[1mLoading /Volumes/__UP2/0_RAW_DATA/UP2_001/UP2001_2023_10_24_BSITraining_day4/WISCI/2023_10_24_13_59_55 (rec1)/SN07_merged.smr\u001b[0m\n",
      "Units \"Â°C\" can not be converted to a quantity. Using dimensionless instead\n",
      "Units \"Â°C\" can not be converted to a quantity. Using dimensionless instead\n"
     ]
    }
   ],
   "source": [
    "signals, times, ch_names = load_smr(smr_file)"
   ]
  },
  {
   "cell_type": "code",
   "execution_count": 21,
   "metadata": {},
   "outputs": [
    {
     "data": {
      "text/plain": [
       "((41, 574707),\n",
       " (574707,),\n",
       " ['RMSPV',\n",
       "  'Tr7',\n",
       "  'RaccX',\n",
       "  'RaccY',\n",
       "  'RaccZ',\n",
       "  'RWover',\n",
       "  'RWused',\n",
       "  'R77',\n",
       "  'R57',\n",
       "  'R66',\n",
       "  'R46',\n",
       "  'R75',\n",
       "  'R55',\n",
       "  'R64',\n",
       "  'R44',\n",
       "  'R73',\n",
       "  'R53',\n",
       "  'R62',\n",
       "  'R71',\n",
       "  'R60',\n",
       "  'R51',\n",
       "  'R42',\n",
       "  'R40',\n",
       "  'R31',\n",
       "  'R33',\n",
       "  'R20',\n",
       "  'R22',\n",
       "  'R11',\n",
       "  'R00',\n",
       "  'R02',\n",
       "  'R13',\n",
       "  'R24',\n",
       "  'R04',\n",
       "  'R35',\n",
       "  'R15',\n",
       "  'R26',\n",
       "  'R06',\n",
       "  'R37',\n",
       "  'R17',\n",
       "  'Rtemp_1',\n",
       "  'Rtemp_2'])"
      ]
     },
     "execution_count": 21,
     "metadata": {},
     "output_type": "execute_result"
    }
   ],
   "source": [
    "signals.shape, times.shape, ch_names"
   ]
  },
  {
   "cell_type": "markdown",
   "metadata": {},
   "source": [
    "### dt5 files - ecog + pred + features"
   ]
  },
  {
   "cell_type": "code",
   "execution_count": 22,
   "metadata": {},
   "outputs": [
    {
     "data": {
      "text/plain": [
       "[PosixPath('/Volumes/__UP2/0_RAW_DATA/UP2_001/UP2001_2023_10_24_BSITraining_day4/WISCI/2023_10_24_13_59_55 (rec1)/ABSD data/2023_10_24_14_07_01_01of02.dt5'),\n",
       " PosixPath('/Volumes/__UP2/0_RAW_DATA/UP2_001/UP2001_2023_10_24_BSITraining_day4/WISCI/2023_10_24_13_59_55 (rec1)/ABSD data/2023_10_24_14_07_01_02of02.dt5'),\n",
       " PosixPath('/Volumes/__UP2/0_RAW_DATA/UP2_001/UP2001_2023_10_24_BSITraining_day4/WISCI/2023_10_24_14_17_20 (rec2_HandOpen_Close)/ABSD data/2023_10_24_14_18_47_01of09.dt5'),\n",
       " PosixPath('/Volumes/__UP2/0_RAW_DATA/UP2_001/UP2001_2023_10_24_BSITraining_day4/WISCI/2023_10_24_14_17_20 (rec2_HandOpen_Close)/ABSD data/2023_10_24_14_18_47_02of09.dt5'),\n",
       " PosixPath('/Volumes/__UP2/0_RAW_DATA/UP2_001/UP2001_2023_10_24_BSITraining_day4/WISCI/2023_10_24_14_17_20 (rec2_HandOpen_Close)/ABSD data/2023_10_24_14_18_47_03of09.dt5'),\n",
       " PosixPath('/Volumes/__UP2/0_RAW_DATA/UP2_001/UP2001_2023_10_24_BSITraining_day4/WISCI/2023_10_24_14_17_20 (rec2_HandOpen_Close)/ABSD data/2023_10_24_14_18_47_04of09.dt5'),\n",
       " PosixPath('/Volumes/__UP2/0_RAW_DATA/UP2_001/UP2001_2023_10_24_BSITraining_day4/WISCI/2023_10_24_14_17_20 (rec2_HandOpen_Close)/ABSD data/2023_10_24_14_18_47_05of09.dt5'),\n",
       " PosixPath('/Volumes/__UP2/0_RAW_DATA/UP2_001/UP2001_2023_10_24_BSITraining_day4/WISCI/2023_10_24_14_17_20 (rec2_HandOpen_Close)/ABSD data/2023_10_24_14_18_47_06of09.dt5'),\n",
       " PosixPath('/Volumes/__UP2/0_RAW_DATA/UP2_001/UP2001_2023_10_24_BSITraining_day4/WISCI/2023_10_24_14_17_20 (rec2_HandOpen_Close)/ABSD data/2023_10_24_14_18_47_07of09.dt5'),\n",
       " PosixPath('/Volumes/__UP2/0_RAW_DATA/UP2_001/UP2001_2023_10_24_BSITraining_day4/WISCI/2023_10_24_14_17_20 (rec2_HandOpen_Close)/ABSD data/2023_10_24_14_18_47_08of09.dt5'),\n",
       " PosixPath('/Volumes/__UP2/0_RAW_DATA/UP2_001/UP2001_2023_10_24_BSITraining_day4/WISCI/2023_10_24_14_17_20 (rec2_HandOpen_Close)/ABSD data/2023_10_24_14_18_47_09of09.dt5'),\n",
       " PosixPath('/Volumes/__UP2/0_RAW_DATA/UP2_001/UP2001_2023_10_24_BSITraining_day4/WISCI/2023_10_24_15_03_57 (rec3)/ABSD data/2023_10_24_15_08_11_01of02.dt5'),\n",
       " PosixPath('/Volumes/__UP2/0_RAW_DATA/UP2_001/UP2001_2023_10_24_BSITraining_day4/WISCI/2023_10_24_15_03_57 (rec3)/ABSD data/2023_10_24_15_08_11_02of02.dt5'),\n",
       " PosixPath('/Volumes/__UP2/0_RAW_DATA/UP2_001/UP2001_2023_10_24_BSITraining_day4/WISCI/2023_10_24_15_17_33 (rec4_PronationSupination)/ABSD data/2023_10_24_15_19_01_01of03.dt5'),\n",
       " PosixPath('/Volumes/__UP2/0_RAW_DATA/UP2_001/UP2001_2023_10_24_BSITraining_day4/WISCI/2023_10_24_15_17_33 (rec4_PronationSupination)/ABSD data/2023_10_24_15_19_01_02of03.dt5'),\n",
       " PosixPath('/Volumes/__UP2/0_RAW_DATA/UP2_001/UP2001_2023_10_24_BSITraining_day4/WISCI/2023_10_24_15_17_33 (rec4_PronationSupination)/ABSD data/2023_10_24_15_19_01_03of03.dt5'),\n",
       " PosixPath('/Volumes/__UP2/0_RAW_DATA/UP2_001/UP2001_2023_10_24_BSITraining_day4/WISCI/2023_10_24_15_34_38 (rec5_pronationSUpination_Good)/ABSD data/2023_10_24_15_35_51_01of03.dt5'),\n",
       " PosixPath('/Volumes/__UP2/0_RAW_DATA/UP2_001/UP2001_2023_10_24_BSITraining_day4/WISCI/2023_10_24_15_34_38 (rec5_pronationSUpination_Good)/ABSD data/2023_10_24_15_35_51_02of03.dt5'),\n",
       " PosixPath('/Volumes/__UP2/0_RAW_DATA/UP2_001/UP2001_2023_10_24_BSITraining_day4/WISCI/2023_10_24_15_34_38 (rec5_pronationSUpination_Good)/ABSD data/2023_10_24_15_35_51_03of03.dt5')]"
      ]
     },
     "metadata": {},
     "output_type": "display_data"
    }
   ],
   "source": [
    "dt5_files = list(Path(training_sessions[0]).glob(\"**/*.dt5\"))\n",
    "dt5_file = dt5_files[0]\n",
    "display(dt5_files)"
   ]
  },
  {
   "cell_type": "code",
   "execution_count": 23,
   "metadata": {},
   "outputs": [
    {
     "name": "stderr",
     "output_type": "stream",
     "text": [
      "\u001b[32m2024-10-02 22:23:42.023\u001b[0m | \u001b[1mINFO    \u001b[0m | \u001b[36mlighthouse.data_loader.load_chuv\u001b[0m:\u001b[36mload_dt5\u001b[0m:\u001b[36m196\u001b[0m - \u001b[1mScenario Name: classBCIViewerAvatarAllDegreesCourtine\u001b[0m\n",
      "\u001b[32m2024-10-02 22:23:42.029\u001b[0m | \u001b[1mINFO    \u001b[0m | \u001b[36mlighthouse.data_loader.load_chuv\u001b[0m:\u001b[36mload_dt5\u001b[0m:\u001b[36m199\u001b[0m - \u001b[1mSub Scenario Name: classBSISubScenarioUpperJointsClassif\u001b[0m\n",
      "\u001b[32m2024-10-02 22:23:53.139\u001b[0m | \u001b[33m\u001b[1mWARNING \u001b[0m | \u001b[36mlighthouse.data_loader.load_chuv\u001b[0m:\u001b[36mload_dt5\u001b[0m:\u001b[36m422\u001b[0m - \u001b[33m\u001b[1mSkipping gamma as it is all nan\u001b[0m\n"
     ]
    }
   ],
   "source": [
    "signals, ch_names = load_dt5(dt5_file, return_ch_names=True, return_all=True)"
   ]
  },
  {
   "cell_type": "code",
   "execution_count": 14,
   "metadata": {},
   "outputs": [
    {
     "data": {
      "text/plain": [
       "((129, 177000),\n",
       " ['add_ch_0',\n",
       "  'add_ch_1',\n",
       "  'add_ch_2',\n",
       "  'add_ch_3',\n",
       "  'add_ch_4',\n",
       "  'add_ch_5',\n",
       "  'add_ch_6',\n",
       "  'add_ch_7',\n",
       "  'add_ch_8',\n",
       "  'is_updating',\n",
       "  'time__0',\n",
       "  'time__1',\n",
       "  'time__2',\n",
       "  'time__3',\n",
       "  'time__4',\n",
       "  'time__5',\n",
       "  'alpha_without_sm__0',\n",
       "  'alpha_without_sm__1',\n",
       "  'alpha_without_sm__2',\n",
       "  'alpha_without_sm__3',\n",
       "  'alpha_without_sm__4',\n",
       "  'alpha_without_sm__5',\n",
       "  'alpha_without_sm__6',\n",
       "  'alpha_without_sm__7',\n",
       "  'alpha_without_sm__8',\n",
       "  'alpha_without_sm__9',\n",
       "  'alpha_without_sm__10',\n",
       "  'alpha_without_sm__11',\n",
       "  'alpha_without_sm__12',\n",
       "  'alpha_with_sm__0',\n",
       "  'alpha_with_sm__1',\n",
       "  'alpha_with_sm__2',\n",
       "  'alpha_with_sm__3',\n",
       "  'alpha_with_sm__4',\n",
       "  'alpha_with_sm__5',\n",
       "  'alpha_with_sm__6',\n",
       "  'alpha_with_sm__7',\n",
       "  'alpha_with_sm__8',\n",
       "  'alpha_with_sm__9',\n",
       "  'alpha_with_sm__10',\n",
       "  'alpha_with_sm__11',\n",
       "  'alpha_with_sm__12',\n",
       "  'latency',\n",
       "  'alpha_pred__idle',\n",
       "  'alpha_pred__shoulder__flexion',\n",
       "  'alpha_pred__shoulder__extension',\n",
       "  'alpha_pred__shoulder__adduction',\n",
       "  'alpha_pred__shoulder__abduction',\n",
       "  'alpha_pred__shoulder__internal_rotation',\n",
       "  'alpha_pred__shoulder__external_rotation',\n",
       "  'alpha_pred__elbow__flexion',\n",
       "  'alpha_pred__elbow__extension',\n",
       "  'alpha_pred__wrist__pronation',\n",
       "  'alpha_pred__wrist__supination',\n",
       "  'alpha_pred__hand__open',\n",
       "  'alpha_pred__hand__close',\n",
       "  'pred_weight',\n",
       "  'treatment',\n",
       "  'weight',\n",
       "  'y_pred__shoulder__flexion',\n",
       "  'y_pred__shoulder__extension',\n",
       "  'y_pred__shoulder__adduction',\n",
       "  'y_pred__shoulder__abduction',\n",
       "  'y_pred__shoulder__internal_rotation',\n",
       "  'y_pred__shoulder__external_rotation',\n",
       "  'y_pred__elbow__flexion',\n",
       "  'y_pred__elbow__extension',\n",
       "  'y_pred__wrist__pronation',\n",
       "  'y_pred__wrist__supination',\n",
       "  'y_pred__hand__open',\n",
       "  'y_pred__hand__close',\n",
       "  'y_des__shoulder__flexion',\n",
       "  'y_des__shoulder__extension',\n",
       "  'y_des__shoulder__adduction',\n",
       "  'y_des__shoulder__abduction',\n",
       "  'y_des__shoulder__internal_rotation',\n",
       "  'y_des__shoulder__external_rotation',\n",
       "  'y_des__elbow__flexion',\n",
       "  'y_des__elbow__extension',\n",
       "  'y_des__wrist__pronation',\n",
       "  'y_des__wrist__supination',\n",
       "  'y_des__hand__open',\n",
       "  'y_des__hand__close',\n",
       "  'states',\n",
       "  'state__idle',\n",
       "  'state__shoulder__flexion',\n",
       "  'state__shoulder__extension',\n",
       "  'state__shoulder__adduction',\n",
       "  'state__shoulder__abduction',\n",
       "  'state__shoulder__internal_rotation',\n",
       "  'state__shoulder__external_rotation',\n",
       "  'state__elbow__flexion',\n",
       "  'state__elbow__extension',\n",
       "  'state__wrist__pronation',\n",
       "  'state__wrist__supination',\n",
       "  'state__hand__open',\n",
       "  'state__hand__close',\n",
       "  'ecog_0',\n",
       "  'ecog_1',\n",
       "  'ecog_2',\n",
       "  'ecog_3',\n",
       "  'ecog_4',\n",
       "  'ecog_5',\n",
       "  'ecog_6',\n",
       "  'ecog_7',\n",
       "  'ecog_8',\n",
       "  'ecog_9',\n",
       "  'ecog_10',\n",
       "  'ecog_11',\n",
       "  'ecog_12',\n",
       "  'ecog_13',\n",
       "  'ecog_14',\n",
       "  'ecog_15',\n",
       "  'ecog_16',\n",
       "  'ecog_17',\n",
       "  'ecog_18',\n",
       "  'ecog_19',\n",
       "  'ecog_20',\n",
       "  'ecog_21',\n",
       "  'ecog_22',\n",
       "  'ecog_23',\n",
       "  'ecog_24',\n",
       "  'ecog_25',\n",
       "  'ecog_26',\n",
       "  'ecog_27',\n",
       "  'ecog_28',\n",
       "  'ecog_29',\n",
       "  'ecog_30',\n",
       "  'ecog_31'])"
      ]
     },
     "execution_count": 14,
     "metadata": {},
     "output_type": "execute_result"
    }
   ],
   "source": [
    "signals.shape, ch_names"
   ]
  },
  {
   "cell_type": "code",
   "execution_count": 24,
   "metadata": {},
   "outputs": [
    {
     "data": {
      "image/png": "[encoded data removed]",
      "text/plain": [
       "<Figure size 640x480 with 1 Axes>"
      ]
     },
     "metadata": {},
     "output_type": "display_data"
    }
   ],
   "source": [
    "plt.plot(signals[ch_names.index(\"is_updating\")])\n",
    "plt.show()"
   ]
  },
  {
   "cell_type": "markdown",
   "metadata": {},
   "source": [
    "### absd data (whole folder)"
   ]
  },
  {
   "cell_type": "code",
   "execution_count": 25,
   "metadata": {},
   "outputs": [
    {
     "data": {
      "text/plain": [
       "[PosixPath('/Volumes/__UP2/0_RAW_DATA/UP2_001/UP2001_2023_10_24_BSITraining_day4/WISCI/2023_10_24_13_59_55 (rec1)/ABSD data'),\n",
       " PosixPath('/Volumes/__UP2/0_RAW_DATA/UP2_001/UP2001_2023_10_24_BSITraining_day4/WISCI/2023_10_24_14_17_20 (rec2_HandOpen_Close)/ABSD data'),\n",
       " PosixPath('/Volumes/__UP2/0_RAW_DATA/UP2_001/UP2001_2023_10_24_BSITraining_day4/WISCI/2023_10_24_15_03_57 (rec3)/ABSD data'),\n",
       " PosixPath('/Volumes/__UP2/0_RAW_DATA/UP2_001/UP2001_2023_10_24_BSITraining_day4/WISCI/2023_10_24_15_17_33 (rec4_PronationSupination)/ABSD data'),\n",
       " PosixPath('/Volumes/__UP2/0_RAW_DATA/UP2_001/UP2001_2023_10_24_BSITraining_day4/WISCI/2023_10_24_15_34_38 (rec5_pronationSUpination_Good)/ABSD data')]"
      ]
     },
     "metadata": {},
     "output_type": "display_data"
    }
   ],
   "source": [
    "absd_dirs = [\n",
    "    p.resolve() for p in Path(training_sessions[0]).glob(\"**\") if p.is_dir() and \"ABSD\" in p.name or \"absd\" in p.name\n",
    "]\n",
    "absd_dir = absd_dirs[0]\n",
    "display(absd_dirs)"
   ]
  },
  {
   "cell_type": "code",
   "execution_count": 26,
   "metadata": {},
   "outputs": [
    {
     "name": "stderr",
     "output_type": "stream",
     "text": [
      "\u001b[32m2024-10-02 22:27:56.879\u001b[0m | \u001b[1mINFO    \u001b[0m | \u001b[36mlighthouse.data_loader.load_chuv\u001b[0m:\u001b[36mconcatenate_dt5\u001b[0m:\u001b[36m497\u001b[0m - \u001b[1mLoading /Volumes/__UP2/0_RAW_DATA/UP2_001/UP2001_2023_10_24_BSITraining_day4/WISCI/2023_10_24_13_59_55 (rec1)/ABSD data/2023_10_24_14_07_01_01of02.dt5\u001b[0m\n",
      "\u001b[32m2024-10-02 22:28:58.313\u001b[0m | \u001b[1mINFO    \u001b[0m | \u001b[36mlighthouse.data_loader.load_chuv\u001b[0m:\u001b[36mload_dt5\u001b[0m:\u001b[36m196\u001b[0m - \u001b[1mScenario Name: classBCIViewerAvatarAllDegreesCourtine\u001b[0m\n",
      "\u001b[32m2024-10-02 22:28:58.319\u001b[0m | \u001b[1mINFO    \u001b[0m | \u001b[36mlighthouse.data_loader.load_chuv\u001b[0m:\u001b[36mload_dt5\u001b[0m:\u001b[36m199\u001b[0m - \u001b[1mSub Scenario Name: classBSISubScenarioUpperJointsClassif\u001b[0m\n",
      "\u001b[32m2024-10-02 22:29:01.640\u001b[0m | \u001b[1mINFO    \u001b[0m | \u001b[36mlighthouse.data_loader.load_chuv\u001b[0m:\u001b[36mconcatenate_dt5\u001b[0m:\u001b[36m497\u001b[0m - \u001b[1mLoading /Volumes/__UP2/0_RAW_DATA/UP2_001/UP2001_2023_10_24_BSITraining_day4/WISCI/2023_10_24_13_59_55 (rec1)/ABSD data/2023_10_24_14_07_01_02of02.dt5\u001b[0m\n"
     ]
    }
   ],
   "source": [
    "signals, ch_names = load_absd(absd_dir, return_is_updating=True)"
   ]
  },
  {
   "cell_type": "code",
   "execution_count": 27,
   "metadata": {},
   "outputs": [
    {
     "data": {
      "text/plain": [
       "((42, 353115),\n",
       " ['add_ch_0',\n",
       "  'add_ch_1',\n",
       "  'add_ch_2',\n",
       "  'add_ch_3',\n",
       "  'add_ch_4',\n",
       "  'add_ch_5',\n",
       "  'add_ch_6',\n",
       "  'add_ch_7',\n",
       "  'add_ch_8',\n",
       "  'is_updating',\n",
       "  'ecog_0',\n",
       "  'ecog_1',\n",
       "  'ecog_2',\n",
       "  'ecog_3',\n",
       "  'ecog_4',\n",
       "  'ecog_5',\n",
       "  'ecog_6',\n",
       "  'ecog_7',\n",
       "  'ecog_8',\n",
       "  'ecog_9',\n",
       "  'ecog_10',\n",
       "  'ecog_11',\n",
       "  'ecog_12',\n",
       "  'ecog_13',\n",
       "  'ecog_14',\n",
       "  'ecog_15',\n",
       "  'ecog_16',\n",
       "  'ecog_17',\n",
       "  'ecog_18',\n",
       "  'ecog_19',\n",
       "  'ecog_20',\n",
       "  'ecog_21',\n",
       "  'ecog_22',\n",
       "  'ecog_23',\n",
       "  'ecog_24',\n",
       "  'ecog_25',\n",
       "  'ecog_26',\n",
       "  'ecog_27',\n",
       "  'ecog_28',\n",
       "  'ecog_29',\n",
       "  'ecog_30',\n",
       "  'ecog_31'])"
      ]
     },
     "execution_count": 27,
     "metadata": {},
     "output_type": "execute_result"
    }
   ],
   "source": [
    "signals.shape, ch_names"
   ]
  },
  {
   "cell_type": "code",
   "execution_count": 28,
   "metadata": {},
   "outputs": [
    {
     "data": {
      "image/png": "[encoded data removed]",
      "text/plain": [
       "<Figure size 640x480 with 1 Axes>"
      ]
     },
     "metadata": {},
     "output_type": "display_data"
    }
   ],
   "source": [
    "plt.plot(signals[ch_names.index(\"is_updating\")])\n",
    "plt.title(f\"is_updating state\")\n",
    "plt.show()"
   ]
  },
  {
   "cell_type": "code",
   "execution_count": null,
   "metadata": {},
   "outputs": [],
   "source": []
  }
 ],
 "metadata": {
  "kernelspec": {
   "display_name": ".venv",
   "language": "python",
   "name": "python3"
  },
  "language_info": {
   "codemirror_mode": {
    "name": "ipython",
    "version": 3
   },
   "file_extension": ".py",
   "mimetype": "text/x-python",
   "name": "python",
   "nbconvert_exporter": "python",
   "pygments_lexer": "ipython3",
   "version": "3.12.2"
  }
 },
 "nbformat": 4,
 "nbformat_minor": 2
}
