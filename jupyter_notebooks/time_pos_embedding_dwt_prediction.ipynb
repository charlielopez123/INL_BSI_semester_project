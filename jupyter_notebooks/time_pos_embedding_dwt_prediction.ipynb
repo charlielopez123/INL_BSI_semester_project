{
 "cells": [
  {
   "cell_type": "markdown",
   "metadata": {},
   "source": [
    "Based On Arshia Azfal's Code: Based Arshia Azfal's code: Training the Vision Transformer model to classify the intended upperlimb movement using discrete wavelet features, and adding a time and decomposition level embedding to the input to the transformer model. Preprocessing of the data using Etienne Montalivet's MNEFilter."
   ]
  },
  {
   "cell_type": "code",
   "execution_count": null,
   "metadata": {
    "id": "m5MJnHN8kEzq"
   },
   "outputs": [],
   "source": [
    "!pip install -q PyWavelets torch_geometric lightning wandb mne"
   ]
  },
  {
   "cell_type": "code",
   "execution_count": null,
   "metadata": {
    "colab": {
     "base_uri": "https://localhost:8080/"
    },
    "id": "K_iTx-SBkUYG",
    "outputId": "5740ac31-19a4-45d5-f383-9627ab518994"
   },
   "outputs": [
    {
     "name": "stdout",
     "output_type": "stream",
     "text": [
      "Drive already mounted at /content/drive; to attempt to forcibly remount, call drive.mount(\"/content/drive\", force_remount=True).\n"
     ]
    }
   ],
   "source": [
    "from google.colab import drive\n",
    "drive.mount('/content/drive')\n",
    "import torch\n",
    "import numpy as np\n",
    "import glob\n",
    "import os\n",
    "from tqdm import tqdm\n",
    "import csv\n",
    "import random\n",
    "import h5py\n",
    "import sys\n",
    "import pywt\n",
    "\n",
    "from torch.profiler import profile, record_function, ProfilerActivity\n",
    "\n",
    "import torch.nn.functional as F\n",
    "import scipy.io as sio\n",
    "\n",
    "from torch_geometric.nn import GCNConv\n",
    "from torch_geometric.nn import global_mean_pool\n",
    "from torch_geometric.nn import global_max_pool\n",
    "from torch_geometric.data import Data\n",
    "import lightning as L\n",
    "\n",
    "from torch_geometric.loader import DataLoader\n",
    "\n",
    "import torch.optim as optim\n",
    "from torch.optim.lr_scheduler import CosineAnnealingLR\n",
    "\n",
    "import wandb\n",
    "\n",
    "import matplotlib.pyplot as plt\n",
    "import time\n",
    "\n",
    "import torch.nn as nn\n",
    "import torch.nn.functional as F\n",
    "import torch.optim as optim\n",
    "import torch.utils.data as data\n",
    "\n",
    "from torchmetrics.classification import MulticlassF1Score"
   ]
  },
  {
   "cell_type": "code",
   "execution_count": null,
   "metadata": {
    "id": "BvBnXatika20"
   },
   "outputs": [],
   "source": [
    "import sys\n",
    "sys.path.append('/content/drive/MyDrive/Colab Notebooks/INL')\n",
    "from transform import MNEFilter\n",
    "import mne"
   ]
  },
  {
   "cell_type": "code",
   "execution_count": null,
   "metadata": {
    "id": "wYGUhNkwkoRL"
   },
   "outputs": [],
   "source": [
    "use_checkpoint = True\n",
    "fs = 590 #Sampling frequency\n",
    "n_ecogs = 31 #number of ecog channels\n",
    "window_duration = 3 #seconds\n",
    "num_classes = 6"
   ]
  },
  {
   "cell_type": "code",
   "execution_count": null,
   "metadata": {
    "id": "QnB0RUEYmREJ"
   },
   "outputs": [],
   "source": [
    "y = np.load('/content/drive/MyDrive/Colab Notebooks/INL/processed_data/label2.npy')\n",
    "X_train =  np.load('/content/drive/MyDrive/Colab Notebooks/INL/processed_data/X_train2.npy')\n",
    "\n",
    "\n",
    "y_test = np.load('/content/drive/MyDrive/Colab Notebooks/INL/processed_data/label_test.npy')\n",
    "X_test =  np.load('/content/drive/MyDrive/Colab Notebooks/INL/processed_data/X_test.npy')"
   ]
  },
  {
   "cell_type": "code",
   "execution_count": null,
   "metadata": {
    "colab": {
     "base_uri": "https://localhost:8080/"
    },
    "id": "2Cr9lFUyRIi-",
    "outputId": "f62be75a-7d15-47cd-d833-a50f04b94412"
   },
   "outputs": [
    {
     "data": {
      "text/plain": [
       "(11730, 31, 1770)"
      ]
     },
     "execution_count": 126,
     "metadata": {},
     "output_type": "execute_result"
    }
   ],
   "source": [
    "X_train.shape"
   ]
  },
  {
   "cell_type": "code",
   "execution_count": null,
   "metadata": {
    "id": "r_eoGG3iQJPp"
   },
   "outputs": [],
   "source": [
    "#Preprocess the data before reshaping for the Transformer\n",
    "sfreq=fs\n",
    "l_freq=1\n",
    "h_freq=200\n",
    "notch_freqs=[50, 100, 150, 200]\n",
    "apply_car=True\n",
    "\n",
    "mne_filter = MNEFilter(sfreq=sfreq, l_freq=l_freq, h_freq=h_freq, notch_freqs=notch_freqs, apply_car=apply_car)"
   ]
  },
  {
   "cell_type": "code",
   "execution_count": null,
   "metadata": {
    "id": "sfkr0oUuU1oJ"
   },
   "outputs": [],
   "source": [
    "filtered_data_train = []\n",
    "filtered_data_test = []\n",
    "\"\"\"\n",
    "mne.set_log_level(\"error\")\n",
    "for window in tqdm(X_train):\n",
    "  filtered_window = mne_filter(window)\n",
    "  filtered_data_train.append(filtered_window)\n",
    "\n",
    "for window in tqdm(X_test):\n",
    "  filtered_window = mne_filter(window)\n",
    "  filtered_data_test.append(filtered_window)\n",
    "\"\"\"\n",
    "\n",
    "filtered_data_train = X_train\n",
    "filtered_data_test = X_test"
   ]
  },
  {
   "cell_type": "code",
   "execution_count": null,
   "metadata": {
    "colab": {
     "base_uri": "https://localhost:8080/"
    },
    "id": "8Z23D3L1i87m",
    "outputId": "380c87bb-38df-4c35-f11e-599973ebbceb"
   },
   "outputs": [
    {
     "name": "stdout",
     "output_type": "stream",
     "text": [
      "11730\n",
      "2237\n"
     ]
    }
   ],
   "source": [
    "print(len(filtered_data_train))\n",
    "print(len(filtered_data_test))"
   ]
  },
  {
   "cell_type": "code",
   "execution_count": null,
   "metadata": {
    "colab": {
     "base_uri": "https://localhost:8080/"
    },
    "id": "ZcF7EDtYqOl9",
    "outputId": "e0154400-53d5-4187-e6a5-2a0b45b911a6"
   },
   "outputs": [
    {
     "data": {
      "text/plain": [
       "(11730, 31, 1770)"
      ]
     },
     "execution_count": 130,
     "metadata": {},
     "output_type": "execute_result"
    }
   ],
   "source": [
    "np.array(filtered_data_train).shape"
   ]
  },
  {
   "cell_type": "code",
   "execution_count": null,
   "metadata": {
    "id": "BvbJKxUAp4FG"
   },
   "outputs": [],
   "source": [
    "X_train = np.array(filtered_data_train).reshape(-1, n_ecogs * window_duration,fs)\n",
    "X_test = np.array(filtered_data_test).reshape(-1,n_ecogs * window_duration,fs)"
   ]
  },
  {
   "cell_type": "code",
   "execution_count": null,
   "metadata": {
    "colab": {
     "base_uri": "https://localhost:8080/"
    },
    "id": "wZ7eBBWzmWkk",
    "outputId": "6fcfa35d-7c40-40c4-8feb-bb6426d8f83c"
   },
   "outputs": [
    {
     "name": "stderr",
     "output_type": "stream",
     "text": [
      "\n",
      "  0%|          | 0/11730 [00:00<?, ?it/s]\u001b[A\n",
      "  5%|▌         | 618/11730 [00:00<00:01, 6178.44it/s]\u001b[A\n",
      " 11%|█         | 1236/11730 [00:00<00:01, 5852.23it/s]\u001b[A\n",
      " 18%|█▊        | 2160/11730 [00:00<00:01, 7350.99it/s]\u001b[A\n",
      " 26%|██▌       | 3062/11730 [00:00<00:01, 7997.48it/s]\u001b[A\n",
      " 33%|███▎      | 3867/11730 [00:00<00:01, 6635.46it/s]\u001b[A\n",
      " 39%|███▉      | 4565/11730 [00:00<00:01, 5328.70it/s]\u001b[A\n",
      " 44%|████▍     | 5151/11730 [00:00<00:01, 4507.24it/s]\u001b[A\n",
      " 48%|████▊     | 5650/11730 [00:01<00:01, 4046.50it/s]\u001b[A\n",
      " 52%|█████▏    | 6088/11730 [00:01<00:01, 3816.72it/s]\u001b[A\n",
      " 55%|█████▌    | 6490/11730 [00:01<00:01, 3595.85it/s]\u001b[A\n",
      " 58%|█████▊    | 6862/11730 [00:01<00:01, 3422.63it/s]\u001b[A\n",
      " 61%|██████▏   | 7211/11730 [00:01<00:01, 3352.00it/s]\u001b[A\n",
      " 64%|██████▍   | 7550/11730 [00:01<00:01, 3233.67it/s]\u001b[A\n",
      " 67%|██████▋   | 7875/11730 [00:01<00:01, 3118.42it/s]\u001b[A\n",
      " 70%|██████▉   | 8187/11730 [00:01<00:01, 3030.99it/s]\u001b[A\n",
      " 72%|███████▏  | 8490/11730 [00:02<00:01, 2927.42it/s]\u001b[A\n",
      " 75%|███████▍  | 8782/11730 [00:02<00:01, 2838.32it/s]\u001b[A\n",
      " 77%|███████▋  | 9065/11730 [00:02<00:00, 2793.55it/s]\u001b[A\n",
      " 80%|███████▉  | 9373/11730 [00:02<00:00, 2871.24it/s]\u001b[A\n",
      " 82%|████████▏ | 9661/11730 [00:02<00:00, 2862.66it/s]\u001b[A\n",
      " 85%|████████▍ | 9948/11730 [00:02<00:00, 2783.01it/s]\u001b[A\n",
      " 87%|████████▋ | 10257/11730 [00:02<00:00, 2866.43it/s]\u001b[A\n",
      " 90%|████████▉ | 10545/11730 [00:02<00:00, 2718.87it/s]\u001b[A\n",
      " 92%|█████████▏| 10819/11730 [00:02<00:00, 2596.11it/s]\u001b[A\n",
      " 94%|█████████▍| 11084/11730 [00:03<00:00, 2609.78it/s]\u001b[A\n",
      " 97%|█████████▋| 11350/11730 [00:03<00:00, 2617.48it/s]\u001b[A\n",
      "100%|██████████| 11730/11730 [00:03<00:00, 3593.61it/s]\n",
      "\n",
      "  0%|          | 0/2237 [00:00<?, ?it/s]\u001b[A\n",
      " 14%|█▍        | 321/2237 [00:00<00:00, 3197.08it/s]\u001b[A\n",
      " 29%|██▊       | 641/2237 [00:00<00:00, 3058.17it/s]\u001b[A\n",
      " 42%|████▏     | 948/2237 [00:00<00:00, 3000.93it/s]\u001b[A\n",
      " 56%|█████▌    | 1249/2237 [00:00<00:00, 2988.20it/s]\u001b[A\n",
      " 69%|██████▉   | 1548/2237 [00:00<00:00, 2834.02it/s]\u001b[A\n",
      " 83%|████████▎ | 1847/2237 [00:00<00:00, 2883.15it/s]\u001b[A\n",
      "100%|██████████| 2237/2237 [00:00<00:00, 2906.92it/s]\n"
     ]
    }
   ],
   "source": [
    "dataset = []\n",
    "\n",
    "for idx in tqdm(range(X_train.shape[0])):\n",
    "    eeg_clip = X_train[idx,:,:]\n",
    "    label = y[idx]\n",
    "    if label == 7 or label == 4: #ignore label 7, which produces weird results\n",
    "        continue\n",
    "    if label >= 5:\n",
    "      label = label - 1 #Remap to remove wrist supination\n",
    "    dataset.append((torch.tensor(eeg_clip).float(), torch.tensor((label), dtype=torch.long)))\n",
    "\n",
    "random.shuffle(dataset)\n",
    "\n",
    "\n",
    "dataset_test = []\n",
    "\n",
    "for idx in tqdm(range(X_test.shape[0])):\n",
    "    eeg_clip = X_test[idx,:,:]\n",
    "    label = y_test[idx]\n",
    "    if label == 7 or label == 4: #ignore label 7\n",
    "        continue\n",
    "    if label >= 5:\n",
    "      label = label - 1 #Remap to remove wrist supination\n",
    "    dataset_test.append( ( torch.tensor(eeg_clip).float(), torch.tensor((label) , dtype=torch.long) ) )\n",
    "\n",
    "random.shuffle(dataset_test)"
   ]
  },
  {
   "cell_type": "code",
   "execution_count": null,
   "metadata": {
    "id": "As_2CFVjmXc8"
   },
   "outputs": [],
   "source": [
    "train_dataloader = DataLoader(dataset , batch_size = 8, num_workers=7 )\n",
    "test_dataloader = DataLoader(dataset_test , batch_size = 8, num_workers=7  )"
   ]
  },
  {
   "cell_type": "code",
   "execution_count": null,
   "metadata": {
    "id": "ERtP6-ZNmdaM"
   },
   "outputs": [],
   "source": [
    "class AttentionBlock(nn.Module):\n",
    "    def __init__(self, embed_dim, hidden_dim, num_heads, dropout=0.0):\n",
    "        \"\"\"Attention Block.\n",
    "\n",
    "        Args:\n",
    "            embed_dim: Dimensionality of input and attention feature vectors\n",
    "            hidden_dim: Dimensionality of hidden layer in feed-forward network\n",
    "                         (usually 2-4x larger than embed_dim)\n",
    "            num_heads: Number of heads to use in the Multi-Head Attention block\n",
    "            dropout: Amount of dropout to apply in the feed-forward network\n",
    "        \"\"\"\n",
    "        super().__init__()\n",
    "\n",
    "\n",
    "        self.layer_norm_1 = nn.LayerNorm(embed_dim)\n",
    "        self.attn = nn.MultiheadAttention(embed_dim, num_heads)\n",
    "        self.layer_norm_2 = nn.LayerNorm(embed_dim)\n",
    "        self.linear = nn.Sequential(\n",
    "            nn.Linear(embed_dim, hidden_dim),\n",
    "            nn.GELU(),\n",
    "            nn.Dropout(dropout),\n",
    "            nn.Linear(hidden_dim, embed_dim),\n",
    "            nn.Dropout(dropout),\n",
    "        )\n",
    "\n",
    "    def forward(self, x):\n",
    "        inp_x = self.layer_norm_1(x)\n",
    "        x = x + self.attn(inp_x, inp_x, inp_x)[0]\n",
    "        x = x + self.linear(self.layer_norm_2(x))\n",
    "        return x\n",
    "\n",
    "\n",
    "\n"
   ]
  },
  {
   "cell_type": "code",
   "execution_count": null,
   "metadata": {
    "id": "XrEM9cgGO183"
   },
   "outputs": [],
   "source": [
    "import torch\n",
    "import torch.nn as nn\n",
    "import pywt\n",
    "import numpy as np\n",
    "\n",
    "class VisionTransformer(nn.Module):\n",
    "    def __init__(\n",
    "        self,\n",
    "        embed_dim,\n",
    "        hidden_dim,\n",
    "        num_t_pints,\n",
    "        num_heads,\n",
    "        num_layers,\n",
    "        num_classes,\n",
    "        num_patches,\n",
    "        num_scales,\n",
    "        dropout=0.0,\n",
    "        wavelet='db4',\n",
    "        device='cpu'\n",
    "    ):\n",
    "        \"\"\"Vision Transformer.\n",
    "\n",
    "        Args:\n",
    "            embed_dim: Dimensionality of the input feature vectors to the Transformer\n",
    "            hidden_dim: Dimensionality of the hidden layer in the feed-forward networks\n",
    "                         within the Transformer\n",
    "            num_channels: Number of channels of the input (3 for RGB)\n",
    "            num_heads: Number of heads to use in the Multi-Head Attention block\n",
    "            num_layers: Number of layers to use in the Transformer\n",
    "            num_classes: Number of classes to predict\n",
    "            patch_size: Number of pixels that the patches have per dimension\n",
    "            num_patches: Maximum number of patches an image can have\n",
    "            dropout: Amount of dropout to apply in the feed-forward network and\n",
    "                      on the input encoding\n",
    "        \"\"\"\n",
    "        super().__init__()\n",
    "\n",
    "        self.device = device\n",
    "        self.num_scales = num_scales\n",
    "        self.embed_dim = embed_dim\n",
    "        self.num_t_pints = num_t_pints\n",
    "        self.wavelet = wavelet\n",
    "\n",
    "        self.input_layer = nn.Linear(num_t_pints, embed_dim)\n",
    "        self.transformer = nn.Sequential(\n",
    "            *(AttentionBlock(embed_dim, hidden_dim, num_heads, dropout=dropout) for _ in range(num_layers))\n",
    "        )\n",
    "        self.mlp_head = nn.Sequential(nn.LayerNorm(embed_dim), nn.Linear(embed_dim, num_classes))\n",
    "        self.dropout = nn.Dropout(dropout)\n",
    "\n",
    "        # Parameters/Embeddings\n",
    "        self.cls_token = nn.Parameter(torch.randn(1, 1, embed_dim))\n",
    "\n",
    "        # Positional embeddings for each level and each time step within each level\n",
    "        self.pos_embedding_levels = nn.Parameter(torch.randn(1, num_scales + 1, embed_dim))  # Level-specific embeddings\n",
    "        self.pos_embedding_time = nn.Parameter(torch.randn(1, 1 + (num_patches * (num_scales + 1)), embed_dim)) # Time-specific embeddings\n",
    "        #self.pos_embedding_time = nn.Parameter(torch.randn(1, num_t_pints, embed_dim))    # Time-specific embeddings\n",
    "\n",
    "    def forward(self, x):\n",
    "        # Perform DWT for each batch and channel\n",
    "        wavelet_features = []\n",
    "        for batch in x:\n",
    "            batch_features = []\n",
    "            for channel in batch:\n",
    "                coeffs = pywt.wavedec(channel.cpu().numpy(), self.wavelet, level=self.num_scales)  # Decompose signal\n",
    "                level_features = []\n",
    "\n",
    "                # Pad or upsample each level's coefficients to have uniform length if needed\n",
    "                for level in coeffs:\n",
    "                    if len(level) < self.num_t_pints:\n",
    "                        # Zero-pad to match num_t_pints\n",
    "                        level = np.pad(level, (0, self.num_t_pints - len(level)), 'constant')\n",
    "                    elif len(level) > self.num_t_pints:\n",
    "                        # Truncate to match num_t_pints\n",
    "                        level = level[:self.num_t_pints]\n",
    "                    level_features.append(level)\n",
    "\n",
    "                # Concatenate levels to create a consistent shape\n",
    "                flattened_coeffs = np.concatenate(level_features).reshape(self.num_scales + 1, self.num_t_pints)\n",
    "                batch_features.append(torch.tensor(flattened_coeffs, dtype=torch.float32).to(self.device))\n",
    "            wavelet_features.append(torch.stack(batch_features))\n",
    "\n",
    "\n",
    "        wavelet_features = torch.stack(wavelet_features)  # Shape: (batch_size, n_channels, n_scales, n_time_points)\n",
    "        #print(f\"wavelet_features.shape: {wavelet_features.shape}\")\n",
    "        B, C, S, T = wavelet_features.shape\n",
    "\n",
    "        # Apply positional embeddings\n",
    "        x = wavelet_features.view(B, C * S, T)  # Flatten channels and scales into one dimension\n",
    "        x = self.input_layer(x)  # Project to embed_dim\n",
    "        #print(f\"x.shape after projection to embed_dim: {x.shape}\") #(B, C * S, embed_dim)\n",
    "\n",
    "        # Add level and time positional embeddings\n",
    "        level_pos_embedding = self.pos_embedding_levels.repeat(B, C, 1, 1).view(B, C * S, -1)\n",
    "        #print(f\"level_pos_embedding.shape: {level_pos_embedding.shape}\")\n",
    "        #time_pos_embedding = self.pos_embedding_time[:, :T, :].repeat(B, C * S, 1, 1)\n",
    "        #print(f\"pos_embedding_time.shape: {self.pos_embedding_time.shape}\")\n",
    "        time_pos_embedding = self.pos_embedding_time.repeat(B, 1, 1)\n",
    "        #print(f\"time_pos_embedding.shape: {time_pos_embedding.shape}\")\n",
    "\n",
    "        #x = x + level_pos_embedding + time_pos_embedding\n",
    "\n",
    "        # Add CLS token and apply transformer\n",
    "        cls_token = self.cls_token.repeat(B, 1, 1)\n",
    "        x = x + level_pos_embedding\n",
    "        x = torch.cat([cls_token, x], dim=1)\n",
    "        x = x + time_pos_embedding\n",
    "\n",
    "\n",
    "        # Transformer and classification\n",
    "        x = self.dropout(x)\n",
    "        x = x.transpose(0, 1)\n",
    "        x = self.transformer(x)\n",
    "\n",
    "        cls = x[0]\n",
    "        out = self.mlp_head(cls)\n",
    "        return out\n"
   ]
  },
  {
   "cell_type": "code",
   "execution_count": null,
   "metadata": {
    "id": "RzozPS20PBu2"
   },
   "outputs": [],
   "source": [
    "class ViT(L.LightningModule):\n",
    "    def __init__(self, model_kwargs):\n",
    "        super().__init__()\n",
    "\n",
    "        self.model = VisionTransformer(**model_kwargs)\n",
    "\n",
    "\n",
    "    def forward(self, x):\n",
    "        return self.model(x)\n",
    "\n",
    "    def configure_optimizers(self):\n",
    "\n",
    "        optimizer = optim.Adam(params=self.parameters(), lr = 1e-3)\n",
    "\n",
    "        scheduler = CosineAnnealingLR(optimizer, T_max = 50)\n",
    "\n",
    "        return [optimizer], [{\"scheduler\": scheduler, \"interval\": \"epoch\"}]\n",
    "\n",
    "\n",
    "    def training_step(self, batch, batch_idx):\n",
    "        imgs, labels = batch\n",
    "        preds = self.model(imgs)\n",
    "        loss = F.cross_entropy(preds, labels)\n",
    "        self.log(\"train_loss\", loss, on_step=True, on_epoch=True, prog_bar=True, logger=True)\n",
    "        #wandb.log({ \"Bridge-GPT-Loss\": loss})\n",
    "\n",
    "        return loss"
   ]
  },
  {
   "cell_type": "code",
   "execution_count": null,
   "metadata": {
    "id": "LNMqiQRdY1SC"
   },
   "outputs": [],
   "source": [
    "device = \"cuda\" if torch.cuda.is_available() else \"cpu\""
   ]
  },
  {
   "cell_type": "code",
   "execution_count": null,
   "metadata": {
    "id": "j8VK4gOxzZdf"
   },
   "outputs": [],
   "source": [
    "\"\"\"\n",
    "model_kwargs={\n",
    "        \"embed_dim\": 64,\n",
    "        \"hidden_dim\": 64,\n",
    "        \"num_heads\": 8,\n",
    "        \"num_layers\": 4,\n",
    "        \"num_t_pints\": 590,\n",
    "        \"num_patches\": 93,\n",
    "        \"num_classes\": 7,\n",
    "        \"num_scales\": 128,\n",
    "        \"dropout\": 0.2,\n",
    "    }\n",
    "\"\"\"\n",
    "\n",
    "model_kwargs={\n",
    "        \"embed_dim\": 16,\n",
    "        \"hidden_dim\": 32,\n",
    "        \"num_heads\": 4,\n",
    "        \"num_layers\": 4,\n",
    "        \"num_t_pints\": 590,\n",
    "        \"num_patches\": 93,\n",
    "        \"num_classes\": num_classes,\n",
    "        \"num_scales\": 4,\n",
    "        \"dropout\": 0.2,\n",
    "        \"wavelet\": \"db4\",\n",
    "        \"device\": device\n",
    "    }\n",
    "\n",
    "model = ViT(model_kwargs)"
   ]
  },
  {
   "cell_type": "code",
   "execution_count": null,
   "metadata": {
    "colab": {
     "background_save": true,
     "base_uri": "https://localhost:8080/",
     "height": 508,
     "referenced_widgets": [
      "afbeb44c5a6a497cbf2b5a2c4239bb47",
      "a7ed8fb32e2c4014a5a83ecb748b7c98",
      "e3d54d1a7b1d440eb440ef8d282a7d64",
      "708de6f8b39a4df2a666a5a7cafb6eaf",
      "c7d3ff6087594201b747316622481d06",
      "250a02d607684f0d806fb555794d7a9c",
      "389d2ba8fd1b4485bdaf4725506344fa",
      "6358d84b859d421ab10d58f2ad374259",
      "534d8b2d6b954858a381fca01084ec67",
      "0f6792310b2a4bbaac7e222b36450acf",
      "45037b2e368f4c2b83cc430ce45d0e1a"
     ]
    },
    "id": "Ee1z_dG1zdHK",
    "outputId": "2579f982-f7f8-4224-d04d-cdc121de5647"
   },
   "outputs": [
    {
     "name": "stderr",
     "output_type": "stream",
     "text": [
      "INFO:pytorch_lightning.utilities.rank_zero:GPU available: False, used: False\n",
      "INFO:pytorch_lightning.utilities.rank_zero:TPU available: False, using: 0 TPU cores\n",
      "INFO:pytorch_lightning.utilities.rank_zero:HPU available: False, using: 0 HPUs\n",
      "INFO: \n",
      "  | Name  | Type              | Params | Mode \n",
      "----------------------------------------------------\n",
      "0 | model | VisionTransformer | 26.0 K | train\n",
      "----------------------------------------------------\n",
      "26.0 K    Trainable params\n",
      "0         Non-trainable params\n",
      "26.0 K    Total params\n",
      "0.104     Total estimated model params size (MB)\n",
      "51        Modules in train mode\n",
      "0         Modules in eval mode\n",
      "INFO:lightning.pytorch.callbacks.model_summary:\n",
      "  | Name  | Type              | Params | Mode \n",
      "----------------------------------------------------\n",
      "0 | model | VisionTransformer | 26.0 K | train\n",
      "----------------------------------------------------\n",
      "26.0 K    Trainable params\n",
      "0         Non-trainable params\n",
      "26.0 K    Total params\n",
      "0.104     Total estimated model params size (MB)\n",
      "51        Modules in train mode\n",
      "0         Modules in eval mode\n"
     ]
    },
    {
     "data": {
      "application/vnd.jupyter.widget-view+json": {
       "model_id": "afbeb44c5a6a497cbf2b5a2c4239bb47",
       "version_major": 2,
       "version_minor": 0
      },
      "text/plain": [
       "Training: |          | 0/? [00:00<?, ?it/s]"
      ]
     },
     "metadata": {},
     "output_type": "display_data"
    },
    {
     "name": "stderr",
     "output_type": "stream",
     "text": [
      "INFO:pytorch_lightning.utilities.rank_zero:`Trainer.fit` stopped: `max_epochs=30` reached.\n"
     ]
    }
   ],
   "source": [
    "use_checkpoint = False\n",
    "\n",
    "if use_checkpoint:\n",
    "  model = L.LightningModule.load_from_checkpoint(\"/content/drive/MyDrive/Colab Notebooks/INL/checkpoints/time_pos_embed.ckpt\")\n",
    "else:\n",
    "  model = ViT(model_kwargs)\n",
    "\n",
    "\n",
    "trainer = L.Trainer(max_epochs= 30 , devices= 1, accelerator=device, default_root_dir='/content/drive/MyDrive/Colab Notebooks/INL/checkpoints/')\n",
    "\n",
    "trainer.fit(model, train_dataloader)"
   ]
  },
  {
   "cell_type": "code",
   "execution_count": null,
   "metadata": {
    "id": "OlGaROhD_1Ir"
   },
   "outputs": [],
   "source": []
  },
  {
   "cell_type": "code",
   "execution_count": null,
   "metadata": {
    "colab": {
     "base_uri": "https://localhost:8080/"
    },
    "id": "MWGO50tyzfAF",
    "outputId": "899fc33d-b728-44f3-90c8-90b412d8c670"
   },
   "outputs": [
    {
     "name": "stderr",
     "output_type": "stream",
     "text": [
      "\n",
      "  0%|          | 0/278 [00:00<?, ?it/s]\u001b[A\n",
      "  0%|          | 1/278 [00:00<03:18,  1.40it/s]\u001b[A\n",
      "  1%|          | 2/278 [00:00<01:54,  2.42it/s]\u001b[A\n",
      "  1%|          | 3/278 [00:01<01:27,  3.14it/s]\u001b[A\n",
      "  1%|▏         | 4/278 [00:01<01:13,  3.73it/s]\u001b[A\n",
      "  2%|▏         | 5/278 [00:01<01:05,  4.18it/s]\u001b[A\n",
      "  2%|▏         | 6/278 [00:01<01:02,  4.39it/s]\u001b[A\n",
      "  3%|▎         | 7/278 [00:01<00:57,  4.70it/s]\u001b[A\n",
      "  3%|▎         | 8/278 [00:02<00:54,  4.97it/s]\u001b[A\n",
      "  3%|▎         | 9/278 [00:02<00:51,  5.22it/s]\u001b[A\n",
      "  4%|▎         | 10/278 [00:02<00:48,  5.48it/s]\u001b[A\n",
      "  4%|▍         | 11/278 [00:02<00:48,  5.48it/s]\u001b[A\n",
      "  4%|▍         | 12/278 [00:02<00:47,  5.57it/s]\u001b[A\n",
      "  5%|▍         | 13/278 [00:02<00:49,  5.39it/s]\u001b[A\n",
      "  5%|▌         | 14/278 [00:03<00:49,  5.28it/s]\u001b[A\n",
      "  5%|▌         | 15/278 [00:03<00:49,  5.35it/s]\u001b[A\n",
      "  6%|▌         | 16/278 [00:03<00:48,  5.38it/s]\u001b[A\n",
      "  6%|▌         | 17/278 [00:03<00:49,  5.24it/s]\u001b[A\n",
      "  6%|▋         | 18/278 [00:03<00:50,  5.18it/s]\u001b[A\n",
      "  7%|▋         | 19/278 [00:04<00:48,  5.29it/s]\u001b[A\n",
      "  7%|▋         | 20/278 [00:04<00:51,  5.05it/s]\u001b[A\n",
      "  8%|▊         | 21/278 [00:04<00:49,  5.19it/s]\u001b[A\n",
      "  8%|▊         | 22/278 [00:04<00:49,  5.22it/s]\u001b[A\n",
      "  8%|▊         | 23/278 [00:04<00:48,  5.30it/s]\u001b[A\n",
      "  9%|▊         | 24/278 [00:05<00:47,  5.38it/s]\u001b[A\n",
      "  9%|▉         | 25/278 [00:05<00:47,  5.33it/s]\u001b[A\n",
      "  9%|▉         | 26/278 [00:05<00:46,  5.41it/s]\u001b[A\n",
      " 10%|▉         | 27/278 [00:05<00:47,  5.32it/s]\u001b[A\n",
      " 10%|█         | 28/278 [00:05<00:45,  5.47it/s]\u001b[A\n",
      " 10%|█         | 29/278 [00:05<00:45,  5.52it/s]\u001b[A\n",
      " 11%|█         | 30/278 [00:06<00:47,  5.24it/s]\u001b[A\n",
      " 11%|█         | 31/278 [00:06<00:46,  5.36it/s]\u001b[A\n",
      " 12%|█▏        | 32/278 [00:06<00:44,  5.51it/s]\u001b[A\n",
      " 12%|█▏        | 33/278 [00:06<00:46,  5.28it/s]\u001b[A\n",
      " 12%|█▏        | 34/278 [00:06<00:45,  5.41it/s]\u001b[A\n",
      " 13%|█▎        | 35/278 [00:07<00:45,  5.38it/s]\u001b[A\n",
      " 13%|█▎        | 36/278 [00:07<00:45,  5.35it/s]\u001b[A\n",
      " 13%|█▎        | 37/278 [00:07<00:44,  5.46it/s]\u001b[A\n",
      " 14%|█▎        | 38/278 [00:07<00:46,  5.13it/s]\u001b[A\n",
      " 14%|█▍        | 39/278 [00:07<00:45,  5.22it/s]\u001b[A\n",
      " 14%|█▍        | 40/278 [00:08<00:44,  5.37it/s]\u001b[A\n",
      " 15%|█▍        | 41/278 [00:08<00:45,  5.26it/s]\u001b[A\n",
      " 15%|█▌        | 42/278 [00:08<00:46,  5.07it/s]\u001b[A\n",
      " 15%|█▌        | 43/278 [00:08<00:46,  5.06it/s]\u001b[A\n",
      " 16%|█▌        | 44/278 [00:08<00:44,  5.26it/s]\u001b[A\n",
      " 16%|█▌        | 45/278 [00:09<00:45,  5.13it/s]\u001b[A\n",
      " 17%|█▋        | 46/278 [00:09<00:45,  5.10it/s]\u001b[A\n",
      " 17%|█▋        | 47/278 [00:09<00:43,  5.32it/s]\u001b[A\n",
      " 17%|█▋        | 48/278 [00:09<00:42,  5.41it/s]\u001b[A\n",
      " 18%|█▊        | 49/278 [00:09<00:41,  5.53it/s]\u001b[A\n",
      " 18%|█▊        | 50/278 [00:09<00:40,  5.68it/s]\u001b[A\n",
      " 18%|█▊        | 51/278 [00:10<00:39,  5.69it/s]\u001b[A\n",
      " 19%|█▊        | 52/278 [00:10<00:42,  5.28it/s]\u001b[A\n",
      " 19%|█▉        | 53/278 [00:10<00:41,  5.43it/s]\u001b[A\n",
      " 19%|█▉        | 54/278 [00:10<00:40,  5.58it/s]\u001b[A\n",
      " 20%|█▉        | 55/278 [00:10<00:40,  5.49it/s]\u001b[A\n",
      " 20%|██        | 56/278 [00:11<00:40,  5.51it/s]\u001b[A\n",
      " 21%|██        | 57/278 [00:11<00:39,  5.60it/s]\u001b[A\n",
      " 21%|██        | 58/278 [00:11<00:40,  5.47it/s]\u001b[A\n",
      " 21%|██        | 59/278 [00:11<00:39,  5.60it/s]\u001b[A\n",
      " 22%|██▏       | 60/278 [00:11<00:38,  5.60it/s]\u001b[A\n",
      " 22%|██▏       | 61/278 [00:11<00:38,  5.60it/s]\u001b[A\n",
      " 22%|██▏       | 62/278 [00:12<00:38,  5.68it/s]\u001b[A\n",
      " 23%|██▎       | 63/278 [00:12<00:37,  5.72it/s]\u001b[A\n",
      " 23%|██▎       | 64/278 [00:12<00:37,  5.77it/s]\u001b[A\n",
      " 23%|██▎       | 65/278 [00:12<00:36,  5.81it/s]\u001b[A\n",
      " 24%|██▎       | 66/278 [00:12<00:37,  5.70it/s]\u001b[A\n",
      " 24%|██▍       | 67/278 [00:12<00:37,  5.70it/s]\u001b[A\n",
      " 24%|██▍       | 68/278 [00:13<00:37,  5.66it/s]\u001b[A\n",
      " 25%|██▍       | 69/278 [00:13<00:37,  5.62it/s]\u001b[A\n",
      " 25%|██▌       | 70/278 [00:13<00:36,  5.63it/s]\u001b[A\n",
      " 26%|██▌       | 71/278 [00:13<00:36,  5.62it/s]\u001b[A\n",
      " 26%|██▌       | 72/278 [00:13<00:36,  5.59it/s]\u001b[A\n",
      " 26%|██▋       | 73/278 [00:14<00:36,  5.65it/s]\u001b[A\n",
      " 27%|██▋       | 74/278 [00:14<00:36,  5.62it/s]\u001b[A\n",
      " 27%|██▋       | 75/278 [00:14<00:36,  5.60it/s]\u001b[A\n",
      " 27%|██▋       | 76/278 [00:14<00:35,  5.65it/s]\u001b[A\n",
      " 28%|██▊       | 77/278 [00:14<00:36,  5.56it/s]\u001b[A\n",
      " 28%|██▊       | 78/278 [00:14<00:35,  5.56it/s]\u001b[A\n",
      " 28%|██▊       | 79/278 [00:15<00:35,  5.67it/s]\u001b[A\n",
      " 29%|██▉       | 80/278 [00:15<00:35,  5.58it/s]\u001b[A\n",
      " 29%|██▉       | 81/278 [00:15<00:35,  5.62it/s]\u001b[A\n",
      " 29%|██▉       | 82/278 [00:15<00:34,  5.66it/s]\u001b[A\n",
      " 30%|██▉       | 83/278 [00:15<00:35,  5.54it/s]\u001b[A\n",
      " 30%|███       | 84/278 [00:15<00:35,  5.48it/s]\u001b[A\n",
      " 31%|███       | 85/278 [00:16<00:35,  5.38it/s]\u001b[A\n",
      " 31%|███       | 86/278 [00:16<00:35,  5.34it/s]\u001b[A\n",
      " 31%|███▏      | 87/278 [00:16<00:35,  5.37it/s]\u001b[A\n",
      " 32%|███▏      | 88/278 [00:16<00:36,  5.28it/s]\u001b[A\n",
      " 32%|███▏      | 89/278 [00:16<00:35,  5.33it/s]\u001b[A\n",
      " 32%|███▏      | 90/278 [00:17<00:35,  5.26it/s]\u001b[A\n",
      " 33%|███▎      | 91/278 [00:17<00:35,  5.33it/s]\u001b[A\n",
      " 33%|███▎      | 92/278 [00:17<00:34,  5.41it/s]\u001b[A\n",
      " 33%|███▎      | 93/278 [00:17<00:33,  5.46it/s]\u001b[A\n",
      " 34%|███▍      | 94/278 [00:17<00:33,  5.50it/s]\u001b[A\n",
      " 34%|███▍      | 95/278 [00:18<00:33,  5.46it/s]\u001b[A\n",
      " 35%|███▍      | 96/278 [00:18<00:33,  5.38it/s]\u001b[A\n",
      " 35%|███▍      | 97/278 [00:18<00:32,  5.51it/s]\u001b[A\n",
      " 35%|███▌      | 98/278 [00:18<00:32,  5.61it/s]\u001b[A\n",
      " 36%|███▌      | 99/278 [00:18<00:32,  5.58it/s]\u001b[A\n",
      " 36%|███▌      | 100/278 [00:18<00:31,  5.72it/s]\u001b[A\n",
      " 36%|███▋      | 101/278 [00:19<00:30,  5.82it/s]\u001b[A\n",
      " 37%|███▋      | 102/278 [00:19<00:30,  5.75it/s]\u001b[A\n",
      " 37%|███▋      | 103/278 [00:19<00:30,  5.72it/s]\u001b[A\n",
      " 37%|███▋      | 104/278 [00:19<00:29,  5.83it/s]\u001b[A\n",
      " 38%|███▊      | 105/278 [00:19<00:30,  5.73it/s]\u001b[A\n",
      " 38%|███▊      | 106/278 [00:19<00:29,  5.86it/s]\u001b[A\n",
      " 38%|███▊      | 107/278 [00:20<00:29,  5.88it/s]\u001b[A\n",
      " 39%|███▉      | 108/278 [00:20<00:30,  5.65it/s]\u001b[A\n",
      " 39%|███▉      | 109/278 [00:20<00:29,  5.71it/s]\u001b[A\n",
      " 40%|███▉      | 110/278 [00:20<00:29,  5.78it/s]\u001b[A\n",
      " 40%|███▉      | 111/278 [00:20<00:28,  5.83it/s]\u001b[A\n",
      " 40%|████      | 112/278 [00:20<00:28,  5.92it/s]\u001b[A\n",
      " 41%|████      | 113/278 [00:21<00:28,  5.82it/s]\u001b[A\n",
      " 41%|████      | 114/278 [00:21<00:28,  5.79it/s]\u001b[A\n",
      " 41%|████▏     | 115/278 [00:21<00:27,  5.87it/s]\u001b[A\n",
      " 42%|████▏     | 116/278 [00:21<00:27,  5.97it/s]\u001b[A\n",
      " 42%|████▏     | 117/278 [00:21<00:27,  5.89it/s]\u001b[A\n",
      " 42%|████▏     | 118/278 [00:22<00:27,  5.91it/s]\u001b[A\n",
      " 43%|████▎     | 119/278 [00:22<00:27,  5.78it/s]\u001b[A\n",
      " 43%|████▎     | 120/278 [00:22<00:27,  5.81it/s]\u001b[A\n",
      " 44%|████▎     | 121/278 [00:22<00:27,  5.75it/s]\u001b[A\n",
      " 44%|████▍     | 122/278 [00:22<00:27,  5.71it/s]\u001b[A\n",
      " 44%|████▍     | 123/278 [00:22<00:27,  5.65it/s]\u001b[A\n",
      " 45%|████▍     | 124/278 [00:23<00:27,  5.68it/s]\u001b[A\n",
      " 45%|████▍     | 125/278 [00:23<00:27,  5.54it/s]\u001b[A\n",
      " 45%|████▌     | 126/278 [00:23<00:27,  5.60it/s]\u001b[A\n",
      " 46%|████▌     | 127/278 [00:23<00:26,  5.64it/s]\u001b[A\n",
      " 46%|████▌     | 128/278 [00:23<00:26,  5.66it/s]\u001b[A\n",
      " 46%|████▋     | 129/278 [00:23<00:26,  5.58it/s]\u001b[A\n",
      " 47%|████▋     | 130/278 [00:24<00:25,  5.70it/s]\u001b[A\n",
      " 47%|████▋     | 131/278 [00:24<00:25,  5.69it/s]\u001b[A\n",
      " 47%|████▋     | 132/278 [00:24<00:25,  5.74it/s]\u001b[A\n",
      " 48%|████▊     | 133/278 [00:24<00:25,  5.75it/s]\u001b[A\n",
      " 48%|████▊     | 134/278 [00:24<00:25,  5.66it/s]\u001b[A\n",
      " 49%|████▊     | 135/278 [00:25<00:25,  5.66it/s]\u001b[A\n",
      " 49%|████▉     | 136/278 [00:25<00:26,  5.43it/s]\u001b[A\n",
      " 49%|████▉     | 137/278 [00:25<00:25,  5.54it/s]\u001b[A\n",
      " 50%|████▉     | 138/278 [00:25<00:25,  5.51it/s]\u001b[A\n",
      " 50%|█████     | 139/278 [00:25<00:25,  5.52it/s]\u001b[A\n",
      " 50%|█████     | 140/278 [00:25<00:25,  5.42it/s]\u001b[A\n",
      " 51%|█████     | 141/278 [00:26<00:25,  5.34it/s]\u001b[A\n",
      " 51%|█████     | 142/278 [00:26<00:24,  5.50it/s]\u001b[A\n",
      " 51%|█████▏    | 143/278 [00:26<00:24,  5.54it/s]\u001b[A\n",
      " 52%|█████▏    | 144/278 [00:26<00:24,  5.48it/s]\u001b[A\n",
      " 52%|█████▏    | 145/278 [00:26<00:24,  5.52it/s]\u001b[A\n",
      " 53%|█████▎    | 146/278 [00:27<00:23,  5.54it/s]\u001b[A\n",
      " 53%|█████▎    | 147/278 [00:27<00:23,  5.52it/s]\u001b[A\n",
      " 53%|█████▎    | 148/278 [00:27<00:23,  5.56it/s]\u001b[A\n",
      " 54%|█████▎    | 149/278 [00:27<00:22,  5.62it/s]\u001b[A\n",
      " 54%|█████▍    | 150/278 [00:27<00:22,  5.58it/s]\u001b[A\n",
      " 54%|█████▍    | 151/278 [00:27<00:22,  5.61it/s]\u001b[A\n",
      " 55%|█████▍    | 152/278 [00:28<00:22,  5.61it/s]\u001b[A\n",
      " 55%|█████▌    | 153/278 [00:28<00:23,  5.38it/s]\u001b[A\n",
      " 55%|█████▌    | 154/278 [00:28<00:23,  5.29it/s]\u001b[A\n",
      " 56%|█████▌    | 155/278 [00:28<00:23,  5.34it/s]\u001b[A\n",
      " 56%|█████▌    | 156/278 [00:28<00:22,  5.48it/s]\u001b[A\n",
      " 56%|█████▋    | 157/278 [00:29<00:21,  5.61it/s]\u001b[A\n",
      " 57%|█████▋    | 158/278 [00:29<00:22,  5.42it/s]\u001b[A\n",
      " 57%|█████▋    | 159/278 [00:29<00:21,  5.45it/s]\u001b[A\n",
      " 58%|█████▊    | 160/278 [00:29<00:21,  5.50it/s]\u001b[A\n",
      " 58%|█████▊    | 161/278 [00:29<00:21,  5.44it/s]\u001b[A\n",
      " 58%|█████▊    | 162/278 [00:29<00:21,  5.48it/s]\u001b[A\n",
      " 59%|█████▊    | 163/278 [00:30<00:21,  5.41it/s]\u001b[A\n",
      " 59%|█████▉    | 164/278 [00:30<00:21,  5.29it/s]\u001b[A\n",
      " 59%|█████▉    | 165/278 [00:30<00:21,  5.35it/s]\u001b[A\n",
      " 60%|█████▉    | 166/278 [00:30<00:20,  5.45it/s]\u001b[A\n",
      " 60%|██████    | 167/278 [00:30<00:20,  5.50it/s]\u001b[A\n",
      " 60%|██████    | 168/278 [00:31<00:19,  5.59it/s]\u001b[A\n",
      " 61%|██████    | 169/278 [00:31<00:19,  5.63it/s]\u001b[A\n",
      " 61%|██████    | 170/278 [00:31<00:19,  5.68it/s]\u001b[A\n",
      " 62%|██████▏   | 171/278 [00:31<00:19,  5.61it/s]\u001b[A\n",
      " 62%|██████▏   | 172/278 [00:31<00:18,  5.69it/s]\u001b[A\n",
      " 62%|██████▏   | 173/278 [00:31<00:18,  5.69it/s]\u001b[A\n",
      " 63%|██████▎   | 174/278 [00:32<00:18,  5.77it/s]\u001b[A\n",
      " 63%|██████▎   | 175/278 [00:32<00:18,  5.56it/s]\u001b[A\n",
      " 63%|██████▎   | 176/278 [00:32<00:18,  5.65it/s]\u001b[A\n",
      " 64%|██████▎   | 177/278 [00:32<00:17,  5.70it/s]\u001b[A\n",
      " 64%|██████▍   | 178/278 [00:32<00:17,  5.67it/s]\u001b[A\n",
      " 64%|██████▍   | 179/278 [00:32<00:17,  5.68it/s]\u001b[A\n",
      " 65%|██████▍   | 180/278 [00:33<00:17,  5.71it/s]\u001b[A\n",
      " 65%|██████▌   | 181/278 [00:33<00:16,  5.71it/s]\u001b[A\n",
      " 65%|██████▌   | 182/278 [00:33<00:16,  5.74it/s]\u001b[A\n",
      " 66%|██████▌   | 183/278 [00:33<00:16,  5.79it/s]\u001b[A\n",
      " 66%|██████▌   | 184/278 [00:33<00:16,  5.80it/s]\u001b[A\n",
      " 67%|██████▋   | 185/278 [00:34<00:16,  5.72it/s]\u001b[A\n",
      " 67%|██████▋   | 186/278 [00:34<00:16,  5.70it/s]\u001b[A\n",
      " 67%|██████▋   | 187/278 [00:34<00:15,  5.71it/s]\u001b[A\n",
      " 68%|██████▊   | 188/278 [00:34<00:15,  5.75it/s]\u001b[A\n",
      " 68%|██████▊   | 189/278 [00:34<00:15,  5.84it/s]\u001b[A\n",
      " 68%|██████▊   | 190/278 [00:34<00:15,  5.85it/s]\u001b[A\n",
      " 69%|██████▊   | 191/278 [00:35<00:14,  5.85it/s]\u001b[A\n",
      " 69%|██████▉   | 192/278 [00:35<00:14,  5.77it/s]\u001b[A\n",
      " 69%|██████▉   | 193/278 [00:35<00:14,  5.84it/s]\u001b[A\n",
      " 70%|██████▉   | 194/278 [00:35<00:14,  5.77it/s]\u001b[A\n",
      " 70%|███████   | 195/278 [00:35<00:14,  5.69it/s]\u001b[A\n",
      " 71%|███████   | 196/278 [00:35<00:14,  5.68it/s]\u001b[A\n",
      " 71%|███████   | 197/278 [00:36<00:13,  5.79it/s]\u001b[A\n",
      " 71%|███████   | 198/278 [00:36<00:14,  5.58it/s]\u001b[A\n",
      " 72%|███████▏  | 199/278 [00:36<00:14,  5.59it/s]\u001b[A\n",
      " 72%|███████▏  | 200/278 [00:36<00:13,  5.70it/s]\u001b[A\n",
      " 72%|███████▏  | 201/278 [00:36<00:13,  5.55it/s]\u001b[A\n",
      " 73%|███████▎  | 202/278 [00:36<00:13,  5.58it/s]\u001b[A\n",
      " 73%|███████▎  | 203/278 [00:37<00:13,  5.50it/s]\u001b[A\n",
      " 73%|███████▎  | 204/278 [00:37<00:13,  5.60it/s]\u001b[A\n",
      " 74%|███████▎  | 205/278 [00:37<00:12,  5.66it/s]\u001b[A\n",
      " 74%|███████▍  | 206/278 [00:37<00:12,  5.77it/s]\u001b[A\n",
      " 74%|███████▍  | 207/278 [00:37<00:12,  5.73it/s]\u001b[A\n",
      " 75%|███████▍  | 208/278 [00:38<00:11,  5.85it/s]\u001b[A\n",
      " 75%|███████▌  | 209/278 [00:38<00:12,  5.74it/s]\u001b[A\n",
      " 76%|███████▌  | 210/278 [00:38<00:11,  5.73it/s]\u001b[A\n",
      " 76%|███████▌  | 211/278 [00:38<00:11,  5.78it/s]\u001b[A\n",
      " 76%|███████▋  | 212/278 [00:38<00:11,  5.70it/s]\u001b[A\n",
      " 77%|███████▋  | 213/278 [00:38<00:11,  5.75it/s]\u001b[A\n",
      " 77%|███████▋  | 214/278 [00:39<00:11,  5.82it/s]\u001b[A\n",
      " 77%|███████▋  | 215/278 [00:39<00:10,  5.75it/s]\u001b[A\n",
      " 78%|███████▊  | 216/278 [00:39<00:10,  5.80it/s]\u001b[A\n",
      " 78%|███████▊  | 217/278 [00:39<00:10,  5.80it/s]\u001b[A\n",
      " 78%|███████▊  | 218/278 [00:39<00:10,  5.80it/s]\u001b[A\n",
      " 79%|███████▉  | 219/278 [00:39<00:10,  5.71it/s]\u001b[A\n",
      " 79%|███████▉  | 220/278 [00:40<00:10,  5.53it/s]\u001b[A\n",
      " 79%|███████▉  | 221/278 [00:40<00:10,  5.65it/s]\u001b[A\n",
      " 80%|███████▉  | 222/278 [00:40<00:09,  5.64it/s]\u001b[A\n",
      " 80%|████████  | 223/278 [00:40<00:09,  5.53it/s]\u001b[A\n",
      " 81%|████████  | 224/278 [00:40<00:09,  5.44it/s]\u001b[A\n",
      " 81%|████████  | 225/278 [00:41<00:09,  5.43it/s]\u001b[A\n",
      " 81%|████████▏ | 226/278 [00:41<00:09,  5.38it/s]\u001b[A\n",
      " 82%|████████▏ | 227/278 [00:41<00:09,  5.38it/s]\u001b[A\n",
      " 82%|████████▏ | 228/278 [00:41<00:09,  5.43it/s]\u001b[A\n",
      " 82%|████████▏ | 229/278 [00:41<00:09,  5.32it/s]\u001b[A\n",
      " 83%|████████▎ | 230/278 [00:41<00:08,  5.37it/s]\u001b[A\n",
      " 83%|████████▎ | 231/278 [00:42<00:08,  5.47it/s]\u001b[A\n",
      " 83%|████████▎ | 232/278 [00:42<00:08,  5.23it/s]\u001b[A\n",
      " 84%|████████▍ | 233/278 [00:42<00:08,  5.12it/s]\u001b[A\n",
      " 84%|████████▍ | 234/278 [00:42<00:08,  5.24it/s]\u001b[A\n",
      " 85%|████████▍ | 235/278 [00:42<00:08,  5.32it/s]\u001b[A\n",
      " 85%|████████▍ | 236/278 [00:43<00:07,  5.40it/s]\u001b[A\n",
      " 85%|████████▌ | 237/278 [00:43<00:07,  5.31it/s]\u001b[A\n",
      " 86%|████████▌ | 238/278 [00:43<00:07,  5.38it/s]\u001b[A\n",
      " 86%|████████▌ | 239/278 [00:43<00:07,  5.51it/s]\u001b[A\n",
      " 86%|████████▋ | 240/278 [00:43<00:06,  5.49it/s]\u001b[A\n",
      " 87%|████████▋ | 241/278 [00:44<00:06,  5.71it/s]\u001b[A\n",
      " 87%|████████▋ | 242/278 [00:44<00:06,  5.65it/s]\u001b[A\n",
      " 87%|████████▋ | 243/278 [00:44<00:06,  5.74it/s]\u001b[A\n",
      " 88%|████████▊ | 244/278 [00:44<00:05,  5.83it/s]\u001b[A\n",
      " 88%|████████▊ | 245/278 [00:44<00:05,  5.87it/s]\u001b[A\n",
      " 88%|████████▊ | 246/278 [00:44<00:05,  5.74it/s]\u001b[A\n",
      " 89%|████████▉ | 247/278 [00:45<00:05,  5.76it/s]\u001b[A\n",
      " 89%|████████▉ | 248/278 [00:45<00:05,  5.63it/s]\u001b[A\n",
      " 90%|████████▉ | 249/278 [00:45<00:05,  5.73it/s]\u001b[A\n",
      " 90%|████████▉ | 250/278 [00:45<00:04,  5.71it/s]\u001b[A\n",
      " 90%|█████████ | 251/278 [00:45<00:04,  5.70it/s]\u001b[A\n",
      " 91%|█████████ | 252/278 [00:45<00:04,  5.68it/s]\u001b[A\n",
      " 91%|█████████ | 253/278 [00:46<00:04,  5.64it/s]\u001b[A\n",
      " 91%|█████████▏| 254/278 [00:46<00:04,  5.61it/s]\u001b[A\n",
      " 92%|█████████▏| 255/278 [00:46<00:04,  5.51it/s]\u001b[A\n",
      " 92%|█████████▏| 256/278 [00:46<00:03,  5.57it/s]\u001b[A\n",
      " 92%|█████████▏| 257/278 [00:46<00:03,  5.56it/s]\u001b[A\n",
      " 93%|█████████▎| 258/278 [00:47<00:03,  5.67it/s]\u001b[A\n",
      " 93%|█████████▎| 259/278 [00:47<00:03,  5.68it/s]\u001b[A\n",
      " 94%|█████████▎| 260/278 [00:47<00:03,  5.67it/s]\u001b[A\n",
      " 94%|█████████▍| 261/278 [00:47<00:02,  5.75it/s]\u001b[A\n",
      " 94%|█████████▍| 262/278 [00:47<00:02,  5.78it/s]\u001b[A\n",
      " 95%|█████████▍| 263/278 [00:47<00:02,  5.66it/s]\u001b[A\n",
      " 95%|█████████▍| 264/278 [00:48<00:02,  5.72it/s]\u001b[A\n",
      " 95%|█████████▌| 265/278 [00:48<00:02,  5.75it/s]\u001b[A\n",
      " 96%|█████████▌| 266/278 [00:48<00:02,  5.77it/s]\u001b[A\n",
      " 96%|█████████▌| 267/278 [00:48<00:01,  5.78it/s]\u001b[A\n",
      " 96%|█████████▋| 268/278 [00:48<00:01,  5.74it/s]\u001b[A\n",
      " 97%|█████████▋| 269/278 [00:48<00:01,  5.72it/s]\u001b[A\n",
      " 97%|█████████▋| 270/278 [00:49<00:01,  5.69it/s]\u001b[A\n",
      " 97%|█████████▋| 271/278 [00:49<00:01,  5.74it/s]\u001b[A\n",
      " 98%|█████████▊| 272/278 [00:49<00:01,  5.76it/s]\u001b[A\n",
      " 98%|█████████▊| 273/278 [00:49<00:00,  5.74it/s]\u001b[A\n",
      " 99%|█████████▊| 274/278 [00:49<00:00,  5.62it/s]\u001b[A\n",
      " 99%|█████████▉| 275/278 [00:49<00:00,  5.74it/s]\u001b[A\n",
      " 99%|█████████▉| 276/278 [00:50<00:00,  5.77it/s]\u001b[A\n",
      "100%|██████████| 278/278 [00:50<00:00,  5.50it/s]\n"
     ]
    }
   ],
   "source": [
    "import pytorch_lightning\n",
    "\n",
    "torch.seed()\n",
    "np.random.seed(120)\n",
    "random.seed(123)\n",
    "pytorch_lightning.utilities.seed\n",
    "\n",
    "model.to(device)\n",
    "l = [] #labels\n",
    "gt = [] #ground thruth\n",
    "\n",
    "for data in (tqdm(test_dataloader)):\n",
    "\n",
    "    out = model(data[0].to(device))\n",
    "\n",
    "    l.extend(out.to('cpu').detach().numpy())\n",
    "\n",
    "    gt.extend(( data[1].type(torch.float32).reshape(-1,1).to('cpu') ).detach().numpy())"
   ]
  },
  {
   "cell_type": "code",
   "execution_count": null,
   "metadata": {
    "id": "RtL95Uh3usmY"
   },
   "outputs": [],
   "source": [
    "from torchmetrics.classification import MulticlassConfusionMatrix\n",
    "\n",
    "target = torch.tensor( np.array(gt).reshape(-1,) )\n",
    "label =   torch.squeeze( torch.tensor( np.array(l)) )\n",
    "\n",
    "metric = MulticlassConfusionMatrix(num_classes=num_classes)\n",
    "\n",
    "c = np.array(metric(torch.argmax(label,-1) , target))"
   ]
  },
  {
   "cell_type": "code",
   "execution_count": null,
   "metadata": {
    "id": "bT_wWsZDvIzc"
   },
   "outputs": [],
   "source": [
    "label_dict = {0: 'state__idle',\n",
    "           1: 'state__shoulder__flexion',\n",
    "           2: 'state__elbow__extension',\n",
    "           3: 'state__wrist__pronation',\n",
    "           4: 'state__hand__open',\n",
    "           5: 'state__hand__close',\n",
    "          }"
   ]
  },
  {
   "cell_type": "code",
   "execution_count": null,
   "metadata": {
    "colab": {
     "base_uri": "https://localhost:8080/",
     "height": 487
    },
    "id": "qXt9o-S2uvs7",
    "outputId": "18b64507-9c1a-4671-c66f-4d9e9f27b867"
   },
   "outputs": [
    {
     "data": {
      "image/png": "[encoded data removed]",
      "text/plain": [
       "<Figure size 640x480 with 2 Axes>"
      ]
     },
     "metadata": {},
     "output_type": "display_data"
    }
   ],
   "source": [
    "# import matplotlib.pyplot as plt\n",
    "import numpy as np\n",
    "import matplotlib as mpl\n",
    "\n",
    "import matplotlib.pyplot as plt\n",
    "from matplotlib.colors import LinearSegmentedColormap\n",
    "import numpy as np\n",
    "\n",
    "C = c\n",
    "\n",
    "colors = ['k' , '#F601FF'] # first color is black, last is red\n",
    "cm = LinearSegmentedColormap.from_list(\n",
    "        \"Custom\", colors, N=200)\n",
    "\n",
    "class_labels = [0, 1, 2, 3, 4, 5]\n",
    "\n",
    "normalized_confusion_matrix =  np.round(C/ np.sum(C, axis=1, keepdims=True), 3)\n",
    "\n",
    "fig, ax = plt.subplots(facecolor='k')\n",
    "im = ax.imshow(normalized_confusion_matrix , cmap = cm , vmin=0, vmax=1)\n",
    "cb = fig.colorbar(im , ax=ax)\n",
    "cb.outline.set_edgecolor('w')\n",
    "\n",
    "ax.set_xlabel(\"Predicted Labels\", color='w')\n",
    "ax.set_ylabel(\"True Labels\", color='w')\n",
    "\n",
    "ax.set_xticks(np.arange(len(class_labels)), labels=[name for _, name in  label_dict.items()], color='w', rotation=45, ha='right')\n",
    "ax.set_yticks(np.arange(len(class_labels)), labels=[name for _, name in  label_dict.items()], color='w')\n",
    "\n",
    "\n",
    "\n",
    "\n",
    "for i in range(len(class_labels)):\n",
    "    for j in range(len(class_labels)):\n",
    "        text = ax.text(j, i, normalized_confusion_matrix[i, j],\n",
    "                        ha=\"center\", va=\"center\", color=\"w\" , size=8)\n",
    "\n",
    "\n",
    "fig.tight_layout()\n",
    "plt.show()"
   ]
  },
  {
   "cell_type": "code",
   "execution_count": null,
   "metadata": {
    "colab": {
     "base_uri": "https://localhost:8080/"
    },
    "id": "s4x3FtkwvCEh",
    "outputId": "be42bea4-a035-4a7c-a8e3-ce13464b82f4"
   },
   "outputs": [
    {
     "name": "stdout",
     "output_type": "stream",
     "text": [
      "Diagonal Average of Confusion Matrix: 0.3323333333333333\n",
      "Macro-Averaged F1-Score: 0.34512415528297424\n"
     ]
    }
   ],
   "source": [
    "diagonal_avg = np.mean(np.diag(normalized_confusion_matrix))\n",
    "print(\"Diagonal Average of Confusion Matrix:\", diagonal_avg)\n",
    "\n",
    "# Initialize the F1 metric (macro-average)\n",
    "f1_metric = MulticlassF1Score(num_classes=num_classes, average='macro')\n",
    "\n",
    "# Compute the F1 score\n",
    "f1_score = f1_metric(torch.argmax(label,-1) , target)\n",
    "print(\"Macro-Averaged F1-Score:\", f1_score.item())"
   ]
  },
  {
   "cell_type": "code",
   "execution_count": null,
   "metadata": {
    "id": "rbj44Cct_MH7"
   },
   "outputs": [],
   "source": []
  }
 ],
 "metadata": {
  "colab": {
   "machine_shape": "hm",
   "provenance": []
  },
  "kernelspec": {
   "display_name": "Python 3",
   "name": "python3"
  },
  "language_info": {
   "name": "python"
  },
  "widgets": {
   "application/vnd.jupyter.widget-state+json": {
    "0f6792310b2a4bbaac7e222b36450acf": {
     "model_module": "@jupyter-widgets/base",
     "model_module_version": "1.2.0",
     "model_name": "LayoutModel",
     "state": {
      "_model_module": "@jupyter-widgets/base",
      "_model_module_version": "1.2.0",
      "_model_name": "LayoutModel",
      "_view_count": null,
      "_view_module": "@jupyter-widgets/base",
      "_view_module_version": "1.2.0",
      "_view_name": "LayoutView",
      "align_content": null,
      "align_items": null,
      "align_self": null,
      "border": null,
      "bottom": null,
      "display": null,
      "flex": null,
      "flex_flow": null,
      "grid_area": null,
      "grid_auto_columns": null,
      "grid_auto_flow": null,
      "grid_auto_rows": null,
      "grid_column": null,
      "grid_gap": null,
      "grid_row": null,
      "grid_template_areas": null,
      "grid_template_columns": null,
      "grid_template_rows": null,
      "height": null,
      "justify_content": null,
      "justify_items": null,
      "left": null,
      "margin": null,
      "max_height": null,
      "max_width": null,
      "min_height": null,
      "min_width": null,
      "object_fit": null,
      "object_position": null,
      "order": null,
      "overflow": null,
      "overflow_x": null,
      "overflow_y": null,
      "padding": null,
      "right": null,
      "top": null,
      "visibility": null,
      "width": null
     }
    },
    "250a02d607684f0d806fb555794d7a9c": {
     "model_module": "@jupyter-widgets/base",
     "model_module_version": "1.2.0",
     "model_name": "LayoutModel",
     "state": {
      "_model_module": "@jupyter-widgets/base",
      "_model_module_version": "1.2.0",
      "_model_name": "LayoutModel",
      "_view_count": null,
      "_view_module": "@jupyter-widgets/base",
      "_view_module_version": "1.2.0",
      "_view_name": "LayoutView",
      "align_content": null,
      "align_items": null,
      "align_self": null,
      "border": null,
      "bottom": null,
      "display": null,
      "flex": null,
      "flex_flow": null,
      "grid_area": null,
      "grid_auto_columns": null,
      "grid_auto_flow": null,
      "grid_auto_rows": null,
      "grid_column": null,
      "grid_gap": null,
      "grid_row": null,
      "grid_template_areas": null,
      "grid_template_columns": null,
      "grid_template_rows": null,
      "height": null,
      "justify_content": null,
      "justify_items": null,
      "left": null,
      "margin": null,
      "max_height": null,
      "max_width": null,
      "min_height": null,
      "min_width": null,
      "object_fit": null,
      "object_position": null,
      "order": null,
      "overflow": null,
      "overflow_x": null,
      "overflow_y": null,
      "padding": null,
      "right": null,
      "top": null,
      "visibility": null,
      "width": null
     }
    },
    "389d2ba8fd1b4485bdaf4725506344fa": {
     "model_module": "@jupyter-widgets/controls",
     "model_module_version": "1.5.0",
     "model_name": "DescriptionStyleModel",
     "state": {
      "_model_module": "@jupyter-widgets/controls",
      "_model_module_version": "1.5.0",
      "_model_name": "DescriptionStyleModel",
      "_view_count": null,
      "_view_module": "@jupyter-widgets/base",
      "_view_module_version": "1.2.0",
      "_view_name": "StyleView",
      "description_width": ""
     }
    },
    "45037b2e368f4c2b83cc430ce45d0e1a": {
     "model_module": "@jupyter-widgets/controls",
     "model_module_version": "1.5.0",
     "model_name": "DescriptionStyleModel",
     "state": {
      "_model_module": "@jupyter-widgets/controls",
      "_model_module_version": "1.5.0",
      "_model_name": "DescriptionStyleModel",
      "_view_count": null,
      "_view_module": "@jupyter-widgets/base",
      "_view_module_version": "1.2.0",
      "_view_name": "StyleView",
      "description_width": ""
     }
    },
    "534d8b2d6b954858a381fca01084ec67": {
     "model_module": "@jupyter-widgets/controls",
     "model_module_version": "1.5.0",
     "model_name": "ProgressStyleModel",
     "state": {
      "_model_module": "@jupyter-widgets/controls",
      "_model_module_version": "1.5.0",
      "_model_name": "ProgressStyleModel",
      "_view_count": null,
      "_view_module": "@jupyter-widgets/base",
      "_view_module_version": "1.2.0",
      "_view_name": "StyleView",
      "bar_color": null,
      "description_width": ""
     }
    },
    "6358d84b859d421ab10d58f2ad374259": {
     "model_module": "@jupyter-widgets/base",
     "model_module_version": "1.2.0",
     "model_name": "LayoutModel",
     "state": {
      "_model_module": "@jupyter-widgets/base",
      "_model_module_version": "1.2.0",
      "_model_name": "LayoutModel",
      "_view_count": null,
      "_view_module": "@jupyter-widgets/base",
      "_view_module_version": "1.2.0",
      "_view_name": "LayoutView",
      "align_content": null,
      "align_items": null,
      "align_self": null,
      "border": null,
      "bottom": null,
      "display": null,
      "flex": "2",
      "flex_flow": null,
      "grid_area": null,
      "grid_auto_columns": null,
      "grid_auto_flow": null,
      "grid_auto_rows": null,
      "grid_column": null,
      "grid_gap": null,
      "grid_row": null,
      "grid_template_areas": null,
      "grid_template_columns": null,
      "grid_template_rows": null,
      "height": null,
      "justify_content": null,
      "justify_items": null,
      "left": null,
      "margin": null,
      "max_height": null,
      "max_width": null,
      "min_height": null,
      "min_width": null,
      "object_fit": null,
      "object_position": null,
      "order": null,
      "overflow": null,
      "overflow_x": null,
      "overflow_y": null,
      "padding": null,
      "right": null,
      "top": null,
      "visibility": null,
      "width": null
     }
    },
    "708de6f8b39a4df2a666a5a7cafb6eaf": {
     "model_module": "@jupyter-widgets/controls",
     "model_module_version": "1.5.0",
     "model_name": "HTMLModel",
     "state": {
      "_dom_classes": [],
      "_model_module": "@jupyter-widgets/controls",
      "_model_module_version": "1.5.0",
      "_model_name": "HTMLModel",
      "_view_count": null,
      "_view_module": "@jupyter-widgets/controls",
      "_view_module_version": "1.5.0",
      "_view_name": "HTMLView",
      "description": "",
      "description_tooltip": null,
      "layout": "IPY_MODEL_0f6792310b2a4bbaac7e222b36450acf",
      "placeholder": "​",
      "style": "IPY_MODEL_45037b2e368f4c2b83cc430ce45d0e1a",
      "value": " 428/1450 [01:48&lt;04:18,  3.96it/s, v_num=0, train_loss_step=0.936, train_loss_epoch=0.374]"
     }
    },
    "a7ed8fb32e2c4014a5a83ecb748b7c98": {
     "model_module": "@jupyter-widgets/controls",
     "model_module_version": "1.5.0",
     "model_name": "HTMLModel",
     "state": {
      "_dom_classes": [],
      "_model_module": "@jupyter-widgets/controls",
      "_model_module_version": "1.5.0",
      "_model_name": "HTMLModel",
      "_view_count": null,
      "_view_module": "@jupyter-widgets/controls",
      "_view_module_version": "1.5.0",
      "_view_name": "HTMLView",
      "description": "",
      "description_tooltip": null,
      "layout": "IPY_MODEL_250a02d607684f0d806fb555794d7a9c",
      "placeholder": "​",
      "style": "IPY_MODEL_389d2ba8fd1b4485bdaf4725506344fa",
      "value": "Epoch 19:  30%"
     }
    },
    "afbeb44c5a6a497cbf2b5a2c4239bb47": {
     "model_module": "@jupyter-widgets/controls",
     "model_module_version": "1.5.0",
     "model_name": "HBoxModel",
     "state": {
      "_dom_classes": [],
      "_model_module": "@jupyter-widgets/controls",
      "_model_module_version": "1.5.0",
      "_model_name": "HBoxModel",
      "_view_count": null,
      "_view_module": "@jupyter-widgets/controls",
      "_view_module_version": "1.5.0",
      "_view_name": "HBoxView",
      "box_style": "",
      "children": [
       "IPY_MODEL_a7ed8fb32e2c4014a5a83ecb748b7c98",
       "IPY_MODEL_e3d54d1a7b1d440eb440ef8d282a7d64",
       "IPY_MODEL_708de6f8b39a4df2a666a5a7cafb6eaf"
      ],
      "layout": "IPY_MODEL_c7d3ff6087594201b747316622481d06"
     }
    },
    "c7d3ff6087594201b747316622481d06": {
     "model_module": "@jupyter-widgets/base",
     "model_module_version": "1.2.0",
     "model_name": "LayoutModel",
     "state": {
      "_model_module": "@jupyter-widgets/base",
      "_model_module_version": "1.2.0",
      "_model_name": "LayoutModel",
      "_view_count": null,
      "_view_module": "@jupyter-widgets/base",
      "_view_module_version": "1.2.0",
      "_view_name": "LayoutView",
      "align_content": null,
      "align_items": null,
      "align_self": null,
      "border": null,
      "bottom": null,
      "display": "inline-flex",
      "flex": null,
      "flex_flow": "row wrap",
      "grid_area": null,
      "grid_auto_columns": null,
      "grid_auto_flow": null,
      "grid_auto_rows": null,
      "grid_column": null,
      "grid_gap": null,
      "grid_row": null,
      "grid_template_areas": null,
      "grid_template_columns": null,
      "grid_template_rows": null,
      "height": null,
      "justify_content": null,
      "justify_items": null,
      "left": null,
      "margin": null,
      "max_height": null,
      "max_width": null,
      "min_height": null,
      "min_width": null,
      "object_fit": null,
      "object_position": null,
      "order": null,
      "overflow": null,
      "overflow_x": null,
      "overflow_y": null,
      "padding": null,
      "right": null,
      "top": null,
      "visibility": null,
      "width": "100%"
     }
    },
    "e3d54d1a7b1d440eb440ef8d282a7d64": {
     "model_module": "@jupyter-widgets/controls",
     "model_module_version": "1.5.0",
     "model_name": "FloatProgressModel",
     "state": {
      "_dom_classes": [],
      "_model_module": "@jupyter-widgets/controls",
      "_model_module_version": "1.5.0",
      "_model_name": "FloatProgressModel",
      "_view_count": null,
      "_view_module": "@jupyter-widgets/controls",
      "_view_module_version": "1.5.0",
      "_view_name": "ProgressView",
      "bar_style": "",
      "description": "",
      "description_tooltip": null,
      "layout": "IPY_MODEL_6358d84b859d421ab10d58f2ad374259",
      "max": 1450,
      "min": 0,
      "orientation": "horizontal",
      "style": "IPY_MODEL_534d8b2d6b954858a381fca01084ec67",
      "value": 428
     }
    }
   }
  }
 },
 "nbformat": 4,
 "nbformat_minor": 0
}
