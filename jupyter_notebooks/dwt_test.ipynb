{
 "cells": [
  {
   "cell_type": "markdown",
   "metadata": {},
   "source": [
    "Testing dicsrete wavelet feature extraction"
   ]
  },
  {
   "cell_type": "code",
   "execution_count": 1,
   "metadata": {
    "executionInfo": {
     "elapsed": 4025,
     "status": "ok",
     "timestamp": 1731570043014,
     "user": {
      "displayName": "Theo Maetz",
      "userId": "01265100961774375470"
     },
     "user_tz": -60
    },
    "id": "DpoPs6FAfbA_"
   },
   "outputs": [],
   "source": [
    "!pip install -q PyWavelets torch_geometric"
   ]
  },
  {
   "cell_type": "code",
   "execution_count": 2,
   "metadata": {
    "colab": {
     "base_uri": "https://localhost:8080/"
    },
    "executionInfo": {
     "elapsed": 1752,
     "status": "ok",
     "timestamp": 1731570044764,
     "user": {
      "displayName": "Theo Maetz",
      "userId": "01265100961774375470"
     },
     "user_tz": -60
    },
    "id": "PLtRdEmLfg7T",
    "outputId": "8aecbf24-9b10-422d-8043-0a3382d21d48"
   },
   "outputs": [
    {
     "name": "stdout",
     "output_type": "stream",
     "text": [
      "Drive already mounted at /content/drive; to attempt to forcibly remount, call drive.mount(\"/content/drive\", force_remount=True).\n"
     ]
    }
   ],
   "source": [
    "from google.colab import drive\n",
    "drive.mount('/content/drive')\n",
    "\n",
    "import sys\n",
    "sys.path.append('/content/drive/MyDrive/Colab Notebooks/INL')"
   ]
  },
  {
   "cell_type": "code",
   "execution_count": 3,
   "metadata": {
    "executionInfo": {
     "elapsed": 16995,
     "status": "ok",
     "timestamp": 1731570061756,
     "user": {
      "displayName": "Theo Maetz",
      "userId": "01265100961774375470"
     },
     "user_tz": -60
    },
    "id": "zPHfPTEOfip4"
   },
   "outputs": [],
   "source": [
    "import pywt\n",
    "import numpy as np\n",
    "import matplotlib.pyplot as plt\n",
    "import torch\n",
    "from tqdm import tqdm\n",
    "import random\n",
    "from torch_geometric.loader import DataLoader"
   ]
  },
  {
   "cell_type": "code",
   "execution_count": 4,
   "metadata": {
    "executionInfo": {
     "elapsed": 86904,
     "status": "ok",
     "timestamp": 1731570148649,
     "user": {
      "displayName": "Theo Maetz",
      "userId": "01265100961774375470"
     },
     "user_tz": -60
    },
    "id": "_iyqFxWCflY3"
   },
   "outputs": [],
   "source": [
    "y = np.load('/content/drive/MyDrive/Colab Notebooks/INL/processed_data/label2.npy')\n",
    "X_train =  np.load('/content/drive/MyDrive/Colab Notebooks/INL/processed_data/X_train2.npy')"
   ]
  },
  {
   "cell_type": "code",
   "execution_count": 5,
   "metadata": {
    "colab": {
     "base_uri": "https://localhost:8080/"
    },
    "executionInfo": {
     "elapsed": 20,
     "status": "ok",
     "timestamp": 1731570148650,
     "user": {
      "displayName": "Theo Maetz",
      "userId": "01265100961774375470"
     },
     "user_tz": -60
    },
    "id": "EPicfN5tfnBt",
    "outputId": "bb047ce3-f81d-4d7d-a24d-998de05e2294"
   },
   "outputs": [
    {
     "data": {
      "text/plain": [
       "(11730, 31, 1770)"
      ]
     },
     "execution_count": 5,
     "metadata": {},
     "output_type": "execute_result"
    }
   ],
   "source": [
    "X_train.shape"
   ]
  },
  {
   "cell_type": "code",
   "execution_count": 6,
   "metadata": {
    "colab": {
     "base_uri": "https://localhost:8080/"
    },
    "executionInfo": {
     "elapsed": 14,
     "status": "ok",
     "timestamp": 1731570148651,
     "user": {
      "displayName": "Theo Maetz",
      "userId": "01265100961774375470"
     },
     "user_tz": -60
    },
    "id": "6ikyBx2wHn26",
    "outputId": "ec71a958-4015-409a-eea5-3a95291b2a34"
   },
   "outputs": [
    {
     "data": {
      "text/plain": [
       "(31, 1770)"
      ]
     },
     "execution_count": 6,
     "metadata": {},
     "output_type": "execute_result"
    }
   ],
   "source": [
    "X_train[0].shape"
   ]
  },
  {
   "cell_type": "code",
   "execution_count": 7,
   "metadata": {
    "colab": {
     "base_uri": "https://localhost:8080/"
    },
    "executionInfo": {
     "elapsed": 3795,
     "status": "ok",
     "timestamp": 1731570152437,
     "user": {
      "displayName": "Theo Maetz",
      "userId": "01265100961774375470"
     },
     "user_tz": -60
    },
    "id": "2T_WEIr7fojx",
    "outputId": "8f860367-92e0-4cd2-ee00-814f8fdced23"
   },
   "outputs": [
    {
     "name": "stderr",
     "output_type": "stream",
     "text": [
      "100%|██████████| 11730/11730 [00:03<00:00, 3018.40it/s]\n"
     ]
    }
   ],
   "source": [
    "fs = 590 #Sampling frequency\n",
    "n_ecogs = 31 #number of ecog channels\n",
    "window_duration = 3 #seconds\n",
    "\n",
    "X_train = X_train.reshape(-1, n_ecogs * window_duration, fs)\n",
    "\n",
    "dataset = []\n",
    "\n",
    "for idx in tqdm(range(X_train.shape[0])):\n",
    "    eeg_clip = X_train[idx,:,:]\n",
    "    label = y[idx]\n",
    "    if label == 7: #ignore label 7, which produces weird results\n",
    "        continue\n",
    "    dataset.append((torch.tensor(eeg_clip).float(), torch.tensor((label), dtype=torch.long)))\n",
    "\n",
    "random.shuffle(dataset)"
   ]
  },
  {
   "cell_type": "code",
   "execution_count": 8,
   "metadata": {
    "colab": {
     "base_uri": "https://localhost:8080/"
    },
    "executionInfo": {
     "elapsed": 26,
     "status": "ok",
     "timestamp": 1731570152437,
     "user": {
      "displayName": "Theo Maetz",
      "userId": "01265100961774375470"
     },
     "user_tz": -60
    },
    "id": "885dtcDKQ1sp",
    "outputId": "e4c83ef9-44cc-476f-e946-97b1e595ae72"
   },
   "outputs": [
    {
     "data": {
      "text/plain": [
       "11651"
      ]
     },
     "execution_count": 8,
     "metadata": {},
     "output_type": "execute_result"
    }
   ],
   "source": [
    "len(dataset)"
   ]
  },
  {
   "cell_type": "code",
   "execution_count": 9,
   "metadata": {
    "executionInfo": {
     "elapsed": 21,
     "status": "ok",
     "timestamp": 1731570152437,
     "user": {
      "displayName": "Theo Maetz",
      "userId": "01265100961774375470"
     },
     "user_tz": -60
    },
    "id": "-wE1uRf0Q2aK"
   },
   "outputs": [],
   "source": [
    "train_dataloader = DataLoader(dataset , batch_size = 64  )"
   ]
  },
  {
   "cell_type": "code",
   "execution_count": 10,
   "metadata": {
    "colab": {
     "base_uri": "https://localhost:8080/",
     "height": 410
    },
    "executionInfo": {
     "elapsed": 19,
     "status": "error",
     "timestamp": 1731570152437,
     "user": {
      "displayName": "Theo Maetz",
      "userId": "01265100961774375470"
     },
     "user_tz": -60
    },
    "id": "XqD7EwpERA1s",
    "outputId": "76da9453-eb07-4b36-83f8-bd7f3853c5d7"
   },
   "outputs": [
    {
     "ename": "ValueError",
     "evalue": "A ContinuousWavelet object was provided, but only discrete Wavelet objects are supported by this function.  A list of all supported discrete wavelets can be obtained by running:\nprint(pywt.wavelist(kind='discrete'))",
     "output_type": "error",
     "traceback": [
      "\u001b[0;31m---------------------------------------------------------------------------\u001b[0m",
      "\u001b[0;31mValueError\u001b[0m                                Traceback (most recent call last)",
      "\u001b[0;32m<ipython-input-10-c68c822254dc>\u001b[0m in \u001b[0;36m<cell line: 12>\u001b[0;34m()\u001b[0m\n\u001b[1;32m     10\u001b[0m \u001b[0;31m# Perform DWT\u001b[0m\u001b[0;34m\u001b[0m\u001b[0;34m\u001b[0m\u001b[0m\n\u001b[1;32m     11\u001b[0m \u001b[0mwavelet\u001b[0m \u001b[0;34m=\u001b[0m \u001b[0;34m'morl'\u001b[0m  \u001b[0;31m# Daubechies wavelet (db4 is common for analysis)\u001b[0m\u001b[0;34m\u001b[0m\u001b[0;34m\u001b[0m\u001b[0m\n\u001b[0;32m---> 12\u001b[0;31m \u001b[0mcoeffs\u001b[0m \u001b[0;34m=\u001b[0m \u001b[0mpywt\u001b[0m\u001b[0;34m.\u001b[0m\u001b[0mwavedec\u001b[0m\u001b[0;34m(\u001b[0m\u001b[0msignal\u001b[0m\u001b[0;34m,\u001b[0m \u001b[0mwavelet\u001b[0m\u001b[0;34m,\u001b[0m \u001b[0mlevel\u001b[0m\u001b[0;34m=\u001b[0m\u001b[0;36m4\u001b[0m\u001b[0;34m)\u001b[0m  \u001b[0;31m# Decompose signal into 4 levels\u001b[0m\u001b[0;34m\u001b[0m\u001b[0;34m\u001b[0m\u001b[0m\n\u001b[0m\u001b[1;32m     13\u001b[0m \u001b[0;34m\u001b[0m\u001b[0m\n\u001b[1;32m     14\u001b[0m \u001b[0;31m# Plotting the decomposed levels\u001b[0m\u001b[0;34m\u001b[0m\u001b[0;34m\u001b[0m\u001b[0m\n",
      "\u001b[0;32m/usr/local/lib/python3.10/dist-packages/pywt/_multilevel.py\u001b[0m in \u001b[0;36mwavedec\u001b[0;34m(data, wavelet, mode, level, axis)\u001b[0m\n\u001b[1;32m     90\u001b[0m     \u001b[0mdata\u001b[0m \u001b[0;34m=\u001b[0m \u001b[0mnp\u001b[0m\u001b[0;34m.\u001b[0m\u001b[0masarray\u001b[0m\u001b[0;34m(\u001b[0m\u001b[0mdata\u001b[0m\u001b[0;34m)\u001b[0m\u001b[0;34m\u001b[0m\u001b[0;34m\u001b[0m\u001b[0m\n\u001b[1;32m     91\u001b[0m \u001b[0;34m\u001b[0m\u001b[0m\n\u001b[0;32m---> 92\u001b[0;31m     \u001b[0mwavelet\u001b[0m \u001b[0;34m=\u001b[0m \u001b[0m_as_wavelet\u001b[0m\u001b[0;34m(\u001b[0m\u001b[0mwavelet\u001b[0m\u001b[0;34m)\u001b[0m\u001b[0;34m\u001b[0m\u001b[0;34m\u001b[0m\u001b[0m\n\u001b[0m\u001b[1;32m     93\u001b[0m     \u001b[0;32mtry\u001b[0m\u001b[0;34m:\u001b[0m\u001b[0;34m\u001b[0m\u001b[0;34m\u001b[0m\u001b[0m\n\u001b[1;32m     94\u001b[0m         \u001b[0maxes_shape\u001b[0m \u001b[0;34m=\u001b[0m \u001b[0mdata\u001b[0m\u001b[0;34m.\u001b[0m\u001b[0mshape\u001b[0m\u001b[0;34m[\u001b[0m\u001b[0maxis\u001b[0m\u001b[0;34m]\u001b[0m\u001b[0;34m\u001b[0m\u001b[0;34m\u001b[0m\u001b[0m\n",
      "\u001b[0;32m/usr/local/lib/python3.10/dist-packages/pywt/_utils.py\u001b[0m in \u001b[0;36m_as_wavelet\u001b[0;34m(wavelet)\u001b[0m\n\u001b[1;32m     26\u001b[0m         \u001b[0mwavelet\u001b[0m \u001b[0;34m=\u001b[0m \u001b[0mDiscreteContinuousWavelet\u001b[0m\u001b[0;34m(\u001b[0m\u001b[0mwavelet\u001b[0m\u001b[0;34m)\u001b[0m\u001b[0;34m\u001b[0m\u001b[0;34m\u001b[0m\u001b[0m\n\u001b[1;32m     27\u001b[0m     \u001b[0;32mif\u001b[0m \u001b[0misinstance\u001b[0m\u001b[0;34m(\u001b[0m\u001b[0mwavelet\u001b[0m\u001b[0;34m,\u001b[0m \u001b[0mContinuousWavelet\u001b[0m\u001b[0;34m)\u001b[0m\u001b[0;34m:\u001b[0m\u001b[0;34m\u001b[0m\u001b[0;34m\u001b[0m\u001b[0m\n\u001b[0;32m---> 28\u001b[0;31m         raise ValueError(\n\u001b[0m\u001b[1;32m     29\u001b[0m             \u001b[0;34m\"A ContinuousWavelet object was provided, but only discrete \"\u001b[0m\u001b[0;34m\u001b[0m\u001b[0;34m\u001b[0m\u001b[0m\n\u001b[1;32m     30\u001b[0m             \u001b[0;34m\"Wavelet objects are supported by this function.  A list of all \"\u001b[0m\u001b[0;34m\u001b[0m\u001b[0;34m\u001b[0m\u001b[0m\n",
      "\u001b[0;31mValueError\u001b[0m: A ContinuousWavelet object was provided, but only discrete Wavelet objects are supported by this function.  A list of all supported discrete wavelets can be obtained by running:\nprint(pywt.wavelist(kind='discrete'))"
     ]
    }
   ],
   "source": [
    "import pywt\n",
    "import numpy as np\n",
    "import matplotlib.pyplot as plt\n",
    "\n",
    "# Example signal\n",
    "signal_length = 585\n",
    "time = np.linspace(0, 1, signal_length)\n",
    "signal = np.sin(2 * np.pi * 5 * time) + 0.5 * np.sin(2 * np.pi * 15 * time)\n",
    "\n",
    "# Perform DWT\n",
    "wavelet = 'db4'  # Daubechies wavelet (db4 is common for analysis)\n",
    "coeffs = pywt.wavedec(signal, wavelet, level=4)  # Decompose signal into 4 levels\n",
    "\n",
    "# Plotting the decomposed levels\n",
    "fig, ax = plt.subplots(len(coeffs), 1, figsize=(6, 6))\n",
    "for i, coef in enumerate(coeffs):\n",
    "    ax[i].plot(coef)\n",
    "    ax[i].set_title(f'Level {i} Coefficients')\n",
    "plt.tight_layout()\n",
    "plt.show()\n"
   ]
  },
  {
   "cell_type": "code",
   "execution_count": null,
   "metadata": {
    "executionInfo": {
     "elapsed": 18,
     "status": "aborted",
     "timestamp": 1731570152438,
     "user": {
      "displayName": "Theo Maetz",
      "userId": "01265100961774375470"
     },
     "user_tz": -60
    },
    "id": "cBPpHvYNNqlX"
   },
   "outputs": [],
   "source": [
    "coeffs[1].shape"
   ]
  },
  {
   "cell_type": "code",
   "execution_count": null,
   "metadata": {
    "executionInfo": {
     "elapsed": 18,
     "status": "aborted",
     "timestamp": 1731570152439,
     "user": {
      "displayName": "Theo Maetz",
      "userId": "01265100961774375470"
     },
     "user_tz": -60
    },
    "id": "RuSVZAqbdTR0"
   },
   "outputs": [],
   "source": [
    "type(coeffs)"
   ]
  },
  {
   "cell_type": "code",
   "execution_count": null,
   "metadata": {
    "executionInfo": {
     "elapsed": 18,
     "status": "aborted",
     "timestamp": 1731570152439,
     "user": {
      "displayName": "Theo Maetz",
      "userId": "01265100961774375470"
     },
     "user_tz": -60
    },
    "id": "eGe9k73bI_TZ"
   },
   "outputs": [],
   "source": [
    "coeffs[4].shape"
   ]
  },
  {
   "cell_type": "code",
   "execution_count": null,
   "metadata": {
    "executionInfo": {
     "elapsed": 19,
     "status": "aborted",
     "timestamp": 1731570152440,
     "user": {
      "displayName": "Theo Maetz",
      "userId": "01265100961774375470"
     },
     "user_tz": -60
    },
    "id": "1hD8b4dHJB6Q"
   },
   "outputs": [],
   "source": [
    "import pywt\n",
    "import numpy as np\n",
    "import matplotlib.pyplot as plt\n",
    "\n",
    "# Example signal\n",
    "signal = X_train[0][0]\n",
    "\n",
    "# Perform DWT\n",
    "wavelet = 'morl'  # Daubechies wavelet (db4 is common for analysis)\n",
    "coeffs = pywt.wavedec(signal, wavelet, level=4)  # Decompose signal into 4 levels\n",
    "\n",
    "# Plotting the decomposed levels\n",
    "fig, ax = plt.subplots(len(coeffs), 1, figsize=(6, 6))\n",
    "for i, coef in enumerate(coeffs):\n",
    "    ax[i].plot(coef)\n",
    "    ax[i].set_title(f'Level {i} Coefficients')\n",
    "plt.tight_layout()\n",
    "plt.show()"
   ]
  },
  {
   "cell_type": "code",
   "execution_count": null,
   "metadata": {
    "executionInfo": {
     "elapsed": 18,
     "status": "aborted",
     "timestamp": 1731570152440,
     "user": {
      "displayName": "Theo Maetz",
      "userId": "01265100961774375470"
     },
     "user_tz": -60
    },
    "id": "OKlDwJpCJL0j"
   },
   "outputs": [],
   "source": [
    "sum = 0\n",
    "for i in range(4  + 1):\n",
    "  print(coeffs[i].shape)\n",
    "  sum = sum + coeffs[i].shape[0]\n",
    "\n",
    "print(sum)"
   ]
  },
  {
   "cell_type": "markdown",
   "metadata": {
    "id": "L89PhpEzJXsZ"
   },
   "source": [
    "Input: (31, 590)\n",
    "\n",
    "Output: (31, 615)"
   ]
  },
  {
   "cell_type": "code",
   "execution_count": null,
   "metadata": {
    "executionInfo": {
     "elapsed": 18,
     "status": "aborted",
     "timestamp": 1731570152440,
     "user": {
      "displayName": "Theo Maetz",
      "userId": "01265100961774375470"
     },
     "user_tz": -60
    },
    "id": "2jIu9K-BKWwQ"
   },
   "outputs": [],
   "source": [
    "tensor_coeffs = torch"
   ]
  }
 ],
 "metadata": {
  "colab": {
   "authorship_tag": "ABX9TyM+wMUpXL1OwroOydTPZOa5",
   "provenance": []
  },
  "kernelspec": {
   "display_name": "Python 3",
   "name": "python3"
  },
  "language_info": {
   "name": "python"
  }
 },
 "nbformat": 4,
 "nbformat_minor": 0
}
