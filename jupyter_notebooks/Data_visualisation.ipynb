{
  "nbformat": 4,
  "nbformat_minor": 0,
  "metadata": {
    "colab": {
      "provenance": [],
      "machine_shape": "hm",
      "toc_visible": true
    },
    "kernelspec": {
      "name": "python3",
      "display_name": "Python 3"
    },
    "language_info": {
      "name": "python"
    }
  },
  "cells": [
    {
      "cell_type": "code",
      "execution_count": null,
      "metadata": {
        "colab": {
          "base_uri": "https://localhost:8080/"
        },
        "id": "dytFqcjvAbPe",
        "outputId": "63ef1e78-b470-4d2b-952b-f1b5c487ab8e"
      },
      "outputs": [
        {
          "output_type": "stream",
          "name": "stdout",
          "text": [
            "Drive already mounted at /content/drive; to attempt to forcibly remount, call drive.mount(\"/content/drive\", force_remount=True).\n"
          ]
        }
      ],
      "source": [
        "from google.colab import drive\n",
        "drive.mount('/content/drive')\n",
        "import numpy as np\n",
        "import os\n",
        "import pickle\n",
        "from tqdm import tqdm as tqdm"
      ]
    },
    {
      "cell_type": "code",
      "source": [
        "#y = np.load('/content/drive/MyDrive/Colab Notebooks/INL/processed_data/label.npy')\n",
        "#X_train =  np.load('/content/drive/MyDrive/Colab Notebooks/INL/processed_data/X_train.npy')\n",
        "y = np.load('/content/drive/MyDrive/Colab Notebooks/INL/processed_data/label2.npy')\n",
        "X_train =  np.load('/content/drive/MyDrive/Colab Notebooks/INL/processed_data/X_train2.npy')\n",
        "\n",
        "y_test = np.load('/content/drive/MyDrive/Colab Notebooks/INL/processed_data/label_test.npy')\n",
        "X_test =  np.load('/content/drive/MyDrive/Colab Notebooks/INL/processed_data/X_test.npy')"
      ],
      "metadata": {
        "id": "oNw43Co2Amyr"
      },
      "execution_count": null,
      "outputs": []
    },
    {
      "cell_type": "code",
      "source": [
        "y.shape"
      ],
      "metadata": {
        "colab": {
          "base_uri": "https://localhost:8080/"
        },
        "id": "FLD5KUcxfPJw",
        "outputId": "e82324c1-8b15-412f-e58a-fd80ea740cdf"
      },
      "execution_count": null,
      "outputs": [
        {
          "output_type": "execute_result",
          "data": {
            "text/plain": [
              "(11730,)"
            ]
          },
          "metadata": {},
          "execution_count": 19
        }
      ]
    },
    {
      "cell_type": "code",
      "source": [
        "y_test.shape"
      ],
      "metadata": {
        "colab": {
          "base_uri": "https://localhost:8080/"
        },
        "id": "bQDI4v_lgh-6",
        "outputId": "9f187f35-1bd2-42d6-f064-874f239c9265"
      },
      "execution_count": null,
      "outputs": [
        {
          "output_type": "execute_result",
          "data": {
            "text/plain": [
              "(2237,)"
            ]
          },
          "metadata": {},
          "execution_count": 20
        }
      ]
    },
    {
      "cell_type": "code",
      "source": [
        "num2label_dict = {0: 'state__idle',\n",
        "           1: 'state__shoulder__flexion',\n",
        "           2: 'state__elbow__extension',\n",
        "           3: 'state__wrist__pronation',\n",
        "           4: 'state__wrist__supination',\n",
        "           5: 'state__hand__open',\n",
        "           6: 'state__hand__close',\n",
        "           7: 'state__elbow__flexion', #ignore label 7 as it produces weird results\n",
        "          }"
      ],
      "metadata": {
        "id": "z6YVuYHGKuxF"
      },
      "execution_count": null,
      "outputs": []
    },
    {
      "cell_type": "code",
      "source": [
        "label2num_dict = {'state__idle': 0,\n",
        "           'state__shoulder__flexion': 1,\n",
        "           'state__elbow__extension': 2,\n",
        "           'state__wrist__pronation': 3,\n",
        "           'state__wrist__supination': 4,\n",
        "           'state__hand__open': 5,\n",
        "           'state__hand__close': 6,\n",
        "           'state__elbow__flexion': 7, #ignore label 7 as it produces weird results\n",
        "          }"
      ],
      "metadata": {
        "id": "Rf8tSVYztDSD"
      },
      "execution_count": null,
      "outputs": []
    },
    {
      "cell_type": "code",
      "source": [
        "from collections import Counter\n",
        "train_count = Counter(y)\n",
        "test_count = Counter(y_test)"
      ],
      "metadata": {
        "id": "jiJpzcUURwDV"
      },
      "execution_count": null,
      "outputs": []
    },
    {
      "cell_type": "code",
      "source": [
        "train_count.items()"
      ],
      "metadata": {
        "colab": {
          "base_uri": "https://localhost:8080/"
        },
        "id": "CkxbqF2ayJbD",
        "outputId": "df38697c-f1eb-4019-a5f8-f8f5fe8fd18a"
      },
      "execution_count": null,
      "outputs": [
        {
          "output_type": "execute_result",
          "data": {
            "text/plain": [
              "dict_items([(0.0, 7321), (5.0, 861), (6.0, 522), (3.0, 613), (4.0, 56), (2.0, 1628), (1.0, 650), (7.0, 79)])"
            ]
          },
          "metadata": {},
          "execution_count": 25
        }
      ]
    },
    {
      "cell_type": "code",
      "source": [
        "train_count = Counter({num2label_dict.get(key, key): count for key, count in  train_count.items()})\n",
        "test_count = Counter({num2label_dict.get(key, key): count for key, count in  test_count.items()})"
      ],
      "metadata": {
        "id": "BZp8zYRyqCoB"
      },
      "execution_count": null,
      "outputs": []
    },
    {
      "cell_type": "code",
      "source": [
        "train_count"
      ],
      "metadata": {
        "colab": {
          "base_uri": "https://localhost:8080/"
        },
        "id": "tW8B097eqQbS",
        "outputId": "176cac58-dce4-4493-e1d9-178b817fd453"
      },
      "execution_count": null,
      "outputs": [
        {
          "output_type": "execute_result",
          "data": {
            "text/plain": [
              "Counter({'state__idle': 7321,\n",
              "         'state__hand__open': 861,\n",
              "         'state__hand__close': 522,\n",
              "         'state__wrist__pronation': 613,\n",
              "         'state__wrist__supination': 56,\n",
              "         'state__elbow__extension': 1628,\n",
              "         'state__shoulder__flexion': 650,\n",
              "         'state__elbow__flexion': 79})"
            ]
          },
          "metadata": {},
          "execution_count": 27
        }
      ]
    },
    {
      "cell_type": "code",
      "source": [
        "test_count"
      ],
      "metadata": {
        "colab": {
          "base_uri": "https://localhost:8080/"
        },
        "id": "hQiSKjE3qWUL",
        "outputId": "50da9081-90e2-48a5-84a5-76516b4ba824"
      },
      "execution_count": null,
      "outputs": [
        {
          "output_type": "execute_result",
          "data": {
            "text/plain": [
              "Counter({'state__idle': 1416,\n",
              "         'state__elbow__extension': 193,\n",
              "         'state__wrist__pronation': 139,\n",
              "         'state__wrist__supination': 1,\n",
              "         'state__hand__open': 223,\n",
              "         'state__hand__close': 193,\n",
              "         'state__shoulder__flexion': 54,\n",
              "         'state__elbow__flexion': 18})"
            ]
          },
          "metadata": {},
          "execution_count": 28
        }
      ]
    },
    {
      "cell_type": "code",
      "source": [
        "from collections import OrderedDict\n",
        "train_count = OrderedDict([(label, train_count.get(label, 0)) for label in label2num_dict])\n",
        "test_count = OrderedDict([(label, test_count.get(label, 0)) for label in label2num_dict])"
      ],
      "metadata": {
        "id": "WMXh_8Uqxga8"
      },
      "execution_count": null,
      "outputs": []
    },
    {
      "cell_type": "code",
      "source": [
        "train_count"
      ],
      "metadata": {
        "colab": {
          "base_uri": "https://localhost:8080/"
        },
        "id": "yjYKDN3hxzmY",
        "outputId": "1bc345a8-ef33-40ae-c7ac-97964a62820c"
      },
      "execution_count": null,
      "outputs": [
        {
          "output_type": "execute_result",
          "data": {
            "text/plain": [
              "OrderedDict([('state__idle', 7321),\n",
              "             ('state__shoulder__flexion', 650),\n",
              "             ('state__elbow__extension', 1628),\n",
              "             ('state__wrist__pronation', 613),\n",
              "             ('state__wrist__supination', 56),\n",
              "             ('state__hand__open', 861),\n",
              "             ('state__hand__close', 522),\n",
              "             ('state__elbow__flexion', 79)])"
            ]
          },
          "metadata": {},
          "execution_count": 30
        }
      ]
    },
    {
      "cell_type": "code",
      "source": [
        "test_count"
      ],
      "metadata": {
        "colab": {
          "base_uri": "https://localhost:8080/"
        },
        "id": "oD_aqO080nVO",
        "outputId": "d60c701c-8c57-410a-a619-2944c4e58bec"
      },
      "execution_count": null,
      "outputs": [
        {
          "output_type": "execute_result",
          "data": {
            "text/plain": [
              "OrderedDict([('state__idle', 1416),\n",
              "             ('state__shoulder__flexion', 54),\n",
              "             ('state__elbow__extension', 193),\n",
              "             ('state__wrist__pronation', 139),\n",
              "             ('state__wrist__supination', 1),\n",
              "             ('state__hand__open', 223),\n",
              "             ('state__hand__close', 193),\n",
              "             ('state__elbow__flexion', 18)])"
            ]
          },
          "metadata": {},
          "execution_count": 33
        }
      ]
    },
    {
      "cell_type": "code",
      "source": [
        "train_count.values()"
      ],
      "metadata": {
        "colab": {
          "base_uri": "https://localhost:8080/"
        },
        "id": "B-9GihIGzQZv",
        "outputId": "46ca9c1f-fdb2-4c0b-a60b-1b7893a34db3"
      },
      "execution_count": null,
      "outputs": [
        {
          "output_type": "execute_result",
          "data": {
            "text/plain": [
              "odict_values([7321, 650, 1628, 613, 56, 861, 522, 79])"
            ]
          },
          "metadata": {},
          "execution_count": 31
        }
      ]
    },
    {
      "cell_type": "code",
      "source": [
        "import matplotlib.pyplot as plt\n",
        "\n",
        "elements = list(train_count.keys())\n",
        "train_counts = list(train_count.values())\n",
        "test_counts = list(test_count.values())\n",
        "\n",
        "# Set up bar width and positions\n",
        "bar_width = 0.35\n",
        "index = np.arange(len(elements))\n",
        "\n",
        "# Create the bar plot\n",
        "plt.bar(index, train_counts, bar_width, label='Training')\n",
        "plt.bar(index + bar_width, test_counts, bar_width, label='Test')\n",
        "\n",
        "# Replace integer labels on the x-axis with dictionary values\n",
        "plt.xticks(index + bar_width / 2, elements, rotation=45, ha='right')\n",
        "\n",
        "plt.xlabel('Labels')\n",
        "plt.ylabel('Counts')\n",
        "plt.title('Training and Test Data Distribution')\n",
        "\n",
        "# Add legend\n",
        "plt.legend()\n",
        "\n",
        "# Display the plot\n",
        "plt.tight_layout()\n",
        "plt.show()"
      ],
      "metadata": {
        "colab": {
          "base_uri": "https://localhost:8080/",
          "height": 487
        },
        "id": "ut38ap2ib-Bu",
        "outputId": "1fdfcc4a-4bd2-4dbc-c5a9-2fd0e6a67395"
      },
      "execution_count": null,
      "outputs": [
        {
          "output_type": "display_data",
          "data": {
            "text/plain": [
              "<Figure size 640x480 with 1 Axes>"
            ],
            "image/png": "[encoded data removed]"
          },
          "metadata": {}
        }
      ]
    },
    {
      "cell_type": "code",
      "source": [],
      "metadata": {
        "id": "6-9I5vync290"
      },
      "execution_count": null,
      "outputs": []
    }
  ]
}