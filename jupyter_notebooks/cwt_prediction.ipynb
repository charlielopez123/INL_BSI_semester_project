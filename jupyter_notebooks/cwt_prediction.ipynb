{
  "nbformat": 4,
  "nbformat_minor": 0,
  "metadata": {
    "colab": {
      "provenance": [],
      "machine_shape": "hm"
    },
    "kernelspec": {
      "name": "python3",
      "display_name": "Python 3"
    },
    "language_info": {
      "name": "python"
    },
    "widgets": {
      "application/vnd.jupyter.widget-state+json": {
        "1f9dba8cb5744c04ba358a45569fa4c6": {
          "model_module": "@jupyter-widgets/controls",
          "model_name": "HBoxModel",
          "model_module_version": "1.5.0",
          "state": {
            "_dom_classes": [],
            "_model_module": "@jupyter-widgets/controls",
            "_model_module_version": "1.5.0",
            "_model_name": "HBoxModel",
            "_view_count": null,
            "_view_module": "@jupyter-widgets/controls",
            "_view_module_version": "1.5.0",
            "_view_name": "HBoxView",
            "box_style": "",
            "children": [
              "IPY_MODEL_3d7e812dbea245c9b1380dd3fdd842c6",
              "IPY_MODEL_7d0e90b8a1ad4f83b566bb4f34097eff",
              "IPY_MODEL_7391931c74624cddafd7f161e0a29977"
            ],
            "layout": "IPY_MODEL_ed84cc6488e14c5bb236fc960be0b4f9"
          }
        },
        "3d7e812dbea245c9b1380dd3fdd842c6": {
          "model_module": "@jupyter-widgets/controls",
          "model_name": "HTMLModel",
          "model_module_version": "1.5.0",
          "state": {
            "_dom_classes": [],
            "_model_module": "@jupyter-widgets/controls",
            "_model_module_version": "1.5.0",
            "_model_name": "HTMLModel",
            "_view_count": null,
            "_view_module": "@jupyter-widgets/controls",
            "_view_module_version": "1.5.0",
            "_view_name": "HTMLView",
            "description": "",
            "description_tooltip": null,
            "layout": "IPY_MODEL_b2e64d55819a4bd0bbd1cf1b9cdba73d",
            "placeholder": "​",
            "style": "IPY_MODEL_5da15c428155437281b33d65ac9585b4",
            "value": "Epoch 19: 100%"
          }
        },
        "7d0e90b8a1ad4f83b566bb4f34097eff": {
          "model_module": "@jupyter-widgets/controls",
          "model_name": "FloatProgressModel",
          "model_module_version": "1.5.0",
          "state": {
            "_dom_classes": [],
            "_model_module": "@jupyter-widgets/controls",
            "_model_module_version": "1.5.0",
            "_model_name": "FloatProgressModel",
            "_view_count": null,
            "_view_module": "@jupyter-widgets/controls",
            "_view_module_version": "1.5.0",
            "_view_name": "ProgressView",
            "bar_style": "success",
            "description": "",
            "description_tooltip": null,
            "layout": "IPY_MODEL_a81428c63e6647d6865baf261ccc2c71",
            "max": 1450,
            "min": 0,
            "orientation": "horizontal",
            "style": "IPY_MODEL_2770b7709cd4402ea873c23dadcf7089",
            "value": 1450
          }
        },
        "7391931c74624cddafd7f161e0a29977": {
          "model_module": "@jupyter-widgets/controls",
          "model_name": "HTMLModel",
          "model_module_version": "1.5.0",
          "state": {
            "_dom_classes": [],
            "_model_module": "@jupyter-widgets/controls",
            "_model_module_version": "1.5.0",
            "_model_name": "HTMLModel",
            "_view_count": null,
            "_view_module": "@jupyter-widgets/controls",
            "_view_module_version": "1.5.0",
            "_view_name": "HTMLView",
            "description": "",
            "description_tooltip": null,
            "layout": "IPY_MODEL_a8b440948fc54ccdb541106215d4888e",
            "placeholder": "​",
            "style": "IPY_MODEL_027635856daa4258ba4bb27d2afc6e1e",
            "value": " 1450/1450 [19:17&lt;00:00,  1.25it/s, v_num=2]"
          }
        },
        "ed84cc6488e14c5bb236fc960be0b4f9": {
          "model_module": "@jupyter-widgets/base",
          "model_name": "LayoutModel",
          "model_module_version": "1.2.0",
          "state": {
            "_model_module": "@jupyter-widgets/base",
            "_model_module_version": "1.2.0",
            "_model_name": "LayoutModel",
            "_view_count": null,
            "_view_module": "@jupyter-widgets/base",
            "_view_module_version": "1.2.0",
            "_view_name": "LayoutView",
            "align_content": null,
            "align_items": null,
            "align_self": null,
            "border": null,
            "bottom": null,
            "display": "inline-flex",
            "flex": null,
            "flex_flow": "row wrap",
            "grid_area": null,
            "grid_auto_columns": null,
            "grid_auto_flow": null,
            "grid_auto_rows": null,
            "grid_column": null,
            "grid_gap": null,
            "grid_row": null,
            "grid_template_areas": null,
            "grid_template_columns": null,
            "grid_template_rows": null,
            "height": null,
            "justify_content": null,
            "justify_items": null,
            "left": null,
            "margin": null,
            "max_height": null,
            "max_width": null,
            "min_height": null,
            "min_width": null,
            "object_fit": null,
            "object_position": null,
            "order": null,
            "overflow": null,
            "overflow_x": null,
            "overflow_y": null,
            "padding": null,
            "right": null,
            "top": null,
            "visibility": null,
            "width": "100%"
          }
        },
        "b2e64d55819a4bd0bbd1cf1b9cdba73d": {
          "model_module": "@jupyter-widgets/base",
          "model_name": "LayoutModel",
          "model_module_version": "1.2.0",
          "state": {
            "_model_module": "@jupyter-widgets/base",
            "_model_module_version": "1.2.0",
            "_model_name": "LayoutModel",
            "_view_count": null,
            "_view_module": "@jupyter-widgets/base",
            "_view_module_version": "1.2.0",
            "_view_name": "LayoutView",
            "align_content": null,
            "align_items": null,
            "align_self": null,
            "border": null,
            "bottom": null,
            "display": null,
            "flex": null,
            "flex_flow": null,
            "grid_area": null,
            "grid_auto_columns": null,
            "grid_auto_flow": null,
            "grid_auto_rows": null,
            "grid_column": null,
            "grid_gap": null,
            "grid_row": null,
            "grid_template_areas": null,
            "grid_template_columns": null,
            "grid_template_rows": null,
            "height": null,
            "justify_content": null,
            "justify_items": null,
            "left": null,
            "margin": null,
            "max_height": null,
            "max_width": null,
            "min_height": null,
            "min_width": null,
            "object_fit": null,
            "object_position": null,
            "order": null,
            "overflow": null,
            "overflow_x": null,
            "overflow_y": null,
            "padding": null,
            "right": null,
            "top": null,
            "visibility": null,
            "width": null
          }
        },
        "5da15c428155437281b33d65ac9585b4": {
          "model_module": "@jupyter-widgets/controls",
          "model_name": "DescriptionStyleModel",
          "model_module_version": "1.5.0",
          "state": {
            "_model_module": "@jupyter-widgets/controls",
            "_model_module_version": "1.5.0",
            "_model_name": "DescriptionStyleModel",
            "_view_count": null,
            "_view_module": "@jupyter-widgets/base",
            "_view_module_version": "1.2.0",
            "_view_name": "StyleView",
            "description_width": ""
          }
        },
        "a81428c63e6647d6865baf261ccc2c71": {
          "model_module": "@jupyter-widgets/base",
          "model_name": "LayoutModel",
          "model_module_version": "1.2.0",
          "state": {
            "_model_module": "@jupyter-widgets/base",
            "_model_module_version": "1.2.0",
            "_model_name": "LayoutModel",
            "_view_count": null,
            "_view_module": "@jupyter-widgets/base",
            "_view_module_version": "1.2.0",
            "_view_name": "LayoutView",
            "align_content": null,
            "align_items": null,
            "align_self": null,
            "border": null,
            "bottom": null,
            "display": null,
            "flex": "2",
            "flex_flow": null,
            "grid_area": null,
            "grid_auto_columns": null,
            "grid_auto_flow": null,
            "grid_auto_rows": null,
            "grid_column": null,
            "grid_gap": null,
            "grid_row": null,
            "grid_template_areas": null,
            "grid_template_columns": null,
            "grid_template_rows": null,
            "height": null,
            "justify_content": null,
            "justify_items": null,
            "left": null,
            "margin": null,
            "max_height": null,
            "max_width": null,
            "min_height": null,
            "min_width": null,
            "object_fit": null,
            "object_position": null,
            "order": null,
            "overflow": null,
            "overflow_x": null,
            "overflow_y": null,
            "padding": null,
            "right": null,
            "top": null,
            "visibility": null,
            "width": null
          }
        },
        "2770b7709cd4402ea873c23dadcf7089": {
          "model_module": "@jupyter-widgets/controls",
          "model_name": "ProgressStyleModel",
          "model_module_version": "1.5.0",
          "state": {
            "_model_module": "@jupyter-widgets/controls",
            "_model_module_version": "1.5.0",
            "_model_name": "ProgressStyleModel",
            "_view_count": null,
            "_view_module": "@jupyter-widgets/base",
            "_view_module_version": "1.2.0",
            "_view_name": "StyleView",
            "bar_color": null,
            "description_width": ""
          }
        },
        "a8b440948fc54ccdb541106215d4888e": {
          "model_module": "@jupyter-widgets/base",
          "model_name": "LayoutModel",
          "model_module_version": "1.2.0",
          "state": {
            "_model_module": "@jupyter-widgets/base",
            "_model_module_version": "1.2.0",
            "_model_name": "LayoutModel",
            "_view_count": null,
            "_view_module": "@jupyter-widgets/base",
            "_view_module_version": "1.2.0",
            "_view_name": "LayoutView",
            "align_content": null,
            "align_items": null,
            "align_self": null,
            "border": null,
            "bottom": null,
            "display": null,
            "flex": null,
            "flex_flow": null,
            "grid_area": null,
            "grid_auto_columns": null,
            "grid_auto_flow": null,
            "grid_auto_rows": null,
            "grid_column": null,
            "grid_gap": null,
            "grid_row": null,
            "grid_template_areas": null,
            "grid_template_columns": null,
            "grid_template_rows": null,
            "height": null,
            "justify_content": null,
            "justify_items": null,
            "left": null,
            "margin": null,
            "max_height": null,
            "max_width": null,
            "min_height": null,
            "min_width": null,
            "object_fit": null,
            "object_position": null,
            "order": null,
            "overflow": null,
            "overflow_x": null,
            "overflow_y": null,
            "padding": null,
            "right": null,
            "top": null,
            "visibility": null,
            "width": null
          }
        },
        "027635856daa4258ba4bb27d2afc6e1e": {
          "model_module": "@jupyter-widgets/controls",
          "model_name": "DescriptionStyleModel",
          "model_module_version": "1.5.0",
          "state": {
            "_model_module": "@jupyter-widgets/controls",
            "_model_module_version": "1.5.0",
            "_model_name": "DescriptionStyleModel",
            "_view_count": null,
            "_view_module": "@jupyter-widgets/base",
            "_view_module_version": "1.2.0",
            "_view_name": "StyleView",
            "description_width": ""
          }
        }
      }
    }
  },
  "cells": [
    {
      "cell_type": "markdown",
      "source": [
        "Based On Arshia Azfal's Code:\n",
        "Based Arshia Azfal's code: Training the Vision Transformer model to classify the intended upperlimb movement using continuous wavelet features. Preprocessing of the data using Etienne Montalivet's MNEFilter."
      ],
      "metadata": {
        "id": "oQxn9KkCiZK0"
      }
    },
    {
      "cell_type": "code",
      "execution_count": null,
      "metadata": {
        "id": "m5MJnHN8kEzq"
      },
      "outputs": [],
      "source": [
        "!pip install -q PyWavelets torch_geometric lightning wandb mne"
      ]
    },
    {
      "cell_type": "code",
      "source": [
        "from google.colab import drive\n",
        "drive.mount('/content/drive')\n",
        "import torch\n",
        "import numpy as np\n",
        "import glob\n",
        "import os\n",
        "from tqdm import tqdm\n",
        "import csv\n",
        "import random\n",
        "import h5py\n",
        "import sys\n",
        "import pywt\n",
        "\n",
        "from torch.profiler import profile, record_function, ProfilerActivity\n",
        "\n",
        "import torch.nn.functional as F\n",
        "import scipy.io as sio\n",
        "\n",
        "from torch_geometric.nn import GCNConv\n",
        "from torch_geometric.nn import global_mean_pool\n",
        "from torch_geometric.nn import global_max_pool\n",
        "from torch_geometric.data import Data\n",
        "import lightning as L\n",
        "\n",
        "from torch_geometric.loader import DataLoader\n",
        "\n",
        "import torch.optim as optim\n",
        "from torch.optim.lr_scheduler import CosineAnnealingLR\n",
        "\n",
        "import wandb\n",
        "\n",
        "import matplotlib.pyplot as plt\n",
        "import time\n",
        "\n",
        "import torch.nn as nn\n",
        "import torch.nn.functional as F\n",
        "import torch.optim as optim\n",
        "import torch.utils.data as data\n",
        "\n",
        "from torchmetrics.classification import MulticlassF1Score"
      ],
      "metadata": {
        "colab": {
          "base_uri": "https://localhost:8080/"
        },
        "id": "K_iTx-SBkUYG",
        "outputId": "22a1bbda-beb9-4725-b740-04c2cf6b95ab"
      },
      "execution_count": null,
      "outputs": [
        {
          "output_type": "stream",
          "name": "stdout",
          "text": [
            "Mounted at /content/drive\n"
          ]
        }
      ]
    },
    {
      "cell_type": "code",
      "source": [
        "import sys\n",
        "sys.path.append('/content/drive/MyDrive/Colab Notebooks/INL')\n",
        "from transform import MNEFilter\n",
        "import mne"
      ],
      "metadata": {
        "id": "BvBnXatika20"
      },
      "execution_count": null,
      "outputs": []
    },
    {
      "cell_type": "code",
      "source": [
        "fs = 590 #Sampling frequency\n",
        "n_ecogs = 31 #number of ecog channels\n",
        "window_duration = 3 #seconds\n",
        "num_classes = 6"
      ],
      "metadata": {
        "id": "wYGUhNkwkoRL"
      },
      "execution_count": null,
      "outputs": []
    },
    {
      "cell_type": "code",
      "source": [
        "y = np.load('/content/drive/MyDrive/Colab Notebooks/INL/processed_data/label2.npy')\n",
        "X_train =  np.load('/content/drive/MyDrive/Colab Notebooks/INL/processed_data/X_train2.npy')\n",
        "\n",
        "\n",
        "y_test = np.load('/content/drive/MyDrive/Colab Notebooks/INL/processed_data/label_test.npy')\n",
        "X_test =  np.load('/content/drive/MyDrive/Colab Notebooks/INL/processed_data/X_test.npy')"
      ],
      "metadata": {
        "id": "QnB0RUEYmREJ"
      },
      "execution_count": null,
      "outputs": []
    },
    {
      "cell_type": "code",
      "source": [
        "X_train.shape"
      ],
      "metadata": {
        "colab": {
          "base_uri": "https://localhost:8080/"
        },
        "id": "2Cr9lFUyRIi-",
        "outputId": "cbf015b8-91ef-42a3-9745-ae1d1bf9a7d2"
      },
      "execution_count": null,
      "outputs": [
        {
          "output_type": "execute_result",
          "data": {
            "text/plain": [
              "(11730, 31, 1770)"
            ]
          },
          "metadata": {},
          "execution_count": 6
        }
      ]
    },
    {
      "cell_type": "code",
      "source": [
        "#Preprocess the data before reshaping for the Transformer\n",
        "sfreq=fs\n",
        "l_freq=1\n",
        "h_freq=200\n",
        "notch_freqs=[50, 100, 150, 200]\n",
        "apply_car=True\n",
        "\n",
        "mne_filter = MNEFilter(sfreq=sfreq, l_freq=l_freq, h_freq=h_freq, notch_freqs=notch_freqs, apply_car=apply_car)"
      ],
      "metadata": {
        "id": "r_eoGG3iQJPp"
      },
      "execution_count": null,
      "outputs": []
    },
    {
      "cell_type": "code",
      "source": [
        "\"\"\"\n",
        "filtered_data_train = []\n",
        "filtered_data_test = []\n",
        "\n",
        "mne.set_log_level(\"error\")\n",
        "for window in tqdm(X_train):\n",
        "  filtered_window = mne_filter(window)\n",
        "  filtered_data_train.append(filtered_window)\n",
        "\n",
        "for window in tqdm(X_test):\n",
        "  filtered_window = mne_filter(window)\n",
        "  filtered_data_test.append(filtered_window)\n",
        "\n",
        "\"\"\"\n",
        "#skip preprocessing\n",
        "filtered_data_train = X_train\n",
        "filtered_data_test = X_test"
      ],
      "metadata": {
        "id": "sfkr0oUuU1oJ"
      },
      "execution_count": null,
      "outputs": []
    },
    {
      "cell_type": "code",
      "source": [
        "print(len(filtered_data_train))\n",
        "print(len(filtered_data_test))"
      ],
      "metadata": {
        "colab": {
          "base_uri": "https://localhost:8080/"
        },
        "id": "8Z23D3L1i87m",
        "outputId": "fd854d05-7c14-4e72-9925-fac45bb76768"
      },
      "execution_count": null,
      "outputs": [
        {
          "output_type": "stream",
          "name": "stdout",
          "text": [
            "11730\n",
            "2237\n"
          ]
        }
      ]
    },
    {
      "cell_type": "code",
      "source": [
        "np.array(filtered_data_train).shape"
      ],
      "metadata": {
        "colab": {
          "base_uri": "https://localhost:8080/"
        },
        "id": "ZcF7EDtYqOl9",
        "outputId": "276975b6-be68-4f70-f3db-a370af607ff9"
      },
      "execution_count": null,
      "outputs": [
        {
          "output_type": "execute_result",
          "data": {
            "text/plain": [
              "(11730, 31, 1770)"
            ]
          },
          "metadata": {},
          "execution_count": 10
        }
      ]
    },
    {
      "cell_type": "code",
      "source": [
        "X_train = np.array(filtered_data_train).reshape(-1, n_ecogs * window_duration,fs)\n",
        "X_test = np.array(filtered_data_test).reshape(-1,n_ecogs * window_duration,fs)"
      ],
      "metadata": {
        "id": "BvbJKxUAp4FG"
      },
      "execution_count": null,
      "outputs": []
    },
    {
      "cell_type": "code",
      "source": [
        "dataset = []\n",
        "\n",
        "for idx in tqdm(range(X_train.shape[0])):\n",
        "    eeg_clip = X_train[idx,:,:]\n",
        "    label = y[idx]\n",
        "    if label == 7 or label == 4: #ignore label 7, which produces weird results\n",
        "        continue\n",
        "    if label >= 5:\n",
        "      label = label - 1 #Remap to remove wrist supination\n",
        "    dataset.append((torch.tensor(eeg_clip).float(), torch.tensor((label), dtype=torch.long)))\n",
        "\n",
        "random.shuffle(dataset)\n",
        "\n",
        "\n",
        "dataset_test = []\n",
        "\n",
        "for idx in tqdm(range(X_test.shape[0])):\n",
        "    eeg_clip = X_test[idx,:,:]\n",
        "    label = y_test[idx]\n",
        "    if label == 7 or label == 4: #ignore label 7\n",
        "        continue\n",
        "    if label >= 5:\n",
        "      label = label - 1 #Remap to remove wrist supination\n",
        "    dataset_test.append( ( torch.tensor(eeg_clip).float(), torch.tensor((label) , dtype=torch.long) ) )\n",
        "\n",
        "random.shuffle(dataset_test)"
      ],
      "metadata": {
        "colab": {
          "base_uri": "https://localhost:8080/"
        },
        "id": "wZ7eBBWzmWkk",
        "outputId": "eb71b3f3-2c20-4c24-84b1-2b306390f4ba"
      },
      "execution_count": null,
      "outputs": [
        {
          "output_type": "stream",
          "name": "stderr",
          "text": [
            "100%|██████████| 11730/11730 [00:04<00:00, 2704.18it/s]\n",
            "100%|██████████| 2237/2237 [00:00<00:00, 2617.54it/s]\n"
          ]
        }
      ]
    },
    {
      "cell_type": "code",
      "source": [
        "train_dataloader = DataLoader(dataset , batch_size = 8, num_workers = 7)\n",
        "test_dataloader = DataLoader(dataset_test , batch_size = 8)"
      ],
      "metadata": {
        "id": "As_2CFVjmXc8"
      },
      "execution_count": null,
      "outputs": []
    },
    {
      "cell_type": "code",
      "source": [
        "device = \"cpu\"#\"cuda\" if torch.cuda.is_available() else \"cpu\""
      ],
      "metadata": {
        "id": "snYLmgK-8XD6"
      },
      "execution_count": null,
      "outputs": []
    },
    {
      "cell_type": "code",
      "source": [
        "class AttentionBlock(nn.Module):\n",
        "    def __init__(self, embed_dim, hidden_dim, num_heads, dropout=0.0):\n",
        "        \"\"\"Attention Block.\n",
        "\n",
        "        Args:\n",
        "            embed_dim: Dimensionality of input and attention feature vectors\n",
        "            hidden_dim: Dimensionality of hidden layer in feed-forward network\n",
        "                         (usually 2-4x larger than embed_dim)\n",
        "            num_heads: Number of heads to use in the Multi-Head Attention block\n",
        "            dropout: Amount of dropout to apply in the feed-forward network\n",
        "        \"\"\"\n",
        "        super().__init__()\n",
        "\n",
        "\n",
        "        self.layer_norm_1 = nn.LayerNorm(embed_dim)\n",
        "        self.attn = nn.MultiheadAttention(embed_dim, num_heads)\n",
        "        self.layer_norm_2 = nn.LayerNorm(embed_dim)\n",
        "        self.linear = nn.Sequential(\n",
        "            nn.Linear(embed_dim, hidden_dim),\n",
        "            nn.GELU(),\n",
        "            nn.Dropout(dropout),\n",
        "            nn.Linear(hidden_dim, embed_dim),\n",
        "            nn.Dropout(dropout),\n",
        "        )\n",
        "\n",
        "    def forward(self, x):\n",
        "        inp_x = self.layer_norm_1(x)\n",
        "        x = x + self.attn(inp_x, inp_x, inp_x)[0]\n",
        "        x = x + self.linear(self.layer_norm_2(x))\n",
        "        return x\n",
        "\n",
        "\n",
        "\n",
        "class VisionTransformer(nn.Module):\n",
        "    def __init__(\n",
        "        self,\n",
        "        embed_dim,\n",
        "        hidden_dim,\n",
        "        num_t_pints,\n",
        "        num_heads,\n",
        "        num_layers,\n",
        "        num_classes,\n",
        "        num_patches,\n",
        "        num_scales,\n",
        "        dropout=0.0,\n",
        "        wavelet='morl',\n",
        "        device = 'cpu'\n",
        "    ):\n",
        "        \"\"\"Vision Transformer.\n",
        "\n",
        "        Args:\n",
        "            embed_dim: Dimensionality of the input feature vectors to the Transformer\n",
        "            hidden_dim: Dimensionality of the hidden layer in the feed-forward networks\n",
        "                         within the Transformer\n",
        "            num_channels: Number of channels of the input (3 for RGB)\n",
        "            num_heads: Number of heads to use in the Multi-Head Attention block\n",
        "            num_layers: Number of layers to use in the Transformer\n",
        "            num_classes: Number of classes to predict\n",
        "            patch_size: Number of pixels that the patches have per dimension\n",
        "            num_patches: Maximum number of patches an image can have\n",
        "            dropout: Amount of dropout to apply in the feed-forward network and\n",
        "                      on the input encoding\n",
        "        \"\"\"\n",
        "        super().__init__()\n",
        "\n",
        "        self.device = device\n",
        "\n",
        "        self.input_layer = nn.Linear(num_t_pints  , embed_dim)\n",
        "        self.transformer = nn.Sequential(\n",
        "            *(AttentionBlock(embed_dim, hidden_dim, num_heads, dropout=dropout) for _ in range(num_layers))\n",
        "        )\n",
        "        self.mlp_head = nn.Sequential(nn.LayerNorm(embed_dim), nn.Linear(embed_dim, num_classes))\n",
        "        self.dropout = nn.Dropout(dropout)\n",
        "\n",
        "        # Parameters/Embeddings\n",
        "        self.cls_token = nn.Parameter(torch.randn(1, 1, embed_dim))\n",
        "        self.pos_embedding = nn.Parameter(torch.randn(1, 1 + (num_patches * num_scales), embed_dim))\n",
        "        self.scales = np.arange(1, num_scales + 1)\n",
        "        self.num_patches = num_patches\n",
        "        self.num_scales = num_scales\n",
        "        self.num_t_pints = num_t_pints\n",
        "        self.wavelet = wavelet\n",
        "\n",
        "    def forward(self, x):\n",
        "        # Preprocess input\n",
        "        #x = torch.stack([torch.from_numpy(self.mne_filter(sample.cpu().numpy())) for sample in x])\n",
        "        #x = x.cuda().float()\n",
        "\n",
        "        #x = torch.log( torch.abs( torch.fft.fft(x , dim=-1) ) + 1e-10 )\n",
        "        #print(f\"Before wavelet transform: {x.shape}\")\n",
        "        wavelet_features = []\n",
        "        for batch in x:\n",
        "            batch_features = []\n",
        "            for channel in batch:\n",
        "                coefs, _ = pywt.cwt(channel.cpu().numpy(), self.scales, self.wavelet)\n",
        "\n",
        "                batch_features.append(torch.tensor(coefs, dtype=torch.float32).to(self.device))  # (n_scales, n_samples)\n",
        "            wavelet_features.append(torch.stack(batch_features))  # (n_channels, n_scales, n_samples)\n",
        "\n",
        "        wavelet_features = torch.stack(wavelet_features) # (batch_size, n_channels, n_scales, n_samples)\n",
        "        x = wavelet_features\n",
        "        x = x.view(-1, self.num_patches * self.num_scales, self.num_t_pints)\n",
        "\n",
        "        #print(f\"After wavelet transform: {x.shape}\")\n",
        "\n",
        "\n",
        "        #x = torch.cat( [torch.log(torch.abs( torch.fft.fft(x , dim=-1).imag[:,:,0:295]))  , torch.log(torch.abs(torch.fft.fft(x , dim=-1).real[:,:,0:295]) ) ] , dim=-1)\n",
        "\n",
        "        x = (x - x.mean(dim=-1 , keepdim=True) )/x.std(dim=-1 , keepdim=True)\n",
        "\n",
        "        B, T, _ = x.shape # B Batch, T Timepoints\n",
        "        x = self.input_layer(x)\n",
        "\n",
        "        # Add CLS token and positional encoding\n",
        "        cls_token = self.cls_token.repeat(B, 1, 1)\n",
        "        x = torch.cat([cls_token, x], dim=1)\n",
        "        x = x + self.pos_embedding[:, : T + 1]\n",
        "\n",
        "        # Apply Transforrmer\n",
        "        x = self.dropout(x)\n",
        "        x = x.transpose(0, 1)\n",
        "        x = self.transformer(x)\n",
        "\n",
        "        # Perform classification prediction\n",
        "        cls = x[0]\n",
        "        out = self.mlp_head(cls)\n",
        "        return out\n",
        "\n",
        "\n",
        "\n",
        "\n",
        "class ViT(L.LightningModule):\n",
        "    def __init__(self, model_kwargs):\n",
        "        super().__init__()\n",
        "\n",
        "        self.model = VisionTransformer(**model_kwargs)\n",
        "\n",
        "\n",
        "    def forward(self, x):\n",
        "        return self.model(x)\n",
        "\n",
        "    def configure_optimizers(self):\n",
        "\n",
        "        optimizer = optim.Adam(params=self.parameters(), lr = 1e-3)\n",
        "\n",
        "        scheduler = CosineAnnealingLR(optimizer, T_max = 50)\n",
        "\n",
        "        return [optimizer], [{\"scheduler\": scheduler, \"interval\": \"epoch\"}]\n",
        "\n",
        "\n",
        "    def training_step(self, batch, batch_idx):\n",
        "        imgs, labels = batch\n",
        "        preds = self.model(imgs)\n",
        "        loss = F.cross_entropy(preds, labels)\n",
        "\n",
        "        self.log(\"train_loss\", loss, on_step=True, on_epoch=True, prog_bar=True, logger=True)\n",
        "        #wandb.log({ \"Bridge-GPT-Loss\": loss})\n",
        "\n",
        "        return loss"
      ],
      "metadata": {
        "id": "ERtP6-ZNmdaM"
      },
      "execution_count": null,
      "outputs": []
    },
    {
      "cell_type": "code",
      "source": [
        "\"\"\"\n",
        "model_kwargs={\n",
        "        \"embed_dim\": 64,\n",
        "        \"hidden_dim\": 64,\n",
        "        \"num_heads\": 8,\n",
        "        \"num_layers\": 4,\n",
        "        \"num_t_pints\": 590,\n",
        "        \"num_patches\": 93,\n",
        "        \"num_classes\": 7,\n",
        "        \"num_scales\": 128,\n",
        "        \"dropout\": 0.2,\n",
        "    }\n",
        "\"\"\"\n",
        "\n",
        "model_kwargs={\n",
        "        \"embed_dim\": 16,\n",
        "        \"hidden_dim\": 32,\n",
        "        \"num_heads\": 4,\n",
        "        \"num_layers\": 4,\n",
        "        \"num_t_pints\": 590,\n",
        "        \"num_patches\": 93,\n",
        "        \"num_classes\": num_classes,\n",
        "        \"num_scales\": 8,\n",
        "        \"dropout\": 0.2,\n",
        "        \"wavelet\": \"morl\"\n",
        "        \"device\": device\n",
        "    }\n",
        "\n",
        "model = ViT(model_kwargs)"
      ],
      "metadata": {
        "id": "j8VK4gOxzZdf"
      },
      "execution_count": null,
      "outputs": []
    },
    {
      "cell_type": "code",
      "source": [
        "trainer = L.Trainer(max_epochs= 20, accelerator=\"cpu\") #trainer = L.Trainer(max_epochs= 50 , devices= 1, accelerator=\"cpu\")\n",
        "\n",
        "trainer.fit(model, train_dataloader)"
      ],
      "metadata": {
        "colab": {
          "base_uri": "https://localhost:8080/",
          "height": 527,
          "referenced_widgets": [
            "1f9dba8cb5744c04ba358a45569fa4c6",
            "3d7e812dbea245c9b1380dd3fdd842c6",
            "7d0e90b8a1ad4f83b566bb4f34097eff",
            "7391931c74624cddafd7f161e0a29977",
            "ed84cc6488e14c5bb236fc960be0b4f9",
            "b2e64d55819a4bd0bbd1cf1b9cdba73d",
            "5da15c428155437281b33d65ac9585b4",
            "a81428c63e6647d6865baf261ccc2c71",
            "2770b7709cd4402ea873c23dadcf7089",
            "a8b440948fc54ccdb541106215d4888e",
            "027635856daa4258ba4bb27d2afc6e1e"
          ]
        },
        "id": "Ee1z_dG1zdHK",
        "outputId": "28340dfa-1d7a-44f0-df65-b8f6cfa45e5b"
      },
      "execution_count": null,
      "outputs": [
        {
          "output_type": "stream",
          "name": "stderr",
          "text": [
            "INFO:pytorch_lightning.utilities.rank_zero:GPU available: False, used: False\n",
            "INFO:pytorch_lightning.utilities.rank_zero:TPU available: False, using: 0 TPU cores\n",
            "INFO:pytorch_lightning.utilities.rank_zero:HPU available: False, using: 0 HPUs\n",
            "INFO: \n",
            "  | Name  | Type              | Params | Mode \n",
            "----------------------------------------------------\n",
            "0 | model | VisionTransformer | 30.4 K | train\n",
            "----------------------------------------------------\n",
            "30.4 K    Trainable params\n",
            "0         Non-trainable params\n",
            "30.4 K    Total params\n",
            "0.122     Total estimated model params size (MB)\n",
            "51        Modules in train mode\n",
            "0         Modules in eval mode\n",
            "INFO:lightning.pytorch.callbacks.model_summary:\n",
            "  | Name  | Type              | Params | Mode \n",
            "----------------------------------------------------\n",
            "0 | model | VisionTransformer | 30.4 K | train\n",
            "----------------------------------------------------\n",
            "30.4 K    Trainable params\n",
            "0         Non-trainable params\n",
            "30.4 K    Total params\n",
            "0.122     Total estimated model params size (MB)\n",
            "51        Modules in train mode\n",
            "0         Modules in eval mode\n"
          ]
        },
        {
          "output_type": "display_data",
          "data": {
            "text/plain": [
              "Training: |          | 0/? [00:00<?, ?it/s]"
            ],
            "application/vnd.jupyter.widget-view+json": {
              "version_major": 2,
              "version_minor": 0,
              "model_id": "1f9dba8cb5744c04ba358a45569fa4c6"
            }
          },
          "metadata": {}
        },
        {
          "output_type": "stream",
          "name": "stderr",
          "text": [
            "INFO:pytorch_lightning.utilities.rank_zero:`Trainer.fit` stopped: `max_epochs=20` reached.\n"
          ]
        }
      ]
    },
    {
      "cell_type": "code",
      "source": [
        "import matplotlib.pyplot as plt\n",
        "\n",
        "# Extract training loss history from `trainer` logs\n",
        "train_losses = trainer.callback_metrics.get('train_loss_epoch', [])\n",
        "\n",
        "# Plot the loss\n",
        "plt.plot(train_losses)\n",
        "plt.xlabel(\"Epoch\")\n",
        "plt.ylabel(\"Training Loss\")\n",
        "plt.title(\"Training Loss Over Epochs\")\n",
        "plt.show()"
      ],
      "metadata": {
        "colab": {
          "base_uri": "https://localhost:8080/",
          "height": 472
        },
        "id": "kr6od47PvEUB",
        "outputId": "4b0a1cbb-8c6d-4274-a5fb-dab64aedb025"
      },
      "execution_count": null,
      "outputs": [
        {
          "output_type": "display_data",
          "data": {
            "text/plain": [
              "<Figure size 640x480 with 1 Axes>"
            ],
            "image/png": "[encoded data removed]"
          },
          "metadata": {}
        }
      ]
    },
    {
      "cell_type": "code",
      "source": [
        "import pytorch_lightning\n",
        "\n",
        "torch.seed()\n",
        "np.random.seed(120)\n",
        "random.seed(123)\n",
        "pytorch_lightning.utilities.seed\n",
        "\n",
        "model.to(device)\n",
        "l = [] #labels\n",
        "gt = [] #ground thruth\n",
        "\n",
        "for data in (tqdm(test_dataloader)):\n",
        "\n",
        "    out = model(data[0].to(device))\n",
        "\n",
        "    l.extend(out.to('cpu').detach().numpy())\n",
        "\n",
        "    gt.extend(( data[1].type(torch.float32).reshape(-1,1).to('cpu') ).detach().numpy())"
      ],
      "metadata": {
        "id": "MWGO50tyzfAF",
        "colab": {
          "base_uri": "https://localhost:8080/"
        },
        "outputId": "b6c5ad1a-2ee1-4fa1-da41-cd610b308461"
      },
      "execution_count": null,
      "outputs": [
        {
          "output_type": "stream",
          "name": "stderr",
          "text": [
            "\n",
            "  0%|          | 0/278 [00:00<?, ?it/s]\u001b[A\n",
            "  0%|          | 1/278 [00:00<03:17,  1.40it/s]\u001b[A\n",
            "  1%|          | 2/278 [00:01<03:17,  1.40it/s]\u001b[A\n",
            "  1%|          | 3/278 [00:02<03:04,  1.49it/s]\u001b[A\n",
            "  1%|▏         | 4/278 [00:02<02:57,  1.55it/s]\u001b[A\n",
            "  2%|▏         | 5/278 [00:03<02:55,  1.55it/s]\u001b[A\n",
            "  2%|▏         | 6/278 [00:03<02:54,  1.56it/s]\u001b[A\n",
            "  3%|▎         | 7/278 [00:04<02:51,  1.58it/s]\u001b[A\n",
            "  3%|▎         | 8/278 [00:05<02:52,  1.57it/s]\u001b[A\n",
            "  3%|▎         | 9/278 [00:05<02:58,  1.51it/s]\u001b[A\n",
            "  4%|▎         | 10/278 [00:06<03:01,  1.48it/s]\u001b[A\n",
            "  4%|▍         | 11/278 [00:07<02:59,  1.49it/s]\u001b[A\n",
            "  4%|▍         | 12/278 [00:07<03:00,  1.47it/s]\u001b[A\n",
            "  5%|▍         | 13/278 [00:08<03:03,  1.45it/s]\u001b[A\n",
            "  5%|▌         | 14/278 [00:09<03:00,  1.47it/s]\u001b[A\n",
            "  5%|▌         | 15/278 [00:10<02:56,  1.49it/s]\u001b[A\n",
            "  6%|▌         | 16/278 [00:10<02:53,  1.51it/s]\u001b[A\n",
            "  6%|▌         | 17/278 [00:11<02:52,  1.51it/s]\u001b[A\n",
            "  6%|▋         | 18/278 [00:11<02:53,  1.50it/s]\u001b[A\n",
            "  7%|▋         | 19/278 [00:12<02:53,  1.50it/s]\u001b[A\n",
            "  7%|▋         | 20/278 [00:13<02:50,  1.52it/s]\u001b[A\n",
            "  8%|▊         | 21/278 [00:13<02:47,  1.53it/s]\u001b[A\n",
            "  8%|▊         | 22/278 [00:14<02:46,  1.54it/s]\u001b[A\n",
            "  8%|▊         | 23/278 [00:15<02:44,  1.55it/s]\u001b[A\n",
            "  9%|▊         | 24/278 [00:15<02:43,  1.55it/s]\u001b[A\n",
            "  9%|▉         | 25/278 [00:16<02:42,  1.55it/s]\u001b[A\n",
            "  9%|▉         | 26/278 [00:17<02:40,  1.57it/s]\u001b[A\n",
            " 10%|▉         | 27/278 [00:17<02:37,  1.59it/s]\u001b[A\n",
            " 10%|█         | 28/278 [00:18<02:35,  1.61it/s]\u001b[A\n",
            " 10%|█         | 29/278 [00:18<02:35,  1.60it/s]\u001b[A\n",
            " 11%|█         | 30/278 [00:19<02:39,  1.56it/s]\u001b[A\n",
            " 11%|█         | 31/278 [00:20<02:41,  1.52it/s]\u001b[A\n",
            " 12%|█▏        | 32/278 [00:21<02:44,  1.50it/s]\u001b[A\n",
            " 12%|█▏        | 33/278 [00:21<02:42,  1.51it/s]\u001b[A\n",
            " 12%|█▏        | 34/278 [00:22<02:38,  1.54it/s]\u001b[A\n",
            " 13%|█▎        | 35/278 [00:22<02:36,  1.55it/s]\u001b[A\n",
            " 13%|█▎        | 36/278 [00:23<02:34,  1.57it/s]\u001b[A\n",
            " 13%|█▎        | 37/278 [00:24<02:33,  1.57it/s]\u001b[A\n",
            " 14%|█▎        | 38/278 [00:24<02:32,  1.58it/s]\u001b[A\n",
            " 14%|█▍        | 39/278 [00:25<02:30,  1.59it/s]\u001b[A\n",
            " 14%|█▍        | 40/278 [00:26<02:29,  1.60it/s]\u001b[A\n",
            " 15%|█▍        | 41/278 [00:26<02:28,  1.59it/s]\u001b[A\n",
            " 15%|█▌        | 42/278 [00:27<02:27,  1.60it/s]\u001b[A\n",
            " 15%|█▌        | 43/278 [00:27<02:27,  1.60it/s]\u001b[A\n",
            " 16%|█▌        | 44/278 [00:28<02:25,  1.60it/s]\u001b[A\n",
            " 16%|█▌        | 45/278 [00:29<02:24,  1.62it/s]\u001b[A\n",
            " 17%|█▋        | 46/278 [00:29<02:23,  1.62it/s]\u001b[A\n",
            " 17%|█▋        | 47/278 [00:30<02:22,  1.62it/s]\u001b[A\n",
            " 17%|█▋        | 48/278 [00:31<02:22,  1.61it/s]\u001b[A\n",
            " 18%|█▊        | 49/278 [00:31<02:26,  1.56it/s]\u001b[A\n",
            " 18%|█▊        | 50/278 [00:32<02:28,  1.54it/s]\u001b[A\n",
            " 18%|█▊        | 51/278 [00:33<02:26,  1.55it/s]\u001b[A\n",
            " 19%|█▊        | 52/278 [00:33<02:25,  1.55it/s]\u001b[A\n",
            " 19%|█▉        | 53/278 [00:34<02:23,  1.56it/s]\u001b[A\n",
            " 19%|█▉        | 54/278 [00:34<02:21,  1.58it/s]\u001b[A\n",
            " 20%|█▉        | 55/278 [00:35<02:19,  1.60it/s]\u001b[A\n",
            " 20%|██        | 56/278 [00:36<02:19,  1.60it/s]\u001b[A\n",
            " 21%|██        | 57/278 [00:36<02:18,  1.60it/s]\u001b[A\n",
            " 21%|██        | 58/278 [00:37<02:16,  1.62it/s]\u001b[A\n",
            " 21%|██        | 59/278 [00:37<02:15,  1.62it/s]\u001b[A\n",
            " 22%|██▏       | 60/278 [00:38<02:13,  1.63it/s]\u001b[A\n",
            " 22%|██▏       | 61/278 [00:39<02:13,  1.63it/s]\u001b[A\n",
            " 22%|██▏       | 62/278 [00:39<02:14,  1.61it/s]\u001b[A\n",
            " 23%|██▎       | 63/278 [00:40<02:13,  1.61it/s]\u001b[A\n",
            " 23%|██▎       | 64/278 [00:41<02:11,  1.62it/s]\u001b[A\n",
            " 23%|██▎       | 65/278 [00:41<02:13,  1.59it/s]\u001b[A\n",
            " 24%|██▎       | 66/278 [00:42<02:11,  1.61it/s]\u001b[A\n",
            " 24%|██▍       | 67/278 [00:42<02:12,  1.59it/s]\u001b[A\n",
            " 24%|██▍       | 68/278 [00:43<02:15,  1.55it/s]\u001b[A\n",
            " 25%|██▍       | 69/278 [00:44<02:16,  1.53it/s]\u001b[A\n",
            " 25%|██▌       | 70/278 [00:44<02:14,  1.55it/s]\u001b[A\n",
            " 26%|██▌       | 71/278 [00:45<02:12,  1.57it/s]\u001b[A\n",
            " 26%|██▌       | 72/278 [00:46<02:10,  1.58it/s]\u001b[A\n",
            " 26%|██▋       | 73/278 [00:46<02:08,  1.59it/s]\u001b[A\n",
            " 27%|██▋       | 74/278 [00:47<02:06,  1.61it/s]\u001b[A\n",
            " 27%|██▋       | 75/278 [00:48<02:04,  1.63it/s]\u001b[A\n",
            " 27%|██▋       | 76/278 [00:48<02:04,  1.62it/s]\u001b[A\n",
            " 28%|██▊       | 77/278 [00:49<02:03,  1.63it/s]\u001b[A\n",
            " 28%|██▊       | 78/278 [00:49<02:03,  1.62it/s]\u001b[A\n",
            " 28%|██▊       | 79/278 [00:50<02:02,  1.63it/s]\u001b[A\n",
            " 29%|██▉       | 80/278 [00:51<02:02,  1.61it/s]\u001b[A\n",
            " 29%|██▉       | 81/278 [00:51<02:01,  1.61it/s]\u001b[A\n",
            " 29%|██▉       | 82/278 [00:52<02:01,  1.62it/s]\u001b[A\n",
            " 30%|██▉       | 83/278 [00:52<02:01,  1.61it/s]\u001b[A\n",
            " 30%|███       | 84/278 [00:53<01:59,  1.62it/s]\u001b[A\n",
            " 31%|███       | 85/278 [00:54<01:58,  1.63it/s]\u001b[A\n",
            " 31%|███       | 86/278 [00:54<02:01,  1.58it/s]\u001b[A\n",
            " 31%|███▏      | 87/278 [00:55<02:03,  1.55it/s]\u001b[A\n",
            " 32%|███▏      | 88/278 [00:56<02:05,  1.51it/s]\u001b[A\n",
            " 32%|███▏      | 89/278 [00:56<02:02,  1.54it/s]\u001b[A\n",
            " 32%|███▏      | 90/278 [00:57<01:59,  1.57it/s]\u001b[A\n",
            " 33%|███▎      | 91/278 [00:58<01:57,  1.59it/s]\u001b[A\n",
            " 33%|███▎      | 92/278 [00:58<01:56,  1.59it/s]\u001b[A\n",
            " 33%|███▎      | 93/278 [00:59<01:56,  1.58it/s]\u001b[A\n",
            " 34%|███▍      | 94/278 [00:59<01:57,  1.57it/s]\u001b[A\n",
            " 34%|███▍      | 95/278 [01:00<01:56,  1.58it/s]\u001b[A\n",
            " 35%|███▍      | 96/278 [01:01<01:55,  1.58it/s]\u001b[A\n",
            " 35%|███▍      | 97/278 [01:01<01:55,  1.57it/s]\u001b[A\n",
            " 35%|███▌      | 98/278 [01:02<01:54,  1.57it/s]\u001b[A\n",
            " 36%|███▌      | 99/278 [01:03<01:54,  1.57it/s]\u001b[A\n",
            " 36%|███▌      | 100/278 [01:03<01:54,  1.55it/s]\u001b[A\n",
            " 36%|███▋      | 101/278 [01:04<01:54,  1.55it/s]\u001b[A\n",
            " 37%|███▋      | 102/278 [01:05<01:52,  1.56it/s]\u001b[A\n",
            " 37%|███▋      | 103/278 [01:05<01:51,  1.57it/s]\u001b[A\n",
            " 37%|███▋      | 104/278 [01:06<01:52,  1.55it/s]\u001b[A\n",
            " 38%|███▊      | 105/278 [01:07<01:52,  1.54it/s]\u001b[A\n",
            " 38%|███▊      | 106/278 [01:07<01:52,  1.53it/s]\u001b[A\n",
            " 38%|███▊      | 107/278 [01:08<01:50,  1.55it/s]\u001b[A\n",
            " 39%|███▉      | 108/278 [01:08<01:48,  1.57it/s]\u001b[A\n",
            " 39%|███▉      | 109/278 [01:09<01:49,  1.55it/s]\u001b[A\n",
            " 40%|███▉      | 110/278 [01:10<01:48,  1.54it/s]\u001b[A\n",
            " 40%|███▉      | 111/278 [01:10<01:47,  1.55it/s]\u001b[A\n",
            " 40%|████      | 112/278 [01:11<01:50,  1.51it/s]\u001b[A\n",
            " 41%|████      | 113/278 [01:12<01:48,  1.53it/s]\u001b[A\n",
            " 41%|████      | 114/278 [01:12<01:48,  1.51it/s]\u001b[A\n",
            " 41%|████▏     | 115/278 [01:13<01:47,  1.52it/s]\u001b[A\n",
            " 42%|████▏     | 116/278 [01:14<01:46,  1.52it/s]\u001b[A\n",
            " 42%|████▏     | 117/278 [01:14<01:45,  1.53it/s]\u001b[A\n",
            " 42%|████▏     | 118/278 [01:15<01:42,  1.56it/s]\u001b[A\n",
            " 43%|████▎     | 119/278 [01:16<01:41,  1.56it/s]\u001b[A\n",
            " 43%|████▎     | 120/278 [01:16<01:40,  1.57it/s]\u001b[A\n",
            " 44%|████▎     | 121/278 [01:17<01:39,  1.58it/s]\u001b[A\n",
            " 44%|████▍     | 122/278 [01:18<01:41,  1.54it/s]\u001b[A\n",
            " 44%|████▍     | 123/278 [01:18<01:42,  1.51it/s]\u001b[A\n",
            " 45%|████▍     | 124/278 [01:19<01:43,  1.49it/s]\u001b[A\n",
            " 45%|████▍     | 125/278 [01:20<01:41,  1.51it/s]\u001b[A\n",
            " 45%|████▌     | 126/278 [01:20<01:39,  1.52it/s]\u001b[A\n",
            " 46%|████▌     | 127/278 [01:21<01:39,  1.52it/s]\u001b[A\n",
            " 46%|████▌     | 128/278 [01:22<01:38,  1.53it/s]\u001b[A\n",
            " 46%|████▋     | 129/278 [01:22<01:36,  1.55it/s]\u001b[A\n",
            " 47%|████▋     | 130/278 [01:23<01:34,  1.56it/s]\u001b[A\n",
            " 47%|████▋     | 131/278 [01:23<01:32,  1.58it/s]\u001b[A\n",
            " 47%|████▋     | 132/278 [01:24<01:31,  1.59it/s]\u001b[A\n",
            " 48%|████▊     | 133/278 [01:25<01:30,  1.59it/s]\u001b[A\n",
            " 48%|████▊     | 134/278 [01:25<01:29,  1.61it/s]\u001b[A\n",
            " 49%|████▊     | 135/278 [01:26<01:29,  1.60it/s]\u001b[A\n",
            " 49%|████▉     | 136/278 [01:27<01:28,  1.60it/s]\u001b[A\n",
            " 49%|████▉     | 137/278 [01:27<01:27,  1.61it/s]\u001b[A\n",
            " 50%|████▉     | 138/278 [01:28<01:26,  1.62it/s]\u001b[A\n",
            " 50%|█████     | 139/278 [01:28<01:25,  1.62it/s]\u001b[A\n",
            " 50%|█████     | 140/278 [01:29<01:24,  1.62it/s]\u001b[A\n",
            " 51%|█████     | 141/278 [01:30<01:27,  1.57it/s]\u001b[A\n",
            " 51%|█████     | 142/278 [01:30<01:27,  1.55it/s]\u001b[A\n",
            " 51%|█████▏    | 143/278 [01:31<01:26,  1.56it/s]\u001b[A\n",
            " 52%|█████▏    | 144/278 [01:32<01:24,  1.58it/s]\u001b[A\n",
            " 52%|█████▏    | 145/278 [01:32<01:23,  1.59it/s]\u001b[A\n",
            " 53%|█████▎    | 146/278 [01:33<01:22,  1.59it/s]\u001b[A\n",
            " 53%|█████▎    | 147/278 [01:33<01:22,  1.59it/s]\u001b[A\n",
            " 53%|█████▎    | 148/278 [01:34<01:21,  1.59it/s]\u001b[A\n",
            " 54%|█████▎    | 149/278 [01:35<01:21,  1.58it/s]\u001b[A\n",
            " 54%|█████▍    | 150/278 [01:35<01:21,  1.57it/s]\u001b[A\n",
            " 54%|█████▍    | 151/278 [01:36<01:22,  1.55it/s]\u001b[A\n",
            " 55%|█████▍    | 152/278 [01:37<01:21,  1.55it/s]\u001b[A\n",
            " 55%|█████▌    | 153/278 [01:37<01:20,  1.56it/s]\u001b[A\n",
            " 55%|█████▌    | 154/278 [01:38<01:18,  1.58it/s]\u001b[A\n",
            " 56%|█████▌    | 155/278 [01:39<01:17,  1.58it/s]\u001b[A\n",
            " 56%|█████▌    | 156/278 [01:39<01:18,  1.55it/s]\u001b[A\n",
            " 56%|█████▋    | 157/278 [01:40<01:18,  1.55it/s]\u001b[A\n",
            " 57%|█████▋    | 158/278 [01:41<01:17,  1.55it/s]\u001b[A\n",
            " 57%|█████▋    | 159/278 [01:41<01:18,  1.51it/s]\u001b[A\n",
            " 58%|█████▊    | 160/278 [01:42<01:18,  1.50it/s]\u001b[A\n",
            " 58%|█████▊    | 161/278 [01:43<01:16,  1.52it/s]\u001b[A\n",
            " 58%|█████▊    | 162/278 [01:43<01:14,  1.55it/s]\u001b[A\n",
            " 59%|█████▊    | 163/278 [01:44<01:13,  1.57it/s]\u001b[A\n",
            " 59%|█████▉    | 164/278 [01:44<01:11,  1.59it/s]\u001b[A\n",
            " 59%|█████▉    | 165/278 [01:45<01:10,  1.59it/s]\u001b[A\n",
            " 60%|█████▉    | 166/278 [01:46<01:11,  1.57it/s]\u001b[A\n",
            " 60%|██████    | 167/278 [01:46<01:11,  1.56it/s]\u001b[A\n",
            " 60%|██████    | 168/278 [01:47<01:10,  1.56it/s]\u001b[A\n",
            " 61%|██████    | 169/278 [01:48<01:09,  1.56it/s]\u001b[A\n",
            " 61%|██████    | 170/278 [01:48<01:10,  1.53it/s]\u001b[A\n",
            " 62%|██████▏   | 171/278 [01:49<01:10,  1.53it/s]\u001b[A\n",
            " 62%|██████▏   | 172/278 [01:50<01:09,  1.53it/s]\u001b[A\n",
            " 62%|██████▏   | 173/278 [01:50<01:08,  1.53it/s]\u001b[A\n",
            " 63%|██████▎   | 174/278 [01:51<01:08,  1.51it/s]\u001b[A\n",
            " 63%|██████▎   | 175/278 [01:52<01:08,  1.51it/s]\u001b[A\n",
            " 63%|██████▎   | 176/278 [01:52<01:07,  1.52it/s]\u001b[A\n",
            " 64%|██████▎   | 177/278 [01:53<01:06,  1.51it/s]\u001b[A\n",
            " 64%|██████▍   | 178/278 [01:54<01:07,  1.48it/s]\u001b[A\n",
            " 64%|██████▍   | 179/278 [01:54<01:05,  1.50it/s]\u001b[A\n",
            " 65%|██████▍   | 180/278 [01:55<01:03,  1.53it/s]\u001b[A\n",
            " 65%|██████▌   | 181/278 [01:56<01:02,  1.56it/s]\u001b[A\n",
            " 65%|██████▌   | 182/278 [01:56<01:01,  1.57it/s]\u001b[A\n",
            " 66%|██████▌   | 183/278 [01:57<01:00,  1.57it/s]\u001b[A\n",
            " 66%|██████▌   | 184/278 [01:57<00:59,  1.58it/s]\u001b[A\n",
            " 67%|██████▋   | 185/278 [01:58<01:00,  1.54it/s]\u001b[A\n",
            " 67%|██████▋   | 186/278 [01:59<00:59,  1.54it/s]\u001b[A\n",
            " 67%|██████▋   | 187/278 [01:59<00:59,  1.54it/s]\u001b[A\n",
            " 68%|██████▊   | 188/278 [02:00<00:57,  1.56it/s]\u001b[A\n",
            " 68%|██████▊   | 189/278 [02:01<00:56,  1.57it/s]\u001b[A\n",
            " 68%|██████▊   | 190/278 [02:01<00:56,  1.56it/s]\u001b[A\n",
            " 69%|██████▊   | 191/278 [02:02<00:55,  1.57it/s]\u001b[A\n",
            " 69%|██████▉   | 192/278 [02:03<00:54,  1.57it/s]\u001b[A\n",
            " 69%|██████▉   | 193/278 [02:03<00:54,  1.57it/s]\u001b[A\n",
            " 70%|██████▉   | 194/278 [02:04<00:54,  1.55it/s]\u001b[A\n",
            " 70%|███████   | 195/278 [02:05<00:54,  1.51it/s]\u001b[A\n",
            " 71%|███████   | 196/278 [02:05<00:55,  1.47it/s]\u001b[A\n",
            " 71%|███████   | 197/278 [02:06<00:56,  1.43it/s]\u001b[A\n",
            " 71%|███████   | 198/278 [02:07<00:54,  1.45it/s]\u001b[A\n",
            " 72%|███████▏  | 199/278 [02:07<00:53,  1.49it/s]\u001b[A\n",
            " 72%|███████▏  | 200/278 [02:08<00:51,  1.50it/s]\u001b[A\n",
            " 72%|███████▏  | 201/278 [02:09<00:50,  1.52it/s]\u001b[A\n",
            " 73%|███████▎  | 202/278 [02:09<00:50,  1.52it/s]\u001b[A\n",
            " 73%|███████▎  | 203/278 [02:10<00:48,  1.53it/s]\u001b[A\n",
            " 73%|███████▎  | 204/278 [02:11<00:47,  1.56it/s]\u001b[A\n",
            " 74%|███████▎  | 205/278 [02:11<00:46,  1.56it/s]\u001b[A\n",
            " 74%|███████▍  | 206/278 [02:12<00:45,  1.57it/s]\u001b[A\n",
            " 74%|███████▍  | 207/278 [02:12<00:44,  1.58it/s]\u001b[A\n",
            " 75%|███████▍  | 208/278 [02:13<00:44,  1.59it/s]\u001b[A\n",
            " 75%|███████▌  | 209/278 [02:14<00:43,  1.60it/s]\u001b[A\n",
            " 76%|███████▌  | 210/278 [02:14<00:42,  1.59it/s]\u001b[A\n",
            " 76%|███████▌  | 211/278 [02:15<00:41,  1.60it/s]\u001b[A\n",
            " 76%|███████▋  | 212/278 [02:16<00:41,  1.59it/s]\u001b[A\n",
            " 77%|███████▋  | 213/278 [02:16<00:42,  1.53it/s]\u001b[A\n",
            " 77%|███████▋  | 214/278 [02:17<00:42,  1.52it/s]\u001b[A\n",
            " 77%|███████▋  | 215/278 [02:18<00:41,  1.53it/s]\u001b[A\n",
            " 78%|███████▊  | 216/278 [02:18<00:39,  1.56it/s]\u001b[A\n",
            " 78%|███████▊  | 217/278 [02:19<00:38,  1.58it/s]\u001b[A\n",
            " 78%|███████▊  | 218/278 [02:19<00:37,  1.59it/s]\u001b[A\n",
            " 79%|███████▉  | 219/278 [02:20<00:36,  1.60it/s]\u001b[A\n",
            " 79%|███████▉  | 220/278 [02:21<00:36,  1.59it/s]\u001b[A\n",
            " 79%|███████▉  | 221/278 [02:21<00:35,  1.59it/s]\u001b[A\n",
            " 80%|███████▉  | 222/278 [02:22<00:35,  1.59it/s]\u001b[A\n",
            " 80%|████████  | 223/278 [02:23<00:34,  1.60it/s]\u001b[A\n",
            " 81%|████████  | 224/278 [02:23<00:33,  1.60it/s]\u001b[A\n",
            " 81%|████████  | 225/278 [02:24<00:33,  1.60it/s]\u001b[A\n",
            " 81%|████████▏ | 226/278 [02:24<00:32,  1.60it/s]\u001b[A\n",
            " 82%|████████▏ | 227/278 [02:25<00:31,  1.61it/s]\u001b[A\n",
            " 82%|████████▏ | 228/278 [02:26<00:30,  1.61it/s]\u001b[A\n",
            " 82%|████████▏ | 229/278 [02:26<00:30,  1.61it/s]\u001b[A\n",
            " 83%|████████▎ | 230/278 [02:27<00:29,  1.61it/s]\u001b[A\n",
            " 83%|████████▎ | 231/278 [02:27<00:29,  1.61it/s]\u001b[A\n",
            " 83%|████████▎ | 232/278 [02:28<00:29,  1.56it/s]\u001b[A\n",
            " 84%|████████▍ | 233/278 [02:29<00:29,  1.54it/s]\u001b[A\n",
            " 84%|████████▍ | 234/278 [02:29<00:28,  1.56it/s]\u001b[A\n",
            " 85%|████████▍ | 235/278 [02:30<00:27,  1.58it/s]\u001b[A\n",
            " 85%|████████▍ | 236/278 [02:31<00:26,  1.58it/s]\u001b[A\n",
            " 85%|████████▌ | 237/278 [02:31<00:26,  1.57it/s]\u001b[A\n",
            " 86%|████████▌ | 238/278 [02:32<00:25,  1.58it/s]\u001b[A\n",
            " 86%|████████▌ | 239/278 [02:33<00:24,  1.59it/s]\u001b[A\n",
            " 86%|████████▋ | 240/278 [02:33<00:24,  1.57it/s]\u001b[A\n",
            " 87%|████████▋ | 241/278 [02:34<00:23,  1.58it/s]\u001b[A\n",
            " 87%|████████▋ | 242/278 [02:35<00:22,  1.58it/s]\u001b[A\n",
            " 87%|████████▋ | 243/278 [02:35<00:22,  1.59it/s]\u001b[A\n",
            " 88%|████████▊ | 244/278 [02:36<00:21,  1.56it/s]\u001b[A\n",
            " 88%|████████▊ | 245/278 [02:36<00:21,  1.56it/s]\u001b[A\n",
            " 88%|████████▊ | 246/278 [02:37<00:20,  1.56it/s]\u001b[A\n",
            " 89%|████████▉ | 247/278 [02:38<00:19,  1.57it/s]\u001b[A\n",
            " 89%|████████▉ | 248/278 [02:38<00:19,  1.57it/s]\u001b[A\n",
            " 90%|████████▉ | 249/278 [02:39<00:18,  1.57it/s]\u001b[A\n",
            " 90%|████████▉ | 250/278 [02:40<00:18,  1.52it/s]\u001b[A\n",
            " 90%|█████████ | 251/278 [02:40<00:17,  1.50it/s]\u001b[A\n",
            " 91%|█████████ | 252/278 [02:41<00:17,  1.49it/s]\u001b[A\n",
            " 91%|█████████ | 253/278 [02:42<00:16,  1.53it/s]\u001b[A\n",
            " 91%|█████████▏| 254/278 [02:42<00:15,  1.56it/s]\u001b[A\n",
            " 92%|█████████▏| 255/278 [02:43<00:14,  1.57it/s]\u001b[A\n",
            " 92%|█████████▏| 256/278 [02:44<00:13,  1.57it/s]\u001b[A\n",
            " 92%|█████████▏| 257/278 [02:44<00:13,  1.59it/s]\u001b[A\n",
            " 93%|█████████▎| 258/278 [02:45<00:12,  1.60it/s]\u001b[A\n",
            " 93%|█████████▎| 259/278 [02:45<00:11,  1.61it/s]\u001b[A\n",
            " 94%|█████████▎| 260/278 [02:46<00:11,  1.59it/s]\u001b[A\n",
            " 94%|█████████▍| 261/278 [02:47<00:10,  1.59it/s]\u001b[A\n",
            " 94%|█████████▍| 262/278 [02:47<00:10,  1.59it/s]\u001b[A\n",
            " 95%|█████████▍| 263/278 [02:48<00:09,  1.59it/s]\u001b[A\n",
            " 95%|█████████▍| 264/278 [02:49<00:08,  1.59it/s]\u001b[A\n",
            " 95%|█████████▌| 265/278 [02:49<00:08,  1.58it/s]\u001b[A\n",
            " 96%|█████████▌| 266/278 [02:50<00:07,  1.60it/s]\u001b[A\n",
            " 96%|█████████▌| 267/278 [02:50<00:06,  1.61it/s]\u001b[A\n",
            " 96%|█████████▋| 268/278 [02:51<00:06,  1.56it/s]\u001b[A\n",
            " 97%|█████████▋| 269/278 [02:52<00:05,  1.56it/s]\u001b[A\n",
            " 97%|█████████▋| 270/278 [02:52<00:05,  1.54it/s]\u001b[A\n",
            " 97%|█████████▋| 271/278 [02:53<00:04,  1.57it/s]\u001b[A\n",
            " 98%|█████████▊| 272/278 [02:54<00:03,  1.59it/s]\u001b[A\n",
            " 98%|█████████▊| 273/278 [02:54<00:03,  1.61it/s]\u001b[A\n",
            " 99%|█████████▊| 274/278 [02:55<00:02,  1.63it/s]\u001b[A\n",
            " 99%|█████████▉| 275/278 [02:55<00:01,  1.63it/s]\u001b[A\n",
            " 99%|█████████▉| 276/278 [02:56<00:01,  1.64it/s]\u001b[A\n",
            "100%|█████████▉| 277/278 [02:57<00:00,  1.64it/s]\u001b[A\n",
            "100%|██████████| 278/278 [02:57<00:00,  1.57it/s]\n"
          ]
        }
      ]
    },
    {
      "cell_type": "code",
      "source": [
        "from torchmetrics.classification import MulticlassConfusionMatrix\n",
        "\n",
        "target = torch.tensor( np.array(gt).reshape(-1,) )\n",
        "label =   torch.squeeze( torch.tensor( np.array(l)) )\n",
        "\n",
        "metric = MulticlassConfusionMatrix(num_classes=num_classes)\n",
        "\n",
        "c = np.array(metric(torch.argmax(label,-1) , target))"
      ],
      "metadata": {
        "id": "RtL95Uh3usmY"
      },
      "execution_count": null,
      "outputs": []
    },
    {
      "cell_type": "code",
      "source": [
        "label_dict = {0: 'state__idle',\n",
        "           1: 'state__shoulder__flexion',\n",
        "           2: 'state__elbow__extension',\n",
        "           3: 'state__wrist__pronation',\n",
        "           4: 'state__hand__open',\n",
        "           5: 'state__hand__close',\n",
        "          }"
      ],
      "metadata": {
        "id": "bT_wWsZDvIzc"
      },
      "execution_count": null,
      "outputs": []
    },
    {
      "cell_type": "code",
      "source": [
        "# import matplotlib.pyplot as plt\n",
        "import numpy as np\n",
        "import matplotlib as mpl\n",
        "\n",
        "import matplotlib.pyplot as plt\n",
        "from matplotlib.colors import LinearSegmentedColormap\n",
        "import numpy as np\n",
        "\n",
        "C = c\n",
        "\n",
        "colors = ['k' , '#F601FF'] # first color is black, last is red\n",
        "cm = LinearSegmentedColormap.from_list(\n",
        "        \"Custom\", colors, N=200)\n",
        "\n",
        "class_labels = [0, 1, 2, 3, 4, 5]\n",
        "\n",
        "normalized_confusion_matrix =  np.round(C/ np.sum(C, axis=1, keepdims=True), 3)\n",
        "\n",
        "fig, ax = plt.subplots(facecolor='k')\n",
        "im = ax.imshow(normalized_confusion_matrix , cmap = cm , vmin=0, vmax=1)\n",
        "cb = fig.colorbar(im , ax=ax)\n",
        "cb.outline.set_edgecolor('w')\n",
        "\n",
        "ax.set_xlabel(\"Predicted Labels\", color='w')\n",
        "ax.set_ylabel(\"True Labels\", color='w')\n",
        "\n",
        "ax.set_xticks(np.arange(len(class_labels)), labels=[name for _, name in  label_dict.items()], color='w', rotation=45, ha='right')\n",
        "ax.set_yticks(np.arange(len(class_labels)), labels=[name for _, name in  label_dict.items()], color='w')\n",
        "\n",
        "\n",
        "\n",
        "\n",
        "for i in range(len(class_labels)):\n",
        "    for j in range(len(class_labels)):\n",
        "        text = ax.text(j, i, normalized_confusion_matrix[i, j],\n",
        "                        ha=\"center\", va=\"center\", color=\"w\" , size=8)\n",
        "\n",
        "\n",
        "fig.tight_layout()\n",
        "plt.show()"
      ],
      "metadata": {
        "id": "qXt9o-S2uvs7",
        "colab": {
          "base_uri": "https://localhost:8080/",
          "height": 487
        },
        "outputId": "a7d9e466-5302-41f8-d1a9-462dfda0817f"
      },
      "execution_count": null,
      "outputs": [
        {
          "output_type": "display_data",
          "data": {
            "text/plain": [
              "<Figure size 640x480 with 2 Axes>"
            ],
            "image/png": "[encoded data removed]"
          },
          "metadata": {}
        }
      ]
    },
    {
      "cell_type": "code",
      "source": [
        "diagonal_avg = np.mean(np.diag(normalized_confusion_matrix))\n",
        "print(\"Diagonal Average of Confusion Matrix:\", diagonal_avg)\n",
        "\n",
        "# Initialize the F1 metric (macro-average)\n",
        "f1_metric = MulticlassF1Score(num_classes=num_classes, average='macro')\n",
        "\n",
        "# Compute the F1 score\n",
        "f1_score = f1_metric(torch.argmax(label,-1) , target)\n",
        "print(\"Macro-Averaged F1-Score:\", f1_score.item())"
      ],
      "metadata": {
        "id": "s4x3FtkwvCEh",
        "colab": {
          "base_uri": "https://localhost:8080/"
        },
        "outputId": "f70f7cef-2ca6-4326-b7f5-19e0adfb7acd"
      },
      "execution_count": null,
      "outputs": [
        {
          "output_type": "stream",
          "name": "stdout",
          "text": [
            "Diagonal Average of Confusion Matrix: 0.3705\n",
            "Macro-Averaged F1-Score: 0.35051241517066956\n"
          ]
        }
      ]
    },
    {
      "cell_type": "code",
      "source": [],
      "metadata": {
        "id": "0arJf6J8Y88q"
      },
      "execution_count": null,
      "outputs": []
    }
  ]
}