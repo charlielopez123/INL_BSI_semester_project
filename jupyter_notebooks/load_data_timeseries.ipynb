{
 "cells": [
  {
   "cell_type": "code",
   "execution_count": 1,
   "metadata": {},
   "outputs": [],
   "source": [
    "!pip3 install -q torchaudio torchvision mne loguru neo"
   ]
  },
  {
   "cell_type": "code",
   "execution_count": 2,
   "metadata": {},
   "outputs": [],
   "source": [
    "import sys\n",
    "sys.path.append('/Users/theomaetz/Downloads/MA3/INL/Setup/lighthouse-features-preprocessing/')"
   ]
  },
  {
   "cell_type": "code",
   "execution_count": 3,
   "metadata": {},
   "outputs": [],
   "source": [
    "import os\n",
    "from pathlib import Path\n",
    "\n",
    "import matplotlib.pyplot as plt\n",
    "import numpy as np\n",
    "import torch\n",
    "import torchaudio\n",
    "import torchvision\n",
    "import torchvision.transforms as T\n",
    "\n",
    "import lighthouse.data_loader.files_folders as ff\n",
    "import lighthouse.metadata as metadata\n",
    "from lighthouse.data_loader.load_chuv import load_absd, load_dt5, load_gdp, load_smr\n",
    "from lighthouse.data_loader.torch_dataset import TimeseriesDataset\n",
    "from lighthouse.preprocessing.transform import MNEFilter"
   ]
  },
  {
   "cell_type": "code",
   "execution_count": 4,
   "metadata": {},
   "outputs": [
    {
     "name": "stderr",
     "output_type": "stream",
     "text": [
      "\u001b[32m2024-11-06 01:11:07.844\u001b[0m | \u001b[33m\u001b[1mWARNING \u001b[0m | \u001b[36mlighthouse.metadata\u001b[0m:\u001b[36mget_training_sessions\u001b[0m:\u001b[36m125\u001b[0m - \u001b[33m\u001b[1mOnly found 65 out of 66 training sessions\u001b[0m\n"
     ]
    },
    {
     "name": "stdout",
     "output_type": "stream",
     "text": [
      "/Volumes/__UP2/0_RAW_DATA/UP2_001/UP2001_2023_10_24_BSITraining_day4/WISCI/2023_10_24_13_59_55 (rec1)/ABSD data\n"
     ]
    }
   ],
   "source": [
    "os.environ[\"DATA_DIR\"] = \"/Volumes\"\n",
    "training_sessions = metadata.get_training_sessions()\n",
    "absd_dir = ff.find_absd_dirs(training_sessions[0])[0]\n",
    "print(absd_dir)"
   ]
  },
  {
   "cell_type": "code",
   "execution_count": 5,
   "metadata": {},
   "outputs": [
    {
     "name": "stdout",
     "output_type": "stream",
     "text": [
      "cpu\n"
     ]
    }
   ],
   "source": [
    "SFREQ = 585\n",
    "DEVICE = torch.device(\"cuda\" if torch.cuda.is_available() else \"cpu\")\n",
    "print(DEVICE)"
   ]
  },
  {
   "cell_type": "code",
   "execution_count": null,
   "metadata": {},
   "outputs": [],
   "source": [
    "def load_absd_ecog(absd_dir):\n",
    "    signals, ch_names = load_absd(absd_dir)\n",
    "    ecog_ch_names = [ch for ch in ch_names if \"ecog\" in ch]\n",
    "    ecog_signals = signals[[ch_names.index(ch) for ch in ecog_ch_names]]\n",
    "    return ecog_signals\n",
    "\n",
    "\n",
    "def load_absd_states(absd_dir, return_ch_names=False):\n",
    "    signals, ch_names = load_absd(absd_dir, return_states=True)\n",
    "    state_ch_names = [ch for ch in ch_names if \"state__\" in ch]\n",
    "    state_signals = signals[[ch_names.index(ch) for ch in state_ch_names]]\n",
    "    if return_ch_names:\n",
    "        return state_signals, state_ch_names\n",
    "    return state_signals"
   ]
  },
  {
   "cell_type": "code",
   "execution_count": 25,
   "metadata": {},
   "outputs": [
    {
     "name": "stderr",
     "output_type": "stream",
     "text": [
      "\u001b[32m2024-11-06 00:59:00.500\u001b[0m | \u001b[1mINFO    \u001b[0m | \u001b[36mlighthouse.data_loader.load_chuv\u001b[0m:\u001b[36mconcatenate_dt5\u001b[0m:\u001b[36m497\u001b[0m - \u001b[1mLoading /Volumes/__UP2/0_RAW_DATA/UP2_001/UP2001_2023_10_24_BSITraining_day4/WISCI/2023_10_24_13_59_55 (rec1)/ABSD data/2023_10_24_14_07_01_01of02.dt5\u001b[0m\n",
      "\u001b[32m2024-11-06 01:00:06.736\u001b[0m | \u001b[1mINFO    \u001b[0m | \u001b[36mlighthouse.data_loader.load_chuv\u001b[0m:\u001b[36mload_dt5\u001b[0m:\u001b[36m196\u001b[0m - \u001b[1mScenario Name: classBCIViewerAvatarAllDegreesCourtine\u001b[0m\n",
      "\u001b[32m2024-11-06 01:00:06.778\u001b[0m | \u001b[1mINFO    \u001b[0m | \u001b[36mlighthouse.data_loader.load_chuv\u001b[0m:\u001b[36mload_dt5\u001b[0m:\u001b[36m199\u001b[0m - \u001b[1mSub Scenario Name: classBSISubScenarioUpperJointsClassif\u001b[0m\n",
      "\u001b[32m2024-11-06 01:00:15.489\u001b[0m | \u001b[1mINFO    \u001b[0m | \u001b[36mlighthouse.data_loader.load_chuv\u001b[0m:\u001b[36mconcatenate_dt5\u001b[0m:\u001b[36m497\u001b[0m - \u001b[1mLoading /Volumes/__UP2/0_RAW_DATA/UP2_001/UP2001_2023_10_24_BSITraining_day4/WISCI/2023_10_24_13_59_55 (rec1)/ABSD data/2023_10_24_14_07_01_02of02.dt5\u001b[0m\n"
     ]
    }
   ],
   "source": [
    "state_signals, state_ch_names = load_absd_states(absd_dir, return_ch_names=True)"
   ]
  },
  {
   "cell_type": "code",
   "execution_count": 26,
   "metadata": {},
   "outputs": [
    {
     "data": {
      "text/plain": [
       "['state__idle',\n",
       " 'state__shoulder__flexion',\n",
       " 'state__shoulder__extension',\n",
       " 'state__shoulder__adduction',\n",
       " 'state__shoulder__abduction',\n",
       " 'state__shoulder__internal_rotation',\n",
       " 'state__shoulder__external_rotation',\n",
       " 'state__elbow__flexion',\n",
       " 'state__elbow__extension',\n",
       " 'state__wrist__pronation',\n",
       " 'state__wrist__supination',\n",
       " 'state__hand__open',\n",
       " 'state__hand__close']"
      ]
     },
     "execution_count": 26,
     "metadata": {},
     "output_type": "execute_result"
    }
   ],
   "source": [
    "state_ch_names"
   ]
  },
  {
   "cell_type": "code",
   "execution_count": 27,
   "metadata": {},
   "outputs": [
    {
     "name": "stderr",
     "output_type": "stream",
     "text": [
      "\u001b[32m2024-11-06 01:01:13.240\u001b[0m | \u001b[1mINFO    \u001b[0m | \u001b[36mlighthouse.data_loader.load_chuv\u001b[0m:\u001b[36mconcatenate_dt5\u001b[0m:\u001b[36m497\u001b[0m - \u001b[1mLoading /Volumes/__UP2/0_RAW_DATA/UP2_001/UP2001_2023_10_24_BSITraining_day4/WISCI/2023_10_24_13_59_55 (rec1)/ABSD data/2023_10_24_14_07_01_01of02.dt5\u001b[0m\n",
      "\u001b[32m2024-11-06 01:02:14.906\u001b[0m | \u001b[1mINFO    \u001b[0m | \u001b[36mlighthouse.data_loader.load_chuv\u001b[0m:\u001b[36mload_dt5\u001b[0m:\u001b[36m196\u001b[0m - \u001b[1mScenario Name: classBCIViewerAvatarAllDegreesCourtine\u001b[0m\n",
      "\u001b[32m2024-11-06 01:02:14.917\u001b[0m | \u001b[1mINFO    \u001b[0m | \u001b[36mlighthouse.data_loader.load_chuv\u001b[0m:\u001b[36mload_dt5\u001b[0m:\u001b[36m199\u001b[0m - \u001b[1mSub Scenario Name: classBSISubScenarioUpperJointsClassif\u001b[0m\n",
      "\u001b[32m2024-11-06 01:02:20.293\u001b[0m | \u001b[1mINFO    \u001b[0m | \u001b[36mlighthouse.data_loader.load_chuv\u001b[0m:\u001b[36mconcatenate_dt5\u001b[0m:\u001b[36m497\u001b[0m - \u001b[1mLoading /Volumes/__UP2/0_RAW_DATA/UP2_001/UP2001_2023_10_24_BSITraining_day4/WISCI/2023_10_24_13_59_55 (rec1)/ABSD data/2023_10_24_14_07_01_02of02.dt5\u001b[0m\n"
     ]
    }
   ],
   "source": [
    "x_data = load_absd_ecog(absd_dir)"
   ]
  },
  {
   "cell_type": "code",
   "execution_count": 28,
   "metadata": {},
   "outputs": [
    {
     "data": {
      "text/plain": [
       "(32, 353115)"
      ]
     },
     "execution_count": 28,
     "metadata": {},
     "output_type": "execute_result"
    }
   ],
   "source": [
    "x_data.shape"
   ]
  },
  {
   "cell_type": "code",
   "execution_count": null,
   "metadata": {},
   "outputs": [
    {
     "data": {
      "text/plain": [
       "(13, 353115)"
      ]
     },
     "execution_count": 29,
     "metadata": {},
     "output_type": "execute_result"
    },
    {
     "ename": "",
     "evalue": "",
     "output_type": "error",
     "traceback": [
      "\u001b[1;31mThe Kernel crashed while executing code in the current cell or a previous cell. \n",
      "\u001b[1;31mPlease review the code in the cell(s) to identify a possible cause of the failure. \n",
      "\u001b[1;31mClick <a href='https://aka.ms/vscodeJupyterKernelCrash'>here</a> for more info. \n",
      "\u001b[1;31mView Jupyter <a href='command:jupyter.viewOutput'>log</a> for further details."
     ]
    }
   ],
   "source": [
    "state_signals.shape"
   ]
  },
  {
   "cell_type": "code",
   "execution_count": null,
   "metadata": {},
   "outputs": [
    {
     "name": "stderr",
     "output_type": "stream",
     "text": [
      "\u001b[32m2024-11-06 01:11:11.927\u001b[0m | \u001b[1mINFO    \u001b[0m | \u001b[36mlighthouse.data_loader.load_chuv\u001b[0m:\u001b[36mconcatenate_dt5\u001b[0m:\u001b[36m497\u001b[0m - \u001b[1mLoading /Volumes/__UP2/0_RAW_DATA/UP2_001/UP2001_2023_10_24_BSITraining_day4/WISCI/2023_10_24_13_59_55 (rec1)/ABSD data/2023_10_24_14_07_01_01of02.dt5\u001b[0m\n",
      "\u001b[32m2024-11-06 01:11:30.173\u001b[0m | \u001b[1mINFO    \u001b[0m | \u001b[36mlighthouse.data_loader.load_chuv\u001b[0m:\u001b[36mload_dt5\u001b[0m:\u001b[36m196\u001b[0m - \u001b[1mScenario Name: classBCIViewerAvatarAllDegreesCourtine\u001b[0m\n",
      "\u001b[32m2024-11-06 01:11:30.176\u001b[0m | \u001b[1mINFO    \u001b[0m | \u001b[36mlighthouse.data_loader.load_chuv\u001b[0m:\u001b[36mload_dt5\u001b[0m:\u001b[36m199\u001b[0m - \u001b[1mSub Scenario Name: classBSISubScenarioUpperJointsClassif\u001b[0m\n",
      "\u001b[32m2024-11-06 01:11:34.926\u001b[0m | \u001b[1mINFO    \u001b[0m | \u001b[36mlighthouse.data_loader.load_chuv\u001b[0m:\u001b[36mconcatenate_dt5\u001b[0m:\u001b[36m497\u001b[0m - \u001b[1mLoading /Volumes/__UP2/0_RAW_DATA/UP2_001/UP2001_2023_10_24_BSITraining_day4/WISCI/2023_10_24_13_59_55 (rec1)/ABSD data/2023_10_24_14_07_01_02of02.dt5\u001b[0m\n",
      "\u001b[32m2024-11-06 01:11:56.894\u001b[0m | \u001b[1mINFO    \u001b[0m | \u001b[36mlighthouse.data_loader.load_chuv\u001b[0m:\u001b[36mconcatenate_dt5\u001b[0m:\u001b[36m497\u001b[0m - \u001b[1mLoading /Volumes/__UP2/0_RAW_DATA/UP2_001/UP2001_2023_10_24_BSITraining_day4/WISCI/2023_10_24_13_59_55 (rec1)/ABSD data/2023_10_24_14_07_01_01of02.dt5\u001b[0m\n",
      "\u001b[32m2024-11-06 01:12:12.818\u001b[0m | \u001b[1mINFO    \u001b[0m | \u001b[36mlighthouse.data_loader.load_chuv\u001b[0m:\u001b[36mload_dt5\u001b[0m:\u001b[36m196\u001b[0m - \u001b[1mScenario Name: classBCIViewerAvatarAllDegreesCourtine\u001b[0m\n",
      "\u001b[32m2024-11-06 01:12:12.824\u001b[0m | \u001b[1mINFO    \u001b[0m | \u001b[36mlighthouse.data_loader.load_chuv\u001b[0m:\u001b[36mload_dt5\u001b[0m:\u001b[36m199\u001b[0m - \u001b[1mSub Scenario Name: classBSISubScenarioUpperJointsClassif\u001b[0m\n",
      "\u001b[32m2024-11-06 01:12:19.966\u001b[0m | \u001b[1mINFO    \u001b[0m | \u001b[36mlighthouse.data_loader.load_chuv\u001b[0m:\u001b[36mconcatenate_dt5\u001b[0m:\u001b[36m497\u001b[0m - \u001b[1mLoading /Volumes/__UP2/0_RAW_DATA/UP2_001/UP2001_2023_10_24_BSITraining_day4/WISCI/2023_10_24_13_59_55 (rec1)/ABSD data/2023_10_24_14_07_01_02of02.dt5\u001b[0m\n"
     ]
    },
    {
     "name": "stdout",
     "output_type": "stream",
     "text": [
      "Creating RawArray with float64 data, n_channels=32, n_times=353115\n",
      "    Range : 0 ... 353114 =      0.000 ...   603.614 secs\n",
      "Ready.\n",
      "ECoG channel type selected for re-referencing\n",
      "Applying average reference.\n",
      "Applying a custom ('ECoG',) reference.\n",
      "Filtering raw data in 1 contiguous segment\n",
      "Setting up band-stop filter\n",
      "\n",
      "FIR filter parameters\n",
      "---------------------\n",
      "Designing a one-pass, zero-phase, non-causal bandstop filter:\n",
      "- Windowed time-domain design (firwin) method\n",
      "- Hamming window with 0.0194 passband ripple and 53 dB stopband attenuation\n",
      "- Lower transition bandwidth: 0.50 Hz\n",
      "- Upper transition bandwidth: 0.50 Hz\n",
      "- Filter length: 3861 samples (6.600 s)\n",
      "\n"
     ]
    },
    {
     "name": "stderr",
     "output_type": "stream",
     "text": [
      "[Parallel(n_jobs=1)]: Using backend SequentialBackend with 1 concurrent workers.\n",
      "[Parallel(n_jobs=1)]: Done   1 out of   1 | elapsed:    0.0s remaining:    0.0s\n",
      "[Parallel(n_jobs=1)]: Done   2 out of   2 | elapsed:    0.0s remaining:    0.0s\n",
      "[Parallel(n_jobs=1)]: Done   3 out of   3 | elapsed:    0.0s remaining:    0.0s\n",
      "[Parallel(n_jobs=1)]: Done   4 out of   4 | elapsed:    0.0s remaining:    0.0s\n"
     ]
    },
    {
     "name": "stdout",
     "output_type": "stream",
     "text": [
      "Filtering raw data in 1 contiguous segment\n",
      "Setting up band-pass filter from 1 - 2e+02 Hz\n",
      "\n",
      "FIR filter parameters\n",
      "---------------------\n",
      "Designing a one-pass, zero-phase, non-causal bandpass filter:\n",
      "- Windowed time-domain design (firwin) method\n",
      "- Hamming window with 0.0194 passband ripple and 53 dB stopband attenuation\n",
      "- Lower passband edge: 1.00\n",
      "- Lower transition bandwidth: 1.00 Hz (-6 dB cutoff frequency: 0.50 Hz)\n",
      "- Upper passband edge: 200.00 Hz\n",
      "- Upper transition bandwidth: 50.00 Hz (-6 dB cutoff frequency: 225.00 Hz)\n",
      "- Filter length: 1931 samples (3.301 s)\n",
      "\n"
     ]
    },
    {
     "name": "stderr",
     "output_type": "stream",
     "text": [
      "[Parallel(n_jobs=1)]: Done  32 out of  32 | elapsed:    0.3s finished\n",
      "[Parallel(n_jobs=1)]: Using backend SequentialBackend with 1 concurrent workers.\n",
      "[Parallel(n_jobs=1)]: Done   1 out of   1 | elapsed:    0.0s remaining:    0.0s\n",
      "[Parallel(n_jobs=1)]: Done   2 out of   2 | elapsed:    0.0s remaining:    0.0s\n",
      "[Parallel(n_jobs=1)]: Done   3 out of   3 | elapsed:    0.0s remaining:    0.0s\n",
      "[Parallel(n_jobs=1)]: Done   4 out of   4 | elapsed:    0.0s remaining:    0.0s\n",
      "[Parallel(n_jobs=1)]: Done  32 out of  32 | elapsed:    0.3s finished\n",
      "\u001b[32m2024-11-06 01:12:44.821\u001b[0m | \u001b[1mINFO    \u001b[0m | \u001b[36mlighthouse.data_loader.torch_dataset\u001b[0m:\u001b[36m__init__\u001b[0m:\u001b[36m104\u001b[0m - \u001b[1mPrecomputing dataset (could take a while)\u001b[0m\n"
     ]
    },
    {
     "name": "stdout",
     "output_type": "stream",
     "text": [
      "torch.Size([1, 32, 353115])\n"
     ]
    },
    {
     "name": "stderr",
     "output_type": "stream",
     "text": [
      "  0%|          | 8/5976 [00:00<01:14, 79.90it/s]"
     ]
    },
    {
     "name": "stdout",
     "output_type": "stream",
     "text": [
      "Before transform: torch.Size([1, 32, 585])\n",
      "After transform: torch.Size([32, 293, 59])\n",
      "Before transform: torch.Size([1, 32, 585])\n",
      "After transform: torch.Size([32, 293, 59])\n",
      "Before transform: torch.Size([1, 32, 585])\n",
      "After transform: torch.Size([32, 293, 59])\n",
      "Before transform: torch.Size([1, 32, 585])\n",
      "After transform: torch.Size([32, 293, 59])\n",
      "Before transform: torch.Size([1, 32, 585])\n",
      "After transform: torch.Size([32, 293, 59])\n",
      "Before transform: torch.Size([1, 32, 585])\n",
      "After transform: torch.Size([32, 293, 59])\n",
      "Before transform: torch.Size([1, 32, 585])\n",
      "After transform: torch.Size([32, 293, 59])\n",
      "Before transform: torch.Size([1, 32, 585])\n",
      "After transform: torch.Size([32, 293, 59])\n",
      "Before transform: torch.Size([1, 32, 585])\n",
      "After transform: torch.Size([32, 293, 59])\n",
      "Before transform: torch.Size([1, 32, 585])\n",
      "After transform: torch.Size([32, 293, 59])\n",
      "Before transform: torch.Size([1, 32, 585])\n",
      "After transform: torch.Size([32, 293, 59])\n",
      "Before transform: torch.Size([1, 32, 585])\n",
      "After transform: torch.Size([32, 293, 59])\n",
      "Before transform: torch.Size([1, 32, 585])\n",
      "After transform: torch.Size([32, 293, 59])\n",
      "Before transform: torch.Size([1, 32, 585])\n",
      "After transform: torch.Size([32, 293, 59])\n",
      "Before transform: torch.Size([1, 32, 585])\n",
      "After transform: torch.Size([32, 293, 59])\n",
      "Before transform: torch.Size([1, 32, 585])\n",
      "After transform: torch.Size([32, 293, 59])\n",
      "Before transform: torch.Size([1, 32, 585])\n",
      "After transform: torch.Size([32, 293, 59])\n",
      "Before transform: torch.Size([1, 32, 585])\n",
      "After transform: torch.Size([32, 293, 59])\n",
      "Before transform: torch.Size([1, 32, 585])\n"
     ]
    },
    {
     "name": "stderr",
     "output_type": "stream",
     "text": [
      "  0%|          | 21/5976 [00:00<00:56, 106.04it/s]"
     ]
    },
    {
     "name": "stdout",
     "output_type": "stream",
     "text": [
      "After transform: torch.Size([32, 293, 59])\n",
      "Before transform: torch.Size([1, 32, 585])\n",
      "After transform: torch.Size([32, 293, 59])\n",
      "Before transform: torch.Size([1, 32, 585])\n",
      "After transform: torch.Size([32, 293, 59])\n",
      "Before transform: torch.Size([1, 32, 585])\n"
     ]
    },
    {
     "name": "stderr",
     "output_type": "stream",
     "text": [
      "  1%|          | 32/5976 [00:00<01:14, 79.53it/s] "
     ]
    },
    {
     "name": "stdout",
     "output_type": "stream",
     "text": [
      "After transform: torch.Size([32, 293, 59])\n",
      "Before transform: torch.Size([1, 32, 585])\n",
      "After transform: torch.Size([32, 293, 59])\n",
      "Before transform: torch.Size([1, 32, 585])\n",
      "After transform: torch.Size([32, 293, 59])\n",
      "Before transform: torch.Size([1, 32, 585])\n",
      "After transform: torch.Size([32, 293, 59])\n",
      "Before transform: torch.Size([1, 32, 585])\n",
      "After transform: torch.Size([32, 293, 59])\n",
      "Before transform: torch.Size([1, 32, 585])\n",
      "After transform: torch.Size([32, 293, 59])\n",
      "Before transform: torch.Size([1, 32, 585])\n",
      "After transform: torch.Size([32, 293, 59])\n",
      "Before transform: torch.Size([1, 32, 585])\n",
      "After transform: torch.Size([32, 293, 59])\n",
      "Before transform: torch.Size([1, 32, 585])\n",
      "After transform: torch.Size([32, 293, 59])\n",
      "Before transform: torch.Size([1, 32, 585])\n",
      "After transform: torch.Size([32, 293, 59])\n",
      "Before transform: torch.Size([1, 32, 585])\n",
      "After transform: torch.Size([32, 293, 59])\n",
      "Before transform: torch.Size([1, 32, 585])\n",
      "After transform: torch.Size([32, 293, 59])\n",
      "Before transform: torch.Size([1, 32, 585])\n",
      "After transform: torch.Size([32, 293, 59])\n",
      "Before transform: torch.Size([1, 32, 585])\n",
      "After transform: torch.Size([32, 293, 59])\n",
      "Before transform: torch.Size([1, 32, 585])\n",
      "After transform: torch.Size([32, 293, 59])\n",
      "Before transform: torch.Size([1, 32, 585])\n"
     ]
    },
    {
     "name": "stderr",
     "output_type": "stream",
     "text": [
      "  1%|          | 55/5976 [00:00<01:00, 97.98it/s]"
     ]
    },
    {
     "name": "stdout",
     "output_type": "stream",
     "text": [
      "After transform: torch.Size([32, 293, 59])\n",
      "Before transform: torch.Size([1, 32, 585])\n",
      "After transform: torch.Size([32, 293, 59])\n",
      "Before transform: torch.Size([1, 32, 585])\n",
      "After transform: torch.Size([32, 293, 59])\n",
      "Before transform: torch.Size([1, 32, 585])\n",
      "After transform: torch.Size([32, 293, 59])\n",
      "Before transform: torch.Size([1, 32, 585])\n",
      "After transform: torch.Size([32, 293, 59])\n",
      "Before transform: torch.Size([1, 32, 585])\n",
      "After transform: torch.Size([32, 293, 59])\n",
      "Before transform: torch.Size([1, 32, 585])\n",
      "After transform: torch.Size([32, 293, 59])\n",
      "Before transform: torch.Size([1, 32, 585])\n",
      "After transform: torch.Size([32, 293, 59])\n",
      "Before transform: torch.Size([1, 32, 585])\n",
      "After transform: torch.Size([32, 293, 59])\n",
      "Before transform: torch.Size([1, 32, 585])\n",
      "After transform: torch.Size([32, 293, 59])\n",
      "Before transform: torch.Size([1, 32, 585])\n",
      "After transform: torch.Size([32, 293, 59])\n",
      "Before transform: torch.Size([1, 32, 585])\n",
      "After transform: torch.Size([32, 293, 59])\n",
      "Before transform: torch.Size([1, 32, 585])\n",
      "After transform: torch.Size([32, 293, 59])\n",
      "Before transform: torch.Size([1, 32, 585])\n",
      "After transform: torch.Size([32, 293, 59])\n",
      "Before transform: torch.Size([1, 32, 585])\n",
      "After transform: torch.Size([32, 293, 59])\n",
      "Before transform: torch.Size([1, 32, 585])\n",
      "After transform: torch.Size([32, 293, 59])\n",
      "Before transform: torch.Size([1, 32, 585])\n",
      "After transform: torch.Size([32, 293, 59])\n",
      "Before transform: torch.Size([1, 32, 585])\n",
      "After transform: torch.Size([32, 293, 59])\n",
      "Before transform: torch.Size([1, 32, 585])\n",
      "After transform: torch.Size([32, 293, 59])\n",
      "Before transform: torch.Size([1, 32, 585])\n",
      "After transform: torch.Size([32, 293, 59])\n",
      "Before transform: torch.Size([1, 32, 585])\n",
      "After transform: torch.Size([32, 293, 59])\n",
      "Before transform: torch.Size([1, 32, 585])\n",
      "After transform: torch.Size([32, 293, 59])\n",
      "Before transform: torch.Size([1, 32, 585])\n",
      "After transform: torch.Size([32, 293, 59])\n",
      "Before transform: torch.Size([1, 32, 585])\n"
     ]
    },
    {
     "name": "stderr",
     "output_type": "stream",
     "text": [
      "  1%|          | 67/5976 [00:00<00:57, 103.24it/s]"
     ]
    },
    {
     "name": "stdout",
     "output_type": "stream",
     "text": [
      "After transform: torch.Size([32, 293, 59])\n",
      "Before transform: torch.Size([1, 32, 585])\n",
      "After transform: torch.Size([32, 293, 59])\n",
      "Before transform: torch.Size([1, 32, 585])\n",
      "After transform: torch.Size([32, 293, 59])\n",
      "Before transform: torch.Size([1, 32, 585])\n",
      "After transform: torch.Size([32, 293, 59])\n",
      "Before transform: torch.Size([1, 32, 585])\n",
      "After transform: torch.Size([32, 293, 59])\n",
      "Before transform: torch.Size([1, 32, 585])\n",
      "After transform: torch.Size([32, 293, 59])\n",
      "Before transform: torch.Size([1, 32, 585])\n",
      "After transform: torch.Size([32, 293, 59])\n",
      "Before transform: torch.Size([1, 32, 585])\n",
      "After transform: torch.Size([32, 293, 59])\n",
      "Before transform: torch.Size([1, 32, 585])\n",
      "After transform: torch.Size([32, 293, 59])\n",
      "Before transform: torch.Size([1, 32, 585])\n",
      "After transform: torch.Size([32, 293, 59])\n",
      "Before transform: torch.Size([1, 32, 585])\n",
      "After transform: torch.Size([32, 293, 59])\n",
      "Before transform: torch.Size([1, 32, 585])\n",
      "After transform: torch.Size([32, 293, 59])\n",
      "Before transform: torch.Size([1, 32, 585])\n",
      "After transform: torch.Size([32, 293, 59])\n",
      "Before transform: torch.Size([1, 32, 585])\n",
      "After transform: torch.Size([32, 293, 59])\n",
      "Before transform: torch.Size([1, 32, 585])\n",
      "After transform: torch.Size([32, 293, 59])\n",
      "Before transform: torch.Size([1, 32, 585])\n",
      "After transform: torch.Size([32, 293, 59])\n",
      "Before transform: torch.Size([1, 32, 585])\n",
      "After transform: torch.Size([32, 293, 59])\n",
      "Before transform: torch.Size([1, 32, 585])\n",
      "After transform: torch.Size([32, 293, 59])\n",
      "Before transform: torch.Size([1, 32, 585])\n",
      "After transform: torch.Size([32, 293, 59])\n",
      "Before transform: torch.Size([1, 32, 585])\n",
      "After transform: torch.Size([32, 293, 59])\n",
      "Before transform: torch.Size([1, 32, 585])\n",
      "After transform: torch.Size([32, 293, 59])\n"
     ]
    },
    {
     "name": "stderr",
     "output_type": "stream",
     "text": [
      "  1%|▏         | 80/5976 [00:00<00:53, 109.29it/s]"
     ]
    },
    {
     "name": "stdout",
     "output_type": "stream",
     "text": [
      "Before transform: torch.Size([1, 32, 585])\n",
      "After transform: torch.Size([32, 293, 59])\n",
      "Before transform: torch.Size([1, 32, 585])\n",
      "After transform: torch.Size([32, 293, 59])\n",
      "Before transform: torch.Size([1, 32, 585])\n",
      "After transform: torch.Size([32, 293, 59])\n",
      "Before transform: torch.Size([1, 32, 585])\n",
      "After transform: torch.Size([32, 293, 59])\n",
      "Before transform: torch.Size([1, 32, 585])\n"
     ]
    },
    {
     "name": "stderr",
     "output_type": "stream",
     "text": [
      "  2%|▏         | 92/5976 [00:00<00:53, 109.73it/s]"
     ]
    },
    {
     "name": "stdout",
     "output_type": "stream",
     "text": [
      "After transform: torch.Size([32, 293, 59])\n",
      "Before transform: torch.Size([1, 32, 585])\n",
      "After transform: torch.Size([32, 293, 59])\n",
      "Before transform: torch.Size([1, 32, 585])\n",
      "After transform: torch.Size([32, 293, 59])\n",
      "Before transform: torch.Size([1, 32, 585])\n",
      "After transform: torch.Size([32, 293, 59])\n",
      "Before transform: torch.Size([1, 32, 585])\n",
      "After transform: torch.Size([32, 293, 59])\n",
      "Before transform: torch.Size([1, 32, 585])\n",
      "After transform: torch.Size([32, 293, 59])\n",
      "Before transform: torch.Size([1, 32, 585])\n",
      "After transform: torch.Size([32, 293, 59])\n",
      "Before transform: torch.Size([1, 32, 585])\n",
      "After transform: torch.Size([32, 293, 59])\n",
      "Before transform: torch.Size([1, 32, 585])\n",
      "After transform: torch.Size([32, 293, 59])\n",
      "Before transform: torch.Size([1, 32, 585])\n",
      "After transform: torch.Size([32, 293, 59])\n",
      "Before transform: torch.Size([1, 32, 585])\n",
      "After transform: torch.Size([32, 293, 59])\n",
      "Before transform: torch.Size([1, 32, 585])\n",
      "After transform: torch.Size([32, 293, 59])\n",
      "Before transform: torch.Size([1, 32, 585])\n",
      "After transform: torch.Size([32, 293, 59])\n",
      "Before transform: torch.Size([1, 32, 585])\n",
      "After transform: torch.Size([32, 293, 59])\n",
      "Before transform: torch.Size([1, 32, 585])\n",
      "After transform: torch.Size([32, 293, 59])\n",
      "Before transform: torch.Size([1, 32, 585])\n",
      "After transform: torch.Size([32, 293, 59])\n",
      "Before transform: torch.Size([1, 32, 585])\n",
      "After transform: torch.Size([32, 293, 59])\n",
      "Before transform: torch.Size([1, 32, 585])\n",
      "After transform: torch.Size([32, 293, 59])\n",
      "Before transform: torch.Size([1, 32, 585])\n",
      "After transform: torch.Size([32, 293, 59])\n",
      "Before transform: torch.Size([1, 32, 585])\n"
     ]
    },
    {
     "name": "stderr",
     "output_type": "stream",
     "text": [
      "  2%|▏         | 105/5976 [00:01<00:51, 113.74it/s]"
     ]
    },
    {
     "name": "stdout",
     "output_type": "stream",
     "text": [
      "After transform: torch.Size([32, 293, 59])\n",
      "Before transform: torch.Size([1, 32, 585])\n",
      "After transform: torch.Size([32, 293, 59])\n",
      "Before transform: torch.Size([1, 32, 585])\n",
      "After transform: torch.Size([32, 293, 59])\n",
      "Before transform: torch.Size([1, 32, 585])\n",
      "After transform: torch.Size([32, 293, 59])\n",
      "Before transform: torch.Size([1, 32, 585])\n",
      "After transform: torch.Size([32, 293, 59])\n",
      "Before transform: torch.Size([1, 32, 585])\n"
     ]
    },
    {
     "name": "stderr",
     "output_type": "stream",
     "text": [
      "  2%|▏         | 117/5976 [00:01<00:52, 110.61it/s]"
     ]
    },
    {
     "name": "stdout",
     "output_type": "stream",
     "text": [
      "After transform: torch.Size([32, 293, 59])\n",
      "Before transform: torch.Size([1, 32, 585])\n",
      "After transform: torch.Size([32, 293, 59])\n",
      "Before transform: torch.Size([1, 32, 585])\n",
      "After transform: torch.Size([32, 293, 59])\n",
      "Before transform: torch.Size([1, 32, 585])\n",
      "After transform: torch.Size([32, 293, 59])\n",
      "Before transform: torch.Size([1, 32, 585])\n",
      "After transform: torch.Size([32, 293, 59])\n",
      "Before transform: torch.Size([1, 32, 585])\n",
      "After transform: torch.Size([32, 293, 59])\n",
      "Before transform: torch.Size([1, 32, 585])\n",
      "After transform: torch.Size([32, 293, 59])\n",
      "Before transform: torch.Size([1, 32, 585])\n",
      "After transform: torch.Size([32, 293, 59])\n",
      "Before transform: torch.Size([1, 32, 585])\n",
      "After transform: torch.Size([32, 293, 59])\n",
      "Before transform: torch.Size([1, 32, 585])\n",
      "After transform: torch.Size([32, 293, 59])\n",
      "Before transform: torch.Size([1, 32, 585])\n",
      "After transform: torch.Size([32, 293, 59])\n",
      "Before transform: torch.Size([1, 32, 585])\n",
      "After transform: torch.Size([32, 293, 59])\n",
      "Before transform: torch.Size([1, 32, 585])\n",
      "After transform: torch.Size([32, 293, 59])\n",
      "Before transform: torch.Size([1, 32, 585])\n",
      "After transform: torch.Size([32, 293, 59])\n",
      "Before transform: torch.Size([1, 32, 585])\n",
      "After transform: torch.Size([32, 293, 59])\n",
      "Before transform: torch.Size([1, 32, 585])\n",
      "After transform: torch.Size([32, 293, 59])\n",
      "Before transform: torch.Size([1, 32, 585])\n",
      "After transform: torch.Size([32, 293, 59])\n",
      "Before transform: torch.Size([1, 32, 585])\n",
      "After transform: torch.Size([32, 293, 59])\n",
      "Before transform: torch.Size([1, 32, 585])\n",
      "After transform: torch.Size([32, 293, 59])\n",
      "Before transform: torch.Size([1, 32, 585])\n"
     ]
    },
    {
     "name": "stderr",
     "output_type": "stream",
     "text": [
      "  2%|▏         | 140/5976 [00:01<00:57, 100.80it/s]"
     ]
    },
    {
     "name": "stdout",
     "output_type": "stream",
     "text": [
      "After transform: torch.Size([32, 293, 59])\n",
      "Before transform: torch.Size([1, 32, 585])\n",
      "After transform: torch.Size([32, 293, 59])\n",
      "Before transform: torch.Size([1, 32, 585])\n",
      "After transform: torch.Size([32, 293, 59])\n",
      "Before transform: torch.Size([1, 32, 585])\n",
      "After transform: torch.Size([32, 293, 59])\n",
      "Before transform: torch.Size([1, 32, 585])\n",
      "After transform: torch.Size([32, 293, 59])\n",
      "Before transform: torch.Size([1, 32, 585])\n",
      "After transform: torch.Size([32, 293, 59])\n",
      "Before transform: torch.Size([1, 32, 585])\n",
      "After transform: torch.Size([32, 293, 59])\n",
      "Before transform: torch.Size([1, 32, 585])\n",
      "After transform: torch.Size([32, 293, 59])\n",
      "Before transform: torch.Size([1, 32, 585])\n",
      "After transform: torch.Size([32, 293, 59])\n",
      "Before transform: torch.Size([1, 32, 585])\n",
      "After transform: torch.Size([32, 293, 59])\n",
      "Before transform: torch.Size([1, 32, 585])\n",
      "After transform: torch.Size([32, 293, 59])\n",
      "Before transform: torch.Size([1, 32, 585])\n",
      "After transform: torch.Size([32, 293, 59])\n",
      "Before transform: torch.Size([1, 32, 585])\n",
      "After transform: torch.Size([32, 293, 59])\n",
      "Before transform: torch.Size([1, 32, 585])\n",
      "After transform: torch.Size([32, 293, 59])\n",
      "Before transform: torch.Size([1, 32, 585])\n",
      "After transform: torch.Size([32, 293, 59])\n",
      "Before transform: torch.Size([1, 32, 585])\n",
      "After transform: torch.Size([32, 293, 59])\n",
      "Before transform: torch.Size([1, 32, 585])\n",
      "After transform: torch.Size([32, 293, 59])\n",
      "Before transform: torch.Size([1, 32, 585])\n",
      "After transform: torch.Size([32, 293, 59])\n",
      "Before transform: torch.Size([1, 32, 585])\n",
      "After transform: torch.Size([32, 293, 59])\n",
      "Before transform: torch.Size([1, 32, 585])\n",
      "After transform: torch.Size([32, 293, 59])\n",
      "Before transform: torch.Size([1, 32, 585])\n"
     ]
    },
    {
     "name": "stderr",
     "output_type": "stream",
     "text": [
      "  3%|▎         | 162/5976 [00:01<00:58, 99.23it/s] "
     ]
    },
    {
     "name": "stdout",
     "output_type": "stream",
     "text": [
      "After transform: torch.Size([32, 293, 59])\n",
      "Before transform: torch.Size([1, 32, 585])\n",
      "After transform: torch.Size([32, 293, 59])\n",
      "Before transform: torch.Size([1, 32, 585])\n",
      "After transform: torch.Size([32, 293, 59])\n",
      "Before transform: torch.Size([1, 32, 585])\n",
      "After transform: torch.Size([32, 293, 59])\n",
      "Before transform: torch.Size([1, 32, 585])\n",
      "After transform: torch.Size([32, 293, 59])\n",
      "Before transform: torch.Size([1, 32, 585])\n",
      "After transform: torch.Size([32, 293, 59])\n",
      "Before transform: torch.Size([1, 32, 585])\n",
      "After transform: torch.Size([32, 293, 59])\n",
      "Before transform: torch.Size([1, 32, 585])\n",
      "After transform: torch.Size([32, 293, 59])\n",
      "Before transform: torch.Size([1, 32, 585])\n",
      "After transform: torch.Size([32, 293, 59])\n",
      "Before transform: torch.Size([1, 32, 585])\n",
      "After transform: torch.Size([32, 293, 59])\n",
      "Before transform: torch.Size([1, 32, 585])\n",
      "After transform: torch.Size([32, 293, 59])\n",
      "Before transform: torch.Size([1, 32, 585])\n",
      "After transform: torch.Size([32, 293, 59])\n",
      "Before transform: torch.Size([1, 32, 585])\n",
      "After transform: torch.Size([32, 293, 59])\n",
      "Before transform: torch.Size([1, 32, 585])\n",
      "After transform: torch.Size([32, 293, 59])\n",
      "Before transform: torch.Size([1, 32, 585])\n",
      "After transform: torch.Size([32, 293, 59])\n",
      "Before transform: torch.Size([1, 32, 585])\n",
      "After transform: torch.Size([32, 293, 59])\n",
      "Before transform: torch.Size([1, 32, 585])\n",
      "After transform: torch.Size([32, 293, 59])\n",
      "Before transform: torch.Size([1, 32, 585])\n",
      "After transform: torch.Size([32, 293, 59])\n",
      "Before transform: torch.Size([1, 32, 585])\n",
      "After transform: torch.Size([32, 293, 59])\n",
      "Before transform: torch.Size([1, 32, 585])\n",
      "After transform: torch.Size([32, 293, 59])\n",
      "Before transform: torch.Size([1, 32, 585])\n",
      "After transform: torch.Size([32, 293, 59])\n",
      "Before transform: torch.Size([1, 32, 585])\n",
      "After transform: torch.Size([32, 293, 59])\n",
      "Before transform: torch.Size([1, 32, 585])\n",
      "After transform: torch.Size([32, 293, 59])\n",
      "Before transform: torch.Size([1, 32, 585])\n",
      "After transform: torch.Size([32, 293, 59])\n",
      "Before transform: torch.Size([1, 32, 585])\n",
      "After transform: torch.Size([32, 293, 59])\n"
     ]
    },
    {
     "name": "stderr",
     "output_type": "stream",
     "text": [
      "  3%|▎         | 185/5976 [00:01<01:07, 85.71it/s]"
     ]
    },
    {
     "name": "stdout",
     "output_type": "stream",
     "text": [
      "Before transform: torch.Size([1, 32, 585])\n",
      "After transform: torch.Size([32, 293, 59])\n",
      "Before transform: torch.Size([1, 32, 585])\n",
      "After transform: torch.Size([32, 293, 59])\n",
      "Before transform: torch.Size([1, 32, 585])\n",
      "After transform: torch.Size([32, 293, 59])\n",
      "Before transform: torch.Size([1, 32, 585])\n",
      "After transform: torch.Size([32, 293, 59])\n",
      "Before transform: torch.Size([1, 32, 585])\n",
      "After transform: torch.Size([32, 293, 59])\n",
      "Before transform: torch.Size([1, 32, 585])\n",
      "After transform: torch.Size([32, 293, 59])\n",
      "Before transform: torch.Size([1, 32, 585])\n",
      "After transform: torch.Size([32, 293, 59])\n",
      "Before transform: torch.Size([1, 32, 585])\n",
      "After transform: torch.Size([32, 293, 59])\n",
      "Before transform: torch.Size([1, 32, 585])\n",
      "After transform: torch.Size([32, 293, 59])\n",
      "Before transform: torch.Size([1, 32, 585])\n",
      "After transform: torch.Size([32, 293, 59])\n",
      "Before transform: torch.Size([1, 32, 585])\n",
      "After transform: torch.Size([32, 293, 59])\n",
      "Before transform: torch.Size([1, 32, 585])\n",
      "After transform: torch.Size([32, 293, 59])\n",
      "Before transform: torch.Size([1, 32, 585])\n",
      "After transform: torch.Size([32, 293, 59])\n",
      "Before transform: torch.Size([1, 32, 585])\n",
      "After transform: torch.Size([32, 293, 59])\n",
      "Before transform: torch.Size([1, 32, 585])\n",
      "After transform: torch.Size([32, 293, 59])\n",
      "Before transform: torch.Size([1, 32, 585])\n",
      "After transform: torch.Size([32, 293, 59])\n",
      "Before transform: torch.Size([1, 32, 585])\n",
      "After transform: torch.Size([32, 293, 59])\n",
      "Before transform: torch.Size([1, 32, 585])\n",
      "After transform: torch.Size([32, 293, 59])\n",
      "Before transform: torch.Size([1, 32, 585])\n",
      "After transform: torch.Size([32, 293, 59])\n",
      "Before transform: torch.Size([1, 32, 585])\n",
      "After transform: torch.Size([32, 293, 59])\n",
      "Before transform: torch.Size([1, 32, 585])\n",
      "After transform: torch.Size([32, 293, 59])\n",
      "Before transform: torch.Size([1, 32, 585])\n",
      "After transform: torch.Size([32, 293, 59])\n",
      "Before transform: torch.Size([1, 32, 585])\n",
      "After transform: torch.Size([32, 293, 59])\n",
      "Before transform: torch.Size([1, 32, 585])\n",
      "After transform: torch.Size([32, 293, 59])\n",
      "Before transform: torch.Size([1, 32, 585])\n"
     ]
    },
    {
     "name": "stderr",
     "output_type": "stream",
     "text": [
      "  3%|▎         | 197/5976 [00:02<01:01, 93.56it/s]"
     ]
    },
    {
     "name": "stdout",
     "output_type": "stream",
     "text": [
      "After transform: torch.Size([32, 293, 59])\n",
      "Before transform: torch.Size([1, 32, 585])\n",
      "After transform: torch.Size([32, 293, 59])\n",
      "Before transform: torch.Size([1, 32, 585])\n",
      "After transform: torch.Size([32, 293, 59])\n",
      "Before transform: torch.Size([1, 32, 585])\n",
      "After transform: torch.Size([32, 293, 59])\n",
      "Before transform: torch.Size([1, 32, 585])\n",
      "After transform: torch.Size([32, 293, 59])\n",
      "Before transform: torch.Size([1, 32, 585])\n",
      "After transform: torch.Size([32, 293, 59])\n",
      "Before transform: torch.Size([1, 32, 585])\n",
      "After transform: torch.Size([32, 293, 59])\n",
      "Before transform: torch.Size([1, 32, 585])\n"
     ]
    },
    {
     "name": "stderr",
     "output_type": "stream",
     "text": [
      "  3%|▎         | 208/5976 [00:02<01:08, 84.36it/s]"
     ]
    },
    {
     "name": "stdout",
     "output_type": "stream",
     "text": [
      "After transform: torch.Size([32, 293, 59])\n",
      "Before transform: torch.Size([1, 32, 585])\n",
      "After transform: torch.Size([32, 293, 59])\n",
      "Before transform: torch.Size([1, 32, 585])\n",
      "After transform: torch.Size([32, 293, 59])\n",
      "Before transform: torch.Size([1, 32, 585])\n",
      "After transform: torch.Size([32, 293, 59])\n",
      "Before transform: torch.Size([1, 32, 585])\n",
      "After transform: torch.Size([32, 293, 59])\n",
      "Before transform: torch.Size([1, 32, 585])\n",
      "After transform: torch.Size([32, 293, 59])\n",
      "Before transform: torch.Size([1, 32, 585])\n",
      "After transform: torch.Size([32, 293, 59])\n",
      "Before transform: torch.Size([1, 32, 585])\n",
      "After transform: torch.Size([32, 293, 59])\n",
      "Before transform: torch.Size([1, 32, 585])\n",
      "After transform: torch.Size([32, 293, 59])\n",
      "Before transform: torch.Size([1, 32, 585])\n"
     ]
    },
    {
     "name": "stderr",
     "output_type": "stream",
     "text": [
      "  4%|▎         | 220/5976 [00:02<01:02, 92.12it/s]"
     ]
    },
    {
     "name": "stdout",
     "output_type": "stream",
     "text": [
      "After transform: torch.Size([32, 293, 59])\n",
      "Before transform: torch.Size([1, 32, 585])\n",
      "After transform: torch.Size([32, 293, 59])\n",
      "Before transform: torch.Size([1, 32, 585])\n",
      "After transform: torch.Size([32, 293, 59])\n",
      "Before transform: torch.Size([1, 32, 585])\n",
      "After transform: torch.Size([32, 293, 59])\n",
      "Before transform: torch.Size([1, 32, 585])\n",
      "After transform: torch.Size([32, 293, 59])\n",
      "Before transform: torch.Size([1, 32, 585])\n",
      "After transform: torch.Size([32, 293, 59])\n",
      "Before transform: torch.Size([1, 32, 585])\n",
      "After transform: torch.Size([32, 293, 59])\n",
      "Before transform: torch.Size([1, 32, 585])\n",
      "After transform: torch.Size([32, 293, 59])\n",
      "Before transform: torch.Size([1, 32, 585])\n",
      "After transform: torch.Size([32, 293, 59])\n",
      "Before transform: torch.Size([1, 32, 585])\n",
      "After transform: torch.Size([32, 293, 59])\n",
      "Before transform: torch.Size([1, 32, 585])\n",
      "After transform: torch.Size([32, 293, 59])\n",
      "Before transform: torch.Size([1, 32, 585])\n",
      "After transform: torch.Size([32, 293, 59])\n",
      "Before transform: torch.Size([1, 32, 585])\n",
      "After transform: torch.Size([32, 293, 59])\n",
      "Before transform: torch.Size([1, 32, 585])\n",
      "After transform: torch.Size([32, 293, 59])\n",
      "Before transform: torch.Size([1, 32, 585])\n",
      "After transform: torch.Size([32, 293, 59])\n",
      "Before transform: torch.Size([1, 32, 585])\n"
     ]
    },
    {
     "name": "stderr",
     "output_type": "stream",
     "text": [
      "  4%|▍         | 232/5976 [00:02<00:58, 97.90it/s]"
     ]
    },
    {
     "name": "stdout",
     "output_type": "stream",
     "text": [
      "After transform: torch.Size([32, 293, 59])\n",
      "Before transform: torch.Size([1, 32, 585])\n",
      "After transform: torch.Size([32, 293, 59])\n",
      "Before transform: torch.Size([1, 32, 585])\n",
      "After transform: torch.Size([32, 293, 59])\n",
      "Before transform: torch.Size([1, 32, 585])\n",
      "After transform: torch.Size([32, 293, 59])\n",
      "Before transform: torch.Size([1, 32, 585])\n",
      "After transform: torch.Size([32, 293, 59])\n",
      "Before transform: torch.Size([1, 32, 585])\n",
      "After transform: torch.Size([32, 293, 59])\n",
      "Before transform: torch.Size([1, 32, 585])\n",
      "After transform: torch.Size([32, 293, 59])\n",
      "Before transform: torch.Size([1, 32, 585])\n",
      "After transform: torch.Size([32, 293, 59])\n",
      "Before transform: torch.Size([1, 32, 585])\n"
     ]
    },
    {
     "name": "stderr",
     "output_type": "stream",
     "text": [
      "  4%|▍         | 243/5976 [00:02<00:56, 100.96it/s]"
     ]
    },
    {
     "name": "stdout",
     "output_type": "stream",
     "text": [
      "After transform: torch.Size([32, 293, 59])\n",
      "Before transform: torch.Size([1, 32, 585])\n",
      "After transform: torch.Size([32, 293, 59])\n",
      "Before transform: torch.Size([1, 32, 585])\n",
      "After transform: torch.Size([32, 293, 59])\n",
      "Before transform: torch.Size([1, 32, 585])\n",
      "After transform: torch.Size([32, 293, 59])\n",
      "Before transform: torch.Size([1, 32, 585])\n",
      "After transform: torch.Size([32, 293, 59])\n",
      "Before transform: torch.Size([1, 32, 585])\n",
      "After transform: torch.Size([32, 293, 59])\n",
      "Before transform: torch.Size([1, 32, 585])\n",
      "After transform: torch.Size([32, 293, 59])\n",
      "Before transform: torch.Size([1, 32, 585])\n",
      "After transform: torch.Size([32, 293, 59])\n",
      "Before transform: torch.Size([1, 32, 585])\n",
      "After transform: torch.Size([32, 293, 59])\n",
      "Before transform: torch.Size([1, 32, 585])\n",
      "After transform: torch.Size([32, 293, 59])\n",
      "Before transform: torch.Size([1, 32, 585])\n",
      "After transform: torch.Size([32, 293, 59])\n",
      "Before transform: torch.Size([1, 32, 585])\n",
      "After transform: torch.Size([32, 293, 59])\n",
      "Before transform: torch.Size([1, 32, 585])\n",
      "After transform: torch.Size([32, 293, 59])\n",
      "Before transform: torch.Size([1, 32, 585])\n",
      "After transform: torch.Size([32, 293, 59])\n",
      "Before transform: torch.Size([1, 32, 585])\n",
      "After transform: torch.Size([32, 293, 59])\n",
      "Before transform: torch.Size([1, 32, 585])\n"
     ]
    },
    {
     "name": "stderr",
     "output_type": "stream",
     "text": [
      "  4%|▍         | 255/5976 [00:02<00:54, 104.58it/s]"
     ]
    },
    {
     "name": "stdout",
     "output_type": "stream",
     "text": [
      "After transform: torch.Size([32, 293, 59])\n",
      "Before transform: torch.Size([1, 32, 585])\n",
      "After transform: torch.Size([32, 293, 59])\n",
      "Before transform: torch.Size([1, 32, 585])\n",
      "After transform: torch.Size([32, 293, 59])\n",
      "Before transform: torch.Size([1, 32, 585])\n",
      "After transform: torch.Size([32, 293, 59])\n",
      "Before transform: torch.Size([1, 32, 585])\n",
      "After transform: torch.Size([32, 293, 59])\n",
      "Before transform: torch.Size([1, 32, 585])\n",
      "After transform: torch.Size([32, 293, 59])\n",
      "Before transform: torch.Size([1, 32, 585])\n",
      "After transform: torch.Size([32, 293, 59])\n",
      "Before transform: torch.Size([1, 32, 585])\n",
      "After transform: torch.Size([32, 293, 59])\n",
      "Before transform: torch.Size([1, 32, 585])\n"
     ]
    },
    {
     "name": "stderr",
     "output_type": "stream",
     "text": [
      "  4%|▍         | 267/5976 [00:02<00:53, 107.09it/s]"
     ]
    },
    {
     "name": "stdout",
     "output_type": "stream",
     "text": [
      "After transform: torch.Size([32, 293, 59])\n",
      "Before transform: torch.Size([1, 32, 585])\n",
      "After transform: torch.Size([32, 293, 59])\n",
      "Before transform: torch.Size([1, 32, 585])\n",
      "After transform: torch.Size([32, 293, 59])\n",
      "Before transform: torch.Size([1, 32, 585])\n",
      "After transform: torch.Size([32, 293, 59])\n",
      "Before transform: torch.Size([1, 32, 585])\n",
      "After transform: torch.Size([32, 293, 59])\n",
      "Before transform: torch.Size([1, 32, 585])\n",
      "After transform: torch.Size([32, 293, 59])\n",
      "Before transform: torch.Size([1, 32, 585])\n",
      "After transform: torch.Size([32, 293, 59])\n",
      "Before transform: torch.Size([1, 32, 585])\n",
      "After transform: torch.Size([32, 293, 59])\n",
      "Before transform: torch.Size([1, 32, 585])\n",
      "After transform: torch.Size([32, 293, 59])\n",
      "Before transform: torch.Size([1, 32, 585])\n",
      "After transform: torch.Size([32, 293, 59])\n",
      "Before transform: torch.Size([1, 32, 585])\n",
      "After transform: torch.Size([32, 293, 59])\n",
      "Before transform: torch.Size([1, 32, 585])\n",
      "After transform: torch.Size([32, 293, 59])\n",
      "Before transform: torch.Size([1, 32, 585])\n",
      "After transform: torch.Size([32, 293, 59])\n",
      "Before transform: torch.Size([1, 32, 585])\n",
      "After transform: torch.Size([32, 293, 59])\n",
      "Before transform: torch.Size([1, 32, 585])\n",
      "After transform: torch.Size([32, 293, 59])\n",
      "Before transform: torch.Size([1, 32, 585])\n"
     ]
    },
    {
     "name": "stderr",
     "output_type": "stream",
     "text": [
      "  5%|▍         | 279/5976 [00:02<00:51, 110.36it/s]"
     ]
    },
    {
     "name": "stdout",
     "output_type": "stream",
     "text": [
      "After transform: torch.Size([32, 293, 59])\n",
      "Before transform: torch.Size([1, 32, 585])\n",
      "After transform: torch.Size([32, 293, 59])\n",
      "Before transform: torch.Size([1, 32, 585])\n",
      "After transform: torch.Size([32, 293, 59])\n",
      "Before transform: torch.Size([1, 32, 585])\n",
      "After transform: torch.Size([32, 293, 59])\n",
      "Before transform: torch.Size([1, 32, 585])\n",
      "After transform: torch.Size([32, 293, 59])\n",
      "Before transform: torch.Size([1, 32, 585])\n",
      "After transform: torch.Size([32, 293, 59])\n",
      "Before transform: torch.Size([1, 32, 585])\n",
      "After transform: torch.Size([32, 293, 59])\n",
      "Before transform: torch.Size([1, 32, 585])\n",
      "After transform: torch.Size([32, 293, 59])\n",
      "Before transform: torch.Size([1, 32, 585])\n",
      "After transform: torch.Size([32, 293, 59])\n",
      "Before transform: torch.Size([1, 32, 585])\n"
     ]
    },
    {
     "name": "stderr",
     "output_type": "stream",
     "text": [
      "  5%|▍         | 291/5976 [00:02<00:51, 110.98it/s]"
     ]
    },
    {
     "name": "stdout",
     "output_type": "stream",
     "text": [
      "After transform: torch.Size([32, 293, 59])\n",
      "Before transform: torch.Size([1, 32, 585])\n",
      "After transform: torch.Size([32, 293, 59])\n",
      "Before transform: torch.Size([1, 32, 585])\n",
      "After transform: torch.Size([32, 293, 59])\n",
      "Before transform: torch.Size([1, 32, 585])\n",
      "After transform: torch.Size([32, 293, 59])\n",
      "Before transform: torch.Size([1, 32, 585])\n",
      "After transform: torch.Size([32, 293, 59])\n",
      "Before transform: torch.Size([1, 32, 585])\n",
      "After transform: torch.Size([32, 293, 59])\n",
      "Before transform: torch.Size([1, 32, 585])\n",
      "After transform: torch.Size([32, 293, 59])\n",
      "Before transform: torch.Size([1, 32, 585])\n",
      "After transform: torch.Size([32, 293, 59])\n",
      "Before transform: torch.Size([1, 32, 585])\n",
      "After transform: torch.Size([32, 293, 59])\n",
      "Before transform: torch.Size([1, 32, 585])\n",
      "After transform: torch.Size([32, 293, 59])\n",
      "Before transform: torch.Size([1, 32, 585])\n",
      "After transform: torch.Size([32, 293, 59])\n",
      "Before transform: torch.Size([1, 32, 585])\n",
      "After transform: torch.Size([32, 293, 59])\n",
      "Before transform: torch.Size([1, 32, 585])\n",
      "After transform: torch.Size([32, 293, 59])\n",
      "Before transform: torch.Size([1, 32, 585])\n",
      "After transform: torch.Size([32, 293, 59])\n",
      "Before transform: torch.Size([1, 32, 585])\n"
     ]
    },
    {
     "name": "stderr",
     "output_type": "stream",
     "text": [
      "  5%|▌         | 303/5976 [00:03<01:02, 90.52it/s] "
     ]
    },
    {
     "name": "stdout",
     "output_type": "stream",
     "text": [
      "After transform: torch.Size([32, 293, 59])\n",
      "Before transform: torch.Size([1, 32, 585])\n",
      "After transform: torch.Size([32, 293, 59])\n",
      "Before transform: torch.Size([1, 32, 585])\n",
      "After transform: torch.Size([32, 293, 59])\n",
      "Before transform: torch.Size([1, 32, 585])\n",
      "After transform: torch.Size([32, 293, 59])\n",
      "Before transform: torch.Size([1, 32, 585])\n",
      "After transform: torch.Size([32, 293, 59])\n",
      "Before transform: torch.Size([1, 32, 585])\n",
      "After transform: torch.Size([32, 293, 59])\n",
      "Before transform: torch.Size([1, 32, 585])\n",
      "After transform: torch.Size([32, 293, 59])\n",
      "Before transform: torch.Size([1, 32, 585])\n",
      "After transform: torch.Size([32, 293, 59])\n",
      "Before transform: torch.Size([1, 32, 585])\n",
      "After transform: torch.Size([32, 293, 59])\n",
      "Before transform: torch.Size([1, 32, 585])\n",
      "After transform: torch.Size([32, 293, 59])\n",
      "Before transform: torch.Size([1, 32, 585])\n",
      "After transform: torch.Size([32, 293, 59])\n",
      "Before transform: torch.Size([1, 32, 585])\n",
      "After transform: torch.Size([32, 293, 59])\n",
      "Before transform: torch.Size([1, 32, 585])\n",
      "After transform: torch.Size([32, 293, 59])\n",
      "Before transform: torch.Size([1, 32, 585])\n",
      "After transform: torch.Size([32, 293, 59])\n",
      "Before transform: torch.Size([1, 32, 585])\n",
      "After transform: torch.Size([32, 293, 59])\n",
      "Before transform: torch.Size([1, 32, 585])\n",
      "After transform: torch.Size([32, 293, 59])\n",
      "Before transform: torch.Size([1, 32, 585])\n",
      "After transform: torch.Size([32, 293, 59])\n",
      "Before transform: torch.Size([1, 32, 585])\n",
      "After transform: torch.Size([32, 293, 59])\n",
      "Before transform: torch.Size([1, 32, 585])\n"
     ]
    },
    {
     "name": "stderr",
     "output_type": "stream",
     "text": [
      "  5%|▌         | 315/5976 [00:03<00:58, 97.44it/s]"
     ]
    },
    {
     "name": "stdout",
     "output_type": "stream",
     "text": [
      "After transform: torch.Size([32, 293, 59])\n",
      "Before transform: torch.Size([1, 32, 585])\n",
      "After transform: torch.Size([32, 293, 59])\n",
      "Before transform: torch.Size([1, 32, 585])\n",
      "After transform: torch.Size([32, 293, 59])\n",
      "Before transform: torch.Size([1, 32, 585])\n",
      "After transform: torch.Size([32, 293, 59])\n",
      "Before transform: torch.Size([1, 32, 585])\n",
      "After transform: torch.Size([32, 293, 59])\n",
      "Before transform: torch.Size([1, 32, 585])\n",
      "After transform: torch.Size([32, 293, 59])\n",
      "Before transform: torch.Size([1, 32, 585])\n"
     ]
    },
    {
     "name": "stderr",
     "output_type": "stream",
     "text": [
      "  5%|▌         | 326/5976 [00:03<00:56, 99.93it/s]"
     ]
    },
    {
     "name": "stdout",
     "output_type": "stream",
     "text": [
      "After transform: torch.Size([32, 293, 59])\n",
      "Before transform: torch.Size([1, 32, 585])\n",
      "After transform: torch.Size([32, 293, 59])\n",
      "Before transform: torch.Size([1, 32, 585])\n",
      "After transform: torch.Size([32, 293, 59])\n",
      "Before transform: torch.Size([1, 32, 585])\n",
      "After transform: torch.Size([32, 293, 59])\n",
      "Before transform: torch.Size([1, 32, 585])\n",
      "After transform: torch.Size([32, 293, 59])\n",
      "Before transform: torch.Size([1, 32, 585])\n",
      "After transform: torch.Size([32, 293, 59])\n",
      "Before transform: torch.Size([1, 32, 585])\n",
      "After transform: torch.Size([32, 293, 59])\n",
      "Before transform: torch.Size([1, 32, 585])\n",
      "After transform: torch.Size([32, 293, 59])\n",
      "Before transform: torch.Size([1, 32, 585])\n",
      "After transform: torch.Size([32, 293, 59])\n",
      "Before transform: torch.Size([1, 32, 585])\n",
      "After transform: torch.Size([32, 293, 59])\n",
      "Before transform: torch.Size([1, 32, 585])\n",
      "After transform: torch.Size([32, 293, 59])\n",
      "Before transform: torch.Size([1, 32, 585])\n",
      "After transform: torch.Size([32, 293, 59])\n",
      "Before transform: torch.Size([1, 32, 585])\n",
      "After transform: torch.Size([32, 293, 59])\n",
      "Before transform: torch.Size([1, 32, 585])\n",
      "After transform: torch.Size([32, 293, 59])\n",
      "Before transform: torch.Size([1, 32, 585])\n",
      "After transform: torch.Size([32, 293, 59])\n",
      "Before transform: torch.Size([1, 32, 585])\n",
      "After transform: torch.Size([32, 293, 59])\n",
      "Before transform: torch.Size([1, 32, 585])\n",
      "After transform: torch.Size([32, 293, 59])\n",
      "Before transform: torch.Size([1, 32, 585])\n"
     ]
    },
    {
     "name": "stderr",
     "output_type": "stream",
     "text": [
      "  6%|▌         | 338/5976 [00:03<00:53, 104.68it/s]"
     ]
    },
    {
     "name": "stdout",
     "output_type": "stream",
     "text": [
      "After transform: torch.Size([32, 293, 59])\n",
      "Before transform: torch.Size([1, 32, 585])\n",
      "After transform: torch.Size([32, 293, 59])\n",
      "Before transform: torch.Size([1, 32, 585])\n",
      "After transform: torch.Size([32, 293, 59])\n",
      "Before transform: torch.Size([1, 32, 585])\n",
      "After transform: torch.Size([32, 293, 59])\n",
      "Before transform: torch.Size([1, 32, 585])\n",
      "After transform: torch.Size([32, 293, 59])\n",
      "Before transform: torch.Size([1, 32, 585])\n",
      "After transform: torch.Size([32, 293, 59])\n",
      "Before transform: torch.Size([1, 32, 585])\n"
     ]
    },
    {
     "name": "stderr",
     "output_type": "stream",
     "text": [
      "  6%|▌         | 350/5976 [00:03<00:52, 106.36it/s]"
     ]
    },
    {
     "name": "stdout",
     "output_type": "stream",
     "text": [
      "After transform: torch.Size([32, 293, 59])\n",
      "Before transform: torch.Size([1, 32, 585])\n",
      "After transform: torch.Size([32, 293, 59])\n",
      "Before transform: torch.Size([1, 32, 585])\n",
      "After transform: torch.Size([32, 293, 59])\n",
      "Before transform: torch.Size([1, 32, 585])\n",
      "After transform: torch.Size([32, 293, 59])\n",
      "Before transform: torch.Size([1, 32, 585])\n",
      "After transform: torch.Size([32, 293, 59])\n",
      "Before transform: torch.Size([1, 32, 585])\n",
      "After transform: torch.Size([32, 293, 59])\n",
      "Before transform: torch.Size([1, 32, 585])\n",
      "After transform: torch.Size([32, 293, 59])\n",
      "Before transform: torch.Size([1, 32, 585])\n",
      "After transform: torch.Size([32, 293, 59])\n",
      "Before transform: torch.Size([1, 32, 585])\n",
      "After transform: torch.Size([32, 293, 59])\n",
      "Before transform: torch.Size([1, 32, 585])\n",
      "After transform: torch.Size([32, 293, 59])\n",
      "Before transform: torch.Size([1, 32, 585])\n",
      "After transform: torch.Size([32, 293, 59])\n",
      "Before transform: torch.Size([1, 32, 585])\n",
      "After transform: torch.Size([32, 293, 59])\n",
      "Before transform: torch.Size([1, 32, 585])\n",
      "After transform: torch.Size([32, 293, 59])\n",
      "Before transform: torch.Size([1, 32, 585])\n",
      "After transform: torch.Size([32, 293, 59])\n",
      "Before transform: torch.Size([1, 32, 585])\n",
      "After transform: torch.Size([32, 293, 59])\n",
      "Before transform: torch.Size([1, 32, 585])\n",
      "After transform: torch.Size([32, 293, 59])\n",
      "Before transform: torch.Size([1, 32, 585])\n",
      "After transform: torch.Size([32, 293, 59])\n",
      "Before transform: torch.Size([1, 32, 585])\n"
     ]
    },
    {
     "name": "stderr",
     "output_type": "stream",
     "text": [
      "  6%|▌         | 362/5976 [00:03<00:52, 107.95it/s]"
     ]
    },
    {
     "name": "stdout",
     "output_type": "stream",
     "text": [
      "After transform: torch.Size([32, 293, 59])\n",
      "Before transform: torch.Size([1, 32, 585])\n",
      "After transform: torch.Size([32, 293, 59])\n",
      "Before transform: torch.Size([1, 32, 585])\n",
      "After transform: torch.Size([32, 293, 59])\n",
      "Before transform: torch.Size([1, 32, 585])\n",
      "After transform: torch.Size([32, 293, 59])\n",
      "Before transform: torch.Size([1, 32, 585])\n",
      "After transform: torch.Size([32, 293, 59])\n",
      "Before transform: torch.Size([1, 32, 585])\n",
      "After transform: torch.Size([32, 293, 59])\n",
      "Before transform: torch.Size([1, 32, 585])\n"
     ]
    },
    {
     "name": "stderr",
     "output_type": "stream",
     "text": [
      "  6%|▌         | 373/5976 [00:03<00:51, 108.37it/s]"
     ]
    },
    {
     "name": "stdout",
     "output_type": "stream",
     "text": [
      "After transform: torch.Size([32, 293, 59])\n",
      "Before transform: torch.Size([1, 32, 585])\n",
      "After transform: torch.Size([32, 293, 59])\n",
      "Before transform: torch.Size([1, 32, 585])\n",
      "After transform: torch.Size([32, 293, 59])\n",
      "Before transform: torch.Size([1, 32, 585])\n",
      "After transform: torch.Size([32, 293, 59])\n",
      "Before transform: torch.Size([1, 32, 585])\n",
      "After transform: torch.Size([32, 293, 59])\n",
      "Before transform: torch.Size([1, 32, 585])\n",
      "After transform: torch.Size([32, 293, 59])\n",
      "Before transform: torch.Size([1, 32, 585])\n",
      "After transform: torch.Size([32, 293, 59])\n",
      "Before transform: torch.Size([1, 32, 585])\n",
      "After transform: torch.Size([32, 293, 59])\n",
      "Before transform: torch.Size([1, 32, 585])\n",
      "After transform: torch.Size([32, 293, 59])\n",
      "Before transform: torch.Size([1, 32, 585])\n",
      "After transform: torch.Size([32, 293, 59])\n",
      "Before transform: torch.Size([1, 32, 585])\n",
      "After transform: torch.Size([32, 293, 59])\n",
      "Before transform: torch.Size([1, 32, 585])\n",
      "After transform: torch.Size([32, 293, 59])\n",
      "Before transform: torch.Size([1, 32, 585])\n",
      "After transform: torch.Size([32, 293, 59])\n",
      "Before transform: torch.Size([1, 32, 585])\n",
      "After transform: torch.Size([32, 293, 59])\n",
      "Before transform: torch.Size([1, 32, 585])\n",
      "After transform: torch.Size([32, 293, 59])\n",
      "Before transform: torch.Size([1, 32, 585])\n",
      "After transform: torch.Size([32, 293, 59])\n",
      "Before transform: torch.Size([1, 32, 585])\n"
     ]
    },
    {
     "name": "stderr",
     "output_type": "stream",
     "text": [
      "  6%|▋         | 384/5976 [00:03<00:51, 108.49it/s]"
     ]
    },
    {
     "name": "stdout",
     "output_type": "stream",
     "text": [
      "After transform: torch.Size([32, 293, 59])\n",
      "Before transform: torch.Size([1, 32, 585])\n",
      "After transform: torch.Size([32, 293, 59])\n",
      "Before transform: torch.Size([1, 32, 585])\n",
      "After transform: torch.Size([32, 293, 59])\n",
      "Before transform: torch.Size([1, 32, 585])\n",
      "After transform: torch.Size([32, 293, 59])\n",
      "Before transform: torch.Size([1, 32, 585])\n",
      "After transform: torch.Size([32, 293, 59])\n",
      "Before transform: torch.Size([1, 32, 585])\n",
      "After transform: torch.Size([32, 293, 59])\n",
      "Before transform: torch.Size([1, 32, 585])\n"
     ]
    },
    {
     "name": "stderr",
     "output_type": "stream",
     "text": [
      "  7%|▋         | 395/5976 [00:03<00:51, 107.93it/s]"
     ]
    },
    {
     "name": "stdout",
     "output_type": "stream",
     "text": [
      "After transform: torch.Size([32, 293, 59])\n",
      "Before transform: torch.Size([1, 32, 585])\n",
      "After transform: torch.Size([32, 293, 59])\n",
      "Before transform: torch.Size([1, 32, 585])\n",
      "After transform: torch.Size([32, 293, 59])\n",
      "Before transform: torch.Size([1, 32, 585])\n",
      "After transform: torch.Size([32, 293, 59])\n",
      "Before transform: torch.Size([1, 32, 585])\n",
      "After transform: torch.Size([32, 293, 59])\n",
      "Before transform: torch.Size([1, 32, 585])\n",
      "After transform: torch.Size([32, 293, 59])\n",
      "Before transform: torch.Size([1, 32, 585])\n",
      "After transform: torch.Size([32, 293, 59])\n",
      "Before transform: torch.Size([1, 32, 585])\n",
      "After transform: torch.Size([32, 293, 59])\n",
      "Before transform: torch.Size([1, 32, 585])\n",
      "After transform: torch.Size([32, 293, 59])\n",
      "Before transform: torch.Size([1, 32, 585])\n",
      "After transform: torch.Size([32, 293, 59])\n",
      "Before transform: torch.Size([1, 32, 585])\n",
      "After transform: torch.Size([32, 293, 59])\n",
      "Before transform: torch.Size([1, 32, 585])\n",
      "After transform: torch.Size([32, 293, 59])\n",
      "Before transform: torch.Size([1, 32, 585])\n",
      "After transform: torch.Size([32, 293, 59])\n",
      "Before transform: torch.Size([1, 32, 585])\n",
      "After transform: torch.Size([32, 293, 59])\n",
      "Before transform: torch.Size([1, 32, 585])\n",
      "After transform: torch.Size([32, 293, 59])\n",
      "Before transform: torch.Size([1, 32, 585])\n",
      "After transform: torch.Size([32, 293, 59])\n",
      "Before transform: torch.Size([1, 32, 585])\n",
      "After transform: torch.Size([32, 293, 59])\n",
      "Before transform: torch.Size([1, 32, 585])\n"
     ]
    },
    {
     "name": "stderr",
     "output_type": "stream",
     "text": [
      "  7%|▋         | 407/5976 [00:04<00:51, 109.08it/s]"
     ]
    },
    {
     "name": "stdout",
     "output_type": "stream",
     "text": [
      "After transform: torch.Size([32, 293, 59])\n",
      "Before transform: torch.Size([1, 32, 585])\n",
      "After transform: torch.Size([32, 293, 59])\n",
      "Before transform: torch.Size([1, 32, 585])\n",
      "After transform: torch.Size([32, 293, 59])\n",
      "Before transform: torch.Size([1, 32, 585])\n",
      "After transform: torch.Size([32, 293, 59])\n",
      "Before transform: torch.Size([1, 32, 585])\n",
      "After transform: torch.Size([32, 293, 59])\n",
      "Before transform: torch.Size([1, 32, 585])\n",
      "After transform: torch.Size([32, 293, 59])\n",
      "Before transform: torch.Size([1, 32, 585])\n",
      "After transform: torch.Size([32, 293, 59])\n",
      "Before transform: torch.Size([1, 32, 585])\n",
      "After transform: torch.Size([32, 293, 59])\n",
      "Before transform: torch.Size([1, 32, 585])\n",
      "After transform: torch.Size([32, 293, 59])\n",
      "Before transform: torch.Size([1, 32, 585])\n",
      "After transform: torch.Size([32, 293, 59])\n",
      "Before transform: torch.Size([1, 32, 585])\n",
      "After transform: torch.Size([32, 293, 59])\n",
      "Before transform: torch.Size([1, 32, 585])\n"
     ]
    },
    {
     "name": "stderr",
     "output_type": "stream",
     "text": [
      "  7%|▋         | 418/5976 [00:04<01:05, 84.40it/s] "
     ]
    },
    {
     "name": "stdout",
     "output_type": "stream",
     "text": [
      "After transform: torch.Size([32, 293, 59])\n",
      "Before transform: torch.Size([1, 32, 585])\n",
      "After transform: torch.Size([32, 293, 59])\n",
      "Before transform: torch.Size([1, 32, 585])\n",
      "After transform: torch.Size([32, 293, 59])\n",
      "Before transform: torch.Size([1, 32, 585])\n",
      "After transform: torch.Size([32, 293, 59])\n",
      "Before transform: torch.Size([1, 32, 585])\n",
      "After transform: torch.Size([32, 293, 59])\n",
      "Before transform: torch.Size([1, 32, 585])\n",
      "After transform: torch.Size([32, 293, 59])\n",
      "Before transform: torch.Size([1, 32, 585])\n",
      "After transform: torch.Size([32, 293, 59])\n",
      "Before transform: torch.Size([1, 32, 585])\n",
      "After transform: torch.Size([32, 293, 59])\n",
      "Before transform: torch.Size([1, 32, 585])\n",
      "After transform: torch.Size([32, 293, 59])\n",
      "Before transform: torch.Size([1, 32, 585])\n",
      "After transform: torch.Size([32, 293, 59])\n",
      "Before transform: torch.Size([1, 32, 585])\n",
      "After transform: torch.Size([32, 293, 59])\n",
      "Before transform: torch.Size([1, 32, 585])\n",
      "After transform: torch.Size([32, 293, 59])\n",
      "Before transform: torch.Size([1, 32, 585])\n"
     ]
    },
    {
     "name": "stderr",
     "output_type": "stream",
     "text": [
      "  7%|▋         | 429/5976 [00:04<01:01, 89.74it/s]"
     ]
    },
    {
     "name": "stdout",
     "output_type": "stream",
     "text": [
      "After transform: torch.Size([32, 293, 59])\n",
      "Before transform: torch.Size([1, 32, 585])\n",
      "After transform: torch.Size([32, 293, 59])\n",
      "Before transform: torch.Size([1, 32, 585])\n",
      "After transform: torch.Size([32, 293, 59])\n",
      "Before transform: torch.Size([1, 32, 585])\n",
      "After transform: torch.Size([32, 293, 59])\n",
      "Before transform: torch.Size([1, 32, 585])\n",
      "After transform: torch.Size([32, 293, 59])\n",
      "Before transform: torch.Size([1, 32, 585])\n",
      "After transform: torch.Size([32, 293, 59])\n",
      "Before transform: torch.Size([1, 32, 585])\n",
      "After transform: torch.Size([32, 293, 59])\n",
      "Before transform: torch.Size([1, 32, 585])\n",
      "After transform: torch.Size([32, 293, 59])\n",
      "Before transform: torch.Size([1, 32, 585])\n",
      "After transform: torch.Size([32, 293, 59])\n",
      "Before transform: torch.Size([1, 32, 585])\n",
      "After transform: torch.Size([32, 293, 59])\n",
      "Before transform: torch.Size([1, 32, 585])\n"
     ]
    },
    {
     "name": "stderr",
     "output_type": "stream",
     "text": [
      "  7%|▋         | 440/5976 [00:04<00:58, 94.13it/s]"
     ]
    },
    {
     "name": "stdout",
     "output_type": "stream",
     "text": [
      "After transform: torch.Size([32, 293, 59])\n",
      "Before transform: torch.Size([1, 32, 585])\n",
      "After transform: torch.Size([32, 293, 59])\n",
      "Before transform: torch.Size([1, 32, 585])\n",
      "After transform: torch.Size([32, 293, 59])\n",
      "Before transform: torch.Size([1, 32, 585])\n",
      "After transform: torch.Size([32, 293, 59])\n",
      "Before transform: torch.Size([1, 32, 585])\n",
      "After transform: torch.Size([32, 293, 59])\n",
      "Before transform: torch.Size([1, 32, 585])\n",
      "After transform: torch.Size([32, 293, 59])\n",
      "Before transform: torch.Size([1, 32, 585])\n",
      "After transform: torch.Size([32, 293, 59])\n",
      "Before transform: torch.Size([1, 32, 585])\n"
     ]
    },
    {
     "name": "stderr",
     "output_type": "stream",
     "text": [
      "  8%|▊         | 450/5976 [00:04<01:04, 85.53it/s]"
     ]
    },
    {
     "name": "stdout",
     "output_type": "stream",
     "text": [
      "After transform: torch.Size([32, 293, 59])\n",
      "Before transform: torch.Size([1, 32, 585])\n",
      "After transform: torch.Size([32, 293, 59])\n",
      "Before transform: torch.Size([1, 32, 585])\n",
      "After transform: torch.Size([32, 293, 59])\n",
      "Before transform: torch.Size([1, 32, 585])\n",
      "After transform: torch.Size([32, 293, 59])\n",
      "Before transform: torch.Size([1, 32, 585])\n",
      "After transform: torch.Size([32, 293, 59])\n",
      "Before transform: torch.Size([1, 32, 585])\n",
      "After transform: torch.Size([32, 293, 59])\n",
      "Before transform: torch.Size([1, 32, 585])\n",
      "After transform: torch.Size([32, 293, 59])\n",
      "Before transform: torch.Size([1, 32, 585])\n",
      "After transform: torch.Size([32, 293, 59])\n",
      "Before transform: torch.Size([1, 32, 585])\n",
      "After transform: torch.Size([32, 293, 59])\n",
      "Before transform: torch.Size([1, 32, 585])\n"
     ]
    },
    {
     "name": "stderr",
     "output_type": "stream",
     "text": [
      "  8%|▊         | 460/5976 [00:04<01:04, 85.89it/s]"
     ]
    },
    {
     "name": "stdout",
     "output_type": "stream",
     "text": [
      "After transform: torch.Size([32, 293, 59])\n",
      "Before transform: torch.Size([1, 32, 585])\n",
      "After transform: torch.Size([32, 293, 59])\n",
      "Before transform: torch.Size([1, 32, 585])\n",
      "After transform: torch.Size([32, 293, 59])\n",
      "Before transform: torch.Size([1, 32, 585])\n",
      "After transform: torch.Size([32, 293, 59])\n",
      "Before transform: torch.Size([1, 32, 585])\n",
      "After transform: torch.Size([32, 293, 59])\n",
      "Before transform: torch.Size([1, 32, 585])\n",
      "After transform: torch.Size([32, 293, 59])\n",
      "Before transform: torch.Size([1, 32, 585])\n",
      "After transform: torch.Size([32, 293, 59])\n",
      "Before transform: torch.Size([1, 32, 585])\n",
      "After transform: torch.Size([32, 293, 59])\n",
      "Before transform: torch.Size([1, 32, 585])\n",
      "After transform: torch.Size([32, 293, 59])\n",
      "Before transform: torch.Size([1, 32, 585])\n",
      "After transform: torch.Size([32, 293, 59])\n",
      "Before transform: torch.Size([1, 32, 585])\n"
     ]
    },
    {
     "name": "stderr",
     "output_type": "stream",
     "text": [
      "  8%|▊         | 470/5976 [00:04<01:02, 87.69it/s]"
     ]
    },
    {
     "name": "stdout",
     "output_type": "stream",
     "text": [
      "After transform: torch.Size([32, 293, 59])\n",
      "Before transform: torch.Size([1, 32, 585])\n",
      "After transform: torch.Size([32, 293, 59])\n",
      "Before transform: torch.Size([1, 32, 585])\n",
      "After transform: torch.Size([32, 293, 59])\n",
      "Before transform: torch.Size([1, 32, 585])\n",
      "After transform: torch.Size([32, 293, 59])\n",
      "Before transform: torch.Size([1, 32, 585])\n",
      "After transform: torch.Size([32, 293, 59])\n",
      "Before transform: torch.Size([1, 32, 585])\n",
      "After transform: torch.Size([32, 293, 59])\n",
      "Before transform: torch.Size([1, 32, 585])\n",
      "After transform: torch.Size([32, 293, 59])\n",
      "Before transform: torch.Size([1, 32, 585])\n",
      "After transform: torch.Size([32, 293, 59])\n",
      "Before transform: torch.Size([1, 32, 585])\n",
      "After transform: torch.Size([32, 293, 59])\n",
      "Before transform: torch.Size([1, 32, 585])\n",
      "After transform: torch.Size([32, 293, 59])\n",
      "Before transform: torch.Size([1, 32, 585])\n",
      "After transform: torch.Size([32, 293, 59])\n",
      "Before transform: torch.Size([1, 32, 585])\n",
      "After transform: torch.Size([32, 293, 59])\n",
      "Before transform: torch.Size([1, 32, 585])\n",
      "After transform: torch.Size([32, 293, 59])\n",
      "Before transform: torch.Size([1, 32, 585])\n",
      "After transform: torch.Size([32, 293, 59])\n",
      "Before transform: torch.Size([1, 32, 585])\n"
     ]
    },
    {
     "name": "stderr",
     "output_type": "stream",
     "text": [
      "  8%|▊         | 480/5976 [00:04<01:09, 78.69it/s]"
     ]
    },
    {
     "name": "stdout",
     "output_type": "stream",
     "text": [
      "After transform: torch.Size([32, 293, 59])\n",
      "Before transform: torch.Size([1, 32, 585])\n",
      "After transform: torch.Size([32, 293, 59])\n",
      "Before transform: torch.Size([1, 32, 585])\n",
      "After transform: torch.Size([32, 293, 59])\n",
      "Before transform: torch.Size([1, 32, 585])\n",
      "After transform: torch.Size([32, 293, 59])\n",
      "Before transform: torch.Size([1, 32, 585])\n",
      "After transform: torch.Size([32, 293, 59])\n",
      "Before transform: torch.Size([1, 32, 585])\n"
     ]
    },
    {
     "name": "stderr",
     "output_type": "stream",
     "text": [
      "  8%|▊         | 489/5976 [00:05<01:14, 73.88it/s]"
     ]
    },
    {
     "name": "stdout",
     "output_type": "stream",
     "text": [
      "After transform: torch.Size([32, 293, 59])\n",
      "Before transform: torch.Size([1, 32, 585])\n",
      "After transform: torch.Size([32, 293, 59])\n",
      "Before transform: torch.Size([1, 32, 585])\n",
      "After transform: torch.Size([32, 293, 59])\n",
      "Before transform: torch.Size([1, 32, 585])\n",
      "After transform: torch.Size([32, 293, 59])\n",
      "Before transform: torch.Size([1, 32, 585])\n",
      "After transform: torch.Size([32, 293, 59])\n",
      "Before transform: torch.Size([1, 32, 585])\n",
      "After transform: torch.Size([32, 293, 59])\n",
      "Before transform: torch.Size([1, 32, 585])\n",
      "After transform: torch.Size([32, 293, 59])\n",
      "Before transform: torch.Size([1, 32, 585])\n",
      "After transform: torch.Size([32, 293, 59])\n",
      "Before transform: torch.Size([1, 32, 585])\n",
      "After transform: torch.Size([32, 293, 59])\n",
      "Before transform: torch.Size([1, 32, 585])\n"
     ]
    },
    {
     "name": "stderr",
     "output_type": "stream",
     "text": [
      "  8%|▊         | 498/5976 [00:05<01:11, 77.12it/s]"
     ]
    },
    {
     "name": "stdout",
     "output_type": "stream",
     "text": [
      "After transform: torch.Size([32, 293, 59])\n",
      "Before transform: torch.Size([1, 32, 585])\n",
      "After transform: torch.Size([32, 293, 59])\n",
      "Before transform: torch.Size([1, 32, 585])\n",
      "After transform: torch.Size([32, 293, 59])\n",
      "Before transform: torch.Size([1, 32, 585])\n",
      "After transform: torch.Size([32, 293, 59])\n",
      "Before transform: torch.Size([1, 32, 585])\n",
      "After transform: torch.Size([32, 293, 59])\n",
      "Before transform: torch.Size([1, 32, 585])\n",
      "After transform: torch.Size([32, 293, 59])\n",
      "Before transform: torch.Size([1, 32, 585])\n",
      "After transform: torch.Size([32, 293, 59])\n",
      "Before transform: torch.Size([1, 32, 585])\n",
      "After transform: torch.Size([32, 293, 59])\n",
      "Before transform: torch.Size([1, 32, 585])\n",
      "After transform: torch.Size([32, 293, 59])\n",
      "Before transform: torch.Size([1, 32, 585])\n"
     ]
    },
    {
     "name": "stderr",
     "output_type": "stream",
     "text": [
      "  8%|▊         | 507/5976 [00:05<01:08, 79.73it/s]"
     ]
    },
    {
     "name": "stdout",
     "output_type": "stream",
     "text": [
      "After transform: torch.Size([32, 293, 59])\n",
      "Before transform: torch.Size([1, 32, 585])\n",
      "After transform: torch.Size([32, 293, 59])\n",
      "Before transform: torch.Size([1, 32, 585])\n",
      "After transform: torch.Size([32, 293, 59])\n",
      "Before transform: torch.Size([1, 32, 585])\n",
      "After transform: torch.Size([32, 293, 59])\n",
      "Before transform: torch.Size([1, 32, 585])\n",
      "After transform: torch.Size([32, 293, 59])\n",
      "Before transform: torch.Size([1, 32, 585])\n",
      "After transform: torch.Size([32, 293, 59])\n",
      "Before transform: torch.Size([1, 32, 585])\n",
      "After transform: torch.Size([32, 293, 59])\n",
      "Before transform: torch.Size([1, 32, 585])\n",
      "After transform: torch.Size([32, 293, 59])\n",
      "Before transform: torch.Size([1, 32, 585])\n"
     ]
    },
    {
     "name": "stderr",
     "output_type": "stream",
     "text": [
      "  9%|▉         | 526/5976 [00:05<01:17, 70.52it/s]"
     ]
    },
    {
     "name": "stdout",
     "output_type": "stream",
     "text": [
      "After transform: torch.Size([32, 293, 59])\n",
      "Before transform: torch.Size([1, 32, 585])\n",
      "After transform: torch.Size([32, 293, 59])\n",
      "Before transform: torch.Size([1, 32, 585])\n",
      "After transform: torch.Size([32, 293, 59])\n",
      "Before transform: torch.Size([1, 32, 585])\n",
      "After transform: torch.Size([32, 293, 59])\n",
      "Before transform: torch.Size([1, 32, 585])\n",
      "After transform: torch.Size([32, 293, 59])\n",
      "Before transform: torch.Size([1, 32, 585])\n",
      "After transform: torch.Size([32, 293, 59])\n",
      "Before transform: torch.Size([1, 32, 585])\n",
      "After transform: torch.Size([32, 293, 59])\n",
      "Before transform: torch.Size([1, 32, 585])\n",
      "After transform: torch.Size([32, 293, 59])\n",
      "Before transform: torch.Size([1, 32, 585])\n",
      "After transform: torch.Size([32, 293, 59])\n",
      "Before transform: torch.Size([1, 32, 585])\n",
      "After transform: torch.Size([32, 293, 59])\n",
      "Before transform: torch.Size([1, 32, 585])\n",
      "After transform: torch.Size([32, 293, 59])\n",
      "Before transform: torch.Size([1, 32, 585])\n",
      "After transform: torch.Size([32, 293, 59])\n",
      "Before transform: torch.Size([1, 32, 585])\n",
      "After transform: torch.Size([32, 293, 59])\n",
      "Before transform: torch.Size([1, 32, 585])\n",
      "After transform: torch.Size([32, 293, 59])\n",
      "Before transform: torch.Size([1, 32, 585])\n",
      "After transform: torch.Size([32, 293, 59])\n",
      "Before transform: torch.Size([1, 32, 585])\n",
      "After transform: torch.Size([32, 293, 59])\n",
      "Before transform: torch.Size([1, 32, 585])\n",
      "After transform: torch.Size([32, 293, 59])\n",
      "Before transform: torch.Size([1, 32, 585])\n",
      "After transform: torch.Size([32, 293, 59])\n",
      "Before transform: torch.Size([1, 32, 585])\n",
      "After transform: torch.Size([32, 293, 59])\n",
      "Before transform: torch.Size([1, 32, 585])\n"
     ]
    },
    {
     "name": "stderr",
     "output_type": "stream",
     "text": [
      "  9%|▉         | 545/5976 [00:05<01:07, 80.50it/s]"
     ]
    },
    {
     "name": "stdout",
     "output_type": "stream",
     "text": [
      "After transform: torch.Size([32, 293, 59])\n",
      "Before transform: torch.Size([1, 32, 585])\n",
      "After transform: torch.Size([32, 293, 59])\n",
      "Before transform: torch.Size([1, 32, 585])\n",
      "After transform: torch.Size([32, 293, 59])\n",
      "Before transform: torch.Size([1, 32, 585])\n",
      "After transform: torch.Size([32, 293, 59])\n",
      "Before transform: torch.Size([1, 32, 585])\n",
      "After transform: torch.Size([32, 293, 59])\n",
      "Before transform: torch.Size([1, 32, 585])\n",
      "After transform: torch.Size([32, 293, 59])\n",
      "Before transform: torch.Size([1, 32, 585])\n",
      "After transform: torch.Size([32, 293, 59])\n",
      "Before transform: torch.Size([1, 32, 585])\n",
      "After transform: torch.Size([32, 293, 59])\n",
      "Before transform: torch.Size([1, 32, 585])\n",
      "After transform: torch.Size([32, 293, 59])\n",
      "Before transform: torch.Size([1, 32, 585])\n",
      "After transform: torch.Size([32, 293, 59])\n",
      "Before transform: torch.Size([1, 32, 585])\n",
      "After transform: torch.Size([32, 293, 59])\n",
      "Before transform: torch.Size([1, 32, 585])\n",
      "After transform: torch.Size([32, 293, 59])\n",
      "Before transform: torch.Size([1, 32, 585])\n",
      "After transform: torch.Size([32, 293, 59])\n",
      "Before transform: torch.Size([1, 32, 585])\n",
      "After transform: torch.Size([32, 293, 59])\n",
      "Before transform: torch.Size([1, 32, 585])\n",
      "After transform: torch.Size([32, 293, 59])\n",
      "Before transform: torch.Size([1, 32, 585])\n",
      "After transform: torch.Size([32, 293, 59])\n",
      "Before transform: torch.Size([1, 32, 585])\n",
      "After transform: torch.Size([32, 293, 59])\n",
      "Before transform: torch.Size([1, 32, 585])\n",
      "After transform: torch.Size([32, 293, 59])\n",
      "Before transform: torch.Size([1, 32, 585])\n",
      "After transform: torch.Size([32, 293, 59])\n",
      "Before transform: torch.Size([1, 32, 585])\n",
      "After transform: torch.Size([32, 293, 59])\n",
      "Before transform: torch.Size([1, 32, 585])\n",
      "After transform: torch.Size([32, 293, 59])\n",
      "Before transform: torch.Size([1, 32, 585])\n",
      "After transform: torch.Size([32, 293, 59])\n",
      "Before transform: torch.Size([1, 32, 585])\n"
     ]
    },
    {
     "name": "stderr",
     "output_type": "stream",
     "text": [
      "  9%|▉         | 554/5976 [00:06<01:51, 48.57it/s]"
     ]
    },
    {
     "name": "stdout",
     "output_type": "stream",
     "text": [
      "After transform: torch.Size([32, 293, 59])\n",
      "Before transform: torch.Size([1, 32, 585])\n",
      "After transform: torch.Size([32, 293, 59])\n",
      "Before transform: torch.Size([1, 32, 585])\n",
      "After transform: torch.Size([32, 293, 59])\n",
      "Before transform: torch.Size([1, 32, 585])\n",
      "After transform: torch.Size([32, 293, 59])\n",
      "Before transform: torch.Size([1, 32, 585])\n",
      "After transform: torch.Size([32, 293, 59])\n",
      "Before transform: torch.Size([1, 32, 585])\n",
      "After transform: torch.Size([32, 293, 59])\n",
      "Before transform: torch.Size([1, 32, 585])\n",
      "After transform: torch.Size([32, 293, 59])\n",
      "Before transform: torch.Size([1, 32, 585])\n",
      "After transform: torch.Size([32, 293, 59])\n",
      "Before transform: torch.Size([1, 32, 585])\n",
      "After transform: torch.Size([32, 293, 59])\n",
      "Before transform: torch.Size([1, 32, 585])\n"
     ]
    },
    {
     "name": "stderr",
     "output_type": "stream",
     "text": [
      "  9%|▉         | 561/5976 [00:06<02:12, 40.79it/s]"
     ]
    },
    {
     "name": "stdout",
     "output_type": "stream",
     "text": [
      "After transform: torch.Size([32, 293, 59])\n",
      "Before transform: torch.Size([1, 32, 585])\n",
      "After transform: torch.Size([32, 293, 59])\n",
      "Before transform: torch.Size([1, 32, 585])\n",
      "After transform: torch.Size([32, 293, 59])\n",
      "Before transform: torch.Size([1, 32, 585])\n",
      "After transform: torch.Size([32, 293, 59])\n",
      "Before transform: torch.Size([1, 32, 585])\n",
      "After transform: torch.Size([32, 293, 59])\n",
      "Before transform: torch.Size([1, 32, 585])\n"
     ]
    },
    {
     "name": "stderr",
     "output_type": "stream",
     "text": [
      " 10%|▉         | 574/5976 [00:06<01:53, 47.66it/s]"
     ]
    },
    {
     "name": "stdout",
     "output_type": "stream",
     "text": [
      "After transform: torch.Size([32, 293, 59])\n",
      "Before transform: torch.Size([1, 32, 585])\n",
      "After transform: torch.Size([32, 293, 59])\n",
      "Before transform: torch.Size([1, 32, 585])\n",
      "After transform: torch.Size([32, 293, 59])\n",
      "Before transform: torch.Size([1, 32, 585])\n",
      "After transform: torch.Size([32, 293, 59])\n",
      "Before transform: torch.Size([1, 32, 585])\n",
      "After transform: torch.Size([32, 293, 59])\n",
      "Before transform: torch.Size([1, 32, 585])\n",
      "After transform: torch.Size([32, 293, 59])\n",
      "Before transform: torch.Size([1, 32, 585])\n",
      "After transform: torch.Size([32, 293, 59])\n",
      "Before transform: torch.Size([1, 32, 585])\n",
      "After transform: torch.Size([32, 293, 59])\n",
      "Before transform: torch.Size([1, 32, 585])\n",
      "After transform: torch.Size([32, 293, 59])\n",
      "Before transform: torch.Size([1, 32, 585])\n",
      "After transform: torch.Size([32, 293, 59])\n",
      "Before transform: torch.Size([1, 32, 585])\n",
      "After transform: torch.Size([32, 293, 59])\n",
      "Before transform: torch.Size([1, 32, 585])\n",
      "After transform: torch.Size([32, 293, 59])\n",
      "Before transform: torch.Size([1, 32, 585])\n",
      "After transform: torch.Size([32, 293, 59])\n",
      "Before transform: torch.Size([1, 32, 585])\n",
      "After transform: torch.Size([32, 293, 59])\n",
      "Before transform: torch.Size([1, 32, 585])\n",
      "After transform: torch.Size([32, 293, 59])\n",
      "Before transform: torch.Size([1, 32, 585])\n"
     ]
    },
    {
     "name": "stderr",
     "output_type": "stream",
     "text": [
      " 10%|▉         | 589/5976 [00:06<01:44, 51.56it/s]"
     ]
    },
    {
     "name": "stdout",
     "output_type": "stream",
     "text": [
      "After transform: torch.Size([32, 293, 59])\n",
      "Before transform: torch.Size([1, 32, 585])\n",
      "After transform: torch.Size([32, 293, 59])\n",
      "Before transform: torch.Size([1, 32, 585])\n",
      "After transform: torch.Size([32, 293, 59])\n",
      "Before transform: torch.Size([1, 32, 585])\n",
      "After transform: torch.Size([32, 293, 59])\n",
      "Before transform: torch.Size([1, 32, 585])\n",
      "After transform: torch.Size([32, 293, 59])\n",
      "Before transform: torch.Size([1, 32, 585])\n",
      "After transform: torch.Size([32, 293, 59])\n",
      "Before transform: torch.Size([1, 32, 585])\n",
      "After transform: torch.Size([32, 293, 59])\n",
      "Before transform: torch.Size([1, 32, 585])\n",
      "After transform: torch.Size([32, 293, 59])\n",
      "Before transform: torch.Size([1, 32, 585])\n",
      "After transform: torch.Size([32, 293, 59])\n",
      "Before transform: torch.Size([1, 32, 585])\n",
      "After transform: torch.Size([32, 293, 59])\n",
      "Before transform: torch.Size([1, 32, 585])\n",
      "After transform: torch.Size([32, 293, 59])\n",
      "Before transform: torch.Size([1, 32, 585])\n"
     ]
    },
    {
     "name": "stderr",
     "output_type": "stream",
     "text": [
      " 10%|█         | 606/5976 [00:07<01:22, 65.04it/s]"
     ]
    },
    {
     "name": "stdout",
     "output_type": "stream",
     "text": [
      "After transform: torch.Size([32, 293, 59])\n",
      "Before transform: torch.Size([1, 32, 585])\n",
      "After transform: torch.Size([32, 293, 59])\n",
      "Before transform: torch.Size([1, 32, 585])\n",
      "After transform: torch.Size([32, 293, 59])\n",
      "Before transform: torch.Size([1, 32, 585])\n",
      "After transform: torch.Size([32, 293, 59])\n",
      "Before transform: torch.Size([1, 32, 585])\n",
      "After transform: torch.Size([32, 293, 59])\n",
      "Before transform: torch.Size([1, 32, 585])\n",
      "After transform: torch.Size([32, 293, 59])\n",
      "Before transform: torch.Size([1, 32, 585])\n",
      "After transform: torch.Size([32, 293, 59])\n",
      "Before transform: torch.Size([1, 32, 585])\n",
      "After transform: torch.Size([32, 293, 59])\n",
      "Before transform: torch.Size([1, 32, 585])\n",
      "After transform: torch.Size([32, 293, 59])\n",
      "Before transform: torch.Size([1, 32, 585])\n",
      "After transform: torch.Size([32, 293, 59])\n",
      "Before transform: torch.Size([1, 32, 585])\n",
      "After transform: torch.Size([32, 293, 59])\n",
      "Before transform: torch.Size([1, 32, 585])\n",
      "After transform: torch.Size([32, 293, 59])\n",
      "Before transform: torch.Size([1, 32, 585])\n",
      "After transform: torch.Size([32, 293, 59])\n",
      "Before transform: torch.Size([1, 32, 585])\n",
      "After transform: torch.Size([32, 293, 59])\n",
      "Before transform: torch.Size([1, 32, 585])\n",
      "After transform: torch.Size([32, 293, 59])\n",
      "Before transform: torch.Size([1, 32, 585])\n",
      "After transform: torch.Size([32, 293, 59])\n",
      "Before transform: torch.Size([1, 32, 585])\n",
      "After transform: torch.Size([32, 293, 59])\n",
      "Before transform: torch.Size([1, 32, 585])\n",
      "After transform: torch.Size([32, 293, 59])\n",
      "Before transform: torch.Size([1, 32, 585])\n"
     ]
    },
    {
     "name": "stderr",
     "output_type": "stream",
     "text": [
      " 10%|█         | 614/5976 [00:07<01:19, 67.47it/s]"
     ]
    },
    {
     "name": "stdout",
     "output_type": "stream",
     "text": [
      "After transform: torch.Size([32, 293, 59])\n",
      "Before transform: torch.Size([1, 32, 585])\n",
      "After transform: torch.Size([32, 293, 59])\n",
      "Before transform: torch.Size([1, 32, 585])\n",
      "After transform: torch.Size([32, 293, 59])\n",
      "Before transform: torch.Size([1, 32, 585])\n",
      "After transform: torch.Size([32, 293, 59])\n",
      "Before transform: torch.Size([1, 32, 585])\n",
      "After transform: torch.Size([32, 293, 59])\n",
      "Before transform: torch.Size([1, 32, 585])\n",
      "After transform: torch.Size([32, 293, 59])\n",
      "Before transform: torch.Size([1, 32, 585])\n",
      "After transform: torch.Size([32, 293, 59])\n",
      "Before transform: torch.Size([1, 32, 585])\n",
      "After transform: torch.Size([32, 293, 59])\n",
      "Before transform: torch.Size([1, 32, 585])\n"
     ]
    },
    {
     "name": "stderr",
     "output_type": "stream",
     "text": [
      " 11%|█         | 631/5976 [00:07<01:45, 50.79it/s]"
     ]
    },
    {
     "name": "stdout",
     "output_type": "stream",
     "text": [
      "After transform: torch.Size([32, 293, 59])\n",
      "Before transform: torch.Size([1, 32, 585])\n",
      "After transform: torch.Size([32, 293, 59])\n",
      "Before transform: torch.Size([1, 32, 585])\n",
      "After transform: torch.Size([32, 293, 59])\n",
      "Before transform: torch.Size([1, 32, 585])\n",
      "After transform: torch.Size([32, 293, 59])\n",
      "Before transform: torch.Size([1, 32, 585])\n",
      "After transform: torch.Size([32, 293, 59])\n",
      "Before transform: torch.Size([1, 32, 585])\n",
      "After transform: torch.Size([32, 293, 59])\n",
      "Before transform: torch.Size([1, 32, 585])\n",
      "After transform: torch.Size([32, 293, 59])\n",
      "Before transform: torch.Size([1, 32, 585])\n",
      "After transform: torch.Size([32, 293, 59])\n",
      "Before transform: torch.Size([1, 32, 585])\n",
      "After transform: torch.Size([32, 293, 59])\n",
      "Before transform: torch.Size([1, 32, 585])\n",
      "After transform: torch.Size([32, 293, 59])\n",
      "Before transform: torch.Size([1, 32, 585])\n",
      "After transform: torch.Size([32, 293, 59])\n",
      "Before transform: torch.Size([1, 32, 585])\n",
      "After transform: torch.Size([32, 293, 59])\n",
      "Before transform: torch.Size([1, 32, 585])\n",
      "After transform: torch.Size([32, 293, 59])\n",
      "Before transform: torch.Size([1, 32, 585])\n",
      "After transform: torch.Size([32, 293, 59])\n",
      "Before transform: torch.Size([1, 32, 585])\n",
      "After transform: torch.Size([32, 293, 59])\n",
      "Before transform: torch.Size([1, 32, 585])\n",
      "After transform: torch.Size([32, 293, 59])\n",
      "Before transform: torch.Size([1, 32, 585])\n"
     ]
    },
    {
     "name": "stderr",
     "output_type": "stream",
     "text": [
      " 11%|█         | 649/5976 [00:07<01:20, 66.02it/s]"
     ]
    },
    {
     "name": "stdout",
     "output_type": "stream",
     "text": [
      "After transform: torch.Size([32, 293, 59])\n",
      "Before transform: torch.Size([1, 32, 585])\n",
      "After transform: torch.Size([32, 293, 59])\n",
      "Before transform: torch.Size([1, 32, 585])\n",
      "After transform: torch.Size([32, 293, 59])\n",
      "Before transform: torch.Size([1, 32, 585])\n",
      "After transform: torch.Size([32, 293, 59])\n",
      "Before transform: torch.Size([1, 32, 585])\n",
      "After transform: torch.Size([32, 293, 59])\n",
      "Before transform: torch.Size([1, 32, 585])\n",
      "After transform: torch.Size([32, 293, 59])\n",
      "Before transform: torch.Size([1, 32, 585])\n",
      "After transform: torch.Size([32, 293, 59])\n",
      "Before transform: torch.Size([1, 32, 585])\n",
      "After transform: torch.Size([32, 293, 59])\n",
      "Before transform: torch.Size([1, 32, 585])\n",
      "After transform: torch.Size([32, 293, 59])\n",
      "Before transform: torch.Size([1, 32, 585])\n",
      "After transform: torch.Size([32, 293, 59])\n",
      "Before transform: torch.Size([1, 32, 585])\n",
      "After transform: torch.Size([32, 293, 59])\n",
      "Before transform: torch.Size([1, 32, 585])\n",
      "After transform: torch.Size([32, 293, 59])\n",
      "Before transform: torch.Size([1, 32, 585])\n",
      "After transform: torch.Size([32, 293, 59])\n",
      "Before transform: torch.Size([1, 32, 585])\n",
      "After transform: torch.Size([32, 293, 59])\n",
      "Before transform: torch.Size([1, 32, 585])\n",
      "After transform: torch.Size([32, 293, 59])\n",
      "Before transform: torch.Size([1, 32, 585])\n",
      "After transform: torch.Size([32, 293, 59])\n",
      "Before transform: torch.Size([1, 32, 585])\n",
      "After transform: torch.Size([32, 293, 59])\n",
      "Before transform: torch.Size([1, 32, 585])\n",
      "After transform: torch.Size([32, 293, 59])\n",
      "Before transform: torch.Size([1, 32, 585])\n",
      "After transform: torch.Size([32, 293, 59])\n",
      "Before transform: torch.Size([1, 32, 585])\n"
     ]
    },
    {
     "name": "stderr",
     "output_type": "stream",
     "text": [
      " 11%|█         | 670/5976 [00:08<01:04, 82.33it/s]"
     ]
    },
    {
     "name": "stdout",
     "output_type": "stream",
     "text": [
      "After transform: torch.Size([32, 293, 59])\n",
      "Before transform: torch.Size([1, 32, 585])\n",
      "After transform: torch.Size([32, 293, 59])\n",
      "Before transform: torch.Size([1, 32, 585])\n",
      "After transform: torch.Size([32, 293, 59])\n",
      "Before transform: torch.Size([1, 32, 585])\n",
      "After transform: torch.Size([32, 293, 59])\n",
      "Before transform: torch.Size([1, 32, 585])\n",
      "After transform: torch.Size([32, 293, 59])\n",
      "Before transform: torch.Size([1, 32, 585])\n",
      "After transform: torch.Size([32, 293, 59])\n",
      "Before transform: torch.Size([1, 32, 585])\n",
      "After transform: torch.Size([32, 293, 59])\n",
      "Before transform: torch.Size([1, 32, 585])\n",
      "After transform: torch.Size([32, 293, 59])\n",
      "Before transform: torch.Size([1, 32, 585])\n",
      "After transform: torch.Size([32, 293, 59])\n",
      "Before transform: torch.Size([1, 32, 585])\n",
      "After transform: torch.Size([32, 293, 59])\n",
      "Before transform: torch.Size([1, 32, 585])\n",
      "After transform: torch.Size([32, 293, 59])\n",
      "Before transform: torch.Size([1, 32, 585])\n",
      "After transform: torch.Size([32, 293, 59])\n",
      "Before transform: torch.Size([1, 32, 585])\n",
      "After transform: torch.Size([32, 293, 59])\n",
      "Before transform: torch.Size([1, 32, 585])\n",
      "After transform: torch.Size([32, 293, 59])\n",
      "Before transform: torch.Size([1, 32, 585])\n",
      "After transform: torch.Size([32, 293, 59])\n",
      "Before transform: torch.Size([1, 32, 585])\n",
      "After transform: torch.Size([32, 293, 59])\n",
      "Before transform: torch.Size([1, 32, 585])\n",
      "After transform: torch.Size([32, 293, 59])\n",
      "Before transform: torch.Size([1, 32, 585])\n",
      "After transform: torch.Size([32, 293, 59])\n",
      "Before transform: torch.Size([1, 32, 585])\n",
      "After transform: torch.Size([32, 293, 59])\n",
      "Before transform: torch.Size([1, 32, 585])\n",
      "After transform: torch.Size([32, 293, 59])\n",
      "Before transform: torch.Size([1, 32, 585])\n",
      "After transform: torch.Size([32, 293, 59])\n",
      "Before transform: torch.Size([1, 32, 585])\n"
     ]
    },
    {
     "name": "stderr",
     "output_type": "stream",
     "text": [
      " 12%|█▏        | 691/5976 [00:08<00:57, 91.44it/s]"
     ]
    },
    {
     "name": "stdout",
     "output_type": "stream",
     "text": [
      "After transform: torch.Size([32, 293, 59])\n",
      "Before transform: torch.Size([1, 32, 585])\n",
      "After transform: torch.Size([32, 293, 59])\n",
      "Before transform: torch.Size([1, 32, 585])\n",
      "After transform: torch.Size([32, 293, 59])\n",
      "Before transform: torch.Size([1, 32, 585])\n",
      "After transform: torch.Size([32, 293, 59])\n",
      "Before transform: torch.Size([1, 32, 585])\n",
      "After transform: torch.Size([32, 293, 59])\n",
      "Before transform: torch.Size([1, 32, 585])\n",
      "After transform: torch.Size([32, 293, 59])\n",
      "Before transform: torch.Size([1, 32, 585])\n",
      "After transform: torch.Size([32, 293, 59])\n",
      "Before transform: torch.Size([1, 32, 585])\n",
      "After transform: torch.Size([32, 293, 59])\n",
      "Before transform: torch.Size([1, 32, 585])\n",
      "After transform: torch.Size([32, 293, 59])\n",
      "Before transform: torch.Size([1, 32, 585])\n",
      "After transform: torch.Size([32, 293, 59])\n",
      "Before transform: torch.Size([1, 32, 585])\n",
      "After transform: torch.Size([32, 293, 59])\n",
      "Before transform: torch.Size([1, 32, 585])\n",
      "After transform: torch.Size([32, 293, 59])\n",
      "Before transform: torch.Size([1, 32, 585])\n",
      "After transform: torch.Size([32, 293, 59])\n",
      "Before transform: torch.Size([1, 32, 585])\n",
      "After transform: torch.Size([32, 293, 59])\n",
      "Before transform: torch.Size([1, 32, 585])\n",
      "After transform: torch.Size([32, 293, 59])\n",
      "Before transform: torch.Size([1, 32, 585])\n",
      "After transform: torch.Size([32, 293, 59])\n",
      "Before transform: torch.Size([1, 32, 585])\n",
      "After transform: torch.Size([32, 293, 59])\n",
      "Before transform: torch.Size([1, 32, 585])\n",
      "After transform: torch.Size([32, 293, 59])\n",
      "Before transform: torch.Size([1, 32, 585])\n",
      "After transform: torch.Size([32, 293, 59])\n",
      "Before transform: torch.Size([1, 32, 585])\n",
      "After transform: torch.Size([32, 293, 59])\n",
      "Before transform: torch.Size([1, 32, 585])\n",
      "After transform: torch.Size([32, 293, 59])\n",
      "Before transform: torch.Size([1, 32, 585])\n"
     ]
    },
    {
     "name": "stderr",
     "output_type": "stream",
     "text": [
      " 12%|█▏        | 713/5976 [00:08<00:53, 98.52it/s]"
     ]
    },
    {
     "name": "stdout",
     "output_type": "stream",
     "text": [
      "After transform: torch.Size([32, 293, 59])\n",
      "Before transform: torch.Size([1, 32, 585])\n",
      "After transform: torch.Size([32, 293, 59])\n",
      "Before transform: torch.Size([1, 32, 585])\n",
      "After transform: torch.Size([32, 293, 59])\n",
      "Before transform: torch.Size([1, 32, 585])\n",
      "After transform: torch.Size([32, 293, 59])\n",
      "Before transform: torch.Size([1, 32, 585])\n",
      "After transform: torch.Size([32, 293, 59])\n",
      "Before transform: torch.Size([1, 32, 585])\n",
      "After transform: torch.Size([32, 293, 59])\n",
      "Before transform: torch.Size([1, 32, 585])\n",
      "After transform: torch.Size([32, 293, 59])\n",
      "Before transform: torch.Size([1, 32, 585])\n",
      "After transform: torch.Size([32, 293, 59])\n",
      "Before transform: torch.Size([1, 32, 585])\n",
      "After transform: torch.Size([32, 293, 59])\n",
      "Before transform: torch.Size([1, 32, 585])\n",
      "After transform: torch.Size([32, 293, 59])\n",
      "Before transform: torch.Size([1, 32, 585])\n",
      "After transform: torch.Size([32, 293, 59])\n",
      "Before transform: torch.Size([1, 32, 585])\n",
      "After transform: torch.Size([32, 293, 59])\n",
      "Before transform: torch.Size([1, 32, 585])\n",
      "After transform: torch.Size([32, 293, 59])\n",
      "Before transform: torch.Size([1, 32, 585])\n",
      "After transform: torch.Size([32, 293, 59])\n",
      "Before transform: torch.Size([1, 32, 585])\n",
      "After transform: torch.Size([32, 293, 59])\n",
      "Before transform: torch.Size([1, 32, 585])\n",
      "After transform: torch.Size([32, 293, 59])\n",
      "Before transform: torch.Size([1, 32, 585])\n",
      "After transform: torch.Size([32, 293, 59])\n",
      "Before transform: torch.Size([1, 32, 585])\n",
      "After transform: torch.Size([32, 293, 59])\n",
      "Before transform: torch.Size([1, 32, 585])\n",
      "After transform: torch.Size([32, 293, 59])\n",
      "Before transform: torch.Size([1, 32, 585])\n",
      "After transform: torch.Size([32, 293, 59])\n",
      "Before transform: torch.Size([1, 32, 585])\n",
      "After transform: torch.Size([32, 293, 59])\n",
      "Before transform: torch.Size([1, 32, 585])\n",
      "After transform: torch.Size([32, 293, 59])\n",
      "Before transform: torch.Size([1, 32, 585])\n"
     ]
    },
    {
     "name": "stderr",
     "output_type": "stream",
     "text": [
      " 12%|█▏        | 735/5976 [00:08<00:52, 99.71it/s]"
     ]
    },
    {
     "name": "stdout",
     "output_type": "stream",
     "text": [
      "After transform: torch.Size([32, 293, 59])\n",
      "Before transform: torch.Size([1, 32, 585])\n",
      "After transform: torch.Size([32, 293, 59])\n",
      "Before transform: torch.Size([1, 32, 585])\n",
      "After transform: torch.Size([32, 293, 59])\n",
      "Before transform: torch.Size([1, 32, 585])\n",
      "After transform: torch.Size([32, 293, 59])\n",
      "Before transform: torch.Size([1, 32, 585])\n",
      "After transform: torch.Size([32, 293, 59])\n",
      "Before transform: torch.Size([1, 32, 585])\n",
      "After transform: torch.Size([32, 293, 59])\n",
      "Before transform: torch.Size([1, 32, 585])\n",
      "After transform: torch.Size([32, 293, 59])\n",
      "Before transform: torch.Size([1, 32, 585])\n",
      "After transform: torch.Size([32, 293, 59])\n",
      "Before transform: torch.Size([1, 32, 585])\n",
      "After transform: torch.Size([32, 293, 59])\n",
      "Before transform: torch.Size([1, 32, 585])\n",
      "After transform: torch.Size([32, 293, 59])\n",
      "Before transform: torch.Size([1, 32, 585])\n",
      "After transform: torch.Size([32, 293, 59])\n",
      "Before transform: torch.Size([1, 32, 585])\n",
      "After transform: torch.Size([32, 293, 59])\n",
      "Before transform: torch.Size([1, 32, 585])\n",
      "After transform: torch.Size([32, 293, 59])\n",
      "Before transform: torch.Size([1, 32, 585])\n",
      "After transform: torch.Size([32, 293, 59])\n",
      "Before transform: torch.Size([1, 32, 585])\n",
      "After transform: torch.Size([32, 293, 59])\n",
      "Before transform: torch.Size([1, 32, 585])\n",
      "After transform: torch.Size([32, 293, 59])\n",
      "Before transform: torch.Size([1, 32, 585])\n",
      "After transform: torch.Size([32, 293, 59])\n",
      "Before transform: torch.Size([1, 32, 585])\n",
      "After transform: torch.Size([32, 293, 59])\n",
      "Before transform: torch.Size([1, 32, 585])\n",
      "After transform: torch.Size([32, 293, 59])\n",
      "Before transform: torch.Size([1, 32, 585])\n",
      "After transform: torch.Size([32, 293, 59])\n",
      "Before transform: torch.Size([1, 32, 585])\n",
      "After transform: torch.Size([32, 293, 59])\n",
      "Before transform: torch.Size([1, 32, 585])\n"
     ]
    },
    {
     "name": "stderr",
     "output_type": "stream",
     "text": [
      " 12%|█▏        | 746/5976 [00:08<01:05, 79.73it/s]"
     ]
    },
    {
     "name": "stdout",
     "output_type": "stream",
     "text": [
      "After transform: torch.Size([32, 293, 59])\n",
      "Before transform: torch.Size([1, 32, 585])\n",
      "After transform: torch.Size([32, 293, 59])\n",
      "Before transform: torch.Size([1, 32, 585])\n",
      "After transform: torch.Size([32, 293, 59])\n",
      "Before transform: torch.Size([1, 32, 585])\n",
      "After transform: torch.Size([32, 293, 59])\n",
      "Before transform: torch.Size([1, 32, 585])\n",
      "After transform: torch.Size([32, 293, 59])\n",
      "Before transform: torch.Size([1, 32, 585])\n",
      "After transform: torch.Size([32, 293, 59])\n",
      "Before transform: torch.Size([1, 32, 585])\n",
      "After transform: torch.Size([32, 293, 59])\n",
      "Before transform: torch.Size([1, 32, 585])\n",
      "After transform: torch.Size([32, 293, 59])\n",
      "Before transform: torch.Size([1, 32, 585])\n",
      "After transform: torch.Size([32, 293, 59])\n",
      "Before transform: torch.Size([1, 32, 585])\n",
      "After transform: torch.Size([32, 293, 59])\n",
      "Before transform: torch.Size([1, 32, 585])\n",
      "After transform: torch.Size([32, 293, 59])\n",
      "Before transform: torch.Size([1, 32, 585])\n",
      "After transform: torch.Size([32, 293, 59])\n",
      "Before transform: torch.Size([1, 32, 585])\n"
     ]
    },
    {
     "name": "stderr",
     "output_type": "stream",
     "text": [
      " 13%|█▎        | 755/5976 [00:09<01:12, 71.56it/s]"
     ]
    },
    {
     "name": "stdout",
     "output_type": "stream",
     "text": [
      "After transform: torch.Size([32, 293, 59])\n",
      "Before transform: torch.Size([1, 32, 585])\n",
      "After transform: torch.Size([32, 293, 59])\n",
      "Before transform: torch.Size([1, 32, 585])\n",
      "After transform: torch.Size([32, 293, 59])\n",
      "Before transform: torch.Size([1, 32, 585])\n",
      "After transform: torch.Size([32, 293, 59])\n",
      "Before transform: torch.Size([1, 32, 585])\n",
      "After transform: torch.Size([32, 293, 59])\n",
      "Before transform: torch.Size([1, 32, 585])\n",
      "After transform: torch.Size([32, 293, 59])\n",
      "Before transform: torch.Size([1, 32, 585])\n",
      "After transform: torch.Size([32, 293, 59])\n",
      "Before transform: torch.Size([1, 32, 585])\n",
      "After transform: torch.Size([32, 293, 59])\n",
      "Before transform: torch.Size([1, 32, 585])\n",
      "After transform: torch.Size([32, 293, 59])\n",
      "Before transform: torch.Size([1, 32, 585])\n",
      "After transform: torch.Size([32, 293, 59])\n",
      "Before transform: torch.Size([1, 32, 585])\n",
      "After transform: torch.Size([32, 293, 59])\n",
      "Before transform: torch.Size([1, 32, 585])\n",
      "After transform: torch.Size([32, 293, 59])\n",
      "Before transform: torch.Size([1, 32, 585])\n",
      "After transform: torch.Size([32, 293, 59])\n",
      "Before transform: torch.Size([1, 32, 585])\n"
     ]
    },
    {
     "name": "stderr",
     "output_type": "stream",
     "text": [
      " 13%|█▎        | 773/5976 [00:09<01:07, 77.56it/s]"
     ]
    },
    {
     "name": "stdout",
     "output_type": "stream",
     "text": [
      "After transform: torch.Size([32, 293, 59])\n",
      "Before transform: torch.Size([1, 32, 585])\n",
      "After transform: torch.Size([32, 293, 59])\n",
      "Before transform: torch.Size([1, 32, 585])\n",
      "After transform: torch.Size([32, 293, 59])\n",
      "Before transform: torch.Size([1, 32, 585])\n",
      "After transform: torch.Size([32, 293, 59])\n",
      "Before transform: torch.Size([1, 32, 585])\n",
      "After transform: torch.Size([32, 293, 59])\n",
      "Before transform: torch.Size([1, 32, 585])\n",
      "After transform: torch.Size([32, 293, 59])\n",
      "Before transform: torch.Size([1, 32, 585])\n",
      "After transform: torch.Size([32, 293, 59])\n",
      "Before transform: torch.Size([1, 32, 585])\n",
      "After transform: torch.Size([32, 293, 59])\n",
      "Before transform: torch.Size([1, 32, 585])\n",
      "After transform: torch.Size([32, 293, 59])\n",
      "Before transform: torch.Size([1, 32, 585])\n",
      "After transform: torch.Size([32, 293, 59])\n",
      "Before transform: torch.Size([1, 32, 585])\n",
      "After transform: torch.Size([32, 293, 59])\n",
      "Before transform: torch.Size([1, 32, 585])\n",
      "After transform: torch.Size([32, 293, 59])\n",
      "Before transform: torch.Size([1, 32, 585])\n",
      "After transform: torch.Size([32, 293, 59])\n",
      "Before transform: torch.Size([1, 32, 585])\n",
      "After transform: torch.Size([32, 293, 59])\n",
      "Before transform: torch.Size([1, 32, 585])\n",
      "After transform: torch.Size([32, 293, 59])\n",
      "Before transform: torch.Size([1, 32, 585])\n",
      "After transform: torch.Size([32, 293, 59])\n",
      "Before transform: torch.Size([1, 32, 585])\n",
      "After transform: torch.Size([32, 293, 59])\n",
      "Before transform: torch.Size([1, 32, 585])\n"
     ]
    },
    {
     "name": "stderr",
     "output_type": "stream",
     "text": [
      " 13%|█▎        | 791/5976 [00:09<01:05, 79.30it/s]"
     ]
    },
    {
     "name": "stdout",
     "output_type": "stream",
     "text": [
      "After transform: torch.Size([32, 293, 59])\n",
      "Before transform: torch.Size([1, 32, 585])\n",
      "After transform: torch.Size([32, 293, 59])\n",
      "Before transform: torch.Size([1, 32, 585])\n",
      "After transform: torch.Size([32, 293, 59])\n",
      "Before transform: torch.Size([1, 32, 585])\n",
      "After transform: torch.Size([32, 293, 59])\n",
      "Before transform: torch.Size([1, 32, 585])\n",
      "After transform: torch.Size([32, 293, 59])\n",
      "Before transform: torch.Size([1, 32, 585])\n",
      "After transform: torch.Size([32, 293, 59])\n",
      "Before transform: torch.Size([1, 32, 585])\n",
      "After transform: torch.Size([32, 293, 59])\n",
      "Before transform: torch.Size([1, 32, 585])\n",
      "After transform: torch.Size([32, 293, 59])\n",
      "Before transform: torch.Size([1, 32, 585])\n",
      "After transform: torch.Size([32, 293, 59])\n",
      "Before transform: torch.Size([1, 32, 585])\n",
      "After transform: torch.Size([32, 293, 59])\n",
      "Before transform: torch.Size([1, 32, 585])\n",
      "After transform: torch.Size([32, 293, 59])\n",
      "Before transform: torch.Size([1, 32, 585])\n",
      "After transform: torch.Size([32, 293, 59])\n",
      "Before transform: torch.Size([1, 32, 585])\n",
      "After transform: torch.Size([32, 293, 59])\n",
      "Before transform: torch.Size([1, 32, 585])\n",
      "After transform: torch.Size([32, 293, 59])\n",
      "Before transform: torch.Size([1, 32, 585])\n",
      "After transform: torch.Size([32, 293, 59])\n",
      "Before transform: torch.Size([1, 32, 585])\n",
      "After transform: torch.Size([32, 293, 59])\n",
      "Before transform: torch.Size([1, 32, 585])\n",
      "After transform: torch.Size([32, 293, 59])\n",
      "Before transform: torch.Size([1, 32, 585])\n"
     ]
    },
    {
     "name": "stderr",
     "output_type": "stream",
     "text": [
      " 14%|█▎        | 809/5976 [00:09<01:05, 79.38it/s]"
     ]
    },
    {
     "name": "stdout",
     "output_type": "stream",
     "text": [
      "After transform: torch.Size([32, 293, 59])\n",
      "Before transform: torch.Size([1, 32, 585])\n",
      "After transform: torch.Size([32, 293, 59])\n",
      "Before transform: torch.Size([1, 32, 585])\n",
      "After transform: torch.Size([32, 293, 59])\n",
      "Before transform: torch.Size([1, 32, 585])\n",
      "After transform: torch.Size([32, 293, 59])\n",
      "Before transform: torch.Size([1, 32, 585])\n",
      "After transform: torch.Size([32, 293, 59])\n",
      "Before transform: torch.Size([1, 32, 585])\n",
      "After transform: torch.Size([32, 293, 59])\n",
      "Before transform: torch.Size([1, 32, 585])\n",
      "After transform: torch.Size([32, 293, 59])\n",
      "Before transform: torch.Size([1, 32, 585])\n",
      "After transform: torch.Size([32, 293, 59])\n",
      "Before transform: torch.Size([1, 32, 585])\n",
      "After transform: torch.Size([32, 293, 59])\n",
      "Before transform: torch.Size([1, 32, 585])\n",
      "After transform: torch.Size([32, 293, 59])\n",
      "Before transform: torch.Size([1, 32, 585])\n",
      "After transform: torch.Size([32, 293, 59])\n",
      "Before transform: torch.Size([1, 32, 585])\n",
      "After transform: torch.Size([32, 293, 59])\n",
      "Before transform: torch.Size([1, 32, 585])\n",
      "After transform: torch.Size([32, 293, 59])\n",
      "Before transform: torch.Size([1, 32, 585])\n",
      "After transform: torch.Size([32, 293, 59])\n",
      "Before transform: torch.Size([1, 32, 585])\n",
      "After transform: torch.Size([32, 293, 59])\n",
      "Before transform: torch.Size([1, 32, 585])\n",
      "After transform: torch.Size([32, 293, 59])\n",
      "Before transform: torch.Size([1, 32, 585])\n"
     ]
    },
    {
     "name": "stderr",
     "output_type": "stream",
     "text": [
      " 14%|█▍        | 827/5976 [00:10<01:03, 81.06it/s]"
     ]
    },
    {
     "name": "stdout",
     "output_type": "stream",
     "text": [
      "After transform: torch.Size([32, 293, 59])\n",
      "Before transform: torch.Size([1, 32, 585])\n",
      "After transform: torch.Size([32, 293, 59])\n",
      "Before transform: torch.Size([1, 32, 585])\n",
      "After transform: torch.Size([32, 293, 59])\n",
      "Before transform: torch.Size([1, 32, 585])\n",
      "After transform: torch.Size([32, 293, 59])\n",
      "Before transform: torch.Size([1, 32, 585])\n",
      "After transform: torch.Size([32, 293, 59])\n",
      "Before transform: torch.Size([1, 32, 585])\n",
      "After transform: torch.Size([32, 293, 59])\n",
      "Before transform: torch.Size([1, 32, 585])\n",
      "After transform: torch.Size([32, 293, 59])\n",
      "Before transform: torch.Size([1, 32, 585])\n",
      "After transform: torch.Size([32, 293, 59])\n",
      "Before transform: torch.Size([1, 32, 585])\n",
      "After transform: torch.Size([32, 293, 59])\n",
      "Before transform: torch.Size([1, 32, 585])\n",
      "After transform: torch.Size([32, 293, 59])\n",
      "Before transform: torch.Size([1, 32, 585])\n",
      "After transform: torch.Size([32, 293, 59])\n",
      "Before transform: torch.Size([1, 32, 585])\n",
      "After transform: torch.Size([32, 293, 59])\n",
      "Before transform: torch.Size([1, 32, 585])\n",
      "After transform: torch.Size([32, 293, 59])\n",
      "Before transform: torch.Size([1, 32, 585])\n",
      "After transform: torch.Size([32, 293, 59])\n",
      "Before transform: torch.Size([1, 32, 585])\n",
      "After transform: torch.Size([32, 293, 59])\n",
      "Before transform: torch.Size([1, 32, 585])\n",
      "After transform: torch.Size([32, 293, 59])\n",
      "Before transform: torch.Size([1, 32, 585])\n",
      "After transform: torch.Size([32, 293, 59])\n",
      "Before transform: torch.Size([1, 32, 585])\n"
     ]
    },
    {
     "name": "stderr",
     "output_type": "stream",
     "text": [
      " 14%|█▍        | 848/5976 [00:10<00:56, 91.38it/s]"
     ]
    },
    {
     "name": "stdout",
     "output_type": "stream",
     "text": [
      "After transform: torch.Size([32, 293, 59])\n",
      "Before transform: torch.Size([1, 32, 585])\n",
      "After transform: torch.Size([32, 293, 59])\n",
      "Before transform: torch.Size([1, 32, 585])\n",
      "After transform: torch.Size([32, 293, 59])\n",
      "Before transform: torch.Size([1, 32, 585])\n",
      "After transform: torch.Size([32, 293, 59])\n",
      "Before transform: torch.Size([1, 32, 585])\n",
      "After transform: torch.Size([32, 293, 59])\n",
      "Before transform: torch.Size([1, 32, 585])\n",
      "After transform: torch.Size([32, 293, 59])\n",
      "Before transform: torch.Size([1, 32, 585])\n",
      "After transform: torch.Size([32, 293, 59])\n",
      "Before transform: torch.Size([1, 32, 585])\n",
      "After transform: torch.Size([32, 293, 59])\n",
      "Before transform: torch.Size([1, 32, 585])\n",
      "After transform: torch.Size([32, 293, 59])\n",
      "Before transform: torch.Size([1, 32, 585])\n",
      "After transform: torch.Size([32, 293, 59])\n",
      "Before transform: torch.Size([1, 32, 585])\n",
      "After transform: torch.Size([32, 293, 59])\n",
      "Before transform: torch.Size([1, 32, 585])\n",
      "After transform: torch.Size([32, 293, 59])\n",
      "Before transform: torch.Size([1, 32, 585])\n",
      "After transform: torch.Size([32, 293, 59])\n",
      "Before transform: torch.Size([1, 32, 585])\n",
      "After transform: torch.Size([32, 293, 59])\n",
      "Before transform: torch.Size([1, 32, 585])\n",
      "After transform: torch.Size([32, 293, 59])\n",
      "Before transform: torch.Size([1, 32, 585])\n",
      "After transform: torch.Size([32, 293, 59])\n",
      "Before transform: torch.Size([1, 32, 585])\n",
      "After transform: torch.Size([32, 293, 59])\n",
      "Before transform: torch.Size([1, 32, 585])\n",
      "After transform: torch.Size([32, 293, 59])\n",
      "Before transform: torch.Size([1, 32, 585])\n",
      "After transform: torch.Size([32, 293, 59])\n",
      "Before transform: torch.Size([1, 32, 585])\n",
      "After transform: torch.Size([32, 293, 59])\n",
      "Before transform: torch.Size([1, 32, 585])\n",
      "After transform: torch.Size([32, 293, 59])\n",
      "Before transform: torch.Size([1, 32, 585])\n"
     ]
    },
    {
     "name": "stderr",
     "output_type": "stream",
     "text": [
      " 15%|█▍        | 869/5976 [00:10<00:52, 96.58it/s]"
     ]
    },
    {
     "name": "stdout",
     "output_type": "stream",
     "text": [
      "After transform: torch.Size([32, 293, 59])\n",
      "Before transform: torch.Size([1, 32, 585])\n",
      "After transform: torch.Size([32, 293, 59])\n",
      "Before transform: torch.Size([1, 32, 585])\n",
      "After transform: torch.Size([32, 293, 59])\n",
      "Before transform: torch.Size([1, 32, 585])\n",
      "After transform: torch.Size([32, 293, 59])\n",
      "Before transform: torch.Size([1, 32, 585])\n",
      "After transform: torch.Size([32, 293, 59])\n",
      "Before transform: torch.Size([1, 32, 585])\n",
      "After transform: torch.Size([32, 293, 59])\n",
      "Before transform: torch.Size([1, 32, 585])\n",
      "After transform: torch.Size([32, 293, 59])\n",
      "Before transform: torch.Size([1, 32, 585])\n",
      "After transform: torch.Size([32, 293, 59])\n",
      "Before transform: torch.Size([1, 32, 585])\n",
      "After transform: torch.Size([32, 293, 59])\n",
      "Before transform: torch.Size([1, 32, 585])\n",
      "After transform: torch.Size([32, 293, 59])\n",
      "Before transform: torch.Size([1, 32, 585])\n",
      "After transform: torch.Size([32, 293, 59])\n",
      "Before transform: torch.Size([1, 32, 585])\n",
      "After transform: torch.Size([32, 293, 59])\n",
      "Before transform: torch.Size([1, 32, 585])\n",
      "After transform: torch.Size([32, 293, 59])\n",
      "Before transform: torch.Size([1, 32, 585])\n",
      "After transform: torch.Size([32, 293, 59])\n",
      "Before transform: torch.Size([1, 32, 585])\n",
      "After transform: torch.Size([32, 293, 59])\n",
      "Before transform: torch.Size([1, 32, 585])\n",
      "After transform: torch.Size([32, 293, 59])\n",
      "Before transform: torch.Size([1, 32, 585])\n",
      "After transform: torch.Size([32, 293, 59])\n",
      "Before transform: torch.Size([1, 32, 585])\n",
      "After transform: torch.Size([32, 293, 59])\n",
      "Before transform: torch.Size([1, 32, 585])\n",
      "After transform: torch.Size([32, 293, 59])\n",
      "Before transform: torch.Size([1, 32, 585])\n",
      "After transform: torch.Size([32, 293, 59])\n",
      "Before transform: torch.Size([1, 32, 585])\n",
      "After transform: torch.Size([32, 293, 59])\n",
      "Before transform: torch.Size([1, 32, 585])\n"
     ]
    },
    {
     "name": "stderr",
     "output_type": "stream",
     "text": [
      " 15%|█▍        | 879/5976 [00:10<01:06, 77.08it/s]"
     ]
    },
    {
     "name": "stdout",
     "output_type": "stream",
     "text": [
      "After transform: torch.Size([32, 293, 59])\n",
      "Before transform: torch.Size([1, 32, 585])\n",
      "After transform: torch.Size([32, 293, 59])\n",
      "Before transform: torch.Size([1, 32, 585])\n",
      "After transform: torch.Size([32, 293, 59])\n",
      "Before transform: torch.Size([1, 32, 585])\n",
      "After transform: torch.Size([32, 293, 59])\n",
      "Before transform: torch.Size([1, 32, 585])\n",
      "After transform: torch.Size([32, 293, 59])\n",
      "Before transform: torch.Size([1, 32, 585])\n",
      "After transform: torch.Size([32, 293, 59])\n",
      "Before transform: torch.Size([1, 32, 585])\n",
      "After transform: torch.Size([32, 293, 59])\n",
      "Before transform: torch.Size([1, 32, 585])\n",
      "After transform: torch.Size([32, 293, 59])\n",
      "Before transform: torch.Size([1, 32, 585])\n",
      "After transform: torch.Size([32, 293, 59])\n",
      "Before transform: torch.Size([1, 32, 585])\n",
      "After transform: torch.Size([32, 293, 59])\n",
      "Before transform: torch.Size([1, 32, 585])\n",
      "After transform: torch.Size([32, 293, 59])\n",
      "Before transform: torch.Size([1, 32, 585])\n"
     ]
    },
    {
     "name": "stderr",
     "output_type": "stream",
     "text": [
      " 15%|█▌        | 900/5976 [00:10<00:58, 87.50it/s]"
     ]
    },
    {
     "name": "stdout",
     "output_type": "stream",
     "text": [
      "After transform: torch.Size([32, 293, 59])\n",
      "Before transform: torch.Size([1, 32, 585])\n",
      "After transform: torch.Size([32, 293, 59])\n",
      "Before transform: torch.Size([1, 32, 585])\n",
      "After transform: torch.Size([32, 293, 59])\n",
      "Before transform: torch.Size([1, 32, 585])\n",
      "After transform: torch.Size([32, 293, 59])\n",
      "Before transform: torch.Size([1, 32, 585])\n",
      "After transform: torch.Size([32, 293, 59])\n",
      "Before transform: torch.Size([1, 32, 585])\n",
      "After transform: torch.Size([32, 293, 59])\n",
      "Before transform: torch.Size([1, 32, 585])\n",
      "After transform: torch.Size([32, 293, 59])\n",
      "Before transform: torch.Size([1, 32, 585])\n",
      "After transform: torch.Size([32, 293, 59])\n",
      "Before transform: torch.Size([1, 32, 585])\n",
      "After transform: torch.Size([32, 293, 59])\n",
      "Before transform: torch.Size([1, 32, 585])\n",
      "After transform: torch.Size([32, 293, 59])\n",
      "Before transform: torch.Size([1, 32, 585])\n",
      "After transform: torch.Size([32, 293, 59])\n",
      "Before transform: torch.Size([1, 32, 585])\n",
      "After transform: torch.Size([32, 293, 59])\n",
      "Before transform: torch.Size([1, 32, 585])\n",
      "After transform: torch.Size([32, 293, 59])\n",
      "Before transform: torch.Size([1, 32, 585])\n",
      "After transform: torch.Size([32, 293, 59])\n",
      "Before transform: torch.Size([1, 32, 585])\n",
      "After transform: torch.Size([32, 293, 59])\n",
      "Before transform: torch.Size([1, 32, 585])\n",
      "After transform: torch.Size([32, 293, 59])\n",
      "Before transform: torch.Size([1, 32, 585])\n",
      "After transform: torch.Size([32, 293, 59])\n",
      "Before transform: torch.Size([1, 32, 585])\n",
      "After transform: torch.Size([32, 293, 59])\n",
      "Before transform: torch.Size([1, 32, 585])\n",
      "After transform: torch.Size([32, 293, 59])\n",
      "Before transform: torch.Size([1, 32, 585])\n",
      "After transform: torch.Size([32, 293, 59])\n",
      "Before transform: torch.Size([1, 32, 585])\n",
      "After transform: torch.Size([32, 293, 59])\n",
      "Before transform: torch.Size([1, 32, 585])\n"
     ]
    },
    {
     "name": "stderr",
     "output_type": "stream",
     "text": [
      " 15%|█▌        | 922/5976 [00:11<00:52, 95.43it/s]"
     ]
    },
    {
     "name": "stdout",
     "output_type": "stream",
     "text": [
      "After transform: torch.Size([32, 293, 59])\n",
      "Before transform: torch.Size([1, 32, 585])\n",
      "After transform: torch.Size([32, 293, 59])\n",
      "Before transform: torch.Size([1, 32, 585])\n",
      "After transform: torch.Size([32, 293, 59])\n",
      "Before transform: torch.Size([1, 32, 585])\n",
      "After transform: torch.Size([32, 293, 59])\n",
      "Before transform: torch.Size([1, 32, 585])\n",
      "After transform: torch.Size([32, 293, 59])\n",
      "Before transform: torch.Size([1, 32, 585])\n",
      "After transform: torch.Size([32, 293, 59])\n",
      "Before transform: torch.Size([1, 32, 585])\n",
      "After transform: torch.Size([32, 293, 59])\n",
      "Before transform: torch.Size([1, 32, 585])\n",
      "After transform: torch.Size([32, 293, 59])\n",
      "Before transform: torch.Size([1, 32, 585])\n",
      "After transform: torch.Size([32, 293, 59])\n",
      "Before transform: torch.Size([1, 32, 585])\n",
      "After transform: torch.Size([32, 293, 59])\n",
      "Before transform: torch.Size([1, 32, 585])\n",
      "After transform: torch.Size([32, 293, 59])\n",
      "Before transform: torch.Size([1, 32, 585])\n",
      "After transform: torch.Size([32, 293, 59])\n",
      "Before transform: torch.Size([1, 32, 585])\n",
      "After transform: torch.Size([32, 293, 59])\n",
      "Before transform: torch.Size([1, 32, 585])\n",
      "After transform: torch.Size([32, 293, 59])\n",
      "Before transform: torch.Size([1, 32, 585])\n",
      "After transform: torch.Size([32, 293, 59])\n",
      "Before transform: torch.Size([1, 32, 585])\n",
      "After transform: torch.Size([32, 293, 59])\n",
      "Before transform: torch.Size([1, 32, 585])\n",
      "After transform: torch.Size([32, 293, 59])\n",
      "Before transform: torch.Size([1, 32, 585])\n",
      "After transform: torch.Size([32, 293, 59])\n",
      "Before transform: torch.Size([1, 32, 585])\n",
      "After transform: torch.Size([32, 293, 59])\n",
      "Before transform: torch.Size([1, 32, 585])\n",
      "After transform: torch.Size([32, 293, 59])\n",
      "Before transform: torch.Size([1, 32, 585])\n",
      "After transform: torch.Size([32, 293, 59])\n",
      "Before transform: torch.Size([1, 32, 585])\n"
     ]
    },
    {
     "name": "stderr",
     "output_type": "stream",
     "text": [
      " 16%|█▌        | 944/5976 [00:11<00:50, 99.35it/s]"
     ]
    },
    {
     "name": "stdout",
     "output_type": "stream",
     "text": [
      "After transform: torch.Size([32, 293, 59])\n",
      "Before transform: torch.Size([1, 32, 585])\n",
      "After transform: torch.Size([32, 293, 59])\n",
      "Before transform: torch.Size([1, 32, 585])\n",
      "After transform: torch.Size([32, 293, 59])\n",
      "Before transform: torch.Size([1, 32, 585])\n",
      "After transform: torch.Size([32, 293, 59])\n",
      "Before transform: torch.Size([1, 32, 585])\n",
      "After transform: torch.Size([32, 293, 59])\n",
      "Before transform: torch.Size([1, 32, 585])\n",
      "After transform: torch.Size([32, 293, 59])\n",
      "Before transform: torch.Size([1, 32, 585])\n",
      "After transform: torch.Size([32, 293, 59])\n",
      "Before transform: torch.Size([1, 32, 585])\n",
      "After transform: torch.Size([32, 293, 59])\n",
      "Before transform: torch.Size([1, 32, 585])\n",
      "After transform: torch.Size([32, 293, 59])\n",
      "Before transform: torch.Size([1, 32, 585])\n",
      "After transform: torch.Size([32, 293, 59])\n",
      "Before transform: torch.Size([1, 32, 585])\n",
      "After transform: torch.Size([32, 293, 59])\n",
      "Before transform: torch.Size([1, 32, 585])\n",
      "After transform: torch.Size([32, 293, 59])\n",
      "Before transform: torch.Size([1, 32, 585])\n",
      "After transform: torch.Size([32, 293, 59])\n",
      "Before transform: torch.Size([1, 32, 585])\n",
      "After transform: torch.Size([32, 293, 59])\n",
      "Before transform: torch.Size([1, 32, 585])\n",
      "After transform: torch.Size([32, 293, 59])\n",
      "Before transform: torch.Size([1, 32, 585])\n",
      "After transform: torch.Size([32, 293, 59])\n",
      "Before transform: torch.Size([1, 32, 585])\n",
      "After transform: torch.Size([32, 293, 59])\n",
      "Before transform: torch.Size([1, 32, 585])\n",
      "After transform: torch.Size([32, 293, 59])\n",
      "Before transform: torch.Size([1, 32, 585])\n",
      "After transform: torch.Size([32, 293, 59])\n",
      "Before transform: torch.Size([1, 32, 585])\n",
      "After transform: torch.Size([32, 293, 59])\n",
      "Before transform: torch.Size([1, 32, 585])\n",
      "After transform: torch.Size([32, 293, 59])\n",
      "Before transform: torch.Size([1, 32, 585])\n"
     ]
    },
    {
     "name": "stderr",
     "output_type": "stream",
     "text": [
      " 16%|█▌        | 955/5976 [00:11<00:50, 99.60it/s]"
     ]
    },
    {
     "name": "stdout",
     "output_type": "stream",
     "text": [
      "After transform: torch.Size([32, 293, 59])\n",
      "Before transform: torch.Size([1, 32, 585])\n",
      "After transform: torch.Size([32, 293, 59])\n",
      "Before transform: torch.Size([1, 32, 585])\n",
      "After transform: torch.Size([32, 293, 59])\n",
      "Before transform: torch.Size([1, 32, 585])\n",
      "After transform: torch.Size([32, 293, 59])\n",
      "Before transform: torch.Size([1, 32, 585])\n",
      "After transform: torch.Size([32, 293, 59])\n",
      "Before transform: torch.Size([1, 32, 585])\n",
      "After transform: torch.Size([32, 293, 59])\n",
      "Before transform: torch.Size([1, 32, 585])\n",
      "After transform: torch.Size([32, 293, 59])\n",
      "Before transform: torch.Size([1, 32, 585])\n",
      "After transform: torch.Size([32, 293, 59])\n",
      "Before transform: torch.Size([1, 32, 585])\n",
      "After transform: torch.Size([32, 293, 59])\n",
      "Before transform: torch.Size([1, 32, 585])\n",
      "After transform: torch.Size([32, 293, 59])\n",
      "Before transform: torch.Size([1, 32, 585])\n",
      "After transform: torch.Size([32, 293, 59])\n",
      "Before transform: torch.Size([1, 32, 585])\n",
      "After transform: torch.Size([32, 293, 59])\n",
      "Before transform: torch.Size([1, 32, 585])\n",
      "After transform: torch.Size([32, 293, 59])\n",
      "Before transform: torch.Size([1, 32, 585])\n",
      "After transform: torch.Size([32, 293, 59])\n",
      "Before transform: torch.Size([1, 32, 585])\n",
      "After transform: torch.Size([32, 293, 59])\n",
      "Before transform: torch.Size([1, 32, 585])\n",
      "After transform: torch.Size([32, 293, 59])\n",
      "Before transform: torch.Size([1, 32, 585])\n",
      "After transform: torch.Size([32, 293, 59])\n",
      "Before transform: torch.Size([1, 32, 585])\n",
      "After transform: torch.Size([32, 293, 59])\n",
      "Before transform: torch.Size([1, 32, 585])\n",
      "After transform: torch.Size([32, 293, 59])\n",
      "Before transform: torch.Size([1, 32, 585])\n",
      "After transform: torch.Size([32, 293, 59])\n",
      "Before transform: torch.Size([1, 32, 585])\n",
      "After transform: torch.Size([32, 293, 59])\n",
      "Before transform: torch.Size([1, 32, 585])\n"
     ]
    },
    {
     "name": "stderr",
     "output_type": "stream",
     "text": [
      " 16%|█▋        | 977/5976 [00:11<00:49, 100.64it/s]"
     ]
    },
    {
     "name": "stdout",
     "output_type": "stream",
     "text": [
      "After transform: torch.Size([32, 293, 59])\n",
      "Before transform: torch.Size([1, 32, 585])\n",
      "After transform: torch.Size([32, 293, 59])\n",
      "Before transform: torch.Size([1, 32, 585])\n",
      "After transform: torch.Size([32, 293, 59])\n",
      "Before transform: torch.Size([1, 32, 585])\n",
      "After transform: torch.Size([32, 293, 59])\n",
      "Before transform: torch.Size([1, 32, 585])\n",
      "After transform: torch.Size([32, 293, 59])\n",
      "Before transform: torch.Size([1, 32, 585])\n",
      "After transform: torch.Size([32, 293, 59])\n",
      "Before transform: torch.Size([1, 32, 585])\n",
      "After transform: torch.Size([32, 293, 59])\n",
      "Before transform: torch.Size([1, 32, 585])\n",
      "After transform: torch.Size([32, 293, 59])\n",
      "Before transform: torch.Size([1, 32, 585])\n",
      "After transform: torch.Size([32, 293, 59])\n",
      "Before transform: torch.Size([1, 32, 585])\n",
      "After transform: torch.Size([32, 293, 59])\n",
      "Before transform: torch.Size([1, 32, 585])\n",
      "After transform: torch.Size([32, 293, 59])\n",
      "Before transform: torch.Size([1, 32, 585])\n",
      "After transform: torch.Size([32, 293, 59])\n",
      "Before transform: torch.Size([1, 32, 585])\n",
      "After transform: torch.Size([32, 293, 59])\n",
      "Before transform: torch.Size([1, 32, 585])\n",
      "After transform: torch.Size([32, 293, 59])\n",
      "Before transform: torch.Size([1, 32, 585])\n",
      "After transform: torch.Size([32, 293, 59])\n",
      "Before transform: torch.Size([1, 32, 585])\n",
      "After transform: torch.Size([32, 293, 59])\n",
      "Before transform: torch.Size([1, 32, 585])\n",
      "After transform: torch.Size([32, 293, 59])\n",
      "Before transform: torch.Size([1, 32, 585])\n",
      "After transform: torch.Size([32, 293, 59])\n",
      "Before transform: torch.Size([1, 32, 585])\n",
      "After transform: torch.Size([32, 293, 59])\n",
      "Before transform: torch.Size([1, 32, 585])\n"
     ]
    },
    {
     "name": "stderr",
     "output_type": "stream",
     "text": [
      " 17%|█▋        | 998/5976 [00:11<00:58, 84.77it/s] "
     ]
    },
    {
     "name": "stdout",
     "output_type": "stream",
     "text": [
      "After transform: torch.Size([32, 293, 59])\n",
      "Before transform: torch.Size([1, 32, 585])\n",
      "After transform: torch.Size([32, 293, 59])\n",
      "Before transform: torch.Size([1, 32, 585])\n",
      "After transform: torch.Size([32, 293, 59])\n",
      "Before transform: torch.Size([1, 32, 585])\n",
      "After transform: torch.Size([32, 293, 59])\n",
      "Before transform: torch.Size([1, 32, 585])\n",
      "After transform: torch.Size([32, 293, 59])\n",
      "Before transform: torch.Size([1, 32, 585])\n",
      "After transform: torch.Size([32, 293, 59])\n",
      "Before transform: torch.Size([1, 32, 585])\n",
      "After transform: torch.Size([32, 293, 59])\n",
      "Before transform: torch.Size([1, 32, 585])\n",
      "After transform: torch.Size([32, 293, 59])\n",
      "Before transform: torch.Size([1, 32, 585])\n",
      "After transform: torch.Size([32, 293, 59])\n",
      "Before transform: torch.Size([1, 32, 585])\n",
      "After transform: torch.Size([32, 293, 59])\n",
      "Before transform: torch.Size([1, 32, 585])\n",
      "After transform: torch.Size([32, 293, 59])\n",
      "Before transform: torch.Size([1, 32, 585])\n",
      "After transform: torch.Size([32, 293, 59])\n",
      "Before transform: torch.Size([1, 32, 585])\n",
      "After transform: torch.Size([32, 293, 59])\n",
      "Before transform: torch.Size([1, 32, 585])\n",
      "After transform: torch.Size([32, 293, 59])\n",
      "Before transform: torch.Size([1, 32, 585])\n",
      "After transform: torch.Size([32, 293, 59])\n",
      "Before transform: torch.Size([1, 32, 585])\n"
     ]
    },
    {
     "name": "stderr",
     "output_type": "stream",
     "text": [
      " 17%|█▋        | 1007/5976 [00:12<01:04, 77.18it/s]"
     ]
    },
    {
     "name": "stdout",
     "output_type": "stream",
     "text": [
      "After transform: torch.Size([32, 293, 59])\n",
      "Before transform: torch.Size([1, 32, 585])\n",
      "After transform: torch.Size([32, 293, 59])\n",
      "Before transform: torch.Size([1, 32, 585])\n",
      "After transform: torch.Size([32, 293, 59])\n",
      "Before transform: torch.Size([1, 32, 585])\n",
      "After transform: torch.Size([32, 293, 59])\n",
      "Before transform: torch.Size([1, 32, 585])\n",
      "After transform: torch.Size([32, 293, 59])\n",
      "Before transform: torch.Size([1, 32, 585])\n",
      "After transform: torch.Size([32, 293, 59])\n",
      "Before transform: torch.Size([1, 32, 585])\n",
      "After transform: torch.Size([32, 293, 59])\n",
      "Before transform: torch.Size([1, 32, 585])\n",
      "After transform: torch.Size([32, 293, 59])\n",
      "Before transform: torch.Size([1, 32, 585])\n",
      "After transform: torch.Size([32, 293, 59])\n",
      "Before transform: torch.Size([1, 32, 585])\n",
      "After transform: torch.Size([32, 293, 59])\n",
      "Before transform: torch.Size([1, 32, 585])\n",
      "After transform: torch.Size([32, 293, 59])\n",
      "Before transform: torch.Size([1, 32, 585])\n",
      "After transform: torch.Size([32, 293, 59])\n",
      "Before transform: torch.Size([1, 32, 585])\n",
      "After transform: torch.Size([32, 293, 59])\n",
      "Before transform: torch.Size([1, 32, 585])\n"
     ]
    },
    {
     "name": "stderr",
     "output_type": "stream",
     "text": [
      " 17%|█▋        | 1023/5976 [00:12<01:31, 54.29it/s]"
     ]
    },
    {
     "name": "stdout",
     "output_type": "stream",
     "text": [
      "After transform: torch.Size([32, 293, 59])\n",
      "Before transform: torch.Size([1, 32, 585])\n",
      "After transform: torch.Size([32, 293, 59])\n",
      "Before transform: torch.Size([1, 32, 585])\n",
      "After transform: torch.Size([32, 293, 59])\n",
      "Before transform: torch.Size([1, 32, 585])\n",
      "After transform: torch.Size([32, 293, 59])\n",
      "Before transform: torch.Size([1, 32, 585])\n",
      "After transform: torch.Size([32, 293, 59])\n",
      "Before transform: torch.Size([1, 32, 585])\n",
      "After transform: torch.Size([32, 293, 59])\n",
      "Before transform: torch.Size([1, 32, 585])\n",
      "After transform: torch.Size([32, 293, 59])\n",
      "Before transform: torch.Size([1, 32, 585])\n",
      "After transform: torch.Size([32, 293, 59])\n",
      "Before transform: torch.Size([1, 32, 585])\n",
      "After transform: torch.Size([32, 293, 59])\n",
      "Before transform: torch.Size([1, 32, 585])\n",
      "After transform: torch.Size([32, 293, 59])\n",
      "Before transform: torch.Size([1, 32, 585])\n",
      "After transform: torch.Size([32, 293, 59])\n",
      "Before transform: torch.Size([1, 32, 585])\n",
      "After transform: torch.Size([32, 293, 59])\n",
      "Before transform: torch.Size([1, 32, 585])\n",
      "After transform: torch.Size([32, 293, 59])\n",
      "Before transform: torch.Size([1, 32, 585])\n",
      "After transform: torch.Size([32, 293, 59])\n",
      "Before transform: torch.Size([1, 32, 585])\n",
      "After transform: torch.Size([32, 293, 59])\n",
      "Before transform: torch.Size([1, 32, 585])\n",
      "After transform: torch.Size([32, 293, 59])\n",
      "Before transform: torch.Size([1, 32, 585])\n",
      "After transform: torch.Size([32, 293, 59])\n",
      "Before transform: torch.Size([1, 32, 585])\n"
     ]
    },
    {
     "name": "stderr",
     "output_type": "stream",
     "text": [
      " 17%|█▋        | 1040/5976 [00:12<01:16, 64.54it/s]"
     ]
    },
    {
     "name": "stdout",
     "output_type": "stream",
     "text": [
      "After transform: torch.Size([32, 293, 59])\n",
      "Before transform: torch.Size([1, 32, 585])\n",
      "After transform: torch.Size([32, 293, 59])\n",
      "Before transform: torch.Size([1, 32, 585])\n",
      "After transform: torch.Size([32, 293, 59])\n",
      "Before transform: torch.Size([1, 32, 585])\n",
      "After transform: torch.Size([32, 293, 59])\n",
      "Before transform: torch.Size([1, 32, 585])\n",
      "After transform: torch.Size([32, 293, 59])\n",
      "Before transform: torch.Size([1, 32, 585])\n",
      "After transform: torch.Size([32, 293, 59])\n",
      "Before transform: torch.Size([1, 32, 585])\n",
      "After transform: torch.Size([32, 293, 59])\n",
      "Before transform: torch.Size([1, 32, 585])\n",
      "After transform: torch.Size([32, 293, 59])\n",
      "Before transform: torch.Size([1, 32, 585])\n",
      "After transform: torch.Size([32, 293, 59])\n",
      "Before transform: torch.Size([1, 32, 585])\n",
      "After transform: torch.Size([32, 293, 59])\n",
      "Before transform: torch.Size([1, 32, 585])\n",
      "After transform: torch.Size([32, 293, 59])\n",
      "Before transform: torch.Size([1, 32, 585])\n",
      "After transform: torch.Size([32, 293, 59])\n",
      "Before transform: torch.Size([1, 32, 585])\n",
      "After transform: torch.Size([32, 293, 59])\n",
      "Before transform: torch.Size([1, 32, 585])\n",
      "After transform: torch.Size([32, 293, 59])\n",
      "Before transform: torch.Size([1, 32, 585])\n",
      "After transform: torch.Size([32, 293, 59])\n",
      "Before transform: torch.Size([1, 32, 585])\n",
      "After transform: torch.Size([32, 293, 59])\n",
      "Before transform: torch.Size([1, 32, 585])\n",
      "After transform: torch.Size([32, 293, 59])\n",
      "Before transform: torch.Size([1, 32, 585])\n",
      "After transform: torch.Size([32, 293, 59])\n",
      "Before transform: torch.Size([1, 32, 585])\n"
     ]
    },
    {
     "name": "stderr",
     "output_type": "stream",
     "text": [
      " 18%|█▊        | 1062/5976 [00:12<00:59, 82.46it/s]"
     ]
    },
    {
     "name": "stdout",
     "output_type": "stream",
     "text": [
      "After transform: torch.Size([32, 293, 59])\n",
      "Before transform: torch.Size([1, 32, 585])\n",
      "After transform: torch.Size([32, 293, 59])\n",
      "Before transform: torch.Size([1, 32, 585])\n",
      "After transform: torch.Size([32, 293, 59])\n",
      "Before transform: torch.Size([1, 32, 585])\n",
      "After transform: torch.Size([32, 293, 59])\n",
      "Before transform: torch.Size([1, 32, 585])\n",
      "After transform: torch.Size([32, 293, 59])\n",
      "Before transform: torch.Size([1, 32, 585])\n",
      "After transform: torch.Size([32, 293, 59])\n",
      "Before transform: torch.Size([1, 32, 585])\n",
      "After transform: torch.Size([32, 293, 59])\n",
      "Before transform: torch.Size([1, 32, 585])\n",
      "After transform: torch.Size([32, 293, 59])\n",
      "Before transform: torch.Size([1, 32, 585])\n",
      "After transform: torch.Size([32, 293, 59])\n",
      "Before transform: torch.Size([1, 32, 585])\n",
      "After transform: torch.Size([32, 293, 59])\n",
      "Before transform: torch.Size([1, 32, 585])\n",
      "After transform: torch.Size([32, 293, 59])\n",
      "Before transform: torch.Size([1, 32, 585])\n",
      "After transform: torch.Size([32, 293, 59])\n",
      "Before transform: torch.Size([1, 32, 585])\n",
      "After transform: torch.Size([32, 293, 59])\n",
      "Before transform: torch.Size([1, 32, 585])\n",
      "After transform: torch.Size([32, 293, 59])\n",
      "Before transform: torch.Size([1, 32, 585])\n",
      "After transform: torch.Size([32, 293, 59])\n",
      "Before transform: torch.Size([1, 32, 585])\n",
      "After transform: torch.Size([32, 293, 59])\n",
      "Before transform: torch.Size([1, 32, 585])\n",
      "After transform: torch.Size([32, 293, 59])\n",
      "Before transform: torch.Size([1, 32, 585])\n",
      "After transform: torch.Size([32, 293, 59])\n",
      "Before transform: torch.Size([1, 32, 585])\n",
      "After transform: torch.Size([32, 293, 59])\n",
      "Before transform: torch.Size([1, 32, 585])\n",
      "After transform: torch.Size([32, 293, 59])\n",
      "Before transform: torch.Size([1, 32, 585])\n",
      "After transform: torch.Size([32, 293, 59])\n",
      "Before transform: torch.Size([1, 32, 585])\n"
     ]
    },
    {
     "name": "stderr",
     "output_type": "stream",
     "text": [
      " 18%|█▊        | 1083/5976 [00:13<00:57, 84.52it/s]"
     ]
    },
    {
     "name": "stdout",
     "output_type": "stream",
     "text": [
      "After transform: torch.Size([32, 293, 59])\n",
      "Before transform: torch.Size([1, 32, 585])\n",
      "After transform: torch.Size([32, 293, 59])\n",
      "Before transform: torch.Size([1, 32, 585])\n",
      "After transform: torch.Size([32, 293, 59])\n",
      "Before transform: torch.Size([1, 32, 585])\n",
      "After transform: torch.Size([32, 293, 59])\n",
      "Before transform: torch.Size([1, 32, 585])\n",
      "After transform: torch.Size([32, 293, 59])\n",
      "Before transform: torch.Size([1, 32, 585])\n",
      "After transform: torch.Size([32, 293, 59])\n",
      "Before transform: torch.Size([1, 32, 585])\n",
      "After transform: torch.Size([32, 293, 59])\n",
      "Before transform: torch.Size([1, 32, 585])\n",
      "After transform: torch.Size([32, 293, 59])\n",
      "Before transform: torch.Size([1, 32, 585])\n",
      "After transform: torch.Size([32, 293, 59])\n",
      "Before transform: torch.Size([1, 32, 585])\n",
      "After transform: torch.Size([32, 293, 59])\n",
      "Before transform: torch.Size([1, 32, 585])\n",
      "After transform: torch.Size([32, 293, 59])\n",
      "Before transform: torch.Size([1, 32, 585])\n",
      "After transform: torch.Size([32, 293, 59])\n",
      "Before transform: torch.Size([1, 32, 585])\n",
      "After transform: torch.Size([32, 293, 59])\n",
      "Before transform: torch.Size([1, 32, 585])\n",
      "After transform: torch.Size([32, 293, 59])\n",
      "Before transform: torch.Size([1, 32, 585])\n",
      "After transform: torch.Size([32, 293, 59])\n",
      "Before transform: torch.Size([1, 32, 585])\n",
      "After transform: torch.Size([32, 293, 59])\n",
      "Before transform: torch.Size([1, 32, 585])\n",
      "After transform: torch.Size([32, 293, 59])\n",
      "Before transform: torch.Size([1, 32, 585])\n"
     ]
    },
    {
     "name": "stderr",
     "output_type": "stream",
     "text": [
      " 18%|█▊        | 1105/5976 [00:13<00:52, 93.26it/s]"
     ]
    },
    {
     "name": "stdout",
     "output_type": "stream",
     "text": [
      "After transform: torch.Size([32, 293, 59])\n",
      "Before transform: torch.Size([1, 32, 585])\n",
      "After transform: torch.Size([32, 293, 59])\n",
      "Before transform: torch.Size([1, 32, 585])\n",
      "After transform: torch.Size([32, 293, 59])\n",
      "Before transform: torch.Size([1, 32, 585])\n",
      "After transform: torch.Size([32, 293, 59])\n",
      "Before transform: torch.Size([1, 32, 585])\n",
      "After transform: torch.Size([32, 293, 59])\n",
      "Before transform: torch.Size([1, 32, 585])\n",
      "After transform: torch.Size([32, 293, 59])\n",
      "Before transform: torch.Size([1, 32, 585])\n",
      "After transform: torch.Size([32, 293, 59])\n",
      "Before transform: torch.Size([1, 32, 585])\n",
      "After transform: torch.Size([32, 293, 59])\n",
      "Before transform: torch.Size([1, 32, 585])\n",
      "After transform: torch.Size([32, 293, 59])\n",
      "Before transform: torch.Size([1, 32, 585])\n",
      "After transform: torch.Size([32, 293, 59])\n",
      "Before transform: torch.Size([1, 32, 585])\n",
      "After transform: torch.Size([32, 293, 59])\n",
      "Before transform: torch.Size([1, 32, 585])\n",
      "After transform: torch.Size([32, 293, 59])\n",
      "Before transform: torch.Size([1, 32, 585])\n",
      "After transform: torch.Size([32, 293, 59])\n",
      "Before transform: torch.Size([1, 32, 585])\n",
      "After transform: torch.Size([32, 293, 59])\n",
      "Before transform: torch.Size([1, 32, 585])\n",
      "After transform: torch.Size([32, 293, 59])\n",
      "Before transform: torch.Size([1, 32, 585])\n",
      "After transform: torch.Size([32, 293, 59])\n",
      "Before transform: torch.Size([1, 32, 585])\n",
      "After transform: torch.Size([32, 293, 59])\n",
      "Before transform: torch.Size([1, 32, 585])\n",
      "After transform: torch.Size([32, 293, 59])\n",
      "Before transform: torch.Size([1, 32, 585])\n",
      "After transform: torch.Size([32, 293, 59])\n",
      "Before transform: torch.Size([1, 32, 585])\n",
      "After transform: torch.Size([32, 293, 59])\n",
      "Before transform: torch.Size([1, 32, 585])\n",
      "After transform: torch.Size([32, 293, 59])\n",
      "Before transform: torch.Size([1, 32, 585])\n"
     ]
    },
    {
     "name": "stderr",
     "output_type": "stream",
     "text": [
      " 19%|█▉        | 1127/5976 [00:13<00:49, 98.16it/s]"
     ]
    },
    {
     "name": "stdout",
     "output_type": "stream",
     "text": [
      "After transform: torch.Size([32, 293, 59])\n",
      "Before transform: torch.Size([1, 32, 585])\n",
      "After transform: torch.Size([32, 293, 59])\n",
      "Before transform: torch.Size([1, 32, 585])\n",
      "After transform: torch.Size([32, 293, 59])\n",
      "Before transform: torch.Size([1, 32, 585])\n",
      "After transform: torch.Size([32, 293, 59])\n",
      "Before transform: torch.Size([1, 32, 585])\n",
      "After transform: torch.Size([32, 293, 59])\n",
      "Before transform: torch.Size([1, 32, 585])\n",
      "After transform: torch.Size([32, 293, 59])\n",
      "Before transform: torch.Size([1, 32, 585])\n",
      "After transform: torch.Size([32, 293, 59])\n",
      "Before transform: torch.Size([1, 32, 585])\n",
      "After transform: torch.Size([32, 293, 59])\n",
      "Before transform: torch.Size([1, 32, 585])\n",
      "After transform: torch.Size([32, 293, 59])\n",
      "Before transform: torch.Size([1, 32, 585])\n",
      "After transform: torch.Size([32, 293, 59])\n",
      "Before transform: torch.Size([1, 32, 585])\n",
      "After transform: torch.Size([32, 293, 59])\n",
      "Before transform: torch.Size([1, 32, 585])\n",
      "After transform: torch.Size([32, 293, 59])\n",
      "Before transform: torch.Size([1, 32, 585])\n",
      "After transform: torch.Size([32, 293, 59])\n",
      "Before transform: torch.Size([1, 32, 585])\n",
      "After transform: torch.Size([32, 293, 59])\n",
      "Before transform: torch.Size([1, 32, 585])\n",
      "After transform: torch.Size([32, 293, 59])\n",
      "Before transform: torch.Size([1, 32, 585])\n",
      "After transform: torch.Size([32, 293, 59])\n",
      "Before transform: torch.Size([1, 32, 585])\n",
      "After transform: torch.Size([32, 293, 59])\n",
      "Before transform: torch.Size([1, 32, 585])\n",
      "After transform: torch.Size([32, 293, 59])\n",
      "Before transform: torch.Size([1, 32, 585])\n",
      "After transform: torch.Size([32, 293, 59])\n",
      "Before transform: torch.Size([1, 32, 585])\n",
      "After transform: torch.Size([32, 293, 59])\n",
      "Before transform: torch.Size([1, 32, 585])\n",
      "After transform: torch.Size([32, 293, 59])\n",
      "Before transform: torch.Size([1, 32, 585])\n"
     ]
    },
    {
     "name": "stderr",
     "output_type": "stream",
     "text": [
      " 19%|█▉        | 1138/5976 [00:13<00:48, 99.40it/s]"
     ]
    },
    {
     "name": "stdout",
     "output_type": "stream",
     "text": [
      "After transform: torch.Size([32, 293, 59])\n",
      "Before transform: torch.Size([1, 32, 585])\n",
      "After transform: torch.Size([32, 293, 59])\n",
      "Before transform: torch.Size([1, 32, 585])\n",
      "After transform: torch.Size([32, 293, 59])\n",
      "Before transform: torch.Size([1, 32, 585])\n",
      "After transform: torch.Size([32, 293, 59])\n",
      "Before transform: torch.Size([1, 32, 585])\n",
      "After transform: torch.Size([32, 293, 59])\n",
      "Before transform: torch.Size([1, 32, 585])\n",
      "After transform: torch.Size([32, 293, 59])\n",
      "Before transform: torch.Size([1, 32, 585])\n",
      "After transform: torch.Size([32, 293, 59])\n",
      "Before transform: torch.Size([1, 32, 585])\n",
      "After transform: torch.Size([32, 293, 59])\n",
      "Before transform: torch.Size([1, 32, 585])\n",
      "After transform: torch.Size([32, 293, 59])\n",
      "Before transform: torch.Size([1, 32, 585])\n",
      "After transform: torch.Size([32, 293, 59])\n",
      "Before transform: torch.Size([1, 32, 585])\n",
      "After transform: torch.Size([32, 293, 59])\n",
      "Before transform: torch.Size([1, 32, 585])\n",
      "After transform: torch.Size([32, 293, 59])\n",
      "Before transform: torch.Size([1, 32, 585])\n",
      "After transform: torch.Size([32, 293, 59])\n",
      "Before transform: torch.Size([1, 32, 585])\n",
      "After transform: torch.Size([32, 293, 59])\n",
      "Before transform: torch.Size([1, 32, 585])\n",
      "After transform: torch.Size([32, 293, 59])\n",
      "Before transform: torch.Size([1, 32, 585])\n",
      "After transform: torch.Size([32, 293, 59])\n",
      "Before transform: torch.Size([1, 32, 585])\n",
      "After transform: torch.Size([32, 293, 59])\n",
      "Before transform: torch.Size([1, 32, 585])\n",
      "After transform: torch.Size([32, 293, 59])\n",
      "Before transform: torch.Size([1, 32, 585])\n",
      "After transform: torch.Size([32, 293, 59])\n",
      "Before transform: torch.Size([1, 32, 585])\n",
      "After transform: torch.Size([32, 293, 59])\n",
      "Before transform: torch.Size([1, 32, 585])\n",
      "After transform: torch.Size([32, 293, 59])\n",
      "Before transform: torch.Size([1, 32, 585])\n"
     ]
    },
    {
     "name": "stderr",
     "output_type": "stream",
     "text": [
      " 19%|█▉        | 1160/5976 [00:13<00:47, 100.61it/s]"
     ]
    },
    {
     "name": "stdout",
     "output_type": "stream",
     "text": [
      "After transform: torch.Size([32, 293, 59])\n",
      "Before transform: torch.Size([1, 32, 585])\n",
      "After transform: torch.Size([32, 293, 59])\n",
      "Before transform: torch.Size([1, 32, 585])\n",
      "After transform: torch.Size([32, 293, 59])\n",
      "Before transform: torch.Size([1, 32, 585])\n",
      "After transform: torch.Size([32, 293, 59])\n",
      "Before transform: torch.Size([1, 32, 585])\n",
      "After transform: torch.Size([32, 293, 59])\n",
      "Before transform: torch.Size([1, 32, 585])\n",
      "After transform: torch.Size([32, 293, 59])\n",
      "Before transform: torch.Size([1, 32, 585])\n",
      "After transform: torch.Size([32, 293, 59])\n",
      "Before transform: torch.Size([1, 32, 585])\n",
      "After transform: torch.Size([32, 293, 59])\n",
      "Before transform: torch.Size([1, 32, 585])\n",
      "After transform: torch.Size([32, 293, 59])\n",
      "Before transform: torch.Size([1, 32, 585])\n",
      "After transform: torch.Size([32, 293, 59])\n",
      "Before transform: torch.Size([1, 32, 585])\n",
      "After transform: torch.Size([32, 293, 59])\n",
      "Before transform: torch.Size([1, 32, 585])\n",
      "After transform: torch.Size([32, 293, 59])\n",
      "Before transform: torch.Size([1, 32, 585])\n",
      "After transform: torch.Size([32, 293, 59])\n",
      "Before transform: torch.Size([1, 32, 585])\n",
      "After transform: torch.Size([32, 293, 59])\n",
      "Before transform: torch.Size([1, 32, 585])\n",
      "After transform: torch.Size([32, 293, 59])\n",
      "Before transform: torch.Size([1, 32, 585])\n",
      "After transform: torch.Size([32, 293, 59])\n",
      "Before transform: torch.Size([1, 32, 585])\n",
      "After transform: torch.Size([32, 293, 59])\n",
      "Before transform: torch.Size([1, 32, 585])\n",
      "After transform: torch.Size([32, 293, 59])\n",
      "Before transform: torch.Size([1, 32, 585])\n",
      "After transform: torch.Size([32, 293, 59])\n",
      "Before transform: torch.Size([1, 32, 585])\n",
      "After transform: torch.Size([32, 293, 59])\n",
      "Before transform: torch.Size([1, 32, 585])\n",
      "After transform: torch.Size([32, 293, 59])\n",
      "Before transform: torch.Size([1, 32, 585])\n"
     ]
    },
    {
     "name": "stderr",
     "output_type": "stream",
     "text": [
      " 20%|█▉        | 1171/5976 [00:13<00:46, 102.59it/s]"
     ]
    },
    {
     "name": "stdout",
     "output_type": "stream",
     "text": [
      "After transform: torch.Size([32, 293, 59])\n",
      "Before transform: torch.Size([1, 32, 585])\n",
      "After transform: torch.Size([32, 293, 59])\n",
      "Before transform: torch.Size([1, 32, 585])\n",
      "After transform: torch.Size([32, 293, 59])\n",
      "Before transform: torch.Size([1, 32, 585])\n",
      "After transform: torch.Size([32, 293, 59])\n",
      "Before transform: torch.Size([1, 32, 585])\n",
      "After transform: torch.Size([32, 293, 59])\n",
      "Before transform: torch.Size([1, 32, 585])\n",
      "After transform: torch.Size([32, 293, 59])\n",
      "Before transform: torch.Size([1, 32, 585])\n",
      "After transform: torch.Size([32, 293, 59])\n",
      "Before transform: torch.Size([1, 32, 585])\n",
      "After transform: torch.Size([32, 293, 59])\n",
      "Before transform: torch.Size([1, 32, 585])\n",
      "After transform: torch.Size([32, 293, 59])\n",
      "Before transform: torch.Size([1, 32, 585])\n"
     ]
    },
    {
     "name": "stderr",
     "output_type": "stream",
     "text": [
      " 20%|█▉        | 1182/5976 [00:14<01:05, 73.11it/s] "
     ]
    },
    {
     "name": "stdout",
     "output_type": "stream",
     "text": [
      "After transform: torch.Size([32, 293, 59])\n",
      "Before transform: torch.Size([1, 32, 585])\n",
      "After transform: torch.Size([32, 293, 59])\n",
      "Before transform: torch.Size([1, 32, 585])\n",
      "After transform: torch.Size([32, 293, 59])\n",
      "Before transform: torch.Size([1, 32, 585])\n",
      "After transform: torch.Size([32, 293, 59])\n",
      "Before transform: torch.Size([1, 32, 585])\n",
      "After transform: torch.Size([32, 293, 59])\n",
      "Before transform: torch.Size([1, 32, 585])\n",
      "After transform: torch.Size([32, 293, 59])\n",
      "Before transform: torch.Size([1, 32, 585])\n"
     ]
    },
    {
     "name": "stderr",
     "output_type": "stream",
     "text": [
      " 20%|█▉        | 1191/5976 [00:14<01:32, 51.96it/s]"
     ]
    },
    {
     "name": "stdout",
     "output_type": "stream",
     "text": [
      "After transform: torch.Size([32, 293, 59])\n",
      "Before transform: torch.Size([1, 32, 585])\n",
      "After transform: torch.Size([32, 293, 59])\n",
      "Before transform: torch.Size([1, 32, 585])\n",
      "After transform: torch.Size([32, 293, 59])\n",
      "Before transform: torch.Size([1, 32, 585])\n",
      "After transform: torch.Size([32, 293, 59])\n",
      "Before transform: torch.Size([1, 32, 585])\n",
      "After transform: torch.Size([32, 293, 59])\n",
      "Before transform: torch.Size([1, 32, 585])\n",
      "After transform: torch.Size([32, 293, 59])\n",
      "Before transform: torch.Size([1, 32, 585])\n",
      "After transform: torch.Size([32, 293, 59])\n",
      "Before transform: torch.Size([1, 32, 585])\n",
      "After transform: torch.Size([32, 293, 59])\n",
      "Before transform: torch.Size([1, 32, 585])\n",
      "After transform: torch.Size([32, 293, 59])\n",
      "Before transform: torch.Size([1, 32, 585])\n",
      "After transform: torch.Size([32, 293, 59])\n",
      "Before transform: torch.Size([1, 32, 585])\n",
      "After transform: torch.Size([32, 293, 59])\n",
      "Before transform: torch.Size([1, 32, 585])\n",
      "After transform: torch.Size([32, 293, 59])\n",
      "Before transform: torch.Size([1, 32, 585])\n",
      "After transform: torch.Size([32, 293, 59])\n",
      "Before transform: torch.Size([1, 32, 585])\n"
     ]
    },
    {
     "name": "stderr",
     "output_type": "stream",
     "text": [
      " 20%|██        | 1204/5976 [00:14<01:48, 43.96it/s]"
     ]
    },
    {
     "name": "stdout",
     "output_type": "stream",
     "text": [
      "After transform: torch.Size([32, 293, 59])\n",
      "Before transform: torch.Size([1, 32, 585])\n",
      "After transform: torch.Size([32, 293, 59])\n",
      "Before transform: torch.Size([1, 32, 585])\n",
      "After transform: torch.Size([32, 293, 59])\n",
      "Before transform: torch.Size([1, 32, 585])\n",
      "After transform: torch.Size([32, 293, 59])\n",
      "Before transform: torch.Size([1, 32, 585])\n",
      "After transform: torch.Size([32, 293, 59])\n",
      "Before transform: torch.Size([1, 32, 585])\n",
      "After transform: torch.Size([32, 293, 59])\n",
      "Before transform: torch.Size([1, 32, 585])\n",
      "After transform: torch.Size([32, 293, 59])\n",
      "Before transform: torch.Size([1, 32, 585])\n",
      "After transform: torch.Size([32, 293, 59])\n",
      "Before transform: torch.Size([1, 32, 585])\n",
      "After transform: torch.Size([32, 293, 59])\n",
      "Before transform: torch.Size([1, 32, 585])\n",
      "After transform: torch.Size([32, 293, 59])\n",
      "Before transform: torch.Size([1, 32, 585])\n",
      "After transform: torch.Size([32, 293, 59])\n",
      "Before transform: torch.Size([1, 32, 585])\n",
      "After transform: torch.Size([32, 293, 59])\n",
      "Before transform: torch.Size([1, 32, 585])\n",
      "After transform: torch.Size([32, 293, 59])\n",
      "Before transform: torch.Size([1, 32, 585])\n",
      "After transform: torch.Size([32, 293, 59])\n"
     ]
    },
    {
     "name": "stderr",
     "output_type": "stream",
     "text": [
      " 20%|██        | 1222/5976 [00:15<01:25, 55.42it/s]"
     ]
    },
    {
     "name": "stdout",
     "output_type": "stream",
     "text": [
      "Before transform: torch.Size([1, 32, 585])\n",
      "After transform: torch.Size([32, 293, 59])\n",
      "Before transform: torch.Size([1, 32, 585])\n",
      "After transform: torch.Size([32, 293, 59])\n",
      "Before transform: torch.Size([1, 32, 585])\n",
      "After transform: torch.Size([32, 293, 59])\n",
      "Before transform: torch.Size([1, 32, 585])\n",
      "After transform: torch.Size([32, 293, 59])\n",
      "Before transform: torch.Size([1, 32, 585])\n",
      "After transform: torch.Size([32, 293, 59])\n",
      "Before transform: torch.Size([1, 32, 585])\n",
      "After transform: torch.Size([32, 293, 59])\n",
      "Before transform: torch.Size([1, 32, 585])\n",
      "After transform: torch.Size([32, 293, 59])\n",
      "Before transform: torch.Size([1, 32, 585])\n",
      "After transform: torch.Size([32, 293, 59])\n",
      "Before transform: torch.Size([1, 32, 585])\n",
      "After transform: torch.Size([32, 293, 59])\n",
      "Before transform: torch.Size([1, 32, 585])\n",
      "After transform: torch.Size([32, 293, 59])\n",
      "Before transform: torch.Size([1, 32, 585])\n",
      "After transform: torch.Size([32, 293, 59])\n",
      "Before transform: torch.Size([1, 32, 585])\n"
     ]
    },
    {
     "name": "stderr",
     "output_type": "stream",
     "text": [
      " 21%|██        | 1239/5976 [00:15<01:12, 65.18it/s]"
     ]
    },
    {
     "name": "stdout",
     "output_type": "stream",
     "text": [
      "After transform: torch.Size([32, 293, 59])\n",
      "Before transform: torch.Size([1, 32, 585])\n",
      "After transform: torch.Size([32, 293, 59])\n",
      "Before transform: torch.Size([1, 32, 585])\n",
      "After transform: torch.Size([32, 293, 59])\n",
      "Before transform: torch.Size([1, 32, 585])\n",
      "After transform: torch.Size([32, 293, 59])\n",
      "Before transform: torch.Size([1, 32, 585])\n",
      "After transform: torch.Size([32, 293, 59])\n",
      "Before transform: torch.Size([1, 32, 585])\n",
      "After transform: torch.Size([32, 293, 59])\n",
      "Before transform: torch.Size([1, 32, 585])\n",
      "After transform: torch.Size([32, 293, 59])\n",
      "Before transform: torch.Size([1, 32, 585])\n",
      "After transform: torch.Size([32, 293, 59])\n",
      "Before transform: torch.Size([1, 32, 585])\n",
      "After transform: torch.Size([32, 293, 59])\n",
      "Before transform: torch.Size([1, 32, 585])\n",
      "After transform: torch.Size([32, 293, 59])\n",
      "Before transform: torch.Size([1, 32, 585])\n",
      "After transform: torch.Size([32, 293, 59])\n",
      "Before transform: torch.Size([1, 32, 585])\n",
      "After transform: torch.Size([32, 293, 59])\n",
      "Before transform: torch.Size([1, 32, 585])\n",
      "After transform: torch.Size([32, 293, 59])\n",
      "Before transform: torch.Size([1, 32, 585])\n",
      "After transform: torch.Size([32, 293, 59])\n",
      "Before transform: torch.Size([1, 32, 585])\n",
      "After transform: torch.Size([32, 293, 59])\n",
      "Before transform: torch.Size([1, 32, 585])\n",
      "After transform: torch.Size([32, 293, 59])\n",
      "Before transform: torch.Size([1, 32, 585])\n",
      "After transform: torch.Size([32, 293, 59])\n",
      "Before transform: torch.Size([1, 32, 585])\n"
     ]
    },
    {
     "name": "stderr",
     "output_type": "stream",
     "text": [
      " 21%|██        | 1256/5976 [00:15<01:04, 73.22it/s]"
     ]
    },
    {
     "name": "stdout",
     "output_type": "stream",
     "text": [
      "After transform: torch.Size([32, 293, 59])\n",
      "Before transform: torch.Size([1, 32, 585])\n",
      "After transform: torch.Size([32, 293, 59])\n",
      "Before transform: torch.Size([1, 32, 585])\n",
      "After transform: torch.Size([32, 293, 59])\n",
      "Before transform: torch.Size([1, 32, 585])\n",
      "After transform: torch.Size([32, 293, 59])\n",
      "Before transform: torch.Size([1, 32, 585])\n",
      "After transform: torch.Size([32, 293, 59])\n",
      "Before transform: torch.Size([1, 32, 585])\n",
      "After transform: torch.Size([32, 293, 59])\n",
      "Before transform: torch.Size([1, 32, 585])\n",
      "After transform: torch.Size([32, 293, 59])\n",
      "Before transform: torch.Size([1, 32, 585])\n",
      "After transform: torch.Size([32, 293, 59])\n",
      "Before transform: torch.Size([1, 32, 585])\n",
      "After transform: torch.Size([32, 293, 59])\n",
      "Before transform: torch.Size([1, 32, 585])\n",
      "After transform: torch.Size([32, 293, 59])\n",
      "Before transform: torch.Size([1, 32, 585])\n",
      "After transform: torch.Size([32, 293, 59])\n",
      "Before transform: torch.Size([1, 32, 585])\n",
      "After transform: torch.Size([32, 293, 59])\n",
      "Before transform: torch.Size([1, 32, 585])\n",
      "After transform: torch.Size([32, 293, 59])\n",
      "Before transform: torch.Size([1, 32, 585])\n",
      "After transform: torch.Size([32, 293, 59])\n",
      "Before transform: torch.Size([1, 32, 585])\n",
      "After transform: torch.Size([32, 293, 59])\n",
      "Before transform: torch.Size([1, 32, 585])\n",
      "After transform: torch.Size([32, 293, 59])\n",
      "Before transform: torch.Size([1, 32, 585])\n",
      "After transform: torch.Size([32, 293, 59])\n",
      "Before transform: torch.Size([1, 32, 585])\n"
     ]
    },
    {
     "name": "stderr",
     "output_type": "stream",
     "text": [
      " 21%|██        | 1264/5976 [00:15<01:05, 72.39it/s]"
     ]
    },
    {
     "name": "stdout",
     "output_type": "stream",
     "text": [
      "After transform: torch.Size([32, 293, 59])\n",
      "Before transform: torch.Size([1, 32, 585])\n",
      "After transform: torch.Size([32, 293, 59])\n",
      "Before transform: torch.Size([1, 32, 585])\n",
      "After transform: torch.Size([32, 293, 59])\n",
      "Before transform: torch.Size([1, 32, 585])\n",
      "After transform: torch.Size([32, 293, 59])\n",
      "Before transform: torch.Size([1, 32, 585])\n",
      "After transform: torch.Size([32, 293, 59])\n",
      "Before transform: torch.Size([1, 32, 585])\n",
      "After transform: torch.Size([32, 293, 59])\n",
      "Before transform: torch.Size([1, 32, 585])\n",
      "After transform: torch.Size([32, 293, 59])\n",
      "Before transform: torch.Size([1, 32, 585])\n",
      "After transform: torch.Size([32, 293, 59])\n",
      "Before transform: torch.Size([1, 32, 585])\n",
      "After transform: torch.Size([32, 293, 59])\n",
      "Before transform: torch.Size([1, 32, 585])\n",
      "After transform: torch.Size([32, 293, 59])\n",
      "Before transform: torch.Size([1, 32, 585])\n",
      "After transform: torch.Size([32, 293, 59])\n",
      "Before transform: torch.Size([1, 32, 585])\n",
      "After transform: torch.Size([32, 293, 59])\n",
      "Before transform: torch.Size([1, 32, 585])\n",
      "After transform: torch.Size([32, 293, 59])\n",
      "Before transform: torch.Size([1, 32, 585])\n",
      "After transform: torch.Size([32, 293, 59])\n",
      "Before transform: torch.Size([1, 32, 585])\n",
      "After transform: torch.Size([32, 293, 59])\n",
      "Before transform: torch.Size([1, 32, 585])\n"
     ]
    },
    {
     "name": "stderr",
     "output_type": "stream",
     "text": [
      " 21%|██▏       | 1272/5976 [00:15<01:05, 72.22it/s]"
     ]
    },
    {
     "name": "stdout",
     "output_type": "stream",
     "text": [
      "After transform: torch.Size([32, 293, 59])\n",
      "Before transform: torch.Size([1, 32, 585])\n",
      "After transform: torch.Size([32, 293, 59])\n",
      "Before transform: torch.Size([1, 32, 585])\n",
      "After transform: torch.Size([32, 293, 59])\n",
      "Before transform: torch.Size([1, 32, 585])\n",
      "After transform: torch.Size([32, 293, 59])\n",
      "Before transform: torch.Size([1, 32, 585])\n",
      "After transform: torch.Size([32, 293, 59])\n",
      "Before transform: torch.Size([1, 32, 585])\n"
     ]
    },
    {
     "name": "stderr",
     "output_type": "stream",
     "text": [
      " 22%|██▏       | 1287/5976 [00:16<01:25, 55.15it/s]"
     ]
    },
    {
     "name": "stdout",
     "output_type": "stream",
     "text": [
      "After transform: torch.Size([32, 293, 59])\n",
      "Before transform: torch.Size([1, 32, 585])\n",
      "After transform: torch.Size([32, 293, 59])\n",
      "Before transform: torch.Size([1, 32, 585])\n",
      "After transform: torch.Size([32, 293, 59])\n",
      "Before transform: torch.Size([1, 32, 585])\n",
      "After transform: torch.Size([32, 293, 59])\n",
      "Before transform: torch.Size([1, 32, 585])\n",
      "After transform: torch.Size([32, 293, 59])\n",
      "Before transform: torch.Size([1, 32, 585])\n",
      "After transform: torch.Size([32, 293, 59])\n",
      "Before transform: torch.Size([1, 32, 585])\n",
      "After transform: torch.Size([32, 293, 59])\n",
      "Before transform: torch.Size([1, 32, 585])\n",
      "After transform: torch.Size([32, 293, 59])\n",
      "Before transform: torch.Size([1, 32, 585])\n",
      "After transform: torch.Size([32, 293, 59])\n",
      "Before transform: torch.Size([1, 32, 585])\n",
      "After transform: torch.Size([32, 293, 59])\n",
      "Before transform: torch.Size([1, 32, 585])\n",
      "After transform: torch.Size([32, 293, 59])\n",
      "Before transform: torch.Size([1, 32, 585])\n",
      "After transform: torch.Size([32, 293, 59])\n",
      "Before transform: torch.Size([1, 32, 585])\n",
      "After transform: torch.Size([32, 293, 59])\n",
      "Before transform: torch.Size([1, 32, 585])\n",
      "After transform: torch.Size([32, 293, 59])\n",
      "Before transform: torch.Size([1, 32, 585])\n",
      "After transform: torch.Size([32, 293, 59])\n",
      "Before transform: torch.Size([1, 32, 585])\n"
     ]
    },
    {
     "name": "stderr",
     "output_type": "stream",
     "text": [
      " 22%|██▏       | 1306/5976 [00:16<01:04, 71.98it/s]"
     ]
    },
    {
     "name": "stdout",
     "output_type": "stream",
     "text": [
      "After transform: torch.Size([32, 293, 59])\n",
      "Before transform: torch.Size([1, 32, 585])\n",
      "After transform: torch.Size([32, 293, 59])\n",
      "Before transform: torch.Size([1, 32, 585])\n",
      "After transform: torch.Size([32, 293, 59])\n",
      "Before transform: torch.Size([1, 32, 585])\n",
      "After transform: torch.Size([32, 293, 59])\n",
      "Before transform: torch.Size([1, 32, 585])\n",
      "After transform: torch.Size([32, 293, 59])\n",
      "Before transform: torch.Size([1, 32, 585])\n",
      "After transform: torch.Size([32, 293, 59])\n",
      "Before transform: torch.Size([1, 32, 585])\n",
      "After transform: torch.Size([32, 293, 59])\n",
      "Before transform: torch.Size([1, 32, 585])\n",
      "After transform: torch.Size([32, 293, 59])\n",
      "Before transform: torch.Size([1, 32, 585])\n",
      "After transform: torch.Size([32, 293, 59])\n",
      "Before transform: torch.Size([1, 32, 585])\n",
      "After transform: torch.Size([32, 293, 59])\n",
      "Before transform: torch.Size([1, 32, 585])\n",
      "After transform: torch.Size([32, 293, 59])\n",
      "Before transform: torch.Size([1, 32, 585])\n",
      "After transform: torch.Size([32, 293, 59])\n",
      "Before transform: torch.Size([1, 32, 585])\n",
      "After transform: torch.Size([32, 293, 59])\n",
      "Before transform: torch.Size([1, 32, 585])\n",
      "After transform: torch.Size([32, 293, 59])\n",
      "Before transform: torch.Size([1, 32, 585])\n",
      "After transform: torch.Size([32, 293, 59])\n",
      "Before transform: torch.Size([1, 32, 585])\n",
      "After transform: torch.Size([32, 293, 59])\n",
      "Before transform: torch.Size([1, 32, 585])\n",
      "After transform: torch.Size([32, 293, 59])\n",
      "Before transform: torch.Size([1, 32, 585])\n",
      "After transform: torch.Size([32, 293, 59])\n",
      "Before transform: torch.Size([1, 32, 585])\n",
      "After transform: torch.Size([32, 293, 59])\n",
      "Before transform: torch.Size([1, 32, 585])\n"
     ]
    },
    {
     "name": "stderr",
     "output_type": "stream",
     "text": [
      " 22%|██▏       | 1324/5976 [00:16<00:59, 78.64it/s]"
     ]
    },
    {
     "name": "stdout",
     "output_type": "stream",
     "text": [
      "After transform: torch.Size([32, 293, 59])\n",
      "Before transform: torch.Size([1, 32, 585])\n",
      "After transform: torch.Size([32, 293, 59])\n",
      "Before transform: torch.Size([1, 32, 585])\n",
      "After transform: torch.Size([32, 293, 59])\n",
      "Before transform: torch.Size([1, 32, 585])\n",
      "After transform: torch.Size([32, 293, 59])\n",
      "Before transform: torch.Size([1, 32, 585])\n",
      "After transform: torch.Size([32, 293, 59])\n",
      "Before transform: torch.Size([1, 32, 585])\n",
      "After transform: torch.Size([32, 293, 59])\n",
      "Before transform: torch.Size([1, 32, 585])\n",
      "After transform: torch.Size([32, 293, 59])\n",
      "Before transform: torch.Size([1, 32, 585])\n",
      "After transform: torch.Size([32, 293, 59])\n",
      "Before transform: torch.Size([1, 32, 585])\n",
      "After transform: torch.Size([32, 293, 59])\n",
      "Before transform: torch.Size([1, 32, 585])\n",
      "After transform: torch.Size([32, 293, 59])\n",
      "Before transform: torch.Size([1, 32, 585])\n",
      "After transform: torch.Size([32, 293, 59])\n",
      "Before transform: torch.Size([1, 32, 585])\n",
      "After transform: torch.Size([32, 293, 59])\n",
      "Before transform: torch.Size([1, 32, 585])\n",
      "After transform: torch.Size([32, 293, 59])\n",
      "Before transform: torch.Size([1, 32, 585])\n",
      "After transform: torch.Size([32, 293, 59])\n",
      "Before transform: torch.Size([1, 32, 585])\n",
      "After transform: torch.Size([32, 293, 59])\n",
      "Before transform: torch.Size([1, 32, 585])\n",
      "After transform: torch.Size([32, 293, 59])\n",
      "Before transform: torch.Size([1, 32, 585])\n",
      "After transform: torch.Size([32, 293, 59])\n",
      "Before transform: torch.Size([1, 32, 585])\n",
      "After transform: torch.Size([32, 293, 59])\n",
      "Before transform: torch.Size([1, 32, 585])\n"
     ]
    },
    {
     "name": "stderr",
     "output_type": "stream",
     "text": [
      " 22%|██▏       | 1342/5976 [00:16<00:57, 81.07it/s]"
     ]
    },
    {
     "name": "stdout",
     "output_type": "stream",
     "text": [
      "After transform: torch.Size([32, 293, 59])\n",
      "Before transform: torch.Size([1, 32, 585])\n",
      "After transform: torch.Size([32, 293, 59])\n",
      "Before transform: torch.Size([1, 32, 585])\n",
      "After transform: torch.Size([32, 293, 59])\n",
      "Before transform: torch.Size([1, 32, 585])\n",
      "After transform: torch.Size([32, 293, 59])\n",
      "Before transform: torch.Size([1, 32, 585])\n",
      "After transform: torch.Size([32, 293, 59])\n",
      "Before transform: torch.Size([1, 32, 585])\n",
      "After transform: torch.Size([32, 293, 59])\n",
      "Before transform: torch.Size([1, 32, 585])\n",
      "After transform: torch.Size([32, 293, 59])\n",
      "Before transform: torch.Size([1, 32, 585])\n",
      "After transform: torch.Size([32, 293, 59])\n",
      "Before transform: torch.Size([1, 32, 585])\n",
      "After transform: torch.Size([32, 293, 59])\n",
      "Before transform: torch.Size([1, 32, 585])\n",
      "After transform: torch.Size([32, 293, 59])\n",
      "Before transform: torch.Size([1, 32, 585])\n",
      "After transform: torch.Size([32, 293, 59])\n",
      "Before transform: torch.Size([1, 32, 585])\n",
      "After transform: torch.Size([32, 293, 59])\n",
      "Before transform: torch.Size([1, 32, 585])\n",
      "After transform: torch.Size([32, 293, 59])\n",
      "Before transform: torch.Size([1, 32, 585])\n",
      "After transform: torch.Size([32, 293, 59])\n",
      "Before transform: torch.Size([1, 32, 585])\n",
      "After transform: torch.Size([32, 293, 59])\n",
      "Before transform: torch.Size([1, 32, 585])\n",
      "After transform: torch.Size([32, 293, 59])\n",
      "Before transform: torch.Size([1, 32, 585])\n",
      "After transform: torch.Size([32, 293, 59])\n",
      "Before transform: torch.Size([1, 32, 585])\n"
     ]
    },
    {
     "name": "stderr",
     "output_type": "stream",
     "text": [
      " 23%|██▎       | 1351/5976 [00:17<01:08, 67.47it/s]"
     ]
    },
    {
     "name": "stdout",
     "output_type": "stream",
     "text": [
      "After transform: torch.Size([32, 293, 59])\n",
      "Before transform: torch.Size([1, 32, 585])\n",
      "After transform: torch.Size([32, 293, 59])\n",
      "Before transform: torch.Size([1, 32, 585])\n",
      "After transform: torch.Size([32, 293, 59])\n",
      "Before transform: torch.Size([1, 32, 585])\n",
      "After transform: torch.Size([32, 293, 59])\n",
      "Before transform: torch.Size([1, 32, 585])\n",
      "After transform: torch.Size([32, 293, 59])\n",
      "Before transform: torch.Size([1, 32, 585])\n",
      "After transform: torch.Size([32, 293, 59])\n",
      "Before transform: torch.Size([1, 32, 585])\n",
      "After transform: torch.Size([32, 293, 59])\n",
      "Before transform: torch.Size([1, 32, 585])\n",
      "After transform: torch.Size([32, 293, 59])\n",
      "Before transform: torch.Size([1, 32, 585])\n",
      "After transform: torch.Size([32, 293, 59])\n",
      "Before transform: torch.Size([1, 32, 585])\n",
      "After transform: torch.Size([32, 293, 59])\n",
      "Before transform: torch.Size([1, 32, 585])\n",
      "After transform: torch.Size([32, 293, 59])\n",
      "Before transform: torch.Size([1, 32, 585])\n"
     ]
    },
    {
     "name": "stderr",
     "output_type": "stream",
     "text": [
      " 23%|██▎       | 1359/5976 [00:17<02:55, 26.27it/s]"
     ]
    },
    {
     "name": "stdout",
     "output_type": "stream",
     "text": [
      "After transform: torch.Size([32, 293, 59])\n",
      "Before transform: torch.Size([1, 32, 585])\n",
      "After transform: torch.Size([32, 293, 59])\n",
      "Before transform: torch.Size([1, 32, 585])\n",
      "After transform: torch.Size([32, 293, 59])\n",
      "Before transform: torch.Size([1, 32, 585])\n",
      "After transform: torch.Size([32, 293, 59])\n",
      "Before transform: torch.Size([1, 32, 585])\n",
      "After transform: torch.Size([32, 293, 59])\n",
      "Before transform: torch.Size([1, 32, 585])\n",
      "After transform: torch.Size([32, 293, 59])\n",
      "Before transform: torch.Size([1, 32, 585])\n",
      "After transform: torch.Size([32, 293, 59])\n",
      "Before transform: torch.Size([1, 32, 585])\n"
     ]
    },
    {
     "name": "stderr",
     "output_type": "stream",
     "text": [
      " 23%|██▎       | 1372/5976 [00:18<02:40, 28.71it/s]"
     ]
    },
    {
     "name": "stdout",
     "output_type": "stream",
     "text": [
      "After transform: torch.Size([32, 293, 59])\n",
      "Before transform: torch.Size([1, 32, 585])\n",
      "After transform: torch.Size([32, 293, 59])\n",
      "Before transform: torch.Size([1, 32, 585])\n",
      "After transform: torch.Size([32, 293, 59])\n",
      "Before transform: torch.Size([1, 32, 585])\n",
      "After transform: torch.Size([32, 293, 59])\n",
      "Before transform: torch.Size([1, 32, 585])\n",
      "After transform: torch.Size([32, 293, 59])\n",
      "Before transform: torch.Size([1, 32, 585])\n",
      "After transform: torch.Size([32, 293, 59])\n",
      "Before transform: torch.Size([1, 32, 585])\n",
      "After transform: torch.Size([32, 293, 59])\n",
      "Before transform: torch.Size([1, 32, 585])\n",
      "After transform: torch.Size([32, 293, 59])\n",
      "Before transform: torch.Size([1, 32, 585])\n",
      "After transform: torch.Size([32, 293, 59])\n",
      "Before transform: torch.Size([1, 32, 585])\n",
      "After transform: torch.Size([32, 293, 59])\n",
      "Before transform: torch.Size([1, 32, 585])\n",
      "After transform: torch.Size([32, 293, 59])\n",
      "Before transform: torch.Size([1, 32, 585])\n",
      "After transform: torch.Size([32, 293, 59])\n",
      "Before transform: torch.Size([1, 32, 585])\n"
     ]
    },
    {
     "name": "stderr",
     "output_type": "stream",
     "text": [
      " 23%|██▎       | 1377/5976 [00:18<03:34, 21.41it/s]"
     ]
    },
    {
     "name": "stdout",
     "output_type": "stream",
     "text": [
      "After transform: torch.Size([32, 293, 59])\n",
      "Before transform: torch.Size([1, 32, 585])\n",
      "After transform: torch.Size([32, 293, 59])\n",
      "Before transform: torch.Size([1, 32, 585])\n",
      "After transform: torch.Size([32, 293, 59])\n",
      "Before transform: torch.Size([1, 32, 585])\n",
      "After transform: torch.Size([32, 293, 59])\n",
      "Before transform: torch.Size([1, 32, 585])\n"
     ]
    },
    {
     "name": "stderr",
     "output_type": "stream",
     "text": [
      " 23%|██▎       | 1389/5976 [00:18<02:35, 29.54it/s]"
     ]
    },
    {
     "name": "stdout",
     "output_type": "stream",
     "text": [
      "After transform: torch.Size([32, 293, 59])\n",
      "Before transform: torch.Size([1, 32, 585])\n",
      "After transform: torch.Size([32, 293, 59])\n",
      "Before transform: torch.Size([1, 32, 585])\n",
      "After transform: torch.Size([32, 293, 59])\n",
      "Before transform: torch.Size([1, 32, 585])\n",
      "After transform: torch.Size([32, 293, 59])\n",
      "Before transform: torch.Size([1, 32, 585])\n",
      "After transform: torch.Size([32, 293, 59])\n",
      "Before transform: torch.Size([1, 32, 585])\n",
      "After transform: torch.Size([32, 293, 59])\n",
      "Before transform: torch.Size([1, 32, 585])\n",
      "After transform: torch.Size([32, 293, 59])\n",
      "Before transform: torch.Size([1, 32, 585])\n",
      "After transform: torch.Size([32, 293, 59])\n",
      "Before transform: torch.Size([1, 32, 585])\n",
      "After transform: torch.Size([32, 293, 59])\n",
      "Before transform: torch.Size([1, 32, 585])\n",
      "After transform: torch.Size([32, 293, 59])\n",
      "Before transform: torch.Size([1, 32, 585])\n",
      "After transform: torch.Size([32, 293, 59])\n",
      "Before transform: torch.Size([1, 32, 585])\n",
      "After transform: torch.Size([32, 293, 59])\n",
      "Before transform: torch.Size([1, 32, 585])\n",
      "After transform: torch.Size([32, 293, 59])\n",
      "Before transform: torch.Size([1, 32, 585])\n",
      "After transform: torch.Size([32, 293, 59])\n",
      "Before transform: torch.Size([1, 32, 585])\n"
     ]
    },
    {
     "name": "stderr",
     "output_type": "stream",
     "text": [
      " 23%|██▎       | 1402/5976 [00:19<01:56, 39.40it/s]"
     ]
    },
    {
     "name": "stdout",
     "output_type": "stream",
     "text": [
      "After transform: torch.Size([32, 293, 59])\n",
      "Before transform: torch.Size([1, 32, 585])\n",
      "After transform: torch.Size([32, 293, 59])\n",
      "Before transform: torch.Size([1, 32, 585])\n",
      "After transform: torch.Size([32, 293, 59])\n",
      "Before transform: torch.Size([1, 32, 585])\n",
      "After transform: torch.Size([32, 293, 59])\n",
      "Before transform: torch.Size([1, 32, 585])\n",
      "After transform: torch.Size([32, 293, 59])\n",
      "Before transform: torch.Size([1, 32, 585])\n",
      "After transform: torch.Size([32, 293, 59])\n",
      "Before transform: torch.Size([1, 32, 585])\n",
      "After transform: torch.Size([32, 293, 59])\n",
      "Before transform: torch.Size([1, 32, 585])\n",
      "After transform: torch.Size([32, 293, 59])\n",
      "Before transform: torch.Size([1, 32, 585])\n",
      "After transform: torch.Size([32, 293, 59])\n",
      "Before transform: torch.Size([1, 32, 585])\n",
      "After transform: torch.Size([32, 293, 59])\n",
      "Before transform: torch.Size([1, 32, 585])\n",
      "After transform: torch.Size([32, 293, 59])\n",
      "Before transform: torch.Size([1, 32, 585])\n",
      "After transform: torch.Size([32, 293, 59])\n",
      "Before transform: torch.Size([1, 32, 585])\n",
      "After transform: torch.Size([32, 293, 59])\n",
      "Before transform: torch.Size([1, 32, 585])\n"
     ]
    },
    {
     "name": "stderr",
     "output_type": "stream",
     "text": [
      " 24%|██▎       | 1415/5976 [00:19<01:38, 46.46it/s]"
     ]
    },
    {
     "name": "stdout",
     "output_type": "stream",
     "text": [
      "After transform: torch.Size([32, 293, 59])\n",
      "Before transform: torch.Size([1, 32, 585])\n",
      "After transform: torch.Size([32, 293, 59])\n",
      "Before transform: torch.Size([1, 32, 585])\n",
      "After transform: torch.Size([32, 293, 59])\n",
      "Before transform: torch.Size([1, 32, 585])\n",
      "After transform: torch.Size([32, 293, 59])\n",
      "Before transform: torch.Size([1, 32, 585])\n",
      "After transform: torch.Size([32, 293, 59])\n",
      "Before transform: torch.Size([1, 32, 585])\n",
      "After transform: torch.Size([32, 293, 59])\n",
      "Before transform: torch.Size([1, 32, 585])\n",
      "After transform: torch.Size([32, 293, 59])\n",
      "Before transform: torch.Size([1, 32, 585])\n",
      "After transform: torch.Size([32, 293, 59])\n",
      "Before transform: torch.Size([1, 32, 585])\n",
      "After transform: torch.Size([32, 293, 59])\n",
      "Before transform: torch.Size([1, 32, 585])\n",
      "After transform: torch.Size([32, 293, 59])\n",
      "Before transform: torch.Size([1, 32, 585])\n"
     ]
    },
    {
     "name": "stderr",
     "output_type": "stream",
     "text": [
      " 24%|██▍       | 1429/5976 [00:19<01:25, 52.94it/s]"
     ]
    },
    {
     "name": "stdout",
     "output_type": "stream",
     "text": [
      "After transform: torch.Size([32, 293, 59])\n",
      "Before transform: torch.Size([1, 32, 585])\n",
      "After transform: torch.Size([32, 293, 59])\n",
      "Before transform: torch.Size([1, 32, 585])\n",
      "After transform: torch.Size([32, 293, 59])\n",
      "Before transform: torch.Size([1, 32, 585])\n",
      "After transform: torch.Size([32, 293, 59])\n",
      "Before transform: torch.Size([1, 32, 585])\n",
      "After transform: torch.Size([32, 293, 59])\n",
      "Before transform: torch.Size([1, 32, 585])\n",
      "After transform: torch.Size([32, 293, 59])\n",
      "Before transform: torch.Size([1, 32, 585])\n",
      "After transform: torch.Size([32, 293, 59])\n",
      "Before transform: torch.Size([1, 32, 585])\n",
      "After transform: torch.Size([32, 293, 59])\n",
      "Before transform: torch.Size([1, 32, 585])\n",
      "After transform: torch.Size([32, 293, 59])\n",
      "Before transform: torch.Size([1, 32, 585])\n",
      "After transform: torch.Size([32, 293, 59])\n",
      "Before transform: torch.Size([1, 32, 585])\n",
      "After transform: torch.Size([32, 293, 59])\n",
      "Before transform: torch.Size([1, 32, 585])\n",
      "After transform: torch.Size([32, 293, 59])\n",
      "Before transform: torch.Size([1, 32, 585])\n",
      "After transform: torch.Size([32, 293, 59])\n",
      "Before transform: torch.Size([1, 32, 585])\n"
     ]
    },
    {
     "name": "stderr",
     "output_type": "stream",
     "text": [
      " 24%|██▍       | 1446/5976 [00:19<01:07, 66.76it/s]"
     ]
    },
    {
     "name": "stdout",
     "output_type": "stream",
     "text": [
      "After transform: torch.Size([32, 293, 59])\n",
      "Before transform: torch.Size([1, 32, 585])\n",
      "After transform: torch.Size([32, 293, 59])\n",
      "Before transform: torch.Size([1, 32, 585])\n",
      "After transform: torch.Size([32, 293, 59])\n",
      "Before transform: torch.Size([1, 32, 585])\n",
      "After transform: torch.Size([32, 293, 59])\n",
      "Before transform: torch.Size([1, 32, 585])\n",
      "After transform: torch.Size([32, 293, 59])\n",
      "Before transform: torch.Size([1, 32, 585])\n",
      "After transform: torch.Size([32, 293, 59])\n",
      "Before transform: torch.Size([1, 32, 585])\n",
      "After transform: torch.Size([32, 293, 59])\n",
      "Before transform: torch.Size([1, 32, 585])\n",
      "After transform: torch.Size([32, 293, 59])\n",
      "Before transform: torch.Size([1, 32, 585])\n",
      "After transform: torch.Size([32, 293, 59])\n",
      "Before transform: torch.Size([1, 32, 585])\n",
      "After transform: torch.Size([32, 293, 59])\n",
      "Before transform: torch.Size([1, 32, 585])\n",
      "After transform: torch.Size([32, 293, 59])\n",
      "Before transform: torch.Size([1, 32, 585])\n",
      "After transform: torch.Size([32, 293, 59])\n",
      "Before transform: torch.Size([1, 32, 585])\n",
      "After transform: torch.Size([32, 293, 59])\n",
      "Before transform: torch.Size([1, 32, 585])\n",
      "After transform: torch.Size([32, 293, 59])\n",
      "Before transform: torch.Size([1, 32, 585])\n",
      "After transform: torch.Size([32, 293, 59])\n",
      "Before transform: torch.Size([1, 32, 585])\n",
      "After transform: torch.Size([32, 293, 59])\n",
      "Before transform: torch.Size([1, 32, 585])\n",
      "After transform: torch.Size([32, 293, 59])\n",
      "Before transform: torch.Size([1, 32, 585])\n"
     ]
    },
    {
     "name": "stderr",
     "output_type": "stream",
     "text": [
      " 24%|██▍       | 1454/5976 [00:20<01:18, 57.28it/s]"
     ]
    },
    {
     "name": "stdout",
     "output_type": "stream",
     "text": [
      "After transform: torch.Size([32, 293, 59])\n",
      "Before transform: torch.Size([1, 32, 585])\n",
      "After transform: torch.Size([32, 293, 59])\n",
      "Before transform: torch.Size([1, 32, 585])\n",
      "After transform: torch.Size([32, 293, 59])\n",
      "Before transform: torch.Size([1, 32, 585])\n",
      "After transform: torch.Size([32, 293, 59])\n",
      "Before transform: torch.Size([1, 32, 585])\n",
      "After transform: torch.Size([32, 293, 59])\n",
      "Before transform: torch.Size([1, 32, 585])\n",
      "After transform: torch.Size([32, 293, 59])\n",
      "Before transform: torch.Size([1, 32, 585])\n",
      "After transform: torch.Size([32, 293, 59])\n",
      "Before transform: torch.Size([1, 32, 585])\n",
      "After transform: torch.Size([32, 293, 59])\n",
      "Before transform: torch.Size([1, 32, 585])\n",
      "After transform: torch.Size([32, 293, 59])\n",
      "Before transform: torch.Size([1, 32, 585])\n"
     ]
    },
    {
     "name": "stderr",
     "output_type": "stream",
     "text": [
      " 25%|██▍       | 1468/5976 [00:20<01:16, 59.15it/s]"
     ]
    },
    {
     "name": "stdout",
     "output_type": "stream",
     "text": [
      "After transform: torch.Size([32, 293, 59])\n",
      "Before transform: torch.Size([1, 32, 585])\n",
      "After transform: torch.Size([32, 293, 59])\n",
      "Before transform: torch.Size([1, 32, 585])\n",
      "After transform: torch.Size([32, 293, 59])\n",
      "Before transform: torch.Size([1, 32, 585])\n",
      "After transform: torch.Size([32, 293, 59])\n",
      "Before transform: torch.Size([1, 32, 585])\n",
      "After transform: torch.Size([32, 293, 59])\n",
      "Before transform: torch.Size([1, 32, 585])\n",
      "After transform: torch.Size([32, 293, 59])\n",
      "Before transform: torch.Size([1, 32, 585])\n",
      "After transform: torch.Size([32, 293, 59])\n",
      "Before transform: torch.Size([1, 32, 585])\n",
      "After transform: torch.Size([32, 293, 59])\n",
      "Before transform: torch.Size([1, 32, 585])\n",
      "After transform: torch.Size([32, 293, 59])\n",
      "Before transform: torch.Size([1, 32, 585])\n",
      "After transform: torch.Size([32, 293, 59])\n",
      "Before transform: torch.Size([1, 32, 585])\n",
      "After transform: torch.Size([32, 293, 59])\n",
      "Before transform: torch.Size([1, 32, 585])\n",
      "After transform: torch.Size([32, 293, 59])\n",
      "Before transform: torch.Size([1, 32, 585])\n",
      "After transform: torch.Size([32, 293, 59])\n",
      "Before transform: torch.Size([1, 32, 585])\n",
      "After transform: torch.Size([32, 293, 59])\n",
      "Before transform: torch.Size([1, 32, 585])\n",
      "After transform: torch.Size([32, 293, 59])\n",
      "Before transform: torch.Size([1, 32, 585])\n",
      "After transform: torch.Size([32, 293, 59])\n",
      "Before transform: torch.Size([1, 32, 585])\n"
     ]
    },
    {
     "name": "stderr",
     "output_type": "stream",
     "text": [
      " 25%|██▍       | 1485/5976 [00:20<01:22, 54.50it/s]"
     ]
    },
    {
     "name": "stdout",
     "output_type": "stream",
     "text": [
      "After transform: torch.Size([32, 293, 59])\n",
      "Before transform: torch.Size([1, 32, 585])\n",
      "After transform: torch.Size([32, 293, 59])\n",
      "Before transform: torch.Size([1, 32, 585])\n",
      "After transform: torch.Size([32, 293, 59])\n",
      "Before transform: torch.Size([1, 32, 585])\n",
      "After transform: torch.Size([32, 293, 59])\n",
      "Before transform: torch.Size([1, 32, 585])\n",
      "After transform: torch.Size([32, 293, 59])\n",
      "Before transform: torch.Size([1, 32, 585])\n",
      "After transform: torch.Size([32, 293, 59])\n",
      "Before transform: torch.Size([1, 32, 585])\n",
      "After transform: torch.Size([32, 293, 59])\n",
      "Before transform: torch.Size([1, 32, 585])\n",
      "After transform: torch.Size([32, 293, 59])\n",
      "Before transform: torch.Size([1, 32, 585])\n",
      "After transform: torch.Size([32, 293, 59])\n",
      "Before transform: torch.Size([1, 32, 585])\n",
      "After transform: torch.Size([32, 293, 59])\n",
      "Before transform: torch.Size([1, 32, 585])\n",
      "After transform: torch.Size([32, 293, 59])\n",
      "Before transform: torch.Size([1, 32, 585])\n",
      "After transform: torch.Size([32, 293, 59])\n",
      "Before transform: torch.Size([1, 32, 585])\n",
      "After transform: torch.Size([32, 293, 59])\n",
      "Before transform: torch.Size([1, 32, 585])\n",
      "After transform: torch.Size([32, 293, 59])\n",
      "Before transform: torch.Size([1, 32, 585])\n",
      "After transform: torch.Size([32, 293, 59])\n",
      "Before transform: torch.Size([1, 32, 585])\n",
      "After transform: torch.Size([32, 293, 59])\n",
      "Before transform: torch.Size([1, 32, 585])\n",
      "After transform: torch.Size([32, 293, 59])\n",
      "Before transform: torch.Size([1, 32, 585])\n",
      "After transform: torch.Size([32, 293, 59])\n",
      "Before transform: torch.Size([1, 32, 585])\n",
      "After transform: torch.Size([32, 293, 59])\n",
      "Before transform: torch.Size([1, 32, 585])\n",
      "After transform: torch.Size([32, 293, 59])\n",
      "Before transform: torch.Size([1, 32, 585])\n"
     ]
    },
    {
     "name": "stderr",
     "output_type": "stream",
     "text": [
      " 25%|██▌       | 1505/5976 [00:20<01:02, 71.45it/s]"
     ]
    },
    {
     "name": "stdout",
     "output_type": "stream",
     "text": [
      "After transform: torch.Size([32, 293, 59])\n",
      "Before transform: torch.Size([1, 32, 585])\n",
      "After transform: torch.Size([32, 293, 59])\n",
      "Before transform: torch.Size([1, 32, 585])\n",
      "After transform: torch.Size([32, 293, 59])\n",
      "Before transform: torch.Size([1, 32, 585])\n",
      "After transform: torch.Size([32, 293, 59])\n",
      "Before transform: torch.Size([1, 32, 585])\n",
      "After transform: torch.Size([32, 293, 59])\n",
      "Before transform: torch.Size([1, 32, 585])\n",
      "After transform: torch.Size([32, 293, 59])\n",
      "Before transform: torch.Size([1, 32, 585])\n",
      "After transform: torch.Size([32, 293, 59])\n",
      "Before transform: torch.Size([1, 32, 585])\n",
      "After transform: torch.Size([32, 293, 59])\n",
      "Before transform: torch.Size([1, 32, 585])\n",
      "After transform: torch.Size([32, 293, 59])\n",
      "Before transform: torch.Size([1, 32, 585])\n",
      "After transform: torch.Size([32, 293, 59])\n",
      "Before transform: torch.Size([1, 32, 585])\n",
      "After transform: torch.Size([32, 293, 59])\n",
      "Before transform: torch.Size([1, 32, 585])\n",
      "After transform: torch.Size([32, 293, 59])\n",
      "Before transform: torch.Size([1, 32, 585])\n",
      "After transform: torch.Size([32, 293, 59])\n",
      "Before transform: torch.Size([1, 32, 585])\n",
      "After transform: torch.Size([32, 293, 59])\n",
      "Before transform: torch.Size([1, 32, 585])\n",
      "After transform: torch.Size([32, 293, 59])\n",
      "Before transform: torch.Size([1, 32, 585])\n",
      "After transform: torch.Size([32, 293, 59])\n",
      "Before transform: torch.Size([1, 32, 585])\n",
      "After transform: torch.Size([32, 293, 59])\n",
      "Before transform: torch.Size([1, 32, 585])\n",
      "After transform: torch.Size([32, 293, 59])\n",
      "Before transform: torch.Size([1, 32, 585])\n",
      "After transform: torch.Size([32, 293, 59])\n",
      "Before transform: torch.Size([1, 32, 585])\n"
     ]
    },
    {
     "name": "stderr",
     "output_type": "stream",
     "text": [
      " 26%|██▌       | 1524/5976 [00:21<00:59, 75.25it/s]"
     ]
    },
    {
     "name": "stdout",
     "output_type": "stream",
     "text": [
      "After transform: torch.Size([32, 293, 59])\n",
      "Before transform: torch.Size([1, 32, 585])\n",
      "After transform: torch.Size([32, 293, 59])\n",
      "Before transform: torch.Size([1, 32, 585])\n",
      "After transform: torch.Size([32, 293, 59])\n",
      "Before transform: torch.Size([1, 32, 585])\n",
      "After transform: torch.Size([32, 293, 59])\n",
      "Before transform: torch.Size([1, 32, 585])\n",
      "After transform: torch.Size([32, 293, 59])\n",
      "Before transform: torch.Size([1, 32, 585])\n",
      "After transform: torch.Size([32, 293, 59])\n",
      "Before transform: torch.Size([1, 32, 585])\n",
      "After transform: torch.Size([32, 293, 59])\n",
      "Before transform: torch.Size([1, 32, 585])\n",
      "After transform: torch.Size([32, 293, 59])\n",
      "Before transform: torch.Size([1, 32, 585])\n",
      "After transform: torch.Size([32, 293, 59])\n",
      "Before transform: torch.Size([1, 32, 585])\n",
      "After transform: torch.Size([32, 293, 59])\n",
      "Before transform: torch.Size([1, 32, 585])\n",
      "After transform: torch.Size([32, 293, 59])\n",
      "Before transform: torch.Size([1, 32, 585])\n",
      "After transform: torch.Size([32, 293, 59])\n",
      "Before transform: torch.Size([1, 32, 585])\n",
      "After transform: torch.Size([32, 293, 59])\n",
      "Before transform: torch.Size([1, 32, 585])\n",
      "After transform: torch.Size([32, 293, 59])\n",
      "Before transform: torch.Size([1, 32, 585])\n",
      "After transform: torch.Size([32, 293, 59])\n",
      "Before transform: torch.Size([1, 32, 585])\n",
      "After transform: torch.Size([32, 293, 59])\n",
      "Before transform: torch.Size([1, 32, 585])\n"
     ]
    },
    {
     "name": "stderr",
     "output_type": "stream",
     "text": [
      " 26%|██▌       | 1532/5976 [00:21<00:59, 74.75it/s]"
     ]
    },
    {
     "name": "stdout",
     "output_type": "stream",
     "text": [
      "After transform: torch.Size([32, 293, 59])\n",
      "Before transform: torch.Size([1, 32, 585])\n",
      "After transform: torch.Size([32, 293, 59])\n",
      "Before transform: torch.Size([1, 32, 585])\n",
      "After transform: torch.Size([32, 293, 59])\n",
      "Before transform: torch.Size([1, 32, 585])\n",
      "After transform: torch.Size([32, 293, 59])\n",
      "Before transform: torch.Size([1, 32, 585])\n",
      "After transform: torch.Size([32, 293, 59])\n",
      "Before transform: torch.Size([1, 32, 585])\n",
      "After transform: torch.Size([32, 293, 59])\n",
      "Before transform: torch.Size([1, 32, 585])\n",
      "After transform: torch.Size([32, 293, 59])\n",
      "Before transform: torch.Size([1, 32, 585])\n",
      "After transform: torch.Size([32, 293, 59])\n",
      "Before transform: torch.Size([1, 32, 585])\n",
      "After transform: torch.Size([32, 293, 59])\n",
      "Before transform: torch.Size([1, 32, 585])\n",
      "After transform: torch.Size([32, 293, 59])\n",
      "Before transform: torch.Size([1, 32, 585])\n",
      "After transform: torch.Size([32, 293, 59])\n",
      "Before transform: torch.Size([1, 32, 585])\n",
      "After transform: torch.Size([32, 293, 59])\n",
      "Before transform: torch.Size([1, 32, 585])\n"
     ]
    },
    {
     "name": "stderr",
     "output_type": "stream",
     "text": [
      " 26%|██▌       | 1549/5976 [00:21<01:03, 69.63it/s]"
     ]
    },
    {
     "name": "stdout",
     "output_type": "stream",
     "text": [
      "After transform: torch.Size([32, 293, 59])\n",
      "Before transform: torch.Size([1, 32, 585])\n",
      "After transform: torch.Size([32, 293, 59])\n",
      "Before transform: torch.Size([1, 32, 585])\n",
      "After transform: torch.Size([32, 293, 59])\n",
      "Before transform: torch.Size([1, 32, 585])\n",
      "After transform: torch.Size([32, 293, 59])\n",
      "Before transform: torch.Size([1, 32, 585])\n",
      "After transform: torch.Size([32, 293, 59])\n",
      "Before transform: torch.Size([1, 32, 585])\n",
      "After transform: torch.Size([32, 293, 59])\n",
      "Before transform: torch.Size([1, 32, 585])\n",
      "After transform: torch.Size([32, 293, 59])\n",
      "Before transform: torch.Size([1, 32, 585])\n",
      "After transform: torch.Size([32, 293, 59])\n",
      "Before transform: torch.Size([1, 32, 585])\n",
      "After transform: torch.Size([32, 293, 59])\n",
      "Before transform: torch.Size([1, 32, 585])\n",
      "After transform: torch.Size([32, 293, 59])\n",
      "Before transform: torch.Size([1, 32, 585])\n",
      "After transform: torch.Size([32, 293, 59])\n",
      "Before transform: torch.Size([1, 32, 585])\n",
      "After transform: torch.Size([32, 293, 59])\n",
      "Before transform: torch.Size([1, 32, 585])\n",
      "After transform: torch.Size([32, 293, 59])\n",
      "Before transform: torch.Size([1, 32, 585])\n",
      "After transform: torch.Size([32, 293, 59])\n",
      "Before transform: torch.Size([1, 32, 585])\n",
      "After transform: torch.Size([32, 293, 59])\n",
      "Before transform: torch.Size([1, 32, 585])\n",
      "After transform: torch.Size([32, 293, 59])\n",
      "Before transform: torch.Size([1, 32, 585])\n",
      "After transform: torch.Size([32, 293, 59])\n",
      "Before transform: torch.Size([1, 32, 585])\n"
     ]
    },
    {
     "name": "stderr",
     "output_type": "stream",
     "text": [
      " 26%|██▌       | 1565/5976 [00:21<01:01, 72.09it/s]"
     ]
    },
    {
     "name": "stdout",
     "output_type": "stream",
     "text": [
      "After transform: torch.Size([32, 293, 59])\n",
      "Before transform: torch.Size([1, 32, 585])\n",
      "After transform: torch.Size([32, 293, 59])\n",
      "Before transform: torch.Size([1, 32, 585])\n",
      "After transform: torch.Size([32, 293, 59])\n",
      "Before transform: torch.Size([1, 32, 585])\n",
      "After transform: torch.Size([32, 293, 59])\n",
      "Before transform: torch.Size([1, 32, 585])\n",
      "After transform: torch.Size([32, 293, 59])\n",
      "Before transform: torch.Size([1, 32, 585])\n",
      "After transform: torch.Size([32, 293, 59])\n",
      "Before transform: torch.Size([1, 32, 585])\n",
      "After transform: torch.Size([32, 293, 59])\n",
      "Before transform: torch.Size([1, 32, 585])\n",
      "After transform: torch.Size([32, 293, 59])\n",
      "Before transform: torch.Size([1, 32, 585])\n",
      "After transform: torch.Size([32, 293, 59])\n",
      "Before transform: torch.Size([1, 32, 585])\n",
      "After transform: torch.Size([32, 293, 59])\n",
      "Before transform: torch.Size([1, 32, 585])\n",
      "After transform: torch.Size([32, 293, 59])\n",
      "Before transform: torch.Size([1, 32, 585])\n",
      "After transform: torch.Size([32, 293, 59])\n",
      "Before transform: torch.Size([1, 32, 585])\n",
      "After transform: torch.Size([32, 293, 59])\n",
      "Before transform: torch.Size([1, 32, 585])\n",
      "After transform: torch.Size([32, 293, 59])\n",
      "Before transform: torch.Size([1, 32, 585])\n",
      "After transform: torch.Size([32, 293, 59])\n",
      "Before transform: torch.Size([1, 32, 585])\n",
      "After transform: torch.Size([32, 293, 59])\n",
      "Before transform: torch.Size([1, 32, 585])\n"
     ]
    },
    {
     "name": "stderr",
     "output_type": "stream",
     "text": [
      " 26%|██▋       | 1583/5976 [00:21<01:04, 68.25it/s]"
     ]
    },
    {
     "name": "stdout",
     "output_type": "stream",
     "text": [
      "After transform: torch.Size([32, 293, 59])\n",
      "Before transform: torch.Size([1, 32, 585])\n",
      "After transform: torch.Size([32, 293, 59])\n",
      "Before transform: torch.Size([1, 32, 585])\n",
      "After transform: torch.Size([32, 293, 59])\n",
      "Before transform: torch.Size([1, 32, 585])\n",
      "After transform: torch.Size([32, 293, 59])\n",
      "Before transform: torch.Size([1, 32, 585])\n",
      "After transform: torch.Size([32, 293, 59])\n",
      "Before transform: torch.Size([1, 32, 585])\n",
      "After transform: torch.Size([32, 293, 59])\n",
      "Before transform: torch.Size([1, 32, 585])\n",
      "After transform: torch.Size([32, 293, 59])\n",
      "Before transform: torch.Size([1, 32, 585])\n",
      "After transform: torch.Size([32, 293, 59])\n",
      "Before transform: torch.Size([1, 32, 585])\n",
      "After transform: torch.Size([32, 293, 59])\n",
      "Before transform: torch.Size([1, 32, 585])\n",
      "After transform: torch.Size([32, 293, 59])\n",
      "Before transform: torch.Size([1, 32, 585])\n",
      "After transform: torch.Size([32, 293, 59])\n",
      "Before transform: torch.Size([1, 32, 585])\n",
      "After transform: torch.Size([32, 293, 59])\n",
      "Before transform: torch.Size([1, 32, 585])\n"
     ]
    },
    {
     "name": "stderr",
     "output_type": "stream",
     "text": [
      " 27%|██▋       | 1591/5976 [00:22<01:17, 56.74it/s]"
     ]
    },
    {
     "name": "stdout",
     "output_type": "stream",
     "text": [
      "After transform: torch.Size([32, 293, 59])\n",
      "Before transform: torch.Size([1, 32, 585])\n",
      "After transform: torch.Size([32, 293, 59])\n",
      "Before transform: torch.Size([1, 32, 585])\n",
      "After transform: torch.Size([32, 293, 59])\n",
      "Before transform: torch.Size([1, 32, 585])\n",
      "After transform: torch.Size([32, 293, 59])\n",
      "Before transform: torch.Size([1, 32, 585])\n",
      "After transform: torch.Size([32, 293, 59])\n",
      "Before transform: torch.Size([1, 32, 585])\n",
      "After transform: torch.Size([32, 293, 59])\n",
      "Before transform: torch.Size([1, 32, 585])\n",
      "After transform: torch.Size([32, 293, 59])\n",
      "Before transform: torch.Size([1, 32, 585])\n",
      "After transform: torch.Size([32, 293, 59])\n",
      "Before transform: torch.Size([1, 32, 585])\n",
      "After transform: torch.Size([32, 293, 59])\n",
      "Before transform: torch.Size([1, 32, 585])\n"
     ]
    },
    {
     "name": "stderr",
     "output_type": "stream",
     "text": [
      " 27%|██▋       | 1609/5976 [00:22<01:03, 69.28it/s]"
     ]
    },
    {
     "name": "stdout",
     "output_type": "stream",
     "text": [
      "After transform: torch.Size([32, 293, 59])\n",
      "Before transform: torch.Size([1, 32, 585])\n",
      "After transform: torch.Size([32, 293, 59])\n",
      "Before transform: torch.Size([1, 32, 585])\n",
      "After transform: torch.Size([32, 293, 59])\n",
      "Before transform: torch.Size([1, 32, 585])\n",
      "After transform: torch.Size([32, 293, 59])\n",
      "Before transform: torch.Size([1, 32, 585])\n",
      "After transform: torch.Size([32, 293, 59])\n",
      "Before transform: torch.Size([1, 32, 585])\n",
      "After transform: torch.Size([32, 293, 59])\n",
      "Before transform: torch.Size([1, 32, 585])\n",
      "After transform: torch.Size([32, 293, 59])\n",
      "Before transform: torch.Size([1, 32, 585])\n",
      "After transform: torch.Size([32, 293, 59])\n",
      "Before transform: torch.Size([1, 32, 585])\n",
      "After transform: torch.Size([32, 293, 59])\n",
      "Before transform: torch.Size([1, 32, 585])\n",
      "After transform: torch.Size([32, 293, 59])\n",
      "Before transform: torch.Size([1, 32, 585])\n",
      "After transform: torch.Size([32, 293, 59])\n",
      "Before transform: torch.Size([1, 32, 585])\n",
      "After transform: torch.Size([32, 293, 59])\n",
      "Before transform: torch.Size([1, 32, 585])\n",
      "After transform: torch.Size([32, 293, 59])\n",
      "Before transform: torch.Size([1, 32, 585])\n",
      "After transform: torch.Size([32, 293, 59])\n",
      "Before transform: torch.Size([1, 32, 585])\n",
      "After transform: torch.Size([32, 293, 59])\n",
      "Before transform: torch.Size([1, 32, 585])\n",
      "After transform: torch.Size([32, 293, 59])\n",
      "Before transform: torch.Size([1, 32, 585])\n",
      "After transform: torch.Size([32, 293, 59])\n",
      "Before transform: torch.Size([1, 32, 585])\n",
      "After transform: torch.Size([32, 293, 59])\n",
      "Before transform: torch.Size([1, 32, 585])\n"
     ]
    },
    {
     "name": "stderr",
     "output_type": "stream",
     "text": [
      " 27%|██▋       | 1618/5976 [00:22<00:59, 73.28it/s]"
     ]
    },
    {
     "name": "stdout",
     "output_type": "stream",
     "text": [
      "After transform: torch.Size([32, 293, 59])\n",
      "Before transform: torch.Size([1, 32, 585])\n",
      "After transform: torch.Size([32, 293, 59])\n",
      "Before transform: torch.Size([1, 32, 585])\n",
      "After transform: torch.Size([32, 293, 59])\n",
      "Before transform: torch.Size([1, 32, 585])\n",
      "After transform: torch.Size([32, 293, 59])\n",
      "Before transform: torch.Size([1, 32, 585])\n",
      "After transform: torch.Size([32, 293, 59])\n",
      "Before transform: torch.Size([1, 32, 585])\n",
      "After transform: torch.Size([32, 293, 59])\n",
      "Before transform: torch.Size([1, 32, 585])\n",
      "After transform: torch.Size([32, 293, 59])\n",
      "Before transform: torch.Size([1, 32, 585])\n",
      "After transform: torch.Size([32, 293, 59])\n",
      "Before transform: torch.Size([1, 32, 585])\n",
      "After transform: torch.Size([32, 293, 59])\n",
      "Before transform: torch.Size([1, 32, 585])\n",
      "After transform: torch.Size([32, 293, 59])\n",
      "Before transform: torch.Size([1, 32, 585])\n",
      "After transform: torch.Size([32, 293, 59])\n",
      "Before transform: torch.Size([1, 32, 585])\n",
      "After transform: torch.Size([32, 293, 59])\n",
      "Before transform: torch.Size([1, 32, 585])\n",
      "After transform: torch.Size([32, 293, 59])\n",
      "Before transform: torch.Size([1, 32, 585])\n",
      "After transform: torch.Size([32, 293, 59])\n",
      "Before transform: torch.Size([1, 32, 585])\n",
      "After transform: torch.Size([32, 293, 59])\n",
      "Before transform: torch.Size([1, 32, 585])\n"
     ]
    },
    {
     "name": "stderr",
     "output_type": "stream",
     "text": [
      " 27%|██▋       | 1634/5976 [00:22<01:04, 67.56it/s]"
     ]
    },
    {
     "name": "stdout",
     "output_type": "stream",
     "text": [
      "After transform: torch.Size([32, 293, 59])\n",
      "Before transform: torch.Size([1, 32, 585])\n",
      "After transform: torch.Size([32, 293, 59])\n",
      "Before transform: torch.Size([1, 32, 585])\n",
      "After transform: torch.Size([32, 293, 59])\n",
      "Before transform: torch.Size([1, 32, 585])\n",
      "After transform: torch.Size([32, 293, 59])\n",
      "Before transform: torch.Size([1, 32, 585])\n",
      "After transform: torch.Size([32, 293, 59])\n",
      "Before transform: torch.Size([1, 32, 585])\n",
      "After transform: torch.Size([32, 293, 59])\n",
      "Before transform: torch.Size([1, 32, 585])\n",
      "After transform: torch.Size([32, 293, 59])\n",
      "Before transform: torch.Size([1, 32, 585])\n",
      "After transform: torch.Size([32, 293, 59])\n",
      "Before transform: torch.Size([1, 32, 585])\n",
      "After transform: torch.Size([32, 293, 59])\n",
      "Before transform: torch.Size([1, 32, 585])\n",
      "After transform: torch.Size([32, 293, 59])\n",
      "Before transform: torch.Size([1, 32, 585])\n",
      "After transform: torch.Size([32, 293, 59])\n",
      "Before transform: torch.Size([1, 32, 585])\n",
      "After transform: torch.Size([32, 293, 59])\n",
      "Before transform: torch.Size([1, 32, 585])\n"
     ]
    },
    {
     "name": "stderr",
     "output_type": "stream",
     "text": [
      " 27%|██▋       | 1642/5976 [00:22<01:23, 51.88it/s]"
     ]
    },
    {
     "name": "stdout",
     "output_type": "stream",
     "text": [
      "After transform: torch.Size([32, 293, 59])\n",
      "Before transform: torch.Size([1, 32, 585])\n",
      "After transform: torch.Size([32, 293, 59])\n",
      "Before transform: torch.Size([1, 32, 585])\n",
      "After transform: torch.Size([32, 293, 59])\n",
      "Before transform: torch.Size([1, 32, 585])\n",
      "After transform: torch.Size([32, 293, 59])\n",
      "Before transform: torch.Size([1, 32, 585])\n",
      "After transform: torch.Size([32, 293, 59])\n",
      "Before transform: torch.Size([1, 32, 585])\n"
     ]
    },
    {
     "name": "stderr",
     "output_type": "stream",
     "text": [
      " 28%|██▊       | 1648/5976 [00:23<01:37, 44.48it/s]"
     ]
    },
    {
     "name": "stdout",
     "output_type": "stream",
     "text": [
      "After transform: torch.Size([32, 293, 59])\n",
      "Before transform: torch.Size([1, 32, 585])\n",
      "After transform: torch.Size([32, 293, 59])\n",
      "Before transform: torch.Size([1, 32, 585])\n",
      "After transform: torch.Size([32, 293, 59])\n",
      "Before transform: torch.Size([1, 32, 585])\n",
      "After transform: torch.Size([32, 293, 59])\n",
      "Before transform: torch.Size([1, 32, 585])\n",
      "After transform: torch.Size([32, 293, 59])\n",
      "Before transform: torch.Size([1, 32, 585])\n",
      "After transform: torch.Size([32, 293, 59])\n",
      "Before transform: torch.Size([1, 32, 585])\n",
      "After transform: torch.Size([32, 293, 59])\n",
      "Before transform: torch.Size([1, 32, 585])\n",
      "After transform: torch.Size([32, 293, 59])\n",
      "Before transform: torch.Size([1, 32, 585])\n",
      "After transform: torch.Size([32, 293, 59])\n",
      "Before transform: torch.Size([1, 32, 585])\n",
      "After transform: torch.Size([32, 293, 59])\n",
      "Before transform: torch.Size([1, 32, 585])\n"
     ]
    },
    {
     "name": "stderr",
     "output_type": "stream",
     "text": [
      " 28%|██▊       | 1659/5976 [00:23<01:44, 41.44it/s]"
     ]
    },
    {
     "name": "stdout",
     "output_type": "stream",
     "text": [
      "After transform: torch.Size([32, 293, 59])\n",
      "Before transform: torch.Size([1, 32, 585])\n",
      "After transform: torch.Size([32, 293, 59])\n",
      "Before transform: torch.Size([1, 32, 585])\n",
      "After transform: torch.Size([32, 293, 59])\n",
      "Before transform: torch.Size([1, 32, 585])\n",
      "After transform: torch.Size([32, 293, 59])\n",
      "Before transform: torch.Size([1, 32, 585])\n",
      "After transform: torch.Size([32, 293, 59])\n",
      "Before transform: torch.Size([1, 32, 585])\n",
      "After transform: torch.Size([32, 293, 59])\n",
      "Before transform: torch.Size([1, 32, 585])\n",
      "After transform: torch.Size([32, 293, 59])\n",
      "Before transform: torch.Size([1, 32, 585])\n",
      "After transform: torch.Size([32, 293, 59])\n",
      "Before transform: torch.Size([1, 32, 585])\n"
     ]
    },
    {
     "name": "stderr",
     "output_type": "stream",
     "text": [
      " 28%|██▊       | 1664/5976 [00:23<01:45, 41.03it/s]"
     ]
    },
    {
     "name": "stdout",
     "output_type": "stream",
     "text": [
      "After transform: torch.Size([32, 293, 59])\n",
      "Before transform: torch.Size([1, 32, 585])\n",
      "After transform: torch.Size([32, 293, 59])\n",
      "Before transform: torch.Size([1, 32, 585])\n",
      "After transform: torch.Size([32, 293, 59])\n",
      "Before transform: torch.Size([1, 32, 585])\n",
      "After transform: torch.Size([32, 293, 59])\n",
      "Before transform: torch.Size([1, 32, 585])\n"
     ]
    },
    {
     "name": "stderr",
     "output_type": "stream",
     "text": [
      " 28%|██▊       | 1674/5976 [00:23<02:00, 35.61it/s]"
     ]
    },
    {
     "name": "stdout",
     "output_type": "stream",
     "text": [
      "After transform: torch.Size([32, 293, 59])\n",
      "Before transform: torch.Size([1, 32, 585])\n",
      "After transform: torch.Size([32, 293, 59])\n",
      "Before transform: torch.Size([1, 32, 585])\n",
      "After transform: torch.Size([32, 293, 59])\n",
      "Before transform: torch.Size([1, 32, 585])\n",
      "After transform: torch.Size([32, 293, 59])\n",
      "Before transform: torch.Size([1, 32, 585])\n",
      "After transform: torch.Size([32, 293, 59])\n",
      "Before transform: torch.Size([1, 32, 585])\n",
      "After transform: torch.Size([32, 293, 59])\n",
      "Before transform: torch.Size([1, 32, 585])\n",
      "After transform: torch.Size([32, 293, 59])\n",
      "Before transform: torch.Size([1, 32, 585])\n",
      "After transform: torch.Size([32, 293, 59])\n",
      "Before transform: torch.Size([1, 32, 585])\n",
      "After transform: torch.Size([32, 293, 59])\n",
      "Before transform: torch.Size([1, 32, 585])\n",
      "After transform: torch.Size([32, 293, 59])\n",
      "Before transform: torch.Size([1, 32, 585])\n",
      "After transform: torch.Size([32, 293, 59])\n",
      "Before transform: torch.Size([1, 32, 585])\n"
     ]
    },
    {
     "name": "stderr",
     "output_type": "stream",
     "text": [
      " 28%|██▊       | 1688/5976 [00:24<01:26, 49.45it/s]"
     ]
    },
    {
     "name": "stdout",
     "output_type": "stream",
     "text": [
      "After transform: torch.Size([32, 293, 59])\n",
      "Before transform: torch.Size([1, 32, 585])\n",
      "After transform: torch.Size([32, 293, 59])\n",
      "Before transform: torch.Size([1, 32, 585])\n",
      "After transform: torch.Size([32, 293, 59])\n",
      "Before transform: torch.Size([1, 32, 585])\n",
      "After transform: torch.Size([32, 293, 59])\n",
      "Before transform: torch.Size([1, 32, 585])\n",
      "After transform: torch.Size([32, 293, 59])\n",
      "Before transform: torch.Size([1, 32, 585])\n",
      "After transform: torch.Size([32, 293, 59])\n",
      "Before transform: torch.Size([1, 32, 585])\n",
      "After transform: torch.Size([32, 293, 59])\n",
      "Before transform: torch.Size([1, 32, 585])\n",
      "After transform: torch.Size([32, 293, 59])\n",
      "Before transform: torch.Size([1, 32, 585])\n",
      "After transform: torch.Size([32, 293, 59])\n",
      "Before transform: torch.Size([1, 32, 585])\n",
      "After transform: torch.Size([32, 293, 59])\n",
      "Before transform: torch.Size([1, 32, 585])\n",
      "After transform: torch.Size([32, 293, 59])\n",
      "Before transform: torch.Size([1, 32, 585])\n",
      "After transform: torch.Size([32, 293, 59])\n",
      "Before transform: torch.Size([1, 32, 585])\n",
      "After transform: torch.Size([32, 293, 59])\n",
      "Before transform: torch.Size([1, 32, 585])\n"
     ]
    },
    {
     "name": "stderr",
     "output_type": "stream",
     "text": [
      " 28%|██▊       | 1694/5976 [00:24<01:30, 47.12it/s]"
     ]
    },
    {
     "name": "stdout",
     "output_type": "stream",
     "text": [
      "After transform: torch.Size([32, 293, 59])\n",
      "Before transform: torch.Size([1, 32, 585])\n",
      "After transform: torch.Size([32, 293, 59])\n",
      "Before transform: torch.Size([1, 32, 585])\n",
      "After transform: torch.Size([32, 293, 59])\n",
      "Before transform: torch.Size([1, 32, 585])\n",
      "After transform: torch.Size([32, 293, 59])\n",
      "Before transform: torch.Size([1, 32, 585])\n",
      "After transform: torch.Size([32, 293, 59])\n",
      "Before transform: torch.Size([1, 32, 585])\n",
      "After transform: torch.Size([32, 293, 59])\n",
      "Before transform: torch.Size([1, 32, 585])\n",
      "After transform: torch.Size([32, 293, 59])\n",
      "Before transform: torch.Size([1, 32, 585])\n",
      "After transform: torch.Size([32, 293, 59])\n",
      "Before transform: torch.Size([1, 32, 585])\n",
      "After transform: torch.Size([32, 293, 59])\n",
      "Before transform: torch.Size([1, 32, 585])\n"
     ]
    },
    {
     "name": "stderr",
     "output_type": "stream",
     "text": [
      " 29%|██▊       | 1705/5976 [00:24<01:35, 44.91it/s]"
     ]
    },
    {
     "name": "stdout",
     "output_type": "stream",
     "text": [
      "After transform: torch.Size([32, 293, 59])\n",
      "Before transform: torch.Size([1, 32, 585])\n",
      "After transform: torch.Size([32, 293, 59])\n",
      "Before transform: torch.Size([1, 32, 585])\n",
      "After transform: torch.Size([32, 293, 59])\n",
      "Before transform: torch.Size([1, 32, 585])\n",
      "After transform: torch.Size([32, 293, 59])\n",
      "Before transform: torch.Size([1, 32, 585])\n",
      "After transform: torch.Size([32, 293, 59])\n",
      "Before transform: torch.Size([1, 32, 585])\n",
      "After transform: torch.Size([32, 293, 59])\n",
      "Before transform: torch.Size([1, 32, 585])\n",
      "After transform: torch.Size([32, 293, 59])\n",
      "Before transform: torch.Size([1, 32, 585])\n",
      "After transform: torch.Size([32, 293, 59])\n",
      "Before transform: torch.Size([1, 32, 585])\n",
      "After transform: torch.Size([32, 293, 59])\n",
      "Before transform: torch.Size([1, 32, 585])\n",
      "After transform: torch.Size([32, 293, 59])\n",
      "Before transform: torch.Size([1, 32, 585])\n",
      "After transform: torch.Size([32, 293, 59])\n",
      "Before transform: torch.Size([1, 32, 585])\n"
     ]
    },
    {
     "name": "stderr",
     "output_type": "stream",
     "text": [
      " 29%|██▉       | 1720/5976 [00:24<01:13, 57.76it/s]"
     ]
    },
    {
     "name": "stdout",
     "output_type": "stream",
     "text": [
      "After transform: torch.Size([32, 293, 59])\n",
      "Before transform: torch.Size([1, 32, 585])\n",
      "After transform: torch.Size([32, 293, 59])\n",
      "Before transform: torch.Size([1, 32, 585])\n",
      "After transform: torch.Size([32, 293, 59])\n",
      "Before transform: torch.Size([1, 32, 585])\n",
      "After transform: torch.Size([32, 293, 59])\n",
      "Before transform: torch.Size([1, 32, 585])\n",
      "After transform: torch.Size([32, 293, 59])\n",
      "Before transform: torch.Size([1, 32, 585])\n",
      "After transform: torch.Size([32, 293, 59])\n",
      "Before transform: torch.Size([1, 32, 585])\n",
      "After transform: torch.Size([32, 293, 59])\n",
      "Before transform: torch.Size([1, 32, 585])\n",
      "After transform: torch.Size([32, 293, 59])\n",
      "Before transform: torch.Size([1, 32, 585])\n",
      "After transform: torch.Size([32, 293, 59])\n",
      "Before transform: torch.Size([1, 32, 585])\n",
      "After transform: torch.Size([32, 293, 59])\n",
      "Before transform: torch.Size([1, 32, 585])\n",
      "After transform: torch.Size([32, 293, 59])\n",
      "Before transform: torch.Size([1, 32, 585])\n",
      "After transform: torch.Size([32, 293, 59])\n",
      "Before transform: torch.Size([1, 32, 585])\n",
      "After transform: torch.Size([32, 293, 59])\n",
      "Before transform: torch.Size([1, 32, 585])\n",
      "After transform: torch.Size([32, 293, 59])\n",
      "Before transform: torch.Size([1, 32, 585])\n"
     ]
    },
    {
     "name": "stderr",
     "output_type": "stream",
     "text": [
      " 29%|██▉       | 1733/5976 [00:24<01:16, 55.14it/s]"
     ]
    },
    {
     "name": "stdout",
     "output_type": "stream",
     "text": [
      "After transform: torch.Size([32, 293, 59])\n",
      "Before transform: torch.Size([1, 32, 585])\n",
      "After transform: torch.Size([32, 293, 59])\n",
      "Before transform: torch.Size([1, 32, 585])\n",
      "After transform: torch.Size([32, 293, 59])\n",
      "Before transform: torch.Size([1, 32, 585])\n",
      "After transform: torch.Size([32, 293, 59])\n",
      "Before transform: torch.Size([1, 32, 585])\n",
      "After transform: torch.Size([32, 293, 59])\n",
      "Before transform: torch.Size([1, 32, 585])\n",
      "After transform: torch.Size([32, 293, 59])\n",
      "Before transform: torch.Size([1, 32, 585])\n",
      "After transform: torch.Size([32, 293, 59])\n",
      "Before transform: torch.Size([1, 32, 585])\n",
      "After transform: torch.Size([32, 293, 59])\n",
      "Before transform: torch.Size([1, 32, 585])\n",
      "After transform: torch.Size([32, 293, 59])\n",
      "Before transform: torch.Size([1, 32, 585])\n",
      "After transform: torch.Size([32, 293, 59])\n",
      "Before transform: torch.Size([1, 32, 585])\n",
      "After transform: torch.Size([32, 293, 59])\n",
      "Before transform: torch.Size([1, 32, 585])\n"
     ]
    },
    {
     "name": "stderr",
     "output_type": "stream",
     "text": [
      " 29%|██▉       | 1739/5976 [00:25<01:22, 51.14it/s]"
     ]
    },
    {
     "name": "stdout",
     "output_type": "stream",
     "text": [
      "After transform: torch.Size([32, 293, 59])\n",
      "Before transform: torch.Size([1, 32, 585])\n",
      "After transform: torch.Size([32, 293, 59])\n",
      "Before transform: torch.Size([1, 32, 585])\n",
      "After transform: torch.Size([32, 293, 59])\n",
      "Before transform: torch.Size([1, 32, 585])\n",
      "After transform: torch.Size([32, 293, 59])\n",
      "Before transform: torch.Size([1, 32, 585])\n",
      "After transform: torch.Size([32, 293, 59])\n",
      "Before transform: torch.Size([1, 32, 585])\n",
      "After transform: torch.Size([32, 293, 59])\n",
      "Before transform: torch.Size([1, 32, 585])\n",
      "After transform: torch.Size([32, 293, 59])\n",
      "Before transform: torch.Size([1, 32, 585])\n",
      "After transform: torch.Size([32, 293, 59])\n",
      "Before transform: torch.Size([1, 32, 585])\n",
      "After transform: torch.Size([32, 293, 59])\n",
      "Before transform: torch.Size([1, 32, 585])\n",
      "After transform: torch.Size([32, 293, 59])\n",
      "Before transform: torch.Size([1, 32, 585])\n",
      "After transform: torch.Size([32, 293, 59])\n",
      "Before transform: torch.Size([1, 32, 585])\n"
     ]
    },
    {
     "name": "stderr",
     "output_type": "stream",
     "text": [
      " 29%|██▉       | 1745/5976 [00:25<01:19, 53.19it/s]"
     ]
    },
    {
     "name": "stdout",
     "output_type": "stream",
     "text": [
      "After transform: torch.Size([32, 293, 59])\n",
      "Before transform: torch.Size([1, 32, 585])\n",
      "After transform: torch.Size([32, 293, 59])\n",
      "Before transform: torch.Size([1, 32, 585])\n",
      "After transform: torch.Size([32, 293, 59])\n",
      "Before transform: torch.Size([1, 32, 585])\n",
      "After transform: torch.Size([32, 293, 59])\n",
      "Before transform: torch.Size([1, 32, 585])\n",
      "After transform: torch.Size([32, 293, 59])\n",
      "Before transform: torch.Size([1, 32, 585])\n"
     ]
    },
    {
     "name": "stderr",
     "output_type": "stream",
     "text": [
      " 29%|██▉       | 1760/5976 [00:25<01:23, 50.19it/s]"
     ]
    },
    {
     "name": "stdout",
     "output_type": "stream",
     "text": [
      "After transform: torch.Size([32, 293, 59])\n",
      "Before transform: torch.Size([1, 32, 585])\n",
      "After transform: torch.Size([32, 293, 59])\n",
      "Before transform: torch.Size([1, 32, 585])\n",
      "After transform: torch.Size([32, 293, 59])\n",
      "Before transform: torch.Size([1, 32, 585])\n",
      "After transform: torch.Size([32, 293, 59])\n",
      "Before transform: torch.Size([1, 32, 585])\n",
      "After transform: torch.Size([32, 293, 59])\n",
      "Before transform: torch.Size([1, 32, 585])\n",
      "After transform: torch.Size([32, 293, 59])\n",
      "Before transform: torch.Size([1, 32, 585])\n",
      "After transform: torch.Size([32, 293, 59])\n",
      "Before transform: torch.Size([1, 32, 585])\n",
      "After transform: torch.Size([32, 293, 59])\n",
      "Before transform: torch.Size([1, 32, 585])\n",
      "After transform: torch.Size([32, 293, 59])\n",
      "Before transform: torch.Size([1, 32, 585])\n",
      "After transform: torch.Size([32, 293, 59])\n",
      "Before transform: torch.Size([1, 32, 585])\n",
      "After transform: torch.Size([32, 293, 59])\n",
      "Before transform: torch.Size([1, 32, 585])\n",
      "After transform: torch.Size([32, 293, 59])\n",
      "Before transform: torch.Size([1, 32, 585])\n",
      "After transform: torch.Size([32, 293, 59])\n",
      "Before transform: torch.Size([1, 32, 585])\n",
      "After transform: torch.Size([32, 293, 59])\n",
      "Before transform: torch.Size([1, 32, 585])\n",
      "After transform: torch.Size([32, 293, 59])\n",
      "Before transform: torch.Size([1, 32, 585])\n",
      "After transform: torch.Size([32, 293, 59])\n",
      "Before transform: torch.Size([1, 32, 585])\n",
      "After transform: torch.Size([32, 293, 59])\n",
      "Before transform: torch.Size([1, 32, 585])\n",
      "After transform: torch.Size([32, 293, 59])\n",
      "Before transform: torch.Size([1, 32, 585])\n"
     ]
    },
    {
     "name": "stderr",
     "output_type": "stream",
     "text": [
      " 30%|██▉       | 1779/5976 [00:25<01:01, 68.04it/s]"
     ]
    },
    {
     "name": "stdout",
     "output_type": "stream",
     "text": [
      "After transform: torch.Size([32, 293, 59])\n",
      "Before transform: torch.Size([1, 32, 585])\n",
      "After transform: torch.Size([32, 293, 59])\n",
      "Before transform: torch.Size([1, 32, 585])\n",
      "After transform: torch.Size([32, 293, 59])\n",
      "Before transform: torch.Size([1, 32, 585])\n",
      "After transform: torch.Size([32, 293, 59])\n",
      "Before transform: torch.Size([1, 32, 585])\n",
      "After transform: torch.Size([32, 293, 59])\n",
      "Before transform: torch.Size([1, 32, 585])\n",
      "After transform: torch.Size([32, 293, 59])\n",
      "Before transform: torch.Size([1, 32, 585])\n",
      "After transform: torch.Size([32, 293, 59])\n",
      "Before transform: torch.Size([1, 32, 585])\n",
      "After transform: torch.Size([32, 293, 59])\n",
      "Before transform: torch.Size([1, 32, 585])\n",
      "After transform: torch.Size([32, 293, 59])\n",
      "Before transform: torch.Size([1, 32, 585])\n",
      "After transform: torch.Size([32, 293, 59])\n",
      "Before transform: torch.Size([1, 32, 585])\n",
      "After transform: torch.Size([32, 293, 59])\n",
      "Before transform: torch.Size([1, 32, 585])\n",
      "After transform: torch.Size([32, 293, 59])\n",
      "Before transform: torch.Size([1, 32, 585])\n",
      "After transform: torch.Size([32, 293, 59])\n",
      "Before transform: torch.Size([1, 32, 585])\n",
      "After transform: torch.Size([32, 293, 59])\n",
      "Before transform: torch.Size([1, 32, 585])\n",
      "After transform: torch.Size([32, 293, 59])\n",
      "Before transform: torch.Size([1, 32, 585])\n",
      "After transform: torch.Size([32, 293, 59])\n",
      "Before transform: torch.Size([1, 32, 585])\n",
      "After transform: torch.Size([32, 293, 59])\n",
      "Before transform: torch.Size([1, 32, 585])\n",
      "After transform: torch.Size([32, 293, 59])\n",
      "Before transform: torch.Size([1, 32, 585])\n",
      "After transform: torch.Size([32, 293, 59])\n",
      "Before transform: torch.Size([1, 32, 585])\n"
     ]
    },
    {
     "name": "stderr",
     "output_type": "stream",
     "text": [
      " 30%|███       | 1798/5976 [00:25<00:53, 78.60it/s]"
     ]
    },
    {
     "name": "stdout",
     "output_type": "stream",
     "text": [
      "After transform: torch.Size([32, 293, 59])\n",
      "Before transform: torch.Size([1, 32, 585])\n",
      "After transform: torch.Size([32, 293, 59])\n",
      "Before transform: torch.Size([1, 32, 585])\n",
      "After transform: torch.Size([32, 293, 59])\n",
      "Before transform: torch.Size([1, 32, 585])\n",
      "After transform: torch.Size([32, 293, 59])\n",
      "Before transform: torch.Size([1, 32, 585])\n",
      "After transform: torch.Size([32, 293, 59])\n",
      "Before transform: torch.Size([1, 32, 585])\n",
      "After transform: torch.Size([32, 293, 59])\n",
      "Before transform: torch.Size([1, 32, 585])\n",
      "After transform: torch.Size([32, 293, 59])\n",
      "Before transform: torch.Size([1, 32, 585])\n",
      "After transform: torch.Size([32, 293, 59])\n",
      "Before transform: torch.Size([1, 32, 585])\n",
      "After transform: torch.Size([32, 293, 59])\n",
      "Before transform: torch.Size([1, 32, 585])\n",
      "After transform: torch.Size([32, 293, 59])\n",
      "Before transform: torch.Size([1, 32, 585])\n",
      "After transform: torch.Size([32, 293, 59])\n",
      "Before transform: torch.Size([1, 32, 585])\n",
      "After transform: torch.Size([32, 293, 59])\n",
      "Before transform: torch.Size([1, 32, 585])\n",
      "After transform: torch.Size([32, 293, 59])\n",
      "Before transform: torch.Size([1, 32, 585])\n",
      "After transform: torch.Size([32, 293, 59])\n",
      "Before transform: torch.Size([1, 32, 585])\n",
      "After transform: torch.Size([32, 293, 59])\n",
      "Before transform: torch.Size([1, 32, 585])\n",
      "After transform: torch.Size([32, 293, 59])\n",
      "Before transform: torch.Size([1, 32, 585])\n",
      "After transform: torch.Size([32, 293, 59])\n",
      "Before transform: torch.Size([1, 32, 585])\n",
      "After transform: torch.Size([32, 293, 59])\n",
      "Before transform: torch.Size([1, 32, 585])\n",
      "After transform: torch.Size([32, 293, 59])\n",
      "Before transform: torch.Size([1, 32, 585])\n"
     ]
    },
    {
     "name": "stderr",
     "output_type": "stream",
     "text": [
      " 30%|███       | 1818/5976 [00:26<00:48, 85.65it/s]"
     ]
    },
    {
     "name": "stdout",
     "output_type": "stream",
     "text": [
      "After transform: torch.Size([32, 293, 59])\n",
      "Before transform: torch.Size([1, 32, 585])\n",
      "After transform: torch.Size([32, 293, 59])\n",
      "Before transform: torch.Size([1, 32, 585])\n",
      "After transform: torch.Size([32, 293, 59])\n",
      "Before transform: torch.Size([1, 32, 585])\n",
      "After transform: torch.Size([32, 293, 59])\n",
      "Before transform: torch.Size([1, 32, 585])\n",
      "After transform: torch.Size([32, 293, 59])\n",
      "Before transform: torch.Size([1, 32, 585])\n",
      "After transform: torch.Size([32, 293, 59])\n",
      "Before transform: torch.Size([1, 32, 585])\n",
      "After transform: torch.Size([32, 293, 59])\n",
      "Before transform: torch.Size([1, 32, 585])\n",
      "After transform: torch.Size([32, 293, 59])\n",
      "Before transform: torch.Size([1, 32, 585])\n",
      "After transform: torch.Size([32, 293, 59])\n",
      "Before transform: torch.Size([1, 32, 585])\n",
      "After transform: torch.Size([32, 293, 59])\n",
      "Before transform: torch.Size([1, 32, 585])\n",
      "After transform: torch.Size([32, 293, 59])\n",
      "Before transform: torch.Size([1, 32, 585])\n",
      "After transform: torch.Size([32, 293, 59])\n",
      "Before transform: torch.Size([1, 32, 585])\n",
      "After transform: torch.Size([32, 293, 59])\n",
      "Before transform: torch.Size([1, 32, 585])\n",
      "After transform: torch.Size([32, 293, 59])\n",
      "Before transform: torch.Size([1, 32, 585])\n",
      "After transform: torch.Size([32, 293, 59])\n",
      "Before transform: torch.Size([1, 32, 585])\n",
      "After transform: torch.Size([32, 293, 59])\n",
      "Before transform: torch.Size([1, 32, 585])\n",
      "After transform: torch.Size([32, 293, 59])\n",
      "Before transform: torch.Size([1, 32, 585])\n",
      "After transform: torch.Size([32, 293, 59])\n",
      "Before transform: torch.Size([1, 32, 585])\n",
      "After transform: torch.Size([32, 293, 59])\n",
      "Before transform: torch.Size([1, 32, 585])\n"
     ]
    },
    {
     "name": "stderr",
     "output_type": "stream",
     "text": [
      " 31%|███       | 1837/5976 [00:26<00:47, 86.79it/s]"
     ]
    },
    {
     "name": "stdout",
     "output_type": "stream",
     "text": [
      "After transform: torch.Size([32, 293, 59])\n",
      "Before transform: torch.Size([1, 32, 585])\n",
      "After transform: torch.Size([32, 293, 59])\n",
      "Before transform: torch.Size([1, 32, 585])\n",
      "After transform: torch.Size([32, 293, 59])\n",
      "Before transform: torch.Size([1, 32, 585])\n",
      "After transform: torch.Size([32, 293, 59])\n",
      "Before transform: torch.Size([1, 32, 585])\n",
      "After transform: torch.Size([32, 293, 59])\n",
      "Before transform: torch.Size([1, 32, 585])\n",
      "After transform: torch.Size([32, 293, 59])\n",
      "Before transform: torch.Size([1, 32, 585])\n",
      "After transform: torch.Size([32, 293, 59])\n",
      "Before transform: torch.Size([1, 32, 585])\n",
      "After transform: torch.Size([32, 293, 59])\n",
      "Before transform: torch.Size([1, 32, 585])\n",
      "After transform: torch.Size([32, 293, 59])\n",
      "Before transform: torch.Size([1, 32, 585])\n",
      "After transform: torch.Size([32, 293, 59])\n",
      "Before transform: torch.Size([1, 32, 585])\n",
      "After transform: torch.Size([32, 293, 59])\n",
      "Before transform: torch.Size([1, 32, 585])\n",
      "After transform: torch.Size([32, 293, 59])\n",
      "Before transform: torch.Size([1, 32, 585])\n",
      "After transform: torch.Size([32, 293, 59])\n",
      "Before transform: torch.Size([1, 32, 585])\n",
      "After transform: torch.Size([32, 293, 59])\n",
      "Before transform: torch.Size([1, 32, 585])\n",
      "After transform: torch.Size([32, 293, 59])\n",
      "Before transform: torch.Size([1, 32, 585])\n",
      "After transform: torch.Size([32, 293, 59])\n",
      "Before transform: torch.Size([1, 32, 585])\n",
      "After transform: torch.Size([32, 293, 59])\n",
      "Before transform: torch.Size([1, 32, 585])\n",
      "After transform: torch.Size([32, 293, 59])\n",
      "Before transform: torch.Size([1, 32, 585])\n"
     ]
    },
    {
     "name": "stderr",
     "output_type": "stream",
     "text": [
      " 31%|███       | 1847/5976 [00:26<00:51, 80.70it/s]"
     ]
    },
    {
     "name": "stdout",
     "output_type": "stream",
     "text": [
      "After transform: torch.Size([32, 293, 59])\n",
      "Before transform: torch.Size([1, 32, 585])\n",
      "After transform: torch.Size([32, 293, 59])\n",
      "Before transform: torch.Size([1, 32, 585])\n",
      "After transform: torch.Size([32, 293, 59])\n",
      "Before transform: torch.Size([1, 32, 585])\n",
      "After transform: torch.Size([32, 293, 59])\n",
      "Before transform: torch.Size([1, 32, 585])\n",
      "After transform: torch.Size([32, 293, 59])\n",
      "Before transform: torch.Size([1, 32, 585])\n",
      "After transform: torch.Size([32, 293, 59])\n",
      "Before transform: torch.Size([1, 32, 585])\n",
      "After transform: torch.Size([32, 293, 59])\n",
      "Before transform: torch.Size([1, 32, 585])\n"
     ]
    },
    {
     "name": "stderr",
     "output_type": "stream",
     "text": [
      " 31%|███       | 1856/5976 [00:26<01:26, 47.61it/s]"
     ]
    },
    {
     "name": "stdout",
     "output_type": "stream",
     "text": [
      "After transform: torch.Size([32, 293, 59])\n",
      "Before transform: torch.Size([1, 32, 585])\n",
      "After transform: torch.Size([32, 293, 59])\n",
      "Before transform: torch.Size([1, 32, 585])\n",
      "After transform: torch.Size([32, 293, 59])\n",
      "Before transform: torch.Size([1, 32, 585])\n",
      "After transform: torch.Size([32, 293, 59])\n",
      "Before transform: torch.Size([1, 32, 585])\n",
      "After transform: torch.Size([32, 293, 59])\n",
      "Before transform: torch.Size([1, 32, 585])\n",
      "After transform: torch.Size([32, 293, 59])\n",
      "Before transform: torch.Size([1, 32, 585])\n",
      "After transform: torch.Size([32, 293, 59])\n",
      "Before transform: torch.Size([1, 32, 585])\n",
      "After transform: torch.Size([32, 293, 59])\n",
      "Before transform: torch.Size([1, 32, 585])\n"
     ]
    },
    {
     "name": "stderr",
     "output_type": "stream",
     "text": [
      " 31%|███▏      | 1872/5976 [00:27<01:10, 57.97it/s]"
     ]
    },
    {
     "name": "stdout",
     "output_type": "stream",
     "text": [
      "After transform: torch.Size([32, 293, 59])\n",
      "Before transform: torch.Size([1, 32, 585])\n",
      "After transform: torch.Size([32, 293, 59])\n",
      "Before transform: torch.Size([1, 32, 585])\n",
      "After transform: torch.Size([32, 293, 59])\n",
      "Before transform: torch.Size([1, 32, 585])\n",
      "After transform: torch.Size([32, 293, 59])\n",
      "Before transform: torch.Size([1, 32, 585])\n",
      "After transform: torch.Size([32, 293, 59])\n",
      "Before transform: torch.Size([1, 32, 585])\n",
      "After transform: torch.Size([32, 293, 59])\n",
      "Before transform: torch.Size([1, 32, 585])\n",
      "After transform: torch.Size([32, 293, 59])\n",
      "Before transform: torch.Size([1, 32, 585])\n",
      "After transform: torch.Size([32, 293, 59])\n",
      "Before transform: torch.Size([1, 32, 585])\n",
      "After transform: torch.Size([32, 293, 59])\n",
      "Before transform: torch.Size([1, 32, 585])\n",
      "After transform: torch.Size([32, 293, 59])\n",
      "Before transform: torch.Size([1, 32, 585])\n",
      "After transform: torch.Size([32, 293, 59])\n",
      "Before transform: torch.Size([1, 32, 585])\n",
      "After transform: torch.Size([32, 293, 59])\n",
      "Before transform: torch.Size([1, 32, 585])\n",
      "After transform: torch.Size([32, 293, 59])\n",
      "Before transform: torch.Size([1, 32, 585])\n",
      "After transform: torch.Size([32, 293, 59])\n",
      "Before transform: torch.Size([1, 32, 585])\n",
      "After transform: torch.Size([32, 293, 59])\n",
      "Before transform: torch.Size([1, 32, 585])\n",
      "After transform: torch.Size([32, 293, 59])\n",
      "Before transform: torch.Size([1, 32, 585])\n"
     ]
    },
    {
     "name": "stderr",
     "output_type": "stream",
     "text": [
      " 32%|███▏      | 1888/5976 [00:27<01:05, 62.77it/s]"
     ]
    },
    {
     "name": "stdout",
     "output_type": "stream",
     "text": [
      "After transform: torch.Size([32, 293, 59])\n",
      "Before transform: torch.Size([1, 32, 585])\n",
      "After transform: torch.Size([32, 293, 59])\n",
      "Before transform: torch.Size([1, 32, 585])\n",
      "After transform: torch.Size([32, 293, 59])\n",
      "Before transform: torch.Size([1, 32, 585])\n",
      "After transform: torch.Size([32, 293, 59])\n",
      "Before transform: torch.Size([1, 32, 585])\n",
      "After transform: torch.Size([32, 293, 59])\n",
      "Before transform: torch.Size([1, 32, 585])\n",
      "After transform: torch.Size([32, 293, 59])\n",
      "Before transform: torch.Size([1, 32, 585])\n",
      "After transform: torch.Size([32, 293, 59])\n",
      "Before transform: torch.Size([1, 32, 585])\n",
      "After transform: torch.Size([32, 293, 59])\n",
      "Before transform: torch.Size([1, 32, 585])\n",
      "After transform: torch.Size([32, 293, 59])\n",
      "Before transform: torch.Size([1, 32, 585])\n",
      "After transform: torch.Size([32, 293, 59])\n",
      "Before transform: torch.Size([1, 32, 585])\n",
      "After transform: torch.Size([32, 293, 59])\n",
      "Before transform: torch.Size([1, 32, 585])\n",
      "After transform: torch.Size([32, 293, 59])\n",
      "Before transform: torch.Size([1, 32, 585])\n",
      "After transform: torch.Size([32, 293, 59])\n",
      "Before transform: torch.Size([1, 32, 585])\n",
      "After transform: torch.Size([32, 293, 59])\n",
      "Before transform: torch.Size([1, 32, 585])\n",
      "After transform: torch.Size([32, 293, 59])\n",
      "Before transform: torch.Size([1, 32, 585])\n"
     ]
    },
    {
     "name": "stderr",
     "output_type": "stream",
     "text": [
      " 32%|███▏      | 1905/5976 [00:27<00:56, 71.67it/s]"
     ]
    },
    {
     "name": "stdout",
     "output_type": "stream",
     "text": [
      "After transform: torch.Size([32, 293, 59])\n",
      "Before transform: torch.Size([1, 32, 585])\n",
      "After transform: torch.Size([32, 293, 59])\n",
      "Before transform: torch.Size([1, 32, 585])\n",
      "After transform: torch.Size([32, 293, 59])\n",
      "Before transform: torch.Size([1, 32, 585])\n",
      "After transform: torch.Size([32, 293, 59])\n",
      "Before transform: torch.Size([1, 32, 585])\n",
      "After transform: torch.Size([32, 293, 59])\n",
      "Before transform: torch.Size([1, 32, 585])\n",
      "After transform: torch.Size([32, 293, 59])\n",
      "Before transform: torch.Size([1, 32, 585])\n",
      "After transform: torch.Size([32, 293, 59])\n",
      "Before transform: torch.Size([1, 32, 585])\n",
      "After transform: torch.Size([32, 293, 59])\n",
      "Before transform: torch.Size([1, 32, 585])\n",
      "After transform: torch.Size([32, 293, 59])\n",
      "Before transform: torch.Size([1, 32, 585])\n",
      "After transform: torch.Size([32, 293, 59])\n",
      "Before transform: torch.Size([1, 32, 585])\n",
      "After transform: torch.Size([32, 293, 59])\n",
      "Before transform: torch.Size([1, 32, 585])\n",
      "After transform: torch.Size([32, 293, 59])\n",
      "Before transform: torch.Size([1, 32, 585])\n",
      "After transform: torch.Size([32, 293, 59])\n",
      "Before transform: torch.Size([1, 32, 585])\n",
      "After transform: torch.Size([32, 293, 59])\n",
      "Before transform: torch.Size([1, 32, 585])\n",
      "After transform: torch.Size([32, 293, 59])\n",
      "Before transform: torch.Size([1, 32, 585])\n",
      "After transform: torch.Size([32, 293, 59])\n",
      "Before transform: torch.Size([1, 32, 585])\n",
      "After transform: torch.Size([32, 293, 59])\n",
      "Before transform: torch.Size([1, 32, 585])\n"
     ]
    },
    {
     "name": "stderr",
     "output_type": "stream",
     "text": [
      " 32%|███▏      | 1923/5976 [00:27<00:51, 78.54it/s]"
     ]
    },
    {
     "name": "stdout",
     "output_type": "stream",
     "text": [
      "After transform: torch.Size([32, 293, 59])\n",
      "Before transform: torch.Size([1, 32, 585])\n",
      "After transform: torch.Size([32, 293, 59])\n",
      "Before transform: torch.Size([1, 32, 585])\n",
      "After transform: torch.Size([32, 293, 59])\n",
      "Before transform: torch.Size([1, 32, 585])\n",
      "After transform: torch.Size([32, 293, 59])\n",
      "Before transform: torch.Size([1, 32, 585])\n",
      "After transform: torch.Size([32, 293, 59])\n",
      "Before transform: torch.Size([1, 32, 585])\n",
      "After transform: torch.Size([32, 293, 59])\n",
      "Before transform: torch.Size([1, 32, 585])\n",
      "After transform: torch.Size([32, 293, 59])\n",
      "Before transform: torch.Size([1, 32, 585])\n",
      "After transform: torch.Size([32, 293, 59])\n",
      "Before transform: torch.Size([1, 32, 585])\n",
      "After transform: torch.Size([32, 293, 59])\n",
      "Before transform: torch.Size([1, 32, 585])\n",
      "After transform: torch.Size([32, 293, 59])\n",
      "Before transform: torch.Size([1, 32, 585])\n",
      "After transform: torch.Size([32, 293, 59])\n",
      "Before transform: torch.Size([1, 32, 585])\n",
      "After transform: torch.Size([32, 293, 59])\n",
      "Before transform: torch.Size([1, 32, 585])\n",
      "After transform: torch.Size([32, 293, 59])\n",
      "Before transform: torch.Size([1, 32, 585])\n",
      "After transform: torch.Size([32, 293, 59])\n",
      "Before transform: torch.Size([1, 32, 585])\n",
      "After transform: torch.Size([32, 293, 59])\n",
      "Before transform: torch.Size([1, 32, 585])\n",
      "After transform: torch.Size([32, 293, 59])\n",
      "Before transform: torch.Size([1, 32, 585])\n",
      "After transform: torch.Size([32, 293, 59])\n",
      "Before transform: torch.Size([1, 32, 585])\n",
      "After transform: torch.Size([32, 293, 59])\n",
      "Before transform: torch.Size([1, 32, 585])\n"
     ]
    },
    {
     "name": "stderr",
     "output_type": "stream",
     "text": [
      " 32%|███▏      | 1932/5976 [00:27<00:50, 79.42it/s]"
     ]
    },
    {
     "name": "stdout",
     "output_type": "stream",
     "text": [
      "After transform: torch.Size([32, 293, 59])\n",
      "Before transform: torch.Size([1, 32, 585])\n",
      "After transform: torch.Size([32, 293, 59])\n",
      "Before transform: torch.Size([1, 32, 585])\n",
      "After transform: torch.Size([32, 293, 59])\n",
      "Before transform: torch.Size([1, 32, 585])\n",
      "After transform: torch.Size([32, 293, 59])\n",
      "Before transform: torch.Size([1, 32, 585])\n",
      "After transform: torch.Size([32, 293, 59])\n",
      "Before transform: torch.Size([1, 32, 585])\n",
      "After transform: torch.Size([32, 293, 59])\n",
      "Before transform: torch.Size([1, 32, 585])\n",
      "After transform: torch.Size([32, 293, 59])\n",
      "Before transform: torch.Size([1, 32, 585])\n",
      "After transform: torch.Size([32, 293, 59])\n",
      "Before transform: torch.Size([1, 32, 585])\n",
      "After transform: torch.Size([32, 293, 59])\n",
      "Before transform: torch.Size([1, 32, 585])\n",
      "After transform: torch.Size([32, 293, 59])\n",
      "Before transform: torch.Size([1, 32, 585])\n",
      "After transform: torch.Size([32, 293, 59])\n",
      "Before transform: torch.Size([1, 32, 585])\n",
      "After transform: torch.Size([32, 293, 59])\n",
      "Before transform: torch.Size([1, 32, 585])\n",
      "After transform: torch.Size([32, 293, 59])\n",
      "Before transform: torch.Size([1, 32, 585])\n",
      "After transform: torch.Size([32, 293, 59])\n",
      "Before transform: torch.Size([1, 32, 585])\n",
      "After transform: torch.Size([32, 293, 59])\n",
      "Before transform: torch.Size([1, 32, 585])\n",
      "After transform: torch.Size([32, 293, 59])\n",
      "Before transform: torch.Size([1, 32, 585])\n"
     ]
    },
    {
     "name": "stderr",
     "output_type": "stream",
     "text": [
      " 32%|███▏      | 1941/5976 [00:28<00:51, 78.43it/s]"
     ]
    },
    {
     "name": "stdout",
     "output_type": "stream",
     "text": [
      "After transform: torch.Size([32, 293, 59])\n",
      "Before transform: torch.Size([1, 32, 585])\n",
      "After transform: torch.Size([32, 293, 59])\n",
      "Before transform: torch.Size([1, 32, 585])\n",
      "After transform: torch.Size([32, 293, 59])\n",
      "Before transform: torch.Size([1, 32, 585])\n",
      "After transform: torch.Size([32, 293, 59])\n",
      "Before transform: torch.Size([1, 32, 585])\n",
      "After transform: torch.Size([32, 293, 59])\n",
      "Before transform: torch.Size([1, 32, 585])\n"
     ]
    },
    {
     "name": "stderr",
     "output_type": "stream",
     "text": [
      " 33%|███▎      | 1949/5976 [00:28<01:21, 49.53it/s]"
     ]
    },
    {
     "name": "stdout",
     "output_type": "stream",
     "text": [
      "After transform: torch.Size([32, 293, 59])\n",
      "Before transform: torch.Size([1, 32, 585])\n",
      "After transform: torch.Size([32, 293, 59])\n",
      "Before transform: torch.Size([1, 32, 585])\n",
      "After transform: torch.Size([32, 293, 59])\n",
      "Before transform: torch.Size([1, 32, 585])\n",
      "After transform: torch.Size([32, 293, 59])\n",
      "Before transform: torch.Size([1, 32, 585])\n",
      "After transform: torch.Size([32, 293, 59])\n",
      "Before transform: torch.Size([1, 32, 585])\n",
      "After transform: torch.Size([32, 293, 59])\n",
      "Before transform: torch.Size([1, 32, 585])\n",
      "After transform: torch.Size([32, 293, 59])\n",
      "Before transform: torch.Size([1, 32, 585])\n",
      "After transform: torch.Size([32, 293, 59])\n",
      "Before transform: torch.Size([1, 32, 585])\n",
      "After transform: torch.Size([32, 293, 59])\n",
      "Before transform: torch.Size([1, 32, 585])\n"
     ]
    },
    {
     "name": "stderr",
     "output_type": "stream",
     "text": [
      " 33%|███▎      | 1956/5976 [00:28<01:30, 44.31it/s]"
     ]
    },
    {
     "name": "stdout",
     "output_type": "stream",
     "text": [
      "After transform: torch.Size([32, 293, 59])\n",
      "Before transform: torch.Size([1, 32, 585])\n",
      "After transform: torch.Size([32, 293, 59])\n",
      "Before transform: torch.Size([1, 32, 585])\n",
      "After transform: torch.Size([32, 293, 59])\n",
      "Before transform: torch.Size([1, 32, 585])\n",
      "After transform: torch.Size([32, 293, 59])\n",
      "Before transform: torch.Size([1, 32, 585])\n",
      "After transform: torch.Size([32, 293, 59])\n",
      "Before transform: torch.Size([1, 32, 585])\n",
      "After transform: torch.Size([32, 293, 59])\n",
      "Before transform: torch.Size([1, 32, 585])\n",
      "After transform: torch.Size([32, 293, 59])\n",
      "Before transform: torch.Size([1, 32, 585])\n"
     ]
    },
    {
     "name": "stderr",
     "output_type": "stream",
     "text": [
      " 33%|███▎      | 1968/5976 [00:28<01:23, 48.22it/s]"
     ]
    },
    {
     "name": "stdout",
     "output_type": "stream",
     "text": [
      "After transform: torch.Size([32, 293, 59])\n",
      "Before transform: torch.Size([1, 32, 585])\n",
      "After transform: torch.Size([32, 293, 59])\n",
      "Before transform: torch.Size([1, 32, 585])\n",
      "After transform: torch.Size([32, 293, 59])\n",
      "Before transform: torch.Size([1, 32, 585])\n",
      "After transform: torch.Size([32, 293, 59])\n",
      "Before transform: torch.Size([1, 32, 585])\n",
      "After transform: torch.Size([32, 293, 59])\n",
      "Before transform: torch.Size([1, 32, 585])\n",
      "After transform: torch.Size([32, 293, 59])\n",
      "Before transform: torch.Size([1, 32, 585])\n",
      "After transform: torch.Size([32, 293, 59])\n",
      "Before transform: torch.Size([1, 32, 585])\n",
      "After transform: torch.Size([32, 293, 59])\n",
      "Before transform: torch.Size([1, 32, 585])\n",
      "After transform: torch.Size([32, 293, 59])\n",
      "Before transform: torch.Size([1, 32, 585])\n",
      "After transform: torch.Size([32, 293, 59])\n",
      "Before transform: torch.Size([1, 32, 585])\n",
      "After transform: torch.Size([32, 293, 59])\n",
      "Before transform: torch.Size([1, 32, 585])\n",
      "After transform: torch.Size([32, 293, 59])\n",
      "Before transform: torch.Size([1, 32, 585])\n",
      "After transform: torch.Size([32, 293, 59])\n",
      "Before transform: torch.Size([1, 32, 585])\n"
     ]
    },
    {
     "name": "stderr",
     "output_type": "stream",
     "text": [
      " 33%|███▎      | 1981/5976 [00:29<01:15, 52.90it/s]"
     ]
    },
    {
     "name": "stdout",
     "output_type": "stream",
     "text": [
      "After transform: torch.Size([32, 293, 59])\n",
      "Before transform: torch.Size([1, 32, 585])\n",
      "After transform: torch.Size([32, 293, 59])\n",
      "Before transform: torch.Size([1, 32, 585])\n",
      "After transform: torch.Size([32, 293, 59])\n",
      "Before transform: torch.Size([1, 32, 585])\n",
      "After transform: torch.Size([32, 293, 59])\n",
      "Before transform: torch.Size([1, 32, 585])\n",
      "After transform: torch.Size([32, 293, 59])\n",
      "Before transform: torch.Size([1, 32, 585])\n",
      "After transform: torch.Size([32, 293, 59])\n",
      "Before transform: torch.Size([1, 32, 585])\n",
      "After transform: torch.Size([32, 293, 59])\n",
      "Before transform: torch.Size([1, 32, 585])\n",
      "After transform: torch.Size([32, 293, 59])\n",
      "Before transform: torch.Size([1, 32, 585])\n",
      "After transform: torch.Size([32, 293, 59])\n",
      "Before transform: torch.Size([1, 32, 585])\n",
      "After transform: torch.Size([32, 293, 59])\n",
      "Before transform: torch.Size([1, 32, 585])\n",
      "After transform: torch.Size([32, 293, 59])\n",
      "Before transform: torch.Size([1, 32, 585])\n",
      "After transform: torch.Size([32, 293, 59])\n",
      "Before transform: torch.Size([1, 32, 585])\n",
      "After transform: torch.Size([32, 293, 59])\n",
      "Before transform: torch.Size([1, 32, 585])\n"
     ]
    },
    {
     "name": "stderr",
     "output_type": "stream",
     "text": [
      " 33%|███▎      | 1998/5976 [00:29<01:01, 64.68it/s]"
     ]
    },
    {
     "name": "stdout",
     "output_type": "stream",
     "text": [
      "After transform: torch.Size([32, 293, 59])\n",
      "Before transform: torch.Size([1, 32, 585])\n",
      "After transform: torch.Size([32, 293, 59])\n",
      "Before transform: torch.Size([1, 32, 585])\n",
      "After transform: torch.Size([32, 293, 59])\n",
      "Before transform: torch.Size([1, 32, 585])\n",
      "After transform: torch.Size([32, 293, 59])\n",
      "Before transform: torch.Size([1, 32, 585])\n",
      "After transform: torch.Size([32, 293, 59])\n",
      "Before transform: torch.Size([1, 32, 585])\n",
      "After transform: torch.Size([32, 293, 59])\n",
      "Before transform: torch.Size([1, 32, 585])\n",
      "After transform: torch.Size([32, 293, 59])\n",
      "Before transform: torch.Size([1, 32, 585])\n",
      "After transform: torch.Size([32, 293, 59])\n",
      "Before transform: torch.Size([1, 32, 585])\n",
      "After transform: torch.Size([32, 293, 59])\n",
      "Before transform: torch.Size([1, 32, 585])\n",
      "After transform: torch.Size([32, 293, 59])\n",
      "Before transform: torch.Size([1, 32, 585])\n",
      "After transform: torch.Size([32, 293, 59])\n",
      "Before transform: torch.Size([1, 32, 585])\n",
      "After transform: torch.Size([32, 293, 59])\n",
      "Before transform: torch.Size([1, 32, 585])\n",
      "After transform: torch.Size([32, 293, 59])\n",
      "Before transform: torch.Size([1, 32, 585])\n",
      "After transform: torch.Size([32, 293, 59])\n",
      "Before transform: torch.Size([1, 32, 585])\n",
      "After transform: torch.Size([32, 293, 59])\n",
      "Before transform: torch.Size([1, 32, 585])\n",
      "After transform: torch.Size([32, 293, 59])\n",
      "Before transform: torch.Size([1, 32, 585])\n"
     ]
    },
    {
     "name": "stderr",
     "output_type": "stream",
     "text": [
      " 34%|███▎      | 2006/5976 [00:29<00:57, 68.55it/s]"
     ]
    },
    {
     "name": "stdout",
     "output_type": "stream",
     "text": [
      "After transform: torch.Size([32, 293, 59])\n",
      "Before transform: torch.Size([1, 32, 585])\n",
      "After transform: torch.Size([32, 293, 59])\n",
      "Before transform: torch.Size([1, 32, 585])\n",
      "After transform: torch.Size([32, 293, 59])\n",
      "Before transform: torch.Size([1, 32, 585])\n",
      "After transform: torch.Size([32, 293, 59])\n",
      "Before transform: torch.Size([1, 32, 585])\n",
      "After transform: torch.Size([32, 293, 59])\n",
      "Before transform: torch.Size([1, 32, 585])\n",
      "After transform: torch.Size([32, 293, 59])\n",
      "Before transform: torch.Size([1, 32, 585])\n"
     ]
    },
    {
     "name": "stderr",
     "output_type": "stream",
     "text": [
      " 34%|███▍      | 2022/5976 [00:29<01:08, 58.10it/s]"
     ]
    },
    {
     "name": "stdout",
     "output_type": "stream",
     "text": [
      "After transform: torch.Size([32, 293, 59])\n",
      "Before transform: torch.Size([1, 32, 585])\n",
      "After transform: torch.Size([32, 293, 59])\n",
      "Before transform: torch.Size([1, 32, 585])\n",
      "After transform: torch.Size([32, 293, 59])\n",
      "Before transform: torch.Size([1, 32, 585])\n",
      "After transform: torch.Size([32, 293, 59])\n",
      "Before transform: torch.Size([1, 32, 585])\n",
      "After transform: torch.Size([32, 293, 59])\n",
      "Before transform: torch.Size([1, 32, 585])\n",
      "After transform: torch.Size([32, 293, 59])\n",
      "Before transform: torch.Size([1, 32, 585])\n",
      "After transform: torch.Size([32, 293, 59])\n",
      "Before transform: torch.Size([1, 32, 585])\n",
      "After transform: torch.Size([32, 293, 59])\n",
      "Before transform: torch.Size([1, 32, 585])\n",
      "After transform: torch.Size([32, 293, 59])\n",
      "Before transform: torch.Size([1, 32, 585])\n",
      "After transform: torch.Size([32, 293, 59])\n",
      "Before transform: torch.Size([1, 32, 585])\n",
      "After transform: torch.Size([32, 293, 59])\n",
      "Before transform: torch.Size([1, 32, 585])\n",
      "After transform: torch.Size([32, 293, 59])\n",
      "Before transform: torch.Size([1, 32, 585])\n",
      "After transform: torch.Size([32, 293, 59])\n",
      "Before transform: torch.Size([1, 32, 585])\n",
      "After transform: torch.Size([32, 293, 59])\n",
      "Before transform: torch.Size([1, 32, 585])\n",
      "After transform: torch.Size([32, 293, 59])\n",
      "Before transform: torch.Size([1, 32, 585])\n"
     ]
    },
    {
     "name": "stderr",
     "output_type": "stream",
     "text": [
      " 34%|███▍      | 2029/5976 [00:29<01:14, 53.23it/s]"
     ]
    },
    {
     "name": "stdout",
     "output_type": "stream",
     "text": [
      "After transform: torch.Size([32, 293, 59])\n",
      "Before transform: torch.Size([1, 32, 585])\n",
      "After transform: torch.Size([32, 293, 59])\n",
      "Before transform: torch.Size([1, 32, 585])\n",
      "After transform: torch.Size([32, 293, 59])\n",
      "Before transform: torch.Size([1, 32, 585])\n",
      "After transform: torch.Size([32, 293, 59])\n",
      "Before transform: torch.Size([1, 32, 585])\n",
      "After transform: torch.Size([32, 293, 59])\n",
      "Before transform: torch.Size([1, 32, 585])\n",
      "After transform: torch.Size([32, 293, 59])\n",
      "Before transform: torch.Size([1, 32, 585])\n",
      "After transform: torch.Size([32, 293, 59])\n",
      "Before transform: torch.Size([1, 32, 585])\n",
      "After transform: torch.Size([32, 293, 59])\n",
      "Before transform: torch.Size([1, 32, 585])\n",
      "After transform: torch.Size([32, 293, 59])\n",
      "Before transform: torch.Size([1, 32, 585])\n",
      "After transform: torch.Size([32, 293, 59])\n",
      "Before transform: torch.Size([1, 32, 585])\n"
     ]
    },
    {
     "name": "stderr",
     "output_type": "stream",
     "text": [
      " 34%|███▍      | 2041/5976 [00:30<01:15, 52.01it/s]"
     ]
    },
    {
     "name": "stdout",
     "output_type": "stream",
     "text": [
      "After transform: torch.Size([32, 293, 59])\n",
      "Before transform: torch.Size([1, 32, 585])\n",
      "After transform: torch.Size([32, 293, 59])\n",
      "Before transform: torch.Size([1, 32, 585])\n",
      "After transform: torch.Size([32, 293, 59])\n",
      "Before transform: torch.Size([1, 32, 585])\n",
      "After transform: torch.Size([32, 293, 59])\n",
      "Before transform: torch.Size([1, 32, 585])\n",
      "After transform: torch.Size([32, 293, 59])\n",
      "Before transform: torch.Size([1, 32, 585])\n",
      "After transform: torch.Size([32, 293, 59])\n",
      "Before transform: torch.Size([1, 32, 585])\n",
      "After transform: torch.Size([32, 293, 59])\n",
      "Before transform: torch.Size([1, 32, 585])\n",
      "After transform: torch.Size([32, 293, 59])\n",
      "Before transform: torch.Size([1, 32, 585])\n",
      "After transform: torch.Size([32, 293, 59])\n",
      "Before transform: torch.Size([1, 32, 585])\n",
      "After transform: torch.Size([32, 293, 59])\n",
      "Before transform: torch.Size([1, 32, 585])\n",
      "After transform: torch.Size([32, 293, 59])\n",
      "Before transform: torch.Size([1, 32, 585])\n"
     ]
    },
    {
     "name": "stderr",
     "output_type": "stream",
     "text": [
      " 34%|███▍      | 2054/5976 [00:30<01:11, 55.24it/s]"
     ]
    },
    {
     "name": "stdout",
     "output_type": "stream",
     "text": [
      "After transform: torch.Size([32, 293, 59])\n",
      "Before transform: torch.Size([1, 32, 585])\n",
      "After transform: torch.Size([32, 293, 59])\n",
      "Before transform: torch.Size([1, 32, 585])\n",
      "After transform: torch.Size([32, 293, 59])\n",
      "Before transform: torch.Size([1, 32, 585])\n",
      "After transform: torch.Size([32, 293, 59])\n",
      "Before transform: torch.Size([1, 32, 585])\n",
      "After transform: torch.Size([32, 293, 59])\n",
      "Before transform: torch.Size([1, 32, 585])\n",
      "After transform: torch.Size([32, 293, 59])\n",
      "Before transform: torch.Size([1, 32, 585])\n",
      "After transform: torch.Size([32, 293, 59])\n",
      "Before transform: torch.Size([1, 32, 585])\n",
      "After transform: torch.Size([32, 293, 59])\n",
      "Before transform: torch.Size([1, 32, 585])\n",
      "After transform: torch.Size([32, 293, 59])\n",
      "Before transform: torch.Size([1, 32, 585])\n",
      "After transform: torch.Size([32, 293, 59])\n",
      "Before transform: torch.Size([1, 32, 585])\n",
      "After transform: torch.Size([32, 293, 59])\n",
      "Before transform: torch.Size([1, 32, 585])\n",
      "After transform: torch.Size([32, 293, 59])\n",
      "Before transform: torch.Size([1, 32, 585])\n"
     ]
    },
    {
     "name": "stderr",
     "output_type": "stream",
     "text": [
      " 35%|███▍      | 2066/5976 [00:30<01:09, 56.18it/s]"
     ]
    },
    {
     "name": "stdout",
     "output_type": "stream",
     "text": [
      "After transform: torch.Size([32, 293, 59])\n",
      "Before transform: torch.Size([1, 32, 585])\n",
      "After transform: torch.Size([32, 293, 59])\n",
      "Before transform: torch.Size([1, 32, 585])\n",
      "After transform: torch.Size([32, 293, 59])\n",
      "Before transform: torch.Size([1, 32, 585])\n",
      "After transform: torch.Size([32, 293, 59])\n",
      "Before transform: torch.Size([1, 32, 585])\n",
      "After transform: torch.Size([32, 293, 59])\n",
      "Before transform: torch.Size([1, 32, 585])\n",
      "After transform: torch.Size([32, 293, 59])\n",
      "Before transform: torch.Size([1, 32, 585])\n",
      "After transform: torch.Size([32, 293, 59])\n",
      "Before transform: torch.Size([1, 32, 585])\n",
      "After transform: torch.Size([32, 293, 59])\n",
      "Before transform: torch.Size([1, 32, 585])\n",
      "After transform: torch.Size([32, 293, 59])\n",
      "Before transform: torch.Size([1, 32, 585])\n",
      "After transform: torch.Size([32, 293, 59])\n",
      "Before transform: torch.Size([1, 32, 585])\n",
      "After transform: torch.Size([32, 293, 59])\n",
      "Before transform: torch.Size([1, 32, 585])\n",
      "After transform: torch.Size([32, 293, 59])\n",
      "Before transform: torch.Size([1, 32, 585])\n"
     ]
    },
    {
     "name": "stderr",
     "output_type": "stream",
     "text": [
      " 35%|███▍      | 2074/5976 [00:30<01:04, 60.66it/s]"
     ]
    },
    {
     "name": "stdout",
     "output_type": "stream",
     "text": [
      "After transform: torch.Size([32, 293, 59])\n",
      "Before transform: torch.Size([1, 32, 585])\n",
      "After transform: torch.Size([32, 293, 59])\n",
      "Before transform: torch.Size([1, 32, 585])\n",
      "After transform: torch.Size([32, 293, 59])\n",
      "Before transform: torch.Size([1, 32, 585])\n",
      "After transform: torch.Size([32, 293, 59])\n",
      "Before transform: torch.Size([1, 32, 585])\n",
      "After transform: torch.Size([32, 293, 59])\n",
      "Before transform: torch.Size([1, 32, 585])\n",
      "After transform: torch.Size([32, 293, 59])\n",
      "Before transform: torch.Size([1, 32, 585])\n",
      "After transform: torch.Size([32, 293, 59])\n",
      "Before transform: torch.Size([1, 32, 585])\n",
      "After transform: torch.Size([32, 293, 59])\n",
      "Before transform: torch.Size([1, 32, 585])\n"
     ]
    },
    {
     "name": "stderr",
     "output_type": "stream",
     "text": [
      " 35%|███▍      | 2089/5976 [00:30<01:08, 56.39it/s]"
     ]
    },
    {
     "name": "stdout",
     "output_type": "stream",
     "text": [
      "After transform: torch.Size([32, 293, 59])\n",
      "Before transform: torch.Size([1, 32, 585])\n",
      "After transform: torch.Size([32, 293, 59])\n",
      "Before transform: torch.Size([1, 32, 585])\n",
      "After transform: torch.Size([32, 293, 59])\n",
      "Before transform: torch.Size([1, 32, 585])\n",
      "After transform: torch.Size([32, 293, 59])\n",
      "Before transform: torch.Size([1, 32, 585])\n",
      "After transform: torch.Size([32, 293, 59])\n",
      "Before transform: torch.Size([1, 32, 585])\n",
      "After transform: torch.Size([32, 293, 59])\n",
      "Before transform: torch.Size([1, 32, 585])\n",
      "After transform: torch.Size([32, 293, 59])\n",
      "Before transform: torch.Size([1, 32, 585])\n",
      "After transform: torch.Size([32, 293, 59])\n",
      "Before transform: torch.Size([1, 32, 585])\n",
      "After transform: torch.Size([32, 293, 59])\n",
      "Before transform: torch.Size([1, 32, 585])\n",
      "After transform: torch.Size([32, 293, 59])\n",
      "Before transform: torch.Size([1, 32, 585])\n",
      "After transform: torch.Size([32, 293, 59])\n",
      "Before transform: torch.Size([1, 32, 585])\n",
      "After transform: torch.Size([32, 293, 59])\n",
      "Before transform: torch.Size([1, 32, 585])\n",
      "After transform: torch.Size([32, 293, 59])\n",
      "Before transform: torch.Size([1, 32, 585])\n",
      "After transform: torch.Size([32, 293, 59])\n",
      "Before transform: torch.Size([1, 32, 585])\n",
      "After transform: torch.Size([32, 293, 59])\n",
      "Before transform: torch.Size([1, 32, 585])\n",
      "After transform: torch.Size([32, 293, 59])\n"
     ]
    },
    {
     "name": "stderr",
     "output_type": "stream",
     "text": [
      " 35%|███▌      | 2106/5976 [00:31<00:57, 67.14it/s]"
     ]
    },
    {
     "name": "stdout",
     "output_type": "stream",
     "text": [
      "Before transform: torch.Size([1, 32, 585])\n",
      "After transform: torch.Size([32, 293, 59])\n",
      "Before transform: torch.Size([1, 32, 585])\n",
      "After transform: torch.Size([32, 293, 59])\n",
      "Before transform: torch.Size([1, 32, 585])\n",
      "After transform: torch.Size([32, 293, 59])\n",
      "Before transform: torch.Size([1, 32, 585])\n",
      "After transform: torch.Size([32, 293, 59])\n",
      "Before transform: torch.Size([1, 32, 585])\n",
      "After transform: torch.Size([32, 293, 59])\n",
      "Before transform: torch.Size([1, 32, 585])\n",
      "After transform: torch.Size([32, 293, 59])\n",
      "Before transform: torch.Size([1, 32, 585])\n",
      "After transform: torch.Size([32, 293, 59])\n",
      "Before transform: torch.Size([1, 32, 585])\n",
      "After transform: torch.Size([32, 293, 59])\n",
      "Before transform: torch.Size([1, 32, 585])\n",
      "After transform: torch.Size([32, 293, 59])\n",
      "Before transform: torch.Size([1, 32, 585])\n",
      "After transform: torch.Size([32, 293, 59])\n",
      "Before transform: torch.Size([1, 32, 585])\n",
      "After transform: torch.Size([32, 293, 59])\n",
      "Before transform: torch.Size([1, 32, 585])\n",
      "After transform: torch.Size([32, 293, 59])\n",
      "Before transform: torch.Size([1, 32, 585])\n",
      "After transform: torch.Size([32, 293, 59])\n",
      "Before transform: torch.Size([1, 32, 585])\n",
      "After transform: torch.Size([32, 293, 59])\n",
      "Before transform: torch.Size([1, 32, 585])\n",
      "After transform: torch.Size([32, 293, 59])\n",
      "Before transform: torch.Size([1, 32, 585])\n"
     ]
    },
    {
     "name": "stderr",
     "output_type": "stream",
     "text": [
      " 35%|███▌      | 2114/5976 [00:31<00:56, 68.92it/s]"
     ]
    },
    {
     "name": "stdout",
     "output_type": "stream",
     "text": [
      "After transform: torch.Size([32, 293, 59])\n",
      "Before transform: torch.Size([1, 32, 585])\n",
      "After transform: torch.Size([32, 293, 59])\n",
      "Before transform: torch.Size([1, 32, 585])\n",
      "After transform: torch.Size([32, 293, 59])\n",
      "Before transform: torch.Size([1, 32, 585])\n",
      "After transform: torch.Size([32, 293, 59])\n",
      "Before transform: torch.Size([1, 32, 585])\n",
      "After transform: torch.Size([32, 293, 59])\n",
      "Before transform: torch.Size([1, 32, 585])\n",
      "After transform: torch.Size([32, 293, 59])\n",
      "Before transform: torch.Size([1, 32, 585])\n",
      "After transform: torch.Size([32, 293, 59])\n",
      "Before transform: torch.Size([1, 32, 585])\n",
      "After transform: torch.Size([32, 293, 59])\n",
      "Before transform: torch.Size([1, 32, 585])\n",
      "After transform: torch.Size([32, 293, 59])\n",
      "Before transform: torch.Size([1, 32, 585])\n",
      "After transform: torch.Size([32, 293, 59])\n",
      "Before transform: torch.Size([1, 32, 585])\n",
      "After transform: torch.Size([32, 293, 59])\n",
      "Before transform: torch.Size([1, 32, 585])\n",
      "After transform: torch.Size([32, 293, 59])\n",
      "Before transform: torch.Size([1, 32, 585])\n",
      "After transform: torch.Size([32, 293, 59])\n",
      "Before transform: torch.Size([1, 32, 585])\n",
      "After transform: torch.Size([32, 293, 59])\n",
      "Before transform: torch.Size([1, 32, 585])\n"
     ]
    },
    {
     "name": "stderr",
     "output_type": "stream",
     "text": [
      " 36%|███▌      | 2129/5976 [00:31<00:59, 64.16it/s]"
     ]
    },
    {
     "name": "stdout",
     "output_type": "stream",
     "text": [
      "After transform: torch.Size([32, 293, 59])\n",
      "Before transform: torch.Size([1, 32, 585])\n",
      "After transform: torch.Size([32, 293, 59])\n",
      "Before transform: torch.Size([1, 32, 585])\n",
      "After transform: torch.Size([32, 293, 59])\n",
      "Before transform: torch.Size([1, 32, 585])\n",
      "After transform: torch.Size([32, 293, 59])\n",
      "Before transform: torch.Size([1, 32, 585])\n",
      "After transform: torch.Size([32, 293, 59])\n",
      "Before transform: torch.Size([1, 32, 585])\n",
      "After transform: torch.Size([32, 293, 59])\n",
      "Before transform: torch.Size([1, 32, 585])\n",
      "After transform: torch.Size([32, 293, 59])\n",
      "Before transform: torch.Size([1, 32, 585])\n",
      "After transform: torch.Size([32, 293, 59])\n",
      "Before transform: torch.Size([1, 32, 585])\n",
      "After transform: torch.Size([32, 293, 59])\n",
      "Before transform: torch.Size([1, 32, 585])\n",
      "After transform: torch.Size([32, 293, 59])\n",
      "Before transform: torch.Size([1, 32, 585])\n"
     ]
    },
    {
     "name": "stderr",
     "output_type": "stream",
     "text": [
      " 36%|███▌      | 2143/5976 [00:31<01:05, 58.80it/s]"
     ]
    },
    {
     "name": "stdout",
     "output_type": "stream",
     "text": [
      "After transform: torch.Size([32, 293, 59])\n",
      "Before transform: torch.Size([1, 32, 585])\n",
      "After transform: torch.Size([32, 293, 59])\n",
      "Before transform: torch.Size([1, 32, 585])\n",
      "After transform: torch.Size([32, 293, 59])\n",
      "Before transform: torch.Size([1, 32, 585])\n",
      "After transform: torch.Size([32, 293, 59])\n",
      "Before transform: torch.Size([1, 32, 585])\n",
      "After transform: torch.Size([32, 293, 59])\n",
      "Before transform: torch.Size([1, 32, 585])\n",
      "After transform: torch.Size([32, 293, 59])\n",
      "Before transform: torch.Size([1, 32, 585])\n",
      "After transform: torch.Size([32, 293, 59])\n",
      "Before transform: torch.Size([1, 32, 585])\n",
      "After transform: torch.Size([32, 293, 59])\n",
      "Before transform: torch.Size([1, 32, 585])\n",
      "After transform: torch.Size([32, 293, 59])\n",
      "Before transform: torch.Size([1, 32, 585])\n",
      "After transform: torch.Size([32, 293, 59])\n",
      "Before transform: torch.Size([1, 32, 585])\n",
      "After transform: torch.Size([32, 293, 59])\n",
      "Before transform: torch.Size([1, 32, 585])\n",
      "After transform: torch.Size([32, 293, 59])\n",
      "Before transform: torch.Size([1, 32, 585])\n",
      "After transform: torch.Size([32, 293, 59])\n",
      "Before transform: torch.Size([1, 32, 585])\n"
     ]
    },
    {
     "name": "stderr",
     "output_type": "stream",
     "text": [
      " 36%|███▌      | 2158/5976 [00:31<00:59, 64.25it/s]"
     ]
    },
    {
     "name": "stdout",
     "output_type": "stream",
     "text": [
      "After transform: torch.Size([32, 293, 59])\n",
      "Before transform: torch.Size([1, 32, 585])\n",
      "After transform: torch.Size([32, 293, 59])\n",
      "Before transform: torch.Size([1, 32, 585])\n",
      "After transform: torch.Size([32, 293, 59])\n",
      "Before transform: torch.Size([1, 32, 585])\n",
      "After transform: torch.Size([32, 293, 59])\n",
      "Before transform: torch.Size([1, 32, 585])\n",
      "After transform: torch.Size([32, 293, 59])\n",
      "Before transform: torch.Size([1, 32, 585])\n",
      "After transform: torch.Size([32, 293, 59])\n",
      "Before transform: torch.Size([1, 32, 585])\n",
      "After transform: torch.Size([32, 293, 59])\n",
      "Before transform: torch.Size([1, 32, 585])\n",
      "After transform: torch.Size([32, 293, 59])\n",
      "Before transform: torch.Size([1, 32, 585])\n",
      "After transform: torch.Size([32, 293, 59])\n",
      "Before transform: torch.Size([1, 32, 585])\n",
      "After transform: torch.Size([32, 293, 59])\n",
      "Before transform: torch.Size([1, 32, 585])\n",
      "After transform: torch.Size([32, 293, 59])\n",
      "Before transform: torch.Size([1, 32, 585])\n",
      "After transform: torch.Size([32, 293, 59])\n",
      "Before transform: torch.Size([1, 32, 585])\n",
      "After transform: torch.Size([32, 293, 59])\n",
      "Before transform: torch.Size([1, 32, 585])\n",
      "After transform: torch.Size([32, 293, 59])\n",
      "Before transform: torch.Size([1, 32, 585])\n",
      "After transform: torch.Size([32, 293, 59])\n",
      "Before transform: torch.Size([1, 32, 585])\n",
      "After transform: torch.Size([32, 293, 59])\n",
      "Before transform: torch.Size([1, 32, 585])\n",
      "After transform: torch.Size([32, 293, 59])\n",
      "Before transform: torch.Size([1, 32, 585])\n",
      "After transform: torch.Size([32, 293, 59])\n",
      "Before transform: torch.Size([1, 32, 585])\n",
      "After transform: torch.Size([32, 293, 59])\n",
      "Before transform: torch.Size([1, 32, 585])\n"
     ]
    },
    {
     "name": "stderr",
     "output_type": "stream",
     "text": [
      " 36%|███▋      | 2171/5976 [00:32<01:28, 43.04it/s]"
     ]
    },
    {
     "name": "stdout",
     "output_type": "stream",
     "text": [
      "After transform: torch.Size([32, 293, 59])\n",
      "Before transform: torch.Size([1, 32, 585])\n",
      "After transform: torch.Size([32, 293, 59])\n",
      "Before transform: torch.Size([1, 32, 585])\n",
      "After transform: torch.Size([32, 293, 59])\n",
      "Before transform: torch.Size([1, 32, 585])\n",
      "After transform: torch.Size([32, 293, 59])\n",
      "Before transform: torch.Size([1, 32, 585])\n",
      "After transform: torch.Size([32, 293, 59])\n",
      "Before transform: torch.Size([1, 32, 585])\n",
      "After transform: torch.Size([32, 293, 59])\n",
      "Before transform: torch.Size([1, 32, 585])\n",
      "After transform: torch.Size([32, 293, 59])\n",
      "Before transform: torch.Size([1, 32, 585])\n",
      "After transform: torch.Size([32, 293, 59])\n",
      "Before transform: torch.Size([1, 32, 585])\n"
     ]
    },
    {
     "name": "stderr",
     "output_type": "stream",
     "text": [
      " 36%|███▋      | 2181/5976 [00:32<01:30, 42.04it/s]"
     ]
    },
    {
     "name": "stdout",
     "output_type": "stream",
     "text": [
      "After transform: torch.Size([32, 293, 59])\n",
      "Before transform: torch.Size([1, 32, 585])\n",
      "After transform: torch.Size([32, 293, 59])\n",
      "Before transform: torch.Size([1, 32, 585])\n",
      "After transform: torch.Size([32, 293, 59])\n",
      "Before transform: torch.Size([1, 32, 585])\n",
      "After transform: torch.Size([32, 293, 59])\n",
      "Before transform: torch.Size([1, 32, 585])\n",
      "After transform: torch.Size([32, 293, 59])\n",
      "Before transform: torch.Size([1, 32, 585])\n",
      "After transform: torch.Size([32, 293, 59])\n",
      "Before transform: torch.Size([1, 32, 585])\n",
      "After transform: torch.Size([32, 293, 59])\n",
      "Before transform: torch.Size([1, 32, 585])\n",
      "After transform: torch.Size([32, 293, 59])\n",
      "Before transform: torch.Size([1, 32, 585])\n",
      "After transform: torch.Size([32, 293, 59])\n",
      "Before transform: torch.Size([1, 32, 585])\n",
      "After transform: torch.Size([32, 293, 59])\n",
      "Before transform: torch.Size([1, 32, 585])\n"
     ]
    },
    {
     "name": "stderr",
     "output_type": "stream",
     "text": [
      " 37%|███▋      | 2186/5976 [00:32<01:34, 40.25it/s]"
     ]
    },
    {
     "name": "stdout",
     "output_type": "stream",
     "text": [
      "After transform: torch.Size([32, 293, 59])\n",
      "Before transform: torch.Size([1, 32, 585])\n",
      "After transform: torch.Size([32, 293, 59])\n",
      "Before transform: torch.Size([1, 32, 585])\n",
      "After transform: torch.Size([32, 293, 59])\n",
      "Before transform: torch.Size([1, 32, 585])\n",
      "After transform: torch.Size([32, 293, 59])\n",
      "Before transform: torch.Size([1, 32, 585])\n",
      "After transform: torch.Size([32, 293, 59])\n",
      "Before transform: torch.Size([1, 32, 585])\n",
      "After transform: torch.Size([32, 293, 59])\n",
      "Before transform: torch.Size([1, 32, 585])\n",
      "After transform: torch.Size([32, 293, 59])\n",
      "Before transform: torch.Size([1, 32, 585])\n",
      "After transform: torch.Size([32, 293, 59])\n",
      "Before transform: torch.Size([1, 32, 585])\n",
      "After transform: torch.Size([32, 293, 59])\n",
      "Before transform: torch.Size([1, 32, 585])\n",
      "After transform: torch.Size([32, 293, 59])\n",
      "Before transform: torch.Size([1, 32, 585])\n"
     ]
    },
    {
     "name": "stderr",
     "output_type": "stream",
     "text": [
      " 37%|███▋      | 2199/5976 [00:32<01:16, 49.34it/s]"
     ]
    },
    {
     "name": "stdout",
     "output_type": "stream",
     "text": [
      "After transform: torch.Size([32, 293, 59])\n",
      "Before transform: torch.Size([1, 32, 585])\n",
      "After transform: torch.Size([32, 293, 59])\n",
      "Before transform: torch.Size([1, 32, 585])\n",
      "After transform: torch.Size([32, 293, 59])\n",
      "Before transform: torch.Size([1, 32, 585])\n",
      "After transform: torch.Size([32, 293, 59])\n",
      "Before transform: torch.Size([1, 32, 585])\n",
      "After transform: torch.Size([32, 293, 59])\n",
      "Before transform: torch.Size([1, 32, 585])\n",
      "After transform: torch.Size([32, 293, 59])\n",
      "Before transform: torch.Size([1, 32, 585])\n",
      "After transform: torch.Size([32, 293, 59])\n",
      "Before transform: torch.Size([1, 32, 585])\n",
      "After transform: torch.Size([32, 293, 59])\n",
      "Before transform: torch.Size([1, 32, 585])\n",
      "After transform: torch.Size([32, 293, 59])\n",
      "Before transform: torch.Size([1, 32, 585])\n",
      "After transform: torch.Size([32, 293, 59])\n",
      "Before transform: torch.Size([1, 32, 585])\n",
      "After transform: torch.Size([32, 293, 59])\n",
      "Before transform: torch.Size([1, 32, 585])\n",
      "After transform: torch.Size([32, 293, 59])\n",
      "Before transform: torch.Size([1, 32, 585])\n",
      "After transform: torch.Size([32, 293, 59])\n",
      "Before transform: torch.Size([1, 32, 585])\n",
      "After transform: torch.Size([32, 293, 59])\n",
      "Before transform: torch.Size([1, 32, 585])\n"
     ]
    },
    {
     "name": "stderr",
     "output_type": "stream",
     "text": [
      " 37%|███▋      | 2214/5976 [00:33<01:04, 58.45it/s]"
     ]
    },
    {
     "name": "stdout",
     "output_type": "stream",
     "text": [
      "After transform: torch.Size([32, 293, 59])\n",
      "Before transform: torch.Size([1, 32, 585])\n",
      "After transform: torch.Size([32, 293, 59])\n",
      "Before transform: torch.Size([1, 32, 585])\n",
      "After transform: torch.Size([32, 293, 59])\n",
      "Before transform: torch.Size([1, 32, 585])\n",
      "After transform: torch.Size([32, 293, 59])\n",
      "Before transform: torch.Size([1, 32, 585])\n",
      "After transform: torch.Size([32, 293, 59])\n",
      "Before transform: torch.Size([1, 32, 585])\n",
      "After transform: torch.Size([32, 293, 59])\n",
      "Before transform: torch.Size([1, 32, 585])\n",
      "After transform: torch.Size([32, 293, 59])\n",
      "Before transform: torch.Size([1, 32, 585])\n",
      "After transform: torch.Size([32, 293, 59])\n",
      "Before transform: torch.Size([1, 32, 585])\n",
      "After transform: torch.Size([32, 293, 59])\n",
      "Before transform: torch.Size([1, 32, 585])\n",
      "After transform: torch.Size([32, 293, 59])\n",
      "Before transform: torch.Size([1, 32, 585])\n",
      "After transform: torch.Size([32, 293, 59])\n",
      "Before transform: torch.Size([1, 32, 585])\n",
      "After transform: torch.Size([32, 293, 59])\n",
      "Before transform: torch.Size([1, 32, 585])\n",
      "After transform: torch.Size([32, 293, 59])\n",
      "Before transform: torch.Size([1, 32, 585])\n",
      "After transform: torch.Size([32, 293, 59])\n",
      "Before transform: torch.Size([1, 32, 585])\n",
      "After transform: torch.Size([32, 293, 59])\n",
      "Before transform: torch.Size([1, 32, 585])\n"
     ]
    },
    {
     "name": "stderr",
     "output_type": "stream",
     "text": [
      " 37%|███▋      | 2222/5976 [00:33<01:03, 59.21it/s]"
     ]
    },
    {
     "name": "stdout",
     "output_type": "stream",
     "text": [
      "After transform: torch.Size([32, 293, 59])\n",
      "Before transform: torch.Size([1, 32, 585])\n",
      "After transform: torch.Size([32, 293, 59])\n",
      "Before transform: torch.Size([1, 32, 585])\n",
      "After transform: torch.Size([32, 293, 59])\n",
      "Before transform: torch.Size([1, 32, 585])\n",
      "After transform: torch.Size([32, 293, 59])\n",
      "Before transform: torch.Size([1, 32, 585])\n",
      "After transform: torch.Size([32, 293, 59])\n",
      "Before transform: torch.Size([1, 32, 585])\n",
      "After transform: torch.Size([32, 293, 59])\n",
      "Before transform: torch.Size([1, 32, 585])\n",
      "After transform: torch.Size([32, 293, 59])\n",
      "Before transform: torch.Size([1, 32, 585])\n",
      "After transform: torch.Size([32, 293, 59])\n",
      "Before transform: torch.Size([1, 32, 585])\n"
     ]
    },
    {
     "name": "stderr",
     "output_type": "stream",
     "text": [
      " 37%|███▋      | 2229/5976 [00:33<01:08, 54.36it/s]"
     ]
    },
    {
     "name": "stdout",
     "output_type": "stream",
     "text": [
      "After transform: torch.Size([32, 293, 59])\n",
      "Before transform: torch.Size([1, 32, 585])\n",
      "After transform: torch.Size([32, 293, 59])\n",
      "Before transform: torch.Size([1, 32, 585])\n",
      "After transform: torch.Size([32, 293, 59])\n",
      "Before transform: torch.Size([1, 32, 585])\n",
      "After transform: torch.Size([32, 293, 59])\n",
      "Before transform: torch.Size([1, 32, 585])\n"
     ]
    },
    {
     "name": "stderr",
     "output_type": "stream",
     "text": [
      " 38%|███▊      | 2241/5976 [00:33<01:23, 44.80it/s]"
     ]
    },
    {
     "name": "stdout",
     "output_type": "stream",
     "text": [
      "After transform: torch.Size([32, 293, 59])\n",
      "Before transform: torch.Size([1, 32, 585])\n",
      "After transform: torch.Size([32, 293, 59])\n",
      "Before transform: torch.Size([1, 32, 585])\n",
      "After transform: torch.Size([32, 293, 59])\n",
      "Before transform: torch.Size([1, 32, 585])\n",
      "After transform: torch.Size([32, 293, 59])\n",
      "Before transform: torch.Size([1, 32, 585])\n",
      "After transform: torch.Size([32, 293, 59])\n",
      "Before transform: torch.Size([1, 32, 585])\n",
      "After transform: torch.Size([32, 293, 59])\n",
      "Before transform: torch.Size([1, 32, 585])\n",
      "After transform: torch.Size([32, 293, 59])\n",
      "Before transform: torch.Size([1, 32, 585])\n",
      "After transform: torch.Size([32, 293, 59])\n",
      "Before transform: torch.Size([1, 32, 585])\n",
      "After transform: torch.Size([32, 293, 59])\n",
      "Before transform: torch.Size([1, 32, 585])\n",
      "After transform: torch.Size([32, 293, 59])\n",
      "Before transform: torch.Size([1, 32, 585])\n",
      "After transform: torch.Size([32, 293, 59])\n",
      "Before transform: torch.Size([1, 32, 585])\n",
      "After transform: torch.Size([32, 293, 59])\n",
      "Before transform: torch.Size([1, 32, 585])\n",
      "After transform: torch.Size([32, 293, 59])\n",
      "Before transform: torch.Size([1, 32, 585])\n"
     ]
    },
    {
     "name": "stderr",
     "output_type": "stream",
     "text": [
      " 38%|███▊      | 2254/5976 [00:34<01:15, 49.15it/s]"
     ]
    },
    {
     "name": "stdout",
     "output_type": "stream",
     "text": [
      "After transform: torch.Size([32, 293, 59])\n",
      "Before transform: torch.Size([1, 32, 585])\n",
      "After transform: torch.Size([32, 293, 59])\n",
      "Before transform: torch.Size([1, 32, 585])\n",
      "After transform: torch.Size([32, 293, 59])\n",
      "Before transform: torch.Size([1, 32, 585])\n",
      "After transform: torch.Size([32, 293, 59])\n",
      "Before transform: torch.Size([1, 32, 585])\n",
      "After transform: torch.Size([32, 293, 59])\n",
      "Before transform: torch.Size([1, 32, 585])\n",
      "After transform: torch.Size([32, 293, 59])\n",
      "Before transform: torch.Size([1, 32, 585])\n",
      "After transform: torch.Size([32, 293, 59])\n",
      "Before transform: torch.Size([1, 32, 585])\n",
      "After transform: torch.Size([32, 293, 59])\n",
      "Before transform: torch.Size([1, 32, 585])\n",
      "After transform: torch.Size([32, 293, 59])\n",
      "Before transform: torch.Size([1, 32, 585])\n",
      "After transform: torch.Size([32, 293, 59])\n",
      "Before transform: torch.Size([1, 32, 585])\n",
      "After transform: torch.Size([32, 293, 59])\n",
      "Before transform: torch.Size([1, 32, 585])\n"
     ]
    },
    {
     "name": "stderr",
     "output_type": "stream",
     "text": [
      " 38%|███▊      | 2267/5976 [00:34<01:07, 54.94it/s]"
     ]
    },
    {
     "name": "stdout",
     "output_type": "stream",
     "text": [
      "After transform: torch.Size([32, 293, 59])\n",
      "Before transform: torch.Size([1, 32, 585])\n",
      "After transform: torch.Size([32, 293, 59])\n",
      "Before transform: torch.Size([1, 32, 585])\n",
      "After transform: torch.Size([32, 293, 59])\n",
      "Before transform: torch.Size([1, 32, 585])\n",
      "After transform: torch.Size([32, 293, 59])\n",
      "Before transform: torch.Size([1, 32, 585])\n",
      "After transform: torch.Size([32, 293, 59])\n",
      "Before transform: torch.Size([1, 32, 585])\n",
      "After transform: torch.Size([32, 293, 59])\n",
      "Before transform: torch.Size([1, 32, 585])\n",
      "After transform: torch.Size([32, 293, 59])\n",
      "Before transform: torch.Size([1, 32, 585])\n",
      "After transform: torch.Size([32, 293, 59])\n",
      "Before transform: torch.Size([1, 32, 585])\n",
      "After transform: torch.Size([32, 293, 59])\n",
      "Before transform: torch.Size([1, 32, 585])\n",
      "After transform: torch.Size([32, 293, 59])\n",
      "Before transform: torch.Size([1, 32, 585])\n",
      "After transform: torch.Size([32, 293, 59])\n",
      "Before transform: torch.Size([1, 32, 585])\n",
      "After transform: torch.Size([32, 293, 59])\n",
      "Before transform: torch.Size([1, 32, 585])\n",
      "After transform: torch.Size([32, 293, 59])\n",
      "Before transform: torch.Size([1, 32, 585])\n"
     ]
    },
    {
     "name": "stderr",
     "output_type": "stream",
     "text": [
      " 38%|███▊      | 2283/5976 [00:34<00:56, 65.36it/s]"
     ]
    },
    {
     "name": "stdout",
     "output_type": "stream",
     "text": [
      "After transform: torch.Size([32, 293, 59])\n",
      "Before transform: torch.Size([1, 32, 585])\n",
      "After transform: torch.Size([32, 293, 59])\n",
      "Before transform: torch.Size([1, 32, 585])\n",
      "After transform: torch.Size([32, 293, 59])\n",
      "Before transform: torch.Size([1, 32, 585])\n",
      "After transform: torch.Size([32, 293, 59])\n",
      "Before transform: torch.Size([1, 32, 585])\n",
      "After transform: torch.Size([32, 293, 59])\n",
      "Before transform: torch.Size([1, 32, 585])\n",
      "After transform: torch.Size([32, 293, 59])\n",
      "Before transform: torch.Size([1, 32, 585])\n",
      "After transform: torch.Size([32, 293, 59])\n",
      "Before transform: torch.Size([1, 32, 585])\n",
      "After transform: torch.Size([32, 293, 59])\n",
      "Before transform: torch.Size([1, 32, 585])\n",
      "After transform: torch.Size([32, 293, 59])\n",
      "Before transform: torch.Size([1, 32, 585])\n",
      "After transform: torch.Size([32, 293, 59])\n",
      "Before transform: torch.Size([1, 32, 585])\n",
      "After transform: torch.Size([32, 293, 59])\n",
      "Before transform: torch.Size([1, 32, 585])\n",
      "After transform: torch.Size([32, 293, 59])\n",
      "Before transform: torch.Size([1, 32, 585])\n",
      "After transform: torch.Size([32, 293, 59])\n",
      "Before transform: torch.Size([1, 32, 585])\n",
      "After transform: torch.Size([32, 293, 59])\n",
      "Before transform: torch.Size([1, 32, 585])\n",
      "After transform: torch.Size([32, 293, 59])\n",
      "Before transform: torch.Size([1, 32, 585])\n",
      "After transform: torch.Size([32, 293, 59])\n",
      "Before transform: torch.Size([1, 32, 585])\n"
     ]
    },
    {
     "name": "stderr",
     "output_type": "stream",
     "text": [
      " 38%|███▊      | 2299/5976 [00:34<00:51, 71.28it/s]"
     ]
    },
    {
     "name": "stdout",
     "output_type": "stream",
     "text": [
      "After transform: torch.Size([32, 293, 59])\n",
      "Before transform: torch.Size([1, 32, 585])\n",
      "After transform: torch.Size([32, 293, 59])\n",
      "Before transform: torch.Size([1, 32, 585])\n",
      "After transform: torch.Size([32, 293, 59])\n",
      "Before transform: torch.Size([1, 32, 585])\n",
      "After transform: torch.Size([32, 293, 59])\n",
      "Before transform: torch.Size([1, 32, 585])\n",
      "After transform: torch.Size([32, 293, 59])\n",
      "Before transform: torch.Size([1, 32, 585])\n",
      "After transform: torch.Size([32, 293, 59])\n",
      "Before transform: torch.Size([1, 32, 585])\n",
      "After transform: torch.Size([32, 293, 59])\n",
      "Before transform: torch.Size([1, 32, 585])\n",
      "After transform: torch.Size([32, 293, 59])\n",
      "Before transform: torch.Size([1, 32, 585])\n",
      "After transform: torch.Size([32, 293, 59])\n",
      "Before transform: torch.Size([1, 32, 585])\n",
      "After transform: torch.Size([32, 293, 59])\n",
      "Before transform: torch.Size([1, 32, 585])\n",
      "After transform: torch.Size([32, 293, 59])\n",
      "Before transform: torch.Size([1, 32, 585])\n",
      "After transform: torch.Size([32, 293, 59])\n",
      "Before transform: torch.Size([1, 32, 585])\n",
      "After transform: torch.Size([32, 293, 59])\n",
      "Before transform: torch.Size([1, 32, 585])\n",
      "After transform: torch.Size([32, 293, 59])\n",
      "Before transform: torch.Size([1, 32, 585])\n",
      "After transform: torch.Size([32, 293, 59])\n",
      "Before transform: torch.Size([1, 32, 585])\n",
      "After transform: torch.Size([32, 293, 59])\n",
      "Before transform: torch.Size([1, 32, 585])\n"
     ]
    },
    {
     "name": "stderr",
     "output_type": "stream",
     "text": [
      " 39%|███▊      | 2307/5976 [00:34<01:06, 54.86it/s]"
     ]
    },
    {
     "name": "stdout",
     "output_type": "stream",
     "text": [
      "After transform: torch.Size([32, 293, 59])\n",
      "Before transform: torch.Size([1, 32, 585])\n",
      "After transform: torch.Size([32, 293, 59])\n",
      "Before transform: torch.Size([1, 32, 585])\n",
      "After transform: torch.Size([32, 293, 59])\n",
      "Before transform: torch.Size([1, 32, 585])\n",
      "After transform: torch.Size([32, 293, 59])\n",
      "Before transform: torch.Size([1, 32, 585])\n",
      "After transform: torch.Size([32, 293, 59])\n",
      "Before transform: torch.Size([1, 32, 585])\n",
      "After transform: torch.Size([32, 293, 59])\n",
      "Before transform: torch.Size([1, 32, 585])\n",
      "After transform: torch.Size([32, 293, 59])\n",
      "Before transform: torch.Size([1, 32, 585])\n"
     ]
    },
    {
     "name": "stderr",
     "output_type": "stream",
     "text": [
      " 39%|███▉      | 2322/5976 [00:35<00:58, 62.36it/s]"
     ]
    },
    {
     "name": "stdout",
     "output_type": "stream",
     "text": [
      "After transform: torch.Size([32, 293, 59])\n",
      "Before transform: torch.Size([1, 32, 585])\n",
      "After transform: torch.Size([32, 293, 59])\n",
      "Before transform: torch.Size([1, 32, 585])\n",
      "After transform: torch.Size([32, 293, 59])\n",
      "Before transform: torch.Size([1, 32, 585])\n",
      "After transform: torch.Size([32, 293, 59])\n",
      "Before transform: torch.Size([1, 32, 585])\n",
      "After transform: torch.Size([32, 293, 59])\n",
      "Before transform: torch.Size([1, 32, 585])\n",
      "After transform: torch.Size([32, 293, 59])\n",
      "Before transform: torch.Size([1, 32, 585])\n",
      "After transform: torch.Size([32, 293, 59])\n",
      "Before transform: torch.Size([1, 32, 585])\n",
      "After transform: torch.Size([32, 293, 59])\n",
      "Before transform: torch.Size([1, 32, 585])\n",
      "After transform: torch.Size([32, 293, 59])\n",
      "Before transform: torch.Size([1, 32, 585])\n",
      "After transform: torch.Size([32, 293, 59])\n",
      "Before transform: torch.Size([1, 32, 585])\n",
      "After transform: torch.Size([32, 293, 59])\n",
      "Before transform: torch.Size([1, 32, 585])\n",
      "After transform: torch.Size([32, 293, 59])\n",
      "Before transform: torch.Size([1, 32, 585])\n",
      "After transform: torch.Size([32, 293, 59])\n",
      "Before transform: torch.Size([1, 32, 585])\n",
      "After transform: torch.Size([32, 293, 59])\n",
      "Before transform: torch.Size([1, 32, 585])\n",
      "After transform: torch.Size([32, 293, 59])\n",
      "Before transform: torch.Size([1, 32, 585])\n"
     ]
    },
    {
     "name": "stderr",
     "output_type": "stream",
     "text": [
      " 39%|███▉      | 2340/5976 [00:35<00:51, 71.01it/s]"
     ]
    },
    {
     "name": "stdout",
     "output_type": "stream",
     "text": [
      "After transform: torch.Size([32, 293, 59])\n",
      "Before transform: torch.Size([1, 32, 585])\n",
      "After transform: torch.Size([32, 293, 59])\n",
      "Before transform: torch.Size([1, 32, 585])\n",
      "After transform: torch.Size([32, 293, 59])\n",
      "Before transform: torch.Size([1, 32, 585])\n",
      "After transform: torch.Size([32, 293, 59])\n",
      "Before transform: torch.Size([1, 32, 585])\n",
      "After transform: torch.Size([32, 293, 59])\n",
      "Before transform: torch.Size([1, 32, 585])\n",
      "After transform: torch.Size([32, 293, 59])\n",
      "Before transform: torch.Size([1, 32, 585])\n",
      "After transform: torch.Size([32, 293, 59])\n",
      "Before transform: torch.Size([1, 32, 585])\n",
      "After transform: torch.Size([32, 293, 59])\n",
      "Before transform: torch.Size([1, 32, 585])\n",
      "After transform: torch.Size([32, 293, 59])\n",
      "Before transform: torch.Size([1, 32, 585])\n",
      "After transform: torch.Size([32, 293, 59])\n",
      "Before transform: torch.Size([1, 32, 585])\n",
      "After transform: torch.Size([32, 293, 59])\n",
      "Before transform: torch.Size([1, 32, 585])\n",
      "After transform: torch.Size([32, 293, 59])\n",
      "Before transform: torch.Size([1, 32, 585])\n",
      "After transform: torch.Size([32, 293, 59])\n",
      "Before transform: torch.Size([1, 32, 585])\n",
      "After transform: torch.Size([32, 293, 59])\n",
      "Before transform: torch.Size([1, 32, 585])\n",
      "After transform: torch.Size([32, 293, 59])\n",
      "Before transform: torch.Size([1, 32, 585])\n",
      "After transform: torch.Size([32, 293, 59])\n",
      "Before transform: torch.Size([1, 32, 585])\n",
      "After transform: torch.Size([32, 293, 59])\n",
      "Before transform: torch.Size([1, 32, 585])\n"
     ]
    },
    {
     "name": "stderr",
     "output_type": "stream",
     "text": [
      " 39%|███▉      | 2357/5976 [00:35<00:47, 75.97it/s]"
     ]
    },
    {
     "name": "stdout",
     "output_type": "stream",
     "text": [
      "After transform: torch.Size([32, 293, 59])\n",
      "Before transform: torch.Size([1, 32, 585])\n",
      "After transform: torch.Size([32, 293, 59])\n",
      "Before transform: torch.Size([1, 32, 585])\n",
      "After transform: torch.Size([32, 293, 59])\n",
      "Before transform: torch.Size([1, 32, 585])\n",
      "After transform: torch.Size([32, 293, 59])\n",
      "Before transform: torch.Size([1, 32, 585])\n",
      "After transform: torch.Size([32, 293, 59])\n",
      "Before transform: torch.Size([1, 32, 585])\n",
      "After transform: torch.Size([32, 293, 59])\n",
      "Before transform: torch.Size([1, 32, 585])\n",
      "After transform: torch.Size([32, 293, 59])\n",
      "Before transform: torch.Size([1, 32, 585])\n",
      "After transform: torch.Size([32, 293, 59])\n",
      "Before transform: torch.Size([1, 32, 585])\n",
      "After transform: torch.Size([32, 293, 59])\n",
      "Before transform: torch.Size([1, 32, 585])\n",
      "After transform: torch.Size([32, 293, 59])\n",
      "Before transform: torch.Size([1, 32, 585])\n",
      "After transform: torch.Size([32, 293, 59])\n",
      "Before transform: torch.Size([1, 32, 585])\n",
      "After transform: torch.Size([32, 293, 59])\n",
      "Before transform: torch.Size([1, 32, 585])\n",
      "After transform: torch.Size([32, 293, 59])\n",
      "Before transform: torch.Size([1, 32, 585])\n",
      "After transform: torch.Size([32, 293, 59])\n",
      "Before transform: torch.Size([1, 32, 585])\n",
      "After transform: torch.Size([32, 293, 59])\n",
      "Before transform: torch.Size([1, 32, 585])\n",
      "After transform: torch.Size([32, 293, 59])\n",
      "Before transform: torch.Size([1, 32, 585])\n",
      "After transform: torch.Size([32, 293, 59])\n",
      "Before transform: torch.Size([1, 32, 585])\n"
     ]
    },
    {
     "name": "stderr",
     "output_type": "stream",
     "text": [
      " 40%|███▉      | 2374/5976 [00:35<00:45, 78.58it/s]"
     ]
    },
    {
     "name": "stdout",
     "output_type": "stream",
     "text": [
      "After transform: torch.Size([32, 293, 59])\n",
      "Before transform: torch.Size([1, 32, 585])\n",
      "After transform: torch.Size([32, 293, 59])\n",
      "Before transform: torch.Size([1, 32, 585])\n",
      "After transform: torch.Size([32, 293, 59])\n",
      "Before transform: torch.Size([1, 32, 585])\n",
      "After transform: torch.Size([32, 293, 59])\n",
      "Before transform: torch.Size([1, 32, 585])\n",
      "After transform: torch.Size([32, 293, 59])\n",
      "Before transform: torch.Size([1, 32, 585])\n",
      "After transform: torch.Size([32, 293, 59])\n",
      "Before transform: torch.Size([1, 32, 585])\n",
      "After transform: torch.Size([32, 293, 59])\n",
      "Before transform: torch.Size([1, 32, 585])\n",
      "After transform: torch.Size([32, 293, 59])\n",
      "Before transform: torch.Size([1, 32, 585])\n",
      "After transform: torch.Size([32, 293, 59])\n",
      "Before transform: torch.Size([1, 32, 585])\n",
      "After transform: torch.Size([32, 293, 59])\n",
      "Before transform: torch.Size([1, 32, 585])\n",
      "After transform: torch.Size([32, 293, 59])\n",
      "Before transform: torch.Size([1, 32, 585])\n",
      "After transform: torch.Size([32, 293, 59])\n",
      "Before transform: torch.Size([1, 32, 585])\n",
      "After transform: torch.Size([32, 293, 59])\n",
      "Before transform: torch.Size([1, 32, 585])\n",
      "After transform: torch.Size([32, 293, 59])\n",
      "Before transform: torch.Size([1, 32, 585])\n",
      "After transform: torch.Size([32, 293, 59])\n",
      "Before transform: torch.Size([1, 32, 585])\n",
      "After transform: torch.Size([32, 293, 59])\n",
      "Before transform: torch.Size([1, 32, 585])\n",
      "After transform: torch.Size([32, 293, 59])\n",
      "Before transform: torch.Size([1, 32, 585])\n"
     ]
    },
    {
     "name": "stderr",
     "output_type": "stream",
     "text": [
      " 40%|███▉      | 2382/5976 [00:35<00:48, 74.84it/s]"
     ]
    },
    {
     "name": "stdout",
     "output_type": "stream",
     "text": [
      "After transform: torch.Size([32, 293, 59])\n",
      "Before transform: torch.Size([1, 32, 585])\n",
      "After transform: torch.Size([32, 293, 59])\n",
      "Before transform: torch.Size([1, 32, 585])\n",
      "After transform: torch.Size([32, 293, 59])\n",
      "Before transform: torch.Size([1, 32, 585])\n",
      "After transform: torch.Size([32, 293, 59])\n",
      "Before transform: torch.Size([1, 32, 585])\n",
      "After transform: torch.Size([32, 293, 59])\n",
      "Before transform: torch.Size([1, 32, 585])\n",
      "After transform: torch.Size([32, 293, 59])\n",
      "Before transform: torch.Size([1, 32, 585])\n",
      "After transform: torch.Size([32, 293, 59])\n",
      "Before transform: torch.Size([1, 32, 585])\n",
      "After transform: torch.Size([32, 293, 59])\n",
      "Before transform: torch.Size([1, 32, 585])\n",
      "After transform: torch.Size([32, 293, 59])\n",
      "Before transform: torch.Size([1, 32, 585])\n"
     ]
    },
    {
     "name": "stderr",
     "output_type": "stream",
     "text": [
      " 40%|███▉      | 2390/5976 [00:36<01:10, 50.94it/s]"
     ]
    },
    {
     "name": "stdout",
     "output_type": "stream",
     "text": [
      "After transform: torch.Size([32, 293, 59])\n",
      "Before transform: torch.Size([1, 32, 585])\n",
      "After transform: torch.Size([32, 293, 59])\n",
      "Before transform: torch.Size([1, 32, 585])\n",
      "After transform: torch.Size([32, 293, 59])\n",
      "Before transform: torch.Size([1, 32, 585])\n",
      "After transform: torch.Size([32, 293, 59])\n",
      "Before transform: torch.Size([1, 32, 585])\n",
      "After transform: torch.Size([32, 293, 59])\n",
      "Before transform: torch.Size([1, 32, 585])\n",
      "After transform: torch.Size([32, 293, 59])\n",
      "Before transform: torch.Size([1, 32, 585])\n",
      "After transform: torch.Size([32, 293, 59])\n",
      "Before transform: torch.Size([1, 32, 585])\n",
      "After transform: torch.Size([32, 293, 59])\n",
      "Before transform: torch.Size([1, 32, 585])\n",
      "After transform: torch.Size([32, 293, 59])\n",
      "Before transform: torch.Size([1, 32, 585])\n"
     ]
    },
    {
     "name": "stderr",
     "output_type": "stream",
     "text": [
      " 40%|████      | 2404/5976 [00:36<01:05, 54.87it/s]"
     ]
    },
    {
     "name": "stdout",
     "output_type": "stream",
     "text": [
      "After transform: torch.Size([32, 293, 59])\n",
      "Before transform: torch.Size([1, 32, 585])\n",
      "After transform: torch.Size([32, 293, 59])\n",
      "Before transform: torch.Size([1, 32, 585])\n",
      "After transform: torch.Size([32, 293, 59])\n",
      "Before transform: torch.Size([1, 32, 585])\n",
      "After transform: torch.Size([32, 293, 59])\n",
      "Before transform: torch.Size([1, 32, 585])\n",
      "After transform: torch.Size([32, 293, 59])\n",
      "Before transform: torch.Size([1, 32, 585])\n",
      "After transform: torch.Size([32, 293, 59])\n",
      "Before transform: torch.Size([1, 32, 585])\n",
      "After transform: torch.Size([32, 293, 59])\n",
      "Before transform: torch.Size([1, 32, 585])\n",
      "After transform: torch.Size([32, 293, 59])\n",
      "Before transform: torch.Size([1, 32, 585])\n",
      "After transform: torch.Size([32, 293, 59])\n",
      "Before transform: torch.Size([1, 32, 585])\n",
      "After transform: torch.Size([32, 293, 59])\n",
      "Before transform: torch.Size([1, 32, 585])\n",
      "After transform: torch.Size([32, 293, 59])\n",
      "Before transform: torch.Size([1, 32, 585])\n",
      "After transform: torch.Size([32, 293, 59])\n",
      "Before transform: torch.Size([1, 32, 585])\n",
      "After transform: torch.Size([32, 293, 59])\n",
      "Before transform: torch.Size([1, 32, 585])\n"
     ]
    },
    {
     "name": "stderr",
     "output_type": "stream",
     "text": [
      " 40%|████      | 2411/5976 [00:36<01:17, 46.23it/s]"
     ]
    },
    {
     "name": "stdout",
     "output_type": "stream",
     "text": [
      "After transform: torch.Size([32, 293, 59])\n",
      "Before transform: torch.Size([1, 32, 585])\n",
      "After transform: torch.Size([32, 293, 59])\n",
      "Before transform: torch.Size([1, 32, 585])\n",
      "After transform: torch.Size([32, 293, 59])\n",
      "Before transform: torch.Size([1, 32, 585])\n",
      "After transform: torch.Size([32, 293, 59])\n",
      "Before transform: torch.Size([1, 32, 585])\n",
      "After transform: torch.Size([32, 293, 59])\n",
      "Before transform: torch.Size([1, 32, 585])\n",
      "After transform: torch.Size([32, 293, 59])\n",
      "Before transform: torch.Size([1, 32, 585])\n",
      "After transform: torch.Size([32, 293, 59])\n",
      "Before transform: torch.Size([1, 32, 585])\n"
     ]
    },
    {
     "name": "stderr",
     "output_type": "stream",
     "text": [
      " 41%|████      | 2422/5976 [00:36<01:17, 45.75it/s]"
     ]
    },
    {
     "name": "stdout",
     "output_type": "stream",
     "text": [
      "After transform: torch.Size([32, 293, 59])\n",
      "Before transform: torch.Size([1, 32, 585])\n",
      "After transform: torch.Size([32, 293, 59])\n",
      "Before transform: torch.Size([1, 32, 585])\n",
      "After transform: torch.Size([32, 293, 59])\n",
      "Before transform: torch.Size([1, 32, 585])\n",
      "After transform: torch.Size([32, 293, 59])\n",
      "Before transform: torch.Size([1, 32, 585])\n",
      "After transform: torch.Size([32, 293, 59])\n",
      "Before transform: torch.Size([1, 32, 585])\n",
      "After transform: torch.Size([32, 293, 59])\n",
      "Before transform: torch.Size([1, 32, 585])\n",
      "After transform: torch.Size([32, 293, 59])\n",
      "Before transform: torch.Size([1, 32, 585])\n",
      "After transform: torch.Size([32, 293, 59])\n",
      "Before transform: torch.Size([1, 32, 585])\n",
      "After transform: torch.Size([32, 293, 59])\n",
      "Before transform: torch.Size([1, 32, 585])\n",
      "After transform: torch.Size([32, 293, 59])\n",
      "Before transform: torch.Size([1, 32, 585])\n",
      "After transform: torch.Size([32, 293, 59])\n",
      "Before transform: torch.Size([1, 32, 585])\n"
     ]
    },
    {
     "name": "stderr",
     "output_type": "stream",
     "text": [
      " 41%|████      | 2436/5976 [00:37<01:04, 54.66it/s]"
     ]
    },
    {
     "name": "stdout",
     "output_type": "stream",
     "text": [
      "After transform: torch.Size([32, 293, 59])\n",
      "Before transform: torch.Size([1, 32, 585])\n",
      "After transform: torch.Size([32, 293, 59])\n",
      "Before transform: torch.Size([1, 32, 585])\n",
      "After transform: torch.Size([32, 293, 59])\n",
      "Before transform: torch.Size([1, 32, 585])\n",
      "After transform: torch.Size([32, 293, 59])\n",
      "Before transform: torch.Size([1, 32, 585])\n",
      "After transform: torch.Size([32, 293, 59])\n",
      "Before transform: torch.Size([1, 32, 585])\n",
      "After transform: torch.Size([32, 293, 59])\n",
      "Before transform: torch.Size([1, 32, 585])\n",
      "After transform: torch.Size([32, 293, 59])\n",
      "Before transform: torch.Size([1, 32, 585])\n",
      "After transform: torch.Size([32, 293, 59])\n",
      "Before transform: torch.Size([1, 32, 585])\n",
      "After transform: torch.Size([32, 293, 59])\n",
      "Before transform: torch.Size([1, 32, 585])\n",
      "After transform: torch.Size([32, 293, 59])\n",
      "Before transform: torch.Size([1, 32, 585])\n",
      "After transform: torch.Size([32, 293, 59])\n",
      "Before transform: torch.Size([1, 32, 585])\n",
      "After transform: torch.Size([32, 293, 59])\n",
      "Before transform: torch.Size([1, 32, 585])\n",
      "After transform: torch.Size([32, 293, 59])\n",
      "Before transform: torch.Size([1, 32, 585])\n",
      "After transform: torch.Size([32, 293, 59])\n",
      "Before transform: torch.Size([1, 32, 585])\n",
      "After transform: torch.Size([32, 293, 59])\n",
      "Before transform: torch.Size([1, 32, 585])\n"
     ]
    },
    {
     "name": "stderr",
     "output_type": "stream",
     "text": [
      " 41%|████      | 2442/5976 [00:37<01:17, 45.35it/s]"
     ]
    },
    {
     "name": "stdout",
     "output_type": "stream",
     "text": [
      "After transform: torch.Size([32, 293, 59])\n",
      "Before transform: torch.Size([1, 32, 585])\n",
      "After transform: torch.Size([32, 293, 59])\n",
      "Before transform: torch.Size([1, 32, 585])\n",
      "After transform: torch.Size([32, 293, 59])\n",
      "Before transform: torch.Size([1, 32, 585])\n",
      "After transform: torch.Size([32, 293, 59])\n",
      "Before transform: torch.Size([1, 32, 585])\n",
      "After transform: torch.Size([32, 293, 59])\n",
      "Before transform: torch.Size([1, 32, 585])\n",
      "After transform: torch.Size([32, 293, 59])\n",
      "Before transform: torch.Size([1, 32, 585])\n"
     ]
    },
    {
     "name": "stderr",
     "output_type": "stream",
     "text": [
      " 41%|████      | 2455/5976 [00:37<01:06, 52.93it/s]"
     ]
    },
    {
     "name": "stdout",
     "output_type": "stream",
     "text": [
      "After transform: torch.Size([32, 293, 59])\n",
      "Before transform: torch.Size([1, 32, 585])\n",
      "After transform: torch.Size([32, 293, 59])\n",
      "Before transform: torch.Size([1, 32, 585])\n",
      "After transform: torch.Size([32, 293, 59])\n",
      "Before transform: torch.Size([1, 32, 585])\n",
      "After transform: torch.Size([32, 293, 59])\n",
      "Before transform: torch.Size([1, 32, 585])\n",
      "After transform: torch.Size([32, 293, 59])\n",
      "Before transform: torch.Size([1, 32, 585])\n",
      "After transform: torch.Size([32, 293, 59])\n",
      "Before transform: torch.Size([1, 32, 585])\n",
      "After transform: torch.Size([32, 293, 59])\n",
      "Before transform: torch.Size([1, 32, 585])\n",
      "After transform: torch.Size([32, 293, 59])\n",
      "Before transform: torch.Size([1, 32, 585])\n",
      "After transform: torch.Size([32, 293, 59])\n",
      "Before transform: torch.Size([1, 32, 585])\n",
      "After transform: torch.Size([32, 293, 59])\n",
      "Before transform: torch.Size([1, 32, 585])\n",
      "After transform: torch.Size([32, 293, 59])\n",
      "Before transform: torch.Size([1, 32, 585])\n",
      "After transform: torch.Size([32, 293, 59])\n",
      "Before transform: torch.Size([1, 32, 585])\n",
      "After transform: torch.Size([32, 293, 59])\n",
      "Before transform: torch.Size([1, 32, 585])\n",
      "After transform: torch.Size([32, 293, 59])\n",
      "Before transform: torch.Size([1, 32, 585])\n"
     ]
    },
    {
     "name": "stderr",
     "output_type": "stream",
     "text": [
      " 41%|████      | 2461/5976 [00:37<01:15, 46.46it/s]"
     ]
    },
    {
     "name": "stdout",
     "output_type": "stream",
     "text": [
      "After transform: torch.Size([32, 293, 59])\n",
      "Before transform: torch.Size([1, 32, 585])\n",
      "After transform: torch.Size([32, 293, 59])\n",
      "Before transform: torch.Size([1, 32, 585])\n",
      "After transform: torch.Size([32, 293, 59])\n",
      "Before transform: torch.Size([1, 32, 585])\n",
      "After transform: torch.Size([32, 293, 59])\n",
      "Before transform: torch.Size([1, 32, 585])\n"
     ]
    },
    {
     "name": "stderr",
     "output_type": "stream",
     "text": [
      " 41%|████▏     | 2474/5976 [00:37<01:14, 47.20it/s]"
     ]
    },
    {
     "name": "stdout",
     "output_type": "stream",
     "text": [
      "After transform: torch.Size([32, 293, 59])\n",
      "Before transform: torch.Size([1, 32, 585])\n",
      "After transform: torch.Size([32, 293, 59])\n",
      "Before transform: torch.Size([1, 32, 585])\n",
      "After transform: torch.Size([32, 293, 59])\n",
      "Before transform: torch.Size([1, 32, 585])\n",
      "After transform: torch.Size([32, 293, 59])\n",
      "Before transform: torch.Size([1, 32, 585])\n",
      "After transform: torch.Size([32, 293, 59])\n",
      "Before transform: torch.Size([1, 32, 585])\n",
      "After transform: torch.Size([32, 293, 59])\n",
      "Before transform: torch.Size([1, 32, 585])\n",
      "After transform: torch.Size([32, 293, 59])\n",
      "Before transform: torch.Size([1, 32, 585])\n",
      "After transform: torch.Size([32, 293, 59])\n",
      "Before transform: torch.Size([1, 32, 585])\n",
      "After transform: torch.Size([32, 293, 59])\n",
      "Before transform: torch.Size([1, 32, 585])\n",
      "After transform: torch.Size([32, 293, 59])\n",
      "Before transform: torch.Size([1, 32, 585])\n",
      "After transform: torch.Size([32, 293, 59])\n",
      "Before transform: torch.Size([1, 32, 585])\n",
      "After transform: torch.Size([32, 293, 59])\n",
      "Before transform: torch.Size([1, 32, 585])\n",
      "After transform: torch.Size([32, 293, 59])\n",
      "Before transform: torch.Size([1, 32, 585])\n"
     ]
    },
    {
     "name": "stderr",
     "output_type": "stream",
     "text": [
      " 42%|████▏     | 2481/5976 [00:38<01:08, 51.18it/s]"
     ]
    },
    {
     "name": "stdout",
     "output_type": "stream",
     "text": [
      "After transform: torch.Size([32, 293, 59])\n",
      "Before transform: torch.Size([1, 32, 585])\n",
      "After transform: torch.Size([32, 293, 59])\n",
      "Before transform: torch.Size([1, 32, 585])\n",
      "After transform: torch.Size([32, 293, 59])\n",
      "Before transform: torch.Size([1, 32, 585])\n",
      "After transform: torch.Size([32, 293, 59])\n",
      "Before transform: torch.Size([1, 32, 585])\n",
      "After transform: torch.Size([32, 293, 59])\n",
      "Before transform: torch.Size([1, 32, 585])\n",
      "After transform: torch.Size([32, 293, 59])\n",
      "Before transform: torch.Size([1, 32, 585])\n",
      "After transform: torch.Size([32, 293, 59])\n",
      "Before transform: torch.Size([1, 32, 585])\n",
      "After transform: torch.Size([32, 293, 59])\n",
      "Before transform: torch.Size([1, 32, 585])\n",
      "After transform: torch.Size([32, 293, 59])\n",
      "Before transform: torch.Size([1, 32, 585])\n"
     ]
    },
    {
     "name": "stderr",
     "output_type": "stream",
     "text": [
      " 42%|████▏     | 2487/5976 [00:38<01:43, 33.70it/s]"
     ]
    },
    {
     "name": "stdout",
     "output_type": "stream",
     "text": [
      "After transform: torch.Size([32, 293, 59])\n",
      "Before transform: torch.Size([1, 32, 585])\n",
      "After transform: torch.Size([32, 293, 59])\n",
      "Before transform: torch.Size([1, 32, 585])\n",
      "After transform: torch.Size([32, 293, 59])\n",
      "Before transform: torch.Size([1, 32, 585])\n",
      "After transform: torch.Size([32, 293, 59])\n",
      "Before transform: torch.Size([1, 32, 585])\n"
     ]
    },
    {
     "name": "stderr",
     "output_type": "stream",
     "text": [
      " 42%|████▏     | 2492/5976 [00:38<02:22, 24.53it/s]"
     ]
    },
    {
     "name": "stdout",
     "output_type": "stream",
     "text": [
      "After transform: torch.Size([32, 293, 59])\n",
      "Before transform: torch.Size([1, 32, 585])\n",
      "After transform: torch.Size([32, 293, 59])\n",
      "Before transform: torch.Size([1, 32, 585])\n",
      "After transform: torch.Size([32, 293, 59])\n",
      "Before transform: torch.Size([1, 32, 585])\n",
      "After transform: torch.Size([32, 293, 59])\n",
      "Before transform: torch.Size([1, 32, 585])\n",
      "After transform: torch.Size([32, 293, 59])\n",
      "Before transform: torch.Size([1, 32, 585])\n",
      "After transform: torch.Size([32, 293, 59])\n",
      "Before transform: torch.Size([1, 32, 585])\n"
     ]
    },
    {
     "name": "stderr",
     "output_type": "stream",
     "text": [
      " 42%|████▏     | 2496/5976 [00:38<02:19, 24.90it/s]"
     ]
    },
    {
     "name": "stdout",
     "output_type": "stream",
     "text": [
      "After transform: torch.Size([32, 293, 59])\n",
      "Before transform: torch.Size([1, 32, 585])\n",
      "After transform: torch.Size([32, 293, 59])\n",
      "Before transform: torch.Size([1, 32, 585])\n",
      "After transform: torch.Size([32, 293, 59])\n",
      "Before transform: torch.Size([1, 32, 585])\n",
      "After transform: torch.Size([32, 293, 59])\n",
      "Before transform: torch.Size([1, 32, 585])\n"
     ]
    },
    {
     "name": "stderr",
     "output_type": "stream",
     "text": [
      " 42%|████▏     | 2505/5976 [00:39<02:05, 27.67it/s]"
     ]
    },
    {
     "name": "stdout",
     "output_type": "stream",
     "text": [
      "After transform: torch.Size([32, 293, 59])\n",
      "Before transform: torch.Size([1, 32, 585])\n",
      "After transform: torch.Size([32, 293, 59])\n",
      "Before transform: torch.Size([1, 32, 585])\n",
      "After transform: torch.Size([32, 293, 59])\n",
      "Before transform: torch.Size([1, 32, 585])\n",
      "After transform: torch.Size([32, 293, 59])\n",
      "Before transform: torch.Size([1, 32, 585])\n",
      "After transform: torch.Size([32, 293, 59])\n",
      "Before transform: torch.Size([1, 32, 585])\n",
      "After transform: torch.Size([32, 293, 59])\n",
      "Before transform: torch.Size([1, 32, 585])\n",
      "After transform: torch.Size([32, 293, 59])\n",
      "Before transform: torch.Size([1, 32, 585])\n",
      "After transform: torch.Size([32, 293, 59])\n",
      "Before transform: torch.Size([1, 32, 585])\n",
      "After transform: torch.Size([32, 293, 59])\n",
      "Before transform: torch.Size([1, 32, 585])\n",
      "After transform: torch.Size([32, 293, 59])\n",
      "Before transform: torch.Size([1, 32, 585])\n"
     ]
    },
    {
     "name": "stderr",
     "output_type": "stream",
     "text": [
      " 42%|████▏     | 2517/5976 [00:39<01:29, 38.54it/s]"
     ]
    },
    {
     "name": "stdout",
     "output_type": "stream",
     "text": [
      "After transform: torch.Size([32, 293, 59])\n",
      "Before transform: torch.Size([1, 32, 585])\n",
      "After transform: torch.Size([32, 293, 59])\n",
      "Before transform: torch.Size([1, 32, 585])\n",
      "After transform: torch.Size([32, 293, 59])\n",
      "Before transform: torch.Size([1, 32, 585])\n",
      "After transform: torch.Size([32, 293, 59])\n",
      "Before transform: torch.Size([1, 32, 585])\n",
      "After transform: torch.Size([32, 293, 59])\n",
      "Before transform: torch.Size([1, 32, 585])\n",
      "After transform: torch.Size([32, 293, 59])\n",
      "Before transform: torch.Size([1, 32, 585])\n",
      "After transform: torch.Size([32, 293, 59])\n",
      "Before transform: torch.Size([1, 32, 585])\n",
      "After transform: torch.Size([32, 293, 59])\n",
      "Before transform: torch.Size([1, 32, 585])\n",
      "After transform: torch.Size([32, 293, 59])\n",
      "Before transform: torch.Size([1, 32, 585])\n",
      "After transform: torch.Size([32, 293, 59])\n",
      "Before transform: torch.Size([1, 32, 585])\n",
      "After transform: torch.Size([32, 293, 59])\n",
      "Before transform: torch.Size([1, 32, 585])\n"
     ]
    },
    {
     "name": "stderr",
     "output_type": "stream",
     "text": [
      " 42%|████▏     | 2528/5976 [00:39<01:20, 42.91it/s]"
     ]
    },
    {
     "name": "stdout",
     "output_type": "stream",
     "text": [
      "After transform: torch.Size([32, 293, 59])\n",
      "Before transform: torch.Size([1, 32, 585])\n",
      "After transform: torch.Size([32, 293, 59])\n",
      "Before transform: torch.Size([1, 32, 585])\n",
      "After transform: torch.Size([32, 293, 59])\n",
      "Before transform: torch.Size([1, 32, 585])\n",
      "After transform: torch.Size([32, 293, 59])\n",
      "Before transform: torch.Size([1, 32, 585])\n",
      "After transform: torch.Size([32, 293, 59])\n",
      "Before transform: torch.Size([1, 32, 585])\n",
      "After transform: torch.Size([32, 293, 59])\n",
      "Before transform: torch.Size([1, 32, 585])\n",
      "After transform: torch.Size([32, 293, 59])\n",
      "Before transform: torch.Size([1, 32, 585])\n",
      "After transform: torch.Size([32, 293, 59])\n",
      "Before transform: torch.Size([1, 32, 585])\n",
      "After transform: torch.Size([32, 293, 59])\n",
      "Before transform: torch.Size([1, 32, 585])\n",
      "After transform: torch.Size([32, 293, 59])\n",
      "Before transform: torch.Size([1, 32, 585])\n"
     ]
    },
    {
     "name": "stderr",
     "output_type": "stream",
     "text": [
      " 42%|████▏     | 2533/5976 [00:39<01:19, 43.34it/s]"
     ]
    },
    {
     "name": "stdout",
     "output_type": "stream",
     "text": [
      "After transform: torch.Size([32, 293, 59])\n",
      "Before transform: torch.Size([1, 32, 585])\n",
      "After transform: torch.Size([32, 293, 59])\n",
      "Before transform: torch.Size([1, 32, 585])\n",
      "After transform: torch.Size([32, 293, 59])\n",
      "Before transform: torch.Size([1, 32, 585])\n",
      "After transform: torch.Size([32, 293, 59])\n",
      "Before transform: torch.Size([1, 32, 585])\n",
      "After transform: torch.Size([32, 293, 59])\n",
      "Before transform: torch.Size([1, 32, 585])\n"
     ]
    },
    {
     "name": "stderr",
     "output_type": "stream",
     "text": [
      " 43%|████▎     | 2545/5976 [00:40<01:30, 37.79it/s]"
     ]
    },
    {
     "name": "stdout",
     "output_type": "stream",
     "text": [
      "After transform: torch.Size([32, 293, 59])\n",
      "Before transform: torch.Size([1, 32, 585])\n",
      "After transform: torch.Size([32, 293, 59])\n",
      "Before transform: torch.Size([1, 32, 585])\n",
      "After transform: torch.Size([32, 293, 59])\n",
      "Before transform: torch.Size([1, 32, 585])\n",
      "After transform: torch.Size([32, 293, 59])\n",
      "Before transform: torch.Size([1, 32, 585])\n",
      "After transform: torch.Size([32, 293, 59])\n",
      "Before transform: torch.Size([1, 32, 585])\n",
      "After transform: torch.Size([32, 293, 59])\n",
      "Before transform: torch.Size([1, 32, 585])\n",
      "After transform: torch.Size([32, 293, 59])\n",
      "Before transform: torch.Size([1, 32, 585])\n",
      "After transform: torch.Size([32, 293, 59])\n",
      "Before transform: torch.Size([1, 32, 585])\n",
      "After transform: torch.Size([32, 293, 59])\n",
      "Before transform: torch.Size([1, 32, 585])\n",
      "After transform: torch.Size([32, 293, 59])\n",
      "Before transform: torch.Size([1, 32, 585])\n",
      "After transform: torch.Size([32, 293, 59])\n",
      "Before transform: torch.Size([1, 32, 585])\n",
      "After transform: torch.Size([32, 293, 59])\n",
      "Before transform: torch.Size([1, 32, 585])\n"
     ]
    },
    {
     "name": "stderr",
     "output_type": "stream",
     "text": [
      " 43%|████▎     | 2560/5976 [00:40<01:06, 51.72it/s]"
     ]
    },
    {
     "name": "stdout",
     "output_type": "stream",
     "text": [
      "After transform: torch.Size([32, 293, 59])\n",
      "Before transform: torch.Size([1, 32, 585])\n",
      "After transform: torch.Size([32, 293, 59])\n",
      "Before transform: torch.Size([1, 32, 585])\n",
      "After transform: torch.Size([32, 293, 59])\n",
      "Before transform: torch.Size([1, 32, 585])\n",
      "After transform: torch.Size([32, 293, 59])\n",
      "Before transform: torch.Size([1, 32, 585])\n",
      "After transform: torch.Size([32, 293, 59])\n",
      "Before transform: torch.Size([1, 32, 585])\n",
      "After transform: torch.Size([32, 293, 59])\n",
      "Before transform: torch.Size([1, 32, 585])\n",
      "After transform: torch.Size([32, 293, 59])\n",
      "Before transform: torch.Size([1, 32, 585])\n",
      "After transform: torch.Size([32, 293, 59])\n",
      "Before transform: torch.Size([1, 32, 585])\n",
      "After transform: torch.Size([32, 293, 59])\n",
      "Before transform: torch.Size([1, 32, 585])\n",
      "After transform: torch.Size([32, 293, 59])\n",
      "Before transform: torch.Size([1, 32, 585])\n",
      "After transform: torch.Size([32, 293, 59])\n",
      "Before transform: torch.Size([1, 32, 585])\n",
      "After transform: torch.Size([32, 293, 59])\n",
      "Before transform: torch.Size([1, 32, 585])\n",
      "After transform: torch.Size([32, 293, 59])\n",
      "Before transform: torch.Size([1, 32, 585])\n",
      "After transform: torch.Size([32, 293, 59])\n",
      "Before transform: torch.Size([1, 32, 585])\n"
     ]
    },
    {
     "name": "stderr",
     "output_type": "stream",
     "text": [
      " 43%|████▎     | 2575/5976 [00:40<00:56, 59.90it/s]"
     ]
    },
    {
     "name": "stdout",
     "output_type": "stream",
     "text": [
      "After transform: torch.Size([32, 293, 59])\n",
      "Before transform: torch.Size([1, 32, 585])\n",
      "After transform: torch.Size([32, 293, 59])\n",
      "Before transform: torch.Size([1, 32, 585])\n",
      "After transform: torch.Size([32, 293, 59])\n",
      "Before transform: torch.Size([1, 32, 585])\n",
      "After transform: torch.Size([32, 293, 59])\n",
      "Before transform: torch.Size([1, 32, 585])\n",
      "After transform: torch.Size([32, 293, 59])\n",
      "Before transform: torch.Size([1, 32, 585])\n",
      "After transform: torch.Size([32, 293, 59])\n",
      "Before transform: torch.Size([1, 32, 585])\n",
      "After transform: torch.Size([32, 293, 59])\n",
      "Before transform: torch.Size([1, 32, 585])\n",
      "After transform: torch.Size([32, 293, 59])\n",
      "Before transform: torch.Size([1, 32, 585])\n",
      "After transform: torch.Size([32, 293, 59])\n",
      "Before transform: torch.Size([1, 32, 585])\n",
      "After transform: torch.Size([32, 293, 59])\n",
      "Before transform: torch.Size([1, 32, 585])\n",
      "After transform: torch.Size([32, 293, 59])\n",
      "Before transform: torch.Size([1, 32, 585])\n",
      "After transform: torch.Size([32, 293, 59])\n",
      "Before transform: torch.Size([1, 32, 585])\n",
      "After transform: torch.Size([32, 293, 59])\n",
      "Before transform: torch.Size([1, 32, 585])\n",
      "After transform: torch.Size([32, 293, 59])\n",
      "Before transform: torch.Size([1, 32, 585])\n",
      "After transform: torch.Size([32, 293, 59])\n",
      "Before transform: torch.Size([1, 32, 585])\n"
     ]
    },
    {
     "name": "stderr",
     "output_type": "stream",
     "text": [
      " 43%|████▎     | 2583/5976 [00:40<00:53, 63.32it/s]"
     ]
    },
    {
     "name": "stdout",
     "output_type": "stream",
     "text": [
      "After transform: torch.Size([32, 293, 59])\n",
      "Before transform: torch.Size([1, 32, 585])\n",
      "After transform: torch.Size([32, 293, 59])\n",
      "Before transform: torch.Size([1, 32, 585])\n",
      "After transform: torch.Size([32, 293, 59])\n",
      "Before transform: torch.Size([1, 32, 585])\n",
      "After transform: torch.Size([32, 293, 59])\n",
      "Before transform: torch.Size([1, 32, 585])\n",
      "After transform: torch.Size([32, 293, 59])\n",
      "Before transform: torch.Size([1, 32, 585])\n",
      "After transform: torch.Size([32, 293, 59])\n",
      "Before transform: torch.Size([1, 32, 585])\n",
      "After transform: torch.Size([32, 293, 59])\n",
      "Before transform: torch.Size([1, 32, 585])\n",
      "After transform: torch.Size([32, 293, 59])\n",
      "Before transform: torch.Size([1, 32, 585])\n",
      "After transform: torch.Size([32, 293, 59])\n",
      "Before transform: torch.Size([1, 32, 585])\n",
      "After transform: torch.Size([32, 293, 59])\n",
      "Before transform: torch.Size([1, 32, 585])\n",
      "After transform: torch.Size([32, 293, 59])\n",
      "Before transform: torch.Size([1, 32, 585])\n",
      "After transform: torch.Size([32, 293, 59])\n",
      "Before transform: torch.Size([1, 32, 585])\n",
      "After transform: torch.Size([32, 293, 59])\n",
      "Before transform: torch.Size([1, 32, 585])\n",
      "After transform: torch.Size([32, 293, 59])\n",
      "Before transform: torch.Size([1, 32, 585])\n",
      "After transform: torch.Size([32, 293, 59])\n",
      "Before transform: torch.Size([1, 32, 585])\n"
     ]
    },
    {
     "name": "stderr",
     "output_type": "stream",
     "text": [
      " 43%|████▎     | 2591/5976 [00:40<00:50, 67.02it/s]"
     ]
    },
    {
     "name": "stdout",
     "output_type": "stream",
     "text": [
      "After transform: torch.Size([32, 293, 59])\n",
      "Before transform: torch.Size([1, 32, 585])\n",
      "After transform: torch.Size([32, 293, 59])\n",
      "Before transform: torch.Size([1, 32, 585])\n",
      "After transform: torch.Size([32, 293, 59])\n",
      "Before transform: torch.Size([1, 32, 585])\n",
      "After transform: torch.Size([32, 293, 59])\n",
      "Before transform: torch.Size([1, 32, 585])\n",
      "After transform: torch.Size([32, 293, 59])\n",
      "Before transform: torch.Size([1, 32, 585])\n",
      "After transform: torch.Size([32, 293, 59])\n",
      "Before transform: torch.Size([1, 32, 585])\n",
      "After transform: torch.Size([32, 293, 59])\n",
      "Before transform: torch.Size([1, 32, 585])\n"
     ]
    },
    {
     "name": "stderr",
     "output_type": "stream",
     "text": [
      " 44%|████▎     | 2604/5976 [00:41<01:03, 53.11it/s]"
     ]
    },
    {
     "name": "stdout",
     "output_type": "stream",
     "text": [
      "After transform: torch.Size([32, 293, 59])\n",
      "Before transform: torch.Size([1, 32, 585])\n",
      "After transform: torch.Size([32, 293, 59])\n",
      "Before transform: torch.Size([1, 32, 585])\n",
      "After transform: torch.Size([32, 293, 59])\n",
      "Before transform: torch.Size([1, 32, 585])\n",
      "After transform: torch.Size([32, 293, 59])\n",
      "Before transform: torch.Size([1, 32, 585])\n",
      "After transform: torch.Size([32, 293, 59])\n",
      "Before transform: torch.Size([1, 32, 585])\n",
      "After transform: torch.Size([32, 293, 59])\n",
      "Before transform: torch.Size([1, 32, 585])\n",
      "After transform: torch.Size([32, 293, 59])\n",
      "Before transform: torch.Size([1, 32, 585])\n",
      "After transform: torch.Size([32, 293, 59])\n",
      "Before transform: torch.Size([1, 32, 585])\n",
      "After transform: torch.Size([32, 293, 59])\n",
      "Before transform: torch.Size([1, 32, 585])\n",
      "After transform: torch.Size([32, 293, 59])\n",
      "Before transform: torch.Size([1, 32, 585])\n",
      "After transform: torch.Size([32, 293, 59])\n",
      "Before transform: torch.Size([1, 32, 585])\n",
      "After transform: torch.Size([32, 293, 59])\n",
      "Before transform: torch.Size([1, 32, 585])\n",
      "After transform: torch.Size([32, 293, 59])\n",
      "Before transform: torch.Size([1, 32, 585])\n",
      "After transform: torch.Size([32, 293, 59])\n",
      "Before transform: torch.Size([1, 32, 585])\n",
      "After transform: torch.Size([32, 293, 59])\n",
      "Before transform: torch.Size([1, 32, 585])\n"
     ]
    },
    {
     "name": "stderr",
     "output_type": "stream",
     "text": [
      " 44%|████▍     | 2620/5976 [00:41<00:54, 61.94it/s]"
     ]
    },
    {
     "name": "stdout",
     "output_type": "stream",
     "text": [
      "After transform: torch.Size([32, 293, 59])\n",
      "Before transform: torch.Size([1, 32, 585])\n",
      "After transform: torch.Size([32, 293, 59])\n",
      "Before transform: torch.Size([1, 32, 585])\n",
      "After transform: torch.Size([32, 293, 59])\n",
      "Before transform: torch.Size([1, 32, 585])\n",
      "After transform: torch.Size([32, 293, 59])\n",
      "Before transform: torch.Size([1, 32, 585])\n",
      "After transform: torch.Size([32, 293, 59])\n",
      "Before transform: torch.Size([1, 32, 585])\n",
      "After transform: torch.Size([32, 293, 59])\n",
      "Before transform: torch.Size([1, 32, 585])\n",
      "After transform: torch.Size([32, 293, 59])\n",
      "Before transform: torch.Size([1, 32, 585])\n",
      "After transform: torch.Size([32, 293, 59])\n",
      "Before transform: torch.Size([1, 32, 585])\n",
      "After transform: torch.Size([32, 293, 59])\n",
      "Before transform: torch.Size([1, 32, 585])\n",
      "After transform: torch.Size([32, 293, 59])\n",
      "Before transform: torch.Size([1, 32, 585])\n",
      "After transform: torch.Size([32, 293, 59])\n",
      "Before transform: torch.Size([1, 32, 585])\n",
      "After transform: torch.Size([32, 293, 59])\n",
      "Before transform: torch.Size([1, 32, 585])\n",
      "After transform: torch.Size([32, 293, 59])\n",
      "Before transform: torch.Size([1, 32, 585])\n",
      "After transform: torch.Size([32, 293, 59])\n",
      "Before transform: torch.Size([1, 32, 585])\n",
      "After transform: torch.Size([32, 293, 59])\n",
      "Before transform: torch.Size([1, 32, 585])\n",
      "After transform: torch.Size([32, 293, 59])\n",
      "Before transform: torch.Size([1, 32, 585])\n",
      "After transform: torch.Size([32, 293, 59])\n",
      "Before transform: torch.Size([1, 32, 585])\n"
     ]
    },
    {
     "name": "stderr",
     "output_type": "stream",
     "text": [
      " 44%|████▍     | 2638/5976 [00:41<00:51, 64.87it/s]"
     ]
    },
    {
     "name": "stdout",
     "output_type": "stream",
     "text": [
      "After transform: torch.Size([32, 293, 59])\n",
      "Before transform: torch.Size([1, 32, 585])\n",
      "After transform: torch.Size([32, 293, 59])\n",
      "Before transform: torch.Size([1, 32, 585])\n",
      "After transform: torch.Size([32, 293, 59])\n",
      "Before transform: torch.Size([1, 32, 585])\n",
      "After transform: torch.Size([32, 293, 59])\n",
      "Before transform: torch.Size([1, 32, 585])\n",
      "After transform: torch.Size([32, 293, 59])\n",
      "Before transform: torch.Size([1, 32, 585])\n",
      "After transform: torch.Size([32, 293, 59])\n",
      "Before transform: torch.Size([1, 32, 585])\n",
      "After transform: torch.Size([32, 293, 59])\n",
      "Before transform: torch.Size([1, 32, 585])\n",
      "After transform: torch.Size([32, 293, 59])\n",
      "Before transform: torch.Size([1, 32, 585])\n",
      "After transform: torch.Size([32, 293, 59])\n",
      "Before transform: torch.Size([1, 32, 585])\n",
      "After transform: torch.Size([32, 293, 59])\n",
      "Before transform: torch.Size([1, 32, 585])\n",
      "After transform: torch.Size([32, 293, 59])\n",
      "Before transform: torch.Size([1, 32, 585])\n",
      "After transform: torch.Size([32, 293, 59])\n",
      "Before transform: torch.Size([1, 32, 585])\n"
     ]
    },
    {
     "name": "stderr",
     "output_type": "stream",
     "text": [
      " 44%|████▍     | 2645/5976 [00:41<01:09, 47.82it/s]"
     ]
    },
    {
     "name": "stdout",
     "output_type": "stream",
     "text": [
      "After transform: torch.Size([32, 293, 59])\n",
      "Before transform: torch.Size([1, 32, 585])\n",
      "After transform: torch.Size([32, 293, 59])\n",
      "Before transform: torch.Size([1, 32, 585])\n",
      "After transform: torch.Size([32, 293, 59])\n",
      "Before transform: torch.Size([1, 32, 585])\n",
      "After transform: torch.Size([32, 293, 59])\n",
      "Before transform: torch.Size([1, 32, 585])\n"
     ]
    },
    {
     "name": "stderr",
     "output_type": "stream",
     "text": [
      " 44%|████▍     | 2651/5976 [00:42<01:14, 44.36it/s]"
     ]
    },
    {
     "name": "stdout",
     "output_type": "stream",
     "text": [
      "After transform: torch.Size([32, 293, 59])\n",
      "Before transform: torch.Size([1, 32, 585])\n",
      "After transform: torch.Size([32, 293, 59])\n",
      "Before transform: torch.Size([1, 32, 585])\n",
      "After transform: torch.Size([32, 293, 59])\n",
      "Before transform: torch.Size([1, 32, 585])\n",
      "After transform: torch.Size([32, 293, 59])\n",
      "Before transform: torch.Size([1, 32, 585])\n",
      "After transform: torch.Size([32, 293, 59])\n",
      "Before transform: torch.Size([1, 32, 585])\n",
      "After transform: torch.Size([32, 293, 59])\n",
      "Before transform: torch.Size([1, 32, 585])\n",
      "After transform: torch.Size([32, 293, 59])\n",
      "Before transform: torch.Size([1, 32, 585])\n",
      "After transform: torch.Size([32, 293, 59])\n",
      "Before transform: torch.Size([1, 32, 585])\n"
     ]
    },
    {
     "name": "stderr",
     "output_type": "stream",
     "text": [
      " 44%|████▍     | 2656/5976 [00:42<01:26, 38.51it/s]"
     ]
    },
    {
     "name": "stdout",
     "output_type": "stream",
     "text": [
      "After transform: torch.Size([32, 293, 59])\n",
      "Before transform: torch.Size([1, 32, 585])\n",
      "After transform: torch.Size([32, 293, 59])\n",
      "Before transform: torch.Size([1, 32, 585])\n",
      "After transform: torch.Size([32, 293, 59])\n",
      "Before transform: torch.Size([1, 32, 585])\n",
      "After transform: torch.Size([32, 293, 59])\n",
      "Before transform: torch.Size([1, 32, 585])\n",
      "After transform: torch.Size([32, 293, 59])\n",
      "Before transform: torch.Size([1, 32, 585])\n",
      "After transform: torch.Size([32, 293, 59])\n",
      "Before transform: torch.Size([1, 32, 585])\n",
      "After transform: torch.Size([32, 293, 59])\n",
      "Before transform: torch.Size([1, 32, 585])\n"
     ]
    },
    {
     "name": "stderr",
     "output_type": "stream",
     "text": [
      " 45%|████▍     | 2666/5976 [00:42<01:19, 41.60it/s]"
     ]
    },
    {
     "name": "stdout",
     "output_type": "stream",
     "text": [
      "After transform: torch.Size([32, 293, 59])\n",
      "Before transform: torch.Size([1, 32, 585])\n",
      "After transform: torch.Size([32, 293, 59])\n",
      "Before transform: torch.Size([1, 32, 585])\n",
      "After transform: torch.Size([32, 293, 59])\n",
      "Before transform: torch.Size([1, 32, 585])\n",
      "After transform: torch.Size([32, 293, 59])\n",
      "Before transform: torch.Size([1, 32, 585])\n",
      "After transform: torch.Size([32, 293, 59])\n",
      "Before transform: torch.Size([1, 32, 585])\n",
      "After transform: torch.Size([32, 293, 59])\n",
      "Before transform: torch.Size([1, 32, 585])\n",
      "After transform: torch.Size([32, 293, 59])\n",
      "Before transform: torch.Size([1, 32, 585])\n",
      "After transform: torch.Size([32, 293, 59])\n",
      "Before transform: torch.Size([1, 32, 585])\n",
      "After transform: torch.Size([32, 293, 59])\n",
      "Before transform: torch.Size([1, 32, 585])\n",
      "After transform: torch.Size([32, 293, 59])\n",
      "Before transform: torch.Size([1, 32, 585])\n",
      "After transform: torch.Size([32, 293, 59])\n",
      "Before transform: torch.Size([1, 32, 585])\n"
     ]
    },
    {
     "name": "stderr",
     "output_type": "stream",
     "text": [
      " 45%|████▍     | 2677/5976 [00:42<01:14, 44.47it/s]"
     ]
    },
    {
     "name": "stdout",
     "output_type": "stream",
     "text": [
      "After transform: torch.Size([32, 293, 59])\n",
      "Before transform: torch.Size([1, 32, 585])\n",
      "After transform: torch.Size([32, 293, 59])\n",
      "Before transform: torch.Size([1, 32, 585])\n",
      "After transform: torch.Size([32, 293, 59])\n",
      "Before transform: torch.Size([1, 32, 585])\n",
      "After transform: torch.Size([32, 293, 59])\n",
      "Before transform: torch.Size([1, 32, 585])\n",
      "After transform: torch.Size([32, 293, 59])\n",
      "Before transform: torch.Size([1, 32, 585])\n",
      "After transform: torch.Size([32, 293, 59])\n",
      "Before transform: torch.Size([1, 32, 585])\n",
      "After transform: torch.Size([32, 293, 59])\n",
      "Before transform: torch.Size([1, 32, 585])\n",
      "After transform: torch.Size([32, 293, 59])\n",
      "Before transform: torch.Size([1, 32, 585])\n",
      "After transform: torch.Size([32, 293, 59])\n",
      "Before transform: torch.Size([1, 32, 585])\n",
      "After transform: torch.Size([32, 293, 59])\n",
      "Before transform: torch.Size([1, 32, 585])\n",
      "After transform: torch.Size([32, 293, 59])\n",
      "Before transform: torch.Size([1, 32, 585])\n"
     ]
    },
    {
     "name": "stderr",
     "output_type": "stream",
     "text": [
      " 45%|████▍     | 2688/5976 [00:42<01:17, 42.38it/s]"
     ]
    },
    {
     "name": "stdout",
     "output_type": "stream",
     "text": [
      "After transform: torch.Size([32, 293, 59])\n",
      "Before transform: torch.Size([1, 32, 585])\n",
      "After transform: torch.Size([32, 293, 59])\n",
      "Before transform: torch.Size([1, 32, 585])\n",
      "After transform: torch.Size([32, 293, 59])\n",
      "Before transform: torch.Size([1, 32, 585])\n",
      "After transform: torch.Size([32, 293, 59])\n",
      "Before transform: torch.Size([1, 32, 585])\n",
      "After transform: torch.Size([32, 293, 59])\n",
      "Before transform: torch.Size([1, 32, 585])\n",
      "After transform: torch.Size([32, 293, 59])\n",
      "Before transform: torch.Size([1, 32, 585])\n",
      "After transform: torch.Size([32, 293, 59])\n",
      "Before transform: torch.Size([1, 32, 585])\n"
     ]
    },
    {
     "name": "stderr",
     "output_type": "stream",
     "text": [
      " 45%|████▌     | 2693/5976 [00:43<01:27, 37.57it/s]"
     ]
    },
    {
     "name": "stdout",
     "output_type": "stream",
     "text": [
      "After transform: torch.Size([32, 293, 59])\n",
      "Before transform: torch.Size([1, 32, 585])\n",
      "After transform: torch.Size([32, 293, 59])\n",
      "Before transform: torch.Size([1, 32, 585])\n",
      "After transform: torch.Size([32, 293, 59])\n",
      "Before transform: torch.Size([1, 32, 585])\n",
      "After transform: torch.Size([32, 293, 59])\n",
      "Before transform: torch.Size([1, 32, 585])\n",
      "After transform: torch.Size([32, 293, 59])\n",
      "Before transform: torch.Size([1, 32, 585])\n",
      "After transform: torch.Size([32, 293, 59])\n",
      "Before transform: torch.Size([1, 32, 585])\n",
      "After transform: torch.Size([32, 293, 59])\n",
      "Before transform: torch.Size([1, 32, 585])\n"
     ]
    },
    {
     "name": "stderr",
     "output_type": "stream",
     "text": [
      " 45%|████▌     | 2703/5976 [00:43<01:21, 40.27it/s]"
     ]
    },
    {
     "name": "stdout",
     "output_type": "stream",
     "text": [
      "After transform: torch.Size([32, 293, 59])\n",
      "Before transform: torch.Size([1, 32, 585])\n",
      "After transform: torch.Size([32, 293, 59])\n",
      "Before transform: torch.Size([1, 32, 585])\n",
      "After transform: torch.Size([32, 293, 59])\n",
      "Before transform: torch.Size([1, 32, 585])\n",
      "After transform: torch.Size([32, 293, 59])\n",
      "Before transform: torch.Size([1, 32, 585])\n",
      "After transform: torch.Size([32, 293, 59])\n",
      "Before transform: torch.Size([1, 32, 585])\n",
      "After transform: torch.Size([32, 293, 59])\n",
      "Before transform: torch.Size([1, 32, 585])\n",
      "After transform: torch.Size([32, 293, 59])\n",
      "Before transform: torch.Size([1, 32, 585])\n",
      "After transform: torch.Size([32, 293, 59])\n",
      "Before transform: torch.Size([1, 32, 585])\n",
      "After transform: torch.Size([32, 293, 59])\n",
      "Before transform: torch.Size([1, 32, 585])\n",
      "After transform: torch.Size([32, 293, 59])\n",
      "Before transform: torch.Size([1, 32, 585])\n",
      "After transform: torch.Size([32, 293, 59])\n",
      "Before transform: torch.Size([1, 32, 585])\n"
     ]
    },
    {
     "name": "stderr",
     "output_type": "stream",
     "text": [
      " 45%|████▌     | 2710/5976 [00:43<01:28, 36.94it/s]"
     ]
    },
    {
     "name": "stdout",
     "output_type": "stream",
     "text": [
      "After transform: torch.Size([32, 293, 59])\n",
      "Before transform: torch.Size([1, 32, 585])\n",
      "After transform: torch.Size([32, 293, 59])\n",
      "Before transform: torch.Size([1, 32, 585])\n",
      "After transform: torch.Size([32, 293, 59])\n",
      "Before transform: torch.Size([1, 32, 585])\n",
      "After transform: torch.Size([32, 293, 59])\n",
      "Before transform: torch.Size([1, 32, 585])\n",
      "After transform: torch.Size([32, 293, 59])\n",
      "Before transform: torch.Size([1, 32, 585])\n",
      "After transform: torch.Size([32, 293, 59])\n",
      "Before transform: torch.Size([1, 32, 585])\n"
     ]
    },
    {
     "name": "stderr",
     "output_type": "stream",
     "text": [
      " 46%|████▌     | 2723/5976 [00:43<01:09, 46.87it/s]"
     ]
    },
    {
     "name": "stdout",
     "output_type": "stream",
     "text": [
      "After transform: torch.Size([32, 293, 59])\n",
      "Before transform: torch.Size([1, 32, 585])\n",
      "After transform: torch.Size([32, 293, 59])\n",
      "Before transform: torch.Size([1, 32, 585])\n",
      "After transform: torch.Size([32, 293, 59])\n",
      "Before transform: torch.Size([1, 32, 585])\n",
      "After transform: torch.Size([32, 293, 59])\n",
      "Before transform: torch.Size([1, 32, 585])\n",
      "After transform: torch.Size([32, 293, 59])\n",
      "Before transform: torch.Size([1, 32, 585])\n",
      "After transform: torch.Size([32, 293, 59])\n",
      "Before transform: torch.Size([1, 32, 585])\n",
      "After transform: torch.Size([32, 293, 59])\n",
      "Before transform: torch.Size([1, 32, 585])\n",
      "After transform: torch.Size([32, 293, 59])\n",
      "Before transform: torch.Size([1, 32, 585])\n",
      "After transform: torch.Size([32, 293, 59])\n",
      "Before transform: torch.Size([1, 32, 585])\n",
      "After transform: torch.Size([32, 293, 59])\n",
      "Before transform: torch.Size([1, 32, 585])\n",
      "After transform: torch.Size([32, 293, 59])\n",
      "Before transform: torch.Size([1, 32, 585])\n",
      "After transform: torch.Size([32, 293, 59])\n",
      "Before transform: torch.Size([1, 32, 585])\n",
      "After transform: torch.Size([32, 293, 59])\n",
      "Before transform: torch.Size([1, 32, 585])\n"
     ]
    },
    {
     "name": "stderr",
     "output_type": "stream",
     "text": [
      " 46%|████▌     | 2729/5976 [00:43<01:07, 47.91it/s]"
     ]
    },
    {
     "name": "stdout",
     "output_type": "stream",
     "text": [
      "After transform: torch.Size([32, 293, 59])\n",
      "Before transform: torch.Size([1, 32, 585])\n",
      "After transform: torch.Size([32, 293, 59])\n",
      "Before transform: torch.Size([1, 32, 585])\n",
      "After transform: torch.Size([32, 293, 59])\n",
      "Before transform: torch.Size([1, 32, 585])\n",
      "After transform: torch.Size([32, 293, 59])\n",
      "Before transform: torch.Size([1, 32, 585])\n",
      "After transform: torch.Size([32, 293, 59])\n",
      "Before transform: torch.Size([1, 32, 585])\n",
      "After transform: torch.Size([32, 293, 59])\n",
      "Before transform: torch.Size([1, 32, 585])\n",
      "After transform: torch.Size([32, 293, 59])\n",
      "Before transform: torch.Size([1, 32, 585])\n",
      "After transform: torch.Size([32, 293, 59])\n",
      "Before transform: torch.Size([1, 32, 585])\n"
     ]
    },
    {
     "name": "stderr",
     "output_type": "stream",
     "text": [
      " 46%|████▌     | 2740/5976 [00:44<01:26, 37.59it/s]"
     ]
    },
    {
     "name": "stdout",
     "output_type": "stream",
     "text": [
      "After transform: torch.Size([32, 293, 59])\n",
      "Before transform: torch.Size([1, 32, 585])\n",
      "After transform: torch.Size([32, 293, 59])\n",
      "Before transform: torch.Size([1, 32, 585])\n",
      "After transform: torch.Size([32, 293, 59])\n",
      "Before transform: torch.Size([1, 32, 585])\n",
      "After transform: torch.Size([32, 293, 59])\n",
      "Before transform: torch.Size([1, 32, 585])\n",
      "After transform: torch.Size([32, 293, 59])\n",
      "Before transform: torch.Size([1, 32, 585])\n",
      "After transform: torch.Size([32, 293, 59])\n",
      "Before transform: torch.Size([1, 32, 585])\n"
     ]
    },
    {
     "name": "stderr",
     "output_type": "stream",
     "text": [
      " 46%|████▌     | 2745/5976 [00:44<01:25, 37.96it/s]"
     ]
    },
    {
     "name": "stdout",
     "output_type": "stream",
     "text": [
      "After transform: torch.Size([32, 293, 59])\n",
      "Before transform: torch.Size([1, 32, 585])\n",
      "After transform: torch.Size([32, 293, 59])\n",
      "Before transform: torch.Size([1, 32, 585])\n",
      "After transform: torch.Size([32, 293, 59])\n",
      "Before transform: torch.Size([1, 32, 585])\n",
      "After transform: torch.Size([32, 293, 59])\n",
      "Before transform: torch.Size([1, 32, 585])\n",
      "After transform: torch.Size([32, 293, 59])\n",
      "Before transform: torch.Size([1, 32, 585])\n",
      "After transform: torch.Size([32, 293, 59])\n",
      "Before transform: torch.Size([1, 32, 585])\n",
      "After transform: torch.Size([32, 293, 59])\n",
      "Before transform: torch.Size([1, 32, 585])\n",
      "After transform: torch.Size([32, 293, 59])\n",
      "Before transform: torch.Size([1, 32, 585])\n",
      "After transform: torch.Size([32, 293, 59])\n",
      "Before transform: torch.Size([1, 32, 585])\n"
     ]
    },
    {
     "name": "stderr",
     "output_type": "stream",
     "text": [
      " 46%|████▌     | 2750/5976 [00:44<01:22, 38.93it/s]"
     ]
    },
    {
     "name": "stdout",
     "output_type": "stream",
     "text": [
      "After transform: torch.Size([32, 293, 59])\n",
      "Before transform: torch.Size([1, 32, 585])\n",
      "After transform: torch.Size([32, 293, 59])\n",
      "Before transform: torch.Size([1, 32, 585])\n",
      "After transform: torch.Size([32, 293, 59])\n",
      "Before transform: torch.Size([1, 32, 585])\n"
     ]
    },
    {
     "name": "stderr",
     "output_type": "stream",
     "text": [
      " 46%|████▌     | 2762/5976 [00:44<01:30, 35.39it/s]"
     ]
    },
    {
     "name": "stdout",
     "output_type": "stream",
     "text": [
      "After transform: torch.Size([32, 293, 59])\n",
      "Before transform: torch.Size([1, 32, 585])\n",
      "After transform: torch.Size([32, 293, 59])\n",
      "Before transform: torch.Size([1, 32, 585])\n",
      "After transform: torch.Size([32, 293, 59])\n",
      "Before transform: torch.Size([1, 32, 585])\n",
      "After transform: torch.Size([32, 293, 59])\n",
      "Before transform: torch.Size([1, 32, 585])\n",
      "After transform: torch.Size([32, 293, 59])\n",
      "Before transform: torch.Size([1, 32, 585])\n",
      "After transform: torch.Size([32, 293, 59])\n",
      "Before transform: torch.Size([1, 32, 585])\n",
      "After transform: torch.Size([32, 293, 59])\n",
      "Before transform: torch.Size([1, 32, 585])\n",
      "After transform: torch.Size([32, 293, 59])\n",
      "Before transform: torch.Size([1, 32, 585])\n",
      "After transform: torch.Size([32, 293, 59])\n",
      "Before transform: torch.Size([1, 32, 585])\n",
      "After transform: torch.Size([32, 293, 59])\n",
      "Before transform: torch.Size([1, 32, 585])\n",
      "After transform: torch.Size([32, 293, 59])\n",
      "Before transform: torch.Size([1, 32, 585])\n",
      "After transform: torch.Size([32, 293, 59])\n",
      "Before transform: torch.Size([1, 32, 585])\n"
     ]
    },
    {
     "name": "stderr",
     "output_type": "stream",
     "text": [
      " 46%|████▋     | 2767/5976 [00:45<03:49, 13.97it/s]"
     ]
    },
    {
     "name": "stdout",
     "output_type": "stream",
     "text": [
      "After transform: torch.Size([32, 293, 59])\n",
      "Before transform: torch.Size([1, 32, 585])\n",
      "After transform: torch.Size([32, 293, 59])\n",
      "Before transform: torch.Size([1, 32, 585])\n",
      "After transform: torch.Size([32, 293, 59])\n",
      "Before transform: torch.Size([1, 32, 585])\n",
      "After transform: torch.Size([32, 293, 59])\n",
      "Before transform: torch.Size([1, 32, 585])\n"
     ]
    },
    {
     "name": "stderr",
     "output_type": "stream",
     "text": [
      " 46%|████▋     | 2776/5976 [00:46<02:42, 19.69it/s]"
     ]
    },
    {
     "name": "stdout",
     "output_type": "stream",
     "text": [
      "After transform: torch.Size([32, 293, 59])\n",
      "Before transform: torch.Size([1, 32, 585])\n",
      "After transform: torch.Size([32, 293, 59])\n",
      "Before transform: torch.Size([1, 32, 585])\n",
      "After transform: torch.Size([32, 293, 59])\n",
      "Before transform: torch.Size([1, 32, 585])\n",
      "After transform: torch.Size([32, 293, 59])\n",
      "Before transform: torch.Size([1, 32, 585])\n",
      "After transform: torch.Size([32, 293, 59])\n",
      "Before transform: torch.Size([1, 32, 585])\n",
      "After transform: torch.Size([32, 293, 59])\n",
      "Before transform: torch.Size([1, 32, 585])\n",
      "After transform: torch.Size([32, 293, 59])\n",
      "Before transform: torch.Size([1, 32, 585])\n",
      "After transform: torch.Size([32, 293, 59])\n",
      "Before transform: torch.Size([1, 32, 585])\n",
      "After transform: torch.Size([32, 293, 59])\n",
      "Before transform: torch.Size([1, 32, 585])\n"
     ]
    },
    {
     "name": "stderr",
     "output_type": "stream",
     "text": [
      " 47%|████▋     | 2785/5976 [00:46<01:58, 26.83it/s]"
     ]
    },
    {
     "name": "stdout",
     "output_type": "stream",
     "text": [
      "After transform: torch.Size([32, 293, 59])\n",
      "Before transform: torch.Size([1, 32, 585])\n",
      "After transform: torch.Size([32, 293, 59])\n",
      "Before transform: torch.Size([1, 32, 585])\n",
      "After transform: torch.Size([32, 293, 59])\n",
      "Before transform: torch.Size([1, 32, 585])\n",
      "After transform: torch.Size([32, 293, 59])\n",
      "Before transform: torch.Size([1, 32, 585])\n",
      "After transform: torch.Size([32, 293, 59])\n",
      "Before transform: torch.Size([1, 32, 585])\n",
      "After transform: torch.Size([32, 293, 59])\n",
      "Before transform: torch.Size([1, 32, 585])\n",
      "After transform: torch.Size([32, 293, 59])\n",
      "Before transform: torch.Size([1, 32, 585])\n",
      "After transform: torch.Size([32, 293, 59])\n",
      "Before transform: torch.Size([1, 32, 585])\n",
      "After transform: torch.Size([32, 293, 59])\n",
      "Before transform: torch.Size([1, 32, 585])\n"
     ]
    },
    {
     "name": "stderr",
     "output_type": "stream",
     "text": [
      " 47%|████▋     | 2789/5976 [00:46<02:07, 25.09it/s]"
     ]
    },
    {
     "name": "stdout",
     "output_type": "stream",
     "text": [
      "After transform: torch.Size([32, 293, 59])\n",
      "Before transform: torch.Size([1, 32, 585])\n",
      "After transform: torch.Size([32, 293, 59])\n",
      "Before transform: torch.Size([1, 32, 585])\n",
      "After transform: torch.Size([32, 293, 59])\n",
      "Before transform: torch.Size([1, 32, 585])\n",
      "After transform: torch.Size([32, 293, 59])\n",
      "Before transform: torch.Size([1, 32, 585])\n"
     ]
    },
    {
     "name": "stderr",
     "output_type": "stream",
     "text": [
      " 47%|████▋     | 2793/5976 [00:46<02:20, 22.69it/s]"
     ]
    },
    {
     "name": "stdout",
     "output_type": "stream",
     "text": [
      "After transform: torch.Size([32, 293, 59])\n",
      "Before transform: torch.Size([1, 32, 585])\n",
      "After transform: torch.Size([32, 293, 59])\n",
      "Before transform: torch.Size([1, 32, 585])\n",
      "After transform: torch.Size([32, 293, 59])\n",
      "Before transform: torch.Size([1, 32, 585])\n",
      "After transform: torch.Size([32, 293, 59])\n",
      "Before transform: torch.Size([1, 32, 585])\n",
      "After transform: torch.Size([32, 293, 59])\n",
      "Before transform: torch.Size([1, 32, 585])\n"
     ]
    },
    {
     "name": "stderr",
     "output_type": "stream",
     "text": [
      " 47%|████▋     | 2796/5976 [00:46<02:32, 20.86it/s]"
     ]
    },
    {
     "name": "stdout",
     "output_type": "stream",
     "text": [
      "After transform: torch.Size([32, 293, 59])\n",
      "Before transform: torch.Size([1, 32, 585])\n",
      "After transform: torch.Size([32, 293, 59])\n",
      "Before transform: torch.Size([1, 32, 585])\n",
      "After transform: torch.Size([32, 293, 59])\n",
      "Before transform: torch.Size([1, 32, 585])\n"
     ]
    },
    {
     "name": "stderr",
     "output_type": "stream",
     "text": [
      " 47%|████▋     | 2799/5976 [00:47<03:00, 17.60it/s]"
     ]
    },
    {
     "name": "stdout",
     "output_type": "stream",
     "text": [
      "After transform: torch.Size([32, 293, 59])\n",
      "Before transform: torch.Size([1, 32, 585])\n",
      "After transform: torch.Size([32, 293, 59])\n",
      "Before transform: torch.Size([1, 32, 585])\n"
     ]
    },
    {
     "name": "stderr",
     "output_type": "stream",
     "text": [
      " 47%|████▋     | 2804/5976 [00:47<03:27, 15.32it/s]"
     ]
    },
    {
     "name": "stdout",
     "output_type": "stream",
     "text": [
      "After transform: torch.Size([32, 293, 59])\n",
      "Before transform: torch.Size([1, 32, 585])\n",
      "After transform: torch.Size([32, 293, 59])\n",
      "Before transform: torch.Size([1, 32, 585])\n",
      "After transform: torch.Size([32, 293, 59])\n",
      "Before transform: torch.Size([1, 32, 585])\n",
      "After transform: torch.Size([32, 293, 59])\n",
      "Before transform: torch.Size([1, 32, 585])\n"
     ]
    },
    {
     "name": "stderr",
     "output_type": "stream",
     "text": [
      " 47%|████▋     | 2810/5976 [00:47<02:39, 19.80it/s]"
     ]
    },
    {
     "name": "stdout",
     "output_type": "stream",
     "text": [
      "After transform: torch.Size([32, 293, 59])\n",
      "Before transform: torch.Size([1, 32, 585])\n",
      "After transform: torch.Size([32, 293, 59])\n",
      "Before transform: torch.Size([1, 32, 585])\n",
      "After transform: torch.Size([32, 293, 59])\n",
      "Before transform: torch.Size([1, 32, 585])\n",
      "After transform: torch.Size([32, 293, 59])\n",
      "Before transform: torch.Size([1, 32, 585])\n",
      "After transform: torch.Size([32, 293, 59])\n",
      "Before transform: torch.Size([1, 32, 585])\n",
      "After transform: torch.Size([32, 293, 59])\n",
      "Before transform: torch.Size([1, 32, 585])\n"
     ]
    },
    {
     "name": "stderr",
     "output_type": "stream",
     "text": [
      " 47%|████▋     | 2823/5976 [00:47<01:23, 37.86it/s]"
     ]
    },
    {
     "name": "stdout",
     "output_type": "stream",
     "text": [
      "After transform: torch.Size([32, 293, 59])\n",
      "Before transform: torch.Size([1, 32, 585])\n",
      "After transform: torch.Size([32, 293, 59])\n",
      "Before transform: torch.Size([1, 32, 585])\n",
      "After transform: torch.Size([32, 293, 59])\n",
      "Before transform: torch.Size([1, 32, 585])\n",
      "After transform: torch.Size([32, 293, 59])\n",
      "Before transform: torch.Size([1, 32, 585])\n",
      "After transform: torch.Size([32, 293, 59])\n",
      "Before transform: torch.Size([1, 32, 585])\n",
      "After transform: torch.Size([32, 293, 59])\n",
      "Before transform: torch.Size([1, 32, 585])\n",
      "After transform: torch.Size([32, 293, 59])\n",
      "Before transform: torch.Size([1, 32, 585])\n",
      "After transform: torch.Size([32, 293, 59])\n",
      "Before transform: torch.Size([1, 32, 585])\n",
      "After transform: torch.Size([32, 293, 59])\n",
      "Before transform: torch.Size([1, 32, 585])\n",
      "After transform: torch.Size([32, 293, 59])\n",
      "Before transform: torch.Size([1, 32, 585])\n",
      "After transform: torch.Size([32, 293, 59])\n",
      "Before transform: torch.Size([1, 32, 585])\n",
      "After transform: torch.Size([32, 293, 59])\n",
      "Before transform: torch.Size([1, 32, 585])\n",
      "After transform: torch.Size([32, 293, 59])\n",
      "Before transform: torch.Size([1, 32, 585])\n",
      "After transform: torch.Size([32, 293, 59])\n",
      "Before transform: torch.Size([1, 32, 585])\n"
     ]
    },
    {
     "name": "stderr",
     "output_type": "stream",
     "text": [
      " 47%|████▋     | 2828/5976 [00:48<01:19, 39.73it/s]"
     ]
    },
    {
     "name": "stdout",
     "output_type": "stream",
     "text": [
      "After transform: torch.Size([32, 293, 59])\n",
      "Before transform: torch.Size([1, 32, 585])\n",
      "After transform: torch.Size([32, 293, 59])\n",
      "Before transform: torch.Size([1, 32, 585])\n",
      "After transform: torch.Size([32, 293, 59])\n",
      "Before transform: torch.Size([1, 32, 585])\n",
      "After transform: torch.Size([32, 293, 59])\n",
      "Before transform: torch.Size([1, 32, 585])\n",
      "After transform: torch.Size([32, 293, 59])\n",
      "Before transform: torch.Size([1, 32, 585])\n",
      "After transform: torch.Size([32, 293, 59])\n",
      "Before transform: torch.Size([1, 32, 585])\n",
      "After transform: torch.Size([32, 293, 59])\n",
      "Before transform: torch.Size([1, 32, 585])\n",
      "After transform: torch.Size([32, 293, 59])\n",
      "Before transform: torch.Size([1, 32, 585])\n"
     ]
    },
    {
     "name": "stderr",
     "output_type": "stream",
     "text": [
      " 47%|████▋     | 2838/5976 [00:48<01:22, 37.86it/s]"
     ]
    },
    {
     "name": "stdout",
     "output_type": "stream",
     "text": [
      "After transform: torch.Size([32, 293, 59])\n",
      "Before transform: torch.Size([1, 32, 585])\n",
      "After transform: torch.Size([32, 293, 59])\n",
      "Before transform: torch.Size([1, 32, 585])\n",
      "After transform: torch.Size([32, 293, 59])\n",
      "Before transform: torch.Size([1, 32, 585])\n",
      "After transform: torch.Size([32, 293, 59])\n",
      "Before transform: torch.Size([1, 32, 585])\n",
      "After transform: torch.Size([32, 293, 59])\n",
      "Before transform: torch.Size([1, 32, 585])\n",
      "After transform: torch.Size([32, 293, 59])\n",
      "Before transform: torch.Size([1, 32, 585])\n",
      "After transform: torch.Size([32, 293, 59])\n",
      "Before transform: torch.Size([1, 32, 585])\n"
     ]
    },
    {
     "name": "stderr",
     "output_type": "stream",
     "text": [
      " 48%|████▊     | 2843/5976 [00:48<01:29, 35.18it/s]"
     ]
    },
    {
     "name": "stdout",
     "output_type": "stream",
     "text": [
      "After transform: torch.Size([32, 293, 59])\n",
      "Before transform: torch.Size([1, 32, 585])\n",
      "After transform: torch.Size([32, 293, 59])\n",
      "Before transform: torch.Size([1, 32, 585])\n",
      "After transform: torch.Size([32, 293, 59])\n",
      "Before transform: torch.Size([1, 32, 585])\n",
      "After transform: torch.Size([32, 293, 59])\n",
      "Before transform: torch.Size([1, 32, 585])\n",
      "After transform: torch.Size([32, 293, 59])\n",
      "Before transform: torch.Size([1, 32, 585])\n",
      "After transform: torch.Size([32, 293, 59])\n",
      "Before transform: torch.Size([1, 32, 585])\n",
      "After transform: torch.Size([32, 293, 59])\n",
      "Before transform: torch.Size([1, 32, 585])\n"
     ]
    },
    {
     "name": "stderr",
     "output_type": "stream",
     "text": [
      " 48%|████▊     | 2853/5976 [00:48<01:16, 40.84it/s]"
     ]
    },
    {
     "name": "stdout",
     "output_type": "stream",
     "text": [
      "After transform: torch.Size([32, 293, 59])\n",
      "Before transform: torch.Size([1, 32, 585])\n",
      "After transform: torch.Size([32, 293, 59])\n",
      "Before transform: torch.Size([1, 32, 585])\n",
      "After transform: torch.Size([32, 293, 59])\n",
      "Before transform: torch.Size([1, 32, 585])\n",
      "After transform: torch.Size([32, 293, 59])\n",
      "Before transform: torch.Size([1, 32, 585])\n",
      "After transform: torch.Size([32, 293, 59])\n",
      "Before transform: torch.Size([1, 32, 585])\n",
      "After transform: torch.Size([32, 293, 59])\n",
      "Before transform: torch.Size([1, 32, 585])\n",
      "After transform: torch.Size([32, 293, 59])\n",
      "Before transform: torch.Size([1, 32, 585])\n",
      "After transform: torch.Size([32, 293, 59])\n",
      "Before transform: torch.Size([1, 32, 585])\n",
      "After transform: torch.Size([32, 293, 59])\n",
      "Before transform: torch.Size([1, 32, 585])\n",
      "After transform: torch.Size([32, 293, 59])\n",
      "Before transform: torch.Size([1, 32, 585])\n",
      "After transform: torch.Size([32, 293, 59])\n",
      "Before transform: torch.Size([1, 32, 585])\n",
      "After transform: torch.Size([32, 293, 59])\n",
      "Before transform: torch.Size([1, 32, 585])\n"
     ]
    },
    {
     "name": "stderr",
     "output_type": "stream",
     "text": [
      " 48%|████▊     | 2860/5976 [00:48<01:07, 46.13it/s]"
     ]
    },
    {
     "name": "stdout",
     "output_type": "stream",
     "text": [
      "After transform: torch.Size([32, 293, 59])\n",
      "Before transform: torch.Size([1, 32, 585])\n",
      "After transform: torch.Size([32, 293, 59])\n",
      "Before transform: torch.Size([1, 32, 585])\n",
      "After transform: torch.Size([32, 293, 59])\n",
      "Before transform: torch.Size([1, 32, 585])\n",
      "After transform: torch.Size([32, 293, 59])\n",
      "Before transform: torch.Size([1, 32, 585])\n"
     ]
    },
    {
     "name": "stderr",
     "output_type": "stream",
     "text": [
      " 48%|████▊     | 2865/5976 [00:49<01:40, 30.94it/s]"
     ]
    },
    {
     "name": "stdout",
     "output_type": "stream",
     "text": [
      "After transform: torch.Size([32, 293, 59])\n",
      "Before transform: torch.Size([1, 32, 585])\n",
      "After transform: torch.Size([32, 293, 59])\n",
      "Before transform: torch.Size([1, 32, 585])\n",
      "After transform: torch.Size([32, 293, 59])\n",
      "Before transform: torch.Size([1, 32, 585])\n",
      "After transform: torch.Size([32, 293, 59])\n",
      "Before transform: torch.Size([1, 32, 585])\n",
      "After transform: torch.Size([32, 293, 59])\n",
      "Before transform: torch.Size([1, 32, 585])\n",
      "After transform: torch.Size([32, 293, 59])\n",
      "Before transform: torch.Size([1, 32, 585])\n"
     ]
    },
    {
     "name": "stderr",
     "output_type": "stream",
     "text": [
      " 48%|████▊     | 2873/5976 [00:49<01:48, 28.63it/s]"
     ]
    },
    {
     "name": "stdout",
     "output_type": "stream",
     "text": [
      "After transform: torch.Size([32, 293, 59])\n",
      "Before transform: torch.Size([1, 32, 585])\n",
      "After transform: torch.Size([32, 293, 59])\n",
      "Before transform: torch.Size([1, 32, 585])\n",
      "After transform: torch.Size([32, 293, 59])\n",
      "Before transform: torch.Size([1, 32, 585])\n",
      "After transform: torch.Size([32, 293, 59])\n",
      "Before transform: torch.Size([1, 32, 585])\n",
      "After transform: torch.Size([32, 293, 59])\n",
      "Before transform: torch.Size([1, 32, 585])\n",
      "After transform: torch.Size([32, 293, 59])\n",
      "Before transform: torch.Size([1, 32, 585])\n",
      "After transform: torch.Size([32, 293, 59])\n",
      "Before transform: torch.Size([1, 32, 585])\n"
     ]
    },
    {
     "name": "stderr",
     "output_type": "stream",
     "text": [
      " 48%|████▊     | 2882/5976 [00:49<01:29, 34.75it/s]"
     ]
    },
    {
     "name": "stdout",
     "output_type": "stream",
     "text": [
      "After transform: torch.Size([32, 293, 59])\n",
      "Before transform: torch.Size([1, 32, 585])\n",
      "After transform: torch.Size([32, 293, 59])\n",
      "Before transform: torch.Size([1, 32, 585])\n",
      "After transform: torch.Size([32, 293, 59])\n",
      "Before transform: torch.Size([1, 32, 585])\n",
      "After transform: torch.Size([32, 293, 59])\n",
      "Before transform: torch.Size([1, 32, 585])\n",
      "After transform: torch.Size([32, 293, 59])\n",
      "Before transform: torch.Size([1, 32, 585])\n",
      "After transform: torch.Size([32, 293, 59])\n",
      "Before transform: torch.Size([1, 32, 585])\n",
      "After transform: torch.Size([32, 293, 59])\n",
      "Before transform: torch.Size([1, 32, 585])\n",
      "After transform: torch.Size([32, 293, 59])\n",
      "Before transform: torch.Size([1, 32, 585])\n",
      "After transform: torch.Size([32, 293, 59])\n",
      "Before transform: torch.Size([1, 32, 585])\n",
      "After transform: torch.Size([32, 293, 59])\n",
      "Before transform: torch.Size([1, 32, 585])\n",
      "After transform: torch.Size([32, 293, 59])\n",
      "Before transform: torch.Size([1, 32, 585])\n"
     ]
    },
    {
     "name": "stderr",
     "output_type": "stream",
     "text": [
      " 48%|████▊     | 2895/5976 [00:49<01:08, 45.04it/s]"
     ]
    },
    {
     "name": "stdout",
     "output_type": "stream",
     "text": [
      "After transform: torch.Size([32, 293, 59])\n",
      "Before transform: torch.Size([1, 32, 585])\n",
      "After transform: torch.Size([32, 293, 59])\n",
      "Before transform: torch.Size([1, 32, 585])\n",
      "After transform: torch.Size([32, 293, 59])\n",
      "Before transform: torch.Size([1, 32, 585])\n",
      "After transform: torch.Size([32, 293, 59])\n",
      "Before transform: torch.Size([1, 32, 585])\n",
      "After transform: torch.Size([32, 293, 59])\n",
      "Before transform: torch.Size([1, 32, 585])\n",
      "After transform: torch.Size([32, 293, 59])\n",
      "Before transform: torch.Size([1, 32, 585])\n",
      "After transform: torch.Size([32, 293, 59])\n",
      "Before transform: torch.Size([1, 32, 585])\n",
      "After transform: torch.Size([32, 293, 59])\n",
      "Before transform: torch.Size([1, 32, 585])\n",
      "After transform: torch.Size([32, 293, 59])\n",
      "Before transform: torch.Size([1, 32, 585])\n",
      "After transform: torch.Size([32, 293, 59])\n",
      "Before transform: torch.Size([1, 32, 585])\n",
      "After transform: torch.Size([32, 293, 59])\n",
      "Before transform: torch.Size([1, 32, 585])\n",
      "After transform: torch.Size([32, 293, 59])\n",
      "Before transform: torch.Size([1, 32, 585])\n"
     ]
    },
    {
     "name": "stderr",
     "output_type": "stream",
     "text": [
      " 49%|████▊     | 2907/5976 [00:50<01:00, 51.02it/s]"
     ]
    },
    {
     "name": "stdout",
     "output_type": "stream",
     "text": [
      "After transform: torch.Size([32, 293, 59])\n",
      "Before transform: torch.Size([1, 32, 585])\n",
      "After transform: torch.Size([32, 293, 59])\n",
      "Before transform: torch.Size([1, 32, 585])\n",
      "After transform: torch.Size([32, 293, 59])\n",
      "Before transform: torch.Size([1, 32, 585])\n",
      "After transform: torch.Size([32, 293, 59])\n",
      "Before transform: torch.Size([1, 32, 585])\n",
      "After transform: torch.Size([32, 293, 59])\n",
      "Before transform: torch.Size([1, 32, 585])\n",
      "After transform: torch.Size([32, 293, 59])\n",
      "Before transform: torch.Size([1, 32, 585])\n",
      "After transform: torch.Size([32, 293, 59])\n",
      "Before transform: torch.Size([1, 32, 585])\n",
      "After transform: torch.Size([32, 293, 59])\n",
      "Before transform: torch.Size([1, 32, 585])\n",
      "After transform: torch.Size([32, 293, 59])\n",
      "Before transform: torch.Size([1, 32, 585])\n",
      "After transform: torch.Size([32, 293, 59])\n",
      "Before transform: torch.Size([1, 32, 585])\n",
      "After transform: torch.Size([32, 293, 59])\n",
      "Before transform: torch.Size([1, 32, 585])\n",
      "After transform: torch.Size([32, 293, 59])\n",
      "Before transform: torch.Size([1, 32, 585])\n"
     ]
    },
    {
     "name": "stderr",
     "output_type": "stream",
     "text": [
      " 49%|████▉     | 2920/5976 [00:50<00:55, 55.14it/s]"
     ]
    },
    {
     "name": "stdout",
     "output_type": "stream",
     "text": [
      "After transform: torch.Size([32, 293, 59])\n",
      "Before transform: torch.Size([1, 32, 585])\n",
      "After transform: torch.Size([32, 293, 59])\n",
      "Before transform: torch.Size([1, 32, 585])\n",
      "After transform: torch.Size([32, 293, 59])\n",
      "Before transform: torch.Size([1, 32, 585])\n",
      "After transform: torch.Size([32, 293, 59])\n",
      "Before transform: torch.Size([1, 32, 585])\n",
      "After transform: torch.Size([32, 293, 59])\n",
      "Before transform: torch.Size([1, 32, 585])\n",
      "After transform: torch.Size([32, 293, 59])\n",
      "Before transform: torch.Size([1, 32, 585])\n",
      "After transform: torch.Size([32, 293, 59])\n",
      "Before transform: torch.Size([1, 32, 585])\n",
      "After transform: torch.Size([32, 293, 59])\n",
      "Before transform: torch.Size([1, 32, 585])\n",
      "After transform: torch.Size([32, 293, 59])\n",
      "Before transform: torch.Size([1, 32, 585])\n",
      "After transform: torch.Size([32, 293, 59])\n",
      "Before transform: torch.Size([1, 32, 585])\n",
      "After transform: torch.Size([32, 293, 59])\n",
      "Before transform: torch.Size([1, 32, 585])\n",
      "After transform: torch.Size([32, 293, 59])\n",
      "Before transform: torch.Size([1, 32, 585])\n"
     ]
    },
    {
     "name": "stderr",
     "output_type": "stream",
     "text": [
      " 49%|████▉     | 2927/5976 [00:50<00:51, 58.82it/s]"
     ]
    },
    {
     "name": "stdout",
     "output_type": "stream",
     "text": [
      "After transform: torch.Size([32, 293, 59])\n",
      "Before transform: torch.Size([1, 32, 585])\n",
      "After transform: torch.Size([32, 293, 59])\n",
      "Before transform: torch.Size([1, 32, 585])\n",
      "After transform: torch.Size([32, 293, 59])\n",
      "Before transform: torch.Size([1, 32, 585])\n",
      "After transform: torch.Size([32, 293, 59])\n",
      "Before transform: torch.Size([1, 32, 585])\n",
      "After transform: torch.Size([32, 293, 59])\n",
      "Before transform: torch.Size([1, 32, 585])\n",
      "After transform: torch.Size([32, 293, 59])\n",
      "Before transform: torch.Size([1, 32, 585])\n",
      "After transform: torch.Size([32, 293, 59])\n",
      "Before transform: torch.Size([1, 32, 585])\n"
     ]
    },
    {
     "name": "stderr",
     "output_type": "stream",
     "text": [
      " 49%|████▉     | 2942/5976 [00:50<01:00, 49.96it/s]"
     ]
    },
    {
     "name": "stdout",
     "output_type": "stream",
     "text": [
      "After transform: torch.Size([32, 293, 59])\n",
      "Before transform: torch.Size([1, 32, 585])\n",
      "After transform: torch.Size([32, 293, 59])\n",
      "Before transform: torch.Size([1, 32, 585])\n",
      "After transform: torch.Size([32, 293, 59])\n",
      "Before transform: torch.Size([1, 32, 585])\n",
      "After transform: torch.Size([32, 293, 59])\n",
      "Before transform: torch.Size([1, 32, 585])\n",
      "After transform: torch.Size([32, 293, 59])\n",
      "Before transform: torch.Size([1, 32, 585])\n",
      "After transform: torch.Size([32, 293, 59])\n",
      "Before transform: torch.Size([1, 32, 585])\n",
      "After transform: torch.Size([32, 293, 59])\n",
      "Before transform: torch.Size([1, 32, 585])\n",
      "After transform: torch.Size([32, 293, 59])\n",
      "Before transform: torch.Size([1, 32, 585])\n",
      "After transform: torch.Size([32, 293, 59])\n",
      "Before transform: torch.Size([1, 32, 585])\n",
      "After transform: torch.Size([32, 293, 59])\n",
      "Before transform: torch.Size([1, 32, 585])\n",
      "After transform: torch.Size([32, 293, 59])\n",
      "Before transform: torch.Size([1, 32, 585])\n",
      "After transform: torch.Size([32, 293, 59])\n",
      "Before transform: torch.Size([1, 32, 585])\n",
      "After transform: torch.Size([32, 293, 59])\n",
      "Before transform: torch.Size([1, 32, 585])\n",
      "After transform: torch.Size([32, 293, 59])\n",
      "Before transform: torch.Size([1, 32, 585])\n"
     ]
    },
    {
     "name": "stderr",
     "output_type": "stream",
     "text": [
      " 50%|████▉     | 2959/5976 [00:51<00:47, 63.44it/s]"
     ]
    },
    {
     "name": "stdout",
     "output_type": "stream",
     "text": [
      "After transform: torch.Size([32, 293, 59])\n",
      "Before transform: torch.Size([1, 32, 585])\n",
      "After transform: torch.Size([32, 293, 59])\n",
      "Before transform: torch.Size([1, 32, 585])\n",
      "After transform: torch.Size([32, 293, 59])\n",
      "Before transform: torch.Size([1, 32, 585])\n",
      "After transform: torch.Size([32, 293, 59])\n",
      "Before transform: torch.Size([1, 32, 585])\n",
      "After transform: torch.Size([32, 293, 59])\n",
      "Before transform: torch.Size([1, 32, 585])\n",
      "After transform: torch.Size([32, 293, 59])\n",
      "Before transform: torch.Size([1, 32, 585])\n",
      "After transform: torch.Size([32, 293, 59])\n",
      "Before transform: torch.Size([1, 32, 585])\n",
      "After transform: torch.Size([32, 293, 59])\n",
      "Before transform: torch.Size([1, 32, 585])\n",
      "After transform: torch.Size([32, 293, 59])\n",
      "Before transform: torch.Size([1, 32, 585])\n",
      "After transform: torch.Size([32, 293, 59])\n",
      "Before transform: torch.Size([1, 32, 585])\n",
      "After transform: torch.Size([32, 293, 59])\n",
      "Before transform: torch.Size([1, 32, 585])\n",
      "After transform: torch.Size([32, 293, 59])\n",
      "Before transform: torch.Size([1, 32, 585])\n",
      "After transform: torch.Size([32, 293, 59])\n",
      "Before transform: torch.Size([1, 32, 585])\n",
      "After transform: torch.Size([32, 293, 59])\n",
      "Before transform: torch.Size([1, 32, 585])\n",
      "After transform: torch.Size([32, 293, 59])\n",
      "Before transform: torch.Size([1, 32, 585])\n",
      "After transform: torch.Size([32, 293, 59])\n",
      "Before transform: torch.Size([1, 32, 585])\n",
      "After transform: torch.Size([32, 293, 59])\n",
      "Before transform: torch.Size([1, 32, 585])\n"
     ]
    },
    {
     "name": "stderr",
     "output_type": "stream",
     "text": [
      " 50%|████▉     | 2977/5976 [00:51<00:41, 72.08it/s]"
     ]
    },
    {
     "name": "stdout",
     "output_type": "stream",
     "text": [
      "After transform: torch.Size([32, 293, 59])\n",
      "Before transform: torch.Size([1, 32, 585])\n",
      "After transform: torch.Size([32, 293, 59])\n",
      "Before transform: torch.Size([1, 32, 585])\n",
      "After transform: torch.Size([32, 293, 59])\n",
      "Before transform: torch.Size([1, 32, 585])\n",
      "After transform: torch.Size([32, 293, 59])\n",
      "Before transform: torch.Size([1, 32, 585])\n",
      "After transform: torch.Size([32, 293, 59])\n",
      "Before transform: torch.Size([1, 32, 585])\n",
      "After transform: torch.Size([32, 293, 59])\n",
      "Before transform: torch.Size([1, 32, 585])\n",
      "After transform: torch.Size([32, 293, 59])\n",
      "Before transform: torch.Size([1, 32, 585])\n",
      "After transform: torch.Size([32, 293, 59])\n",
      "Before transform: torch.Size([1, 32, 585])\n",
      "After transform: torch.Size([32, 293, 59])\n",
      "Before transform: torch.Size([1, 32, 585])\n",
      "After transform: torch.Size([32, 293, 59])\n",
      "Before transform: torch.Size([1, 32, 585])\n",
      "After transform: torch.Size([32, 293, 59])\n",
      "Before transform: torch.Size([1, 32, 585])\n",
      "After transform: torch.Size([32, 293, 59])\n",
      "Before transform: torch.Size([1, 32, 585])\n",
      "After transform: torch.Size([32, 293, 59])\n",
      "Before transform: torch.Size([1, 32, 585])\n",
      "After transform: torch.Size([32, 293, 59])\n",
      "Before transform: torch.Size([1, 32, 585])\n",
      "After transform: torch.Size([32, 293, 59])\n",
      "Before transform: torch.Size([1, 32, 585])\n",
      "After transform: torch.Size([32, 293, 59])\n",
      "Before transform: torch.Size([1, 32, 585])\n",
      "After transform: torch.Size([32, 293, 59])\n",
      "Before transform: torch.Size([1, 32, 585])\n"
     ]
    },
    {
     "name": "stderr",
     "output_type": "stream",
     "text": [
      " 50%|████▉     | 2985/5976 [00:51<00:42, 69.58it/s]"
     ]
    },
    {
     "name": "stdout",
     "output_type": "stream",
     "text": [
      "After transform: torch.Size([32, 293, 59])\n",
      "Before transform: torch.Size([1, 32, 585])\n",
      "After transform: torch.Size([32, 293, 59])\n",
      "Before transform: torch.Size([1, 32, 585])\n",
      "After transform: torch.Size([32, 293, 59])\n",
      "Before transform: torch.Size([1, 32, 585])\n",
      "After transform: torch.Size([32, 293, 59])\n",
      "Before transform: torch.Size([1, 32, 585])\n",
      "After transform: torch.Size([32, 293, 59])\n",
      "Before transform: torch.Size([1, 32, 585])\n",
      "After transform: torch.Size([32, 293, 59])\n",
      "Before transform: torch.Size([1, 32, 585])\n",
      "After transform: torch.Size([32, 293, 59])\n",
      "Before transform: torch.Size([1, 32, 585])\n",
      "After transform: torch.Size([32, 293, 59])\n",
      "Before transform: torch.Size([1, 32, 585])\n",
      "After transform: torch.Size([32, 293, 59])\n",
      "Before transform: torch.Size([1, 32, 585])\n",
      "After transform: torch.Size([32, 293, 59])\n",
      "Before transform: torch.Size([1, 32, 585])\n",
      "After transform: torch.Size([32, 293, 59])\n",
      "Before transform: torch.Size([1, 32, 585])\n",
      "After transform: torch.Size([32, 293, 59])\n",
      "Before transform: torch.Size([1, 32, 585])\n",
      "After transform: torch.Size([32, 293, 59])\n",
      "Before transform: torch.Size([1, 32, 585])\n",
      "After transform: torch.Size([32, 293, 59])\n",
      "Before transform: torch.Size([1, 32, 585])\n",
      "After transform: torch.Size([32, 293, 59])\n",
      "Before transform: torch.Size([1, 32, 585])\n"
     ]
    },
    {
     "name": "stderr",
     "output_type": "stream",
     "text": [
      " 50%|█████     | 3002/5976 [00:51<00:41, 71.82it/s]"
     ]
    },
    {
     "name": "stdout",
     "output_type": "stream",
     "text": [
      "After transform: torch.Size([32, 293, 59])\n",
      "Before transform: torch.Size([1, 32, 585])\n",
      "After transform: torch.Size([32, 293, 59])\n",
      "Before transform: torch.Size([1, 32, 585])\n",
      "After transform: torch.Size([32, 293, 59])\n",
      "Before transform: torch.Size([1, 32, 585])\n",
      "After transform: torch.Size([32, 293, 59])\n",
      "Before transform: torch.Size([1, 32, 585])\n",
      "After transform: torch.Size([32, 293, 59])\n",
      "Before transform: torch.Size([1, 32, 585])\n",
      "After transform: torch.Size([32, 293, 59])\n",
      "Before transform: torch.Size([1, 32, 585])\n",
      "After transform: torch.Size([32, 293, 59])\n",
      "Before transform: torch.Size([1, 32, 585])\n",
      "After transform: torch.Size([32, 293, 59])\n",
      "Before transform: torch.Size([1, 32, 585])\n",
      "After transform: torch.Size([32, 293, 59])\n",
      "Before transform: torch.Size([1, 32, 585])\n",
      "After transform: torch.Size([32, 293, 59])\n",
      "Before transform: torch.Size([1, 32, 585])\n",
      "After transform: torch.Size([32, 293, 59])\n",
      "Before transform: torch.Size([1, 32, 585])\n",
      "After transform: torch.Size([32, 293, 59])\n",
      "Before transform: torch.Size([1, 32, 585])\n",
      "After transform: torch.Size([32, 293, 59])\n",
      "Before transform: torch.Size([1, 32, 585])\n",
      "After transform: torch.Size([32, 293, 59])\n",
      "Before transform: torch.Size([1, 32, 585])\n",
      "After transform: torch.Size([32, 293, 59])\n",
      "Before transform: torch.Size([1, 32, 585])\n",
      "After transform: torch.Size([32, 293, 59])\n",
      "Before transform: torch.Size([1, 32, 585])\n"
     ]
    },
    {
     "name": "stderr",
     "output_type": "stream",
     "text": [
      " 51%|█████     | 3019/5976 [00:51<00:38, 76.51it/s]"
     ]
    },
    {
     "name": "stdout",
     "output_type": "stream",
     "text": [
      "After transform: torch.Size([32, 293, 59])\n",
      "Before transform: torch.Size([1, 32, 585])\n",
      "After transform: torch.Size([32, 293, 59])\n",
      "Before transform: torch.Size([1, 32, 585])\n",
      "After transform: torch.Size([32, 293, 59])\n",
      "Before transform: torch.Size([1, 32, 585])\n",
      "After transform: torch.Size([32, 293, 59])\n",
      "Before transform: torch.Size([1, 32, 585])\n",
      "After transform: torch.Size([32, 293, 59])\n",
      "Before transform: torch.Size([1, 32, 585])\n",
      "After transform: torch.Size([32, 293, 59])\n",
      "Before transform: torch.Size([1, 32, 585])\n",
      "After transform: torch.Size([32, 293, 59])\n",
      "Before transform: torch.Size([1, 32, 585])\n",
      "After transform: torch.Size([32, 293, 59])\n",
      "Before transform: torch.Size([1, 32, 585])\n",
      "After transform: torch.Size([32, 293, 59])\n",
      "Before transform: torch.Size([1, 32, 585])\n",
      "After transform: torch.Size([32, 293, 59])\n",
      "Before transform: torch.Size([1, 32, 585])\n",
      "After transform: torch.Size([32, 293, 59])\n",
      "Before transform: torch.Size([1, 32, 585])\n",
      "After transform: torch.Size([32, 293, 59])\n",
      "Before transform: torch.Size([1, 32, 585])\n",
      "After transform: torch.Size([32, 293, 59])\n",
      "Before transform: torch.Size([1, 32, 585])\n",
      "After transform: torch.Size([32, 293, 59])\n",
      "Before transform: torch.Size([1, 32, 585])\n",
      "After transform: torch.Size([32, 293, 59])\n",
      "Before transform: torch.Size([1, 32, 585])\n",
      "After transform: torch.Size([32, 293, 59])\n",
      "Before transform: torch.Size([1, 32, 585])\n",
      "After transform: torch.Size([32, 293, 59])\n",
      "Before transform: torch.Size([1, 32, 585])\n"
     ]
    },
    {
     "name": "stderr",
     "output_type": "stream",
     "text": [
      " 51%|█████     | 3028/5976 [00:51<00:37, 77.75it/s]"
     ]
    },
    {
     "name": "stdout",
     "output_type": "stream",
     "text": [
      "After transform: torch.Size([32, 293, 59])\n",
      "Before transform: torch.Size([1, 32, 585])\n",
      "After transform: torch.Size([32, 293, 59])\n",
      "Before transform: torch.Size([1, 32, 585])\n",
      "After transform: torch.Size([32, 293, 59])\n",
      "Before transform: torch.Size([1, 32, 585])\n",
      "After transform: torch.Size([32, 293, 59])\n",
      "Before transform: torch.Size([1, 32, 585])\n",
      "After transform: torch.Size([32, 293, 59])\n",
      "Before transform: torch.Size([1, 32, 585])\n",
      "After transform: torch.Size([32, 293, 59])\n",
      "Before transform: torch.Size([1, 32, 585])\n",
      "After transform: torch.Size([32, 293, 59])\n",
      "Before transform: torch.Size([1, 32, 585])\n",
      "After transform: torch.Size([32, 293, 59])\n",
      "Before transform: torch.Size([1, 32, 585])\n"
     ]
    },
    {
     "name": "stderr",
     "output_type": "stream",
     "text": [
      " 51%|█████     | 3044/5976 [00:52<00:45, 63.88it/s]"
     ]
    },
    {
     "name": "stdout",
     "output_type": "stream",
     "text": [
      "After transform: torch.Size([32, 293, 59])\n",
      "Before transform: torch.Size([1, 32, 585])\n",
      "After transform: torch.Size([32, 293, 59])\n",
      "Before transform: torch.Size([1, 32, 585])\n",
      "After transform: torch.Size([32, 293, 59])\n",
      "Before transform: torch.Size([1, 32, 585])\n",
      "After transform: torch.Size([32, 293, 59])\n",
      "Before transform: torch.Size([1, 32, 585])\n",
      "After transform: torch.Size([32, 293, 59])\n",
      "Before transform: torch.Size([1, 32, 585])\n",
      "After transform: torch.Size([32, 293, 59])\n",
      "Before transform: torch.Size([1, 32, 585])\n",
      "After transform: torch.Size([32, 293, 59])\n",
      "Before transform: torch.Size([1, 32, 585])\n",
      "After transform: torch.Size([32, 293, 59])\n",
      "Before transform: torch.Size([1, 32, 585])\n",
      "After transform: torch.Size([32, 293, 59])\n",
      "Before transform: torch.Size([1, 32, 585])\n",
      "After transform: torch.Size([32, 293, 59])\n",
      "Before transform: torch.Size([1, 32, 585])\n",
      "After transform: torch.Size([32, 293, 59])\n",
      "Before transform: torch.Size([1, 32, 585])\n",
      "After transform: torch.Size([32, 293, 59])\n",
      "Before transform: torch.Size([1, 32, 585])\n",
      "After transform: torch.Size([32, 293, 59])\n",
      "Before transform: torch.Size([1, 32, 585])\n",
      "After transform: torch.Size([32, 293, 59])\n",
      "Before transform: torch.Size([1, 32, 585])\n",
      "After transform: torch.Size([32, 293, 59])\n",
      "Before transform: torch.Size([1, 32, 585])\n",
      "After transform: torch.Size([32, 293, 59])\n",
      "Before transform: torch.Size([1, 32, 585])\n",
      "After transform: torch.Size([32, 293, 59])\n",
      "Before transform: torch.Size([1, 32, 585])\n"
     ]
    },
    {
     "name": "stderr",
     "output_type": "stream",
     "text": [
      " 51%|█████     | 3062/5976 [00:52<00:39, 73.13it/s]"
     ]
    },
    {
     "name": "stdout",
     "output_type": "stream",
     "text": [
      "After transform: torch.Size([32, 293, 59])\n",
      "Before transform: torch.Size([1, 32, 585])\n",
      "After transform: torch.Size([32, 293, 59])\n",
      "Before transform: torch.Size([1, 32, 585])\n",
      "After transform: torch.Size([32, 293, 59])\n",
      "Before transform: torch.Size([1, 32, 585])\n",
      "After transform: torch.Size([32, 293, 59])\n",
      "Before transform: torch.Size([1, 32, 585])\n",
      "After transform: torch.Size([32, 293, 59])\n",
      "Before transform: torch.Size([1, 32, 585])\n",
      "After transform: torch.Size([32, 293, 59])\n",
      "Before transform: torch.Size([1, 32, 585])\n",
      "After transform: torch.Size([32, 293, 59])\n",
      "Before transform: torch.Size([1, 32, 585])\n",
      "After transform: torch.Size([32, 293, 59])\n",
      "Before transform: torch.Size([1, 32, 585])\n",
      "After transform: torch.Size([32, 293, 59])\n",
      "Before transform: torch.Size([1, 32, 585])\n",
      "After transform: torch.Size([32, 293, 59])\n",
      "Before transform: torch.Size([1, 32, 585])\n",
      "After transform: torch.Size([32, 293, 59])\n",
      "Before transform: torch.Size([1, 32, 585])\n",
      "After transform: torch.Size([32, 293, 59])\n",
      "Before transform: torch.Size([1, 32, 585])\n",
      "After transform: torch.Size([32, 293, 59])\n",
      "Before transform: torch.Size([1, 32, 585])\n",
      "After transform: torch.Size([32, 293, 59])\n",
      "Before transform: torch.Size([1, 32, 585])\n",
      "After transform: torch.Size([32, 293, 59])\n",
      "Before transform: torch.Size([1, 32, 585])\n",
      "After transform: torch.Size([32, 293, 59])\n",
      "Before transform: torch.Size([1, 32, 585])\n",
      "After transform: torch.Size([32, 293, 59])\n",
      "Before transform: torch.Size([1, 32, 585])\n"
     ]
    },
    {
     "name": "stderr",
     "output_type": "stream",
     "text": [
      " 52%|█████▏    | 3078/5976 [00:52<00:43, 67.29it/s]"
     ]
    },
    {
     "name": "stdout",
     "output_type": "stream",
     "text": [
      "After transform: torch.Size([32, 293, 59])\n",
      "Before transform: torch.Size([1, 32, 585])\n",
      "After transform: torch.Size([32, 293, 59])\n",
      "Before transform: torch.Size([1, 32, 585])\n",
      "After transform: torch.Size([32, 293, 59])\n",
      "Before transform: torch.Size([1, 32, 585])\n",
      "After transform: torch.Size([32, 293, 59])\n",
      "Before transform: torch.Size([1, 32, 585])\n",
      "After transform: torch.Size([32, 293, 59])\n",
      "Before transform: torch.Size([1, 32, 585])\n",
      "After transform: torch.Size([32, 293, 59])\n",
      "Before transform: torch.Size([1, 32, 585])\n",
      "After transform: torch.Size([32, 293, 59])\n",
      "Before transform: torch.Size([1, 32, 585])\n",
      "After transform: torch.Size([32, 293, 59])\n",
      "Before transform: torch.Size([1, 32, 585])\n",
      "After transform: torch.Size([32, 293, 59])\n",
      "Before transform: torch.Size([1, 32, 585])\n",
      "After transform: torch.Size([32, 293, 59])\n",
      "Before transform: torch.Size([1, 32, 585])\n",
      "After transform: torch.Size([32, 293, 59])\n",
      "Before transform: torch.Size([1, 32, 585])\n"
     ]
    },
    {
     "name": "stderr",
     "output_type": "stream",
     "text": [
      " 52%|█████▏    | 3097/5976 [00:52<00:36, 79.21it/s]"
     ]
    },
    {
     "name": "stdout",
     "output_type": "stream",
     "text": [
      "After transform: torch.Size([32, 293, 59])\n",
      "Before transform: torch.Size([1, 32, 585])\n",
      "After transform: torch.Size([32, 293, 59])\n",
      "Before transform: torch.Size([1, 32, 585])\n",
      "After transform: torch.Size([32, 293, 59])\n",
      "Before transform: torch.Size([1, 32, 585])\n",
      "After transform: torch.Size([32, 293, 59])\n",
      "Before transform: torch.Size([1, 32, 585])\n",
      "After transform: torch.Size([32, 293, 59])\n",
      "Before transform: torch.Size([1, 32, 585])\n",
      "After transform: torch.Size([32, 293, 59])\n",
      "Before transform: torch.Size([1, 32, 585])\n",
      "After transform: torch.Size([32, 293, 59])\n",
      "Before transform: torch.Size([1, 32, 585])\n",
      "After transform: torch.Size([32, 293, 59])\n",
      "Before transform: torch.Size([1, 32, 585])\n",
      "After transform: torch.Size([32, 293, 59])\n",
      "Before transform: torch.Size([1, 32, 585])\n",
      "After transform: torch.Size([32, 293, 59])\n",
      "Before transform: torch.Size([1, 32, 585])\n",
      "After transform: torch.Size([32, 293, 59])\n",
      "Before transform: torch.Size([1, 32, 585])\n",
      "After transform: torch.Size([32, 293, 59])\n",
      "Before transform: torch.Size([1, 32, 585])\n",
      "After transform: torch.Size([32, 293, 59])\n",
      "Before transform: torch.Size([1, 32, 585])\n",
      "After transform: torch.Size([32, 293, 59])\n",
      "Before transform: torch.Size([1, 32, 585])\n",
      "After transform: torch.Size([32, 293, 59])\n",
      "Before transform: torch.Size([1, 32, 585])\n",
      "After transform: torch.Size([32, 293, 59])\n",
      "Before transform: torch.Size([1, 32, 585])\n",
      "After transform: torch.Size([32, 293, 59])\n",
      "Before transform: torch.Size([1, 32, 585])\n",
      "After transform: torch.Size([32, 293, 59])\n",
      "Before transform: torch.Size([1, 32, 585])\n",
      "After transform: torch.Size([32, 293, 59])\n",
      "Before transform: torch.Size([1, 32, 585])\n"
     ]
    },
    {
     "name": "stderr",
     "output_type": "stream",
     "text": [
      " 52%|█████▏    | 3119/5976 [00:53<00:30, 93.01it/s]"
     ]
    },
    {
     "name": "stdout",
     "output_type": "stream",
     "text": [
      "After transform: torch.Size([32, 293, 59])\n",
      "Before transform: torch.Size([1, 32, 585])\n",
      "After transform: torch.Size([32, 293, 59])\n",
      "Before transform: torch.Size([1, 32, 585])\n",
      "After transform: torch.Size([32, 293, 59])\n",
      "Before transform: torch.Size([1, 32, 585])\n",
      "After transform: torch.Size([32, 293, 59])\n",
      "Before transform: torch.Size([1, 32, 585])\n",
      "After transform: torch.Size([32, 293, 59])\n",
      "Before transform: torch.Size([1, 32, 585])\n",
      "After transform: torch.Size([32, 293, 59])\n",
      "Before transform: torch.Size([1, 32, 585])\n",
      "After transform: torch.Size([32, 293, 59])\n",
      "Before transform: torch.Size([1, 32, 585])\n",
      "After transform: torch.Size([32, 293, 59])\n",
      "Before transform: torch.Size([1, 32, 585])\n",
      "After transform: torch.Size([32, 293, 59])\n",
      "Before transform: torch.Size([1, 32, 585])\n",
      "After transform: torch.Size([32, 293, 59])\n",
      "Before transform: torch.Size([1, 32, 585])\n",
      "After transform: torch.Size([32, 293, 59])\n",
      "Before transform: torch.Size([1, 32, 585])\n",
      "After transform: torch.Size([32, 293, 59])\n",
      "Before transform: torch.Size([1, 32, 585])\n",
      "After transform: torch.Size([32, 293, 59])\n",
      "Before transform: torch.Size([1, 32, 585])\n",
      "After transform: torch.Size([32, 293, 59])\n",
      "Before transform: torch.Size([1, 32, 585])\n",
      "After transform: torch.Size([32, 293, 59])\n",
      "Before transform: torch.Size([1, 32, 585])\n",
      "After transform: torch.Size([32, 293, 59])\n",
      "Before transform: torch.Size([1, 32, 585])\n",
      "After transform: torch.Size([32, 293, 59])\n",
      "Before transform: torch.Size([1, 32, 585])\n",
      "After transform: torch.Size([32, 293, 59])\n",
      "Before transform: torch.Size([1, 32, 585])\n",
      "After transform: torch.Size([32, 293, 59])\n",
      "Before transform: torch.Size([1, 32, 585])\n",
      "After transform: torch.Size([32, 293, 59])\n",
      "Before transform: torch.Size([1, 32, 585])\n",
      "After transform: torch.Size([32, 293, 59])\n",
      "Before transform: torch.Size([1, 32, 585])\n",
      "After transform: torch.Size([32, 293, 59])\n",
      "Before transform: torch.Size([1, 32, 585])\n"
     ]
    },
    {
     "name": "stderr",
     "output_type": "stream",
     "text": [
      " 52%|█████▏    | 3130/5976 [00:53<00:29, 97.19it/s]"
     ]
    },
    {
     "name": "stdout",
     "output_type": "stream",
     "text": [
      "After transform: torch.Size([32, 293, 59])\n",
      "Before transform: torch.Size([1, 32, 585])\n",
      "After transform: torch.Size([32, 293, 59])\n",
      "Before transform: torch.Size([1, 32, 585])\n",
      "After transform: torch.Size([32, 293, 59])\n",
      "Before transform: torch.Size([1, 32, 585])\n",
      "After transform: torch.Size([32, 293, 59])\n",
      "Before transform: torch.Size([1, 32, 585])\n",
      "After transform: torch.Size([32, 293, 59])\n",
      "Before transform: torch.Size([1, 32, 585])\n",
      "After transform: torch.Size([32, 293, 59])\n",
      "Before transform: torch.Size([1, 32, 585])\n",
      "After transform: torch.Size([32, 293, 59])\n",
      "Before transform: torch.Size([1, 32, 585])\n",
      "After transform: torch.Size([32, 293, 59])\n",
      "Before transform: torch.Size([1, 32, 585])\n",
      "After transform: torch.Size([32, 293, 59])\n",
      "Before transform: torch.Size([1, 32, 585])\n",
      "After transform: torch.Size([32, 293, 59])\n",
      "Before transform: torch.Size([1, 32, 585])\n",
      "After transform: torch.Size([32, 293, 59])\n",
      "Before transform: torch.Size([1, 32, 585])\n",
      "After transform: torch.Size([32, 293, 59])\n",
      "Before transform: torch.Size([1, 32, 585])\n",
      "After transform: torch.Size([32, 293, 59])\n",
      "Before transform: torch.Size([1, 32, 585])\n"
     ]
    },
    {
     "name": "stderr",
     "output_type": "stream",
     "text": [
      " 53%|█████▎    | 3149/5976 [00:53<00:35, 78.89it/s]"
     ]
    },
    {
     "name": "stdout",
     "output_type": "stream",
     "text": [
      "After transform: torch.Size([32, 293, 59])\n",
      "Before transform: torch.Size([1, 32, 585])\n",
      "After transform: torch.Size([32, 293, 59])\n",
      "Before transform: torch.Size([1, 32, 585])\n",
      "After transform: torch.Size([32, 293, 59])\n",
      "Before transform: torch.Size([1, 32, 585])\n",
      "After transform: torch.Size([32, 293, 59])\n",
      "Before transform: torch.Size([1, 32, 585])\n",
      "After transform: torch.Size([32, 293, 59])\n",
      "Before transform: torch.Size([1, 32, 585])\n",
      "After transform: torch.Size([32, 293, 59])\n",
      "Before transform: torch.Size([1, 32, 585])\n",
      "After transform: torch.Size([32, 293, 59])\n",
      "Before transform: torch.Size([1, 32, 585])\n",
      "After transform: torch.Size([32, 293, 59])\n",
      "Before transform: torch.Size([1, 32, 585])\n",
      "After transform: torch.Size([32, 293, 59])\n",
      "Before transform: torch.Size([1, 32, 585])\n",
      "After transform: torch.Size([32, 293, 59])\n",
      "Before transform: torch.Size([1, 32, 585])\n",
      "After transform: torch.Size([32, 293, 59])\n",
      "Before transform: torch.Size([1, 32, 585])\n",
      "After transform: torch.Size([32, 293, 59])\n",
      "Before transform: torch.Size([1, 32, 585])\n",
      "After transform: torch.Size([32, 293, 59])\n",
      "Before transform: torch.Size([1, 32, 585])\n",
      "After transform: torch.Size([32, 293, 59])\n",
      "Before transform: torch.Size([1, 32, 585])\n",
      "After transform: torch.Size([32, 293, 59])\n",
      "Before transform: torch.Size([1, 32, 585])\n",
      "After transform: torch.Size([32, 293, 59])\n",
      "Before transform: torch.Size([1, 32, 585])\n",
      "After transform: torch.Size([32, 293, 59])\n",
      "Before transform: torch.Size([1, 32, 585])\n",
      "After transform: torch.Size([32, 293, 59])\n",
      "Before transform: torch.Size([1, 32, 585])\n",
      "After transform: torch.Size([32, 293, 59])\n",
      "Before transform: torch.Size([1, 32, 585])\n"
     ]
    },
    {
     "name": "stderr",
     "output_type": "stream",
     "text": [
      " 53%|█████▎    | 3171/5976 [00:53<00:31, 90.20it/s]"
     ]
    },
    {
     "name": "stdout",
     "output_type": "stream",
     "text": [
      "After transform: torch.Size([32, 293, 59])\n",
      "Before transform: torch.Size([1, 32, 585])\n",
      "After transform: torch.Size([32, 293, 59])\n",
      "Before transform: torch.Size([1, 32, 585])\n",
      "After transform: torch.Size([32, 293, 59])\n",
      "Before transform: torch.Size([1, 32, 585])\n",
      "After transform: torch.Size([32, 293, 59])\n",
      "Before transform: torch.Size([1, 32, 585])\n",
      "After transform: torch.Size([32, 293, 59])\n",
      "Before transform: torch.Size([1, 32, 585])\n",
      "After transform: torch.Size([32, 293, 59])\n",
      "Before transform: torch.Size([1, 32, 585])\n",
      "After transform: torch.Size([32, 293, 59])\n",
      "Before transform: torch.Size([1, 32, 585])\n",
      "After transform: torch.Size([32, 293, 59])\n",
      "Before transform: torch.Size([1, 32, 585])\n",
      "After transform: torch.Size([32, 293, 59])\n",
      "Before transform: torch.Size([1, 32, 585])\n",
      "After transform: torch.Size([32, 293, 59])\n",
      "Before transform: torch.Size([1, 32, 585])\n",
      "After transform: torch.Size([32, 293, 59])\n",
      "Before transform: torch.Size([1, 32, 585])\n",
      "After transform: torch.Size([32, 293, 59])\n",
      "Before transform: torch.Size([1, 32, 585])\n",
      "After transform: torch.Size([32, 293, 59])\n",
      "Before transform: torch.Size([1, 32, 585])\n",
      "After transform: torch.Size([32, 293, 59])\n",
      "Before transform: torch.Size([1, 32, 585])\n",
      "After transform: torch.Size([32, 293, 59])\n",
      "Before transform: torch.Size([1, 32, 585])\n",
      "After transform: torch.Size([32, 293, 59])\n",
      "Before transform: torch.Size([1, 32, 585])\n",
      "After transform: torch.Size([32, 293, 59])\n",
      "Before transform: torch.Size([1, 32, 585])\n",
      "After transform: torch.Size([32, 293, 59])\n",
      "Before transform: torch.Size([1, 32, 585])\n",
      "After transform: torch.Size([32, 293, 59])\n",
      "Before transform: torch.Size([1, 32, 585])\n",
      "After transform: torch.Size([32, 293, 59])\n",
      "Before transform: torch.Size([1, 32, 585])\n",
      "After transform: torch.Size([32, 293, 59])\n",
      "Before transform: torch.Size([1, 32, 585])\n"
     ]
    },
    {
     "name": "stderr",
     "output_type": "stream",
     "text": [
      " 53%|█████▎    | 3192/5976 [00:53<00:28, 96.18it/s]"
     ]
    },
    {
     "name": "stdout",
     "output_type": "stream",
     "text": [
      "After transform: torch.Size([32, 293, 59])\n",
      "Before transform: torch.Size([1, 32, 585])\n",
      "After transform: torch.Size([32, 293, 59])\n",
      "Before transform: torch.Size([1, 32, 585])\n",
      "After transform: torch.Size([32, 293, 59])\n",
      "Before transform: torch.Size([1, 32, 585])\n",
      "After transform: torch.Size([32, 293, 59])\n",
      "Before transform: torch.Size([1, 32, 585])\n",
      "After transform: torch.Size([32, 293, 59])\n",
      "Before transform: torch.Size([1, 32, 585])\n",
      "After transform: torch.Size([32, 293, 59])\n",
      "Before transform: torch.Size([1, 32, 585])\n",
      "After transform: torch.Size([32, 293, 59])\n",
      "Before transform: torch.Size([1, 32, 585])\n",
      "After transform: torch.Size([32, 293, 59])\n",
      "Before transform: torch.Size([1, 32, 585])\n",
      "After transform: torch.Size([32, 293, 59])\n",
      "Before transform: torch.Size([1, 32, 585])\n",
      "After transform: torch.Size([32, 293, 59])\n",
      "Before transform: torch.Size([1, 32, 585])\n",
      "After transform: torch.Size([32, 293, 59])\n",
      "Before transform: torch.Size([1, 32, 585])\n",
      "After transform: torch.Size([32, 293, 59])\n",
      "Before transform: torch.Size([1, 32, 585])\n",
      "After transform: torch.Size([32, 293, 59])\n",
      "Before transform: torch.Size([1, 32, 585])\n",
      "After transform: torch.Size([32, 293, 59])\n",
      "Before transform: torch.Size([1, 32, 585])\n",
      "After transform: torch.Size([32, 293, 59])\n",
      "Before transform: torch.Size([1, 32, 585])\n",
      "After transform: torch.Size([32, 293, 59])\n",
      "Before transform: torch.Size([1, 32, 585])\n",
      "After transform: torch.Size([32, 293, 59])\n",
      "Before transform: torch.Size([1, 32, 585])\n",
      "After transform: torch.Size([32, 293, 59])\n",
      "Before transform: torch.Size([1, 32, 585])\n",
      "After transform: torch.Size([32, 293, 59])\n",
      "Before transform: torch.Size([1, 32, 585])\n",
      "After transform: torch.Size([32, 293, 59])\n",
      "Before transform: torch.Size([1, 32, 585])\n",
      "After transform: torch.Size([32, 293, 59])\n",
      "Before transform: torch.Size([1, 32, 585])\n"
     ]
    },
    {
     "name": "stderr",
     "output_type": "stream",
     "text": [
      " 54%|█████▍    | 3214/5976 [00:54<00:28, 98.61it/s]"
     ]
    },
    {
     "name": "stdout",
     "output_type": "stream",
     "text": [
      "After transform: torch.Size([32, 293, 59])\n",
      "Before transform: torch.Size([1, 32, 585])\n",
      "After transform: torch.Size([32, 293, 59])\n",
      "Before transform: torch.Size([1, 32, 585])\n",
      "After transform: torch.Size([32, 293, 59])\n",
      "Before transform: torch.Size([1, 32, 585])\n",
      "After transform: torch.Size([32, 293, 59])\n",
      "Before transform: torch.Size([1, 32, 585])\n",
      "After transform: torch.Size([32, 293, 59])\n",
      "Before transform: torch.Size([1, 32, 585])\n",
      "After transform: torch.Size([32, 293, 59])\n",
      "Before transform: torch.Size([1, 32, 585])\n",
      "After transform: torch.Size([32, 293, 59])\n",
      "Before transform: torch.Size([1, 32, 585])\n",
      "After transform: torch.Size([32, 293, 59])\n",
      "Before transform: torch.Size([1, 32, 585])\n",
      "After transform: torch.Size([32, 293, 59])\n",
      "Before transform: torch.Size([1, 32, 585])\n",
      "After transform: torch.Size([32, 293, 59])\n",
      "Before transform: torch.Size([1, 32, 585])\n",
      "After transform: torch.Size([32, 293, 59])\n",
      "Before transform: torch.Size([1, 32, 585])\n",
      "After transform: torch.Size([32, 293, 59])\n",
      "Before transform: torch.Size([1, 32, 585])\n",
      "After transform: torch.Size([32, 293, 59])\n",
      "Before transform: torch.Size([1, 32, 585])\n",
      "After transform: torch.Size([32, 293, 59])\n",
      "Before transform: torch.Size([1, 32, 585])\n",
      "After transform: torch.Size([32, 293, 59])\n",
      "Before transform: torch.Size([1, 32, 585])\n",
      "After transform: torch.Size([32, 293, 59])\n",
      "Before transform: torch.Size([1, 32, 585])\n",
      "After transform: torch.Size([32, 293, 59])\n",
      "Before transform: torch.Size([1, 32, 585])\n",
      "After transform: torch.Size([32, 293, 59])\n",
      "Before transform: torch.Size([1, 32, 585])\n",
      "After transform: torch.Size([32, 293, 59])\n",
      "Before transform: torch.Size([1, 32, 585])\n",
      "After transform: torch.Size([32, 293, 59])\n",
      "Before transform: torch.Size([1, 32, 585])\n",
      "After transform: torch.Size([32, 293, 59])\n",
      "Before transform: torch.Size([1, 32, 585])\n"
     ]
    },
    {
     "name": "stderr",
     "output_type": "stream",
     "text": [
      " 54%|█████▍    | 3235/5976 [00:54<00:27, 99.41it/s]"
     ]
    },
    {
     "name": "stdout",
     "output_type": "stream",
     "text": [
      "After transform: torch.Size([32, 293, 59])\n",
      "Before transform: torch.Size([1, 32, 585])\n",
      "After transform: torch.Size([32, 293, 59])\n",
      "Before transform: torch.Size([1, 32, 585])\n",
      "After transform: torch.Size([32, 293, 59])\n",
      "Before transform: torch.Size([1, 32, 585])\n",
      "After transform: torch.Size([32, 293, 59])\n",
      "Before transform: torch.Size([1, 32, 585])\n",
      "After transform: torch.Size([32, 293, 59])\n",
      "Before transform: torch.Size([1, 32, 585])\n",
      "After transform: torch.Size([32, 293, 59])\n",
      "Before transform: torch.Size([1, 32, 585])\n",
      "After transform: torch.Size([32, 293, 59])\n",
      "Before transform: torch.Size([1, 32, 585])\n",
      "After transform: torch.Size([32, 293, 59])\n",
      "Before transform: torch.Size([1, 32, 585])\n",
      "After transform: torch.Size([32, 293, 59])\n",
      "Before transform: torch.Size([1, 32, 585])\n",
      "After transform: torch.Size([32, 293, 59])\n",
      "Before transform: torch.Size([1, 32, 585])\n",
      "After transform: torch.Size([32, 293, 59])\n",
      "Before transform: torch.Size([1, 32, 585])\n",
      "After transform: torch.Size([32, 293, 59])\n",
      "Before transform: torch.Size([1, 32, 585])\n",
      "After transform: torch.Size([32, 293, 59])\n",
      "Before transform: torch.Size([1, 32, 585])\n",
      "After transform: torch.Size([32, 293, 59])\n",
      "Before transform: torch.Size([1, 32, 585])\n",
      "After transform: torch.Size([32, 293, 59])\n",
      "Before transform: torch.Size([1, 32, 585])\n",
      "After transform: torch.Size([32, 293, 59])\n",
      "Before transform: torch.Size([1, 32, 585])\n",
      "After transform: torch.Size([32, 293, 59])\n",
      "Before transform: torch.Size([1, 32, 585])\n",
      "After transform: torch.Size([32, 293, 59])\n",
      "Before transform: torch.Size([1, 32, 585])\n",
      "After transform: torch.Size([32, 293, 59])\n",
      "Before transform: torch.Size([1, 32, 585])\n",
      "After transform: torch.Size([32, 293, 59])\n",
      "Before transform: torch.Size([1, 32, 585])\n",
      "After transform: torch.Size([32, 293, 59])\n",
      "Before transform: torch.Size([1, 32, 585])\n"
     ]
    },
    {
     "name": "stderr",
     "output_type": "stream",
     "text": [
      " 54%|█████▍    | 3246/5976 [00:54<00:27, 100.17it/s]"
     ]
    },
    {
     "name": "stdout",
     "output_type": "stream",
     "text": [
      "After transform: torch.Size([32, 293, 59])\n",
      "Before transform: torch.Size([1, 32, 585])\n",
      "After transform: torch.Size([32, 293, 59])\n",
      "Before transform: torch.Size([1, 32, 585])\n",
      "After transform: torch.Size([32, 293, 59])\n",
      "Before transform: torch.Size([1, 32, 585])\n",
      "After transform: torch.Size([32, 293, 59])\n",
      "Before transform: torch.Size([1, 32, 585])\n",
      "After transform: torch.Size([32, 293, 59])\n",
      "Before transform: torch.Size([1, 32, 585])\n",
      "After transform: torch.Size([32, 293, 59])\n",
      "Before transform: torch.Size([1, 32, 585])\n",
      "After transform: torch.Size([32, 293, 59])\n",
      "Before transform: torch.Size([1, 32, 585])\n",
      "After transform: torch.Size([32, 293, 59])\n",
      "Before transform: torch.Size([1, 32, 585])\n",
      "After transform: torch.Size([32, 293, 59])\n",
      "Before transform: torch.Size([1, 32, 585])\n",
      "After transform: torch.Size([32, 293, 59])\n",
      "Before transform: torch.Size([1, 32, 585])\n",
      "After transform: torch.Size([32, 293, 59])\n",
      "Before transform: torch.Size([1, 32, 585])\n",
      "After transform: torch.Size([32, 293, 59])\n",
      "Before transform: torch.Size([1, 32, 585])\n",
      "After transform: torch.Size([32, 293, 59])\n",
      "Before transform: torch.Size([1, 32, 585])\n",
      "After transform: torch.Size([32, 293, 59])\n",
      "Before transform: torch.Size([1, 32, 585])\n",
      "After transform: torch.Size([32, 293, 59])\n",
      "Before transform: torch.Size([1, 32, 585])\n",
      "After transform: torch.Size([32, 293, 59])\n",
      "Before transform: torch.Size([1, 32, 585])\n",
      "After transform: torch.Size([32, 293, 59])\n",
      "Before transform: torch.Size([1, 32, 585])\n",
      "After transform: torch.Size([32, 293, 59])\n",
      "Before transform: torch.Size([1, 32, 585])\n",
      "After transform: torch.Size([32, 293, 59])\n",
      "Before transform: torch.Size([1, 32, 585])\n",
      "After transform: torch.Size([32, 293, 59])\n",
      "Before transform: torch.Size([1, 32, 585])\n",
      "After transform: torch.Size([32, 293, 59])\n",
      "Before transform: torch.Size([1, 32, 585])\n"
     ]
    },
    {
     "name": "stderr",
     "output_type": "stream",
     "text": [
      " 55%|█████▍    | 3268/5976 [00:54<00:33, 80.59it/s] "
     ]
    },
    {
     "name": "stdout",
     "output_type": "stream",
     "text": [
      "After transform: torch.Size([32, 293, 59])\n",
      "Before transform: torch.Size([1, 32, 585])\n",
      "After transform: torch.Size([32, 293, 59])\n",
      "Before transform: torch.Size([1, 32, 585])\n",
      "After transform: torch.Size([32, 293, 59])\n",
      "Before transform: torch.Size([1, 32, 585])\n",
      "After transform: torch.Size([32, 293, 59])\n",
      "Before transform: torch.Size([1, 32, 585])\n",
      "After transform: torch.Size([32, 293, 59])\n",
      "Before transform: torch.Size([1, 32, 585])\n",
      "After transform: torch.Size([32, 293, 59])\n",
      "Before transform: torch.Size([1, 32, 585])\n",
      "After transform: torch.Size([32, 293, 59])\n",
      "Before transform: torch.Size([1, 32, 585])\n",
      "After transform: torch.Size([32, 293, 59])\n",
      "Before transform: torch.Size([1, 32, 585])\n",
      "After transform: torch.Size([32, 293, 59])\n",
      "Before transform: torch.Size([1, 32, 585])\n",
      "After transform: torch.Size([32, 293, 59])\n",
      "Before transform: torch.Size([1, 32, 585])\n",
      "After transform: torch.Size([32, 293, 59])\n",
      "Before transform: torch.Size([1, 32, 585])\n",
      "After transform: torch.Size([32, 293, 59])\n",
      "Before transform: torch.Size([1, 32, 585])\n"
     ]
    },
    {
     "name": "stderr",
     "output_type": "stream",
     "text": [
      " 55%|█████▌    | 3289/5976 [00:54<00:30, 89.16it/s]"
     ]
    },
    {
     "name": "stdout",
     "output_type": "stream",
     "text": [
      "After transform: torch.Size([32, 293, 59])\n",
      "Before transform: torch.Size([1, 32, 585])\n",
      "After transform: torch.Size([32, 293, 59])\n",
      "Before transform: torch.Size([1, 32, 585])\n",
      "After transform: torch.Size([32, 293, 59])\n",
      "Before transform: torch.Size([1, 32, 585])\n",
      "After transform: torch.Size([32, 293, 59])\n",
      "Before transform: torch.Size([1, 32, 585])\n",
      "After transform: torch.Size([32, 293, 59])\n",
      "Before transform: torch.Size([1, 32, 585])\n",
      "After transform: torch.Size([32, 293, 59])\n",
      "Before transform: torch.Size([1, 32, 585])\n",
      "After transform: torch.Size([32, 293, 59])\n",
      "Before transform: torch.Size([1, 32, 585])\n",
      "After transform: torch.Size([32, 293, 59])\n",
      "Before transform: torch.Size([1, 32, 585])\n",
      "After transform: torch.Size([32, 293, 59])\n",
      "Before transform: torch.Size([1, 32, 585])\n",
      "After transform: torch.Size([32, 293, 59])\n",
      "Before transform: torch.Size([1, 32, 585])\n",
      "After transform: torch.Size([32, 293, 59])\n",
      "Before transform: torch.Size([1, 32, 585])\n",
      "After transform: torch.Size([32, 293, 59])\n",
      "Before transform: torch.Size([1, 32, 585])\n",
      "After transform: torch.Size([32, 293, 59])\n",
      "Before transform: torch.Size([1, 32, 585])\n",
      "After transform: torch.Size([32, 293, 59])\n",
      "Before transform: torch.Size([1, 32, 585])\n",
      "After transform: torch.Size([32, 293, 59])\n",
      "Before transform: torch.Size([1, 32, 585])\n",
      "After transform: torch.Size([32, 293, 59])\n",
      "Before transform: torch.Size([1, 32, 585])\n",
      "After transform: torch.Size([32, 293, 59])\n",
      "Before transform: torch.Size([1, 32, 585])\n",
      "After transform: torch.Size([32, 293, 59])\n",
      "Before transform: torch.Size([1, 32, 585])\n",
      "After transform: torch.Size([32, 293, 59])\n",
      "Before transform: torch.Size([1, 32, 585])\n",
      "After transform: torch.Size([32, 293, 59])\n",
      "Before transform: torch.Size([1, 32, 585])\n",
      "After transform: torch.Size([32, 293, 59])\n",
      "Before transform: torch.Size([1, 32, 585])\n"
     ]
    },
    {
     "name": "stderr",
     "output_type": "stream",
     "text": [
      " 55%|█████▌    | 3312/5976 [00:55<00:26, 99.30it/s]"
     ]
    },
    {
     "name": "stdout",
     "output_type": "stream",
     "text": [
      "After transform: torch.Size([32, 293, 59])\n",
      "Before transform: torch.Size([1, 32, 585])\n",
      "After transform: torch.Size([32, 293, 59])\n",
      "Before transform: torch.Size([1, 32, 585])\n",
      "After transform: torch.Size([32, 293, 59])\n",
      "Before transform: torch.Size([1, 32, 585])\n",
      "After transform: torch.Size([32, 293, 59])\n",
      "Before transform: torch.Size([1, 32, 585])\n",
      "After transform: torch.Size([32, 293, 59])\n",
      "Before transform: torch.Size([1, 32, 585])\n",
      "After transform: torch.Size([32, 293, 59])\n",
      "Before transform: torch.Size([1, 32, 585])\n",
      "After transform: torch.Size([32, 293, 59])\n",
      "Before transform: torch.Size([1, 32, 585])\n",
      "After transform: torch.Size([32, 293, 59])\n",
      "Before transform: torch.Size([1, 32, 585])\n",
      "After transform: torch.Size([32, 293, 59])\n",
      "Before transform: torch.Size([1, 32, 585])\n",
      "After transform: torch.Size([32, 293, 59])\n",
      "Before transform: torch.Size([1, 32, 585])\n",
      "After transform: torch.Size([32, 293, 59])\n",
      "Before transform: torch.Size([1, 32, 585])\n",
      "After transform: torch.Size([32, 293, 59])\n",
      "Before transform: torch.Size([1, 32, 585])\n",
      "After transform: torch.Size([32, 293, 59])\n",
      "Before transform: torch.Size([1, 32, 585])\n",
      "After transform: torch.Size([32, 293, 59])\n",
      "Before transform: torch.Size([1, 32, 585])\n",
      "After transform: torch.Size([32, 293, 59])\n",
      "Before transform: torch.Size([1, 32, 585])\n",
      "After transform: torch.Size([32, 293, 59])\n",
      "Before transform: torch.Size([1, 32, 585])\n",
      "After transform: torch.Size([32, 293, 59])\n",
      "Before transform: torch.Size([1, 32, 585])\n",
      "After transform: torch.Size([32, 293, 59])\n",
      "Before transform: torch.Size([1, 32, 585])\n",
      "After transform: torch.Size([32, 293, 59])\n",
      "Before transform: torch.Size([1, 32, 585])\n",
      "After transform: torch.Size([32, 293, 59])\n",
      "Before transform: torch.Size([1, 32, 585])\n",
      "After transform: torch.Size([32, 293, 59])\n",
      "Before transform: torch.Size([1, 32, 585])\n",
      "After transform: torch.Size([32, 293, 59])\n",
      "Before transform: torch.Size([1, 32, 585])\n",
      "After transform: torch.Size([32, 293, 59])\n",
      "Before transform: torch.Size([1, 32, 585])\n"
     ]
    },
    {
     "name": "stderr",
     "output_type": "stream",
     "text": [
      " 56%|█████▌    | 3334/5976 [00:55<00:25, 102.87it/s]"
     ]
    },
    {
     "name": "stdout",
     "output_type": "stream",
     "text": [
      "After transform: torch.Size([32, 293, 59])\n",
      "Before transform: torch.Size([1, 32, 585])\n",
      "After transform: torch.Size([32, 293, 59])\n",
      "Before transform: torch.Size([1, 32, 585])\n",
      "After transform: torch.Size([32, 293, 59])\n",
      "Before transform: torch.Size([1, 32, 585])\n",
      "After transform: torch.Size([32, 293, 59])\n",
      "Before transform: torch.Size([1, 32, 585])\n",
      "After transform: torch.Size([32, 293, 59])\n",
      "Before transform: torch.Size([1, 32, 585])\n",
      "After transform: torch.Size([32, 293, 59])\n",
      "Before transform: torch.Size([1, 32, 585])\n",
      "After transform: torch.Size([32, 293, 59])\n",
      "Before transform: torch.Size([1, 32, 585])\n",
      "After transform: torch.Size([32, 293, 59])\n",
      "Before transform: torch.Size([1, 32, 585])\n",
      "After transform: torch.Size([32, 293, 59])\n",
      "Before transform: torch.Size([1, 32, 585])\n",
      "After transform: torch.Size([32, 293, 59])\n",
      "Before transform: torch.Size([1, 32, 585])\n",
      "After transform: torch.Size([32, 293, 59])\n",
      "Before transform: torch.Size([1, 32, 585])\n",
      "After transform: torch.Size([32, 293, 59])\n",
      "Before transform: torch.Size([1, 32, 585])\n",
      "After transform: torch.Size([32, 293, 59])\n",
      "Before transform: torch.Size([1, 32, 585])\n",
      "After transform: torch.Size([32, 293, 59])\n",
      "Before transform: torch.Size([1, 32, 585])\n",
      "After transform: torch.Size([32, 293, 59])\n",
      "Before transform: torch.Size([1, 32, 585])\n",
      "After transform: torch.Size([32, 293, 59])\n",
      "Before transform: torch.Size([1, 32, 585])\n",
      "After transform: torch.Size([32, 293, 59])\n",
      "Before transform: torch.Size([1, 32, 585])\n",
      "After transform: torch.Size([32, 293, 59])\n",
      "Before transform: torch.Size([1, 32, 585])\n",
      "After transform: torch.Size([32, 293, 59])\n",
      "Before transform: torch.Size([1, 32, 585])\n",
      "After transform: torch.Size([32, 293, 59])\n",
      "Before transform: torch.Size([1, 32, 585])\n",
      "After transform: torch.Size([32, 293, 59])\n",
      "Before transform: torch.Size([1, 32, 585])\n",
      "After transform: torch.Size([32, 293, 59])\n",
      "Before transform: torch.Size([1, 32, 585])\n"
     ]
    },
    {
     "name": "stderr",
     "output_type": "stream",
     "text": [
      " 56%|█████▌    | 3356/5976 [00:55<00:24, 104.88it/s]"
     ]
    },
    {
     "name": "stdout",
     "output_type": "stream",
     "text": [
      "After transform: torch.Size([32, 293, 59])\n",
      "Before transform: torch.Size([1, 32, 585])\n",
      "After transform: torch.Size([32, 293, 59])\n",
      "Before transform: torch.Size([1, 32, 585])\n",
      "After transform: torch.Size([32, 293, 59])\n",
      "Before transform: torch.Size([1, 32, 585])\n",
      "After transform: torch.Size([32, 293, 59])\n",
      "Before transform: torch.Size([1, 32, 585])\n",
      "After transform: torch.Size([32, 293, 59])\n",
      "Before transform: torch.Size([1, 32, 585])\n",
      "After transform: torch.Size([32, 293, 59])\n",
      "Before transform: torch.Size([1, 32, 585])\n",
      "After transform: torch.Size([32, 293, 59])\n",
      "Before transform: torch.Size([1, 32, 585])\n",
      "After transform: torch.Size([32, 293, 59])\n",
      "Before transform: torch.Size([1, 32, 585])\n",
      "After transform: torch.Size([32, 293, 59])\n",
      "Before transform: torch.Size([1, 32, 585])\n",
      "After transform: torch.Size([32, 293, 59])\n",
      "Before transform: torch.Size([1, 32, 585])\n",
      "After transform: torch.Size([32, 293, 59])\n",
      "Before transform: torch.Size([1, 32, 585])\n",
      "After transform: torch.Size([32, 293, 59])\n",
      "Before transform: torch.Size([1, 32, 585])\n",
      "After transform: torch.Size([32, 293, 59])\n",
      "Before transform: torch.Size([1, 32, 585])\n",
      "After transform: torch.Size([32, 293, 59])\n",
      "Before transform: torch.Size([1, 32, 585])\n",
      "After transform: torch.Size([32, 293, 59])\n",
      "Before transform: torch.Size([1, 32, 585])\n",
      "After transform: torch.Size([32, 293, 59])\n",
      "Before transform: torch.Size([1, 32, 585])\n",
      "After transform: torch.Size([32, 293, 59])\n",
      "Before transform: torch.Size([1, 32, 585])\n",
      "After transform: torch.Size([32, 293, 59])\n",
      "Before transform: torch.Size([1, 32, 585])\n",
      "After transform: torch.Size([32, 293, 59])\n",
      "Before transform: torch.Size([1, 32, 585])\n",
      "After transform: torch.Size([32, 293, 59])\n",
      "Before transform: torch.Size([1, 32, 585])\n",
      "After transform: torch.Size([32, 293, 59])\n",
      "Before transform: torch.Size([1, 32, 585])\n",
      "After transform: torch.Size([32, 293, 59])\n",
      "Before transform: torch.Size([1, 32, 585])\n"
     ]
    },
    {
     "name": "stderr",
     "output_type": "stream",
     "text": [
      " 57%|█████▋    | 3379/5976 [00:55<00:24, 107.06it/s]"
     ]
    },
    {
     "name": "stdout",
     "output_type": "stream",
     "text": [
      "After transform: torch.Size([32, 293, 59])\n",
      "Before transform: torch.Size([1, 32, 585])\n",
      "After transform: torch.Size([32, 293, 59])\n",
      "Before transform: torch.Size([1, 32, 585])\n",
      "After transform: torch.Size([32, 293, 59])\n",
      "Before transform: torch.Size([1, 32, 585])\n",
      "After transform: torch.Size([32, 293, 59])\n",
      "Before transform: torch.Size([1, 32, 585])\n",
      "After transform: torch.Size([32, 293, 59])\n",
      "Before transform: torch.Size([1, 32, 585])\n",
      "After transform: torch.Size([32, 293, 59])\n",
      "Before transform: torch.Size([1, 32, 585])\n",
      "After transform: torch.Size([32, 293, 59])\n",
      "Before transform: torch.Size([1, 32, 585])\n",
      "After transform: torch.Size([32, 293, 59])\n",
      "Before transform: torch.Size([1, 32, 585])\n",
      "After transform: torch.Size([32, 293, 59])\n",
      "Before transform: torch.Size([1, 32, 585])\n",
      "After transform: torch.Size([32, 293, 59])\n",
      "Before transform: torch.Size([1, 32, 585])\n",
      "After transform: torch.Size([32, 293, 59])\n",
      "Before transform: torch.Size([1, 32, 585])\n",
      "After transform: torch.Size([32, 293, 59])\n",
      "Before transform: torch.Size([1, 32, 585])\n",
      "After transform: torch.Size([32, 293, 59])\n",
      "Before transform: torch.Size([1, 32, 585])\n",
      "After transform: torch.Size([32, 293, 59])\n",
      "Before transform: torch.Size([1, 32, 585])\n",
      "After transform: torch.Size([32, 293, 59])\n",
      "Before transform: torch.Size([1, 32, 585])\n",
      "After transform: torch.Size([32, 293, 59])\n",
      "Before transform: torch.Size([1, 32, 585])\n",
      "After transform: torch.Size([32, 293, 59])\n",
      "Before transform: torch.Size([1, 32, 585])\n",
      "After transform: torch.Size([32, 293, 59])\n",
      "Before transform: torch.Size([1, 32, 585])\n",
      "After transform: torch.Size([32, 293, 59])\n",
      "Before transform: torch.Size([1, 32, 585])\n",
      "After transform: torch.Size([32, 293, 59])\n",
      "Before transform: torch.Size([1, 32, 585])\n",
      "After transform: torch.Size([32, 293, 59])\n",
      "Before transform: torch.Size([1, 32, 585])\n",
      "After transform: torch.Size([32, 293, 59])\n",
      "Before transform: torch.Size([1, 32, 585])\n",
      "After transform: torch.Size([32, 293, 59])\n"
     ]
    },
    {
     "name": "stderr",
     "output_type": "stream",
     "text": [
      " 57%|█████▋    | 3391/5976 [00:55<00:23, 108.19it/s]"
     ]
    },
    {
     "name": "stdout",
     "output_type": "stream",
     "text": [
      "Before transform: torch.Size([1, 32, 585])\n",
      "After transform: torch.Size([32, 293, 59])\n",
      "Before transform: torch.Size([1, 32, 585])\n",
      "After transform: torch.Size([32, 293, 59])\n",
      "Before transform: torch.Size([1, 32, 585])\n",
      "After transform: torch.Size([32, 293, 59])\n",
      "Before transform: torch.Size([1, 32, 585])\n",
      "After transform: torch.Size([32, 293, 59])\n",
      "Before transform: torch.Size([1, 32, 585])\n",
      "After transform: torch.Size([32, 293, 59])\n",
      "Before transform: torch.Size([1, 32, 585])\n",
      "After transform: torch.Size([32, 293, 59])\n",
      "Before transform: torch.Size([1, 32, 585])\n",
      "After transform: torch.Size([32, 293, 59])\n",
      "Before transform: torch.Size([1, 32, 585])\n",
      "After transform: torch.Size([32, 293, 59])\n",
      "Before transform: torch.Size([1, 32, 585])\n",
      "After transform: torch.Size([32, 293, 59])\n",
      "Before transform: torch.Size([1, 32, 585])\n",
      "After transform: torch.Size([32, 293, 59])\n",
      "Before transform: torch.Size([1, 32, 585])\n",
      "After transform: torch.Size([32, 293, 59])\n",
      "Before transform: torch.Size([1, 32, 585])\n",
      "After transform: torch.Size([32, 293, 59])\n",
      "Before transform: torch.Size([1, 32, 585])\n",
      "After transform: torch.Size([32, 293, 59])\n",
      "Before transform: torch.Size([1, 32, 585])\n",
      "After transform: torch.Size([32, 293, 59])\n",
      "Before transform: torch.Size([1, 32, 585])\n",
      "After transform: torch.Size([32, 293, 59])\n",
      "Before transform: torch.Size([1, 32, 585])\n",
      "After transform: torch.Size([32, 293, 59])\n",
      "Before transform: torch.Size([1, 32, 585])\n"
     ]
    },
    {
     "name": "stderr",
     "output_type": "stream",
     "text": [
      " 57%|█████▋    | 3413/5976 [00:56<00:28, 91.42it/s] "
     ]
    },
    {
     "name": "stdout",
     "output_type": "stream",
     "text": [
      "After transform: torch.Size([32, 293, 59])\n",
      "Before transform: torch.Size([1, 32, 585])\n",
      "After transform: torch.Size([32, 293, 59])\n",
      "Before transform: torch.Size([1, 32, 585])\n",
      "After transform: torch.Size([32, 293, 59])\n",
      "Before transform: torch.Size([1, 32, 585])\n",
      "After transform: torch.Size([32, 293, 59])\n",
      "Before transform: torch.Size([1, 32, 585])\n",
      "After transform: torch.Size([32, 293, 59])\n",
      "Before transform: torch.Size([1, 32, 585])\n",
      "After transform: torch.Size([32, 293, 59])\n",
      "Before transform: torch.Size([1, 32, 585])\n",
      "After transform: torch.Size([32, 293, 59])\n",
      "Before transform: torch.Size([1, 32, 585])\n",
      "After transform: torch.Size([32, 293, 59])\n",
      "Before transform: torch.Size([1, 32, 585])\n",
      "After transform: torch.Size([32, 293, 59])\n",
      "Before transform: torch.Size([1, 32, 585])\n",
      "After transform: torch.Size([32, 293, 59])\n",
      "Before transform: torch.Size([1, 32, 585])\n",
      "After transform: torch.Size([32, 293, 59])\n",
      "Before transform: torch.Size([1, 32, 585])\n",
      "After transform: torch.Size([32, 293, 59])\n",
      "Before transform: torch.Size([1, 32, 585])\n",
      "After transform: torch.Size([32, 293, 59])\n",
      "Before transform: torch.Size([1, 32, 585])\n",
      "After transform: torch.Size([32, 293, 59])\n",
      "Before transform: torch.Size([1, 32, 585])\n",
      "After transform: torch.Size([32, 293, 59])\n",
      "Before transform: torch.Size([1, 32, 585])\n",
      "After transform: torch.Size([32, 293, 59])\n",
      "Before transform: torch.Size([1, 32, 585])\n",
      "After transform: torch.Size([32, 293, 59])\n",
      "Before transform: torch.Size([1, 32, 585])\n",
      "After transform: torch.Size([32, 293, 59])\n",
      "Before transform: torch.Size([1, 32, 585])\n",
      "After transform: torch.Size([32, 293, 59])\n",
      "Before transform: torch.Size([1, 32, 585])\n",
      "After transform: torch.Size([32, 293, 59])\n",
      "Before transform: torch.Size([1, 32, 585])\n",
      "After transform: torch.Size([32, 293, 59])\n",
      "Before transform: torch.Size([1, 32, 585])\n",
      "After transform: torch.Size([32, 293, 59])\n"
     ]
    },
    {
     "name": "stderr",
     "output_type": "stream",
     "text": [
      " 57%|█████▋    | 3433/5976 [00:56<00:27, 91.70it/s]"
     ]
    },
    {
     "name": "stdout",
     "output_type": "stream",
     "text": [
      "Before transform: torch.Size([1, 32, 585])\n",
      "After transform: torch.Size([32, 293, 59])\n",
      "Before transform: torch.Size([1, 32, 585])\n",
      "After transform: torch.Size([32, 293, 59])\n",
      "Before transform: torch.Size([1, 32, 585])\n",
      "After transform: torch.Size([32, 293, 59])\n",
      "Before transform: torch.Size([1, 32, 585])\n",
      "After transform: torch.Size([32, 293, 59])\n",
      "Before transform: torch.Size([1, 32, 585])\n",
      "After transform: torch.Size([32, 293, 59])\n",
      "Before transform: torch.Size([1, 32, 585])\n",
      "After transform: torch.Size([32, 293, 59])\n",
      "Before transform: torch.Size([1, 32, 585])\n",
      "After transform: torch.Size([32, 293, 59])\n",
      "Before transform: torch.Size([1, 32, 585])\n",
      "After transform: torch.Size([32, 293, 59])\n",
      "Before transform: torch.Size([1, 32, 585])\n",
      "After transform: torch.Size([32, 293, 59])\n",
      "Before transform: torch.Size([1, 32, 585])\n",
      "After transform: torch.Size([32, 293, 59])\n",
      "Before transform: torch.Size([1, 32, 585])\n",
      "After transform: torch.Size([32, 293, 59])\n",
      "Before transform: torch.Size([1, 32, 585])\n",
      "After transform: torch.Size([32, 293, 59])\n",
      "Before transform: torch.Size([1, 32, 585])\n",
      "After transform: torch.Size([32, 293, 59])\n",
      "Before transform: torch.Size([1, 32, 585])\n",
      "After transform: torch.Size([32, 293, 59])\n",
      "Before transform: torch.Size([1, 32, 585])\n",
      "After transform: torch.Size([32, 293, 59])\n",
      "Before transform: torch.Size([1, 32, 585])\n",
      "After transform: torch.Size([32, 293, 59])\n",
      "Before transform: torch.Size([1, 32, 585])\n",
      "After transform: torch.Size([32, 293, 59])\n",
      "Before transform: torch.Size([1, 32, 585])\n"
     ]
    },
    {
     "name": "stderr",
     "output_type": "stream",
     "text": [
      " 58%|█████▊    | 3453/5976 [00:56<00:27, 92.15it/s]"
     ]
    },
    {
     "name": "stdout",
     "output_type": "stream",
     "text": [
      "After transform: torch.Size([32, 293, 59])\n",
      "Before transform: torch.Size([1, 32, 585])\n",
      "After transform: torch.Size([32, 293, 59])\n",
      "Before transform: torch.Size([1, 32, 585])\n",
      "After transform: torch.Size([32, 293, 59])\n",
      "Before transform: torch.Size([1, 32, 585])\n",
      "After transform: torch.Size([32, 293, 59])\n",
      "Before transform: torch.Size([1, 32, 585])\n",
      "After transform: torch.Size([32, 293, 59])\n",
      "Before transform: torch.Size([1, 32, 585])\n",
      "After transform: torch.Size([32, 293, 59])\n",
      "Before transform: torch.Size([1, 32, 585])\n",
      "After transform: torch.Size([32, 293, 59])\n",
      "Before transform: torch.Size([1, 32, 585])\n",
      "After transform: torch.Size([32, 293, 59])\n",
      "Before transform: torch.Size([1, 32, 585])\n",
      "After transform: torch.Size([32, 293, 59])\n",
      "Before transform: torch.Size([1, 32, 585])\n",
      "After transform: torch.Size([32, 293, 59])\n",
      "Before transform: torch.Size([1, 32, 585])\n",
      "After transform: torch.Size([32, 293, 59])\n",
      "Before transform: torch.Size([1, 32, 585])\n",
      "After transform: torch.Size([32, 293, 59])\n",
      "Before transform: torch.Size([1, 32, 585])\n",
      "After transform: torch.Size([32, 293, 59])\n",
      "Before transform: torch.Size([1, 32, 585])\n",
      "After transform: torch.Size([32, 293, 59])\n",
      "Before transform: torch.Size([1, 32, 585])\n",
      "After transform: torch.Size([32, 293, 59])\n",
      "Before transform: torch.Size([1, 32, 585])\n",
      "After transform: torch.Size([32, 293, 59])\n",
      "Before transform: torch.Size([1, 32, 585])\n",
      "After transform: torch.Size([32, 293, 59])\n",
      "Before transform: torch.Size([1, 32, 585])\n",
      "After transform: torch.Size([32, 293, 59])\n",
      "Before transform: torch.Size([1, 32, 585])\n",
      "After transform: torch.Size([32, 293, 59])\n",
      "Before transform: torch.Size([1, 32, 585])\n"
     ]
    },
    {
     "name": "stderr",
     "output_type": "stream",
     "text": [
      " 58%|█████▊    | 3463/5976 [00:56<00:28, 89.56it/s]"
     ]
    },
    {
     "name": "stdout",
     "output_type": "stream",
     "text": [
      "After transform: torch.Size([32, 293, 59])\n",
      "Before transform: torch.Size([1, 32, 585])\n",
      "After transform: torch.Size([32, 293, 59])\n",
      "Before transform: torch.Size([1, 32, 585])\n",
      "After transform: torch.Size([32, 293, 59])\n",
      "Before transform: torch.Size([1, 32, 585])\n",
      "After transform: torch.Size([32, 293, 59])\n",
      "Before transform: torch.Size([1, 32, 585])\n",
      "After transform: torch.Size([32, 293, 59])\n",
      "Before transform: torch.Size([1, 32, 585])\n",
      "After transform: torch.Size([32, 293, 59])\n",
      "Before transform: torch.Size([1, 32, 585])\n",
      "After transform: torch.Size([32, 293, 59])\n",
      "Before transform: torch.Size([1, 32, 585])\n",
      "After transform: torch.Size([32, 293, 59])\n",
      "Before transform: torch.Size([1, 32, 585])\n",
      "After transform: torch.Size([32, 293, 59])\n",
      "Before transform: torch.Size([1, 32, 585])\n",
      "After transform: torch.Size([32, 293, 59])\n",
      "Before transform: torch.Size([1, 32, 585])\n",
      "After transform: torch.Size([32, 293, 59])\n",
      "Before transform: torch.Size([1, 32, 585])\n",
      "After transform: torch.Size([32, 293, 59])\n",
      "Before transform: torch.Size([1, 32, 585])\n",
      "After transform: torch.Size([32, 293, 59])\n",
      "Before transform: torch.Size([1, 32, 585])\n",
      "After transform: torch.Size([32, 293, 59])\n",
      "Before transform: torch.Size([1, 32, 585])\n",
      "After transform: torch.Size([32, 293, 59])\n",
      "Before transform: torch.Size([1, 32, 585])\n",
      "After transform: torch.Size([32, 293, 59])\n",
      "Before transform: torch.Size([1, 32, 585])\n",
      "After transform: torch.Size([32, 293, 59])\n",
      "Before transform: torch.Size([1, 32, 585])\n",
      "After transform: torch.Size([32, 293, 59])\n",
      "Before transform: torch.Size([1, 32, 585])\n"
     ]
    },
    {
     "name": "stderr",
     "output_type": "stream",
     "text": [
      " 58%|█████▊    | 3483/5976 [00:56<00:27, 89.64it/s]"
     ]
    },
    {
     "name": "stdout",
     "output_type": "stream",
     "text": [
      "After transform: torch.Size([32, 293, 59])\n",
      "Before transform: torch.Size([1, 32, 585])\n",
      "After transform: torch.Size([32, 293, 59])\n",
      "Before transform: torch.Size([1, 32, 585])\n",
      "After transform: torch.Size([32, 293, 59])\n",
      "Before transform: torch.Size([1, 32, 585])\n",
      "After transform: torch.Size([32, 293, 59])\n",
      "Before transform: torch.Size([1, 32, 585])\n",
      "After transform: torch.Size([32, 293, 59])\n",
      "Before transform: torch.Size([1, 32, 585])\n",
      "After transform: torch.Size([32, 293, 59])\n",
      "Before transform: torch.Size([1, 32, 585])\n",
      "After transform: torch.Size([32, 293, 59])\n",
      "Before transform: torch.Size([1, 32, 585])\n",
      "After transform: torch.Size([32, 293, 59])\n",
      "Before transform: torch.Size([1, 32, 585])\n",
      "After transform: torch.Size([32, 293, 59])\n",
      "Before transform: torch.Size([1, 32, 585])\n",
      "After transform: torch.Size([32, 293, 59])\n",
      "Before transform: torch.Size([1, 32, 585])\n",
      "After transform: torch.Size([32, 293, 59])\n",
      "Before transform: torch.Size([1, 32, 585])\n",
      "After transform: torch.Size([32, 293, 59])\n",
      "Before transform: torch.Size([1, 32, 585])\n",
      "After transform: torch.Size([32, 293, 59])\n",
      "Before transform: torch.Size([1, 32, 585])\n",
      "After transform: torch.Size([32, 293, 59])\n",
      "Before transform: torch.Size([1, 32, 585])\n",
      "After transform: torch.Size([32, 293, 59])\n",
      "Before transform: torch.Size([1, 32, 585])\n",
      "After transform: torch.Size([32, 293, 59])\n",
      "Before transform: torch.Size([1, 32, 585])\n",
      "After transform: torch.Size([32, 293, 59])\n",
      "Before transform: torch.Size([1, 32, 585])\n",
      "After transform: torch.Size([32, 293, 59])\n",
      "Before transform: torch.Size([1, 32, 585])\n"
     ]
    },
    {
     "name": "stderr",
     "output_type": "stream",
     "text": [
      " 58%|█████▊    | 3493/5976 [00:57<00:27, 88.85it/s]"
     ]
    },
    {
     "name": "stdout",
     "output_type": "stream",
     "text": [
      "After transform: torch.Size([32, 293, 59])\n",
      "Before transform: torch.Size([1, 32, 585])\n",
      "After transform: torch.Size([32, 293, 59])\n",
      "Before transform: torch.Size([1, 32, 585])\n",
      "After transform: torch.Size([32, 293, 59])\n",
      "Before transform: torch.Size([1, 32, 585])\n",
      "After transform: torch.Size([32, 293, 59])\n",
      "Before transform: torch.Size([1, 32, 585])\n",
      "After transform: torch.Size([32, 293, 59])\n",
      "Before transform: torch.Size([1, 32, 585])\n",
      "After transform: torch.Size([32, 293, 59])\n",
      "Before transform: torch.Size([1, 32, 585])\n"
     ]
    },
    {
     "name": "stderr",
     "output_type": "stream",
     "text": [
      " 59%|█████▉    | 3511/5976 [00:57<00:36, 68.14it/s]"
     ]
    },
    {
     "name": "stdout",
     "output_type": "stream",
     "text": [
      "After transform: torch.Size([32, 293, 59])\n",
      "Before transform: torch.Size([1, 32, 585])\n",
      "After transform: torch.Size([32, 293, 59])\n",
      "Before transform: torch.Size([1, 32, 585])\n",
      "After transform: torch.Size([32, 293, 59])\n",
      "Before transform: torch.Size([1, 32, 585])\n",
      "After transform: torch.Size([32, 293, 59])\n",
      "Before transform: torch.Size([1, 32, 585])\n",
      "After transform: torch.Size([32, 293, 59])\n",
      "Before transform: torch.Size([1, 32, 585])\n",
      "After transform: torch.Size([32, 293, 59])\n",
      "Before transform: torch.Size([1, 32, 585])\n",
      "After transform: torch.Size([32, 293, 59])\n",
      "Before transform: torch.Size([1, 32, 585])\n",
      "After transform: torch.Size([32, 293, 59])\n",
      "Before transform: torch.Size([1, 32, 585])\n",
      "After transform: torch.Size([32, 293, 59])\n",
      "Before transform: torch.Size([1, 32, 585])\n",
      "After transform: torch.Size([32, 293, 59])\n",
      "Before transform: torch.Size([1, 32, 585])\n",
      "After transform: torch.Size([32, 293, 59])\n",
      "Before transform: torch.Size([1, 32, 585])\n",
      "After transform: torch.Size([32, 293, 59])\n",
      "Before transform: torch.Size([1, 32, 585])\n",
      "After transform: torch.Size([32, 293, 59])\n",
      "Before transform: torch.Size([1, 32, 585])\n",
      "After transform: torch.Size([32, 293, 59])\n",
      "Before transform: torch.Size([1, 32, 585])\n",
      "After transform: torch.Size([32, 293, 59])\n",
      "Before transform: torch.Size([1, 32, 585])\n",
      "After transform: torch.Size([32, 293, 59])\n",
      "Before transform: torch.Size([1, 32, 585])\n",
      "After transform: torch.Size([32, 293, 59])\n",
      "Before transform: torch.Size([1, 32, 585])\n",
      "After transform: torch.Size([32, 293, 59])\n",
      "Before transform: torch.Size([1, 32, 585])\n"
     ]
    },
    {
     "name": "stderr",
     "output_type": "stream",
     "text": [
      " 59%|█████▉    | 3532/5976 [00:57<00:29, 82.71it/s]"
     ]
    },
    {
     "name": "stdout",
     "output_type": "stream",
     "text": [
      "After transform: torch.Size([32, 293, 59])\n",
      "Before transform: torch.Size([1, 32, 585])\n",
      "After transform: torch.Size([32, 293, 59])\n",
      "Before transform: torch.Size([1, 32, 585])\n",
      "After transform: torch.Size([32, 293, 59])\n",
      "Before transform: torch.Size([1, 32, 585])\n",
      "After transform: torch.Size([32, 293, 59])\n",
      "Before transform: torch.Size([1, 32, 585])\n",
      "After transform: torch.Size([32, 293, 59])\n",
      "Before transform: torch.Size([1, 32, 585])\n",
      "After transform: torch.Size([32, 293, 59])\n",
      "Before transform: torch.Size([1, 32, 585])\n",
      "After transform: torch.Size([32, 293, 59])\n",
      "Before transform: torch.Size([1, 32, 585])\n",
      "After transform: torch.Size([32, 293, 59])\n",
      "Before transform: torch.Size([1, 32, 585])\n",
      "After transform: torch.Size([32, 293, 59])\n",
      "Before transform: torch.Size([1, 32, 585])\n",
      "After transform: torch.Size([32, 293, 59])\n",
      "Before transform: torch.Size([1, 32, 585])\n",
      "After transform: torch.Size([32, 293, 59])\n",
      "Before transform: torch.Size([1, 32, 585])\n",
      "After transform: torch.Size([32, 293, 59])\n",
      "Before transform: torch.Size([1, 32, 585])\n",
      "After transform: torch.Size([32, 293, 59])\n",
      "Before transform: torch.Size([1, 32, 585])\n",
      "After transform: torch.Size([32, 293, 59])\n",
      "Before transform: torch.Size([1, 32, 585])\n",
      "After transform: torch.Size([32, 293, 59])\n",
      "Before transform: torch.Size([1, 32, 585])\n",
      "After transform: torch.Size([32, 293, 59])\n",
      "Before transform: torch.Size([1, 32, 585])\n",
      "After transform: torch.Size([32, 293, 59])\n",
      "Before transform: torch.Size([1, 32, 585])\n",
      "After transform: torch.Size([32, 293, 59])\n",
      "Before transform: torch.Size([1, 32, 585])\n",
      "After transform: torch.Size([32, 293, 59])\n",
      "Before transform: torch.Size([1, 32, 585])\n",
      "After transform: torch.Size([32, 293, 59])\n",
      "Before transform: torch.Size([1, 32, 585])\n",
      "After transform: torch.Size([32, 293, 59])\n",
      "Before transform: torch.Size([1, 32, 585])\n"
     ]
    },
    {
     "name": "stderr",
     "output_type": "stream",
     "text": [
      " 59%|█████▉    | 3554/5976 [00:57<00:25, 94.24it/s]"
     ]
    },
    {
     "name": "stdout",
     "output_type": "stream",
     "text": [
      "After transform: torch.Size([32, 293, 59])\n",
      "Before transform: torch.Size([1, 32, 585])\n",
      "After transform: torch.Size([32, 293, 59])\n",
      "Before transform: torch.Size([1, 32, 585])\n",
      "After transform: torch.Size([32, 293, 59])\n",
      "Before transform: torch.Size([1, 32, 585])\n",
      "After transform: torch.Size([32, 293, 59])\n",
      "Before transform: torch.Size([1, 32, 585])\n",
      "After transform: torch.Size([32, 293, 59])\n",
      "Before transform: torch.Size([1, 32, 585])\n",
      "After transform: torch.Size([32, 293, 59])\n",
      "Before transform: torch.Size([1, 32, 585])\n",
      "After transform: torch.Size([32, 293, 59])\n",
      "Before transform: torch.Size([1, 32, 585])\n",
      "After transform: torch.Size([32, 293, 59])\n",
      "Before transform: torch.Size([1, 32, 585])\n",
      "After transform: torch.Size([32, 293, 59])\n",
      "Before transform: torch.Size([1, 32, 585])\n",
      "After transform: torch.Size([32, 293, 59])\n",
      "Before transform: torch.Size([1, 32, 585])\n",
      "After transform: torch.Size([32, 293, 59])\n",
      "Before transform: torch.Size([1, 32, 585])\n",
      "After transform: torch.Size([32, 293, 59])\n",
      "Before transform: torch.Size([1, 32, 585])\n",
      "After transform: torch.Size([32, 293, 59])\n",
      "Before transform: torch.Size([1, 32, 585])\n",
      "After transform: torch.Size([32, 293, 59])\n",
      "Before transform: torch.Size([1, 32, 585])\n",
      "After transform: torch.Size([32, 293, 59])\n",
      "Before transform: torch.Size([1, 32, 585])\n",
      "After transform: torch.Size([32, 293, 59])\n",
      "Before transform: torch.Size([1, 32, 585])\n",
      "After transform: torch.Size([32, 293, 59])\n",
      "Before transform: torch.Size([1, 32, 585])\n",
      "After transform: torch.Size([32, 293, 59])\n",
      "Before transform: torch.Size([1, 32, 585])\n",
      "After transform: torch.Size([32, 293, 59])\n",
      "Before transform: torch.Size([1, 32, 585])\n",
      "After transform: torch.Size([32, 293, 59])\n",
      "Before transform: torch.Size([1, 32, 585])\n",
      "After transform: torch.Size([32, 293, 59])\n",
      "Before transform: torch.Size([1, 32, 585])\n",
      "After transform: torch.Size([32, 293, 59])\n",
      "Before transform: torch.Size([1, 32, 585])\n"
     ]
    },
    {
     "name": "stderr",
     "output_type": "stream",
     "text": [
      " 60%|█████▉    | 3576/5976 [00:58<00:24, 99.52it/s]"
     ]
    },
    {
     "name": "stdout",
     "output_type": "stream",
     "text": [
      "After transform: torch.Size([32, 293, 59])\n",
      "Before transform: torch.Size([1, 32, 585])\n",
      "After transform: torch.Size([32, 293, 59])\n",
      "Before transform: torch.Size([1, 32, 585])\n",
      "After transform: torch.Size([32, 293, 59])\n",
      "Before transform: torch.Size([1, 32, 585])\n",
      "After transform: torch.Size([32, 293, 59])\n",
      "Before transform: torch.Size([1, 32, 585])\n",
      "After transform: torch.Size([32, 293, 59])\n",
      "Before transform: torch.Size([1, 32, 585])\n",
      "After transform: torch.Size([32, 293, 59])\n",
      "Before transform: torch.Size([1, 32, 585])\n",
      "After transform: torch.Size([32, 293, 59])\n",
      "Before transform: torch.Size([1, 32, 585])\n",
      "After transform: torch.Size([32, 293, 59])\n",
      "Before transform: torch.Size([1, 32, 585])\n",
      "After transform: torch.Size([32, 293, 59])\n",
      "Before transform: torch.Size([1, 32, 585])\n",
      "After transform: torch.Size([32, 293, 59])\n",
      "Before transform: torch.Size([1, 32, 585])\n",
      "After transform: torch.Size([32, 293, 59])\n",
      "Before transform: torch.Size([1, 32, 585])\n",
      "After transform: torch.Size([32, 293, 59])\n",
      "Before transform: torch.Size([1, 32, 585])\n",
      "After transform: torch.Size([32, 293, 59])\n",
      "Before transform: torch.Size([1, 32, 585])\n",
      "After transform: torch.Size([32, 293, 59])\n",
      "Before transform: torch.Size([1, 32, 585])\n",
      "After transform: torch.Size([32, 293, 59])\n",
      "Before transform: torch.Size([1, 32, 585])\n",
      "After transform: torch.Size([32, 293, 59])\n",
      "Before transform: torch.Size([1, 32, 585])\n",
      "After transform: torch.Size([32, 293, 59])\n",
      "Before transform: torch.Size([1, 32, 585])\n",
      "After transform: torch.Size([32, 293, 59])\n",
      "Before transform: torch.Size([1, 32, 585])\n",
      "After transform: torch.Size([32, 293, 59])\n",
      "Before transform: torch.Size([1, 32, 585])\n",
      "After transform: torch.Size([32, 293, 59])\n",
      "Before transform: torch.Size([1, 32, 585])\n",
      "After transform: torch.Size([32, 293, 59])\n",
      "Before transform: torch.Size([1, 32, 585])\n"
     ]
    },
    {
     "name": "stderr",
     "output_type": "stream",
     "text": [
      " 60%|██████    | 3599/5976 [00:58<00:22, 104.83it/s]"
     ]
    },
    {
     "name": "stdout",
     "output_type": "stream",
     "text": [
      "After transform: torch.Size([32, 293, 59])\n",
      "Before transform: torch.Size([1, 32, 585])\n",
      "After transform: torch.Size([32, 293, 59])\n",
      "Before transform: torch.Size([1, 32, 585])\n",
      "After transform: torch.Size([32, 293, 59])\n",
      "Before transform: torch.Size([1, 32, 585])\n",
      "After transform: torch.Size([32, 293, 59])\n",
      "Before transform: torch.Size([1, 32, 585])\n",
      "After transform: torch.Size([32, 293, 59])\n",
      "Before transform: torch.Size([1, 32, 585])\n",
      "After transform: torch.Size([32, 293, 59])\n",
      "Before transform: torch.Size([1, 32, 585])\n",
      "After transform: torch.Size([32, 293, 59])\n",
      "Before transform: torch.Size([1, 32, 585])\n",
      "After transform: torch.Size([32, 293, 59])\n",
      "Before transform: torch.Size([1, 32, 585])\n",
      "After transform: torch.Size([32, 293, 59])\n",
      "Before transform: torch.Size([1, 32, 585])\n",
      "After transform: torch.Size([32, 293, 59])\n",
      "Before transform: torch.Size([1, 32, 585])\n",
      "After transform: torch.Size([32, 293, 59])\n",
      "Before transform: torch.Size([1, 32, 585])\n",
      "After transform: torch.Size([32, 293, 59])\n",
      "Before transform: torch.Size([1, 32, 585])\n",
      "After transform: torch.Size([32, 293, 59])\n",
      "Before transform: torch.Size([1, 32, 585])\n",
      "After transform: torch.Size([32, 293, 59])\n",
      "Before transform: torch.Size([1, 32, 585])\n",
      "After transform: torch.Size([32, 293, 59])\n",
      "Before transform: torch.Size([1, 32, 585])\n",
      "After transform: torch.Size([32, 293, 59])\n",
      "Before transform: torch.Size([1, 32, 585])\n",
      "After transform: torch.Size([32, 293, 59])\n",
      "Before transform: torch.Size([1, 32, 585])\n",
      "After transform: torch.Size([32, 293, 59])\n",
      "Before transform: torch.Size([1, 32, 585])\n",
      "After transform: torch.Size([32, 293, 59])\n",
      "Before transform: torch.Size([1, 32, 585])\n",
      "After transform: torch.Size([32, 293, 59])\n",
      "Before transform: torch.Size([1, 32, 585])\n",
      "After transform: torch.Size([32, 293, 59])\n",
      "Before transform: torch.Size([1, 32, 585])\n",
      "After transform: torch.Size([32, 293, 59])\n",
      "Before transform: torch.Size([1, 32, 585])\n",
      "After transform: torch.Size([32, 293, 59])\n",
      "Before transform: torch.Size([1, 32, 585])\n"
     ]
    },
    {
     "name": "stderr",
     "output_type": "stream",
     "text": [
      " 60%|██████    | 3610/5976 [00:58<00:22, 104.40it/s]"
     ]
    },
    {
     "name": "stdout",
     "output_type": "stream",
     "text": [
      "After transform: torch.Size([32, 293, 59])\n",
      "Before transform: torch.Size([1, 32, 585])\n",
      "After transform: torch.Size([32, 293, 59])\n",
      "Before transform: torch.Size([1, 32, 585])\n",
      "After transform: torch.Size([32, 293, 59])\n",
      "Before transform: torch.Size([1, 32, 585])\n",
      "After transform: torch.Size([32, 293, 59])\n",
      "Before transform: torch.Size([1, 32, 585])\n",
      "After transform: torch.Size([32, 293, 59])\n",
      "Before transform: torch.Size([1, 32, 585])\n",
      "After transform: torch.Size([32, 293, 59])\n",
      "Before transform: torch.Size([1, 32, 585])\n",
      "After transform: torch.Size([32, 293, 59])\n",
      "Before transform: torch.Size([1, 32, 585])\n",
      "After transform: torch.Size([32, 293, 59])\n",
      "Before transform: torch.Size([1, 32, 585])\n",
      "After transform: torch.Size([32, 293, 59])\n",
      "Before transform: torch.Size([1, 32, 585])\n",
      "After transform: torch.Size([32, 293, 59])\n",
      "Before transform: torch.Size([1, 32, 585])\n",
      "After transform: torch.Size([32, 293, 59])\n",
      "Before transform: torch.Size([1, 32, 585])\n",
      "After transform: torch.Size([32, 293, 59])\n",
      "Before transform: torch.Size([1, 32, 585])\n",
      "After transform: torch.Size([32, 293, 59])\n",
      "Before transform: torch.Size([1, 32, 585])\n"
     ]
    },
    {
     "name": "stderr",
     "output_type": "stream",
     "text": [
      " 61%|██████    | 3632/5976 [00:58<00:26, 88.56it/s] "
     ]
    },
    {
     "name": "stdout",
     "output_type": "stream",
     "text": [
      "After transform: torch.Size([32, 293, 59])\n",
      "Before transform: torch.Size([1, 32, 585])\n",
      "After transform: torch.Size([32, 293, 59])\n",
      "Before transform: torch.Size([1, 32, 585])\n",
      "After transform: torch.Size([32, 293, 59])\n",
      "Before transform: torch.Size([1, 32, 585])\n",
      "After transform: torch.Size([32, 293, 59])\n",
      "Before transform: torch.Size([1, 32, 585])\n",
      "After transform: torch.Size([32, 293, 59])\n",
      "Before transform: torch.Size([1, 32, 585])\n",
      "After transform: torch.Size([32, 293, 59])\n",
      "Before transform: torch.Size([1, 32, 585])\n",
      "After transform: torch.Size([32, 293, 59])\n",
      "Before transform: torch.Size([1, 32, 585])\n",
      "After transform: torch.Size([32, 293, 59])\n",
      "Before transform: torch.Size([1, 32, 585])\n",
      "After transform: torch.Size([32, 293, 59])\n",
      "Before transform: torch.Size([1, 32, 585])\n",
      "After transform: torch.Size([32, 293, 59])\n",
      "Before transform: torch.Size([1, 32, 585])\n",
      "After transform: torch.Size([32, 293, 59])\n",
      "Before transform: torch.Size([1, 32, 585])\n",
      "After transform: torch.Size([32, 293, 59])\n",
      "Before transform: torch.Size([1, 32, 585])\n",
      "After transform: torch.Size([32, 293, 59])\n",
      "Before transform: torch.Size([1, 32, 585])\n",
      "After transform: torch.Size([32, 293, 59])\n",
      "Before transform: torch.Size([1, 32, 585])\n",
      "After transform: torch.Size([32, 293, 59])\n",
      "Before transform: torch.Size([1, 32, 585])\n",
      "After transform: torch.Size([32, 293, 59])\n",
      "Before transform: torch.Size([1, 32, 585])\n",
      "After transform: torch.Size([32, 293, 59])\n",
      "Before transform: torch.Size([1, 32, 585])\n",
      "After transform: torch.Size([32, 293, 59])\n",
      "Before transform: torch.Size([1, 32, 585])\n",
      "After transform: torch.Size([32, 293, 59])\n",
      "Before transform: torch.Size([1, 32, 585])\n",
      "After transform: torch.Size([32, 293, 59])\n",
      "Before transform: torch.Size([1, 32, 585])\n",
      "After transform: torch.Size([32, 293, 59])\n",
      "Before transform: torch.Size([1, 32, 585])\n"
     ]
    },
    {
     "name": "stderr",
     "output_type": "stream",
     "text": [
      " 61%|██████    | 3654/5976 [00:58<00:23, 98.06it/s]"
     ]
    },
    {
     "name": "stdout",
     "output_type": "stream",
     "text": [
      "After transform: torch.Size([32, 293, 59])\n",
      "Before transform: torch.Size([1, 32, 585])\n",
      "After transform: torch.Size([32, 293, 59])\n",
      "Before transform: torch.Size([1, 32, 585])\n",
      "After transform: torch.Size([32, 293, 59])\n",
      "Before transform: torch.Size([1, 32, 585])\n",
      "After transform: torch.Size([32, 293, 59])\n",
      "Before transform: torch.Size([1, 32, 585])\n",
      "After transform: torch.Size([32, 293, 59])\n",
      "Before transform: torch.Size([1, 32, 585])\n",
      "After transform: torch.Size([32, 293, 59])\n",
      "Before transform: torch.Size([1, 32, 585])\n",
      "After transform: torch.Size([32, 293, 59])\n",
      "Before transform: torch.Size([1, 32, 585])\n",
      "After transform: torch.Size([32, 293, 59])\n",
      "Before transform: torch.Size([1, 32, 585])\n",
      "After transform: torch.Size([32, 293, 59])\n",
      "Before transform: torch.Size([1, 32, 585])\n",
      "After transform: torch.Size([32, 293, 59])\n",
      "Before transform: torch.Size([1, 32, 585])\n",
      "After transform: torch.Size([32, 293, 59])\n",
      "Before transform: torch.Size([1, 32, 585])\n",
      "After transform: torch.Size([32, 293, 59])\n",
      "Before transform: torch.Size([1, 32, 585])\n",
      "After transform: torch.Size([32, 293, 59])\n",
      "Before transform: torch.Size([1, 32, 585])\n",
      "After transform: torch.Size([32, 293, 59])\n",
      "Before transform: torch.Size([1, 32, 585])\n",
      "After transform: torch.Size([32, 293, 59])\n",
      "Before transform: torch.Size([1, 32, 585])\n",
      "After transform: torch.Size([32, 293, 59])\n",
      "Before transform: torch.Size([1, 32, 585])\n",
      "After transform: torch.Size([32, 293, 59])\n",
      "Before transform: torch.Size([1, 32, 585])\n",
      "After transform: torch.Size([32, 293, 59])\n",
      "Before transform: torch.Size([1, 32, 585])\n",
      "After transform: torch.Size([32, 293, 59])\n",
      "Before transform: torch.Size([1, 32, 585])\n",
      "After transform: torch.Size([32, 293, 59])\n",
      "Before transform: torch.Size([1, 32, 585])\n",
      "After transform: torch.Size([32, 293, 59])\n",
      "Before transform: torch.Size([1, 32, 585])\n",
      "After transform: torch.Size([32, 293, 59])\n",
      "Before transform: torch.Size([1, 32, 585])\n"
     ]
    },
    {
     "name": "stderr",
     "output_type": "stream",
     "text": [
      " 62%|██████▏   | 3676/5976 [00:59<00:22, 102.49it/s]"
     ]
    },
    {
     "name": "stdout",
     "output_type": "stream",
     "text": [
      "After transform: torch.Size([32, 293, 59])\n",
      "Before transform: torch.Size([1, 32, 585])\n",
      "After transform: torch.Size([32, 293, 59])\n",
      "Before transform: torch.Size([1, 32, 585])\n",
      "After transform: torch.Size([32, 293, 59])\n",
      "Before transform: torch.Size([1, 32, 585])\n",
      "After transform: torch.Size([32, 293, 59])\n",
      "Before transform: torch.Size([1, 32, 585])\n",
      "After transform: torch.Size([32, 293, 59])\n",
      "Before transform: torch.Size([1, 32, 585])\n",
      "After transform: torch.Size([32, 293, 59])\n",
      "Before transform: torch.Size([1, 32, 585])\n",
      "After transform: torch.Size([32, 293, 59])\n",
      "Before transform: torch.Size([1, 32, 585])\n",
      "After transform: torch.Size([32, 293, 59])\n",
      "Before transform: torch.Size([1, 32, 585])\n",
      "After transform: torch.Size([32, 293, 59])\n",
      "Before transform: torch.Size([1, 32, 585])\n",
      "After transform: torch.Size([32, 293, 59])\n",
      "Before transform: torch.Size([1, 32, 585])\n",
      "After transform: torch.Size([32, 293, 59])\n",
      "Before transform: torch.Size([1, 32, 585])\n",
      "After transform: torch.Size([32, 293, 59])\n",
      "Before transform: torch.Size([1, 32, 585])\n",
      "After transform: torch.Size([32, 293, 59])\n",
      "Before transform: torch.Size([1, 32, 585])\n",
      "After transform: torch.Size([32, 293, 59])\n",
      "Before transform: torch.Size([1, 32, 585])\n",
      "After transform: torch.Size([32, 293, 59])\n",
      "Before transform: torch.Size([1, 32, 585])\n",
      "After transform: torch.Size([32, 293, 59])\n",
      "Before transform: torch.Size([1, 32, 585])\n",
      "After transform: torch.Size([32, 293, 59])\n",
      "Before transform: torch.Size([1, 32, 585])\n",
      "After transform: torch.Size([32, 293, 59])\n",
      "Before transform: torch.Size([1, 32, 585])\n",
      "After transform: torch.Size([32, 293, 59])\n",
      "Before transform: torch.Size([1, 32, 585])\n",
      "After transform: torch.Size([32, 293, 59])\n",
      "Before transform: torch.Size([1, 32, 585])\n",
      "After transform: torch.Size([32, 293, 59])\n",
      "Before transform: torch.Size([1, 32, 585])\n",
      "After transform: torch.Size([32, 293, 59])\n",
      "Before transform: torch.Size([1, 32, 585])\n"
     ]
    },
    {
     "name": "stderr",
     "output_type": "stream",
     "text": [
      " 62%|██████▏   | 3698/5976 [00:59<00:21, 103.86it/s]"
     ]
    },
    {
     "name": "stdout",
     "output_type": "stream",
     "text": [
      "After transform: torch.Size([32, 293, 59])\n",
      "Before transform: torch.Size([1, 32, 585])\n",
      "After transform: torch.Size([32, 293, 59])\n",
      "Before transform: torch.Size([1, 32, 585])\n",
      "After transform: torch.Size([32, 293, 59])\n",
      "Before transform: torch.Size([1, 32, 585])\n",
      "After transform: torch.Size([32, 293, 59])\n",
      "Before transform: torch.Size([1, 32, 585])\n",
      "After transform: torch.Size([32, 293, 59])\n",
      "Before transform: torch.Size([1, 32, 585])\n",
      "After transform: torch.Size([32, 293, 59])\n",
      "Before transform: torch.Size([1, 32, 585])\n",
      "After transform: torch.Size([32, 293, 59])\n",
      "Before transform: torch.Size([1, 32, 585])\n",
      "After transform: torch.Size([32, 293, 59])\n",
      "Before transform: torch.Size([1, 32, 585])\n",
      "After transform: torch.Size([32, 293, 59])\n",
      "Before transform: torch.Size([1, 32, 585])\n",
      "After transform: torch.Size([32, 293, 59])\n",
      "Before transform: torch.Size([1, 32, 585])\n",
      "After transform: torch.Size([32, 293, 59])\n",
      "Before transform: torch.Size([1, 32, 585])\n",
      "After transform: torch.Size([32, 293, 59])\n",
      "Before transform: torch.Size([1, 32, 585])\n",
      "After transform: torch.Size([32, 293, 59])\n",
      "Before transform: torch.Size([1, 32, 585])\n",
      "After transform: torch.Size([32, 293, 59])\n",
      "Before transform: torch.Size([1, 32, 585])\n",
      "After transform: torch.Size([32, 293, 59])\n",
      "Before transform: torch.Size([1, 32, 585])\n",
      "After transform: torch.Size([32, 293, 59])\n",
      "Before transform: torch.Size([1, 32, 585])\n",
      "After transform: torch.Size([32, 293, 59])\n",
      "Before transform: torch.Size([1, 32, 585])\n",
      "After transform: torch.Size([32, 293, 59])\n",
      "Before transform: torch.Size([1, 32, 585])\n",
      "After transform: torch.Size([32, 293, 59])\n",
      "Before transform: torch.Size([1, 32, 585])\n",
      "After transform: torch.Size([32, 293, 59])\n",
      "Before transform: torch.Size([1, 32, 585])\n",
      "After transform: torch.Size([32, 293, 59])\n",
      "Before transform: torch.Size([1, 32, 585])\n",
      "After transform: torch.Size([32, 293, 59])\n"
     ]
    },
    {
     "name": "stderr",
     "output_type": "stream",
     "text": [
      " 62%|██████▏   | 3720/5976 [00:59<00:21, 105.38it/s]"
     ]
    },
    {
     "name": "stdout",
     "output_type": "stream",
     "text": [
      "Before transform: torch.Size([1, 32, 585])\n",
      "After transform: torch.Size([32, 293, 59])\n",
      "Before transform: torch.Size([1, 32, 585])\n",
      "After transform: torch.Size([32, 293, 59])\n",
      "Before transform: torch.Size([1, 32, 585])\n",
      "After transform: torch.Size([32, 293, 59])\n",
      "Before transform: torch.Size([1, 32, 585])\n",
      "After transform: torch.Size([32, 293, 59])\n",
      "Before transform: torch.Size([1, 32, 585])\n",
      "After transform: torch.Size([32, 293, 59])\n",
      "Before transform: torch.Size([1, 32, 585])\n",
      "After transform: torch.Size([32, 293, 59])\n",
      "Before transform: torch.Size([1, 32, 585])\n",
      "After transform: torch.Size([32, 293, 59])\n",
      "Before transform: torch.Size([1, 32, 585])\n",
      "After transform: torch.Size([32, 293, 59])\n",
      "Before transform: torch.Size([1, 32, 585])\n",
      "After transform: torch.Size([32, 293, 59])\n",
      "Before transform: torch.Size([1, 32, 585])\n",
      "After transform: torch.Size([32, 293, 59])\n",
      "Before transform: torch.Size([1, 32, 585])\n",
      "After transform: torch.Size([32, 293, 59])\n",
      "Before transform: torch.Size([1, 32, 585])\n",
      "After transform: torch.Size([32, 293, 59])\n",
      "Before transform: torch.Size([1, 32, 585])\n",
      "After transform: torch.Size([32, 293, 59])\n",
      "Before transform: torch.Size([1, 32, 585])\n",
      "After transform: torch.Size([32, 293, 59])\n",
      "Before transform: torch.Size([1, 32, 585])\n",
      "After transform: torch.Size([32, 293, 59])\n",
      "Before transform: torch.Size([1, 32, 585])\n",
      "After transform: torch.Size([32, 293, 59])\n",
      "Before transform: torch.Size([1, 32, 585])\n",
      "After transform: torch.Size([32, 293, 59])\n",
      "Before transform: torch.Size([1, 32, 585])\n",
      "After transform: torch.Size([32, 293, 59])\n",
      "Before transform: torch.Size([1, 32, 585])\n",
      "After transform: torch.Size([32, 293, 59])\n",
      "Before transform: torch.Size([1, 32, 585])\n",
      "After transform: torch.Size([32, 293, 59])\n",
      "Before transform: torch.Size([1, 32, 585])\n",
      "After transform: torch.Size([32, 293, 59])\n",
      "Before transform: torch.Size([1, 32, 585])\n"
     ]
    },
    {
     "name": "stderr",
     "output_type": "stream",
     "text": [
      " 62%|██████▏   | 3731/5976 [00:59<00:21, 105.61it/s]"
     ]
    },
    {
     "name": "stdout",
     "output_type": "stream",
     "text": [
      "After transform: torch.Size([32, 293, 59])\n",
      "Before transform: torch.Size([1, 32, 585])\n",
      "After transform: torch.Size([32, 293, 59])\n",
      "Before transform: torch.Size([1, 32, 585])\n",
      "After transform: torch.Size([32, 293, 59])\n",
      "Before transform: torch.Size([1, 32, 585])\n",
      "After transform: torch.Size([32, 293, 59])\n",
      "Before transform: torch.Size([1, 32, 585])\n",
      "After transform: torch.Size([32, 293, 59])\n",
      "Before transform: torch.Size([1, 32, 585])\n",
      "After transform: torch.Size([32, 293, 59])\n",
      "Before transform: torch.Size([1, 32, 585])\n",
      "After transform: torch.Size([32, 293, 59])\n",
      "Before transform: torch.Size([1, 32, 585])\n",
      "After transform: torch.Size([32, 293, 59])\n",
      "Before transform: torch.Size([1, 32, 585])\n",
      "After transform: torch.Size([32, 293, 59])\n",
      "Before transform: torch.Size([1, 32, 585])\n",
      "After transform: torch.Size([32, 293, 59])\n",
      "Before transform: torch.Size([1, 32, 585])\n",
      "After transform: torch.Size([32, 293, 59])\n",
      "Before transform: torch.Size([1, 32, 585])\n",
      "After transform: torch.Size([32, 293, 59])\n",
      "Before transform: torch.Size([1, 32, 585])\n",
      "After transform: torch.Size([32, 293, 59])\n",
      "Before transform: torch.Size([1, 32, 585])\n"
     ]
    },
    {
     "name": "stderr",
     "output_type": "stream",
     "text": [
      " 63%|██████▎   | 3753/5976 [00:59<00:25, 88.44it/s] "
     ]
    },
    {
     "name": "stdout",
     "output_type": "stream",
     "text": [
      "After transform: torch.Size([32, 293, 59])\n",
      "Before transform: torch.Size([1, 32, 585])\n",
      "After transform: torch.Size([32, 293, 59])\n",
      "Before transform: torch.Size([1, 32, 585])\n",
      "After transform: torch.Size([32, 293, 59])\n",
      "Before transform: torch.Size([1, 32, 585])\n",
      "After transform: torch.Size([32, 293, 59])\n",
      "Before transform: torch.Size([1, 32, 585])\n",
      "After transform: torch.Size([32, 293, 59])\n",
      "Before transform: torch.Size([1, 32, 585])\n",
      "After transform: torch.Size([32, 293, 59])\n",
      "Before transform: torch.Size([1, 32, 585])\n",
      "After transform: torch.Size([32, 293, 59])\n",
      "Before transform: torch.Size([1, 32, 585])\n",
      "After transform: torch.Size([32, 293, 59])\n",
      "Before transform: torch.Size([1, 32, 585])\n",
      "After transform: torch.Size([32, 293, 59])\n",
      "Before transform: torch.Size([1, 32, 585])\n",
      "After transform: torch.Size([32, 293, 59])\n",
      "Before transform: torch.Size([1, 32, 585])\n",
      "After transform: torch.Size([32, 293, 59])\n",
      "Before transform: torch.Size([1, 32, 585])\n",
      "After transform: torch.Size([32, 293, 59])\n",
      "Before transform: torch.Size([1, 32, 585])\n",
      "After transform: torch.Size([32, 293, 59])\n",
      "Before transform: torch.Size([1, 32, 585])\n",
      "After transform: torch.Size([32, 293, 59])\n",
      "Before transform: torch.Size([1, 32, 585])\n",
      "After transform: torch.Size([32, 293, 59])\n",
      "Before transform: torch.Size([1, 32, 585])\n",
      "After transform: torch.Size([32, 293, 59])\n",
      "Before transform: torch.Size([1, 32, 585])\n",
      "After transform: torch.Size([32, 293, 59])\n",
      "Before transform: torch.Size([1, 32, 585])\n",
      "After transform: torch.Size([32, 293, 59])\n",
      "Before transform: torch.Size([1, 32, 585])\n",
      "After transform: torch.Size([32, 293, 59])\n",
      "Before transform: torch.Size([1, 32, 585])\n",
      "After transform: torch.Size([32, 293, 59])\n",
      "Before transform: torch.Size([1, 32, 585])\n",
      "After transform: torch.Size([32, 293, 59])\n",
      "Before transform: torch.Size([1, 32, 585])\n"
     ]
    },
    {
     "name": "stderr",
     "output_type": "stream",
     "text": [
      " 63%|██████▎   | 3775/5976 [01:00<00:22, 96.67it/s]"
     ]
    },
    {
     "name": "stdout",
     "output_type": "stream",
     "text": [
      "After transform: torch.Size([32, 293, 59])\n",
      "Before transform: torch.Size([1, 32, 585])\n",
      "After transform: torch.Size([32, 293, 59])\n",
      "Before transform: torch.Size([1, 32, 585])\n",
      "After transform: torch.Size([32, 293, 59])\n",
      "Before transform: torch.Size([1, 32, 585])\n",
      "After transform: torch.Size([32, 293, 59])\n",
      "Before transform: torch.Size([1, 32, 585])\n",
      "After transform: torch.Size([32, 293, 59])\n",
      "Before transform: torch.Size([1, 32, 585])\n",
      "After transform: torch.Size([32, 293, 59])\n",
      "Before transform: torch.Size([1, 32, 585])\n",
      "After transform: torch.Size([32, 293, 59])\n",
      "Before transform: torch.Size([1, 32, 585])\n",
      "After transform: torch.Size([32, 293, 59])\n",
      "Before transform: torch.Size([1, 32, 585])\n",
      "After transform: torch.Size([32, 293, 59])\n",
      "Before transform: torch.Size([1, 32, 585])\n",
      "After transform: torch.Size([32, 293, 59])\n",
      "Before transform: torch.Size([1, 32, 585])\n",
      "After transform: torch.Size([32, 293, 59])\n",
      "Before transform: torch.Size([1, 32, 585])\n",
      "After transform: torch.Size([32, 293, 59])\n",
      "Before transform: torch.Size([1, 32, 585])\n",
      "After transform: torch.Size([32, 293, 59])\n",
      "Before transform: torch.Size([1, 32, 585])\n",
      "After transform: torch.Size([32, 293, 59])\n",
      "Before transform: torch.Size([1, 32, 585])\n",
      "After transform: torch.Size([32, 293, 59])\n",
      "Before transform: torch.Size([1, 32, 585])\n",
      "After transform: torch.Size([32, 293, 59])\n",
      "Before transform: torch.Size([1, 32, 585])\n",
      "After transform: torch.Size([32, 293, 59])\n",
      "Before transform: torch.Size([1, 32, 585])\n",
      "After transform: torch.Size([32, 293, 59])\n",
      "Before transform: torch.Size([1, 32, 585])\n",
      "After transform: torch.Size([32, 293, 59])\n",
      "Before transform: torch.Size([1, 32, 585])\n",
      "After transform: torch.Size([32, 293, 59])\n",
      "Before transform: torch.Size([1, 32, 585])\n",
      "After transform: torch.Size([32, 293, 59])\n",
      "Before transform: torch.Size([1, 32, 585])\n",
      "After transform: torch.Size([32, 293, 59])\n",
      "Before transform: torch.Size([1, 32, 585])\n"
     ]
    },
    {
     "name": "stderr",
     "output_type": "stream",
     "text": [
      " 64%|██████▎   | 3797/5976 [01:00<00:21, 101.23it/s]"
     ]
    },
    {
     "name": "stdout",
     "output_type": "stream",
     "text": [
      "After transform: torch.Size([32, 293, 59])\n",
      "Before transform: torch.Size([1, 32, 585])\n",
      "After transform: torch.Size([32, 293, 59])\n",
      "Before transform: torch.Size([1, 32, 585])\n",
      "After transform: torch.Size([32, 293, 59])\n",
      "Before transform: torch.Size([1, 32, 585])\n",
      "After transform: torch.Size([32, 293, 59])\n",
      "Before transform: torch.Size([1, 32, 585])\n",
      "After transform: torch.Size([32, 293, 59])\n",
      "Before transform: torch.Size([1, 32, 585])\n",
      "After transform: torch.Size([32, 293, 59])\n",
      "Before transform: torch.Size([1, 32, 585])\n",
      "After transform: torch.Size([32, 293, 59])\n",
      "Before transform: torch.Size([1, 32, 585])\n",
      "After transform: torch.Size([32, 293, 59])\n",
      "Before transform: torch.Size([1, 32, 585])\n",
      "After transform: torch.Size([32, 293, 59])\n",
      "Before transform: torch.Size([1, 32, 585])\n",
      "After transform: torch.Size([32, 293, 59])\n",
      "Before transform: torch.Size([1, 32, 585])\n",
      "After transform: torch.Size([32, 293, 59])\n",
      "Before transform: torch.Size([1, 32, 585])\n",
      "After transform: torch.Size([32, 293, 59])\n",
      "Before transform: torch.Size([1, 32, 585])\n",
      "After transform: torch.Size([32, 293, 59])\n",
      "Before transform: torch.Size([1, 32, 585])\n",
      "After transform: torch.Size([32, 293, 59])\n",
      "Before transform: torch.Size([1, 32, 585])\n",
      "After transform: torch.Size([32, 293, 59])\n",
      "Before transform: torch.Size([1, 32, 585])\n",
      "After transform: torch.Size([32, 293, 59])\n",
      "Before transform: torch.Size([1, 32, 585])\n",
      "After transform: torch.Size([32, 293, 59])\n",
      "Before transform: torch.Size([1, 32, 585])\n",
      "After transform: torch.Size([32, 293, 59])\n",
      "Before transform: torch.Size([1, 32, 585])\n",
      "After transform: torch.Size([32, 293, 59])\n",
      "Before transform: torch.Size([1, 32, 585])\n",
      "After transform: torch.Size([32, 293, 59])\n",
      "Before transform: torch.Size([1, 32, 585])\n",
      "After transform: torch.Size([32, 293, 59])\n",
      "Before transform: torch.Size([1, 32, 585])\n",
      "After transform: torch.Size([32, 293, 59])\n",
      "Before transform: torch.Size([1, 32, 585])\n"
     ]
    },
    {
     "name": "stderr",
     "output_type": "stream",
     "text": [
      " 64%|██████▍   | 3819/5976 [01:00<00:21, 99.08it/s] "
     ]
    },
    {
     "name": "stdout",
     "output_type": "stream",
     "text": [
      "After transform: torch.Size([32, 293, 59])\n",
      "Before transform: torch.Size([1, 32, 585])\n",
      "After transform: torch.Size([32, 293, 59])\n",
      "Before transform: torch.Size([1, 32, 585])\n",
      "After transform: torch.Size([32, 293, 59])\n",
      "Before transform: torch.Size([1, 32, 585])\n",
      "After transform: torch.Size([32, 293, 59])\n",
      "Before transform: torch.Size([1, 32, 585])\n",
      "After transform: torch.Size([32, 293, 59])\n",
      "Before transform: torch.Size([1, 32, 585])\n",
      "After transform: torch.Size([32, 293, 59])\n",
      "Before transform: torch.Size([1, 32, 585])\n",
      "After transform: torch.Size([32, 293, 59])\n",
      "Before transform: torch.Size([1, 32, 585])\n",
      "After transform: torch.Size([32, 293, 59])\n",
      "Before transform: torch.Size([1, 32, 585])\n",
      "After transform: torch.Size([32, 293, 59])\n",
      "Before transform: torch.Size([1, 32, 585])\n",
      "After transform: torch.Size([32, 293, 59])\n",
      "Before transform: torch.Size([1, 32, 585])\n",
      "After transform: torch.Size([32, 293, 59])\n",
      "Before transform: torch.Size([1, 32, 585])\n",
      "After transform: torch.Size([32, 293, 59])\n",
      "Before transform: torch.Size([1, 32, 585])\n",
      "After transform: torch.Size([32, 293, 59])\n",
      "Before transform: torch.Size([1, 32, 585])\n",
      "After transform: torch.Size([32, 293, 59])\n",
      "Before transform: torch.Size([1, 32, 585])\n",
      "After transform: torch.Size([32, 293, 59])\n",
      "Before transform: torch.Size([1, 32, 585])\n",
      "After transform: torch.Size([32, 293, 59])\n",
      "Before transform: torch.Size([1, 32, 585])\n",
      "After transform: torch.Size([32, 293, 59])\n",
      "Before transform: torch.Size([1, 32, 585])\n",
      "After transform: torch.Size([32, 293, 59])\n",
      "Before transform: torch.Size([1, 32, 585])\n",
      "After transform: torch.Size([32, 293, 59])\n",
      "Before transform: torch.Size([1, 32, 585])\n",
      "After transform: torch.Size([32, 293, 59])\n",
      "Before transform: torch.Size([1, 32, 585])\n"
     ]
    },
    {
     "name": "stderr",
     "output_type": "stream",
     "text": [
      " 64%|██████▍   | 3841/5976 [01:00<00:20, 102.21it/s]"
     ]
    },
    {
     "name": "stdout",
     "output_type": "stream",
     "text": [
      "After transform: torch.Size([32, 293, 59])\n",
      "Before transform: torch.Size([1, 32, 585])\n",
      "After transform: torch.Size([32, 293, 59])\n",
      "Before transform: torch.Size([1, 32, 585])\n",
      "After transform: torch.Size([32, 293, 59])\n",
      "Before transform: torch.Size([1, 32, 585])\n",
      "After transform: torch.Size([32, 293, 59])\n",
      "Before transform: torch.Size([1, 32, 585])\n",
      "After transform: torch.Size([32, 293, 59])\n",
      "Before transform: torch.Size([1, 32, 585])\n",
      "After transform: torch.Size([32, 293, 59])\n",
      "Before transform: torch.Size([1, 32, 585])\n",
      "After transform: torch.Size([32, 293, 59])\n",
      "Before transform: torch.Size([1, 32, 585])\n",
      "After transform: torch.Size([32, 293, 59])\n",
      "Before transform: torch.Size([1, 32, 585])\n",
      "After transform: torch.Size([32, 293, 59])\n",
      "Before transform: torch.Size([1, 32, 585])\n",
      "After transform: torch.Size([32, 293, 59])\n",
      "Before transform: torch.Size([1, 32, 585])\n",
      "After transform: torch.Size([32, 293, 59])\n",
      "Before transform: torch.Size([1, 32, 585])\n",
      "After transform: torch.Size([32, 293, 59])\n",
      "Before transform: torch.Size([1, 32, 585])\n",
      "After transform: torch.Size([32, 293, 59])\n",
      "Before transform: torch.Size([1, 32, 585])\n",
      "After transform: torch.Size([32, 293, 59])\n",
      "Before transform: torch.Size([1, 32, 585])\n",
      "After transform: torch.Size([32, 293, 59])\n",
      "Before transform: torch.Size([1, 32, 585])\n",
      "After transform: torch.Size([32, 293, 59])\n",
      "Before transform: torch.Size([1, 32, 585])\n",
      "After transform: torch.Size([32, 293, 59])\n",
      "Before transform: torch.Size([1, 32, 585])\n",
      "After transform: torch.Size([32, 293, 59])\n",
      "Before transform: torch.Size([1, 32, 585])\n",
      "After transform: torch.Size([32, 293, 59])\n",
      "Before transform: torch.Size([1, 32, 585])\n",
      "After transform: torch.Size([32, 293, 59])\n",
      "Before transform: torch.Size([1, 32, 585])\n",
      "After transform: torch.Size([32, 293, 59])\n",
      "Before transform: torch.Size([1, 32, 585])\n",
      "After transform: torch.Size([32, 293, 59])\n",
      "Before transform: torch.Size([1, 32, 585])\n"
     ]
    },
    {
     "name": "stderr",
     "output_type": "stream",
     "text": [
      " 64%|██████▍   | 3852/5976 [01:00<00:20, 102.66it/s]"
     ]
    },
    {
     "name": "stdout",
     "output_type": "stream",
     "text": [
      "After transform: torch.Size([32, 293, 59])\n",
      "Before transform: torch.Size([1, 32, 585])\n",
      "After transform: torch.Size([32, 293, 59])\n",
      "Before transform: torch.Size([1, 32, 585])\n",
      "After transform: torch.Size([32, 293, 59])\n",
      "Before transform: torch.Size([1, 32, 585])\n",
      "After transform: torch.Size([32, 293, 59])\n",
      "Before transform: torch.Size([1, 32, 585])\n",
      "After transform: torch.Size([32, 293, 59])\n",
      "Before transform: torch.Size([1, 32, 585])\n",
      "After transform: torch.Size([32, 293, 59])\n",
      "Before transform: torch.Size([1, 32, 585])\n",
      "After transform: torch.Size([32, 293, 59])\n",
      "Before transform: torch.Size([1, 32, 585])\n",
      "After transform: torch.Size([32, 293, 59])\n",
      "Before transform: torch.Size([1, 32, 585])\n",
      "After transform: torch.Size([32, 293, 59])\n",
      "Before transform: torch.Size([1, 32, 585])\n",
      "After transform: torch.Size([32, 293, 59])\n",
      "Before transform: torch.Size([1, 32, 585])\n",
      "After transform: torch.Size([32, 293, 59])\n",
      "Before transform: torch.Size([1, 32, 585])\n",
      "After transform: torch.Size([32, 293, 59])\n",
      "Before transform: torch.Size([1, 32, 585])\n"
     ]
    },
    {
     "name": "stderr",
     "output_type": "stream",
     "text": [
      " 65%|██████▍   | 3863/5976 [01:01<00:30, 69.29it/s] "
     ]
    },
    {
     "name": "stdout",
     "output_type": "stream",
     "text": [
      "After transform: torch.Size([32, 293, 59])\n",
      "Before transform: torch.Size([1, 32, 585])\n",
      "After transform: torch.Size([32, 293, 59])\n",
      "Before transform: torch.Size([1, 32, 585])\n",
      "After transform: torch.Size([32, 293, 59])\n",
      "Before transform: torch.Size([1, 32, 585])\n",
      "After transform: torch.Size([32, 293, 59])\n",
      "Before transform: torch.Size([1, 32, 585])\n",
      "After transform: torch.Size([32, 293, 59])\n",
      "Before transform: torch.Size([1, 32, 585])\n",
      "After transform: torch.Size([32, 293, 59])\n",
      "Before transform: torch.Size([1, 32, 585])\n",
      "After transform: torch.Size([32, 293, 59])\n",
      "Before transform: torch.Size([1, 32, 585])\n",
      "After transform: torch.Size([32, 293, 59])\n",
      "Before transform: torch.Size([1, 32, 585])\n",
      "After transform: torch.Size([32, 293, 59])\n",
      "Before transform: torch.Size([1, 32, 585])\n",
      "After transform: torch.Size([32, 293, 59])\n",
      "Before transform: torch.Size([1, 32, 585])\n",
      "After transform: torch.Size([32, 293, 59])\n",
      "Before transform: torch.Size([1, 32, 585])\n",
      "After transform: torch.Size([32, 293, 59])\n",
      "Before transform: torch.Size([1, 32, 585])\n",
      "After transform: torch.Size([32, 293, 59])\n",
      "Before transform: torch.Size([1, 32, 585])\n",
      "After transform: torch.Size([32, 293, 59])\n",
      "Before transform: torch.Size([1, 32, 585])\n",
      "After transform: torch.Size([32, 293, 59])\n",
      "Before transform: torch.Size([1, 32, 585])\n",
      "After transform: torch.Size([32, 293, 59])\n",
      "Before transform: torch.Size([1, 32, 585])\n",
      "After transform: torch.Size([32, 293, 59])\n",
      "Before transform: torch.Size([1, 32, 585])\n",
      "After transform: torch.Size([32, 293, 59])\n",
      "Before transform: torch.Size([1, 32, 585])\n",
      "After transform: torch.Size([32, 293, 59])\n",
      "Before transform: torch.Size([1, 32, 585])\n"
     ]
    },
    {
     "name": "stderr",
     "output_type": "stream",
     "text": [
      " 65%|██████▍   | 3884/5976 [01:01<00:25, 83.03it/s]"
     ]
    },
    {
     "name": "stdout",
     "output_type": "stream",
     "text": [
      "After transform: torch.Size([32, 293, 59])\n",
      "Before transform: torch.Size([1, 32, 585])\n",
      "After transform: torch.Size([32, 293, 59])\n",
      "Before transform: torch.Size([1, 32, 585])\n",
      "After transform: torch.Size([32, 293, 59])\n",
      "Before transform: torch.Size([1, 32, 585])\n",
      "After transform: torch.Size([32, 293, 59])\n",
      "Before transform: torch.Size([1, 32, 585])\n",
      "After transform: torch.Size([32, 293, 59])\n",
      "Before transform: torch.Size([1, 32, 585])\n",
      "After transform: torch.Size([32, 293, 59])\n",
      "Before transform: torch.Size([1, 32, 585])\n",
      "After transform: torch.Size([32, 293, 59])\n",
      "Before transform: torch.Size([1, 32, 585])\n",
      "After transform: torch.Size([32, 293, 59])\n",
      "Before transform: torch.Size([1, 32, 585])\n",
      "After transform: torch.Size([32, 293, 59])\n",
      "Before transform: torch.Size([1, 32, 585])\n",
      "After transform: torch.Size([32, 293, 59])\n",
      "Before transform: torch.Size([1, 32, 585])\n",
      "After transform: torch.Size([32, 293, 59])\n",
      "Before transform: torch.Size([1, 32, 585])\n",
      "After transform: torch.Size([32, 293, 59])\n",
      "Before transform: torch.Size([1, 32, 585])\n",
      "After transform: torch.Size([32, 293, 59])\n",
      "Before transform: torch.Size([1, 32, 585])\n",
      "After transform: torch.Size([32, 293, 59])\n",
      "Before transform: torch.Size([1, 32, 585])\n",
      "After transform: torch.Size([32, 293, 59])\n",
      "Before transform: torch.Size([1, 32, 585])\n",
      "After transform: torch.Size([32, 293, 59])\n",
      "Before transform: torch.Size([1, 32, 585])\n",
      "After transform: torch.Size([32, 293, 59])\n",
      "Before transform: torch.Size([1, 32, 585])\n",
      "After transform: torch.Size([32, 293, 59])\n",
      "Before transform: torch.Size([1, 32, 585])\n",
      "After transform: torch.Size([32, 293, 59])\n",
      "Before transform: torch.Size([1, 32, 585])\n",
      "After transform: torch.Size([32, 293, 59])\n",
      "Before transform: torch.Size([1, 32, 585])\n",
      "After transform: torch.Size([32, 293, 59])\n",
      "Before transform: torch.Size([1, 32, 585])\n",
      "After transform: torch.Size([32, 293, 59])\n",
      "Before transform: torch.Size([1, 32, 585])\n"
     ]
    },
    {
     "name": "stderr",
     "output_type": "stream",
     "text": [
      " 65%|██████▌   | 3906/5976 [01:01<00:21, 94.42it/s]"
     ]
    },
    {
     "name": "stdout",
     "output_type": "stream",
     "text": [
      "After transform: torch.Size([32, 293, 59])\n",
      "Before transform: torch.Size([1, 32, 585])\n",
      "After transform: torch.Size([32, 293, 59])\n",
      "Before transform: torch.Size([1, 32, 585])\n",
      "After transform: torch.Size([32, 293, 59])\n",
      "Before transform: torch.Size([1, 32, 585])\n",
      "After transform: torch.Size([32, 293, 59])\n",
      "Before transform: torch.Size([1, 32, 585])\n",
      "After transform: torch.Size([32, 293, 59])\n",
      "Before transform: torch.Size([1, 32, 585])\n",
      "After transform: torch.Size([32, 293, 59])\n",
      "Before transform: torch.Size([1, 32, 585])\n",
      "After transform: torch.Size([32, 293, 59])\n",
      "Before transform: torch.Size([1, 32, 585])\n",
      "After transform: torch.Size([32, 293, 59])\n",
      "Before transform: torch.Size([1, 32, 585])\n",
      "After transform: torch.Size([32, 293, 59])\n",
      "Before transform: torch.Size([1, 32, 585])\n",
      "After transform: torch.Size([32, 293, 59])\n",
      "Before transform: torch.Size([1, 32, 585])\n",
      "After transform: torch.Size([32, 293, 59])\n",
      "Before transform: torch.Size([1, 32, 585])\n",
      "After transform: torch.Size([32, 293, 59])\n",
      "Before transform: torch.Size([1, 32, 585])\n",
      "After transform: torch.Size([32, 293, 59])\n",
      "Before transform: torch.Size([1, 32, 585])\n",
      "After transform: torch.Size([32, 293, 59])\n",
      "Before transform: torch.Size([1, 32, 585])\n",
      "After transform: torch.Size([32, 293, 59])\n",
      "Before transform: torch.Size([1, 32, 585])\n",
      "After transform: torch.Size([32, 293, 59])\n",
      "Before transform: torch.Size([1, 32, 585])\n",
      "After transform: torch.Size([32, 293, 59])\n",
      "Before transform: torch.Size([1, 32, 585])\n",
      "After transform: torch.Size([32, 293, 59])\n",
      "Before transform: torch.Size([1, 32, 585])\n",
      "After transform: torch.Size([32, 293, 59])\n",
      "Before transform: torch.Size([1, 32, 585])\n",
      "After transform: torch.Size([32, 293, 59])\n",
      "Before transform: torch.Size([1, 32, 585])\n",
      "After transform: torch.Size([32, 293, 59])\n",
      "Before transform: torch.Size([1, 32, 585])\n",
      "After transform: torch.Size([32, 293, 59])\n",
      "Before transform: torch.Size([1, 32, 585])\n"
     ]
    },
    {
     "name": "stderr",
     "output_type": "stream",
     "text": [
      " 66%|██████▌   | 3928/5976 [01:01<00:20, 100.21it/s]"
     ]
    },
    {
     "name": "stdout",
     "output_type": "stream",
     "text": [
      "After transform: torch.Size([32, 293, 59])\n",
      "Before transform: torch.Size([1, 32, 585])\n",
      "After transform: torch.Size([32, 293, 59])\n",
      "Before transform: torch.Size([1, 32, 585])\n",
      "After transform: torch.Size([32, 293, 59])\n",
      "Before transform: torch.Size([1, 32, 585])\n",
      "After transform: torch.Size([32, 293, 59])\n",
      "Before transform: torch.Size([1, 32, 585])\n",
      "After transform: torch.Size([32, 293, 59])\n",
      "Before transform: torch.Size([1, 32, 585])\n",
      "After transform: torch.Size([32, 293, 59])\n",
      "Before transform: torch.Size([1, 32, 585])\n",
      "After transform: torch.Size([32, 293, 59])\n",
      "Before transform: torch.Size([1, 32, 585])\n",
      "After transform: torch.Size([32, 293, 59])\n",
      "Before transform: torch.Size([1, 32, 585])\n",
      "After transform: torch.Size([32, 293, 59])\n",
      "Before transform: torch.Size([1, 32, 585])\n",
      "After transform: torch.Size([32, 293, 59])\n",
      "Before transform: torch.Size([1, 32, 585])\n",
      "After transform: torch.Size([32, 293, 59])\n",
      "Before transform: torch.Size([1, 32, 585])\n",
      "After transform: torch.Size([32, 293, 59])\n",
      "Before transform: torch.Size([1, 32, 585])\n",
      "After transform: torch.Size([32, 293, 59])\n",
      "Before transform: torch.Size([1, 32, 585])\n",
      "After transform: torch.Size([32, 293, 59])\n",
      "Before transform: torch.Size([1, 32, 585])\n",
      "After transform: torch.Size([32, 293, 59])\n",
      "Before transform: torch.Size([1, 32, 585])\n",
      "After transform: torch.Size([32, 293, 59])\n",
      "Before transform: torch.Size([1, 32, 585])\n",
      "After transform: torch.Size([32, 293, 59])\n",
      "Before transform: torch.Size([1, 32, 585])\n",
      "After transform: torch.Size([32, 293, 59])\n",
      "Before transform: torch.Size([1, 32, 585])\n",
      "After transform: torch.Size([32, 293, 59])\n",
      "Before transform: torch.Size([1, 32, 585])\n",
      "After transform: torch.Size([32, 293, 59])\n",
      "Before transform: torch.Size([1, 32, 585])\n",
      "After transform: torch.Size([32, 293, 59])\n",
      "Before transform: torch.Size([1, 32, 585])\n",
      "After transform: torch.Size([32, 293, 59])\n",
      "Before transform: torch.Size([1, 32, 585])\n"
     ]
    },
    {
     "name": "stderr",
     "output_type": "stream",
     "text": [
      " 66%|██████▌   | 3950/5976 [01:02<00:20, 98.95it/s] "
     ]
    },
    {
     "name": "stdout",
     "output_type": "stream",
     "text": [
      "After transform: torch.Size([32, 293, 59])\n",
      "Before transform: torch.Size([1, 32, 585])\n",
      "After transform: torch.Size([32, 293, 59])\n",
      "Before transform: torch.Size([1, 32, 585])\n",
      "After transform: torch.Size([32, 293, 59])\n",
      "Before transform: torch.Size([1, 32, 585])\n",
      "After transform: torch.Size([32, 293, 59])\n",
      "Before transform: torch.Size([1, 32, 585])\n",
      "After transform: torch.Size([32, 293, 59])\n",
      "Before transform: torch.Size([1, 32, 585])\n",
      "After transform: torch.Size([32, 293, 59])\n",
      "Before transform: torch.Size([1, 32, 585])\n",
      "After transform: torch.Size([32, 293, 59])\n",
      "Before transform: torch.Size([1, 32, 585])\n",
      "After transform: torch.Size([32, 293, 59])\n",
      "Before transform: torch.Size([1, 32, 585])\n",
      "After transform: torch.Size([32, 293, 59])\n",
      "Before transform: torch.Size([1, 32, 585])\n",
      "After transform: torch.Size([32, 293, 59])\n",
      "Before transform: torch.Size([1, 32, 585])\n",
      "After transform: torch.Size([32, 293, 59])\n",
      "Before transform: torch.Size([1, 32, 585])\n",
      "After transform: torch.Size([32, 293, 59])\n",
      "Before transform: torch.Size([1, 32, 585])\n",
      "After transform: torch.Size([32, 293, 59])\n",
      "Before transform: torch.Size([1, 32, 585])\n",
      "After transform: torch.Size([32, 293, 59])\n",
      "Before transform: torch.Size([1, 32, 585])\n",
      "After transform: torch.Size([32, 293, 59])\n",
      "Before transform: torch.Size([1, 32, 585])\n",
      "After transform: torch.Size([32, 293, 59])\n",
      "Before transform: torch.Size([1, 32, 585])\n",
      "After transform: torch.Size([32, 293, 59])\n",
      "Before transform: torch.Size([1, 32, 585])\n",
      "After transform: torch.Size([32, 293, 59])\n",
      "Before transform: torch.Size([1, 32, 585])\n",
      "After transform: torch.Size([32, 293, 59])\n",
      "Before transform: torch.Size([1, 32, 585])\n",
      "After transform: torch.Size([32, 293, 59])\n",
      "Before transform: torch.Size([1, 32, 585])\n",
      "After transform: torch.Size([32, 293, 59])\n",
      "Before transform: torch.Size([1, 32, 585])\n"
     ]
    },
    {
     "name": "stderr",
     "output_type": "stream",
     "text": [
      " 66%|██████▋   | 3972/5976 [01:02<00:19, 100.40it/s]"
     ]
    },
    {
     "name": "stdout",
     "output_type": "stream",
     "text": [
      "After transform: torch.Size([32, 293, 59])\n",
      "Before transform: torch.Size([1, 32, 585])\n",
      "After transform: torch.Size([32, 293, 59])\n",
      "Before transform: torch.Size([1, 32, 585])\n",
      "After transform: torch.Size([32, 293, 59])\n",
      "Before transform: torch.Size([1, 32, 585])\n",
      "After transform: torch.Size([32, 293, 59])\n",
      "Before transform: torch.Size([1, 32, 585])\n",
      "After transform: torch.Size([32, 293, 59])\n",
      "Before transform: torch.Size([1, 32, 585])\n",
      "After transform: torch.Size([32, 293, 59])\n",
      "Before transform: torch.Size([1, 32, 585])\n",
      "After transform: torch.Size([32, 293, 59])\n",
      "Before transform: torch.Size([1, 32, 585])\n",
      "After transform: torch.Size([32, 293, 59])\n",
      "Before transform: torch.Size([1, 32, 585])\n",
      "After transform: torch.Size([32, 293, 59])\n",
      "Before transform: torch.Size([1, 32, 585])\n",
      "After transform: torch.Size([32, 293, 59])\n",
      "Before transform: torch.Size([1, 32, 585])\n",
      "After transform: torch.Size([32, 293, 59])\n",
      "Before transform: torch.Size([1, 32, 585])\n",
      "After transform: torch.Size([32, 293, 59])\n",
      "Before transform: torch.Size([1, 32, 585])\n",
      "After transform: torch.Size([32, 293, 59])\n",
      "Before transform: torch.Size([1, 32, 585])\n",
      "After transform: torch.Size([32, 293, 59])\n",
      "Before transform: torch.Size([1, 32, 585])\n",
      "After transform: torch.Size([32, 293, 59])\n",
      "Before transform: torch.Size([1, 32, 585])\n",
      "After transform: torch.Size([32, 293, 59])\n",
      "Before transform: torch.Size([1, 32, 585])\n",
      "After transform: torch.Size([32, 293, 59])\n",
      "Before transform: torch.Size([1, 32, 585])\n",
      "After transform: torch.Size([32, 293, 59])\n",
      "Before transform: torch.Size([1, 32, 585])\n",
      "After transform: torch.Size([32, 293, 59])\n",
      "Before transform: torch.Size([1, 32, 585])\n",
      "After transform: torch.Size([32, 293, 59])\n",
      "Before transform: torch.Size([1, 32, 585])\n",
      "After transform: torch.Size([32, 293, 59])\n",
      "Before transform: torch.Size([1, 32, 585])\n"
     ]
    },
    {
     "name": "stderr",
     "output_type": "stream",
     "text": [
      " 67%|██████▋   | 3983/5976 [01:02<00:19, 101.30it/s]"
     ]
    },
    {
     "name": "stdout",
     "output_type": "stream",
     "text": [
      "After transform: torch.Size([32, 293, 59])\n",
      "Before transform: torch.Size([1, 32, 585])\n",
      "After transform: torch.Size([32, 293, 59])\n",
      "Before transform: torch.Size([1, 32, 585])\n",
      "After transform: torch.Size([32, 293, 59])\n",
      "Before transform: torch.Size([1, 32, 585])\n",
      "After transform: torch.Size([32, 293, 59])\n",
      "Before transform: torch.Size([1, 32, 585])\n",
      "After transform: torch.Size([32, 293, 59])\n",
      "Before transform: torch.Size([1, 32, 585])\n",
      "After transform: torch.Size([32, 293, 59])\n",
      "Before transform: torch.Size([1, 32, 585])\n",
      "After transform: torch.Size([32, 293, 59])\n",
      "Before transform: torch.Size([1, 32, 585])\n",
      "After transform: torch.Size([32, 293, 59])\n",
      "Before transform: torch.Size([1, 32, 585])\n",
      "After transform: torch.Size([32, 293, 59])\n",
      "Before transform: torch.Size([1, 32, 585])\n",
      "After transform: torch.Size([32, 293, 59])\n",
      "Before transform: torch.Size([1, 32, 585])\n",
      "After transform: torch.Size([32, 293, 59])\n",
      "Before transform: torch.Size([1, 32, 585])\n",
      "After transform: torch.Size([32, 293, 59])\n",
      "Before transform: torch.Size([1, 32, 585])\n"
     ]
    },
    {
     "name": "stderr",
     "output_type": "stream",
     "text": [
      " 67%|██████▋   | 4003/5976 [01:02<00:25, 78.82it/s] "
     ]
    },
    {
     "name": "stdout",
     "output_type": "stream",
     "text": [
      "After transform: torch.Size([32, 293, 59])\n",
      "Before transform: torch.Size([1, 32, 585])\n",
      "After transform: torch.Size([32, 293, 59])\n",
      "Before transform: torch.Size([1, 32, 585])\n",
      "After transform: torch.Size([32, 293, 59])\n",
      "Before transform: torch.Size([1, 32, 585])\n",
      "After transform: torch.Size([32, 293, 59])\n",
      "Before transform: torch.Size([1, 32, 585])\n",
      "After transform: torch.Size([32, 293, 59])\n",
      "Before transform: torch.Size([1, 32, 585])\n",
      "After transform: torch.Size([32, 293, 59])\n",
      "Before transform: torch.Size([1, 32, 585])\n",
      "After transform: torch.Size([32, 293, 59])\n",
      "Before transform: torch.Size([1, 32, 585])\n",
      "After transform: torch.Size([32, 293, 59])\n",
      "Before transform: torch.Size([1, 32, 585])\n",
      "After transform: torch.Size([32, 293, 59])\n",
      "Before transform: torch.Size([1, 32, 585])\n",
      "After transform: torch.Size([32, 293, 59])\n",
      "Before transform: torch.Size([1, 32, 585])\n",
      "After transform: torch.Size([32, 293, 59])\n",
      "Before transform: torch.Size([1, 32, 585])\n",
      "After transform: torch.Size([32, 293, 59])\n",
      "Before transform: torch.Size([1, 32, 585])\n",
      "After transform: torch.Size([32, 293, 59])\n",
      "Before transform: torch.Size([1, 32, 585])\n",
      "After transform: torch.Size([32, 293, 59])\n",
      "Before transform: torch.Size([1, 32, 585])\n",
      "After transform: torch.Size([32, 293, 59])\n",
      "Before transform: torch.Size([1, 32, 585])\n",
      "After transform: torch.Size([32, 293, 59])\n",
      "Before transform: torch.Size([1, 32, 585])\n"
     ]
    },
    {
     "name": "stderr",
     "output_type": "stream",
     "text": [
      " 67%|██████▋   | 4012/5976 [01:02<00:24, 79.47it/s]"
     ]
    },
    {
     "name": "stdout",
     "output_type": "stream",
     "text": [
      "After transform: torch.Size([32, 293, 59])\n",
      "Before transform: torch.Size([1, 32, 585])\n",
      "After transform: torch.Size([32, 293, 59])\n",
      "Before transform: torch.Size([1, 32, 585])\n",
      "After transform: torch.Size([32, 293, 59])\n",
      "Before transform: torch.Size([1, 32, 585])\n",
      "After transform: torch.Size([32, 293, 59])\n",
      "Before transform: torch.Size([1, 32, 585])\n",
      "After transform: torch.Size([32, 293, 59])\n",
      "Before transform: torch.Size([1, 32, 585])\n",
      "After transform: torch.Size([32, 293, 59])\n",
      "Before transform: torch.Size([1, 32, 585])\n",
      "After transform: torch.Size([32, 293, 59])\n",
      "Before transform: torch.Size([1, 32, 585])\n",
      "After transform: torch.Size([32, 293, 59])\n",
      "Before transform: torch.Size([1, 32, 585])\n",
      "After transform: torch.Size([32, 293, 59])\n",
      "Before transform: torch.Size([1, 32, 585])\n",
      "After transform: torch.Size([32, 293, 59])\n",
      "Before transform: torch.Size([1, 32, 585])\n",
      "After transform: torch.Size([32, 293, 59])\n",
      "Before transform: torch.Size([1, 32, 585])\n"
     ]
    },
    {
     "name": "stderr",
     "output_type": "stream",
     "text": [
      " 67%|██████▋   | 4021/5976 [01:03<01:05, 30.04it/s]"
     ]
    },
    {
     "name": "stdout",
     "output_type": "stream",
     "text": [
      "After transform: torch.Size([32, 293, 59])\n",
      "Before transform: torch.Size([1, 32, 585])\n",
      "After transform: torch.Size([32, 293, 59])\n",
      "Before transform: torch.Size([1, 32, 585])\n",
      "After transform: torch.Size([32, 293, 59])\n",
      "Before transform: torch.Size([1, 32, 585])\n"
     ]
    },
    {
     "name": "stderr",
     "output_type": "stream",
     "text": [
      " 67%|██████▋   | 4028/5976 [01:03<01:09, 28.19it/s]"
     ]
    },
    {
     "name": "stdout",
     "output_type": "stream",
     "text": [
      "After transform: torch.Size([32, 293, 59])\n",
      "Before transform: torch.Size([1, 32, 585])\n",
      "After transform: torch.Size([32, 293, 59])\n",
      "Before transform: torch.Size([1, 32, 585])\n",
      "After transform: torch.Size([32, 293, 59])\n",
      "Before transform: torch.Size([1, 32, 585])\n",
      "After transform: torch.Size([32, 293, 59])\n",
      "Before transform: torch.Size([1, 32, 585])\n",
      "After transform: torch.Size([32, 293, 59])\n",
      "Before transform: torch.Size([1, 32, 585])\n",
      "After transform: torch.Size([32, 293, 59])\n",
      "Before transform: torch.Size([1, 32, 585])\n",
      "After transform: torch.Size([32, 293, 59])\n",
      "Before transform: torch.Size([1, 32, 585])\n",
      "After transform: torch.Size([32, 293, 59])\n",
      "Before transform: torch.Size([1, 32, 585])\n",
      "After transform: torch.Size([32, 293, 59])\n",
      "Before transform: torch.Size([1, 32, 585])\n",
      "After transform: torch.Size([32, 293, 59])\n",
      "Before transform: torch.Size([1, 32, 585])\n"
     ]
    },
    {
     "name": "stderr",
     "output_type": "stream",
     "text": [
      " 68%|██████▊   | 4043/5976 [01:04<00:48, 39.92it/s]"
     ]
    },
    {
     "name": "stdout",
     "output_type": "stream",
     "text": [
      "After transform: torch.Size([32, 293, 59])\n",
      "Before transform: torch.Size([1, 32, 585])\n",
      "After transform: torch.Size([32, 293, 59])\n",
      "Before transform: torch.Size([1, 32, 585])\n",
      "After transform: torch.Size([32, 293, 59])\n",
      "Before transform: torch.Size([1, 32, 585])\n",
      "After transform: torch.Size([32, 293, 59])\n",
      "Before transform: torch.Size([1, 32, 585])\n",
      "After transform: torch.Size([32, 293, 59])\n",
      "Before transform: torch.Size([1, 32, 585])\n",
      "After transform: torch.Size([32, 293, 59])\n",
      "Before transform: torch.Size([1, 32, 585])\n",
      "After transform: torch.Size([32, 293, 59])\n",
      "Before transform: torch.Size([1, 32, 585])\n",
      "After transform: torch.Size([32, 293, 59])\n",
      "Before transform: torch.Size([1, 32, 585])\n",
      "After transform: torch.Size([32, 293, 59])\n",
      "Before transform: torch.Size([1, 32, 585])\n",
      "After transform: torch.Size([32, 293, 59])\n",
      "Before transform: torch.Size([1, 32, 585])\n",
      "After transform: torch.Size([32, 293, 59])\n",
      "Before transform: torch.Size([1, 32, 585])\n",
      "After transform: torch.Size([32, 293, 59])\n",
      "Before transform: torch.Size([1, 32, 585])\n",
      "After transform: torch.Size([32, 293, 59])\n",
      "Before transform: torch.Size([1, 32, 585])\n",
      "After transform: torch.Size([32, 293, 59])\n",
      "Before transform: torch.Size([1, 32, 585])\n",
      "After transform: torch.Size([32, 293, 59])\n",
      "Before transform: torch.Size([1, 32, 585])\n",
      "After transform: torch.Size([32, 293, 59])\n",
      "Before transform: torch.Size([1, 32, 585])\n",
      "After transform: torch.Size([32, 293, 59])\n",
      "Before transform: torch.Size([1, 32, 585])\n",
      "After transform: torch.Size([32, 293, 59])\n",
      "Before transform: torch.Size([1, 32, 585])\n"
     ]
    },
    {
     "name": "stderr",
     "output_type": "stream",
     "text": [
      " 68%|██████▊   | 4052/5976 [01:04<00:39, 48.23it/s]"
     ]
    },
    {
     "name": "stdout",
     "output_type": "stream",
     "text": [
      "After transform: torch.Size([32, 293, 59])\n",
      "Before transform: torch.Size([1, 32, 585])\n",
      "After transform: torch.Size([32, 293, 59])\n",
      "Before transform: torch.Size([1, 32, 585])\n",
      "After transform: torch.Size([32, 293, 59])\n",
      "Before transform: torch.Size([1, 32, 585])\n",
      "After transform: torch.Size([32, 293, 59])\n",
      "Before transform: torch.Size([1, 32, 585])\n",
      "After transform: torch.Size([32, 293, 59])\n",
      "Before transform: torch.Size([1, 32, 585])\n"
     ]
    },
    {
     "name": "stderr",
     "output_type": "stream",
     "text": [
      " 68%|██████▊   | 4069/5976 [01:04<00:37, 51.21it/s]"
     ]
    },
    {
     "name": "stdout",
     "output_type": "stream",
     "text": [
      "After transform: torch.Size([32, 293, 59])\n",
      "Before transform: torch.Size([1, 32, 585])\n",
      "After transform: torch.Size([32, 293, 59])\n",
      "Before transform: torch.Size([1, 32, 585])\n",
      "After transform: torch.Size([32, 293, 59])\n",
      "Before transform: torch.Size([1, 32, 585])\n",
      "After transform: torch.Size([32, 293, 59])\n",
      "Before transform: torch.Size([1, 32, 585])\n",
      "After transform: torch.Size([32, 293, 59])\n",
      "Before transform: torch.Size([1, 32, 585])\n",
      "After transform: torch.Size([32, 293, 59])\n",
      "Before transform: torch.Size([1, 32, 585])\n",
      "After transform: torch.Size([32, 293, 59])\n",
      "Before transform: torch.Size([1, 32, 585])\n",
      "After transform: torch.Size([32, 293, 59])\n",
      "Before transform: torch.Size([1, 32, 585])\n",
      "After transform: torch.Size([32, 293, 59])\n",
      "Before transform: torch.Size([1, 32, 585])\n",
      "After transform: torch.Size([32, 293, 59])\n",
      "Before transform: torch.Size([1, 32, 585])\n",
      "After transform: torch.Size([32, 293, 59])\n",
      "Before transform: torch.Size([1, 32, 585])\n",
      "After transform: torch.Size([32, 293, 59])\n",
      "Before transform: torch.Size([1, 32, 585])\n",
      "After transform: torch.Size([32, 293, 59])\n",
      "Before transform: torch.Size([1, 32, 585])\n",
      "After transform: torch.Size([32, 293, 59])\n",
      "Before transform: torch.Size([1, 32, 585])\n",
      "After transform: torch.Size([32, 293, 59])\n",
      "Before transform: torch.Size([1, 32, 585])\n",
      "After transform: torch.Size([32, 293, 59])\n",
      "Before transform: torch.Size([1, 32, 585])\n",
      "After transform: torch.Size([32, 293, 59])\n",
      "Before transform: torch.Size([1, 32, 585])\n",
      "After transform: torch.Size([32, 293, 59])\n",
      "Before transform: torch.Size([1, 32, 585])\n",
      "After transform: torch.Size([32, 293, 59])\n",
      "Before transform: torch.Size([1, 32, 585])\n",
      "After transform: torch.Size([32, 293, 59])\n",
      "Before transform: torch.Size([1, 32, 585])\n"
     ]
    },
    {
     "name": "stderr",
     "output_type": "stream",
     "text": [
      " 68%|██████▊   | 4091/5976 [01:04<00:25, 72.85it/s]"
     ]
    },
    {
     "name": "stdout",
     "output_type": "stream",
     "text": [
      "After transform: torch.Size([32, 293, 59])\n",
      "Before transform: torch.Size([1, 32, 585])\n",
      "After transform: torch.Size([32, 293, 59])\n",
      "Before transform: torch.Size([1, 32, 585])\n",
      "After transform: torch.Size([32, 293, 59])\n",
      "Before transform: torch.Size([1, 32, 585])\n",
      "After transform: torch.Size([32, 293, 59])\n",
      "Before transform: torch.Size([1, 32, 585])\n",
      "After transform: torch.Size([32, 293, 59])\n",
      "Before transform: torch.Size([1, 32, 585])\n",
      "After transform: torch.Size([32, 293, 59])\n",
      "Before transform: torch.Size([1, 32, 585])\n",
      "After transform: torch.Size([32, 293, 59])\n",
      "Before transform: torch.Size([1, 32, 585])\n",
      "After transform: torch.Size([32, 293, 59])\n",
      "Before transform: torch.Size([1, 32, 585])\n",
      "After transform: torch.Size([32, 293, 59])\n",
      "Before transform: torch.Size([1, 32, 585])\n",
      "After transform: torch.Size([32, 293, 59])\n",
      "Before transform: torch.Size([1, 32, 585])\n",
      "After transform: torch.Size([32, 293, 59])\n",
      "Before transform: torch.Size([1, 32, 585])\n",
      "After transform: torch.Size([32, 293, 59])\n",
      "Before transform: torch.Size([1, 32, 585])\n",
      "After transform: torch.Size([32, 293, 59])\n",
      "Before transform: torch.Size([1, 32, 585])\n",
      "After transform: torch.Size([32, 293, 59])\n",
      "Before transform: torch.Size([1, 32, 585])\n",
      "After transform: torch.Size([32, 293, 59])\n",
      "Before transform: torch.Size([1, 32, 585])\n",
      "After transform: torch.Size([32, 293, 59])\n",
      "Before transform: torch.Size([1, 32, 585])\n",
      "After transform: torch.Size([32, 293, 59])\n",
      "Before transform: torch.Size([1, 32, 585])\n",
      "After transform: torch.Size([32, 293, 59])\n",
      "Before transform: torch.Size([1, 32, 585])\n",
      "After transform: torch.Size([32, 293, 59])\n",
      "Before transform: torch.Size([1, 32, 585])\n",
      "After transform: torch.Size([32, 293, 59])\n",
      "Before transform: torch.Size([1, 32, 585])\n",
      "After transform: torch.Size([32, 293, 59])\n",
      "Before transform: torch.Size([1, 32, 585])\n",
      "After transform: torch.Size([32, 293, 59])\n",
      "Before transform: torch.Size([1, 32, 585])\n"
     ]
    },
    {
     "name": "stderr",
     "output_type": "stream",
     "text": [
      " 69%|██████▉   | 4112/5976 [01:04<00:22, 84.42it/s]"
     ]
    },
    {
     "name": "stdout",
     "output_type": "stream",
     "text": [
      "After transform: torch.Size([32, 293, 59])\n",
      "Before transform: torch.Size([1, 32, 585])\n",
      "After transform: torch.Size([32, 293, 59])\n",
      "Before transform: torch.Size([1, 32, 585])\n",
      "After transform: torch.Size([32, 293, 59])\n",
      "Before transform: torch.Size([1, 32, 585])\n",
      "After transform: torch.Size([32, 293, 59])\n",
      "Before transform: torch.Size([1, 32, 585])\n",
      "After transform: torch.Size([32, 293, 59])\n",
      "Before transform: torch.Size([1, 32, 585])\n",
      "After transform: torch.Size([32, 293, 59])\n",
      "Before transform: torch.Size([1, 32, 585])\n",
      "After transform: torch.Size([32, 293, 59])\n",
      "Before transform: torch.Size([1, 32, 585])\n",
      "After transform: torch.Size([32, 293, 59])\n",
      "Before transform: torch.Size([1, 32, 585])\n",
      "After transform: torch.Size([32, 293, 59])\n",
      "Before transform: torch.Size([1, 32, 585])\n",
      "After transform: torch.Size([32, 293, 59])\n",
      "Before transform: torch.Size([1, 32, 585])\n",
      "After transform: torch.Size([32, 293, 59])\n",
      "Before transform: torch.Size([1, 32, 585])\n",
      "After transform: torch.Size([32, 293, 59])\n",
      "Before transform: torch.Size([1, 32, 585])\n",
      "After transform: torch.Size([32, 293, 59])\n",
      "Before transform: torch.Size([1, 32, 585])\n",
      "After transform: torch.Size([32, 293, 59])\n",
      "Before transform: torch.Size([1, 32, 585])\n",
      "After transform: torch.Size([32, 293, 59])\n",
      "Before transform: torch.Size([1, 32, 585])\n",
      "After transform: torch.Size([32, 293, 59])\n",
      "Before transform: torch.Size([1, 32, 585])\n",
      "After transform: torch.Size([32, 293, 59])\n",
      "Before transform: torch.Size([1, 32, 585])\n",
      "After transform: torch.Size([32, 293, 59])\n",
      "Before transform: torch.Size([1, 32, 585])\n",
      "After transform: torch.Size([32, 293, 59])\n",
      "Before transform: torch.Size([1, 32, 585])\n",
      "After transform: torch.Size([32, 293, 59])\n",
      "Before transform: torch.Size([1, 32, 585])\n"
     ]
    },
    {
     "name": "stderr",
     "output_type": "stream",
     "text": [
      " 69%|██████▉   | 4134/5976 [01:05<00:19, 94.64it/s]"
     ]
    },
    {
     "name": "stdout",
     "output_type": "stream",
     "text": [
      "After transform: torch.Size([32, 293, 59])\n",
      "Before transform: torch.Size([1, 32, 585])\n",
      "After transform: torch.Size([32, 293, 59])\n",
      "Before transform: torch.Size([1, 32, 585])\n",
      "After transform: torch.Size([32, 293, 59])\n",
      "Before transform: torch.Size([1, 32, 585])\n",
      "After transform: torch.Size([32, 293, 59])\n",
      "Before transform: torch.Size([1, 32, 585])\n",
      "After transform: torch.Size([32, 293, 59])\n",
      "Before transform: torch.Size([1, 32, 585])\n",
      "After transform: torch.Size([32, 293, 59])\n",
      "Before transform: torch.Size([1, 32, 585])\n",
      "After transform: torch.Size([32, 293, 59])\n",
      "Before transform: torch.Size([1, 32, 585])\n",
      "After transform: torch.Size([32, 293, 59])\n",
      "Before transform: torch.Size([1, 32, 585])\n",
      "After transform: torch.Size([32, 293, 59])\n",
      "Before transform: torch.Size([1, 32, 585])\n",
      "After transform: torch.Size([32, 293, 59])\n",
      "Before transform: torch.Size([1, 32, 585])\n",
      "After transform: torch.Size([32, 293, 59])\n",
      "Before transform: torch.Size([1, 32, 585])\n",
      "After transform: torch.Size([32, 293, 59])\n",
      "Before transform: torch.Size([1, 32, 585])\n",
      "After transform: torch.Size([32, 293, 59])\n",
      "Before transform: torch.Size([1, 32, 585])\n",
      "After transform: torch.Size([32, 293, 59])\n",
      "Before transform: torch.Size([1, 32, 585])\n",
      "After transform: torch.Size([32, 293, 59])\n",
      "Before transform: torch.Size([1, 32, 585])\n",
      "After transform: torch.Size([32, 293, 59])\n",
      "Before transform: torch.Size([1, 32, 585])\n",
      "After transform: torch.Size([32, 293, 59])\n",
      "Before transform: torch.Size([1, 32, 585])\n",
      "After transform: torch.Size([32, 293, 59])\n",
      "Before transform: torch.Size([1, 32, 585])\n",
      "After transform: torch.Size([32, 293, 59])\n",
      "Before transform: torch.Size([1, 32, 585])\n",
      "After transform: torch.Size([32, 293, 59])\n",
      "Before transform: torch.Size([1, 32, 585])\n",
      "After transform: torch.Size([32, 293, 59])\n",
      "Before transform: torch.Size([1, 32, 585])\n",
      "After transform: torch.Size([32, 293, 59])\n",
      "Before transform: torch.Size([1, 32, 585])\n"
     ]
    },
    {
     "name": "stderr",
     "output_type": "stream",
     "text": [
      " 70%|██████▉   | 4156/5976 [01:05<00:17, 101.20it/s]"
     ]
    },
    {
     "name": "stdout",
     "output_type": "stream",
     "text": [
      "After transform: torch.Size([32, 293, 59])\n",
      "Before transform: torch.Size([1, 32, 585])\n",
      "After transform: torch.Size([32, 293, 59])\n",
      "Before transform: torch.Size([1, 32, 585])\n",
      "After transform: torch.Size([32, 293, 59])\n",
      "Before transform: torch.Size([1, 32, 585])\n",
      "After transform: torch.Size([32, 293, 59])\n",
      "Before transform: torch.Size([1, 32, 585])\n",
      "After transform: torch.Size([32, 293, 59])\n",
      "Before transform: torch.Size([1, 32, 585])\n",
      "After transform: torch.Size([32, 293, 59])\n",
      "Before transform: torch.Size([1, 32, 585])\n",
      "After transform: torch.Size([32, 293, 59])\n",
      "Before transform: torch.Size([1, 32, 585])\n",
      "After transform: torch.Size([32, 293, 59])\n",
      "Before transform: torch.Size([1, 32, 585])\n",
      "After transform: torch.Size([32, 293, 59])\n",
      "Before transform: torch.Size([1, 32, 585])\n",
      "After transform: torch.Size([32, 293, 59])\n",
      "Before transform: torch.Size([1, 32, 585])\n",
      "After transform: torch.Size([32, 293, 59])\n",
      "Before transform: torch.Size([1, 32, 585])\n",
      "After transform: torch.Size([32, 293, 59])\n",
      "Before transform: torch.Size([1, 32, 585])\n",
      "After transform: torch.Size([32, 293, 59])\n",
      "Before transform: torch.Size([1, 32, 585])\n",
      "After transform: torch.Size([32, 293, 59])\n",
      "Before transform: torch.Size([1, 32, 585])\n",
      "After transform: torch.Size([32, 293, 59])\n",
      "Before transform: torch.Size([1, 32, 585])\n",
      "After transform: torch.Size([32, 293, 59])\n",
      "Before transform: torch.Size([1, 32, 585])\n",
      "After transform: torch.Size([32, 293, 59])\n",
      "Before transform: torch.Size([1, 32, 585])\n",
      "After transform: torch.Size([32, 293, 59])\n",
      "Before transform: torch.Size([1, 32, 585])\n",
      "After transform: torch.Size([32, 293, 59])\n",
      "Before transform: torch.Size([1, 32, 585])\n",
      "After transform: torch.Size([32, 293, 59])\n",
      "Before transform: torch.Size([1, 32, 585])\n",
      "After transform: torch.Size([32, 293, 59])\n",
      "Before transform: torch.Size([1, 32, 585])\n",
      "After transform: torch.Size([32, 293, 59])\n",
      "Before transform: torch.Size([1, 32, 585])\n"
     ]
    },
    {
     "name": "stderr",
     "output_type": "stream",
     "text": [
      " 70%|██████▉   | 4167/5976 [01:05<00:17, 102.67it/s]"
     ]
    },
    {
     "name": "stdout",
     "output_type": "stream",
     "text": [
      "After transform: torch.Size([32, 293, 59])\n",
      "Before transform: torch.Size([1, 32, 585])\n",
      "After transform: torch.Size([32, 293, 59])\n",
      "Before transform: torch.Size([1, 32, 585])\n",
      "After transform: torch.Size([32, 293, 59])\n",
      "Before transform: torch.Size([1, 32, 585])\n",
      "After transform: torch.Size([32, 293, 59])\n",
      "Before transform: torch.Size([1, 32, 585])\n",
      "After transform: torch.Size([32, 293, 59])\n",
      "Before transform: torch.Size([1, 32, 585])\n",
      "After transform: torch.Size([32, 293, 59])\n",
      "Before transform: torch.Size([1, 32, 585])\n",
      "After transform: torch.Size([32, 293, 59])\n",
      "Before transform: torch.Size([1, 32, 585])\n",
      "After transform: torch.Size([32, 293, 59])\n",
      "Before transform: torch.Size([1, 32, 585])\n",
      "After transform: torch.Size([32, 293, 59])\n",
      "Before transform: torch.Size([1, 32, 585])\n",
      "After transform: torch.Size([32, 293, 59])\n",
      "Before transform: torch.Size([1, 32, 585])\n",
      "After transform: torch.Size([32, 293, 59])\n",
      "Before transform: torch.Size([1, 32, 585])\n",
      "After transform: torch.Size([32, 293, 59])\n",
      "Before transform: torch.Size([1, 32, 585])\n"
     ]
    },
    {
     "name": "stderr",
     "output_type": "stream",
     "text": [
      " 70%|███████   | 4189/5976 [01:05<00:20, 88.29it/s] "
     ]
    },
    {
     "name": "stdout",
     "output_type": "stream",
     "text": [
      "After transform: torch.Size([32, 293, 59])\n",
      "Before transform: torch.Size([1, 32, 585])\n",
      "After transform: torch.Size([32, 293, 59])\n",
      "Before transform: torch.Size([1, 32, 585])\n",
      "After transform: torch.Size([32, 293, 59])\n",
      "Before transform: torch.Size([1, 32, 585])\n",
      "After transform: torch.Size([32, 293, 59])\n",
      "Before transform: torch.Size([1, 32, 585])\n",
      "After transform: torch.Size([32, 293, 59])\n",
      "Before transform: torch.Size([1, 32, 585])\n",
      "After transform: torch.Size([32, 293, 59])\n",
      "Before transform: torch.Size([1, 32, 585])\n",
      "After transform: torch.Size([32, 293, 59])\n",
      "Before transform: torch.Size([1, 32, 585])\n",
      "After transform: torch.Size([32, 293, 59])\n",
      "Before transform: torch.Size([1, 32, 585])\n",
      "After transform: torch.Size([32, 293, 59])\n",
      "Before transform: torch.Size([1, 32, 585])\n",
      "After transform: torch.Size([32, 293, 59])\n",
      "Before transform: torch.Size([1, 32, 585])\n",
      "After transform: torch.Size([32, 293, 59])\n",
      "Before transform: torch.Size([1, 32, 585])\n",
      "After transform: torch.Size([32, 293, 59])\n",
      "Before transform: torch.Size([1, 32, 585])\n",
      "After transform: torch.Size([32, 293, 59])\n",
      "Before transform: torch.Size([1, 32, 585])\n",
      "After transform: torch.Size([32, 293, 59])\n",
      "Before transform: torch.Size([1, 32, 585])\n",
      "After transform: torch.Size([32, 293, 59])\n",
      "Before transform: torch.Size([1, 32, 585])\n",
      "After transform: torch.Size([32, 293, 59])\n",
      "Before transform: torch.Size([1, 32, 585])\n",
      "After transform: torch.Size([32, 293, 59])\n",
      "Before transform: torch.Size([1, 32, 585])\n",
      "After transform: torch.Size([32, 293, 59])\n",
      "Before transform: torch.Size([1, 32, 585])\n",
      "After transform: torch.Size([32, 293, 59])\n",
      "Before transform: torch.Size([1, 32, 585])\n",
      "After transform: torch.Size([32, 293, 59])\n",
      "Before transform: torch.Size([1, 32, 585])\n",
      "After transform: torch.Size([32, 293, 59])\n",
      "Before transform: torch.Size([1, 32, 585])\n"
     ]
    },
    {
     "name": "stderr",
     "output_type": "stream",
     "text": [
      " 70%|███████   | 4210/5976 [01:05<00:19, 90.98it/s]"
     ]
    },
    {
     "name": "stdout",
     "output_type": "stream",
     "text": [
      "After transform: torch.Size([32, 293, 59])\n",
      "Before transform: torch.Size([1, 32, 585])\n",
      "After transform: torch.Size([32, 293, 59])\n",
      "Before transform: torch.Size([1, 32, 585])\n",
      "After transform: torch.Size([32, 293, 59])\n",
      "Before transform: torch.Size([1, 32, 585])\n",
      "After transform: torch.Size([32, 293, 59])\n",
      "Before transform: torch.Size([1, 32, 585])\n",
      "After transform: torch.Size([32, 293, 59])\n",
      "Before transform: torch.Size([1, 32, 585])\n",
      "After transform: torch.Size([32, 293, 59])\n",
      "Before transform: torch.Size([1, 32, 585])\n",
      "After transform: torch.Size([32, 293, 59])\n",
      "Before transform: torch.Size([1, 32, 585])\n",
      "After transform: torch.Size([32, 293, 59])\n",
      "Before transform: torch.Size([1, 32, 585])\n",
      "After transform: torch.Size([32, 293, 59])\n",
      "Before transform: torch.Size([1, 32, 585])\n",
      "After transform: torch.Size([32, 293, 59])\n",
      "Before transform: torch.Size([1, 32, 585])\n",
      "After transform: torch.Size([32, 293, 59])\n",
      "Before transform: torch.Size([1, 32, 585])\n",
      "After transform: torch.Size([32, 293, 59])\n",
      "Before transform: torch.Size([1, 32, 585])\n",
      "After transform: torch.Size([32, 293, 59])\n",
      "Before transform: torch.Size([1, 32, 585])\n",
      "After transform: torch.Size([32, 293, 59])\n",
      "Before transform: torch.Size([1, 32, 585])\n",
      "After transform: torch.Size([32, 293, 59])\n",
      "Before transform: torch.Size([1, 32, 585])\n",
      "After transform: torch.Size([32, 293, 59])\n",
      "Before transform: torch.Size([1, 32, 585])\n",
      "After transform: torch.Size([32, 293, 59])\n",
      "Before transform: torch.Size([1, 32, 585])\n",
      "After transform: torch.Size([32, 293, 59])\n",
      "Before transform: torch.Size([1, 32, 585])\n",
      "After transform: torch.Size([32, 293, 59])\n",
      "Before transform: torch.Size([1, 32, 585])\n",
      "After transform: torch.Size([32, 293, 59])\n",
      "Before transform: torch.Size([1, 32, 585])\n"
     ]
    },
    {
     "name": "stderr",
     "output_type": "stream",
     "text": [
      " 71%|███████   | 4231/5976 [01:06<00:18, 92.18it/s]"
     ]
    },
    {
     "name": "stdout",
     "output_type": "stream",
     "text": [
      "After transform: torch.Size([32, 293, 59])\n",
      "Before transform: torch.Size([1, 32, 585])\n",
      "After transform: torch.Size([32, 293, 59])\n",
      "Before transform: torch.Size([1, 32, 585])\n",
      "After transform: torch.Size([32, 293, 59])\n",
      "Before transform: torch.Size([1, 32, 585])\n",
      "After transform: torch.Size([32, 293, 59])\n",
      "Before transform: torch.Size([1, 32, 585])\n",
      "After transform: torch.Size([32, 293, 59])\n",
      "Before transform: torch.Size([1, 32, 585])\n",
      "After transform: torch.Size([32, 293, 59])\n",
      "Before transform: torch.Size([1, 32, 585])\n",
      "After transform: torch.Size([32, 293, 59])\n",
      "Before transform: torch.Size([1, 32, 585])\n",
      "After transform: torch.Size([32, 293, 59])\n",
      "Before transform: torch.Size([1, 32, 585])\n",
      "After transform: torch.Size([32, 293, 59])\n",
      "Before transform: torch.Size([1, 32, 585])\n",
      "After transform: torch.Size([32, 293, 59])\n",
      "Before transform: torch.Size([1, 32, 585])\n",
      "After transform: torch.Size([32, 293, 59])\n",
      "Before transform: torch.Size([1, 32, 585])\n",
      "After transform: torch.Size([32, 293, 59])\n",
      "Before transform: torch.Size([1, 32, 585])\n",
      "After transform: torch.Size([32, 293, 59])\n",
      "Before transform: torch.Size([1, 32, 585])\n",
      "After transform: torch.Size([32, 293, 59])\n",
      "Before transform: torch.Size([1, 32, 585])\n",
      "After transform: torch.Size([32, 293, 59])\n",
      "Before transform: torch.Size([1, 32, 585])\n",
      "After transform: torch.Size([32, 293, 59])\n",
      "Before transform: torch.Size([1, 32, 585])\n",
      "After transform: torch.Size([32, 293, 59])\n",
      "Before transform: torch.Size([1, 32, 585])\n",
      "After transform: torch.Size([32, 293, 59])\n",
      "Before transform: torch.Size([1, 32, 585])\n",
      "After transform: torch.Size([32, 293, 59])\n",
      "Before transform: torch.Size([1, 32, 585])\n"
     ]
    },
    {
     "name": "stderr",
     "output_type": "stream",
     "text": [
      " 71%|███████   | 4251/5976 [01:06<00:18, 93.79it/s]"
     ]
    },
    {
     "name": "stdout",
     "output_type": "stream",
     "text": [
      "After transform: torch.Size([32, 293, 59])\n",
      "Before transform: torch.Size([1, 32, 585])\n",
      "After transform: torch.Size([32, 293, 59])\n",
      "Before transform: torch.Size([1, 32, 585])\n",
      "After transform: torch.Size([32, 293, 59])\n",
      "Before transform: torch.Size([1, 32, 585])\n",
      "After transform: torch.Size([32, 293, 59])\n",
      "Before transform: torch.Size([1, 32, 585])\n",
      "After transform: torch.Size([32, 293, 59])\n",
      "Before transform: torch.Size([1, 32, 585])\n",
      "After transform: torch.Size([32, 293, 59])\n",
      "Before transform: torch.Size([1, 32, 585])\n",
      "After transform: torch.Size([32, 293, 59])\n",
      "Before transform: torch.Size([1, 32, 585])\n",
      "After transform: torch.Size([32, 293, 59])\n",
      "Before transform: torch.Size([1, 32, 585])\n",
      "After transform: torch.Size([32, 293, 59])\n",
      "Before transform: torch.Size([1, 32, 585])\n",
      "After transform: torch.Size([32, 293, 59])\n",
      "Before transform: torch.Size([1, 32, 585])\n",
      "After transform: torch.Size([32, 293, 59])\n",
      "Before transform: torch.Size([1, 32, 585])\n",
      "After transform: torch.Size([32, 293, 59])\n",
      "Before transform: torch.Size([1, 32, 585])\n",
      "After transform: torch.Size([32, 293, 59])\n",
      "Before transform: torch.Size([1, 32, 585])\n",
      "After transform: torch.Size([32, 293, 59])\n",
      "Before transform: torch.Size([1, 32, 585])\n",
      "After transform: torch.Size([32, 293, 59])\n",
      "Before transform: torch.Size([1, 32, 585])\n",
      "After transform: torch.Size([32, 293, 59])\n",
      "Before transform: torch.Size([1, 32, 585])\n",
      "After transform: torch.Size([32, 293, 59])\n",
      "Before transform: torch.Size([1, 32, 585])\n",
      "After transform: torch.Size([32, 293, 59])\n",
      "Before transform: torch.Size([1, 32, 585])\n",
      "After transform: torch.Size([32, 293, 59])\n",
      "Before transform: torch.Size([1, 32, 585])\n",
      "After transform: torch.Size([32, 293, 59])\n",
      "Before transform: torch.Size([1, 32, 585])\n"
     ]
    },
    {
     "name": "stderr",
     "output_type": "stream",
     "text": [
      " 71%|███████▏  | 4261/5976 [01:06<00:18, 93.19it/s]"
     ]
    },
    {
     "name": "stdout",
     "output_type": "stream",
     "text": [
      "After transform: torch.Size([32, 293, 59])\n",
      "Before transform: torch.Size([1, 32, 585])\n",
      "After transform: torch.Size([32, 293, 59])\n",
      "Before transform: torch.Size([1, 32, 585])\n",
      "After transform: torch.Size([32, 293, 59])\n",
      "Before transform: torch.Size([1, 32, 585])\n",
      "After transform: torch.Size([32, 293, 59])\n",
      "Before transform: torch.Size([1, 32, 585])\n",
      "After transform: torch.Size([32, 293, 59])\n",
      "Before transform: torch.Size([1, 32, 585])\n",
      "After transform: torch.Size([32, 293, 59])\n",
      "Before transform: torch.Size([1, 32, 585])\n",
      "After transform: torch.Size([32, 293, 59])\n",
      "Before transform: torch.Size([1, 32, 585])\n",
      "After transform: torch.Size([32, 293, 59])\n",
      "Before transform: torch.Size([1, 32, 585])\n",
      "After transform: torch.Size([32, 293, 59])\n",
      "Before transform: torch.Size([1, 32, 585])\n",
      "After transform: torch.Size([32, 293, 59])\n",
      "Before transform: torch.Size([1, 32, 585])\n",
      "After transform: torch.Size([32, 293, 59])\n",
      "Before transform: torch.Size([1, 32, 585])\n",
      "After transform: torch.Size([32, 293, 59])\n",
      "Before transform: torch.Size([1, 32, 585])\n",
      "After transform: torch.Size([32, 293, 59])\n",
      "Before transform: torch.Size([1, 32, 585])\n",
      "After transform: torch.Size([32, 293, 59])\n",
      "Before transform: torch.Size([1, 32, 585])\n",
      "After transform: torch.Size([32, 293, 59])\n",
      "Before transform: torch.Size([1, 32, 585])\n",
      "After transform: torch.Size([32, 293, 59])\n",
      "Before transform: torch.Size([1, 32, 585])\n",
      "After transform: torch.Size([32, 293, 59])\n",
      "Before transform: torch.Size([1, 32, 585])\n"
     ]
    },
    {
     "name": "stderr",
     "output_type": "stream",
     "text": [
      " 71%|███████▏  | 4271/5976 [01:07<00:42, 40.47it/s]"
     ]
    },
    {
     "name": "stdout",
     "output_type": "stream",
     "text": [
      "After transform: torch.Size([32, 293, 59])\n",
      "Before transform: torch.Size([1, 32, 585])\n",
      "After transform: torch.Size([32, 293, 59])\n",
      "Before transform: torch.Size([1, 32, 585])\n",
      "After transform: torch.Size([32, 293, 59])\n",
      "Before transform: torch.Size([1, 32, 585])\n",
      "After transform: torch.Size([32, 293, 59])\n",
      "Before transform: torch.Size([1, 32, 585])\n"
     ]
    },
    {
     "name": "stderr",
     "output_type": "stream",
     "text": [
      " 72%|███████▏  | 4279/5976 [01:07<00:57, 29.35it/s]"
     ]
    },
    {
     "name": "stdout",
     "output_type": "stream",
     "text": [
      "After transform: torch.Size([32, 293, 59])\n",
      "Before transform: torch.Size([1, 32, 585])\n",
      "After transform: torch.Size([32, 293, 59])\n",
      "Before transform: torch.Size([1, 32, 585])\n",
      "After transform: torch.Size([32, 293, 59])\n",
      "Before transform: torch.Size([1, 32, 585])\n",
      "After transform: torch.Size([32, 293, 59])\n",
      "Before transform: torch.Size([1, 32, 585])\n",
      "After transform: torch.Size([32, 293, 59])\n",
      "Before transform: torch.Size([1, 32, 585])\n",
      "After transform: torch.Size([32, 293, 59])\n",
      "Before transform: torch.Size([1, 32, 585])\n"
     ]
    },
    {
     "name": "stderr",
     "output_type": "stream",
     "text": [
      " 72%|███████▏  | 4292/5976 [01:07<00:45, 36.65it/s]"
     ]
    },
    {
     "name": "stdout",
     "output_type": "stream",
     "text": [
      "After transform: torch.Size([32, 293, 59])\n",
      "Before transform: torch.Size([1, 32, 585])\n",
      "After transform: torch.Size([32, 293, 59])\n",
      "Before transform: torch.Size([1, 32, 585])\n",
      "After transform: torch.Size([32, 293, 59])\n",
      "Before transform: torch.Size([1, 32, 585])\n",
      "After transform: torch.Size([32, 293, 59])\n",
      "Before transform: torch.Size([1, 32, 585])\n",
      "After transform: torch.Size([32, 293, 59])\n",
      "Before transform: torch.Size([1, 32, 585])\n",
      "After transform: torch.Size([32, 293, 59])\n",
      "Before transform: torch.Size([1, 32, 585])\n",
      "After transform: torch.Size([32, 293, 59])\n",
      "Before transform: torch.Size([1, 32, 585])\n",
      "After transform: torch.Size([32, 293, 59])\n",
      "Before transform: torch.Size([1, 32, 585])\n",
      "After transform: torch.Size([32, 293, 59])\n",
      "Before transform: torch.Size([1, 32, 585])\n",
      "After transform: torch.Size([32, 293, 59])\n",
      "Before transform: torch.Size([1, 32, 585])\n",
      "After transform: torch.Size([32, 293, 59])\n",
      "Before transform: torch.Size([1, 32, 585])\n",
      "After transform: torch.Size([32, 293, 59])\n",
      "Before transform: torch.Size([1, 32, 585])\n"
     ]
    },
    {
     "name": "stderr",
     "output_type": "stream",
     "text": [
      " 72%|███████▏  | 4299/5976 [01:07<00:40, 41.55it/s]"
     ]
    },
    {
     "name": "stdout",
     "output_type": "stream",
     "text": [
      "After transform: torch.Size([32, 293, 59])\n",
      "Before transform: torch.Size([1, 32, 585])\n",
      "After transform: torch.Size([32, 293, 59])\n",
      "Before transform: torch.Size([1, 32, 585])\n",
      "After transform: torch.Size([32, 293, 59])\n",
      "Before transform: torch.Size([1, 32, 585])\n",
      "After transform: torch.Size([32, 293, 59])\n",
      "Before transform: torch.Size([1, 32, 585])\n",
      "After transform: torch.Size([32, 293, 59])\n",
      "Before transform: torch.Size([1, 32, 585])\n",
      "After transform: torch.Size([32, 293, 59])\n",
      "Before transform: torch.Size([1, 32, 585])\n",
      "After transform: torch.Size([32, 293, 59])\n",
      "Before transform: torch.Size([1, 32, 585])\n",
      "After transform: torch.Size([32, 293, 59])\n",
      "Before transform: torch.Size([1, 32, 585])\n",
      "After transform: torch.Size([32, 293, 59])\n",
      "Before transform: torch.Size([1, 32, 585])\n",
      "After transform: torch.Size([32, 293, 59])\n",
      "Before transform: torch.Size([1, 32, 585])\n",
      "After transform: torch.Size([32, 293, 59])\n",
      "Before transform: torch.Size([1, 32, 585])\n",
      "After transform: torch.Size([32, 293, 59])\n",
      "Before transform: torch.Size([1, 32, 585])\n",
      "After transform: torch.Size([32, 293, 59])\n",
      "Before transform: torch.Size([1, 32, 585])\n"
     ]
    },
    {
     "name": "stderr",
     "output_type": "stream",
     "text": [
      " 72%|███████▏  | 4313/5976 [01:08<00:33, 49.13it/s]"
     ]
    },
    {
     "name": "stdout",
     "output_type": "stream",
     "text": [
      "After transform: torch.Size([32, 293, 59])\n",
      "Before transform: torch.Size([1, 32, 585])\n",
      "After transform: torch.Size([32, 293, 59])\n",
      "Before transform: torch.Size([1, 32, 585])\n",
      "After transform: torch.Size([32, 293, 59])\n",
      "Before transform: torch.Size([1, 32, 585])\n",
      "After transform: torch.Size([32, 293, 59])\n",
      "Before transform: torch.Size([1, 32, 585])\n",
      "After transform: torch.Size([32, 293, 59])\n",
      "Before transform: torch.Size([1, 32, 585])\n",
      "After transform: torch.Size([32, 293, 59])\n",
      "Before transform: torch.Size([1, 32, 585])\n",
      "After transform: torch.Size([32, 293, 59])\n",
      "Before transform: torch.Size([1, 32, 585])\n",
      "After transform: torch.Size([32, 293, 59])\n",
      "Before transform: torch.Size([1, 32, 585])\n",
      "After transform: torch.Size([32, 293, 59])\n",
      "Before transform: torch.Size([1, 32, 585])\n",
      "After transform: torch.Size([32, 293, 59])\n",
      "Before transform: torch.Size([1, 32, 585])\n",
      "After transform: torch.Size([32, 293, 59])\n",
      "Before transform: torch.Size([1, 32, 585])\n",
      "After transform: torch.Size([32, 293, 59])\n",
      "Before transform: torch.Size([1, 32, 585])\n",
      "After transform: torch.Size([32, 293, 59])\n",
      "Before transform: torch.Size([1, 32, 585])\n",
      "After transform: torch.Size([32, 293, 59])\n",
      "Before transform: torch.Size([1, 32, 585])\n"
     ]
    },
    {
     "name": "stderr",
     "output_type": "stream",
     "text": [
      " 72%|███████▏  | 4328/5976 [01:08<00:29, 55.39it/s]"
     ]
    },
    {
     "name": "stdout",
     "output_type": "stream",
     "text": [
      "After transform: torch.Size([32, 293, 59])\n",
      "Before transform: torch.Size([1, 32, 585])\n",
      "After transform: torch.Size([32, 293, 59])\n",
      "Before transform: torch.Size([1, 32, 585])\n",
      "After transform: torch.Size([32, 293, 59])\n",
      "Before transform: torch.Size([1, 32, 585])\n",
      "After transform: torch.Size([32, 293, 59])\n",
      "Before transform: torch.Size([1, 32, 585])\n",
      "After transform: torch.Size([32, 293, 59])\n",
      "Before transform: torch.Size([1, 32, 585])\n",
      "After transform: torch.Size([32, 293, 59])\n",
      "Before transform: torch.Size([1, 32, 585])\n",
      "After transform: torch.Size([32, 293, 59])\n",
      "Before transform: torch.Size([1, 32, 585])\n",
      "After transform: torch.Size([32, 293, 59])\n",
      "Before transform: torch.Size([1, 32, 585])\n",
      "After transform: torch.Size([32, 293, 59])\n",
      "Before transform: torch.Size([1, 32, 585])\n",
      "After transform: torch.Size([32, 293, 59])\n",
      "Before transform: torch.Size([1, 32, 585])\n",
      "After transform: torch.Size([32, 293, 59])\n",
      "Before transform: torch.Size([1, 32, 585])\n"
     ]
    },
    {
     "name": "stderr",
     "output_type": "stream",
     "text": [
      " 73%|███████▎  | 4335/5976 [01:08<00:37, 43.60it/s]"
     ]
    },
    {
     "name": "stdout",
     "output_type": "stream",
     "text": [
      "After transform: torch.Size([32, 293, 59])\n",
      "Before transform: torch.Size([1, 32, 585])\n",
      "After transform: torch.Size([32, 293, 59])\n",
      "Before transform: torch.Size([1, 32, 585])\n",
      "After transform: torch.Size([32, 293, 59])\n",
      "Before transform: torch.Size([1, 32, 585])\n",
      "After transform: torch.Size([32, 293, 59])\n",
      "Before transform: torch.Size([1, 32, 585])\n",
      "After transform: torch.Size([32, 293, 59])\n",
      "Before transform: torch.Size([1, 32, 585])\n",
      "After transform: torch.Size([32, 293, 59])\n",
      "Before transform: torch.Size([1, 32, 585])\n",
      "After transform: torch.Size([32, 293, 59])\n"
     ]
    },
    {
     "name": "stderr",
     "output_type": "stream",
     "text": [
      " 73%|███████▎  | 4352/5976 [01:08<00:27, 58.33it/s]"
     ]
    },
    {
     "name": "stdout",
     "output_type": "stream",
     "text": [
      "Before transform: torch.Size([1, 32, 585])\n",
      "After transform: torch.Size([32, 293, 59])\n",
      "Before transform: torch.Size([1, 32, 585])\n",
      "After transform: torch.Size([32, 293, 59])\n",
      "Before transform: torch.Size([1, 32, 585])\n",
      "After transform: torch.Size([32, 293, 59])\n",
      "Before transform: torch.Size([1, 32, 585])\n",
      "After transform: torch.Size([32, 293, 59])\n",
      "Before transform: torch.Size([1, 32, 585])\n",
      "After transform: torch.Size([32, 293, 59])\n",
      "Before transform: torch.Size([1, 32, 585])\n",
      "After transform: torch.Size([32, 293, 59])\n",
      "Before transform: torch.Size([1, 32, 585])\n",
      "After transform: torch.Size([32, 293, 59])\n",
      "Before transform: torch.Size([1, 32, 585])\n",
      "After transform: torch.Size([32, 293, 59])\n",
      "Before transform: torch.Size([1, 32, 585])\n",
      "After transform: torch.Size([32, 293, 59])\n",
      "Before transform: torch.Size([1, 32, 585])\n",
      "After transform: torch.Size([32, 293, 59])\n",
      "Before transform: torch.Size([1, 32, 585])\n",
      "After transform: torch.Size([32, 293, 59])\n",
      "Before transform: torch.Size([1, 32, 585])\n",
      "After transform: torch.Size([32, 293, 59])\n",
      "Before transform: torch.Size([1, 32, 585])\n",
      "After transform: torch.Size([32, 293, 59])\n",
      "Before transform: torch.Size([1, 32, 585])\n",
      "After transform: torch.Size([32, 293, 59])\n",
      "Before transform: torch.Size([1, 32, 585])\n",
      "After transform: torch.Size([32, 293, 59])\n",
      "Before transform: torch.Size([1, 32, 585])\n",
      "After transform: torch.Size([32, 293, 59])\n",
      "Before transform: torch.Size([1, 32, 585])\n"
     ]
    },
    {
     "name": "stderr",
     "output_type": "stream",
     "text": [
      " 73%|███████▎  | 4371/5976 [01:09<00:22, 72.58it/s]"
     ]
    },
    {
     "name": "stdout",
     "output_type": "stream",
     "text": [
      "After transform: torch.Size([32, 293, 59])\n",
      "Before transform: torch.Size([1, 32, 585])\n",
      "After transform: torch.Size([32, 293, 59])\n",
      "Before transform: torch.Size([1, 32, 585])\n",
      "After transform: torch.Size([32, 293, 59])\n",
      "Before transform: torch.Size([1, 32, 585])\n",
      "After transform: torch.Size([32, 293, 59])\n",
      "Before transform: torch.Size([1, 32, 585])\n",
      "After transform: torch.Size([32, 293, 59])\n",
      "Before transform: torch.Size([1, 32, 585])\n",
      "After transform: torch.Size([32, 293, 59])\n",
      "Before transform: torch.Size([1, 32, 585])\n",
      "After transform: torch.Size([32, 293, 59])\n",
      "Before transform: torch.Size([1, 32, 585])\n",
      "After transform: torch.Size([32, 293, 59])\n",
      "Before transform: torch.Size([1, 32, 585])\n",
      "After transform: torch.Size([32, 293, 59])\n",
      "Before transform: torch.Size([1, 32, 585])\n",
      "After transform: torch.Size([32, 293, 59])\n",
      "Before transform: torch.Size([1, 32, 585])\n",
      "After transform: torch.Size([32, 293, 59])\n",
      "Before transform: torch.Size([1, 32, 585])\n",
      "After transform: torch.Size([32, 293, 59])\n",
      "Before transform: torch.Size([1, 32, 585])\n",
      "After transform: torch.Size([32, 293, 59])\n",
      "Before transform: torch.Size([1, 32, 585])\n",
      "After transform: torch.Size([32, 293, 59])\n",
      "Before transform: torch.Size([1, 32, 585])\n",
      "After transform: torch.Size([32, 293, 59])\n",
      "Before transform: torch.Size([1, 32, 585])\n",
      "After transform: torch.Size([32, 293, 59])\n",
      "Before transform: torch.Size([1, 32, 585])\n",
      "After transform: torch.Size([32, 293, 59])\n",
      "Before transform: torch.Size([1, 32, 585])\n",
      "After transform: torch.Size([32, 293, 59])\n",
      "Before transform: torch.Size([1, 32, 585])\n",
      "After transform: torch.Size([32, 293, 59])\n",
      "Before transform: torch.Size([1, 32, 585])\n"
     ]
    },
    {
     "name": "stderr",
     "output_type": "stream",
     "text": [
      " 73%|███████▎  | 4391/5976 [01:09<00:18, 84.01it/s]"
     ]
    },
    {
     "name": "stdout",
     "output_type": "stream",
     "text": [
      "After transform: torch.Size([32, 293, 59])\n",
      "Before transform: torch.Size([1, 32, 585])\n",
      "After transform: torch.Size([32, 293, 59])\n",
      "Before transform: torch.Size([1, 32, 585])\n",
      "After transform: torch.Size([32, 293, 59])\n",
      "Before transform: torch.Size([1, 32, 585])\n",
      "After transform: torch.Size([32, 293, 59])\n",
      "Before transform: torch.Size([1, 32, 585])\n",
      "After transform: torch.Size([32, 293, 59])\n",
      "Before transform: torch.Size([1, 32, 585])\n",
      "After transform: torch.Size([32, 293, 59])\n",
      "Before transform: torch.Size([1, 32, 585])\n",
      "After transform: torch.Size([32, 293, 59])\n",
      "Before transform: torch.Size([1, 32, 585])\n",
      "After transform: torch.Size([32, 293, 59])\n",
      "Before transform: torch.Size([1, 32, 585])\n",
      "After transform: torch.Size([32, 293, 59])\n",
      "Before transform: torch.Size([1, 32, 585])\n",
      "After transform: torch.Size([32, 293, 59])\n",
      "Before transform: torch.Size([1, 32, 585])\n",
      "After transform: torch.Size([32, 293, 59])\n",
      "Before transform: torch.Size([1, 32, 585])\n",
      "After transform: torch.Size([32, 293, 59])\n",
      "Before transform: torch.Size([1, 32, 585])\n",
      "After transform: torch.Size([32, 293, 59])\n",
      "Before transform: torch.Size([1, 32, 585])\n",
      "After transform: torch.Size([32, 293, 59])\n",
      "Before transform: torch.Size([1, 32, 585])\n",
      "After transform: torch.Size([32, 293, 59])\n",
      "Before transform: torch.Size([1, 32, 585])\n",
      "After transform: torch.Size([32, 293, 59])\n",
      "Before transform: torch.Size([1, 32, 585])\n",
      "After transform: torch.Size([32, 293, 59])\n",
      "Before transform: torch.Size([1, 32, 585])\n",
      "After transform: torch.Size([32, 293, 59])\n",
      "Before transform: torch.Size([1, 32, 585])\n",
      "After transform: torch.Size([32, 293, 59])\n",
      "Before transform: torch.Size([1, 32, 585])\n",
      "After transform: torch.Size([32, 293, 59])\n",
      "Before transform: torch.Size([1, 32, 585])\n"
     ]
    },
    {
     "name": "stderr",
     "output_type": "stream",
     "text": [
      " 74%|███████▍  | 4409/5976 [01:09<00:18, 84.09it/s]"
     ]
    },
    {
     "name": "stdout",
     "output_type": "stream",
     "text": [
      "After transform: torch.Size([32, 293, 59])\n",
      "Before transform: torch.Size([1, 32, 585])\n",
      "After transform: torch.Size([32, 293, 59])\n",
      "Before transform: torch.Size([1, 32, 585])\n",
      "After transform: torch.Size([32, 293, 59])\n",
      "Before transform: torch.Size([1, 32, 585])\n",
      "After transform: torch.Size([32, 293, 59])\n",
      "Before transform: torch.Size([1, 32, 585])\n",
      "After transform: torch.Size([32, 293, 59])\n",
      "Before transform: torch.Size([1, 32, 585])\n",
      "After transform: torch.Size([32, 293, 59])\n",
      "Before transform: torch.Size([1, 32, 585])\n",
      "After transform: torch.Size([32, 293, 59])\n",
      "Before transform: torch.Size([1, 32, 585])\n",
      "After transform: torch.Size([32, 293, 59])\n",
      "Before transform: torch.Size([1, 32, 585])\n",
      "After transform: torch.Size([32, 293, 59])\n",
      "Before transform: torch.Size([1, 32, 585])\n",
      "After transform: torch.Size([32, 293, 59])\n",
      "Before transform: torch.Size([1, 32, 585])\n",
      "After transform: torch.Size([32, 293, 59])\n",
      "Before transform: torch.Size([1, 32, 585])\n",
      "After transform: torch.Size([32, 293, 59])\n",
      "Before transform: torch.Size([1, 32, 585])\n",
      "After transform: torch.Size([32, 293, 59])\n",
      "Before transform: torch.Size([1, 32, 585])\n",
      "After transform: torch.Size([32, 293, 59])\n",
      "Before transform: torch.Size([1, 32, 585])\n",
      "After transform: torch.Size([32, 293, 59])\n",
      "Before transform: torch.Size([1, 32, 585])\n",
      "After transform: torch.Size([32, 293, 59])\n",
      "Before transform: torch.Size([1, 32, 585])\n",
      "After transform: torch.Size([32, 293, 59])\n",
      "Before transform: torch.Size([1, 32, 585])\n",
      "After transform: torch.Size([32, 293, 59])\n",
      "Before transform: torch.Size([1, 32, 585])\n",
      "After transform: torch.Size([32, 293, 59])\n",
      "Before transform: torch.Size([1, 32, 585])\n",
      "After transform: torch.Size([32, 293, 59])\n",
      "Before transform: torch.Size([1, 32, 585])\n",
      "After transform: torch.Size([32, 293, 59])\n",
      "Before transform: torch.Size([1, 32, 585])\n",
      "After transform: torch.Size([32, 293, 59])\n",
      "Before transform: torch.Size([1, 32, 585])\n",
      "After transform: torch.Size([32, 293, 59])\n",
      "Before transform: torch.Size([1, 32, 585])\n",
      "After transform: torch.Size([32, 293, 59])\n",
      "Before transform: torch.Size([1, 32, 585])\n",
      "After transform: torch.Size([32, 293, 59])\n",
      "Before transform: torch.Size([1, 32, 585])\n"
     ]
    },
    {
     "name": "stderr",
     "output_type": "stream",
     "text": [
      " 74%|███████▍  | 4428/5976 [01:09<00:21, 70.95it/s]"
     ]
    },
    {
     "name": "stdout",
     "output_type": "stream",
     "text": [
      "After transform: torch.Size([32, 293, 59])\n",
      "Before transform: torch.Size([1, 32, 585])\n",
      "After transform: torch.Size([32, 293, 59])\n",
      "Before transform: torch.Size([1, 32, 585])\n",
      "After transform: torch.Size([32, 293, 59])\n",
      "Before transform: torch.Size([1, 32, 585])\n",
      "After transform: torch.Size([32, 293, 59])\n",
      "Before transform: torch.Size([1, 32, 585])\n",
      "After transform: torch.Size([32, 293, 59])\n",
      "Before transform: torch.Size([1, 32, 585])\n",
      "After transform: torch.Size([32, 293, 59])\n",
      "Before transform: torch.Size([1, 32, 585])\n",
      "After transform: torch.Size([32, 293, 59])\n",
      "Before transform: torch.Size([1, 32, 585])\n",
      "After transform: torch.Size([32, 293, 59])\n",
      "Before transform: torch.Size([1, 32, 585])\n",
      "After transform: torch.Size([32, 293, 59])\n",
      "Before transform: torch.Size([1, 32, 585])\n",
      "After transform: torch.Size([32, 293, 59])\n",
      "Before transform: torch.Size([1, 32, 585])\n",
      "After transform: torch.Size([32, 293, 59])\n",
      "Before transform: torch.Size([1, 32, 585])\n",
      "After transform: torch.Size([32, 293, 59])\n",
      "Before transform: torch.Size([1, 32, 585])\n",
      "After transform: torch.Size([32, 293, 59])\n",
      "Before transform: torch.Size([1, 32, 585])\n",
      "After transform: torch.Size([32, 293, 59])\n",
      "Before transform: torch.Size([1, 32, 585])\n",
      "After transform: torch.Size([32, 293, 59])\n",
      "Before transform: torch.Size([1, 32, 585])\n",
      "After transform: torch.Size([32, 293, 59])\n",
      "Before transform: torch.Size([1, 32, 585])\n",
      "After transform: torch.Size([32, 293, 59])\n",
      "Before transform: torch.Size([1, 32, 585])\n",
      "After transform: torch.Size([32, 293, 59])\n",
      "Before transform: torch.Size([1, 32, 585])\n",
      "After transform: torch.Size([32, 293, 59])\n",
      "Before transform: torch.Size([1, 32, 585])\n"
     ]
    },
    {
     "name": "stderr",
     "output_type": "stream",
     "text": [
      " 74%|███████▍  | 4447/5976 [01:10<00:20, 75.16it/s]"
     ]
    },
    {
     "name": "stdout",
     "output_type": "stream",
     "text": [
      "After transform: torch.Size([32, 293, 59])\n",
      "Before transform: torch.Size([1, 32, 585])\n",
      "After transform: torch.Size([32, 293, 59])\n",
      "Before transform: torch.Size([1, 32, 585])\n",
      "After transform: torch.Size([32, 293, 59])\n",
      "Before transform: torch.Size([1, 32, 585])\n",
      "After transform: torch.Size([32, 293, 59])\n",
      "Before transform: torch.Size([1, 32, 585])\n",
      "After transform: torch.Size([32, 293, 59])\n",
      "Before transform: torch.Size([1, 32, 585])\n",
      "After transform: torch.Size([32, 293, 59])\n",
      "Before transform: torch.Size([1, 32, 585])\n",
      "After transform: torch.Size([32, 293, 59])\n",
      "Before transform: torch.Size([1, 32, 585])\n",
      "After transform: torch.Size([32, 293, 59])\n",
      "Before transform: torch.Size([1, 32, 585])\n",
      "After transform: torch.Size([32, 293, 59])\n",
      "Before transform: torch.Size([1, 32, 585])\n",
      "After transform: torch.Size([32, 293, 59])\n",
      "Before transform: torch.Size([1, 32, 585])\n",
      "After transform: torch.Size([32, 293, 59])\n",
      "Before transform: torch.Size([1, 32, 585])\n",
      "After transform: torch.Size([32, 293, 59])\n",
      "Before transform: torch.Size([1, 32, 585])\n",
      "After transform: torch.Size([32, 293, 59])\n",
      "Before transform: torch.Size([1, 32, 585])\n",
      "After transform: torch.Size([32, 293, 59])\n",
      "Before transform: torch.Size([1, 32, 585])\n",
      "After transform: torch.Size([32, 293, 59])\n",
      "Before transform: torch.Size([1, 32, 585])\n",
      "After transform: torch.Size([32, 293, 59])\n",
      "Before transform: torch.Size([1, 32, 585])\n",
      "After transform: torch.Size([32, 293, 59])\n",
      "Before transform: torch.Size([1, 32, 585])\n"
     ]
    },
    {
     "name": "stderr",
     "output_type": "stream",
     "text": [
      " 75%|███████▍  | 4466/5976 [01:10<00:18, 82.08it/s]"
     ]
    },
    {
     "name": "stdout",
     "output_type": "stream",
     "text": [
      "After transform: torch.Size([32, 293, 59])\n",
      "Before transform: torch.Size([1, 32, 585])\n",
      "After transform: torch.Size([32, 293, 59])\n",
      "Before transform: torch.Size([1, 32, 585])\n",
      "After transform: torch.Size([32, 293, 59])\n",
      "Before transform: torch.Size([1, 32, 585])\n",
      "After transform: torch.Size([32, 293, 59])\n",
      "Before transform: torch.Size([1, 32, 585])\n",
      "After transform: torch.Size([32, 293, 59])\n",
      "Before transform: torch.Size([1, 32, 585])\n",
      "After transform: torch.Size([32, 293, 59])\n",
      "Before transform: torch.Size([1, 32, 585])\n",
      "After transform: torch.Size([32, 293, 59])\n",
      "Before transform: torch.Size([1, 32, 585])\n",
      "After transform: torch.Size([32, 293, 59])\n",
      "Before transform: torch.Size([1, 32, 585])\n",
      "After transform: torch.Size([32, 293, 59])\n",
      "Before transform: torch.Size([1, 32, 585])\n",
      "After transform: torch.Size([32, 293, 59])\n",
      "Before transform: torch.Size([1, 32, 585])\n",
      "After transform: torch.Size([32, 293, 59])\n",
      "Before transform: torch.Size([1, 32, 585])\n",
      "After transform: torch.Size([32, 293, 59])\n",
      "Before transform: torch.Size([1, 32, 585])\n",
      "After transform: torch.Size([32, 293, 59])\n",
      "Before transform: torch.Size([1, 32, 585])\n",
      "After transform: torch.Size([32, 293, 59])\n",
      "Before transform: torch.Size([1, 32, 585])\n",
      "After transform: torch.Size([32, 293, 59])\n",
      "Before transform: torch.Size([1, 32, 585])\n",
      "After transform: torch.Size([32, 293, 59])\n",
      "Before transform: torch.Size([1, 32, 585])\n",
      "After transform: torch.Size([32, 293, 59])\n",
      "Before transform: torch.Size([1, 32, 585])\n",
      "After transform: torch.Size([32, 293, 59])\n",
      "Before transform: torch.Size([1, 32, 585])\n",
      "After transform: torch.Size([32, 293, 59])\n",
      "Before transform: torch.Size([1, 32, 585])\n"
     ]
    },
    {
     "name": "stderr",
     "output_type": "stream",
     "text": [
      " 75%|███████▌  | 4484/5976 [01:10<00:17, 84.10it/s]"
     ]
    },
    {
     "name": "stdout",
     "output_type": "stream",
     "text": [
      "After transform: torch.Size([32, 293, 59])\n",
      "Before transform: torch.Size([1, 32, 585])\n",
      "After transform: torch.Size([32, 293, 59])\n",
      "Before transform: torch.Size([1, 32, 585])\n",
      "After transform: torch.Size([32, 293, 59])\n",
      "Before transform: torch.Size([1, 32, 585])\n",
      "After transform: torch.Size([32, 293, 59])\n",
      "Before transform: torch.Size([1, 32, 585])\n",
      "After transform: torch.Size([32, 293, 59])\n",
      "Before transform: torch.Size([1, 32, 585])\n",
      "After transform: torch.Size([32, 293, 59])\n",
      "Before transform: torch.Size([1, 32, 585])\n",
      "After transform: torch.Size([32, 293, 59])\n",
      "Before transform: torch.Size([1, 32, 585])\n",
      "After transform: torch.Size([32, 293, 59])\n",
      "Before transform: torch.Size([1, 32, 585])\n",
      "After transform: torch.Size([32, 293, 59])\n",
      "Before transform: torch.Size([1, 32, 585])\n",
      "After transform: torch.Size([32, 293, 59])\n",
      "Before transform: torch.Size([1, 32, 585])\n",
      "After transform: torch.Size([32, 293, 59])\n",
      "Before transform: torch.Size([1, 32, 585])\n",
      "After transform: torch.Size([32, 293, 59])\n",
      "Before transform: torch.Size([1, 32, 585])\n",
      "After transform: torch.Size([32, 293, 59])\n",
      "Before transform: torch.Size([1, 32, 585])\n",
      "After transform: torch.Size([32, 293, 59])\n",
      "Before transform: torch.Size([1, 32, 585])\n",
      "After transform: torch.Size([32, 293, 59])\n",
      "Before transform: torch.Size([1, 32, 585])\n",
      "After transform: torch.Size([32, 293, 59])\n",
      "Before transform: torch.Size([1, 32, 585])\n"
     ]
    },
    {
     "name": "stderr",
     "output_type": "stream",
     "text": [
      " 75%|███████▌  | 4493/5976 [01:10<00:18, 81.68it/s]"
     ]
    },
    {
     "name": "stdout",
     "output_type": "stream",
     "text": [
      "After transform: torch.Size([32, 293, 59])\n",
      "Before transform: torch.Size([1, 32, 585])\n",
      "After transform: torch.Size([32, 293, 59])\n",
      "Before transform: torch.Size([1, 32, 585])\n",
      "After transform: torch.Size([32, 293, 59])\n",
      "Before transform: torch.Size([1, 32, 585])\n",
      "After transform: torch.Size([32, 293, 59])\n",
      "Before transform: torch.Size([1, 32, 585])\n",
      "After transform: torch.Size([32, 293, 59])\n",
      "Before transform: torch.Size([1, 32, 585])\n",
      "After transform: torch.Size([32, 293, 59])\n",
      "Before transform: torch.Size([1, 32, 585])\n",
      "After transform: torch.Size([32, 293, 59])\n",
      "Before transform: torch.Size([1, 32, 585])\n",
      "After transform: torch.Size([32, 293, 59])\n",
      "Before transform: torch.Size([1, 32, 585])\n",
      "After transform: torch.Size([32, 293, 59])\n",
      "Before transform: torch.Size([1, 32, 585])\n",
      "After transform: torch.Size([32, 293, 59])\n",
      "Before transform: torch.Size([1, 32, 585])\n",
      "After transform: torch.Size([32, 293, 59])\n",
      "Before transform: torch.Size([1, 32, 585])\n",
      "After transform: torch.Size([32, 293, 59])\n",
      "Before transform: torch.Size([1, 32, 585])\n",
      "After transform: torch.Size([32, 293, 59])\n",
      "Before transform: torch.Size([1, 32, 585])\n"
     ]
    },
    {
     "name": "stderr",
     "output_type": "stream",
     "text": [
      " 75%|███████▌  | 4502/5976 [01:10<00:20, 72.86it/s]"
     ]
    },
    {
     "name": "stdout",
     "output_type": "stream",
     "text": [
      "After transform: torch.Size([32, 293, 59])\n",
      "Before transform: torch.Size([1, 32, 585])\n",
      "After transform: torch.Size([32, 293, 59])\n",
      "Before transform: torch.Size([1, 32, 585])\n",
      "After transform: torch.Size([32, 293, 59])\n",
      "Before transform: torch.Size([1, 32, 585])\n",
      "After transform: torch.Size([32, 293, 59])\n",
      "Before transform: torch.Size([1, 32, 585])\n",
      "After transform: torch.Size([32, 293, 59])\n",
      "Before transform: torch.Size([1, 32, 585])\n",
      "After transform: torch.Size([32, 293, 59])\n",
      "Before transform: torch.Size([1, 32, 585])\n"
     ]
    },
    {
     "name": "stderr",
     "output_type": "stream",
     "text": [
      " 76%|███████▌  | 4518/5976 [01:11<00:25, 57.14it/s]"
     ]
    },
    {
     "name": "stdout",
     "output_type": "stream",
     "text": [
      "After transform: torch.Size([32, 293, 59])\n",
      "Before transform: torch.Size([1, 32, 585])\n",
      "After transform: torch.Size([32, 293, 59])\n",
      "Before transform: torch.Size([1, 32, 585])\n",
      "After transform: torch.Size([32, 293, 59])\n",
      "Before transform: torch.Size([1, 32, 585])\n",
      "After transform: torch.Size([32, 293, 59])\n",
      "Before transform: torch.Size([1, 32, 585])\n",
      "After transform: torch.Size([32, 293, 59])\n",
      "Before transform: torch.Size([1, 32, 585])\n",
      "After transform: torch.Size([32, 293, 59])\n",
      "Before transform: torch.Size([1, 32, 585])\n",
      "After transform: torch.Size([32, 293, 59])\n",
      "Before transform: torch.Size([1, 32, 585])\n",
      "After transform: torch.Size([32, 293, 59])\n",
      "Before transform: torch.Size([1, 32, 585])\n",
      "After transform: torch.Size([32, 293, 59])\n",
      "Before transform: torch.Size([1, 32, 585])\n",
      "After transform: torch.Size([32, 293, 59])\n",
      "Before transform: torch.Size([1, 32, 585])\n",
      "After transform: torch.Size([32, 293, 59])\n",
      "Before transform: torch.Size([1, 32, 585])\n",
      "After transform: torch.Size([32, 293, 59])\n",
      "Before transform: torch.Size([1, 32, 585])\n",
      "After transform: torch.Size([32, 293, 59])\n",
      "Before transform: torch.Size([1, 32, 585])\n",
      "After transform: torch.Size([32, 293, 59])\n"
     ]
    },
    {
     "name": "stderr",
     "output_type": "stream",
     "text": [
      " 76%|███████▌  | 4535/5976 [01:11<00:21, 67.59it/s]"
     ]
    },
    {
     "name": "stdout",
     "output_type": "stream",
     "text": [
      "Before transform: torch.Size([1, 32, 585])\n",
      "After transform: torch.Size([32, 293, 59])\n",
      "Before transform: torch.Size([1, 32, 585])\n",
      "After transform: torch.Size([32, 293, 59])\n",
      "Before transform: torch.Size([1, 32, 585])\n",
      "After transform: torch.Size([32, 293, 59])\n",
      "Before transform: torch.Size([1, 32, 585])\n",
      "After transform: torch.Size([32, 293, 59])\n",
      "Before transform: torch.Size([1, 32, 585])\n",
      "After transform: torch.Size([32, 293, 59])\n",
      "Before transform: torch.Size([1, 32, 585])\n",
      "After transform: torch.Size([32, 293, 59])\n",
      "Before transform: torch.Size([1, 32, 585])\n",
      "After transform: torch.Size([32, 293, 59])\n",
      "Before transform: torch.Size([1, 32, 585])\n",
      "After transform: torch.Size([32, 293, 59])\n",
      "Before transform: torch.Size([1, 32, 585])\n",
      "After transform: torch.Size([32, 293, 59])\n",
      "Before transform: torch.Size([1, 32, 585])\n",
      "After transform: torch.Size([32, 293, 59])\n",
      "Before transform: torch.Size([1, 32, 585])\n",
      "After transform: torch.Size([32, 293, 59])\n",
      "Before transform: torch.Size([1, 32, 585])\n",
      "After transform: torch.Size([32, 293, 59])\n",
      "Before transform: torch.Size([1, 32, 585])\n",
      "After transform: torch.Size([32, 293, 59])\n",
      "Before transform: torch.Size([1, 32, 585])\n",
      "After transform: torch.Size([32, 293, 59])\n",
      "Before transform: torch.Size([1, 32, 585])\n",
      "After transform: torch.Size([32, 293, 59])\n",
      "Before transform: torch.Size([1, 32, 585])\n",
      "After transform: torch.Size([32, 293, 59])\n",
      "Before transform: torch.Size([1, 32, 585])\n"
     ]
    },
    {
     "name": "stderr",
     "output_type": "stream",
     "text": [
      " 76%|███████▌  | 4555/5976 [01:11<00:17, 79.15it/s]"
     ]
    },
    {
     "name": "stdout",
     "output_type": "stream",
     "text": [
      "After transform: torch.Size([32, 293, 59])\n",
      "Before transform: torch.Size([1, 32, 585])\n",
      "After transform: torch.Size([32, 293, 59])\n",
      "Before transform: torch.Size([1, 32, 585])\n",
      "After transform: torch.Size([32, 293, 59])\n",
      "Before transform: torch.Size([1, 32, 585])\n",
      "After transform: torch.Size([32, 293, 59])\n",
      "Before transform: torch.Size([1, 32, 585])\n",
      "After transform: torch.Size([32, 293, 59])\n",
      "Before transform: torch.Size([1, 32, 585])\n",
      "After transform: torch.Size([32, 293, 59])\n",
      "Before transform: torch.Size([1, 32, 585])\n",
      "After transform: torch.Size([32, 293, 59])\n",
      "Before transform: torch.Size([1, 32, 585])\n",
      "After transform: torch.Size([32, 293, 59])\n",
      "Before transform: torch.Size([1, 32, 585])\n",
      "After transform: torch.Size([32, 293, 59])\n",
      "Before transform: torch.Size([1, 32, 585])\n",
      "After transform: torch.Size([32, 293, 59])\n",
      "Before transform: torch.Size([1, 32, 585])\n",
      "After transform: torch.Size([32, 293, 59])\n",
      "Before transform: torch.Size([1, 32, 585])\n",
      "After transform: torch.Size([32, 293, 59])\n",
      "Before transform: torch.Size([1, 32, 585])\n",
      "After transform: torch.Size([32, 293, 59])\n",
      "Before transform: torch.Size([1, 32, 585])\n",
      "After transform: torch.Size([32, 293, 59])\n",
      "Before transform: torch.Size([1, 32, 585])\n",
      "After transform: torch.Size([32, 293, 59])\n",
      "Before transform: torch.Size([1, 32, 585])\n",
      "After transform: torch.Size([32, 293, 59])\n",
      "Before transform: torch.Size([1, 32, 585])\n",
      "After transform: torch.Size([32, 293, 59])\n",
      "Before transform: torch.Size([1, 32, 585])\n",
      "After transform: torch.Size([32, 293, 59])\n",
      "Before transform: torch.Size([1, 32, 585])\n",
      "After transform: torch.Size([32, 293, 59])\n",
      "Before transform: torch.Size([1, 32, 585])\n"
     ]
    },
    {
     "name": "stderr",
     "output_type": "stream",
     "text": [
      " 77%|███████▋  | 4574/5976 [01:11<00:16, 84.71it/s]"
     ]
    },
    {
     "name": "stdout",
     "output_type": "stream",
     "text": [
      "After transform: torch.Size([32, 293, 59])\n",
      "Before transform: torch.Size([1, 32, 585])\n",
      "After transform: torch.Size([32, 293, 59])\n",
      "Before transform: torch.Size([1, 32, 585])\n",
      "After transform: torch.Size([32, 293, 59])\n",
      "Before transform: torch.Size([1, 32, 585])\n",
      "After transform: torch.Size([32, 293, 59])\n",
      "Before transform: torch.Size([1, 32, 585])\n",
      "After transform: torch.Size([32, 293, 59])\n",
      "Before transform: torch.Size([1, 32, 585])\n",
      "After transform: torch.Size([32, 293, 59])\n",
      "Before transform: torch.Size([1, 32, 585])\n",
      "After transform: torch.Size([32, 293, 59])\n",
      "Before transform: torch.Size([1, 32, 585])\n",
      "After transform: torch.Size([32, 293, 59])\n",
      "Before transform: torch.Size([1, 32, 585])\n",
      "After transform: torch.Size([32, 293, 59])\n",
      "Before transform: torch.Size([1, 32, 585])\n",
      "After transform: torch.Size([32, 293, 59])\n",
      "Before transform: torch.Size([1, 32, 585])\n",
      "After transform: torch.Size([32, 293, 59])\n",
      "Before transform: torch.Size([1, 32, 585])\n",
      "After transform: torch.Size([32, 293, 59])\n",
      "Before transform: torch.Size([1, 32, 585])\n",
      "After transform: torch.Size([32, 293, 59])\n",
      "Before transform: torch.Size([1, 32, 585])\n",
      "After transform: torch.Size([32, 293, 59])\n",
      "Before transform: torch.Size([1, 32, 585])\n",
      "After transform: torch.Size([32, 293, 59])\n",
      "Before transform: torch.Size([1, 32, 585])\n",
      "After transform: torch.Size([32, 293, 59])\n",
      "Before transform: torch.Size([1, 32, 585])\n",
      "After transform: torch.Size([32, 293, 59])\n",
      "Before transform: torch.Size([1, 32, 585])\n",
      "After transform: torch.Size([32, 293, 59])\n",
      "Before transform: torch.Size([1, 32, 585])\n",
      "After transform: torch.Size([32, 293, 59])\n",
      "Before transform: torch.Size([1, 32, 585])\n"
     ]
    },
    {
     "name": "stderr",
     "output_type": "stream",
     "text": [
      " 77%|███████▋  | 4583/5976 [01:11<00:18, 76.86it/s]"
     ]
    },
    {
     "name": "stdout",
     "output_type": "stream",
     "text": [
      "After transform: torch.Size([32, 293, 59])\n",
      "Before transform: torch.Size([1, 32, 585])\n",
      "After transform: torch.Size([32, 293, 59])\n",
      "Before transform: torch.Size([1, 32, 585])\n",
      "After transform: torch.Size([32, 293, 59])\n",
      "Before transform: torch.Size([1, 32, 585])\n",
      "After transform: torch.Size([32, 293, 59])\n",
      "Before transform: torch.Size([1, 32, 585])\n",
      "After transform: torch.Size([32, 293, 59])\n",
      "Before transform: torch.Size([1, 32, 585])\n",
      "After transform: torch.Size([32, 293, 59])\n",
      "Before transform: torch.Size([1, 32, 585])\n",
      "After transform: torch.Size([32, 293, 59])\n",
      "Before transform: torch.Size([1, 32, 585])\n",
      "After transform: torch.Size([32, 293, 59])\n",
      "Before transform: torch.Size([1, 32, 585])\n",
      "After transform: torch.Size([32, 293, 59])\n",
      "Before transform: torch.Size([1, 32, 585])\n",
      "After transform: torch.Size([32, 293, 59])\n",
      "Before transform: torch.Size([1, 32, 585])\n",
      "After transform: torch.Size([32, 293, 59])\n",
      "Before transform: torch.Size([1, 32, 585])\n",
      "After transform: torch.Size([32, 293, 59])\n",
      "Before transform: torch.Size([1, 32, 585])\n"
     ]
    },
    {
     "name": "stderr",
     "output_type": "stream",
     "text": [
      " 77%|███████▋  | 4591/5976 [01:12<00:23, 58.57it/s]"
     ]
    },
    {
     "name": "stdout",
     "output_type": "stream",
     "text": [
      "After transform: torch.Size([32, 293, 59])\n",
      "Before transform: torch.Size([1, 32, 585])\n",
      "After transform: torch.Size([32, 293, 59])\n",
      "Before transform: torch.Size([1, 32, 585])\n",
      "After transform: torch.Size([32, 293, 59])\n",
      "Before transform: torch.Size([1, 32, 585])\n",
      "After transform: torch.Size([32, 293, 59])\n",
      "Before transform: torch.Size([1, 32, 585])\n",
      "After transform: torch.Size([32, 293, 59])\n",
      "Before transform: torch.Size([1, 32, 585])\n",
      "After transform: torch.Size([32, 293, 59])\n",
      "Before transform: torch.Size([1, 32, 585])\n",
      "After transform: torch.Size([32, 293, 59])\n"
     ]
    },
    {
     "name": "stderr",
     "output_type": "stream",
     "text": [
      " 77%|███████▋  | 4608/5976 [01:12<00:21, 63.25it/s]"
     ]
    },
    {
     "name": "stdout",
     "output_type": "stream",
     "text": [
      "Before transform: torch.Size([1, 32, 585])\n",
      "After transform: torch.Size([32, 293, 59])\n",
      "Before transform: torch.Size([1, 32, 585])\n",
      "After transform: torch.Size([32, 293, 59])\n",
      "Before transform: torch.Size([1, 32, 585])\n",
      "After transform: torch.Size([32, 293, 59])\n",
      "Before transform: torch.Size([1, 32, 585])\n",
      "After transform: torch.Size([32, 293, 59])\n",
      "Before transform: torch.Size([1, 32, 585])\n",
      "After transform: torch.Size([32, 293, 59])\n",
      "Before transform: torch.Size([1, 32, 585])\n",
      "After transform: torch.Size([32, 293, 59])\n",
      "Before transform: torch.Size([1, 32, 585])\n",
      "After transform: torch.Size([32, 293, 59])\n",
      "Before transform: torch.Size([1, 32, 585])\n",
      "After transform: torch.Size([32, 293, 59])\n",
      "Before transform: torch.Size([1, 32, 585])\n",
      "After transform: torch.Size([32, 293, 59])\n",
      "Before transform: torch.Size([1, 32, 585])\n",
      "After transform: torch.Size([32, 293, 59])\n",
      "Before transform: torch.Size([1, 32, 585])\n",
      "After transform: torch.Size([32, 293, 59])\n",
      "Before transform: torch.Size([1, 32, 585])\n",
      "After transform: torch.Size([32, 293, 59])\n",
      "Before transform: torch.Size([1, 32, 585])\n",
      "After transform: torch.Size([32, 293, 59])\n",
      "Before transform: torch.Size([1, 32, 585])\n",
      "After transform: torch.Size([32, 293, 59])\n",
      "Before transform: torch.Size([1, 32, 585])\n"
     ]
    },
    {
     "name": "stderr",
     "output_type": "stream",
     "text": [
      " 77%|███████▋  | 4616/5976 [01:12<00:20, 66.53it/s]"
     ]
    },
    {
     "name": "stdout",
     "output_type": "stream",
     "text": [
      "After transform: torch.Size([32, 293, 59])\n",
      "Before transform: torch.Size([1, 32, 585])\n",
      "After transform: torch.Size([32, 293, 59])\n",
      "Before transform: torch.Size([1, 32, 585])\n",
      "After transform: torch.Size([32, 293, 59])\n",
      "Before transform: torch.Size([1, 32, 585])\n",
      "After transform: torch.Size([32, 293, 59])\n",
      "Before transform: torch.Size([1, 32, 585])\n",
      "After transform: torch.Size([32, 293, 59])\n",
      "Before transform: torch.Size([1, 32, 585])\n",
      "After transform: torch.Size([32, 293, 59])\n",
      "Before transform: torch.Size([1, 32, 585])\n",
      "After transform: torch.Size([32, 293, 59])\n",
      "Before transform: torch.Size([1, 32, 585])\n",
      "After transform: torch.Size([32, 293, 59])\n",
      "Before transform: torch.Size([1, 32, 585])\n",
      "After transform: torch.Size([32, 293, 59])\n",
      "Before transform: torch.Size([1, 32, 585])\n",
      "After transform: torch.Size([32, 293, 59])\n",
      "Before transform: torch.Size([1, 32, 585])\n",
      "After transform: torch.Size([32, 293, 59])\n",
      "Before transform: torch.Size([1, 32, 585])\n",
      "After transform: torch.Size([32, 293, 59])\n",
      "Before transform: torch.Size([1, 32, 585])\n",
      "After transform: torch.Size([32, 293, 59])\n",
      "Before transform: torch.Size([1, 32, 585])\n",
      "After transform: torch.Size([32, 293, 59])\n",
      "Before transform: torch.Size([1, 32, 585])\n",
      "After transform: torch.Size([32, 293, 59])\n",
      "Before transform: torch.Size([1, 32, 585])\n",
      "After transform: torch.Size([32, 293, 59])\n",
      "Before transform: torch.Size([1, 32, 585])\n"
     ]
    },
    {
     "name": "stderr",
     "output_type": "stream",
     "text": [
      " 78%|███████▊  | 4633/5976 [01:12<00:20, 65.02it/s]"
     ]
    },
    {
     "name": "stdout",
     "output_type": "stream",
     "text": [
      "After transform: torch.Size([32, 293, 59])\n",
      "Before transform: torch.Size([1, 32, 585])\n",
      "After transform: torch.Size([32, 293, 59])\n",
      "Before transform: torch.Size([1, 32, 585])\n",
      "After transform: torch.Size([32, 293, 59])\n",
      "Before transform: torch.Size([1, 32, 585])\n",
      "After transform: torch.Size([32, 293, 59])\n",
      "Before transform: torch.Size([1, 32, 585])\n",
      "After transform: torch.Size([32, 293, 59])\n",
      "Before transform: torch.Size([1, 32, 585])\n",
      "After transform: torch.Size([32, 293, 59])\n",
      "Before transform: torch.Size([1, 32, 585])\n",
      "After transform: torch.Size([32, 293, 59])\n",
      "Before transform: torch.Size([1, 32, 585])\n",
      "After transform: torch.Size([32, 293, 59])\n",
      "Before transform: torch.Size([1, 32, 585])\n",
      "After transform: torch.Size([32, 293, 59])\n",
      "Before transform: torch.Size([1, 32, 585])\n",
      "After transform: torch.Size([32, 293, 59])\n",
      "Before transform: torch.Size([1, 32, 585])\n",
      "After transform: torch.Size([32, 293, 59])\n",
      "Before transform: torch.Size([1, 32, 585])\n",
      "After transform: torch.Size([32, 293, 59])\n",
      "Before transform: torch.Size([1, 32, 585])\n",
      "After transform: torch.Size([32, 293, 59])\n",
      "Before transform: torch.Size([1, 32, 585])\n"
     ]
    },
    {
     "name": "stderr",
     "output_type": "stream",
     "text": [
      " 78%|███████▊  | 4649/5976 [01:12<00:18, 70.12it/s]"
     ]
    },
    {
     "name": "stdout",
     "output_type": "stream",
     "text": [
      "After transform: torch.Size([32, 293, 59])\n",
      "Before transform: torch.Size([1, 32, 585])\n",
      "After transform: torch.Size([32, 293, 59])\n",
      "Before transform: torch.Size([1, 32, 585])\n",
      "After transform: torch.Size([32, 293, 59])\n",
      "Before transform: torch.Size([1, 32, 585])\n",
      "After transform: torch.Size([32, 293, 59])\n",
      "Before transform: torch.Size([1, 32, 585])\n",
      "After transform: torch.Size([32, 293, 59])\n",
      "Before transform: torch.Size([1, 32, 585])\n",
      "After transform: torch.Size([32, 293, 59])\n",
      "Before transform: torch.Size([1, 32, 585])\n",
      "After transform: torch.Size([32, 293, 59])\n",
      "Before transform: torch.Size([1, 32, 585])\n",
      "After transform: torch.Size([32, 293, 59])\n",
      "Before transform: torch.Size([1, 32, 585])\n",
      "After transform: torch.Size([32, 293, 59])\n",
      "Before transform: torch.Size([1, 32, 585])\n",
      "After transform: torch.Size([32, 293, 59])\n",
      "Before transform: torch.Size([1, 32, 585])\n",
      "After transform: torch.Size([32, 293, 59])\n",
      "Before transform: torch.Size([1, 32, 585])\n",
      "After transform: torch.Size([32, 293, 59])\n",
      "Before transform: torch.Size([1, 32, 585])\n",
      "After transform: torch.Size([32, 293, 59])\n",
      "Before transform: torch.Size([1, 32, 585])\n",
      "After transform: torch.Size([32, 293, 59])\n",
      "Before transform: torch.Size([1, 32, 585])\n",
      "After transform: torch.Size([32, 293, 59])\n",
      "Before transform: torch.Size([1, 32, 585])\n",
      "After transform: torch.Size([32, 293, 59])\n",
      "Before transform: torch.Size([1, 32, 585])\n",
      "After transform: torch.Size([32, 293, 59])\n",
      "Before transform: torch.Size([1, 32, 585])\n"
     ]
    },
    {
     "name": "stderr",
     "output_type": "stream",
     "text": [
      " 78%|███████▊  | 4667/5976 [01:13<00:17, 75.58it/s]"
     ]
    },
    {
     "name": "stdout",
     "output_type": "stream",
     "text": [
      "After transform: torch.Size([32, 293, 59])\n",
      "Before transform: torch.Size([1, 32, 585])\n",
      "After transform: torch.Size([32, 293, 59])\n",
      "Before transform: torch.Size([1, 32, 585])\n",
      "After transform: torch.Size([32, 293, 59])\n",
      "Before transform: torch.Size([1, 32, 585])\n",
      "After transform: torch.Size([32, 293, 59])\n",
      "Before transform: torch.Size([1, 32, 585])\n",
      "After transform: torch.Size([32, 293, 59])\n",
      "Before transform: torch.Size([1, 32, 585])\n",
      "After transform: torch.Size([32, 293, 59])\n",
      "Before transform: torch.Size([1, 32, 585])\n",
      "After transform: torch.Size([32, 293, 59])\n",
      "Before transform: torch.Size([1, 32, 585])\n",
      "After transform: torch.Size([32, 293, 59])\n",
      "Before transform: torch.Size([1, 32, 585])\n",
      "After transform: torch.Size([32, 293, 59])\n",
      "Before transform: torch.Size([1, 32, 585])\n",
      "After transform: torch.Size([32, 293, 59])\n",
      "Before transform: torch.Size([1, 32, 585])\n",
      "After transform: torch.Size([32, 293, 59])\n",
      "Before transform: torch.Size([1, 32, 585])\n",
      "After transform: torch.Size([32, 293, 59])\n",
      "Before transform: torch.Size([1, 32, 585])\n",
      "After transform: torch.Size([32, 293, 59])\n",
      "Before transform: torch.Size([1, 32, 585])\n"
     ]
    },
    {
     "name": "stderr",
     "output_type": "stream",
     "text": [
      " 78%|███████▊  | 4684/5976 [01:13<00:21, 61.34it/s]"
     ]
    },
    {
     "name": "stdout",
     "output_type": "stream",
     "text": [
      "After transform: torch.Size([32, 293, 59])\n",
      "Before transform: torch.Size([1, 32, 585])\n",
      "After transform: torch.Size([32, 293, 59])\n",
      "Before transform: torch.Size([1, 32, 585])\n",
      "After transform: torch.Size([32, 293, 59])\n",
      "Before transform: torch.Size([1, 32, 585])\n",
      "After transform: torch.Size([32, 293, 59])\n",
      "Before transform: torch.Size([1, 32, 585])\n",
      "After transform: torch.Size([32, 293, 59])\n",
      "Before transform: torch.Size([1, 32, 585])\n",
      "After transform: torch.Size([32, 293, 59])\n",
      "Before transform: torch.Size([1, 32, 585])\n",
      "After transform: torch.Size([32, 293, 59])\n",
      "Before transform: torch.Size([1, 32, 585])\n",
      "After transform: torch.Size([32, 293, 59])\n",
      "Before transform: torch.Size([1, 32, 585])\n",
      "After transform: torch.Size([32, 293, 59])\n",
      "Before transform: torch.Size([1, 32, 585])\n",
      "After transform: torch.Size([32, 293, 59])\n",
      "Before transform: torch.Size([1, 32, 585])\n",
      "After transform: torch.Size([32, 293, 59])\n",
      "Before transform: torch.Size([1, 32, 585])\n",
      "After transform: torch.Size([32, 293, 59])\n",
      "Before transform: torch.Size([1, 32, 585])\n",
      "After transform: torch.Size([32, 293, 59])\n",
      "Before transform: torch.Size([1, 32, 585])\n",
      "After transform: torch.Size([32, 293, 59])\n",
      "Before transform: torch.Size([1, 32, 585])\n",
      "After transform: torch.Size([32, 293, 59])\n",
      "Before transform: torch.Size([1, 32, 585])\n",
      "After transform: torch.Size([32, 293, 59])\n",
      "Before transform: torch.Size([1, 32, 585])\n",
      "After transform: torch.Size([32, 293, 59])\n",
      "Before transform: torch.Size([1, 32, 585])\n",
      "After transform: torch.Size([32, 293, 59])\n",
      "Before transform: torch.Size([1, 32, 585])\n",
      "After transform: torch.Size([32, 293, 59])\n",
      "Before transform: torch.Size([1, 32, 585])\n"
     ]
    },
    {
     "name": "stderr",
     "output_type": "stream",
     "text": [
      " 79%|███████▊  | 4703/5976 [01:13<00:17, 74.66it/s]"
     ]
    },
    {
     "name": "stdout",
     "output_type": "stream",
     "text": [
      "After transform: torch.Size([32, 293, 59])\n",
      "Before transform: torch.Size([1, 32, 585])\n",
      "After transform: torch.Size([32, 293, 59])\n",
      "Before transform: torch.Size([1, 32, 585])\n",
      "After transform: torch.Size([32, 293, 59])\n",
      "Before transform: torch.Size([1, 32, 585])\n",
      "After transform: torch.Size([32, 293, 59])\n",
      "Before transform: torch.Size([1, 32, 585])\n",
      "After transform: torch.Size([32, 293, 59])\n",
      "Before transform: torch.Size([1, 32, 585])\n",
      "After transform: torch.Size([32, 293, 59])\n",
      "Before transform: torch.Size([1, 32, 585])\n",
      "After transform: torch.Size([32, 293, 59])\n",
      "Before transform: torch.Size([1, 32, 585])\n",
      "After transform: torch.Size([32, 293, 59])\n",
      "Before transform: torch.Size([1, 32, 585])\n",
      "After transform: torch.Size([32, 293, 59])\n",
      "Before transform: torch.Size([1, 32, 585])\n",
      "After transform: torch.Size([32, 293, 59])\n",
      "Before transform: torch.Size([1, 32, 585])\n",
      "After transform: torch.Size([32, 293, 59])\n",
      "Before transform: torch.Size([1, 32, 585])\n",
      "After transform: torch.Size([32, 293, 59])\n",
      "Before transform: torch.Size([1, 32, 585])\n",
      "After transform: torch.Size([32, 293, 59])\n",
      "Before transform: torch.Size([1, 32, 585])\n",
      "After transform: torch.Size([32, 293, 59])\n",
      "Before transform: torch.Size([1, 32, 585])\n",
      "After transform: torch.Size([32, 293, 59])\n",
      "Before transform: torch.Size([1, 32, 585])\n",
      "After transform: torch.Size([32, 293, 59])\n",
      "Before transform: torch.Size([1, 32, 585])\n",
      "After transform: torch.Size([32, 293, 59])\n",
      "Before transform: torch.Size([1, 32, 585])\n",
      "After transform: torch.Size([32, 293, 59])\n",
      "Before transform: torch.Size([1, 32, 585])\n",
      "After transform: torch.Size([32, 293, 59])\n",
      "Before transform: torch.Size([1, 32, 585])\n"
     ]
    },
    {
     "name": "stderr",
     "output_type": "stream",
     "text": [
      " 79%|███████▉  | 4712/5976 [01:13<00:16, 77.69it/s]"
     ]
    },
    {
     "name": "stdout",
     "output_type": "stream",
     "text": [
      "After transform: torch.Size([32, 293, 59])\n",
      "Before transform: torch.Size([1, 32, 585])\n",
      "After transform: torch.Size([32, 293, 59])\n",
      "Before transform: torch.Size([1, 32, 585])\n",
      "After transform: torch.Size([32, 293, 59])\n",
      "Before transform: torch.Size([1, 32, 585])\n",
      "After transform: torch.Size([32, 293, 59])\n",
      "Before transform: torch.Size([1, 32, 585])\n",
      "After transform: torch.Size([32, 293, 59])\n",
      "Before transform: torch.Size([1, 32, 585])\n",
      "After transform: torch.Size([32, 293, 59])\n",
      "Before transform: torch.Size([1, 32, 585])\n",
      "After transform: torch.Size([32, 293, 59])\n",
      "Before transform: torch.Size([1, 32, 585])\n",
      "After transform: torch.Size([32, 293, 59])\n",
      "Before transform: torch.Size([1, 32, 585])\n",
      "After transform: torch.Size([32, 293, 59])\n",
      "Before transform: torch.Size([1, 32, 585])\n",
      "After transform: torch.Size([32, 293, 59])\n",
      "Before transform: torch.Size([1, 32, 585])\n",
      "After transform: torch.Size([32, 293, 59])\n",
      "Before transform: torch.Size([1, 32, 585])\n"
     ]
    },
    {
     "name": "stderr",
     "output_type": "stream",
     "text": [
      " 79%|███████▉  | 4721/5976 [01:14<00:21, 57.77it/s]"
     ]
    },
    {
     "name": "stdout",
     "output_type": "stream",
     "text": [
      "After transform: torch.Size([32, 293, 59])\n",
      "Before transform: torch.Size([1, 32, 585])\n",
      "After transform: torch.Size([32, 293, 59])\n",
      "Before transform: torch.Size([1, 32, 585])\n",
      "After transform: torch.Size([32, 293, 59])\n",
      "Before transform: torch.Size([1, 32, 585])\n",
      "After transform: torch.Size([32, 293, 59])\n",
      "Before transform: torch.Size([1, 32, 585])\n",
      "After transform: torch.Size([32, 293, 59])\n",
      "Before transform: torch.Size([1, 32, 585])\n",
      "After transform: torch.Size([32, 293, 59])\n",
      "Before transform: torch.Size([1, 32, 585])\n",
      "After transform: torch.Size([32, 293, 59])\n",
      "Before transform: torch.Size([1, 32, 585])\n",
      "After transform: torch.Size([32, 293, 59])\n",
      "Before transform: torch.Size([1, 32, 585])\n",
      "After transform: torch.Size([32, 293, 59])\n",
      "Before transform: torch.Size([1, 32, 585])\n",
      "After transform: torch.Size([32, 293, 59])\n",
      "Before transform: torch.Size([1, 32, 585])\n",
      "After transform: torch.Size([32, 293, 59])\n",
      "Before transform: torch.Size([1, 32, 585])\n"
     ]
    },
    {
     "name": "stderr",
     "output_type": "stream",
     "text": [
      " 79%|███████▉  | 4735/5976 [01:14<00:20, 59.62it/s]"
     ]
    },
    {
     "name": "stdout",
     "output_type": "stream",
     "text": [
      "After transform: torch.Size([32, 293, 59])\n",
      "Before transform: torch.Size([1, 32, 585])\n",
      "After transform: torch.Size([32, 293, 59])\n",
      "Before transform: torch.Size([1, 32, 585])\n",
      "After transform: torch.Size([32, 293, 59])\n",
      "Before transform: torch.Size([1, 32, 585])\n",
      "After transform: torch.Size([32, 293, 59])\n",
      "Before transform: torch.Size([1, 32, 585])\n",
      "After transform: torch.Size([32, 293, 59])\n",
      "Before transform: torch.Size([1, 32, 585])\n",
      "After transform: torch.Size([32, 293, 59])\n",
      "Before transform: torch.Size([1, 32, 585])\n",
      "After transform: torch.Size([32, 293, 59])\n",
      "Before transform: torch.Size([1, 32, 585])\n",
      "After transform: torch.Size([32, 293, 59])\n",
      "Before transform: torch.Size([1, 32, 585])\n",
      "After transform: torch.Size([32, 293, 59])\n",
      "Before transform: torch.Size([1, 32, 585])\n",
      "After transform: torch.Size([32, 293, 59])\n",
      "Before transform: torch.Size([1, 32, 585])\n",
      "After transform: torch.Size([32, 293, 59])\n",
      "Before transform: torch.Size([1, 32, 585])\n",
      "After transform: torch.Size([32, 293, 59])\n",
      "Before transform: torch.Size([1, 32, 585])\n",
      "After transform: torch.Size([32, 293, 59])\n",
      "Before transform: torch.Size([1, 32, 585])\n"
     ]
    },
    {
     "name": "stderr",
     "output_type": "stream",
     "text": [
      " 79%|███████▉  | 4742/5976 [01:14<00:21, 58.74it/s]"
     ]
    },
    {
     "name": "stdout",
     "output_type": "stream",
     "text": [
      "After transform: torch.Size([32, 293, 59])\n",
      "Before transform: torch.Size([1, 32, 585])\n",
      "After transform: torch.Size([32, 293, 59])\n",
      "Before transform: torch.Size([1, 32, 585])\n",
      "After transform: torch.Size([32, 293, 59])\n",
      "Before transform: torch.Size([1, 32, 585])\n"
     ]
    },
    {
     "name": "stderr",
     "output_type": "stream",
     "text": [
      " 79%|███████▉  | 4749/5976 [01:14<00:30, 39.94it/s]"
     ]
    },
    {
     "name": "stdout",
     "output_type": "stream",
     "text": [
      "After transform: torch.Size([32, 293, 59])\n",
      "Before transform: torch.Size([1, 32, 585])\n",
      "After transform: torch.Size([32, 293, 59])\n",
      "Before transform: torch.Size([1, 32, 585])\n",
      "After transform: torch.Size([32, 293, 59])\n",
      "Before transform: torch.Size([1, 32, 585])\n",
      "After transform: torch.Size([32, 293, 59])\n",
      "Before transform: torch.Size([1, 32, 585])\n",
      "After transform: torch.Size([32, 293, 59])\n",
      "Before transform: torch.Size([1, 32, 585])\n",
      "After transform: torch.Size([32, 293, 59])\n",
      "Before transform: torch.Size([1, 32, 585])\n",
      "After transform: torch.Size([32, 293, 59])\n",
      "Before transform: torch.Size([1, 32, 585])\n",
      "After transform: torch.Size([32, 293, 59])\n",
      "Before transform: torch.Size([1, 32, 585])\n",
      "After transform: torch.Size([32, 293, 59])\n",
      "Before transform: torch.Size([1, 32, 585])\n",
      "After transform: torch.Size([32, 293, 59])\n",
      "Before transform: torch.Size([1, 32, 585])\n",
      "After transform: torch.Size([32, 293, 59])\n",
      "Before transform: torch.Size([1, 32, 585])\n",
      "After transform: torch.Size([32, 293, 59])\n",
      "Before transform: torch.Size([1, 32, 585])\n",
      "After transform: torch.Size([32, 293, 59])\n",
      "Before transform: torch.Size([1, 32, 585])\n"
     ]
    },
    {
     "name": "stderr",
     "output_type": "stream",
     "text": [
      " 80%|███████▉  | 4764/5976 [01:14<00:23, 50.72it/s]"
     ]
    },
    {
     "name": "stdout",
     "output_type": "stream",
     "text": [
      "After transform: torch.Size([32, 293, 59])\n",
      "Before transform: torch.Size([1, 32, 585])\n",
      "After transform: torch.Size([32, 293, 59])\n",
      "Before transform: torch.Size([1, 32, 585])\n",
      "After transform: torch.Size([32, 293, 59])\n",
      "Before transform: torch.Size([1, 32, 585])\n",
      "After transform: torch.Size([32, 293, 59])\n",
      "Before transform: torch.Size([1, 32, 585])\n",
      "After transform: torch.Size([32, 293, 59])\n",
      "Before transform: torch.Size([1, 32, 585])\n",
      "After transform: torch.Size([32, 293, 59])\n",
      "Before transform: torch.Size([1, 32, 585])\n",
      "After transform: torch.Size([32, 293, 59])\n",
      "Before transform: torch.Size([1, 32, 585])\n",
      "After transform: torch.Size([32, 293, 59])\n",
      "Before transform: torch.Size([1, 32, 585])\n",
      "After transform: torch.Size([32, 293, 59])\n",
      "Before transform: torch.Size([1, 32, 585])\n",
      "After transform: torch.Size([32, 293, 59])\n",
      "Before transform: torch.Size([1, 32, 585])\n",
      "After transform: torch.Size([32, 293, 59])\n",
      "Before transform: torch.Size([1, 32, 585])\n",
      "After transform: torch.Size([32, 293, 59])\n",
      "Before transform: torch.Size([1, 32, 585])\n",
      "After transform: torch.Size([32, 293, 59])\n",
      "Before transform: torch.Size([1, 32, 585])\n",
      "After transform: torch.Size([32, 293, 59])\n",
      "Before transform: torch.Size([1, 32, 585])\n",
      "After transform: torch.Size([32, 293, 59])\n",
      "Before transform: torch.Size([1, 32, 585])\n",
      "After transform: torch.Size([32, 293, 59])\n",
      "Before transform: torch.Size([1, 32, 585])\n"
     ]
    },
    {
     "name": "stderr",
     "output_type": "stream",
     "text": [
      " 80%|████████  | 4782/5976 [01:15<00:18, 65.18it/s]"
     ]
    },
    {
     "name": "stdout",
     "output_type": "stream",
     "text": [
      "After transform: torch.Size([32, 293, 59])\n",
      "Before transform: torch.Size([1, 32, 585])\n",
      "After transform: torch.Size([32, 293, 59])\n",
      "Before transform: torch.Size([1, 32, 585])\n",
      "After transform: torch.Size([32, 293, 59])\n",
      "Before transform: torch.Size([1, 32, 585])\n",
      "After transform: torch.Size([32, 293, 59])\n",
      "Before transform: torch.Size([1, 32, 585])\n",
      "After transform: torch.Size([32, 293, 59])\n",
      "Before transform: torch.Size([1, 32, 585])\n",
      "After transform: torch.Size([32, 293, 59])\n",
      "Before transform: torch.Size([1, 32, 585])\n",
      "After transform: torch.Size([32, 293, 59])\n",
      "Before transform: torch.Size([1, 32, 585])\n",
      "After transform: torch.Size([32, 293, 59])\n",
      "Before transform: torch.Size([1, 32, 585])\n",
      "After transform: torch.Size([32, 293, 59])\n",
      "Before transform: torch.Size([1, 32, 585])\n",
      "After transform: torch.Size([32, 293, 59])\n",
      "Before transform: torch.Size([1, 32, 585])\n",
      "After transform: torch.Size([32, 293, 59])\n",
      "Before transform: torch.Size([1, 32, 585])\n",
      "After transform: torch.Size([32, 293, 59])\n",
      "Before transform: torch.Size([1, 32, 585])\n",
      "After transform: torch.Size([32, 293, 59])\n",
      "Before transform: torch.Size([1, 32, 585])\n",
      "After transform: torch.Size([32, 293, 59])\n",
      "Before transform: torch.Size([1, 32, 585])\n",
      "After transform: torch.Size([32, 293, 59])\n",
      "Before transform: torch.Size([1, 32, 585])\n",
      "After transform: torch.Size([32, 293, 59])\n",
      "Before transform: torch.Size([1, 32, 585])\n",
      "After transform: torch.Size([32, 293, 59])\n",
      "Before transform: torch.Size([1, 32, 585])\n"
     ]
    },
    {
     "name": "stderr",
     "output_type": "stream",
     "text": [
      " 80%|████████  | 4799/5976 [01:15<00:19, 60.90it/s]"
     ]
    },
    {
     "name": "stdout",
     "output_type": "stream",
     "text": [
      "After transform: torch.Size([32, 293, 59])\n",
      "Before transform: torch.Size([1, 32, 585])\n",
      "After transform: torch.Size([32, 293, 59])\n",
      "Before transform: torch.Size([1, 32, 585])\n",
      "After transform: torch.Size([32, 293, 59])\n",
      "Before transform: torch.Size([1, 32, 585])\n",
      "After transform: torch.Size([32, 293, 59])\n",
      "Before transform: torch.Size([1, 32, 585])\n",
      "After transform: torch.Size([32, 293, 59])\n",
      "Before transform: torch.Size([1, 32, 585])\n",
      "After transform: torch.Size([32, 293, 59])\n",
      "Before transform: torch.Size([1, 32, 585])\n",
      "After transform: torch.Size([32, 293, 59])\n",
      "Before transform: torch.Size([1, 32, 585])\n",
      "After transform: torch.Size([32, 293, 59])\n",
      "Before transform: torch.Size([1, 32, 585])\n",
      "After transform: torch.Size([32, 293, 59])\n",
      "Before transform: torch.Size([1, 32, 585])\n",
      "After transform: torch.Size([32, 293, 59])\n",
      "Before transform: torch.Size([1, 32, 585])\n"
     ]
    },
    {
     "name": "stderr",
     "output_type": "stream",
     "text": [
      " 80%|████████  | 4806/5976 [01:15<00:22, 52.75it/s]"
     ]
    },
    {
     "name": "stdout",
     "output_type": "stream",
     "text": [
      "After transform: torch.Size([32, 293, 59])\n",
      "Before transform: torch.Size([1, 32, 585])\n",
      "After transform: torch.Size([32, 293, 59])\n",
      "Before transform: torch.Size([1, 32, 585])\n",
      "After transform: torch.Size([32, 293, 59])\n",
      "Before transform: torch.Size([1, 32, 585])\n",
      "After transform: torch.Size([32, 293, 59])\n",
      "Before transform: torch.Size([1, 32, 585])\n",
      "After transform: torch.Size([32, 293, 59])\n",
      "Before transform: torch.Size([1, 32, 585])\n",
      "After transform: torch.Size([32, 293, 59])\n",
      "Before transform: torch.Size([1, 32, 585])\n",
      "After transform: torch.Size([32, 293, 59])\n",
      "Before transform: torch.Size([1, 32, 585])\n",
      "After transform: torch.Size([32, 293, 59])\n",
      "Before transform: torch.Size([1, 32, 585])\n",
      "After transform: torch.Size([32, 293, 59])\n",
      "Before transform: torch.Size([1, 32, 585])\n",
      "After transform: torch.Size([32, 293, 59])\n",
      "Before transform: torch.Size([1, 32, 585])\n",
      "After transform: torch.Size([32, 293, 59])\n",
      "Before transform: torch.Size([1, 32, 585])\n"
     ]
    },
    {
     "name": "stderr",
     "output_type": "stream",
     "text": [
      " 81%|████████  | 4817/5976 [01:16<00:35, 32.74it/s]"
     ]
    },
    {
     "name": "stdout",
     "output_type": "stream",
     "text": [
      "After transform: torch.Size([32, 293, 59])\n",
      "Before transform: torch.Size([1, 32, 585])\n",
      "After transform: torch.Size([32, 293, 59])\n",
      "Before transform: torch.Size([1, 32, 585])\n",
      "After transform: torch.Size([32, 293, 59])\n",
      "Before transform: torch.Size([1, 32, 585])\n",
      "After transform: torch.Size([32, 293, 59])\n",
      "Before transform: torch.Size([1, 32, 585])\n",
      "After transform: torch.Size([32, 293, 59])\n",
      "Before transform: torch.Size([1, 32, 585])\n",
      "After transform: torch.Size([32, 293, 59])\n",
      "Before transform: torch.Size([1, 32, 585])\n",
      "After transform: torch.Size([32, 293, 59])\n",
      "Before transform: torch.Size([1, 32, 585])\n",
      "After transform: torch.Size([32, 293, 59])\n",
      "Before transform: torch.Size([1, 32, 585])\n"
     ]
    },
    {
     "name": "stderr",
     "output_type": "stream",
     "text": [
      " 81%|████████  | 4831/5976 [01:16<00:25, 45.01it/s]"
     ]
    },
    {
     "name": "stdout",
     "output_type": "stream",
     "text": [
      "After transform: torch.Size([32, 293, 59])\n",
      "Before transform: torch.Size([1, 32, 585])\n",
      "After transform: torch.Size([32, 293, 59])\n",
      "Before transform: torch.Size([1, 32, 585])\n",
      "After transform: torch.Size([32, 293, 59])\n",
      "Before transform: torch.Size([1, 32, 585])\n",
      "After transform: torch.Size([32, 293, 59])\n",
      "Before transform: torch.Size([1, 32, 585])\n",
      "After transform: torch.Size([32, 293, 59])\n",
      "Before transform: torch.Size([1, 32, 585])\n",
      "After transform: torch.Size([32, 293, 59])\n",
      "Before transform: torch.Size([1, 32, 585])\n",
      "After transform: torch.Size([32, 293, 59])\n",
      "Before transform: torch.Size([1, 32, 585])\n",
      "After transform: torch.Size([32, 293, 59])\n",
      "Before transform: torch.Size([1, 32, 585])\n",
      "After transform: torch.Size([32, 293, 59])\n",
      "Before transform: torch.Size([1, 32, 585])\n",
      "After transform: torch.Size([32, 293, 59])\n",
      "Before transform: torch.Size([1, 32, 585])\n",
      "After transform: torch.Size([32, 293, 59])\n",
      "Before transform: torch.Size([1, 32, 585])\n",
      "After transform: torch.Size([32, 293, 59])\n",
      "Before transform: torch.Size([1, 32, 585])\n",
      "After transform: torch.Size([32, 293, 59])\n",
      "Before transform: torch.Size([1, 32, 585])\n",
      "After transform: torch.Size([32, 293, 59])\n",
      "Before transform: torch.Size([1, 32, 585])\n"
     ]
    },
    {
     "name": "stderr",
     "output_type": "stream",
     "text": [
      " 81%|████████  | 4846/5976 [01:16<00:19, 57.06it/s]"
     ]
    },
    {
     "name": "stdout",
     "output_type": "stream",
     "text": [
      "After transform: torch.Size([32, 293, 59])\n",
      "Before transform: torch.Size([1, 32, 585])\n",
      "After transform: torch.Size([32, 293, 59])\n",
      "Before transform: torch.Size([1, 32, 585])\n",
      "After transform: torch.Size([32, 293, 59])\n",
      "Before transform: torch.Size([1, 32, 585])\n",
      "After transform: torch.Size([32, 293, 59])\n",
      "Before transform: torch.Size([1, 32, 585])\n",
      "After transform: torch.Size([32, 293, 59])\n",
      "Before transform: torch.Size([1, 32, 585])\n",
      "After transform: torch.Size([32, 293, 59])\n",
      "Before transform: torch.Size([1, 32, 585])\n",
      "After transform: torch.Size([32, 293, 59])\n",
      "Before transform: torch.Size([1, 32, 585])\n",
      "After transform: torch.Size([32, 293, 59])\n",
      "Before transform: torch.Size([1, 32, 585])\n",
      "After transform: torch.Size([32, 293, 59])\n",
      "Before transform: torch.Size([1, 32, 585])\n",
      "After transform: torch.Size([32, 293, 59])\n",
      "Before transform: torch.Size([1, 32, 585])\n",
      "After transform: torch.Size([32, 293, 59])\n",
      "Before transform: torch.Size([1, 32, 585])\n",
      "After transform: torch.Size([32, 293, 59])\n",
      "Before transform: torch.Size([1, 32, 585])\n",
      "After transform: torch.Size([32, 293, 59])\n",
      "Before transform: torch.Size([1, 32, 585])\n",
      "After transform: torch.Size([32, 293, 59])\n",
      "Before transform: torch.Size([1, 32, 585])\n",
      "After transform: torch.Size([32, 293, 59])\n",
      "Before transform: torch.Size([1, 32, 585])\n",
      "After transform: torch.Size([32, 293, 59])\n",
      "Before transform: torch.Size([1, 32, 585])\n"
     ]
    },
    {
     "name": "stderr",
     "output_type": "stream",
     "text": [
      " 81%|████████▏ | 4863/5976 [01:16<00:16, 65.50it/s]"
     ]
    },
    {
     "name": "stdout",
     "output_type": "stream",
     "text": [
      "After transform: torch.Size([32, 293, 59])\n",
      "Before transform: torch.Size([1, 32, 585])\n",
      "After transform: torch.Size([32, 293, 59])\n",
      "Before transform: torch.Size([1, 32, 585])\n",
      "After transform: torch.Size([32, 293, 59])\n",
      "Before transform: torch.Size([1, 32, 585])\n",
      "After transform: torch.Size([32, 293, 59])\n",
      "Before transform: torch.Size([1, 32, 585])\n",
      "After transform: torch.Size([32, 293, 59])\n",
      "Before transform: torch.Size([1, 32, 585])\n",
      "After transform: torch.Size([32, 293, 59])\n",
      "Before transform: torch.Size([1, 32, 585])\n",
      "After transform: torch.Size([32, 293, 59])\n",
      "Before transform: torch.Size([1, 32, 585])\n",
      "After transform: torch.Size([32, 293, 59])\n",
      "Before transform: torch.Size([1, 32, 585])\n",
      "After transform: torch.Size([32, 293, 59])\n",
      "Before transform: torch.Size([1, 32, 585])\n",
      "After transform: torch.Size([32, 293, 59])\n",
      "Before transform: torch.Size([1, 32, 585])\n",
      "After transform: torch.Size([32, 293, 59])\n",
      "Before transform: torch.Size([1, 32, 585])\n",
      "After transform: torch.Size([32, 293, 59])\n",
      "Before transform: torch.Size([1, 32, 585])\n",
      "After transform: torch.Size([32, 293, 59])\n",
      "Before transform: torch.Size([1, 32, 585])\n",
      "After transform: torch.Size([32, 293, 59])\n",
      "Before transform: torch.Size([1, 32, 585])\n",
      "After transform: torch.Size([32, 293, 59])\n",
      "Before transform: torch.Size([1, 32, 585])\n"
     ]
    },
    {
     "name": "stderr",
     "output_type": "stream",
     "text": [
      " 82%|████████▏ | 4871/5976 [01:16<00:16, 65.86it/s]"
     ]
    },
    {
     "name": "stdout",
     "output_type": "stream",
     "text": [
      "After transform: torch.Size([32, 293, 59])\n",
      "Before transform: torch.Size([1, 32, 585])\n",
      "After transform: torch.Size([32, 293, 59])\n",
      "Before transform: torch.Size([1, 32, 585])\n",
      "After transform: torch.Size([32, 293, 59])\n",
      "Before transform: torch.Size([1, 32, 585])\n",
      "After transform: torch.Size([32, 293, 59])\n",
      "Before transform: torch.Size([1, 32, 585])\n",
      "After transform: torch.Size([32, 293, 59])\n",
      "Before transform: torch.Size([1, 32, 585])\n",
      "After transform: torch.Size([32, 293, 59])\n",
      "Before transform: torch.Size([1, 32, 585])\n",
      "After transform: torch.Size([32, 293, 59])\n",
      "Before transform: torch.Size([1, 32, 585])\n",
      "After transform: torch.Size([32, 293, 59])\n",
      "Before transform: torch.Size([1, 32, 585])\n",
      "After transform: torch.Size([32, 293, 59])\n",
      "Before transform: torch.Size([1, 32, 585])\n",
      "After transform: torch.Size([32, 293, 59])\n",
      "Before transform: torch.Size([1, 32, 585])\n",
      "After transform: torch.Size([32, 293, 59])\n",
      "Before transform: torch.Size([1, 32, 585])\n",
      "After transform: torch.Size([32, 293, 59])\n",
      "Before transform: torch.Size([1, 32, 585])\n",
      "After transform: torch.Size([32, 293, 59])\n",
      "Before transform: torch.Size([1, 32, 585])\n",
      "After transform: torch.Size([32, 293, 59])\n",
      "Before transform: torch.Size([1, 32, 585])\n"
     ]
    },
    {
     "name": "stderr",
     "output_type": "stream",
     "text": [
      " 82%|████████▏ | 4878/5976 [01:17<00:16, 64.88it/s]"
     ]
    },
    {
     "name": "stdout",
     "output_type": "stream",
     "text": [
      "After transform: torch.Size([32, 293, 59])\n",
      "Before transform: torch.Size([1, 32, 585])\n",
      "After transform: torch.Size([32, 293, 59])\n",
      "Before transform: torch.Size([1, 32, 585])\n",
      "After transform: torch.Size([32, 293, 59])\n",
      "Before transform: torch.Size([1, 32, 585])\n",
      "After transform: torch.Size([32, 293, 59])\n",
      "Before transform: torch.Size([1, 32, 585])\n"
     ]
    },
    {
     "name": "stderr",
     "output_type": "stream",
     "text": [
      " 82%|████████▏ | 4892/5976 [01:17<00:23, 45.22it/s]"
     ]
    },
    {
     "name": "stdout",
     "output_type": "stream",
     "text": [
      "After transform: torch.Size([32, 293, 59])\n",
      "Before transform: torch.Size([1, 32, 585])\n",
      "After transform: torch.Size([32, 293, 59])\n",
      "Before transform: torch.Size([1, 32, 585])\n",
      "After transform: torch.Size([32, 293, 59])\n",
      "Before transform: torch.Size([1, 32, 585])\n",
      "After transform: torch.Size([32, 293, 59])\n",
      "Before transform: torch.Size([1, 32, 585])\n",
      "After transform: torch.Size([32, 293, 59])\n",
      "Before transform: torch.Size([1, 32, 585])\n",
      "After transform: torch.Size([32, 293, 59])\n",
      "Before transform: torch.Size([1, 32, 585])\n",
      "After transform: torch.Size([32, 293, 59])\n",
      "Before transform: torch.Size([1, 32, 585])\n",
      "After transform: torch.Size([32, 293, 59])\n",
      "Before transform: torch.Size([1, 32, 585])\n",
      "After transform: torch.Size([32, 293, 59])\n",
      "Before transform: torch.Size([1, 32, 585])\n",
      "After transform: torch.Size([32, 293, 59])\n",
      "Before transform: torch.Size([1, 32, 585])\n",
      "After transform: torch.Size([32, 293, 59])\n",
      "Before transform: torch.Size([1, 32, 585])\n"
     ]
    },
    {
     "name": "stderr",
     "output_type": "stream",
     "text": [
      " 82%|████████▏ | 4898/5976 [01:17<00:23, 45.75it/s]"
     ]
    },
    {
     "name": "stdout",
     "output_type": "stream",
     "text": [
      "After transform: torch.Size([32, 293, 59])\n",
      "Before transform: torch.Size([1, 32, 585])\n",
      "After transform: torch.Size([32, 293, 59])\n",
      "Before transform: torch.Size([1, 32, 585])\n",
      "After transform: torch.Size([32, 293, 59])\n",
      "Before transform: torch.Size([1, 32, 585])\n",
      "After transform: torch.Size([32, 293, 59])\n",
      "Before transform: torch.Size([1, 32, 585])\n",
      "After transform: torch.Size([32, 293, 59])\n",
      "Before transform: torch.Size([1, 32, 585])\n",
      "After transform: torch.Size([32, 293, 59])\n",
      "Before transform: torch.Size([1, 32, 585])\n",
      "After transform: torch.Size([32, 293, 59])\n",
      "Before transform: torch.Size([1, 32, 585])\n",
      "After transform: torch.Size([32, 293, 59])\n",
      "Before transform: torch.Size([1, 32, 585])\n",
      "After transform: torch.Size([32, 293, 59])\n",
      "Before transform: torch.Size([1, 32, 585])\n",
      "After transform: torch.Size([32, 293, 59])\n",
      "Before transform: torch.Size([1, 32, 585])\n",
      "After transform: torch.Size([32, 293, 59])\n",
      "Before transform: torch.Size([1, 32, 585])\n",
      "After transform: torch.Size([32, 293, 59])\n",
      "Before transform: torch.Size([1, 32, 585])\n"
     ]
    },
    {
     "name": "stderr",
     "output_type": "stream",
     "text": [
      " 82%|████████▏ | 4914/5976 [01:17<00:18, 58.41it/s]"
     ]
    },
    {
     "name": "stdout",
     "output_type": "stream",
     "text": [
      "After transform: torch.Size([32, 293, 59])\n",
      "Before transform: torch.Size([1, 32, 585])\n",
      "After transform: torch.Size([32, 293, 59])\n",
      "Before transform: torch.Size([1, 32, 585])\n",
      "After transform: torch.Size([32, 293, 59])\n",
      "Before transform: torch.Size([1, 32, 585])\n",
      "After transform: torch.Size([32, 293, 59])\n",
      "Before transform: torch.Size([1, 32, 585])\n",
      "After transform: torch.Size([32, 293, 59])\n",
      "Before transform: torch.Size([1, 32, 585])\n",
      "After transform: torch.Size([32, 293, 59])\n",
      "Before transform: torch.Size([1, 32, 585])\n",
      "After transform: torch.Size([32, 293, 59])\n",
      "Before transform: torch.Size([1, 32, 585])\n",
      "After transform: torch.Size([32, 293, 59])\n",
      "Before transform: torch.Size([1, 32, 585])\n",
      "After transform: torch.Size([32, 293, 59])\n",
      "Before transform: torch.Size([1, 32, 585])\n",
      "After transform: torch.Size([32, 293, 59])\n",
      "Before transform: torch.Size([1, 32, 585])\n",
      "After transform: torch.Size([32, 293, 59])\n",
      "Before transform: torch.Size([1, 32, 585])\n",
      "After transform: torch.Size([32, 293, 59])\n",
      "Before transform: torch.Size([1, 32, 585])\n",
      "After transform: torch.Size([32, 293, 59])\n",
      "Before transform: torch.Size([1, 32, 585])\n",
      "After transform: torch.Size([32, 293, 59])\n",
      "Before transform: torch.Size([1, 32, 585])\n",
      "After transform: torch.Size([32, 293, 59])\n",
      "Before transform: torch.Size([1, 32, 585])\n",
      "After transform: torch.Size([32, 293, 59])\n",
      "Before transform: torch.Size([1, 32, 585])\n"
     ]
    },
    {
     "name": "stderr",
     "output_type": "stream",
     "text": [
      " 82%|████████▏ | 4928/5976 [01:18<00:16, 62.86it/s]"
     ]
    },
    {
     "name": "stdout",
     "output_type": "stream",
     "text": [
      "After transform: torch.Size([32, 293, 59])\n",
      "Before transform: torch.Size([1, 32, 585])\n",
      "After transform: torch.Size([32, 293, 59])\n",
      "Before transform: torch.Size([1, 32, 585])\n",
      "After transform: torch.Size([32, 293, 59])\n",
      "Before transform: torch.Size([1, 32, 585])\n",
      "After transform: torch.Size([32, 293, 59])\n",
      "Before transform: torch.Size([1, 32, 585])\n",
      "After transform: torch.Size([32, 293, 59])\n",
      "Before transform: torch.Size([1, 32, 585])\n",
      "After transform: torch.Size([32, 293, 59])\n",
      "Before transform: torch.Size([1, 32, 585])\n",
      "After transform: torch.Size([32, 293, 59])\n",
      "Before transform: torch.Size([1, 32, 585])\n",
      "After transform: torch.Size([32, 293, 59])\n",
      "Before transform: torch.Size([1, 32, 585])\n",
      "After transform: torch.Size([32, 293, 59])\n",
      "Before transform: torch.Size([1, 32, 585])\n",
      "After transform: torch.Size([32, 293, 59])\n",
      "Before transform: torch.Size([1, 32, 585])\n",
      "After transform: torch.Size([32, 293, 59])\n",
      "Before transform: torch.Size([1, 32, 585])\n",
      "After transform: torch.Size([32, 293, 59])\n",
      "Before transform: torch.Size([1, 32, 585])\n",
      "After transform: torch.Size([32, 293, 59])\n",
      "Before transform: torch.Size([1, 32, 585])\n",
      "After transform: torch.Size([32, 293, 59])\n",
      "Before transform: torch.Size([1, 32, 585])\n",
      "After transform: torch.Size([32, 293, 59])\n",
      "Before transform: torch.Size([1, 32, 585])\n"
     ]
    },
    {
     "name": "stderr",
     "output_type": "stream",
     "text": [
      " 83%|████████▎ | 4944/5976 [01:18<00:15, 68.20it/s]"
     ]
    },
    {
     "name": "stdout",
     "output_type": "stream",
     "text": [
      "After transform: torch.Size([32, 293, 59])\n",
      "Before transform: torch.Size([1, 32, 585])\n",
      "After transform: torch.Size([32, 293, 59])\n",
      "Before transform: torch.Size([1, 32, 585])\n",
      "After transform: torch.Size([32, 293, 59])\n",
      "Before transform: torch.Size([1, 32, 585])\n",
      "After transform: torch.Size([32, 293, 59])\n",
      "Before transform: torch.Size([1, 32, 585])\n",
      "After transform: torch.Size([32, 293, 59])\n",
      "Before transform: torch.Size([1, 32, 585])\n",
      "After transform: torch.Size([32, 293, 59])\n",
      "Before transform: torch.Size([1, 32, 585])\n",
      "After transform: torch.Size([32, 293, 59])\n",
      "Before transform: torch.Size([1, 32, 585])\n",
      "After transform: torch.Size([32, 293, 59])\n",
      "Before transform: torch.Size([1, 32, 585])\n",
      "After transform: torch.Size([32, 293, 59])\n",
      "Before transform: torch.Size([1, 32, 585])\n",
      "After transform: torch.Size([32, 293, 59])\n",
      "Before transform: torch.Size([1, 32, 585])\n",
      "After transform: torch.Size([32, 293, 59])\n",
      "Before transform: torch.Size([1, 32, 585])\n",
      "After transform: torch.Size([32, 293, 59])\n",
      "Before transform: torch.Size([1, 32, 585])\n",
      "After transform: torch.Size([32, 293, 59])\n",
      "Before transform: torch.Size([1, 32, 585])\n",
      "After transform: torch.Size([32, 293, 59])\n",
      "Before transform: torch.Size([1, 32, 585])\n",
      "After transform: torch.Size([32, 293, 59])\n",
      "Before transform: torch.Size([1, 32, 585])\n",
      "After transform: torch.Size([32, 293, 59])\n",
      "Before transform: torch.Size([1, 32, 585])\n"
     ]
    },
    {
     "name": "stderr",
     "output_type": "stream",
     "text": [
      " 83%|████████▎ | 4961/5976 [01:18<00:14, 69.30it/s]"
     ]
    },
    {
     "name": "stdout",
     "output_type": "stream",
     "text": [
      "After transform: torch.Size([32, 293, 59])\n",
      "Before transform: torch.Size([1, 32, 585])\n",
      "After transform: torch.Size([32, 293, 59])\n",
      "Before transform: torch.Size([1, 32, 585])\n",
      "After transform: torch.Size([32, 293, 59])\n",
      "Before transform: torch.Size([1, 32, 585])\n",
      "After transform: torch.Size([32, 293, 59])\n",
      "Before transform: torch.Size([1, 32, 585])\n",
      "After transform: torch.Size([32, 293, 59])\n",
      "Before transform: torch.Size([1, 32, 585])\n",
      "After transform: torch.Size([32, 293, 59])\n",
      "Before transform: torch.Size([1, 32, 585])\n",
      "After transform: torch.Size([32, 293, 59])\n",
      "Before transform: torch.Size([1, 32, 585])\n",
      "After transform: torch.Size([32, 293, 59])\n",
      "Before transform: torch.Size([1, 32, 585])\n",
      "After transform: torch.Size([32, 293, 59])\n",
      "Before transform: torch.Size([1, 32, 585])\n",
      "After transform: torch.Size([32, 293, 59])\n",
      "Before transform: torch.Size([1, 32, 585])\n",
      "After transform: torch.Size([32, 293, 59])\n",
      "Before transform: torch.Size([1, 32, 585])\n",
      "After transform: torch.Size([32, 293, 59])\n",
      "Before transform: torch.Size([1, 32, 585])\n",
      "After transform: torch.Size([32, 293, 59])\n",
      "Before transform: torch.Size([1, 32, 585])\n"
     ]
    },
    {
     "name": "stderr",
     "output_type": "stream",
     "text": [
      " 83%|████████▎ | 4969/5976 [01:18<00:16, 62.32it/s]"
     ]
    },
    {
     "name": "stdout",
     "output_type": "stream",
     "text": [
      "After transform: torch.Size([32, 293, 59])\n",
      "Before transform: torch.Size([1, 32, 585])\n",
      "After transform: torch.Size([32, 293, 59])\n",
      "Before transform: torch.Size([1, 32, 585])\n",
      "After transform: torch.Size([32, 293, 59])\n",
      "Before transform: torch.Size([1, 32, 585])\n",
      "After transform: torch.Size([32, 293, 59])\n",
      "Before transform: torch.Size([1, 32, 585])\n",
      "After transform: torch.Size([32, 293, 59])\n",
      "Before transform: torch.Size([1, 32, 585])\n",
      "After transform: torch.Size([32, 293, 59])\n",
      "Before transform: torch.Size([1, 32, 585])\n"
     ]
    },
    {
     "name": "stderr",
     "output_type": "stream",
     "text": [
      " 83%|████████▎ | 4976/5976 [01:19<00:25, 38.71it/s]"
     ]
    },
    {
     "name": "stdout",
     "output_type": "stream",
     "text": [
      "After transform: torch.Size([32, 293, 59])\n",
      "Before transform: torch.Size([1, 32, 585])\n",
      "After transform: torch.Size([32, 293, 59])\n",
      "Before transform: torch.Size([1, 32, 585])\n",
      "After transform: torch.Size([32, 293, 59])\n",
      "Before transform: torch.Size([1, 32, 585])\n",
      "After transform: torch.Size([32, 293, 59])\n",
      "Before transform: torch.Size([1, 32, 585])\n",
      "After transform: torch.Size([32, 293, 59])\n",
      "Before transform: torch.Size([1, 32, 585])\n",
      "After transform: torch.Size([32, 293, 59])\n",
      "Before transform: torch.Size([1, 32, 585])\n",
      "After transform: torch.Size([32, 293, 59])\n",
      "Before transform: torch.Size([1, 32, 585])\n"
     ]
    },
    {
     "name": "stderr",
     "output_type": "stream",
     "text": [
      " 83%|████████▎ | 4982/5976 [01:19<00:25, 39.11it/s]"
     ]
    },
    {
     "name": "stdout",
     "output_type": "stream",
     "text": [
      "After transform: torch.Size([32, 293, 59])\n",
      "Before transform: torch.Size([1, 32, 585])\n",
      "After transform: torch.Size([32, 293, 59])\n",
      "Before transform: torch.Size([1, 32, 585])\n",
      "After transform: torch.Size([32, 293, 59])\n",
      "Before transform: torch.Size([1, 32, 585])\n",
      "After transform: torch.Size([32, 293, 59])\n",
      "Before transform: torch.Size([1, 32, 585])\n",
      "After transform: torch.Size([32, 293, 59])\n",
      "Before transform: torch.Size([1, 32, 585])\n",
      "After transform: torch.Size([32, 293, 59])\n",
      "Before transform: torch.Size([1, 32, 585])\n",
      "After transform: torch.Size([32, 293, 59])\n",
      "Before transform: torch.Size([1, 32, 585])\n",
      "After transform: torch.Size([32, 293, 59])\n",
      "Before transform: torch.Size([1, 32, 585])\n",
      "After transform: torch.Size([32, 293, 59])\n",
      "Before transform: torch.Size([1, 32, 585])\n"
     ]
    },
    {
     "name": "stderr",
     "output_type": "stream",
     "text": [
      " 84%|████████▎ | 4992/5976 [01:19<00:24, 39.80it/s]"
     ]
    },
    {
     "name": "stdout",
     "output_type": "stream",
     "text": [
      "After transform: torch.Size([32, 293, 59])\n",
      "Before transform: torch.Size([1, 32, 585])\n",
      "After transform: torch.Size([32, 293, 59])\n",
      "Before transform: torch.Size([1, 32, 585])\n",
      "After transform: torch.Size([32, 293, 59])\n",
      "Before transform: torch.Size([1, 32, 585])\n",
      "After transform: torch.Size([32, 293, 59])\n",
      "Before transform: torch.Size([1, 32, 585])\n",
      "After transform: torch.Size([32, 293, 59])\n",
      "Before transform: torch.Size([1, 32, 585])\n",
      "After transform: torch.Size([32, 293, 59])\n",
      "Before transform: torch.Size([1, 32, 585])\n",
      "After transform: torch.Size([32, 293, 59])\n",
      "Before transform: torch.Size([1, 32, 585])\n",
      "After transform: torch.Size([32, 293, 59])\n",
      "Before transform: torch.Size([1, 32, 585])\n",
      "After transform: torch.Size([32, 293, 59])\n",
      "Before transform: torch.Size([1, 32, 585])\n",
      "After transform: torch.Size([32, 293, 59])\n",
      "Before transform: torch.Size([1, 32, 585])\n"
     ]
    },
    {
     "name": "stderr",
     "output_type": "stream",
     "text": [
      " 84%|████████▍ | 5005/5976 [01:19<00:20, 47.85it/s]"
     ]
    },
    {
     "name": "stdout",
     "output_type": "stream",
     "text": [
      "After transform: torch.Size([32, 293, 59])\n",
      "Before transform: torch.Size([1, 32, 585])\n",
      "After transform: torch.Size([32, 293, 59])\n",
      "Before transform: torch.Size([1, 32, 585])\n",
      "After transform: torch.Size([32, 293, 59])\n",
      "Before transform: torch.Size([1, 32, 585])\n",
      "After transform: torch.Size([32, 293, 59])\n",
      "Before transform: torch.Size([1, 32, 585])\n",
      "After transform: torch.Size([32, 293, 59])\n",
      "Before transform: torch.Size([1, 32, 585])\n",
      "After transform: torch.Size([32, 293, 59])\n",
      "Before transform: torch.Size([1, 32, 585])\n",
      "After transform: torch.Size([32, 293, 59])\n",
      "Before transform: torch.Size([1, 32, 585])\n",
      "After transform: torch.Size([32, 293, 59])\n",
      "Before transform: torch.Size([1, 32, 585])\n",
      "After transform: torch.Size([32, 293, 59])\n",
      "Before transform: torch.Size([1, 32, 585])\n",
      "After transform: torch.Size([32, 293, 59])\n",
      "Before transform: torch.Size([1, 32, 585])\n",
      "After transform: torch.Size([32, 293, 59])\n",
      "Before transform: torch.Size([1, 32, 585])\n",
      "After transform: torch.Size([32, 293, 59])\n",
      "Before transform: torch.Size([1, 32, 585])\n"
     ]
    },
    {
     "name": "stderr",
     "output_type": "stream",
     "text": [
      " 84%|████████▍ | 5017/5976 [01:19<00:19, 48.15it/s]"
     ]
    },
    {
     "name": "stdout",
     "output_type": "stream",
     "text": [
      "After transform: torch.Size([32, 293, 59])\n",
      "Before transform: torch.Size([1, 32, 585])\n",
      "After transform: torch.Size([32, 293, 59])\n",
      "Before transform: torch.Size([1, 32, 585])\n",
      "After transform: torch.Size([32, 293, 59])\n",
      "Before transform: torch.Size([1, 32, 585])\n",
      "After transform: torch.Size([32, 293, 59])\n",
      "Before transform: torch.Size([1, 32, 585])\n",
      "After transform: torch.Size([32, 293, 59])\n",
      "Before transform: torch.Size([1, 32, 585])\n",
      "After transform: torch.Size([32, 293, 59])\n",
      "Before transform: torch.Size([1, 32, 585])\n",
      "After transform: torch.Size([32, 293, 59])\n",
      "Before transform: torch.Size([1, 32, 585])\n",
      "After transform: torch.Size([32, 293, 59])\n",
      "Before transform: torch.Size([1, 32, 585])\n",
      "After transform: torch.Size([32, 293, 59])\n",
      "Before transform: torch.Size([1, 32, 585])\n",
      "After transform: torch.Size([32, 293, 59])\n",
      "Before transform: torch.Size([1, 32, 585])\n"
     ]
    },
    {
     "name": "stderr",
     "output_type": "stream",
     "text": [
      " 84%|████████▍ | 5022/5976 [01:20<00:19, 48.46it/s]"
     ]
    },
    {
     "name": "stdout",
     "output_type": "stream",
     "text": [
      "After transform: torch.Size([32, 293, 59])\n",
      "Before transform: torch.Size([1, 32, 585])\n",
      "After transform: torch.Size([32, 293, 59])\n",
      "Before transform: torch.Size([1, 32, 585])\n",
      "After transform: torch.Size([32, 293, 59])\n",
      "Before transform: torch.Size([1, 32, 585])\n",
      "After transform: torch.Size([32, 293, 59])\n",
      "Before transform: torch.Size([1, 32, 585])\n",
      "After transform: torch.Size([32, 293, 59])\n",
      "Before transform: torch.Size([1, 32, 585])\n"
     ]
    },
    {
     "name": "stderr",
     "output_type": "stream",
     "text": [
      " 84%|████████▍ | 5027/5976 [01:20<00:29, 32.14it/s]"
     ]
    },
    {
     "name": "stdout",
     "output_type": "stream",
     "text": [
      "After transform: torch.Size([32, 293, 59])\n",
      "Before transform: torch.Size([1, 32, 585])\n",
      "After transform: torch.Size([32, 293, 59])\n",
      "Before transform: torch.Size([1, 32, 585])\n",
      "After transform: torch.Size([32, 293, 59])\n",
      "Before transform: torch.Size([1, 32, 585])\n",
      "After transform: torch.Size([32, 293, 59])\n",
      "Before transform: torch.Size([1, 32, 585])\n",
      "After transform: torch.Size([32, 293, 59])\n",
      "Before transform: torch.Size([1, 32, 585])\n",
      "After transform: torch.Size([32, 293, 59])\n",
      "Before transform: torch.Size([1, 32, 585])\n",
      "After transform: torch.Size([32, 293, 59])\n",
      "Before transform: torch.Size([1, 32, 585])\n",
      "After transform: torch.Size([32, 293, 59])\n",
      "Before transform: torch.Size([1, 32, 585])\n"
     ]
    },
    {
     "name": "stderr",
     "output_type": "stream",
     "text": [
      " 84%|████████▍ | 5041/5976 [01:20<00:21, 44.16it/s]"
     ]
    },
    {
     "name": "stdout",
     "output_type": "stream",
     "text": [
      "After transform: torch.Size([32, 293, 59])\n",
      "Before transform: torch.Size([1, 32, 585])\n",
      "After transform: torch.Size([32, 293, 59])\n",
      "Before transform: torch.Size([1, 32, 585])\n",
      "After transform: torch.Size([32, 293, 59])\n",
      "Before transform: torch.Size([1, 32, 585])\n",
      "After transform: torch.Size([32, 293, 59])\n",
      "Before transform: torch.Size([1, 32, 585])\n",
      "After transform: torch.Size([32, 293, 59])\n",
      "Before transform: torch.Size([1, 32, 585])\n",
      "After transform: torch.Size([32, 293, 59])\n",
      "Before transform: torch.Size([1, 32, 585])\n",
      "After transform: torch.Size([32, 293, 59])\n",
      "Before transform: torch.Size([1, 32, 585])\n",
      "After transform: torch.Size([32, 293, 59])\n",
      "Before transform: torch.Size([1, 32, 585])\n",
      "After transform: torch.Size([32, 293, 59])\n",
      "Before transform: torch.Size([1, 32, 585])\n",
      "After transform: torch.Size([32, 293, 59])\n",
      "Before transform: torch.Size([1, 32, 585])\n",
      "After transform: torch.Size([32, 293, 59])\n",
      "Before transform: torch.Size([1, 32, 585])\n",
      "After transform: torch.Size([32, 293, 59])\n",
      "Before transform: torch.Size([1, 32, 585])\n",
      "After transform: torch.Size([32, 293, 59])\n",
      "Before transform: torch.Size([1, 32, 585])\n",
      "After transform: torch.Size([32, 293, 59])\n",
      "Before transform: torch.Size([1, 32, 585])\n"
     ]
    },
    {
     "name": "stderr",
     "output_type": "stream",
     "text": [
      " 85%|████████▍ | 5057/5976 [01:20<00:15, 58.14it/s]"
     ]
    },
    {
     "name": "stdout",
     "output_type": "stream",
     "text": [
      "After transform: torch.Size([32, 293, 59])\n",
      "Before transform: torch.Size([1, 32, 585])\n",
      "After transform: torch.Size([32, 293, 59])\n",
      "Before transform: torch.Size([1, 32, 585])\n",
      "After transform: torch.Size([32, 293, 59])\n",
      "Before transform: torch.Size([1, 32, 585])\n",
      "After transform: torch.Size([32, 293, 59])\n",
      "Before transform: torch.Size([1, 32, 585])\n",
      "After transform: torch.Size([32, 293, 59])\n",
      "Before transform: torch.Size([1, 32, 585])\n",
      "After transform: torch.Size([32, 293, 59])\n",
      "Before transform: torch.Size([1, 32, 585])\n",
      "After transform: torch.Size([32, 293, 59])\n",
      "Before transform: torch.Size([1, 32, 585])\n",
      "After transform: torch.Size([32, 293, 59])\n",
      "Before transform: torch.Size([1, 32, 585])\n",
      "After transform: torch.Size([32, 293, 59])\n",
      "Before transform: torch.Size([1, 32, 585])\n",
      "After transform: torch.Size([32, 293, 59])\n",
      "Before transform: torch.Size([1, 32, 585])\n",
      "After transform: torch.Size([32, 293, 59])\n",
      "Before transform: torch.Size([1, 32, 585])\n",
      "After transform: torch.Size([32, 293, 59])\n",
      "Before transform: torch.Size([1, 32, 585])\n",
      "After transform: torch.Size([32, 293, 59])\n",
      "Before transform: torch.Size([1, 32, 585])\n",
      "After transform: torch.Size([32, 293, 59])\n",
      "Before transform: torch.Size([1, 32, 585])\n",
      "After transform: torch.Size([32, 293, 59])\n",
      "Before transform: torch.Size([1, 32, 585])\n",
      "After transform: torch.Size([32, 293, 59])\n",
      "Before transform: torch.Size([1, 32, 585])\n"
     ]
    },
    {
     "name": "stderr",
     "output_type": "stream",
     "text": [
      " 85%|████████▍ | 5073/5976 [01:20<00:13, 65.77it/s]"
     ]
    },
    {
     "name": "stdout",
     "output_type": "stream",
     "text": [
      "After transform: torch.Size([32, 293, 59])\n",
      "Before transform: torch.Size([1, 32, 585])\n",
      "After transform: torch.Size([32, 293, 59])\n",
      "Before transform: torch.Size([1, 32, 585])\n",
      "After transform: torch.Size([32, 293, 59])\n",
      "Before transform: torch.Size([1, 32, 585])\n",
      "After transform: torch.Size([32, 293, 59])\n",
      "Before transform: torch.Size([1, 32, 585])\n",
      "After transform: torch.Size([32, 293, 59])\n",
      "Before transform: torch.Size([1, 32, 585])\n",
      "After transform: torch.Size([32, 293, 59])\n",
      "Before transform: torch.Size([1, 32, 585])\n",
      "After transform: torch.Size([32, 293, 59])\n",
      "Before transform: torch.Size([1, 32, 585])\n",
      "After transform: torch.Size([32, 293, 59])\n",
      "Before transform: torch.Size([1, 32, 585])\n",
      "After transform: torch.Size([32, 293, 59])\n",
      "Before transform: torch.Size([1, 32, 585])\n",
      "After transform: torch.Size([32, 293, 59])\n",
      "Before transform: torch.Size([1, 32, 585])\n",
      "After transform: torch.Size([32, 293, 59])\n",
      "Before transform: torch.Size([1, 32, 585])\n",
      "After transform: torch.Size([32, 293, 59])\n",
      "Before transform: torch.Size([1, 32, 585])\n",
      "After transform: torch.Size([32, 293, 59])\n",
      "Before transform: torch.Size([1, 32, 585])\n",
      "After transform: torch.Size([32, 293, 59])\n",
      "Before transform: torch.Size([1, 32, 585])\n",
      "After transform: torch.Size([32, 293, 59])\n",
      "Before transform: torch.Size([1, 32, 585])\n"
     ]
    },
    {
     "name": "stderr",
     "output_type": "stream",
     "text": [
      " 85%|████████▌ | 5089/5976 [01:21<00:13, 65.34it/s]"
     ]
    },
    {
     "name": "stdout",
     "output_type": "stream",
     "text": [
      "After transform: torch.Size([32, 293, 59])\n",
      "Before transform: torch.Size([1, 32, 585])\n",
      "After transform: torch.Size([32, 293, 59])\n",
      "Before transform: torch.Size([1, 32, 585])\n",
      "After transform: torch.Size([32, 293, 59])\n",
      "Before transform: torch.Size([1, 32, 585])\n",
      "After transform: torch.Size([32, 293, 59])\n",
      "Before transform: torch.Size([1, 32, 585])\n",
      "After transform: torch.Size([32, 293, 59])\n",
      "Before transform: torch.Size([1, 32, 585])\n",
      "After transform: torch.Size([32, 293, 59])\n",
      "Before transform: torch.Size([1, 32, 585])\n",
      "After transform: torch.Size([32, 293, 59])\n",
      "Before transform: torch.Size([1, 32, 585])\n",
      "After transform: torch.Size([32, 293, 59])\n",
      "Before transform: torch.Size([1, 32, 585])\n",
      "After transform: torch.Size([32, 293, 59])\n",
      "Before transform: torch.Size([1, 32, 585])\n",
      "After transform: torch.Size([32, 293, 59])\n",
      "Before transform: torch.Size([1, 32, 585])\n",
      "After transform: torch.Size([32, 293, 59])\n",
      "Before transform: torch.Size([1, 32, 585])\n",
      "After transform: torch.Size([32, 293, 59])\n",
      "Before transform: torch.Size([1, 32, 585])\n",
      "After transform: torch.Size([32, 293, 59])\n",
      "Before transform: torch.Size([1, 32, 585])\n"
     ]
    },
    {
     "name": "stderr",
     "output_type": "stream",
     "text": [
      " 85%|████████▌ | 5096/5976 [01:21<00:13, 66.32it/s]"
     ]
    },
    {
     "name": "stdout",
     "output_type": "stream",
     "text": [
      "After transform: torch.Size([32, 293, 59])\n",
      "Before transform: torch.Size([1, 32, 585])\n",
      "After transform: torch.Size([32, 293, 59])\n",
      "Before transform: torch.Size([1, 32, 585])\n",
      "After transform: torch.Size([32, 293, 59])\n",
      "Before transform: torch.Size([1, 32, 585])\n",
      "After transform: torch.Size([32, 293, 59])\n",
      "Before transform: torch.Size([1, 32, 585])\n",
      "After transform: torch.Size([32, 293, 59])\n",
      "Before transform: torch.Size([1, 32, 585])\n",
      "After transform: torch.Size([32, 293, 59])\n",
      "Before transform: torch.Size([1, 32, 585])\n",
      "After transform: torch.Size([32, 293, 59])\n",
      "Before transform: torch.Size([1, 32, 585])\n"
     ]
    },
    {
     "name": "stderr",
     "output_type": "stream",
     "text": [
      " 86%|████████▌ | 5111/5976 [01:21<00:15, 57.67it/s]"
     ]
    },
    {
     "name": "stdout",
     "output_type": "stream",
     "text": [
      "After transform: torch.Size([32, 293, 59])\n",
      "Before transform: torch.Size([1, 32, 585])\n",
      "After transform: torch.Size([32, 293, 59])\n",
      "Before transform: torch.Size([1, 32, 585])\n",
      "After transform: torch.Size([32, 293, 59])\n",
      "Before transform: torch.Size([1, 32, 585])\n",
      "After transform: torch.Size([32, 293, 59])\n",
      "Before transform: torch.Size([1, 32, 585])\n",
      "After transform: torch.Size([32, 293, 59])\n",
      "Before transform: torch.Size([1, 32, 585])\n",
      "After transform: torch.Size([32, 293, 59])\n",
      "Before transform: torch.Size([1, 32, 585])\n",
      "After transform: torch.Size([32, 293, 59])\n",
      "Before transform: torch.Size([1, 32, 585])\n",
      "After transform: torch.Size([32, 293, 59])\n",
      "Before transform: torch.Size([1, 32, 585])\n",
      "After transform: torch.Size([32, 293, 59])\n",
      "Before transform: torch.Size([1, 32, 585])\n",
      "After transform: torch.Size([32, 293, 59])\n",
      "Before transform: torch.Size([1, 32, 585])\n",
      "After transform: torch.Size([32, 293, 59])\n",
      "Before transform: torch.Size([1, 32, 585])\n",
      "After transform: torch.Size([32, 293, 59])\n",
      "Before transform: torch.Size([1, 32, 585])\n",
      "After transform: torch.Size([32, 293, 59])\n",
      "Before transform: torch.Size([1, 32, 585])\n",
      "After transform: torch.Size([32, 293, 59])\n",
      "Before transform: torch.Size([1, 32, 585])\n",
      "After transform: torch.Size([32, 293, 59])\n",
      "Before transform: torch.Size([1, 32, 585])\n",
      "After transform: torch.Size([32, 293, 59])\n",
      "Before transform: torch.Size([1, 32, 585])\n"
     ]
    },
    {
     "name": "stderr",
     "output_type": "stream",
     "text": [
      " 86%|████████▌ | 5128/5976 [01:21<00:12, 67.61it/s]"
     ]
    },
    {
     "name": "stdout",
     "output_type": "stream",
     "text": [
      "After transform: torch.Size([32, 293, 59])\n",
      "Before transform: torch.Size([1, 32, 585])\n",
      "After transform: torch.Size([32, 293, 59])\n",
      "Before transform: torch.Size([1, 32, 585])\n",
      "After transform: torch.Size([32, 293, 59])\n",
      "Before transform: torch.Size([1, 32, 585])\n",
      "After transform: torch.Size([32, 293, 59])\n",
      "Before transform: torch.Size([1, 32, 585])\n",
      "After transform: torch.Size([32, 293, 59])\n",
      "Before transform: torch.Size([1, 32, 585])\n",
      "After transform: torch.Size([32, 293, 59])\n",
      "Before transform: torch.Size([1, 32, 585])\n",
      "After transform: torch.Size([32, 293, 59])\n",
      "Before transform: torch.Size([1, 32, 585])\n",
      "After transform: torch.Size([32, 293, 59])\n",
      "Before transform: torch.Size([1, 32, 585])\n",
      "After transform: torch.Size([32, 293, 59])\n",
      "Before transform: torch.Size([1, 32, 585])\n",
      "After transform: torch.Size([32, 293, 59])\n",
      "Before transform: torch.Size([1, 32, 585])\n",
      "After transform: torch.Size([32, 293, 59])\n",
      "Before transform: torch.Size([1, 32, 585])\n",
      "After transform: torch.Size([32, 293, 59])\n",
      "Before transform: torch.Size([1, 32, 585])\n",
      "After transform: torch.Size([32, 293, 59])\n",
      "Before transform: torch.Size([1, 32, 585])\n",
      "After transform: torch.Size([32, 293, 59])\n",
      "Before transform: torch.Size([1, 32, 585])\n",
      "After transform: torch.Size([32, 293, 59])\n",
      "Before transform: torch.Size([1, 32, 585])\n",
      "After transform: torch.Size([32, 293, 59])\n",
      "Before transform: torch.Size([1, 32, 585])\n"
     ]
    },
    {
     "name": "stderr",
     "output_type": "stream",
     "text": [
      " 86%|████████▌ | 5136/5976 [01:21<00:12, 67.78it/s]"
     ]
    },
    {
     "name": "stdout",
     "output_type": "stream",
     "text": [
      "After transform: torch.Size([32, 293, 59])\n",
      "Before transform: torch.Size([1, 32, 585])\n",
      "After transform: torch.Size([32, 293, 59])\n",
      "Before transform: torch.Size([1, 32, 585])\n",
      "After transform: torch.Size([32, 293, 59])\n",
      "Before transform: torch.Size([1, 32, 585])\n",
      "After transform: torch.Size([32, 293, 59])\n",
      "Before transform: torch.Size([1, 32, 585])\n",
      "After transform: torch.Size([32, 293, 59])\n",
      "Before transform: torch.Size([1, 32, 585])\n",
      "After transform: torch.Size([32, 293, 59])\n",
      "Before transform: torch.Size([1, 32, 585])\n",
      "After transform: torch.Size([32, 293, 59])\n",
      "Before transform: torch.Size([1, 32, 585])\n",
      "After transform: torch.Size([32, 293, 59])\n",
      "Before transform: torch.Size([1, 32, 585])\n",
      "After transform: torch.Size([32, 293, 59])\n",
      "Before transform: torch.Size([1, 32, 585])\n",
      "After transform: torch.Size([32, 293, 59])\n",
      "Before transform: torch.Size([1, 32, 585])\n",
      "After transform: torch.Size([32, 293, 59])\n",
      "Before transform: torch.Size([1, 32, 585])\n",
      "After transform: torch.Size([32, 293, 59])\n",
      "Before transform: torch.Size([1, 32, 585])\n",
      "After transform: torch.Size([32, 293, 59])\n",
      "Before transform: torch.Size([1, 32, 585])\n",
      "After transform: torch.Size([32, 293, 59])\n",
      "Before transform: torch.Size([1, 32, 585])\n",
      "After transform: torch.Size([32, 293, 59])\n",
      "Before transform: torch.Size([1, 32, 585])\n"
     ]
    },
    {
     "name": "stderr",
     "output_type": "stream",
     "text": [
      " 86%|████████▌ | 5153/5976 [01:22<00:11, 74.02it/s]"
     ]
    },
    {
     "name": "stdout",
     "output_type": "stream",
     "text": [
      "After transform: torch.Size([32, 293, 59])\n",
      "Before transform: torch.Size([1, 32, 585])\n",
      "After transform: torch.Size([32, 293, 59])\n",
      "Before transform: torch.Size([1, 32, 585])\n",
      "After transform: torch.Size([32, 293, 59])\n",
      "Before transform: torch.Size([1, 32, 585])\n",
      "After transform: torch.Size([32, 293, 59])\n",
      "Before transform: torch.Size([1, 32, 585])\n",
      "After transform: torch.Size([32, 293, 59])\n",
      "Before transform: torch.Size([1, 32, 585])\n",
      "After transform: torch.Size([32, 293, 59])\n",
      "Before transform: torch.Size([1, 32, 585])\n",
      "After transform: torch.Size([32, 293, 59])\n",
      "Before transform: torch.Size([1, 32, 585])\n",
      "After transform: torch.Size([32, 293, 59])\n",
      "Before transform: torch.Size([1, 32, 585])\n",
      "After transform: torch.Size([32, 293, 59])\n",
      "Before transform: torch.Size([1, 32, 585])\n",
      "After transform: torch.Size([32, 293, 59])\n",
      "Before transform: torch.Size([1, 32, 585])\n",
      "After transform: torch.Size([32, 293, 59])\n",
      "Before transform: torch.Size([1, 32, 585])\n",
      "After transform: torch.Size([32, 293, 59])\n",
      "Before transform: torch.Size([1, 32, 585])\n",
      "After transform: torch.Size([32, 293, 59])\n",
      "Before transform: torch.Size([1, 32, 585])\n",
      "After transform: torch.Size([32, 293, 59])\n",
      "Before transform: torch.Size([1, 32, 585])\n",
      "After transform: torch.Size([32, 293, 59])\n",
      "Before transform: torch.Size([1, 32, 585])\n",
      "After transform: torch.Size([32, 293, 59])\n",
      "Before transform: torch.Size([1, 32, 585])\n",
      "After transform: torch.Size([32, 293, 59])\n",
      "Before transform: torch.Size([1, 32, 585])\n",
      "After transform: torch.Size([32, 293, 59])\n",
      "Before transform: torch.Size([1, 32, 585])\n"
     ]
    },
    {
     "name": "stderr",
     "output_type": "stream",
     "text": [
      " 87%|████████▋ | 5171/5976 [01:22<00:09, 80.91it/s]"
     ]
    },
    {
     "name": "stdout",
     "output_type": "stream",
     "text": [
      "After transform: torch.Size([32, 293, 59])\n",
      "Before transform: torch.Size([1, 32, 585])\n",
      "After transform: torch.Size([32, 293, 59])\n",
      "Before transform: torch.Size([1, 32, 585])\n",
      "After transform: torch.Size([32, 293, 59])\n",
      "Before transform: torch.Size([1, 32, 585])\n",
      "After transform: torch.Size([32, 293, 59])\n",
      "Before transform: torch.Size([1, 32, 585])\n",
      "After transform: torch.Size([32, 293, 59])\n",
      "Before transform: torch.Size([1, 32, 585])\n",
      "After transform: torch.Size([32, 293, 59])\n",
      "Before transform: torch.Size([1, 32, 585])\n",
      "After transform: torch.Size([32, 293, 59])\n",
      "Before transform: torch.Size([1, 32, 585])\n",
      "After transform: torch.Size([32, 293, 59])\n",
      "Before transform: torch.Size([1, 32, 585])\n",
      "After transform: torch.Size([32, 293, 59])\n",
      "Before transform: torch.Size([1, 32, 585])\n",
      "After transform: torch.Size([32, 293, 59])\n",
      "Before transform: torch.Size([1, 32, 585])\n",
      "After transform: torch.Size([32, 293, 59])\n",
      "Before transform: torch.Size([1, 32, 585])\n",
      "After transform: torch.Size([32, 293, 59])\n",
      "Before transform: torch.Size([1, 32, 585])\n",
      "After transform: torch.Size([32, 293, 59])\n",
      "Before transform: torch.Size([1, 32, 585])\n",
      "After transform: torch.Size([32, 293, 59])\n",
      "Before transform: torch.Size([1, 32, 585])\n",
      "After transform: torch.Size([32, 293, 59])\n",
      "Before transform: torch.Size([1, 32, 585])\n",
      "After transform: torch.Size([32, 293, 59])\n",
      "Before transform: torch.Size([1, 32, 585])\n",
      "After transform: torch.Size([32, 293, 59])\n",
      "Before transform: torch.Size([1, 32, 585])\n",
      "After transform: torch.Size([32, 293, 59])\n",
      "Before transform: torch.Size([1, 32, 585])\n"
     ]
    },
    {
     "name": "stderr",
     "output_type": "stream",
     "text": [
      " 87%|████████▋ | 5180/5976 [01:22<00:09, 80.05it/s]"
     ]
    },
    {
     "name": "stdout",
     "output_type": "stream",
     "text": [
      "After transform: torch.Size([32, 293, 59])\n",
      "Before transform: torch.Size([1, 32, 585])\n",
      "After transform: torch.Size([32, 293, 59])\n",
      "Before transform: torch.Size([1, 32, 585])\n",
      "After transform: torch.Size([32, 293, 59])\n",
      "Before transform: torch.Size([1, 32, 585])\n",
      "After transform: torch.Size([32, 293, 59])\n",
      "Before transform: torch.Size([1, 32, 585])\n",
      "After transform: torch.Size([32, 293, 59])\n",
      "Before transform: torch.Size([1, 32, 585])\n",
      "After transform: torch.Size([32, 293, 59])\n",
      "Before transform: torch.Size([1, 32, 585])\n"
     ]
    },
    {
     "name": "stderr",
     "output_type": "stream",
     "text": [
      " 87%|████████▋ | 5197/5976 [01:22<00:12, 62.24it/s]"
     ]
    },
    {
     "name": "stdout",
     "output_type": "stream",
     "text": [
      "After transform: torch.Size([32, 293, 59])\n",
      "Before transform: torch.Size([1, 32, 585])\n",
      "After transform: torch.Size([32, 293, 59])\n",
      "Before transform: torch.Size([1, 32, 585])\n",
      "After transform: torch.Size([32, 293, 59])\n",
      "Before transform: torch.Size([1, 32, 585])\n",
      "After transform: torch.Size([32, 293, 59])\n",
      "Before transform: torch.Size([1, 32, 585])\n",
      "After transform: torch.Size([32, 293, 59])\n",
      "Before transform: torch.Size([1, 32, 585])\n",
      "After transform: torch.Size([32, 293, 59])\n",
      "Before transform: torch.Size([1, 32, 585])\n",
      "After transform: torch.Size([32, 293, 59])\n",
      "Before transform: torch.Size([1, 32, 585])\n",
      "After transform: torch.Size([32, 293, 59])\n",
      "Before transform: torch.Size([1, 32, 585])\n",
      "After transform: torch.Size([32, 293, 59])\n",
      "Before transform: torch.Size([1, 32, 585])\n",
      "After transform: torch.Size([32, 293, 59])\n",
      "Before transform: torch.Size([1, 32, 585])\n",
      "After transform: torch.Size([32, 293, 59])\n",
      "Before transform: torch.Size([1, 32, 585])\n",
      "After transform: torch.Size([32, 293, 59])\n",
      "Before transform: torch.Size([1, 32, 585])\n",
      "After transform: torch.Size([32, 293, 59])\n",
      "Before transform: torch.Size([1, 32, 585])\n",
      "After transform: torch.Size([32, 293, 59])\n",
      "Before transform: torch.Size([1, 32, 585])\n",
      "After transform: torch.Size([32, 293, 59])\n",
      "Before transform: torch.Size([1, 32, 585])\n"
     ]
    },
    {
     "name": "stderr",
     "output_type": "stream",
     "text": [
      " 87%|████████▋ | 5212/5976 [01:23<00:12, 60.90it/s]"
     ]
    },
    {
     "name": "stdout",
     "output_type": "stream",
     "text": [
      "After transform: torch.Size([32, 293, 59])\n",
      "Before transform: torch.Size([1, 32, 585])\n",
      "After transform: torch.Size([32, 293, 59])\n",
      "Before transform: torch.Size([1, 32, 585])\n",
      "After transform: torch.Size([32, 293, 59])\n",
      "Before transform: torch.Size([1, 32, 585])\n",
      "After transform: torch.Size([32, 293, 59])\n",
      "Before transform: torch.Size([1, 32, 585])\n",
      "After transform: torch.Size([32, 293, 59])\n",
      "Before transform: torch.Size([1, 32, 585])\n",
      "After transform: torch.Size([32, 293, 59])\n",
      "Before transform: torch.Size([1, 32, 585])\n",
      "After transform: torch.Size([32, 293, 59])\n",
      "Before transform: torch.Size([1, 32, 585])\n",
      "After transform: torch.Size([32, 293, 59])\n",
      "Before transform: torch.Size([1, 32, 585])\n",
      "After transform: torch.Size([32, 293, 59])\n",
      "Before transform: torch.Size([1, 32, 585])\n",
      "After transform: torch.Size([32, 293, 59])\n",
      "Before transform: torch.Size([1, 32, 585])\n",
      "After transform: torch.Size([32, 293, 59])\n",
      "Before transform: torch.Size([1, 32, 585])\n",
      "After transform: torch.Size([32, 293, 59])\n",
      "Before transform: torch.Size([1, 32, 585])\n"
     ]
    },
    {
     "name": "stderr",
     "output_type": "stream",
     "text": [
      " 87%|████████▋ | 5228/5976 [01:23<00:10, 69.33it/s]"
     ]
    },
    {
     "name": "stdout",
     "output_type": "stream",
     "text": [
      "After transform: torch.Size([32, 293, 59])\n",
      "Before transform: torch.Size([1, 32, 585])\n",
      "After transform: torch.Size([32, 293, 59])\n",
      "Before transform: torch.Size([1, 32, 585])\n",
      "After transform: torch.Size([32, 293, 59])\n",
      "Before transform: torch.Size([1, 32, 585])\n",
      "After transform: torch.Size([32, 293, 59])\n",
      "Before transform: torch.Size([1, 32, 585])\n",
      "After transform: torch.Size([32, 293, 59])\n",
      "Before transform: torch.Size([1, 32, 585])\n",
      "After transform: torch.Size([32, 293, 59])\n",
      "Before transform: torch.Size([1, 32, 585])\n",
      "After transform: torch.Size([32, 293, 59])\n",
      "Before transform: torch.Size([1, 32, 585])\n",
      "After transform: torch.Size([32, 293, 59])\n",
      "Before transform: torch.Size([1, 32, 585])\n",
      "After transform: torch.Size([32, 293, 59])\n",
      "Before transform: torch.Size([1, 32, 585])\n",
      "After transform: torch.Size([32, 293, 59])\n",
      "Before transform: torch.Size([1, 32, 585])\n",
      "After transform: torch.Size([32, 293, 59])\n",
      "Before transform: torch.Size([1, 32, 585])\n",
      "After transform: torch.Size([32, 293, 59])\n",
      "Before transform: torch.Size([1, 32, 585])\n",
      "After transform: torch.Size([32, 293, 59])\n",
      "Before transform: torch.Size([1, 32, 585])\n",
      "After transform: torch.Size([32, 293, 59])\n",
      "Before transform: torch.Size([1, 32, 585])\n",
      "After transform: torch.Size([32, 293, 59])\n",
      "Before transform: torch.Size([1, 32, 585])\n",
      "After transform: torch.Size([32, 293, 59])\n",
      "Before transform: torch.Size([1, 32, 585])\n",
      "After transform: torch.Size([32, 293, 59])\n",
      "Before transform: torch.Size([1, 32, 585])\n",
      "After transform: torch.Size([32, 293, 59])\n",
      "Before transform: torch.Size([1, 32, 585])\n"
     ]
    },
    {
     "name": "stderr",
     "output_type": "stream",
     "text": [
      " 88%|████████▊ | 5245/5976 [01:23<00:09, 74.17it/s]"
     ]
    },
    {
     "name": "stdout",
     "output_type": "stream",
     "text": [
      "After transform: torch.Size([32, 293, 59])\n",
      "Before transform: torch.Size([1, 32, 585])\n",
      "After transform: torch.Size([32, 293, 59])\n",
      "Before transform: torch.Size([1, 32, 585])\n",
      "After transform: torch.Size([32, 293, 59])\n",
      "Before transform: torch.Size([1, 32, 585])\n",
      "After transform: torch.Size([32, 293, 59])\n",
      "Before transform: torch.Size([1, 32, 585])\n",
      "After transform: torch.Size([32, 293, 59])\n",
      "Before transform: torch.Size([1, 32, 585])\n",
      "After transform: torch.Size([32, 293, 59])\n",
      "Before transform: torch.Size([1, 32, 585])\n",
      "After transform: torch.Size([32, 293, 59])\n",
      "Before transform: torch.Size([1, 32, 585])\n",
      "After transform: torch.Size([32, 293, 59])\n",
      "Before transform: torch.Size([1, 32, 585])\n",
      "After transform: torch.Size([32, 293, 59])\n",
      "Before transform: torch.Size([1, 32, 585])\n",
      "After transform: torch.Size([32, 293, 59])\n",
      "Before transform: torch.Size([1, 32, 585])\n",
      "After transform: torch.Size([32, 293, 59])\n",
      "Before transform: torch.Size([1, 32, 585])\n",
      "After transform: torch.Size([32, 293, 59])\n",
      "Before transform: torch.Size([1, 32, 585])\n",
      "After transform: torch.Size([32, 293, 59])\n",
      "Before transform: torch.Size([1, 32, 585])\n",
      "After transform: torch.Size([32, 293, 59])\n",
      "Before transform: torch.Size([1, 32, 585])\n",
      "After transform: torch.Size([32, 293, 59])\n",
      "Before transform: torch.Size([1, 32, 585])\n",
      "After transform: torch.Size([32, 293, 59])\n",
      "Before transform: torch.Size([1, 32, 585])\n"
     ]
    },
    {
     "name": "stderr",
     "output_type": "stream",
     "text": [
      " 88%|████████▊ | 5253/5976 [01:23<00:11, 61.90it/s]"
     ]
    },
    {
     "name": "stdout",
     "output_type": "stream",
     "text": [
      "After transform: torch.Size([32, 293, 59])\n",
      "Before transform: torch.Size([1, 32, 585])\n",
      "After transform: torch.Size([32, 293, 59])\n",
      "Before transform: torch.Size([1, 32, 585])\n",
      "After transform: torch.Size([32, 293, 59])\n",
      "Before transform: torch.Size([1, 32, 585])\n",
      "After transform: torch.Size([32, 293, 59])\n",
      "Before transform: torch.Size([1, 32, 585])\n",
      "After transform: torch.Size([32, 293, 59])\n",
      "Before transform: torch.Size([1, 32, 585])\n",
      "After transform: torch.Size([32, 293, 59])\n",
      "Before transform: torch.Size([1, 32, 585])\n",
      "After transform: torch.Size([32, 293, 59])\n",
      "Before transform: torch.Size([1, 32, 585])\n",
      "After transform: torch.Size([32, 293, 59])\n",
      "Before transform: torch.Size([1, 32, 585])\n",
      "After transform: torch.Size([32, 293, 59])\n",
      "Before transform: torch.Size([1, 32, 585])\n",
      "After transform: torch.Size([32, 293, 59])\n",
      "Before transform: torch.Size([1, 32, 585])\n"
     ]
    },
    {
     "name": "stderr",
     "output_type": "stream",
     "text": [
      " 88%|████████▊ | 5270/5976 [01:23<00:10, 69.98it/s]"
     ]
    },
    {
     "name": "stdout",
     "output_type": "stream",
     "text": [
      "After transform: torch.Size([32, 293, 59])\n",
      "Before transform: torch.Size([1, 32, 585])\n",
      "After transform: torch.Size([32, 293, 59])\n",
      "Before transform: torch.Size([1, 32, 585])\n",
      "After transform: torch.Size([32, 293, 59])\n",
      "Before transform: torch.Size([1, 32, 585])\n",
      "After transform: torch.Size([32, 293, 59])\n",
      "Before transform: torch.Size([1, 32, 585])\n",
      "After transform: torch.Size([32, 293, 59])\n",
      "Before transform: torch.Size([1, 32, 585])\n",
      "After transform: torch.Size([32, 293, 59])\n",
      "Before transform: torch.Size([1, 32, 585])\n",
      "After transform: torch.Size([32, 293, 59])\n",
      "Before transform: torch.Size([1, 32, 585])\n",
      "After transform: torch.Size([32, 293, 59])\n",
      "Before transform: torch.Size([1, 32, 585])\n",
      "After transform: torch.Size([32, 293, 59])\n",
      "Before transform: torch.Size([1, 32, 585])\n",
      "After transform: torch.Size([32, 293, 59])\n",
      "Before transform: torch.Size([1, 32, 585])\n",
      "After transform: torch.Size([32, 293, 59])\n",
      "Before transform: torch.Size([1, 32, 585])\n",
      "After transform: torch.Size([32, 293, 59])\n",
      "Before transform: torch.Size([1, 32, 585])\n",
      "After transform: torch.Size([32, 293, 59])\n",
      "Before transform: torch.Size([1, 32, 585])\n",
      "After transform: torch.Size([32, 293, 59])\n",
      "Before transform: torch.Size([1, 32, 585])\n",
      "After transform: torch.Size([32, 293, 59])\n",
      "Before transform: torch.Size([1, 32, 585])\n",
      "After transform: torch.Size([32, 293, 59])\n",
      "Before transform: torch.Size([1, 32, 585])\n",
      "After transform: torch.Size([32, 293, 59])\n",
      "Before transform: torch.Size([1, 32, 585])\n"
     ]
    },
    {
     "name": "stderr",
     "output_type": "stream",
     "text": [
      " 88%|████████▊ | 5288/5976 [01:24<00:09, 76.14it/s]"
     ]
    },
    {
     "name": "stdout",
     "output_type": "stream",
     "text": [
      "After transform: torch.Size([32, 293, 59])\n",
      "Before transform: torch.Size([1, 32, 585])\n",
      "After transform: torch.Size([32, 293, 59])\n",
      "Before transform: torch.Size([1, 32, 585])\n",
      "After transform: torch.Size([32, 293, 59])\n",
      "Before transform: torch.Size([1, 32, 585])\n",
      "After transform: torch.Size([32, 293, 59])\n",
      "Before transform: torch.Size([1, 32, 585])\n",
      "After transform: torch.Size([32, 293, 59])\n",
      "Before transform: torch.Size([1, 32, 585])\n",
      "After transform: torch.Size([32, 293, 59])\n",
      "Before transform: torch.Size([1, 32, 585])\n",
      "After transform: torch.Size([32, 293, 59])\n",
      "Before transform: torch.Size([1, 32, 585])\n",
      "After transform: torch.Size([32, 293, 59])\n",
      "Before transform: torch.Size([1, 32, 585])\n",
      "After transform: torch.Size([32, 293, 59])\n",
      "Before transform: torch.Size([1, 32, 585])\n",
      "After transform: torch.Size([32, 293, 59])\n",
      "Before transform: torch.Size([1, 32, 585])\n",
      "After transform: torch.Size([32, 293, 59])\n",
      "Before transform: torch.Size([1, 32, 585])\n",
      "After transform: torch.Size([32, 293, 59])\n",
      "Before transform: torch.Size([1, 32, 585])\n",
      "After transform: torch.Size([32, 293, 59])\n",
      "Before transform: torch.Size([1, 32, 585])\n",
      "After transform: torch.Size([32, 293, 59])\n",
      "Before transform: torch.Size([1, 32, 585])\n",
      "After transform: torch.Size([32, 293, 59])\n",
      "Before transform: torch.Size([1, 32, 585])\n",
      "After transform: torch.Size([32, 293, 59])\n",
      "Before transform: torch.Size([1, 32, 585])\n"
     ]
    },
    {
     "name": "stderr",
     "output_type": "stream",
     "text": [
      " 89%|████████▉ | 5304/5976 [01:24<00:08, 75.58it/s]"
     ]
    },
    {
     "name": "stdout",
     "output_type": "stream",
     "text": [
      "After transform: torch.Size([32, 293, 59])\n",
      "Before transform: torch.Size([1, 32, 585])\n",
      "After transform: torch.Size([32, 293, 59])\n",
      "Before transform: torch.Size([1, 32, 585])\n",
      "After transform: torch.Size([32, 293, 59])\n",
      "Before transform: torch.Size([1, 32, 585])\n",
      "After transform: torch.Size([32, 293, 59])\n",
      "Before transform: torch.Size([1, 32, 585])\n",
      "After transform: torch.Size([32, 293, 59])\n",
      "Before transform: torch.Size([1, 32, 585])\n",
      "After transform: torch.Size([32, 293, 59])\n",
      "Before transform: torch.Size([1, 32, 585])\n",
      "After transform: torch.Size([32, 293, 59])\n",
      "Before transform: torch.Size([1, 32, 585])\n",
      "After transform: torch.Size([32, 293, 59])\n",
      "Before transform: torch.Size([1, 32, 585])\n",
      "After transform: torch.Size([32, 293, 59])\n",
      "Before transform: torch.Size([1, 32, 585])\n",
      "After transform: torch.Size([32, 293, 59])\n",
      "Before transform: torch.Size([1, 32, 585])\n",
      "After transform: torch.Size([32, 293, 59])\n",
      "Before transform: torch.Size([1, 32, 585])\n",
      "After transform: torch.Size([32, 293, 59])\n",
      "Before transform: torch.Size([1, 32, 585])\n",
      "After transform: torch.Size([32, 293, 59])\n",
      "Before transform: torch.Size([1, 32, 585])\n",
      "After transform: torch.Size([32, 293, 59])\n",
      "Before transform: torch.Size([1, 32, 585])\n",
      "After transform: torch.Size([32, 293, 59])\n",
      "Before transform: torch.Size([1, 32, 585])\n",
      "After transform: torch.Size([32, 293, 59])\n",
      "Before transform: torch.Size([1, 32, 585])\n"
     ]
    },
    {
     "name": "stderr",
     "output_type": "stream",
     "text": [
      " 89%|████████▉ | 5314/5976 [01:24<00:08, 81.14it/s]"
     ]
    },
    {
     "name": "stdout",
     "output_type": "stream",
     "text": [
      "After transform: torch.Size([32, 293, 59])\n",
      "Before transform: torch.Size([1, 32, 585])\n",
      "After transform: torch.Size([32, 293, 59])\n",
      "Before transform: torch.Size([1, 32, 585])\n",
      "After transform: torch.Size([32, 293, 59])\n",
      "Before transform: torch.Size([1, 32, 585])\n",
      "After transform: torch.Size([32, 293, 59])\n",
      "Before transform: torch.Size([1, 32, 585])\n",
      "After transform: torch.Size([32, 293, 59])\n",
      "Before transform: torch.Size([1, 32, 585])\n",
      "After transform: torch.Size([32, 293, 59])\n",
      "Before transform: torch.Size([1, 32, 585])\n",
      "After transform: torch.Size([32, 293, 59])\n",
      "Before transform: torch.Size([1, 32, 585])\n",
      "After transform: torch.Size([32, 293, 59])\n",
      "Before transform: torch.Size([1, 32, 585])\n",
      "After transform: torch.Size([32, 293, 59])\n",
      "Before transform: torch.Size([1, 32, 585])\n",
      "After transform: torch.Size([32, 293, 59])\n",
      "Before transform: torch.Size([1, 32, 585])\n",
      "After transform: torch.Size([32, 293, 59])\n",
      "Before transform: torch.Size([1, 32, 585])\n",
      "After transform: torch.Size([32, 293, 59])\n",
      "Before transform: torch.Size([1, 32, 585])\n",
      "After transform: torch.Size([32, 293, 59])\n",
      "Before transform: torch.Size([1, 32, 585])\n",
      "After transform: torch.Size([32, 293, 59])\n",
      "Before transform: torch.Size([1, 32, 585])\n",
      "After transform: torch.Size([32, 293, 59])\n",
      "Before transform: torch.Size([1, 32, 585])\n",
      "After transform: torch.Size([32, 293, 59])\n",
      "Before transform: torch.Size([1, 32, 585])\n"
     ]
    },
    {
     "name": "stderr",
     "output_type": "stream",
     "text": [
      " 89%|████████▉ | 5323/5976 [01:24<00:08, 77.26it/s]"
     ]
    },
    {
     "name": "stdout",
     "output_type": "stream",
     "text": [
      "After transform: torch.Size([32, 293, 59])\n",
      "Before transform: torch.Size([1, 32, 585])\n",
      "After transform: torch.Size([32, 293, 59])\n",
      "Before transform: torch.Size([1, 32, 585])\n",
      "After transform: torch.Size([32, 293, 59])\n",
      "Before transform: torch.Size([1, 32, 585])\n",
      "After transform: torch.Size([32, 293, 59])\n",
      "Before transform: torch.Size([1, 32, 585])\n",
      "After transform: torch.Size([32, 293, 59])\n",
      "Before transform: torch.Size([1, 32, 585])\n",
      "After transform: torch.Size([32, 293, 59])\n",
      "Before transform: torch.Size([1, 32, 585])\n",
      "After transform: torch.Size([32, 293, 59])\n",
      "Before transform: torch.Size([1, 32, 585])\n",
      "After transform: torch.Size([32, 293, 59])\n",
      "Before transform: torch.Size([1, 32, 585])\n",
      "After transform: torch.Size([32, 293, 59])\n",
      "Before transform: torch.Size([1, 32, 585])\n"
     ]
    },
    {
     "name": "stderr",
     "output_type": "stream",
     "text": [
      " 89%|████████▉ | 5338/5976 [01:24<00:12, 51.92it/s]"
     ]
    },
    {
     "name": "stdout",
     "output_type": "stream",
     "text": [
      "After transform: torch.Size([32, 293, 59])\n",
      "Before transform: torch.Size([1, 32, 585])\n",
      "After transform: torch.Size([32, 293, 59])\n",
      "Before transform: torch.Size([1, 32, 585])\n",
      "After transform: torch.Size([32, 293, 59])\n",
      "Before transform: torch.Size([1, 32, 585])\n",
      "After transform: torch.Size([32, 293, 59])\n",
      "Before transform: torch.Size([1, 32, 585])\n",
      "After transform: torch.Size([32, 293, 59])\n",
      "Before transform: torch.Size([1, 32, 585])\n",
      "After transform: torch.Size([32, 293, 59])\n",
      "Before transform: torch.Size([1, 32, 585])\n",
      "After transform: torch.Size([32, 293, 59])\n",
      "Before transform: torch.Size([1, 32, 585])\n",
      "After transform: torch.Size([32, 293, 59])\n",
      "Before transform: torch.Size([1, 32, 585])\n",
      "After transform: torch.Size([32, 293, 59])\n",
      "Before transform: torch.Size([1, 32, 585])\n"
     ]
    },
    {
     "name": "stderr",
     "output_type": "stream",
     "text": [
      " 89%|████████▉ | 5344/5976 [01:25<00:13, 46.20it/s]"
     ]
    },
    {
     "name": "stdout",
     "output_type": "stream",
     "text": [
      "After transform: torch.Size([32, 293, 59])\n",
      "Before transform: torch.Size([1, 32, 585])\n",
      "After transform: torch.Size([32, 293, 59])\n",
      "Before transform: torch.Size([1, 32, 585])\n",
      "After transform: torch.Size([32, 293, 59])\n",
      "Before transform: torch.Size([1, 32, 585])\n",
      "After transform: torch.Size([32, 293, 59])\n",
      "Before transform: torch.Size([1, 32, 585])\n",
      "After transform: torch.Size([32, 293, 59])\n",
      "Before transform: torch.Size([1, 32, 585])\n",
      "After transform: torch.Size([32, 293, 59])\n",
      "Before transform: torch.Size([1, 32, 585])\n",
      "After transform: torch.Size([32, 293, 59])\n",
      "Before transform: torch.Size([1, 32, 585])\n"
     ]
    },
    {
     "name": "stderr",
     "output_type": "stream",
     "text": [
      " 90%|████████▉ | 5357/5976 [01:25<00:12, 48.81it/s]"
     ]
    },
    {
     "name": "stdout",
     "output_type": "stream",
     "text": [
      "After transform: torch.Size([32, 293, 59])\n",
      "Before transform: torch.Size([1, 32, 585])\n",
      "After transform: torch.Size([32, 293, 59])\n",
      "Before transform: torch.Size([1, 32, 585])\n",
      "After transform: torch.Size([32, 293, 59])\n",
      "Before transform: torch.Size([1, 32, 585])\n",
      "After transform: torch.Size([32, 293, 59])\n",
      "Before transform: torch.Size([1, 32, 585])\n",
      "After transform: torch.Size([32, 293, 59])\n",
      "Before transform: torch.Size([1, 32, 585])\n",
      "After transform: torch.Size([32, 293, 59])\n",
      "Before transform: torch.Size([1, 32, 585])\n",
      "After transform: torch.Size([32, 293, 59])\n",
      "Before transform: torch.Size([1, 32, 585])\n",
      "After transform: torch.Size([32, 293, 59])\n",
      "Before transform: torch.Size([1, 32, 585])\n",
      "After transform: torch.Size([32, 293, 59])\n",
      "Before transform: torch.Size([1, 32, 585])\n",
      "After transform: torch.Size([32, 293, 59])\n",
      "Before transform: torch.Size([1, 32, 585])\n",
      "After transform: torch.Size([32, 293, 59])\n",
      "Before transform: torch.Size([1, 32, 585])\n"
     ]
    },
    {
     "name": "stderr",
     "output_type": "stream",
     "text": [
      " 90%|████████▉ | 5371/5976 [01:25<00:10, 56.53it/s]"
     ]
    },
    {
     "name": "stdout",
     "output_type": "stream",
     "text": [
      "After transform: torch.Size([32, 293, 59])\n",
      "Before transform: torch.Size([1, 32, 585])\n",
      "After transform: torch.Size([32, 293, 59])\n",
      "Before transform: torch.Size([1, 32, 585])\n",
      "After transform: torch.Size([32, 293, 59])\n",
      "Before transform: torch.Size([1, 32, 585])\n",
      "After transform: torch.Size([32, 293, 59])\n",
      "Before transform: torch.Size([1, 32, 585])\n",
      "After transform: torch.Size([32, 293, 59])\n",
      "Before transform: torch.Size([1, 32, 585])\n",
      "After transform: torch.Size([32, 293, 59])\n",
      "Before transform: torch.Size([1, 32, 585])\n",
      "After transform: torch.Size([32, 293, 59])\n",
      "Before transform: torch.Size([1, 32, 585])\n",
      "After transform: torch.Size([32, 293, 59])\n",
      "Before transform: torch.Size([1, 32, 585])\n",
      "After transform: torch.Size([32, 293, 59])\n",
      "Before transform: torch.Size([1, 32, 585])\n",
      "After transform: torch.Size([32, 293, 59])\n",
      "Before transform: torch.Size([1, 32, 585])\n",
      "After transform: torch.Size([32, 293, 59])\n",
      "Before transform: torch.Size([1, 32, 585])\n",
      "After transform: torch.Size([32, 293, 59])\n",
      "Before transform: torch.Size([1, 32, 585])\n",
      "After transform: torch.Size([32, 293, 59])\n",
      "Before transform: torch.Size([1, 32, 585])\n",
      "After transform: torch.Size([32, 293, 59])\n",
      "Before transform: torch.Size([1, 32, 585])\n",
      "After transform: torch.Size([32, 293, 59])\n",
      "Before transform: torch.Size([1, 32, 585])\n",
      "After transform: torch.Size([32, 293, 59])\n",
      "Before transform: torch.Size([1, 32, 585])\n",
      "After transform: torch.Size([32, 293, 59])\n",
      "Before transform: torch.Size([1, 32, 585])\n"
     ]
    },
    {
     "name": "stderr",
     "output_type": "stream",
     "text": [
      " 90%|████████▉ | 5377/5976 [01:26<00:20, 29.55it/s]"
     ]
    },
    {
     "name": "stdout",
     "output_type": "stream",
     "text": [
      "After transform: torch.Size([32, 293, 59])\n",
      "Before transform: torch.Size([1, 32, 585])\n",
      "After transform: torch.Size([32, 293, 59])\n",
      "Before transform: torch.Size([1, 32, 585])\n",
      "After transform: torch.Size([32, 293, 59])\n",
      "Before transform: torch.Size([1, 32, 585])\n"
     ]
    },
    {
     "name": "stderr",
     "output_type": "stream",
     "text": [
      " 90%|█████████ | 5382/5976 [01:26<00:22, 26.64it/s]"
     ]
    },
    {
     "name": "stdout",
     "output_type": "stream",
     "text": [
      "After transform: torch.Size([32, 293, 59])\n",
      "Before transform: torch.Size([1, 32, 585])\n",
      "After transform: torch.Size([32, 293, 59])\n",
      "Before transform: torch.Size([1, 32, 585])\n",
      "After transform: torch.Size([32, 293, 59])\n",
      "Before transform: torch.Size([1, 32, 585])\n",
      "After transform: torch.Size([32, 293, 59])\n",
      "Before transform: torch.Size([1, 32, 585])\n",
      "After transform: torch.Size([32, 293, 59])\n",
      "Before transform: torch.Size([1, 32, 585])\n",
      "After transform: torch.Size([32, 293, 59])\n",
      "Before transform: torch.Size([1, 32, 585])\n"
     ]
    },
    {
     "name": "stderr",
     "output_type": "stream",
     "text": [
      " 90%|█████████ | 5390/5976 [01:26<00:20, 28.23it/s]"
     ]
    },
    {
     "name": "stdout",
     "output_type": "stream",
     "text": [
      "After transform: torch.Size([32, 293, 59])\n",
      "Before transform: torch.Size([1, 32, 585])\n",
      "After transform: torch.Size([32, 293, 59])\n",
      "Before transform: torch.Size([1, 32, 585])\n",
      "After transform: torch.Size([32, 293, 59])\n",
      "Before transform: torch.Size([1, 32, 585])\n",
      "After transform: torch.Size([32, 293, 59])\n",
      "Before transform: torch.Size([1, 32, 585])\n",
      "After transform: torch.Size([32, 293, 59])\n",
      "Before transform: torch.Size([1, 32, 585])\n",
      "After transform: torch.Size([32, 293, 59])\n",
      "Before transform: torch.Size([1, 32, 585])\n",
      "After transform: torch.Size([32, 293, 59])\n",
      "Before transform: torch.Size([1, 32, 585])\n"
     ]
    },
    {
     "name": "stderr",
     "output_type": "stream",
     "text": [
      " 90%|█████████ | 5396/5976 [01:26<00:17, 33.56it/s]"
     ]
    },
    {
     "name": "stdout",
     "output_type": "stream",
     "text": [
      "After transform: torch.Size([32, 293, 59])\n",
      "Before transform: torch.Size([1, 32, 585])\n",
      "After transform: torch.Size([32, 293, 59])\n",
      "Before transform: torch.Size([1, 32, 585])\n",
      "After transform: torch.Size([32, 293, 59])\n",
      "Before transform: torch.Size([1, 32, 585])\n",
      "After transform: torch.Size([32, 293, 59])\n",
      "Before transform: torch.Size([1, 32, 585])\n",
      "After transform: torch.Size([32, 293, 59])\n",
      "Before transform: torch.Size([1, 32, 585])\n",
      "After transform: torch.Size([32, 293, 59])\n",
      "Before transform: torch.Size([1, 32, 585])\n",
      "After transform: torch.Size([32, 293, 59])\n",
      "Before transform: torch.Size([1, 32, 585])\n",
      "After transform: torch.Size([32, 293, 59])\n",
      "Before transform: torch.Size([1, 32, 585])\n",
      "After transform: torch.Size([32, 293, 59])\n",
      "Before transform: torch.Size([1, 32, 585])\n",
      "After transform: torch.Size([32, 293, 59])\n",
      "Before transform: torch.Size([1, 32, 585])\n",
      "After transform: torch.Size([32, 293, 59])\n",
      "Before transform: torch.Size([1, 32, 585])\n"
     ]
    },
    {
     "name": "stderr",
     "output_type": "stream",
     "text": [
      " 90%|█████████ | 5402/5976 [01:26<00:15, 36.66it/s]"
     ]
    },
    {
     "name": "stdout",
     "output_type": "stream",
     "text": [
      "After transform: torch.Size([32, 293, 59])\n",
      "Before transform: torch.Size([1, 32, 585])\n",
      "After transform: torch.Size([32, 293, 59])\n",
      "Before transform: torch.Size([1, 32, 585])\n",
      "After transform: torch.Size([32, 293, 59])\n",
      "Before transform: torch.Size([1, 32, 585])\n",
      "After transform: torch.Size([32, 293, 59])\n",
      "Before transform: torch.Size([1, 32, 585])\n",
      "After transform: torch.Size([32, 293, 59])\n",
      "Before transform: torch.Size([1, 32, 585])\n"
     ]
    },
    {
     "name": "stderr",
     "output_type": "stream",
     "text": [
      " 90%|█████████ | 5407/5976 [01:27<00:17, 32.35it/s]"
     ]
    },
    {
     "name": "stdout",
     "output_type": "stream",
     "text": [
      "After transform: torch.Size([32, 293, 59])\n",
      "Before transform: torch.Size([1, 32, 585])\n",
      "After transform: torch.Size([32, 293, 59])\n",
      "Before transform: torch.Size([1, 32, 585])\n",
      "After transform: torch.Size([32, 293, 59])\n",
      "Before transform: torch.Size([1, 32, 585])\n",
      "After transform: torch.Size([32, 293, 59])\n",
      "Before transform: torch.Size([1, 32, 585])\n"
     ]
    },
    {
     "name": "stderr",
     "output_type": "stream",
     "text": [
      " 91%|█████████ | 5414/5976 [01:27<00:24, 22.89it/s]"
     ]
    },
    {
     "name": "stdout",
     "output_type": "stream",
     "text": [
      "After transform: torch.Size([32, 293, 59])\n",
      "Before transform: torch.Size([1, 32, 585])\n",
      "After transform: torch.Size([32, 293, 59])\n",
      "Before transform: torch.Size([1, 32, 585])\n",
      "After transform: torch.Size([32, 293, 59])\n",
      "Before transform: torch.Size([1, 32, 585])\n",
      "After transform: torch.Size([32, 293, 59])\n",
      "Before transform: torch.Size([1, 32, 585])\n",
      "After transform: torch.Size([32, 293, 59])\n",
      "Before transform: torch.Size([1, 32, 585])\n"
     ]
    },
    {
     "name": "stderr",
     "output_type": "stream",
     "text": [
      " 91%|█████████ | 5420/5976 [01:27<00:23, 23.83it/s]"
     ]
    },
    {
     "name": "stdout",
     "output_type": "stream",
     "text": [
      "After transform: torch.Size([32, 293, 59])\n",
      "Before transform: torch.Size([1, 32, 585])\n",
      "After transform: torch.Size([32, 293, 59])\n",
      "Before transform: torch.Size([1, 32, 585])\n",
      "After transform: torch.Size([32, 293, 59])\n",
      "Before transform: torch.Size([1, 32, 585])\n",
      "After transform: torch.Size([32, 293, 59])\n",
      "Before transform: torch.Size([1, 32, 585])\n",
      "After transform: torch.Size([32, 293, 59])\n",
      "Before transform: torch.Size([1, 32, 585])\n",
      "After transform: torch.Size([32, 293, 59])\n",
      "Before transform: torch.Size([1, 32, 585])\n"
     ]
    },
    {
     "name": "stderr",
     "output_type": "stream",
     "text": [
      " 91%|█████████ | 5429/5976 [01:27<00:17, 32.01it/s]"
     ]
    },
    {
     "name": "stdout",
     "output_type": "stream",
     "text": [
      "After transform: torch.Size([32, 293, 59])\n",
      "Before transform: torch.Size([1, 32, 585])\n",
      "After transform: torch.Size([32, 293, 59])\n",
      "Before transform: torch.Size([1, 32, 585])\n",
      "After transform: torch.Size([32, 293, 59])\n",
      "Before transform: torch.Size([1, 32, 585])\n",
      "After transform: torch.Size([32, 293, 59])\n",
      "Before transform: torch.Size([1, 32, 585])\n",
      "After transform: torch.Size([32, 293, 59])\n",
      "Before transform: torch.Size([1, 32, 585])\n",
      "After transform: torch.Size([32, 293, 59])\n",
      "Before transform: torch.Size([1, 32, 585])\n",
      "After transform: torch.Size([32, 293, 59])\n",
      "Before transform: torch.Size([1, 32, 585])\n",
      "After transform: torch.Size([32, 293, 59])\n",
      "Before transform: torch.Size([1, 32, 585])\n",
      "After transform: torch.Size([32, 293, 59])\n",
      "Before transform: torch.Size([1, 32, 585])\n",
      "After transform: torch.Size([32, 293, 59])\n",
      "Before transform: torch.Size([1, 32, 585])\n"
     ]
    },
    {
     "name": "stderr",
     "output_type": "stream",
     "text": [
      " 91%|█████████ | 5440/5976 [01:28<00:13, 38.33it/s]"
     ]
    },
    {
     "name": "stdout",
     "output_type": "stream",
     "text": [
      "After transform: torch.Size([32, 293, 59])\n",
      "Before transform: torch.Size([1, 32, 585])\n",
      "After transform: torch.Size([32, 293, 59])\n",
      "Before transform: torch.Size([1, 32, 585])\n",
      "After transform: torch.Size([32, 293, 59])\n",
      "Before transform: torch.Size([1, 32, 585])\n",
      "After transform: torch.Size([32, 293, 59])\n",
      "Before transform: torch.Size([1, 32, 585])\n",
      "After transform: torch.Size([32, 293, 59])\n",
      "Before transform: torch.Size([1, 32, 585])\n",
      "After transform: torch.Size([32, 293, 59])\n",
      "Before transform: torch.Size([1, 32, 585])\n",
      "After transform: torch.Size([32, 293, 59])\n",
      "Before transform: torch.Size([1, 32, 585])\n",
      "After transform: torch.Size([32, 293, 59])\n",
      "Before transform: torch.Size([1, 32, 585])\n",
      "After transform: torch.Size([32, 293, 59])\n",
      "Before transform: torch.Size([1, 32, 585])\n"
     ]
    },
    {
     "name": "stderr",
     "output_type": "stream",
     "text": [
      " 91%|█████████ | 5450/5976 [01:28<00:12, 42.30it/s]"
     ]
    },
    {
     "name": "stdout",
     "output_type": "stream",
     "text": [
      "After transform: torch.Size([32, 293, 59])\n",
      "Before transform: torch.Size([1, 32, 585])\n",
      "After transform: torch.Size([32, 293, 59])\n",
      "Before transform: torch.Size([1, 32, 585])\n",
      "After transform: torch.Size([32, 293, 59])\n",
      "Before transform: torch.Size([1, 32, 585])\n",
      "After transform: torch.Size([32, 293, 59])\n",
      "Before transform: torch.Size([1, 32, 585])\n",
      "After transform: torch.Size([32, 293, 59])\n",
      "Before transform: torch.Size([1, 32, 585])\n",
      "After transform: torch.Size([32, 293, 59])\n",
      "Before transform: torch.Size([1, 32, 585])\n",
      "After transform: torch.Size([32, 293, 59])\n",
      "Before transform: torch.Size([1, 32, 585])\n",
      "After transform: torch.Size([32, 293, 59])\n",
      "Before transform: torch.Size([1, 32, 585])\n",
      "After transform: torch.Size([32, 293, 59])\n",
      "Before transform: torch.Size([1, 32, 585])\n",
      "After transform: torch.Size([32, 293, 59])\n",
      "Before transform: torch.Size([1, 32, 585])\n",
      "After transform: torch.Size([32, 293, 59])\n",
      "Before transform: torch.Size([1, 32, 585])\n",
      "After transform: torch.Size([32, 293, 59])\n",
      "Before transform: torch.Size([1, 32, 585])\n"
     ]
    },
    {
     "name": "stderr",
     "output_type": "stream",
     "text": [
      " 91%|█████████▏| 5462/5976 [01:28<00:14, 36.30it/s]"
     ]
    },
    {
     "name": "stdout",
     "output_type": "stream",
     "text": [
      "After transform: torch.Size([32, 293, 59])\n",
      "Before transform: torch.Size([1, 32, 585])\n",
      "After transform: torch.Size([32, 293, 59])\n",
      "Before transform: torch.Size([1, 32, 585])\n",
      "After transform: torch.Size([32, 293, 59])\n",
      "Before transform: torch.Size([1, 32, 585])\n",
      "After transform: torch.Size([32, 293, 59])\n",
      "Before transform: torch.Size([1, 32, 585])\n",
      "After transform: torch.Size([32, 293, 59])\n",
      "Before transform: torch.Size([1, 32, 585])\n",
      "After transform: torch.Size([32, 293, 59])\n",
      "Before transform: torch.Size([1, 32, 585])\n",
      "After transform: torch.Size([32, 293, 59])\n",
      "Before transform: torch.Size([1, 32, 585])\n",
      "After transform: torch.Size([32, 293, 59])\n",
      "Before transform: torch.Size([1, 32, 585])\n",
      "After transform: torch.Size([32, 293, 59])\n",
      "Before transform: torch.Size([1, 32, 585])\n",
      "After transform: torch.Size([32, 293, 59])\n",
      "Before transform: torch.Size([1, 32, 585])\n",
      "After transform: torch.Size([32, 293, 59])\n",
      "Before transform: torch.Size([1, 32, 585])\n",
      "After transform: torch.Size([32, 293, 59])\n",
      "Before transform: torch.Size([1, 32, 585])\n"
     ]
    },
    {
     "name": "stderr",
     "output_type": "stream",
     "text": [
      " 92%|█████████▏| 5473/5976 [01:29<00:12, 40.14it/s]"
     ]
    },
    {
     "name": "stdout",
     "output_type": "stream",
     "text": [
      "After transform: torch.Size([32, 293, 59])\n",
      "Before transform: torch.Size([1, 32, 585])\n",
      "After transform: torch.Size([32, 293, 59])\n",
      "Before transform: torch.Size([1, 32, 585])\n",
      "After transform: torch.Size([32, 293, 59])\n",
      "Before transform: torch.Size([1, 32, 585])\n",
      "After transform: torch.Size([32, 293, 59])\n",
      "Before transform: torch.Size([1, 32, 585])\n",
      "After transform: torch.Size([32, 293, 59])\n",
      "Before transform: torch.Size([1, 32, 585])\n",
      "After transform: torch.Size([32, 293, 59])\n",
      "Before transform: torch.Size([1, 32, 585])\n",
      "After transform: torch.Size([32, 293, 59])\n",
      "Before transform: torch.Size([1, 32, 585])\n",
      "After transform: torch.Size([32, 293, 59])\n",
      "Before transform: torch.Size([1, 32, 585])\n",
      "After transform: torch.Size([32, 293, 59])\n",
      "Before transform: torch.Size([1, 32, 585])\n"
     ]
    },
    {
     "name": "stderr",
     "output_type": "stream",
     "text": [
      " 92%|█████████▏| 5478/5976 [01:29<00:12, 41.23it/s]"
     ]
    },
    {
     "name": "stdout",
     "output_type": "stream",
     "text": [
      "After transform: torch.Size([32, 293, 59])\n",
      "Before transform: torch.Size([1, 32, 585])\n",
      "After transform: torch.Size([32, 293, 59])\n",
      "Before transform: torch.Size([1, 32, 585])\n",
      "After transform: torch.Size([32, 293, 59])\n",
      "Before transform: torch.Size([1, 32, 585])\n",
      "After transform: torch.Size([32, 293, 59])\n",
      "Before transform: torch.Size([1, 32, 585])\n",
      "After transform: torch.Size([32, 293, 59])\n",
      "Before transform: torch.Size([1, 32, 585])\n",
      "After transform: torch.Size([32, 293, 59])\n",
      "Before transform: torch.Size([1, 32, 585])\n",
      "After transform: torch.Size([32, 293, 59])\n",
      "Before transform: torch.Size([1, 32, 585])\n",
      "After transform: torch.Size([32, 293, 59])\n",
      "Before transform: torch.Size([1, 32, 585])\n",
      "After transform: torch.Size([32, 293, 59])\n",
      "Before transform: torch.Size([1, 32, 585])\n",
      "After transform: torch.Size([32, 293, 59])\n",
      "Before transform: torch.Size([1, 32, 585])\n",
      "After transform: torch.Size([32, 293, 59])\n",
      "Before transform: torch.Size([1, 32, 585])\n"
     ]
    },
    {
     "name": "stderr",
     "output_type": "stream",
     "text": [
      " 92%|█████████▏| 5491/5976 [01:29<00:10, 48.09it/s]"
     ]
    },
    {
     "name": "stdout",
     "output_type": "stream",
     "text": [
      "After transform: torch.Size([32, 293, 59])\n",
      "Before transform: torch.Size([1, 32, 585])\n",
      "After transform: torch.Size([32, 293, 59])\n",
      "Before transform: torch.Size([1, 32, 585])\n",
      "After transform: torch.Size([32, 293, 59])\n",
      "Before transform: torch.Size([1, 32, 585])\n",
      "After transform: torch.Size([32, 293, 59])\n",
      "Before transform: torch.Size([1, 32, 585])\n",
      "After transform: torch.Size([32, 293, 59])\n",
      "Before transform: torch.Size([1, 32, 585])\n",
      "After transform: torch.Size([32, 293, 59])\n",
      "Before transform: torch.Size([1, 32, 585])\n",
      "After transform: torch.Size([32, 293, 59])\n",
      "Before transform: torch.Size([1, 32, 585])\n",
      "After transform: torch.Size([32, 293, 59])\n",
      "Before transform: torch.Size([1, 32, 585])\n",
      "After transform: torch.Size([32, 293, 59])\n",
      "Before transform: torch.Size([1, 32, 585])\n",
      "After transform: torch.Size([32, 293, 59])\n",
      "Before transform: torch.Size([1, 32, 585])\n",
      "After transform: torch.Size([32, 293, 59])\n",
      "Before transform: torch.Size([1, 32, 585])\n",
      "After transform: torch.Size([32, 293, 59])\n",
      "Before transform: torch.Size([1, 32, 585])\n"
     ]
    },
    {
     "name": "stderr",
     "output_type": "stream",
     "text": [
      " 92%|█████████▏| 5504/5976 [01:29<00:08, 53.77it/s]"
     ]
    },
    {
     "name": "stdout",
     "output_type": "stream",
     "text": [
      "After transform: torch.Size([32, 293, 59])\n",
      "Before transform: torch.Size([1, 32, 585])\n",
      "After transform: torch.Size([32, 293, 59])\n",
      "Before transform: torch.Size([1, 32, 585])\n",
      "After transform: torch.Size([32, 293, 59])\n",
      "Before transform: torch.Size([1, 32, 585])\n",
      "After transform: torch.Size([32, 293, 59])\n",
      "Before transform: torch.Size([1, 32, 585])\n",
      "After transform: torch.Size([32, 293, 59])\n",
      "Before transform: torch.Size([1, 32, 585])\n",
      "After transform: torch.Size([32, 293, 59])\n",
      "Before transform: torch.Size([1, 32, 585])\n",
      "After transform: torch.Size([32, 293, 59])\n",
      "Before transform: torch.Size([1, 32, 585])\n",
      "After transform: torch.Size([32, 293, 59])\n",
      "Before transform: torch.Size([1, 32, 585])\n",
      "After transform: torch.Size([32, 293, 59])\n",
      "Before transform: torch.Size([1, 32, 585])\n",
      "After transform: torch.Size([32, 293, 59])\n",
      "Before transform: torch.Size([1, 32, 585])\n"
     ]
    },
    {
     "name": "stderr",
     "output_type": "stream",
     "text": [
      " 92%|█████████▏| 5510/5976 [01:29<00:09, 48.18it/s]"
     ]
    },
    {
     "name": "stdout",
     "output_type": "stream",
     "text": [
      "After transform: torch.Size([32, 293, 59])\n",
      "Before transform: torch.Size([1, 32, 585])\n",
      "After transform: torch.Size([32, 293, 59])\n",
      "Before transform: torch.Size([1, 32, 585])\n",
      "After transform: torch.Size([32, 293, 59])\n",
      "Before transform: torch.Size([1, 32, 585])\n",
      "After transform: torch.Size([32, 293, 59])\n",
      "Before transform: torch.Size([1, 32, 585])\n",
      "After transform: torch.Size([32, 293, 59])\n",
      "Before transform: torch.Size([1, 32, 585])\n",
      "After transform: torch.Size([32, 293, 59])\n",
      "Before transform: torch.Size([1, 32, 585])\n",
      "After transform: torch.Size([32, 293, 59])\n",
      "Before transform: torch.Size([1, 32, 585])\n",
      "After transform: torch.Size([32, 293, 59])\n",
      "Before transform: torch.Size([1, 32, 585])\n"
     ]
    },
    {
     "name": "stderr",
     "output_type": "stream",
     "text": [
      " 92%|█████████▏| 5516/5976 [01:30<00:13, 33.29it/s]"
     ]
    },
    {
     "name": "stdout",
     "output_type": "stream",
     "text": [
      "After transform: torch.Size([32, 293, 59])\n",
      "Before transform: torch.Size([1, 32, 585])\n",
      "After transform: torch.Size([32, 293, 59])\n",
      "Before transform: torch.Size([1, 32, 585])\n",
      "After transform: torch.Size([32, 293, 59])\n",
      "Before transform: torch.Size([1, 32, 585])\n",
      "After transform: torch.Size([32, 293, 59])\n",
      "Before transform: torch.Size([1, 32, 585])\n",
      "After transform: torch.Size([32, 293, 59])\n",
      "Before transform: torch.Size([1, 32, 585])\n",
      "After transform: torch.Size([32, 293, 59])\n",
      "Before transform: torch.Size([1, 32, 585])\n"
     ]
    },
    {
     "name": "stderr",
     "output_type": "stream",
     "text": [
      " 92%|█████████▏| 5527/5976 [01:30<00:11, 39.29it/s]"
     ]
    },
    {
     "name": "stdout",
     "output_type": "stream",
     "text": [
      "After transform: torch.Size([32, 293, 59])\n",
      "Before transform: torch.Size([1, 32, 585])\n",
      "After transform: torch.Size([32, 293, 59])\n",
      "Before transform: torch.Size([1, 32, 585])\n",
      "After transform: torch.Size([32, 293, 59])\n",
      "Before transform: torch.Size([1, 32, 585])\n",
      "After transform: torch.Size([32, 293, 59])\n",
      "Before transform: torch.Size([1, 32, 585])\n",
      "After transform: torch.Size([32, 293, 59])\n",
      "Before transform: torch.Size([1, 32, 585])\n",
      "After transform: torch.Size([32, 293, 59])\n",
      "Before transform: torch.Size([1, 32, 585])\n",
      "After transform: torch.Size([32, 293, 59])\n",
      "Before transform: torch.Size([1, 32, 585])\n",
      "After transform: torch.Size([32, 293, 59])\n",
      "Before transform: torch.Size([1, 32, 585])\n",
      "After transform: torch.Size([32, 293, 59])\n",
      "Before transform: torch.Size([1, 32, 585])\n",
      "After transform: torch.Size([32, 293, 59])\n",
      "Before transform: torch.Size([1, 32, 585])\n",
      "After transform: torch.Size([32, 293, 59])\n",
      "Before transform: torch.Size([1, 32, 585])\n",
      "After transform: torch.Size([32, 293, 59])\n",
      "Before transform: torch.Size([1, 32, 585])\n"
     ]
    },
    {
     "name": "stderr",
     "output_type": "stream",
     "text": [
      " 93%|█████████▎| 5538/5976 [01:30<00:10, 43.06it/s]"
     ]
    },
    {
     "name": "stdout",
     "output_type": "stream",
     "text": [
      "After transform: torch.Size([32, 293, 59])\n",
      "Before transform: torch.Size([1, 32, 585])\n",
      "After transform: torch.Size([32, 293, 59])\n",
      "Before transform: torch.Size([1, 32, 585])\n",
      "After transform: torch.Size([32, 293, 59])\n",
      "Before transform: torch.Size([1, 32, 585])\n",
      "After transform: torch.Size([32, 293, 59])\n",
      "Before transform: torch.Size([1, 32, 585])\n",
      "After transform: torch.Size([32, 293, 59])\n",
      "Before transform: torch.Size([1, 32, 585])\n",
      "After transform: torch.Size([32, 293, 59])\n",
      "Before transform: torch.Size([1, 32, 585])\n",
      "After transform: torch.Size([32, 293, 59])\n",
      "Before transform: torch.Size([1, 32, 585])\n",
      "After transform: torch.Size([32, 293, 59])\n",
      "Before transform: torch.Size([1, 32, 585])\n",
      "After transform: torch.Size([32, 293, 59])\n",
      "Before transform: torch.Size([1, 32, 585])\n",
      "After transform: torch.Size([32, 293, 59])\n",
      "Before transform: torch.Size([1, 32, 585])\n"
     ]
    },
    {
     "name": "stderr",
     "output_type": "stream",
     "text": [
      " 93%|█████████▎| 5548/5976 [01:30<00:09, 43.12it/s]"
     ]
    },
    {
     "name": "stdout",
     "output_type": "stream",
     "text": [
      "After transform: torch.Size([32, 293, 59])\n",
      "Before transform: torch.Size([1, 32, 585])\n",
      "After transform: torch.Size([32, 293, 59])\n",
      "Before transform: torch.Size([1, 32, 585])\n",
      "After transform: torch.Size([32, 293, 59])\n",
      "Before transform: torch.Size([1, 32, 585])\n",
      "After transform: torch.Size([32, 293, 59])\n",
      "Before transform: torch.Size([1, 32, 585])\n",
      "After transform: torch.Size([32, 293, 59])\n",
      "Before transform: torch.Size([1, 32, 585])\n",
      "After transform: torch.Size([32, 293, 59])\n",
      "Before transform: torch.Size([1, 32, 585])\n",
      "After transform: torch.Size([32, 293, 59])\n",
      "Before transform: torch.Size([1, 32, 585])\n",
      "After transform: torch.Size([32, 293, 59])\n",
      "Before transform: torch.Size([1, 32, 585])\n",
      "After transform: torch.Size([32, 293, 59])\n",
      "Before transform: torch.Size([1, 32, 585])\n",
      "After transform: torch.Size([32, 293, 59])\n",
      "Before transform: torch.Size([1, 32, 585])\n"
     ]
    },
    {
     "name": "stderr",
     "output_type": "stream",
     "text": [
      " 93%|█████████▎| 5559/5976 [01:31<00:09, 45.14it/s]"
     ]
    },
    {
     "name": "stdout",
     "output_type": "stream",
     "text": [
      "After transform: torch.Size([32, 293, 59])\n",
      "Before transform: torch.Size([1, 32, 585])\n",
      "After transform: torch.Size([32, 293, 59])\n",
      "Before transform: torch.Size([1, 32, 585])\n",
      "After transform: torch.Size([32, 293, 59])\n",
      "Before transform: torch.Size([1, 32, 585])\n",
      "After transform: torch.Size([32, 293, 59])\n",
      "Before transform: torch.Size([1, 32, 585])\n",
      "After transform: torch.Size([32, 293, 59])\n",
      "Before transform: torch.Size([1, 32, 585])\n",
      "After transform: torch.Size([32, 293, 59])\n",
      "Before transform: torch.Size([1, 32, 585])\n",
      "After transform: torch.Size([32, 293, 59])\n",
      "Before transform: torch.Size([1, 32, 585])\n",
      "After transform: torch.Size([32, 293, 59])\n",
      "Before transform: torch.Size([1, 32, 585])\n",
      "After transform: torch.Size([32, 293, 59])\n",
      "Before transform: torch.Size([1, 32, 585])\n",
      "After transform: torch.Size([32, 293, 59])\n",
      "Before transform: torch.Size([1, 32, 585])\n"
     ]
    },
    {
     "name": "stderr",
     "output_type": "stream",
     "text": [
      " 93%|█████████▎| 5564/5976 [01:31<00:09, 41.34it/s]"
     ]
    },
    {
     "name": "stdout",
     "output_type": "stream",
     "text": [
      "After transform: torch.Size([32, 293, 59])\n",
      "Before transform: torch.Size([1, 32, 585])\n",
      "After transform: torch.Size([32, 293, 59])\n",
      "Before transform: torch.Size([1, 32, 585])\n",
      "After transform: torch.Size([32, 293, 59])\n",
      "Before transform: torch.Size([1, 32, 585])\n",
      "After transform: torch.Size([32, 293, 59])\n",
      "Before transform: torch.Size([1, 32, 585])\n",
      "After transform: torch.Size([32, 293, 59])\n",
      "Before transform: torch.Size([1, 32, 585])\n",
      "After transform: torch.Size([32, 293, 59])\n",
      "Before transform: torch.Size([1, 32, 585])\n"
     ]
    },
    {
     "name": "stderr",
     "output_type": "stream",
     "text": [
      " 93%|█████████▎| 5573/5976 [01:31<00:16, 24.15it/s]"
     ]
    },
    {
     "name": "stdout",
     "output_type": "stream",
     "text": [
      "After transform: torch.Size([32, 293, 59])\n",
      "Before transform: torch.Size([1, 32, 585])\n",
      "After transform: torch.Size([32, 293, 59])\n",
      "Before transform: torch.Size([1, 32, 585])\n",
      "After transform: torch.Size([32, 293, 59])\n",
      "Before transform: torch.Size([1, 32, 585])\n",
      "After transform: torch.Size([32, 293, 59])\n",
      "Before transform: torch.Size([1, 32, 585])\n",
      "After transform: torch.Size([32, 293, 59])\n",
      "Before transform: torch.Size([1, 32, 585])\n",
      "After transform: torch.Size([32, 293, 59])\n",
      "Before transform: torch.Size([1, 32, 585])\n"
     ]
    },
    {
     "name": "stderr",
     "output_type": "stream",
     "text": [
      " 93%|█████████▎| 5582/5976 [01:32<00:13, 28.42it/s]"
     ]
    },
    {
     "name": "stdout",
     "output_type": "stream",
     "text": [
      "After transform: torch.Size([32, 293, 59])\n",
      "Before transform: torch.Size([1, 32, 585])\n",
      "After transform: torch.Size([32, 293, 59])\n",
      "Before transform: torch.Size([1, 32, 585])\n",
      "After transform: torch.Size([32, 293, 59])\n",
      "Before transform: torch.Size([1, 32, 585])\n",
      "After transform: torch.Size([32, 293, 59])\n",
      "Before transform: torch.Size([1, 32, 585])\n",
      "After transform: torch.Size([32, 293, 59])\n",
      "Before transform: torch.Size([1, 32, 585])\n",
      "After transform: torch.Size([32, 293, 59])\n",
      "Before transform: torch.Size([1, 32, 585])\n",
      "After transform: torch.Size([32, 293, 59])\n",
      "Before transform: torch.Size([1, 32, 585])\n",
      "After transform: torch.Size([32, 293, 59])\n",
      "Before transform: torch.Size([1, 32, 585])\n",
      "After transform: torch.Size([32, 293, 59])\n",
      "Before transform: torch.Size([1, 32, 585])\n"
     ]
    },
    {
     "name": "stderr",
     "output_type": "stream",
     "text": [
      " 94%|█████████▎| 5590/5976 [01:32<00:12, 31.22it/s]"
     ]
    },
    {
     "name": "stdout",
     "output_type": "stream",
     "text": [
      "After transform: torch.Size([32, 293, 59])\n",
      "Before transform: torch.Size([1, 32, 585])\n",
      "After transform: torch.Size([32, 293, 59])\n",
      "Before transform: torch.Size([1, 32, 585])\n",
      "After transform: torch.Size([32, 293, 59])\n",
      "Before transform: torch.Size([1, 32, 585])\n",
      "After transform: torch.Size([32, 293, 59])\n",
      "Before transform: torch.Size([1, 32, 585])\n",
      "After transform: torch.Size([32, 293, 59])\n",
      "Before transform: torch.Size([1, 32, 585])\n",
      "After transform: torch.Size([32, 293, 59])\n",
      "Before transform: torch.Size([1, 32, 585])\n",
      "After transform: torch.Size([32, 293, 59])\n",
      "Before transform: torch.Size([1, 32, 585])\n"
     ]
    },
    {
     "name": "stderr",
     "output_type": "stream",
     "text": [
      " 94%|█████████▎| 5600/5976 [01:32<00:09, 39.21it/s]"
     ]
    },
    {
     "name": "stdout",
     "output_type": "stream",
     "text": [
      "After transform: torch.Size([32, 293, 59])\n",
      "Before transform: torch.Size([1, 32, 585])\n",
      "After transform: torch.Size([32, 293, 59])\n",
      "Before transform: torch.Size([1, 32, 585])\n",
      "After transform: torch.Size([32, 293, 59])\n",
      "Before transform: torch.Size([1, 32, 585])\n",
      "After transform: torch.Size([32, 293, 59])\n",
      "Before transform: torch.Size([1, 32, 585])\n",
      "After transform: torch.Size([32, 293, 59])\n",
      "Before transform: torch.Size([1, 32, 585])\n",
      "After transform: torch.Size([32, 293, 59])\n",
      "Before transform: torch.Size([1, 32, 585])\n",
      "After transform: torch.Size([32, 293, 59])\n",
      "Before transform: torch.Size([1, 32, 585])\n",
      "After transform: torch.Size([32, 293, 59])\n",
      "Before transform: torch.Size([1, 32, 585])\n",
      "After transform: torch.Size([32, 293, 59])\n",
      "Before transform: torch.Size([1, 32, 585])\n",
      "After transform: torch.Size([32, 293, 59])\n",
      "Before transform: torch.Size([1, 32, 585])\n",
      "After transform: torch.Size([32, 293, 59])\n",
      "Before transform: torch.Size([1, 32, 585])\n"
     ]
    },
    {
     "name": "stderr",
     "output_type": "stream",
     "text": [
      " 94%|█████████▍| 5613/5976 [01:32<00:07, 49.03it/s]"
     ]
    },
    {
     "name": "stdout",
     "output_type": "stream",
     "text": [
      "After transform: torch.Size([32, 293, 59])\n",
      "Before transform: torch.Size([1, 32, 585])\n",
      "After transform: torch.Size([32, 293, 59])\n",
      "Before transform: torch.Size([1, 32, 585])\n",
      "After transform: torch.Size([32, 293, 59])\n",
      "Before transform: torch.Size([1, 32, 585])\n",
      "After transform: torch.Size([32, 293, 59])\n",
      "Before transform: torch.Size([1, 32, 585])\n",
      "After transform: torch.Size([32, 293, 59])\n",
      "Before transform: torch.Size([1, 32, 585])\n",
      "After transform: torch.Size([32, 293, 59])\n",
      "Before transform: torch.Size([1, 32, 585])\n",
      "After transform: torch.Size([32, 293, 59])\n",
      "Before transform: torch.Size([1, 32, 585])\n",
      "After transform: torch.Size([32, 293, 59])\n",
      "Before transform: torch.Size([1, 32, 585])\n",
      "After transform: torch.Size([32, 293, 59])\n",
      "Before transform: torch.Size([1, 32, 585])\n",
      "After transform: torch.Size([32, 293, 59])\n",
      "Before transform: torch.Size([1, 32, 585])\n",
      "After transform: torch.Size([32, 293, 59])\n",
      "Before transform: torch.Size([1, 32, 585])\n",
      "After transform: torch.Size([32, 293, 59])\n",
      "Before transform: torch.Size([1, 32, 585])\n"
     ]
    },
    {
     "name": "stderr",
     "output_type": "stream",
     "text": [
      " 94%|█████████▍| 5619/5976 [01:32<00:08, 39.80it/s]"
     ]
    },
    {
     "name": "stdout",
     "output_type": "stream",
     "text": [
      "After transform: torch.Size([32, 293, 59])\n",
      "Before transform: torch.Size([1, 32, 585])\n",
      "After transform: torch.Size([32, 293, 59])\n",
      "Before transform: torch.Size([1, 32, 585])\n",
      "After transform: torch.Size([32, 293, 59])\n",
      "Before transform: torch.Size([1, 32, 585])\n",
      "After transform: torch.Size([32, 293, 59])\n",
      "Before transform: torch.Size([1, 32, 585])\n",
      "After transform: torch.Size([32, 293, 59])\n",
      "Before transform: torch.Size([1, 32, 585])\n",
      "After transform: torch.Size([32, 293, 59])\n",
      "Before transform: torch.Size([1, 32, 585])\n"
     ]
    },
    {
     "name": "stderr",
     "output_type": "stream",
     "text": [
      " 94%|█████████▍| 5625/5976 [01:33<00:08, 41.94it/s]"
     ]
    },
    {
     "name": "stdout",
     "output_type": "stream",
     "text": [
      "After transform: torch.Size([32, 293, 59])\n",
      "Before transform: torch.Size([1, 32, 585])\n",
      "After transform: torch.Size([32, 293, 59])\n",
      "Before transform: torch.Size([1, 32, 585])\n",
      "After transform: torch.Size([32, 293, 59])\n",
      "Before transform: torch.Size([1, 32, 585])\n",
      "After transform: torch.Size([32, 293, 59])\n",
      "Before transform: torch.Size([1, 32, 585])\n",
      "After transform: torch.Size([32, 293, 59])\n",
      "Before transform: torch.Size([1, 32, 585])\n",
      "After transform: torch.Size([32, 293, 59])\n",
      "Before transform: torch.Size([1, 32, 585])\n",
      "After transform: torch.Size([32, 293, 59])\n",
      "Before transform: torch.Size([1, 32, 585])\n",
      "After transform: torch.Size([32, 293, 59])\n",
      "Before transform: torch.Size([1, 32, 585])\n",
      "After transform: torch.Size([32, 293, 59])\n",
      "Before transform: torch.Size([1, 32, 585])\n",
      "After transform: torch.Size([32, 293, 59])\n",
      "Before transform: torch.Size([1, 32, 585])\n",
      "After transform: torch.Size([32, 293, 59])\n",
      "Before transform: torch.Size([1, 32, 585])\n"
     ]
    },
    {
     "name": "stderr",
     "output_type": "stream",
     "text": [
      " 94%|█████████▍| 5636/5976 [01:33<00:07, 45.16it/s]"
     ]
    },
    {
     "name": "stdout",
     "output_type": "stream",
     "text": [
      "After transform: torch.Size([32, 293, 59])\n",
      "Before transform: torch.Size([1, 32, 585])\n",
      "After transform: torch.Size([32, 293, 59])\n",
      "Before transform: torch.Size([1, 32, 585])\n",
      "After transform: torch.Size([32, 293, 59])\n",
      "Before transform: torch.Size([1, 32, 585])\n",
      "After transform: torch.Size([32, 293, 59])\n",
      "Before transform: torch.Size([1, 32, 585])\n",
      "After transform: torch.Size([32, 293, 59])\n",
      "Before transform: torch.Size([1, 32, 585])\n",
      "After transform: torch.Size([32, 293, 59])\n",
      "Before transform: torch.Size([1, 32, 585])\n",
      "After transform: torch.Size([32, 293, 59])\n",
      "Before transform: torch.Size([1, 32, 585])\n",
      "After transform: torch.Size([32, 293, 59])\n",
      "Before transform: torch.Size([1, 32, 585])\n",
      "After transform: torch.Size([32, 293, 59])\n",
      "Before transform: torch.Size([1, 32, 585])\n",
      "After transform: torch.Size([32, 293, 59])\n",
      "Before transform: torch.Size([1, 32, 585])\n",
      "After transform: torch.Size([32, 293, 59])\n",
      "Before transform: torch.Size([1, 32, 585])\n"
     ]
    },
    {
     "name": "stderr",
     "output_type": "stream",
     "text": [
      " 95%|█████████▍| 5648/5976 [01:33<00:06, 48.55it/s]"
     ]
    },
    {
     "name": "stdout",
     "output_type": "stream",
     "text": [
      "After transform: torch.Size([32, 293, 59])\n",
      "Before transform: torch.Size([1, 32, 585])\n",
      "After transform: torch.Size([32, 293, 59])\n",
      "Before transform: torch.Size([1, 32, 585])\n",
      "After transform: torch.Size([32, 293, 59])\n",
      "Before transform: torch.Size([1, 32, 585])\n",
      "After transform: torch.Size([32, 293, 59])\n",
      "Before transform: torch.Size([1, 32, 585])\n",
      "After transform: torch.Size([32, 293, 59])\n",
      "Before transform: torch.Size([1, 32, 585])\n",
      "After transform: torch.Size([32, 293, 59])\n",
      "Before transform: torch.Size([1, 32, 585])\n",
      "After transform: torch.Size([32, 293, 59])\n",
      "Before transform: torch.Size([1, 32, 585])\n",
      "After transform: torch.Size([32, 293, 59])\n",
      "Before transform: torch.Size([1, 32, 585])\n",
      "After transform: torch.Size([32, 293, 59])\n",
      "Before transform: torch.Size([1, 32, 585])\n",
      "After transform: torch.Size([32, 293, 59])\n",
      "Before transform: torch.Size([1, 32, 585])\n",
      "After transform: torch.Size([32, 293, 59])\n",
      "Before transform: torch.Size([1, 32, 585])\n"
     ]
    },
    {
     "name": "stderr",
     "output_type": "stream",
     "text": [
      " 95%|█████████▍| 5661/5976 [01:33<00:05, 53.22it/s]"
     ]
    },
    {
     "name": "stdout",
     "output_type": "stream",
     "text": [
      "After transform: torch.Size([32, 293, 59])\n",
      "Before transform: torch.Size([1, 32, 585])\n",
      "After transform: torch.Size([32, 293, 59])\n",
      "Before transform: torch.Size([1, 32, 585])\n",
      "After transform: torch.Size([32, 293, 59])\n",
      "Before transform: torch.Size([1, 32, 585])\n",
      "After transform: torch.Size([32, 293, 59])\n",
      "Before transform: torch.Size([1, 32, 585])\n",
      "After transform: torch.Size([32, 293, 59])\n",
      "Before transform: torch.Size([1, 32, 585])\n",
      "After transform: torch.Size([32, 293, 59])\n",
      "Before transform: torch.Size([1, 32, 585])\n",
      "After transform: torch.Size([32, 293, 59])\n",
      "Before transform: torch.Size([1, 32, 585])\n",
      "After transform: torch.Size([32, 293, 59])\n",
      "Before transform: torch.Size([1, 32, 585])\n",
      "After transform: torch.Size([32, 293, 59])\n",
      "Before transform: torch.Size([1, 32, 585])\n",
      "After transform: torch.Size([32, 293, 59])\n",
      "Before transform: torch.Size([1, 32, 585])\n",
      "After transform: torch.Size([32, 293, 59])\n",
      "Before transform: torch.Size([1, 32, 585])\n"
     ]
    },
    {
     "name": "stderr",
     "output_type": "stream",
     "text": [
      " 95%|█████████▍| 5667/5976 [01:33<00:06, 49.85it/s]"
     ]
    },
    {
     "name": "stdout",
     "output_type": "stream",
     "text": [
      "After transform: torch.Size([32, 293, 59])\n",
      "Before transform: torch.Size([1, 32, 585])\n",
      "After transform: torch.Size([32, 293, 59])\n",
      "Before transform: torch.Size([1, 32, 585])\n",
      "After transform: torch.Size([32, 293, 59])\n",
      "Before transform: torch.Size([1, 32, 585])\n",
      "After transform: torch.Size([32, 293, 59])\n",
      "Before transform: torch.Size([1, 32, 585])\n",
      "After transform: torch.Size([32, 293, 59])\n",
      "Before transform: torch.Size([1, 32, 585])\n"
     ]
    },
    {
     "name": "stderr",
     "output_type": "stream",
     "text": [
      " 95%|█████████▍| 5673/5976 [01:34<00:09, 32.22it/s]"
     ]
    },
    {
     "name": "stdout",
     "output_type": "stream",
     "text": [
      "After transform: torch.Size([32, 293, 59])\n",
      "Before transform: torch.Size([1, 32, 585])\n",
      "After transform: torch.Size([32, 293, 59])\n",
      "Before transform: torch.Size([1, 32, 585])\n",
      "After transform: torch.Size([32, 293, 59])\n",
      "Before transform: torch.Size([1, 32, 585])\n",
      "After transform: torch.Size([32, 293, 59])\n",
      "Before transform: torch.Size([1, 32, 585])\n",
      "After transform: torch.Size([32, 293, 59])\n",
      "Before transform: torch.Size([1, 32, 585])\n"
     ]
    },
    {
     "name": "stderr",
     "output_type": "stream",
     "text": [
      " 95%|█████████▌| 5683/5976 [01:34<00:07, 36.73it/s]"
     ]
    },
    {
     "name": "stdout",
     "output_type": "stream",
     "text": [
      "After transform: torch.Size([32, 293, 59])\n",
      "Before transform: torch.Size([1, 32, 585])\n",
      "After transform: torch.Size([32, 293, 59])\n",
      "Before transform: torch.Size([1, 32, 585])\n",
      "After transform: torch.Size([32, 293, 59])\n",
      "Before transform: torch.Size([1, 32, 585])\n",
      "After transform: torch.Size([32, 293, 59])\n",
      "Before transform: torch.Size([1, 32, 585])\n",
      "After transform: torch.Size([32, 293, 59])\n",
      "Before transform: torch.Size([1, 32, 585])\n",
      "After transform: torch.Size([32, 293, 59])\n",
      "Before transform: torch.Size([1, 32, 585])\n",
      "After transform: torch.Size([32, 293, 59])\n",
      "Before transform: torch.Size([1, 32, 585])\n",
      "After transform: torch.Size([32, 293, 59])\n",
      "Before transform: torch.Size([1, 32, 585])\n",
      "After transform: torch.Size([32, 293, 59])\n",
      "Before transform: torch.Size([1, 32, 585])\n",
      "After transform: torch.Size([32, 293, 59])\n"
     ]
    },
    {
     "name": "stderr",
     "output_type": "stream",
     "text": [
      " 95%|█████████▌| 5688/5976 [01:34<00:07, 38.55it/s]"
     ]
    },
    {
     "name": "stdout",
     "output_type": "stream",
     "text": [
      "Before transform: torch.Size([1, 32, 585])\n",
      "After transform: torch.Size([32, 293, 59])\n",
      "Before transform: torch.Size([1, 32, 585])\n",
      "After transform: torch.Size([32, 293, 59])\n",
      "Before transform: torch.Size([1, 32, 585])\n",
      "After transform: torch.Size([32, 293, 59])\n",
      "Before transform: torch.Size([1, 32, 585])\n",
      "After transform: torch.Size([32, 293, 59])\n",
      "Before transform: torch.Size([1, 32, 585])\n",
      "After transform: torch.Size([32, 293, 59])\n",
      "Before transform: torch.Size([1, 32, 585])\n",
      "After transform: torch.Size([32, 293, 59])\n",
      "Before transform: torch.Size([1, 32, 585])\n",
      "After transform: torch.Size([32, 293, 59])\n",
      "Before transform: torch.Size([1, 32, 585])\n",
      "After transform: torch.Size([32, 293, 59])\n",
      "Before transform: torch.Size([1, 32, 585])\n"
     ]
    },
    {
     "name": "stderr",
     "output_type": "stream",
     "text": [
      " 95%|█████████▌| 5698/5976 [01:34<00:06, 41.30it/s]"
     ]
    },
    {
     "name": "stdout",
     "output_type": "stream",
     "text": [
      "After transform: torch.Size([32, 293, 59])\n",
      "Before transform: torch.Size([1, 32, 585])\n",
      "After transform: torch.Size([32, 293, 59])\n",
      "Before transform: torch.Size([1, 32, 585])\n",
      "After transform: torch.Size([32, 293, 59])\n",
      "Before transform: torch.Size([1, 32, 585])\n",
      "After transform: torch.Size([32, 293, 59])\n",
      "Before transform: torch.Size([1, 32, 585])\n",
      "After transform: torch.Size([32, 293, 59])\n",
      "Before transform: torch.Size([1, 32, 585])\n",
      "After transform: torch.Size([32, 293, 59])\n",
      "Before transform: torch.Size([1, 32, 585])\n",
      "After transform: torch.Size([32, 293, 59])\n",
      "Before transform: torch.Size([1, 32, 585])\n",
      "After transform: torch.Size([32, 293, 59])\n",
      "Before transform: torch.Size([1, 32, 585])\n",
      "After transform: torch.Size([32, 293, 59])\n",
      "Before transform: torch.Size([1, 32, 585])\n",
      "After transform: torch.Size([32, 293, 59])\n",
      "Before transform: torch.Size([1, 32, 585])\n"
     ]
    },
    {
     "name": "stderr",
     "output_type": "stream",
     "text": [
      " 96%|█████████▌| 5710/5976 [01:34<00:05, 48.39it/s]"
     ]
    },
    {
     "name": "stdout",
     "output_type": "stream",
     "text": [
      "After transform: torch.Size([32, 293, 59])\n",
      "Before transform: torch.Size([1, 32, 585])\n",
      "After transform: torch.Size([32, 293, 59])\n",
      "Before transform: torch.Size([1, 32, 585])\n",
      "After transform: torch.Size([32, 293, 59])\n",
      "Before transform: torch.Size([1, 32, 585])\n",
      "After transform: torch.Size([32, 293, 59])\n",
      "Before transform: torch.Size([1, 32, 585])\n",
      "After transform: torch.Size([32, 293, 59])\n",
      "Before transform: torch.Size([1, 32, 585])\n",
      "After transform: torch.Size([32, 293, 59])\n",
      "Before transform: torch.Size([1, 32, 585])\n",
      "After transform: torch.Size([32, 293, 59])\n",
      "Before transform: torch.Size([1, 32, 585])\n",
      "After transform: torch.Size([32, 293, 59])\n",
      "Before transform: torch.Size([1, 32, 585])\n",
      "After transform: torch.Size([32, 293, 59])\n",
      "Before transform: torch.Size([1, 32, 585])\n",
      "After transform: torch.Size([32, 293, 59])\n",
      "Before transform: torch.Size([1, 32, 585])\n",
      "After transform: torch.Size([32, 293, 59])\n",
      "Before transform: torch.Size([1, 32, 585])\n",
      "After transform: torch.Size([32, 293, 59])\n",
      "Before transform: torch.Size([1, 32, 585])\n"
     ]
    },
    {
     "name": "stderr",
     "output_type": "stream",
     "text": [
      " 96%|█████████▌| 5716/5976 [01:35<00:07, 35.67it/s]"
     ]
    },
    {
     "name": "stdout",
     "output_type": "stream",
     "text": [
      "After transform: torch.Size([32, 293, 59])\n",
      "Before transform: torch.Size([1, 32, 585])\n",
      "After transform: torch.Size([32, 293, 59])\n",
      "Before transform: torch.Size([1, 32, 585])\n",
      "After transform: torch.Size([32, 293, 59])\n",
      "Before transform: torch.Size([1, 32, 585])\n"
     ]
    },
    {
     "name": "stderr",
     "output_type": "stream",
     "text": [
      " 96%|█████████▌| 5727/5976 [01:35<00:05, 42.72it/s]"
     ]
    },
    {
     "name": "stdout",
     "output_type": "stream",
     "text": [
      "After transform: torch.Size([32, 293, 59])\n",
      "Before transform: torch.Size([1, 32, 585])\n",
      "After transform: torch.Size([32, 293, 59])\n",
      "Before transform: torch.Size([1, 32, 585])\n",
      "After transform: torch.Size([32, 293, 59])\n",
      "Before transform: torch.Size([1, 32, 585])\n",
      "After transform: torch.Size([32, 293, 59])\n",
      "Before transform: torch.Size([1, 32, 585])\n",
      "After transform: torch.Size([32, 293, 59])\n",
      "Before transform: torch.Size([1, 32, 585])\n",
      "After transform: torch.Size([32, 293, 59])\n",
      "Before transform: torch.Size([1, 32, 585])\n",
      "After transform: torch.Size([32, 293, 59])\n",
      "Before transform: torch.Size([1, 32, 585])\n",
      "After transform: torch.Size([32, 293, 59])\n",
      "Before transform: torch.Size([1, 32, 585])\n",
      "After transform: torch.Size([32, 293, 59])\n",
      "Before transform: torch.Size([1, 32, 585])\n",
      "After transform: torch.Size([32, 293, 59])\n",
      "Before transform: torch.Size([1, 32, 585])\n",
      "After transform: torch.Size([32, 293, 59])\n",
      "Before transform: torch.Size([1, 32, 585])\n"
     ]
    },
    {
     "name": "stderr",
     "output_type": "stream",
     "text": [
      " 96%|█████████▌| 5733/5976 [01:35<00:05, 44.54it/s]"
     ]
    },
    {
     "name": "stdout",
     "output_type": "stream",
     "text": [
      "After transform: torch.Size([32, 293, 59])\n",
      "Before transform: torch.Size([1, 32, 585])\n",
      "After transform: torch.Size([32, 293, 59])\n",
      "Before transform: torch.Size([1, 32, 585])\n",
      "After transform: torch.Size([32, 293, 59])\n",
      "Before transform: torch.Size([1, 32, 585])\n",
      "After transform: torch.Size([32, 293, 59])\n",
      "Before transform: torch.Size([1, 32, 585])\n",
      "After transform: torch.Size([32, 293, 59])\n",
      "Before transform: torch.Size([1, 32, 585])\n",
      "After transform: torch.Size([32, 293, 59])\n",
      "Before transform: torch.Size([1, 32, 585])\n",
      "After transform: torch.Size([32, 293, 59])\n",
      "Before transform: torch.Size([1, 32, 585])\n",
      "After transform: torch.Size([32, 293, 59])\n",
      "Before transform: torch.Size([1, 32, 585])\n",
      "After transform: torch.Size([32, 293, 59])\n",
      "Before transform: torch.Size([1, 32, 585])\n",
      "After transform: torch.Size([32, 293, 59])\n",
      "Before transform: torch.Size([1, 32, 585])\n",
      "After transform: torch.Size([32, 293, 59])\n",
      "Before transform: torch.Size([1, 32, 585])\n"
     ]
    },
    {
     "name": "stderr",
     "output_type": "stream",
     "text": [
      " 96%|█████████▌| 5746/5976 [01:35<00:04, 52.33it/s]"
     ]
    },
    {
     "name": "stdout",
     "output_type": "stream",
     "text": [
      "After transform: torch.Size([32, 293, 59])\n",
      "Before transform: torch.Size([1, 32, 585])\n",
      "After transform: torch.Size([32, 293, 59])\n",
      "Before transform: torch.Size([1, 32, 585])\n",
      "After transform: torch.Size([32, 293, 59])\n",
      "Before transform: torch.Size([1, 32, 585])\n",
      "After transform: torch.Size([32, 293, 59])\n",
      "Before transform: torch.Size([1, 32, 585])\n",
      "After transform: torch.Size([32, 293, 59])\n",
      "Before transform: torch.Size([1, 32, 585])\n",
      "After transform: torch.Size([32, 293, 59])\n",
      "Before transform: torch.Size([1, 32, 585])\n",
      "After transform: torch.Size([32, 293, 59])\n",
      "Before transform: torch.Size([1, 32, 585])\n",
      "After transform: torch.Size([32, 293, 59])\n",
      "Before transform: torch.Size([1, 32, 585])\n",
      "After transform: torch.Size([32, 293, 59])\n",
      "Before transform: torch.Size([1, 32, 585])\n",
      "After transform: torch.Size([32, 293, 59])\n",
      "Before transform: torch.Size([1, 32, 585])\n",
      "After transform: torch.Size([32, 293, 59])\n",
      "Before transform: torch.Size([1, 32, 585])\n",
      "After transform: torch.Size([32, 293, 59])\n",
      "Before transform: torch.Size([1, 32, 585])\n"
     ]
    },
    {
     "name": "stderr",
     "output_type": "stream",
     "text": [
      " 96%|█████████▋| 5758/5976 [01:36<00:04, 50.36it/s]"
     ]
    },
    {
     "name": "stdout",
     "output_type": "stream",
     "text": [
      "After transform: torch.Size([32, 293, 59])\n",
      "Before transform: torch.Size([1, 32, 585])\n",
      "After transform: torch.Size([32, 293, 59])\n",
      "Before transform: torch.Size([1, 32, 585])\n",
      "After transform: torch.Size([32, 293, 59])\n",
      "Before transform: torch.Size([1, 32, 585])\n",
      "After transform: torch.Size([32, 293, 59])\n",
      "Before transform: torch.Size([1, 32, 585])\n",
      "After transform: torch.Size([32, 293, 59])\n",
      "Before transform: torch.Size([1, 32, 585])\n",
      "After transform: torch.Size([32, 293, 59])\n",
      "Before transform: torch.Size([1, 32, 585])\n",
      "After transform: torch.Size([32, 293, 59])\n",
      "Before transform: torch.Size([1, 32, 585])\n",
      "After transform: torch.Size([32, 293, 59])\n",
      "Before transform: torch.Size([1, 32, 585])\n",
      "After transform: torch.Size([32, 293, 59])\n",
      "Before transform: torch.Size([1, 32, 585])\n",
      "After transform: torch.Size([32, 293, 59])\n",
      "Before transform: torch.Size([1, 32, 585])\n",
      "After transform: torch.Size([32, 293, 59])\n",
      "Before transform: torch.Size([1, 32, 585])\n"
     ]
    },
    {
     "name": "stderr",
     "output_type": "stream",
     "text": [
      " 96%|█████████▋| 5764/5976 [01:36<00:05, 39.88it/s]"
     ]
    },
    {
     "name": "stdout",
     "output_type": "stream",
     "text": [
      "After transform: torch.Size([32, 293, 59])\n",
      "Before transform: torch.Size([1, 32, 585])\n",
      "After transform: torch.Size([32, 293, 59])\n",
      "Before transform: torch.Size([1, 32, 585])\n",
      "After transform: torch.Size([32, 293, 59])\n",
      "Before transform: torch.Size([1, 32, 585])\n"
     ]
    },
    {
     "name": "stderr",
     "output_type": "stream",
     "text": [
      " 97%|█████████▋| 5769/5976 [01:36<00:05, 36.81it/s]"
     ]
    },
    {
     "name": "stdout",
     "output_type": "stream",
     "text": [
      "After transform: torch.Size([32, 293, 59])\n",
      "Before transform: torch.Size([1, 32, 585])\n",
      "After transform: torch.Size([32, 293, 59])\n",
      "Before transform: torch.Size([1, 32, 585])\n",
      "After transform: torch.Size([32, 293, 59])\n",
      "Before transform: torch.Size([1, 32, 585])\n",
      "After transform: torch.Size([32, 293, 59])\n",
      "Before transform: torch.Size([1, 32, 585])\n",
      "After transform: torch.Size([32, 293, 59])\n",
      "Before transform: torch.Size([1, 32, 585])\n",
      "After transform: torch.Size([32, 293, 59])\n",
      "Before transform: torch.Size([1, 32, 585])\n",
      "After transform: torch.Size([32, 293, 59])\n",
      "Before transform: torch.Size([1, 32, 585])\n"
     ]
    },
    {
     "name": "stderr",
     "output_type": "stream",
     "text": [
      " 97%|█████████▋| 5779/5976 [01:36<00:05, 35.73it/s]"
     ]
    },
    {
     "name": "stdout",
     "output_type": "stream",
     "text": [
      "After transform: torch.Size([32, 293, 59])\n",
      "Before transform: torch.Size([1, 32, 585])\n",
      "After transform: torch.Size([32, 293, 59])\n",
      "Before transform: torch.Size([1, 32, 585])\n",
      "After transform: torch.Size([32, 293, 59])\n",
      "Before transform: torch.Size([1, 32, 585])\n",
      "After transform: torch.Size([32, 293, 59])\n",
      "Before transform: torch.Size([1, 32, 585])\n",
      "After transform: torch.Size([32, 293, 59])\n",
      "Before transform: torch.Size([1, 32, 585])\n",
      "After transform: torch.Size([32, 293, 59])\n",
      "Before transform: torch.Size([1, 32, 585])\n",
      "After transform: torch.Size([32, 293, 59])\n",
      "Before transform: torch.Size([1, 32, 585])\n",
      "After transform: torch.Size([32, 293, 59])\n",
      "Before transform: torch.Size([1, 32, 585])\n"
     ]
    },
    {
     "name": "stderr",
     "output_type": "stream",
     "text": [
      " 97%|█████████▋| 5790/5976 [01:36<00:04, 42.91it/s]"
     ]
    },
    {
     "name": "stdout",
     "output_type": "stream",
     "text": [
      "After transform: torch.Size([32, 293, 59])\n",
      "Before transform: torch.Size([1, 32, 585])\n",
      "After transform: torch.Size([32, 293, 59])\n",
      "Before transform: torch.Size([1, 32, 585])\n",
      "After transform: torch.Size([32, 293, 59])\n",
      "Before transform: torch.Size([1, 32, 585])\n",
      "After transform: torch.Size([32, 293, 59])\n",
      "Before transform: torch.Size([1, 32, 585])\n",
      "After transform: torch.Size([32, 293, 59])\n",
      "Before transform: torch.Size([1, 32, 585])\n",
      "After transform: torch.Size([32, 293, 59])\n",
      "Before transform: torch.Size([1, 32, 585])\n",
      "After transform: torch.Size([32, 293, 59])\n",
      "Before transform: torch.Size([1, 32, 585])\n",
      "After transform: torch.Size([32, 293, 59])\n",
      "Before transform: torch.Size([1, 32, 585])\n",
      "After transform: torch.Size([32, 293, 59])\n",
      "Before transform: torch.Size([1, 32, 585])\n",
      "After transform: torch.Size([32, 293, 59])\n",
      "Before transform: torch.Size([1, 32, 585])\n",
      "After transform: torch.Size([32, 293, 59])\n",
      "Before transform: torch.Size([1, 32, 585])\n"
     ]
    },
    {
     "name": "stderr",
     "output_type": "stream",
     "text": [
      " 97%|█████████▋| 5795/5976 [01:37<00:04, 40.75it/s]"
     ]
    },
    {
     "name": "stdout",
     "output_type": "stream",
     "text": [
      "After transform: torch.Size([32, 293, 59])\n",
      "Before transform: torch.Size([1, 32, 585])\n",
      "After transform: torch.Size([32, 293, 59])\n",
      "Before transform: torch.Size([1, 32, 585])\n",
      "After transform: torch.Size([32, 293, 59])\n",
      "Before transform: torch.Size([1, 32, 585])\n",
      "After transform: torch.Size([32, 293, 59])\n",
      "Before transform: torch.Size([1, 32, 585])\n",
      "After transform: torch.Size([32, 293, 59])\n",
      "Before transform: torch.Size([1, 32, 585])\n",
      "After transform: torch.Size([32, 293, 59])\n",
      "Before transform: torch.Size([1, 32, 585])\n"
     ]
    },
    {
     "name": "stderr",
     "output_type": "stream",
     "text": [
      " 97%|█████████▋| 5800/5976 [01:37<00:05, 29.94it/s]"
     ]
    },
    {
     "name": "stdout",
     "output_type": "stream",
     "text": [
      "After transform: torch.Size([32, 293, 59])\n",
      "Before transform: torch.Size([1, 32, 585])\n",
      "After transform: torch.Size([32, 293, 59])\n",
      "Before transform: torch.Size([1, 32, 585])\n",
      "After transform: torch.Size([32, 293, 59])\n",
      "Before transform: torch.Size([1, 32, 585])\n",
      "After transform: torch.Size([32, 293, 59])\n",
      "Before transform: torch.Size([1, 32, 585])\n",
      "After transform: torch.Size([32, 293, 59])\n",
      "Before transform: torch.Size([1, 32, 585])\n",
      "After transform: torch.Size([32, 293, 59])\n",
      "Before transform: torch.Size([1, 32, 585])\n"
     ]
    },
    {
     "name": "stderr",
     "output_type": "stream",
     "text": [
      " 97%|█████████▋| 5811/5976 [01:37<00:04, 37.77it/s]"
     ]
    },
    {
     "name": "stdout",
     "output_type": "stream",
     "text": [
      "After transform: torch.Size([32, 293, 59])\n",
      "Before transform: torch.Size([1, 32, 585])\n",
      "After transform: torch.Size([32, 293, 59])\n",
      "Before transform: torch.Size([1, 32, 585])\n",
      "After transform: torch.Size([32, 293, 59])\n",
      "Before transform: torch.Size([1, 32, 585])\n",
      "After transform: torch.Size([32, 293, 59])\n",
      "Before transform: torch.Size([1, 32, 585])\n",
      "After transform: torch.Size([32, 293, 59])\n",
      "Before transform: torch.Size([1, 32, 585])\n",
      "After transform: torch.Size([32, 293, 59])\n",
      "Before transform: torch.Size([1, 32, 585])\n",
      "After transform: torch.Size([32, 293, 59])\n",
      "Before transform: torch.Size([1, 32, 585])\n",
      "After transform: torch.Size([32, 293, 59])\n",
      "Before transform: torch.Size([1, 32, 585])\n",
      "After transform: torch.Size([32, 293, 59])\n",
      "Before transform: torch.Size([1, 32, 585])\n",
      "After transform: torch.Size([32, 293, 59])\n",
      "Before transform: torch.Size([1, 32, 585])\n",
      "After transform: torch.Size([32, 293, 59])\n",
      "Before transform: torch.Size([1, 32, 585])\n"
     ]
    },
    {
     "name": "stderr",
     "output_type": "stream",
     "text": [
      " 97%|█████████▋| 5823/5976 [01:37<00:03, 45.67it/s]"
     ]
    },
    {
     "name": "stdout",
     "output_type": "stream",
     "text": [
      "After transform: torch.Size([32, 293, 59])\n",
      "Before transform: torch.Size([1, 32, 585])\n",
      "After transform: torch.Size([32, 293, 59])\n",
      "Before transform: torch.Size([1, 32, 585])\n",
      "After transform: torch.Size([32, 293, 59])\n",
      "Before transform: torch.Size([1, 32, 585])\n",
      "After transform: torch.Size([32, 293, 59])\n",
      "Before transform: torch.Size([1, 32, 585])\n",
      "After transform: torch.Size([32, 293, 59])\n",
      "Before transform: torch.Size([1, 32, 585])\n",
      "After transform: torch.Size([32, 293, 59])\n",
      "Before transform: torch.Size([1, 32, 585])\n",
      "After transform: torch.Size([32, 293, 59])\n",
      "Before transform: torch.Size([1, 32, 585])\n",
      "After transform: torch.Size([32, 293, 59])\n",
      "Before transform: torch.Size([1, 32, 585])\n",
      "After transform: torch.Size([32, 293, 59])\n",
      "Before transform: torch.Size([1, 32, 585])\n",
      "After transform: torch.Size([32, 293, 59])\n",
      "Before transform: torch.Size([1, 32, 585])\n",
      "After transform: torch.Size([32, 293, 59])\n",
      "Before transform: torch.Size([1, 32, 585])\n"
     ]
    },
    {
     "name": "stderr",
     "output_type": "stream",
     "text": [
      " 98%|█████████▊| 5828/5976 [01:37<00:03, 43.79it/s]"
     ]
    },
    {
     "name": "stdout",
     "output_type": "stream",
     "text": [
      "After transform: torch.Size([32, 293, 59])\n",
      "Before transform: torch.Size([1, 32, 585])\n",
      "After transform: torch.Size([32, 293, 59])\n",
      "Before transform: torch.Size([1, 32, 585])\n",
      "After transform: torch.Size([32, 293, 59])\n",
      "Before transform: torch.Size([1, 32, 585])\n",
      "After transform: torch.Size([32, 293, 59])\n",
      "Before transform: torch.Size([1, 32, 585])\n",
      "After transform: torch.Size([32, 293, 59])\n",
      "Before transform: torch.Size([1, 32, 585])\n",
      "After transform: torch.Size([32, 293, 59])\n",
      "Before transform: torch.Size([1, 32, 585])\n",
      "After transform: torch.Size([32, 293, 59])\n",
      "Before transform: torch.Size([1, 32, 585])\n",
      "After transform: torch.Size([32, 293, 59])\n",
      "Before transform: torch.Size([1, 32, 585])\n"
     ]
    },
    {
     "name": "stderr",
     "output_type": "stream",
     "text": [
      " 98%|█████████▊| 5838/5976 [01:38<00:03, 39.97it/s]"
     ]
    },
    {
     "name": "stdout",
     "output_type": "stream",
     "text": [
      "After transform: torch.Size([32, 293, 59])\n",
      "Before transform: torch.Size([1, 32, 585])\n",
      "After transform: torch.Size([32, 293, 59])\n",
      "Before transform: torch.Size([1, 32, 585])\n",
      "After transform: torch.Size([32, 293, 59])\n",
      "Before transform: torch.Size([1, 32, 585])\n",
      "After transform: torch.Size([32, 293, 59])\n",
      "Before transform: torch.Size([1, 32, 585])\n",
      "After transform: torch.Size([32, 293, 59])\n",
      "Before transform: torch.Size([1, 32, 585])\n",
      "After transform: torch.Size([32, 293, 59])\n",
      "Before transform: torch.Size([1, 32, 585])\n"
     ]
    },
    {
     "name": "stderr",
     "output_type": "stream",
     "text": [
      " 98%|█████████▊| 5843/5976 [01:38<00:04, 28.55it/s]"
     ]
    },
    {
     "name": "stdout",
     "output_type": "stream",
     "text": [
      "After transform: torch.Size([32, 293, 59])\n",
      "Before transform: torch.Size([1, 32, 585])\n",
      "After transform: torch.Size([32, 293, 59])\n",
      "Before transform: torch.Size([1, 32, 585])\n",
      "After transform: torch.Size([32, 293, 59])\n",
      "Before transform: torch.Size([1, 32, 585])\n",
      "After transform: torch.Size([32, 293, 59])\n",
      "Before transform: torch.Size([1, 32, 585])\n",
      "After transform: torch.Size([32, 293, 59])\n",
      "Before transform: torch.Size([1, 32, 585])\n"
     ]
    },
    {
     "name": "stderr",
     "output_type": "stream",
     "text": [
      " 98%|█████████▊| 5848/5976 [01:38<00:04, 29.41it/s]"
     ]
    },
    {
     "name": "stdout",
     "output_type": "stream",
     "text": [
      "After transform: torch.Size([32, 293, 59])\n",
      "Before transform: torch.Size([1, 32, 585])\n",
      "After transform: torch.Size([32, 293, 59])\n",
      "Before transform: torch.Size([1, 32, 585])\n",
      "After transform: torch.Size([32, 293, 59])\n",
      "Before transform: torch.Size([1, 32, 585])\n",
      "After transform: torch.Size([32, 293, 59])\n",
      "Before transform: torch.Size([1, 32, 585])\n",
      "After transform: torch.Size([32, 293, 59])\n",
      "Before transform: torch.Size([1, 32, 585])\n",
      "After transform: torch.Size([32, 293, 59])\n",
      "Before transform: torch.Size([1, 32, 585])\n"
     ]
    },
    {
     "name": "stderr",
     "output_type": "stream",
     "text": [
      " 98%|█████████▊| 5857/5976 [01:38<00:03, 31.12it/s]"
     ]
    },
    {
     "name": "stdout",
     "output_type": "stream",
     "text": [
      "After transform: torch.Size([32, 293, 59])\n",
      "Before transform: torch.Size([1, 32, 585])\n",
      "After transform: torch.Size([32, 293, 59])\n",
      "Before transform: torch.Size([1, 32, 585])\n",
      "After transform: torch.Size([32, 293, 59])\n",
      "Before transform: torch.Size([1, 32, 585])\n",
      "After transform: torch.Size([32, 293, 59])\n",
      "Before transform: torch.Size([1, 32, 585])\n",
      "After transform: torch.Size([32, 293, 59])\n",
      "Before transform: torch.Size([1, 32, 585])\n",
      "After transform: torch.Size([32, 293, 59])\n",
      "Before transform: torch.Size([1, 32, 585])\n",
      "After transform: torch.Size([32, 293, 59])\n",
      "Before transform: torch.Size([1, 32, 585])\n",
      "After transform: torch.Size([32, 293, 59])\n",
      "Before transform: torch.Size([1, 32, 585])\n"
     ]
    },
    {
     "name": "stderr",
     "output_type": "stream",
     "text": [
      " 98%|█████████▊| 5869/5976 [01:39<00:02, 41.47it/s]"
     ]
    },
    {
     "name": "stdout",
     "output_type": "stream",
     "text": [
      "After transform: torch.Size([32, 293, 59])\n",
      "Before transform: torch.Size([1, 32, 585])\n",
      "After transform: torch.Size([32, 293, 59])\n",
      "Before transform: torch.Size([1, 32, 585])\n",
      "After transform: torch.Size([32, 293, 59])\n",
      "Before transform: torch.Size([1, 32, 585])\n",
      "After transform: torch.Size([32, 293, 59])\n",
      "Before transform: torch.Size([1, 32, 585])\n",
      "After transform: torch.Size([32, 293, 59])\n",
      "Before transform: torch.Size([1, 32, 585])\n",
      "After transform: torch.Size([32, 293, 59])\n",
      "Before transform: torch.Size([1, 32, 585])\n",
      "After transform: torch.Size([32, 293, 59])\n",
      "Before transform: torch.Size([1, 32, 585])\n",
      "After transform: torch.Size([32, 293, 59])\n",
      "Before transform: torch.Size([1, 32, 585])\n",
      "After transform: torch.Size([32, 293, 59])\n",
      "Before transform: torch.Size([1, 32, 585])\n",
      "After transform: torch.Size([32, 293, 59])\n",
      "Before transform: torch.Size([1, 32, 585])\n",
      "After transform: torch.Size([32, 293, 59])\n",
      "Before transform: torch.Size([1, 32, 585])\n",
      "After transform: torch.Size([32, 293, 59])\n",
      "Before transform: torch.Size([1, 32, 585])\n",
      "After transform: torch.Size([32, 293, 59])\n",
      "Before transform: torch.Size([1, 32, 585])\n",
      "After transform: torch.Size([32, 293, 59])\n",
      "Before transform: torch.Size([1, 32, 585])\n",
      "After transform: torch.Size([32, 293, 59])\n",
      "Before transform: torch.Size([1, 32, 585])\n",
      "After transform: torch.Size([32, 293, 59])\n",
      "Before transform: torch.Size([1, 32, 585])\n"
     ]
    },
    {
     "name": "stderr",
     "output_type": "stream",
     "text": [
      " 98%|█████████▊| 5879/5976 [01:39<00:02, 35.37it/s]"
     ]
    },
    {
     "name": "stdout",
     "output_type": "stream",
     "text": [
      "After transform: torch.Size([32, 293, 59])\n",
      "Before transform: torch.Size([1, 32, 585])\n",
      "After transform: torch.Size([32, 293, 59])\n",
      "Before transform: torch.Size([1, 32, 585])\n",
      "After transform: torch.Size([32, 293, 59])\n",
      "Before transform: torch.Size([1, 32, 585])\n",
      "After transform: torch.Size([32, 293, 59])\n",
      "Before transform: torch.Size([1, 32, 585])\n",
      "After transform: torch.Size([32, 293, 59])\n",
      "Before transform: torch.Size([1, 32, 585])\n",
      "After transform: torch.Size([32, 293, 59])\n",
      "Before transform: torch.Size([1, 32, 585])\n",
      "After transform: torch.Size([32, 293, 59])\n",
      "Before transform: torch.Size([1, 32, 585])\n",
      "After transform: torch.Size([32, 293, 59])\n",
      "Before transform: torch.Size([1, 32, 585])\n",
      "After transform: torch.Size([32, 293, 59])\n",
      "Before transform: torch.Size([1, 32, 585])\n",
      "After transform: torch.Size([32, 293, 59])\n",
      "Before transform: torch.Size([1, 32, 585])\n"
     ]
    },
    {
     "name": "stderr",
     "output_type": "stream",
     "text": [
      " 99%|█████████▊| 5890/5976 [01:39<00:02, 38.13it/s]"
     ]
    },
    {
     "name": "stdout",
     "output_type": "stream",
     "text": [
      "After transform: torch.Size([32, 293, 59])\n",
      "Before transform: torch.Size([1, 32, 585])\n",
      "After transform: torch.Size([32, 293, 59])\n",
      "Before transform: torch.Size([1, 32, 585])\n",
      "After transform: torch.Size([32, 293, 59])\n",
      "Before transform: torch.Size([1, 32, 585])\n",
      "After transform: torch.Size([32, 293, 59])\n",
      "Before transform: torch.Size([1, 32, 585])\n",
      "After transform: torch.Size([32, 293, 59])\n",
      "Before transform: torch.Size([1, 32, 585])\n",
      "After transform: torch.Size([32, 293, 59])\n",
      "Before transform: torch.Size([1, 32, 585])\n",
      "After transform: torch.Size([32, 293, 59])\n",
      "Before transform: torch.Size([1, 32, 585])\n",
      "After transform: torch.Size([32, 293, 59])\n",
      "Before transform: torch.Size([1, 32, 585])\n"
     ]
    },
    {
     "name": "stderr",
     "output_type": "stream",
     "text": [
      " 99%|█████████▊| 5901/5976 [01:39<00:01, 43.64it/s]"
     ]
    },
    {
     "name": "stdout",
     "output_type": "stream",
     "text": [
      "After transform: torch.Size([32, 293, 59])\n",
      "Before transform: torch.Size([1, 32, 585])\n",
      "After transform: torch.Size([32, 293, 59])\n",
      "Before transform: torch.Size([1, 32, 585])\n",
      "After transform: torch.Size([32, 293, 59])\n",
      "Before transform: torch.Size([1, 32, 585])\n",
      "After transform: torch.Size([32, 293, 59])\n",
      "Before transform: torch.Size([1, 32, 585])\n",
      "After transform: torch.Size([32, 293, 59])\n",
      "Before transform: torch.Size([1, 32, 585])\n",
      "After transform: torch.Size([32, 293, 59])\n",
      "Before transform: torch.Size([1, 32, 585])\n",
      "After transform: torch.Size([32, 293, 59])\n",
      "Before transform: torch.Size([1, 32, 585])\n",
      "After transform: torch.Size([32, 293, 59])\n",
      "Before transform: torch.Size([1, 32, 585])\n",
      "After transform: torch.Size([32, 293, 59])\n",
      "Before transform: torch.Size([1, 32, 585])\n",
      "After transform: torch.Size([32, 293, 59])\n",
      "Before transform: torch.Size([1, 32, 585])\n"
     ]
    },
    {
     "name": "stderr",
     "output_type": "stream",
     "text": [
      " 99%|█████████▉| 5906/5976 [01:40<00:01, 35.20it/s]"
     ]
    },
    {
     "name": "stdout",
     "output_type": "stream",
     "text": [
      "After transform: torch.Size([32, 293, 59])\n",
      "Before transform: torch.Size([1, 32, 585])\n",
      "After transform: torch.Size([32, 293, 59])\n",
      "Before transform: torch.Size([1, 32, 585])\n",
      "After transform: torch.Size([32, 293, 59])\n",
      "Before transform: torch.Size([1, 32, 585])\n",
      "After transform: torch.Size([32, 293, 59])\n",
      "Before transform: torch.Size([1, 32, 585])\n",
      "After transform: torch.Size([32, 293, 59])\n",
      "Before transform: torch.Size([1, 32, 585])\n"
     ]
    },
    {
     "name": "stderr",
     "output_type": "stream",
     "text": [
      " 99%|█████████▉| 5910/5976 [01:40<00:02, 22.17it/s]"
     ]
    },
    {
     "name": "stdout",
     "output_type": "stream",
     "text": [
      "After transform: torch.Size([32, 293, 59])\n",
      "Before transform: torch.Size([1, 32, 585])\n",
      "After transform: torch.Size([32, 293, 59])\n",
      "Before transform: torch.Size([1, 32, 585])\n",
      "After transform: torch.Size([32, 293, 59])\n",
      "Before transform: torch.Size([1, 32, 585])\n",
      "After transform: torch.Size([32, 293, 59])\n",
      "Before transform: torch.Size([1, 32, 585])\n",
      "After transform: torch.Size([32, 293, 59])\n",
      "Before transform: torch.Size([1, 32, 585])\n"
     ]
    },
    {
     "name": "stderr",
     "output_type": "stream",
     "text": [
      " 99%|█████████▉| 5919/5976 [01:40<00:02, 27.98it/s]"
     ]
    },
    {
     "name": "stdout",
     "output_type": "stream",
     "text": [
      "After transform: torch.Size([32, 293, 59])\n",
      "Before transform: torch.Size([1, 32, 585])\n",
      "After transform: torch.Size([32, 293, 59])\n",
      "Before transform: torch.Size([1, 32, 585])\n",
      "After transform: torch.Size([32, 293, 59])\n",
      "Before transform: torch.Size([1, 32, 585])\n",
      "After transform: torch.Size([32, 293, 59])\n",
      "Before transform: torch.Size([1, 32, 585])\n",
      "After transform: torch.Size([32, 293, 59])\n",
      "Before transform: torch.Size([1, 32, 585])\n",
      "After transform: torch.Size([32, 293, 59])\n",
      "Before transform: torch.Size([1, 32, 585])\n",
      "After transform: torch.Size([32, 293, 59])\n",
      "Before transform: torch.Size([1, 32, 585])\n",
      "After transform: torch.Size([32, 293, 59])\n",
      "Before transform: torch.Size([1, 32, 585])\n",
      "After transform: torch.Size([32, 293, 59])\n",
      "Before transform: torch.Size([1, 32, 585])\n"
     ]
    },
    {
     "name": "stderr",
     "output_type": "stream",
     "text": [
      " 99%|█████████▉| 5929/5976 [01:41<00:01, 35.16it/s]"
     ]
    },
    {
     "name": "stdout",
     "output_type": "stream",
     "text": [
      "After transform: torch.Size([32, 293, 59])\n",
      "Before transform: torch.Size([1, 32, 585])\n",
      "After transform: torch.Size([32, 293, 59])\n",
      "Before transform: torch.Size([1, 32, 585])\n",
      "After transform: torch.Size([32, 293, 59])\n",
      "Before transform: torch.Size([1, 32, 585])\n",
      "After transform: torch.Size([32, 293, 59])\n",
      "Before transform: torch.Size([1, 32, 585])\n",
      "After transform: torch.Size([32, 293, 59])\n",
      "Before transform: torch.Size([1, 32, 585])\n",
      "After transform: torch.Size([32, 293, 59])\n",
      "Before transform: torch.Size([1, 32, 585])\n",
      "After transform: torch.Size([32, 293, 59])\n",
      "Before transform: torch.Size([1, 32, 585])\n",
      "After transform: torch.Size([32, 293, 59])\n",
      "Before transform: torch.Size([1, 32, 585])\n",
      "After transform: torch.Size([32, 293, 59])\n",
      "Before transform: torch.Size([1, 32, 585])\n"
     ]
    },
    {
     "name": "stderr",
     "output_type": "stream",
     "text": [
      " 99%|█████████▉| 5934/5976 [01:41<00:01, 37.73it/s]"
     ]
    },
    {
     "name": "stdout",
     "output_type": "stream",
     "text": [
      "After transform: torch.Size([32, 293, 59])\n",
      "Before transform: torch.Size([1, 32, 585])\n",
      "After transform: torch.Size([32, 293, 59])\n",
      "Before transform: torch.Size([1, 32, 585])\n",
      "After transform: torch.Size([32, 293, 59])\n",
      "Before transform: torch.Size([1, 32, 585])\n",
      "After transform: torch.Size([32, 293, 59])\n",
      "Before transform: torch.Size([1, 32, 585])\n",
      "After transform: torch.Size([32, 293, 59])\n",
      "Before transform: torch.Size([1, 32, 585])\n",
      "After transform: torch.Size([32, 293, 59])\n",
      "Before transform: torch.Size([1, 32, 585])\n",
      "After transform: torch.Size([32, 293, 59])\n",
      "Before transform: torch.Size([1, 32, 585])\n",
      "After transform: torch.Size([32, 293, 59])\n",
      "Before transform: torch.Size([1, 32, 585])\n",
      "After transform: torch.Size([32, 293, 59])\n",
      "Before transform: torch.Size([1, 32, 585])\n",
      "After transform: torch.Size([32, 293, 59])\n",
      "Before transform: torch.Size([1, 32, 585])\n"
     ]
    },
    {
     "name": "stderr",
     "output_type": "stream",
     "text": [
      " 99%|█████████▉| 5946/5976 [01:41<00:00, 43.08it/s]"
     ]
    },
    {
     "name": "stdout",
     "output_type": "stream",
     "text": [
      "After transform: torch.Size([32, 293, 59])\n",
      "Before transform: torch.Size([1, 32, 585])\n",
      "After transform: torch.Size([32, 293, 59])\n",
      "Before transform: torch.Size([1, 32, 585])\n",
      "After transform: torch.Size([32, 293, 59])\n",
      "Before transform: torch.Size([1, 32, 585])\n",
      "After transform: torch.Size([32, 293, 59])\n",
      "Before transform: torch.Size([1, 32, 585])\n",
      "After transform: torch.Size([32, 293, 59])\n",
      "Before transform: torch.Size([1, 32, 585])\n",
      "After transform: torch.Size([32, 293, 59])\n",
      "Before transform: torch.Size([1, 32, 585])\n",
      "After transform: torch.Size([32, 293, 59])\n",
      "Before transform: torch.Size([1, 32, 585])\n",
      "After transform: torch.Size([32, 293, 59])\n",
      "Before transform: torch.Size([1, 32, 585])\n",
      "After transform: torch.Size([32, 293, 59])\n",
      "Before transform: torch.Size([1, 32, 585])\n",
      "After transform: torch.Size([32, 293, 59])\n",
      "Before transform: torch.Size([1, 32, 585])\n"
     ]
    },
    {
     "name": "stderr",
     "output_type": "stream",
     "text": [
      "100%|█████████▉| 5956/5976 [01:41<00:00, 35.92it/s]"
     ]
    },
    {
     "name": "stdout",
     "output_type": "stream",
     "text": [
      "After transform: torch.Size([32, 293, 59])\n",
      "Before transform: torch.Size([1, 32, 585])\n",
      "After transform: torch.Size([32, 293, 59])\n",
      "Before transform: torch.Size([1, 32, 585])\n",
      "After transform: torch.Size([32, 293, 59])\n",
      "Before transform: torch.Size([1, 32, 585])\n",
      "After transform: torch.Size([32, 293, 59])\n",
      "Before transform: torch.Size([1, 32, 585])\n",
      "After transform: torch.Size([32, 293, 59])\n",
      "Before transform: torch.Size([1, 32, 585])\n",
      "After transform: torch.Size([32, 293, 59])\n",
      "Before transform: torch.Size([1, 32, 585])\n",
      "After transform: torch.Size([32, 293, 59])\n",
      "Before transform: torch.Size([1, 32, 585])\n",
      "After transform: torch.Size([32, 293, 59])\n",
      "Before transform: torch.Size([1, 32, 585])\n"
     ]
    },
    {
     "name": "stderr",
     "output_type": "stream",
     "text": [
      "100%|█████████▉| 5966/5976 [01:41<00:00, 40.18it/s]"
     ]
    },
    {
     "name": "stdout",
     "output_type": "stream",
     "text": [
      "After transform: torch.Size([32, 293, 59])\n",
      "Before transform: torch.Size([1, 32, 585])\n",
      "After transform: torch.Size([32, 293, 59])\n",
      "Before transform: torch.Size([1, 32, 585])\n",
      "After transform: torch.Size([32, 293, 59])\n",
      "Before transform: torch.Size([1, 32, 585])\n",
      "After transform: torch.Size([32, 293, 59])\n",
      "Before transform: torch.Size([1, 32, 585])\n",
      "After transform: torch.Size([32, 293, 59])\n",
      "Before transform: torch.Size([1, 32, 585])\n",
      "After transform: torch.Size([32, 293, 59])\n",
      "Before transform: torch.Size([1, 32, 585])\n",
      "After transform: torch.Size([32, 293, 59])\n",
      "Before transform: torch.Size([1, 32, 585])\n",
      "After transform: torch.Size([32, 293, 59])\n",
      "Before transform: torch.Size([1, 32, 585])\n",
      "After transform: torch.Size([32, 293, 59])\n",
      "Before transform: torch.Size([1, 32, 585])\n",
      "After transform: torch.Size([32, 293, 59])\n",
      "Before transform: torch.Size([1, 32, 585])\n"
     ]
    },
    {
     "name": "stderr",
     "output_type": "stream",
     "text": [
      "100%|██████████| 5976/5976 [01:42<00:00, 58.52it/s]\n"
     ]
    },
    {
     "name": "stdout",
     "output_type": "stream",
     "text": [
      "After transform: torch.Size([32, 293, 59])\n",
      "Before transform: torch.Size([1, 32, 585])\n",
      "After transform: torch.Size([32, 293, 59])\n",
      "Before transform: torch.Size([1, 32, 585])\n",
      "After transform: torch.Size([32, 293, 59])\n",
      "Before transform: torch.Size([1, 32, 585])\n",
      "After transform: torch.Size([32, 293, 59])\n",
      "Before transform: torch.Size([1, 32, 585])\n",
      "After transform: torch.Size([32, 293, 59])\n",
      "Before transform: torch.Size([1, 32, 585])\n",
      "After transform: torch.Size([32, 293, 59])\n",
      "Before transform: torch.Size([1, 32, 585])\n",
      "After transform: torch.Size([32, 293, 59])\n",
      "Before transform: torch.Size([1, 32, 585])\n",
      "After transform: torch.Size([32, 293, 59])\n",
      "Before transform: torch.Size([1, 32, 585])\n",
      "After transform: torch.Size([32, 293, 59])\n"
     ]
    }
   ],
   "source": [
    "win_size = 585\n",
    "win_step = 59\n",
    "n_fft = win_size\n",
    "hop_length = 10\n",
    "dataset = TimeseriesDataset(\n",
    "    load_x_func=load_absd_ecog,\n",
    "    load_x_args={\"absd_dir\": absd_dir},\n",
    "    load_y_func=load_absd_states,\n",
    "    load_y_args={\"absd_dir\": absd_dir},\n",
    "    n_samples_step=win_step,\n",
    "    n_samples_win=win_size,\n",
    "    x_preprocess=T.Compose(\n",
    "        [\n",
    "            MNEFilter(sfreq=SFREQ, l_freq=1, h_freq=200, notch_freqs=np.arange(50, 201, 50), apply_car=True),\n",
    "            torchvision.transforms.ToTensor(),\n",
    "        ],\n",
    "    ),\n",
    "    y_preprocess=T.Compose(\n",
    "        [],\n",
    "    ),\n",
    "    x_transform=T.Compose( \n",
    "        [\n",
    "            # we first push to GPU, then apply transforms\n",
    "            lambda x: x.to(DEVICE),\n",
    "            # needs to be adjusted to the desired output size (FREQ_BINS, TIME_BINS)\n",
    "            torchaudio.transforms.Spectrogram(\n",
    "                n_fft=n_fft,\n",
    "                win_length=n_fft,\n",
    "                hop_length=hop_length,\n",
    "                center=True,\n",
    "                window_fn=lambda x: torch.hann_window(x).to(DEVICE),\n",
    "            ),\n",
    "            lambda x: x.squeeze(0).float(),\n",
    "        ]\n",
    "    ),\n",
    "    y_transform=T.Compose(\n",
    "        [\n",
    "            lambda x: torch.tensor(x).to(DEVICE),\n",
    "            # for the sake of this example, we take the last state value\n",
    "            lambda x: x[..., -1].flatten().float(),\n",
    "        ]\n",
    "    ),\n",
    "    precompute=True,\n",
    ")"
   ]
  },
  {
   "cell_type": "code",
   "execution_count": 8,
   "metadata": {},
   "outputs": [
    {
     "name": "stdout",
     "output_type": "stream",
     "text": [
      "<class 'lighthouse.data_loader.torch_dataset.TimeseriesDataset'>\n"
     ]
    }
   ],
   "source": [
    "print(type(dataset))"
   ]
  },
  {
   "cell_type": "code",
   "execution_count": 9,
   "metadata": {},
   "outputs": [],
   "source": [
    "dataloader = torch.utils.data.DataLoader(dataset, batch_size=8, shuffle=False)"
   ]
  },
  {
   "cell_type": "code",
   "execution_count": 10,
   "metadata": {},
   "outputs": [],
   "source": [
    "X, y = next(iter(dataloader))"
   ]
  },
  {
   "cell_type": "code",
   "execution_count": 11,
   "metadata": {},
   "outputs": [
    {
     "data": {
      "text/plain": [
       "(torch.Size([8, 32, 293, 59]), torch.Size([8, 13]))"
      ]
     },
     "execution_count": 11,
     "metadata": {},
     "output_type": "execute_result"
    }
   ],
   "source": [
    "X.shape, y.shape"
   ]
  },
  {
   "cell_type": "code",
   "execution_count": 12,
   "metadata": {},
   "outputs": [
    {
     "data": {
      "text/plain": [
       "tensor([1., 0., 0., 0., 0., 0., 0., 0., 0., 0., 0., 0., 0.])"
      ]
     },
     "execution_count": 12,
     "metadata": {},
     "output_type": "execute_result"
    }
   ],
   "source": [
    "y[0]"
   ]
  },
  {
   "cell_type": "code",
   "execution_count": null,
   "metadata": {},
   "outputs": [],
   "source": []
  }
 ],
 "metadata": {
  "kernelspec": {
   "display_name": "Python 3",
   "language": "python",
   "name": "python3"
  },
  "language_info": {
   "codemirror_mode": {
    "name": "ipython",
    "version": 3
   },
   "file_extension": ".py",
   "mimetype": "text/x-python",
   "name": "python",
   "nbconvert_exporter": "python",
   "pygments_lexer": "ipython3",
   "version": "3.10.9"
  }
 },
 "nbformat": 4,
 "nbformat_minor": 2
}
