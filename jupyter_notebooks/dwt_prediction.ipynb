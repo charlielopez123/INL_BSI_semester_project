{
 "cells": [
  {
   "cell_type": "markdown",
   "metadata": {},
   "source": [
    "Based On Arshia Azfal's Code: Based Arshia Azfal's code: Training the Vision Transformer model to classify the intended upperlimb movement using discrete wavelet features. Preprocessing of the data using Etienne Montalivet's MNEFilter."
   ]
  },
  {
   "cell_type": "code",
   "execution_count": 1,
   "metadata": {
    "executionInfo": {
     "elapsed": 3108,
     "status": "ok",
     "timestamp": 1731532692890,
     "user": {
      "displayName": "Theo Maetz",
      "userId": "01265100961774375470"
     },
     "user_tz": -60
    },
    "id": "m5MJnHN8kEzq"
   },
   "outputs": [],
   "source": [
    "!pip install -q PyWavelets torch_geometric lightning wandb mne"
   ]
  },
  {
   "cell_type": "code",
   "execution_count": 2,
   "metadata": {
    "colab": {
     "base_uri": "https://localhost:8080/"
    },
    "executionInfo": {
     "elapsed": 8886,
     "status": "ok",
     "timestamp": 1731532701771,
     "user": {
      "displayName": "Theo Maetz",
      "userId": "01265100961774375470"
     },
     "user_tz": -60
    },
    "id": "K_iTx-SBkUYG",
    "outputId": "f6abae0f-ab69-47b1-e8ed-4980919e7d19"
   },
   "outputs": [
    {
     "name": "stdout",
     "output_type": "stream",
     "text": [
      "Drive already mounted at /content/drive; to attempt to forcibly remount, call drive.mount(\"/content/drive\", force_remount=True).\n"
     ]
    }
   ],
   "source": [
    "from google.colab import drive\n",
    "drive.mount('/content/drive')\n",
    "import torch\n",
    "import numpy as np\n",
    "import glob\n",
    "import os\n",
    "from tqdm import tqdm\n",
    "import csv\n",
    "import random\n",
    "import h5py\n",
    "import sys\n",
    "import pywt\n",
    "\n",
    "from torch.profiler import profile, record_function, ProfilerActivity\n",
    "\n",
    "import torch.nn.functional as F\n",
    "import scipy.io as sio\n",
    "\n",
    "from torch_geometric.nn import GCNConv\n",
    "from torch_geometric.nn import global_mean_pool\n",
    "from torch_geometric.nn import global_max_pool\n",
    "from torch_geometric.data import Data\n",
    "import lightning as L\n",
    "\n",
    "from torch_geometric.loader import DataLoader\n",
    "\n",
    "import torch.optim as optim\n",
    "from torch.optim.lr_scheduler import CosineAnnealingLR\n",
    "\n",
    "import wandb\n",
    "\n",
    "import matplotlib.pyplot as plt\n",
    "import time\n",
    "\n",
    "import torch.nn as nn\n",
    "import torch.nn.functional as F\n",
    "import torch.optim as optim\n",
    "import torch.utils.data as data\n",
    "\n",
    "from torchmetrics.classification import MulticlassF1Score"
   ]
  },
  {
   "cell_type": "code",
   "execution_count": 3,
   "metadata": {
    "executionInfo": {
     "elapsed": 8,
     "status": "ok",
     "timestamp": 1731532701772,
     "user": {
      "displayName": "Theo Maetz",
      "userId": "01265100961774375470"
     },
     "user_tz": -60
    },
    "id": "BvBnXatika20"
   },
   "outputs": [],
   "source": [
    "import sys\n",
    "sys.path.append('/content/drive/MyDrive/Colab Notebooks/INL')\n",
    "from transform import MNEFilter\n",
    "import mne"
   ]
  },
  {
   "cell_type": "code",
   "execution_count": 26,
   "metadata": {
    "executionInfo": {
     "elapsed": 377,
     "status": "ok",
     "timestamp": 1731539405049,
     "user": {
      "displayName": "Theo Maetz",
      "userId": "01265100961774375470"
     },
     "user_tz": -60
    },
    "id": "wYGUhNkwkoRL"
   },
   "outputs": [],
   "source": [
    "fs = 590 #Sampling frequency\n",
    "n_ecogs = 31 #number of ecog channels\n",
    "window_duration = 3 #seconds\n",
    "num_classes = 6"
   ]
  },
  {
   "cell_type": "code",
   "execution_count": 5,
   "metadata": {
    "executionInfo": {
     "elapsed": 55440,
     "status": "ok",
     "timestamp": 1731532757206,
     "user": {
      "displayName": "Theo Maetz",
      "userId": "01265100961774375470"
     },
     "user_tz": -60
    },
    "id": "QnB0RUEYmREJ"
   },
   "outputs": [],
   "source": [
    "y = np.load('/content/drive/MyDrive/Colab Notebooks/INL/processed_data/label2.npy')\n",
    "X_train =  np.load('/content/drive/MyDrive/Colab Notebooks/INL/processed_data/X_train2.npy')\n",
    "\n",
    "\n",
    "y_test = np.load('/content/drive/MyDrive/Colab Notebooks/INL/processed_data/label_test.npy')\n",
    "X_test =  np.load('/content/drive/MyDrive/Colab Notebooks/INL/processed_data/X_test.npy')"
   ]
  },
  {
   "cell_type": "code",
   "execution_count": 6,
   "metadata": {
    "colab": {
     "base_uri": "https://localhost:8080/"
    },
    "executionInfo": {
     "elapsed": 11,
     "status": "ok",
     "timestamp": 1731532757206,
     "user": {
      "displayName": "Theo Maetz",
      "userId": "01265100961774375470"
     },
     "user_tz": -60
    },
    "id": "2Cr9lFUyRIi-",
    "outputId": "f9977f6b-7124-4919-942f-7afc3d4c7849"
   },
   "outputs": [
    {
     "data": {
      "text/plain": [
       "(11730, 31, 1770)"
      ]
     },
     "execution_count": 6,
     "metadata": {},
     "output_type": "execute_result"
    }
   ],
   "source": [
    "X_train.shape"
   ]
  },
  {
   "cell_type": "code",
   "execution_count": 7,
   "metadata": {
    "executionInfo": {
     "elapsed": 9,
     "status": "ok",
     "timestamp": 1731532757207,
     "user": {
      "displayName": "Theo Maetz",
      "userId": "01265100961774375470"
     },
     "user_tz": -60
    },
    "id": "r_eoGG3iQJPp"
   },
   "outputs": [],
   "source": [
    "#Preprocess the data before reshaping for the Transformer\n",
    "sfreq=fs\n",
    "l_freq=1\n",
    "h_freq=200\n",
    "notch_freqs=[50, 100, 150, 200]\n",
    "apply_car=True\n",
    "\n",
    "mne_filter = MNEFilter(sfreq=sfreq, l_freq=l_freq, h_freq=h_freq, notch_freqs=notch_freqs, apply_car=apply_car)"
   ]
  },
  {
   "cell_type": "code",
   "execution_count": 8,
   "metadata": {
    "colab": {
     "base_uri": "https://localhost:8080/"
    },
    "executionInfo": {
     "elapsed": 583549,
     "status": "ok",
     "timestamp": 1731533340747,
     "user": {
      "displayName": "Theo Maetz",
      "userId": "01265100961774375470"
     },
     "user_tz": -60
    },
    "id": "sfkr0oUuU1oJ",
    "outputId": "a62b24cd-c0a0-4f74-9e82-1562cbaaf977"
   },
   "outputs": [
    {
     "name": "stderr",
     "output_type": "stream",
     "text": [
      "100%|██████████| 11730/11730 [08:10<00:00, 23.91it/s]\n",
      "100%|██████████| 2237/2237 [01:33<00:00, 24.04it/s]\n"
     ]
    }
   ],
   "source": [
    "filtered_data_train = []\n",
    "filtered_data_test = []\n",
    "\"\"\"\n",
    "mne.set_log_level(\"error\")\n",
    "for window in tqdm(X_train):\n",
    "  filtered_window = mne_filter(window)\n",
    "  filtered_data_train.append(filtered_window)\n",
    "\n",
    "for window in tqdm(X_test):\n",
    "  filtered_window = mne_filter(window)\n",
    "  filtered_data_test.append(filtered_window)\n",
    "\"\"\"\n",
    "\n",
    "filtered_data_train = X_train\n",
    "filtered_data_test = X_test"
   ]
  },
  {
   "cell_type": "code",
   "execution_count": 9,
   "metadata": {
    "colab": {
     "base_uri": "https://localhost:8080/"
    },
    "executionInfo": {
     "elapsed": 23,
     "status": "ok",
     "timestamp": 1731533340748,
     "user": {
      "displayName": "Theo Maetz",
      "userId": "01265100961774375470"
     },
     "user_tz": -60
    },
    "id": "8Z23D3L1i87m",
    "outputId": "a40d4134-b742-40a8-d3c5-92788f76ef60"
   },
   "outputs": [
    {
     "name": "stdout",
     "output_type": "stream",
     "text": [
      "11730\n",
      "2237\n"
     ]
    }
   ],
   "source": [
    "print(len(filtered_data_train))\n",
    "print(len(filtered_data_test))"
   ]
  },
  {
   "cell_type": "code",
   "execution_count": 10,
   "metadata": {
    "colab": {
     "base_uri": "https://localhost:8080/"
    },
    "executionInfo": {
     "elapsed": 2984,
     "status": "ok",
     "timestamp": 1731533343717,
     "user": {
      "displayName": "Theo Maetz",
      "userId": "01265100961774375470"
     },
     "user_tz": -60
    },
    "id": "ZcF7EDtYqOl9",
    "outputId": "883303e5-9840-497b-858a-0acb3a70d567"
   },
   "outputs": [
    {
     "data": {
      "text/plain": [
       "(11730, 31, 1770)"
      ]
     },
     "execution_count": 10,
     "metadata": {},
     "output_type": "execute_result"
    }
   ],
   "source": [
    "np.array(filtered_data_train).shape"
   ]
  },
  {
   "cell_type": "code",
   "execution_count": 11,
   "metadata": {
    "executionInfo": {
     "elapsed": 1242,
     "status": "ok",
     "timestamp": 1731533344955,
     "user": {
      "displayName": "Theo Maetz",
      "userId": "01265100961774375470"
     },
     "user_tz": -60
    },
    "id": "BvbJKxUAp4FG"
   },
   "outputs": [],
   "source": [
    "X_train = np.array(filtered_data_train).reshape(-1, n_ecogs * window_duration,fs)\n",
    "X_test = np.array(filtered_data_test).reshape(-1,n_ecogs * window_duration,fs)"
   ]
  },
  {
   "cell_type": "code",
   "execution_count": 12,
   "metadata": {
    "colab": {
     "base_uri": "https://localhost:8080/"
    },
    "executionInfo": {
     "elapsed": 1361,
     "status": "ok",
     "timestamp": 1731533346304,
     "user": {
      "displayName": "Theo Maetz",
      "userId": "01265100961774375470"
     },
     "user_tz": -60
    },
    "id": "wZ7eBBWzmWkk",
    "outputId": "c2619230-ee21-4496-f247-0a9b28c02e68"
   },
   "outputs": [
    {
     "name": "stderr",
     "output_type": "stream",
     "text": [
      "100%|██████████| 11730/11730 [00:01<00:00, 8407.32it/s] \n",
      "100%|██████████| 2237/2237 [00:00<00:00, 12486.52it/s]\n"
     ]
    }
   ],
   "source": [
    "dataset = []\n",
    "\n",
    "for idx in tqdm(range(X_train.shape[0])):\n",
    "    eeg_clip = X_train[idx,:,:]\n",
    "    label = y[idx]\n",
    "    if label == 7 or label == 4: #ignore label 7, which produces weird results\n",
    "        continue\n",
    "    if label >= 5:\n",
    "      label = label - 1 #Remap to remove wrist supination\n",
    "    dataset.append((torch.tensor(eeg_clip).float(), torch.tensor((label), dtype=torch.long)))\n",
    "\n",
    "random.shuffle(dataset)\n",
    "\n",
    "\n",
    "dataset_test = []\n",
    "\n",
    "for idx in tqdm(range(X_test.shape[0])):\n",
    "    eeg_clip = X_test[idx,:,:]\n",
    "    label = y_test[idx]\n",
    "    if label == 7 or label == 4: #ignore label 7\n",
    "        continue\n",
    "    if label >= 5:\n",
    "      label = label - 1 #Remap to remove wrist supination\n",
    "    dataset_test.append( ( torch.tensor(eeg_clip).float(), torch.tensor((label) , dtype=torch.long) ) )\n",
    "\n",
    "random.shuffle(dataset_test)"
   ]
  },
  {
   "cell_type": "code",
   "execution_count": 13,
   "metadata": {
    "colab": {
     "base_uri": "https://localhost:8080/"
    },
    "executionInfo": {
     "elapsed": 17,
     "status": "ok",
     "timestamp": 1731533346305,
     "user": {
      "displayName": "Theo Maetz",
      "userId": "01265100961774375470"
     },
     "user_tz": -60
    },
    "id": "As_2CFVjmXc8",
    "outputId": "9e590532-b77f-4e51-e49d-8e145f58dec6"
   },
   "outputs": [
    {
     "name": "stderr",
     "output_type": "stream",
     "text": [
      "/usr/local/lib/python3.10/dist-packages/torch/utils/data/dataloader.py:617: UserWarning: This DataLoader will create 11 worker processes in total. Our suggested max number of worker in current system is 8, which is smaller than what this DataLoader is going to create. Please be aware that excessive worker creation might get DataLoader running slow or even freeze, lower the worker number to avoid potential slowness/freeze if necessary.\n",
      "  warnings.warn(\n"
     ]
    }
   ],
   "source": [
    "train_dataloader = DataLoader(dataset , batch_size = 8, num_workers=11 )\n",
    "test_dataloader = DataLoader(dataset_test , batch_size = 8, num_workers=11  )"
   ]
  },
  {
   "cell_type": "code",
   "execution_count": 14,
   "metadata": {
    "executionInfo": {
     "elapsed": 14,
     "status": "ok",
     "timestamp": 1731533346305,
     "user": {
      "displayName": "Theo Maetz",
      "userId": "01265100961774375470"
     },
     "user_tz": -60
    },
    "id": "ERtP6-ZNmdaM"
   },
   "outputs": [],
   "source": [
    "class AttentionBlock(nn.Module):\n",
    "    def __init__(self, embed_dim, hidden_dim, num_heads, dropout=0.0):\n",
    "        \"\"\"Attention Block.\n",
    "\n",
    "        Args:\n",
    "            embed_dim: Dimensionality of input and attention feature vectors\n",
    "            hidden_dim: Dimensionality of hidden layer in feed-forward network\n",
    "                         (usually 2-4x larger than embed_dim)\n",
    "            num_heads: Number of heads to use in the Multi-Head Attention block\n",
    "            dropout: Amount of dropout to apply in the feed-forward network\n",
    "        \"\"\"\n",
    "        super().__init__()\n",
    "\n",
    "\n",
    "        self.layer_norm_1 = nn.LayerNorm(embed_dim)\n",
    "        self.attn = nn.MultiheadAttention(embed_dim, num_heads)\n",
    "        self.layer_norm_2 = nn.LayerNorm(embed_dim)\n",
    "        self.linear = nn.Sequential(\n",
    "            nn.Linear(embed_dim, hidden_dim),\n",
    "            nn.GELU(),\n",
    "            nn.Dropout(dropout),\n",
    "            nn.Linear(hidden_dim, embed_dim),\n",
    "            nn.Dropout(dropout),\n",
    "        )\n",
    "\n",
    "    def forward(self, x):\n",
    "        inp_x = self.layer_norm_1(x)\n",
    "        x = x + self.attn(inp_x, inp_x, inp_x)[0]\n",
    "        x = x + self.linear(self.layer_norm_2(x))\n",
    "        return x\n",
    "\n",
    "\n",
    "\n",
    "class VisionTransformer(nn.Module):\n",
    "    def __init__(\n",
    "        self,\n",
    "        embed_dim,\n",
    "        hidden_dim,\n",
    "        num_t_pints,\n",
    "        num_heads,\n",
    "        num_layers,\n",
    "        num_classes,\n",
    "        num_patches,\n",
    "        num_scales,\n",
    "        dropout=0.0,\n",
    "        wavelet='db4',\n",
    "        device = 'cpu'\n",
    "    ):\n",
    "        \"\"\"Vision Transformer.\n",
    "\n",
    "        Args:\n",
    "            embed_dim: Dimensionality of the input feature vectors to the Transformer\n",
    "            hidden_dim: Dimensionality of the hidden layer in the feed-forward networks\n",
    "                         within the Transformer\n",
    "            num_channels: Number of channels of the input (3 for RGB)\n",
    "            num_heads: Number of heads to use in the Multi-Head Attention block\n",
    "            num_layers: Number of layers to use in the Transformer\n",
    "            num_classes: Number of classes to predict\n",
    "            patch_size: Number of pixels that the patches have per dimension\n",
    "            num_patches: Maximum number of patches an image can have\n",
    "            dropout: Amount of dropout to apply in the feed-forward network and\n",
    "                      on the input encoding\n",
    "        \"\"\"\n",
    "        super().__init__()\n",
    "\n",
    "        self.device = device\n",
    "\n",
    "        #self.mne_filter = MNEFilter()\n",
    "\n",
    "        self.input_layer = nn.Linear(num_t_pints  , embed_dim)\n",
    "        self.transformer = nn.Sequential(\n",
    "            *(AttentionBlock(embed_dim, hidden_dim, num_heads, dropout=dropout) for _ in range(num_layers))\n",
    "        )\n",
    "        self.mlp_head = nn.Sequential(nn.LayerNorm(embed_dim), nn.Linear(embed_dim, num_classes))\n",
    "        self.dropout = nn.Dropout(dropout)\n",
    "\n",
    "        # Parameters/Embeddings\n",
    "        self.cls_token = nn.Parameter(torch.randn(1, 1, embed_dim))\n",
    "        self.pos_embedding = nn.Parameter(torch.randn(1, 1 + (num_patches * num_scales), embed_dim))\n",
    "        self.scales = np.arange(1, num_scales + 1)\n",
    "        self.num_patches = num_patches\n",
    "        self.num_scales = num_scales\n",
    "        self.num_t_pints = num_t_pints\n",
    "        self.wavelet = wavelet\n",
    "        device = 'cpu'\n",
    "\n",
    "    def forward(self, x):\n",
    "        # Preprocess input\n",
    "        #x = torch.stack([torch.from_numpy(self.mne_filter(sample.cpu().numpy())) for sample in x])\n",
    "        #x = x.cuda().float()\n",
    "\n",
    "        #x = torch.log( torch.abs( torch.fft.fft(x , dim=-1) ) + 1e-10 )\n",
    "        # Perform DWT\n",
    "        wavelet = 'db4'  # Daubechies wavelet\n",
    "        wavelet_features = []\n",
    "        for batch in x:\n",
    "          batch_features = []\n",
    "          for channel in batch:\n",
    "            coeffs = pywt.wavedec(channel.cpu().numpy(), wavelet, level=4)  # Decompose signal into 4 levels\n",
    "            flattened_coeffs = np.concatenate(coeffs)\n",
    "            batch_features.append(torch.tensor(flattened_coeffs, dtype=torch.float32).to(self.device))\n",
    "        wavelet_features.append(torch.stack(batch_features))  # (n_channels, n_scales, n_samples)\n",
    "        wavelet_features = torch.stack(wavelet_features)\n",
    "\n",
    "\n",
    "        #x = torch.cat( [torch.log(torch.abs( torch.fft.fft(x , dim=-1).imag[:,:,0:295]))  , torch.log(torch.abs(torch.fft.fft(x , dim=-1).real[:,:,0:295]) ) ] , dim=-1)\n",
    "\n",
    "        x = (x - x.mean(dim=-1 , keepdim=True) )/x.std(dim=-1 , keepdim=True)\n",
    "\n",
    "        B, T, _ = x.shape # B Batch, T Timepoints\n",
    "        x = self.input_layer(x)\n",
    "\n",
    "        # Add CLS token and positional encoding\n",
    "        cls_token = self.cls_token.repeat(B, 1, 1)\n",
    "        x = torch.cat([cls_token, x], dim=1)\n",
    "        x = x + self.pos_embedding[:, : T + 1]\n",
    "\n",
    "        # Apply Transforrmer\n",
    "        x = self.dropout(x)\n",
    "        x = x.transpose(0, 1)\n",
    "        x = self.transformer(x)\n",
    "\n",
    "        # Perform classification prediction\n",
    "        cls = x[0]\n",
    "        out = self.mlp_head(cls)\n",
    "        return out\n",
    "\n",
    "\n",
    "\n",
    "\n",
    "class ViT(L.LightningModule):\n",
    "    def __init__(self, model_kwargs):\n",
    "        super().__init__()\n",
    "\n",
    "        self.model = VisionTransformer(**model_kwargs)\n",
    "\n",
    "\n",
    "    def forward(self, x):\n",
    "        return self.model(x)\n",
    "\n",
    "    def configure_optimizers(self):\n",
    "\n",
    "        optimizer = optim.Adam(params=self.parameters(), lr = 1e-3)\n",
    "\n",
    "        scheduler = CosineAnnealingLR(optimizer, T_max = 50)\n",
    "\n",
    "        return [optimizer], [{\"scheduler\": scheduler, \"interval\": \"epoch\"}]\n",
    "\n",
    "\n",
    "    def training_step(self, batch, batch_idx):\n",
    "        imgs, labels = batch\n",
    "        preds = self.model(imgs)\n",
    "        loss = F.cross_entropy(preds, labels)\n",
    "\n",
    "        #wandb.log({ \"Bridge-GPT-Loss\": loss})\n",
    "\n",
    "        return loss"
   ]
  },
  {
   "cell_type": "code",
   "execution_count": 15,
   "metadata": {
    "executionInfo": {
     "elapsed": 14,
     "status": "ok",
     "timestamp": 1731533346306,
     "user": {
      "displayName": "Theo Maetz",
      "userId": "01265100961774375470"
     },
     "user_tz": -60
    },
    "id": "LNMqiQRdY1SC"
   },
   "outputs": [],
   "source": [
    "device = \"cuda\" if torch.cuda.is_available() else \"cpu\""
   ]
  },
  {
   "cell_type": "code",
   "execution_count": 16,
   "metadata": {
    "executionInfo": {
     "elapsed": 14,
     "status": "ok",
     "timestamp": 1731533346306,
     "user": {
      "displayName": "Theo Maetz",
      "userId": "01265100961774375470"
     },
     "user_tz": -60
    },
    "id": "j8VK4gOxzZdf"
   },
   "outputs": [],
   "source": [
    "\"\"\"\n",
    "model_kwargs={\n",
    "        \"embed_dim\": 64,\n",
    "        \"hidden_dim\": 64,\n",
    "        \"num_heads\": 8,\n",
    "        \"num_layers\": 4,\n",
    "        \"num_t_pints\": 590,\n",
    "        \"num_patches\": 93,\n",
    "        \"num_classes\": 7,\n",
    "        \"num_scales\": 128,\n",
    "        \"dropout\": 0.2,\n",
    "    }\n",
    "\"\"\"\n",
    "\n",
    "model_kwargs={\n",
    "        \"embed_dim\": 16,\n",
    "        \"hidden_dim\": 32,\n",
    "        \"num_heads\": 4,\n",
    "        \"num_layers\": 4,\n",
    "        \"num_t_pints\": 590,\n",
    "        \"num_patches\": 93,\n",
    "        \"num_classes\": num_classes,\n",
    "        \"num_scales\": 64,\n",
    "        \"dropout\": 0.2,\n",
    "        \"wavelet\": \"db4\",\n",
    "        \"device\" : device\n",
    "    }\n",
    "\n",
    "model = ViT(model_kwargs)"
   ]
  },
  {
   "cell_type": "code",
   "execution_count": 17,
   "metadata": {
    "colab": {
     "base_uri": "https://localhost:8080/",
     "height": 657,
     "referenced_widgets": [
      "c2884c365b4248d4a16c85faf054df2b",
      "06086d09475f4ac2a66c4691959a7c3b",
      "d094651ac6394dca8acdc825e0a88805",
      "039a9fa3c1ca464cb4b2e82a06918e9e",
      "eb3e90d52a5e4b71818741f839c2eead",
      "cb3bd6b486bf4113aeb59e2cd3507733",
      "4420d39d24c44c10b38ec9119b9be096",
      "d0b4acff6e8d4fa4bd5825ec7ddc00ec",
      "ce3eb3c7636b442fb1235d160f5436d9",
      "82dd248340904a9c9afb2db41473a1ee",
      "e9f184088093429880cbfd91c094b8ad"
     ]
    },
    "executionInfo": {
     "elapsed": 6009552,
     "status": "ok",
     "timestamp": 1731539355845,
     "user": {
      "displayName": "Theo Maetz",
      "userId": "01265100961774375470"
     },
     "user_tz": -60
    },
    "id": "Ee1z_dG1zdHK",
    "outputId": "f281ec95-a6cf-4cd0-8282-2bb73438ff2b"
   },
   "outputs": [
    {
     "name": "stderr",
     "output_type": "stream",
     "text": [
      "INFO: GPU available: False, used: False\n",
      "INFO:lightning.pytorch.utilities.rank_zero:GPU available: False, used: False\n",
      "INFO: TPU available: False, using: 0 TPU cores\n",
      "INFO:lightning.pytorch.utilities.rank_zero:TPU available: False, using: 0 TPU cores\n",
      "INFO: HPU available: False, using: 0 HPUs\n",
      "INFO:lightning.pytorch.utilities.rank_zero:HPU available: False, using: 0 HPUs\n",
      "INFO: \n",
      "  | Name  | Type              | Params | Mode \n",
      "----------------------------------------------------\n",
      "0 | model | VisionTransformer | 113 K  | train\n",
      "----------------------------------------------------\n",
      "113 K     Trainable params\n",
      "0         Non-trainable params\n",
      "113 K     Total params\n",
      "0.455     Total estimated model params size (MB)\n",
      "51        Modules in train mode\n",
      "0         Modules in eval mode\n",
      "INFO:lightning.pytorch.callbacks.model_summary:\n",
      "  | Name  | Type              | Params | Mode \n",
      "----------------------------------------------------\n",
      "0 | model | VisionTransformer | 113 K  | train\n",
      "----------------------------------------------------\n",
      "113 K     Trainable params\n",
      "0         Non-trainable params\n",
      "113 K     Total params\n",
      "0.455     Total estimated model params size (MB)\n",
      "51        Modules in train mode\n",
      "0         Modules in eval mode\n",
      "/usr/local/lib/python3.10/dist-packages/torch/utils/data/dataloader.py:617: UserWarning: This DataLoader will create 11 worker processes in total. Our suggested max number of worker in current system is 8, which is smaller than what this DataLoader is going to create. Please be aware that excessive worker creation might get DataLoader running slow or even freeze, lower the worker number to avoid potential slowness/freeze if necessary.\n",
      "  warnings.warn(\n"
     ]
    },
    {
     "data": {
      "application/vnd.jupyter.widget-view+json": {
       "model_id": "c2884c365b4248d4a16c85faf054df2b",
       "version_major": 2,
       "version_minor": 0
      },
      "text/plain": [
       "Training: |          | 0/? [00:00<?, ?it/s]"
      ]
     },
     "metadata": {},
     "output_type": "display_data"
    },
    {
     "name": "stderr",
     "output_type": "stream",
     "text": [
      "INFO: `Trainer.fit` stopped: `max_epochs=50` reached.\n",
      "INFO:lightning.pytorch.utilities.rank_zero:`Trainer.fit` stopped: `max_epochs=50` reached.\n"
     ]
    }
   ],
   "source": [
    "trainer = L.Trainer(max_epochs= 50 , devices= 1, accelerator=device)\n",
    "\n",
    "trainer.fit(model, train_dataloader)"
   ]
  },
  {
   "cell_type": "code",
   "execution_count": 27,
   "metadata": {
    "colab": {
     "base_uri": "https://localhost:8080/"
    },
    "executionInfo": {
     "elapsed": 20596,
     "status": "ok",
     "timestamp": 1731539437233,
     "user": {
      "displayName": "Theo Maetz",
      "userId": "01265100961774375470"
     },
     "user_tz": -60
    },
    "id": "MWGO50tyzfAF",
    "outputId": "7ad8e960-690b-49ae-b8f6-764769fee531"
   },
   "outputs": [
    {
     "name": "stderr",
     "output_type": "stream",
     "text": [
      "\r  0%|          | 0/278 [00:00<?, ?it/s]/usr/local/lib/python3.10/dist-packages/torch/utils/data/dataloader.py:617: UserWarning: This DataLoader will create 11 worker processes in total. Our suggested max number of worker in current system is 8, which is smaller than what this DataLoader is going to create. Please be aware that excessive worker creation might get DataLoader running slow or even freeze, lower the worker number to avoid potential slowness/freeze if necessary.\n",
      "  warnings.warn(\n",
      "100%|██████████| 278/278 [00:19<00:00, 13.99it/s]\n"
     ]
    }
   ],
   "source": [
    "import pytorch_lightning\n",
    "\n",
    "torch.seed()\n",
    "np.random.seed(120)\n",
    "random.seed(123)\n",
    "pytorch_lightning.utilities.seed\n",
    "\n",
    "model.to(device)\n",
    "l = [] #labels\n",
    "gt = [] #ground thruth\n",
    "\n",
    "for data in (tqdm(test_dataloader)):\n",
    "\n",
    "    out = model(data[0].to(device))\n",
    "\n",
    "    l.extend(out.to('cpu').detach().numpy())\n",
    "\n",
    "    gt.extend(( data[1].type(torch.float32).reshape(-1,1).to('cpu') ).detach().numpy())"
   ]
  },
  {
   "cell_type": "code",
   "execution_count": 28,
   "metadata": {
    "executionInfo": {
     "elapsed": 12,
     "status": "ok",
     "timestamp": 1731539437234,
     "user": {
      "displayName": "Theo Maetz",
      "userId": "01265100961774375470"
     },
     "user_tz": -60
    },
    "id": "RtL95Uh3usmY"
   },
   "outputs": [],
   "source": [
    "from torchmetrics.classification import MulticlassConfusionMatrix\n",
    "\n",
    "target = torch.tensor( np.array(gt).reshape(-1,) )\n",
    "label =   torch.squeeze( torch.tensor( np.array(l)) )\n",
    "\n",
    "metric = MulticlassConfusionMatrix(num_classes=num_classes)\n",
    "\n",
    "c = np.array(metric(torch.argmax(label,-1) , target))"
   ]
  },
  {
   "cell_type": "code",
   "execution_count": 29,
   "metadata": {
    "executionInfo": {
     "elapsed": 12,
     "status": "ok",
     "timestamp": 1731539437234,
     "user": {
      "displayName": "Theo Maetz",
      "userId": "01265100961774375470"
     },
     "user_tz": -60
    },
    "id": "bT_wWsZDvIzc"
   },
   "outputs": [],
   "source": [
    "label_dict = {0: 'state__idle',\n",
    "           1: 'state__shoulder__flexion',\n",
    "           2: 'state__elbow__extension',\n",
    "           3: 'state__wrist__pronation',\n",
    "           4: 'state__hand__open',\n",
    "           5: 'state__hand__close',\n",
    "          }"
   ]
  },
  {
   "cell_type": "code",
   "execution_count": 30,
   "metadata": {
    "colab": {
     "base_uri": "https://localhost:8080/",
     "height": 487
    },
    "executionInfo": {
     "elapsed": 11,
     "status": "ok",
     "timestamp": 1731539437234,
     "user": {
      "displayName": "Theo Maetz",
      "userId": "01265100961774375470"
     },
     "user_tz": -60
    },
    "id": "qXt9o-S2uvs7",
    "outputId": "5616e42b-4271-4075-bf24-b84b632c2576"
   },
   "outputs": [
    {
     "data": {
      "image/png": "[encoded data removed]",
      "text/plain": [
       "<Figure size 640x480 with 2 Axes>"
      ]
     },
     "metadata": {},
     "output_type": "display_data"
    }
   ],
   "source": [
    "# import matplotlib.pyplot as plt\n",
    "import numpy as np\n",
    "import matplotlib as mpl\n",
    "\n",
    "import matplotlib.pyplot as plt\n",
    "from matplotlib.colors import LinearSegmentedColormap\n",
    "import numpy as np\n",
    "\n",
    "C = c\n",
    "\n",
    "colors = ['k' , '#F601FF'] # first color is black, last is red\n",
    "cm = LinearSegmentedColormap.from_list(\n",
    "        \"Custom\", colors, N=200)\n",
    "\n",
    "class_labels = [0, 1, 2, 3, 4, 5]\n",
    "\n",
    "normalized_confusion_matrix =  np.round(C/ np.sum(C, axis=1, keepdims=True), 3)\n",
    "\n",
    "fig, ax = plt.subplots(facecolor='k')\n",
    "im = ax.imshow(normalized_confusion_matrix , cmap = cm , vmin=0, vmax=1)\n",
    "cb = fig.colorbar(im , ax=ax)\n",
    "cb.outline.set_edgecolor('w')\n",
    "\n",
    "ax.set_xlabel(\"Predicted Labels\", color='w')\n",
    "ax.set_ylabel(\"True Labels\", color='w')\n",
    "\n",
    "ax.set_xticks(np.arange(len(class_labels)), labels=[name for _, name in  label_dict.items()], color='w', rotation=45, ha='right')\n",
    "ax.set_yticks(np.arange(len(class_labels)), labels=[name for _, name in  label_dict.items()], color='w')\n",
    "\n",
    "\n",
    "\n",
    "\n",
    "for i in range(len(class_labels)):\n",
    "    for j in range(len(class_labels)):\n",
    "        text = ax.text(j, i, normalized_confusion_matrix[i, j],\n",
    "                        ha=\"center\", va=\"center\", color=\"w\" , size=8)\n",
    "\n",
    "\n",
    "fig.tight_layout()\n",
    "plt.show()"
   ]
  },
  {
   "cell_type": "code",
   "execution_count": 31,
   "metadata": {
    "colab": {
     "base_uri": "https://localhost:8080/"
    },
    "executionInfo": {
     "elapsed": 9,
     "status": "ok",
     "timestamp": 1731539437234,
     "user": {
      "displayName": "Theo Maetz",
      "userId": "01265100961774375470"
     },
     "user_tz": -60
    },
    "id": "s4x3FtkwvCEh",
    "outputId": "a0c6cba4-0f28-4b16-b2f5-152d82f0af5d"
   },
   "outputs": [
    {
     "name": "stdout",
     "output_type": "stream",
     "text": [
      "Diagonal Average of Confusion Matrix: 0.3246666666666667\n",
      "Macro-Averaged F1-Score: 0.30977198481559753\n"
     ]
    }
   ],
   "source": [
    "diagonal_avg = np.mean(np.diag(normalized_confusion_matrix))\n",
    "print(\"Diagonal Average of Confusion Matrix:\", diagonal_avg)\n",
    "\n",
    "# Initialize the F1 metric (macro-average)\n",
    "f1_metric = MulticlassF1Score(num_classes=num_classes, average='macro')\n",
    "\n",
    "# Compute the F1 score\n",
    "f1_score = f1_metric(torch.argmax(label,-1) , target)\n",
    "print(\"Macro-Averaged F1-Score:\", f1_score.item())"
   ]
  }
 ],
 "metadata": {
  "colab": {
   "authorship_tag": "ABX9TyNZaiLagkJpjGuKf82eSwgI",
   "machine_shape": "hm",
   "provenance": []
  },
  "kernelspec": {
   "display_name": "Python 3",
   "name": "python3"
  },
  "language_info": {
   "name": "python"
  },
  "widgets": {
   "application/vnd.jupyter.widget-state+json": {
    "039a9fa3c1ca464cb4b2e82a06918e9e": {
     "model_module": "@jupyter-widgets/controls",
     "model_module_version": "1.5.0",
     "model_name": "HTMLModel",
     "state": {
      "_dom_classes": [],
      "_model_module": "@jupyter-widgets/controls",
      "_model_module_version": "1.5.0",
      "_model_name": "HTMLModel",
      "_view_count": null,
      "_view_module": "@jupyter-widgets/controls",
      "_view_module_version": "1.5.0",
      "_view_name": "HTMLView",
      "description": "",
      "description_tooltip": null,
      "layout": "IPY_MODEL_82dd248340904a9c9afb2db41473a1ee",
      "placeholder": "​",
      "style": "IPY_MODEL_e9f184088093429880cbfd91c094b8ad",
      "value": " 1450/1450 [02:01&lt;00:00, 11.97it/s, v_num=1]"
     }
    },
    "06086d09475f4ac2a66c4691959a7c3b": {
     "model_module": "@jupyter-widgets/controls",
     "model_module_version": "1.5.0",
     "model_name": "HTMLModel",
     "state": {
      "_dom_classes": [],
      "_model_module": "@jupyter-widgets/controls",
      "_model_module_version": "1.5.0",
      "_model_name": "HTMLModel",
      "_view_count": null,
      "_view_module": "@jupyter-widgets/controls",
      "_view_module_version": "1.5.0",
      "_view_name": "HTMLView",
      "description": "",
      "description_tooltip": null,
      "layout": "IPY_MODEL_cb3bd6b486bf4113aeb59e2cd3507733",
      "placeholder": "​",
      "style": "IPY_MODEL_4420d39d24c44c10b38ec9119b9be096",
      "value": "Epoch 49: 100%"
     }
    },
    "4420d39d24c44c10b38ec9119b9be096": {
     "model_module": "@jupyter-widgets/controls",
     "model_module_version": "1.5.0",
     "model_name": "DescriptionStyleModel",
     "state": {
      "_model_module": "@jupyter-widgets/controls",
      "_model_module_version": "1.5.0",
      "_model_name": "DescriptionStyleModel",
      "_view_count": null,
      "_view_module": "@jupyter-widgets/base",
      "_view_module_version": "1.2.0",
      "_view_name": "StyleView",
      "description_width": ""
     }
    },
    "82dd248340904a9c9afb2db41473a1ee": {
     "model_module": "@jupyter-widgets/base",
     "model_module_version": "1.2.0",
     "model_name": "LayoutModel",
     "state": {
      "_model_module": "@jupyter-widgets/base",
      "_model_module_version": "1.2.0",
      "_model_name": "LayoutModel",
      "_view_count": null,
      "_view_module": "@jupyter-widgets/base",
      "_view_module_version": "1.2.0",
      "_view_name": "LayoutView",
      "align_content": null,
      "align_items": null,
      "align_self": null,
      "border": null,
      "bottom": null,
      "display": null,
      "flex": null,
      "flex_flow": null,
      "grid_area": null,
      "grid_auto_columns": null,
      "grid_auto_flow": null,
      "grid_auto_rows": null,
      "grid_column": null,
      "grid_gap": null,
      "grid_row": null,
      "grid_template_areas": null,
      "grid_template_columns": null,
      "grid_template_rows": null,
      "height": null,
      "justify_content": null,
      "justify_items": null,
      "left": null,
      "margin": null,
      "max_height": null,
      "max_width": null,
      "min_height": null,
      "min_width": null,
      "object_fit": null,
      "object_position": null,
      "order": null,
      "overflow": null,
      "overflow_x": null,
      "overflow_y": null,
      "padding": null,
      "right": null,
      "top": null,
      "visibility": null,
      "width": null
     }
    },
    "c2884c365b4248d4a16c85faf054df2b": {
     "model_module": "@jupyter-widgets/controls",
     "model_module_version": "1.5.0",
     "model_name": "HBoxModel",
     "state": {
      "_dom_classes": [],
      "_model_module": "@jupyter-widgets/controls",
      "_model_module_version": "1.5.0",
      "_model_name": "HBoxModel",
      "_view_count": null,
      "_view_module": "@jupyter-widgets/controls",
      "_view_module_version": "1.5.0",
      "_view_name": "HBoxView",
      "box_style": "",
      "children": [
       "IPY_MODEL_06086d09475f4ac2a66c4691959a7c3b",
       "IPY_MODEL_d094651ac6394dca8acdc825e0a88805",
       "IPY_MODEL_039a9fa3c1ca464cb4b2e82a06918e9e"
      ],
      "layout": "IPY_MODEL_eb3e90d52a5e4b71818741f839c2eead"
     }
    },
    "cb3bd6b486bf4113aeb59e2cd3507733": {
     "model_module": "@jupyter-widgets/base",
     "model_module_version": "1.2.0",
     "model_name": "LayoutModel",
     "state": {
      "_model_module": "@jupyter-widgets/base",
      "_model_module_version": "1.2.0",
      "_model_name": "LayoutModel",
      "_view_count": null,
      "_view_module": "@jupyter-widgets/base",
      "_view_module_version": "1.2.0",
      "_view_name": "LayoutView",
      "align_content": null,
      "align_items": null,
      "align_self": null,
      "border": null,
      "bottom": null,
      "display": null,
      "flex": null,
      "flex_flow": null,
      "grid_area": null,
      "grid_auto_columns": null,
      "grid_auto_flow": null,
      "grid_auto_rows": null,
      "grid_column": null,
      "grid_gap": null,
      "grid_row": null,
      "grid_template_areas": null,
      "grid_template_columns": null,
      "grid_template_rows": null,
      "height": null,
      "justify_content": null,
      "justify_items": null,
      "left": null,
      "margin": null,
      "max_height": null,
      "max_width": null,
      "min_height": null,
      "min_width": null,
      "object_fit": null,
      "object_position": null,
      "order": null,
      "overflow": null,
      "overflow_x": null,
      "overflow_y": null,
      "padding": null,
      "right": null,
      "top": null,
      "visibility": null,
      "width": null
     }
    },
    "ce3eb3c7636b442fb1235d160f5436d9": {
     "model_module": "@jupyter-widgets/controls",
     "model_module_version": "1.5.0",
     "model_name": "ProgressStyleModel",
     "state": {
      "_model_module": "@jupyter-widgets/controls",
      "_model_module_version": "1.5.0",
      "_model_name": "ProgressStyleModel",
      "_view_count": null,
      "_view_module": "@jupyter-widgets/base",
      "_view_module_version": "1.2.0",
      "_view_name": "StyleView",
      "bar_color": null,
      "description_width": ""
     }
    },
    "d094651ac6394dca8acdc825e0a88805": {
     "model_module": "@jupyter-widgets/controls",
     "model_module_version": "1.5.0",
     "model_name": "FloatProgressModel",
     "state": {
      "_dom_classes": [],
      "_model_module": "@jupyter-widgets/controls",
      "_model_module_version": "1.5.0",
      "_model_name": "FloatProgressModel",
      "_view_count": null,
      "_view_module": "@jupyter-widgets/controls",
      "_view_module_version": "1.5.0",
      "_view_name": "ProgressView",
      "bar_style": "success",
      "description": "",
      "description_tooltip": null,
      "layout": "IPY_MODEL_d0b4acff6e8d4fa4bd5825ec7ddc00ec",
      "max": 1450,
      "min": 0,
      "orientation": "horizontal",
      "style": "IPY_MODEL_ce3eb3c7636b442fb1235d160f5436d9",
      "value": 1450
     }
    },
    "d0b4acff6e8d4fa4bd5825ec7ddc00ec": {
     "model_module": "@jupyter-widgets/base",
     "model_module_version": "1.2.0",
     "model_name": "LayoutModel",
     "state": {
      "_model_module": "@jupyter-widgets/base",
      "_model_module_version": "1.2.0",
      "_model_name": "LayoutModel",
      "_view_count": null,
      "_view_module": "@jupyter-widgets/base",
      "_view_module_version": "1.2.0",
      "_view_name": "LayoutView",
      "align_content": null,
      "align_items": null,
      "align_self": null,
      "border": null,
      "bottom": null,
      "display": null,
      "flex": "2",
      "flex_flow": null,
      "grid_area": null,
      "grid_auto_columns": null,
      "grid_auto_flow": null,
      "grid_auto_rows": null,
      "grid_column": null,
      "grid_gap": null,
      "grid_row": null,
      "grid_template_areas": null,
      "grid_template_columns": null,
      "grid_template_rows": null,
      "height": null,
      "justify_content": null,
      "justify_items": null,
      "left": null,
      "margin": null,
      "max_height": null,
      "max_width": null,
      "min_height": null,
      "min_width": null,
      "object_fit": null,
      "object_position": null,
      "order": null,
      "overflow": null,
      "overflow_x": null,
      "overflow_y": null,
      "padding": null,
      "right": null,
      "top": null,
      "visibility": null,
      "width": null
     }
    },
    "e9f184088093429880cbfd91c094b8ad": {
     "model_module": "@jupyter-widgets/controls",
     "model_module_version": "1.5.0",
     "model_name": "DescriptionStyleModel",
     "state": {
      "_model_module": "@jupyter-widgets/controls",
      "_model_module_version": "1.5.0",
      "_model_name": "DescriptionStyleModel",
      "_view_count": null,
      "_view_module": "@jupyter-widgets/base",
      "_view_module_version": "1.2.0",
      "_view_name": "StyleView",
      "description_width": ""
     }
    },
    "eb3e90d52a5e4b71818741f839c2eead": {
     "model_module": "@jupyter-widgets/base",
     "model_module_version": "1.2.0",
     "model_name": "LayoutModel",
     "state": {
      "_model_module": "@jupyter-widgets/base",
      "_model_module_version": "1.2.0",
      "_model_name": "LayoutModel",
      "_view_count": null,
      "_view_module": "@jupyter-widgets/base",
      "_view_module_version": "1.2.0",
      "_view_name": "LayoutView",
      "align_content": null,
      "align_items": null,
      "align_self": null,
      "border": null,
      "bottom": null,
      "display": "inline-flex",
      "flex": null,
      "flex_flow": "row wrap",
      "grid_area": null,
      "grid_auto_columns": null,
      "grid_auto_flow": null,
      "grid_auto_rows": null,
      "grid_column": null,
      "grid_gap": null,
      "grid_row": null,
      "grid_template_areas": null,
      "grid_template_columns": null,
      "grid_template_rows": null,
      "height": null,
      "justify_content": null,
      "justify_items": null,
      "left": null,
      "margin": null,
      "max_height": null,
      "max_width": null,
      "min_height": null,
      "min_width": null,
      "object_fit": null,
      "object_position": null,
      "order": null,
      "overflow": null,
      "overflow_x": null,
      "overflow_y": null,
      "padding": null,
      "right": null,
      "top": null,
      "visibility": null,
      "width": "100%"
     }
    }
   }
  }
 },
 "nbformat": 4,
 "nbformat_minor": 0
}
