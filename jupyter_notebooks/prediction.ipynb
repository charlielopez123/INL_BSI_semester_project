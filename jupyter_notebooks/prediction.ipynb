{
  "cells": [
    {
      "cell_type": "code",
      "source": [
        "!pip install -q torch_geometric lightning wandb"
      ],
      "metadata": {
        "id": "irA5IbD3OCoE"
      },
      "execution_count": null,
      "outputs": []
    },
    {
      "cell_type": "code",
      "source": [
        "from google.colab import drive\n",
        "drive.mount('/content/drive')"
      ],
      "metadata": {
        "colab": {
          "base_uri": "https://localhost:8080/"
        },
        "id": "amxOua2hMJz3",
        "outputId": "90d095ba-d133-450c-b352-88dc1ae28a61"
      },
      "execution_count": null,
      "outputs": [
        {
          "output_type": "stream",
          "name": "stdout",
          "text": [
            "Drive already mounted at /content/drive; to attempt to forcibly remount, call drive.mount(\"/content/drive\", force_remount=True).\n"
          ]
        }
      ]
    },
    {
      "cell_type": "code",
      "execution_count": null,
      "metadata": {
        "id": "HuMAerdhLWbG"
      },
      "outputs": [],
      "source": [
        "import torch\n",
        "import numpy as np\n",
        "import glob\n",
        "import os\n",
        "from tqdm import tqdm\n",
        "import csv\n",
        "import random\n",
        "import h5py\n",
        "import sys\n",
        "\n",
        "from torch.profiler import profile, record_function, ProfilerActivity\n",
        "\n",
        "import torch.nn.functional as F\n",
        "import scipy.io as sio\n",
        "\n",
        "from torch_geometric.nn import GCNConv\n",
        "from torch_geometric.nn import global_mean_pool\n",
        "from torch_geometric.nn import global_max_pool\n",
        "from torch_geometric.data import Data\n",
        "import lightning as L\n",
        "\n",
        "from torch_geometric.loader import DataLoader\n",
        "\n",
        "import torch.optim as optim\n",
        "from torch.optim.lr_scheduler import CosineAnnealingLR\n",
        "\n",
        "import wandb\n",
        "\n",
        "import matplotlib.pyplot as plt\n",
        "import time\n",
        "\n",
        "import torch.nn as nn\n",
        "import torch.nn.functional as F\n",
        "import torch.optim as optim\n",
        "import torch.utils.data as data\n",
        "\n",
        "\n",
        "from torchmetrics.classification import MulticlassF1Score"
      ]
    },
    {
      "cell_type": "code",
      "source": [
        "fs = 590 #Sampling frequency\n",
        "n_ecogs = 31 #number of ecog channels\n",
        "window_duration = 3 #seconds"
      ],
      "metadata": {
        "id": "Cssgmk0NNOgx"
      },
      "execution_count": null,
      "outputs": []
    },
    {
      "cell_type": "code",
      "execution_count": null,
      "metadata": {
        "id": "QfhgUj43LWbK"
      },
      "outputs": [],
      "source": [
        "y = np.load('/content/drive/MyDrive/Colab Notebooks/INL/processed_data/label2.npy')\n",
        "X_train =  np.load('/content/drive/MyDrive/Colab Notebooks/INL/processed_data/X_train2.npy')\n",
        "X_train = X_train.reshape(-1, n_ecogs * window_duration, fs)\n",
        "\n",
        "y_test = np.load('/content/drive/MyDrive/Colab Notebooks/INL/processed_data/label_test.npy')\n",
        "X_test =  np.load('/content/drive/MyDrive/Colab Notebooks/INL/processed_data/X_test.npy')\n",
        "X_test = X_test.reshape(-1, n_ecogs * window_duration, fs)"
      ]
    },
    {
      "cell_type": "code",
      "execution_count": null,
      "metadata": {
        "colab": {
          "base_uri": "https://localhost:8080/"
        },
        "id": "ju_LyFyRLWbM",
        "outputId": "ceb1be33-9905-45a6-877b-f8c9f4ba252c"
      },
      "outputs": [
        {
          "output_type": "execute_result",
          "data": {
            "text/plain": [
              "(11730, 93, 590)"
            ]
          },
          "metadata": {},
          "execution_count": 6
        }
      ],
      "source": [
        "X_train.shape"
      ]
    },
    {
      "cell_type": "code",
      "source": [
        "label_dict = {0: 'state__idle',\n",
        "           1: 'state__shoulder__flexion',\n",
        "           2: 'state__elbow__extension',\n",
        "           3: 'state__wrist__pronation',\n",
        "           4: 'state__wrist__supination',\n",
        "           5: 'state__hand__open',\n",
        "           6: 'state__hand__close',\n",
        "          }"
      ],
      "metadata": {
        "id": "5u4P1WuMpLji"
      },
      "execution_count": null,
      "outputs": []
    },
    {
      "cell_type": "code",
      "execution_count": null,
      "metadata": {
        "colab": {
          "base_uri": "https://localhost:8080/"
        },
        "id": "rXTwuEg0LWbN",
        "outputId": "c10f424f-96d8-4043-f510-7e4b8733b90d"
      },
      "outputs": [
        {
          "output_type": "stream",
          "name": "stderr",
          "text": [
            "100%|██████████| 11730/11730 [00:02<00:00, 5469.07it/s]\n",
            "100%|██████████| 2237/2237 [00:00<00:00, 5658.89it/s]\n"
          ]
        }
      ],
      "source": [
        "dataset = []\n",
        "\n",
        "for idx in tqdm(range(X_train.shape[0])):\n",
        "    eeg_clip = X_train[idx,:,:]\n",
        "    label = y[idx]\n",
        "    if label == 7: #ignore label 7, which produces weird results\n",
        "        continue\n",
        "    dataset.append((torch.tensor(eeg_clip).float(), torch.tensor((label), dtype=torch.long)))\n",
        "\n",
        "random.shuffle(dataset)\n",
        "\n",
        "\n",
        "dataset_test = []\n",
        "\n",
        "for idx in tqdm(range(X_test.shape[0])):\n",
        "    eeg_clip = X_test[idx,:,:]\n",
        "    label = y_test[idx]\n",
        "    if label == 7: #ignore label 7\n",
        "        continue\n",
        "    dataset_test.append( ( torch.tensor(eeg_clip).float(), torch.tensor((label) , dtype=torch.long) ) )\n",
        "\n",
        "random.shuffle(dataset_test)"
      ]
    },
    {
      "cell_type": "code",
      "source": [
        "dataset[0]"
      ],
      "metadata": {
        "colab": {
          "base_uri": "https://localhost:8080/"
        },
        "id": "HUgxrFkFiG9J",
        "outputId": "b5fca22a-5d04-4350-e1c8-063028252ec6"
      },
      "execution_count": null,
      "outputs": [
        {
          "output_type": "execute_result",
          "data": {
            "text/plain": [
              "(tensor([[21.8461, 24.5043, 26.2765,  ..., 28.9347, 26.2765, 21.8461],\n",
              "         [20.0740, 13.8713, 13.8713,  ..., 31.5929, 29.8208, 33.3651],\n",
              "         [28.9347, 27.1626, 27.1626,  ..., 28.9347, 30.7069, 28.9347],\n",
              "         ...,\n",
              "         [32.0085, 31.1332, 28.5071,  ..., 22.3795, 18.8782, 19.7535],\n",
              "         [19.7535, 18.0028, 21.5043,  ..., 32.0085, 32.0085, 34.6345],\n",
              "         [32.8839, 35.5099, 34.6345,  ..., 34.6345, 36.3853, 35.5099]]),\n",
              " tensor(2))"
            ]
          },
          "metadata": {},
          "execution_count": 9
        }
      ]
    },
    {
      "cell_type": "code",
      "execution_count": null,
      "metadata": {
        "id": "M6Jszs9FLWbO"
      },
      "outputs": [],
      "source": [
        "train_dataloader = DataLoader(dataset , batch_size = 64  )\n",
        "test_dataloader = DataLoader(dataset_test , batch_size = 64   )"
      ]
    },
    {
      "cell_type": "code",
      "execution_count": null,
      "metadata": {
        "id": "veDoCpReLWbQ"
      },
      "outputs": [],
      "source": [
        "class AttentionBlock(nn.Module):\n",
        "    def __init__(self, embed_dim, hidden_dim, num_heads, dropout=0.0):\n",
        "        \"\"\"Attention Block.\n",
        "\n",
        "        Args:\n",
        "            embed_dim: Dimensionality of input and attention feature vectors\n",
        "            hidden_dim: Dimensionality of hidden layer in feed-forward network\n",
        "                         (usually 2-4x larger than embed_dim)\n",
        "            num_heads: Number of heads to use in the Multi-Head Attention block\n",
        "            dropout: Amount of dropout to apply in the feed-forward network\n",
        "        \"\"\"\n",
        "        super().__init__()\n",
        "\n",
        "        self.layer_norm_1 = nn.LayerNorm(embed_dim)\n",
        "        self.attn = nn.MultiheadAttention(embed_dim, num_heads)\n",
        "        self.layer_norm_2 = nn.LayerNorm(embed_dim)\n",
        "        self.linear = nn.Sequential(\n",
        "            nn.Linear(embed_dim, hidden_dim),\n",
        "            nn.GELU(),\n",
        "            nn.Dropout(dropout),\n",
        "            nn.Linear(hidden_dim, embed_dim),\n",
        "            nn.Dropout(dropout),\n",
        "        )\n",
        "\n",
        "    def forward(self, x):\n",
        "        inp_x = self.layer_norm_1(x)\n",
        "        x = x + self.attn(inp_x, inp_x, inp_x)[0]\n",
        "        x = x + self.linear(self.layer_norm_2(x))\n",
        "        return x"
      ]
    },
    {
      "cell_type": "code",
      "execution_count": null,
      "metadata": {
        "id": "3WrDZCj2LWbS"
      },
      "outputs": [],
      "source": [
        "class VisionTransformer(nn.Module):\n",
        "    def __init__(\n",
        "        self,\n",
        "        embed_dim,\n",
        "        hidden_dim,\n",
        "        num_t_pints,\n",
        "        num_heads,\n",
        "        num_layers,\n",
        "        num_classes,\n",
        "        num_patches,\n",
        "        dropout=0.0,\n",
        "    ):\n",
        "        \"\"\"Vision Transformer.\n",
        "\n",
        "        Args:\n",
        "            embed_dim: Dimensionality of the input feature vectors to the Transformer\n",
        "            hidden_dim: Dimensionality of the hidden layer in the feed-forward networks\n",
        "                         within the Transformer\n",
        "            num_channels: Number of channels of the input (3 for RGB)\n",
        "            num_heads: Number of heads to use in the Multi-Head Attention block\n",
        "            num_layers: Number of layers to use in the Transformer\n",
        "            num_classes: Number of classes to predict\n",
        "            patch_size: Number of pixels that the patches have per dimension\n",
        "            num_patches: Maximum number of patches an image can have\n",
        "            dropout: Amount of dropout to apply in the feed-forward network and\n",
        "                      on the input encoding\n",
        "        \"\"\"\n",
        "        super().__init__()\n",
        "\n",
        "\n",
        "\n",
        "        self.input_layer = nn.Linear(num_t_pints, embed_dim)\n",
        "        self.transformer = nn.Sequential(\n",
        "            *(AttentionBlock(embed_dim, hidden_dim, num_heads, dropout=dropout) for _ in range(num_layers))\n",
        "        )\n",
        "        self.mlp_head = nn.Sequential(nn.LayerNorm(embed_dim), nn.Linear(embed_dim, num_classes))\n",
        "        self.dropout = nn.Dropout(dropout)\n",
        "\n",
        "        # Parameters/Embeddings\n",
        "        self.cls_token = nn.Parameter(torch.randn(1, 1, embed_dim))\n",
        "        self.pos_embedding = nn.Parameter(torch.randn(1, 1 + num_patches, embed_dim))\n",
        "\n",
        "    def forward(self, x):\n",
        "        # Preprocess input\n",
        "\n",
        "        x = torch.log( torch.abs( torch.fft.fft(x , dim=-1) ) + 1e-10 )\n",
        "\n",
        "        #x = torch.cat( [torch.log(torch.abs( torch.fft.fft(x , dim=-1).imag[:,:,0:295]))  , torch.log(torch.abs(torch.fft.fft(x , dim=-1).real[:,:,0:295]) ) ] , dim=-1)\n",
        "\n",
        "        x = (x - x.mean(dim=-1 , keepdim=True) )/x.std(dim=-1 , keepdim=True)\n",
        "\n",
        "        B, T, _ = x.shape # B Batch\n",
        "        x = self.input_layer(x)\n",
        "\n",
        "        # Add CLS token and positional encoding\n",
        "        cls_token = self.cls_token.repeat(B, 1, 1)\n",
        "        x = torch.cat([cls_token, x], dim=1)\n",
        "        x = x + self.pos_embedding[:, : T + 1]\n",
        "\n",
        "        # Apply Transforrmer\n",
        "        x = self.dropout(x)\n",
        "        x = x.transpose(0, 1)\n",
        "        x = self.transformer(x)\n",
        "\n",
        "        # Perform classification prediction\n",
        "        cls = x[0]\n",
        "        out = self.mlp_head(cls)\n",
        "        return out"
      ]
    },
    {
      "cell_type": "code",
      "execution_count": null,
      "metadata": {
        "id": "IkLeX5ZsLWbT"
      },
      "outputs": [],
      "source": [
        "class ViT(L.LightningModule):\n",
        "    def __init__(self, model_kwargs):\n",
        "        super().__init__()\n",
        "\n",
        "        self.model = VisionTransformer(**model_kwargs)\n",
        "\n",
        "\n",
        "    def forward(self, x):\n",
        "        return self.model(x)\n",
        "\n",
        "    def configure_optimizers(self):\n",
        "\n",
        "        optimizer = optim.Adam(params=self.parameters(),\n",
        "                            lr = 1e-3)\n",
        "\n",
        "        scheduler = CosineAnnealingLR(optimizer, T_max = 50)\n",
        "\n",
        "        return [optimizer], [{\"scheduler\": scheduler, \"interval\": \"epoch\"}]\n",
        "\n",
        "\n",
        "    def training_step(self, batch, batch_idx):\n",
        "        imgs, labels = batch\n",
        "        preds = self.model(imgs)\n",
        "        loss = F.cross_entropy(preds, labels)\n",
        "\n",
        "        # wandb.log({ \"Bridge-GPT-Loss\": loss})\n",
        "\n",
        "        return loss\n"
      ]
    },
    {
      "cell_type": "code",
      "execution_count": null,
      "metadata": {
        "id": "3CzYnrmvLWbU"
      },
      "outputs": [],
      "source": [
        "model_kwargs={\n",
        "        \"embed_dim\": 64,\n",
        "        \"hidden_dim\": 64,\n",
        "        \"num_heads\": 8,\n",
        "        \"num_layers\": 4,\n",
        "        \"num_t_pints\": 590,\n",
        "        \"num_patches\": 93,\n",
        "        \"num_classes\": 7,\n",
        "        \"dropout\": 0.2,\n",
        "    }\n",
        "\n",
        "model = ViT(model_kwargs)"
      ]
    },
    {
      "cell_type": "code",
      "execution_count": null,
      "metadata": {
        "colab": {
          "base_uri": "https://localhost:8080/",
          "height": 675,
          "referenced_widgets": [
            "f20dd2da9cb84848945b939e91db8434",
            "62bbf628883c49198354c8782866f02c",
            "59cac95c06544f2a9bebeafb019a90b6",
            "4edf0ec98ced41cdbb6fcb32903a41dd",
            "65de1a76668b4c758fde69b15077d60d",
            "3546bf01801b4670b99aa71e293c79bb",
            "f0bd103f3e1c40848d84d1d45d0a5674",
            "c6136ceca26b41f783d55c8d0a69265d",
            "ebe623ec73604dcd9d7afeda82f1157c",
            "511d2d9fbb73456ca5e3c9076e929dbe",
            "cb1e1fafd084427c911b29c0767ca7e6"
          ]
        },
        "id": "71tMIXQTLWbU",
        "outputId": "4897acd4-b42c-4b84-f18a-c420dcf4c530"
      },
      "outputs": [
        {
          "output_type": "stream",
          "name": "stderr",
          "text": [
            "INFO: GPU available: True (cuda), used: True\n",
            "INFO:lightning.pytorch.utilities.rank_zero:GPU available: True (cuda), used: True\n",
            "INFO: TPU available: False, using: 0 TPU cores\n",
            "INFO:lightning.pytorch.utilities.rank_zero:TPU available: False, using: 0 TPU cores\n",
            "INFO: HPU available: False, using: 0 HPUs\n",
            "INFO:lightning.pytorch.utilities.rank_zero:HPU available: False, using: 0 HPUs\n",
            "INFO: LOCAL_RANK: 0 - CUDA_VISIBLE_DEVICES: [0]\n",
            "INFO:lightning.pytorch.accelerators.cuda:LOCAL_RANK: 0 - CUDA_VISIBLE_DEVICES: [0]\n",
            "INFO: \n",
            "  | Name  | Type              | Params | Mode \n",
            "----------------------------------------------------\n",
            "0 | model | VisionTransformer | 145 K  | train\n",
            "----------------------------------------------------\n",
            "145 K     Trainable params\n",
            "0         Non-trainable params\n",
            "145 K     Total params\n",
            "0.581     Total estimated model params size (MB)\n",
            "51        Modules in train mode\n",
            "0         Modules in eval mode\n",
            "INFO:lightning.pytorch.callbacks.model_summary:\n",
            "  | Name  | Type              | Params | Mode \n",
            "----------------------------------------------------\n",
            "0 | model | VisionTransformer | 145 K  | train\n",
            "----------------------------------------------------\n",
            "145 K     Trainable params\n",
            "0         Non-trainable params\n",
            "145 K     Total params\n",
            "0.581     Total estimated model params size (MB)\n",
            "51        Modules in train mode\n",
            "0         Modules in eval mode\n",
            "/usr/local/lib/python3.10/dist-packages/lightning/pytorch/trainer/connectors/data_connector.py:424: The 'train_dataloader' does not have many workers which may be a bottleneck. Consider increasing the value of the `num_workers` argument` to `num_workers=7` in the `DataLoader` to improve performance.\n"
          ]
        },
        {
          "output_type": "display_data",
          "data": {
            "text/plain": [
              "Training: |          | 0/? [00:00<?, ?it/s]"
            ],
            "application/vnd.jupyter.widget-view+json": {
              "version_major": 2,
              "version_minor": 0,
              "model_id": "f20dd2da9cb84848945b939e91db8434"
            }
          },
          "metadata": {}
        },
        {
          "output_type": "stream",
          "name": "stderr",
          "text": [
            "INFO: `Trainer.fit` stopped: `max_epochs=50` reached.\n",
            "INFO:lightning.pytorch.utilities.rank_zero:`Trainer.fit` stopped: `max_epochs=50` reached.\n"
          ]
        }
      ],
      "source": [
        "trainer = L.Trainer(max_epochs= 50 , devices= 1, accelerator=\"gpu\")\n",
        "\n",
        "trainer.fit(model, train_dataloader )"
      ]
    },
    {
      "cell_type": "code",
      "execution_count": null,
      "metadata": {
        "colab": {
          "base_uri": "https://localhost:8080/"
        },
        "id": "oW670ScSLWbV",
        "outputId": "0c02d618-b5f9-4616-95a5-2bbc366f0fcf"
      },
      "outputs": [
        {
          "output_type": "stream",
          "name": "stderr",
          "text": [
            "100%|██████████| 35/35 [00:00<00:00, 83.23it/s]\n"
          ]
        }
      ],
      "source": [
        "import pytorch_lightning\n",
        "\n",
        "torch.seed()\n",
        "np.random.seed(120)\n",
        "random.seed(123)\n",
        "pytorch_lightning.utilities.seed\n",
        "\n",
        "model.to('cuda')\n",
        "l = [] #labels\n",
        "gt = [] #ground thruth\n",
        "\n",
        "for data in (tqdm(test_dataloader)):\n",
        "\n",
        "    out = model(data[0].to('cuda'))\n",
        "\n",
        "    l.extend(out.to('cpu').detach().numpy())\n",
        "\n",
        "    gt.extend(( data[1].type(torch.float32).reshape(-1,1).to('cpu') ).detach().numpy())"
      ]
    },
    {
      "cell_type": "code",
      "source": [
        "from torchmetrics.classification import MulticlassConfusionMatrix\n",
        "\n",
        "target = torch.tensor( np.array(gt).reshape(-1,) )\n",
        "label =   torch.squeeze( torch.tensor( np.array(l)) )\n",
        "\n",
        "metric = MulticlassConfusionMatrix(num_classes=7)\n",
        "\n",
        "c = np.array(metric(torch.argmax(label,-1) , target))"
      ],
      "metadata": {
        "id": "AWEWZCuoQFrK"
      },
      "execution_count": null,
      "outputs": []
    },
    {
      "cell_type": "code",
      "source": [
        "c"
      ],
      "metadata": {
        "colab": {
          "base_uri": "https://localhost:8080/"
        },
        "id": "ZTAYZm34lggT",
        "outputId": "5f9228c8-bf1b-44c0-b024-832f2d378c2b"
      },
      "execution_count": null,
      "outputs": [
        {
          "output_type": "execute_result",
          "data": {
            "text/plain": [
              "array([[1247,   25,   26,   34,   12,   38,   34],\n",
              "       [   6,   21,   26,    0,    0,    0,    1],\n",
              "       [  21,    9,  131,    8,    2,    6,   16],\n",
              "       [  26,    0,   12,   56,    0,   20,   25],\n",
              "       [   0,    0,    0,    1,    0,    0,    0],\n",
              "       [  54,    1,   20,   21,    0,   88,   39],\n",
              "       [  47,    1,   29,   38,    1,   46,   31]])"
            ]
          },
          "metadata": {},
          "execution_count": 18
        }
      ]
    },
    {
      "cell_type": "code",
      "source": [
        "# import matplotlib.pyplot as plt\n",
        "import numpy as np\n",
        "import matplotlib as mpl\n",
        "\n",
        "import matplotlib.pyplot as plt\n",
        "from matplotlib.colors import LinearSegmentedColormap\n",
        "import numpy as np\n",
        "\n",
        "C = c\n",
        "\n",
        "colors = ['k' , '#F601FF'] # first color is black, last is red\n",
        "cm = LinearSegmentedColormap.from_list(\n",
        "        \"Custom\", colors, N=200)\n",
        "\n",
        "class_labels = [0, 1, 2, 3, 4, 5, 6]\n",
        "\n",
        "normalized_confusion_matrix =  np.round(C/ np.sum(C, axis=1, keepdims=True), 3)\n",
        "\n",
        "fig, ax = plt.subplots(facecolor='k')\n",
        "im = ax.imshow(normalized_confusion_matrix , cmap = cm , vmin=0, vmax=1)\n",
        "cb = fig.colorbar(im , ax=ax)\n",
        "cb.outline.set_edgecolor('w')\n",
        "\n",
        "ax.set_xlabel(\"Predicted Labels\", color='w')\n",
        "ax.set_ylabel(\"True Labels\", color='w')\n",
        "\n",
        "ax.set_xticks(np.arange(len(class_labels)), labels=[name for _, name in  label_dict.items()], color='w', rotation=45, ha='right')\n",
        "ax.set_yticks(np.arange(len(class_labels)), labels=[name for _, name in  label_dict.items()], color='w')\n",
        "\n",
        "\n",
        "\n",
        "\n",
        "for i in range(len(class_labels)):\n",
        "    for j in range(len(class_labels)):\n",
        "        text = ax.text(j, i, normalized_confusion_matrix[i, j],\n",
        "                        ha=\"center\", va=\"center\", color=\"w\" , size=8)\n",
        "\n",
        "\n",
        "fig.tight_layout()\n",
        "plt.show()"
      ],
      "metadata": {
        "colab": {
          "base_uri": "https://localhost:8080/",
          "height": 487
        },
        "id": "i-tvyv9FSObQ",
        "outputId": "688f5972-00ac-4467-b561-968bca52d407"
      },
      "execution_count": null,
      "outputs": [
        {
          "output_type": "display_data",
          "data": {
            "text/plain": [
              "<Figure size 640x480 with 2 Axes>"
            ],
            "image/png": "[encoded data removed]"
          },
          "metadata": {}
        }
      ]
    },
    {
      "cell_type": "code",
      "source": [],
      "metadata": {
        "id": "dZkUDjERSQtS"
      },
      "execution_count": null,
      "outputs": []
    }
  ],
  "metadata": {
    "kernelspec": {
      "display_name": "Python 3",
      "name": "python3"
    },
    "language_info": {
      "codemirror_mode": {
        "name": "ipython",
        "version": 3
      },
      "file_extension": ".py",
      "mimetype": "text/x-python",
      "name": "python",
      "nbconvert_exporter": "python",
      "pygments_lexer": "ipython3",
      "version": "3.12.2"
    },
    "colab": {
      "provenance": [],
      "machine_shape": "hm",
      "gpuType": "T4"
    },
    "accelerator": "GPU",
    "widgets": {
      "application/vnd.jupyter.widget-state+json": {
        "f20dd2da9cb84848945b939e91db8434": {
          "model_module": "@jupyter-widgets/controls",
          "model_name": "HBoxModel",
          "model_module_version": "1.5.0",
          "state": {
            "_dom_classes": [],
            "_model_module": "@jupyter-widgets/controls",
            "_model_module_version": "1.5.0",
            "_model_name": "HBoxModel",
            "_view_count": null,
            "_view_module": "@jupyter-widgets/controls",
            "_view_module_version": "1.5.0",
            "_view_name": "HBoxView",
            "box_style": "",
            "children": [
              "IPY_MODEL_62bbf628883c49198354c8782866f02c",
              "IPY_MODEL_59cac95c06544f2a9bebeafb019a90b6",
              "IPY_MODEL_4edf0ec98ced41cdbb6fcb32903a41dd"
            ],
            "layout": "IPY_MODEL_65de1a76668b4c758fde69b15077d60d"
          }
        },
        "62bbf628883c49198354c8782866f02c": {
          "model_module": "@jupyter-widgets/controls",
          "model_name": "HTMLModel",
          "model_module_version": "1.5.0",
          "state": {
            "_dom_classes": [],
            "_model_module": "@jupyter-widgets/controls",
            "_model_module_version": "1.5.0",
            "_model_name": "HTMLModel",
            "_view_count": null,
            "_view_module": "@jupyter-widgets/controls",
            "_view_module_version": "1.5.0",
            "_view_name": "HTMLView",
            "description": "",
            "description_tooltip": null,
            "layout": "IPY_MODEL_3546bf01801b4670b99aa71e293c79bb",
            "placeholder": "​",
            "style": "IPY_MODEL_f0bd103f3e1c40848d84d1d45d0a5674",
            "value": "Epoch 49: 100%"
          }
        },
        "59cac95c06544f2a9bebeafb019a90b6": {
          "model_module": "@jupyter-widgets/controls",
          "model_name": "FloatProgressModel",
          "model_module_version": "1.5.0",
          "state": {
            "_dom_classes": [],
            "_model_module": "@jupyter-widgets/controls",
            "_model_module_version": "1.5.0",
            "_model_name": "FloatProgressModel",
            "_view_count": null,
            "_view_module": "@jupyter-widgets/controls",
            "_view_module_version": "1.5.0",
            "_view_name": "ProgressView",
            "bar_style": "success",
            "description": "",
            "description_tooltip": null,
            "layout": "IPY_MODEL_c6136ceca26b41f783d55c8d0a69265d",
            "max": 183,
            "min": 0,
            "orientation": "horizontal",
            "style": "IPY_MODEL_ebe623ec73604dcd9d7afeda82f1157c",
            "value": 183
          }
        },
        "4edf0ec98ced41cdbb6fcb32903a41dd": {
          "model_module": "@jupyter-widgets/controls",
          "model_name": "HTMLModel",
          "model_module_version": "1.5.0",
          "state": {
            "_dom_classes": [],
            "_model_module": "@jupyter-widgets/controls",
            "_model_module_version": "1.5.0",
            "_model_name": "HTMLModel",
            "_view_count": null,
            "_view_module": "@jupyter-widgets/controls",
            "_view_module_version": "1.5.0",
            "_view_name": "HTMLView",
            "description": "",
            "description_tooltip": null,
            "layout": "IPY_MODEL_511d2d9fbb73456ca5e3c9076e929dbe",
            "placeholder": "​",
            "style": "IPY_MODEL_cb1e1fafd084427c911b29c0767ca7e6",
            "value": " 183/183 [00:03&lt;00:00, 57.02it/s, v_num=1]"
          }
        },
        "65de1a76668b4c758fde69b15077d60d": {
          "model_module": "@jupyter-widgets/base",
          "model_name": "LayoutModel",
          "model_module_version": "1.2.0",
          "state": {
            "_model_module": "@jupyter-widgets/base",
            "_model_module_version": "1.2.0",
            "_model_name": "LayoutModel",
            "_view_count": null,
            "_view_module": "@jupyter-widgets/base",
            "_view_module_version": "1.2.0",
            "_view_name": "LayoutView",
            "align_content": null,
            "align_items": null,
            "align_self": null,
            "border": null,
            "bottom": null,
            "display": "inline-flex",
            "flex": null,
            "flex_flow": "row wrap",
            "grid_area": null,
            "grid_auto_columns": null,
            "grid_auto_flow": null,
            "grid_auto_rows": null,
            "grid_column": null,
            "grid_gap": null,
            "grid_row": null,
            "grid_template_areas": null,
            "grid_template_columns": null,
            "grid_template_rows": null,
            "height": null,
            "justify_content": null,
            "justify_items": null,
            "left": null,
            "margin": null,
            "max_height": null,
            "max_width": null,
            "min_height": null,
            "min_width": null,
            "object_fit": null,
            "object_position": null,
            "order": null,
            "overflow": null,
            "overflow_x": null,
            "overflow_y": null,
            "padding": null,
            "right": null,
            "top": null,
            "visibility": null,
            "width": "100%"
          }
        },
        "3546bf01801b4670b99aa71e293c79bb": {
          "model_module": "@jupyter-widgets/base",
          "model_name": "LayoutModel",
          "model_module_version": "1.2.0",
          "state": {
            "_model_module": "@jupyter-widgets/base",
            "_model_module_version": "1.2.0",
            "_model_name": "LayoutModel",
            "_view_count": null,
            "_view_module": "@jupyter-widgets/base",
            "_view_module_version": "1.2.0",
            "_view_name": "LayoutView",
            "align_content": null,
            "align_items": null,
            "align_self": null,
            "border": null,
            "bottom": null,
            "display": null,
            "flex": null,
            "flex_flow": null,
            "grid_area": null,
            "grid_auto_columns": null,
            "grid_auto_flow": null,
            "grid_auto_rows": null,
            "grid_column": null,
            "grid_gap": null,
            "grid_row": null,
            "grid_template_areas": null,
            "grid_template_columns": null,
            "grid_template_rows": null,
            "height": null,
            "justify_content": null,
            "justify_items": null,
            "left": null,
            "margin": null,
            "max_height": null,
            "max_width": null,
            "min_height": null,
            "min_width": null,
            "object_fit": null,
            "object_position": null,
            "order": null,
            "overflow": null,
            "overflow_x": null,
            "overflow_y": null,
            "padding": null,
            "right": null,
            "top": null,
            "visibility": null,
            "width": null
          }
        },
        "f0bd103f3e1c40848d84d1d45d0a5674": {
          "model_module": "@jupyter-widgets/controls",
          "model_name": "DescriptionStyleModel",
          "model_module_version": "1.5.0",
          "state": {
            "_model_module": "@jupyter-widgets/controls",
            "_model_module_version": "1.5.0",
            "_model_name": "DescriptionStyleModel",
            "_view_count": null,
            "_view_module": "@jupyter-widgets/base",
            "_view_module_version": "1.2.0",
            "_view_name": "StyleView",
            "description_width": ""
          }
        },
        "c6136ceca26b41f783d55c8d0a69265d": {
          "model_module": "@jupyter-widgets/base",
          "model_name": "LayoutModel",
          "model_module_version": "1.2.0",
          "state": {
            "_model_module": "@jupyter-widgets/base",
            "_model_module_version": "1.2.0",
            "_model_name": "LayoutModel",
            "_view_count": null,
            "_view_module": "@jupyter-widgets/base",
            "_view_module_version": "1.2.0",
            "_view_name": "LayoutView",
            "align_content": null,
            "align_items": null,
            "align_self": null,
            "border": null,
            "bottom": null,
            "display": null,
            "flex": "2",
            "flex_flow": null,
            "grid_area": null,
            "grid_auto_columns": null,
            "grid_auto_flow": null,
            "grid_auto_rows": null,
            "grid_column": null,
            "grid_gap": null,
            "grid_row": null,
            "grid_template_areas": null,
            "grid_template_columns": null,
            "grid_template_rows": null,
            "height": null,
            "justify_content": null,
            "justify_items": null,
            "left": null,
            "margin": null,
            "max_height": null,
            "max_width": null,
            "min_height": null,
            "min_width": null,
            "object_fit": null,
            "object_position": null,
            "order": null,
            "overflow": null,
            "overflow_x": null,
            "overflow_y": null,
            "padding": null,
            "right": null,
            "top": null,
            "visibility": null,
            "width": null
          }
        },
        "ebe623ec73604dcd9d7afeda82f1157c": {
          "model_module": "@jupyter-widgets/controls",
          "model_name": "ProgressStyleModel",
          "model_module_version": "1.5.0",
          "state": {
            "_model_module": "@jupyter-widgets/controls",
            "_model_module_version": "1.5.0",
            "_model_name": "ProgressStyleModel",
            "_view_count": null,
            "_view_module": "@jupyter-widgets/base",
            "_view_module_version": "1.2.0",
            "_view_name": "StyleView",
            "bar_color": null,
            "description_width": ""
          }
        },
        "511d2d9fbb73456ca5e3c9076e929dbe": {
          "model_module": "@jupyter-widgets/base",
          "model_name": "LayoutModel",
          "model_module_version": "1.2.0",
          "state": {
            "_model_module": "@jupyter-widgets/base",
            "_model_module_version": "1.2.0",
            "_model_name": "LayoutModel",
            "_view_count": null,
            "_view_module": "@jupyter-widgets/base",
            "_view_module_version": "1.2.0",
            "_view_name": "LayoutView",
            "align_content": null,
            "align_items": null,
            "align_self": null,
            "border": null,
            "bottom": null,
            "display": null,
            "flex": null,
            "flex_flow": null,
            "grid_area": null,
            "grid_auto_columns": null,
            "grid_auto_flow": null,
            "grid_auto_rows": null,
            "grid_column": null,
            "grid_gap": null,
            "grid_row": null,
            "grid_template_areas": null,
            "grid_template_columns": null,
            "grid_template_rows": null,
            "height": null,
            "justify_content": null,
            "justify_items": null,
            "left": null,
            "margin": null,
            "max_height": null,
            "max_width": null,
            "min_height": null,
            "min_width": null,
            "object_fit": null,
            "object_position": null,
            "order": null,
            "overflow": null,
            "overflow_x": null,
            "overflow_y": null,
            "padding": null,
            "right": null,
            "top": null,
            "visibility": null,
            "width": null
          }
        },
        "cb1e1fafd084427c911b29c0767ca7e6": {
          "model_module": "@jupyter-widgets/controls",
          "model_name": "DescriptionStyleModel",
          "model_module_version": "1.5.0",
          "state": {
            "_model_module": "@jupyter-widgets/controls",
            "_model_module_version": "1.5.0",
            "_model_name": "DescriptionStyleModel",
            "_view_count": null,
            "_view_module": "@jupyter-widgets/base",
            "_view_module_version": "1.2.0",
            "_view_name": "StyleView",
            "description_width": ""
          }
        }
      }
    }
  },
  "nbformat": 4,
  "nbformat_minor": 0
}