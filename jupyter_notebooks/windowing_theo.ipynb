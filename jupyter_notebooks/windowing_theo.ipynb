{
 "cells": [
  {
   "cell_type": "markdown",
   "metadata": {
    "id": "4juJRWDEkKO9"
   },
   "source": [
    "Based Arshia Azfal's code: Creat and format the train and test datasets for the Vision Transformer model\n",
    "Window the training and test data, into 3 second windows, maintaining a single label accross the window."
   ]
  },
  {
   "cell_type": "code",
   "execution_count": 84,
   "metadata": {
    "colab": {
     "base_uri": "https://localhost:8080/"
    },
    "executionInfo": {
     "elapsed": 2422,
     "status": "ok",
     "timestamp": 1731674830874,
     "user": {
      "displayName": "Theo Maetz",
      "userId": "01265100961774375470"
     },
     "user_tz": -60
    },
    "id": "bETnYV9f1syu",
    "outputId": "85911dfe-de3a-40f9-bdee-510204057377"
   },
   "outputs": [
    {
     "name": "stdout",
     "output_type": "stream",
     "text": [
      "Drive already mounted at /content/drive; to attempt to forcibly remount, call drive.mount(\"/content/drive\", force_remount=True).\n"
     ]
    }
   ],
   "source": [
    "from google.colab import drive\n",
    "drive.mount('/content/drive')"
   ]
  },
  {
   "cell_type": "code",
   "execution_count": 85,
   "metadata": {
    "executionInfo": {
     "elapsed": 3,
     "status": "ok",
     "timestamp": 1731674830874,
     "user": {
      "displayName": "Theo Maetz",
      "userId": "01265100961774375470"
     },
     "user_tz": -60
    },
    "id": "wkwsmwAV1no2"
   },
   "outputs": [],
   "source": [
    "import numpy as np\n",
    "import os\n",
    "import pickle\n",
    "from tqdm import tqdm as tqdm"
   ]
  },
  {
   "cell_type": "code",
   "execution_count": 86,
   "metadata": {
    "executionInfo": {
     "elapsed": 73419,
     "status": "ok",
     "timestamp": 1731674904291,
     "user": {
      "displayName": "Theo Maetz",
      "userId": "01265100961774375470"
     },
     "user_tz": -60
    },
    "id": "doD-ZOfT1no4"
   },
   "outputs": [],
   "source": [
    "Train_data = np.load('/content/drive/MyDrive/Colab Notebooks/INL/processed_data/Train_data.npy', allow_pickle = True)\n",
    "train_channels = np.load('/content/drive/MyDrive/Colab Notebooks/INL/processed_data/Ch_train.npy', allow_pickle = True)\n",
    "Test_data = np.load('/content/drive/MyDrive/Colab Notebooks/INL/processed_data/Test_data.npy', allow_pickle = True)\n",
    "test_channels = np.load('/content/drive/MyDrive/Colab Notebooks/INL/processed_data/Ch_test.npy', allow_pickle = True)"
   ]
  },
  {
   "cell_type": "code",
   "execution_count": 87,
   "metadata": {
    "colab": {
     "base_uri": "https://localhost:8080/"
    },
    "executionInfo": {
     "elapsed": 9,
     "status": "ok",
     "timestamp": 1731674904291,
     "user": {
      "displayName": "Theo Maetz",
      "userId": "01265100961774375470"
     },
     "user_tz": -60
    },
    "id": "Cb0Ci2ih4Rjp",
    "outputId": "b0651dd9-b0b5-4fa1-a072-a0a261e092b6"
   },
   "outputs": [
    {
     "data": {
      "text/plain": [
       "(192,)"
      ]
     },
     "execution_count": 87,
     "metadata": {},
     "output_type": "execute_result"
    }
   ],
   "source": [
    "Train_data.shape"
   ]
  },
  {
   "cell_type": "code",
   "execution_count": 88,
   "metadata": {
    "colab": {
     "base_uri": "https://localhost:8080/"
    },
    "executionInfo": {
     "elapsed": 8,
     "status": "ok",
     "timestamp": 1731674904291,
     "user": {
      "displayName": "Theo Maetz",
      "userId": "01265100961774375470"
     },
     "user_tz": -60
    },
    "id": "B-HYSl4Y3LPq",
    "outputId": "dfa9c1ef-3d10-45da-abb1-d0109ae981a7"
   },
   "outputs": [
    {
     "data": {
      "text/plain": [
       "(56, 162663)"
      ]
     },
     "execution_count": 88,
     "metadata": {},
     "output_type": "execute_result"
    }
   ],
   "source": [
    "Train_data[32].shape"
   ]
  },
  {
   "cell_type": "code",
   "execution_count": 89,
   "metadata": {
    "colab": {
     "base_uri": "https://localhost:8080/"
    },
    "executionInfo": {
     "elapsed": 7,
     "status": "ok",
     "timestamp": 1731674904291,
     "user": {
      "displayName": "Theo Maetz",
      "userId": "01265100961774375470"
     },
     "user_tz": -60
    },
    "id": "IPjpalph4LV2",
    "outputId": "ad884724-6d23-4608-8897-a49713d26698"
   },
   "outputs": [
    {
     "data": {
      "text/plain": [
       "['add_ch_0',\n",
       " 'add_ch_1',\n",
       " 'add_ch_2',\n",
       " 'add_ch_3',\n",
       " 'add_ch_4',\n",
       " 'add_ch_5',\n",
       " 'add_ch_6',\n",
       " 'add_ch_7',\n",
       " 'add_ch_8',\n",
       " 'is_updating',\n",
       " 'states',\n",
       " 'state__idle',\n",
       " 'state__shoulder__flexion',\n",
       " 'state__shoulder__extension',\n",
       " 'state__shoulder__adduction',\n",
       " 'state__shoulder__abduction',\n",
       " 'state__shoulder__internal_rotation',\n",
       " 'state__shoulder__external_rotation',\n",
       " 'state__elbow__flexion',\n",
       " 'state__elbow__extension',\n",
       " 'state__wrist__pronation',\n",
       " 'state__wrist__supination',\n",
       " 'state__hand__open',\n",
       " 'state__hand__close',\n",
       " 'ecog_0',\n",
       " 'ecog_1',\n",
       " 'ecog_2',\n",
       " 'ecog_3',\n",
       " 'ecog_4',\n",
       " 'ecog_5',\n",
       " 'ecog_6',\n",
       " 'ecog_7',\n",
       " 'ecog_8',\n",
       " 'ecog_9',\n",
       " 'ecog_10',\n",
       " 'ecog_11',\n",
       " 'ecog_12',\n",
       " 'ecog_13',\n",
       " 'ecog_14',\n",
       " 'ecog_15',\n",
       " 'ecog_16',\n",
       " 'ecog_17',\n",
       " 'ecog_18',\n",
       " 'ecog_19',\n",
       " 'ecog_20',\n",
       " 'ecog_21',\n",
       " 'ecog_22',\n",
       " 'ecog_23',\n",
       " 'ecog_24',\n",
       " 'ecog_25',\n",
       " 'ecog_26',\n",
       " 'ecog_27',\n",
       " 'ecog_28',\n",
       " 'ecog_29',\n",
       " 'ecog_30',\n",
       " 'ecog_31']"
      ]
     },
     "execution_count": 89,
     "metadata": {},
     "output_type": "execute_result"
    }
   ],
   "source": [
    "train_channels[0]"
   ]
  },
  {
   "cell_type": "code",
   "execution_count": 90,
   "metadata": {
    "colab": {
     "base_uri": "https://localhost:8080/"
    },
    "executionInfo": {
     "elapsed": 5,
     "status": "ok",
     "timestamp": 1731674904291,
     "user": {
      "displayName": "Theo Maetz",
      "userId": "01265100961774375470"
     },
     "user_tz": -60
    },
    "id": "2MpSq4nITk02",
    "outputId": "c97026fa-fb5d-4013-e865-d76009a30e24"
   },
   "outputs": [
    {
     "data": {
      "text/plain": [
       "{0: 'state__idle',\n",
       " 1: 'state__shoulder__flexion',\n",
       " 2: 'state__shoulder__extension',\n",
       " 3: 'state__shoulder__adduction',\n",
       " 4: 'state__shoulder__abduction',\n",
       " 5: 'state__shoulder__internal_rotation',\n",
       " 6: 'state__shoulder__external_rotation',\n",
       " 7: 'state__elbow__flexion',\n",
       " 8: 'state__elbow__extension',\n",
       " 9: 'state__wrist__pronation',\n",
       " 10: 'state__wrist__supination',\n",
       " 11: 'state__hand__open',\n",
       " 12: 'state__hand__close'}"
      ]
     },
     "execution_count": 90,
     "metadata": {},
     "output_type": "execute_result"
    }
   ],
   "source": [
    "# State Labels\n",
    "label_names = train_channels[0][11:24]\n",
    "idx2label = {index: value for index, value in enumerate(label_names)}\n",
    "label2idx = {value: index for index, value in enumerate(label_names)}\n",
    "idx2label"
   ]
  },
  {
   "cell_type": "code",
   "execution_count": 91,
   "metadata": {
    "executionInfo": {
     "elapsed": 3,
     "status": "ok",
     "timestamp": 1731674904291,
     "user": {
      "displayName": "Theo Maetz",
      "userId": "01265100961774375470"
     },
     "user_tz": -60
    },
    "id": "45NwuQru1no7"
   },
   "outputs": [],
   "source": [
    "fs = 590 #Hz\n",
    "\n",
    "X_train = []\n",
    "y_train = []\n",
    "X_test = []\n",
    "y_test = []\n",
    "\n",
    "for data in Train_data:\n",
    "\n",
    "    if data.shape[0] == 56 and data.shape[1] != 0: # Only keep shape of 56 channels for simplicity and coherence\n",
    "        y = data[11:24,:] #13 state channels\n",
    "        x = data[-31:,:] #31 ecog channels\n",
    "    else:\n",
    "      continue\n",
    "\n",
    "    assert x.shape[1] == y.shape[1] , 'Shape of the labels and ecog data does not match'\n",
    "\n",
    "    for t in range(0,x.shape[1]-3*fs-1,fs):\n",
    "        X_train.append( x[:,t:t+3*fs] )\n",
    "        y_train.append( y[:,t:t+3*fs] )\n",
    "\n",
    "for data in Test_data:\n",
    "\n",
    "    if data.shape[0] == 56 and data.shape[1] != 0:\n",
    "        y = data[11:24,:]\n",
    "        x = data[-31:,:]\n",
    "    else:\n",
    "      continue\n",
    "\n",
    "    assert x.shape[1] == y.shape[1] , 'Shape of the labels and ecog data does not match'\n",
    "\n",
    "    for t in range(0,x.shape[1]-3*fs-1,fs):\n",
    "        X_test.append(x[:,t:t+3*fs])\n",
    "        y_test.append(y[:,t:t+3*fs])"
   ]
  },
  {
   "cell_type": "code",
   "execution_count": 92,
   "metadata": {
    "executionInfo": {
     "elapsed": 31841,
     "status": "ok",
     "timestamp": 1731674936129,
     "user": {
      "displayName": "Theo Maetz",
      "userId": "01265100961774375470"
     },
     "user_tz": -60
    },
    "id": "0Pp7J8I21no8"
   },
   "outputs": [],
   "source": [
    "X_train = np.array(X_train)\n",
    "Y = np.array(y_train)\n",
    "X_test = np.array(X_test)\n",
    "Y_test = np.array(y_test)"
   ]
  },
  {
   "cell_type": "code",
   "execution_count": 93,
   "metadata": {
    "colab": {
     "base_uri": "https://localhost:8080/"
    },
    "executionInfo": {
     "elapsed": 5,
     "status": "ok",
     "timestamp": 1731674936130,
     "user": {
      "displayName": "Theo Maetz",
      "userId": "01265100961774375470"
     },
     "user_tz": -60
    },
    "id": "fzlUs1LQBiWR",
    "outputId": "bed5a75a-a211-4da9-dad2-800f67eb6f22"
   },
   "outputs": [
    {
     "data": {
      "text/plain": [
       "(21760, 31, 1770)"
      ]
     },
     "execution_count": 93,
     "metadata": {},
     "output_type": "execute_result"
    }
   ],
   "source": [
    "X_train.shape"
   ]
  },
  {
   "cell_type": "code",
   "execution_count": 94,
   "metadata": {
    "colab": {
     "base_uri": "https://localhost:8080/"
    },
    "executionInfo": {
     "elapsed": 4,
     "status": "ok",
     "timestamp": 1731674936130,
     "user": {
      "displayName": "Theo Maetz",
      "userId": "01265100961774375470"
     },
     "user_tz": -60
    },
    "id": "ml2_ri-5Bllk",
    "outputId": "6c9a7646-bc1d-44b4-b2dc-655253031c87"
   },
   "outputs": [
    {
     "data": {
      "text/plain": [
       "(21760, 13, 1770)"
      ]
     },
     "execution_count": 94,
     "metadata": {},
     "output_type": "execute_result"
    }
   ],
   "source": [
    "Y.shape"
   ]
  },
  {
   "cell_type": "code",
   "execution_count": 95,
   "metadata": {
    "colab": {
     "base_uri": "https://localhost:8080/"
    },
    "executionInfo": {
     "elapsed": 5241,
     "status": "ok",
     "timestamp": 1731674941369,
     "user": {
      "displayName": "Theo Maetz",
      "userId": "01265100961774375470"
     },
     "user_tz": -60
    },
    "id": "OD0UkM1Z7Uil",
    "outputId": "29cc4449-62b4-40fb-a1d1-73176511c8f5"
   },
   "outputs": [
    {
     "name": "stdout",
     "output_type": "stream",
     "text": [
      "label.shape: (21760, 1770)\n",
      "label_test.shape: (4201, 1770)\n"
     ]
    }
   ],
   "source": [
    "label = np.argmax(Y , axis=1) # Only the first occurence is kept, importance in order of labeling\n",
    "print(f\"label.shape: {label.shape}\")\n",
    "label_test = np.argmax(Y_test , axis=1) # Only the first occurence is kept, importance in order of labeling\n",
    "print(f\"label_test.shape: {label_test.shape}\")"
   ]
  },
  {
   "cell_type": "code",
   "execution_count": 97,
   "metadata": {
    "colab": {
     "base_uri": "https://localhost:8080/"
    },
    "executionInfo": {
     "elapsed": 484,
     "status": "ok",
     "timestamp": 1731674941851,
     "user": {
      "displayName": "Theo Maetz",
      "userId": "01265100961774375470"
     },
     "user_tz": -60
    },
    "id": "UKoNDev2uPQm",
    "outputId": "29f6a34f-6453-4313-9e78-29139a3b1560"
   },
   "outputs": [
    {
     "data": {
      "text/plain": [
       "{0: 21678429,\n",
       " 1: 3043928,\n",
       " 7: 402380,\n",
       " 8: 5700580,\n",
       " 9: 2293684,\n",
       " 10: 368514,\n",
       " 11: 2975252,\n",
       " 12: 2052433}"
      ]
     },
     "execution_count": 97,
     "metadata": {},
     "output_type": "execute_result"
    }
   ],
   "source": [
    "unique_values, counts = np.unique(label, return_counts=True)\n",
    "idx_counts = dict(zip(unique_values, counts))\n",
    "idx_counts"
   ]
  },
  {
   "cell_type": "code",
   "execution_count": 127,
   "metadata": {
    "colab": {
     "base_uri": "https://localhost:8080/"
    },
    "executionInfo": {
     "elapsed": 573,
     "status": "ok",
     "timestamp": 1731678136953,
     "user": {
      "displayName": "Theo Maetz",
      "userId": "01265100961774375470"
     },
     "user_tz": -60
    },
    "id": "K94BUE_NAmQt",
    "outputId": "a8d02c22-546b-4c84-971b-753cb4428ef0"
   },
   "outputs": [
    {
     "data": {
      "text/plain": [
       "{0: 4144396,\n",
       " 1: 217533,\n",
       " 7: 155524,\n",
       " 8: 736969,\n",
       " 9: 716496,\n",
       " 10: 33453,\n",
       " 11: 870191,\n",
       " 12: 561208}"
      ]
     },
     "execution_count": 127,
     "metadata": {},
     "output_type": "execute_result"
    }
   ],
   "source": [
    "# Verify test has the same states represented\n",
    "unique_values, counts = np.unique(label_test, return_counts=True)\n",
    "idx_test_counts = dict(zip(unique_values, counts))\n",
    "assert idx_test_counts.keys() == idx_counts.keys()\n",
    "idx_test_counts"
   ]
  },
  {
   "cell_type": "code",
   "execution_count": 98,
   "metadata": {
    "colab": {
     "base_uri": "https://localhost:8080/"
    },
    "executionInfo": {
     "elapsed": 6,
     "status": "ok",
     "timestamp": 1731674941851,
     "user": {
      "displayName": "Theo Maetz",
      "userId": "01265100961774375470"
     },
     "user_tz": -60
    },
    "id": "-DQsGkAvudH8",
    "outputId": "5a4c70bb-2fe3-4cc0-9984-4d4f9291324f"
   },
   "outputs": [
    {
     "data": {
      "text/plain": [
       "{'state__idle': 21678429,\n",
       " 'state__shoulder__flexion': 3043928,\n",
       " 'state__elbow__flexion': 402380,\n",
       " 'state__elbow__extension': 5700580,\n",
       " 'state__wrist__pronation': 2293684,\n",
       " 'state__wrist__supination': 368514,\n",
       " 'state__hand__open': 2975252,\n",
       " 'state__hand__close': 2052433}"
      ]
     },
     "execution_count": 98,
     "metadata": {},
     "output_type": "execute_result"
    }
   ],
   "source": [
    "label_counts = {idx2label[key]: value for key, value in idx_counts.items()}\n",
    "label_counts"
   ]
  },
  {
   "cell_type": "code",
   "execution_count": 99,
   "metadata": {
    "colab": {
     "base_uri": "https://localhost:8080/"
    },
    "executionInfo": {
     "elapsed": 584,
     "status": "ok",
     "timestamp": 1731674965197,
     "user": {
      "displayName": "Theo Maetz",
      "userId": "01265100961774375470"
     },
     "user_tz": -60
    },
    "id": "WudP1WJFnN20",
    "outputId": "4cebe3ab-be81-442e-d874-92d12a3e877c"
   },
   "outputs": [
    {
     "name": "stdout",
     "output_type": "stream",
     "text": [
      "0, state__idle: 21678429\n",
      "1, state__shoulder__flexion: 3043928\n",
      "7, state__elbow__flexion: 402380\n",
      "8, state__elbow__extension: 5700580\n",
      "9, state__wrist__pronation: 2293684\n",
      "10, state__wrist__supination: 368514\n",
      "11, state__hand__open: 2975252\n",
      "12, state__hand__close: 2052433\n"
     ]
    }
   ],
   "source": [
    "label_counts = {idx2label[key]: value for key, value in idx_counts.items()}\n",
    "label_counts\n",
    "\n",
    "for value in label_counts.keys():\n",
    "  print(f\"{label2idx[value]}, {value}: {label_counts[value]}\")\n",
    "#Not every label is represented in the training data"
   ]
  },
  {
   "cell_type": "code",
   "execution_count": null,
   "metadata": {
    "id": "rZBa-D0R7e9T"
   },
   "outputs": [],
   "source": [
    "label[label>=8] = label[label>=8]-6 # remap\n",
    "label[label>=8] = label[label>=8]-6 # remap\n",
    "num_cls_train = np.max(label) # number of classes\n",
    "\n",
    "label_test[label_test>=8] = label_test[label_test>=8]-6 # remap\n",
    "label_test[label_test>=8] = label_test[label_test>=8]-6 # remap\n",
    "num_cls_test= np.max(label_test) # number of classes"
   ]
  },
  {
   "cell_type": "code",
   "execution_count": 73,
   "metadata": {
    "colab": {
     "base_uri": "https://localhost:8080/"
    },
    "executionInfo": {
     "elapsed": 528,
     "status": "ok",
     "timestamp": 1731673266204,
     "user": {
      "displayName": "Theo Maetz",
      "userId": "01265100961774375470"
     },
     "user_tz": -60
    },
    "id": "lIlzojgbxFKh",
    "outputId": "be3b8792-4f16-4b04-c889-c3f6544e9965"
   },
   "outputs": [
    {
     "name": "stdout",
     "output_type": "stream",
     "text": [
      "0, state__idle: 21678429\n",
      "1, state__shoulder__flexion: 3043928\n",
      "7, state__elbow__flexion: 402380\n",
      "2, state__elbow__extension: 5700580\n",
      "3, state__wrist__pronation: 2293684\n",
      "4, state__wrist__supination: 368514\n",
      "5, state__hand__open: 2975252\n",
      "6, state__hand__close: 2052433\n"
     ]
    }
   ],
   "source": [
    "# new labels after remapping\n",
    "for value in label_counts.keys():\n",
    "  print(f\"{label2idx[value] - 6 if label2idx[value] >= 8 else label2idx[value]}, {value}: {label_counts[value]}\")"
   ]
  },
  {
   "cell_type": "code",
   "execution_count": 117,
   "metadata": {
    "colab": {
     "base_uri": "https://localhost:8080/"
    },
    "executionInfo": {
     "elapsed": 535,
     "status": "ok",
     "timestamp": 1731676553124,
     "user": {
      "displayName": "Theo Maetz",
      "userId": "01265100961774375470"
     },
     "user_tz": -60
    },
    "id": "uogml5Gr5onm",
    "outputId": "80b86b94-2963-4507-bfde-7de155b13de9"
   },
   "outputs": [
    {
     "data": {
      "text/plain": [
       "{'state__idle': 0,\n",
       " 'state__shoulder__flexion': 1,\n",
       " 'state__elbow__extension': 2,\n",
       " 'state__wrist__pronation': 3,\n",
       " 'state__wrist__supination': 4,\n",
       " 'state__hand__open': 5,\n",
       " 'state__hand__close': 6,\n",
       " 'state__elbow__flexion': 7}"
      ]
     },
     "execution_count": 117,
     "metadata": {},
     "output_type": "execute_result"
    }
   ],
   "source": [
    "# Sort and create new label dictionaries for the represented states in the dataset\n",
    "new_label2idx = {key: label2idx[key] - 6 if label2idx[key] >= 8 else label2idx[key] for key in label_counts.keys()}\n",
    "new_idx2label = dict(sorted({value: key for key, value in new_label2idx.items()}.items()))\n",
    "new_label2idx = {value: key for key, value in new_idx2label.items()}\n",
    "new_label2idx"
   ]
  },
  {
   "cell_type": "code",
   "execution_count": null,
   "metadata": {
    "id": "mzCKQ1aL8y_7"
   },
   "outputs": [],
   "source": [
    "X_train , label = X_train[np.min(label,1) == np.max(label,1),:,:] ,  label[np.min(label,1) == np.max(label,1)] #ensure label is the same during the time window\n",
    "\n",
    "X_test , label_test = X_test[np.min(label_test,1) == np.max(label_test,1),:,:] ,  label_test[np.min(label_test,1) == np.max(label_test,1)] #ensure label is the same during the time window"
   ]
  },
  {
   "cell_type": "code",
   "execution_count": null,
   "metadata": {
    "colab": {
     "base_uri": "https://localhost:8080/"
    },
    "executionInfo": {
     "elapsed": 6,
     "status": "ok",
     "timestamp": 1729861753190,
     "user": {
      "displayName": "Theo Maetz",
      "userId": "01265100961774375470"
     },
     "user_tz": -120
    },
    "id": "uyY4EKHo83D7",
    "outputId": "466fb3de-9053-4633-bfb4-03a5ba877ce7"
   },
   "outputs": [
    {
     "data": {
      "text/plain": [
       "(2237,)"
      ]
     },
     "execution_count": 10,
     "metadata": {},
     "output_type": "execute_result"
    }
   ],
   "source": [
    "label = np.mean(label,1) #Keep only the label of the time window\n",
    "label.shape\n",
    "\n",
    "label_test = np.mean(label_test,1) #Keep only the label of the time window\n",
    "label_test.shape"
   ]
  },
  {
   "cell_type": "code",
   "execution_count": null,
   "metadata": {
    "colab": {
     "base_uri": "https://localhost:8080/"
    },
    "executionInfo": {
     "elapsed": 485,
     "status": "ok",
     "timestamp": 1729861791189,
     "user": {
      "displayName": "Theo Maetz",
      "userId": "01265100961774375470"
     },
     "user_tz": -120
    },
    "id": "EZz3zlfwzBYS",
    "outputId": "080a0beb-111e-4fec-cab7-54b262f04c7d"
   },
   "outputs": [
    {
     "data": {
      "text/plain": [
       "(11730,)"
      ]
     },
     "execution_count": 12,
     "metadata": {},
     "output_type": "execute_result"
    }
   ],
   "source": [
    "label.shape"
   ]
  },
  {
   "cell_type": "code",
   "execution_count": null,
   "metadata": {
    "id": "fe80o5XZbwz1"
   },
   "outputs": [],
   "source": [
    "np.save('X_train.npy', X_train)\n",
    "np.save('label.npy', label)\n",
    "\n",
    "np.save('X_test.npy', X_test)\n",
    "np.save('label_test.npy', label_test)"
   ]
  }
 ],
 "metadata": {
  "colab": {
   "machine_shape": "hm",
   "provenance": []
  },
  "kernelspec": {
   "display_name": "base",
   "language": "python",
   "name": "python3"
  },
  "language_info": {
   "codemirror_mode": {
    "name": "ipython",
    "version": 3
   },
   "file_extension": ".py",
   "mimetype": "text/x-python",
   "name": "python",
   "nbconvert_exporter": "python",
   "pygments_lexer": "ipython3",
   "version": "3.12.2"
  }
 },
 "nbformat": 4,
 "nbformat_minor": 0
}
