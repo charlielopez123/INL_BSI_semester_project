{
 "cells": [
  {
   "cell_type": "code",
   "execution_count": 1,
   "metadata": {},
   "outputs": [],
   "source": [
    "import numpy as np\n",
    "import os\n",
    "from tqdm import tqdm as tqdm\n",
    "\n",
    "from pathlib import Path\n",
    "\n",
    "import sys\n",
    "sys.path.append('/Users/theomaetz/Downloads/MA3/INL/Setup/lighthouse-main')\n",
    "\n",
    "from lighthouse.data_loader.load_chuv import load_absd\n",
    "from lighthouse import metadata"
   ]
  },
  {
   "cell_type": "code",
   "execution_count": 2,
   "metadata": {},
   "outputs": [],
   "source": [
    "os.environ[\"DATA_DIR\"] = \"/Volumes\"\n",
    "X = []\n",
    "Dir = []\n",
    "Train_Dir = []\n",
    "testing_sessions = metadata.get_testing_sessions()"
   ]
  },
  {
   "cell_type": "code",
   "execution_count": 3,
   "metadata": {},
   "outputs": [
    {
     "data": {
      "text/plain": [
       "8"
      ]
     },
     "execution_count": 3,
     "metadata": {},
     "output_type": "execute_result"
    }
   ],
   "source": [
    "len(testing_sessions)"
   ]
  },
  {
   "cell_type": "code",
   "execution_count": 4,
   "metadata": {},
   "outputs": [],
   "source": [
    "import numpy as np\n",
    "from tqdm import tqdm\n",
    "from pathlib import Path\n",
    "\n",
    "# Function to read checkpoint from file\n",
    "def read_checkpoint(filename='checkpoint_test.txt'):\n",
    "    try:\n",
    "        with open(filename, 'r') as f:\n",
    "            return int(f.read().strip())\n",
    "    except FileNotFoundError:\n",
    "        return 0  # Start from the beginning if no checkpoint exists\n",
    "\n",
    "# Function to write checkpoint to file\n",
    "def write_checkpoint(session_index, filename='checkpoint_test.txt'):\n",
    "    with open(filename, 'w') as f:\n",
    "        f.write(str(session_index + 1))"
   ]
  },
  {
   "cell_type": "code",
   "execution_count": 5,
   "metadata": {},
   "outputs": [
    {
     "name": "stdout",
     "output_type": "stream",
     "text": [
      "Found File\n",
      "Starting from session: 5\n"
     ]
    },
    {
     "name": "stderr",
     "output_type": "stream",
     "text": [
      "  0%|          | 0/3 [00:00<?, ?it/s]"
     ]
    },
    {
     "name": "stdout",
     "output_type": "stream",
     "text": [
      "Current session: (PosixPath('/Volumes/__UP2/0_RAW_DATA/UP2_001/UP2001_2024_01_10_Rehabilitation_day24'), 5)\n"
     ]
    },
    {
     "name": "stderr",
     "output_type": "stream",
     "text": [
      "\u001b[32m2024-10-17 08:56:11.638\u001b[0m | \u001b[1mINFO    \u001b[0m | \u001b[36mlighthouse.data_loader.load_chuv\u001b[0m:\u001b[36mconcatenate_dt5\u001b[0m:\u001b[36m497\u001b[0m - \u001b[1mLoading /Volumes/__UP2/0_RAW_DATA/UP2_001/UP2001_2024_01_10_Rehabilitation_day24/wisci/ABSD data/2024_01_10_13_21_24_01of02.dt5\u001b[0m\n",
      "\u001b[32m2024-10-17 09:01:22.193\u001b[0m | \u001b[1mINFO    \u001b[0m | \u001b[36mlighthouse.data_loader.load_chuv\u001b[0m:\u001b[36mload_dt5\u001b[0m:\u001b[36m196\u001b[0m - \u001b[1mScenario Name: classBCIViewerAvatarAllDegreesCourtine\u001b[0m\n",
      "\u001b[32m2024-10-17 09:01:22.210\u001b[0m | \u001b[1mINFO    \u001b[0m | \u001b[36mlighthouse.data_loader.load_chuv\u001b[0m:\u001b[36mload_dt5\u001b[0m:\u001b[36m199\u001b[0m - \u001b[1mSub Scenario Name: classBSISubScenarioUpperJointsClassif\u001b[0m\n",
      "\u001b[32m2024-10-17 09:01:27.954\u001b[0m | \u001b[1mINFO    \u001b[0m | \u001b[36mlighthouse.data_loader.load_chuv\u001b[0m:\u001b[36mconcatenate_dt5\u001b[0m:\u001b[36m497\u001b[0m - \u001b[1mLoading /Volumes/__UP2/0_RAW_DATA/UP2_001/UP2001_2024_01_10_Rehabilitation_day24/wisci/ABSD data/2024_01_10_13_21_24_02of02.dt5\u001b[0m\n",
      "/var/folders/bv/m44_t4vj2sl8r_5ljvsxts2w0000gn/T/ipykernel_68521/2724180887.py:44: DeprecationWarning: Conversion of an array with ndim > 0 to a scalar is deprecated, and will error in future. Ensure you extract a single element from your array before performing this operation. (Deprecated NumPy 1.25.)\n",
      "  update_index = int(np.argwhere(np.array(ch_names) == 'is_updating'))\n"
     ]
    },
    {
     "name": "stdout",
     "output_type": "stream",
     "text": [
      "Signals shape: (88, 296888)\n",
      "New signal shape: (88, 0)\n",
      "length of data: 15\n"
     ]
    },
    {
     "name": "stderr",
     "output_type": "stream",
     "text": [
      "\u001b[32m2024-10-17 09:04:29.876\u001b[0m | \u001b[1mINFO    \u001b[0m | \u001b[36mlighthouse.data_loader.load_chuv\u001b[0m:\u001b[36mconcatenate_dt5\u001b[0m:\u001b[36m497\u001b[0m - \u001b[1mLoading /Volumes/__UP2/0_RAW_DATA/UP2_001/UP2001_2024_01_10_Rehabilitation_day24/wisci/2024_01_10_13_16_38 (rec2)/ABSD data/2024_01_10_13_31_30_01of09.dt5\u001b[0m\n",
      "\u001b[32m2024-10-17 09:10:15.859\u001b[0m | \u001b[1mINFO    \u001b[0m | \u001b[36mlighthouse.data_loader.load_chuv\u001b[0m:\u001b[36mload_dt5\u001b[0m:\u001b[36m196\u001b[0m - \u001b[1mScenario Name: classBCIViewerAvatarAllDegreesCourtine\u001b[0m\n",
      "\u001b[32m2024-10-17 09:10:15.865\u001b[0m | \u001b[1mINFO    \u001b[0m | \u001b[36mlighthouse.data_loader.load_chuv\u001b[0m:\u001b[36mload_dt5\u001b[0m:\u001b[36m199\u001b[0m - \u001b[1mSub Scenario Name: classBSISubScenarioUpperJointsClassif\u001b[0m\n",
      "\u001b[32m2024-10-17 09:10:21.199\u001b[0m | \u001b[1mINFO    \u001b[0m | \u001b[36mlighthouse.data_loader.load_chuv\u001b[0m:\u001b[36mconcatenate_dt5\u001b[0m:\u001b[36m497\u001b[0m - \u001b[1mLoading /Volumes/__UP2/0_RAW_DATA/UP2_001/UP2001_2024_01_10_Rehabilitation_day24/wisci/2024_01_10_13_16_38 (rec2)/ABSD data/2024_01_10_13_31_30_02of09.dt5\u001b[0m\n",
      "\u001b[32m2024-10-17 09:14:29.742\u001b[0m | \u001b[1mINFO    \u001b[0m | \u001b[36mlighthouse.data_loader.load_chuv\u001b[0m:\u001b[36mconcatenate_dt5\u001b[0m:\u001b[36m497\u001b[0m - \u001b[1mLoading /Volumes/__UP2/0_RAW_DATA/UP2_001/UP2001_2024_01_10_Rehabilitation_day24/wisci/2024_01_10_13_16_38 (rec2)/ABSD data/2024_01_10_13_31_30_03of09.dt5\u001b[0m\n",
      "\u001b[32m2024-10-17 09:20:43.118\u001b[0m | \u001b[1mINFO    \u001b[0m | \u001b[36mlighthouse.data_loader.load_chuv\u001b[0m:\u001b[36mconcatenate_dt5\u001b[0m:\u001b[36m497\u001b[0m - \u001b[1mLoading /Volumes/__UP2/0_RAW_DATA/UP2_001/UP2001_2024_01_10_Rehabilitation_day24/wisci/2024_01_10_13_16_38 (rec2)/ABSD data/2024_01_10_13_31_30_04of09.dt5\u001b[0m\n",
      "\u001b[32m2024-10-17 09:27:16.739\u001b[0m | \u001b[1mINFO    \u001b[0m | \u001b[36mlighthouse.data_loader.load_chuv\u001b[0m:\u001b[36mconcatenate_dt5\u001b[0m:\u001b[36m497\u001b[0m - \u001b[1mLoading /Volumes/__UP2/0_RAW_DATA/UP2_001/UP2001_2024_01_10_Rehabilitation_day24/wisci/2024_01_10_13_16_38 (rec2)/ABSD data/2024_01_10_13_31_30_05of09.dt5\u001b[0m\n",
      "\u001b[32m2024-10-17 09:33:46.600\u001b[0m | \u001b[1mINFO    \u001b[0m | \u001b[36mlighthouse.data_loader.load_chuv\u001b[0m:\u001b[36mconcatenate_dt5\u001b[0m:\u001b[36m497\u001b[0m - \u001b[1mLoading /Volumes/__UP2/0_RAW_DATA/UP2_001/UP2001_2024_01_10_Rehabilitation_day24/wisci/2024_01_10_13_16_38 (rec2)/ABSD data/2024_01_10_13_31_30_06of09.dt5\u001b[0m\n",
      "\u001b[32m2024-10-17 09:40:23.792\u001b[0m | \u001b[1mINFO    \u001b[0m | \u001b[36mlighthouse.data_loader.load_chuv\u001b[0m:\u001b[36mconcatenate_dt5\u001b[0m:\u001b[36m497\u001b[0m - \u001b[1mLoading /Volumes/__UP2/0_RAW_DATA/UP2_001/UP2001_2024_01_10_Rehabilitation_day24/wisci/2024_01_10_13_16_38 (rec2)/ABSD data/2024_01_10_13_31_30_07of09.dt5\u001b[0m\n",
      "\u001b[32m2024-10-17 09:44:43.909\u001b[0m | \u001b[1mINFO    \u001b[0m | \u001b[36mlighthouse.data_loader.load_chuv\u001b[0m:\u001b[36mconcatenate_dt5\u001b[0m:\u001b[36m497\u001b[0m - \u001b[1mLoading /Volumes/__UP2/0_RAW_DATA/UP2_001/UP2001_2024_01_10_Rehabilitation_day24/wisci/2024_01_10_13_16_38 (rec2)/ABSD data/2024_01_10_13_31_30_08of09.dt5\u001b[0m\n",
      "\u001b[32m2024-10-17 09:49:03.952\u001b[0m | \u001b[1mINFO    \u001b[0m | \u001b[36mlighthouse.data_loader.load_chuv\u001b[0m:\u001b[36mconcatenate_dt5\u001b[0m:\u001b[36m497\u001b[0m - \u001b[1mLoading /Volumes/__UP2/0_RAW_DATA/UP2_001/UP2001_2024_01_10_Rehabilitation_day24/wisci/2024_01_10_13_16_38 (rec2)/ABSD data/2024_01_10_13_31_30_09of09.dt5\u001b[0m\n"
     ]
    },
    {
     "name": "stdout",
     "output_type": "stream",
     "text": [
      "Signals shape: (88, 1583914)\n",
      "New signal shape: (88, 300723)\n",
      "length of data: 16\n"
     ]
    },
    {
     "name": "stderr",
     "output_type": "stream",
     "text": [
      "\u001b[32m2024-10-17 09:53:18.449\u001b[0m | \u001b[1mINFO    \u001b[0m | \u001b[36mlighthouse.data_loader.load_chuv\u001b[0m:\u001b[36mconcatenate_dt5\u001b[0m:\u001b[36m497\u001b[0m - \u001b[1mLoading /Volumes/__UP2/0_RAW_DATA/UP2_001/UP2001_2024_01_10_Rehabilitation_day24/wisci/2024_01_10_14_17_46 (rec3)/ABSD data/2024_01_10_14_21_11_01of18.dt5\u001b[0m\n",
      "\u001b[32m2024-10-17 10:00:54.195\u001b[0m | \u001b[1mINFO    \u001b[0m | \u001b[36mlighthouse.data_loader.load_chuv\u001b[0m:\u001b[36mload_dt5\u001b[0m:\u001b[36m196\u001b[0m - \u001b[1mScenario Name: classBCIViewerAvatarAllDegreesCourtine\u001b[0m\n",
      "\u001b[32m2024-10-17 10:00:54.209\u001b[0m | \u001b[1mINFO    \u001b[0m | \u001b[36mlighthouse.data_loader.load_chuv\u001b[0m:\u001b[36mload_dt5\u001b[0m:\u001b[36m199\u001b[0m - \u001b[1mSub Scenario Name: classBSISubScenarioUpperJointsClassif\u001b[0m\n",
      "\u001b[32m2024-10-17 10:00:59.730\u001b[0m | \u001b[1mINFO    \u001b[0m | \u001b[36mlighthouse.data_loader.load_chuv\u001b[0m:\u001b[36mconcatenate_dt5\u001b[0m:\u001b[36m497\u001b[0m - \u001b[1mLoading /Volumes/__UP2/0_RAW_DATA/UP2_001/UP2001_2024_01_10_Rehabilitation_day24/wisci/2024_01_10_14_17_46 (rec3)/ABSD data/2024_01_10_14_21_11_02of18.dt5\u001b[0m\n",
      "\u001b[32m2024-10-17 10:06:00.868\u001b[0m | \u001b[1mINFO    \u001b[0m | \u001b[36mlighthouse.data_loader.load_chuv\u001b[0m:\u001b[36mconcatenate_dt5\u001b[0m:\u001b[36m497\u001b[0m - \u001b[1mLoading /Volumes/__UP2/0_RAW_DATA/UP2_001/UP2001_2024_01_10_Rehabilitation_day24/wisci/2024_01_10_14_17_46 (rec3)/ABSD data/2024_01_10_14_21_11_03of18.dt5\u001b[0m\n",
      "\u001b[32m2024-10-17 10:11:32.797\u001b[0m | \u001b[1mINFO    \u001b[0m | \u001b[36mlighthouse.data_loader.load_chuv\u001b[0m:\u001b[36mconcatenate_dt5\u001b[0m:\u001b[36m497\u001b[0m - \u001b[1mLoading /Volumes/__UP2/0_RAW_DATA/UP2_001/UP2001_2024_01_10_Rehabilitation_day24/wisci/2024_01_10_14_17_46 (rec3)/ABSD data/2024_01_10_14_21_11_04of18.dt5\u001b[0m\n",
      "\u001b[32m2024-10-17 10:15:41.243\u001b[0m | \u001b[1mINFO    \u001b[0m | \u001b[36mlighthouse.data_loader.load_chuv\u001b[0m:\u001b[36mconcatenate_dt5\u001b[0m:\u001b[36m497\u001b[0m - \u001b[1mLoading /Volumes/__UP2/0_RAW_DATA/UP2_001/UP2001_2024_01_10_Rehabilitation_day24/wisci/2024_01_10_14_17_46 (rec3)/ABSD data/2024_01_10_14_21_11_05of18.dt5\u001b[0m\n",
      "\u001b[32m2024-10-17 10:16:50.531\u001b[0m | \u001b[1mINFO    \u001b[0m | \u001b[36mlighthouse.data_loader.load_chuv\u001b[0m:\u001b[36mconcatenate_dt5\u001b[0m:\u001b[36m497\u001b[0m - \u001b[1mLoading /Volumes/__UP2/0_RAW_DATA/UP2_001/UP2001_2024_01_10_Rehabilitation_day24/wisci/2024_01_10_14_17_46 (rec3)/ABSD data/2024_01_10_14_21_11_06of18.dt5\u001b[0m\n",
      "\u001b[32m2024-10-17 10:17:52.026\u001b[0m | \u001b[1mINFO    \u001b[0m | \u001b[36mlighthouse.data_loader.load_chuv\u001b[0m:\u001b[36mconcatenate_dt5\u001b[0m:\u001b[36m497\u001b[0m - \u001b[1mLoading /Volumes/__UP2/0_RAW_DATA/UP2_001/UP2001_2024_01_10_Rehabilitation_day24/wisci/2024_01_10_14_17_46 (rec3)/ABSD data/2024_01_10_14_21_11_07of18.dt5\u001b[0m\n",
      "\u001b[32m2024-10-17 10:19:03.928\u001b[0m | \u001b[1mINFO    \u001b[0m | \u001b[36mlighthouse.data_loader.load_chuv\u001b[0m:\u001b[36mconcatenate_dt5\u001b[0m:\u001b[36m497\u001b[0m - \u001b[1mLoading /Volumes/__UP2/0_RAW_DATA/UP2_001/UP2001_2024_01_10_Rehabilitation_day24/wisci/2024_01_10_14_17_46 (rec3)/ABSD data/2024_01_10_14_21_11_08of18.dt5\u001b[0m\n",
      "\u001b[32m2024-10-17 10:20:26.785\u001b[0m | \u001b[1mINFO    \u001b[0m | \u001b[36mlighthouse.data_loader.load_chuv\u001b[0m:\u001b[36mconcatenate_dt5\u001b[0m:\u001b[36m497\u001b[0m - \u001b[1mLoading /Volumes/__UP2/0_RAW_DATA/UP2_001/UP2001_2024_01_10_Rehabilitation_day24/wisci/2024_01_10_14_17_46 (rec3)/ABSD data/2024_01_10_14_21_11_09of18.dt5\u001b[0m\n",
      "\u001b[32m2024-10-17 10:21:31.902\u001b[0m | \u001b[1mINFO    \u001b[0m | \u001b[36mlighthouse.data_loader.load_chuv\u001b[0m:\u001b[36mconcatenate_dt5\u001b[0m:\u001b[36m497\u001b[0m - \u001b[1mLoading /Volumes/__UP2/0_RAW_DATA/UP2_001/UP2001_2024_01_10_Rehabilitation_day24/wisci/2024_01_10_14_17_46 (rec3)/ABSD data/2024_01_10_14_21_11_10of18.dt5\u001b[0m\n",
      "\u001b[32m2024-10-17 10:23:52.627\u001b[0m | \u001b[1mINFO    \u001b[0m | \u001b[36mlighthouse.data_loader.load_chuv\u001b[0m:\u001b[36mconcatenate_dt5\u001b[0m:\u001b[36m497\u001b[0m - \u001b[1mLoading /Volumes/__UP2/0_RAW_DATA/UP2_001/UP2001_2024_01_10_Rehabilitation_day24/wisci/2024_01_10_14_17_46 (rec3)/ABSD data/2024_01_10_14_21_11_11of18.dt5\u001b[0m\n",
      "\u001b[32m2024-10-17 10:26:02.304\u001b[0m | \u001b[1mINFO    \u001b[0m | \u001b[36mlighthouse.data_loader.load_chuv\u001b[0m:\u001b[36mconcatenate_dt5\u001b[0m:\u001b[36m497\u001b[0m - \u001b[1mLoading /Volumes/__UP2/0_RAW_DATA/UP2_001/UP2001_2024_01_10_Rehabilitation_day24/wisci/2024_01_10_14_17_46 (rec3)/ABSD data/2024_01_10_14_21_11_12of18.dt5\u001b[0m\n",
      "\u001b[32m2024-10-17 10:27:04.677\u001b[0m | \u001b[1mINFO    \u001b[0m | \u001b[36mlighthouse.data_loader.load_chuv\u001b[0m:\u001b[36mconcatenate_dt5\u001b[0m:\u001b[36m497\u001b[0m - \u001b[1mLoading /Volumes/__UP2/0_RAW_DATA/UP2_001/UP2001_2024_01_10_Rehabilitation_day24/wisci/2024_01_10_14_17_46 (rec3)/ABSD data/2024_01_10_14_21_11_13of18.dt5\u001b[0m\n",
      "\u001b[32m2024-10-17 10:28:03.674\u001b[0m | \u001b[1mINFO    \u001b[0m | \u001b[36mlighthouse.data_loader.load_chuv\u001b[0m:\u001b[36mconcatenate_dt5\u001b[0m:\u001b[36m497\u001b[0m - \u001b[1mLoading /Volumes/__UP2/0_RAW_DATA/UP2_001/UP2001_2024_01_10_Rehabilitation_day24/wisci/2024_01_10_14_17_46 (rec3)/ABSD data/2024_01_10_14_21_11_14of18.dt5\u001b[0m\n",
      "\u001b[32m2024-10-17 10:29:00.124\u001b[0m | \u001b[1mINFO    \u001b[0m | \u001b[36mlighthouse.data_loader.load_chuv\u001b[0m:\u001b[36mconcatenate_dt5\u001b[0m:\u001b[36m497\u001b[0m - \u001b[1mLoading /Volumes/__UP2/0_RAW_DATA/UP2_001/UP2001_2024_01_10_Rehabilitation_day24/wisci/2024_01_10_14_17_46 (rec3)/ABSD data/2024_01_10_14_21_11_15of18.dt5\u001b[0m\n",
      "\u001b[32m2024-10-17 10:30:39.049\u001b[0m | \u001b[1mINFO    \u001b[0m | \u001b[36mlighthouse.data_loader.load_chuv\u001b[0m:\u001b[36mconcatenate_dt5\u001b[0m:\u001b[36m497\u001b[0m - \u001b[1mLoading /Volumes/__UP2/0_RAW_DATA/UP2_001/UP2001_2024_01_10_Rehabilitation_day24/wisci/2024_01_10_14_17_46 (rec3)/ABSD data/2024_01_10_14_21_11_16of18.dt5\u001b[0m\n",
      "\u001b[32m2024-10-17 10:31:34.256\u001b[0m | \u001b[1mINFO    \u001b[0m | \u001b[36mlighthouse.data_loader.load_chuv\u001b[0m:\u001b[36mconcatenate_dt5\u001b[0m:\u001b[36m497\u001b[0m - \u001b[1mLoading /Volumes/__UP2/0_RAW_DATA/UP2_001/UP2001_2024_01_10_Rehabilitation_day24/wisci/2024_01_10_14_17_46 (rec3)/ABSD data/2024_01_10_14_21_11_17of18.dt5\u001b[0m\n",
      "\u001b[32m2024-10-17 10:32:37.570\u001b[0m | \u001b[1mINFO    \u001b[0m | \u001b[36mlighthouse.data_loader.load_chuv\u001b[0m:\u001b[36mconcatenate_dt5\u001b[0m:\u001b[36m497\u001b[0m - \u001b[1mLoading /Volumes/__UP2/0_RAW_DATA/UP2_001/UP2001_2024_01_10_Rehabilitation_day24/wisci/2024_01_10_14_17_46 (rec3)/ABSD data/2024_01_10_14_21_11_18of18.dt5\u001b[0m\n"
     ]
    },
    {
     "name": "stdout",
     "output_type": "stream",
     "text": [
      "Signals shape: (88, 3181221)\n",
      "New signal shape: (88, 281607)\n",
      "length of data: 17\n"
     ]
    },
    {
     "name": "stderr",
     "output_type": "stream",
     "text": [
      " 33%|███▎      | 1/3 [1:39:17<3:18:35, 5957.94s/it]"
     ]
    },
    {
     "name": "stdout",
     "output_type": "stream",
     "text": [
      "Checkpoint saved after session 5\n",
      "Current session: (PosixPath('/Volumes/__UP2/0_RAW_DATA/UP2_001/UP2001_2024_01_31_Rehabilitation_day38'), 6)\n"
     ]
    },
    {
     "name": "stderr",
     "output_type": "stream",
     "text": [
      "\u001b[32m2024-10-17 10:35:27.173\u001b[0m | \u001b[1mINFO    \u001b[0m | \u001b[36mlighthouse.data_loader.load_chuv\u001b[0m:\u001b[36mconcatenate_dt5\u001b[0m:\u001b[36m497\u001b[0m - \u001b[1mLoading /Volumes/__UP2/0_RAW_DATA/UP2_001/UP2001_2024_01_31_Rehabilitation_day38/wisci/2024_01_31_13_21_35 (rec3)/ABSD data/2024_01_31_13_23_20_01of10.dt5\u001b[0m\n",
      "\u001b[32m2024-10-17 10:37:36.082\u001b[0m | \u001b[1mINFO    \u001b[0m | \u001b[36mlighthouse.data_loader.load_chuv\u001b[0m:\u001b[36mload_dt5\u001b[0m:\u001b[36m196\u001b[0m - \u001b[1mScenario Name: classBCIViewerAvatarAllDegreesCourtine\u001b[0m\n",
      "\u001b[32m2024-10-17 10:37:36.095\u001b[0m | \u001b[1mINFO    \u001b[0m | \u001b[36mlighthouse.data_loader.load_chuv\u001b[0m:\u001b[36mload_dt5\u001b[0m:\u001b[36m199\u001b[0m - \u001b[1mSub Scenario Name: classBSISubScenarioUpperJointsClassif\u001b[0m\n",
      "\u001b[32m2024-10-17 10:37:40.650\u001b[0m | \u001b[1mINFO    \u001b[0m | \u001b[36mlighthouse.data_loader.load_chuv\u001b[0m:\u001b[36mconcatenate_dt5\u001b[0m:\u001b[36m497\u001b[0m - \u001b[1mLoading /Volumes/__UP2/0_RAW_DATA/UP2_001/UP2001_2024_01_31_Rehabilitation_day38/wisci/2024_01_31_13_21_35 (rec3)/ABSD data/2024_01_31_13_23_20_02of10.dt5\u001b[0m\n",
      "\u001b[32m2024-10-17 10:39:17.470\u001b[0m | \u001b[1mINFO    \u001b[0m | \u001b[36mlighthouse.data_loader.load_chuv\u001b[0m:\u001b[36mconcatenate_dt5\u001b[0m:\u001b[36m497\u001b[0m - \u001b[1mLoading /Volumes/__UP2/0_RAW_DATA/UP2_001/UP2001_2024_01_31_Rehabilitation_day38/wisci/2024_01_31_13_21_35 (rec3)/ABSD data/2024_01_31_13_23_20_03of10.dt5\u001b[0m\n",
      "\u001b[32m2024-10-17 10:40:23.573\u001b[0m | \u001b[1mINFO    \u001b[0m | \u001b[36mlighthouse.data_loader.load_chuv\u001b[0m:\u001b[36mconcatenate_dt5\u001b[0m:\u001b[36m497\u001b[0m - \u001b[1mLoading /Volumes/__UP2/0_RAW_DATA/UP2_001/UP2001_2024_01_31_Rehabilitation_day38/wisci/2024_01_31_13_21_35 (rec3)/ABSD data/2024_01_31_13_23_20_04of10.dt5\u001b[0m\n",
      "\u001b[32m2024-10-17 10:41:24.814\u001b[0m | \u001b[1mINFO    \u001b[0m | \u001b[36mlighthouse.data_loader.load_chuv\u001b[0m:\u001b[36mconcatenate_dt5\u001b[0m:\u001b[36m497\u001b[0m - \u001b[1mLoading /Volumes/__UP2/0_RAW_DATA/UP2_001/UP2001_2024_01_31_Rehabilitation_day38/wisci/2024_01_31_13_21_35 (rec3)/ABSD data/2024_01_31_13_23_20_05of10.dt5\u001b[0m\n",
      "\u001b[32m2024-10-17 10:43:09.836\u001b[0m | \u001b[1mINFO    \u001b[0m | \u001b[36mlighthouse.data_loader.load_chuv\u001b[0m:\u001b[36mconcatenate_dt5\u001b[0m:\u001b[36m497\u001b[0m - \u001b[1mLoading /Volumes/__UP2/0_RAW_DATA/UP2_001/UP2001_2024_01_31_Rehabilitation_day38/wisci/2024_01_31_13_21_35 (rec3)/ABSD data/2024_01_31_13_23_20_06of10.dt5\u001b[0m\n",
      "\u001b[32m2024-10-17 10:44:58.390\u001b[0m | \u001b[1mINFO    \u001b[0m | \u001b[36mlighthouse.data_loader.load_chuv\u001b[0m:\u001b[36mconcatenate_dt5\u001b[0m:\u001b[36m497\u001b[0m - \u001b[1mLoading /Volumes/__UP2/0_RAW_DATA/UP2_001/UP2001_2024_01_31_Rehabilitation_day38/wisci/2024_01_31_13_21_35 (rec3)/ABSD data/2024_01_31_13_23_20_07of10.dt5\u001b[0m\n",
      "\u001b[32m2024-10-17 10:46:06.446\u001b[0m | \u001b[1mINFO    \u001b[0m | \u001b[36mlighthouse.data_loader.load_chuv\u001b[0m:\u001b[36mconcatenate_dt5\u001b[0m:\u001b[36m497\u001b[0m - \u001b[1mLoading /Volumes/__UP2/0_RAW_DATA/UP2_001/UP2001_2024_01_31_Rehabilitation_day38/wisci/2024_01_31_13_21_35 (rec3)/ABSD data/2024_01_31_13_23_20_08of10.dt5\u001b[0m\n",
      "\u001b[32m2024-10-17 10:48:36.138\u001b[0m | \u001b[1mINFO    \u001b[0m | \u001b[36mlighthouse.data_loader.load_chuv\u001b[0m:\u001b[36mconcatenate_dt5\u001b[0m:\u001b[36m497\u001b[0m - \u001b[1mLoading /Volumes/__UP2/0_RAW_DATA/UP2_001/UP2001_2024_01_31_Rehabilitation_day38/wisci/2024_01_31_13_21_35 (rec3)/ABSD data/2024_01_31_13_23_20_09of10.dt5\u001b[0m\n",
      "\u001b[32m2024-10-17 10:49:34.479\u001b[0m | \u001b[1mINFO    \u001b[0m | \u001b[36mlighthouse.data_loader.load_chuv\u001b[0m:\u001b[36mconcatenate_dt5\u001b[0m:\u001b[36m497\u001b[0m - \u001b[1mLoading /Volumes/__UP2/0_RAW_DATA/UP2_001/UP2001_2024_01_31_Rehabilitation_day38/wisci/2024_01_31_13_21_35 (rec3)/ABSD data/2024_01_31_13_23_20_10of10.dt5\u001b[0m\n"
     ]
    },
    {
     "name": "stdout",
     "output_type": "stream",
     "text": [
      "Signals shape: (56, 1706634)\n",
      "New signal shape: (56, 472944)\n",
      "length of data: 18\n"
     ]
    },
    {
     "name": "stderr",
     "output_type": "stream",
     "text": [
      "\u001b[32m2024-10-17 10:50:10.349\u001b[0m | \u001b[1mINFO    \u001b[0m | \u001b[36mlighthouse.data_loader.load_chuv\u001b[0m:\u001b[36mconcatenate_dt5\u001b[0m:\u001b[36m497\u001b[0m - \u001b[1mLoading /Volumes/__UP2/0_RAW_DATA/UP2_001/UP2001_2024_01_31_Rehabilitation_day38/wisci/2024_01_31_14_14_18 (rec4)/ABSD data/2024_01_31_14_16_51_01of11.dt5\u001b[0m\n",
      "\u001b[32m2024-10-17 10:51:20.110\u001b[0m | \u001b[1mINFO    \u001b[0m | \u001b[36mlighthouse.data_loader.load_chuv\u001b[0m:\u001b[36mload_dt5\u001b[0m:\u001b[36m196\u001b[0m - \u001b[1mScenario Name: classBCIViewerAvatarAllDegreesCourtine\u001b[0m\n",
      "\u001b[32m2024-10-17 10:51:20.126\u001b[0m | \u001b[1mINFO    \u001b[0m | \u001b[36mlighthouse.data_loader.load_chuv\u001b[0m:\u001b[36mload_dt5\u001b[0m:\u001b[36m199\u001b[0m - \u001b[1mSub Scenario Name: classBSISubScenarioUpperJointsClassif\u001b[0m\n",
      "\u001b[32m2024-10-17 10:51:26.169\u001b[0m | \u001b[1mINFO    \u001b[0m | \u001b[36mlighthouse.data_loader.load_chuv\u001b[0m:\u001b[36mconcatenate_dt5\u001b[0m:\u001b[36m497\u001b[0m - \u001b[1mLoading /Volumes/__UP2/0_RAW_DATA/UP2_001/UP2001_2024_01_31_Rehabilitation_day38/wisci/2024_01_31_14_14_18 (rec4)/ABSD data/2024_01_31_14_16_51_02of11.dt5\u001b[0m\n",
      "\u001b[32m2024-10-17 10:52:23.393\u001b[0m | \u001b[1mINFO    \u001b[0m | \u001b[36mlighthouse.data_loader.load_chuv\u001b[0m:\u001b[36mconcatenate_dt5\u001b[0m:\u001b[36m497\u001b[0m - \u001b[1mLoading /Volumes/__UP2/0_RAW_DATA/UP2_001/UP2001_2024_01_31_Rehabilitation_day38/wisci/2024_01_31_14_14_18 (rec4)/ABSD data/2024_01_31_14_16_51_03of11.dt5\u001b[0m\n",
      "\u001b[32m2024-10-17 10:54:28.580\u001b[0m | \u001b[1mINFO    \u001b[0m | \u001b[36mlighthouse.data_loader.load_chuv\u001b[0m:\u001b[36mconcatenate_dt5\u001b[0m:\u001b[36m497\u001b[0m - \u001b[1mLoading /Volumes/__UP2/0_RAW_DATA/UP2_001/UP2001_2024_01_31_Rehabilitation_day38/wisci/2024_01_31_14_14_18 (rec4)/ABSD data/2024_01_31_14_16_51_04of11.dt5\u001b[0m\n",
      "\u001b[32m2024-10-17 10:56:05.679\u001b[0m | \u001b[1mINFO    \u001b[0m | \u001b[36mlighthouse.data_loader.load_chuv\u001b[0m:\u001b[36mconcatenate_dt5\u001b[0m:\u001b[36m497\u001b[0m - \u001b[1mLoading /Volumes/__UP2/0_RAW_DATA/UP2_001/UP2001_2024_01_31_Rehabilitation_day38/wisci/2024_01_31_14_14_18 (rec4)/ABSD data/2024_01_31_14_16_51_05of11.dt5\u001b[0m\n",
      "\u001b[32m2024-10-17 10:56:57.550\u001b[0m | \u001b[1mINFO    \u001b[0m | \u001b[36mlighthouse.data_loader.load_chuv\u001b[0m:\u001b[36mconcatenate_dt5\u001b[0m:\u001b[36m497\u001b[0m - \u001b[1mLoading /Volumes/__UP2/0_RAW_DATA/UP2_001/UP2001_2024_01_31_Rehabilitation_day38/wisci/2024_01_31_14_14_18 (rec4)/ABSD data/2024_01_31_14_16_51_06of11.dt5\u001b[0m\n",
      "\u001b[32m2024-10-17 10:58:20.175\u001b[0m | \u001b[1mINFO    \u001b[0m | \u001b[36mlighthouse.data_loader.load_chuv\u001b[0m:\u001b[36mconcatenate_dt5\u001b[0m:\u001b[36m497\u001b[0m - \u001b[1mLoading /Volumes/__UP2/0_RAW_DATA/UP2_001/UP2001_2024_01_31_Rehabilitation_day38/wisci/2024_01_31_14_14_18 (rec4)/ABSD data/2024_01_31_14_16_51_07of11.dt5\u001b[0m\n",
      "\u001b[32m2024-10-17 10:59:26.173\u001b[0m | \u001b[1mINFO    \u001b[0m | \u001b[36mlighthouse.data_loader.load_chuv\u001b[0m:\u001b[36mconcatenate_dt5\u001b[0m:\u001b[36m497\u001b[0m - \u001b[1mLoading /Volumes/__UP2/0_RAW_DATA/UP2_001/UP2001_2024_01_31_Rehabilitation_day38/wisci/2024_01_31_14_14_18 (rec4)/ABSD data/2024_01_31_14_16_51_08of11.dt5\u001b[0m\n",
      "\u001b[32m2024-10-17 11:00:19.676\u001b[0m | \u001b[1mINFO    \u001b[0m | \u001b[36mlighthouse.data_loader.load_chuv\u001b[0m:\u001b[36mconcatenate_dt5\u001b[0m:\u001b[36m497\u001b[0m - \u001b[1mLoading /Volumes/__UP2/0_RAW_DATA/UP2_001/UP2001_2024_01_31_Rehabilitation_day38/wisci/2024_01_31_14_14_18 (rec4)/ABSD data/2024_01_31_14_16_51_09of11.dt5\u001b[0m\n",
      "\u001b[32m2024-10-17 11:01:12.771\u001b[0m | \u001b[1mINFO    \u001b[0m | \u001b[36mlighthouse.data_loader.load_chuv\u001b[0m:\u001b[36mconcatenate_dt5\u001b[0m:\u001b[36m497\u001b[0m - \u001b[1mLoading /Volumes/__UP2/0_RAW_DATA/UP2_001/UP2001_2024_01_31_Rehabilitation_day38/wisci/2024_01_31_14_14_18 (rec4)/ABSD data/2024_01_31_14_16_51_10of11.dt5\u001b[0m\n",
      "\u001b[32m2024-10-17 11:02:28.309\u001b[0m | \u001b[1mINFO    \u001b[0m | \u001b[36mlighthouse.data_loader.load_chuv\u001b[0m:\u001b[36mconcatenate_dt5\u001b[0m:\u001b[36m497\u001b[0m - \u001b[1mLoading /Volumes/__UP2/0_RAW_DATA/UP2_001/UP2001_2024_01_31_Rehabilitation_day38/wisci/2024_01_31_14_14_18 (rec4)/ABSD data/2024_01_31_14_16_51_11of11.dt5\u001b[0m\n"
     ]
    },
    {
     "name": "stdout",
     "output_type": "stream",
     "text": [
      "Signals shape: (56, 1786048)\n",
      "New signal shape: (56, 587935)\n",
      "length of data: 19\n"
     ]
    },
    {
     "name": "stderr",
     "output_type": "stream",
     "text": [
      "\u001b[32m2024-10-17 11:02:36.269\u001b[0m | \u001b[1mINFO    \u001b[0m | \u001b[36mlighthouse.data_loader.load_chuv\u001b[0m:\u001b[36mconcatenate_dt5\u001b[0m:\u001b[36m497\u001b[0m - \u001b[1mLoading /Volumes/__UP2/0_RAW_DATA/UP2_001/UP2001_2024_01_31_Rehabilitation_day38/wisci/2024_01_31_15_10_34 (rec5)/ABSD data/2024_01_31_15_12_38_01of06.dt5\u001b[0m\n",
      "\u001b[32m2024-10-17 11:03:33.318\u001b[0m | \u001b[1mINFO    \u001b[0m | \u001b[36mlighthouse.data_loader.load_chuv\u001b[0m:\u001b[36mload_dt5\u001b[0m:\u001b[36m196\u001b[0m - \u001b[1mScenario Name: classBCIViewerAvatarAllDegreesCourtine\u001b[0m\n",
      "\u001b[32m2024-10-17 11:03:33.368\u001b[0m | \u001b[1mINFO    \u001b[0m | \u001b[36mlighthouse.data_loader.load_chuv\u001b[0m:\u001b[36mload_dt5\u001b[0m:\u001b[36m199\u001b[0m - \u001b[1mSub Scenario Name: classBSISubScenarioUpperJointsClassif\u001b[0m\n",
      "\u001b[32m2024-10-17 11:03:39.994\u001b[0m | \u001b[1mINFO    \u001b[0m | \u001b[36mlighthouse.data_loader.load_chuv\u001b[0m:\u001b[36mconcatenate_dt5\u001b[0m:\u001b[36m497\u001b[0m - \u001b[1mLoading /Volumes/__UP2/0_RAW_DATA/UP2_001/UP2001_2024_01_31_Rehabilitation_day38/wisci/2024_01_31_15_10_34 (rec5)/ABSD data/2024_01_31_15_12_38_02of06.dt5\u001b[0m\n",
      "\u001b[32m2024-10-17 11:04:46.293\u001b[0m | \u001b[1mINFO    \u001b[0m | \u001b[36mlighthouse.data_loader.load_chuv\u001b[0m:\u001b[36mconcatenate_dt5\u001b[0m:\u001b[36m497\u001b[0m - \u001b[1mLoading /Volumes/__UP2/0_RAW_DATA/UP2_001/UP2001_2024_01_31_Rehabilitation_day38/wisci/2024_01_31_15_10_34 (rec5)/ABSD data/2024_01_31_15_12_38_03of06.dt5\u001b[0m\n",
      "\u001b[32m2024-10-17 11:05:32.297\u001b[0m | \u001b[1mINFO    \u001b[0m | \u001b[36mlighthouse.data_loader.load_chuv\u001b[0m:\u001b[36mconcatenate_dt5\u001b[0m:\u001b[36m497\u001b[0m - \u001b[1mLoading /Volumes/__UP2/0_RAW_DATA/UP2_001/UP2001_2024_01_31_Rehabilitation_day38/wisci/2024_01_31_15_10_34 (rec5)/ABSD data/2024_01_31_15_12_38_04of06.dt5\u001b[0m\n",
      "\u001b[32m2024-10-17 11:07:01.635\u001b[0m | \u001b[1mINFO    \u001b[0m | \u001b[36mlighthouse.data_loader.load_chuv\u001b[0m:\u001b[36mconcatenate_dt5\u001b[0m:\u001b[36m497\u001b[0m - \u001b[1mLoading /Volumes/__UP2/0_RAW_DATA/UP2_001/UP2001_2024_01_31_Rehabilitation_day38/wisci/2024_01_31_15_10_34 (rec5)/ABSD data/2024_01_31_15_12_38_05of06.dt5\u001b[0m\n",
      "\u001b[32m2024-10-17 11:07:56.863\u001b[0m | \u001b[1mINFO    \u001b[0m | \u001b[36mlighthouse.data_loader.load_chuv\u001b[0m:\u001b[36mconcatenate_dt5\u001b[0m:\u001b[36m497\u001b[0m - \u001b[1mLoading /Volumes/__UP2/0_RAW_DATA/UP2_001/UP2001_2024_01_31_Rehabilitation_day38/wisci/2024_01_31_15_10_34 (rec5)/ABSD data/2024_01_31_15_12_38_06of06.dt5\u001b[0m\n"
     ]
    },
    {
     "name": "stdout",
     "output_type": "stream",
     "text": [
      "Signals shape: (56, 1049846)\n",
      "New signal shape: (56, 330990)\n",
      "length of data: 20\n"
     ]
    },
    {
     "name": "stderr",
     "output_type": "stream",
     "text": [
      " 67%|██████▋   | 2/3 [2:13:50<1:01:12, 3672.51s/it]"
     ]
    },
    {
     "name": "stdout",
     "output_type": "stream",
     "text": [
      "Checkpoint saved after session 6\n",
      "Current session: (PosixPath('/Volumes/__UP2/0_RAW_DATA/UP2_001/UP2001_2024_02_12_Rehabilitation_day46'), 7)\n"
     ]
    },
    {
     "name": "stderr",
     "output_type": "stream",
     "text": [
      "\u001b[32m2024-10-17 11:09:59.241\u001b[0m | \u001b[1mINFO    \u001b[0m | \u001b[36mlighthouse.data_loader.load_chuv\u001b[0m:\u001b[36mconcatenate_dt5\u001b[0m:\u001b[36m497\u001b[0m - \u001b[1mLoading /Volumes/__UP2/0_RAW_DATA/UP2_001/UP2001_2024_02_12_Rehabilitation_day46/wisci/2024_02_12_13_46_36 (rec4)/ABSD data/2024_02_12_13_48_02_01of07.dt5\u001b[0m\n",
      "\u001b[32m2024-10-17 11:10:44.575\u001b[0m | \u001b[1mINFO    \u001b[0m | \u001b[36mlighthouse.data_loader.load_chuv\u001b[0m:\u001b[36mload_dt5\u001b[0m:\u001b[36m196\u001b[0m - \u001b[1mScenario Name: classBSIIndependentJointsClassif\u001b[0m\n",
      "\u001b[32m2024-10-17 11:10:44.605\u001b[0m | \u001b[33m\u001b[1mWARNING \u001b[0m | \u001b[36mlighthouse.data_loader.load_chuv\u001b[0m:\u001b[36mload_dt5\u001b[0m:\u001b[36m203\u001b[0m - \u001b[33m\u001b[1mCannot get metadata from chuv files: \"Unable to open object (object 'SubScenarioNames' doesn't exist)\"\u001b[0m\n",
      "\u001b[32m2024-10-17 11:10:49.260\u001b[0m | \u001b[1mINFO    \u001b[0m | \u001b[36mlighthouse.data_loader.load_chuv\u001b[0m:\u001b[36mconcatenate_dt5\u001b[0m:\u001b[36m497\u001b[0m - \u001b[1mLoading /Volumes/__UP2/0_RAW_DATA/UP2_001/UP2001_2024_02_12_Rehabilitation_day46/wisci/2024_02_12_13_46_36 (rec4)/ABSD data/2024_02_12_13_48_02_02of07.dt5\u001b[0m\n",
      "\u001b[32m2024-10-17 11:11:41.237\u001b[0m | \u001b[1mINFO    \u001b[0m | \u001b[36mlighthouse.data_loader.load_chuv\u001b[0m:\u001b[36mconcatenate_dt5\u001b[0m:\u001b[36m497\u001b[0m - \u001b[1mLoading /Volumes/__UP2/0_RAW_DATA/UP2_001/UP2001_2024_02_12_Rehabilitation_day46/wisci/2024_02_12_13_46_36 (rec4)/ABSD data/2024_02_12_13_48_02_03of07.dt5\u001b[0m\n",
      "\u001b[32m2024-10-17 11:13:27.804\u001b[0m | \u001b[1mINFO    \u001b[0m | \u001b[36mlighthouse.data_loader.load_chuv\u001b[0m:\u001b[36mconcatenate_dt5\u001b[0m:\u001b[36m497\u001b[0m - \u001b[1mLoading /Volumes/__UP2/0_RAW_DATA/UP2_001/UP2001_2024_02_12_Rehabilitation_day46/wisci/2024_02_12_13_46_36 (rec4)/ABSD data/2024_02_12_13_48_02_04of07.dt5\u001b[0m\n",
      "\u001b[32m2024-10-17 11:15:20.662\u001b[0m | \u001b[1mINFO    \u001b[0m | \u001b[36mlighthouse.data_loader.load_chuv\u001b[0m:\u001b[36mconcatenate_dt5\u001b[0m:\u001b[36m497\u001b[0m - \u001b[1mLoading /Volumes/__UP2/0_RAW_DATA/UP2_001/UP2001_2024_02_12_Rehabilitation_day46/wisci/2024_02_12_13_46_36 (rec4)/ABSD data/2024_02_12_13_48_02_05of07.dt5\u001b[0m\n",
      "\u001b[32m2024-10-17 11:18:00.590\u001b[0m | \u001b[1mINFO    \u001b[0m | \u001b[36mlighthouse.data_loader.load_chuv\u001b[0m:\u001b[36mconcatenate_dt5\u001b[0m:\u001b[36m497\u001b[0m - \u001b[1mLoading /Volumes/__UP2/0_RAW_DATA/UP2_001/UP2001_2024_02_12_Rehabilitation_day46/wisci/2024_02_12_13_46_36 (rec4)/ABSD data/2024_02_12_13_48_02_06of07.dt5\u001b[0m\n",
      "\u001b[32m2024-10-17 11:19:58.293\u001b[0m | \u001b[1mINFO    \u001b[0m | \u001b[36mlighthouse.data_loader.load_chuv\u001b[0m:\u001b[36mconcatenate_dt5\u001b[0m:\u001b[36m497\u001b[0m - \u001b[1mLoading /Volumes/__UP2/0_RAW_DATA/UP2_001/UP2001_2024_02_12_Rehabilitation_day46/wisci/2024_02_12_13_46_36 (rec4)/ABSD data/2024_02_12_13_48_02_07of07.dt5\u001b[0m\n"
     ]
    },
    {
     "name": "stdout",
     "output_type": "stream",
     "text": [
      "Signals shape: (62, 1071145)\n",
      "New signal shape: (62, 317951)\n",
      "length of data: 21\n"
     ]
    },
    {
     "name": "stderr",
     "output_type": "stream",
     "text": [
      "\u001b[32m2024-10-17 11:20:04.057\u001b[0m | \u001b[1mINFO    \u001b[0m | \u001b[36mlighthouse.data_loader.load_chuv\u001b[0m:\u001b[36mconcatenate_dt5\u001b[0m:\u001b[36m497\u001b[0m - \u001b[1mLoading /Volumes/__UP2/0_RAW_DATA/UP2_001/UP2001_2024_02_12_Rehabilitation_day46/wisci/2024_02_12_14_21_28 (rec5)/ABSD data/2024_02_12_14_23_49_01of01.dt5\u001b[0m\n",
      "\u001b[32m2024-10-17 11:21:22.737\u001b[0m | \u001b[1mINFO    \u001b[0m | \u001b[36mlighthouse.data_loader.load_chuv\u001b[0m:\u001b[36mload_dt5\u001b[0m:\u001b[36m196\u001b[0m - \u001b[1mScenario Name: classBSIIndependentJointsClassif\u001b[0m\n",
      "\u001b[32m2024-10-17 11:21:22.753\u001b[0m | \u001b[33m\u001b[1mWARNING \u001b[0m | \u001b[36mlighthouse.data_loader.load_chuv\u001b[0m:\u001b[36mload_dt5\u001b[0m:\u001b[36m203\u001b[0m - \u001b[33m\u001b[1mCannot get metadata from chuv files: \"Unable to open object (object 'SubScenarioNames' doesn't exist)\"\u001b[0m\n"
     ]
    },
    {
     "name": "stdout",
     "output_type": "stream",
     "text": [
      "Signals shape: (62, 125906)\n",
      "New signal shape: (62, 54575)\n",
      "length of data: 22\n"
     ]
    },
    {
     "name": "stderr",
     "output_type": "stream",
     "text": [
      "\u001b[32m2024-10-17 11:21:26.360\u001b[0m | \u001b[1mINFO    \u001b[0m | \u001b[36mlighthouse.data_loader.load_chuv\u001b[0m:\u001b[36mconcatenate_dt5\u001b[0m:\u001b[36m497\u001b[0m - \u001b[1mLoading /Volumes/__UP2/0_RAW_DATA/UP2_001/UP2001_2024_02_12_Rehabilitation_day46/wisci/2024_02_12_14_27_58 (rec6)/ABSD data/2024_02_12_14_31_14_01of06.dt5\u001b[0m\n",
      "\u001b[32m2024-10-17 11:22:36.480\u001b[0m | \u001b[1mINFO    \u001b[0m | \u001b[36mlighthouse.data_loader.load_chuv\u001b[0m:\u001b[36mload_dt5\u001b[0m:\u001b[36m196\u001b[0m - \u001b[1mScenario Name: classBSIIndependentJointsClassif\u001b[0m\n",
      "\u001b[32m2024-10-17 11:22:36.483\u001b[0m | \u001b[33m\u001b[1mWARNING \u001b[0m | \u001b[36mlighthouse.data_loader.load_chuv\u001b[0m:\u001b[36mload_dt5\u001b[0m:\u001b[36m203\u001b[0m - \u001b[33m\u001b[1mCannot get metadata from chuv files: \"Unable to open object (object 'SubScenarioNames' doesn't exist)\"\u001b[0m\n",
      "\u001b[32m2024-10-17 11:22:41.143\u001b[0m | \u001b[1mINFO    \u001b[0m | \u001b[36mlighthouse.data_loader.load_chuv\u001b[0m:\u001b[36mconcatenate_dt5\u001b[0m:\u001b[36m497\u001b[0m - \u001b[1mLoading /Volumes/__UP2/0_RAW_DATA/UP2_001/UP2001_2024_02_12_Rehabilitation_day46/wisci/2024_02_12_14_27_58 (rec6)/ABSD data/2024_02_12_14_31_14_02of06.dt5\u001b[0m\n",
      "\u001b[32m2024-10-17 11:23:31.853\u001b[0m | \u001b[1mINFO    \u001b[0m | \u001b[36mlighthouse.data_loader.load_chuv\u001b[0m:\u001b[36mconcatenate_dt5\u001b[0m:\u001b[36m497\u001b[0m - \u001b[1mLoading /Volumes/__UP2/0_RAW_DATA/UP2_001/UP2001_2024_02_12_Rehabilitation_day46/wisci/2024_02_12_14_27_58 (rec6)/ABSD data/2024_02_12_14_31_14_03of06.dt5\u001b[0m\n",
      "\u001b[32m2024-10-17 11:24:38.177\u001b[0m | \u001b[1mINFO    \u001b[0m | \u001b[36mlighthouse.data_loader.load_chuv\u001b[0m:\u001b[36mconcatenate_dt5\u001b[0m:\u001b[36m497\u001b[0m - \u001b[1mLoading /Volumes/__UP2/0_RAW_DATA/UP2_001/UP2001_2024_02_12_Rehabilitation_day46/wisci/2024_02_12_14_27_58 (rec6)/ABSD data/2024_02_12_14_31_14_04of06.dt5\u001b[0m\n",
      "\u001b[32m2024-10-17 11:25:35.357\u001b[0m | \u001b[1mINFO    \u001b[0m | \u001b[36mlighthouse.data_loader.load_chuv\u001b[0m:\u001b[36mconcatenate_dt5\u001b[0m:\u001b[36m497\u001b[0m - \u001b[1mLoading /Volumes/__UP2/0_RAW_DATA/UP2_001/UP2001_2024_02_12_Rehabilitation_day46/wisci/2024_02_12_14_27_58 (rec6)/ABSD data/2024_02_12_14_31_14_05of06.dt5\u001b[0m\n",
      "\u001b[32m2024-10-17 11:27:52.056\u001b[0m | \u001b[1mINFO    \u001b[0m | \u001b[36mlighthouse.data_loader.load_chuv\u001b[0m:\u001b[36mconcatenate_dt5\u001b[0m:\u001b[36m497\u001b[0m - \u001b[1mLoading /Volumes/__UP2/0_RAW_DATA/UP2_001/UP2001_2024_02_12_Rehabilitation_day46/wisci/2024_02_12_14_27_58 (rec6)/ABSD data/2024_02_12_14_31_14_06of06.dt5\u001b[0m\n"
     ]
    },
    {
     "name": "stdout",
     "output_type": "stream",
     "text": [
      "Signals shape: (62, 955269)\n",
      "New signal shape: (62, 267329)\n",
      "length of data: 23\n"
     ]
    },
    {
     "name": "stderr",
     "output_type": "stream",
     "text": [
      "100%|██████████| 3/3 [2:32:34<00:00, 3051.53s/it]  "
     ]
    },
    {
     "name": "stdout",
     "output_type": "stream",
     "text": [
      "Checkpoint saved after session 7\n",
      "length of data_: 23\n"
     ]
    },
    {
     "name": "stderr",
     "output_type": "stream",
     "text": [
      "\n"
     ]
    },
    {
     "name": "stdout",
     "output_type": "stream",
     "text": [
      "Final save complete.\n"
     ]
    }
   ],
   "source": [
    "\n",
    "\n",
    "# Load previous checkpoints if available\n",
    "try:\n",
    "    X = list(np.load('Test_data.npy', allow_pickle=True))\n",
    "    Dir = list(np.load('Ch_test.npy', allow_pickle=True))\n",
    "    Train_Dir = list(np.load('dir_test.npy', allow_pickle=True))\n",
    "    start_session = read_checkpoint()  # Resume from the last saved session\n",
    "    print(\"Found File\")\n",
    "    print(f\"Starting from session: {start_session}\")\n",
    "except FileNotFoundError:\n",
    "    X, Dir, Train_Dir = [], [], []\n",
    "    start_session = 0  # Start from the beginning if no previous data\n",
    "\n",
    "\n",
    "try:\n",
    "    for i, train_ses in enumerate(tqdm(testing_sessions[start_session:]), start=start_session):\n",
    "        print(f\"Current session: {train_ses, i}\")\n",
    "        absd_dirs = [\n",
    "            p.resolve() for p in Path(train_ses).glob(\"**\") if p.is_dir() and (\"ABSD\" in p.name or \"absd\" in p.name)\n",
    "        ]\n",
    "\n",
    "        for absd_dir in absd_dirs:\n",
    "            dt5_files = sorted(list(Path(absd_dir).glob(\"*.dt5\")))\n",
    "\n",
    "            if len(dt5_files) == 0:\n",
    "                continue\n",
    "\n",
    "            n_files = len(dt5_files)\n",
    "            counter = 1\n",
    "            skip_this = False\n",
    "            for file in dt5_files:\n",
    "                if not int(file.stem[-2:]) == n_files:\n",
    "                    skip_this = True\n",
    "                    continue\n",
    "                if not counter == int(file.stem[-6:-4]):\n",
    "                    skip_this = True\n",
    "                    continue\n",
    "                counter += 1\n",
    "\n",
    "            if skip_this:\n",
    "                continue\n",
    "\n",
    "            # Process signals\n",
    "            signals, ch_names = load_absd(absd_dir, return_is_updating=True, return_states=True)\n",
    "            update_index = int(np.argwhere(np.array(ch_names) == 'is_updating'))\n",
    "            update = np.argwhere(signals[update_index, :] == 1)\n",
    "            print(f\"Signals shape: {signals.shape}\")\n",
    "\n",
    "            new_sig = np.squeeze(signals[:, update])\n",
    "            print(f\"New signal shape: {new_sig.shape}\")\n",
    "            X.append(new_sig)\n",
    "            Dir.append(ch_names)\n",
    "            Train_Dir.append(absd_dir)\n",
    "\n",
    "            np_array_X = np.empty(len(X), dtype=object)\n",
    "            for j, x in enumerate(X):\n",
    "                np_array_X[j] = x\n",
    "            print(f\"length of data: {len(X)}\")\n",
    "\n",
    "        # Save after every checkpoint interval\n",
    "        np.save('Ch_test.npy', np.array(Dir, dtype=object), allow_pickle=True)\n",
    "        np.save('Test_data.npy', np.array(np_array_X, dtype=object), allow_pickle=True)\n",
    "        np.save('dir_test.npy', np.array(Train_Dir, dtype=object), allow_pickle=True)\n",
    "        write_checkpoint(i)\n",
    "        print(f\"Checkpoint saved after session {i}\")\n",
    "\n",
    "except KeyboardInterrupt:\n",
    "    print(f\"Script interrupted at session {i}. Saving current progress...\")\n",
    "    write_checkpoint(i)\n",
    "    print(\"Progress saved after interruption.\")\n",
    "    \n",
    "except Exception as e:\n",
    "    print(f\"An error occurred: {e}\")\n",
    "    print(f\"Saving progress at session {i} before exiting...\")\n",
    "    write_checkpoint(i)\n",
    "    raise  # Re-raise the exception after saving\n",
    "\n",
    "else:\n",
    "    # Final save after the loop completes successfully\n",
    "    np_array_X = np.empty(len(X), dtype=object)\n",
    "    for j, x in enumerate(X):\n",
    "        np_array_X[j] = x\n",
    "    print(f\"length of data_: {len(X)}\")\n",
    "\n",
    "    np.save('Ch_test.npy', np.array(Dir, dtype=object), allow_pickle=True)\n",
    "    np.save('Test_data.npy', np.array(np_array_X, dtype=object), allow_pickle=True)\n",
    "    np.save('dir_test.npy', np.array(Train_Dir, dtype=object), allow_pickle=True)\n",
    "    write_checkpoint(i + 1)\n",
    "    print(\"Final save complete.\")\n"
   ]
  },
  {
   "cell_type": "code",
   "execution_count": null,
   "metadata": {},
   "outputs": [],
   "source": []
  }
 ],
 "metadata": {
  "kernelspec": {
   "display_name": "base",
   "language": "python",
   "name": "python3"
  },
  "language_info": {
   "codemirror_mode": {
    "name": "ipython",
    "version": 3
   },
   "file_extension": ".py",
   "mimetype": "text/x-python",
   "name": "python",
   "nbconvert_exporter": "python",
   "pygments_lexer": "ipython3",
   "version": "3.12.2"
  }
 },
 "nbformat": 4,
 "nbformat_minor": 2
}
