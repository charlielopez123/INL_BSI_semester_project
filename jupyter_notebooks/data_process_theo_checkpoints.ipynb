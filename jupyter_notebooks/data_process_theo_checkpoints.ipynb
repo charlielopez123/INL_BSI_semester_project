{
  "cells": [
    {
      "cell_type": "markdown",
      "source": [
        "\n",
        "Based Arshia Azfal's code: Loading train from the defined train sessions dt5 files. Adding checkpoints to the loading of the datasets as they can take a while."
      ],
      "metadata": {
        "id": "8WMyd3_hGOoQ"
      }
    },
    {
      "cell_type": "code",
      "execution_count": null,
      "metadata": {
        "id": "OCfEbixtGN2l"
      },
      "outputs": [],
      "source": [
        "import numpy as np\n",
        "import os\n",
        "from tqdm import tqdm as tqdm\n",
        "\n",
        "from pathlib import Path\n",
        "\n",
        "import sys\n",
        "sys.path.append('/Users/theomaetz/Downloads/MA3/INL/Setup/lighthouse-main')\n",
        "\n",
        "from lighthouse.data_loader.load_chuv import load_absd\n",
        "from lighthouse import metadata"
      ]
    },
    {
      "cell_type": "code",
      "execution_count": null,
      "metadata": {
        "id": "bMXSm5BeGN2o",
        "outputId": "e5f542e4-e837-499d-aed0-0a18db24e84e"
      },
      "outputs": [
        {
          "name": "stderr",
          "output_type": "stream",
          "text": [
            "\u001b[32m2024-10-18 00:08:32.043\u001b[0m | \u001b[33m\u001b[1mWARNING \u001b[0m | \u001b[36mlighthouse.metadata\u001b[0m:\u001b[36mget_training_sessions\u001b[0m:\u001b[36m125\u001b[0m - \u001b[33m\u001b[1mOnly found 65 out of 66 training sessions\u001b[0m\n"
          ]
        }
      ],
      "source": [
        "os.environ[\"DATA_DIR\"] = \"/Volumes\"\n",
        "X = []\n",
        "Dir = []\n",
        "Train_Dir = []\n",
        "training_sessions = metadata.get_training_sessions()"
      ]
    },
    {
      "cell_type": "code",
      "execution_count": null,
      "metadata": {
        "id": "ROVk9z8sGN2p"
      },
      "outputs": [],
      "source": [
        "import numpy as np\n",
        "from tqdm import tqdm\n",
        "from pathlib import Path\n",
        "\n",
        "# Function to read checkpoint from file\n",
        "def read_checkpoint(filename='checkpoint.txt'):\n",
        "    try:\n",
        "        with open(filename, 'r') as f:\n",
        "            return int(f.read().strip())\n",
        "    except FileNotFoundError:\n",
        "        return 0  # Start from the beginning if no checkpoint exists\n",
        "\n",
        "# Function to write checkpoint to file\n",
        "def write_checkpoint(session_index, filename='checkpoint.txt'):\n",
        "    with open(filename, 'w') as f:\n",
        "        f.write(str(session_index + 1))"
      ]
    },
    {
      "cell_type": "code",
      "execution_count": null,
      "metadata": {
        "id": "FAQGtKBZGN2p",
        "outputId": "955e4999-1364-48a1-dd71-fe7871e69594"
      },
      "outputs": [
        {
          "name": "stderr",
          "output_type": "stream",
          "text": [
            "  0%|          | 0/65 [00:00<?, ?it/s]"
          ]
        },
        {
          "name": "stdout",
          "output_type": "stream",
          "text": [
            "Current session: (PosixPath('/Volumes/__UP2/0_RAW_DATA/UP2_001/UP2001_2023_10_24_BSITraining_day4'), 0)\n"
          ]
        },
        {
          "name": "stderr",
          "output_type": "stream",
          "text": [
            "\u001b[32m2024-10-18 00:08:49.722\u001b[0m | \u001b[1mINFO    \u001b[0m | \u001b[36mlighthouse.data_loader.load_chuv\u001b[0m:\u001b[36mconcatenate_dt5\u001b[0m:\u001b[36m497\u001b[0m - \u001b[1mLoading /Volumes/__UP2/0_RAW_DATA/UP2_001/UP2001_2023_10_24_BSITraining_day4/WISCI/2023_10_24_13_59_55 (rec1)/ABSD data/2023_10_24_14_07_01_01of02.dt5\u001b[0m\n",
            "\u001b[32m2024-10-18 00:09:27.639\u001b[0m | \u001b[1mINFO    \u001b[0m | \u001b[36mlighthouse.data_loader.load_chuv\u001b[0m:\u001b[36mload_dt5\u001b[0m:\u001b[36m196\u001b[0m - \u001b[1mScenario Name: classBCIViewerAvatarAllDegreesCourtine\u001b[0m\n",
            "\u001b[32m2024-10-18 00:09:27.646\u001b[0m | \u001b[1mINFO    \u001b[0m | \u001b[36mlighthouse.data_loader.load_chuv\u001b[0m:\u001b[36mload_dt5\u001b[0m:\u001b[36m199\u001b[0m - \u001b[1mSub Scenario Name: classBSISubScenarioUpperJointsClassif\u001b[0m\n",
            "\u001b[32m2024-10-18 00:09:32.267\u001b[0m | \u001b[1mINFO    \u001b[0m | \u001b[36mlighthouse.data_loader.load_chuv\u001b[0m:\u001b[36mconcatenate_dt5\u001b[0m:\u001b[36m497\u001b[0m - \u001b[1mLoading /Volumes/__UP2/0_RAW_DATA/UP2_001/UP2001_2023_10_24_BSITraining_day4/WISCI/2023_10_24_13_59_55 (rec1)/ABSD data/2023_10_24_14_07_01_02of02.dt5\u001b[0m\n",
            "/var/folders/bv/m44_t4vj2sl8r_5ljvsxts2w0000gn/T/ipykernel_56503/2466790142.py:44: DeprecationWarning: Conversion of an array with ndim > 0 to a scalar is deprecated, and will error in future. Ensure you extract a single element from your array before performing this operation. (Deprecated NumPy 1.25.)\n",
            "  update_index = int(np.argwhere(np.array(ch_names) == 'is_updating'))\n"
          ]
        },
        {
          "name": "stdout",
          "output_type": "stream",
          "text": [
            "Signals shape: (56, 353115)\n",
            "New signal shape: (56, 62540)\n"
          ]
        },
        {
          "name": "stderr",
          "output_type": "stream",
          "text": [
            "\u001b[32m2024-10-18 00:10:14.948\u001b[0m | \u001b[1mINFO    \u001b[0m | \u001b[36mlighthouse.data_loader.load_chuv\u001b[0m:\u001b[36mconcatenate_dt5\u001b[0m:\u001b[36m497\u001b[0m - \u001b[1mLoading /Volumes/__UP2/0_RAW_DATA/UP2_001/UP2001_2023_10_24_BSITraining_day4/WISCI/2023_10_24_14_17_20 (rec2_HandOpen_Close)/ABSD data/2023_10_24_14_18_47_01of09.dt5\u001b[0m\n",
            "\u001b[32m2024-10-18 00:11:06.128\u001b[0m | \u001b[1mINFO    \u001b[0m | \u001b[36mlighthouse.data_loader.load_chuv\u001b[0m:\u001b[36mload_dt5\u001b[0m:\u001b[36m196\u001b[0m - \u001b[1mScenario Name: classBCIViewerAvatarAllDegreesCourtine\u001b[0m\n",
            "\u001b[32m2024-10-18 00:11:06.129\u001b[0m | \u001b[1mINFO    \u001b[0m | \u001b[36mlighthouse.data_loader.load_chuv\u001b[0m:\u001b[36mload_dt5\u001b[0m:\u001b[36m199\u001b[0m - \u001b[1mSub Scenario Name: classBSISubScenarioUpperJointsClassif\u001b[0m\n",
            "\u001b[32m2024-10-18 00:11:10.835\u001b[0m | \u001b[1mINFO    \u001b[0m | \u001b[36mlighthouse.data_loader.load_chuv\u001b[0m:\u001b[36mconcatenate_dt5\u001b[0m:\u001b[36m497\u001b[0m - \u001b[1mLoading /Volumes/__UP2/0_RAW_DATA/UP2_001/UP2001_2023_10_24_BSITraining_day4/WISCI/2023_10_24_14_17_20 (rec2_HandOpen_Close)/ABSD data/2023_10_24_14_18_47_02of09.dt5\u001b[0m\n",
            "\u001b[32m2024-10-18 00:11:51.757\u001b[0m | \u001b[1mINFO    \u001b[0m | \u001b[36mlighthouse.data_loader.load_chuv\u001b[0m:\u001b[36mconcatenate_dt5\u001b[0m:\u001b[36m497\u001b[0m - \u001b[1mLoading /Volumes/__UP2/0_RAW_DATA/UP2_001/UP2001_2023_10_24_BSITraining_day4/WISCI/2023_10_24_14_17_20 (rec2_HandOpen_Close)/ABSD data/2023_10_24_14_18_47_03of09.dt5\u001b[0m\n",
            "\u001b[32m2024-10-18 00:12:47.539\u001b[0m | \u001b[1mINFO    \u001b[0m | \u001b[36mlighthouse.data_loader.load_chuv\u001b[0m:\u001b[36mconcatenate_dt5\u001b[0m:\u001b[36m497\u001b[0m - \u001b[1mLoading /Volumes/__UP2/0_RAW_DATA/UP2_001/UP2001_2023_10_24_BSITraining_day4/WISCI/2023_10_24_14_17_20 (rec2_HandOpen_Close)/ABSD data/2023_10_24_14_18_47_04of09.dt5\u001b[0m\n",
            "\u001b[32m2024-10-18 00:13:16.712\u001b[0m | \u001b[1mINFO    \u001b[0m | \u001b[36mlighthouse.data_loader.load_chuv\u001b[0m:\u001b[36mconcatenate_dt5\u001b[0m:\u001b[36m497\u001b[0m - \u001b[1mLoading /Volumes/__UP2/0_RAW_DATA/UP2_001/UP2001_2023_10_24_BSITraining_day4/WISCI/2023_10_24_14_17_20 (rec2_HandOpen_Close)/ABSD data/2023_10_24_14_18_47_05of09.dt5\u001b[0m\n",
            "\u001b[32m2024-10-18 00:13:41.749\u001b[0m | \u001b[1mINFO    \u001b[0m | \u001b[36mlighthouse.data_loader.load_chuv\u001b[0m:\u001b[36mconcatenate_dt5\u001b[0m:\u001b[36m497\u001b[0m - \u001b[1mLoading /Volumes/__UP2/0_RAW_DATA/UP2_001/UP2001_2023_10_24_BSITraining_day4/WISCI/2023_10_24_14_17_20 (rec2_HandOpen_Close)/ABSD data/2023_10_24_14_18_47_06of09.dt5\u001b[0m\n",
            "\u001b[32m2024-10-18 00:14:30.833\u001b[0m | \u001b[1mINFO    \u001b[0m | \u001b[36mlighthouse.data_loader.load_chuv\u001b[0m:\u001b[36mconcatenate_dt5\u001b[0m:\u001b[36m497\u001b[0m - \u001b[1mLoading /Volumes/__UP2/0_RAW_DATA/UP2_001/UP2001_2023_10_24_BSITraining_day4/WISCI/2023_10_24_14_17_20 (rec2_HandOpen_Close)/ABSD data/2023_10_24_14_18_47_07of09.dt5\u001b[0m\n",
            "\u001b[32m2024-10-18 00:15:22.381\u001b[0m | \u001b[1mINFO    \u001b[0m | \u001b[36mlighthouse.data_loader.load_chuv\u001b[0m:\u001b[36mconcatenate_dt5\u001b[0m:\u001b[36m497\u001b[0m - \u001b[1mLoading /Volumes/__UP2/0_RAW_DATA/UP2_001/UP2001_2023_10_24_BSITraining_day4/WISCI/2023_10_24_14_17_20 (rec2_HandOpen_Close)/ABSD data/2023_10_24_14_18_47_08of09.dt5\u001b[0m\n",
            "\u001b[32m2024-10-18 00:16:23.058\u001b[0m | \u001b[1mINFO    \u001b[0m | \u001b[36mlighthouse.data_loader.load_chuv\u001b[0m:\u001b[36mconcatenate_dt5\u001b[0m:\u001b[36m497\u001b[0m - \u001b[1mLoading /Volumes/__UP2/0_RAW_DATA/UP2_001/UP2001_2023_10_24_BSITraining_day4/WISCI/2023_10_24_14_17_20 (rec2_HandOpen_Close)/ABSD data/2023_10_24_14_18_47_09of09.dt5\u001b[0m\n"
          ]
        },
        {
          "name": "stdout",
          "output_type": "stream",
          "text": [
            "Signals shape: (56, 1523616)\n",
            "New signal shape: (56, 249570)\n"
          ]
        },
        {
          "name": "stderr",
          "output_type": "stream",
          "text": [
            "\u001b[32m2024-10-18 00:17:04.739\u001b[0m | \u001b[1mINFO    \u001b[0m | \u001b[36mlighthouse.data_loader.load_chuv\u001b[0m:\u001b[36mconcatenate_dt5\u001b[0m:\u001b[36m497\u001b[0m - \u001b[1mLoading /Volumes/__UP2/0_RAW_DATA/UP2_001/UP2001_2023_10_24_BSITraining_day4/WISCI/2023_10_24_15_03_57 (rec3)/ABSD data/2023_10_24_15_08_11_01of02.dt5\u001b[0m\n",
            "\u001b[32m2024-10-18 00:17:38.689\u001b[0m | \u001b[1mINFO    \u001b[0m | \u001b[36mlighthouse.data_loader.load_chuv\u001b[0m:\u001b[36mload_dt5\u001b[0m:\u001b[36m196\u001b[0m - \u001b[1mScenario Name: classBCIViewerAvatarAllDegreesCourtine\u001b[0m\n",
            "\u001b[32m2024-10-18 00:17:38.693\u001b[0m | \u001b[1mINFO    \u001b[0m | \u001b[36mlighthouse.data_loader.load_chuv\u001b[0m:\u001b[36mload_dt5\u001b[0m:\u001b[36m199\u001b[0m - \u001b[1mSub Scenario Name: classBSISubScenarioUpperJointsClassif\u001b[0m\n",
            "\u001b[32m2024-10-18 00:17:42.922\u001b[0m | \u001b[1mINFO    \u001b[0m | \u001b[36mlighthouse.data_loader.load_chuv\u001b[0m:\u001b[36mconcatenate_dt5\u001b[0m:\u001b[36m497\u001b[0m - \u001b[1mLoading /Volumes/__UP2/0_RAW_DATA/UP2_001/UP2001_2023_10_24_BSITraining_day4/WISCI/2023_10_24_15_03_57 (rec3)/ABSD data/2023_10_24_15_08_11_02of02.dt5\u001b[0m\n"
          ]
        },
        {
          "name": "stdout",
          "output_type": "stream",
          "text": [
            "Signals shape: (56, 311402)\n",
            "New signal shape: (56, 160244)\n"
          ]
        },
        {
          "name": "stderr",
          "output_type": "stream",
          "text": [
            "\u001b[32m2024-10-18 00:18:07.878\u001b[0m | \u001b[1mINFO    \u001b[0m | \u001b[36mlighthouse.data_loader.load_chuv\u001b[0m:\u001b[36mconcatenate_dt5\u001b[0m:\u001b[36m497\u001b[0m - \u001b[1mLoading /Volumes/__UP2/0_RAW_DATA/UP2_001/UP2001_2023_10_24_BSITraining_day4/WISCI/2023_10_24_15_17_33 (rec4_PronationSupination)/ABSD data/2023_10_24_15_19_01_01of03.dt5\u001b[0m\n",
            "\u001b[32m2024-10-18 00:18:44.387\u001b[0m | \u001b[1mINFO    \u001b[0m | \u001b[36mlighthouse.data_loader.load_chuv\u001b[0m:\u001b[36mload_dt5\u001b[0m:\u001b[36m196\u001b[0m - \u001b[1mScenario Name: classBCIViewerAvatarAllDegreesCourtine\u001b[0m\n",
            "\u001b[32m2024-10-18 00:18:44.392\u001b[0m | \u001b[1mINFO    \u001b[0m | \u001b[36mlighthouse.data_loader.load_chuv\u001b[0m:\u001b[36mload_dt5\u001b[0m:\u001b[36m199\u001b[0m - \u001b[1mSub Scenario Name: classBSISubScenarioUpperJointsClassif\u001b[0m\n",
            "\u001b[32m2024-10-18 00:18:48.365\u001b[0m | \u001b[1mINFO    \u001b[0m | \u001b[36mlighthouse.data_loader.load_chuv\u001b[0m:\u001b[36mconcatenate_dt5\u001b[0m:\u001b[36m497\u001b[0m - \u001b[1mLoading /Volumes/__UP2/0_RAW_DATA/UP2_001/UP2001_2023_10_24_BSITraining_day4/WISCI/2023_10_24_15_17_33 (rec4_PronationSupination)/ABSD data/2023_10_24_15_19_01_02of03.dt5\u001b[0m\n",
            "\u001b[32m2024-10-18 00:19:22.332\u001b[0m | \u001b[1mINFO    \u001b[0m | \u001b[36mlighthouse.data_loader.load_chuv\u001b[0m:\u001b[36mconcatenate_dt5\u001b[0m:\u001b[36m497\u001b[0m - \u001b[1mLoading /Volumes/__UP2/0_RAW_DATA/UP2_001/UP2001_2023_10_24_BSITraining_day4/WISCI/2023_10_24_15_17_33 (rec4_PronationSupination)/ABSD data/2023_10_24_15_19_01_03of03.dt5\u001b[0m\n"
          ]
        },
        {
          "name": "stdout",
          "output_type": "stream",
          "text": [
            "Signals shape: (56, 522209)\n",
            "New signal shape: (56, 163784)\n"
          ]
        },
        {
          "name": "stderr",
          "output_type": "stream",
          "text": [
            "\u001b[32m2024-10-18 00:20:00.084\u001b[0m | \u001b[1mINFO    \u001b[0m | \u001b[36mlighthouse.data_loader.load_chuv\u001b[0m:\u001b[36mconcatenate_dt5\u001b[0m:\u001b[36m497\u001b[0m - \u001b[1mLoading /Volumes/__UP2/0_RAW_DATA/UP2_001/UP2001_2023_10_24_BSITraining_day4/WISCI/2023_10_24_15_34_38 (rec5_pronationSUpination_Good)/ABSD data/2023_10_24_15_35_51_01of03.dt5\u001b[0m\n",
            "\u001b[32m2024-10-18 00:20:54.819\u001b[0m | \u001b[1mINFO    \u001b[0m | \u001b[36mlighthouse.data_loader.load_chuv\u001b[0m:\u001b[36mload_dt5\u001b[0m:\u001b[36m196\u001b[0m - \u001b[1mScenario Name: classBCIViewerAvatarAllDegreesCourtine\u001b[0m\n",
            "\u001b[32m2024-10-18 00:20:54.822\u001b[0m | \u001b[1mINFO    \u001b[0m | \u001b[36mlighthouse.data_loader.load_chuv\u001b[0m:\u001b[36mload_dt5\u001b[0m:\u001b[36m199\u001b[0m - \u001b[1mSub Scenario Name: classBSISubScenarioUpperJointsClassif\u001b[0m\n",
            "\u001b[32m2024-10-18 00:20:58.794\u001b[0m | \u001b[1mINFO    \u001b[0m | \u001b[36mlighthouse.data_loader.load_chuv\u001b[0m:\u001b[36mconcatenate_dt5\u001b[0m:\u001b[36m497\u001b[0m - \u001b[1mLoading /Volumes/__UP2/0_RAW_DATA/UP2_001/UP2001_2023_10_24_BSITraining_day4/WISCI/2023_10_24_15_34_38 (rec5_pronationSUpination_Good)/ABSD data/2023_10_24_15_35_51_02of03.dt5\u001b[0m\n",
            "\u001b[32m2024-10-18 00:21:24.570\u001b[0m | \u001b[1mINFO    \u001b[0m | \u001b[36mlighthouse.data_loader.load_chuv\u001b[0m:\u001b[36mconcatenate_dt5\u001b[0m:\u001b[36m497\u001b[0m - \u001b[1mLoading /Volumes/__UP2/0_RAW_DATA/UP2_001/UP2001_2023_10_24_BSITraining_day4/WISCI/2023_10_24_15_34_38 (rec5_pronationSUpination_Good)/ABSD data/2023_10_24_15_35_51_03of03.dt5\u001b[0m\n"
          ]
        },
        {
          "name": "stdout",
          "output_type": "stream",
          "text": [
            "Signals shape: (56, 401318)\n",
            "New signal shape: (56, 144314)\n",
            "length of data: 5\n"
          ]
        },
        {
          "name": "stderr",
          "output_type": "stream",
          "text": [
            "  2%|▏         | 1/65 [12:51<13:43:25, 771.95s/it]"
          ]
        },
        {
          "name": "stdout",
          "output_type": "stream",
          "text": [
            "Checkpoint saved after session 0\n",
            "Current session: (PosixPath('/Volumes/__UP2/0_RAW_DATA/UP2_001/UP2001_2023_10_25_BSITraining_day5'), 1)\n"
          ]
        },
        {
          "name": "stderr",
          "output_type": "stream",
          "text": [
            "\u001b[32m2024-10-18 00:21:41.144\u001b[0m | \u001b[1mINFO    \u001b[0m | \u001b[36mlighthouse.data_loader.load_chuv\u001b[0m:\u001b[36mconcatenate_dt5\u001b[0m:\u001b[36m497\u001b[0m - \u001b[1mLoading /Volumes/__UP2/0_RAW_DATA/UP2_001/UP2001_2023_10_25_BSITraining_day5/WISCI/2023_10_25_15_05_32 (rec5(elbow_extension))/ABSD data/2023_10_25_15_09_15_01of02.dt5\u001b[0m\n",
            "\u001b[32m2024-10-18 00:22:02.561\u001b[0m | \u001b[1mINFO    \u001b[0m | \u001b[36mlighthouse.data_loader.load_chuv\u001b[0m:\u001b[36mload_dt5\u001b[0m:\u001b[36m196\u001b[0m - \u001b[1mScenario Name: classBCIViewerAvatarAllDegreesCourtine\u001b[0m\n",
            "\u001b[32m2024-10-18 00:22:02.563\u001b[0m | \u001b[1mINFO    \u001b[0m | \u001b[36mlighthouse.data_loader.load_chuv\u001b[0m:\u001b[36mload_dt5\u001b[0m:\u001b[36m199\u001b[0m - \u001b[1mSub Scenario Name: classBSISubScenarioUpperJointsClassif\u001b[0m\n",
            "\u001b[32m2024-10-18 00:22:06.527\u001b[0m | \u001b[1mINFO    \u001b[0m | \u001b[36mlighthouse.data_loader.load_chuv\u001b[0m:\u001b[36mconcatenate_dt5\u001b[0m:\u001b[36m497\u001b[0m - \u001b[1mLoading /Volumes/__UP2/0_RAW_DATA/UP2_001/UP2001_2023_10_25_BSITraining_day5/WISCI/2023_10_25_15_05_32 (rec5(elbow_extension))/ABSD data/2023_10_25_15_09_15_02of02.dt5\u001b[0m\n"
          ]
        },
        {
          "name": "stdout",
          "output_type": "stream",
          "text": [
            "Signals shape: (56, 314175)\n",
            "New signal shape: (56, 86848)\n"
          ]
        },
        {
          "name": "stderr",
          "output_type": "stream",
          "text": [
            "\u001b[32m2024-10-18 00:22:29.492\u001b[0m | \u001b[1mINFO    \u001b[0m | \u001b[36mlighthouse.data_loader.load_chuv\u001b[0m:\u001b[36mconcatenate_dt5\u001b[0m:\u001b[36m497\u001b[0m - \u001b[1mLoading /Volumes/__UP2/0_RAW_DATA/UP2_001/UP2001_2023_10_25_BSITraining_day5/WISCI/2023_10_25_15_18_50 (rec6(pronation))/ABSD data/2023_10_25_15_21_00_01of03.dt5\u001b[0m\n",
            "\u001b[32m2024-10-18 00:23:22.124\u001b[0m | \u001b[1mINFO    \u001b[0m | \u001b[36mlighthouse.data_loader.load_chuv\u001b[0m:\u001b[36mload_dt5\u001b[0m:\u001b[36m196\u001b[0m - \u001b[1mScenario Name: classBCIViewerAvatarAllDegreesCourtine\u001b[0m\n",
            "\u001b[32m2024-10-18 00:23:22.127\u001b[0m | \u001b[1mINFO    \u001b[0m | \u001b[36mlighthouse.data_loader.load_chuv\u001b[0m:\u001b[36mload_dt5\u001b[0m:\u001b[36m199\u001b[0m - \u001b[1mSub Scenario Name: classBSISubScenarioUpperJointsClassif\u001b[0m\n",
            "\u001b[32m2024-10-18 00:23:26.172\u001b[0m | \u001b[1mINFO    \u001b[0m | \u001b[36mlighthouse.data_loader.load_chuv\u001b[0m:\u001b[36mconcatenate_dt5\u001b[0m:\u001b[36m497\u001b[0m - \u001b[1mLoading /Volumes/__UP2/0_RAW_DATA/UP2_001/UP2001_2023_10_25_BSITraining_day5/WISCI/2023_10_25_15_18_50 (rec6(pronation))/ABSD data/2023_10_25_15_21_00_02of03.dt5\u001b[0m\n",
            "\u001b[32m2024-10-18 00:23:55.027\u001b[0m | \u001b[1mINFO    \u001b[0m | \u001b[36mlighthouse.data_loader.load_chuv\u001b[0m:\u001b[36mconcatenate_dt5\u001b[0m:\u001b[36m497\u001b[0m - \u001b[1mLoading /Volumes/__UP2/0_RAW_DATA/UP2_001/UP2001_2023_10_25_BSITraining_day5/WISCI/2023_10_25_15_18_50 (rec6(pronation))/ABSD data/2023_10_25_15_21_00_03of03.dt5\u001b[0m\n"
          ]
        },
        {
          "name": "stdout",
          "output_type": "stream",
          "text": [
            "Signals shape: (56, 409342)\n",
            "New signal shape: (56, 51448)\n"
          ]
        },
        {
          "name": "stderr",
          "output_type": "stream",
          "text": [
            "\u001b[32m2024-10-18 00:24:04.056\u001b[0m | \u001b[1mINFO    \u001b[0m | \u001b[36mlighthouse.data_loader.load_chuv\u001b[0m:\u001b[36mconcatenate_dt5\u001b[0m:\u001b[36m497\u001b[0m - \u001b[1mLoading /Volumes/__UP2/0_RAW_DATA/UP2_001/UP2001_2023_10_25_BSITraining_day5/WISCI/2023_10_25_13_25_00 (rec1)/ABSD data/2023_10_25_13_26_30_01of09.dt5\u001b[0m\n",
            "\u001b[32m2024-10-18 00:24:27.776\u001b[0m | \u001b[1mINFO    \u001b[0m | \u001b[36mlighthouse.data_loader.load_chuv\u001b[0m:\u001b[36mload_dt5\u001b[0m:\u001b[36m196\u001b[0m - \u001b[1mScenario Name: classBCIViewerAvatarAllDegreesCourtine\u001b[0m\n",
            "\u001b[32m2024-10-18 00:24:27.780\u001b[0m | \u001b[1mINFO    \u001b[0m | \u001b[36mlighthouse.data_loader.load_chuv\u001b[0m:\u001b[36mload_dt5\u001b[0m:\u001b[36m199\u001b[0m - \u001b[1mSub Scenario Name: classBSISubScenarioUpperJointsClassif\u001b[0m\n",
            "\u001b[32m2024-10-18 00:24:31.869\u001b[0m | \u001b[1mINFO    \u001b[0m | \u001b[36mlighthouse.data_loader.load_chuv\u001b[0m:\u001b[36mconcatenate_dt5\u001b[0m:\u001b[36m497\u001b[0m - \u001b[1mLoading /Volumes/__UP2/0_RAW_DATA/UP2_001/UP2001_2023_10_25_BSITraining_day5/WISCI/2023_10_25_13_25_00 (rec1)/ABSD data/2023_10_25_13_26_30_02of09.dt5\u001b[0m\n",
            "\u001b[32m2024-10-18 00:25:08.481\u001b[0m | \u001b[1mINFO    \u001b[0m | \u001b[36mlighthouse.data_loader.load_chuv\u001b[0m:\u001b[36mconcatenate_dt5\u001b[0m:\u001b[36m497\u001b[0m - \u001b[1mLoading /Volumes/__UP2/0_RAW_DATA/UP2_001/UP2001_2023_10_25_BSITraining_day5/WISCI/2023_10_25_13_25_00 (rec1)/ABSD data/2023_10_25_13_26_30_03of09.dt5\u001b[0m\n",
            "\u001b[32m2024-10-18 00:25:32.933\u001b[0m | \u001b[1mINFO    \u001b[0m | \u001b[36mlighthouse.data_loader.load_chuv\u001b[0m:\u001b[36mconcatenate_dt5\u001b[0m:\u001b[36m497\u001b[0m - \u001b[1mLoading /Volumes/__UP2/0_RAW_DATA/UP2_001/UP2001_2023_10_25_BSITraining_day5/WISCI/2023_10_25_13_25_00 (rec1)/ABSD data/2023_10_25_13_26_30_04of09.dt5\u001b[0m\n",
            "\u001b[32m2024-10-18 00:26:21.317\u001b[0m | \u001b[1mINFO    \u001b[0m | \u001b[36mlighthouse.data_loader.load_chuv\u001b[0m:\u001b[36mconcatenate_dt5\u001b[0m:\u001b[36m497\u001b[0m - \u001b[1mLoading /Volumes/__UP2/0_RAW_DATA/UP2_001/UP2001_2023_10_25_BSITraining_day5/WISCI/2023_10_25_13_25_00 (rec1)/ABSD data/2023_10_25_13_26_30_05of09.dt5\u001b[0m\n",
            "\u001b[32m2024-10-18 00:27:00.410\u001b[0m | \u001b[1mINFO    \u001b[0m | \u001b[36mlighthouse.data_loader.load_chuv\u001b[0m:\u001b[36mconcatenate_dt5\u001b[0m:\u001b[36m497\u001b[0m - \u001b[1mLoading /Volumes/__UP2/0_RAW_DATA/UP2_001/UP2001_2023_10_25_BSITraining_day5/WISCI/2023_10_25_13_25_00 (rec1)/ABSD data/2023_10_25_13_26_30_06of09.dt5\u001b[0m\n",
            "\u001b[32m2024-10-18 00:27:33.515\u001b[0m | \u001b[1mINFO    \u001b[0m | \u001b[36mlighthouse.data_loader.load_chuv\u001b[0m:\u001b[36mconcatenate_dt5\u001b[0m:\u001b[36m497\u001b[0m - \u001b[1mLoading /Volumes/__UP2/0_RAW_DATA/UP2_001/UP2001_2023_10_25_BSITraining_day5/WISCI/2023_10_25_13_25_00 (rec1)/ABSD data/2023_10_25_13_26_30_07of09.dt5\u001b[0m\n",
            "\u001b[32m2024-10-18 00:28:08.683\u001b[0m | \u001b[1mINFO    \u001b[0m | \u001b[36mlighthouse.data_loader.load_chuv\u001b[0m:\u001b[36mconcatenate_dt5\u001b[0m:\u001b[36m497\u001b[0m - \u001b[1mLoading /Volumes/__UP2/0_RAW_DATA/UP2_001/UP2001_2023_10_25_BSITraining_day5/WISCI/2023_10_25_13_25_00 (rec1)/ABSD data/2023_10_25_13_26_30_08of09.dt5\u001b[0m\n",
            "\u001b[32m2024-10-18 00:28:47.099\u001b[0m | \u001b[1mINFO    \u001b[0m | \u001b[36mlighthouse.data_loader.load_chuv\u001b[0m:\u001b[36mconcatenate_dt5\u001b[0m:\u001b[36m497\u001b[0m - \u001b[1mLoading /Volumes/__UP2/0_RAW_DATA/UP2_001/UP2001_2023_10_25_BSITraining_day5/WISCI/2023_10_25_13_25_00 (rec1)/ABSD data/2023_10_25_13_26_30_09of09.dt5\u001b[0m\n"
          ]
        },
        {
          "name": "stdout",
          "output_type": "stream",
          "text": [
            "Signals shape: (56, 1473702)\n",
            "New signal shape: (56, 100005)\n",
            "length of data: 8\n"
          ]
        },
        {
          "name": "stderr",
          "output_type": "stream",
          "text": [
            "  3%|▎         | 2/65 [20:17<10:09:06, 580.11s/it]"
          ]
        },
        {
          "name": "stdout",
          "output_type": "stream",
          "text": [
            "Checkpoint saved after session 1\n",
            "Current session: (PosixPath('/Volumes/__UP2/0_RAW_DATA/UP2_001/UP2001_2023_10_26_BSITraining_day6'), 2)\n"
          ]
        },
        {
          "name": "stderr",
          "output_type": "stream",
          "text": [
            "\u001b[32m2024-10-18 00:29:10.530\u001b[0m | \u001b[1mINFO    \u001b[0m | \u001b[36mlighthouse.data_loader.load_chuv\u001b[0m:\u001b[36mconcatenate_dt5\u001b[0m:\u001b[36m497\u001b[0m - \u001b[1mLoading /Volumes/__UP2/0_RAW_DATA/UP2_001/UP2001_2023_10_26_BSITraining_day6/WISCI/2023_10_26_13_35_46 (rec4(ElbowExtension))/ABSD data/2023_10_26_13_37_25_01of04.dt5\u001b[0m\n",
            "\u001b[32m2024-10-18 00:29:31.548\u001b[0m | \u001b[1mINFO    \u001b[0m | \u001b[36mlighthouse.data_loader.load_chuv\u001b[0m:\u001b[36mload_dt5\u001b[0m:\u001b[36m196\u001b[0m - \u001b[1mScenario Name: classBCIViewerAvatarAllDegreesCourtine\u001b[0m\n",
            "\u001b[32m2024-10-18 00:29:31.550\u001b[0m | \u001b[1mINFO    \u001b[0m | \u001b[36mlighthouse.data_loader.load_chuv\u001b[0m:\u001b[36mload_dt5\u001b[0m:\u001b[36m199\u001b[0m - \u001b[1mSub Scenario Name: classBSISubScenarioUpperJointsClassif\u001b[0m\n",
            "\u001b[32m2024-10-18 00:29:35.769\u001b[0m | \u001b[1mINFO    \u001b[0m | \u001b[36mlighthouse.data_loader.load_chuv\u001b[0m:\u001b[36mconcatenate_dt5\u001b[0m:\u001b[36m497\u001b[0m - \u001b[1mLoading /Volumes/__UP2/0_RAW_DATA/UP2_001/UP2001_2023_10_26_BSITraining_day6/WISCI/2023_10_26_13_35_46 (rec4(ElbowExtension))/ABSD data/2023_10_26_13_37_25_02of04.dt5\u001b[0m\n",
            "\u001b[32m2024-10-18 00:30:12.984\u001b[0m | \u001b[1mINFO    \u001b[0m | \u001b[36mlighthouse.data_loader.load_chuv\u001b[0m:\u001b[36mconcatenate_dt5\u001b[0m:\u001b[36m497\u001b[0m - \u001b[1mLoading /Volumes/__UP2/0_RAW_DATA/UP2_001/UP2001_2023_10_26_BSITraining_day6/WISCI/2023_10_26_13_35_46 (rec4(ElbowExtension))/ABSD data/2023_10_26_13_37_25_03of04.dt5\u001b[0m\n",
            "\u001b[32m2024-10-18 00:30:50.532\u001b[0m | \u001b[1mINFO    \u001b[0m | \u001b[36mlighthouse.data_loader.load_chuv\u001b[0m:\u001b[36mconcatenate_dt5\u001b[0m:\u001b[36m497\u001b[0m - \u001b[1mLoading /Volumes/__UP2/0_RAW_DATA/UP2_001/UP2001_2023_10_26_BSITraining_day6/WISCI/2023_10_26_13_35_46 (rec4(ElbowExtension))/ABSD data/2023_10_26_13_37_25_04of04.dt5\u001b[0m\n"
          ]
        },
        {
          "name": "stdout",
          "output_type": "stream",
          "text": [
            "Signals shape: (56, 657437)\n",
            "New signal shape: (56, 10030)\n"
          ]
        },
        {
          "name": "stderr",
          "output_type": "stream",
          "text": [
            "\u001b[32m2024-10-18 00:31:10.757\u001b[0m | \u001b[1mINFO    \u001b[0m | \u001b[36mlighthouse.data_loader.load_chuv\u001b[0m:\u001b[36mconcatenate_dt5\u001b[0m:\u001b[36m497\u001b[0m - \u001b[1mLoading /Volumes/__UP2/0_RAW_DATA/UP2_001/UP2001_2023_10_26_BSITraining_day6/WISCI/2023_10_26_13_56_59 (rec5_ShouderAbduction2)/ABSD data/2023_10_26_13_58_30_01of03.dt5\u001b[0m\n",
            "\u001b[32m2024-10-18 00:31:44.575\u001b[0m | \u001b[1mINFO    \u001b[0m | \u001b[36mlighthouse.data_loader.load_chuv\u001b[0m:\u001b[36mload_dt5\u001b[0m:\u001b[36m196\u001b[0m - \u001b[1mScenario Name: classBCIViewerAvatarAllDegreesCourtine\u001b[0m\n",
            "\u001b[32m2024-10-18 00:31:44.578\u001b[0m | \u001b[1mINFO    \u001b[0m | \u001b[36mlighthouse.data_loader.load_chuv\u001b[0m:\u001b[36mload_dt5\u001b[0m:\u001b[36m199\u001b[0m - \u001b[1mSub Scenario Name: classBSISubScenarioUpperJointsClassif\u001b[0m\n",
            "\u001b[32m2024-10-18 00:31:48.542\u001b[0m | \u001b[1mINFO    \u001b[0m | \u001b[36mlighthouse.data_loader.load_chuv\u001b[0m:\u001b[36mconcatenate_dt5\u001b[0m:\u001b[36m497\u001b[0m - \u001b[1mLoading /Volumes/__UP2/0_RAW_DATA/UP2_001/UP2001_2023_10_26_BSITraining_day6/WISCI/2023_10_26_13_56_59 (rec5_ShouderAbduction2)/ABSD data/2023_10_26_13_58_30_02of03.dt5\u001b[0m\n",
            "\u001b[32m2024-10-18 00:32:19.865\u001b[0m | \u001b[1mINFO    \u001b[0m | \u001b[36mlighthouse.data_loader.load_chuv\u001b[0m:\u001b[36mconcatenate_dt5\u001b[0m:\u001b[36m497\u001b[0m - \u001b[1mLoading /Volumes/__UP2/0_RAW_DATA/UP2_001/UP2001_2023_10_26_BSITraining_day6/WISCI/2023_10_26_13_56_59 (rec5_ShouderAbduction2)/ABSD data/2023_10_26_13_58_30_03of03.dt5\u001b[0m\n"
          ]
        },
        {
          "name": "stdout",
          "output_type": "stream",
          "text": [
            "Signals shape: (56, 446217)\n",
            "New signal shape: (56, 0)\n"
          ]
        },
        {
          "name": "stderr",
          "output_type": "stream",
          "text": [
            "\u001b[32m2024-10-18 00:32:34.560\u001b[0m | \u001b[1mINFO    \u001b[0m | \u001b[36mlighthouse.data_loader.load_chuv\u001b[0m:\u001b[36mconcatenate_dt5\u001b[0m:\u001b[36m497\u001b[0m - \u001b[1mLoading /Volumes/__UP2/0_RAW_DATA/UP2_001/UP2001_2023_10_26_BSITraining_day6/WISCI/2023_10_26_14_11_59 (rec6_ElbowExtension2)/ABSD data/2023_10_26_14_13_32_01of04.dt5\u001b[0m\n",
            "\u001b[32m2024-10-18 00:33:03.212\u001b[0m | \u001b[1mINFO    \u001b[0m | \u001b[36mlighthouse.data_loader.load_chuv\u001b[0m:\u001b[36mload_dt5\u001b[0m:\u001b[36m196\u001b[0m - \u001b[1mScenario Name: classBCIViewerAvatarAllDegreesCourtine\u001b[0m\n",
            "\u001b[32m2024-10-18 00:33:03.215\u001b[0m | \u001b[1mINFO    \u001b[0m | \u001b[36mlighthouse.data_loader.load_chuv\u001b[0m:\u001b[36mload_dt5\u001b[0m:\u001b[36m199\u001b[0m - \u001b[1mSub Scenario Name: classBSISubScenarioUpperJointsClassif\u001b[0m\n",
            "\u001b[32m2024-10-18 00:33:07.200\u001b[0m | \u001b[1mINFO    \u001b[0m | \u001b[36mlighthouse.data_loader.load_chuv\u001b[0m:\u001b[36mconcatenate_dt5\u001b[0m:\u001b[36m497\u001b[0m - \u001b[1mLoading /Volumes/__UP2/0_RAW_DATA/UP2_001/UP2001_2023_10_26_BSITraining_day6/WISCI/2023_10_26_14_11_59 (rec6_ElbowExtension2)/ABSD data/2023_10_26_14_13_32_02of04.dt5\u001b[0m\n",
            "\u001b[32m2024-10-18 00:34:00.673\u001b[0m | \u001b[1mINFO    \u001b[0m | \u001b[36mlighthouse.data_loader.load_chuv\u001b[0m:\u001b[36mconcatenate_dt5\u001b[0m:\u001b[36m497\u001b[0m - \u001b[1mLoading /Volumes/__UP2/0_RAW_DATA/UP2_001/UP2001_2023_10_26_BSITraining_day6/WISCI/2023_10_26_14_11_59 (rec6_ElbowExtension2)/ABSD data/2023_10_26_14_13_32_03of04.dt5\u001b[0m\n",
            "\u001b[32m2024-10-18 00:34:27.811\u001b[0m | \u001b[1mINFO    \u001b[0m | \u001b[36mlighthouse.data_loader.load_chuv\u001b[0m:\u001b[36mconcatenate_dt5\u001b[0m:\u001b[36m497\u001b[0m - \u001b[1mLoading /Volumes/__UP2/0_RAW_DATA/UP2_001/UP2001_2023_10_26_BSITraining_day6/WISCI/2023_10_26_14_11_59 (rec6_ElbowExtension2)/ABSD data/2023_10_26_14_13_32_04of04.dt5\u001b[0m\n"
          ]
        },
        {
          "name": "stdout",
          "output_type": "stream",
          "text": [
            "Signals shape: (56, 704932)\n",
            "New signal shape: (56, 0)\n"
          ]
        },
        {
          "name": "stderr",
          "output_type": "stream",
          "text": [
            "\u001b[32m2024-10-18 00:34:54.528\u001b[0m | \u001b[1mINFO    \u001b[0m | \u001b[36mlighthouse.data_loader.load_chuv\u001b[0m:\u001b[36mconcatenate_dt5\u001b[0m:\u001b[36m497\u001b[0m - \u001b[1mLoading /Volumes/__UP2/0_RAW_DATA/UP2_001/UP2001_2023_10_26_BSITraining_day6/WISCI/2023_10_26_14_36_41 (rec7_Pronosupination)/ABSD data/2023_10_26_14_38_17_01of05.dt5\u001b[0m\n",
            "\u001b[32m2024-10-18 00:35:42.393\u001b[0m | \u001b[1mINFO    \u001b[0m | \u001b[36mlighthouse.data_loader.load_chuv\u001b[0m:\u001b[36mload_dt5\u001b[0m:\u001b[36m196\u001b[0m - \u001b[1mScenario Name: classBCIViewerAvatarAllDegreesCourtine\u001b[0m\n",
            "\u001b[32m2024-10-18 00:35:42.397\u001b[0m | \u001b[1mINFO    \u001b[0m | \u001b[36mlighthouse.data_loader.load_chuv\u001b[0m:\u001b[36mload_dt5\u001b[0m:\u001b[36m199\u001b[0m - \u001b[1mSub Scenario Name: classBSISubScenarioUpperJointsClassif\u001b[0m\n",
            "\u001b[32m2024-10-18 00:35:46.457\u001b[0m | \u001b[1mINFO    \u001b[0m | \u001b[36mlighthouse.data_loader.load_chuv\u001b[0m:\u001b[36mconcatenate_dt5\u001b[0m:\u001b[36m497\u001b[0m - \u001b[1mLoading /Volumes/__UP2/0_RAW_DATA/UP2_001/UP2001_2023_10_26_BSITraining_day6/WISCI/2023_10_26_14_36_41 (rec7_Pronosupination)/ABSD data/2023_10_26_14_38_17_02of05.dt5\u001b[0m\n",
            "\u001b[32m2024-10-18 00:36:13.742\u001b[0m | \u001b[1mINFO    \u001b[0m | \u001b[36mlighthouse.data_loader.load_chuv\u001b[0m:\u001b[36mconcatenate_dt5\u001b[0m:\u001b[36m497\u001b[0m - \u001b[1mLoading /Volumes/__UP2/0_RAW_DATA/UP2_001/UP2001_2023_10_26_BSITraining_day6/WISCI/2023_10_26_14_36_41 (rec7_Pronosupination)/ABSD data/2023_10_26_14_38_17_03of05.dt5\u001b[0m\n",
            "\u001b[32m2024-10-18 00:36:44.070\u001b[0m | \u001b[1mINFO    \u001b[0m | \u001b[36mlighthouse.data_loader.load_chuv\u001b[0m:\u001b[36mconcatenate_dt5\u001b[0m:\u001b[36m497\u001b[0m - \u001b[1mLoading /Volumes/__UP2/0_RAW_DATA/UP2_001/UP2001_2023_10_26_BSITraining_day6/WISCI/2023_10_26_14_36_41 (rec7_Pronosupination)/ABSD data/2023_10_26_14_38_17_04of05.dt5\u001b[0m\n",
            "\u001b[32m2024-10-18 00:37:13.027\u001b[0m | \u001b[1mINFO    \u001b[0m | \u001b[36mlighthouse.data_loader.load_chuv\u001b[0m:\u001b[36mconcatenate_dt5\u001b[0m:\u001b[36m497\u001b[0m - \u001b[1mLoading /Volumes/__UP2/0_RAW_DATA/UP2_001/UP2001_2023_10_26_BSITraining_day6/WISCI/2023_10_26_14_36_41 (rec7_Pronosupination)/ABSD data/2023_10_26_14_38_17_05of05.dt5\u001b[0m\n"
          ]
        },
        {
          "name": "stdout",
          "output_type": "stream",
          "text": [
            "Signals shape: (56, 832313)\n",
            "New signal shape: (56, 0)\n"
          ]
        },
        {
          "name": "stderr",
          "output_type": "stream",
          "text": [
            "\u001b[32m2024-10-18 00:37:33.422\u001b[0m | \u001b[1mINFO    \u001b[0m | \u001b[36mlighthouse.data_loader.load_chuv\u001b[0m:\u001b[36mconcatenate_dt5\u001b[0m:\u001b[36m497\u001b[0m - \u001b[1mLoading /Volumes/__UP2/0_RAW_DATA/UP2_001/UP2001_2023_10_26_BSITraining_day6/WISCI/2023_10_26_15_03_39 (rec8_HandOpen)/ABSD data/2023_10_26_15_05_05_01of05.dt5\u001b[0m\n",
            "\u001b[32m2024-10-18 00:37:54.703\u001b[0m | \u001b[1mINFO    \u001b[0m | \u001b[36mlighthouse.data_loader.load_chuv\u001b[0m:\u001b[36mload_dt5\u001b[0m:\u001b[36m196\u001b[0m - \u001b[1mScenario Name: classBCIViewerAvatarAllDegreesCourtine\u001b[0m\n",
            "\u001b[32m2024-10-18 00:37:54.707\u001b[0m | \u001b[1mINFO    \u001b[0m | \u001b[36mlighthouse.data_loader.load_chuv\u001b[0m:\u001b[36mload_dt5\u001b[0m:\u001b[36m199\u001b[0m - \u001b[1mSub Scenario Name: classBSISubScenarioUpperJointsClassif\u001b[0m\n",
            "\u001b[32m2024-10-18 00:37:58.885\u001b[0m | \u001b[1mINFO    \u001b[0m | \u001b[36mlighthouse.data_loader.load_chuv\u001b[0m:\u001b[36mconcatenate_dt5\u001b[0m:\u001b[36m497\u001b[0m - \u001b[1mLoading /Volumes/__UP2/0_RAW_DATA/UP2_001/UP2001_2023_10_26_BSITraining_day6/WISCI/2023_10_26_15_03_39 (rec8_HandOpen)/ABSD data/2023_10_26_15_05_05_02of05.dt5\u001b[0m\n",
            "\u001b[32m2024-10-18 00:38:27.337\u001b[0m | \u001b[1mINFO    \u001b[0m | \u001b[36mlighthouse.data_loader.load_chuv\u001b[0m:\u001b[36mconcatenate_dt5\u001b[0m:\u001b[36m497\u001b[0m - \u001b[1mLoading /Volumes/__UP2/0_RAW_DATA/UP2_001/UP2001_2023_10_26_BSITraining_day6/WISCI/2023_10_26_15_03_39 (rec8_HandOpen)/ABSD data/2023_10_26_15_05_05_03of05.dt5\u001b[0m\n",
            "\u001b[32m2024-10-18 00:39:03.825\u001b[0m | \u001b[1mINFO    \u001b[0m | \u001b[36mlighthouse.data_loader.load_chuv\u001b[0m:\u001b[36mconcatenate_dt5\u001b[0m:\u001b[36m497\u001b[0m - \u001b[1mLoading /Volumes/__UP2/0_RAW_DATA/UP2_001/UP2001_2023_10_26_BSITraining_day6/WISCI/2023_10_26_15_03_39 (rec8_HandOpen)/ABSD data/2023_10_26_15_05_05_04of05.dt5\u001b[0m\n",
            "\u001b[32m2024-10-18 00:39:30.780\u001b[0m | \u001b[1mINFO    \u001b[0m | \u001b[36mlighthouse.data_loader.load_chuv\u001b[0m:\u001b[36mconcatenate_dt5\u001b[0m:\u001b[36m497\u001b[0m - \u001b[1mLoading /Volumes/__UP2/0_RAW_DATA/UP2_001/UP2001_2023_10_26_BSITraining_day6/WISCI/2023_10_26_15_03_39 (rec8_HandOpen)/ABSD data/2023_10_26_15_05_05_05of05.dt5\u001b[0m\n"
          ]
        },
        {
          "name": "stdout",
          "output_type": "stream",
          "text": [
            "Signals shape: (56, 800040)\n",
            "New signal shape: (56, 64546)\n",
            "length of data: 13\n"
          ]
        },
        {
          "name": "stderr",
          "output_type": "stream",
          "text": [
            "  5%|▍         | 3/65 [31:10<10:33:36, 613.17s/it]"
          ]
        },
        {
          "name": "stdout",
          "output_type": "stream",
          "text": [
            "Checkpoint saved after session 2\n",
            "Current session: (PosixPath('/Volumes/__UP2/0_RAW_DATA/UP2_001/UP2001_2023_10_27_BSITraining_day7'), 3)\n"
          ]
        },
        {
          "name": "stderr",
          "output_type": "stream",
          "text": [
            "\u001b[32m2024-10-18 00:39:56.279\u001b[0m | \u001b[1mINFO    \u001b[0m | \u001b[36mlighthouse.data_loader.load_chuv\u001b[0m:\u001b[36mconcatenate_dt5\u001b[0m:\u001b[36m497\u001b[0m - \u001b[1mLoading /Volumes/__UP2/0_RAW_DATA/UP2_001/UP2001_2023_10_27_BSITraining_day7/wisci/2023_10_27_14_13_11 (rec1)/ABSD data/2023_10_27_14_17_52_01of08.dt5\u001b[0m\n",
            "\u001b[32m2024-10-18 00:40:25.132\u001b[0m | \u001b[1mINFO    \u001b[0m | \u001b[36mlighthouse.data_loader.load_chuv\u001b[0m:\u001b[36mload_dt5\u001b[0m:\u001b[36m196\u001b[0m - \u001b[1mScenario Name: classBCIViewerAvatarAllDegreesCourtine\u001b[0m\n",
            "\u001b[32m2024-10-18 00:40:25.135\u001b[0m | \u001b[1mINFO    \u001b[0m | \u001b[36mlighthouse.data_loader.load_chuv\u001b[0m:\u001b[36mload_dt5\u001b[0m:\u001b[36m199\u001b[0m - \u001b[1mSub Scenario Name: classBSISubScenarioUpperDirection\u001b[0m\n",
            "\u001b[32m2024-10-18 00:40:28.846\u001b[0m | \u001b[33m\u001b[1mWARNING \u001b[0m | \u001b[36mlighthouse.data_loader.load_chuv\u001b[0m:\u001b[36mload_dt5\u001b[0m:\u001b[36m388\u001b[0m - \u001b[33m\u001b[1mUnknown scenario!\u001b[0m\n",
            "\u001b[32m2024-10-18 00:40:29.194\u001b[0m | \u001b[1mINFO    \u001b[0m | \u001b[36mlighthouse.data_loader.load_chuv\u001b[0m:\u001b[36mconcatenate_dt5\u001b[0m:\u001b[36m497\u001b[0m - \u001b[1mLoading /Volumes/__UP2/0_RAW_DATA/UP2_001/UP2001_2023_10_27_BSITraining_day7/wisci/2023_10_27_14_13_11 (rec1)/ABSD data/2023_10_27_14_17_52_02of08.dt5\u001b[0m\n",
            "\u001b[32m2024-10-18 00:41:14.002\u001b[0m | \u001b[33m\u001b[1mWARNING \u001b[0m | \u001b[36mlighthouse.data_loader.load_chuv\u001b[0m:\u001b[36mload_dt5\u001b[0m:\u001b[36m388\u001b[0m - \u001b[33m\u001b[1mUnknown scenario!\u001b[0m\n",
            "\u001b[32m2024-10-18 00:41:14.350\u001b[0m | \u001b[1mINFO    \u001b[0m | \u001b[36mlighthouse.data_loader.load_chuv\u001b[0m:\u001b[36mconcatenate_dt5\u001b[0m:\u001b[36m497\u001b[0m - \u001b[1mLoading /Volumes/__UP2/0_RAW_DATA/UP2_001/UP2001_2023_10_27_BSITraining_day7/wisci/2023_10_27_14_13_11 (rec1)/ABSD data/2023_10_27_14_17_52_03of08.dt5\u001b[0m\n",
            "\u001b[32m2024-10-18 00:42:10.973\u001b[0m | \u001b[33m\u001b[1mWARNING \u001b[0m | \u001b[36mlighthouse.data_loader.load_chuv\u001b[0m:\u001b[36mload_dt5\u001b[0m:\u001b[36m388\u001b[0m - \u001b[33m\u001b[1mUnknown scenario!\u001b[0m\n",
            "\u001b[32m2024-10-18 00:42:11.302\u001b[0m | \u001b[1mINFO    \u001b[0m | \u001b[36mlighthouse.data_loader.load_chuv\u001b[0m:\u001b[36mconcatenate_dt5\u001b[0m:\u001b[36m497\u001b[0m - \u001b[1mLoading /Volumes/__UP2/0_RAW_DATA/UP2_001/UP2001_2023_10_27_BSITraining_day7/wisci/2023_10_27_14_13_11 (rec1)/ABSD data/2023_10_27_14_17_52_04of08.dt5\u001b[0m\n",
            "\u001b[32m2024-10-18 00:43:04.501\u001b[0m | \u001b[33m\u001b[1mWARNING \u001b[0m | \u001b[36mlighthouse.data_loader.load_chuv\u001b[0m:\u001b[36mload_dt5\u001b[0m:\u001b[36m388\u001b[0m - \u001b[33m\u001b[1mUnknown scenario!\u001b[0m\n",
            "\u001b[32m2024-10-18 00:43:04.833\u001b[0m | \u001b[1mINFO    \u001b[0m | \u001b[36mlighthouse.data_loader.load_chuv\u001b[0m:\u001b[36mconcatenate_dt5\u001b[0m:\u001b[36m497\u001b[0m - \u001b[1mLoading /Volumes/__UP2/0_RAW_DATA/UP2_001/UP2001_2023_10_27_BSITraining_day7/wisci/2023_10_27_14_13_11 (rec1)/ABSD data/2023_10_27_14_17_52_05of08.dt5\u001b[0m\n",
            "\u001b[32m2024-10-18 00:44:17.725\u001b[0m | \u001b[33m\u001b[1mWARNING \u001b[0m | \u001b[36mlighthouse.data_loader.load_chuv\u001b[0m:\u001b[36mload_dt5\u001b[0m:\u001b[36m388\u001b[0m - \u001b[33m\u001b[1mUnknown scenario!\u001b[0m\n",
            "\u001b[32m2024-10-18 00:44:18.080\u001b[0m | \u001b[1mINFO    \u001b[0m | \u001b[36mlighthouse.data_loader.load_chuv\u001b[0m:\u001b[36mconcatenate_dt5\u001b[0m:\u001b[36m497\u001b[0m - \u001b[1mLoading /Volumes/__UP2/0_RAW_DATA/UP2_001/UP2001_2023_10_27_BSITraining_day7/wisci/2023_10_27_14_13_11 (rec1)/ABSD data/2023_10_27_14_17_52_06of08.dt5\u001b[0m\n",
            "\u001b[32m2024-10-18 00:45:07.538\u001b[0m | \u001b[33m\u001b[1mWARNING \u001b[0m | \u001b[36mlighthouse.data_loader.load_chuv\u001b[0m:\u001b[36mload_dt5\u001b[0m:\u001b[36m388\u001b[0m - \u001b[33m\u001b[1mUnknown scenario!\u001b[0m\n",
            "\u001b[32m2024-10-18 00:45:07.889\u001b[0m | \u001b[1mINFO    \u001b[0m | \u001b[36mlighthouse.data_loader.load_chuv\u001b[0m:\u001b[36mconcatenate_dt5\u001b[0m:\u001b[36m497\u001b[0m - \u001b[1mLoading /Volumes/__UP2/0_RAW_DATA/UP2_001/UP2001_2023_10_27_BSITraining_day7/wisci/2023_10_27_14_13_11 (rec1)/ABSD data/2023_10_27_14_17_52_07of08.dt5\u001b[0m\n",
            "\u001b[32m2024-10-18 00:46:27.475\u001b[0m | \u001b[33m\u001b[1mWARNING \u001b[0m | \u001b[36mlighthouse.data_loader.load_chuv\u001b[0m:\u001b[36mload_dt5\u001b[0m:\u001b[36m388\u001b[0m - \u001b[33m\u001b[1mUnknown scenario!\u001b[0m\n",
            "\u001b[32m2024-10-18 00:46:27.854\u001b[0m | \u001b[1mINFO    \u001b[0m | \u001b[36mlighthouse.data_loader.load_chuv\u001b[0m:\u001b[36mconcatenate_dt5\u001b[0m:\u001b[36m497\u001b[0m - \u001b[1mLoading /Volumes/__UP2/0_RAW_DATA/UP2_001/UP2001_2023_10_27_BSITraining_day7/wisci/2023_10_27_14_13_11 (rec1)/ABSD data/2023_10_27_14_17_52_08of08.dt5\u001b[0m\n",
            "\u001b[32m2024-10-18 00:47:27.876\u001b[0m | \u001b[33m\u001b[1mWARNING \u001b[0m | \u001b[36mlighthouse.data_loader.load_chuv\u001b[0m:\u001b[36mload_dt5\u001b[0m:\u001b[36m388\u001b[0m - \u001b[33m\u001b[1mUnknown scenario!\u001b[0m\n"
          ]
        },
        {
          "name": "stdout",
          "output_type": "stream",
          "text": [
            "Signals shape: (54, 1378830)\n",
            "New signal shape: (54, 795438)\n",
            "length of data: 14\n"
          ]
        },
        {
          "name": "stderr",
          "output_type": "stream",
          "text": [
            "  6%|▌         | 4/65 [38:51<9:22:16, 553.05s/it] "
          ]
        },
        {
          "name": "stdout",
          "output_type": "stream",
          "text": [
            "Checkpoint saved after session 3\n",
            "Current session: (PosixPath('/Volumes/__UP2/0_RAW_DATA/UP2_001/UP2001_2023_10_30_BSITraining_day8'), 4)\n"
          ]
        },
        {
          "name": "stderr",
          "output_type": "stream",
          "text": [
            "\u001b[32m2024-10-18 00:47:38.552\u001b[0m | \u001b[1mINFO    \u001b[0m | \u001b[36mlighthouse.data_loader.load_chuv\u001b[0m:\u001b[36mconcatenate_dt5\u001b[0m:\u001b[36m497\u001b[0m - \u001b[1mLoading /Volumes/__UP2/0_RAW_DATA/UP2_001/UP2001_2023_10_30_BSITraining_day8/wisci/2023_10_30_13_11_55 (rec1_drone_session)/ABSD data/2023_10_30_13_19_26_01of13.dt5\u001b[0m\n",
            "\u001b[32m2024-10-18 00:48:27.084\u001b[0m | \u001b[1mINFO    \u001b[0m | \u001b[36mlighthouse.data_loader.load_chuv\u001b[0m:\u001b[36mload_dt5\u001b[0m:\u001b[36m196\u001b[0m - \u001b[1mScenario Name: classBCIViewerAvatarAllDegreesCourtine\u001b[0m\n",
            "\u001b[32m2024-10-18 00:48:27.087\u001b[0m | \u001b[1mINFO    \u001b[0m | \u001b[36mlighthouse.data_loader.load_chuv\u001b[0m:\u001b[36mload_dt5\u001b[0m:\u001b[36m199\u001b[0m - \u001b[1mSub Scenario Name: classBSISubScenarioUpperJointsClassif\u001b[0m\n",
            "\u001b[32m2024-10-18 00:48:31.026\u001b[0m | \u001b[1mINFO    \u001b[0m | \u001b[36mlighthouse.data_loader.load_chuv\u001b[0m:\u001b[36mconcatenate_dt5\u001b[0m:\u001b[36m497\u001b[0m - \u001b[1mLoading /Volumes/__UP2/0_RAW_DATA/UP2_001/UP2001_2023_10_30_BSITraining_day8/wisci/2023_10_30_13_11_55 (rec1_drone_session)/ABSD data/2023_10_30_13_19_26_02of13.dt5\u001b[0m\n",
            "\u001b[32m2024-10-18 00:49:22.806\u001b[0m | \u001b[1mINFO    \u001b[0m | \u001b[36mlighthouse.data_loader.load_chuv\u001b[0m:\u001b[36mconcatenate_dt5\u001b[0m:\u001b[36m497\u001b[0m - \u001b[1mLoading /Volumes/__UP2/0_RAW_DATA/UP2_001/UP2001_2023_10_30_BSITraining_day8/wisci/2023_10_30_13_11_55 (rec1_drone_session)/ABSD data/2023_10_30_13_19_26_03of13.dt5\u001b[0m\n",
            "\u001b[32m2024-10-18 00:50:45.924\u001b[0m | \u001b[1mINFO    \u001b[0m | \u001b[36mlighthouse.data_loader.load_chuv\u001b[0m:\u001b[36mconcatenate_dt5\u001b[0m:\u001b[36m497\u001b[0m - \u001b[1mLoading /Volumes/__UP2/0_RAW_DATA/UP2_001/UP2001_2023_10_30_BSITraining_day8/wisci/2023_10_30_13_11_55 (rec1_drone_session)/ABSD data/2023_10_30_13_19_26_04of13.dt5\u001b[0m\n",
            "\u001b[32m2024-10-18 00:51:24.723\u001b[0m | \u001b[1mINFO    \u001b[0m | \u001b[36mlighthouse.data_loader.load_chuv\u001b[0m:\u001b[36mconcatenate_dt5\u001b[0m:\u001b[36m497\u001b[0m - \u001b[1mLoading /Volumes/__UP2/0_RAW_DATA/UP2_001/UP2001_2023_10_30_BSITraining_day8/wisci/2023_10_30_13_11_55 (rec1_drone_session)/ABSD data/2023_10_30_13_19_26_05of13.dt5\u001b[0m\n",
            "\u001b[32m2024-10-18 00:52:08.467\u001b[0m | \u001b[1mINFO    \u001b[0m | \u001b[36mlighthouse.data_loader.load_chuv\u001b[0m:\u001b[36mconcatenate_dt5\u001b[0m:\u001b[36m497\u001b[0m - \u001b[1mLoading /Volumes/__UP2/0_RAW_DATA/UP2_001/UP2001_2023_10_30_BSITraining_day8/wisci/2023_10_30_13_11_55 (rec1_drone_session)/ABSD data/2023_10_30_13_19_26_06of13.dt5\u001b[0m\n",
            "\u001b[32m2024-10-18 00:53:29.689\u001b[0m | \u001b[1mINFO    \u001b[0m | \u001b[36mlighthouse.data_loader.load_chuv\u001b[0m:\u001b[36mconcatenate_dt5\u001b[0m:\u001b[36m497\u001b[0m - \u001b[1mLoading /Volumes/__UP2/0_RAW_DATA/UP2_001/UP2001_2023_10_30_BSITraining_day8/wisci/2023_10_30_13_11_55 (rec1_drone_session)/ABSD data/2023_10_30_13_19_26_07of13.dt5\u001b[0m\n",
            "\u001b[32m2024-10-18 00:54:26.717\u001b[0m | \u001b[1mINFO    \u001b[0m | \u001b[36mlighthouse.data_loader.load_chuv\u001b[0m:\u001b[36mconcatenate_dt5\u001b[0m:\u001b[36m497\u001b[0m - \u001b[1mLoading /Volumes/__UP2/0_RAW_DATA/UP2_001/UP2001_2023_10_30_BSITraining_day8/wisci/2023_10_30_13_11_55 (rec1_drone_session)/ABSD data/2023_10_30_13_19_26_08of13.dt5\u001b[0m\n",
            "\u001b[32m2024-10-18 00:55:27.195\u001b[0m | \u001b[1mINFO    \u001b[0m | \u001b[36mlighthouse.data_loader.load_chuv\u001b[0m:\u001b[36mconcatenate_dt5\u001b[0m:\u001b[36m497\u001b[0m - \u001b[1mLoading /Volumes/__UP2/0_RAW_DATA/UP2_001/UP2001_2023_10_30_BSITraining_day8/wisci/2023_10_30_13_11_55 (rec1_drone_session)/ABSD data/2023_10_30_13_19_26_09of13.dt5\u001b[0m\n",
            "\u001b[32m2024-10-18 00:56:22.338\u001b[0m | \u001b[1mINFO    \u001b[0m | \u001b[36mlighthouse.data_loader.load_chuv\u001b[0m:\u001b[36mconcatenate_dt5\u001b[0m:\u001b[36m497\u001b[0m - \u001b[1mLoading /Volumes/__UP2/0_RAW_DATA/UP2_001/UP2001_2023_10_30_BSITraining_day8/wisci/2023_10_30_13_11_55 (rec1_drone_session)/ABSD data/2023_10_30_13_19_26_10of13.dt5\u001b[0m\n",
            "\u001b[32m2024-10-18 00:57:16.965\u001b[0m | \u001b[1mINFO    \u001b[0m | \u001b[36mlighthouse.data_loader.load_chuv\u001b[0m:\u001b[36mconcatenate_dt5\u001b[0m:\u001b[36m497\u001b[0m - \u001b[1mLoading /Volumes/__UP2/0_RAW_DATA/UP2_001/UP2001_2023_10_30_BSITraining_day8/wisci/2023_10_30_13_11_55 (rec1_drone_session)/ABSD data/2023_10_30_13_19_26_11of13.dt5\u001b[0m\n",
            "\u001b[32m2024-10-18 00:58:09.876\u001b[0m | \u001b[1mINFO    \u001b[0m | \u001b[36mlighthouse.data_loader.load_chuv\u001b[0m:\u001b[36mconcatenate_dt5\u001b[0m:\u001b[36m497\u001b[0m - \u001b[1mLoading /Volumes/__UP2/0_RAW_DATA/UP2_001/UP2001_2023_10_30_BSITraining_day8/wisci/2023_10_30_13_11_55 (rec1_drone_session)/ABSD data/2023_10_30_13_19_26_12of13.dt5\u001b[0m\n",
            "\u001b[32m2024-10-18 00:59:31.222\u001b[0m | \u001b[1mINFO    \u001b[0m | \u001b[36mlighthouse.data_loader.load_chuv\u001b[0m:\u001b[36mconcatenate_dt5\u001b[0m:\u001b[36m497\u001b[0m - \u001b[1mLoading /Volumes/__UP2/0_RAW_DATA/UP2_001/UP2001_2023_10_30_BSITraining_day8/wisci/2023_10_30_13_11_55 (rec1_drone_session)/ABSD data/2023_10_30_13_19_26_13of13.dt5\u001b[0m\n"
          ]
        },
        {
          "name": "stdout",
          "output_type": "stream",
          "text": [
            "Signals shape: (48, 2214860)\n",
            "New signal shape: (48, 661803)\n"
          ]
        },
        {
          "name": "stderr",
          "output_type": "stream",
          "text": [
            "\u001b[32m2024-10-18 00:59:52.537\u001b[0m | \u001b[1mINFO    \u001b[0m | \u001b[36mlighthouse.data_loader.load_chuv\u001b[0m:\u001b[36mconcatenate_dt5\u001b[0m:\u001b[36m497\u001b[0m - \u001b[1mLoading /Volumes/__UP2/0_RAW_DATA/UP2_001/UP2001_2023_10_30_BSITraining_day8/wisci/2023_10_30_14_32_18 (shoulderAbdrec2)/ABSD data/2023_10_30_14_33_52_01of03.dt5\u001b[0m\n",
            "\u001b[32m2024-10-18 01:00:42.631\u001b[0m | \u001b[1mINFO    \u001b[0m | \u001b[36mlighthouse.data_loader.load_chuv\u001b[0m:\u001b[36mload_dt5\u001b[0m:\u001b[36m196\u001b[0m - \u001b[1mScenario Name: classBCIViewerAvatarAllDegreesCourtine\u001b[0m\n",
            "\u001b[32m2024-10-18 01:00:42.634\u001b[0m | \u001b[1mINFO    \u001b[0m | \u001b[36mlighthouse.data_loader.load_chuv\u001b[0m:\u001b[36mload_dt5\u001b[0m:\u001b[36m199\u001b[0m - \u001b[1mSub Scenario Name: classBSISubScenarioUpperJointsClassif\u001b[0m\n",
            "\u001b[32m2024-10-18 01:00:46.851\u001b[0m | \u001b[1mINFO    \u001b[0m | \u001b[36mlighthouse.data_loader.load_chuv\u001b[0m:\u001b[36mconcatenate_dt5\u001b[0m:\u001b[36m497\u001b[0m - \u001b[1mLoading /Volumes/__UP2/0_RAW_DATA/UP2_001/UP2001_2023_10_30_BSITraining_day8/wisci/2023_10_30_14_32_18 (shoulderAbdrec2)/ABSD data/2023_10_30_14_33_52_02of03.dt5\u001b[0m\n",
            "\u001b[32m2024-10-18 01:01:54.779\u001b[0m | \u001b[1mINFO    \u001b[0m | \u001b[36mlighthouse.data_loader.load_chuv\u001b[0m:\u001b[36mconcatenate_dt5\u001b[0m:\u001b[36m497\u001b[0m - \u001b[1mLoading /Volumes/__UP2/0_RAW_DATA/UP2_001/UP2001_2023_10_30_BSITraining_day8/wisci/2023_10_30_14_32_18 (shoulderAbdrec2)/ABSD data/2023_10_30_14_33_52_03of03.dt5\u001b[0m\n"
          ]
        },
        {
          "name": "stdout",
          "output_type": "stream",
          "text": [
            "Signals shape: (56, 417307)\n",
            "New signal shape: (56, 0)\n"
          ]
        },
        {
          "name": "stderr",
          "output_type": "stream",
          "text": [
            "\u001b[32m2024-10-18 01:02:03.976\u001b[0m | \u001b[1mINFO    \u001b[0m | \u001b[36mlighthouse.data_loader.load_chuv\u001b[0m:\u001b[36mconcatenate_dt5\u001b[0m:\u001b[36m497\u001b[0m - \u001b[1mLoading /Volumes/__UP2/0_RAW_DATA/UP2_001/UP2001_2023_10_30_BSITraining_day8/wisci/2023_10_30_14_46_14 (rec3(elbowExtension))/ABSD data/2023_10_30_14_47_41_01of03.dt5\u001b[0m\n",
            "\u001b[32m2024-10-18 01:03:05.169\u001b[0m | \u001b[1mINFO    \u001b[0m | \u001b[36mlighthouse.data_loader.load_chuv\u001b[0m:\u001b[36mload_dt5\u001b[0m:\u001b[36m196\u001b[0m - \u001b[1mScenario Name: classBCIViewerAvatarAllDegreesCourtine\u001b[0m\n",
            "\u001b[32m2024-10-18 01:03:05.171\u001b[0m | \u001b[1mINFO    \u001b[0m | \u001b[36mlighthouse.data_loader.load_chuv\u001b[0m:\u001b[36mload_dt5\u001b[0m:\u001b[36m199\u001b[0m - \u001b[1mSub Scenario Name: classBSISubScenarioUpperJointsClassif\u001b[0m\n",
            "\u001b[32m2024-10-18 01:03:09.132\u001b[0m | \u001b[1mINFO    \u001b[0m | \u001b[36mlighthouse.data_loader.load_chuv\u001b[0m:\u001b[36mconcatenate_dt5\u001b[0m:\u001b[36m497\u001b[0m - \u001b[1mLoading /Volumes/__UP2/0_RAW_DATA/UP2_001/UP2001_2023_10_30_BSITraining_day8/wisci/2023_10_30_14_46_14 (rec3(elbowExtension))/ABSD data/2023_10_30_14_47_41_02of03.dt5\u001b[0m\n",
            "\u001b[32m2024-10-18 01:04:18.621\u001b[0m | \u001b[1mINFO    \u001b[0m | \u001b[36mlighthouse.data_loader.load_chuv\u001b[0m:\u001b[36mconcatenate_dt5\u001b[0m:\u001b[36m497\u001b[0m - \u001b[1mLoading /Volumes/__UP2/0_RAW_DATA/UP2_001/UP2001_2023_10_30_BSITraining_day8/wisci/2023_10_30_14_46_14 (rec3(elbowExtension))/ABSD data/2023_10_30_14_47_41_03of03.dt5\u001b[0m\n"
          ]
        },
        {
          "name": "stdout",
          "output_type": "stream",
          "text": [
            "Signals shape: (56, 461970)\n",
            "New signal shape: (56, 0)\n"
          ]
        },
        {
          "name": "stderr",
          "output_type": "stream",
          "text": [
            "\u001b[32m2024-10-18 01:04:51.245\u001b[0m | \u001b[1mINFO    \u001b[0m | \u001b[36mlighthouse.data_loader.load_chuv\u001b[0m:\u001b[36mconcatenate_dt5\u001b[0m:\u001b[36m497\u001b[0m - \u001b[1mLoading /Volumes/__UP2/0_RAW_DATA/UP2_001/UP2001_2023_10_30_BSITraining_day8/wisci/2023_10_30_15_01_30 (rec4(handopen))/ABSD data/2023_10_30_15_04_05_01of04.dt5\u001b[0m\n",
            "\u001b[32m2024-10-18 01:06:04.181\u001b[0m | \u001b[1mINFO    \u001b[0m | \u001b[36mlighthouse.data_loader.load_chuv\u001b[0m:\u001b[36mload_dt5\u001b[0m:\u001b[36m196\u001b[0m - \u001b[1mScenario Name: classBCIViewerAvatarAllDegreesCourtine\u001b[0m\n",
            "\u001b[32m2024-10-18 01:06:04.185\u001b[0m | \u001b[1mINFO    \u001b[0m | \u001b[36mlighthouse.data_loader.load_chuv\u001b[0m:\u001b[36mload_dt5\u001b[0m:\u001b[36m199\u001b[0m - \u001b[1mSub Scenario Name: classBSISubScenarioUpperJointsClassif\u001b[0m\n",
            "\u001b[32m2024-10-18 01:06:08.224\u001b[0m | \u001b[1mINFO    \u001b[0m | \u001b[36mlighthouse.data_loader.load_chuv\u001b[0m:\u001b[36mconcatenate_dt5\u001b[0m:\u001b[36m497\u001b[0m - \u001b[1mLoading /Volumes/__UP2/0_RAW_DATA/UP2_001/UP2001_2023_10_30_BSITraining_day8/wisci/2023_10_30_15_01_30 (rec4(handopen))/ABSD data/2023_10_30_15_04_05_02of04.dt5\u001b[0m\n",
            "\u001b[32m2024-10-18 01:07:21.476\u001b[0m | \u001b[1mINFO    \u001b[0m | \u001b[36mlighthouse.data_loader.load_chuv\u001b[0m:\u001b[36mconcatenate_dt5\u001b[0m:\u001b[36m497\u001b[0m - \u001b[1mLoading /Volumes/__UP2/0_RAW_DATA/UP2_001/UP2001_2023_10_30_BSITraining_day8/wisci/2023_10_30_15_01_30 (rec4(handopen))/ABSD data/2023_10_30_15_04_05_03of04.dt5\u001b[0m\n",
            "\u001b[32m2024-10-18 01:08:05.207\u001b[0m | \u001b[1mINFO    \u001b[0m | \u001b[36mlighthouse.data_loader.load_chuv\u001b[0m:\u001b[36mconcatenate_dt5\u001b[0m:\u001b[36m497\u001b[0m - \u001b[1mLoading /Volumes/__UP2/0_RAW_DATA/UP2_001/UP2001_2023_10_30_BSITraining_day8/wisci/2023_10_30_15_01_30 (rec4(handopen))/ABSD data/2023_10_30_15_04_05_04of04.dt5\u001b[0m\n"
          ]
        },
        {
          "name": "stdout",
          "output_type": "stream",
          "text": [
            "Signals shape: (56, 559851)\n",
            "New signal shape: (56, 0)\n"
          ]
        },
        {
          "name": "stderr",
          "output_type": "stream",
          "text": [
            "\u001b[32m2024-10-18 01:08:17.469\u001b[0m | \u001b[1mINFO    \u001b[0m | \u001b[36mlighthouse.data_loader.load_chuv\u001b[0m:\u001b[36mconcatenate_dt5\u001b[0m:\u001b[36m497\u001b[0m - \u001b[1mLoading /Volumes/__UP2/0_RAW_DATA/UP2_001/UP2001_2023_10_30_BSITraining_day8/wisci/2023_10_30_15_20_31 (rec5(pronation))/ABSD data/2023_10_30_15_22_15_01of04.dt5\u001b[0m\n",
            "\u001b[32m2024-10-18 01:09:02.842\u001b[0m | \u001b[1mINFO    \u001b[0m | \u001b[36mlighthouse.data_loader.load_chuv\u001b[0m:\u001b[36mload_dt5\u001b[0m:\u001b[36m196\u001b[0m - \u001b[1mScenario Name: classBCIViewerAvatarAllDegreesCourtine\u001b[0m\n",
            "\u001b[32m2024-10-18 01:09:02.846\u001b[0m | \u001b[1mINFO    \u001b[0m | \u001b[36mlighthouse.data_loader.load_chuv\u001b[0m:\u001b[36mload_dt5\u001b[0m:\u001b[36m199\u001b[0m - \u001b[1mSub Scenario Name: classBSISubScenarioUpperJointsClassif\u001b[0m\n",
            "\u001b[32m2024-10-18 01:09:06.828\u001b[0m | \u001b[1mINFO    \u001b[0m | \u001b[36mlighthouse.data_loader.load_chuv\u001b[0m:\u001b[36mconcatenate_dt5\u001b[0m:\u001b[36m497\u001b[0m - \u001b[1mLoading /Volumes/__UP2/0_RAW_DATA/UP2_001/UP2001_2023_10_30_BSITraining_day8/wisci/2023_10_30_15_20_31 (rec5(pronation))/ABSD data/2023_10_30_15_22_15_02of04.dt5\u001b[0m\n",
            "\u001b[32m2024-10-18 01:09:48.887\u001b[0m | \u001b[1mINFO    \u001b[0m | \u001b[36mlighthouse.data_loader.load_chuv\u001b[0m:\u001b[36mconcatenate_dt5\u001b[0m:\u001b[36m497\u001b[0m - \u001b[1mLoading /Volumes/__UP2/0_RAW_DATA/UP2_001/UP2001_2023_10_30_BSITraining_day8/wisci/2023_10_30_15_20_31 (rec5(pronation))/ABSD data/2023_10_30_15_22_15_03of04.dt5\u001b[0m\n",
            "\u001b[32m2024-10-18 01:10:43.572\u001b[0m | \u001b[1mINFO    \u001b[0m | \u001b[36mlighthouse.data_loader.load_chuv\u001b[0m:\u001b[36mconcatenate_dt5\u001b[0m:\u001b[36m497\u001b[0m - \u001b[1mLoading /Volumes/__UP2/0_RAW_DATA/UP2_001/UP2001_2023_10_30_BSITraining_day8/wisci/2023_10_30_15_20_31 (rec5(pronation))/ABSD data/2023_10_30_15_22_15_04of04.dt5\u001b[0m\n"
          ]
        },
        {
          "name": "stdout",
          "output_type": "stream",
          "text": [
            "Signals shape: (56, 590059)\n",
            "New signal shape: (56, 0)\n",
            "length of data: 19\n"
          ]
        },
        {
          "name": "stderr",
          "output_type": "stream",
          "text": [
            "  8%|▊         | 5/65 [1:02:16<14:20:18, 860.31s/it]"
          ]
        },
        {
          "name": "stdout",
          "output_type": "stream",
          "text": [
            "Checkpoint saved after session 4\n",
            "Current session: (PosixPath('/Volumes/__UP2/0_RAW_DATA/UP2_001/UP2001_2023_11_02_BSITraining_day11'), 5)\n"
          ]
        },
        {
          "name": "stderr",
          "output_type": "stream",
          "text": [
            "\u001b[32m2024-10-18 01:11:10.914\u001b[0m | \u001b[1mINFO    \u001b[0m | \u001b[36mlighthouse.data_loader.load_chuv\u001b[0m:\u001b[36mconcatenate_dt5\u001b[0m:\u001b[36m497\u001b[0m - \u001b[1mLoading /Volumes/__UP2/0_RAW_DATA/UP2_001/UP2001_2023_11_02_BSITraining_day11/WISCI/2023_11_02_13_23_37 (rec1)/ABSD data/2023_11_02_13_27_38_01of02.dt5\u001b[0m\n",
            "\u001b[32m2024-10-18 01:11:40.682\u001b[0m | \u001b[1mINFO    \u001b[0m | \u001b[36mlighthouse.data_loader.load_chuv\u001b[0m:\u001b[36mload_dt5\u001b[0m:\u001b[36m196\u001b[0m - \u001b[1mScenario Name: classBCIViewerAvatarAllDegreesCourtine\u001b[0m\n",
            "\u001b[32m2024-10-18 01:11:40.685\u001b[0m | \u001b[1mINFO    \u001b[0m | \u001b[36mlighthouse.data_loader.load_chuv\u001b[0m:\u001b[36mload_dt5\u001b[0m:\u001b[36m199\u001b[0m - \u001b[1mSub Scenario Name: classBSISubScenarioUpperJointsClassif\u001b[0m\n",
            "\u001b[32m2024-10-18 01:11:44.678\u001b[0m | \u001b[1mINFO    \u001b[0m | \u001b[36mlighthouse.data_loader.load_chuv\u001b[0m:\u001b[36mconcatenate_dt5\u001b[0m:\u001b[36m497\u001b[0m - \u001b[1mLoading /Volumes/__UP2/0_RAW_DATA/UP2_001/UP2001_2023_11_02_BSITraining_day11/WISCI/2023_11_02_13_23_37 (rec1)/ABSD data/2023_11_02_13_27_38_02of02.dt5\u001b[0m\n"
          ]
        },
        {
          "name": "stdout",
          "output_type": "stream",
          "text": [
            "Signals shape: (56, 208329)\n",
            "New signal shape: (56, 46138)\n"
          ]
        },
        {
          "name": "stderr",
          "output_type": "stream",
          "text": [
            "\u001b[32m2024-10-18 01:11:50.243\u001b[0m | \u001b[1mINFO    \u001b[0m | \u001b[36mlighthouse.data_loader.load_chuv\u001b[0m:\u001b[36mconcatenate_dt5\u001b[0m:\u001b[36m497\u001b[0m - \u001b[1mLoading /Volumes/__UP2/0_RAW_DATA/UP2_001/UP2001_2023_11_02_BSITraining_day11/WISCI/2023_11_02_13_34_03 (rec2_ShoulderFlexion_NewModel)/ABSD data/2023_11_02_13_35_10_01of07.dt5\u001b[0m\n",
            "\u001b[32m2024-10-18 01:12:37.802\u001b[0m | \u001b[1mINFO    \u001b[0m | \u001b[36mlighthouse.data_loader.load_chuv\u001b[0m:\u001b[36mload_dt5\u001b[0m:\u001b[36m196\u001b[0m - \u001b[1mScenario Name: classBCIViewerAvatarAllDegreesCourtine\u001b[0m\n",
            "\u001b[32m2024-10-18 01:12:37.806\u001b[0m | \u001b[1mINFO    \u001b[0m | \u001b[36mlighthouse.data_loader.load_chuv\u001b[0m:\u001b[36mload_dt5\u001b[0m:\u001b[36m199\u001b[0m - \u001b[1mSub Scenario Name: classBSISubScenarioUpperJointsClassif\u001b[0m\n",
            "\u001b[32m2024-10-18 01:12:41.777\u001b[0m | \u001b[1mINFO    \u001b[0m | \u001b[36mlighthouse.data_loader.load_chuv\u001b[0m:\u001b[36mconcatenate_dt5\u001b[0m:\u001b[36m497\u001b[0m - \u001b[1mLoading /Volumes/__UP2/0_RAW_DATA/UP2_001/UP2001_2023_11_02_BSITraining_day11/WISCI/2023_11_02_13_34_03 (rec2_ShoulderFlexion_NewModel)/ABSD data/2023_11_02_13_35_10_02of07.dt5\u001b[0m\n",
            "\u001b[32m2024-10-18 01:13:27.623\u001b[0m | \u001b[1mINFO    \u001b[0m | \u001b[36mlighthouse.data_loader.load_chuv\u001b[0m:\u001b[36mconcatenate_dt5\u001b[0m:\u001b[36m497\u001b[0m - \u001b[1mLoading /Volumes/__UP2/0_RAW_DATA/UP2_001/UP2001_2023_11_02_BSITraining_day11/WISCI/2023_11_02_13_34_03 (rec2_ShoulderFlexion_NewModel)/ABSD data/2023_11_02_13_35_10_03of07.dt5\u001b[0m\n",
            "\u001b[32m2024-10-18 01:14:02.316\u001b[0m | \u001b[1mINFO    \u001b[0m | \u001b[36mlighthouse.data_loader.load_chuv\u001b[0m:\u001b[36mconcatenate_dt5\u001b[0m:\u001b[36m497\u001b[0m - \u001b[1mLoading /Volumes/__UP2/0_RAW_DATA/UP2_001/UP2001_2023_11_02_BSITraining_day11/WISCI/2023_11_02_13_34_03 (rec2_ShoulderFlexion_NewModel)/ABSD data/2023_11_02_13_35_10_04of07.dt5\u001b[0m\n",
            "\u001b[32m2024-10-18 01:15:03.999\u001b[0m | \u001b[1mINFO    \u001b[0m | \u001b[36mlighthouse.data_loader.load_chuv\u001b[0m:\u001b[36mconcatenate_dt5\u001b[0m:\u001b[36m497\u001b[0m - \u001b[1mLoading /Volumes/__UP2/0_RAW_DATA/UP2_001/UP2001_2023_11_02_BSITraining_day11/WISCI/2023_11_02_13_34_03 (rec2_ShoulderFlexion_NewModel)/ABSD data/2023_11_02_13_35_10_05of07.dt5\u001b[0m\n",
            "\u001b[32m2024-10-18 01:15:44.762\u001b[0m | \u001b[1mINFO    \u001b[0m | \u001b[36mlighthouse.data_loader.load_chuv\u001b[0m:\u001b[36mconcatenate_dt5\u001b[0m:\u001b[36m497\u001b[0m - \u001b[1mLoading /Volumes/__UP2/0_RAW_DATA/UP2_001/UP2001_2023_11_02_BSITraining_day11/WISCI/2023_11_02_13_34_03 (rec2_ShoulderFlexion_NewModel)/ABSD data/2023_11_02_13_35_10_06of07.dt5\u001b[0m\n",
            "\u001b[32m2024-10-18 01:16:17.646\u001b[0m | \u001b[1mINFO    \u001b[0m | \u001b[36mlighthouse.data_loader.load_chuv\u001b[0m:\u001b[36mconcatenate_dt5\u001b[0m:\u001b[36m497\u001b[0m - \u001b[1mLoading /Volumes/__UP2/0_RAW_DATA/UP2_001/UP2001_2023_11_02_BSITraining_day11/WISCI/2023_11_02_13_34_03 (rec2_ShoulderFlexion_NewModel)/ABSD data/2023_11_02_13_35_10_07of07.dt5\u001b[0m\n"
          ]
        },
        {
          "name": "stdout",
          "output_type": "stream",
          "text": [
            "Signals shape: (56, 1102356)\n",
            "New signal shape: (56, 99533)\n"
          ]
        },
        {
          "name": "stderr",
          "output_type": "stream",
          "text": [
            "\u001b[32m2024-10-18 01:16:24.389\u001b[0m | \u001b[1mINFO    \u001b[0m | \u001b[36mlighthouse.data_loader.load_chuv\u001b[0m:\u001b[36mconcatenate_dt5\u001b[0m:\u001b[36m497\u001b[0m - \u001b[1mLoading /Volumes/__UP2/0_RAW_DATA/UP2_001/UP2001_2023_11_02_BSITraining_day11/WISCI/2023_11_02_14_39_48 (rec4_Pronation_Update)/ABSD data/2023_11_02_14_41_09_01of04.dt5\u001b[0m\n",
            "\u001b[32m2024-10-18 01:16:48.004\u001b[0m | \u001b[1mINFO    \u001b[0m | \u001b[36mlighthouse.data_loader.load_chuv\u001b[0m:\u001b[36mload_dt5\u001b[0m:\u001b[36m196\u001b[0m - \u001b[1mScenario Name: classBCIViewerAvatarAllDegreesCourtine\u001b[0m\n",
            "\u001b[32m2024-10-18 01:16:48.007\u001b[0m | \u001b[1mINFO    \u001b[0m | \u001b[36mlighthouse.data_loader.load_chuv\u001b[0m:\u001b[36mload_dt5\u001b[0m:\u001b[36m199\u001b[0m - \u001b[1mSub Scenario Name: classBSISubScenarioUpperJointsClassif\u001b[0m\n",
            "\u001b[32m2024-10-18 01:16:52.321\u001b[0m | \u001b[1mINFO    \u001b[0m | \u001b[36mlighthouse.data_loader.load_chuv\u001b[0m:\u001b[36mconcatenate_dt5\u001b[0m:\u001b[36m497\u001b[0m - \u001b[1mLoading /Volumes/__UP2/0_RAW_DATA/UP2_001/UP2001_2023_11_02_BSITraining_day11/WISCI/2023_11_02_14_39_48 (rec4_Pronation_Update)/ABSD data/2023_11_02_14_41_09_02of04.dt5\u001b[0m\n",
            "\u001b[32m2024-10-18 01:17:23.064\u001b[0m | \u001b[1mINFO    \u001b[0m | \u001b[36mlighthouse.data_loader.load_chuv\u001b[0m:\u001b[36mconcatenate_dt5\u001b[0m:\u001b[36m497\u001b[0m - \u001b[1mLoading /Volumes/__UP2/0_RAW_DATA/UP2_001/UP2001_2023_11_02_BSITraining_day11/WISCI/2023_11_02_14_39_48 (rec4_Pronation_Update)/ABSD data/2023_11_02_14_41_09_03of04.dt5\u001b[0m\n",
            "\u001b[32m2024-10-18 01:17:53.731\u001b[0m | \u001b[1mINFO    \u001b[0m | \u001b[36mlighthouse.data_loader.load_chuv\u001b[0m:\u001b[36mconcatenate_dt5\u001b[0m:\u001b[36m497\u001b[0m - \u001b[1mLoading /Volumes/__UP2/0_RAW_DATA/UP2_001/UP2001_2023_11_02_BSITraining_day11/WISCI/2023_11_02_14_39_48 (rec4_Pronation_Update)/ABSD data/2023_11_02_14_41_09_04of04.dt5\u001b[0m\n"
          ]
        },
        {
          "name": "stdout",
          "output_type": "stream",
          "text": [
            "Signals shape: (56, 662806)\n",
            "New signal shape: (56, 76169)\n",
            "length of data: 22\n"
          ]
        },
        {
          "name": "stderr",
          "output_type": "stream",
          "text": [
            "  9%|▉         | 6/65 [1:09:41<11:47:19, 719.31s/it]"
          ]
        },
        {
          "name": "stdout",
          "output_type": "stream",
          "text": [
            "Checkpoint saved after session 5\n",
            "Current session: (PosixPath('/Volumes/__UP2/0_RAW_DATA/UP2_001/UP2001_2023_11_03_BSITraining_day12_ALExBrainReward'), 6)\n",
            "length of data: 22\n"
          ]
        },
        {
          "name": "stderr",
          "output_type": "stream",
          "text": [
            " 11%|█         | 7/65 [1:09:50<7:50:37, 486.85s/it] "
          ]
        },
        {
          "name": "stdout",
          "output_type": "stream",
          "text": [
            "Checkpoint saved after session 6\n",
            "Current session: (PosixPath('/Volumes/__UP2/0_RAW_DATA/UP2_001/UP2001_2023_11_06_BSITraining_day13'), 7)\n"
          ]
        },
        {
          "name": "stderr",
          "output_type": "stream",
          "text": [
            "\u001b[32m2024-10-18 01:18:40.760\u001b[0m | \u001b[1mINFO    \u001b[0m | \u001b[36mlighthouse.data_loader.load_chuv\u001b[0m:\u001b[36mconcatenate_dt5\u001b[0m:\u001b[36m497\u001b[0m - \u001b[1mLoading /Volumes/__UP2/0_RAW_DATA/UP2_001/UP2001_2023_11_06_BSITraining_day13/WISCI/2023_11_06_13_24_31 (rec3_SHoulderFlexion_reps)/ABSD data/2023_11_06_13_26_50_01of03.dt5\u001b[0m\n",
            "\u001b[32m2024-10-18 01:19:08.085\u001b[0m | \u001b[1mINFO    \u001b[0m | \u001b[36mlighthouse.data_loader.load_chuv\u001b[0m:\u001b[36mload_dt5\u001b[0m:\u001b[36m196\u001b[0m - \u001b[1mScenario Name: classBCIViewerAvatarAllDegreesCourtine\u001b[0m\n",
            "\u001b[32m2024-10-18 01:19:08.091\u001b[0m | \u001b[1mINFO    \u001b[0m | \u001b[36mlighthouse.data_loader.load_chuv\u001b[0m:\u001b[36mload_dt5\u001b[0m:\u001b[36m199\u001b[0m - \u001b[1mSub Scenario Name: classBSISubScenarioUpperJointsClassif\u001b[0m\n",
            "\u001b[32m2024-10-18 01:19:12.131\u001b[0m | \u001b[1mINFO    \u001b[0m | \u001b[36mlighthouse.data_loader.load_chuv\u001b[0m:\u001b[36mconcatenate_dt5\u001b[0m:\u001b[36m497\u001b[0m - \u001b[1mLoading /Volumes/__UP2/0_RAW_DATA/UP2_001/UP2001_2023_11_06_BSITraining_day13/WISCI/2023_11_06_13_24_31 (rec3_SHoulderFlexion_reps)/ABSD data/2023_11_06_13_26_50_02of03.dt5\u001b[0m\n",
            "\u001b[32m2024-10-18 01:19:44.875\u001b[0m | \u001b[1mINFO    \u001b[0m | \u001b[36mlighthouse.data_loader.load_chuv\u001b[0m:\u001b[36mconcatenate_dt5\u001b[0m:\u001b[36m497\u001b[0m - \u001b[1mLoading /Volumes/__UP2/0_RAW_DATA/UP2_001/UP2001_2023_11_06_BSITraining_day13/WISCI/2023_11_06_13_24_31 (rec3_SHoulderFlexion_reps)/ABSD data/2023_11_06_13_26_50_03of03.dt5\u001b[0m\n"
          ]
        },
        {
          "name": "stdout",
          "output_type": "stream",
          "text": [
            "Signals shape: (56, 447397)\n",
            "New signal shape: (56, 0)\n"
          ]
        },
        {
          "name": "stderr",
          "output_type": "stream",
          "text": [
            "\u001b[32m2024-10-18 01:20:00.610\u001b[0m | \u001b[1mINFO    \u001b[0m | \u001b[36mlighthouse.data_loader.load_chuv\u001b[0m:\u001b[36mconcatenate_dt5\u001b[0m:\u001b[36m497\u001b[0m - \u001b[1mLoading /Volumes/__UP2/0_RAW_DATA/UP2_001/UP2001_2023_11_06_BSITraining_day13/WISCI/2023_11_06_13_40_14 (rec4_NewModel_ShoulderFlexion_Forward)/ABSD data/2023_11_06_13_42_06_01of02.dt5\u001b[0m\n",
            "\u001b[32m2024-10-18 01:20:26.812\u001b[0m | \u001b[1mINFO    \u001b[0m | \u001b[36mlighthouse.data_loader.load_chuv\u001b[0m:\u001b[36mload_dt5\u001b[0m:\u001b[36m196\u001b[0m - \u001b[1mScenario Name: classBCIViewerAvatarAllDegreesCourtine\u001b[0m\n",
            "\u001b[32m2024-10-18 01:20:26.815\u001b[0m | \u001b[1mINFO    \u001b[0m | \u001b[36mlighthouse.data_loader.load_chuv\u001b[0m:\u001b[36mload_dt5\u001b[0m:\u001b[36m199\u001b[0m - \u001b[1mSub Scenario Name: classBSISubScenarioUpperJointsClassif\u001b[0m\n",
            "\u001b[32m2024-10-18 01:20:30.765\u001b[0m | \u001b[1mINFO    \u001b[0m | \u001b[36mlighthouse.data_loader.load_chuv\u001b[0m:\u001b[36mconcatenate_dt5\u001b[0m:\u001b[36m497\u001b[0m - \u001b[1mLoading /Volumes/__UP2/0_RAW_DATA/UP2_001/UP2001_2023_11_06_BSITraining_day13/WISCI/2023_11_06_13_40_14 (rec4_NewModel_ShoulderFlexion_Forward)/ABSD data/2023_11_06_13_42_06_02of02.dt5\u001b[0m\n"
          ]
        },
        {
          "name": "stdout",
          "output_type": "stream",
          "text": [
            "Signals shape: (56, 336300)\n",
            "New signal shape: (56, 79001)\n"
          ]
        },
        {
          "name": "stderr",
          "output_type": "stream",
          "text": [
            "\u001b[32m2024-10-18 01:21:04.057\u001b[0m | \u001b[1mINFO    \u001b[0m | \u001b[36mlighthouse.data_loader.load_chuv\u001b[0m:\u001b[36mconcatenate_dt5\u001b[0m:\u001b[36m497\u001b[0m - \u001b[1mLoading /Volumes/__UP2/0_RAW_DATA/UP2_001/UP2001_2023_11_06_BSITraining_day13/WISCI/2023_11_06_13_52_45 (rec5_ElbowExt)/ABSD data/2023_11_06_13_54_02_01of06.dt5\u001b[0m\n",
            "\u001b[32m2024-10-18 01:21:30.754\u001b[0m | \u001b[1mINFO    \u001b[0m | \u001b[36mlighthouse.data_loader.load_chuv\u001b[0m:\u001b[36mload_dt5\u001b[0m:\u001b[36m196\u001b[0m - \u001b[1mScenario Name: classBCIViewerAvatarAllDegreesCourtine\u001b[0m\n",
            "\u001b[32m2024-10-18 01:21:30.758\u001b[0m | \u001b[1mINFO    \u001b[0m | \u001b[36mlighthouse.data_loader.load_chuv\u001b[0m:\u001b[36mload_dt5\u001b[0m:\u001b[36m199\u001b[0m - \u001b[1mSub Scenario Name: classBSISubScenarioUpperJointsClassif\u001b[0m\n",
            "\u001b[32m2024-10-18 01:21:34.712\u001b[0m | \u001b[1mINFO    \u001b[0m | \u001b[36mlighthouse.data_loader.load_chuv\u001b[0m:\u001b[36mconcatenate_dt5\u001b[0m:\u001b[36m497\u001b[0m - \u001b[1mLoading /Volumes/__UP2/0_RAW_DATA/UP2_001/UP2001_2023_11_06_BSITraining_day13/WISCI/2023_11_06_13_52_45 (rec5_ElbowExt)/ABSD data/2023_11_06_13_54_02_02of06.dt5\u001b[0m\n",
            "\u001b[32m2024-10-18 01:22:02.475\u001b[0m | \u001b[1mINFO    \u001b[0m | \u001b[36mlighthouse.data_loader.load_chuv\u001b[0m:\u001b[36mconcatenate_dt5\u001b[0m:\u001b[36m497\u001b[0m - \u001b[1mLoading /Volumes/__UP2/0_RAW_DATA/UP2_001/UP2001_2023_11_06_BSITraining_day13/WISCI/2023_11_06_13_52_45 (rec5_ElbowExt)/ABSD data/2023_11_06_13_54_02_03of06.dt5\u001b[0m\n",
            "\u001b[32m2024-10-18 01:22:39.307\u001b[0m | \u001b[1mINFO    \u001b[0m | \u001b[36mlighthouse.data_loader.load_chuv\u001b[0m:\u001b[36mconcatenate_dt5\u001b[0m:\u001b[36m497\u001b[0m - \u001b[1mLoading /Volumes/__UP2/0_RAW_DATA/UP2_001/UP2001_2023_11_06_BSITraining_day13/WISCI/2023_11_06_13_52_45 (rec5_ElbowExt)/ABSD data/2023_11_06_13_54_02_04of06.dt5\u001b[0m\n",
            "\u001b[32m2024-10-18 01:23:28.764\u001b[0m | \u001b[1mINFO    \u001b[0m | \u001b[36mlighthouse.data_loader.load_chuv\u001b[0m:\u001b[36mconcatenate_dt5\u001b[0m:\u001b[36m497\u001b[0m - \u001b[1mLoading /Volumes/__UP2/0_RAW_DATA/UP2_001/UP2001_2023_11_06_BSITraining_day13/WISCI/2023_11_06_13_52_45 (rec5_ElbowExt)/ABSD data/2023_11_06_13_54_02_05of06.dt5\u001b[0m\n",
            "\u001b[32m2024-10-18 01:24:02.123\u001b[0m | \u001b[1mINFO    \u001b[0m | \u001b[36mlighthouse.data_loader.load_chuv\u001b[0m:\u001b[36mconcatenate_dt5\u001b[0m:\u001b[36m497\u001b[0m - \u001b[1mLoading /Volumes/__UP2/0_RAW_DATA/UP2_001/UP2001_2023_11_06_BSITraining_day13/WISCI/2023_11_06_13_52_45 (rec5_ElbowExt)/ABSD data/2023_11_06_13_54_02_06of06.dt5\u001b[0m\n"
          ]
        },
        {
          "name": "stdout",
          "output_type": "stream",
          "text": [
            "Signals shape: (56, 1042176)\n",
            "New signal shape: (56, 89385)\n"
          ]
        },
        {
          "name": "stderr",
          "output_type": "stream",
          "text": [
            "\u001b[32m2024-10-18 01:24:32.930\u001b[0m | \u001b[1mINFO    \u001b[0m | \u001b[36mlighthouse.data_loader.load_chuv\u001b[0m:\u001b[36mconcatenate_dt5\u001b[0m:\u001b[36m497\u001b[0m - \u001b[1mLoading /Volumes/__UP2/0_RAW_DATA/UP2_001/UP2001_2023_11_06_BSITraining_day13/WISCI/2023_11_06_14_35_06 (rec6)/ABSD data/2023_11_06_14_36_52_01of06.dt5\u001b[0m\n",
            "\u001b[32m2024-10-18 01:25:16.450\u001b[0m | \u001b[1mINFO    \u001b[0m | \u001b[36mlighthouse.data_loader.load_chuv\u001b[0m:\u001b[36mload_dt5\u001b[0m:\u001b[36m196\u001b[0m - \u001b[1mScenario Name: classBCIViewerAvatarAllDegreesCourtine\u001b[0m\n",
            "\u001b[32m2024-10-18 01:25:16.453\u001b[0m | \u001b[1mINFO    \u001b[0m | \u001b[36mlighthouse.data_loader.load_chuv\u001b[0m:\u001b[36mload_dt5\u001b[0m:\u001b[36m199\u001b[0m - \u001b[1mSub Scenario Name: classBSISubScenarioUpperJointsClassif\u001b[0m\n",
            "\u001b[32m2024-10-18 01:25:20.528\u001b[0m | \u001b[1mINFO    \u001b[0m | \u001b[36mlighthouse.data_loader.load_chuv\u001b[0m:\u001b[36mconcatenate_dt5\u001b[0m:\u001b[36m497\u001b[0m - \u001b[1mLoading /Volumes/__UP2/0_RAW_DATA/UP2_001/UP2001_2023_11_06_BSITraining_day13/WISCI/2023_11_06_14_35_06 (rec6)/ABSD data/2023_11_06_14_36_52_02of06.dt5\u001b[0m\n",
            "\u001b[32m2024-10-18 01:25:52.499\u001b[0m | \u001b[1mINFO    \u001b[0m | \u001b[36mlighthouse.data_loader.load_chuv\u001b[0m:\u001b[36mconcatenate_dt5\u001b[0m:\u001b[36m497\u001b[0m - \u001b[1mLoading /Volumes/__UP2/0_RAW_DATA/UP2_001/UP2001_2023_11_06_BSITraining_day13/WISCI/2023_11_06_14_35_06 (rec6)/ABSD data/2023_11_06_14_36_52_03of06.dt5\u001b[0m\n",
            "\u001b[32m2024-10-18 01:26:41.622\u001b[0m | \u001b[1mINFO    \u001b[0m | \u001b[36mlighthouse.data_loader.load_chuv\u001b[0m:\u001b[36mconcatenate_dt5\u001b[0m:\u001b[36m497\u001b[0m - \u001b[1mLoading /Volumes/__UP2/0_RAW_DATA/UP2_001/UP2001_2023_11_06_BSITraining_day13/WISCI/2023_11_06_14_35_06 (rec6)/ABSD data/2023_11_06_14_36_52_04of06.dt5\u001b[0m\n",
            "\u001b[32m2024-10-18 01:27:15.883\u001b[0m | \u001b[1mINFO    \u001b[0m | \u001b[36mlighthouse.data_loader.load_chuv\u001b[0m:\u001b[36mconcatenate_dt5\u001b[0m:\u001b[36m497\u001b[0m - \u001b[1mLoading /Volumes/__UP2/0_RAW_DATA/UP2_001/UP2001_2023_11_06_BSITraining_day13/WISCI/2023_11_06_14_35_06 (rec6)/ABSD data/2023_11_06_14_36_52_05of06.dt5\u001b[0m\n",
            "\u001b[32m2024-10-18 01:27:44.056\u001b[0m | \u001b[1mINFO    \u001b[0m | \u001b[36mlighthouse.data_loader.load_chuv\u001b[0m:\u001b[36mconcatenate_dt5\u001b[0m:\u001b[36m497\u001b[0m - \u001b[1mLoading /Volumes/__UP2/0_RAW_DATA/UP2_001/UP2001_2023_11_06_BSITraining_day13/WISCI/2023_11_06_14_35_06 (rec6)/ABSD data/2023_11_06_14_36_52_06of06.dt5\u001b[0m\n"
          ]
        },
        {
          "name": "stdout",
          "output_type": "stream",
          "text": [
            "Signals shape: (56, 934383)\n",
            "New signal shape: (56, 171100)\n"
          ]
        },
        {
          "name": "stderr",
          "output_type": "stream",
          "text": [
            "\u001b[32m2024-10-18 01:27:54.316\u001b[0m | \u001b[1mINFO    \u001b[0m | \u001b[36mlighthouse.data_loader.load_chuv\u001b[0m:\u001b[36mconcatenate_dt5\u001b[0m:\u001b[36m497\u001b[0m - \u001b[1mLoading /Volumes/__UP2/0_RAW_DATA/UP2_001/UP2001_2023_11_06_BSITraining_day13/WISCI/2023_11_06_15_04_01 (rec7_NewStim_NewModel_HandOpen)/ABSD data/2023_11_06_15_05_07_01of05.dt5\u001b[0m\n",
            "\u001b[32m2024-10-18 01:28:29.413\u001b[0m | \u001b[1mINFO    \u001b[0m | \u001b[36mlighthouse.data_loader.load_chuv\u001b[0m:\u001b[36mload_dt5\u001b[0m:\u001b[36m196\u001b[0m - \u001b[1mScenario Name: classBCIViewerAvatarAllDegreesCourtine\u001b[0m\n",
            "\u001b[32m2024-10-18 01:28:29.418\u001b[0m | \u001b[1mINFO    \u001b[0m | \u001b[36mlighthouse.data_loader.load_chuv\u001b[0m:\u001b[36mload_dt5\u001b[0m:\u001b[36m199\u001b[0m - \u001b[1mSub Scenario Name: classBSISubScenarioUpperJointsClassif\u001b[0m\n",
            "\u001b[32m2024-10-18 01:28:33.535\u001b[0m | \u001b[1mINFO    \u001b[0m | \u001b[36mlighthouse.data_loader.load_chuv\u001b[0m:\u001b[36mconcatenate_dt5\u001b[0m:\u001b[36m497\u001b[0m - \u001b[1mLoading /Volumes/__UP2/0_RAW_DATA/UP2_001/UP2001_2023_11_06_BSITraining_day13/WISCI/2023_11_06_15_04_01 (rec7_NewStim_NewModel_HandOpen)/ABSD data/2023_11_06_15_05_07_02of05.dt5\u001b[0m\n",
            "\u001b[32m2024-10-18 01:29:10.044\u001b[0m | \u001b[1mINFO    \u001b[0m | \u001b[36mlighthouse.data_loader.load_chuv\u001b[0m:\u001b[36mconcatenate_dt5\u001b[0m:\u001b[36m497\u001b[0m - \u001b[1mLoading /Volumes/__UP2/0_RAW_DATA/UP2_001/UP2001_2023_11_06_BSITraining_day13/WISCI/2023_11_06_15_04_01 (rec7_NewStim_NewModel_HandOpen)/ABSD data/2023_11_06_15_05_07_03of05.dt5\u001b[0m\n",
            "\u001b[32m2024-10-18 01:29:40.187\u001b[0m | \u001b[1mINFO    \u001b[0m | \u001b[36mlighthouse.data_loader.load_chuv\u001b[0m:\u001b[36mconcatenate_dt5\u001b[0m:\u001b[36m497\u001b[0m - \u001b[1mLoading /Volumes/__UP2/0_RAW_DATA/UP2_001/UP2001_2023_11_06_BSITraining_day13/WISCI/2023_11_06_15_04_01 (rec7_NewStim_NewModel_HandOpen)/ABSD data/2023_11_06_15_05_07_04of05.dt5\u001b[0m\n",
            "\u001b[32m2024-10-18 01:30:17.703\u001b[0m | \u001b[1mINFO    \u001b[0m | \u001b[36mlighthouse.data_loader.load_chuv\u001b[0m:\u001b[36mconcatenate_dt5\u001b[0m:\u001b[36m497\u001b[0m - \u001b[1mLoading /Volumes/__UP2/0_RAW_DATA/UP2_001/UP2001_2023_11_06_BSITraining_day13/WISCI/2023_11_06_15_04_01 (rec7_NewStim_NewModel_HandOpen)/ABSD data/2023_11_06_15_05_07_05of05.dt5\u001b[0m\n"
          ]
        },
        {
          "name": "stdout",
          "output_type": "stream",
          "text": [
            "Signals shape: (56, 726703)\n",
            "New signal shape: (56, 175230)\n"
          ]
        },
        {
          "name": "stderr",
          "output_type": "stream",
          "text": [
            "\u001b[32m2024-10-18 01:30:22.213\u001b[0m | \u001b[1mINFO    \u001b[0m | \u001b[36mlighthouse.data_loader.load_chuv\u001b[0m:\u001b[36mconcatenate_dt5\u001b[0m:\u001b[36m497\u001b[0m - \u001b[1mLoading /Volumes/__UP2/0_RAW_DATA/UP2_001/UP2001_2023_11_06_BSITraining_day13/WISCI/2023_11_06_15_26_32 (rec8_pronationReps)/ABSD data/2023_11_06_15_27_47_01of03.dt5\u001b[0m\n",
            "\u001b[32m2024-10-18 01:31:30.057\u001b[0m | \u001b[1mINFO    \u001b[0m | \u001b[36mlighthouse.data_loader.load_chuv\u001b[0m:\u001b[36mload_dt5\u001b[0m:\u001b[36m196\u001b[0m - \u001b[1mScenario Name: classBCIViewerAvatarAllDegreesCourtine\u001b[0m\n",
            "\u001b[32m2024-10-18 01:31:30.059\u001b[0m | \u001b[1mINFO    \u001b[0m | \u001b[36mlighthouse.data_loader.load_chuv\u001b[0m:\u001b[36mload_dt5\u001b[0m:\u001b[36m199\u001b[0m - \u001b[1mSub Scenario Name: classBSISubScenarioUpperJointsClassif\u001b[0m\n",
            "\u001b[32m2024-10-18 01:31:34.255\u001b[0m | \u001b[1mINFO    \u001b[0m | \u001b[36mlighthouse.data_loader.load_chuv\u001b[0m:\u001b[36mconcatenate_dt5\u001b[0m:\u001b[36m497\u001b[0m - \u001b[1mLoading /Volumes/__UP2/0_RAW_DATA/UP2_001/UP2001_2023_11_06_BSITraining_day13/WISCI/2023_11_06_15_26_32 (rec8_pronationReps)/ABSD data/2023_11_06_15_27_47_02of03.dt5\u001b[0m\n",
            "\u001b[32m2024-10-18 01:32:11.186\u001b[0m | \u001b[1mINFO    \u001b[0m | \u001b[36mlighthouse.data_loader.load_chuv\u001b[0m:\u001b[36mconcatenate_dt5\u001b[0m:\u001b[36m497\u001b[0m - \u001b[1mLoading /Volumes/__UP2/0_RAW_DATA/UP2_001/UP2001_2023_11_06_BSITraining_day13/WISCI/2023_11_06_15_26_32 (rec8_pronationReps)/ABSD data/2023_11_06_15_27_47_03of03.dt5\u001b[0m\n"
          ]
        },
        {
          "name": "stdout",
          "output_type": "stream",
          "text": [
            "Signals shape: (56, 373824)\n",
            "New signal shape: (56, 0)\n"
          ]
        },
        {
          "name": "stderr",
          "output_type": "stream",
          "text": [
            "\u001b[32m2024-10-18 01:32:16.666\u001b[0m | \u001b[1mINFO    \u001b[0m | \u001b[36mlighthouse.data_loader.load_chuv\u001b[0m:\u001b[36mconcatenate_dt5\u001b[0m:\u001b[36m497\u001b[0m - \u001b[1mLoading /Volumes/__UP2/0_RAW_DATA/UP2_001/UP2001_2023_11_06_BSITraining_day13/WISCI/2023_11_06_15_39_02 (rec8)/ABSD data/2023_11_06_15_40_55_01of01.dt5\u001b[0m\n",
            "\u001b[32m2024-10-18 01:32:35.798\u001b[0m | \u001b[1mINFO    \u001b[0m | \u001b[36mlighthouse.data_loader.load_chuv\u001b[0m:\u001b[36mload_dt5\u001b[0m:\u001b[36m196\u001b[0m - \u001b[1mScenario Name: classBCIViewerAvatarAllDegreesCourtine\u001b[0m\n",
            "\u001b[32m2024-10-18 01:32:35.803\u001b[0m | \u001b[1mINFO    \u001b[0m | \u001b[36mlighthouse.data_loader.load_chuv\u001b[0m:\u001b[36mload_dt5\u001b[0m:\u001b[36m199\u001b[0m - \u001b[1mSub Scenario Name: classBSISubScenarioUpperJointsClassif\u001b[0m\n"
          ]
        },
        {
          "name": "stdout",
          "output_type": "stream",
          "text": [
            "Signals shape: (56, 91922)\n",
            "New signal shape: (56, 0)\n",
            "length of data: 29\n"
          ]
        },
        {
          "name": "stderr",
          "output_type": "stream",
          "text": [
            " 12%|█▏        | 8/65 [1:24:00<9:32:32, 602.68s/it]"
          ]
        },
        {
          "name": "stdout",
          "output_type": "stream",
          "text": [
            "Checkpoint saved after session 7\n",
            "Current session: (PosixPath('/Volumes/__UP2/0_RAW_DATA/UP2_001/UP2001_2023_11_07_BSITraining_day14_2states'), 8)\n"
          ]
        },
        {
          "name": "stderr",
          "output_type": "stream",
          "text": [
            "\u001b[32m2024-10-18 01:32:49.513\u001b[0m | \u001b[1mINFO    \u001b[0m | \u001b[36mlighthouse.data_loader.load_chuv\u001b[0m:\u001b[36mconcatenate_dt5\u001b[0m:\u001b[36m497\u001b[0m - \u001b[1mLoading /Volumes/__UP2/0_RAW_DATA/UP2_001/UP2001_2023_11_07_BSITraining_day14_2states/wisci/2023_11_07_14_11_20 (rec1(sh_flex))/ABSD data/2023_11_07_14_27_32_01of06.dt5\u001b[0m\n",
            "\u001b[32m2024-10-18 01:33:15.061\u001b[0m | \u001b[1mINFO    \u001b[0m | \u001b[36mlighthouse.data_loader.load_chuv\u001b[0m:\u001b[36mload_dt5\u001b[0m:\u001b[36m196\u001b[0m - \u001b[1mScenario Name: classBCIViewerAvatarAllDegreesCourtine\u001b[0m\n",
            "\u001b[32m2024-10-18 01:33:15.063\u001b[0m | \u001b[1mINFO    \u001b[0m | \u001b[36mlighthouse.data_loader.load_chuv\u001b[0m:\u001b[36mload_dt5\u001b[0m:\u001b[36m199\u001b[0m - \u001b[1mSub Scenario Name: classBSISubScenarioUpperJointsClassif\u001b[0m\n",
            "\u001b[32m2024-10-18 01:33:19.097\u001b[0m | \u001b[1mINFO    \u001b[0m | \u001b[36mlighthouse.data_loader.load_chuv\u001b[0m:\u001b[36mconcatenate_dt5\u001b[0m:\u001b[36m497\u001b[0m - \u001b[1mLoading /Volumes/__UP2/0_RAW_DATA/UP2_001/UP2001_2023_11_07_BSITraining_day14_2states/wisci/2023_11_07_14_11_20 (rec1(sh_flex))/ABSD data/2023_11_07_14_27_32_02of06.dt5\u001b[0m\n",
            "\u001b[32m2024-10-18 01:33:58.817\u001b[0m | \u001b[1mINFO    \u001b[0m | \u001b[36mlighthouse.data_loader.load_chuv\u001b[0m:\u001b[36mconcatenate_dt5\u001b[0m:\u001b[36m497\u001b[0m - \u001b[1mLoading /Volumes/__UP2/0_RAW_DATA/UP2_001/UP2001_2023_11_07_BSITraining_day14_2states/wisci/2023_11_07_14_11_20 (rec1(sh_flex))/ABSD data/2023_11_07_14_27_32_03of06.dt5\u001b[0m\n",
            "\u001b[32m2024-10-18 01:34:31.939\u001b[0m | \u001b[1mINFO    \u001b[0m | \u001b[36mlighthouse.data_loader.load_chuv\u001b[0m:\u001b[36mconcatenate_dt5\u001b[0m:\u001b[36m497\u001b[0m - \u001b[1mLoading /Volumes/__UP2/0_RAW_DATA/UP2_001/UP2001_2023_11_07_BSITraining_day14_2states/wisci/2023_11_07_14_11_20 (rec1(sh_flex))/ABSD data/2023_11_07_14_27_32_04of06.dt5\u001b[0m\n",
            "\u001b[32m2024-10-18 01:35:08.801\u001b[0m | \u001b[1mINFO    \u001b[0m | \u001b[36mlighthouse.data_loader.load_chuv\u001b[0m:\u001b[36mconcatenate_dt5\u001b[0m:\u001b[36m497\u001b[0m - \u001b[1mLoading /Volumes/__UP2/0_RAW_DATA/UP2_001/UP2001_2023_11_07_BSITraining_day14_2states/wisci/2023_11_07_14_11_20 (rec1(sh_flex))/ABSD data/2023_11_07_14_27_32_05of06.dt5\u001b[0m\n",
            "\u001b[32m2024-10-18 01:35:59.238\u001b[0m | \u001b[1mINFO    \u001b[0m | \u001b[36mlighthouse.data_loader.load_chuv\u001b[0m:\u001b[36mconcatenate_dt5\u001b[0m:\u001b[36m497\u001b[0m - \u001b[1mLoading /Volumes/__UP2/0_RAW_DATA/UP2_001/UP2001_2023_11_07_BSITraining_day14_2states/wisci/2023_11_07_14_11_20 (rec1(sh_flex))/ABSD data/2023_11_07_14_27_32_06of06.dt5\u001b[0m\n"
          ]
        },
        {
          "name": "stdout",
          "output_type": "stream",
          "text": [
            "Signals shape: (56, 962585)\n",
            "New signal shape: (56, 80476)\n"
          ]
        },
        {
          "name": "stderr",
          "output_type": "stream",
          "text": [
            "\u001b[32m2024-10-18 01:36:16.313\u001b[0m | \u001b[1mINFO    \u001b[0m | \u001b[36mlighthouse.data_loader.load_chuv\u001b[0m:\u001b[36mconcatenate_dt5\u001b[0m:\u001b[36m497\u001b[0m - \u001b[1mLoading /Volumes/__UP2/0_RAW_DATA/UP2_001/UP2001_2023_11_07_BSITraining_day14_2states/wisci/2023_11_07_14_55_31 (rec2)/ABSD data/2023_11_07_14_57_22_01of01.dt5\u001b[0m\n",
            "\u001b[32m2024-10-18 01:36:48.851\u001b[0m | \u001b[1mINFO    \u001b[0m | \u001b[36mlighthouse.data_loader.load_chuv\u001b[0m:\u001b[36mload_dt5\u001b[0m:\u001b[36m196\u001b[0m - \u001b[1mScenario Name: classBCIViewerAvatarAllDegreesCourtine\u001b[0m\n",
            "\u001b[32m2024-10-18 01:36:48.856\u001b[0m | \u001b[1mINFO    \u001b[0m | \u001b[36mlighthouse.data_loader.load_chuv\u001b[0m:\u001b[36mload_dt5\u001b[0m:\u001b[36m199\u001b[0m - \u001b[1mSub Scenario Name: classBSISubScenarioUpperJointsClassif\u001b[0m\n"
          ]
        },
        {
          "name": "stdout",
          "output_type": "stream",
          "text": [
            "Signals shape: (56, 161601)\n",
            "New signal shape: (56, 95108)\n"
          ]
        },
        {
          "name": "stderr",
          "output_type": "stream",
          "text": [
            "\u001b[32m2024-10-18 01:36:52.861\u001b[0m | \u001b[1mINFO    \u001b[0m | \u001b[36mlighthouse.data_loader.load_chuv\u001b[0m:\u001b[36mconcatenate_dt5\u001b[0m:\u001b[36m497\u001b[0m - \u001b[1mLoading /Volumes/__UP2/0_RAW_DATA/UP2_001/UP2001_2023_11_07_BSITraining_day14_2states/wisci/2023_11_07_15_02_20 (rec3(elbext_shabd))/ABSD data/2023_11_07_15_03_48_01of09.dt5\u001b[0m\n",
            "\u001b[32m2024-10-18 01:37:19.766\u001b[0m | \u001b[1mINFO    \u001b[0m | \u001b[36mlighthouse.data_loader.load_chuv\u001b[0m:\u001b[36mload_dt5\u001b[0m:\u001b[36m196\u001b[0m - \u001b[1mScenario Name: classBCIViewerAvatarAllDegreesCourtine\u001b[0m\n",
            "\u001b[32m2024-10-18 01:37:19.768\u001b[0m | \u001b[1mINFO    \u001b[0m | \u001b[36mlighthouse.data_loader.load_chuv\u001b[0m:\u001b[36mload_dt5\u001b[0m:\u001b[36m199\u001b[0m - \u001b[1mSub Scenario Name: classBSISubScenarioUpperJointsClassif\u001b[0m\n",
            "\u001b[32m2024-10-18 01:37:23.765\u001b[0m | \u001b[1mINFO    \u001b[0m | \u001b[36mlighthouse.data_loader.load_chuv\u001b[0m:\u001b[36mconcatenate_dt5\u001b[0m:\u001b[36m497\u001b[0m - \u001b[1mLoading /Volumes/__UP2/0_RAW_DATA/UP2_001/UP2001_2023_11_07_BSITraining_day14_2states/wisci/2023_11_07_15_02_20 (rec3(elbext_shabd))/ABSD data/2023_11_07_15_03_48_02of09.dt5\u001b[0m\n",
            "\u001b[32m2024-10-18 01:37:57.202\u001b[0m | \u001b[1mINFO    \u001b[0m | \u001b[36mlighthouse.data_loader.load_chuv\u001b[0m:\u001b[36mconcatenate_dt5\u001b[0m:\u001b[36m497\u001b[0m - \u001b[1mLoading /Volumes/__UP2/0_RAW_DATA/UP2_001/UP2001_2023_11_07_BSITraining_day14_2states/wisci/2023_11_07_15_02_20 (rec3(elbext_shabd))/ABSD data/2023_11_07_15_03_48_03of09.dt5\u001b[0m\n",
            "\u001b[32m2024-10-18 01:38:25.492\u001b[0m | \u001b[1mINFO    \u001b[0m | \u001b[36mlighthouse.data_loader.load_chuv\u001b[0m:\u001b[36mconcatenate_dt5\u001b[0m:\u001b[36m497\u001b[0m - \u001b[1mLoading /Volumes/__UP2/0_RAW_DATA/UP2_001/UP2001_2023_11_07_BSITraining_day14_2states/wisci/2023_11_07_15_02_20 (rec3(elbext_shabd))/ABSD data/2023_11_07_15_03_48_04of09.dt5\u001b[0m\n",
            "\u001b[32m2024-10-18 01:38:53.303\u001b[0m | \u001b[1mINFO    \u001b[0m | \u001b[36mlighthouse.data_loader.load_chuv\u001b[0m:\u001b[36mconcatenate_dt5\u001b[0m:\u001b[36m497\u001b[0m - \u001b[1mLoading /Volumes/__UP2/0_RAW_DATA/UP2_001/UP2001_2023_11_07_BSITraining_day14_2states/wisci/2023_11_07_15_02_20 (rec3(elbext_shabd))/ABSD data/2023_11_07_15_03_48_05of09.dt5\u001b[0m\n",
            "\u001b[32m2024-10-18 01:39:23.495\u001b[0m | \u001b[1mINFO    \u001b[0m | \u001b[36mlighthouse.data_loader.load_chuv\u001b[0m:\u001b[36mconcatenate_dt5\u001b[0m:\u001b[36m497\u001b[0m - \u001b[1mLoading /Volumes/__UP2/0_RAW_DATA/UP2_001/UP2001_2023_11_07_BSITraining_day14_2states/wisci/2023_11_07_15_02_20 (rec3(elbext_shabd))/ABSD data/2023_11_07_15_03_48_06of09.dt5\u001b[0m\n",
            "\u001b[32m2024-10-18 01:40:06.178\u001b[0m | \u001b[1mINFO    \u001b[0m | \u001b[36mlighthouse.data_loader.load_chuv\u001b[0m:\u001b[36mconcatenate_dt5\u001b[0m:\u001b[36m497\u001b[0m - \u001b[1mLoading /Volumes/__UP2/0_RAW_DATA/UP2_001/UP2001_2023_11_07_BSITraining_day14_2states/wisci/2023_11_07_15_02_20 (rec3(elbext_shabd))/ABSD data/2023_11_07_15_03_48_07of09.dt5\u001b[0m\n",
            "\u001b[32m2024-10-18 01:41:02.244\u001b[0m | \u001b[1mINFO    \u001b[0m | \u001b[36mlighthouse.data_loader.load_chuv\u001b[0m:\u001b[36mconcatenate_dt5\u001b[0m:\u001b[36m497\u001b[0m - \u001b[1mLoading /Volumes/__UP2/0_RAW_DATA/UP2_001/UP2001_2023_11_07_BSITraining_day14_2states/wisci/2023_11_07_15_02_20 (rec3(elbext_shabd))/ABSD data/2023_11_07_15_03_48_08of09.dt5\u001b[0m\n",
            "\u001b[32m2024-10-18 01:41:32.296\u001b[0m | \u001b[1mINFO    \u001b[0m | \u001b[36mlighthouse.data_loader.load_chuv\u001b[0m:\u001b[36mconcatenate_dt5\u001b[0m:\u001b[36m497\u001b[0m - \u001b[1mLoading /Volumes/__UP2/0_RAW_DATA/UP2_001/UP2001_2023_11_07_BSITraining_day14_2states/wisci/2023_11_07_15_02_20 (rec3(elbext_shabd))/ABSD data/2023_11_07_15_03_48_09of09.dt5\u001b[0m\n"
          ]
        },
        {
          "name": "stdout",
          "output_type": "stream",
          "text": [
            "Signals shape: (56, 1417239)\n",
            "New signal shape: (56, 413000)\n",
            "length of data: 32\n"
          ]
        },
        {
          "name": "stderr",
          "output_type": "stream",
          "text": [
            " 14%|█▍        | 9/65 [1:32:58<9:03:30, 582.32s/it]"
          ]
        },
        {
          "name": "stdout",
          "output_type": "stream",
          "text": [
            "Checkpoint saved after session 8\n",
            "Current session: (PosixPath('/Volumes/__UP2/0_RAW_DATA/UP2_001/UP2001_2023_11_08_BSITraining_day15'), 9)\n"
          ]
        },
        {
          "name": "stderr",
          "output_type": "stream",
          "text": [
            "\u001b[32m2024-10-18 01:41:48.780\u001b[0m | \u001b[1mINFO    \u001b[0m | \u001b[36mlighthouse.data_loader.load_chuv\u001b[0m:\u001b[36mconcatenate_dt5\u001b[0m:\u001b[36m497\u001b[0m - \u001b[1mLoading /Volumes/__UP2/0_RAW_DATA/UP2_001/UP2001_2023_11_08_BSITraining_day15/wisci/2023_11_08_13_18_08 (rec3(upperlead))/ABSD data/2023_11_08_13_19_23_01of11.dt5\u001b[0m\n",
            "\u001b[32m2024-10-18 01:42:21.493\u001b[0m | \u001b[1mINFO    \u001b[0m | \u001b[36mlighthouse.data_loader.load_chuv\u001b[0m:\u001b[36mload_dt5\u001b[0m:\u001b[36m196\u001b[0m - \u001b[1mScenario Name: classBCIViewerAvatarAllDegreesCourtine\u001b[0m\n",
            "\u001b[32m2024-10-18 01:42:21.499\u001b[0m | \u001b[1mINFO    \u001b[0m | \u001b[36mlighthouse.data_loader.load_chuv\u001b[0m:\u001b[36mload_dt5\u001b[0m:\u001b[36m199\u001b[0m - \u001b[1mSub Scenario Name: classBSISubScenarioUpperJointsClassif\u001b[0m\n",
            "\u001b[32m2024-10-18 01:42:25.782\u001b[0m | \u001b[1mINFO    \u001b[0m | \u001b[36mlighthouse.data_loader.load_chuv\u001b[0m:\u001b[36mconcatenate_dt5\u001b[0m:\u001b[36m497\u001b[0m - \u001b[1mLoading /Volumes/__UP2/0_RAW_DATA/UP2_001/UP2001_2023_11_08_BSITraining_day15/wisci/2023_11_08_13_18_08 (rec3(upperlead))/ABSD data/2023_11_08_13_19_23_02of11.dt5\u001b[0m\n",
            "\u001b[32m2024-10-18 01:43:01.196\u001b[0m | \u001b[1mINFO    \u001b[0m | \u001b[36mlighthouse.data_loader.load_chuv\u001b[0m:\u001b[36mconcatenate_dt5\u001b[0m:\u001b[36m497\u001b[0m - \u001b[1mLoading /Volumes/__UP2/0_RAW_DATA/UP2_001/UP2001_2023_11_08_BSITraining_day15/wisci/2023_11_08_13_18_08 (rec3(upperlead))/ABSD data/2023_11_08_13_19_23_03of11.dt5\u001b[0m\n",
            "\u001b[32m2024-10-18 01:43:27.740\u001b[0m | \u001b[1mINFO    \u001b[0m | \u001b[36mlighthouse.data_loader.load_chuv\u001b[0m:\u001b[36mconcatenate_dt5\u001b[0m:\u001b[36m497\u001b[0m - \u001b[1mLoading /Volumes/__UP2/0_RAW_DATA/UP2_001/UP2001_2023_11_08_BSITraining_day15/wisci/2023_11_08_13_18_08 (rec3(upperlead))/ABSD data/2023_11_08_13_19_23_04of11.dt5\u001b[0m\n",
            "\u001b[32m2024-10-18 01:44:18.078\u001b[0m | \u001b[1mINFO    \u001b[0m | \u001b[36mlighthouse.data_loader.load_chuv\u001b[0m:\u001b[36mconcatenate_dt5\u001b[0m:\u001b[36m497\u001b[0m - \u001b[1mLoading /Volumes/__UP2/0_RAW_DATA/UP2_001/UP2001_2023_11_08_BSITraining_day15/wisci/2023_11_08_13_18_08 (rec3(upperlead))/ABSD data/2023_11_08_13_19_23_05of11.dt5\u001b[0m\n",
            "\u001b[32m2024-10-18 01:44:45.590\u001b[0m | \u001b[1mINFO    \u001b[0m | \u001b[36mlighthouse.data_loader.load_chuv\u001b[0m:\u001b[36mconcatenate_dt5\u001b[0m:\u001b[36m497\u001b[0m - \u001b[1mLoading /Volumes/__UP2/0_RAW_DATA/UP2_001/UP2001_2023_11_08_BSITraining_day15/wisci/2023_11_08_13_18_08 (rec3(upperlead))/ABSD data/2023_11_08_13_19_23_06of11.dt5\u001b[0m\n",
            "\u001b[32m2024-10-18 01:45:13.474\u001b[0m | \u001b[1mINFO    \u001b[0m | \u001b[36mlighthouse.data_loader.load_chuv\u001b[0m:\u001b[36mconcatenate_dt5\u001b[0m:\u001b[36m497\u001b[0m - \u001b[1mLoading /Volumes/__UP2/0_RAW_DATA/UP2_001/UP2001_2023_11_08_BSITraining_day15/wisci/2023_11_08_13_18_08 (rec3(upperlead))/ABSD data/2023_11_08_13_19_23_07of11.dt5\u001b[0m\n",
            "\u001b[32m2024-10-18 01:46:02.181\u001b[0m | \u001b[1mINFO    \u001b[0m | \u001b[36mlighthouse.data_loader.load_chuv\u001b[0m:\u001b[36mconcatenate_dt5\u001b[0m:\u001b[36m497\u001b[0m - \u001b[1mLoading /Volumes/__UP2/0_RAW_DATA/UP2_001/UP2001_2023_11_08_BSITraining_day15/wisci/2023_11_08_13_18_08 (rec3(upperlead))/ABSD data/2023_11_08_13_19_23_08of11.dt5\u001b[0m\n",
            "\u001b[32m2024-10-18 01:46:47.290\u001b[0m | \u001b[1mINFO    \u001b[0m | \u001b[36mlighthouse.data_loader.load_chuv\u001b[0m:\u001b[36mconcatenate_dt5\u001b[0m:\u001b[36m497\u001b[0m - \u001b[1mLoading /Volumes/__UP2/0_RAW_DATA/UP2_001/UP2001_2023_11_08_BSITraining_day15/wisci/2023_11_08_13_18_08 (rec3(upperlead))/ABSD data/2023_11_08_13_19_23_09of11.dt5\u001b[0m\n",
            "\u001b[32m2024-10-18 01:47:25.223\u001b[0m | \u001b[1mINFO    \u001b[0m | \u001b[36mlighthouse.data_loader.load_chuv\u001b[0m:\u001b[36mconcatenate_dt5\u001b[0m:\u001b[36m497\u001b[0m - \u001b[1mLoading /Volumes/__UP2/0_RAW_DATA/UP2_001/UP2001_2023_11_08_BSITraining_day15/wisci/2023_11_08_13_18_08 (rec3(upperlead))/ABSD data/2023_11_08_13_19_23_10of11.dt5\u001b[0m\n",
            "\u001b[32m2024-10-18 01:48:00.739\u001b[0m | \u001b[1mINFO    \u001b[0m | \u001b[36mlighthouse.data_loader.load_chuv\u001b[0m:\u001b[36mconcatenate_dt5\u001b[0m:\u001b[36m497\u001b[0m - \u001b[1mLoading /Volumes/__UP2/0_RAW_DATA/UP2_001/UP2001_2023_11_08_BSITraining_day15/wisci/2023_11_08_13_18_08 (rec3(upperlead))/ABSD data/2023_11_08_13_19_23_11of11.dt5\u001b[0m\n"
          ]
        },
        {
          "name": "stdout",
          "output_type": "stream",
          "text": [
            "Signals shape: (56, 1936085)\n",
            "New signal shape: (56, 162663)\n"
          ]
        },
        {
          "name": "stderr",
          "output_type": "stream",
          "text": [
            "\u001b[32m2024-10-18 01:48:32.669\u001b[0m | \u001b[1mINFO    \u001b[0m | \u001b[36mlighthouse.data_loader.load_chuv\u001b[0m:\u001b[36mconcatenate_dt5\u001b[0m:\u001b[36m497\u001b[0m - \u001b[1mLoading /Volumes/__UP2/0_RAW_DATA/UP2_001/UP2001_2023_11_08_BSITraining_day15/wisci/2023_11_08_14_15_51 (rec3(pronation))/ABSD data/2023_11_08_14_18_41_01of06.dt5\u001b[0m\n",
            "\u001b[32m2024-10-18 01:48:58.109\u001b[0m | \u001b[1mINFO    \u001b[0m | \u001b[36mlighthouse.data_loader.load_chuv\u001b[0m:\u001b[36mload_dt5\u001b[0m:\u001b[36m196\u001b[0m - \u001b[1mScenario Name: classBCIViewerAvatarAllDegreesCourtine\u001b[0m\n",
            "\u001b[32m2024-10-18 01:48:58.112\u001b[0m | \u001b[1mINFO    \u001b[0m | \u001b[36mlighthouse.data_loader.load_chuv\u001b[0m:\u001b[36mload_dt5\u001b[0m:\u001b[36m199\u001b[0m - \u001b[1mSub Scenario Name: classBSISubScenarioUpperJointsClassif\u001b[0m\n",
            "\u001b[32m2024-10-18 01:49:02.160\u001b[0m | \u001b[1mINFO    \u001b[0m | \u001b[36mlighthouse.data_loader.load_chuv\u001b[0m:\u001b[36mconcatenate_dt5\u001b[0m:\u001b[36m497\u001b[0m - \u001b[1mLoading /Volumes/__UP2/0_RAW_DATA/UP2_001/UP2001_2023_11_08_BSITraining_day15/wisci/2023_11_08_14_15_51 (rec3(pronation))/ABSD data/2023_11_08_14_18_41_02of06.dt5\u001b[0m\n",
            "\u001b[32m2024-10-18 01:49:31.991\u001b[0m | \u001b[1mINFO    \u001b[0m | \u001b[36mlighthouse.data_loader.load_chuv\u001b[0m:\u001b[36mconcatenate_dt5\u001b[0m:\u001b[36m497\u001b[0m - \u001b[1mLoading /Volumes/__UP2/0_RAW_DATA/UP2_001/UP2001_2023_11_08_BSITraining_day15/wisci/2023_11_08_14_15_51 (rec3(pronation))/ABSD data/2023_11_08_14_18_41_03of06.dt5\u001b[0m\n",
            "\u001b[32m2024-10-18 01:50:03.660\u001b[0m | \u001b[1mINFO    \u001b[0m | \u001b[36mlighthouse.data_loader.load_chuv\u001b[0m:\u001b[36mconcatenate_dt5\u001b[0m:\u001b[36m497\u001b[0m - \u001b[1mLoading /Volumes/__UP2/0_RAW_DATA/UP2_001/UP2001_2023_11_08_BSITraining_day15/wisci/2023_11_08_14_15_51 (rec3(pronation))/ABSD data/2023_11_08_14_18_41_04of06.dt5\u001b[0m\n",
            "\u001b[32m2024-10-18 01:50:30.965\u001b[0m | \u001b[1mINFO    \u001b[0m | \u001b[36mlighthouse.data_loader.load_chuv\u001b[0m:\u001b[36mconcatenate_dt5\u001b[0m:\u001b[36m497\u001b[0m - \u001b[1mLoading /Volumes/__UP2/0_RAW_DATA/UP2_001/UP2001_2023_11_08_BSITraining_day15/wisci/2023_11_08_14_15_51 (rec3(pronation))/ABSD data/2023_11_08_14_18_41_05of06.dt5\u001b[0m\n",
            "\u001b[32m2024-10-18 01:50:58.503\u001b[0m | \u001b[1mINFO    \u001b[0m | \u001b[36mlighthouse.data_loader.load_chuv\u001b[0m:\u001b[36mconcatenate_dt5\u001b[0m:\u001b[36m497\u001b[0m - \u001b[1mLoading /Volumes/__UP2/0_RAW_DATA/UP2_001/UP2001_2023_11_08_BSITraining_day15/wisci/2023_11_08_14_15_51 (rec3(pronation))/ABSD data/2023_11_08_14_18_41_06of06.dt5\u001b[0m\n"
          ]
        },
        {
          "name": "stdout",
          "output_type": "stream",
          "text": [
            "Signals shape: (56, 1050377)\n",
            "New signal shape: (56, 0)\n"
          ]
        },
        {
          "name": "stderr",
          "output_type": "stream",
          "text": [
            "\u001b[32m2024-10-18 01:51:24.672\u001b[0m | \u001b[1mINFO    \u001b[0m | \u001b[36mlighthouse.data_loader.load_chuv\u001b[0m:\u001b[36mconcatenate_dt5\u001b[0m:\u001b[36m497\u001b[0m - \u001b[1mLoading /Volumes/__UP2/0_RAW_DATA/UP2_001/UP2001_2023_11_08_BSITraining_day15/wisci/2023_11_08_14_49_39 (rec5(handopen))/ABSD data/2023_11_08_14_51_37_01of06.dt5\u001b[0m\n",
            "\u001b[32m2024-10-18 01:51:53.916\u001b[0m | \u001b[1mINFO    \u001b[0m | \u001b[36mlighthouse.data_loader.load_chuv\u001b[0m:\u001b[36mload_dt5\u001b[0m:\u001b[36m196\u001b[0m - \u001b[1mScenario Name: classBCIViewerAvatarAllDegreesCourtine\u001b[0m\n",
            "\u001b[32m2024-10-18 01:51:53.920\u001b[0m | \u001b[1mINFO    \u001b[0m | \u001b[36mlighthouse.data_loader.load_chuv\u001b[0m:\u001b[36mload_dt5\u001b[0m:\u001b[36m199\u001b[0m - \u001b[1mSub Scenario Name: classBSISubScenarioUpperJointsClassif\u001b[0m\n",
            "\u001b[32m2024-10-18 01:51:57.940\u001b[0m | \u001b[1mINFO    \u001b[0m | \u001b[36mlighthouse.data_loader.load_chuv\u001b[0m:\u001b[36mconcatenate_dt5\u001b[0m:\u001b[36m497\u001b[0m - \u001b[1mLoading /Volumes/__UP2/0_RAW_DATA/UP2_001/UP2001_2023_11_08_BSITraining_day15/wisci/2023_11_08_14_49_39 (rec5(handopen))/ABSD data/2023_11_08_14_51_37_02of06.dt5\u001b[0m\n",
            "\u001b[32m2024-10-18 01:52:24.805\u001b[0m | \u001b[1mINFO    \u001b[0m | \u001b[36mlighthouse.data_loader.load_chuv\u001b[0m:\u001b[36mconcatenate_dt5\u001b[0m:\u001b[36m497\u001b[0m - \u001b[1mLoading /Volumes/__UP2/0_RAW_DATA/UP2_001/UP2001_2023_11_08_BSITraining_day15/wisci/2023_11_08_14_49_39 (rec5(handopen))/ABSD data/2023_11_08_14_51_37_03of06.dt5\u001b[0m\n",
            "\u001b[32m2024-10-18 01:52:53.332\u001b[0m | \u001b[1mINFO    \u001b[0m | \u001b[36mlighthouse.data_loader.load_chuv\u001b[0m:\u001b[36mconcatenate_dt5\u001b[0m:\u001b[36m497\u001b[0m - \u001b[1mLoading /Volumes/__UP2/0_RAW_DATA/UP2_001/UP2001_2023_11_08_BSITraining_day15/wisci/2023_11_08_14_49_39 (rec5(handopen))/ABSD data/2023_11_08_14_51_37_04of06.dt5\u001b[0m\n",
            "\u001b[32m2024-10-18 01:53:21.266\u001b[0m | \u001b[1mINFO    \u001b[0m | \u001b[36mlighthouse.data_loader.load_chuv\u001b[0m:\u001b[36mconcatenate_dt5\u001b[0m:\u001b[36m497\u001b[0m - \u001b[1mLoading /Volumes/__UP2/0_RAW_DATA/UP2_001/UP2001_2023_11_08_BSITraining_day15/wisci/2023_11_08_14_49_39 (rec5(handopen))/ABSD data/2023_11_08_14_51_37_05of06.dt5\u001b[0m\n",
            "\u001b[32m2024-10-18 01:53:46.589\u001b[0m | \u001b[1mINFO    \u001b[0m | \u001b[36mlighthouse.data_loader.load_chuv\u001b[0m:\u001b[36mconcatenate_dt5\u001b[0m:\u001b[36m497\u001b[0m - \u001b[1mLoading /Volumes/__UP2/0_RAW_DATA/UP2_001/UP2001_2023_11_08_BSITraining_day15/wisci/2023_11_08_14_49_39 (rec5(handopen))/ABSD data/2023_11_08_14_51_37_06of06.dt5\u001b[0m\n"
          ]
        },
        {
          "name": "stdout",
          "output_type": "stream",
          "text": [
            "Signals shape: (56, 921993)\n",
            "New signal shape: (56, 138296)\n",
            "length of data: 35\n"
          ]
        },
        {
          "name": "stderr",
          "output_type": "stream",
          "text": [
            " 15%|█▌        | 10/65 [1:45:19<9:38:37, 631.24s/it]"
          ]
        },
        {
          "name": "stdout",
          "output_type": "stream",
          "text": [
            "Checkpoint saved after session 9\n",
            "Current session: (PosixPath('/Volumes/__UP2/0_RAW_DATA/UP2_001/UP2001_2023_11_10_BSITraining_day16_4states'), 10)\n"
          ]
        },
        {
          "name": "stderr",
          "output_type": "stream",
          "text": [
            "\u001b[32m2024-10-18 01:54:13.064\u001b[0m | \u001b[1mINFO    \u001b[0m | \u001b[36mlighthouse.data_loader.load_chuv\u001b[0m:\u001b[36mconcatenate_dt5\u001b[0m:\u001b[36m497\u001b[0m - \u001b[1mLoading /Volumes/__UP2/0_RAW_DATA/UP2_001/UP2001_2023_11_10_BSITraining_day16_4states/wisci/2023_11_10_15_26_42 (rec5_Test_pt2_OpenLoop)/ABSD data/2023_11_10_15_28_51_01of02.dt5\u001b[0m\n",
            "\u001b[32m2024-10-18 01:54:36.218\u001b[0m | \u001b[1mINFO    \u001b[0m | \u001b[36mlighthouse.data_loader.load_chuv\u001b[0m:\u001b[36mload_dt5\u001b[0m:\u001b[36m196\u001b[0m - \u001b[1mScenario Name: classBCIViewerAvatarAllDegreesCourtine\u001b[0m\n",
            "\u001b[32m2024-10-18 01:54:36.222\u001b[0m | \u001b[1mINFO    \u001b[0m | \u001b[36mlighthouse.data_loader.load_chuv\u001b[0m:\u001b[36mload_dt5\u001b[0m:\u001b[36m199\u001b[0m - \u001b[1mSub Scenario Name: classBSISubScenarioUpperJointsClassif\u001b[0m\n",
            "\u001b[32m2024-10-18 01:54:40.448\u001b[0m | \u001b[1mINFO    \u001b[0m | \u001b[36mlighthouse.data_loader.load_chuv\u001b[0m:\u001b[36mconcatenate_dt5\u001b[0m:\u001b[36m497\u001b[0m - \u001b[1mLoading /Volumes/__UP2/0_RAW_DATA/UP2_001/UP2001_2023_11_10_BSITraining_day16_4states/wisci/2023_11_10_15_26_42 (rec5_Test_pt2_OpenLoop)/ABSD data/2023_11_10_15_28_51_02of02.dt5\u001b[0m\n"
          ]
        },
        {
          "name": "stdout",
          "output_type": "stream",
          "text": [
            "Signals shape: (56, 251104)\n",
            "New signal shape: (56, 0)\n"
          ]
        },
        {
          "name": "stderr",
          "output_type": "stream",
          "text": [
            "\u001b[32m2024-10-18 01:54:52.137\u001b[0m | \u001b[1mINFO    \u001b[0m | \u001b[36mlighthouse.data_loader.load_chuv\u001b[0m:\u001b[36mconcatenate_dt5\u001b[0m:\u001b[36m497\u001b[0m - \u001b[1mLoading /Volumes/__UP2/0_RAW_DATA/UP2_001/UP2001_2023_11_10_BSITraining_day16_4states/wisci/2023_11_10_13_32_04/ABSD data/2023_11_10_13_33_48_01of02.dt5\u001b[0m\n",
            "\u001b[32m2024-10-18 01:55:18.644\u001b[0m | \u001b[1mINFO    \u001b[0m | \u001b[36mlighthouse.data_loader.load_chuv\u001b[0m:\u001b[36mload_dt5\u001b[0m:\u001b[36m196\u001b[0m - \u001b[1mScenario Name: classBCIViewerAvatarAllDegreesCourtine\u001b[0m\n",
            "\u001b[32m2024-10-18 01:55:18.646\u001b[0m | \u001b[1mINFO    \u001b[0m | \u001b[36mlighthouse.data_loader.load_chuv\u001b[0m:\u001b[36mload_dt5\u001b[0m:\u001b[36m199\u001b[0m - \u001b[1mSub Scenario Name: classBSISubScenarioUpperJointsClassif\u001b[0m\n",
            "\u001b[32m2024-10-18 01:55:22.613\u001b[0m | \u001b[1mINFO    \u001b[0m | \u001b[36mlighthouse.data_loader.load_chuv\u001b[0m:\u001b[36mconcatenate_dt5\u001b[0m:\u001b[36m497\u001b[0m - \u001b[1mLoading /Volumes/__UP2/0_RAW_DATA/UP2_001/UP2001_2023_11_10_BSITraining_day16_4states/wisci/2023_11_10_13_32_04/ABSD data/2023_11_10_13_33_48_02of02.dt5\u001b[0m\n"
          ]
        },
        {
          "name": "stdout",
          "output_type": "stream",
          "text": [
            "Signals shape: (56, 239481)\n",
            "New signal shape: (56, 0)\n"
          ]
        },
        {
          "name": "stderr",
          "output_type": "stream",
          "text": [
            "\u001b[32m2024-10-18 01:55:33.068\u001b[0m | \u001b[1mINFO    \u001b[0m | \u001b[36mlighthouse.data_loader.load_chuv\u001b[0m:\u001b[36mconcatenate_dt5\u001b[0m:\u001b[36m497\u001b[0m - \u001b[1mLoading /Volumes/__UP2/0_RAW_DATA/UP2_001/UP2001_2023_11_10_BSITraining_day16_4states/wisci/2023_11_10_14_35_33 (rec4_Update_Shoulder_Elbow_TestPt1)/ABSD data/2023_11_10_14_36_51_01of10.dt5\u001b[0m\n",
            "\u001b[32m2024-10-18 01:55:57.789\u001b[0m | \u001b[1mINFO    \u001b[0m | \u001b[36mlighthouse.data_loader.load_chuv\u001b[0m:\u001b[36mload_dt5\u001b[0m:\u001b[36m196\u001b[0m - \u001b[1mScenario Name: classBCIViewerAvatarAllDegreesCourtine\u001b[0m\n",
            "\u001b[32m2024-10-18 01:55:57.792\u001b[0m | \u001b[1mINFO    \u001b[0m | \u001b[36mlighthouse.data_loader.load_chuv\u001b[0m:\u001b[36mload_dt5\u001b[0m:\u001b[36m199\u001b[0m - \u001b[1mSub Scenario Name: classBSISubScenarioUpperJointsClassif\u001b[0m\n",
            "\u001b[32m2024-10-18 01:56:01.945\u001b[0m | \u001b[1mINFO    \u001b[0m | \u001b[36mlighthouse.data_loader.load_chuv\u001b[0m:\u001b[36mconcatenate_dt5\u001b[0m:\u001b[36m497\u001b[0m - \u001b[1mLoading /Volumes/__UP2/0_RAW_DATA/UP2_001/UP2001_2023_11_10_BSITraining_day16_4states/wisci/2023_11_10_14_35_33 (rec4_Update_Shoulder_Elbow_TestPt1)/ABSD data/2023_11_10_14_36_51_02of10.dt5\u001b[0m\n",
            "\u001b[32m2024-10-18 01:56:33.290\u001b[0m | \u001b[1mINFO    \u001b[0m | \u001b[36mlighthouse.data_loader.load_chuv\u001b[0m:\u001b[36mconcatenate_dt5\u001b[0m:\u001b[36m497\u001b[0m - \u001b[1mLoading /Volumes/__UP2/0_RAW_DATA/UP2_001/UP2001_2023_11_10_BSITraining_day16_4states/wisci/2023_11_10_14_35_33 (rec4_Update_Shoulder_Elbow_TestPt1)/ABSD data/2023_11_10_14_36_51_03of10.dt5\u001b[0m\n",
            "\u001b[32m2024-10-18 01:57:12.980\u001b[0m | \u001b[1mINFO    \u001b[0m | \u001b[36mlighthouse.data_loader.load_chuv\u001b[0m:\u001b[36mconcatenate_dt5\u001b[0m:\u001b[36m497\u001b[0m - \u001b[1mLoading /Volumes/__UP2/0_RAW_DATA/UP2_001/UP2001_2023_11_10_BSITraining_day16_4states/wisci/2023_11_10_14_35_33 (rec4_Update_Shoulder_Elbow_TestPt1)/ABSD data/2023_11_10_14_36_51_04of10.dt5\u001b[0m\n",
            "\u001b[32m2024-10-18 01:57:44.079\u001b[0m | \u001b[1mINFO    \u001b[0m | \u001b[36mlighthouse.data_loader.load_chuv\u001b[0m:\u001b[36mconcatenate_dt5\u001b[0m:\u001b[36m497\u001b[0m - \u001b[1mLoading /Volumes/__UP2/0_RAW_DATA/UP2_001/UP2001_2023_11_10_BSITraining_day16_4states/wisci/2023_11_10_14_35_33 (rec4_Update_Shoulder_Elbow_TestPt1)/ABSD data/2023_11_10_14_36_51_05of10.dt5\u001b[0m\n",
            "\u001b[32m2024-10-18 01:58:12.298\u001b[0m | \u001b[1mINFO    \u001b[0m | \u001b[36mlighthouse.data_loader.load_chuv\u001b[0m:\u001b[36mconcatenate_dt5\u001b[0m:\u001b[36m497\u001b[0m - \u001b[1mLoading /Volumes/__UP2/0_RAW_DATA/UP2_001/UP2001_2023_11_10_BSITraining_day16_4states/wisci/2023_11_10_14_35_33 (rec4_Update_Shoulder_Elbow_TestPt1)/ABSD data/2023_11_10_14_36_51_06of10.dt5\u001b[0m\n",
            "\u001b[32m2024-10-18 01:58:40.310\u001b[0m | \u001b[1mINFO    \u001b[0m | \u001b[36mlighthouse.data_loader.load_chuv\u001b[0m:\u001b[36mconcatenate_dt5\u001b[0m:\u001b[36m497\u001b[0m - \u001b[1mLoading /Volumes/__UP2/0_RAW_DATA/UP2_001/UP2001_2023_11_10_BSITraining_day16_4states/wisci/2023_11_10_14_35_33 (rec4_Update_Shoulder_Elbow_TestPt1)/ABSD data/2023_11_10_14_36_51_07of10.dt5\u001b[0m\n",
            "\u001b[32m2024-10-18 01:59:10.015\u001b[0m | \u001b[1mINFO    \u001b[0m | \u001b[36mlighthouse.data_loader.load_chuv\u001b[0m:\u001b[36mconcatenate_dt5\u001b[0m:\u001b[36m497\u001b[0m - \u001b[1mLoading /Volumes/__UP2/0_RAW_DATA/UP2_001/UP2001_2023_11_10_BSITraining_day16_4states/wisci/2023_11_10_14_35_33 (rec4_Update_Shoulder_Elbow_TestPt1)/ABSD data/2023_11_10_14_36_51_08of10.dt5\u001b[0m\n",
            "\u001b[32m2024-10-18 01:59:42.226\u001b[0m | \u001b[1mINFO    \u001b[0m | \u001b[36mlighthouse.data_loader.load_chuv\u001b[0m:\u001b[36mconcatenate_dt5\u001b[0m:\u001b[36m497\u001b[0m - \u001b[1mLoading /Volumes/__UP2/0_RAW_DATA/UP2_001/UP2001_2023_11_10_BSITraining_day16_4states/wisci/2023_11_10_14_35_33 (rec4_Update_Shoulder_Elbow_TestPt1)/ABSD data/2023_11_10_14_36_51_09of10.dt5\u001b[0m\n",
            "\u001b[32m2024-10-18 02:00:07.465\u001b[0m | \u001b[1mINFO    \u001b[0m | \u001b[36mlighthouse.data_loader.load_chuv\u001b[0m:\u001b[36mconcatenate_dt5\u001b[0m:\u001b[36m497\u001b[0m - \u001b[1mLoading /Volumes/__UP2/0_RAW_DATA/UP2_001/UP2001_2023_11_10_BSITraining_day16_4states/wisci/2023_11_10_14_35_33 (rec4_Update_Shoulder_Elbow_TestPt1)/ABSD data/2023_11_10_14_36_51_10of10.dt5\u001b[0m\n"
          ]
        },
        {
          "name": "stdout",
          "output_type": "stream",
          "text": [
            "Signals shape: (56, 1715130)\n",
            "New signal shape: (56, 454477)\n",
            "length of data: 38\n"
          ]
        },
        {
          "name": "stderr",
          "output_type": "stream",
          "text": [
            " 17%|█▋        | 11/65 [1:51:58<8:24:21, 560.39s/it]"
          ]
        },
        {
          "name": "stdout",
          "output_type": "stream",
          "text": [
            "Checkpoint saved after session 10\n",
            "Current session: (PosixPath('/Volumes/__UP2/0_RAW_DATA/UP2_001/UP2001_2023_11_13_BSITraining_day17_4states'), 11)\n"
          ]
        },
        {
          "name": "stderr",
          "output_type": "stream",
          "text": [
            "\u001b[32m2024-10-18 02:00:48.103\u001b[0m | \u001b[1mINFO    \u001b[0m | \u001b[36mlighthouse.data_loader.load_chuv\u001b[0m:\u001b[36mconcatenate_dt5\u001b[0m:\u001b[36m497\u001b[0m - \u001b[1mLoading /Volumes/__UP2/0_RAW_DATA/UP2_001/UP2001_2023_11_13_BSITraining_day17_4states/wisci/2023_11_13_13_19_08 (rec3_HandOpen_Pronation)/ABSD data/2023_11_13_13_20_42_01of08.dt5\u001b[0m\n",
            "\u001b[32m2024-10-18 02:01:14.811\u001b[0m | \u001b[1mINFO    \u001b[0m | \u001b[36mlighthouse.data_loader.load_chuv\u001b[0m:\u001b[36mload_dt5\u001b[0m:\u001b[36m196\u001b[0m - \u001b[1mScenario Name: classBCIViewerAvatarAllDegreesCourtine\u001b[0m\n",
            "\u001b[32m2024-10-18 02:01:14.816\u001b[0m | \u001b[1mINFO    \u001b[0m | \u001b[36mlighthouse.data_loader.load_chuv\u001b[0m:\u001b[36mload_dt5\u001b[0m:\u001b[36m199\u001b[0m - \u001b[1mSub Scenario Name: classBSISubScenarioUpperJointsClassif\u001b[0m\n",
            "\u001b[32m2024-10-18 02:01:19.102\u001b[0m | \u001b[1mINFO    \u001b[0m | \u001b[36mlighthouse.data_loader.load_chuv\u001b[0m:\u001b[36mconcatenate_dt5\u001b[0m:\u001b[36m497\u001b[0m - \u001b[1mLoading /Volumes/__UP2/0_RAW_DATA/UP2_001/UP2001_2023_11_13_BSITraining_day17_4states/wisci/2023_11_13_13_19_08 (rec3_HandOpen_Pronation)/ABSD data/2023_11_13_13_20_42_02of08.dt5\u001b[0m\n",
            "\u001b[32m2024-10-18 02:01:56.416\u001b[0m | \u001b[1mINFO    \u001b[0m | \u001b[36mlighthouse.data_loader.load_chuv\u001b[0m:\u001b[36mconcatenate_dt5\u001b[0m:\u001b[36m497\u001b[0m - \u001b[1mLoading /Volumes/__UP2/0_RAW_DATA/UP2_001/UP2001_2023_11_13_BSITraining_day17_4states/wisci/2023_11_13_13_19_08 (rec3_HandOpen_Pronation)/ABSD data/2023_11_13_13_20_42_03of08.dt5\u001b[0m\n",
            "\u001b[32m2024-10-18 02:02:27.358\u001b[0m | \u001b[1mINFO    \u001b[0m | \u001b[36mlighthouse.data_loader.load_chuv\u001b[0m:\u001b[36mconcatenate_dt5\u001b[0m:\u001b[36m497\u001b[0m - \u001b[1mLoading /Volumes/__UP2/0_RAW_DATA/UP2_001/UP2001_2023_11_13_BSITraining_day17_4states/wisci/2023_11_13_13_19_08 (rec3_HandOpen_Pronation)/ABSD data/2023_11_13_13_20_42_04of08.dt5\u001b[0m\n",
            "\u001b[32m2024-10-18 02:02:57.444\u001b[0m | \u001b[1mINFO    \u001b[0m | \u001b[36mlighthouse.data_loader.load_chuv\u001b[0m:\u001b[36mconcatenate_dt5\u001b[0m:\u001b[36m497\u001b[0m - \u001b[1mLoading /Volumes/__UP2/0_RAW_DATA/UP2_001/UP2001_2023_11_13_BSITraining_day17_4states/wisci/2023_11_13_13_19_08 (rec3_HandOpen_Pronation)/ABSD data/2023_11_13_13_20_42_05of08.dt5\u001b[0m\n",
            "\u001b[32m2024-10-18 02:03:48.326\u001b[0m | \u001b[1mINFO    \u001b[0m | \u001b[36mlighthouse.data_loader.load_chuv\u001b[0m:\u001b[36mconcatenate_dt5\u001b[0m:\u001b[36m497\u001b[0m - \u001b[1mLoading /Volumes/__UP2/0_RAW_DATA/UP2_001/UP2001_2023_11_13_BSITraining_day17_4states/wisci/2023_11_13_13_19_08 (rec3_HandOpen_Pronation)/ABSD data/2023_11_13_13_20_42_06of08.dt5\u001b[0m\n",
            "\u001b[32m2024-10-18 02:04:50.344\u001b[0m | \u001b[1mINFO    \u001b[0m | \u001b[36mlighthouse.data_loader.load_chuv\u001b[0m:\u001b[36mconcatenate_dt5\u001b[0m:\u001b[36m497\u001b[0m - \u001b[1mLoading /Volumes/__UP2/0_RAW_DATA/UP2_001/UP2001_2023_11_13_BSITraining_day17_4states/wisci/2023_11_13_13_19_08 (rec3_HandOpen_Pronation)/ABSD data/2023_11_13_13_20_42_07of08.dt5\u001b[0m\n",
            "\u001b[32m2024-10-18 02:05:23.109\u001b[0m | \u001b[1mINFO    \u001b[0m | \u001b[36mlighthouse.data_loader.load_chuv\u001b[0m:\u001b[36mconcatenate_dt5\u001b[0m:\u001b[36m497\u001b[0m - \u001b[1mLoading /Volumes/__UP2/0_RAW_DATA/UP2_001/UP2001_2023_11_13_BSITraining_day17_4states/wisci/2023_11_13_13_19_08 (rec3_HandOpen_Pronation)/ABSD data/2023_11_13_13_20_42_08of08.dt5\u001b[0m\n"
          ]
        },
        {
          "name": "stdout",
          "output_type": "stream",
          "text": [
            "Signals shape: (56, 1391987)\n",
            "New signal shape: (56, 213816)\n"
          ]
        },
        {
          "name": "stderr",
          "output_type": "stream",
          "text": [
            "\u001b[32m2024-10-18 02:05:51.820\u001b[0m | \u001b[1mINFO    \u001b[0m | \u001b[36mlighthouse.data_loader.load_chuv\u001b[0m:\u001b[36mconcatenate_dt5\u001b[0m:\u001b[36m497\u001b[0m - \u001b[1mLoading /Volumes/__UP2/0_RAW_DATA/UP2_001/UP2001_2023_11_13_BSITraining_day17_4states/wisci/2023_11_13_14_01_57 (rec4_Shoulder_Elbow_stimOpti)/ABSD data/2023_11_13_14_04_20_01of11.dt5\u001b[0m\n",
            "\u001b[32m2024-10-18 02:06:47.528\u001b[0m | \u001b[1mINFO    \u001b[0m | \u001b[36mlighthouse.data_loader.load_chuv\u001b[0m:\u001b[36mload_dt5\u001b[0m:\u001b[36m196\u001b[0m - \u001b[1mScenario Name: classBCIViewerAvatarAllDegreesCourtine\u001b[0m\n",
            "\u001b[32m2024-10-18 02:06:47.532\u001b[0m | \u001b[1mINFO    \u001b[0m | \u001b[36mlighthouse.data_loader.load_chuv\u001b[0m:\u001b[36mload_dt5\u001b[0m:\u001b[36m199\u001b[0m - \u001b[1mSub Scenario Name: classBSISubScenarioUpperJointsClassif\u001b[0m\n",
            "\u001b[32m2024-10-18 02:06:51.755\u001b[0m | \u001b[1mINFO    \u001b[0m | \u001b[36mlighthouse.data_loader.load_chuv\u001b[0m:\u001b[36mconcatenate_dt5\u001b[0m:\u001b[36m497\u001b[0m - \u001b[1mLoading /Volumes/__UP2/0_RAW_DATA/UP2_001/UP2001_2023_11_13_BSITraining_day17_4states/wisci/2023_11_13_14_01_57 (rec4_Shoulder_Elbow_stimOpti)/ABSD data/2023_11_13_14_04_20_02of11.dt5\u001b[0m\n",
            "\u001b[32m2024-10-18 02:07:18.334\u001b[0m | \u001b[1mINFO    \u001b[0m | \u001b[36mlighthouse.data_loader.load_chuv\u001b[0m:\u001b[36mconcatenate_dt5\u001b[0m:\u001b[36m497\u001b[0m - \u001b[1mLoading /Volumes/__UP2/0_RAW_DATA/UP2_001/UP2001_2023_11_13_BSITraining_day17_4states/wisci/2023_11_13_14_01_57 (rec4_Shoulder_Elbow_stimOpti)/ABSD data/2023_11_13_14_04_20_03of11.dt5\u001b[0m\n",
            "\u001b[32m2024-10-18 02:07:46.997\u001b[0m | \u001b[1mINFO    \u001b[0m | \u001b[36mlighthouse.data_loader.load_chuv\u001b[0m:\u001b[36mconcatenate_dt5\u001b[0m:\u001b[36m497\u001b[0m - \u001b[1mLoading /Volumes/__UP2/0_RAW_DATA/UP2_001/UP2001_2023_11_13_BSITraining_day17_4states/wisci/2023_11_13_14_01_57 (rec4_Shoulder_Elbow_stimOpti)/ABSD data/2023_11_13_14_04_20_04of11.dt5\u001b[0m\n",
            "\u001b[32m2024-10-18 02:08:32.036\u001b[0m | \u001b[1mINFO    \u001b[0m | \u001b[36mlighthouse.data_loader.load_chuv\u001b[0m:\u001b[36mconcatenate_dt5\u001b[0m:\u001b[36m497\u001b[0m - \u001b[1mLoading /Volumes/__UP2/0_RAW_DATA/UP2_001/UP2001_2023_11_13_BSITraining_day17_4states/wisci/2023_11_13_14_01_57 (rec4_Shoulder_Elbow_stimOpti)/ABSD data/2023_11_13_14_04_20_05of11.dt5\u001b[0m\n",
            "\u001b[32m2024-10-18 02:09:01.021\u001b[0m | \u001b[1mINFO    \u001b[0m | \u001b[36mlighthouse.data_loader.load_chuv\u001b[0m:\u001b[36mconcatenate_dt5\u001b[0m:\u001b[36m497\u001b[0m - \u001b[1mLoading /Volumes/__UP2/0_RAW_DATA/UP2_001/UP2001_2023_11_13_BSITraining_day17_4states/wisci/2023_11_13_14_01_57 (rec4_Shoulder_Elbow_stimOpti)/ABSD data/2023_11_13_14_04_20_06of11.dt5\u001b[0m\n",
            "\u001b[32m2024-10-18 02:09:33.202\u001b[0m | \u001b[1mINFO    \u001b[0m | \u001b[36mlighthouse.data_loader.load_chuv\u001b[0m:\u001b[36mconcatenate_dt5\u001b[0m:\u001b[36m497\u001b[0m - \u001b[1mLoading /Volumes/__UP2/0_RAW_DATA/UP2_001/UP2001_2023_11_13_BSITraining_day17_4states/wisci/2023_11_13_14_01_57 (rec4_Shoulder_Elbow_stimOpti)/ABSD data/2023_11_13_14_04_20_07of11.dt5\u001b[0m\n",
            "\u001b[32m2024-10-18 02:10:03.054\u001b[0m | \u001b[1mINFO    \u001b[0m | \u001b[36mlighthouse.data_loader.load_chuv\u001b[0m:\u001b[36mconcatenate_dt5\u001b[0m:\u001b[36m497\u001b[0m - \u001b[1mLoading /Volumes/__UP2/0_RAW_DATA/UP2_001/UP2001_2023_11_13_BSITraining_day17_4states/wisci/2023_11_13_14_01_57 (rec4_Shoulder_Elbow_stimOpti)/ABSD data/2023_11_13_14_04_20_08of11.dt5\u001b[0m\n",
            "\u001b[32m2024-10-18 02:10:33.151\u001b[0m | \u001b[1mINFO    \u001b[0m | \u001b[36mlighthouse.data_loader.load_chuv\u001b[0m:\u001b[36mconcatenate_dt5\u001b[0m:\u001b[36m497\u001b[0m - \u001b[1mLoading /Volumes/__UP2/0_RAW_DATA/UP2_001/UP2001_2023_11_13_BSITraining_day17_4states/wisci/2023_11_13_14_01_57 (rec4_Shoulder_Elbow_stimOpti)/ABSD data/2023_11_13_14_04_20_09of11.dt5\u001b[0m\n",
            "\u001b[32m2024-10-18 02:10:58.648\u001b[0m | \u001b[1mINFO    \u001b[0m | \u001b[36mlighthouse.data_loader.load_chuv\u001b[0m:\u001b[36mconcatenate_dt5\u001b[0m:\u001b[36m497\u001b[0m - \u001b[1mLoading /Volumes/__UP2/0_RAW_DATA/UP2_001/UP2001_2023_11_13_BSITraining_day17_4states/wisci/2023_11_13_14_01_57 (rec4_Shoulder_Elbow_stimOpti)/ABSD data/2023_11_13_14_04_20_10of11.dt5\u001b[0m\n",
            "\u001b[32m2024-10-18 02:11:27.780\u001b[0m | \u001b[1mINFO    \u001b[0m | \u001b[36mlighthouse.data_loader.load_chuv\u001b[0m:\u001b[36mconcatenate_dt5\u001b[0m:\u001b[36m497\u001b[0m - \u001b[1mLoading /Volumes/__UP2/0_RAW_DATA/UP2_001/UP2001_2023_11_13_BSITraining_day17_4states/wisci/2023_11_13_14_01_57 (rec4_Shoulder_Elbow_stimOpti)/ABSD data/2023_11_13_14_04_20_11of11.dt5\u001b[0m\n"
          ]
        },
        {
          "name": "stdout",
          "output_type": "stream",
          "text": [
            "Signals shape: (56, 1852482)\n",
            "New signal shape: (56, 91332)\n",
            "length of data: 40\n"
          ]
        },
        {
          "name": "stderr",
          "output_type": "stream",
          "text": [
            " 18%|█▊        | 12/65 [2:03:08<8:44:17, 593.54s/it]"
          ]
        },
        {
          "name": "stdout",
          "output_type": "stream",
          "text": [
            "Checkpoint saved after session 11\n",
            "Current session: (PosixPath('/Volumes/__UP2/0_RAW_DATA/UP2_001/UP2001_2023_11_15_BSITraining_Day19'), 12)\n"
          ]
        },
        {
          "name": "stderr",
          "output_type": "stream",
          "text": [
            "\u001b[32m2024-10-18 02:12:00.126\u001b[0m | \u001b[1mINFO    \u001b[0m | \u001b[36mlighthouse.data_loader.load_chuv\u001b[0m:\u001b[36mconcatenate_dt5\u001b[0m:\u001b[36m497\u001b[0m - \u001b[1mLoading /Volumes/__UP2/0_RAW_DATA/UP2_001/UP2001_2023_11_15_BSITraining_Day19/WISCI/2023_11_15_13_36_09 (rec1_Update_Shoulder_Elbow)/ABSD data/2023_11_15_13_38_15_01of14.dt5\u001b[0m\n",
            "\u001b[32m2024-10-18 02:12:30.198\u001b[0m | \u001b[1mINFO    \u001b[0m | \u001b[36mlighthouse.data_loader.load_chuv\u001b[0m:\u001b[36mload_dt5\u001b[0m:\u001b[36m196\u001b[0m - \u001b[1mScenario Name: classBCIViewerAvatarAllDegreesCourtine\u001b[0m\n",
            "\u001b[32m2024-10-18 02:12:30.202\u001b[0m | \u001b[1mINFO    \u001b[0m | \u001b[36mlighthouse.data_loader.load_chuv\u001b[0m:\u001b[36mload_dt5\u001b[0m:\u001b[36m199\u001b[0m - \u001b[1mSub Scenario Name: classBSISubScenarioUpperJointsClassif\u001b[0m\n",
            "\u001b[32m2024-10-18 02:12:34.501\u001b[0m | \u001b[1mINFO    \u001b[0m | \u001b[36mlighthouse.data_loader.load_chuv\u001b[0m:\u001b[36mconcatenate_dt5\u001b[0m:\u001b[36m497\u001b[0m - \u001b[1mLoading /Volumes/__UP2/0_RAW_DATA/UP2_001/UP2001_2023_11_15_BSITraining_Day19/WISCI/2023_11_15_13_36_09 (rec1_Update_Shoulder_Elbow)/ABSD data/2023_11_15_13_38_15_02of14.dt5\u001b[0m\n",
            "\u001b[32m2024-10-18 02:13:02.818\u001b[0m | \u001b[1mINFO    \u001b[0m | \u001b[36mlighthouse.data_loader.load_chuv\u001b[0m:\u001b[36mconcatenate_dt5\u001b[0m:\u001b[36m497\u001b[0m - \u001b[1mLoading /Volumes/__UP2/0_RAW_DATA/UP2_001/UP2001_2023_11_15_BSITraining_Day19/WISCI/2023_11_15_13_36_09 (rec1_Update_Shoulder_Elbow)/ABSD data/2023_11_15_13_38_15_03of14.dt5\u001b[0m\n",
            "\u001b[32m2024-10-18 02:13:34.234\u001b[0m | \u001b[1mINFO    \u001b[0m | \u001b[36mlighthouse.data_loader.load_chuv\u001b[0m:\u001b[36mconcatenate_dt5\u001b[0m:\u001b[36m497\u001b[0m - \u001b[1mLoading /Volumes/__UP2/0_RAW_DATA/UP2_001/UP2001_2023_11_15_BSITraining_Day19/WISCI/2023_11_15_13_36_09 (rec1_Update_Shoulder_Elbow)/ABSD data/2023_11_15_13_38_15_04of14.dt5\u001b[0m\n",
            "\u001b[32m2024-10-18 02:14:01.787\u001b[0m | \u001b[1mINFO    \u001b[0m | \u001b[36mlighthouse.data_loader.load_chuv\u001b[0m:\u001b[36mconcatenate_dt5\u001b[0m:\u001b[36m497\u001b[0m - \u001b[1mLoading /Volumes/__UP2/0_RAW_DATA/UP2_001/UP2001_2023_11_15_BSITraining_Day19/WISCI/2023_11_15_13_36_09 (rec1_Update_Shoulder_Elbow)/ABSD data/2023_11_15_13_38_15_05of14.dt5\u001b[0m\n",
            "\u001b[32m2024-10-18 02:14:33.284\u001b[0m | \u001b[1mINFO    \u001b[0m | \u001b[36mlighthouse.data_loader.load_chuv\u001b[0m:\u001b[36mconcatenate_dt5\u001b[0m:\u001b[36m497\u001b[0m - \u001b[1mLoading /Volumes/__UP2/0_RAW_DATA/UP2_001/UP2001_2023_11_15_BSITraining_Day19/WISCI/2023_11_15_13_36_09 (rec1_Update_Shoulder_Elbow)/ABSD data/2023_11_15_13_38_15_06of14.dt5\u001b[0m\n",
            "\u001b[32m2024-10-18 02:15:01.133\u001b[0m | \u001b[1mINFO    \u001b[0m | \u001b[36mlighthouse.data_loader.load_chuv\u001b[0m:\u001b[36mconcatenate_dt5\u001b[0m:\u001b[36m497\u001b[0m - \u001b[1mLoading /Volumes/__UP2/0_RAW_DATA/UP2_001/UP2001_2023_11_15_BSITraining_Day19/WISCI/2023_11_15_13_36_09 (rec1_Update_Shoulder_Elbow)/ABSD data/2023_11_15_13_38_15_07of14.dt5\u001b[0m\n",
            "\u001b[32m2024-10-18 02:15:25.672\u001b[0m | \u001b[1mINFO    \u001b[0m | \u001b[36mlighthouse.data_loader.load_chuv\u001b[0m:\u001b[36mconcatenate_dt5\u001b[0m:\u001b[36m497\u001b[0m - \u001b[1mLoading /Volumes/__UP2/0_RAW_DATA/UP2_001/UP2001_2023_11_15_BSITraining_Day19/WISCI/2023_11_15_13_36_09 (rec1_Update_Shoulder_Elbow)/ABSD data/2023_11_15_13_38_15_08of14.dt5\u001b[0m\n",
            "\u001b[32m2024-10-18 02:15:53.086\u001b[0m | \u001b[1mINFO    \u001b[0m | \u001b[36mlighthouse.data_loader.load_chuv\u001b[0m:\u001b[36mconcatenate_dt5\u001b[0m:\u001b[36m497\u001b[0m - \u001b[1mLoading /Volumes/__UP2/0_RAW_DATA/UP2_001/UP2001_2023_11_15_BSITraining_Day19/WISCI/2023_11_15_13_36_09 (rec1_Update_Shoulder_Elbow)/ABSD data/2023_11_15_13_38_15_09of14.dt5\u001b[0m\n",
            "\u001b[32m2024-10-18 02:16:21.441\u001b[0m | \u001b[1mINFO    \u001b[0m | \u001b[36mlighthouse.data_loader.load_chuv\u001b[0m:\u001b[36mconcatenate_dt5\u001b[0m:\u001b[36m497\u001b[0m - \u001b[1mLoading /Volumes/__UP2/0_RAW_DATA/UP2_001/UP2001_2023_11_15_BSITraining_Day19/WISCI/2023_11_15_13_36_09 (rec1_Update_Shoulder_Elbow)/ABSD data/2023_11_15_13_38_15_10of14.dt5\u001b[0m\n",
            "\u001b[32m2024-10-18 02:16:54.416\u001b[0m | \u001b[1mINFO    \u001b[0m | \u001b[36mlighthouse.data_loader.load_chuv\u001b[0m:\u001b[36mconcatenate_dt5\u001b[0m:\u001b[36m497\u001b[0m - \u001b[1mLoading /Volumes/__UP2/0_RAW_DATA/UP2_001/UP2001_2023_11_15_BSITraining_Day19/WISCI/2023_11_15_13_36_09 (rec1_Update_Shoulder_Elbow)/ABSD data/2023_11_15_13_38_15_11of14.dt5\u001b[0m\n",
            "\u001b[32m2024-10-18 02:17:27.437\u001b[0m | \u001b[1mINFO    \u001b[0m | \u001b[36mlighthouse.data_loader.load_chuv\u001b[0m:\u001b[36mconcatenate_dt5\u001b[0m:\u001b[36m497\u001b[0m - \u001b[1mLoading /Volumes/__UP2/0_RAW_DATA/UP2_001/UP2001_2023_11_15_BSITraining_Day19/WISCI/2023_11_15_13_36_09 (rec1_Update_Shoulder_Elbow)/ABSD data/2023_11_15_13_38_15_12of14.dt5\u001b[0m\n",
            "\u001b[32m2024-10-18 02:17:56.073\u001b[0m | \u001b[1mINFO    \u001b[0m | \u001b[36mlighthouse.data_loader.load_chuv\u001b[0m:\u001b[36mconcatenate_dt5\u001b[0m:\u001b[36m497\u001b[0m - \u001b[1mLoading /Volumes/__UP2/0_RAW_DATA/UP2_001/UP2001_2023_11_15_BSITraining_Day19/WISCI/2023_11_15_13_36_09 (rec1_Update_Shoulder_Elbow)/ABSD data/2023_11_15_13_38_15_13of14.dt5\u001b[0m\n",
            "\u001b[32m2024-10-18 02:18:25.185\u001b[0m | \u001b[1mINFO    \u001b[0m | \u001b[36mlighthouse.data_loader.load_chuv\u001b[0m:\u001b[36mconcatenate_dt5\u001b[0m:\u001b[36m497\u001b[0m - \u001b[1mLoading /Volumes/__UP2/0_RAW_DATA/UP2_001/UP2001_2023_11_15_BSITraining_Day19/WISCI/2023_11_15_13_36_09 (rec1_Update_Shoulder_Elbow)/ABSD data/2023_11_15_13_38_15_14of14.dt5\u001b[0m\n"
          ]
        },
        {
          "name": "stdout",
          "output_type": "stream",
          "text": [
            "Signals shape: (56, 2416286)\n",
            "New signal shape: (56, 399666)\n"
          ]
        },
        {
          "name": "stderr",
          "output_type": "stream",
          "text": [
            "\u001b[32m2024-10-18 02:18:50.237\u001b[0m | \u001b[1mINFO    \u001b[0m | \u001b[36mlighthouse.data_loader.load_chuv\u001b[0m:\u001b[36mconcatenate_dt5\u001b[0m:\u001b[36m497\u001b[0m - \u001b[1mLoading /Volumes/__UP2/0_RAW_DATA/UP2_001/UP2001_2023_11_15_BSITraining_Day19/WISCI/2023_11_15_14_48_46 (rec2_HandOpen_Pronation)/ABSD data/2023_11_15_14_50_51_01of12.dt5\u001b[0m\n",
            "\u001b[32m2024-10-18 02:19:15.760\u001b[0m | \u001b[1mINFO    \u001b[0m | \u001b[36mlighthouse.data_loader.load_chuv\u001b[0m:\u001b[36mload_dt5\u001b[0m:\u001b[36m196\u001b[0m - \u001b[1mScenario Name: classBCIViewerAvatarAllDegreesCourtine\u001b[0m\n",
            "\u001b[32m2024-10-18 02:19:15.763\u001b[0m | \u001b[1mINFO    \u001b[0m | \u001b[36mlighthouse.data_loader.load_chuv\u001b[0m:\u001b[36mload_dt5\u001b[0m:\u001b[36m199\u001b[0m - \u001b[1mSub Scenario Name: classBSISubScenarioUpperJointsClassif\u001b[0m\n",
            "\u001b[32m2024-10-18 02:19:19.979\u001b[0m | \u001b[1mINFO    \u001b[0m | \u001b[36mlighthouse.data_loader.load_chuv\u001b[0m:\u001b[36mconcatenate_dt5\u001b[0m:\u001b[36m497\u001b[0m - \u001b[1mLoading /Volumes/__UP2/0_RAW_DATA/UP2_001/UP2001_2023_11_15_BSITraining_Day19/WISCI/2023_11_15_14_48_46 (rec2_HandOpen_Pronation)/ABSD data/2023_11_15_14_50_51_02of12.dt5\u001b[0m\n",
            "\u001b[32m2024-10-18 02:19:50.570\u001b[0m | \u001b[1mINFO    \u001b[0m | \u001b[36mlighthouse.data_loader.load_chuv\u001b[0m:\u001b[36mconcatenate_dt5\u001b[0m:\u001b[36m497\u001b[0m - \u001b[1mLoading /Volumes/__UP2/0_RAW_DATA/UP2_001/UP2001_2023_11_15_BSITraining_Day19/WISCI/2023_11_15_14_48_46 (rec2_HandOpen_Pronation)/ABSD data/2023_11_15_14_50_51_03of12.dt5\u001b[0m\n",
            "\u001b[32m2024-10-18 02:20:17.948\u001b[0m | \u001b[1mINFO    \u001b[0m | \u001b[36mlighthouse.data_loader.load_chuv\u001b[0m:\u001b[36mconcatenate_dt5\u001b[0m:\u001b[36m497\u001b[0m - \u001b[1mLoading /Volumes/__UP2/0_RAW_DATA/UP2_001/UP2001_2023_11_15_BSITraining_Day19/WISCI/2023_11_15_14_48_46 (rec2_HandOpen_Pronation)/ABSD data/2023_11_15_14_50_51_04of12.dt5\u001b[0m\n",
            "\u001b[32m2024-10-18 02:20:53.294\u001b[0m | \u001b[1mINFO    \u001b[0m | \u001b[36mlighthouse.data_loader.load_chuv\u001b[0m:\u001b[36mconcatenate_dt5\u001b[0m:\u001b[36m497\u001b[0m - \u001b[1mLoading /Volumes/__UP2/0_RAW_DATA/UP2_001/UP2001_2023_11_15_BSITraining_Day19/WISCI/2023_11_15_14_48_46 (rec2_HandOpen_Pronation)/ABSD data/2023_11_15_14_50_51_05of12.dt5\u001b[0m\n",
            "\u001b[32m2024-10-18 02:21:31.783\u001b[0m | \u001b[1mINFO    \u001b[0m | \u001b[36mlighthouse.data_loader.load_chuv\u001b[0m:\u001b[36mconcatenate_dt5\u001b[0m:\u001b[36m497\u001b[0m - \u001b[1mLoading /Volumes/__UP2/0_RAW_DATA/UP2_001/UP2001_2023_11_15_BSITraining_Day19/WISCI/2023_11_15_14_48_46 (rec2_HandOpen_Pronation)/ABSD data/2023_11_15_14_50_51_06of12.dt5\u001b[0m\n",
            "\u001b[32m2024-10-18 02:22:02.173\u001b[0m | \u001b[1mINFO    \u001b[0m | \u001b[36mlighthouse.data_loader.load_chuv\u001b[0m:\u001b[36mconcatenate_dt5\u001b[0m:\u001b[36m497\u001b[0m - \u001b[1mLoading /Volumes/__UP2/0_RAW_DATA/UP2_001/UP2001_2023_11_15_BSITraining_Day19/WISCI/2023_11_15_14_48_46 (rec2_HandOpen_Pronation)/ABSD data/2023_11_15_14_50_51_07of12.dt5\u001b[0m\n",
            "\u001b[32m2024-10-18 02:22:36.388\u001b[0m | \u001b[1mINFO    \u001b[0m | \u001b[36mlighthouse.data_loader.load_chuv\u001b[0m:\u001b[36mconcatenate_dt5\u001b[0m:\u001b[36m497\u001b[0m - \u001b[1mLoading /Volumes/__UP2/0_RAW_DATA/UP2_001/UP2001_2023_11_15_BSITraining_Day19/WISCI/2023_11_15_14_48_46 (rec2_HandOpen_Pronation)/ABSD data/2023_11_15_14_50_51_08of12.dt5\u001b[0m\n",
            "\u001b[32m2024-10-18 02:23:17.885\u001b[0m | \u001b[1mINFO    \u001b[0m | \u001b[36mlighthouse.data_loader.load_chuv\u001b[0m:\u001b[36mconcatenate_dt5\u001b[0m:\u001b[36m497\u001b[0m - \u001b[1mLoading /Volumes/__UP2/0_RAW_DATA/UP2_001/UP2001_2023_11_15_BSITraining_Day19/WISCI/2023_11_15_14_48_46 (rec2_HandOpen_Pronation)/ABSD data/2023_11_15_14_50_51_09of12.dt5\u001b[0m\n",
            "\u001b[32m2024-10-18 02:23:48.117\u001b[0m | \u001b[1mINFO    \u001b[0m | \u001b[36mlighthouse.data_loader.load_chuv\u001b[0m:\u001b[36mconcatenate_dt5\u001b[0m:\u001b[36m497\u001b[0m - \u001b[1mLoading /Volumes/__UP2/0_RAW_DATA/UP2_001/UP2001_2023_11_15_BSITraining_Day19/WISCI/2023_11_15_14_48_46 (rec2_HandOpen_Pronation)/ABSD data/2023_11_15_14_50_51_10of12.dt5\u001b[0m\n",
            "\u001b[32m2024-10-18 02:24:17.242\u001b[0m | \u001b[1mINFO    \u001b[0m | \u001b[36mlighthouse.data_loader.load_chuv\u001b[0m:\u001b[36mconcatenate_dt5\u001b[0m:\u001b[36m497\u001b[0m - \u001b[1mLoading /Volumes/__UP2/0_RAW_DATA/UP2_001/UP2001_2023_11_15_BSITraining_Day19/WISCI/2023_11_15_14_48_46 (rec2_HandOpen_Pronation)/ABSD data/2023_11_15_14_50_51_11of12.dt5\u001b[0m\n",
            "\u001b[32m2024-10-18 02:24:45.958\u001b[0m | \u001b[1mINFO    \u001b[0m | \u001b[36mlighthouse.data_loader.load_chuv\u001b[0m:\u001b[36mconcatenate_dt5\u001b[0m:\u001b[36m497\u001b[0m - \u001b[1mLoading /Volumes/__UP2/0_RAW_DATA/UP2_001/UP2001_2023_11_15_BSITraining_Day19/WISCI/2023_11_15_14_48_46 (rec2_HandOpen_Pronation)/ABSD data/2023_11_15_14_50_51_12of12.dt5\u001b[0m\n"
          ]
        },
        {
          "name": "stdout",
          "output_type": "stream",
          "text": [
            "Signals shape: (56, 1968830)\n",
            "New signal shape: (56, 426393)\n",
            "length of data: 42\n"
          ]
        },
        {
          "name": "stderr",
          "output_type": "stream",
          "text": [
            " 20%|██        | 13/65 [2:16:22<9:27:06, 654.35s/it]"
          ]
        },
        {
          "name": "stdout",
          "output_type": "stream",
          "text": [
            "Checkpoint saved after session 12\n",
            "Current session: (PosixPath('/Volumes/__UP2/0_RAW_DATA/UP2_001/UP2001_2023_11_16_BSITraining_day20'), 13)\n"
          ]
        },
        {
          "name": "stderr",
          "output_type": "stream",
          "text": [
            "\u001b[32m2024-10-18 02:25:11.806\u001b[0m | \u001b[1mINFO    \u001b[0m | \u001b[36mlighthouse.data_loader.load_chuv\u001b[0m:\u001b[36mconcatenate_dt5\u001b[0m:\u001b[36m497\u001b[0m - \u001b[1mLoading /Volumes/__UP2/0_RAW_DATA/UP2_001/UP2001_2023_11_16_BSITraining_day20/wisci/2023_11_16_13_23_56 (rec3_ModelD16_Shoulder_Elbow)/ABSD data/2023_11_16_13_25_28_01of10.dt5\u001b[0m\n",
            "\u001b[32m2024-10-18 02:25:34.343\u001b[0m | \u001b[1mINFO    \u001b[0m | \u001b[36mlighthouse.data_loader.load_chuv\u001b[0m:\u001b[36mload_dt5\u001b[0m:\u001b[36m196\u001b[0m - \u001b[1mScenario Name: classBCIViewerAvatarAllDegreesCourtine\u001b[0m\n",
            "\u001b[32m2024-10-18 02:25:34.353\u001b[0m | \u001b[1mINFO    \u001b[0m | \u001b[36mlighthouse.data_loader.load_chuv\u001b[0m:\u001b[36mload_dt5\u001b[0m:\u001b[36m199\u001b[0m - \u001b[1mSub Scenario Name: classBSISubScenarioUpperJointsClassif\u001b[0m\n",
            "\u001b[32m2024-10-18 02:25:38.692\u001b[0m | \u001b[1mINFO    \u001b[0m | \u001b[36mlighthouse.data_loader.load_chuv\u001b[0m:\u001b[36mconcatenate_dt5\u001b[0m:\u001b[36m497\u001b[0m - \u001b[1mLoading /Volumes/__UP2/0_RAW_DATA/UP2_001/UP2001_2023_11_16_BSITraining_day20/wisci/2023_11_16_13_23_56 (rec3_ModelD16_Shoulder_Elbow)/ABSD data/2023_11_16_13_25_28_02of10.dt5\u001b[0m\n",
            "\u001b[32m2024-10-18 02:26:11.579\u001b[0m | \u001b[1mINFO    \u001b[0m | \u001b[36mlighthouse.data_loader.load_chuv\u001b[0m:\u001b[36mconcatenate_dt5\u001b[0m:\u001b[36m497\u001b[0m - \u001b[1mLoading /Volumes/__UP2/0_RAW_DATA/UP2_001/UP2001_2023_11_16_BSITraining_day20/wisci/2023_11_16_13_23_56 (rec3_ModelD16_Shoulder_Elbow)/ABSD data/2023_11_16_13_25_28_03of10.dt5\u001b[0m\n",
            "\u001b[32m2024-10-18 02:26:41.331\u001b[0m | \u001b[1mINFO    \u001b[0m | \u001b[36mlighthouse.data_loader.load_chuv\u001b[0m:\u001b[36mconcatenate_dt5\u001b[0m:\u001b[36m497\u001b[0m - \u001b[1mLoading /Volumes/__UP2/0_RAW_DATA/UP2_001/UP2001_2023_11_16_BSITraining_day20/wisci/2023_11_16_13_23_56 (rec3_ModelD16_Shoulder_Elbow)/ABSD data/2023_11_16_13_25_28_04of10.dt5\u001b[0m\n",
            "\u001b[32m2024-10-18 02:27:08.891\u001b[0m | \u001b[1mINFO    \u001b[0m | \u001b[36mlighthouse.data_loader.load_chuv\u001b[0m:\u001b[36mconcatenate_dt5\u001b[0m:\u001b[36m497\u001b[0m - \u001b[1mLoading /Volumes/__UP2/0_RAW_DATA/UP2_001/UP2001_2023_11_16_BSITraining_day20/wisci/2023_11_16_13_23_56 (rec3_ModelD16_Shoulder_Elbow)/ABSD data/2023_11_16_13_25_28_05of10.dt5\u001b[0m\n",
            "\u001b[32m2024-10-18 02:27:42.195\u001b[0m | \u001b[1mINFO    \u001b[0m | \u001b[36mlighthouse.data_loader.load_chuv\u001b[0m:\u001b[36mconcatenate_dt5\u001b[0m:\u001b[36m497\u001b[0m - \u001b[1mLoading /Volumes/__UP2/0_RAW_DATA/UP2_001/UP2001_2023_11_16_BSITraining_day20/wisci/2023_11_16_13_23_56 (rec3_ModelD16_Shoulder_Elbow)/ABSD data/2023_11_16_13_25_28_06of10.dt5\u001b[0m\n",
            "\u001b[32m2024-10-18 02:28:10.063\u001b[0m | \u001b[1mINFO    \u001b[0m | \u001b[36mlighthouse.data_loader.load_chuv\u001b[0m:\u001b[36mconcatenate_dt5\u001b[0m:\u001b[36m497\u001b[0m - \u001b[1mLoading /Volumes/__UP2/0_RAW_DATA/UP2_001/UP2001_2023_11_16_BSITraining_day20/wisci/2023_11_16_13_23_56 (rec3_ModelD16_Shoulder_Elbow)/ABSD data/2023_11_16_13_25_28_07of10.dt5\u001b[0m\n",
            "\u001b[32m2024-10-18 02:28:39.661\u001b[0m | \u001b[1mINFO    \u001b[0m | \u001b[36mlighthouse.data_loader.load_chuv\u001b[0m:\u001b[36mconcatenate_dt5\u001b[0m:\u001b[36m497\u001b[0m - \u001b[1mLoading /Volumes/__UP2/0_RAW_DATA/UP2_001/UP2001_2023_11_16_BSITraining_day20/wisci/2023_11_16_13_23_56 (rec3_ModelD16_Shoulder_Elbow)/ABSD data/2023_11_16_13_25_28_08of10.dt5\u001b[0m\n",
            "\u001b[32m2024-10-18 02:29:12.522\u001b[0m | \u001b[1mINFO    \u001b[0m | \u001b[36mlighthouse.data_loader.load_chuv\u001b[0m:\u001b[36mconcatenate_dt5\u001b[0m:\u001b[36m497\u001b[0m - \u001b[1mLoading /Volumes/__UP2/0_RAW_DATA/UP2_001/UP2001_2023_11_16_BSITraining_day20/wisci/2023_11_16_13_23_56 (rec3_ModelD16_Shoulder_Elbow)/ABSD data/2023_11_16_13_25_28_09of10.dt5\u001b[0m\n",
            "\u001b[32m2024-10-18 02:29:40.382\u001b[0m | \u001b[1mINFO    \u001b[0m | \u001b[36mlighthouse.data_loader.load_chuv\u001b[0m:\u001b[36mconcatenate_dt5\u001b[0m:\u001b[36m497\u001b[0m - \u001b[1mLoading /Volumes/__UP2/0_RAW_DATA/UP2_001/UP2001_2023_11_16_BSITraining_day20/wisci/2023_11_16_13_23_56 (rec3_ModelD16_Shoulder_Elbow)/ABSD data/2023_11_16_13_25_28_10of10.dt5\u001b[0m\n"
          ]
        },
        {
          "name": "stdout",
          "output_type": "stream",
          "text": [
            "Signals shape: (56, 1687282)\n",
            "New signal shape: (56, 71331)\n"
          ]
        },
        {
          "name": "stderr",
          "output_type": "stream",
          "text": [
            "\u001b[32m2024-10-18 02:29:56.828\u001b[0m | \u001b[1mINFO    \u001b[0m | \u001b[36mlighthouse.data_loader.load_chuv\u001b[0m:\u001b[36mconcatenate_dt5\u001b[0m:\u001b[36m497\u001b[0m - \u001b[1mLoading /Volumes/__UP2/0_RAW_DATA/UP2_001/UP2001_2023_11_16_BSITraining_day20/wisci/2023_11_16_14_14_43 (rec4_Pronation)/ABSD data/2023_11_16_14_16_44_01of07.dt5\u001b[0m\n",
            "\u001b[32m2024-10-18 02:30:35.256\u001b[0m | \u001b[1mINFO    \u001b[0m | \u001b[36mlighthouse.data_loader.load_chuv\u001b[0m:\u001b[36mload_dt5\u001b[0m:\u001b[36m196\u001b[0m - \u001b[1mScenario Name: classBCIViewerAvatarAllDegreesCourtine\u001b[0m\n",
            "\u001b[32m2024-10-18 02:30:35.259\u001b[0m | \u001b[1mINFO    \u001b[0m | \u001b[36mlighthouse.data_loader.load_chuv\u001b[0m:\u001b[36mload_dt5\u001b[0m:\u001b[36m199\u001b[0m - \u001b[1mSub Scenario Name: classBSISubScenarioUpperJointsClassif\u001b[0m\n",
            "\u001b[32m2024-10-18 02:30:39.497\u001b[0m | \u001b[1mINFO    \u001b[0m | \u001b[36mlighthouse.data_loader.load_chuv\u001b[0m:\u001b[36mconcatenate_dt5\u001b[0m:\u001b[36m497\u001b[0m - \u001b[1mLoading /Volumes/__UP2/0_RAW_DATA/UP2_001/UP2001_2023_11_16_BSITraining_day20/wisci/2023_11_16_14_14_43 (rec4_Pronation)/ABSD data/2023_11_16_14_16_44_02of07.dt5\u001b[0m\n",
            "\u001b[32m2024-10-18 02:31:06.975\u001b[0m | \u001b[1mINFO    \u001b[0m | \u001b[36mlighthouse.data_loader.load_chuv\u001b[0m:\u001b[36mconcatenate_dt5\u001b[0m:\u001b[36m497\u001b[0m - \u001b[1mLoading /Volumes/__UP2/0_RAW_DATA/UP2_001/UP2001_2023_11_16_BSITraining_day20/wisci/2023_11_16_14_14_43 (rec4_Pronation)/ABSD data/2023_11_16_14_16_44_03of07.dt5\u001b[0m\n",
            "\u001b[32m2024-10-18 02:31:33.716\u001b[0m | \u001b[1mINFO    \u001b[0m | \u001b[36mlighthouse.data_loader.load_chuv\u001b[0m:\u001b[36mconcatenate_dt5\u001b[0m:\u001b[36m497\u001b[0m - \u001b[1mLoading /Volumes/__UP2/0_RAW_DATA/UP2_001/UP2001_2023_11_16_BSITraining_day20/wisci/2023_11_16_14_14_43 (rec4_Pronation)/ABSD data/2023_11_16_14_16_44_04of07.dt5\u001b[0m\n",
            "\u001b[32m2024-10-18 02:32:15.631\u001b[0m | \u001b[1mINFO    \u001b[0m | \u001b[36mlighthouse.data_loader.load_chuv\u001b[0m:\u001b[36mconcatenate_dt5\u001b[0m:\u001b[36m497\u001b[0m - \u001b[1mLoading /Volumes/__UP2/0_RAW_DATA/UP2_001/UP2001_2023_11_16_BSITraining_day20/wisci/2023_11_16_14_14_43 (rec4_Pronation)/ABSD data/2023_11_16_14_16_44_05of07.dt5\u001b[0m\n",
            "\u001b[32m2024-10-18 02:32:46.271\u001b[0m | \u001b[1mINFO    \u001b[0m | \u001b[36mlighthouse.data_loader.load_chuv\u001b[0m:\u001b[36mconcatenate_dt5\u001b[0m:\u001b[36m497\u001b[0m - \u001b[1mLoading /Volumes/__UP2/0_RAW_DATA/UP2_001/UP2001_2023_11_16_BSITraining_day20/wisci/2023_11_16_14_14_43 (rec4_Pronation)/ABSD data/2023_11_16_14_16_44_06of07.dt5\u001b[0m\n",
            "\u001b[32m2024-10-18 02:33:20.264\u001b[0m | \u001b[1mINFO    \u001b[0m | \u001b[36mlighthouse.data_loader.load_chuv\u001b[0m:\u001b[36mconcatenate_dt5\u001b[0m:\u001b[36m497\u001b[0m - \u001b[1mLoading /Volumes/__UP2/0_RAW_DATA/UP2_001/UP2001_2023_11_16_BSITraining_day20/wisci/2023_11_16_14_14_43 (rec4_Pronation)/ABSD data/2023_11_16_14_16_44_07of07.dt5\u001b[0m\n"
          ]
        },
        {
          "name": "stdout",
          "output_type": "stream",
          "text": [
            "Signals shape: (56, 1079523)\n",
            "New signal shape: (56, 55519)\n"
          ]
        },
        {
          "name": "stderr",
          "output_type": "stream",
          "text": [
            "\u001b[32m2024-10-18 02:33:23.292\u001b[0m | \u001b[1mINFO    \u001b[0m | \u001b[36mlighthouse.data_loader.load_chuv\u001b[0m:\u001b[36mconcatenate_dt5\u001b[0m:\u001b[36m497\u001b[0m - \u001b[1mLoading /Volumes/__UP2/0_RAW_DATA/UP2_001/UP2001_2023_11_16_BSITraining_day20/wisci/2023_11_16_15_04_27/ABSD data/2023_11_16_15_05_21_01of01.dt5\u001b[0m\n",
            "\u001b[32m2024-10-18 02:33:25.431\u001b[0m | \u001b[1mINFO    \u001b[0m | \u001b[36mlighthouse.data_loader.load_chuv\u001b[0m:\u001b[36mload_dt5\u001b[0m:\u001b[36m196\u001b[0m - \u001b[1mScenario Name: classBCIViewerAvatarAllDegreesCourtine\u001b[0m\n",
            "\u001b[32m2024-10-18 02:33:25.434\u001b[0m | \u001b[1mINFO    \u001b[0m | \u001b[36mlighthouse.data_loader.load_chuv\u001b[0m:\u001b[36mload_dt5\u001b[0m:\u001b[36m199\u001b[0m - \u001b[1mSub Scenario Name: classBSISubScenarioUpperJointsClassif\u001b[0m\n"
          ]
        },
        {
          "name": "stdout",
          "output_type": "stream",
          "text": [
            "Signals shape: (56, 17936)\n",
            "New signal shape: (56, 0)\n"
          ]
        },
        {
          "name": "stderr",
          "output_type": "stream",
          "text": [
            "\u001b[32m2024-10-18 02:33:26.257\u001b[0m | \u001b[1mINFO    \u001b[0m | \u001b[36mlighthouse.data_loader.load_chuv\u001b[0m:\u001b[36mconcatenate_dt5\u001b[0m:\u001b[36m497\u001b[0m - \u001b[1mLoading /Volumes/__UP2/0_RAW_DATA/UP2_001/UP2001_2023_11_16_BSITraining_day20/wisci/2023_11_16_15_06_10 (rec5_HandOpen)/ABSD data/2023_11_16_15_07_27_01of04.dt5\u001b[0m\n",
            "\u001b[32m2024-10-18 02:33:50.533\u001b[0m | \u001b[1mINFO    \u001b[0m | \u001b[36mlighthouse.data_loader.load_chuv\u001b[0m:\u001b[36mload_dt5\u001b[0m:\u001b[36m196\u001b[0m - \u001b[1mScenario Name: classBCIViewerAvatarAllDegreesCourtine\u001b[0m\n",
            "\u001b[32m2024-10-18 02:33:50.535\u001b[0m | \u001b[1mINFO    \u001b[0m | \u001b[36mlighthouse.data_loader.load_chuv\u001b[0m:\u001b[36mload_dt5\u001b[0m:\u001b[36m199\u001b[0m - \u001b[1mSub Scenario Name: classBSISubScenarioUpperJointsClassif\u001b[0m\n",
            "\u001b[32m2024-10-18 02:33:54.604\u001b[0m | \u001b[1mINFO    \u001b[0m | \u001b[36mlighthouse.data_loader.load_chuv\u001b[0m:\u001b[36mconcatenate_dt5\u001b[0m:\u001b[36m497\u001b[0m - \u001b[1mLoading /Volumes/__UP2/0_RAW_DATA/UP2_001/UP2001_2023_11_16_BSITraining_day20/wisci/2023_11_16_15_06_10 (rec5_HandOpen)/ABSD data/2023_11_16_15_07_27_02of04.dt5\u001b[0m\n",
            "\u001b[32m2024-10-18 02:34:25.210\u001b[0m | \u001b[1mINFO    \u001b[0m | \u001b[36mlighthouse.data_loader.load_chuv\u001b[0m:\u001b[36mconcatenate_dt5\u001b[0m:\u001b[36m497\u001b[0m - \u001b[1mLoading /Volumes/__UP2/0_RAW_DATA/UP2_001/UP2001_2023_11_16_BSITraining_day20/wisci/2023_11_16_15_06_10 (rec5_HandOpen)/ABSD data/2023_11_16_15_07_27_03of04.dt5\u001b[0m\n",
            "\u001b[32m2024-10-18 02:34:53.892\u001b[0m | \u001b[1mINFO    \u001b[0m | \u001b[36mlighthouse.data_loader.load_chuv\u001b[0m:\u001b[36mconcatenate_dt5\u001b[0m:\u001b[36m497\u001b[0m - \u001b[1mLoading /Volumes/__UP2/0_RAW_DATA/UP2_001/UP2001_2023_11_16_BSITraining_day20/wisci/2023_11_16_15_06_10 (rec5_HandOpen)/ABSD data/2023_11_16_15_07_27_04of04.dt5\u001b[0m\n"
          ]
        },
        {
          "name": "stdout",
          "output_type": "stream",
          "text": [
            "Signals shape: (56, 667703)\n",
            "New signal shape: (56, 57997)\n",
            "length of data: 46\n"
          ]
        },
        {
          "name": "stderr",
          "output_type": "stream",
          "text": [
            " 22%|██▏       | 14/65 [2:26:43<9:07:35, 644.22s/it]"
          ]
        },
        {
          "name": "stdout",
          "output_type": "stream",
          "text": [
            "Checkpoint saved after session 13\n",
            "Current session: (PosixPath('/Volumes/__UP2/0_RAW_DATA/UP2_001/UP2001_2023_11_17_BSITraining_day21'), 14)\n"
          ]
        },
        {
          "name": "stderr",
          "output_type": "stream",
          "text": [
            "\u001b[32m2024-10-18 02:35:28.046\u001b[0m | \u001b[1mINFO    \u001b[0m | \u001b[36mlighthouse.data_loader.load_chuv\u001b[0m:\u001b[36mconcatenate_dt5\u001b[0m:\u001b[36m497\u001b[0m - \u001b[1mLoading /Volumes/__UP2/0_RAW_DATA/UP2_001/UP2001_2023_11_17_BSITraining_day21/wisci/wisci/2023_11_17_14_09_22 (rec1_HandOpen(update)_Pronation)/ABSD data/2023_11_17_14_12_18_01of16.dt5\u001b[0m\n",
            "\u001b[32m2024-10-18 02:35:52.413\u001b[0m | \u001b[1mINFO    \u001b[0m | \u001b[36mlighthouse.data_loader.load_chuv\u001b[0m:\u001b[36mload_dt5\u001b[0m:\u001b[36m196\u001b[0m - \u001b[1mScenario Name: classBCIViewerAvatarAllDegreesCourtine\u001b[0m\n",
            "\u001b[32m2024-10-18 02:35:52.419\u001b[0m | \u001b[1mINFO    \u001b[0m | \u001b[36mlighthouse.data_loader.load_chuv\u001b[0m:\u001b[36mload_dt5\u001b[0m:\u001b[36m199\u001b[0m - \u001b[1mSub Scenario Name: classBSISubScenarioUpperJointsClassif\u001b[0m\n",
            "\u001b[32m2024-10-18 02:35:56.879\u001b[0m | \u001b[1mINFO    \u001b[0m | \u001b[36mlighthouse.data_loader.load_chuv\u001b[0m:\u001b[36mconcatenate_dt5\u001b[0m:\u001b[36m497\u001b[0m - \u001b[1mLoading /Volumes/__UP2/0_RAW_DATA/UP2_001/UP2001_2023_11_17_BSITraining_day21/wisci/wisci/2023_11_17_14_09_22 (rec1_HandOpen(update)_Pronation)/ABSD data/2023_11_17_14_12_18_02of16.dt5\u001b[0m\n",
            "\u001b[32m2024-10-18 02:36:27.656\u001b[0m | \u001b[1mINFO    \u001b[0m | \u001b[36mlighthouse.data_loader.load_chuv\u001b[0m:\u001b[36mconcatenate_dt5\u001b[0m:\u001b[36m497\u001b[0m - \u001b[1mLoading /Volumes/__UP2/0_RAW_DATA/UP2_001/UP2001_2023_11_17_BSITraining_day21/wisci/wisci/2023_11_17_14_09_22 (rec1_HandOpen(update)_Pronation)/ABSD data/2023_11_17_14_12_18_03of16.dt5\u001b[0m\n",
            "\u001b[32m2024-10-18 02:36:56.902\u001b[0m | \u001b[1mINFO    \u001b[0m | \u001b[36mlighthouse.data_loader.load_chuv\u001b[0m:\u001b[36mconcatenate_dt5\u001b[0m:\u001b[36m497\u001b[0m - \u001b[1mLoading /Volumes/__UP2/0_RAW_DATA/UP2_001/UP2001_2023_11_17_BSITraining_day21/wisci/wisci/2023_11_17_14_09_22 (rec1_HandOpen(update)_Pronation)/ABSD data/2023_11_17_14_12_18_04of16.dt5\u001b[0m\n",
            "\u001b[32m2024-10-18 02:37:22.283\u001b[0m | \u001b[1mINFO    \u001b[0m | \u001b[36mlighthouse.data_loader.load_chuv\u001b[0m:\u001b[36mconcatenate_dt5\u001b[0m:\u001b[36m497\u001b[0m - \u001b[1mLoading /Volumes/__UP2/0_RAW_DATA/UP2_001/UP2001_2023_11_17_BSITraining_day21/wisci/wisci/2023_11_17_14_09_22 (rec1_HandOpen(update)_Pronation)/ABSD data/2023_11_17_14_12_18_05of16.dt5\u001b[0m\n",
            "\u001b[32m2024-10-18 02:37:47.049\u001b[0m | \u001b[1mINFO    \u001b[0m | \u001b[36mlighthouse.data_loader.load_chuv\u001b[0m:\u001b[36mconcatenate_dt5\u001b[0m:\u001b[36m497\u001b[0m - \u001b[1mLoading /Volumes/__UP2/0_RAW_DATA/UP2_001/UP2001_2023_11_17_BSITraining_day21/wisci/wisci/2023_11_17_14_09_22 (rec1_HandOpen(update)_Pronation)/ABSD data/2023_11_17_14_12_18_06of16.dt5\u001b[0m\n",
            "\u001b[32m2024-10-18 02:38:13.280\u001b[0m | \u001b[1mINFO    \u001b[0m | \u001b[36mlighthouse.data_loader.load_chuv\u001b[0m:\u001b[36mconcatenate_dt5\u001b[0m:\u001b[36m497\u001b[0m - \u001b[1mLoading /Volumes/__UP2/0_RAW_DATA/UP2_001/UP2001_2023_11_17_BSITraining_day21/wisci/wisci/2023_11_17_14_09_22 (rec1_HandOpen(update)_Pronation)/ABSD data/2023_11_17_14_12_18_07of16.dt5\u001b[0m\n",
            "\u001b[32m2024-10-18 02:38:37.899\u001b[0m | \u001b[1mINFO    \u001b[0m | \u001b[36mlighthouse.data_loader.load_chuv\u001b[0m:\u001b[36mconcatenate_dt5\u001b[0m:\u001b[36m497\u001b[0m - \u001b[1mLoading /Volumes/__UP2/0_RAW_DATA/UP2_001/UP2001_2023_11_17_BSITraining_day21/wisci/wisci/2023_11_17_14_09_22 (rec1_HandOpen(update)_Pronation)/ABSD data/2023_11_17_14_12_18_08of16.dt5\u001b[0m\n",
            "\u001b[32m2024-10-18 02:39:02.313\u001b[0m | \u001b[1mINFO    \u001b[0m | \u001b[36mlighthouse.data_loader.load_chuv\u001b[0m:\u001b[36mconcatenate_dt5\u001b[0m:\u001b[36m497\u001b[0m - \u001b[1mLoading /Volumes/__UP2/0_RAW_DATA/UP2_001/UP2001_2023_11_17_BSITraining_day21/wisci/wisci/2023_11_17_14_09_22 (rec1_HandOpen(update)_Pronation)/ABSD data/2023_11_17_14_12_18_09of16.dt5\u001b[0m\n",
            "\u001b[32m2024-10-18 02:39:27.478\u001b[0m | \u001b[1mINFO    \u001b[0m | \u001b[36mlighthouse.data_loader.load_chuv\u001b[0m:\u001b[36mconcatenate_dt5\u001b[0m:\u001b[36m497\u001b[0m - \u001b[1mLoading /Volumes/__UP2/0_RAW_DATA/UP2_001/UP2001_2023_11_17_BSITraining_day21/wisci/wisci/2023_11_17_14_09_22 (rec1_HandOpen(update)_Pronation)/ABSD data/2023_11_17_14_12_18_10of16.dt5\u001b[0m\n",
            "\u001b[32m2024-10-18 02:39:54.112\u001b[0m | \u001b[1mINFO    \u001b[0m | \u001b[36mlighthouse.data_loader.load_chuv\u001b[0m:\u001b[36mconcatenate_dt5\u001b[0m:\u001b[36m497\u001b[0m - \u001b[1mLoading /Volumes/__UP2/0_RAW_DATA/UP2_001/UP2001_2023_11_17_BSITraining_day21/wisci/wisci/2023_11_17_14_09_22 (rec1_HandOpen(update)_Pronation)/ABSD data/2023_11_17_14_12_18_11of16.dt5\u001b[0m\n",
            "\u001b[32m2024-10-18 02:40:20.453\u001b[0m | \u001b[1mINFO    \u001b[0m | \u001b[36mlighthouse.data_loader.load_chuv\u001b[0m:\u001b[36mconcatenate_dt5\u001b[0m:\u001b[36m497\u001b[0m - \u001b[1mLoading /Volumes/__UP2/0_RAW_DATA/UP2_001/UP2001_2023_11_17_BSITraining_day21/wisci/wisci/2023_11_17_14_09_22 (rec1_HandOpen(update)_Pronation)/ABSD data/2023_11_17_14_12_18_12of16.dt5\u001b[0m\n",
            "\u001b[32m2024-10-18 02:40:47.418\u001b[0m | \u001b[1mINFO    \u001b[0m | \u001b[36mlighthouse.data_loader.load_chuv\u001b[0m:\u001b[36mconcatenate_dt5\u001b[0m:\u001b[36m497\u001b[0m - \u001b[1mLoading /Volumes/__UP2/0_RAW_DATA/UP2_001/UP2001_2023_11_17_BSITraining_day21/wisci/wisci/2023_11_17_14_09_22 (rec1_HandOpen(update)_Pronation)/ABSD data/2023_11_17_14_12_18_13of16.dt5\u001b[0m\n",
            "\u001b[32m2024-10-18 02:41:12.839\u001b[0m | \u001b[1mINFO    \u001b[0m | \u001b[36mlighthouse.data_loader.load_chuv\u001b[0m:\u001b[36mconcatenate_dt5\u001b[0m:\u001b[36m497\u001b[0m - \u001b[1mLoading /Volumes/__UP2/0_RAW_DATA/UP2_001/UP2001_2023_11_17_BSITraining_day21/wisci/wisci/2023_11_17_14_09_22 (rec1_HandOpen(update)_Pronation)/ABSD data/2023_11_17_14_12_18_14of16.dt5\u001b[0m\n",
            "\u001b[32m2024-10-18 02:41:40.387\u001b[0m | \u001b[1mINFO    \u001b[0m | \u001b[36mlighthouse.data_loader.load_chuv\u001b[0m:\u001b[36mconcatenate_dt5\u001b[0m:\u001b[36m497\u001b[0m - \u001b[1mLoading /Volumes/__UP2/0_RAW_DATA/UP2_001/UP2001_2023_11_17_BSITraining_day21/wisci/wisci/2023_11_17_14_09_22 (rec1_HandOpen(update)_Pronation)/ABSD data/2023_11_17_14_12_18_15of16.dt5\u001b[0m\n",
            "\u001b[32m2024-10-18 02:42:06.462\u001b[0m | \u001b[1mINFO    \u001b[0m | \u001b[36mlighthouse.data_loader.load_chuv\u001b[0m:\u001b[36mconcatenate_dt5\u001b[0m:\u001b[36m497\u001b[0m - \u001b[1mLoading /Volumes/__UP2/0_RAW_DATA/UP2_001/UP2001_2023_11_17_BSITraining_day21/wisci/wisci/2023_11_17_14_09_22 (rec1_HandOpen(update)_Pronation)/ABSD data/2023_11_17_14_12_18_16of16.dt5\u001b[0m\n"
          ]
        },
        {
          "name": "stdout",
          "output_type": "stream",
          "text": [
            "Signals shape: (56, 2678954)\n",
            "New signal shape: (56, 112690)\n"
          ]
        },
        {
          "name": "stderr",
          "output_type": "stream",
          "text": [
            "\u001b[32m2024-10-18 02:42:13.009\u001b[0m | \u001b[1mINFO    \u001b[0m | \u001b[36mlighthouse.data_loader.load_chuv\u001b[0m:\u001b[36mconcatenate_dt5\u001b[0m:\u001b[36m497\u001b[0m - \u001b[1mLoading /Volumes/__UP2/0_RAW_DATA/UP2_001/UP2001_2023_11_17_BSITraining_day21/wisci/wisci/2023_11_17_15_30_23 (rec2_Elbow_Shoulder)/ABSD data/2023_11_17_15_32_32_01of05.dt5\u001b[0m\n",
            "\u001b[32m2024-10-18 02:42:57.673\u001b[0m | \u001b[1mINFO    \u001b[0m | \u001b[36mlighthouse.data_loader.load_chuv\u001b[0m:\u001b[36mload_dt5\u001b[0m:\u001b[36m196\u001b[0m - \u001b[1mScenario Name: classBCIViewerAvatarAllDegreesCourtine\u001b[0m\n",
            "\u001b[32m2024-10-18 02:42:57.677\u001b[0m | \u001b[1mINFO    \u001b[0m | \u001b[36mlighthouse.data_loader.load_chuv\u001b[0m:\u001b[36mload_dt5\u001b[0m:\u001b[36m199\u001b[0m - \u001b[1mSub Scenario Name: classBSISubScenarioUpperJointsClassif\u001b[0m\n",
            "\u001b[32m2024-10-18 02:43:02.553\u001b[0m | \u001b[1mINFO    \u001b[0m | \u001b[36mlighthouse.data_loader.load_chuv\u001b[0m:\u001b[36mconcatenate_dt5\u001b[0m:\u001b[36m497\u001b[0m - \u001b[1mLoading /Volumes/__UP2/0_RAW_DATA/UP2_001/UP2001_2023_11_17_BSITraining_day21/wisci/wisci/2023_11_17_15_30_23 (rec2_Elbow_Shoulder)/ABSD data/2023_11_17_15_32_32_02of05.dt5\u001b[0m\n",
            "\u001b[32m2024-10-18 02:43:29.504\u001b[0m | \u001b[1mINFO    \u001b[0m | \u001b[36mlighthouse.data_loader.load_chuv\u001b[0m:\u001b[36mconcatenate_dt5\u001b[0m:\u001b[36m497\u001b[0m - \u001b[1mLoading /Volumes/__UP2/0_RAW_DATA/UP2_001/UP2001_2023_11_17_BSITraining_day21/wisci/wisci/2023_11_17_15_30_23 (rec2_Elbow_Shoulder)/ABSD data/2023_11_17_15_32_32_03of05.dt5\u001b[0m\n",
            "\u001b[32m2024-10-18 02:44:14.795\u001b[0m | \u001b[1mINFO    \u001b[0m | \u001b[36mlighthouse.data_loader.load_chuv\u001b[0m:\u001b[36mconcatenate_dt5\u001b[0m:\u001b[36m497\u001b[0m - \u001b[1mLoading /Volumes/__UP2/0_RAW_DATA/UP2_001/UP2001_2023_11_17_BSITraining_day21/wisci/wisci/2023_11_17_15_30_23 (rec2_Elbow_Shoulder)/ABSD data/2023_11_17_15_32_32_04of05.dt5\u001b[0m\n",
            "\u001b[32m2024-10-18 02:44:40.234\u001b[0m | \u001b[1mINFO    \u001b[0m | \u001b[36mlighthouse.data_loader.load_chuv\u001b[0m:\u001b[36mconcatenate_dt5\u001b[0m:\u001b[36m497\u001b[0m - \u001b[1mLoading /Volumes/__UP2/0_RAW_DATA/UP2_001/UP2001_2023_11_17_BSITraining_day21/wisci/wisci/2023_11_17_15_30_23 (rec2_Elbow_Shoulder)/ABSD data/2023_11_17_15_32_32_05of05.dt5\u001b[0m\n"
          ]
        },
        {
          "name": "stdout",
          "output_type": "stream",
          "text": [
            "Signals shape: (56, 720626)\n",
            "New signal shape: (56, 0)\n",
            "length of data: 48\n"
          ]
        },
        {
          "name": "stderr",
          "output_type": "stream",
          "text": [
            " 23%|██▎       | 15/65 [2:36:12<8:37:52, 621.45s/it]"
          ]
        },
        {
          "name": "stdout",
          "output_type": "stream",
          "text": [
            "Checkpoint saved after session 14\n",
            "Current session: (PosixPath('/Volumes/__UP2/0_RAW_DATA/UP2_001/UP2001_2023_11_21_Rehabilitation_day1_hand'), 15)\n"
          ]
        },
        {
          "name": "stderr",
          "output_type": "stream",
          "text": [
            "\u001b[32m2024-10-18 02:44:58.120\u001b[0m | \u001b[1mINFO    \u001b[0m | \u001b[36mlighthouse.data_loader.load_chuv\u001b[0m:\u001b[36mconcatenate_dt5\u001b[0m:\u001b[36m497\u001b[0m - \u001b[1mLoading /Volumes/__UP2/0_RAW_DATA/UP2_001/UP2001_2023_11_21_Rehabilitation_day1_hand/wisci/ABSD data/2023_11_21_10_45_42_01of07.dt5\u001b[0m\n",
            "\u001b[32m2024-10-18 02:45:26.221\u001b[0m | \u001b[1mINFO    \u001b[0m | \u001b[36mlighthouse.data_loader.load_chuv\u001b[0m:\u001b[36mload_dt5\u001b[0m:\u001b[36m196\u001b[0m - \u001b[1mScenario Name: classBCIViewerAvatarAllDegreesCourtine\u001b[0m\n",
            "\u001b[32m2024-10-18 02:45:26.226\u001b[0m | \u001b[1mINFO    \u001b[0m | \u001b[36mlighthouse.data_loader.load_chuv\u001b[0m:\u001b[36mload_dt5\u001b[0m:\u001b[36m199\u001b[0m - \u001b[1mSub Scenario Name: classBSISubScenarioUpperJointsClassif\u001b[0m\n",
            "\u001b[32m2024-10-18 02:45:30.991\u001b[0m | \u001b[1mINFO    \u001b[0m | \u001b[36mlighthouse.data_loader.load_chuv\u001b[0m:\u001b[36mconcatenate_dt5\u001b[0m:\u001b[36m497\u001b[0m - \u001b[1mLoading /Volumes/__UP2/0_RAW_DATA/UP2_001/UP2001_2023_11_21_Rehabilitation_day1_hand/wisci/ABSD data/2023_11_21_10_45_42_02of07.dt5\u001b[0m\n",
            "\u001b[32m2024-10-18 02:46:07.843\u001b[0m | \u001b[1mINFO    \u001b[0m | \u001b[36mlighthouse.data_loader.load_chuv\u001b[0m:\u001b[36mconcatenate_dt5\u001b[0m:\u001b[36m497\u001b[0m - \u001b[1mLoading /Volumes/__UP2/0_RAW_DATA/UP2_001/UP2001_2023_11_21_Rehabilitation_day1_hand/wisci/ABSD data/2023_11_21_10_45_42_03of07.dt5\u001b[0m\n",
            "\u001b[32m2024-10-18 02:46:46.967\u001b[0m | \u001b[1mINFO    \u001b[0m | \u001b[36mlighthouse.data_loader.load_chuv\u001b[0m:\u001b[36mconcatenate_dt5\u001b[0m:\u001b[36m497\u001b[0m - \u001b[1mLoading /Volumes/__UP2/0_RAW_DATA/UP2_001/UP2001_2023_11_21_Rehabilitation_day1_hand/wisci/ABSD data/2023_11_21_10_45_42_04of07.dt5\u001b[0m\n",
            "\u001b[32m2024-10-18 02:47:19.085\u001b[0m | \u001b[1mINFO    \u001b[0m | \u001b[36mlighthouse.data_loader.load_chuv\u001b[0m:\u001b[36mconcatenate_dt5\u001b[0m:\u001b[36m497\u001b[0m - \u001b[1mLoading /Volumes/__UP2/0_RAW_DATA/UP2_001/UP2001_2023_11_21_Rehabilitation_day1_hand/wisci/ABSD data/2023_11_21_10_45_42_05of07.dt5\u001b[0m\n",
            "\u001b[32m2024-10-18 02:47:54.785\u001b[0m | \u001b[1mINFO    \u001b[0m | \u001b[36mlighthouse.data_loader.load_chuv\u001b[0m:\u001b[36mconcatenate_dt5\u001b[0m:\u001b[36m497\u001b[0m - \u001b[1mLoading /Volumes/__UP2/0_RAW_DATA/UP2_001/UP2001_2023_11_21_Rehabilitation_day1_hand/wisci/ABSD data/2023_11_21_10_45_42_06of07.dt5\u001b[0m\n",
            "\u001b[32m2024-10-18 02:48:28.589\u001b[0m | \u001b[1mINFO    \u001b[0m | \u001b[36mlighthouse.data_loader.load_chuv\u001b[0m:\u001b[36mconcatenate_dt5\u001b[0m:\u001b[36m497\u001b[0m - \u001b[1mLoading /Volumes/__UP2/0_RAW_DATA/UP2_001/UP2001_2023_11_21_Rehabilitation_day1_hand/wisci/ABSD data/2023_11_21_10_45_42_07of07.dt5\u001b[0m\n"
          ]
        },
        {
          "name": "stdout",
          "output_type": "stream",
          "text": [
            "Signals shape: (79, 1073623)\n",
            "New signal shape: (79, 0)\n"
          ]
        },
        {
          "name": "stderr",
          "output_type": "stream",
          "text": [
            "\u001b[32m2024-10-18 02:48:32.648\u001b[0m | \u001b[1mINFO    \u001b[0m | \u001b[36mlighthouse.data_loader.load_chuv\u001b[0m:\u001b[36mconcatenate_dt5\u001b[0m:\u001b[36m497\u001b[0m - \u001b[1mLoading /Volumes/__UP2/0_RAW_DATA/UP2_001/UP2001_2023_11_21_Rehabilitation_day1_hand/wisci/2023_11_21_14_25_31 (rec1)/ABSD data/2023_11_21_14_29_02_01of15.dt5\u001b[0m\n",
            "\u001b[32m2024-10-18 02:49:02.193\u001b[0m | \u001b[1mINFO    \u001b[0m | \u001b[36mlighthouse.data_loader.load_chuv\u001b[0m:\u001b[36mload_dt5\u001b[0m:\u001b[36m196\u001b[0m - \u001b[1mScenario Name: classBCIViewerAvatarAllDegreesCourtine\u001b[0m\n",
            "\u001b[32m2024-10-18 02:49:02.199\u001b[0m | \u001b[1mINFO    \u001b[0m | \u001b[36mlighthouse.data_loader.load_chuv\u001b[0m:\u001b[36mload_dt5\u001b[0m:\u001b[36m199\u001b[0m - \u001b[1mSub Scenario Name: classBSISubScenarioUpperJointsClassif\u001b[0m\n",
            "\u001b[32m2024-10-18 02:49:06.350\u001b[0m | \u001b[1mINFO    \u001b[0m | \u001b[36mlighthouse.data_loader.load_chuv\u001b[0m:\u001b[36mconcatenate_dt5\u001b[0m:\u001b[36m497\u001b[0m - \u001b[1mLoading /Volumes/__UP2/0_RAW_DATA/UP2_001/UP2001_2023_11_21_Rehabilitation_day1_hand/wisci/2023_11_21_14_25_31 (rec1)/ABSD data/2023_11_21_14_29_02_02of15.dt5\u001b[0m\n",
            "\u001b[32m2024-10-18 02:49:41.076\u001b[0m | \u001b[1mINFO    \u001b[0m | \u001b[36mlighthouse.data_loader.load_chuv\u001b[0m:\u001b[36mconcatenate_dt5\u001b[0m:\u001b[36m497\u001b[0m - \u001b[1mLoading /Volumes/__UP2/0_RAW_DATA/UP2_001/UP2001_2023_11_21_Rehabilitation_day1_hand/wisci/2023_11_21_14_25_31 (rec1)/ABSD data/2023_11_21_14_29_02_03of15.dt5\u001b[0m\n",
            "\u001b[32m2024-10-18 02:50:18.168\u001b[0m | \u001b[1mINFO    \u001b[0m | \u001b[36mlighthouse.data_loader.load_chuv\u001b[0m:\u001b[36mconcatenate_dt5\u001b[0m:\u001b[36m497\u001b[0m - \u001b[1mLoading /Volumes/__UP2/0_RAW_DATA/UP2_001/UP2001_2023_11_21_Rehabilitation_day1_hand/wisci/2023_11_21_14_25_31 (rec1)/ABSD data/2023_11_21_14_29_02_04of15.dt5\u001b[0m\n",
            "\u001b[32m2024-10-18 02:50:51.345\u001b[0m | \u001b[1mINFO    \u001b[0m | \u001b[36mlighthouse.data_loader.load_chuv\u001b[0m:\u001b[36mconcatenate_dt5\u001b[0m:\u001b[36m497\u001b[0m - \u001b[1mLoading /Volumes/__UP2/0_RAW_DATA/UP2_001/UP2001_2023_11_21_Rehabilitation_day1_hand/wisci/2023_11_21_14_25_31 (rec1)/ABSD data/2023_11_21_14_29_02_05of15.dt5\u001b[0m\n",
            "\u001b[32m2024-10-18 02:51:26.816\u001b[0m | \u001b[1mINFO    \u001b[0m | \u001b[36mlighthouse.data_loader.load_chuv\u001b[0m:\u001b[36mconcatenate_dt5\u001b[0m:\u001b[36m497\u001b[0m - \u001b[1mLoading /Volumes/__UP2/0_RAW_DATA/UP2_001/UP2001_2023_11_21_Rehabilitation_day1_hand/wisci/2023_11_21_14_25_31 (rec1)/ABSD data/2023_11_21_14_29_02_06of15.dt5\u001b[0m\n",
            "\u001b[32m2024-10-18 02:51:59.622\u001b[0m | \u001b[1mINFO    \u001b[0m | \u001b[36mlighthouse.data_loader.load_chuv\u001b[0m:\u001b[36mconcatenate_dt5\u001b[0m:\u001b[36m497\u001b[0m - \u001b[1mLoading /Volumes/__UP2/0_RAW_DATA/UP2_001/UP2001_2023_11_21_Rehabilitation_day1_hand/wisci/2023_11_21_14_25_31 (rec1)/ABSD data/2023_11_21_14_29_02_07of15.dt5\u001b[0m\n",
            "\u001b[32m2024-10-18 02:52:32.489\u001b[0m | \u001b[1mINFO    \u001b[0m | \u001b[36mlighthouse.data_loader.load_chuv\u001b[0m:\u001b[36mconcatenate_dt5\u001b[0m:\u001b[36m497\u001b[0m - \u001b[1mLoading /Volumes/__UP2/0_RAW_DATA/UP2_001/UP2001_2023_11_21_Rehabilitation_day1_hand/wisci/2023_11_21_14_25_31 (rec1)/ABSD data/2023_11_21_14_29_02_08of15.dt5\u001b[0m\n",
            "\u001b[32m2024-10-18 02:53:06.308\u001b[0m | \u001b[1mINFO    \u001b[0m | \u001b[36mlighthouse.data_loader.load_chuv\u001b[0m:\u001b[36mconcatenate_dt5\u001b[0m:\u001b[36m497\u001b[0m - \u001b[1mLoading /Volumes/__UP2/0_RAW_DATA/UP2_001/UP2001_2023_11_21_Rehabilitation_day1_hand/wisci/2023_11_21_14_25_31 (rec1)/ABSD data/2023_11_21_14_29_02_09of15.dt5\u001b[0m\n",
            "\u001b[32m2024-10-18 02:53:39.916\u001b[0m | \u001b[1mINFO    \u001b[0m | \u001b[36mlighthouse.data_loader.load_chuv\u001b[0m:\u001b[36mconcatenate_dt5\u001b[0m:\u001b[36m497\u001b[0m - \u001b[1mLoading /Volumes/__UP2/0_RAW_DATA/UP2_001/UP2001_2023_11_21_Rehabilitation_day1_hand/wisci/2023_11_21_14_25_31 (rec1)/ABSD data/2023_11_21_14_29_02_10of15.dt5\u001b[0m\n",
            "\u001b[32m2024-10-18 02:54:14.311\u001b[0m | \u001b[1mINFO    \u001b[0m | \u001b[36mlighthouse.data_loader.load_chuv\u001b[0m:\u001b[36mconcatenate_dt5\u001b[0m:\u001b[36m497\u001b[0m - \u001b[1mLoading /Volumes/__UP2/0_RAW_DATA/UP2_001/UP2001_2023_11_21_Rehabilitation_day1_hand/wisci/2023_11_21_14_25_31 (rec1)/ABSD data/2023_11_21_14_29_02_11of15.dt5\u001b[0m\n",
            "\u001b[32m2024-10-18 02:54:53.117\u001b[0m | \u001b[1mINFO    \u001b[0m | \u001b[36mlighthouse.data_loader.load_chuv\u001b[0m:\u001b[36mconcatenate_dt5\u001b[0m:\u001b[36m497\u001b[0m - \u001b[1mLoading /Volumes/__UP2/0_RAW_DATA/UP2_001/UP2001_2023_11_21_Rehabilitation_day1_hand/wisci/2023_11_21_14_25_31 (rec1)/ABSD data/2023_11_21_14_29_02_12of15.dt5\u001b[0m\n",
            "\u001b[32m2024-10-18 02:55:29.489\u001b[0m | \u001b[1mINFO    \u001b[0m | \u001b[36mlighthouse.data_loader.load_chuv\u001b[0m:\u001b[36mconcatenate_dt5\u001b[0m:\u001b[36m497\u001b[0m - \u001b[1mLoading /Volumes/__UP2/0_RAW_DATA/UP2_001/UP2001_2023_11_21_Rehabilitation_day1_hand/wisci/2023_11_21_14_25_31 (rec1)/ABSD data/2023_11_21_14_29_02_13of15.dt5\u001b[0m\n",
            "\u001b[32m2024-10-18 02:56:05.008\u001b[0m | \u001b[1mINFO    \u001b[0m | \u001b[36mlighthouse.data_loader.load_chuv\u001b[0m:\u001b[36mconcatenate_dt5\u001b[0m:\u001b[36m497\u001b[0m - \u001b[1mLoading /Volumes/__UP2/0_RAW_DATA/UP2_001/UP2001_2023_11_21_Rehabilitation_day1_hand/wisci/2023_11_21_14_25_31 (rec1)/ABSD data/2023_11_21_14_29_02_14of15.dt5\u001b[0m\n",
            "\u001b[32m2024-10-18 02:56:41.519\u001b[0m | \u001b[1mINFO    \u001b[0m | \u001b[36mlighthouse.data_loader.load_chuv\u001b[0m:\u001b[36mconcatenate_dt5\u001b[0m:\u001b[36m497\u001b[0m - \u001b[1mLoading /Volumes/__UP2/0_RAW_DATA/UP2_001/UP2001_2023_11_21_Rehabilitation_day1_hand/wisci/2023_11_21_14_25_31 (rec1)/ABSD data/2023_11_21_14_29_02_15of15.dt5\u001b[0m\n"
          ]
        },
        {
          "name": "stdout",
          "output_type": "stream",
          "text": [
            "Signals shape: (56, 2519241)\n",
            "New signal shape: (56, 331757)\n",
            "length of data: 50\n"
          ]
        },
        {
          "name": "stderr",
          "output_type": "stream",
          "text": [
            " 25%|██▍       | 16/65 [2:48:23<8:54:37, 654.65s/it]"
          ]
        },
        {
          "name": "stdout",
          "output_type": "stream",
          "text": [
            "Checkpoint saved after session 15\n",
            "Current session: (PosixPath('/Volumes/__UP2/0_RAW_DATA/UP2_001/UP2001_2023_11_23_Rehabilitation_day3_Hand'), 16)\n"
          ]
        },
        {
          "name": "stderr",
          "output_type": "stream",
          "text": [
            "\u001b[32m2024-10-18 02:57:12.652\u001b[0m | \u001b[1mINFO    \u001b[0m | \u001b[36mlighthouse.data_loader.load_chuv\u001b[0m:\u001b[36mconcatenate_dt5\u001b[0m:\u001b[36m497\u001b[0m - \u001b[1mLoading /Volumes/__UP2/0_RAW_DATA/UP2_001/UP2001_2023_11_23_Rehabilitation_day3_Hand/wisci/2023_11_23_13_56_54 (rec1)/ABSD data/2023_11_23_14_04_29_01of22.dt5\u001b[0m\n",
            "\u001b[32m2024-10-18 02:57:40.155\u001b[0m | \u001b[1mINFO    \u001b[0m | \u001b[36mlighthouse.data_loader.load_chuv\u001b[0m:\u001b[36mload_dt5\u001b[0m:\u001b[36m196\u001b[0m - \u001b[1mScenario Name: classBCIViewerAvatarAllDegreesCourtine\u001b[0m\n",
            "\u001b[32m2024-10-18 02:57:40.167\u001b[0m | \u001b[1mINFO    \u001b[0m | \u001b[36mlighthouse.data_loader.load_chuv\u001b[0m:\u001b[36mload_dt5\u001b[0m:\u001b[36m199\u001b[0m - \u001b[1mSub Scenario Name: classBSISubScenarioUpperJointsClassif\u001b[0m\n",
            "\u001b[32m2024-10-18 02:57:44.525\u001b[0m | \u001b[1mINFO    \u001b[0m | \u001b[36mlighthouse.data_loader.load_chuv\u001b[0m:\u001b[36mconcatenate_dt5\u001b[0m:\u001b[36m497\u001b[0m - \u001b[1mLoading /Volumes/__UP2/0_RAW_DATA/UP2_001/UP2001_2023_11_23_Rehabilitation_day3_Hand/wisci/2023_11_23_13_56_54 (rec1)/ABSD data/2023_11_23_14_04_29_02of22.dt5\u001b[0m\n",
            "\u001b[32m2024-10-18 02:58:20.220\u001b[0m | \u001b[1mINFO    \u001b[0m | \u001b[36mlighthouse.data_loader.load_chuv\u001b[0m:\u001b[36mconcatenate_dt5\u001b[0m:\u001b[36m497\u001b[0m - \u001b[1mLoading /Volumes/__UP2/0_RAW_DATA/UP2_001/UP2001_2023_11_23_Rehabilitation_day3_Hand/wisci/2023_11_23_13_56_54 (rec1)/ABSD data/2023_11_23_14_04_29_03of22.dt5\u001b[0m\n",
            "\u001b[32m2024-10-18 02:58:52.693\u001b[0m | \u001b[1mINFO    \u001b[0m | \u001b[36mlighthouse.data_loader.load_chuv\u001b[0m:\u001b[36mconcatenate_dt5\u001b[0m:\u001b[36m497\u001b[0m - \u001b[1mLoading /Volumes/__UP2/0_RAW_DATA/UP2_001/UP2001_2023_11_23_Rehabilitation_day3_Hand/wisci/2023_11_23_13_56_54 (rec1)/ABSD data/2023_11_23_14_04_29_04of22.dt5\u001b[0m\n",
            "\u001b[32m2024-10-18 02:59:24.828\u001b[0m | \u001b[1mINFO    \u001b[0m | \u001b[36mlighthouse.data_loader.load_chuv\u001b[0m:\u001b[36mconcatenate_dt5\u001b[0m:\u001b[36m497\u001b[0m - \u001b[1mLoading /Volumes/__UP2/0_RAW_DATA/UP2_001/UP2001_2023_11_23_Rehabilitation_day3_Hand/wisci/2023_11_23_13_56_54 (rec1)/ABSD data/2023_11_23_14_04_29_05of22.dt5\u001b[0m\n",
            "\u001b[32m2024-10-18 03:00:01.394\u001b[0m | \u001b[1mINFO    \u001b[0m | \u001b[36mlighthouse.data_loader.load_chuv\u001b[0m:\u001b[36mconcatenate_dt5\u001b[0m:\u001b[36m497\u001b[0m - \u001b[1mLoading /Volumes/__UP2/0_RAW_DATA/UP2_001/UP2001_2023_11_23_Rehabilitation_day3_Hand/wisci/2023_11_23_13_56_54 (rec1)/ABSD data/2023_11_23_14_04_29_06of22.dt5\u001b[0m\n",
            "\u001b[32m2024-10-18 03:00:35.447\u001b[0m | \u001b[1mINFO    \u001b[0m | \u001b[36mlighthouse.data_loader.load_chuv\u001b[0m:\u001b[36mconcatenate_dt5\u001b[0m:\u001b[36m497\u001b[0m - \u001b[1mLoading /Volumes/__UP2/0_RAW_DATA/UP2_001/UP2001_2023_11_23_Rehabilitation_day3_Hand/wisci/2023_11_23_13_56_54 (rec1)/ABSD data/2023_11_23_14_04_29_07of22.dt5\u001b[0m\n",
            "\u001b[32m2024-10-18 03:01:08.120\u001b[0m | \u001b[1mINFO    \u001b[0m | \u001b[36mlighthouse.data_loader.load_chuv\u001b[0m:\u001b[36mconcatenate_dt5\u001b[0m:\u001b[36m497\u001b[0m - \u001b[1mLoading /Volumes/__UP2/0_RAW_DATA/UP2_001/UP2001_2023_11_23_Rehabilitation_day3_Hand/wisci/2023_11_23_13_56_54 (rec1)/ABSD data/2023_11_23_14_04_29_08of22.dt5\u001b[0m\n",
            "\u001b[32m2024-10-18 03:01:40.643\u001b[0m | \u001b[1mINFO    \u001b[0m | \u001b[36mlighthouse.data_loader.load_chuv\u001b[0m:\u001b[36mconcatenate_dt5\u001b[0m:\u001b[36m497\u001b[0m - \u001b[1mLoading /Volumes/__UP2/0_RAW_DATA/UP2_001/UP2001_2023_11_23_Rehabilitation_day3_Hand/wisci/2023_11_23_13_56_54 (rec1)/ABSD data/2023_11_23_14_04_29_09of22.dt5\u001b[0m\n",
            "\u001b[32m2024-10-18 03:02:15.068\u001b[0m | \u001b[1mINFO    \u001b[0m | \u001b[36mlighthouse.data_loader.load_chuv\u001b[0m:\u001b[36mconcatenate_dt5\u001b[0m:\u001b[36m497\u001b[0m - \u001b[1mLoading /Volumes/__UP2/0_RAW_DATA/UP2_001/UP2001_2023_11_23_Rehabilitation_day3_Hand/wisci/2023_11_23_13_56_54 (rec1)/ABSD data/2023_11_23_14_04_29_10of22.dt5\u001b[0m\n",
            "\u001b[32m2024-10-18 03:02:48.601\u001b[0m | \u001b[1mINFO    \u001b[0m | \u001b[36mlighthouse.data_loader.load_chuv\u001b[0m:\u001b[36mconcatenate_dt5\u001b[0m:\u001b[36m497\u001b[0m - \u001b[1mLoading /Volumes/__UP2/0_RAW_DATA/UP2_001/UP2001_2023_11_23_Rehabilitation_day3_Hand/wisci/2023_11_23_13_56_54 (rec1)/ABSD data/2023_11_23_14_04_29_11of22.dt5\u001b[0m\n",
            "\u001b[32m2024-10-18 03:03:20.593\u001b[0m | \u001b[1mINFO    \u001b[0m | \u001b[36mlighthouse.data_loader.load_chuv\u001b[0m:\u001b[36mconcatenate_dt5\u001b[0m:\u001b[36m497\u001b[0m - \u001b[1mLoading /Volumes/__UP2/0_RAW_DATA/UP2_001/UP2001_2023_11_23_Rehabilitation_day3_Hand/wisci/2023_11_23_13_56_54 (rec1)/ABSD data/2023_11_23_14_04_29_12of22.dt5\u001b[0m\n",
            "\u001b[32m2024-10-18 03:03:52.956\u001b[0m | \u001b[1mINFO    \u001b[0m | \u001b[36mlighthouse.data_loader.load_chuv\u001b[0m:\u001b[36mconcatenate_dt5\u001b[0m:\u001b[36m497\u001b[0m - \u001b[1mLoading /Volumes/__UP2/0_RAW_DATA/UP2_001/UP2001_2023_11_23_Rehabilitation_day3_Hand/wisci/2023_11_23_13_56_54 (rec1)/ABSD data/2023_11_23_14_04_29_13of22.dt5\u001b[0m\n",
            "\u001b[32m2024-10-18 03:04:25.350\u001b[0m | \u001b[1mINFO    \u001b[0m | \u001b[36mlighthouse.data_loader.load_chuv\u001b[0m:\u001b[36mconcatenate_dt5\u001b[0m:\u001b[36m497\u001b[0m - \u001b[1mLoading /Volumes/__UP2/0_RAW_DATA/UP2_001/UP2001_2023_11_23_Rehabilitation_day3_Hand/wisci/2023_11_23_13_56_54 (rec1)/ABSD data/2023_11_23_14_04_29_14of22.dt5\u001b[0m\n",
            "\u001b[32m2024-10-18 03:04:58.224\u001b[0m | \u001b[1mINFO    \u001b[0m | \u001b[36mlighthouse.data_loader.load_chuv\u001b[0m:\u001b[36mconcatenate_dt5\u001b[0m:\u001b[36m497\u001b[0m - \u001b[1mLoading /Volumes/__UP2/0_RAW_DATA/UP2_001/UP2001_2023_11_23_Rehabilitation_day3_Hand/wisci/2023_11_23_13_56_54 (rec1)/ABSD data/2023_11_23_14_04_29_15of22.dt5\u001b[0m\n",
            "\u001b[32m2024-10-18 03:05:33.355\u001b[0m | \u001b[1mINFO    \u001b[0m | \u001b[36mlighthouse.data_loader.load_chuv\u001b[0m:\u001b[36mconcatenate_dt5\u001b[0m:\u001b[36m497\u001b[0m - \u001b[1mLoading /Volumes/__UP2/0_RAW_DATA/UP2_001/UP2001_2023_11_23_Rehabilitation_day3_Hand/wisci/2023_11_23_13_56_54 (rec1)/ABSD data/2023_11_23_14_04_29_16of22.dt5\u001b[0m\n",
            "\u001b[32m2024-10-18 03:06:08.504\u001b[0m | \u001b[1mINFO    \u001b[0m | \u001b[36mlighthouse.data_loader.load_chuv\u001b[0m:\u001b[36mconcatenate_dt5\u001b[0m:\u001b[36m497\u001b[0m - \u001b[1mLoading /Volumes/__UP2/0_RAW_DATA/UP2_001/UP2001_2023_11_23_Rehabilitation_day3_Hand/wisci/2023_11_23_13_56_54 (rec1)/ABSD data/2023_11_23_14_04_29_17of22.dt5\u001b[0m\n",
            "\u001b[32m2024-10-18 03:06:44.223\u001b[0m | \u001b[1mINFO    \u001b[0m | \u001b[36mlighthouse.data_loader.load_chuv\u001b[0m:\u001b[36mconcatenate_dt5\u001b[0m:\u001b[36m497\u001b[0m - \u001b[1mLoading /Volumes/__UP2/0_RAW_DATA/UP2_001/UP2001_2023_11_23_Rehabilitation_day3_Hand/wisci/2023_11_23_13_56_54 (rec1)/ABSD data/2023_11_23_14_04_29_18of22.dt5\u001b[0m\n",
            "\u001b[32m2024-10-18 03:07:19.281\u001b[0m | \u001b[1mINFO    \u001b[0m | \u001b[36mlighthouse.data_loader.load_chuv\u001b[0m:\u001b[36mconcatenate_dt5\u001b[0m:\u001b[36m497\u001b[0m - \u001b[1mLoading /Volumes/__UP2/0_RAW_DATA/UP2_001/UP2001_2023_11_23_Rehabilitation_day3_Hand/wisci/2023_11_23_13_56_54 (rec1)/ABSD data/2023_11_23_14_04_29_19of22.dt5\u001b[0m\n",
            "\u001b[32m2024-10-18 03:07:52.493\u001b[0m | \u001b[1mINFO    \u001b[0m | \u001b[36mlighthouse.data_loader.load_chuv\u001b[0m:\u001b[36mconcatenate_dt5\u001b[0m:\u001b[36m497\u001b[0m - \u001b[1mLoading /Volumes/__UP2/0_RAW_DATA/UP2_001/UP2001_2023_11_23_Rehabilitation_day3_Hand/wisci/2023_11_23_13_56_54 (rec1)/ABSD data/2023_11_23_14_04_29_20of22.dt5\u001b[0m\n",
            "\u001b[32m2024-10-18 03:08:26.550\u001b[0m | \u001b[1mINFO    \u001b[0m | \u001b[36mlighthouse.data_loader.load_chuv\u001b[0m:\u001b[36mconcatenate_dt5\u001b[0m:\u001b[36m497\u001b[0m - \u001b[1mLoading /Volumes/__UP2/0_RAW_DATA/UP2_001/UP2001_2023_11_23_Rehabilitation_day3_Hand/wisci/2023_11_23_13_56_54 (rec1)/ABSD data/2023_11_23_14_04_29_21of22.dt5\u001b[0m\n",
            "\u001b[32m2024-10-18 03:08:59.861\u001b[0m | \u001b[1mINFO    \u001b[0m | \u001b[36mlighthouse.data_loader.load_chuv\u001b[0m:\u001b[36mconcatenate_dt5\u001b[0m:\u001b[36m497\u001b[0m - \u001b[1mLoading /Volumes/__UP2/0_RAW_DATA/UP2_001/UP2001_2023_11_23_Rehabilitation_day3_Hand/wisci/2023_11_23_13_56_54 (rec1)/ABSD data/2023_11_23_14_04_29_22of22.dt5\u001b[0m\n"
          ]
        },
        {
          "name": "stdout",
          "output_type": "stream",
          "text": [
            "Signals shape: (56, 3834528)\n",
            "New signal shape: (56, 494184)\n",
            "length of data: 51\n"
          ]
        },
        {
          "name": "stderr",
          "output_type": "stream",
          "text": [
            " 26%|██▌       | 17/65 [3:01:01<9:08:36, 685.75s/it]"
          ]
        },
        {
          "name": "stdout",
          "output_type": "stream",
          "text": [
            "Checkpoint saved after session 16\n",
            "Current session: (PosixPath('/Volumes/__UP2/0_RAW_DATA/UP2_001/UP2001_2023_11_22_Rehabilitation_day2_lowerLeadmapping'), 17)\n",
            "length of data: 51\n"
          ]
        },
        {
          "name": "stderr",
          "output_type": "stream",
          "text": [
            " 28%|██▊       | 18/65 [3:01:16<6:19:12, 484.10s/it]"
          ]
        },
        {
          "name": "stdout",
          "output_type": "stream",
          "text": [
            "Checkpoint saved after session 17\n",
            "Current session: (PosixPath('/Volumes/__UP2/0_RAW_DATA/UP2_001/UP2001_2023_11_29_Rehabilitation_day6'), 18)\n"
          ]
        },
        {
          "name": "stderr",
          "output_type": "stream",
          "text": [
            "\u001b[32m2024-10-18 03:10:10.231\u001b[0m | \u001b[1mINFO    \u001b[0m | \u001b[36mlighthouse.data_loader.load_chuv\u001b[0m:\u001b[36mconcatenate_dt5\u001b[0m:\u001b[36m497\u001b[0m - \u001b[1mLoading /Volumes/__UP2/0_RAW_DATA/UP2_001/UP2001_2023_11_29_Rehabilitation_day6/wisci/2023_11_29_14_35_41 (rec4)/ABSD data/2023_11_29_14_37_35_01of05.dt5\u001b[0m\n",
            "\u001b[32m2024-10-18 03:10:38.587\u001b[0m | \u001b[1mINFO    \u001b[0m | \u001b[36mlighthouse.data_loader.load_chuv\u001b[0m:\u001b[36mload_dt5\u001b[0m:\u001b[36m196\u001b[0m - \u001b[1mScenario Name: classBCIViewerAvatarAllDegreesCourtine\u001b[0m\n",
            "\u001b[32m2024-10-18 03:10:38.595\u001b[0m | \u001b[1mINFO    \u001b[0m | \u001b[36mlighthouse.data_loader.load_chuv\u001b[0m:\u001b[36mload_dt5\u001b[0m:\u001b[36m199\u001b[0m - \u001b[1mSub Scenario Name: classBSISubScenarioUpperJointsClassif\u001b[0m\n",
            "\u001b[32m2024-10-18 03:10:42.947\u001b[0m | \u001b[1mINFO    \u001b[0m | \u001b[36mlighthouse.data_loader.load_chuv\u001b[0m:\u001b[36mconcatenate_dt5\u001b[0m:\u001b[36m497\u001b[0m - \u001b[1mLoading /Volumes/__UP2/0_RAW_DATA/UP2_001/UP2001_2023_11_29_Rehabilitation_day6/wisci/2023_11_29_14_35_41 (rec4)/ABSD data/2023_11_29_14_37_35_02of05.dt5\u001b[0m\n",
            "\u001b[32m2024-10-18 03:11:15.343\u001b[0m | \u001b[1mINFO    \u001b[0m | \u001b[36mlighthouse.data_loader.load_chuv\u001b[0m:\u001b[36mconcatenate_dt5\u001b[0m:\u001b[36m497\u001b[0m - \u001b[1mLoading /Volumes/__UP2/0_RAW_DATA/UP2_001/UP2001_2023_11_29_Rehabilitation_day6/wisci/2023_11_29_14_35_41 (rec4)/ABSD data/2023_11_29_14_37_35_03of05.dt5\u001b[0m\n",
            "\u001b[32m2024-10-18 03:11:48.066\u001b[0m | \u001b[1mINFO    \u001b[0m | \u001b[36mlighthouse.data_loader.load_chuv\u001b[0m:\u001b[36mconcatenate_dt5\u001b[0m:\u001b[36m497\u001b[0m - \u001b[1mLoading /Volumes/__UP2/0_RAW_DATA/UP2_001/UP2001_2023_11_29_Rehabilitation_day6/wisci/2023_11_29_14_35_41 (rec4)/ABSD data/2023_11_29_14_37_35_04of05.dt5\u001b[0m\n",
            "\u001b[32m2024-10-18 03:12:21.896\u001b[0m | \u001b[1mINFO    \u001b[0m | \u001b[36mlighthouse.data_loader.load_chuv\u001b[0m:\u001b[36mconcatenate_dt5\u001b[0m:\u001b[36m497\u001b[0m - \u001b[1mLoading /Volumes/__UP2/0_RAW_DATA/UP2_001/UP2001_2023_11_29_Rehabilitation_day6/wisci/2023_11_29_14_35_41 (rec4)/ABSD data/2023_11_29_14_37_35_05of05.dt5\u001b[0m\n"
          ]
        },
        {
          "name": "stdout",
          "output_type": "stream",
          "text": [
            "Signals shape: (56, 833847)\n",
            "New signal shape: (56, 200954)\n"
          ]
        },
        {
          "name": "stderr",
          "output_type": "stream",
          "text": [
            "\u001b[32m2024-10-18 03:12:47.259\u001b[0m | \u001b[1mINFO    \u001b[0m | \u001b[36mlighthouse.data_loader.load_chuv\u001b[0m:\u001b[36mconcatenate_dt5\u001b[0m:\u001b[36m497\u001b[0m - \u001b[1mLoading /Volumes/__UP2/0_RAW_DATA/UP2_001/UP2001_2023_11_29_Rehabilitation_day6/wisci/2023_11_29_15_02_28/ABSD data/2023_11_29_15_03_33_01of01.dt5\u001b[0m\n",
            "\u001b[32m2024-10-18 03:12:49.446\u001b[0m | \u001b[1mINFO    \u001b[0m | \u001b[36mlighthouse.data_loader.load_chuv\u001b[0m:\u001b[36mload_dt5\u001b[0m:\u001b[36m196\u001b[0m - \u001b[1mScenario Name: classBCIViewerAvatarAllDegreesCourtine\u001b[0m\n",
            "\u001b[32m2024-10-18 03:12:49.450\u001b[0m | \u001b[1mINFO    \u001b[0m | \u001b[36mlighthouse.data_loader.load_chuv\u001b[0m:\u001b[36mload_dt5\u001b[0m:\u001b[36m199\u001b[0m - \u001b[1mSub Scenario Name: classBSISubScenarioUpperJointsClassif\u001b[0m\n"
          ]
        },
        {
          "name": "stdout",
          "output_type": "stream",
          "text": [
            "Signals shape: (56, 11151)\n",
            "New signal shape: (56, 0)\n"
          ]
        },
        {
          "name": "stderr",
          "output_type": "stream",
          "text": [
            "\u001b[32m2024-10-18 03:12:50.151\u001b[0m | \u001b[1mINFO    \u001b[0m | \u001b[36mlighthouse.data_loader.load_chuv\u001b[0m:\u001b[36mconcatenate_dt5\u001b[0m:\u001b[36m497\u001b[0m - \u001b[1mLoading /Volumes/__UP2/0_RAW_DATA/UP2_001/UP2001_2023_11_29_Rehabilitation_day6/wisci/2023_11_29_15_03_58 (rec5_shoulder)/ABSD data/2023_11_29_15_06_04_01of06.dt5\u001b[0m\n",
            "\u001b[32m2024-10-18 03:13:19.163\u001b[0m | \u001b[1mINFO    \u001b[0m | \u001b[36mlighthouse.data_loader.load_chuv\u001b[0m:\u001b[36mload_dt5\u001b[0m:\u001b[36m196\u001b[0m - \u001b[1mScenario Name: classBCIViewerAvatarAllDegreesCourtine\u001b[0m\n",
            "\u001b[32m2024-10-18 03:13:19.167\u001b[0m | \u001b[1mINFO    \u001b[0m | \u001b[36mlighthouse.data_loader.load_chuv\u001b[0m:\u001b[36mload_dt5\u001b[0m:\u001b[36m199\u001b[0m - \u001b[1mSub Scenario Name: classBSISubScenarioUpperJointsClassif\u001b[0m\n",
            "\u001b[32m2024-10-18 03:13:23.364\u001b[0m | \u001b[1mINFO    \u001b[0m | \u001b[36mlighthouse.data_loader.load_chuv\u001b[0m:\u001b[36mconcatenate_dt5\u001b[0m:\u001b[36m497\u001b[0m - \u001b[1mLoading /Volumes/__UP2/0_RAW_DATA/UP2_001/UP2001_2023_11_29_Rehabilitation_day6/wisci/2023_11_29_15_03_58 (rec5_shoulder)/ABSD data/2023_11_29_15_06_04_02of06.dt5\u001b[0m\n",
            "\u001b[32m2024-10-18 03:13:58.541\u001b[0m | \u001b[1mINFO    \u001b[0m | \u001b[36mlighthouse.data_loader.load_chuv\u001b[0m:\u001b[36mconcatenate_dt5\u001b[0m:\u001b[36m497\u001b[0m - \u001b[1mLoading /Volumes/__UP2/0_RAW_DATA/UP2_001/UP2001_2023_11_29_Rehabilitation_day6/wisci/2023_11_29_15_03_58 (rec5_shoulder)/ABSD data/2023_11_29_15_06_04_03of06.dt5\u001b[0m\n",
            "\u001b[32m2024-10-18 03:14:36.171\u001b[0m | \u001b[1mINFO    \u001b[0m | \u001b[36mlighthouse.data_loader.load_chuv\u001b[0m:\u001b[36mconcatenate_dt5\u001b[0m:\u001b[36m497\u001b[0m - \u001b[1mLoading /Volumes/__UP2/0_RAW_DATA/UP2_001/UP2001_2023_11_29_Rehabilitation_day6/wisci/2023_11_29_15_03_58 (rec5_shoulder)/ABSD data/2023_11_29_15_06_04_04of06.dt5\u001b[0m\n",
            "\u001b[32m2024-10-18 03:15:10.350\u001b[0m | \u001b[1mINFO    \u001b[0m | \u001b[36mlighthouse.data_loader.load_chuv\u001b[0m:\u001b[36mconcatenate_dt5\u001b[0m:\u001b[36m497\u001b[0m - \u001b[1mLoading /Volumes/__UP2/0_RAW_DATA/UP2_001/UP2001_2023_11_29_Rehabilitation_day6/wisci/2023_11_29_15_03_58 (rec5_shoulder)/ABSD data/2023_11_29_15_06_04_05of06.dt5\u001b[0m\n",
            "\u001b[32m2024-10-18 03:15:42.520\u001b[0m | \u001b[1mINFO    \u001b[0m | \u001b[36mlighthouse.data_loader.load_chuv\u001b[0m:\u001b[36mconcatenate_dt5\u001b[0m:\u001b[36m497\u001b[0m - \u001b[1mLoading /Volumes/__UP2/0_RAW_DATA/UP2_001/UP2001_2023_11_29_Rehabilitation_day6/wisci/2023_11_29_15_03_58 (rec5_shoulder)/ABSD data/2023_11_29_15_06_04_06of06.dt5\u001b[0m\n"
          ]
        },
        {
          "name": "stdout",
          "output_type": "stream",
          "text": [
            "Signals shape: (56, 995271)\n",
            "New signal shape: (56, 279188)\n",
            "length of data: 54\n"
          ]
        },
        {
          "name": "stderr",
          "output_type": "stream",
          "text": [
            " 29%|██▉       | 19/65 [3:07:36<5:47:16, 452.97s/it]"
          ]
        },
        {
          "name": "stdout",
          "output_type": "stream",
          "text": [
            "Checkpoint saved after session 18\n",
            "Current session: (PosixPath('/Volumes/__UP2/0_RAW_DATA/UP2_001/UP2001_2023_11_30_Rehabilitation_day7'), 19)\n"
          ]
        },
        {
          "name": "stderr",
          "output_type": "stream",
          "text": [
            "\u001b[32m2024-10-18 03:16:23.374\u001b[0m | \u001b[1mINFO    \u001b[0m | \u001b[36mlighthouse.data_loader.load_chuv\u001b[0m:\u001b[36mconcatenate_dt5\u001b[0m:\u001b[36m497\u001b[0m - \u001b[1mLoading /Volumes/__UP2/0_RAW_DATA/UP2_001/UP2001_2023_11_30_Rehabilitation_day7/wisci/ABSD data/2023_11_30_13_47_40_01of02.dt5\u001b[0m\n",
            "\u001b[32m2024-10-18 03:16:51.983\u001b[0m | \u001b[1mINFO    \u001b[0m | \u001b[36mlighthouse.data_loader.load_chuv\u001b[0m:\u001b[36mload_dt5\u001b[0m:\u001b[36m196\u001b[0m - \u001b[1mScenario Name: classBCIViewerAvatarAllDegreesCourtine\u001b[0m\n",
            "\u001b[32m2024-10-18 03:16:51.990\u001b[0m | \u001b[1mINFO    \u001b[0m | \u001b[36mlighthouse.data_loader.load_chuv\u001b[0m:\u001b[36mload_dt5\u001b[0m:\u001b[36m199\u001b[0m - \u001b[1mSub Scenario Name: classBSISubScenarioUpperJoints\u001b[0m\n",
            "\u001b[32m2024-10-18 03:16:56.050\u001b[0m | \u001b[33m\u001b[1mWARNING \u001b[0m | \u001b[36mlighthouse.data_loader.load_chuv\u001b[0m:\u001b[36mload_dt5\u001b[0m:\u001b[36m388\u001b[0m - \u001b[33m\u001b[1mUnknown scenario!\u001b[0m\n",
            "\u001b[32m2024-10-18 03:16:56.403\u001b[0m | \u001b[1mINFO    \u001b[0m | \u001b[36mlighthouse.data_loader.load_chuv\u001b[0m:\u001b[36mconcatenate_dt5\u001b[0m:\u001b[36m497\u001b[0m - \u001b[1mLoading /Volumes/__UP2/0_RAW_DATA/UP2_001/UP2001_2023_11_30_Rehabilitation_day7/wisci/ABSD data/2023_11_30_13_47_40_02of02.dt5\u001b[0m\n",
            "\u001b[32m2024-10-18 03:17:25.372\u001b[0m | \u001b[33m\u001b[1mWARNING \u001b[0m | \u001b[36mlighthouse.data_loader.load_chuv\u001b[0m:\u001b[36mload_dt5\u001b[0m:\u001b[36m388\u001b[0m - \u001b[33m\u001b[1mUnknown scenario!\u001b[0m\n"
          ]
        },
        {
          "name": "stdout",
          "output_type": "stream",
          "text": [
            "Signals shape: (50, 338424)\n",
            "New signal shape: (50, 83839)\n"
          ]
        },
        {
          "name": "stderr",
          "output_type": "stream",
          "text": [
            "\u001b[32m2024-10-18 03:17:26.054\u001b[0m | \u001b[1mINFO    \u001b[0m | \u001b[36mlighthouse.data_loader.load_chuv\u001b[0m:\u001b[36mconcatenate_dt5\u001b[0m:\u001b[36m497\u001b[0m - \u001b[1mLoading /Volumes/__UP2/0_RAW_DATA/UP2_001/UP2001_2023_11_30_Rehabilitation_day7/wisci/2023_11_30_13_59_41 (rec2)/ABSD data/2023_11_30_14_02_09_01of04.dt5\u001b[0m\n",
            "\u001b[32m2024-10-18 03:17:55.023\u001b[0m | \u001b[1mINFO    \u001b[0m | \u001b[36mlighthouse.data_loader.load_chuv\u001b[0m:\u001b[36mload_dt5\u001b[0m:\u001b[36m196\u001b[0m - \u001b[1mScenario Name: classBCIViewerAvatarAllDegreesCourtine\u001b[0m\n",
            "\u001b[32m2024-10-18 03:17:55.028\u001b[0m | \u001b[1mINFO    \u001b[0m | \u001b[36mlighthouse.data_loader.load_chuv\u001b[0m:\u001b[36mload_dt5\u001b[0m:\u001b[36m199\u001b[0m - \u001b[1mSub Scenario Name: classBSISubScenarioUpperJoints\u001b[0m\n",
            "\u001b[32m2024-10-18 03:17:58.695\u001b[0m | \u001b[33m\u001b[1mWARNING \u001b[0m | \u001b[36mlighthouse.data_loader.load_chuv\u001b[0m:\u001b[36mload_dt5\u001b[0m:\u001b[36m388\u001b[0m - \u001b[33m\u001b[1mUnknown scenario!\u001b[0m\n",
            "\u001b[32m2024-10-18 03:17:59.013\u001b[0m | \u001b[1mINFO    \u001b[0m | \u001b[36mlighthouse.data_loader.load_chuv\u001b[0m:\u001b[36mconcatenate_dt5\u001b[0m:\u001b[36m497\u001b[0m - \u001b[1mLoading /Volumes/__UP2/0_RAW_DATA/UP2_001/UP2001_2023_11_30_Rehabilitation_day7/wisci/2023_11_30_13_59_41 (rec2)/ABSD data/2023_11_30_14_02_09_02of04.dt5\u001b[0m\n",
            "\u001b[32m2024-10-18 03:18:32.423\u001b[0m | \u001b[33m\u001b[1mWARNING \u001b[0m | \u001b[36mlighthouse.data_loader.load_chuv\u001b[0m:\u001b[36mload_dt5\u001b[0m:\u001b[36m388\u001b[0m - \u001b[33m\u001b[1mUnknown scenario!\u001b[0m\n",
            "\u001b[32m2024-10-18 03:18:32.767\u001b[0m | \u001b[1mINFO    \u001b[0m | \u001b[36mlighthouse.data_loader.load_chuv\u001b[0m:\u001b[36mconcatenate_dt5\u001b[0m:\u001b[36m497\u001b[0m - \u001b[1mLoading /Volumes/__UP2/0_RAW_DATA/UP2_001/UP2001_2023_11_30_Rehabilitation_day7/wisci/2023_11_30_13_59_41 (rec2)/ABSD data/2023_11_30_14_02_09_03of04.dt5\u001b[0m\n",
            "\u001b[32m2024-10-18 03:19:03.450\u001b[0m | \u001b[33m\u001b[1mWARNING \u001b[0m | \u001b[36mlighthouse.data_loader.load_chuv\u001b[0m:\u001b[36mload_dt5\u001b[0m:\u001b[36m388\u001b[0m - \u001b[33m\u001b[1mUnknown scenario!\u001b[0m\n",
            "\u001b[32m2024-10-18 03:19:03.778\u001b[0m | \u001b[1mINFO    \u001b[0m | \u001b[36mlighthouse.data_loader.load_chuv\u001b[0m:\u001b[36mconcatenate_dt5\u001b[0m:\u001b[36m497\u001b[0m - \u001b[1mLoading /Volumes/__UP2/0_RAW_DATA/UP2_001/UP2001_2023_11_30_Rehabilitation_day7/wisci/2023_11_30_13_59_41 (rec2)/ABSD data/2023_11_30_14_02_09_04of04.dt5\u001b[0m\n",
            "\u001b[32m2024-10-18 03:19:09.630\u001b[0m | \u001b[33m\u001b[1mWARNING \u001b[0m | \u001b[36mlighthouse.data_loader.load_chuv\u001b[0m:\u001b[36mload_dt5\u001b[0m:\u001b[36m388\u001b[0m - \u001b[33m\u001b[1mUnknown scenario!\u001b[0m\n"
          ]
        },
        {
          "name": "stdout",
          "output_type": "stream",
          "text": [
            "Signals shape: (50, 559438)\n",
            "New signal shape: (50, 240956)\n"
          ]
        },
        {
          "name": "stderr",
          "output_type": "stream",
          "text": [
            "\u001b[32m2024-10-18 03:19:10.295\u001b[0m | \u001b[1mINFO    \u001b[0m | \u001b[36mlighthouse.data_loader.load_chuv\u001b[0m:\u001b[36mconcatenate_dt5\u001b[0m:\u001b[36m497\u001b[0m - \u001b[1mLoading /Volumes/__UP2/0_RAW_DATA/UP2_001/UP2001_2023_11_30_Rehabilitation_day7/wisci/2023_11_30_14_19_01 (rec6)/ABSD data/2023_11_30_14_27_13_01of14.dt5\u001b[0m\n",
            "\u001b[32m2024-10-18 03:19:41.177\u001b[0m | \u001b[1mINFO    \u001b[0m | \u001b[36mlighthouse.data_loader.load_chuv\u001b[0m:\u001b[36mload_dt5\u001b[0m:\u001b[36m196\u001b[0m - \u001b[1mScenario Name: classBCIViewerAvatarAllDegreesCourtine\u001b[0m\n",
            "\u001b[32m2024-10-18 03:19:41.180\u001b[0m | \u001b[1mINFO    \u001b[0m | \u001b[36mlighthouse.data_loader.load_chuv\u001b[0m:\u001b[36mload_dt5\u001b[0m:\u001b[36m199\u001b[0m - \u001b[1mSub Scenario Name: classBSISubScenarioUpperJoints\u001b[0m\n",
            "\u001b[32m2024-10-18 03:19:44.806\u001b[0m | \u001b[33m\u001b[1mWARNING \u001b[0m | \u001b[36mlighthouse.data_loader.load_chuv\u001b[0m:\u001b[36mload_dt5\u001b[0m:\u001b[36m388\u001b[0m - \u001b[33m\u001b[1mUnknown scenario!\u001b[0m\n",
            "\u001b[32m2024-10-18 03:19:45.124\u001b[0m | \u001b[1mINFO    \u001b[0m | \u001b[36mlighthouse.data_loader.load_chuv\u001b[0m:\u001b[36mconcatenate_dt5\u001b[0m:\u001b[36m497\u001b[0m - \u001b[1mLoading /Volumes/__UP2/0_RAW_DATA/UP2_001/UP2001_2023_11_30_Rehabilitation_day7/wisci/2023_11_30_14_19_01 (rec6)/ABSD data/2023_11_30_14_27_13_02of14.dt5\u001b[0m\n",
            "\u001b[32m2024-10-18 03:20:15.784\u001b[0m | \u001b[33m\u001b[1mWARNING \u001b[0m | \u001b[36mlighthouse.data_loader.load_chuv\u001b[0m:\u001b[36mload_dt5\u001b[0m:\u001b[36m388\u001b[0m - \u001b[33m\u001b[1mUnknown scenario!\u001b[0m\n",
            "\u001b[32m2024-10-18 03:20:16.130\u001b[0m | \u001b[1mINFO    \u001b[0m | \u001b[36mlighthouse.data_loader.load_chuv\u001b[0m:\u001b[36mconcatenate_dt5\u001b[0m:\u001b[36m497\u001b[0m - \u001b[1mLoading /Volumes/__UP2/0_RAW_DATA/UP2_001/UP2001_2023_11_30_Rehabilitation_day7/wisci/2023_11_30_14_19_01 (rec6)/ABSD data/2023_11_30_14_27_13_03of14.dt5\u001b[0m\n",
            "\u001b[32m2024-10-18 03:20:49.446\u001b[0m | \u001b[33m\u001b[1mWARNING \u001b[0m | \u001b[36mlighthouse.data_loader.load_chuv\u001b[0m:\u001b[36mload_dt5\u001b[0m:\u001b[36m388\u001b[0m - \u001b[33m\u001b[1mUnknown scenario!\u001b[0m\n",
            "\u001b[32m2024-10-18 03:20:49.816\u001b[0m | \u001b[1mINFO    \u001b[0m | \u001b[36mlighthouse.data_loader.load_chuv\u001b[0m:\u001b[36mconcatenate_dt5\u001b[0m:\u001b[36m497\u001b[0m - \u001b[1mLoading /Volumes/__UP2/0_RAW_DATA/UP2_001/UP2001_2023_11_30_Rehabilitation_day7/wisci/2023_11_30_14_19_01 (rec6)/ABSD data/2023_11_30_14_27_13_04of14.dt5\u001b[0m\n",
            "\u001b[32m2024-10-18 03:21:22.594\u001b[0m | \u001b[33m\u001b[1mWARNING \u001b[0m | \u001b[36mlighthouse.data_loader.load_chuv\u001b[0m:\u001b[36mload_dt5\u001b[0m:\u001b[36m388\u001b[0m - \u001b[33m\u001b[1mUnknown scenario!\u001b[0m\n",
            "\u001b[32m2024-10-18 03:21:23.041\u001b[0m | \u001b[1mINFO    \u001b[0m | \u001b[36mlighthouse.data_loader.load_chuv\u001b[0m:\u001b[36mconcatenate_dt5\u001b[0m:\u001b[36m497\u001b[0m - \u001b[1mLoading /Volumes/__UP2/0_RAW_DATA/UP2_001/UP2001_2023_11_30_Rehabilitation_day7/wisci/2023_11_30_14_19_01 (rec6)/ABSD data/2023_11_30_14_27_13_05of14.dt5\u001b[0m\n",
            "\u001b[32m2024-10-18 03:22:03.853\u001b[0m | \u001b[33m\u001b[1mWARNING \u001b[0m | \u001b[36mlighthouse.data_loader.load_chuv\u001b[0m:\u001b[36mload_dt5\u001b[0m:\u001b[36m388\u001b[0m - \u001b[33m\u001b[1mUnknown scenario!\u001b[0m\n",
            "\u001b[32m2024-10-18 03:22:04.205\u001b[0m | \u001b[1mINFO    \u001b[0m | \u001b[36mlighthouse.data_loader.load_chuv\u001b[0m:\u001b[36mconcatenate_dt5\u001b[0m:\u001b[36m497\u001b[0m - \u001b[1mLoading /Volumes/__UP2/0_RAW_DATA/UP2_001/UP2001_2023_11_30_Rehabilitation_day7/wisci/2023_11_30_14_19_01 (rec6)/ABSD data/2023_11_30_14_27_13_06of14.dt5\u001b[0m\n",
            "\u001b[32m2024-10-18 03:22:36.716\u001b[0m | \u001b[33m\u001b[1mWARNING \u001b[0m | \u001b[36mlighthouse.data_loader.load_chuv\u001b[0m:\u001b[36mload_dt5\u001b[0m:\u001b[36m388\u001b[0m - \u001b[33m\u001b[1mUnknown scenario!\u001b[0m\n",
            "\u001b[32m2024-10-18 03:22:37.074\u001b[0m | \u001b[1mINFO    \u001b[0m | \u001b[36mlighthouse.data_loader.load_chuv\u001b[0m:\u001b[36mconcatenate_dt5\u001b[0m:\u001b[36m497\u001b[0m - \u001b[1mLoading /Volumes/__UP2/0_RAW_DATA/UP2_001/UP2001_2023_11_30_Rehabilitation_day7/wisci/2023_11_30_14_19_01 (rec6)/ABSD data/2023_11_30_14_27_13_07of14.dt5\u001b[0m\n",
            "\u001b[32m2024-10-18 03:23:07.639\u001b[0m | \u001b[33m\u001b[1mWARNING \u001b[0m | \u001b[36mlighthouse.data_loader.load_chuv\u001b[0m:\u001b[36mload_dt5\u001b[0m:\u001b[36m388\u001b[0m - \u001b[33m\u001b[1mUnknown scenario!\u001b[0m\n",
            "\u001b[32m2024-10-18 03:23:07.983\u001b[0m | \u001b[1mINFO    \u001b[0m | \u001b[36mlighthouse.data_loader.load_chuv\u001b[0m:\u001b[36mconcatenate_dt5\u001b[0m:\u001b[36m497\u001b[0m - \u001b[1mLoading /Volumes/__UP2/0_RAW_DATA/UP2_001/UP2001_2023_11_30_Rehabilitation_day7/wisci/2023_11_30_14_19_01 (rec6)/ABSD data/2023_11_30_14_27_13_08of14.dt5\u001b[0m\n",
            "\u001b[32m2024-10-18 03:23:39.888\u001b[0m | \u001b[33m\u001b[1mWARNING \u001b[0m | \u001b[36mlighthouse.data_loader.load_chuv\u001b[0m:\u001b[36mload_dt5\u001b[0m:\u001b[36m388\u001b[0m - \u001b[33m\u001b[1mUnknown scenario!\u001b[0m\n",
            "\u001b[32m2024-10-18 03:23:40.311\u001b[0m | \u001b[1mINFO    \u001b[0m | \u001b[36mlighthouse.data_loader.load_chuv\u001b[0m:\u001b[36mconcatenate_dt5\u001b[0m:\u001b[36m497\u001b[0m - \u001b[1mLoading /Volumes/__UP2/0_RAW_DATA/UP2_001/UP2001_2023_11_30_Rehabilitation_day7/wisci/2023_11_30_14_19_01 (rec6)/ABSD data/2023_11_30_14_27_13_09of14.dt5\u001b[0m\n",
            "\u001b[32m2024-10-18 03:24:20.984\u001b[0m | \u001b[33m\u001b[1mWARNING \u001b[0m | \u001b[36mlighthouse.data_loader.load_chuv\u001b[0m:\u001b[36mload_dt5\u001b[0m:\u001b[36m388\u001b[0m - \u001b[33m\u001b[1mUnknown scenario!\u001b[0m\n",
            "\u001b[32m2024-10-18 03:24:21.382\u001b[0m | \u001b[1mINFO    \u001b[0m | \u001b[36mlighthouse.data_loader.load_chuv\u001b[0m:\u001b[36mconcatenate_dt5\u001b[0m:\u001b[36m497\u001b[0m - \u001b[1mLoading /Volumes/__UP2/0_RAW_DATA/UP2_001/UP2001_2023_11_30_Rehabilitation_day7/wisci/2023_11_30_14_19_01 (rec6)/ABSD data/2023_11_30_14_27_13_10of14.dt5\u001b[0m\n",
            "\u001b[32m2024-10-18 03:24:55.913\u001b[0m | \u001b[33m\u001b[1mWARNING \u001b[0m | \u001b[36mlighthouse.data_loader.load_chuv\u001b[0m:\u001b[36mload_dt5\u001b[0m:\u001b[36m388\u001b[0m - \u001b[33m\u001b[1mUnknown scenario!\u001b[0m\n",
            "\u001b[32m2024-10-18 03:24:56.260\u001b[0m | \u001b[1mINFO    \u001b[0m | \u001b[36mlighthouse.data_loader.load_chuv\u001b[0m:\u001b[36mconcatenate_dt5\u001b[0m:\u001b[36m497\u001b[0m - \u001b[1mLoading /Volumes/__UP2/0_RAW_DATA/UP2_001/UP2001_2023_11_30_Rehabilitation_day7/wisci/2023_11_30_14_19_01 (rec6)/ABSD data/2023_11_30_14_27_13_11of14.dt5\u001b[0m\n",
            "\u001b[32m2024-10-18 03:25:30.184\u001b[0m | \u001b[33m\u001b[1mWARNING \u001b[0m | \u001b[36mlighthouse.data_loader.load_chuv\u001b[0m:\u001b[36mload_dt5\u001b[0m:\u001b[36m388\u001b[0m - \u001b[33m\u001b[1mUnknown scenario!\u001b[0m\n",
            "\u001b[32m2024-10-18 03:25:30.541\u001b[0m | \u001b[1mINFO    \u001b[0m | \u001b[36mlighthouse.data_loader.load_chuv\u001b[0m:\u001b[36mconcatenate_dt5\u001b[0m:\u001b[36m497\u001b[0m - \u001b[1mLoading /Volumes/__UP2/0_RAW_DATA/UP2_001/UP2001_2023_11_30_Rehabilitation_day7/wisci/2023_11_30_14_19_01 (rec6)/ABSD data/2023_11_30_14_27_13_12of14.dt5\u001b[0m\n",
            "\u001b[32m2024-10-18 03:26:01.296\u001b[0m | \u001b[33m\u001b[1mWARNING \u001b[0m | \u001b[36mlighthouse.data_loader.load_chuv\u001b[0m:\u001b[36mload_dt5\u001b[0m:\u001b[36m388\u001b[0m - \u001b[33m\u001b[1mUnknown scenario!\u001b[0m\n",
            "\u001b[32m2024-10-18 03:26:01.686\u001b[0m | \u001b[1mINFO    \u001b[0m | \u001b[36mlighthouse.data_loader.load_chuv\u001b[0m:\u001b[36mconcatenate_dt5\u001b[0m:\u001b[36m497\u001b[0m - \u001b[1mLoading /Volumes/__UP2/0_RAW_DATA/UP2_001/UP2001_2023_11_30_Rehabilitation_day7/wisci/2023_11_30_14_19_01 (rec6)/ABSD data/2023_11_30_14_27_13_13of14.dt5\u001b[0m\n",
            "\u001b[32m2024-10-18 03:26:38.391\u001b[0m | \u001b[33m\u001b[1mWARNING \u001b[0m | \u001b[36mlighthouse.data_loader.load_chuv\u001b[0m:\u001b[36mload_dt5\u001b[0m:\u001b[36m388\u001b[0m - \u001b[33m\u001b[1mUnknown scenario!\u001b[0m\n",
            "\u001b[32m2024-10-18 03:26:38.738\u001b[0m | \u001b[1mINFO    \u001b[0m | \u001b[36mlighthouse.data_loader.load_chuv\u001b[0m:\u001b[36mconcatenate_dt5\u001b[0m:\u001b[36m497\u001b[0m - \u001b[1mLoading /Volumes/__UP2/0_RAW_DATA/UP2_001/UP2001_2023_11_30_Rehabilitation_day7/wisci/2023_11_30_14_19_01 (rec6)/ABSD data/2023_11_30_14_27_13_14of14.dt5\u001b[0m\n",
            "\u001b[32m2024-10-18 03:26:58.210\u001b[0m | \u001b[33m\u001b[1mWARNING \u001b[0m | \u001b[36mlighthouse.data_loader.load_chuv\u001b[0m:\u001b[36mload_dt5\u001b[0m:\u001b[36m388\u001b[0m - \u001b[33m\u001b[1mUnknown scenario!\u001b[0m\n"
          ]
        },
        {
          "name": "stdout",
          "output_type": "stream",
          "text": [
            "Signals shape: (50, 2396285)\n",
            "New signal shape: (50, 958337)\n",
            "length of data: 57\n"
          ]
        },
        {
          "name": "stderr",
          "output_type": "stream",
          "text": [
            " 31%|███       | 20/65 [3:18:37<6:26:33, 515.42s/it]"
          ]
        },
        {
          "name": "stdout",
          "output_type": "stream",
          "text": [
            "Checkpoint saved after session 19\n",
            "Current session: (PosixPath('/Volumes/__UP2/0_RAW_DATA/UP2_001/UP2001_2023_12_01_Rehabilitation_day8'), 20)\n",
            "length of data: 57\n"
          ]
        },
        {
          "name": "stderr",
          "output_type": "stream",
          "text": [
            " 32%|███▏      | 21/65 [3:18:59<4:29:09, 367.03s/it]"
          ]
        },
        {
          "name": "stdout",
          "output_type": "stream",
          "text": [
            "Checkpoint saved after session 20\n",
            "Current session: (PosixPath('/Volumes/__UP2/0_RAW_DATA/UP2_001/UP2001_2023_12_04_Rehabilitation_day9_BrainGPT'), 21)\n"
          ]
        },
        {
          "name": "stderr",
          "output_type": "stream",
          "text": [
            "\u001b[32m2024-10-18 03:27:43.813\u001b[0m | \u001b[1mINFO    \u001b[0m | \u001b[36mlighthouse.data_loader.load_chuv\u001b[0m:\u001b[36mconcatenate_dt5\u001b[0m:\u001b[36m497\u001b[0m - \u001b[1mLoading /Volumes/__UP2/0_RAW_DATA/UP2_001/UP2001_2023_12_04_Rehabilitation_day9_BrainGPT/wisci/2023_12_04_14_11_07/ABSD data/2023_12_04_14_13_08_01of01.dt5\u001b[0m\n",
            "\u001b[32m2024-10-18 03:27:49.500\u001b[0m | \u001b[1mINFO    \u001b[0m | \u001b[36mlighthouse.data_loader.load_chuv\u001b[0m:\u001b[36mload_dt5\u001b[0m:\u001b[36m196\u001b[0m - \u001b[1mScenario Name: classBCIViewerAvatarAllDegreesCourtine\u001b[0m\n",
            "\u001b[32m2024-10-18 03:27:49.511\u001b[0m | \u001b[1mINFO    \u001b[0m | \u001b[36mlighthouse.data_loader.load_chuv\u001b[0m:\u001b[36mload_dt5\u001b[0m:\u001b[36m199\u001b[0m - \u001b[1mSub Scenario Name: classBSISubScenarioUpperJointsClassif\u001b[0m\n"
          ]
        },
        {
          "name": "stdout",
          "output_type": "stream",
          "text": [
            "Signals shape: (56, 20001)\n",
            "New signal shape: (56, 11269)\n"
          ]
        },
        {
          "name": "stderr",
          "output_type": "stream",
          "text": [
            "\u001b[32m2024-10-18 03:27:50.632\u001b[0m | \u001b[1mINFO    \u001b[0m | \u001b[36mlighthouse.data_loader.load_chuv\u001b[0m:\u001b[36mconcatenate_dt5\u001b[0m:\u001b[36m497\u001b[0m - \u001b[1mLoading /Volumes/__UP2/0_RAW_DATA/UP2_001/UP2001_2023_12_04_Rehabilitation_day9_BrainGPT/wisci/2023_12_04_14_38_51 (rec4 (4 states model))/ABSD data/2023_12_04_14_41_27_01of01.dt5\u001b[0m\n",
            "\u001b[32m2024-10-18 03:27:52.312\u001b[0m | \u001b[1mINFO    \u001b[0m | \u001b[36mlighthouse.data_loader.load_chuv\u001b[0m:\u001b[36mload_dt5\u001b[0m:\u001b[36m196\u001b[0m - \u001b[1mScenario Name: classBCIViewerAvatarAllDegreesCourtine\u001b[0m\n",
            "\u001b[32m2024-10-18 03:27:52.318\u001b[0m | \u001b[1mINFO    \u001b[0m | \u001b[36mlighthouse.data_loader.load_chuv\u001b[0m:\u001b[36mload_dt5\u001b[0m:\u001b[36m199\u001b[0m - \u001b[1mSub Scenario Name: classBSISubScenarioUpperJointsClassif\u001b[0m\n"
          ]
        },
        {
          "name": "stdout",
          "output_type": "stream",
          "text": [
            "Signals shape: (57, 4307)\n",
            "New signal shape: (57, 0)\n"
          ]
        },
        {
          "name": "stderr",
          "output_type": "stream",
          "text": [
            "\u001b[32m2024-10-18 03:27:52.762\u001b[0m | \u001b[1mINFO    \u001b[0m | \u001b[36mlighthouse.data_loader.load_chuv\u001b[0m:\u001b[36mconcatenate_dt5\u001b[0m:\u001b[36m497\u001b[0m - \u001b[1mLoading /Volumes/__UP2/0_RAW_DATA/UP2_001/UP2001_2023_12_04_Rehabilitation_day9_BrainGPT/wisci/2023_12_04_15_01_57 (rec5 test 4 states)/ABSD data/2023_12_04_15_04_26_01of01.dt5\u001b[0m\n",
            "\u001b[32m2024-10-18 03:28:19.138\u001b[0m | \u001b[1mINFO    \u001b[0m | \u001b[36mlighthouse.data_loader.load_chuv\u001b[0m:\u001b[36mload_dt5\u001b[0m:\u001b[36m196\u001b[0m - \u001b[1mScenario Name: classBCIViewerAvatarAllDegreesCourtine\u001b[0m\n",
            "\u001b[32m2024-10-18 03:28:19.144\u001b[0m | \u001b[1mINFO    \u001b[0m | \u001b[36mlighthouse.data_loader.load_chuv\u001b[0m:\u001b[36mload_dt5\u001b[0m:\u001b[36m199\u001b[0m - \u001b[1mSub Scenario Name: classBSISubScenarioUpperJointsClassif\u001b[0m\n"
          ]
        },
        {
          "name": "stdout",
          "output_type": "stream",
          "text": [
            "Signals shape: (56, 101303)\n",
            "New signal shape: (56, 0)\n"
          ]
        },
        {
          "name": "stderr",
          "output_type": "stream",
          "text": [
            "\u001b[32m2024-10-18 03:28:21.754\u001b[0m | \u001b[1mINFO    \u001b[0m | \u001b[36mlighthouse.data_loader.load_chuv\u001b[0m:\u001b[36mconcatenate_dt5\u001b[0m:\u001b[36m497\u001b[0m - \u001b[1mLoading /Volumes/__UP2/0_RAW_DATA/UP2_001/UP2001_2023_12_04_Rehabilitation_day9_BrainGPT/wisci/2023_12_04_15_10_35 (rec6 5states)/ABSD data/2023_12_04_15_12_56_01of03.dt5\u001b[0m\n",
            "\u001b[32m2024-10-18 03:29:03.866\u001b[0m | \u001b[1mINFO    \u001b[0m | \u001b[36mlighthouse.data_loader.load_chuv\u001b[0m:\u001b[36mload_dt5\u001b[0m:\u001b[36m196\u001b[0m - \u001b[1mScenario Name: classBCIViewerAvatarAllDegreesCourtine\u001b[0m\n",
            "\u001b[32m2024-10-18 03:29:03.872\u001b[0m | \u001b[1mINFO    \u001b[0m | \u001b[36mlighthouse.data_loader.load_chuv\u001b[0m:\u001b[36mload_dt5\u001b[0m:\u001b[36m199\u001b[0m - \u001b[1mSub Scenario Name: classBSISubScenarioUpperJointsClassif\u001b[0m\n",
            "\u001b[32m2024-10-18 03:29:08.173\u001b[0m | \u001b[1mINFO    \u001b[0m | \u001b[36mlighthouse.data_loader.load_chuv\u001b[0m:\u001b[36mconcatenate_dt5\u001b[0m:\u001b[36m497\u001b[0m - \u001b[1mLoading /Volumes/__UP2/0_RAW_DATA/UP2_001/UP2001_2023_12_04_Rehabilitation_day9_BrainGPT/wisci/2023_12_04_15_10_35 (rec6 5states)/ABSD data/2023_12_04_15_12_56_02of03.dt5\u001b[0m\n",
            "\u001b[32m2024-10-18 03:29:54.945\u001b[0m | \u001b[1mINFO    \u001b[0m | \u001b[36mlighthouse.data_loader.load_chuv\u001b[0m:\u001b[36mconcatenate_dt5\u001b[0m:\u001b[36m497\u001b[0m - \u001b[1mLoading /Volumes/__UP2/0_RAW_DATA/UP2_001/UP2001_2023_12_04_Rehabilitation_day9_BrainGPT/wisci/2023_12_04_15_10_35 (rec6 5states)/ABSD data/2023_12_04_15_12_56_03of03.dt5\u001b[0m\n"
          ]
        },
        {
          "name": "stdout",
          "output_type": "stream",
          "text": [
            "Signals shape: (56, 366508)\n",
            "New signal shape: (56, 100536)\n",
            "length of data: 61\n"
          ]
        },
        {
          "name": "stderr",
          "output_type": "stream",
          "text": [
            " 34%|███▍      | 22/65 [3:21:35<3:37:49, 303.93s/it]"
          ]
        },
        {
          "name": "stdout",
          "output_type": "stream",
          "text": [
            "Checkpoint saved after session 21\n",
            "Current session: (PosixPath('/Volumes/__UP2/0_RAW_DATA/UP2_001/UP2001_2023_12_05_Rehabilitation_day10'), 22)\n",
            "length of data: 61\n"
          ]
        },
        {
          "name": "stderr",
          "output_type": "stream",
          "text": [
            " 35%|███▌      | 23/65 [3:21:53<2:32:42, 218.17s/it]"
          ]
        },
        {
          "name": "stdout",
          "output_type": "stream",
          "text": [
            "Checkpoint saved after session 22\n",
            "Current session: (PosixPath('/Volumes/__UP2/0_RAW_DATA/UP2_001/UP2001_2023_12_08_Rehabilitation_day13'), 23)\n"
          ]
        },
        {
          "name": "stderr",
          "output_type": "stream",
          "text": [
            "\u001b[32m2024-10-18 03:30:37.728\u001b[0m | \u001b[1mINFO    \u001b[0m | \u001b[36mlighthouse.data_loader.load_chuv\u001b[0m:\u001b[36mconcatenate_dt5\u001b[0m:\u001b[36m497\u001b[0m - \u001b[1mLoading /Volumes/__UP2/0_RAW_DATA/UP2_001/UP2001_2023_12_08_Rehabilitation_day13/wisci/ABSD data/2023_12_08_15_27_17_01of05.dt5\u001b[0m\n",
            "\u001b[32m2024-10-18 03:31:12.865\u001b[0m | \u001b[1mINFO    \u001b[0m | \u001b[36mlighthouse.data_loader.load_chuv\u001b[0m:\u001b[36mload_dt5\u001b[0m:\u001b[36m196\u001b[0m - \u001b[1mScenario Name: classBCIViewerAvatarAllDegreesCourtine\u001b[0m\n",
            "\u001b[32m2024-10-18 03:31:12.872\u001b[0m | \u001b[1mINFO    \u001b[0m | \u001b[36mlighthouse.data_loader.load_chuv\u001b[0m:\u001b[36mload_dt5\u001b[0m:\u001b[36m199\u001b[0m - \u001b[1mSub Scenario Name: classBSISubScenarioUpperJointsClassif\u001b[0m\n",
            "\u001b[32m2024-10-18 03:31:17.237\u001b[0m | \u001b[1mINFO    \u001b[0m | \u001b[36mlighthouse.data_loader.load_chuv\u001b[0m:\u001b[36mconcatenate_dt5\u001b[0m:\u001b[36m497\u001b[0m - \u001b[1mLoading /Volumes/__UP2/0_RAW_DATA/UP2_001/UP2001_2023_12_08_Rehabilitation_day13/wisci/ABSD data/2023_12_08_15_27_17_02of05.dt5\u001b[0m\n",
            "\u001b[32m2024-10-18 03:31:50.268\u001b[0m | \u001b[1mINFO    \u001b[0m | \u001b[36mlighthouse.data_loader.load_chuv\u001b[0m:\u001b[36mconcatenate_dt5\u001b[0m:\u001b[36m497\u001b[0m - \u001b[1mLoading /Volumes/__UP2/0_RAW_DATA/UP2_001/UP2001_2023_12_08_Rehabilitation_day13/wisci/ABSD data/2023_12_08_15_27_17_03of05.dt5\u001b[0m\n",
            "\u001b[32m2024-10-18 03:32:27.375\u001b[0m | \u001b[1mINFO    \u001b[0m | \u001b[36mlighthouse.data_loader.load_chuv\u001b[0m:\u001b[36mconcatenate_dt5\u001b[0m:\u001b[36m497\u001b[0m - \u001b[1mLoading /Volumes/__UP2/0_RAW_DATA/UP2_001/UP2001_2023_12_08_Rehabilitation_day13/wisci/ABSD data/2023_12_08_15_27_17_04of05.dt5\u001b[0m\n",
            "\u001b[32m2024-10-18 03:33:01.290\u001b[0m | \u001b[1mINFO    \u001b[0m | \u001b[36mlighthouse.data_loader.load_chuv\u001b[0m:\u001b[36mconcatenate_dt5\u001b[0m:\u001b[36m497\u001b[0m - \u001b[1mLoading /Volumes/__UP2/0_RAW_DATA/UP2_001/UP2001_2023_12_08_Rehabilitation_day13/wisci/ABSD data/2023_12_08_15_27_17_05of05.dt5\u001b[0m\n"
          ]
        },
        {
          "name": "stdout",
          "output_type": "stream",
          "text": [
            "Signals shape: (56, 836030)\n",
            "New signal shape: (56, 34515)\n"
          ]
        },
        {
          "name": "stderr",
          "output_type": "stream",
          "text": [
            "\u001b[32m2024-10-18 03:33:27.066\u001b[0m | \u001b[1mINFO    \u001b[0m | \u001b[36mlighthouse.data_loader.load_chuv\u001b[0m:\u001b[36mconcatenate_dt5\u001b[0m:\u001b[36m497\u001b[0m - \u001b[1mLoading /Volumes/__UP2/0_RAW_DATA/UP2_001/UP2001_2023_12_08_Rehabilitation_day13/wisci/2023_12_08_14_52_36 (rec1(lowerleadStrength))/ABSD data/2023_12_08_14_57_15_01of06.dt5\u001b[0m\n",
            "\u001b[32m2024-10-18 03:33:55.327\u001b[0m | \u001b[1mINFO    \u001b[0m | \u001b[36mlighthouse.data_loader.load_chuv\u001b[0m:\u001b[36mload_dt5\u001b[0m:\u001b[36m196\u001b[0m - \u001b[1mScenario Name: classBCIViewerAvatarAllDegreesCourtine\u001b[0m\n",
            "\u001b[32m2024-10-18 03:33:55.333\u001b[0m | \u001b[1mINFO    \u001b[0m | \u001b[36mlighthouse.data_loader.load_chuv\u001b[0m:\u001b[36mload_dt5\u001b[0m:\u001b[36m199\u001b[0m - \u001b[1mSub Scenario Name: classBSISubScenarioUpperJointsClassif\u001b[0m\n",
            "\u001b[32m2024-10-18 03:33:59.357\u001b[0m | \u001b[1mINFO    \u001b[0m | \u001b[36mlighthouse.data_loader.load_chuv\u001b[0m:\u001b[36mconcatenate_dt5\u001b[0m:\u001b[36m497\u001b[0m - \u001b[1mLoading /Volumes/__UP2/0_RAW_DATA/UP2_001/UP2001_2023_12_08_Rehabilitation_day13/wisci/2023_12_08_14_52_36 (rec1(lowerleadStrength))/ABSD data/2023_12_08_14_57_15_02of06.dt5\u001b[0m\n",
            "\u001b[32m2024-10-18 03:34:33.562\u001b[0m | \u001b[1mINFO    \u001b[0m | \u001b[36mlighthouse.data_loader.load_chuv\u001b[0m:\u001b[36mconcatenate_dt5\u001b[0m:\u001b[36m497\u001b[0m - \u001b[1mLoading /Volumes/__UP2/0_RAW_DATA/UP2_001/UP2001_2023_12_08_Rehabilitation_day13/wisci/2023_12_08_14_52_36 (rec1(lowerleadStrength))/ABSD data/2023_12_08_14_57_15_03of06.dt5\u001b[0m\n",
            "\u001b[32m2024-10-18 03:35:09.082\u001b[0m | \u001b[1mINFO    \u001b[0m | \u001b[36mlighthouse.data_loader.load_chuv\u001b[0m:\u001b[36mconcatenate_dt5\u001b[0m:\u001b[36m497\u001b[0m - \u001b[1mLoading /Volumes/__UP2/0_RAW_DATA/UP2_001/UP2001_2023_12_08_Rehabilitation_day13/wisci/2023_12_08_14_52_36 (rec1(lowerleadStrength))/ABSD data/2023_12_08_14_57_15_04of06.dt5\u001b[0m\n",
            "\u001b[32m2024-10-18 03:35:43.213\u001b[0m | \u001b[1mINFO    \u001b[0m | \u001b[36mlighthouse.data_loader.load_chuv\u001b[0m:\u001b[36mconcatenate_dt5\u001b[0m:\u001b[36m497\u001b[0m - \u001b[1mLoading /Volumes/__UP2/0_RAW_DATA/UP2_001/UP2001_2023_12_08_Rehabilitation_day13/wisci/2023_12_08_14_52_36 (rec1(lowerleadStrength))/ABSD data/2023_12_08_14_57_15_05of06.dt5\u001b[0m\n",
            "\u001b[32m2024-10-18 03:36:16.171\u001b[0m | \u001b[1mINFO    \u001b[0m | \u001b[36mlighthouse.data_loader.load_chuv\u001b[0m:\u001b[36mconcatenate_dt5\u001b[0m:\u001b[36m497\u001b[0m - \u001b[1mLoading /Volumes/__UP2/0_RAW_DATA/UP2_001/UP2001_2023_12_08_Rehabilitation_day13/wisci/2023_12_08_14_52_36 (rec1(lowerleadStrength))/ABSD data/2023_12_08_14_57_15_06of06.dt5\u001b[0m\n"
          ]
        },
        {
          "name": "stdout",
          "output_type": "stream",
          "text": [
            "Signals shape: (56, 943823)\n",
            "New signal shape: (56, 189508)\n",
            "length of data: 63\n"
          ]
        },
        {
          "name": "stderr",
          "output_type": "stream",
          "text": [
            " 37%|███▋      | 24/65 [3:28:04<3:00:22, 263.97s/it]"
          ]
        },
        {
          "name": "stdout",
          "output_type": "stream",
          "text": [
            "Checkpoint saved after session 23\n",
            "Current session: (PosixPath('/Volumes/__UP2/0_RAW_DATA/UP2_001/UP2001_2023_12_11_Rehabilitation_day14_BrainGPTstim'), 24)\n"
          ]
        },
        {
          "name": "stderr",
          "output_type": "stream",
          "text": [
            "\u001b[32m2024-10-18 03:36:55.570\u001b[0m | \u001b[1mINFO    \u001b[0m | \u001b[36mlighthouse.data_loader.load_chuv\u001b[0m:\u001b[36mconcatenate_dt5\u001b[0m:\u001b[36m497\u001b[0m - \u001b[1mLoading /Volumes/__UP2/0_RAW_DATA/UP2_001/UP2001_2023_12_11_Rehabilitation_day14_BrainGPTstim/wisci/2023_12_11_15_32_50 (rec9(upperlead))/ABSD data/2023_12_11_15_33_53_01of04.dt5\u001b[0m\n",
            "\u001b[32m2024-10-18 03:37:41.067\u001b[0m | \u001b[1mINFO    \u001b[0m | \u001b[36mlighthouse.data_loader.load_chuv\u001b[0m:\u001b[36mload_dt5\u001b[0m:\u001b[36m196\u001b[0m - \u001b[1mScenario Name: classBCIViewerAvatarAllDegreesCourtine\u001b[0m\n",
            "\u001b[32m2024-10-18 03:37:41.076\u001b[0m | \u001b[1mINFO    \u001b[0m | \u001b[36mlighthouse.data_loader.load_chuv\u001b[0m:\u001b[36mload_dt5\u001b[0m:\u001b[36m199\u001b[0m - \u001b[1mSub Scenario Name: classBSISubScenarioUpperJointsClassif\u001b[0m\n",
            "\u001b[32m2024-10-18 03:37:45.445\u001b[0m | \u001b[1mINFO    \u001b[0m | \u001b[36mlighthouse.data_loader.load_chuv\u001b[0m:\u001b[36mconcatenate_dt5\u001b[0m:\u001b[36m497\u001b[0m - \u001b[1mLoading /Volumes/__UP2/0_RAW_DATA/UP2_001/UP2001_2023_12_11_Rehabilitation_day14_BrainGPTstim/wisci/2023_12_11_15_32_50 (rec9(upperlead))/ABSD data/2023_12_11_15_33_53_02of04.dt5\u001b[0m\n",
            "\u001b[32m2024-10-18 03:38:29.989\u001b[0m | \u001b[1mINFO    \u001b[0m | \u001b[36mlighthouse.data_loader.load_chuv\u001b[0m:\u001b[36mconcatenate_dt5\u001b[0m:\u001b[36m497\u001b[0m - \u001b[1mLoading /Volumes/__UP2/0_RAW_DATA/UP2_001/UP2001_2023_12_11_Rehabilitation_day14_BrainGPTstim/wisci/2023_12_11_15_32_50 (rec9(upperlead))/ABSD data/2023_12_11_15_33_53_03of04.dt5\u001b[0m\n",
            "\u001b[32m2024-10-18 03:39:16.469\u001b[0m | \u001b[1mINFO    \u001b[0m | \u001b[36mlighthouse.data_loader.load_chuv\u001b[0m:\u001b[36mconcatenate_dt5\u001b[0m:\u001b[36m497\u001b[0m - \u001b[1mLoading /Volumes/__UP2/0_RAW_DATA/UP2_001/UP2001_2023_12_11_Rehabilitation_day14_BrainGPTstim/wisci/2023_12_11_15_32_50 (rec9(upperlead))/ABSD data/2023_12_11_15_33_53_04of04.dt5\u001b[0m\n"
          ]
        },
        {
          "name": "stdout",
          "output_type": "stream",
          "text": [
            "Signals shape: (56, 558376)\n",
            "New signal shape: (56, 43070)\n"
          ]
        },
        {
          "name": "stderr",
          "output_type": "stream",
          "text": [
            "\u001b[32m2024-10-18 03:39:24.039\u001b[0m | \u001b[1mINFO    \u001b[0m | \u001b[36mlighthouse.data_loader.load_chuv\u001b[0m:\u001b[36mconcatenate_dt5\u001b[0m:\u001b[36m497\u001b[0m - \u001b[1mLoading /Volumes/__UP2/0_RAW_DATA/UP2_001/UP2001_2023_12_11_Rehabilitation_day14_BrainGPTstim/wisci/2023_12_11_13_29_27 (rec6_hand(open_close))/ABSD data/2023_12_11_13_31_24_01of06.dt5\u001b[0m\n",
            "\u001b[32m2024-10-18 03:40:04.717\u001b[0m | \u001b[1mINFO    \u001b[0m | \u001b[36mlighthouse.data_loader.load_chuv\u001b[0m:\u001b[36mload_dt5\u001b[0m:\u001b[36m196\u001b[0m - \u001b[1mScenario Name: classBCIViewerAvatarAllDegreesCourtine\u001b[0m\n",
            "\u001b[32m2024-10-18 03:40:04.724\u001b[0m | \u001b[1mINFO    \u001b[0m | \u001b[36mlighthouse.data_loader.load_chuv\u001b[0m:\u001b[36mload_dt5\u001b[0m:\u001b[36m199\u001b[0m - \u001b[1mSub Scenario Name: classBSISubScenarioUpperJointsClassif\u001b[0m\n",
            "\u001b[32m2024-10-18 03:40:08.818\u001b[0m | \u001b[1mINFO    \u001b[0m | \u001b[36mlighthouse.data_loader.load_chuv\u001b[0m:\u001b[36mconcatenate_dt5\u001b[0m:\u001b[36m497\u001b[0m - \u001b[1mLoading /Volumes/__UP2/0_RAW_DATA/UP2_001/UP2001_2023_12_11_Rehabilitation_day14_BrainGPTstim/wisci/2023_12_11_13_29_27 (rec6_hand(open_close))/ABSD data/2023_12_11_13_31_24_02of06.dt5\u001b[0m\n",
            "\u001b[32m2024-10-18 03:40:55.778\u001b[0m | \u001b[1mINFO    \u001b[0m | \u001b[36mlighthouse.data_loader.load_chuv\u001b[0m:\u001b[36mconcatenate_dt5\u001b[0m:\u001b[36m497\u001b[0m - \u001b[1mLoading /Volumes/__UP2/0_RAW_DATA/UP2_001/UP2001_2023_12_11_Rehabilitation_day14_BrainGPTstim/wisci/2023_12_11_13_29_27 (rec6_hand(open_close))/ABSD data/2023_12_11_13_31_24_03of06.dt5\u001b[0m\n",
            "\u001b[32m2024-10-18 03:41:44.862\u001b[0m | \u001b[1mINFO    \u001b[0m | \u001b[36mlighthouse.data_loader.load_chuv\u001b[0m:\u001b[36mconcatenate_dt5\u001b[0m:\u001b[36m497\u001b[0m - \u001b[1mLoading /Volumes/__UP2/0_RAW_DATA/UP2_001/UP2001_2023_12_11_Rehabilitation_day14_BrainGPTstim/wisci/2023_12_11_13_29_27 (rec6_hand(open_close))/ABSD data/2023_12_11_13_31_24_04of06.dt5\u001b[0m\n",
            "\u001b[32m2024-10-18 03:42:35.556\u001b[0m | \u001b[1mINFO    \u001b[0m | \u001b[36mlighthouse.data_loader.load_chuv\u001b[0m:\u001b[36mconcatenate_dt5\u001b[0m:\u001b[36m497\u001b[0m - \u001b[1mLoading /Volumes/__UP2/0_RAW_DATA/UP2_001/UP2001_2023_12_11_Rehabilitation_day14_BrainGPTstim/wisci/2023_12_11_13_29_27 (rec6_hand(open_close))/ABSD data/2023_12_11_13_31_24_05of06.dt5\u001b[0m\n",
            "\u001b[32m2024-10-18 03:43:21.629\u001b[0m | \u001b[1mINFO    \u001b[0m | \u001b[36mlighthouse.data_loader.load_chuv\u001b[0m:\u001b[36mconcatenate_dt5\u001b[0m:\u001b[36m497\u001b[0m - \u001b[1mLoading /Volumes/__UP2/0_RAW_DATA/UP2_001/UP2001_2023_12_11_Rehabilitation_day14_BrainGPTstim/wisci/2023_12_11_13_29_27 (rec6_hand(open_close))/ABSD data/2023_12_11_13_31_24_06of06.dt5\u001b[0m\n"
          ]
        },
        {
          "name": "stdout",
          "output_type": "stream",
          "text": [
            "Signals shape: (56, 1060407)\n",
            "New signal shape: (56, 401200)\n"
          ]
        },
        {
          "name": "stderr",
          "output_type": "stream",
          "text": [
            "\u001b[32m2024-10-18 03:44:09.791\u001b[0m | \u001b[1mINFO    \u001b[0m | \u001b[36mlighthouse.data_loader.load_chuv\u001b[0m:\u001b[36mconcatenate_dt5\u001b[0m:\u001b[36m497\u001b[0m - \u001b[1mLoading /Volumes/__UP2/0_RAW_DATA/UP2_001/UP2001_2023_12_11_Rehabilitation_day14_BrainGPTstim/wisci/2023_12_11_14_02_58 (rec7(open_close))/ABSD data/2023_12_11_14_05_06_01of02.dt5\u001b[0m\n",
            "\u001b[32m2024-10-18 03:44:53.416\u001b[0m | \u001b[1mINFO    \u001b[0m | \u001b[36mlighthouse.data_loader.load_chuv\u001b[0m:\u001b[36mload_dt5\u001b[0m:\u001b[36m196\u001b[0m - \u001b[1mScenario Name: classBCIViewerAvatarAllDegreesCourtine\u001b[0m\n",
            "\u001b[32m2024-10-18 03:44:53.420\u001b[0m | \u001b[1mINFO    \u001b[0m | \u001b[36mlighthouse.data_loader.load_chuv\u001b[0m:\u001b[36mload_dt5\u001b[0m:\u001b[36m199\u001b[0m - \u001b[1mSub Scenario Name: classBSISubScenarioUpperJointsClassif\u001b[0m\n",
            "\u001b[32m2024-10-18 03:44:57.595\u001b[0m | \u001b[1mINFO    \u001b[0m | \u001b[36mlighthouse.data_loader.load_chuv\u001b[0m:\u001b[36mconcatenate_dt5\u001b[0m:\u001b[36m497\u001b[0m - \u001b[1mLoading /Volumes/__UP2/0_RAW_DATA/UP2_001/UP2001_2023_12_11_Rehabilitation_day14_BrainGPTstim/wisci/2023_12_11_14_02_58 (rec7(open_close))/ABSD data/2023_12_11_14_05_06_02of02.dt5\u001b[0m\n"
          ]
        },
        {
          "name": "stdout",
          "output_type": "stream",
          "text": [
            "Signals shape: (56, 285678)\n",
            "New signal shape: (56, 173047)\n"
          ]
        },
        {
          "name": "stderr",
          "output_type": "stream",
          "text": [
            "\u001b[32m2024-10-18 03:45:29.348\u001b[0m | \u001b[1mINFO    \u001b[0m | \u001b[36mlighthouse.data_loader.load_chuv\u001b[0m:\u001b[36mconcatenate_dt5\u001b[0m:\u001b[36m497\u001b[0m - \u001b[1mLoading /Volumes/__UP2/0_RAW_DATA/UP2_001/UP2001_2023_12_11_Rehabilitation_day14_BrainGPTstim/wisci/2023_12_11_14_13_48 (rec7(pronation_extension))/ABSD data/2023_12_11_14_15_33_01of14.dt5\u001b[0m\n",
            "\u001b[32m2024-10-18 03:46:18.917\u001b[0m | \u001b[1mINFO    \u001b[0m | \u001b[36mlighthouse.data_loader.load_chuv\u001b[0m:\u001b[36mload_dt5\u001b[0m:\u001b[36m196\u001b[0m - \u001b[1mScenario Name: classBCIViewerAvatarAllDegreesCourtine\u001b[0m\n",
            "\u001b[32m2024-10-18 03:46:18.920\u001b[0m | \u001b[1mINFO    \u001b[0m | \u001b[36mlighthouse.data_loader.load_chuv\u001b[0m:\u001b[36mload_dt5\u001b[0m:\u001b[36m199\u001b[0m - \u001b[1mSub Scenario Name: classBSISubScenarioUpperJointsClassif\u001b[0m\n",
            "\u001b[32m2024-10-18 03:46:23.071\u001b[0m | \u001b[1mINFO    \u001b[0m | \u001b[36mlighthouse.data_loader.load_chuv\u001b[0m:\u001b[36mconcatenate_dt5\u001b[0m:\u001b[36m497\u001b[0m - \u001b[1mLoading /Volumes/__UP2/0_RAW_DATA/UP2_001/UP2001_2023_12_11_Rehabilitation_day14_BrainGPTstim/wisci/2023_12_11_14_13_48 (rec7(pronation_extension))/ABSD data/2023_12_11_14_15_33_02of14.dt5\u001b[0m\n",
            "\u001b[32m2024-10-18 03:47:07.356\u001b[0m | \u001b[1mINFO    \u001b[0m | \u001b[36mlighthouse.data_loader.load_chuv\u001b[0m:\u001b[36mconcatenate_dt5\u001b[0m:\u001b[36m497\u001b[0m - \u001b[1mLoading /Volumes/__UP2/0_RAW_DATA/UP2_001/UP2001_2023_12_11_Rehabilitation_day14_BrainGPTstim/wisci/2023_12_11_14_13_48 (rec7(pronation_extension))/ABSD data/2023_12_11_14_15_33_03of14.dt5\u001b[0m\n",
            "\u001b[32m2024-10-18 03:47:52.841\u001b[0m | \u001b[1mINFO    \u001b[0m | \u001b[36mlighthouse.data_loader.load_chuv\u001b[0m:\u001b[36mconcatenate_dt5\u001b[0m:\u001b[36m497\u001b[0m - \u001b[1mLoading /Volumes/__UP2/0_RAW_DATA/UP2_001/UP2001_2023_12_11_Rehabilitation_day14_BrainGPTstim/wisci/2023_12_11_14_13_48 (rec7(pronation_extension))/ABSD data/2023_12_11_14_15_33_04of14.dt5\u001b[0m\n",
            "\u001b[32m2024-10-18 03:48:36.873\u001b[0m | \u001b[1mINFO    \u001b[0m | \u001b[36mlighthouse.data_loader.load_chuv\u001b[0m:\u001b[36mconcatenate_dt5\u001b[0m:\u001b[36m497\u001b[0m - \u001b[1mLoading /Volumes/__UP2/0_RAW_DATA/UP2_001/UP2001_2023_12_11_Rehabilitation_day14_BrainGPTstim/wisci/2023_12_11_14_13_48 (rec7(pronation_extension))/ABSD data/2023_12_11_14_15_33_05of14.dt5\u001b[0m\n",
            "\u001b[32m2024-10-18 03:49:22.806\u001b[0m | \u001b[1mINFO    \u001b[0m | \u001b[36mlighthouse.data_loader.load_chuv\u001b[0m:\u001b[36mconcatenate_dt5\u001b[0m:\u001b[36m497\u001b[0m - \u001b[1mLoading /Volumes/__UP2/0_RAW_DATA/UP2_001/UP2001_2023_12_11_Rehabilitation_day14_BrainGPTstim/wisci/2023_12_11_14_13_48 (rec7(pronation_extension))/ABSD data/2023_12_11_14_15_33_06of14.dt5\u001b[0m\n",
            "\u001b[32m2024-10-18 03:50:10.134\u001b[0m | \u001b[1mINFO    \u001b[0m | \u001b[36mlighthouse.data_loader.load_chuv\u001b[0m:\u001b[36mconcatenate_dt5\u001b[0m:\u001b[36m497\u001b[0m - \u001b[1mLoading /Volumes/__UP2/0_RAW_DATA/UP2_001/UP2001_2023_12_11_Rehabilitation_day14_BrainGPTstim/wisci/2023_12_11_14_13_48 (rec7(pronation_extension))/ABSD data/2023_12_11_14_15_33_07of14.dt5\u001b[0m\n",
            "\u001b[32m2024-10-18 03:51:08.040\u001b[0m | \u001b[1mINFO    \u001b[0m | \u001b[36mlighthouse.data_loader.load_chuv\u001b[0m:\u001b[36mconcatenate_dt5\u001b[0m:\u001b[36m497\u001b[0m - \u001b[1mLoading /Volumes/__UP2/0_RAW_DATA/UP2_001/UP2001_2023_12_11_Rehabilitation_day14_BrainGPTstim/wisci/2023_12_11_14_13_48 (rec7(pronation_extension))/ABSD data/2023_12_11_14_15_33_08of14.dt5\u001b[0m\n",
            "\u001b[32m2024-10-18 03:51:55.618\u001b[0m | \u001b[1mINFO    \u001b[0m | \u001b[36mlighthouse.data_loader.load_chuv\u001b[0m:\u001b[36mconcatenate_dt5\u001b[0m:\u001b[36m497\u001b[0m - \u001b[1mLoading /Volumes/__UP2/0_RAW_DATA/UP2_001/UP2001_2023_12_11_Rehabilitation_day14_BrainGPTstim/wisci/2023_12_11_14_13_48 (rec7(pronation_extension))/ABSD data/2023_12_11_14_15_33_09of14.dt5\u001b[0m\n",
            "\u001b[32m2024-10-18 03:52:44.400\u001b[0m | \u001b[1mINFO    \u001b[0m | \u001b[36mlighthouse.data_loader.load_chuv\u001b[0m:\u001b[36mconcatenate_dt5\u001b[0m:\u001b[36m497\u001b[0m - \u001b[1mLoading /Volumes/__UP2/0_RAW_DATA/UP2_001/UP2001_2023_12_11_Rehabilitation_day14_BrainGPTstim/wisci/2023_12_11_14_13_48 (rec7(pronation_extension))/ABSD data/2023_12_11_14_15_33_10of14.dt5\u001b[0m\n",
            "\u001b[32m2024-10-18 03:53:29.935\u001b[0m | \u001b[1mINFO    \u001b[0m | \u001b[36mlighthouse.data_loader.load_chuv\u001b[0m:\u001b[36mconcatenate_dt5\u001b[0m:\u001b[36m497\u001b[0m - \u001b[1mLoading /Volumes/__UP2/0_RAW_DATA/UP2_001/UP2001_2023_12_11_Rehabilitation_day14_BrainGPTstim/wisci/2023_12_11_14_13_48 (rec7(pronation_extension))/ABSD data/2023_12_11_14_15_33_11of14.dt5\u001b[0m\n",
            "\u001b[32m2024-10-18 03:54:17.817\u001b[0m | \u001b[1mINFO    \u001b[0m | \u001b[36mlighthouse.data_loader.load_chuv\u001b[0m:\u001b[36mconcatenate_dt5\u001b[0m:\u001b[36m497\u001b[0m - \u001b[1mLoading /Volumes/__UP2/0_RAW_DATA/UP2_001/UP2001_2023_12_11_Rehabilitation_day14_BrainGPTstim/wisci/2023_12_11_14_13_48 (rec7(pronation_extension))/ABSD data/2023_12_11_14_15_33_12of14.dt5\u001b[0m\n",
            "\u001b[32m2024-10-18 03:55:07.220\u001b[0m | \u001b[1mINFO    \u001b[0m | \u001b[36mlighthouse.data_loader.load_chuv\u001b[0m:\u001b[36mconcatenate_dt5\u001b[0m:\u001b[36m497\u001b[0m - \u001b[1mLoading /Volumes/__UP2/0_RAW_DATA/UP2_001/UP2001_2023_12_11_Rehabilitation_day14_BrainGPTstim/wisci/2023_12_11_14_13_48 (rec7(pronation_extension))/ABSD data/2023_12_11_14_15_33_13of14.dt5\u001b[0m\n",
            "\u001b[32m2024-10-18 03:56:13.972\u001b[0m | \u001b[1mINFO    \u001b[0m | \u001b[36mlighthouse.data_loader.load_chuv\u001b[0m:\u001b[36mconcatenate_dt5\u001b[0m:\u001b[36m497\u001b[0m - \u001b[1mLoading /Volumes/__UP2/0_RAW_DATA/UP2_001/UP2001_2023_12_11_Rehabilitation_day14_BrainGPTstim/wisci/2023_12_11_14_13_48 (rec7(pronation_extension))/ABSD data/2023_12_11_14_15_33_14of14.dt5\u001b[0m\n"
          ]
        },
        {
          "name": "stdout",
          "output_type": "stream",
          "text": [
            "Signals shape: (56, 2358466)\n",
            "New signal shape: (56, 268804)\n",
            "length of data: 67\n"
          ]
        },
        {
          "name": "stderr",
          "output_type": "stream",
          "text": [
            " 38%|███▊      | 25/65 [3:48:09<6:04:04, 546.11s/it]"
          ]
        },
        {
          "name": "stdout",
          "output_type": "stream",
          "text": [
            "Checkpoint saved after session 24\n",
            "Current session: (PosixPath('/Volumes/__UP2/0_RAW_DATA/UP2_001/UP2001_2023_12_13_Rehabilitation_day16_optiOpen_RehabIkr'), 25)\n",
            "length of data: 67\n"
          ]
        },
        {
          "name": "stderr",
          "output_type": "stream",
          "text": [
            " 40%|████      | 26/65 [3:48:37<4:14:02, 390.83s/it]"
          ]
        },
        {
          "name": "stdout",
          "output_type": "stream",
          "text": [
            "Checkpoint saved after session 25\n",
            "Current session: (PosixPath('/Volumes/__UP2/0_RAW_DATA/UP2_001/UP2001_2023_12_18_Rehabilitation_day18_Rehab'), 26)\n"
          ]
        },
        {
          "name": "stderr",
          "output_type": "stream",
          "text": [
            "\u001b[32m2024-10-18 03:57:21.638\u001b[0m | \u001b[1mINFO    \u001b[0m | \u001b[36mlighthouse.data_loader.load_chuv\u001b[0m:\u001b[36mconcatenate_dt5\u001b[0m:\u001b[36m497\u001b[0m - \u001b[1mLoading /Volumes/__UP2/0_RAW_DATA/UP2_001/UP2001_2023_12_18_Rehabilitation_day18_Rehab/wisci/2023_12_18_15_08_37 (rec3 glove kyu)/ABSD data/2023_12_18_15_11_02_01of08.dt5\u001b[0m\n",
            "\u001b[32m2024-10-18 03:58:01.427\u001b[0m | \u001b[1mINFO    \u001b[0m | \u001b[36mlighthouse.data_loader.load_chuv\u001b[0m:\u001b[36mload_dt5\u001b[0m:\u001b[36m196\u001b[0m - \u001b[1mScenario Name: classBCIViewerAvatarAllDegreesCourtine\u001b[0m\n",
            "\u001b[32m2024-10-18 03:58:01.436\u001b[0m | \u001b[1mINFO    \u001b[0m | \u001b[36mlighthouse.data_loader.load_chuv\u001b[0m:\u001b[36mload_dt5\u001b[0m:\u001b[36m199\u001b[0m - \u001b[1mSub Scenario Name: classBSISubScenarioUpperJointsClassif\u001b[0m\n",
            "\u001b[32m2024-10-18 03:58:05.921\u001b[0m | \u001b[1mINFO    \u001b[0m | \u001b[36mlighthouse.data_loader.load_chuv\u001b[0m:\u001b[36mconcatenate_dt5\u001b[0m:\u001b[36m497\u001b[0m - \u001b[1mLoading /Volumes/__UP2/0_RAW_DATA/UP2_001/UP2001_2023_12_18_Rehabilitation_day18_Rehab/wisci/2023_12_18_15_08_37 (rec3 glove kyu)/ABSD data/2023_12_18_15_11_02_02of08.dt5\u001b[0m\n",
            "\u001b[32m2024-10-18 03:58:54.201\u001b[0m | \u001b[1mINFO    \u001b[0m | \u001b[36mlighthouse.data_loader.load_chuv\u001b[0m:\u001b[36mconcatenate_dt5\u001b[0m:\u001b[36m497\u001b[0m - \u001b[1mLoading /Volumes/__UP2/0_RAW_DATA/UP2_001/UP2001_2023_12_18_Rehabilitation_day18_Rehab/wisci/2023_12_18_15_08_37 (rec3 glove kyu)/ABSD data/2023_12_18_15_11_02_03of08.dt5\u001b[0m\n",
            "\u001b[32m2024-10-18 03:59:41.923\u001b[0m | \u001b[1mINFO    \u001b[0m | \u001b[36mlighthouse.data_loader.load_chuv\u001b[0m:\u001b[36mconcatenate_dt5\u001b[0m:\u001b[36m497\u001b[0m - \u001b[1mLoading /Volumes/__UP2/0_RAW_DATA/UP2_001/UP2001_2023_12_18_Rehabilitation_day18_Rehab/wisci/2023_12_18_15_08_37 (rec3 glove kyu)/ABSD data/2023_12_18_15_11_02_04of08.dt5\u001b[0m\n",
            "\u001b[32m2024-10-18 04:00:32.644\u001b[0m | \u001b[1mINFO    \u001b[0m | \u001b[36mlighthouse.data_loader.load_chuv\u001b[0m:\u001b[36mconcatenate_dt5\u001b[0m:\u001b[36m497\u001b[0m - \u001b[1mLoading /Volumes/__UP2/0_RAW_DATA/UP2_001/UP2001_2023_12_18_Rehabilitation_day18_Rehab/wisci/2023_12_18_15_08_37 (rec3 glove kyu)/ABSD data/2023_12_18_15_11_02_05of08.dt5\u001b[0m\n",
            "\u001b[32m2024-10-18 04:01:18.691\u001b[0m | \u001b[1mINFO    \u001b[0m | \u001b[36mlighthouse.data_loader.load_chuv\u001b[0m:\u001b[36mconcatenate_dt5\u001b[0m:\u001b[36m497\u001b[0m - \u001b[1mLoading /Volumes/__UP2/0_RAW_DATA/UP2_001/UP2001_2023_12_18_Rehabilitation_day18_Rehab/wisci/2023_12_18_15_08_37 (rec3 glove kyu)/ABSD data/2023_12_18_15_11_02_06of08.dt5\u001b[0m\n",
            "\u001b[32m2024-10-18 04:02:07.039\u001b[0m | \u001b[1mINFO    \u001b[0m | \u001b[36mlighthouse.data_loader.load_chuv\u001b[0m:\u001b[36mconcatenate_dt5\u001b[0m:\u001b[36m497\u001b[0m - \u001b[1mLoading /Volumes/__UP2/0_RAW_DATA/UP2_001/UP2001_2023_12_18_Rehabilitation_day18_Rehab/wisci/2023_12_18_15_08_37 (rec3 glove kyu)/ABSD data/2023_12_18_15_11_02_07of08.dt5\u001b[0m\n",
            "\u001b[32m2024-10-18 04:02:57.800\u001b[0m | \u001b[1mINFO    \u001b[0m | \u001b[36mlighthouse.data_loader.load_chuv\u001b[0m:\u001b[36mconcatenate_dt5\u001b[0m:\u001b[36m497\u001b[0m - \u001b[1mLoading /Volumes/__UP2/0_RAW_DATA/UP2_001/UP2001_2023_12_18_Rehabilitation_day18_Rehab/wisci/2023_12_18_15_08_37 (rec3 glove kyu)/ABSD data/2023_12_18_15_11_02_08of08.dt5\u001b[0m\n"
          ]
        },
        {
          "name": "stdout",
          "output_type": "stream",
          "text": [
            "Signals shape: (56, 1406029)\n",
            "New signal shape: (56, 14927)\n"
          ]
        },
        {
          "name": "stderr",
          "output_type": "stream",
          "text": [
            "\u001b[32m2024-10-18 04:03:45.229\u001b[0m | \u001b[1mINFO    \u001b[0m | \u001b[36mlighthouse.data_loader.load_chuv\u001b[0m:\u001b[36mconcatenate_dt5\u001b[0m:\u001b[36m497\u001b[0m - \u001b[1mLoading /Volumes/__UP2/0_RAW_DATA/UP2_001/UP2001_2023_12_18_Rehabilitation_day18_Rehab/wisci/2023_12_18_13_57_41 (rec1)/ABSD data/2023_12_18_14_03_03_01of04.dt5\u001b[0m\n",
            "\u001b[32m2024-10-18 04:04:40.007\u001b[0m | \u001b[1mINFO    \u001b[0m | \u001b[36mlighthouse.data_loader.load_chuv\u001b[0m:\u001b[36mload_dt5\u001b[0m:\u001b[36m196\u001b[0m - \u001b[1mScenario Name: classBCIViewerAvatarAllDegreesCourtine\u001b[0m\n",
            "\u001b[32m2024-10-18 04:04:40.010\u001b[0m | \u001b[1mINFO    \u001b[0m | \u001b[36mlighthouse.data_loader.load_chuv\u001b[0m:\u001b[36mload_dt5\u001b[0m:\u001b[36m199\u001b[0m - \u001b[1mSub Scenario Name: classBSISubScenarioUpperJointsClassif\u001b[0m\n",
            "\u001b[32m2024-10-18 04:04:44.329\u001b[0m | \u001b[1mINFO    \u001b[0m | \u001b[36mlighthouse.data_loader.load_chuv\u001b[0m:\u001b[36mconcatenate_dt5\u001b[0m:\u001b[36m497\u001b[0m - \u001b[1mLoading /Volumes/__UP2/0_RAW_DATA/UP2_001/UP2001_2023_12_18_Rehabilitation_day18_Rehab/wisci/2023_12_18_13_57_41 (rec1)/ABSD data/2023_12_18_14_03_03_02of04.dt5\u001b[0m\n",
            "\u001b[32m2024-10-18 04:05:32.875\u001b[0m | \u001b[1mINFO    \u001b[0m | \u001b[36mlighthouse.data_loader.load_chuv\u001b[0m:\u001b[36mconcatenate_dt5\u001b[0m:\u001b[36m497\u001b[0m - \u001b[1mLoading /Volumes/__UP2/0_RAW_DATA/UP2_001/UP2001_2023_12_18_Rehabilitation_day18_Rehab/wisci/2023_12_18_13_57_41 (rec1)/ABSD data/2023_12_18_14_03_03_03of04.dt5\u001b[0m\n",
            "\u001b[32m2024-10-18 04:06:18.475\u001b[0m | \u001b[1mINFO    \u001b[0m | \u001b[36mlighthouse.data_loader.load_chuv\u001b[0m:\u001b[36mconcatenate_dt5\u001b[0m:\u001b[36m497\u001b[0m - \u001b[1mLoading /Volumes/__UP2/0_RAW_DATA/UP2_001/UP2001_2023_12_18_Rehabilitation_day18_Rehab/wisci/2023_12_18_13_57_41 (rec1)/ABSD data/2023_12_18_14_03_03_04of04.dt5\u001b[0m\n"
          ]
        },
        {
          "name": "stdout",
          "output_type": "stream",
          "text": [
            "Signals shape: (56, 695197)\n",
            "New signal shape: (56, 0)\n",
            "length of data: 69\n"
          ]
        },
        {
          "name": "stderr",
          "output_type": "stream",
          "text": [
            " 42%|████▏     | 27/65 [3:58:42<4:48:15, 455.13s/it]"
          ]
        },
        {
          "name": "stdout",
          "output_type": "stream",
          "text": [
            "Checkpoint saved after session 26\n",
            "Current session: (PosixPath('/Volumes/__UP2/0_RAW_DATA/UP2_001/UP2001_2023_12_21_Rehabitilitation_day20_Rehab'), 27)\n"
          ]
        },
        {
          "name": "stderr",
          "output_type": "stream",
          "text": [
            "\u001b[32m2024-10-18 04:07:30.119\u001b[0m | \u001b[1mINFO    \u001b[0m | \u001b[36mlighthouse.data_loader.load_chuv\u001b[0m:\u001b[36mconcatenate_dt5\u001b[0m:\u001b[36m497\u001b[0m - \u001b[1mLoading /Volumes/__UP2/0_RAW_DATA/UP2_001/UP2001_2023_12_21_Rehabitilitation_day20_Rehab/wisci/ABSD data/2023_12_21_13_32_29_01of08.dt5\u001b[0m\n",
            "\u001b[32m2024-10-18 04:08:10.154\u001b[0m | \u001b[1mINFO    \u001b[0m | \u001b[36mlighthouse.data_loader.load_chuv\u001b[0m:\u001b[36mload_dt5\u001b[0m:\u001b[36m196\u001b[0m - \u001b[1mScenario Name: classBCIViewerAvatarAllDegreesCourtine\u001b[0m\n",
            "\u001b[32m2024-10-18 04:08:10.163\u001b[0m | \u001b[1mINFO    \u001b[0m | \u001b[36mlighthouse.data_loader.load_chuv\u001b[0m:\u001b[36mload_dt5\u001b[0m:\u001b[36m199\u001b[0m - \u001b[1mSub Scenario Name: classBSISubScenarioUpperJointsClassif\u001b[0m\n",
            "\u001b[32m2024-10-18 04:08:14.509\u001b[0m | \u001b[1mINFO    \u001b[0m | \u001b[36mlighthouse.data_loader.load_chuv\u001b[0m:\u001b[36mconcatenate_dt5\u001b[0m:\u001b[36m497\u001b[0m - \u001b[1mLoading /Volumes/__UP2/0_RAW_DATA/UP2_001/UP2001_2023_12_21_Rehabitilitation_day20_Rehab/wisci/ABSD data/2023_12_21_13_32_29_02of08.dt5\u001b[0m\n",
            "\u001b[32m2024-10-18 04:09:00.579\u001b[0m | \u001b[1mINFO    \u001b[0m | \u001b[36mlighthouse.data_loader.load_chuv\u001b[0m:\u001b[36mconcatenate_dt5\u001b[0m:\u001b[36m497\u001b[0m - \u001b[1mLoading /Volumes/__UP2/0_RAW_DATA/UP2_001/UP2001_2023_12_21_Rehabitilitation_day20_Rehab/wisci/ABSD data/2023_12_21_13_32_29_03of08.dt5\u001b[0m\n",
            "\u001b[32m2024-10-18 04:09:47.935\u001b[0m | \u001b[1mINFO    \u001b[0m | \u001b[36mlighthouse.data_loader.load_chuv\u001b[0m:\u001b[36mconcatenate_dt5\u001b[0m:\u001b[36m497\u001b[0m - \u001b[1mLoading /Volumes/__UP2/0_RAW_DATA/UP2_001/UP2001_2023_12_21_Rehabitilitation_day20_Rehab/wisci/ABSD data/2023_12_21_13_32_29_04of08.dt5\u001b[0m\n",
            "\u001b[32m2024-10-18 04:10:32.525\u001b[0m | \u001b[1mINFO    \u001b[0m | \u001b[36mlighthouse.data_loader.load_chuv\u001b[0m:\u001b[36mconcatenate_dt5\u001b[0m:\u001b[36m497\u001b[0m - \u001b[1mLoading /Volumes/__UP2/0_RAW_DATA/UP2_001/UP2001_2023_12_21_Rehabitilitation_day20_Rehab/wisci/ABSD data/2023_12_21_13_32_29_05of08.dt5\u001b[0m\n",
            "\u001b[32m2024-10-18 04:11:17.912\u001b[0m | \u001b[1mINFO    \u001b[0m | \u001b[36mlighthouse.data_loader.load_chuv\u001b[0m:\u001b[36mconcatenate_dt5\u001b[0m:\u001b[36m497\u001b[0m - \u001b[1mLoading /Volumes/__UP2/0_RAW_DATA/UP2_001/UP2001_2023_12_21_Rehabitilitation_day20_Rehab/wisci/ABSD data/2023_12_21_13_32_29_06of08.dt5\u001b[0m\n",
            "\u001b[32m2024-10-18 04:12:00.933\u001b[0m | \u001b[1mINFO    \u001b[0m | \u001b[36mlighthouse.data_loader.load_chuv\u001b[0m:\u001b[36mconcatenate_dt5\u001b[0m:\u001b[36m497\u001b[0m - \u001b[1mLoading /Volumes/__UP2/0_RAW_DATA/UP2_001/UP2001_2023_12_21_Rehabitilitation_day20_Rehab/wisci/ABSD data/2023_12_21_13_32_29_07of08.dt5\u001b[0m\n",
            "\u001b[32m2024-10-18 04:12:47.469\u001b[0m | \u001b[1mINFO    \u001b[0m | \u001b[36mlighthouse.data_loader.load_chuv\u001b[0m:\u001b[36mconcatenate_dt5\u001b[0m:\u001b[36m497\u001b[0m - \u001b[1mLoading /Volumes/__UP2/0_RAW_DATA/UP2_001/UP2001_2023_12_21_Rehabitilitation_day20_Rehab/wisci/ABSD data/2023_12_21_13_32_29_08of08.dt5\u001b[0m\n"
          ]
        },
        {
          "name": "stdout",
          "output_type": "stream",
          "text": [
            "Signals shape: (56, 1261243)\n",
            "New signal shape: (56, 70269)\n"
          ]
        },
        {
          "name": "stderr",
          "output_type": "stream",
          "text": [
            "\u001b[32m2024-10-18 04:12:54.236\u001b[0m | \u001b[1mINFO    \u001b[0m | \u001b[36mlighthouse.data_loader.load_chuv\u001b[0m:\u001b[36mconcatenate_dt5\u001b[0m:\u001b[36m497\u001b[0m - \u001b[1mLoading /Volumes/__UP2/0_RAW_DATA/UP2_001/UP2001_2023_12_21_Rehabitilitation_day20_Rehab/wisci/2023_12_21_14_10_01 (rec2)/ABSD data/2023_12_21_14_13_21_01of06.dt5\u001b[0m\n",
            "\u001b[32m2024-10-18 04:13:35.786\u001b[0m | \u001b[1mINFO    \u001b[0m | \u001b[36mlighthouse.data_loader.load_chuv\u001b[0m:\u001b[36mload_dt5\u001b[0m:\u001b[36m196\u001b[0m - \u001b[1mScenario Name: classBCIViewerAvatarAllDegreesCourtine\u001b[0m\n",
            "\u001b[32m2024-10-18 04:13:35.789\u001b[0m | \u001b[1mINFO    \u001b[0m | \u001b[36mlighthouse.data_loader.load_chuv\u001b[0m:\u001b[36mload_dt5\u001b[0m:\u001b[36m199\u001b[0m - \u001b[1mSub Scenario Name: classBSISubScenarioUpperJointsClassif\u001b[0m\n",
            "\u001b[32m2024-10-18 04:13:39.867\u001b[0m | \u001b[1mINFO    \u001b[0m | \u001b[36mlighthouse.data_loader.load_chuv\u001b[0m:\u001b[36mconcatenate_dt5\u001b[0m:\u001b[36m497\u001b[0m - \u001b[1mLoading /Volumes/__UP2/0_RAW_DATA/UP2_001/UP2001_2023_12_21_Rehabitilitation_day20_Rehab/wisci/2023_12_21_14_10_01 (rec2)/ABSD data/2023_12_21_14_13_21_02of06.dt5\u001b[0m\n",
            "\u001b[32m2024-10-18 04:14:26.221\u001b[0m | \u001b[1mINFO    \u001b[0m | \u001b[36mlighthouse.data_loader.load_chuv\u001b[0m:\u001b[36mconcatenate_dt5\u001b[0m:\u001b[36m497\u001b[0m - \u001b[1mLoading /Volumes/__UP2/0_RAW_DATA/UP2_001/UP2001_2023_12_21_Rehabitilitation_day20_Rehab/wisci/2023_12_21_14_10_01 (rec2)/ABSD data/2023_12_21_14_13_21_03of06.dt5\u001b[0m\n",
            "\u001b[32m2024-10-18 04:15:09.686\u001b[0m | \u001b[1mINFO    \u001b[0m | \u001b[36mlighthouse.data_loader.load_chuv\u001b[0m:\u001b[36mconcatenate_dt5\u001b[0m:\u001b[36m497\u001b[0m - \u001b[1mLoading /Volumes/__UP2/0_RAW_DATA/UP2_001/UP2001_2023_12_21_Rehabitilitation_day20_Rehab/wisci/2023_12_21_14_10_01 (rec2)/ABSD data/2023_12_21_14_13_21_04of06.dt5\u001b[0m\n",
            "\u001b[32m2024-10-18 04:15:54.569\u001b[0m | \u001b[1mINFO    \u001b[0m | \u001b[36mlighthouse.data_loader.load_chuv\u001b[0m:\u001b[36mconcatenate_dt5\u001b[0m:\u001b[36m497\u001b[0m - \u001b[1mLoading /Volumes/__UP2/0_RAW_DATA/UP2_001/UP2001_2023_12_21_Rehabitilitation_day20_Rehab/wisci/2023_12_21_14_10_01 (rec2)/ABSD data/2023_12_21_14_13_21_05of06.dt5\u001b[0m\n",
            "\u001b[32m2024-10-18 04:16:40.597\u001b[0m | \u001b[1mINFO    \u001b[0m | \u001b[36mlighthouse.data_loader.load_chuv\u001b[0m:\u001b[36mconcatenate_dt5\u001b[0m:\u001b[36m497\u001b[0m - \u001b[1mLoading /Volumes/__UP2/0_RAW_DATA/UP2_001/UP2001_2023_12_21_Rehabitilitation_day20_Rehab/wisci/2023_12_21_14_10_01 (rec2)/ABSD data/2023_12_21_14_13_21_06of06.dt5\u001b[0m\n"
          ]
        },
        {
          "name": "stdout",
          "output_type": "stream",
          "text": [
            "Signals shape: (56, 957747)\n",
            "New signal shape: (56, 20591)\n",
            "length of data: 71\n"
          ]
        },
        {
          "name": "stderr",
          "output_type": "stream",
          "text": [
            " 43%|████▎     | 28/65 [4:08:38<5:06:45, 497.44s/it]"
          ]
        },
        {
          "name": "stdout",
          "output_type": "stream",
          "text": [
            "Checkpoint saved after session 27\n",
            "Current session: (PosixPath('/Volumes/__UP2/0_RAW_DATA/UP2_001/UP2001_2023_12_20_Rehabilitation_day19_Rehab'), 28)\n"
          ]
        },
        {
          "name": "stderr",
          "output_type": "stream",
          "text": [
            "\u001b[32m2024-10-18 04:17:24.144\u001b[0m | \u001b[1mINFO    \u001b[0m | \u001b[36mlighthouse.data_loader.load_chuv\u001b[0m:\u001b[36mconcatenate_dt5\u001b[0m:\u001b[36m497\u001b[0m - \u001b[1mLoading /Volumes/__UP2/0_RAW_DATA/UP2_001/UP2001_2023_12_20_Rehabilitation_day19_Rehab/wisci/ABSD data/2023_12_20_14_46_27_01of04.dt5\u001b[0m\n",
            "\u001b[32m2024-10-18 04:18:04.324\u001b[0m | \u001b[1mINFO    \u001b[0m | \u001b[36mlighthouse.data_loader.load_chuv\u001b[0m:\u001b[36mload_dt5\u001b[0m:\u001b[36m196\u001b[0m - \u001b[1mScenario Name: classBCIViewerAvatarAllDegreesCourtine\u001b[0m\n",
            "\u001b[32m2024-10-18 04:18:04.332\u001b[0m | \u001b[1mINFO    \u001b[0m | \u001b[36mlighthouse.data_loader.load_chuv\u001b[0m:\u001b[36mload_dt5\u001b[0m:\u001b[36m199\u001b[0m - \u001b[1mSub Scenario Name: classBSISubScenarioUpperJointsClassif\u001b[0m\n",
            "\u001b[32m2024-10-18 04:18:08.706\u001b[0m | \u001b[1mINFO    \u001b[0m | \u001b[36mlighthouse.data_loader.load_chuv\u001b[0m:\u001b[36mconcatenate_dt5\u001b[0m:\u001b[36m497\u001b[0m - \u001b[1mLoading /Volumes/__UP2/0_RAW_DATA/UP2_001/UP2001_2023_12_20_Rehabilitation_day19_Rehab/wisci/ABSD data/2023_12_20_14_46_27_02of04.dt5\u001b[0m\n",
            "\u001b[32m2024-10-18 04:18:53.405\u001b[0m | \u001b[1mINFO    \u001b[0m | \u001b[36mlighthouse.data_loader.load_chuv\u001b[0m:\u001b[36mconcatenate_dt5\u001b[0m:\u001b[36m497\u001b[0m - \u001b[1mLoading /Volumes/__UP2/0_RAW_DATA/UP2_001/UP2001_2023_12_20_Rehabilitation_day19_Rehab/wisci/ABSD data/2023_12_20_14_46_27_03of04.dt5\u001b[0m\n",
            "\u001b[32m2024-10-18 04:19:41.344\u001b[0m | \u001b[1mINFO    \u001b[0m | \u001b[36mlighthouse.data_loader.load_chuv\u001b[0m:\u001b[36mconcatenate_dt5\u001b[0m:\u001b[36m497\u001b[0m - \u001b[1mLoading /Volumes/__UP2/0_RAW_DATA/UP2_001/UP2001_2023_12_20_Rehabilitation_day19_Rehab/wisci/ABSD data/2023_12_20_14_46_27_04of04.dt5\u001b[0m\n"
          ]
        },
        {
          "name": "stdout",
          "output_type": "stream",
          "text": [
            "Signals shape: (56, 675491)\n",
            "New signal shape: (56, 0)\n"
          ]
        },
        {
          "name": "stderr",
          "output_type": "stream",
          "text": [
            "\u001b[32m2024-10-18 04:20:18.566\u001b[0m | \u001b[1mINFO    \u001b[0m | \u001b[36mlighthouse.data_loader.load_chuv\u001b[0m:\u001b[36mconcatenate_dt5\u001b[0m:\u001b[36m497\u001b[0m - \u001b[1mLoading /Volumes/__UP2/0_RAW_DATA/UP2_001/UP2001_2023_12_20_Rehabilitation_day19_Rehab/wisci/2023_12_20_13_26_55 (rec3 hand)/ABSD data/2023_12_20_13_30_00_01of08.dt5\u001b[0m\n",
            "\u001b[32m2024-10-18 04:20:58.271\u001b[0m | \u001b[1mINFO    \u001b[0m | \u001b[36mlighthouse.data_loader.load_chuv\u001b[0m:\u001b[36mload_dt5\u001b[0m:\u001b[36m196\u001b[0m - \u001b[1mScenario Name: classBCIViewerAvatarAllDegreesCourtine\u001b[0m\n",
            "\u001b[32m2024-10-18 04:20:58.276\u001b[0m | \u001b[1mINFO    \u001b[0m | \u001b[36mlighthouse.data_loader.load_chuv\u001b[0m:\u001b[36mload_dt5\u001b[0m:\u001b[36m199\u001b[0m - \u001b[1mSub Scenario Name: classBSISubScenarioUpperJointsClassif\u001b[0m\n",
            "\u001b[32m2024-10-18 04:21:02.246\u001b[0m | \u001b[1mINFO    \u001b[0m | \u001b[36mlighthouse.data_loader.load_chuv\u001b[0m:\u001b[36mconcatenate_dt5\u001b[0m:\u001b[36m497\u001b[0m - \u001b[1mLoading /Volumes/__UP2/0_RAW_DATA/UP2_001/UP2001_2023_12_20_Rehabilitation_day19_Rehab/wisci/2023_12_20_13_26_55 (rec3 hand)/ABSD data/2023_12_20_13_30_00_02of08.dt5\u001b[0m\n",
            "\u001b[32m2024-10-18 04:21:48.254\u001b[0m | \u001b[1mINFO    \u001b[0m | \u001b[36mlighthouse.data_loader.load_chuv\u001b[0m:\u001b[36mconcatenate_dt5\u001b[0m:\u001b[36m497\u001b[0m - \u001b[1mLoading /Volumes/__UP2/0_RAW_DATA/UP2_001/UP2001_2023_12_20_Rehabilitation_day19_Rehab/wisci/2023_12_20_13_26_55 (rec3 hand)/ABSD data/2023_12_20_13_30_00_03of08.dt5\u001b[0m\n",
            "\u001b[32m2024-10-18 04:22:32.467\u001b[0m | \u001b[1mINFO    \u001b[0m | \u001b[36mlighthouse.data_loader.load_chuv\u001b[0m:\u001b[36mconcatenate_dt5\u001b[0m:\u001b[36m497\u001b[0m - \u001b[1mLoading /Volumes/__UP2/0_RAW_DATA/UP2_001/UP2001_2023_12_20_Rehabilitation_day19_Rehab/wisci/2023_12_20_13_26_55 (rec3 hand)/ABSD data/2023_12_20_13_30_00_04of08.dt5\u001b[0m\n",
            "\u001b[32m2024-10-18 04:23:17.418\u001b[0m | \u001b[1mINFO    \u001b[0m | \u001b[36mlighthouse.data_loader.load_chuv\u001b[0m:\u001b[36mconcatenate_dt5\u001b[0m:\u001b[36m497\u001b[0m - \u001b[1mLoading /Volumes/__UP2/0_RAW_DATA/UP2_001/UP2001_2023_12_20_Rehabilitation_day19_Rehab/wisci/2023_12_20_13_26_55 (rec3 hand)/ABSD data/2023_12_20_13_30_00_05of08.dt5\u001b[0m\n",
            "\u001b[32m2024-10-18 04:24:03.711\u001b[0m | \u001b[1mINFO    \u001b[0m | \u001b[36mlighthouse.data_loader.load_chuv\u001b[0m:\u001b[36mconcatenate_dt5\u001b[0m:\u001b[36m497\u001b[0m - \u001b[1mLoading /Volumes/__UP2/0_RAW_DATA/UP2_001/UP2001_2023_12_20_Rehabilitation_day19_Rehab/wisci/2023_12_20_13_26_55 (rec3 hand)/ABSD data/2023_12_20_13_30_00_06of08.dt5\u001b[0m\n",
            "\u001b[32m2024-10-18 04:24:50.500\u001b[0m | \u001b[1mINFO    \u001b[0m | \u001b[36mlighthouse.data_loader.load_chuv\u001b[0m:\u001b[36mconcatenate_dt5\u001b[0m:\u001b[36m497\u001b[0m - \u001b[1mLoading /Volumes/__UP2/0_RAW_DATA/UP2_001/UP2001_2023_12_20_Rehabilitation_day19_Rehab/wisci/2023_12_20_13_26_55 (rec3 hand)/ABSD data/2023_12_20_13_30_00_07of08.dt5\u001b[0m\n",
            "\u001b[32m2024-10-18 04:25:34.967\u001b[0m | \u001b[1mINFO    \u001b[0m | \u001b[36mlighthouse.data_loader.load_chuv\u001b[0m:\u001b[36mconcatenate_dt5\u001b[0m:\u001b[36m497\u001b[0m - \u001b[1mLoading /Volumes/__UP2/0_RAW_DATA/UP2_001/UP2001_2023_12_20_Rehabilitation_day19_Rehab/wisci/2023_12_20_13_26_55 (rec3 hand)/ABSD data/2023_12_20_13_30_00_08of08.dt5\u001b[0m\n"
          ]
        },
        {
          "name": "stdout",
          "output_type": "stream",
          "text": [
            "Signals shape: (56, 1324550)\n",
            "New signal shape: (56, 75284)\n"
          ]
        },
        {
          "name": "stderr",
          "output_type": "stream",
          "text": [
            "\u001b[32m2024-10-18 04:25:57.013\u001b[0m | \u001b[1mINFO    \u001b[0m | \u001b[36mlighthouse.data_loader.load_chuv\u001b[0m:\u001b[36mconcatenate_dt5\u001b[0m:\u001b[36m497\u001b[0m - \u001b[1mLoading /Volumes/__UP2/0_RAW_DATA/UP2_001/UP2001_2023_12_20_Rehabilitation_day19_Rehab/wisci/2023_12_20_15_06_27 (rec5)/ABSD data/2023_12_20_15_08_17_01of08.dt5\u001b[0m\n",
            "\u001b[32m2024-10-18 04:26:38.588\u001b[0m | \u001b[1mINFO    \u001b[0m | \u001b[36mlighthouse.data_loader.load_chuv\u001b[0m:\u001b[36mload_dt5\u001b[0m:\u001b[36m196\u001b[0m - \u001b[1mScenario Name: classBCIViewerAvatarAllDegreesCourtine\u001b[0m\n",
            "\u001b[32m2024-10-18 04:26:38.593\u001b[0m | \u001b[1mINFO    \u001b[0m | \u001b[36mlighthouse.data_loader.load_chuv\u001b[0m:\u001b[36mload_dt5\u001b[0m:\u001b[36m199\u001b[0m - \u001b[1mSub Scenario Name: classBSISubScenarioUpperJointsClassif\u001b[0m\n",
            "\u001b[32m2024-10-18 04:26:42.598\u001b[0m | \u001b[1mINFO    \u001b[0m | \u001b[36mlighthouse.data_loader.load_chuv\u001b[0m:\u001b[36mconcatenate_dt5\u001b[0m:\u001b[36m497\u001b[0m - \u001b[1mLoading /Volumes/__UP2/0_RAW_DATA/UP2_001/UP2001_2023_12_20_Rehabilitation_day19_Rehab/wisci/2023_12_20_15_06_27 (rec5)/ABSD data/2023_12_20_15_08_17_02of08.dt5\u001b[0m\n",
            "\u001b[32m2024-10-18 04:27:28.643\u001b[0m | \u001b[1mINFO    \u001b[0m | \u001b[36mlighthouse.data_loader.load_chuv\u001b[0m:\u001b[36mconcatenate_dt5\u001b[0m:\u001b[36m497\u001b[0m - \u001b[1mLoading /Volumes/__UP2/0_RAW_DATA/UP2_001/UP2001_2023_12_20_Rehabilitation_day19_Rehab/wisci/2023_12_20_15_06_27 (rec5)/ABSD data/2023_12_20_15_08_17_03of08.dt5\u001b[0m\n",
            "\u001b[32m2024-10-18 04:28:12.647\u001b[0m | \u001b[1mINFO    \u001b[0m | \u001b[36mlighthouse.data_loader.load_chuv\u001b[0m:\u001b[36mconcatenate_dt5\u001b[0m:\u001b[36m497\u001b[0m - \u001b[1mLoading /Volumes/__UP2/0_RAW_DATA/UP2_001/UP2001_2023_12_20_Rehabilitation_day19_Rehab/wisci/2023_12_20_15_06_27 (rec5)/ABSD data/2023_12_20_15_08_17_04of08.dt5\u001b[0m\n",
            "\u001b[32m2024-10-18 04:28:59.811\u001b[0m | \u001b[1mINFO    \u001b[0m | \u001b[36mlighthouse.data_loader.load_chuv\u001b[0m:\u001b[36mconcatenate_dt5\u001b[0m:\u001b[36m497\u001b[0m - \u001b[1mLoading /Volumes/__UP2/0_RAW_DATA/UP2_001/UP2001_2023_12_20_Rehabilitation_day19_Rehab/wisci/2023_12_20_15_06_27 (rec5)/ABSD data/2023_12_20_15_08_17_05of08.dt5\u001b[0m\n",
            "\u001b[32m2024-10-18 04:29:47.632\u001b[0m | \u001b[1mINFO    \u001b[0m | \u001b[36mlighthouse.data_loader.load_chuv\u001b[0m:\u001b[36mconcatenate_dt5\u001b[0m:\u001b[36m497\u001b[0m - \u001b[1mLoading /Volumes/__UP2/0_RAW_DATA/UP2_001/UP2001_2023_12_20_Rehabilitation_day19_Rehab/wisci/2023_12_20_15_06_27 (rec5)/ABSD data/2023_12_20_15_08_17_06of08.dt5\u001b[0m\n",
            "\u001b[32m2024-10-18 04:30:31.541\u001b[0m | \u001b[1mINFO    \u001b[0m | \u001b[36mlighthouse.data_loader.load_chuv\u001b[0m:\u001b[36mconcatenate_dt5\u001b[0m:\u001b[36m497\u001b[0m - \u001b[1mLoading /Volumes/__UP2/0_RAW_DATA/UP2_001/UP2001_2023_12_20_Rehabilitation_day19_Rehab/wisci/2023_12_20_15_06_27 (rec5)/ABSD data/2023_12_20_15_08_17_07of08.dt5\u001b[0m\n",
            "\u001b[32m2024-10-18 04:31:16.023\u001b[0m | \u001b[1mINFO    \u001b[0m | \u001b[36mlighthouse.data_loader.load_chuv\u001b[0m:\u001b[36mconcatenate_dt5\u001b[0m:\u001b[36m497\u001b[0m - \u001b[1mLoading /Volumes/__UP2/0_RAW_DATA/UP2_001/UP2001_2023_12_20_Rehabilitation_day19_Rehab/wisci/2023_12_20_15_06_27 (rec5)/ABSD data/2023_12_20_15_08_17_08of08.dt5\u001b[0m\n"
          ]
        },
        {
          "name": "stdout",
          "output_type": "stream",
          "text": [
            "Signals shape: (56, 1399421)\n",
            "New signal shape: (56, 56994)\n",
            "length of data: 74\n"
          ]
        },
        {
          "name": "stderr",
          "output_type": "stream",
          "text": [
            " 45%|████▍     | 29/65 [4:23:38<6:10:47, 617.98s/it]"
          ]
        },
        {
          "name": "stdout",
          "output_type": "stream",
          "text": [
            "Checkpoint saved after session 28\n",
            "Current session: (PosixPath('/Volumes/__UP2/0_RAW_DATA/UP2_001/UP2001_2023_12_22_Rehabiltation_day21_rehab'), 29)\n"
          ]
        },
        {
          "name": "stderr",
          "output_type": "stream",
          "text": [
            "\u001b[32m2024-10-18 04:32:21.873\u001b[0m | \u001b[1mINFO    \u001b[0m | \u001b[36mlighthouse.data_loader.load_chuv\u001b[0m:\u001b[36mconcatenate_dt5\u001b[0m:\u001b[36m497\u001b[0m - \u001b[1mLoading /Volumes/__UP2/0_RAW_DATA/UP2_001/UP2001_2023_12_22_Rehabiltation_day21_rehab/wisci/2023_12_22_13_19_14 (rec1)/ABSD data/2023_12_22_13_26_04_01of09.dt5\u001b[0m\n",
            "\u001b[32m2024-10-18 04:33:11.135\u001b[0m | \u001b[1mINFO    \u001b[0m | \u001b[36mlighthouse.data_loader.load_chuv\u001b[0m:\u001b[36mload_dt5\u001b[0m:\u001b[36m196\u001b[0m - \u001b[1mScenario Name: classBCIViewerAvatarAllDegreesCourtine\u001b[0m\n",
            "\u001b[32m2024-10-18 04:33:11.139\u001b[0m | \u001b[1mINFO    \u001b[0m | \u001b[36mlighthouse.data_loader.load_chuv\u001b[0m:\u001b[36mload_dt5\u001b[0m:\u001b[36m199\u001b[0m - \u001b[1mSub Scenario Name: classBSISubScenarioUpperJointsClassif\u001b[0m\n",
            "\u001b[32m2024-10-18 04:33:16.308\u001b[0m | \u001b[1mINFO    \u001b[0m | \u001b[36mlighthouse.data_loader.load_chuv\u001b[0m:\u001b[36mconcatenate_dt5\u001b[0m:\u001b[36m497\u001b[0m - \u001b[1mLoading /Volumes/__UP2/0_RAW_DATA/UP2_001/UP2001_2023_12_22_Rehabiltation_day21_rehab/wisci/2023_12_22_13_19_14 (rec1)/ABSD data/2023_12_22_13_26_04_02of09.dt5\u001b[0m\n",
            "\u001b[32m2024-10-18 04:34:10.375\u001b[0m | \u001b[1mINFO    \u001b[0m | \u001b[36mlighthouse.data_loader.load_chuv\u001b[0m:\u001b[36mconcatenate_dt5\u001b[0m:\u001b[36m497\u001b[0m - \u001b[1mLoading /Volumes/__UP2/0_RAW_DATA/UP2_001/UP2001_2023_12_22_Rehabiltation_day21_rehab/wisci/2023_12_22_13_19_14 (rec1)/ABSD data/2023_12_22_13_26_04_03of09.dt5\u001b[0m\n",
            "\u001b[32m2024-10-18 04:35:02.622\u001b[0m | \u001b[1mINFO    \u001b[0m | \u001b[36mlighthouse.data_loader.load_chuv\u001b[0m:\u001b[36mconcatenate_dt5\u001b[0m:\u001b[36m497\u001b[0m - \u001b[1mLoading /Volumes/__UP2/0_RAW_DATA/UP2_001/UP2001_2023_12_22_Rehabiltation_day21_rehab/wisci/2023_12_22_13_19_14 (rec1)/ABSD data/2023_12_22_13_26_04_04of09.dt5\u001b[0m\n",
            "\u001b[32m2024-10-18 04:35:54.733\u001b[0m | \u001b[1mINFO    \u001b[0m | \u001b[36mlighthouse.data_loader.load_chuv\u001b[0m:\u001b[36mconcatenate_dt5\u001b[0m:\u001b[36m497\u001b[0m - \u001b[1mLoading /Volumes/__UP2/0_RAW_DATA/UP2_001/UP2001_2023_12_22_Rehabiltation_day21_rehab/wisci/2023_12_22_13_19_14 (rec1)/ABSD data/2023_12_22_13_26_04_05of09.dt5\u001b[0m\n",
            "\u001b[32m2024-10-18 04:36:49.172\u001b[0m | \u001b[1mINFO    \u001b[0m | \u001b[36mlighthouse.data_loader.load_chuv\u001b[0m:\u001b[36mconcatenate_dt5\u001b[0m:\u001b[36m497\u001b[0m - \u001b[1mLoading /Volumes/__UP2/0_RAW_DATA/UP2_001/UP2001_2023_12_22_Rehabiltation_day21_rehab/wisci/2023_12_22_13_19_14 (rec1)/ABSD data/2023_12_22_13_26_04_06of09.dt5\u001b[0m\n",
            "\u001b[32m2024-10-18 04:37:42.513\u001b[0m | \u001b[1mINFO    \u001b[0m | \u001b[36mlighthouse.data_loader.load_chuv\u001b[0m:\u001b[36mconcatenate_dt5\u001b[0m:\u001b[36m497\u001b[0m - \u001b[1mLoading /Volumes/__UP2/0_RAW_DATA/UP2_001/UP2001_2023_12_22_Rehabiltation_day21_rehab/wisci/2023_12_22_13_19_14 (rec1)/ABSD data/2023_12_22_13_26_04_07of09.dt5\u001b[0m\n",
            "\u001b[32m2024-10-18 04:38:35.332\u001b[0m | \u001b[1mINFO    \u001b[0m | \u001b[36mlighthouse.data_loader.load_chuv\u001b[0m:\u001b[36mconcatenate_dt5\u001b[0m:\u001b[36m497\u001b[0m - \u001b[1mLoading /Volumes/__UP2/0_RAW_DATA/UP2_001/UP2001_2023_12_22_Rehabiltation_day21_rehab/wisci/2023_12_22_13_19_14 (rec1)/ABSD data/2023_12_22_13_26_04_08of09.dt5\u001b[0m\n",
            "\u001b[32m2024-10-18 04:39:27.974\u001b[0m | \u001b[1mINFO    \u001b[0m | \u001b[36mlighthouse.data_loader.load_chuv\u001b[0m:\u001b[36mconcatenate_dt5\u001b[0m:\u001b[36m497\u001b[0m - \u001b[1mLoading /Volumes/__UP2/0_RAW_DATA/UP2_001/UP2001_2023_12_22_Rehabiltation_day21_rehab/wisci/2023_12_22_13_19_14 (rec1)/ABSD data/2023_12_22_13_26_04_09of09.dt5\u001b[0m\n"
          ]
        },
        {
          "name": "stdout",
          "output_type": "stream",
          "text": [
            "Signals shape: (88, 1491225)\n",
            "New signal shape: (88, 33984)\n"
          ]
        },
        {
          "name": "stderr",
          "output_type": "stream",
          "text": [
            "\u001b[32m2024-10-18 04:39:52.002\u001b[0m | \u001b[1mINFO    \u001b[0m | \u001b[36mlighthouse.data_loader.load_chuv\u001b[0m:\u001b[36mconcatenate_dt5\u001b[0m:\u001b[36m497\u001b[0m - \u001b[1mLoading /Volumes/__UP2/0_RAW_DATA/UP2_001/UP2001_2023_12_22_Rehabiltation_day21_rehab/wisci/2023_12_22_14_09_41 (rec4)/ABSD data/2023_12_22_14_14_31_01of08.dt5\u001b[0m\n",
            "\u001b[32m2024-10-18 04:40:41.783\u001b[0m | \u001b[1mINFO    \u001b[0m | \u001b[36mlighthouse.data_loader.load_chuv\u001b[0m:\u001b[36mload_dt5\u001b[0m:\u001b[36m196\u001b[0m - \u001b[1mScenario Name: classBCIViewerAvatarAllDegreesCourtine\u001b[0m\n",
            "\u001b[32m2024-10-18 04:40:41.786\u001b[0m | \u001b[1mINFO    \u001b[0m | \u001b[36mlighthouse.data_loader.load_chuv\u001b[0m:\u001b[36mload_dt5\u001b[0m:\u001b[36m199\u001b[0m - \u001b[1mSub Scenario Name: classBSISubScenarioUpperJointsClassif\u001b[0m\n",
            "\u001b[32m2024-10-18 04:40:46.355\u001b[0m | \u001b[1mINFO    \u001b[0m | \u001b[36mlighthouse.data_loader.load_chuv\u001b[0m:\u001b[36mconcatenate_dt5\u001b[0m:\u001b[36m497\u001b[0m - \u001b[1mLoading /Volumes/__UP2/0_RAW_DATA/UP2_001/UP2001_2023_12_22_Rehabiltation_day21_rehab/wisci/2023_12_22_14_09_41 (rec4)/ABSD data/2023_12_22_14_14_31_02of08.dt5\u001b[0m\n",
            "\u001b[32m2024-10-18 04:41:38.455\u001b[0m | \u001b[1mINFO    \u001b[0m | \u001b[36mlighthouse.data_loader.load_chuv\u001b[0m:\u001b[36mconcatenate_dt5\u001b[0m:\u001b[36m497\u001b[0m - \u001b[1mLoading /Volumes/__UP2/0_RAW_DATA/UP2_001/UP2001_2023_12_22_Rehabiltation_day21_rehab/wisci/2023_12_22_14_09_41 (rec4)/ABSD data/2023_12_22_14_14_31_03of08.dt5\u001b[0m\n",
            "\u001b[32m2024-10-18 04:42:29.702\u001b[0m | \u001b[1mINFO    \u001b[0m | \u001b[36mlighthouse.data_loader.load_chuv\u001b[0m:\u001b[36mconcatenate_dt5\u001b[0m:\u001b[36m497\u001b[0m - \u001b[1mLoading /Volumes/__UP2/0_RAW_DATA/UP2_001/UP2001_2023_12_22_Rehabiltation_day21_rehab/wisci/2023_12_22_14_09_41 (rec4)/ABSD data/2023_12_22_14_14_31_04of08.dt5\u001b[0m\n",
            "\u001b[32m2024-10-18 04:43:23.606\u001b[0m | \u001b[1mINFO    \u001b[0m | \u001b[36mlighthouse.data_loader.load_chuv\u001b[0m:\u001b[36mconcatenate_dt5\u001b[0m:\u001b[36m497\u001b[0m - \u001b[1mLoading /Volumes/__UP2/0_RAW_DATA/UP2_001/UP2001_2023_12_22_Rehabiltation_day21_rehab/wisci/2023_12_22_14_09_41 (rec4)/ABSD data/2023_12_22_14_14_31_05of08.dt5\u001b[0m\n",
            "\u001b[32m2024-10-18 04:44:16.161\u001b[0m | \u001b[1mINFO    \u001b[0m | \u001b[36mlighthouse.data_loader.load_chuv\u001b[0m:\u001b[36mconcatenate_dt5\u001b[0m:\u001b[36m497\u001b[0m - \u001b[1mLoading /Volumes/__UP2/0_RAW_DATA/UP2_001/UP2001_2023_12_22_Rehabiltation_day21_rehab/wisci/2023_12_22_14_09_41 (rec4)/ABSD data/2023_12_22_14_14_31_06of08.dt5\u001b[0m\n",
            "\u001b[32m2024-10-18 04:45:07.451\u001b[0m | \u001b[1mINFO    \u001b[0m | \u001b[36mlighthouse.data_loader.load_chuv\u001b[0m:\u001b[36mconcatenate_dt5\u001b[0m:\u001b[36m497\u001b[0m - \u001b[1mLoading /Volumes/__UP2/0_RAW_DATA/UP2_001/UP2001_2023_12_22_Rehabiltation_day21_rehab/wisci/2023_12_22_14_09_41 (rec4)/ABSD data/2023_12_22_14_14_31_07of08.dt5\u001b[0m\n",
            "\u001b[32m2024-10-18 04:46:00.829\u001b[0m | \u001b[1mINFO    \u001b[0m | \u001b[36mlighthouse.data_loader.load_chuv\u001b[0m:\u001b[36mconcatenate_dt5\u001b[0m:\u001b[36m497\u001b[0m - \u001b[1mLoading /Volumes/__UP2/0_RAW_DATA/UP2_001/UP2001_2023_12_22_Rehabiltation_day21_rehab/wisci/2023_12_22_14_09_41 (rec4)/ABSD data/2023_12_22_14_14_31_08of08.dt5\u001b[0m\n"
          ]
        },
        {
          "name": "stdout",
          "output_type": "stream",
          "text": [
            "Signals shape: (88, 1298708)\n",
            "New signal shape: (88, 40887)\n",
            "length of data: 76\n"
          ]
        },
        {
          "name": "stderr",
          "output_type": "stream",
          "text": [
            " 46%|████▌     | 30/65 [4:38:01<6:43:24, 691.57s/it]"
          ]
        },
        {
          "name": "stdout",
          "output_type": "stream",
          "text": [
            "Checkpoint saved after session 29\n",
            "Current session: (PosixPath('/Volumes/__UP2/0_RAW_DATA/UP2_001/UP2001_2024_01_08_Rehabilitation_day22_rehab'), 30)\n"
          ]
        },
        {
          "name": "stderr",
          "output_type": "stream",
          "text": [
            "\u001b[32m2024-10-18 04:46:49.277\u001b[0m | \u001b[1mINFO    \u001b[0m | \u001b[36mlighthouse.data_loader.load_chuv\u001b[0m:\u001b[36mconcatenate_dt5\u001b[0m:\u001b[36m497\u001b[0m - \u001b[1mLoading /Volumes/__UP2/0_RAW_DATA/UP2_001/UP2001_2024_01_08_Rehabilitation_day22_rehab/wisci/2024_01_08_13_31_51 (rec3)/ABSD data/2024_01_08_13_43_10_01of03.dt5\u001b[0m\n",
            "\u001b[32m2024-10-18 04:47:36.867\u001b[0m | \u001b[1mINFO    \u001b[0m | \u001b[36mlighthouse.data_loader.load_chuv\u001b[0m:\u001b[36mload_dt5\u001b[0m:\u001b[36m196\u001b[0m - \u001b[1mScenario Name: classBCIViewerAvatarAllDegreesCourtine\u001b[0m\n",
            "\u001b[32m2024-10-18 04:47:36.886\u001b[0m | \u001b[1mINFO    \u001b[0m | \u001b[36mlighthouse.data_loader.load_chuv\u001b[0m:\u001b[36mload_dt5\u001b[0m:\u001b[36m199\u001b[0m - \u001b[1mSub Scenario Name: classBSISubScenarioUpperJointsClassif\u001b[0m\n",
            "\u001b[32m2024-10-18 04:47:42.292\u001b[0m | \u001b[1mINFO    \u001b[0m | \u001b[36mlighthouse.data_loader.load_chuv\u001b[0m:\u001b[36mconcatenate_dt5\u001b[0m:\u001b[36m497\u001b[0m - \u001b[1mLoading /Volumes/__UP2/0_RAW_DATA/UP2_001/UP2001_2024_01_08_Rehabilitation_day22_rehab/wisci/2024_01_08_13_31_51 (rec3)/ABSD data/2024_01_08_13_43_10_02of03.dt5\u001b[0m\n",
            "\u001b[32m2024-10-18 04:48:34.705\u001b[0m | \u001b[1mINFO    \u001b[0m | \u001b[36mlighthouse.data_loader.load_chuv\u001b[0m:\u001b[36mconcatenate_dt5\u001b[0m:\u001b[36m497\u001b[0m - \u001b[1mLoading /Volumes/__UP2/0_RAW_DATA/UP2_001/UP2001_2024_01_08_Rehabilitation_day22_rehab/wisci/2024_01_08_13_31_51 (rec3)/ABSD data/2024_01_08_13_43_10_03of03.dt5\u001b[0m\n"
          ]
        },
        {
          "name": "stdout",
          "output_type": "stream",
          "text": [
            "Signals shape: (88, 502385)\n",
            "New signal shape: (88, 63366)\n"
          ]
        },
        {
          "name": "stderr",
          "output_type": "stream",
          "text": [
            "\u001b[32m2024-10-18 04:49:19.413\u001b[0m | \u001b[1mINFO    \u001b[0m | \u001b[36mlighthouse.data_loader.load_chuv\u001b[0m:\u001b[36mconcatenate_dt5\u001b[0m:\u001b[36m497\u001b[0m - \u001b[1mLoading /Volumes/__UP2/0_RAW_DATA/UP2_001/UP2001_2024_01_08_Rehabilitation_day22_rehab/wisci/2024_01_08_13_57_55 (rec4)/ABSD data/2024_01_08_14_00_14_01of05.dt5\u001b[0m\n",
            "\u001b[32m2024-10-18 04:50:07.212\u001b[0m | \u001b[1mINFO    \u001b[0m | \u001b[36mlighthouse.data_loader.load_chuv\u001b[0m:\u001b[36mload_dt5\u001b[0m:\u001b[36m196\u001b[0m - \u001b[1mScenario Name: classBCIViewerAvatarAllDegreesCourtine\u001b[0m\n",
            "\u001b[32m2024-10-18 04:50:07.216\u001b[0m | \u001b[1mINFO    \u001b[0m | \u001b[36mlighthouse.data_loader.load_chuv\u001b[0m:\u001b[36mload_dt5\u001b[0m:\u001b[36m199\u001b[0m - \u001b[1mSub Scenario Name: classBSISubScenarioUpperJointsClassif\u001b[0m\n",
            "\u001b[32m2024-10-18 04:50:11.718\u001b[0m | \u001b[1mINFO    \u001b[0m | \u001b[36mlighthouse.data_loader.load_chuv\u001b[0m:\u001b[36mconcatenate_dt5\u001b[0m:\u001b[36m497\u001b[0m - \u001b[1mLoading /Volumes/__UP2/0_RAW_DATA/UP2_001/UP2001_2024_01_08_Rehabilitation_day22_rehab/wisci/2024_01_08_13_57_55 (rec4)/ABSD data/2024_01_08_14_00_14_02of05.dt5\u001b[0m\n",
            "\u001b[32m2024-10-18 04:51:06.827\u001b[0m | \u001b[1mINFO    \u001b[0m | \u001b[36mlighthouse.data_loader.load_chuv\u001b[0m:\u001b[36mconcatenate_dt5\u001b[0m:\u001b[36m497\u001b[0m - \u001b[1mLoading /Volumes/__UP2/0_RAW_DATA/UP2_001/UP2001_2024_01_08_Rehabilitation_day22_rehab/wisci/2024_01_08_13_57_55 (rec4)/ABSD data/2024_01_08_14_00_14_03of05.dt5\u001b[0m\n",
            "\u001b[32m2024-10-18 04:52:00.426\u001b[0m | \u001b[1mINFO    \u001b[0m | \u001b[36mlighthouse.data_loader.load_chuv\u001b[0m:\u001b[36mconcatenate_dt5\u001b[0m:\u001b[36m497\u001b[0m - \u001b[1mLoading /Volumes/__UP2/0_RAW_DATA/UP2_001/UP2001_2024_01_08_Rehabilitation_day22_rehab/wisci/2024_01_08_13_57_55 (rec4)/ABSD data/2024_01_08_14_00_14_04of05.dt5\u001b[0m\n",
            "\u001b[32m2024-10-18 04:52:54.037\u001b[0m | \u001b[1mINFO    \u001b[0m | \u001b[36mlighthouse.data_loader.load_chuv\u001b[0m:\u001b[36mconcatenate_dt5\u001b[0m:\u001b[36m497\u001b[0m - \u001b[1mLoading /Volumes/__UP2/0_RAW_DATA/UP2_001/UP2001_2024_01_08_Rehabilitation_day22_rehab/wisci/2024_01_08_13_57_55 (rec4)/ABSD data/2024_01_08_14_00_14_05of05.dt5\u001b[0m\n"
          ]
        },
        {
          "name": "stdout",
          "output_type": "stream",
          "text": [
            "Signals shape: (88, 778151)\n",
            "New signal shape: (88, 37583)\n"
          ]
        },
        {
          "name": "stderr",
          "output_type": "stream",
          "text": [
            "\u001b[32m2024-10-18 04:53:15.988\u001b[0m | \u001b[1mINFO    \u001b[0m | \u001b[36mlighthouse.data_loader.load_chuv\u001b[0m:\u001b[36mconcatenate_dt5\u001b[0m:\u001b[36m497\u001b[0m - \u001b[1mLoading /Volumes/__UP2/0_RAW_DATA/UP2_001/UP2001_2024_01_08_Rehabilitation_day22_rehab/wisci/2024_01_08_14_23_20 (rec5)/ABSD data/2024_01_08_14_29_39_01of02.dt5\u001b[0m\n",
            "\u001b[32m2024-10-18 04:54:04.737\u001b[0m | \u001b[1mINFO    \u001b[0m | \u001b[36mlighthouse.data_loader.load_chuv\u001b[0m:\u001b[36mload_dt5\u001b[0m:\u001b[36m196\u001b[0m - \u001b[1mScenario Name: classBCIViewerAvatarAllDegreesCourtine\u001b[0m\n",
            "\u001b[32m2024-10-18 04:54:04.741\u001b[0m | \u001b[1mINFO    \u001b[0m | \u001b[36mlighthouse.data_loader.load_chuv\u001b[0m:\u001b[36mload_dt5\u001b[0m:\u001b[36m199\u001b[0m - \u001b[1mSub Scenario Name: classBSISubScenarioUpperJointsClassif\u001b[0m\n",
            "\u001b[32m2024-10-18 04:54:09.275\u001b[0m | \u001b[1mINFO    \u001b[0m | \u001b[36mlighthouse.data_loader.load_chuv\u001b[0m:\u001b[36mconcatenate_dt5\u001b[0m:\u001b[36m497\u001b[0m - \u001b[1mLoading /Volumes/__UP2/0_RAW_DATA/UP2_001/UP2001_2024_01_08_Rehabilitation_day22_rehab/wisci/2024_01_08_14_23_20 (rec5)/ABSD data/2024_01_08_14_29_39_02of02.dt5\u001b[0m\n"
          ]
        },
        {
          "name": "stdout",
          "output_type": "stream",
          "text": [
            "Signals shape: (88, 350873)\n",
            "New signal shape: (88, 100182)\n"
          ]
        },
        {
          "name": "stderr",
          "output_type": "stream",
          "text": [
            "\u001b[32m2024-10-18 04:55:02.203\u001b[0m | \u001b[1mINFO    \u001b[0m | \u001b[36mlighthouse.data_loader.load_chuv\u001b[0m:\u001b[36mconcatenate_dt5\u001b[0m:\u001b[36m497\u001b[0m - \u001b[1mLoading /Volumes/__UP2/0_RAW_DATA/UP2_001/UP2001_2024_01_08_Rehabilitation_day22_rehab/wisci/2024_01_08_14_59_33 (rec6)/ABSD data/2024_01_08_15_01_28_01of04.dt5\u001b[0m\n",
            "\u001b[32m2024-10-18 04:55:50.557\u001b[0m | \u001b[1mINFO    \u001b[0m | \u001b[36mlighthouse.data_loader.load_chuv\u001b[0m:\u001b[36mload_dt5\u001b[0m:\u001b[36m196\u001b[0m - \u001b[1mScenario Name: classBCIViewerAvatarAllDegreesCourtine\u001b[0m\n",
            "\u001b[32m2024-10-18 04:55:50.563\u001b[0m | \u001b[1mINFO    \u001b[0m | \u001b[36mlighthouse.data_loader.load_chuv\u001b[0m:\u001b[36mload_dt5\u001b[0m:\u001b[36m199\u001b[0m - \u001b[1mSub Scenario Name: classBSISubScenarioUpperJointsClassif\u001b[0m\n",
            "\u001b[32m2024-10-18 04:55:55.074\u001b[0m | \u001b[1mINFO    \u001b[0m | \u001b[36mlighthouse.data_loader.load_chuv\u001b[0m:\u001b[36mconcatenate_dt5\u001b[0m:\u001b[36m497\u001b[0m - \u001b[1mLoading /Volumes/__UP2/0_RAW_DATA/UP2_001/UP2001_2024_01_08_Rehabilitation_day22_rehab/wisci/2024_01_08_14_59_33 (rec6)/ABSD data/2024_01_08_15_01_28_02of04.dt5\u001b[0m\n",
            "\u001b[32m2024-10-18 04:56:47.407\u001b[0m | \u001b[1mINFO    \u001b[0m | \u001b[36mlighthouse.data_loader.load_chuv\u001b[0m:\u001b[36mconcatenate_dt5\u001b[0m:\u001b[36m497\u001b[0m - \u001b[1mLoading /Volumes/__UP2/0_RAW_DATA/UP2_001/UP2001_2024_01_08_Rehabilitation_day22_rehab/wisci/2024_01_08_14_59_33 (rec6)/ABSD data/2024_01_08_15_01_28_03of04.dt5\u001b[0m\n",
            "\u001b[32m2024-10-18 04:57:40.276\u001b[0m | \u001b[1mINFO    \u001b[0m | \u001b[36mlighthouse.data_loader.load_chuv\u001b[0m:\u001b[36mconcatenate_dt5\u001b[0m:\u001b[36m497\u001b[0m - \u001b[1mLoading /Volumes/__UP2/0_RAW_DATA/UP2_001/UP2001_2024_01_08_Rehabilitation_day22_rehab/wisci/2024_01_08_14_59_33 (rec6)/ABSD data/2024_01_08_15_01_28_04of04.dt5\u001b[0m\n"
          ]
        },
        {
          "name": "stdout",
          "output_type": "stream",
          "text": [
            "Signals shape: (88, 666818)\n",
            "New signal shape: (88, 126142)\n"
          ]
        },
        {
          "name": "stderr",
          "output_type": "stream",
          "text": [
            "\u001b[32m2024-10-18 04:58:22.876\u001b[0m | \u001b[1mINFO    \u001b[0m | \u001b[36mlighthouse.data_loader.load_chuv\u001b[0m:\u001b[36mconcatenate_dt5\u001b[0m:\u001b[36m497\u001b[0m - \u001b[1mLoading /Volumes/__UP2/0_RAW_DATA/UP2_001/UP2001_2024_01_08_Rehabilitation_day22_rehab/wisci/2024_01_08_15_21_08 (rec7)/ABSD data/2024_01_08_15_23_26_01of06.dt5\u001b[0m\n",
            "\u001b[32m2024-10-18 04:59:10.160\u001b[0m | \u001b[1mINFO    \u001b[0m | \u001b[36mlighthouse.data_loader.load_chuv\u001b[0m:\u001b[36mload_dt5\u001b[0m:\u001b[36m196\u001b[0m - \u001b[1mScenario Name: classBCIViewerAvatarAllDegreesCourtine\u001b[0m\n",
            "\u001b[32m2024-10-18 04:59:10.162\u001b[0m | \u001b[1mINFO    \u001b[0m | \u001b[36mlighthouse.data_loader.load_chuv\u001b[0m:\u001b[36mload_dt5\u001b[0m:\u001b[36m199\u001b[0m - \u001b[1mSub Scenario Name: classBSISubScenarioUpperJointsClassif\u001b[0m\n",
            "\u001b[32m2024-10-18 04:59:14.674\u001b[0m | \u001b[1mINFO    \u001b[0m | \u001b[36mlighthouse.data_loader.load_chuv\u001b[0m:\u001b[36mconcatenate_dt5\u001b[0m:\u001b[36m497\u001b[0m - \u001b[1mLoading /Volumes/__UP2/0_RAW_DATA/UP2_001/UP2001_2024_01_08_Rehabilitation_day22_rehab/wisci/2024_01_08_15_21_08 (rec7)/ABSD data/2024_01_08_15_23_26_02of06.dt5\u001b[0m\n",
            "\u001b[32m2024-10-18 05:00:08.236\u001b[0m | \u001b[1mINFO    \u001b[0m | \u001b[36mlighthouse.data_loader.load_chuv\u001b[0m:\u001b[36mconcatenate_dt5\u001b[0m:\u001b[36m497\u001b[0m - \u001b[1mLoading /Volumes/__UP2/0_RAW_DATA/UP2_001/UP2001_2024_01_08_Rehabilitation_day22_rehab/wisci/2024_01_08_15_21_08 (rec7)/ABSD data/2024_01_08_15_23_26_03of06.dt5\u001b[0m\n",
            "\u001b[32m2024-10-18 05:01:04.877\u001b[0m | \u001b[1mINFO    \u001b[0m | \u001b[36mlighthouse.data_loader.load_chuv\u001b[0m:\u001b[36mconcatenate_dt5\u001b[0m:\u001b[36m497\u001b[0m - \u001b[1mLoading /Volumes/__UP2/0_RAW_DATA/UP2_001/UP2001_2024_01_08_Rehabilitation_day22_rehab/wisci/2024_01_08_15_21_08 (rec7)/ABSD data/2024_01_08_15_23_26_04of06.dt5\u001b[0m\n",
            "\u001b[32m2024-10-18 05:01:56.044\u001b[0m | \u001b[1mINFO    \u001b[0m | \u001b[36mlighthouse.data_loader.load_chuv\u001b[0m:\u001b[36mconcatenate_dt5\u001b[0m:\u001b[36m497\u001b[0m - \u001b[1mLoading /Volumes/__UP2/0_RAW_DATA/UP2_001/UP2001_2024_01_08_Rehabilitation_day22_rehab/wisci/2024_01_08_15_21_08 (rec7)/ABSD data/2024_01_08_15_23_26_05of06.dt5\u001b[0m\n",
            "\u001b[32m2024-10-18 05:02:53.363\u001b[0m | \u001b[1mINFO    \u001b[0m | \u001b[36mlighthouse.data_loader.load_chuv\u001b[0m:\u001b[36mconcatenate_dt5\u001b[0m:\u001b[36m497\u001b[0m - \u001b[1mLoading /Volumes/__UP2/0_RAW_DATA/UP2_001/UP2001_2024_01_08_Rehabilitation_day22_rehab/wisci/2024_01_08_15_21_08 (rec7)/ABSD data/2024_01_08_15_23_26_06of06.dt5\u001b[0m\n"
          ]
        },
        {
          "name": "stdout",
          "output_type": "stream",
          "text": [
            "Signals shape: (88, 964473)\n",
            "New signal shape: (88, 0)\n",
            "length of data: 81\n"
          ]
        },
        {
          "name": "stderr",
          "output_type": "stream",
          "text": [
            " 48%|████▊     | 31/65 [4:54:57<7:26:59, 788.80s/it]"
          ]
        },
        {
          "name": "stdout",
          "output_type": "stream",
          "text": [
            "Checkpoint saved after session 30\n",
            "Current session: (PosixPath('/Volumes/__UP2/0_RAW_DATA/UP2_001/UP2001_2024_01_09_Rehabilitation_day23'), 31)\n"
          ]
        },
        {
          "name": "stderr",
          "output_type": "stream",
          "text": [
            "\u001b[32m2024-10-18 05:03:41.075\u001b[0m | \u001b[1mINFO    \u001b[0m | \u001b[36mlighthouse.data_loader.load_chuv\u001b[0m:\u001b[36mconcatenate_dt5\u001b[0m:\u001b[36m497\u001b[0m - \u001b[1mLoading /Volumes/__UP2/0_RAW_DATA/UP2_001/UP2001_2024_01_09_Rehabilitation_day23/wisci/2024_01_09_14_23_48 (rec1)/ABSD data/2024_01_09_14_25_59_01of04.dt5\u001b[0m\n",
            "\u001b[32m2024-10-18 05:04:28.702\u001b[0m | \u001b[1mINFO    \u001b[0m | \u001b[36mlighthouse.data_loader.load_chuv\u001b[0m:\u001b[36mload_dt5\u001b[0m:\u001b[36m196\u001b[0m - \u001b[1mScenario Name: classBCIViewerAvatarAllDegreesCourtine\u001b[0m\n",
            "\u001b[32m2024-10-18 05:04:28.714\u001b[0m | \u001b[1mINFO    \u001b[0m | \u001b[36mlighthouse.data_loader.load_chuv\u001b[0m:\u001b[36mload_dt5\u001b[0m:\u001b[36m199\u001b[0m - \u001b[1mSub Scenario Name: classBSISubScenarioUpperJointsClassif\u001b[0m\n",
            "\u001b[32m2024-10-18 05:04:33.621\u001b[0m | \u001b[1mINFO    \u001b[0m | \u001b[36mlighthouse.data_loader.load_chuv\u001b[0m:\u001b[36mconcatenate_dt5\u001b[0m:\u001b[36m497\u001b[0m - \u001b[1mLoading /Volumes/__UP2/0_RAW_DATA/UP2_001/UP2001_2024_01_09_Rehabilitation_day23/wisci/2024_01_09_14_23_48 (rec1)/ABSD data/2024_01_09_14_25_59_02of04.dt5\u001b[0m\n",
            "\u001b[32m2024-10-18 05:05:30.287\u001b[0m | \u001b[1mINFO    \u001b[0m | \u001b[36mlighthouse.data_loader.load_chuv\u001b[0m:\u001b[36mconcatenate_dt5\u001b[0m:\u001b[36m497\u001b[0m - \u001b[1mLoading /Volumes/__UP2/0_RAW_DATA/UP2_001/UP2001_2024_01_09_Rehabilitation_day23/wisci/2024_01_09_14_23_48 (rec1)/ABSD data/2024_01_09_14_25_59_03of04.dt5\u001b[0m\n",
            "\u001b[32m2024-10-18 05:06:21.344\u001b[0m | \u001b[1mINFO    \u001b[0m | \u001b[36mlighthouse.data_loader.load_chuv\u001b[0m:\u001b[36mconcatenate_dt5\u001b[0m:\u001b[36m497\u001b[0m - \u001b[1mLoading /Volumes/__UP2/0_RAW_DATA/UP2_001/UP2001_2024_01_09_Rehabilitation_day23/wisci/2024_01_09_14_23_48 (rec1)/ABSD data/2024_01_09_14_25_59_04of04.dt5\u001b[0m\n"
          ]
        },
        {
          "name": "stdout",
          "output_type": "stream",
          "text": [
            "Signals shape: (88, 591652)\n",
            "New signal shape: (88, 133458)\n"
          ]
        },
        {
          "name": "stderr",
          "output_type": "stream",
          "text": [
            "\u001b[32m2024-10-18 05:06:41.184\u001b[0m | \u001b[1mINFO    \u001b[0m | \u001b[36mlighthouse.data_loader.load_chuv\u001b[0m:\u001b[36mconcatenate_dt5\u001b[0m:\u001b[36m497\u001b[0m - \u001b[1mLoading /Volumes/__UP2/0_RAW_DATA/UP2_001/UP2001_2024_01_09_Rehabilitation_day23/wisci/2024_01_09_14_43_20 (rec2)/ABSD data/2024_01_09_14_44_30_01of05.dt5\u001b[0m\n",
            "\u001b[32m2024-10-18 05:07:30.968\u001b[0m | \u001b[1mINFO    \u001b[0m | \u001b[36mlighthouse.data_loader.load_chuv\u001b[0m:\u001b[36mload_dt5\u001b[0m:\u001b[36m196\u001b[0m - \u001b[1mScenario Name: classBCIViewerAvatarAllDegreesCourtine\u001b[0m\n",
            "\u001b[32m2024-10-18 05:07:30.974\u001b[0m | \u001b[1mINFO    \u001b[0m | \u001b[36mlighthouse.data_loader.load_chuv\u001b[0m:\u001b[36mload_dt5\u001b[0m:\u001b[36m199\u001b[0m - \u001b[1mSub Scenario Name: classBSISubScenarioUpperJointsClassif\u001b[0m\n",
            "\u001b[32m2024-10-18 05:07:35.593\u001b[0m | \u001b[1mINFO    \u001b[0m | \u001b[36mlighthouse.data_loader.load_chuv\u001b[0m:\u001b[36mconcatenate_dt5\u001b[0m:\u001b[36m497\u001b[0m - \u001b[1mLoading /Volumes/__UP2/0_RAW_DATA/UP2_001/UP2001_2024_01_09_Rehabilitation_day23/wisci/2024_01_09_14_43_20 (rec2)/ABSD data/2024_01_09_14_44_30_02of05.dt5\u001b[0m\n",
            "\u001b[32m2024-10-18 05:08:29.343\u001b[0m | \u001b[1mINFO    \u001b[0m | \u001b[36mlighthouse.data_loader.load_chuv\u001b[0m:\u001b[36mconcatenate_dt5\u001b[0m:\u001b[36m497\u001b[0m - \u001b[1mLoading /Volumes/__UP2/0_RAW_DATA/UP2_001/UP2001_2024_01_09_Rehabilitation_day23/wisci/2024_01_09_14_43_20 (rec2)/ABSD data/2024_01_09_14_44_30_03of05.dt5\u001b[0m\n",
            "\u001b[32m2024-10-18 05:09:21.986\u001b[0m | \u001b[1mINFO    \u001b[0m | \u001b[36mlighthouse.data_loader.load_chuv\u001b[0m:\u001b[36mconcatenate_dt5\u001b[0m:\u001b[36m497\u001b[0m - \u001b[1mLoading /Volumes/__UP2/0_RAW_DATA/UP2_001/UP2001_2024_01_09_Rehabilitation_day23/wisci/2024_01_09_14_43_20 (rec2)/ABSD data/2024_01_09_14_44_30_04of05.dt5\u001b[0m\n",
            "\u001b[32m2024-10-18 05:10:25.445\u001b[0m | \u001b[1mINFO    \u001b[0m | \u001b[36mlighthouse.data_loader.load_chuv\u001b[0m:\u001b[36mconcatenate_dt5\u001b[0m:\u001b[36m497\u001b[0m - \u001b[1mLoading /Volumes/__UP2/0_RAW_DATA/UP2_001/UP2001_2024_01_09_Rehabilitation_day23/wisci/2024_01_09_14_43_20 (rec2)/ABSD data/2024_01_09_14_44_30_05of05.dt5\u001b[0m\n"
          ]
        },
        {
          "name": "stdout",
          "output_type": "stream",
          "text": [
            "Signals shape: (88, 792842)\n",
            "New signal shape: (88, 126496)\n"
          ]
        },
        {
          "name": "stderr",
          "output_type": "stream",
          "text": [
            "\u001b[32m2024-10-18 05:10:53.374\u001b[0m | \u001b[1mINFO    \u001b[0m | \u001b[36mlighthouse.data_loader.load_chuv\u001b[0m:\u001b[36mconcatenate_dt5\u001b[0m:\u001b[36m497\u001b[0m - \u001b[1mLoading /Volumes/__UP2/0_RAW_DATA/UP2_001/UP2001_2024_01_09_Rehabilitation_day23/wisci/2024_01_09_15_07_40 (rec3)/ABSD data/2024_01_09_15_09_05_01of05.dt5\u001b[0m\n",
            "\u001b[32m2024-10-18 05:11:44.948\u001b[0m | \u001b[1mINFO    \u001b[0m | \u001b[36mlighthouse.data_loader.load_chuv\u001b[0m:\u001b[36mload_dt5\u001b[0m:\u001b[36m196\u001b[0m - \u001b[1mScenario Name: classBCIViewerAvatarAllDegreesCourtine\u001b[0m\n",
            "\u001b[32m2024-10-18 05:11:44.953\u001b[0m | \u001b[1mINFO    \u001b[0m | \u001b[36mlighthouse.data_loader.load_chuv\u001b[0m:\u001b[36mload_dt5\u001b[0m:\u001b[36m199\u001b[0m - \u001b[1mSub Scenario Name: classBSISubScenarioUpperJointsClassif\u001b[0m\n",
            "\u001b[32m2024-10-18 05:11:49.646\u001b[0m | \u001b[1mINFO    \u001b[0m | \u001b[36mlighthouse.data_loader.load_chuv\u001b[0m:\u001b[36mconcatenate_dt5\u001b[0m:\u001b[36m497\u001b[0m - \u001b[1mLoading /Volumes/__UP2/0_RAW_DATA/UP2_001/UP2001_2024_01_09_Rehabilitation_day23/wisci/2024_01_09_15_07_40 (rec3)/ABSD data/2024_01_09_15_09_05_02of05.dt5\u001b[0m\n",
            "\u001b[32m2024-10-18 05:12:44.538\u001b[0m | \u001b[1mINFO    \u001b[0m | \u001b[36mlighthouse.data_loader.load_chuv\u001b[0m:\u001b[36mconcatenate_dt5\u001b[0m:\u001b[36m497\u001b[0m - \u001b[1mLoading /Volumes/__UP2/0_RAW_DATA/UP2_001/UP2001_2024_01_09_Rehabilitation_day23/wisci/2024_01_09_15_07_40 (rec3)/ABSD data/2024_01_09_15_09_05_03of05.dt5\u001b[0m\n",
            "\u001b[32m2024-10-18 05:13:37.643\u001b[0m | \u001b[1mINFO    \u001b[0m | \u001b[36mlighthouse.data_loader.load_chuv\u001b[0m:\u001b[36mconcatenate_dt5\u001b[0m:\u001b[36m497\u001b[0m - \u001b[1mLoading /Volumes/__UP2/0_RAW_DATA/UP2_001/UP2001_2024_01_09_Rehabilitation_day23/wisci/2024_01_09_15_07_40 (rec3)/ABSD data/2024_01_09_15_09_05_04of05.dt5\u001b[0m\n",
            "\u001b[32m2024-10-18 05:14:31.162\u001b[0m | \u001b[1mINFO    \u001b[0m | \u001b[36mlighthouse.data_loader.load_chuv\u001b[0m:\u001b[36mconcatenate_dt5\u001b[0m:\u001b[36m497\u001b[0m - \u001b[1mLoading /Volumes/__UP2/0_RAW_DATA/UP2_001/UP2001_2024_01_09_Rehabilitation_day23/wisci/2024_01_09_15_07_40 (rec3)/ABSD data/2024_01_09_15_09_05_05of05.dt5\u001b[0m\n"
          ]
        },
        {
          "name": "stdout",
          "output_type": "stream",
          "text": [
            "Signals shape: (88, 881873)\n",
            "New signal shape: (88, 0)\n",
            "length of data: 84\n"
          ]
        },
        {
          "name": "stderr",
          "output_type": "stream",
          "text": [
            " 49%|████▉     | 32/65 [5:07:08<7:04:27, 771.73s/it]"
          ]
        },
        {
          "name": "stdout",
          "output_type": "stream",
          "text": [
            "Checkpoint saved after session 31\n",
            "Current session: (PosixPath('/Volumes/__UP2/0_RAW_DATA/UP2_001/UP2001_2024_01_11_Rehabilitation_day25'), 32)\n"
          ]
        },
        {
          "name": "stderr",
          "output_type": "stream",
          "text": [
            "\u001b[32m2024-10-18 05:15:57.277\u001b[0m | \u001b[1mINFO    \u001b[0m | \u001b[36mlighthouse.data_loader.load_chuv\u001b[0m:\u001b[36mconcatenate_dt5\u001b[0m:\u001b[36m497\u001b[0m - \u001b[1mLoading /Volumes/__UP2/0_RAW_DATA/UP2_001/UP2001_2024_01_11_Rehabilitation_day25/wisci/ABSD data/2024_01_11_13_31_22_01of06.dt5\u001b[0m\n",
            "\u001b[32m2024-10-18 05:16:46.280\u001b[0m | \u001b[1mINFO    \u001b[0m | \u001b[36mlighthouse.data_loader.load_chuv\u001b[0m:\u001b[36mload_dt5\u001b[0m:\u001b[36m196\u001b[0m - \u001b[1mScenario Name: classBCIViewerAvatarAllDegreesCourtine\u001b[0m\n",
            "\u001b[32m2024-10-18 05:16:46.286\u001b[0m | \u001b[1mINFO    \u001b[0m | \u001b[36mlighthouse.data_loader.load_chuv\u001b[0m:\u001b[36mload_dt5\u001b[0m:\u001b[36m199\u001b[0m - \u001b[1mSub Scenario Name: classBSISubScenarioUpperJointsClassif\u001b[0m\n",
            "\u001b[32m2024-10-18 05:16:51.270\u001b[0m | \u001b[1mINFO    \u001b[0m | \u001b[36mlighthouse.data_loader.load_chuv\u001b[0m:\u001b[36mconcatenate_dt5\u001b[0m:\u001b[36m497\u001b[0m - \u001b[1mLoading /Volumes/__UP2/0_RAW_DATA/UP2_001/UP2001_2024_01_11_Rehabilitation_day25/wisci/ABSD data/2024_01_11_13_31_22_02of06.dt5\u001b[0m\n",
            "\u001b[32m2024-10-18 05:17:44.269\u001b[0m | \u001b[1mINFO    \u001b[0m | \u001b[36mlighthouse.data_loader.load_chuv\u001b[0m:\u001b[36mconcatenate_dt5\u001b[0m:\u001b[36m497\u001b[0m - \u001b[1mLoading /Volumes/__UP2/0_RAW_DATA/UP2_001/UP2001_2024_01_11_Rehabilitation_day25/wisci/ABSD data/2024_01_11_13_31_22_03of06.dt5\u001b[0m\n",
            "\u001b[32m2024-10-18 05:18:39.475\u001b[0m | \u001b[1mINFO    \u001b[0m | \u001b[36mlighthouse.data_loader.load_chuv\u001b[0m:\u001b[36mconcatenate_dt5\u001b[0m:\u001b[36m497\u001b[0m - \u001b[1mLoading /Volumes/__UP2/0_RAW_DATA/UP2_001/UP2001_2024_01_11_Rehabilitation_day25/wisci/ABSD data/2024_01_11_13_31_22_04of06.dt5\u001b[0m\n",
            "\u001b[32m2024-10-18 05:19:36.277\u001b[0m | \u001b[1mINFO    \u001b[0m | \u001b[36mlighthouse.data_loader.load_chuv\u001b[0m:\u001b[36mconcatenate_dt5\u001b[0m:\u001b[36m497\u001b[0m - \u001b[1mLoading /Volumes/__UP2/0_RAW_DATA/UP2_001/UP2001_2024_01_11_Rehabilitation_day25/wisci/ABSD data/2024_01_11_13_31_22_05of06.dt5\u001b[0m\n",
            "\u001b[32m2024-10-18 05:20:31.064\u001b[0m | \u001b[1mINFO    \u001b[0m | \u001b[36mlighthouse.data_loader.load_chuv\u001b[0m:\u001b[36mconcatenate_dt5\u001b[0m:\u001b[36m497\u001b[0m - \u001b[1mLoading /Volumes/__UP2/0_RAW_DATA/UP2_001/UP2001_2024_01_11_Rehabilitation_day25/wisci/ABSD data/2024_01_11_13_31_22_06of06.dt5\u001b[0m\n"
          ]
        },
        {
          "name": "stdout",
          "output_type": "stream",
          "text": [
            "Signals shape: (88, 915385)\n",
            "New signal shape: (88, 63720)\n"
          ]
        },
        {
          "name": "stderr",
          "output_type": "stream",
          "text": [
            "\u001b[32m2024-10-18 05:20:40.784\u001b[0m | \u001b[1mINFO    \u001b[0m | \u001b[36mlighthouse.data_loader.load_chuv\u001b[0m:\u001b[36mconcatenate_dt5\u001b[0m:\u001b[36m497\u001b[0m - \u001b[1mLoading /Volumes/__UP2/0_RAW_DATA/UP2_001/UP2001_2024_01_11_Rehabilitation_day25/wisci/2024_01_11_13_58_05 (rec4)/ABSD data/2024_01_11_14_04_11_01of08.dt5\u001b[0m\n",
            "\u001b[32m2024-10-18 05:21:28.264\u001b[0m | \u001b[1mINFO    \u001b[0m | \u001b[36mlighthouse.data_loader.load_chuv\u001b[0m:\u001b[36mload_dt5\u001b[0m:\u001b[36m196\u001b[0m - \u001b[1mScenario Name: classBCIViewerAvatarAllDegreesCourtine\u001b[0m\n",
            "\u001b[32m2024-10-18 05:21:28.267\u001b[0m | \u001b[1mINFO    \u001b[0m | \u001b[36mlighthouse.data_loader.load_chuv\u001b[0m:\u001b[36mload_dt5\u001b[0m:\u001b[36m199\u001b[0m - \u001b[1mSub Scenario Name: classBSISubScenarioUpperJointsClassif\u001b[0m\n",
            "\u001b[32m2024-10-18 05:21:32.976\u001b[0m | \u001b[1mINFO    \u001b[0m | \u001b[36mlighthouse.data_loader.load_chuv\u001b[0m:\u001b[36mconcatenate_dt5\u001b[0m:\u001b[36m497\u001b[0m - \u001b[1mLoading /Volumes/__UP2/0_RAW_DATA/UP2_001/UP2001_2024_01_11_Rehabilitation_day25/wisci/2024_01_11_13_58_05 (rec4)/ABSD data/2024_01_11_14_04_11_02of08.dt5\u001b[0m\n",
            "\u001b[32m2024-10-18 05:22:26.084\u001b[0m | \u001b[1mINFO    \u001b[0m | \u001b[36mlighthouse.data_loader.load_chuv\u001b[0m:\u001b[36mconcatenate_dt5\u001b[0m:\u001b[36m497\u001b[0m - \u001b[1mLoading /Volumes/__UP2/0_RAW_DATA/UP2_001/UP2001_2024_01_11_Rehabilitation_day25/wisci/2024_01_11_13_58_05 (rec4)/ABSD data/2024_01_11_14_04_11_03of08.dt5\u001b[0m\n",
            "\u001b[32m2024-10-18 05:23:19.130\u001b[0m | \u001b[1mINFO    \u001b[0m | \u001b[36mlighthouse.data_loader.load_chuv\u001b[0m:\u001b[36mconcatenate_dt5\u001b[0m:\u001b[36m497\u001b[0m - \u001b[1mLoading /Volumes/__UP2/0_RAW_DATA/UP2_001/UP2001_2024_01_11_Rehabilitation_day25/wisci/2024_01_11_13_58_05 (rec4)/ABSD data/2024_01_11_14_04_11_04of08.dt5\u001b[0m\n",
            "\u001b[32m2024-10-18 05:24:11.327\u001b[0m | \u001b[1mINFO    \u001b[0m | \u001b[36mlighthouse.data_loader.load_chuv\u001b[0m:\u001b[36mconcatenate_dt5\u001b[0m:\u001b[36m497\u001b[0m - \u001b[1mLoading /Volumes/__UP2/0_RAW_DATA/UP2_001/UP2001_2024_01_11_Rehabilitation_day25/wisci/2024_01_11_13_58_05 (rec4)/ABSD data/2024_01_11_14_04_11_05of08.dt5\u001b[0m\n",
            "\u001b[32m2024-10-18 05:25:04.360\u001b[0m | \u001b[1mINFO    \u001b[0m | \u001b[36mlighthouse.data_loader.load_chuv\u001b[0m:\u001b[36mconcatenate_dt5\u001b[0m:\u001b[36m497\u001b[0m - \u001b[1mLoading /Volumes/__UP2/0_RAW_DATA/UP2_001/UP2001_2024_01_11_Rehabilitation_day25/wisci/2024_01_11_13_58_05 (rec4)/ABSD data/2024_01_11_14_04_11_06of08.dt5\u001b[0m\n",
            "\u001b[32m2024-10-18 05:25:58.644\u001b[0m | \u001b[1mINFO    \u001b[0m | \u001b[36mlighthouse.data_loader.load_chuv\u001b[0m:\u001b[36mconcatenate_dt5\u001b[0m:\u001b[36m497\u001b[0m - \u001b[1mLoading /Volumes/__UP2/0_RAW_DATA/UP2_001/UP2001_2024_01_11_Rehabilitation_day25/wisci/2024_01_11_13_58_05 (rec4)/ABSD data/2024_01_11_14_04_11_07of08.dt5\u001b[0m\n",
            "\u001b[32m2024-10-18 05:26:51.820\u001b[0m | \u001b[1mINFO    \u001b[0m | \u001b[36mlighthouse.data_loader.load_chuv\u001b[0m:\u001b[36mconcatenate_dt5\u001b[0m:\u001b[36m497\u001b[0m - \u001b[1mLoading /Volumes/__UP2/0_RAW_DATA/UP2_001/UP2001_2024_01_11_Rehabilitation_day25/wisci/2024_01_11_13_58_05 (rec4)/ABSD data/2024_01_11_14_04_11_08of08.dt5\u001b[0m\n"
          ]
        },
        {
          "name": "stdout",
          "output_type": "stream",
          "text": [
            "Signals shape: (88, 1329624)\n",
            "New signal shape: (88, 0)\n"
          ]
        },
        {
          "name": "stderr",
          "output_type": "stream",
          "text": [
            "\u001b[32m2024-10-18 05:27:21.637\u001b[0m | \u001b[1mINFO    \u001b[0m | \u001b[36mlighthouse.data_loader.load_chuv\u001b[0m:\u001b[36mconcatenate_dt5\u001b[0m:\u001b[36m497\u001b[0m - \u001b[1mLoading /Volumes/__UP2/0_RAW_DATA/UP2_001/UP2001_2024_01_11_Rehabilitation_day25/wisci/2024_01_11_14_48_03 (rec5)/ABSD data/2024_01_11_14_50_57_01of12.dt5\u001b[0m\n",
            "\u001b[32m2024-10-18 05:28:10.878\u001b[0m | \u001b[1mINFO    \u001b[0m | \u001b[36mlighthouse.data_loader.load_chuv\u001b[0m:\u001b[36mload_dt5\u001b[0m:\u001b[36m196\u001b[0m - \u001b[1mScenario Name: classBCIViewerAvatarAllDegreesCourtine\u001b[0m\n",
            "\u001b[32m2024-10-18 05:28:10.886\u001b[0m | \u001b[1mINFO    \u001b[0m | \u001b[36mlighthouse.data_loader.load_chuv\u001b[0m:\u001b[36mload_dt5\u001b[0m:\u001b[36m199\u001b[0m - \u001b[1mSub Scenario Name: classBSISubScenarioUpperJointsClassif\u001b[0m\n",
            "\u001b[32m2024-10-18 05:28:15.438\u001b[0m | \u001b[1mINFO    \u001b[0m | \u001b[36mlighthouse.data_loader.load_chuv\u001b[0m:\u001b[36mconcatenate_dt5\u001b[0m:\u001b[36m497\u001b[0m - \u001b[1mLoading /Volumes/__UP2/0_RAW_DATA/UP2_001/UP2001_2024_01_11_Rehabilitation_day25/wisci/2024_01_11_14_48_03 (rec5)/ABSD data/2024_01_11_14_50_57_02of12.dt5\u001b[0m\n",
            "\u001b[32m2024-10-18 05:29:10.220\u001b[0m | \u001b[1mINFO    \u001b[0m | \u001b[36mlighthouse.data_loader.load_chuv\u001b[0m:\u001b[36mconcatenate_dt5\u001b[0m:\u001b[36m497\u001b[0m - \u001b[1mLoading /Volumes/__UP2/0_RAW_DATA/UP2_001/UP2001_2024_01_11_Rehabilitation_day25/wisci/2024_01_11_14_48_03 (rec5)/ABSD data/2024_01_11_14_50_57_03of12.dt5\u001b[0m\n",
            "\u001b[32m2024-10-18 05:30:02.569\u001b[0m | \u001b[1mINFO    \u001b[0m | \u001b[36mlighthouse.data_loader.load_chuv\u001b[0m:\u001b[36mconcatenate_dt5\u001b[0m:\u001b[36m497\u001b[0m - \u001b[1mLoading /Volumes/__UP2/0_RAW_DATA/UP2_001/UP2001_2024_01_11_Rehabilitation_day25/wisci/2024_01_11_14_48_03 (rec5)/ABSD data/2024_01_11_14_50_57_04of12.dt5\u001b[0m\n",
            "\u001b[32m2024-10-18 05:30:55.592\u001b[0m | \u001b[1mINFO    \u001b[0m | \u001b[36mlighthouse.data_loader.load_chuv\u001b[0m:\u001b[36mconcatenate_dt5\u001b[0m:\u001b[36m497\u001b[0m - \u001b[1mLoading /Volumes/__UP2/0_RAW_DATA/UP2_001/UP2001_2024_01_11_Rehabilitation_day25/wisci/2024_01_11_14_48_03 (rec5)/ABSD data/2024_01_11_14_50_57_05of12.dt5\u001b[0m\n",
            "\u001b[32m2024-10-18 05:31:49.902\u001b[0m | \u001b[1mINFO    \u001b[0m | \u001b[36mlighthouse.data_loader.load_chuv\u001b[0m:\u001b[36mconcatenate_dt5\u001b[0m:\u001b[36m497\u001b[0m - \u001b[1mLoading /Volumes/__UP2/0_RAW_DATA/UP2_001/UP2001_2024_01_11_Rehabilitation_day25/wisci/2024_01_11_14_48_03 (rec5)/ABSD data/2024_01_11_14_50_57_06of12.dt5\u001b[0m\n",
            "\u001b[32m2024-10-18 05:32:43.750\u001b[0m | \u001b[1mINFO    \u001b[0m | \u001b[36mlighthouse.data_loader.load_chuv\u001b[0m:\u001b[36mconcatenate_dt5\u001b[0m:\u001b[36m497\u001b[0m - \u001b[1mLoading /Volumes/__UP2/0_RAW_DATA/UP2_001/UP2001_2024_01_11_Rehabilitation_day25/wisci/2024_01_11_14_48_03 (rec5)/ABSD data/2024_01_11_14_50_57_07of12.dt5\u001b[0m\n",
            "\u001b[32m2024-10-18 05:33:37.060\u001b[0m | \u001b[1mINFO    \u001b[0m | \u001b[36mlighthouse.data_loader.load_chuv\u001b[0m:\u001b[36mconcatenate_dt5\u001b[0m:\u001b[36m497\u001b[0m - \u001b[1mLoading /Volumes/__UP2/0_RAW_DATA/UP2_001/UP2001_2024_01_11_Rehabilitation_day25/wisci/2024_01_11_14_48_03 (rec5)/ABSD data/2024_01_11_14_50_57_08of12.dt5\u001b[0m\n",
            "\u001b[32m2024-10-18 05:34:32.940\u001b[0m | \u001b[1mINFO    \u001b[0m | \u001b[36mlighthouse.data_loader.load_chuv\u001b[0m:\u001b[36mconcatenate_dt5\u001b[0m:\u001b[36m497\u001b[0m - \u001b[1mLoading /Volumes/__UP2/0_RAW_DATA/UP2_001/UP2001_2024_01_11_Rehabilitation_day25/wisci/2024_01_11_14_48_03 (rec5)/ABSD data/2024_01_11_14_50_57_09of12.dt5\u001b[0m\n",
            "\u001b[32m2024-10-18 05:35:28.962\u001b[0m | \u001b[1mINFO    \u001b[0m | \u001b[36mlighthouse.data_loader.load_chuv\u001b[0m:\u001b[36mconcatenate_dt5\u001b[0m:\u001b[36m497\u001b[0m - \u001b[1mLoading /Volumes/__UP2/0_RAW_DATA/UP2_001/UP2001_2024_01_11_Rehabilitation_day25/wisci/2024_01_11_14_48_03 (rec5)/ABSD data/2024_01_11_14_50_57_10of12.dt5\u001b[0m\n",
            "\u001b[32m2024-10-18 05:36:22.336\u001b[0m | \u001b[1mINFO    \u001b[0m | \u001b[36mlighthouse.data_loader.load_chuv\u001b[0m:\u001b[36mconcatenate_dt5\u001b[0m:\u001b[36m497\u001b[0m - \u001b[1mLoading /Volumes/__UP2/0_RAW_DATA/UP2_001/UP2001_2024_01_11_Rehabilitation_day25/wisci/2024_01_11_14_48_03 (rec5)/ABSD data/2024_01_11_14_50_57_11of12.dt5\u001b[0m\n",
            "\u001b[32m2024-10-18 05:37:16.594\u001b[0m | \u001b[1mINFO    \u001b[0m | \u001b[36mlighthouse.data_loader.load_chuv\u001b[0m:\u001b[36mconcatenate_dt5\u001b[0m:\u001b[36m497\u001b[0m - \u001b[1mLoading /Volumes/__UP2/0_RAW_DATA/UP2_001/UP2001_2024_01_11_Rehabilitation_day25/wisci/2024_01_11_14_48_03 (rec5)/ABSD data/2024_01_11_14_50_57_12of12.dt5\u001b[0m\n"
          ]
        },
        {
          "name": "stdout",
          "output_type": "stream",
          "text": [
            "Signals shape: (88, 2023228)\n",
            "New signal shape: (88, 19470)\n"
          ]
        },
        {
          "name": "stderr",
          "output_type": "stream",
          "text": [
            "\u001b[32m2024-10-18 05:37:41.887\u001b[0m | \u001b[1mINFO    \u001b[0m | \u001b[36mlighthouse.data_loader.load_chuv\u001b[0m:\u001b[36mconcatenate_dt5\u001b[0m:\u001b[36m497\u001b[0m - \u001b[1mLoading /Volumes/__UP2/0_RAW_DATA/UP2_001/UP2001_2024_01_11_Rehabilitation_day25/wisci/2024_01_11_15_50_07 (rec6)/ABSD data/2024_01_11_15_51_50_01of01.dt5\u001b[0m\n",
            "\u001b[32m2024-10-18 05:38:21.971\u001b[0m | \u001b[1mINFO    \u001b[0m | \u001b[36mlighthouse.data_loader.load_chuv\u001b[0m:\u001b[36mload_dt5\u001b[0m:\u001b[36m196\u001b[0m - \u001b[1mScenario Name: classBCIViewerAvatarAllDegreesCourtine\u001b[0m\n",
            "\u001b[32m2024-10-18 05:38:21.977\u001b[0m | \u001b[1mINFO    \u001b[0m | \u001b[36mlighthouse.data_loader.load_chuv\u001b[0m:\u001b[36mload_dt5\u001b[0m:\u001b[36m199\u001b[0m - \u001b[1mSub Scenario Name: classBSISubScenarioUpperJointsClassif\u001b[0m\n"
          ]
        },
        {
          "name": "stdout",
          "output_type": "stream",
          "text": [
            "Signals shape: (88, 144845)\n",
            "New signal shape: (88, 0)\n",
            "length of data: 88\n"
          ]
        },
        {
          "name": "stderr",
          "output_type": "stream",
          "text": [
            " 51%|█████     | 33/65 [5:30:08<8:28:54, 954.19s/it]"
          ]
        },
        {
          "name": "stdout",
          "output_type": "stream",
          "text": [
            "Checkpoint saved after session 32\n",
            "Current session: (PosixPath('/Volumes/__UP2/0_RAW_DATA/UP2_001/UP2001_2024_01_12_Rehabilitation_day26'), 33)\n"
          ]
        },
        {
          "name": "stderr",
          "output_type": "stream",
          "text": [
            "\u001b[32m2024-10-18 05:38:59.918\u001b[0m | \u001b[1mINFO    \u001b[0m | \u001b[36mlighthouse.data_loader.load_chuv\u001b[0m:\u001b[36mconcatenate_dt5\u001b[0m:\u001b[36m497\u001b[0m - \u001b[1mLoading /Volumes/__UP2/0_RAW_DATA/UP2_001/UP2001_2024_01_12_Rehabilitation_day26/wisci/ABSD data/2024_01_12_13_57_34_01of03.dt5\u001b[0m\n",
            "\u001b[32m2024-10-18 05:39:40.427\u001b[0m | \u001b[1mINFO    \u001b[0m | \u001b[36mlighthouse.data_loader.load_chuv\u001b[0m:\u001b[36mload_dt5\u001b[0m:\u001b[36m196\u001b[0m - \u001b[1mScenario Name: classBCIViewerAvatarAllDegreesCourtine\u001b[0m\n",
            "\u001b[32m2024-10-18 05:39:40.433\u001b[0m | \u001b[1mINFO    \u001b[0m | \u001b[36mlighthouse.data_loader.load_chuv\u001b[0m:\u001b[36mload_dt5\u001b[0m:\u001b[36m199\u001b[0m - \u001b[1mSub Scenario Name: classBSISubScenarioUpperJointsClassif\u001b[0m\n",
            "\u001b[32m2024-10-18 05:39:44.895\u001b[0m | \u001b[1mINFO    \u001b[0m | \u001b[36mlighthouse.data_loader.load_chuv\u001b[0m:\u001b[36mconcatenate_dt5\u001b[0m:\u001b[36m497\u001b[0m - \u001b[1mLoading /Volumes/__UP2/0_RAW_DATA/UP2_001/UP2001_2024_01_12_Rehabilitation_day26/wisci/ABSD data/2024_01_12_13_57_34_02of03.dt5\u001b[0m\n",
            "\u001b[32m2024-10-18 05:40:30.620\u001b[0m | \u001b[1mINFO    \u001b[0m | \u001b[36mlighthouse.data_loader.load_chuv\u001b[0m:\u001b[36mconcatenate_dt5\u001b[0m:\u001b[36m497\u001b[0m - \u001b[1mLoading /Volumes/__UP2/0_RAW_DATA/UP2_001/UP2001_2024_01_12_Rehabilitation_day26/wisci/ABSD data/2024_01_12_13_57_34_03of03.dt5\u001b[0m\n"
          ]
        },
        {
          "name": "stdout",
          "output_type": "stream",
          "text": [
            "Signals shape: (56, 427927)\n",
            "New signal shape: (56, 76228)\n"
          ]
        },
        {
          "name": "stderr",
          "output_type": "stream",
          "text": [
            "\u001b[32m2024-10-18 05:40:49.451\u001b[0m | \u001b[1mINFO    \u001b[0m | \u001b[36mlighthouse.data_loader.load_chuv\u001b[0m:\u001b[36mconcatenate_dt5\u001b[0m:\u001b[36m497\u001b[0m - \u001b[1mLoading /Volumes/__UP2/0_RAW_DATA/UP2_001/UP2001_2024_01_12_Rehabilitation_day26/wisci/2024_01_12_14_10_32 (rec2)/ABSD data/2024_01_12_14_13_28_01of04.dt5\u001b[0m\n",
            "\u001b[32m2024-10-18 05:42:16.544\u001b[0m | \u001b[1mINFO    \u001b[0m | \u001b[36mlighthouse.data_loader.load_chuv\u001b[0m:\u001b[36mload_dt5\u001b[0m:\u001b[36m196\u001b[0m - \u001b[1mScenario Name: classBCIViewerAvatarAllDegreesCourtine\u001b[0m\n",
            "\u001b[32m2024-10-18 05:42:16.548\u001b[0m | \u001b[1mINFO    \u001b[0m | \u001b[36mlighthouse.data_loader.load_chuv\u001b[0m:\u001b[36mload_dt5\u001b[0m:\u001b[36m199\u001b[0m - \u001b[1mSub Scenario Name: classBSISubScenarioUpperJointsClassif\u001b[0m\n",
            "\u001b[32m2024-10-18 05:42:20.719\u001b[0m | \u001b[1mINFO    \u001b[0m | \u001b[36mlighthouse.data_loader.load_chuv\u001b[0m:\u001b[36mconcatenate_dt5\u001b[0m:\u001b[36m497\u001b[0m - \u001b[1mLoading /Volumes/__UP2/0_RAW_DATA/UP2_001/UP2001_2024_01_12_Rehabilitation_day26/wisci/2024_01_12_14_10_32 (rec2)/ABSD data/2024_01_12_14_13_28_02of04.dt5\u001b[0m\n",
            "\u001b[32m2024-10-18 05:43:06.405\u001b[0m | \u001b[1mINFO    \u001b[0m | \u001b[36mlighthouse.data_loader.load_chuv\u001b[0m:\u001b[36mconcatenate_dt5\u001b[0m:\u001b[36m497\u001b[0m - \u001b[1mLoading /Volumes/__UP2/0_RAW_DATA/UP2_001/UP2001_2024_01_12_Rehabilitation_day26/wisci/2024_01_12_14_10_32 (rec2)/ABSD data/2024_01_12_14_13_28_03of04.dt5\u001b[0m\n",
            "\u001b[32m2024-10-18 05:44:28.605\u001b[0m | \u001b[1mINFO    \u001b[0m | \u001b[36mlighthouse.data_loader.load_chuv\u001b[0m:\u001b[36mconcatenate_dt5\u001b[0m:\u001b[36m497\u001b[0m - \u001b[1mLoading /Volumes/__UP2/0_RAW_DATA/UP2_001/UP2001_2024_01_12_Rehabilitation_day26/wisci/2024_01_12_14_10_32 (rec2)/ABSD data/2024_01_12_14_13_28_04of04.dt5\u001b[0m\n"
          ]
        },
        {
          "name": "stdout",
          "output_type": "stream",
          "text": [
            "Signals shape: (56, 586519)\n",
            "New signal shape: (56, 9145)\n"
          ]
        },
        {
          "name": "stderr",
          "output_type": "stream",
          "text": [
            "\u001b[32m2024-10-18 05:44:43.550\u001b[0m | \u001b[1mINFO    \u001b[0m | \u001b[36mlighthouse.data_loader.load_chuv\u001b[0m:\u001b[36mconcatenate_dt5\u001b[0m:\u001b[36m497\u001b[0m - \u001b[1mLoading /Volumes/__UP2/0_RAW_DATA/UP2_001/UP2001_2024_01_12_Rehabilitation_day26/wisci/2024_01_12_15_19_30 (rec4)/ABSD data/2024_01_12_15_21_55_01of01.dt5\u001b[0m\n",
            "\u001b[32m2024-10-18 05:44:44.712\u001b[0m | \u001b[1mINFO    \u001b[0m | \u001b[36mlighthouse.data_loader.load_chuv\u001b[0m:\u001b[36mload_dt5\u001b[0m:\u001b[36m196\u001b[0m - \u001b[1mScenario Name: classBCIViewerAvatarAllDegreesCourtine\u001b[0m\n",
            "\u001b[32m2024-10-18 05:44:44.715\u001b[0m | \u001b[1mINFO    \u001b[0m | \u001b[36mlighthouse.data_loader.load_chuv\u001b[0m:\u001b[36mload_dt5\u001b[0m:\u001b[36m199\u001b[0m - \u001b[1mSub Scenario Name: classBSISubScenarioUpperJointsClassif\u001b[0m\n"
          ]
        },
        {
          "name": "stdout",
          "output_type": "stream",
          "text": [
            "Signals shape: (56, 3363)\n",
            "New signal shape: (56, 0)\n"
          ]
        },
        {
          "name": "stderr",
          "output_type": "stream",
          "text": [
            "\u001b[32m2024-10-18 05:44:45.242\u001b[0m | \u001b[1mINFO    \u001b[0m | \u001b[36mlighthouse.data_loader.load_chuv\u001b[0m:\u001b[36mconcatenate_dt5\u001b[0m:\u001b[36m497\u001b[0m - \u001b[1mLoading /Volumes/__UP2/0_RAW_DATA/UP2_001/UP2001_2024_01_12_Rehabilitation_day26/wisci/2024_01_12_15_22_14 (rec5)/ABSD data/2024_01_12_15_24_15_01of05.dt5\u001b[0m\n",
            "\u001b[32m2024-10-18 05:45:38.076\u001b[0m | \u001b[1mINFO    \u001b[0m | \u001b[36mlighthouse.data_loader.load_chuv\u001b[0m:\u001b[36mload_dt5\u001b[0m:\u001b[36m196\u001b[0m - \u001b[1mScenario Name: classBCIViewerAvatarAllDegreesCourtine\u001b[0m\n",
            "\u001b[32m2024-10-18 05:45:38.080\u001b[0m | \u001b[1mINFO    \u001b[0m | \u001b[36mlighthouse.data_loader.load_chuv\u001b[0m:\u001b[36mload_dt5\u001b[0m:\u001b[36m199\u001b[0m - \u001b[1mSub Scenario Name: classBSISubScenarioUpperJointsClassif\u001b[0m\n",
            "\u001b[32m2024-10-18 05:45:42.148\u001b[0m | \u001b[1mINFO    \u001b[0m | \u001b[36mlighthouse.data_loader.load_chuv\u001b[0m:\u001b[36mconcatenate_dt5\u001b[0m:\u001b[36m497\u001b[0m - \u001b[1mLoading /Volumes/__UP2/0_RAW_DATA/UP2_001/UP2001_2024_01_12_Rehabilitation_day26/wisci/2024_01_12_15_22_14 (rec5)/ABSD data/2024_01_12_15_24_15_02of05.dt5\u001b[0m\n",
            "\u001b[32m2024-10-18 05:46:26.494\u001b[0m | \u001b[1mINFO    \u001b[0m | \u001b[36mlighthouse.data_loader.load_chuv\u001b[0m:\u001b[36mconcatenate_dt5\u001b[0m:\u001b[36m497\u001b[0m - \u001b[1mLoading /Volumes/__UP2/0_RAW_DATA/UP2_001/UP2001_2024_01_12_Rehabilitation_day26/wisci/2024_01_12_15_22_14 (rec5)/ABSD data/2024_01_12_15_24_15_03of05.dt5\u001b[0m\n",
            "\u001b[32m2024-10-18 05:47:15.951\u001b[0m | \u001b[1mINFO    \u001b[0m | \u001b[36mlighthouse.data_loader.load_chuv\u001b[0m:\u001b[36mconcatenate_dt5\u001b[0m:\u001b[36m497\u001b[0m - \u001b[1mLoading /Volumes/__UP2/0_RAW_DATA/UP2_001/UP2001_2024_01_12_Rehabilitation_day26/wisci/2024_01_12_15_22_14 (rec5)/ABSD data/2024_01_12_15_24_15_04of05.dt5\u001b[0m\n",
            "\u001b[32m2024-10-18 05:48:35.030\u001b[0m | \u001b[1mINFO    \u001b[0m | \u001b[36mlighthouse.data_loader.load_chuv\u001b[0m:\u001b[36mconcatenate_dt5\u001b[0m:\u001b[36m497\u001b[0m - \u001b[1mLoading /Volumes/__UP2/0_RAW_DATA/UP2_001/UP2001_2024_01_12_Rehabilitation_day26/wisci/2024_01_12_15_22_14 (rec5)/ABSD data/2024_01_12_15_24_15_05of05.dt5\u001b[0m\n"
          ]
        },
        {
          "name": "stdout",
          "output_type": "stream",
          "text": [
            "Signals shape: (56, 808713)\n",
            "New signal shape: (56, 0)\n",
            "length of data: 92\n"
          ]
        },
        {
          "name": "stderr",
          "output_type": "stream",
          "text": [
            " 52%|█████▏    | 34/65 [5:40:45<7:23:49, 859.02s/it]"
          ]
        },
        {
          "name": "stdout",
          "output_type": "stream",
          "text": [
            "Checkpoint saved after session 33\n",
            "Current session: (PosixPath('/Volumes/__UP2/0_RAW_DATA/UP2_001/UP2001_2024_01_15_Rehabilitation_day27'), 34)\n"
          ]
        },
        {
          "name": "stderr",
          "output_type": "stream",
          "text": [
            "\u001b[32m2024-10-18 05:49:30.448\u001b[0m | \u001b[1mINFO    \u001b[0m | \u001b[36mlighthouse.data_loader.load_chuv\u001b[0m:\u001b[36mconcatenate_dt5\u001b[0m:\u001b[36m497\u001b[0m - \u001b[1mLoading /Volumes/__UP2/0_RAW_DATA/UP2_001/UP2001_2024_01_15_Rehabilitation_day27/wisci/2024_01_15_13_43_39 (rec3)/ABSD data/2024_01_15_13_46_51_01of03.dt5\u001b[0m\n",
            "\u001b[32m2024-10-18 05:50:22.175\u001b[0m | \u001b[1mINFO    \u001b[0m | \u001b[36mlighthouse.data_loader.load_chuv\u001b[0m:\u001b[36mload_dt5\u001b[0m:\u001b[36m196\u001b[0m - \u001b[1mScenario Name: classBCIViewerAvatarAllDegreesCourtine\u001b[0m\n",
            "\u001b[32m2024-10-18 05:50:22.183\u001b[0m | \u001b[1mINFO    \u001b[0m | \u001b[36mlighthouse.data_loader.load_chuv\u001b[0m:\u001b[36mload_dt5\u001b[0m:\u001b[36m199\u001b[0m - \u001b[1mSub Scenario Name: classBSISubScenarioUpperJointsClassif\u001b[0m\n",
            "\u001b[32m2024-10-18 05:50:27.224\u001b[0m | \u001b[1mINFO    \u001b[0m | \u001b[36mlighthouse.data_loader.load_chuv\u001b[0m:\u001b[36mconcatenate_dt5\u001b[0m:\u001b[36m497\u001b[0m - \u001b[1mLoading /Volumes/__UP2/0_RAW_DATA/UP2_001/UP2001_2024_01_15_Rehabilitation_day27/wisci/2024_01_15_13_43_39 (rec3)/ABSD data/2024_01_15_13_46_51_02of03.dt5\u001b[0m\n",
            "\u001b[32m2024-10-18 05:51:22.313\u001b[0m | \u001b[1mINFO    \u001b[0m | \u001b[36mlighthouse.data_loader.load_chuv\u001b[0m:\u001b[36mconcatenate_dt5\u001b[0m:\u001b[36m497\u001b[0m - \u001b[1mLoading /Volumes/__UP2/0_RAW_DATA/UP2_001/UP2001_2024_01_15_Rehabilitation_day27/wisci/2024_01_15_13_43_39 (rec3)/ABSD data/2024_01_15_13_46_51_03of03.dt5\u001b[0m\n"
          ]
        },
        {
          "name": "stdout",
          "output_type": "stream",
          "text": [
            "Signals shape: (88, 421968)\n",
            "New signal shape: (88, 45430)\n"
          ]
        },
        {
          "name": "stderr",
          "output_type": "stream",
          "text": [
            "\u001b[32m2024-10-18 05:51:44.086\u001b[0m | \u001b[1mINFO    \u001b[0m | \u001b[36mlighthouse.data_loader.load_chuv\u001b[0m:\u001b[36mconcatenate_dt5\u001b[0m:\u001b[36m497\u001b[0m - \u001b[1mLoading /Volumes/__UP2/0_RAW_DATA/UP2_001/UP2001_2024_01_15_Rehabilitation_day27/wisci/2024_01_15_13_59_30 (rec4)/ABSD data/2024_01_15_14_01_33_01of22.dt5\u001b[0m\n",
            "\u001b[32m2024-10-18 05:53:00.522\u001b[0m | \u001b[1mINFO    \u001b[0m | \u001b[36mlighthouse.data_loader.load_chuv\u001b[0m:\u001b[36mload_dt5\u001b[0m:\u001b[36m196\u001b[0m - \u001b[1mScenario Name: classBCIViewerAvatarAllDegreesCourtine\u001b[0m\n",
            "\u001b[32m2024-10-18 05:53:00.526\u001b[0m | \u001b[1mINFO    \u001b[0m | \u001b[36mlighthouse.data_loader.load_chuv\u001b[0m:\u001b[36mload_dt5\u001b[0m:\u001b[36m199\u001b[0m - \u001b[1mSub Scenario Name: classBSISubScenarioUpperJointsClassif\u001b[0m\n",
            "\u001b[32m2024-10-18 05:53:04.503\u001b[0m | \u001b[1mINFO    \u001b[0m | \u001b[36mlighthouse.data_loader.load_chuv\u001b[0m:\u001b[36mconcatenate_dt5\u001b[0m:\u001b[36m497\u001b[0m - \u001b[1mLoading /Volumes/__UP2/0_RAW_DATA/UP2_001/UP2001_2024_01_15_Rehabilitation_day27/wisci/2024_01_15_13_59_30 (rec4)/ABSD data/2024_01_15_14_01_33_02of22.dt5\u001b[0m\n",
            "\u001b[32m2024-10-18 05:53:49.402\u001b[0m | \u001b[1mINFO    \u001b[0m | \u001b[36mlighthouse.data_loader.load_chuv\u001b[0m:\u001b[36mconcatenate_dt5\u001b[0m:\u001b[36m497\u001b[0m - \u001b[1mLoading /Volumes/__UP2/0_RAW_DATA/UP2_001/UP2001_2024_01_15_Rehabilitation_day27/wisci/2024_01_15_13_59_30 (rec4)/ABSD data/2024_01_15_14_01_33_03of22.dt5\u001b[0m\n",
            "\u001b[32m2024-10-18 05:54:35.334\u001b[0m | \u001b[1mINFO    \u001b[0m | \u001b[36mlighthouse.data_loader.load_chuv\u001b[0m:\u001b[36mconcatenate_dt5\u001b[0m:\u001b[36m497\u001b[0m - \u001b[1mLoading /Volumes/__UP2/0_RAW_DATA/UP2_001/UP2001_2024_01_15_Rehabilitation_day27/wisci/2024_01_15_13_59_30 (rec4)/ABSD data/2024_01_15_14_01_33_04of22.dt5\u001b[0m\n",
            "\u001b[32m2024-10-18 05:55:30.766\u001b[0m | \u001b[1mINFO    \u001b[0m | \u001b[36mlighthouse.data_loader.load_chuv\u001b[0m:\u001b[36mconcatenate_dt5\u001b[0m:\u001b[36m497\u001b[0m - \u001b[1mLoading /Volumes/__UP2/0_RAW_DATA/UP2_001/UP2001_2024_01_15_Rehabilitation_day27/wisci/2024_01_15_13_59_30 (rec4)/ABSD data/2024_01_15_14_01_33_05of22.dt5\u001b[0m\n",
            "\u001b[32m2024-10-18 05:56:36.702\u001b[0m | \u001b[1mINFO    \u001b[0m | \u001b[36mlighthouse.data_loader.load_chuv\u001b[0m:\u001b[36mconcatenate_dt5\u001b[0m:\u001b[36m497\u001b[0m - \u001b[1mLoading /Volumes/__UP2/0_RAW_DATA/UP2_001/UP2001_2024_01_15_Rehabilitation_day27/wisci/2024_01_15_13_59_30 (rec4)/ABSD data/2024_01_15_14_01_33_06of22.dt5\u001b[0m\n",
            "\u001b[32m2024-10-18 05:57:25.091\u001b[0m | \u001b[1mINFO    \u001b[0m | \u001b[36mlighthouse.data_loader.load_chuv\u001b[0m:\u001b[36mconcatenate_dt5\u001b[0m:\u001b[36m497\u001b[0m - \u001b[1mLoading /Volumes/__UP2/0_RAW_DATA/UP2_001/UP2001_2024_01_15_Rehabilitation_day27/wisci/2024_01_15_13_59_30 (rec4)/ABSD data/2024_01_15_14_01_33_07of22.dt5\u001b[0m\n",
            "\u001b[32m2024-10-18 05:58:17.526\u001b[0m | \u001b[1mINFO    \u001b[0m | \u001b[36mlighthouse.data_loader.load_chuv\u001b[0m:\u001b[36mconcatenate_dt5\u001b[0m:\u001b[36m497\u001b[0m - \u001b[1mLoading /Volumes/__UP2/0_RAW_DATA/UP2_001/UP2001_2024_01_15_Rehabilitation_day27/wisci/2024_01_15_13_59_30 (rec4)/ABSD data/2024_01_15_14_01_33_08of22.dt5\u001b[0m\n",
            "\u001b[32m2024-10-18 05:59:03.087\u001b[0m | \u001b[1mINFO    \u001b[0m | \u001b[36mlighthouse.data_loader.load_chuv\u001b[0m:\u001b[36mconcatenate_dt5\u001b[0m:\u001b[36m497\u001b[0m - \u001b[1mLoading /Volumes/__UP2/0_RAW_DATA/UP2_001/UP2001_2024_01_15_Rehabilitation_day27/wisci/2024_01_15_13_59_30 (rec4)/ABSD data/2024_01_15_14_01_33_09of22.dt5\u001b[0m\n",
            "\u001b[32m2024-10-18 05:59:47.342\u001b[0m | \u001b[1mINFO    \u001b[0m | \u001b[36mlighthouse.data_loader.load_chuv\u001b[0m:\u001b[36mconcatenate_dt5\u001b[0m:\u001b[36m497\u001b[0m - \u001b[1mLoading /Volumes/__UP2/0_RAW_DATA/UP2_001/UP2001_2024_01_15_Rehabilitation_day27/wisci/2024_01_15_13_59_30 (rec4)/ABSD data/2024_01_15_14_01_33_10of22.dt5\u001b[0m\n",
            "\u001b[32m2024-10-18 06:00:33.452\u001b[0m | \u001b[1mINFO    \u001b[0m | \u001b[36mlighthouse.data_loader.load_chuv\u001b[0m:\u001b[36mconcatenate_dt5\u001b[0m:\u001b[36m497\u001b[0m - \u001b[1mLoading /Volumes/__UP2/0_RAW_DATA/UP2_001/UP2001_2024_01_15_Rehabilitation_day27/wisci/2024_01_15_13_59_30 (rec4)/ABSD data/2024_01_15_14_01_33_11of22.dt5\u001b[0m\n",
            "\u001b[32m2024-10-18 06:01:17.836\u001b[0m | \u001b[1mINFO    \u001b[0m | \u001b[36mlighthouse.data_loader.load_chuv\u001b[0m:\u001b[36mconcatenate_dt5\u001b[0m:\u001b[36m497\u001b[0m - \u001b[1mLoading /Volumes/__UP2/0_RAW_DATA/UP2_001/UP2001_2024_01_15_Rehabilitation_day27/wisci/2024_01_15_13_59_30 (rec4)/ABSD data/2024_01_15_14_01_33_12of22.dt5\u001b[0m\n",
            "\u001b[32m2024-10-18 06:02:01.951\u001b[0m | \u001b[1mINFO    \u001b[0m | \u001b[36mlighthouse.data_loader.load_chuv\u001b[0m:\u001b[36mconcatenate_dt5\u001b[0m:\u001b[36m497\u001b[0m - \u001b[1mLoading /Volumes/__UP2/0_RAW_DATA/UP2_001/UP2001_2024_01_15_Rehabilitation_day27/wisci/2024_01_15_13_59_30 (rec4)/ABSD data/2024_01_15_14_01_33_13of22.dt5\u001b[0m\n",
            "\u001b[32m2024-10-18 06:02:50.100\u001b[0m | \u001b[1mINFO    \u001b[0m | \u001b[36mlighthouse.data_loader.load_chuv\u001b[0m:\u001b[36mconcatenate_dt5\u001b[0m:\u001b[36m497\u001b[0m - \u001b[1mLoading /Volumes/__UP2/0_RAW_DATA/UP2_001/UP2001_2024_01_15_Rehabilitation_day27/wisci/2024_01_15_13_59_30 (rec4)/ABSD data/2024_01_15_14_01_33_14of22.dt5\u001b[0m\n",
            "\u001b[32m2024-10-18 06:03:37.380\u001b[0m | \u001b[1mINFO    \u001b[0m | \u001b[36mlighthouse.data_loader.load_chuv\u001b[0m:\u001b[36mconcatenate_dt5\u001b[0m:\u001b[36m497\u001b[0m - \u001b[1mLoading /Volumes/__UP2/0_RAW_DATA/UP2_001/UP2001_2024_01_15_Rehabilitation_day27/wisci/2024_01_15_13_59_30 (rec4)/ABSD data/2024_01_15_14_01_33_15of22.dt5\u001b[0m\n",
            "\u001b[32m2024-10-18 06:04:28.906\u001b[0m | \u001b[1mINFO    \u001b[0m | \u001b[36mlighthouse.data_loader.load_chuv\u001b[0m:\u001b[36mconcatenate_dt5\u001b[0m:\u001b[36m497\u001b[0m - \u001b[1mLoading /Volumes/__UP2/0_RAW_DATA/UP2_001/UP2001_2024_01_15_Rehabilitation_day27/wisci/2024_01_15_13_59_30 (rec4)/ABSD data/2024_01_15_14_01_33_16of22.dt5\u001b[0m\n",
            "\u001b[32m2024-10-18 06:05:16.065\u001b[0m | \u001b[1mINFO    \u001b[0m | \u001b[36mlighthouse.data_loader.load_chuv\u001b[0m:\u001b[36mconcatenate_dt5\u001b[0m:\u001b[36m497\u001b[0m - \u001b[1mLoading /Volumes/__UP2/0_RAW_DATA/UP2_001/UP2001_2024_01_15_Rehabilitation_day27/wisci/2024_01_15_13_59_30 (rec4)/ABSD data/2024_01_15_14_01_33_17of22.dt5\u001b[0m\n",
            "\u001b[32m2024-10-18 06:06:06.311\u001b[0m | \u001b[1mINFO    \u001b[0m | \u001b[36mlighthouse.data_loader.load_chuv\u001b[0m:\u001b[36mconcatenate_dt5\u001b[0m:\u001b[36m497\u001b[0m - \u001b[1mLoading /Volumes/__UP2/0_RAW_DATA/UP2_001/UP2001_2024_01_15_Rehabilitation_day27/wisci/2024_01_15_13_59_30 (rec4)/ABSD data/2024_01_15_14_01_33_18of22.dt5\u001b[0m\n",
            "\u001b[32m2024-10-18 06:07:52.265\u001b[0m | \u001b[1mINFO    \u001b[0m | \u001b[36mlighthouse.data_loader.load_chuv\u001b[0m:\u001b[36mconcatenate_dt5\u001b[0m:\u001b[36m497\u001b[0m - \u001b[1mLoading /Volumes/__UP2/0_RAW_DATA/UP2_001/UP2001_2024_01_15_Rehabilitation_day27/wisci/2024_01_15_13_59_30 (rec4)/ABSD data/2024_01_15_14_01_33_19of22.dt5\u001b[0m\n",
            "\u001b[32m2024-10-18 06:09:00.476\u001b[0m | \u001b[1mINFO    \u001b[0m | \u001b[36mlighthouse.data_loader.load_chuv\u001b[0m:\u001b[36mconcatenate_dt5\u001b[0m:\u001b[36m497\u001b[0m - \u001b[1mLoading /Volumes/__UP2/0_RAW_DATA/UP2_001/UP2001_2024_01_15_Rehabilitation_day27/wisci/2024_01_15_13_59_30 (rec4)/ABSD data/2024_01_15_14_01_33_20of22.dt5\u001b[0m\n",
            "\u001b[32m2024-10-18 06:09:53.842\u001b[0m | \u001b[1mINFO    \u001b[0m | \u001b[36mlighthouse.data_loader.load_chuv\u001b[0m:\u001b[36mconcatenate_dt5\u001b[0m:\u001b[36m497\u001b[0m - \u001b[1mLoading /Volumes/__UP2/0_RAW_DATA/UP2_001/UP2001_2024_01_15_Rehabilitation_day27/wisci/2024_01_15_13_59_30 (rec4)/ABSD data/2024_01_15_14_01_33_21of22.dt5\u001b[0m\n",
            "\u001b[32m2024-10-18 06:11:31.721\u001b[0m | \u001b[1mINFO    \u001b[0m | \u001b[36mlighthouse.data_loader.load_chuv\u001b[0m:\u001b[36mconcatenate_dt5\u001b[0m:\u001b[36m497\u001b[0m - \u001b[1mLoading /Volumes/__UP2/0_RAW_DATA/UP2_001/UP2001_2024_01_15_Rehabilitation_day27/wisci/2024_01_15_13_59_30 (rec4)/ABSD data/2024_01_15_14_01_33_22of22.dt5\u001b[0m\n"
          ]
        },
        {
          "name": "stdout",
          "output_type": "stream",
          "text": [
            "Signals shape: (56, 3720953)\n",
            "New signal shape: (56, 141364)\n",
            "length of data: 94\n"
          ]
        },
        {
          "name": "stderr",
          "output_type": "stream",
          "text": [
            " 54%|█████▍    | 35/65 [6:03:19<8:23:45, 1007.53s/it]"
          ]
        },
        {
          "name": "stdout",
          "output_type": "stream",
          "text": [
            "Checkpoint saved after session 34\n",
            "Current session: (PosixPath('/Volumes/__UP2/0_RAW_DATA/UP2_001/UP2001_2024_01_16_Rehabilitation_day28'), 35)\n"
          ]
        },
        {
          "name": "stderr",
          "output_type": "stream",
          "text": [
            "\u001b[32m2024-10-18 06:12:07.337\u001b[0m | \u001b[1mINFO    \u001b[0m | \u001b[36mlighthouse.data_loader.load_chuv\u001b[0m:\u001b[36mconcatenate_dt5\u001b[0m:\u001b[36m497\u001b[0m - \u001b[1mLoading /Volumes/__UP2/0_RAW_DATA/UP2_001/UP2001_2024_01_16_Rehabilitation_day28/ABSD data/2024_01_16_14_02_41 (rec1)/ABSD data/2024_01_16_14_07_47_01of08.dt5\u001b[0m\n",
            "\u001b[32m2024-10-18 06:12:48.316\u001b[0m | \u001b[1mINFO    \u001b[0m | \u001b[36mlighthouse.data_loader.load_chuv\u001b[0m:\u001b[36mload_dt5\u001b[0m:\u001b[36m196\u001b[0m - \u001b[1mScenario Name: classBCIViewerAvatarAllDegreesCourtine\u001b[0m\n",
            "\u001b[32m2024-10-18 06:12:48.325\u001b[0m | \u001b[1mINFO    \u001b[0m | \u001b[36mlighthouse.data_loader.load_chuv\u001b[0m:\u001b[36mload_dt5\u001b[0m:\u001b[36m199\u001b[0m - \u001b[1mSub Scenario Name: classBSISubScenarioUpperJointsClassif\u001b[0m\n",
            "\u001b[32m2024-10-18 06:12:53.272\u001b[0m | \u001b[1mINFO    \u001b[0m | \u001b[36mlighthouse.data_loader.load_chuv\u001b[0m:\u001b[36mconcatenate_dt5\u001b[0m:\u001b[36m497\u001b[0m - \u001b[1mLoading /Volumes/__UP2/0_RAW_DATA/UP2_001/UP2001_2024_01_16_Rehabilitation_day28/ABSD data/2024_01_16_14_02_41 (rec1)/ABSD data/2024_01_16_14_07_47_02of08.dt5\u001b[0m\n",
            "\u001b[32m2024-10-18 06:13:38.542\u001b[0m | \u001b[1mINFO    \u001b[0m | \u001b[36mlighthouse.data_loader.load_chuv\u001b[0m:\u001b[36mconcatenate_dt5\u001b[0m:\u001b[36m497\u001b[0m - \u001b[1mLoading /Volumes/__UP2/0_RAW_DATA/UP2_001/UP2001_2024_01_16_Rehabilitation_day28/ABSD data/2024_01_16_14_02_41 (rec1)/ABSD data/2024_01_16_14_07_47_03of08.dt5\u001b[0m\n",
            "\u001b[32m2024-10-18 06:14:24.531\u001b[0m | \u001b[1mINFO    \u001b[0m | \u001b[36mlighthouse.data_loader.load_chuv\u001b[0m:\u001b[36mconcatenate_dt5\u001b[0m:\u001b[36m497\u001b[0m - \u001b[1mLoading /Volumes/__UP2/0_RAW_DATA/UP2_001/UP2001_2024_01_16_Rehabilitation_day28/ABSD data/2024_01_16_14_02_41 (rec1)/ABSD data/2024_01_16_14_07_47_04of08.dt5\u001b[0m\n",
            "\u001b[32m2024-10-18 06:15:12.637\u001b[0m | \u001b[1mINFO    \u001b[0m | \u001b[36mlighthouse.data_loader.load_chuv\u001b[0m:\u001b[36mconcatenate_dt5\u001b[0m:\u001b[36m497\u001b[0m - \u001b[1mLoading /Volumes/__UP2/0_RAW_DATA/UP2_001/UP2001_2024_01_16_Rehabilitation_day28/ABSD data/2024_01_16_14_02_41 (rec1)/ABSD data/2024_01_16_14_07_47_05of08.dt5\u001b[0m\n",
            "\u001b[32m2024-10-18 06:15:56.235\u001b[0m | \u001b[1mINFO    \u001b[0m | \u001b[36mlighthouse.data_loader.load_chuv\u001b[0m:\u001b[36mconcatenate_dt5\u001b[0m:\u001b[36m497\u001b[0m - \u001b[1mLoading /Volumes/__UP2/0_RAW_DATA/UP2_001/UP2001_2024_01_16_Rehabilitation_day28/ABSD data/2024_01_16_14_02_41 (rec1)/ABSD data/2024_01_16_14_07_47_06of08.dt5\u001b[0m\n",
            "\u001b[32m2024-10-18 06:16:39.851\u001b[0m | \u001b[1mINFO    \u001b[0m | \u001b[36mlighthouse.data_loader.load_chuv\u001b[0m:\u001b[36mconcatenate_dt5\u001b[0m:\u001b[36m497\u001b[0m - \u001b[1mLoading /Volumes/__UP2/0_RAW_DATA/UP2_001/UP2001_2024_01_16_Rehabilitation_day28/ABSD data/2024_01_16_14_02_41 (rec1)/ABSD data/2024_01_16_14_07_47_07of08.dt5\u001b[0m\n",
            "\u001b[32m2024-10-18 06:17:25.515\u001b[0m | \u001b[1mINFO    \u001b[0m | \u001b[36mlighthouse.data_loader.load_chuv\u001b[0m:\u001b[36mconcatenate_dt5\u001b[0m:\u001b[36m497\u001b[0m - \u001b[1mLoading /Volumes/__UP2/0_RAW_DATA/UP2_001/UP2001_2024_01_16_Rehabilitation_day28/ABSD data/2024_01_16_14_02_41 (rec1)/ABSD data/2024_01_16_14_07_47_08of08.dt5\u001b[0m\n"
          ]
        },
        {
          "name": "stdout",
          "output_type": "stream",
          "text": [
            "Signals shape: (56, 1366853)\n",
            "New signal shape: (56, 200541)\n"
          ]
        },
        {
          "name": "stderr",
          "output_type": "stream",
          "text": [
            "\u001b[32m2024-10-18 06:17:57.061\u001b[0m | \u001b[1mINFO    \u001b[0m | \u001b[36mlighthouse.data_loader.load_chuv\u001b[0m:\u001b[36mconcatenate_dt5\u001b[0m:\u001b[36m497\u001b[0m - \u001b[1mLoading /Volumes/__UP2/0_RAW_DATA/UP2_001/UP2001_2024_01_16_Rehabilitation_day28/ABSD data/2024_01_16_14_52_17 (rec2)/ABSD data/2024_01_16_14_56_13_01of03.dt5\u001b[0m\n",
            "\u001b[32m2024-10-18 06:18:59.667\u001b[0m | \u001b[1mINFO    \u001b[0m | \u001b[36mlighthouse.data_loader.load_chuv\u001b[0m:\u001b[36mload_dt5\u001b[0m:\u001b[36m196\u001b[0m - \u001b[1mScenario Name: classBCIViewerAvatarAllDegreesCourtine\u001b[0m\n",
            "\u001b[32m2024-10-18 06:18:59.671\u001b[0m | \u001b[1mINFO    \u001b[0m | \u001b[36mlighthouse.data_loader.load_chuv\u001b[0m:\u001b[36mload_dt5\u001b[0m:\u001b[36m199\u001b[0m - \u001b[1mSub Scenario Name: classBSISubScenarioUpperJointsClassif\u001b[0m\n",
            "\u001b[32m2024-10-18 06:19:04.667\u001b[0m | \u001b[1mINFO    \u001b[0m | \u001b[36mlighthouse.data_loader.load_chuv\u001b[0m:\u001b[36mconcatenate_dt5\u001b[0m:\u001b[36m497\u001b[0m - \u001b[1mLoading /Volumes/__UP2/0_RAW_DATA/UP2_001/UP2001_2024_01_16_Rehabilitation_day28/ABSD data/2024_01_16_14_52_17 (rec2)/ABSD data/2024_01_16_14_56_13_02of03.dt5\u001b[0m\n",
            "\u001b[32m2024-10-18 06:19:56.258\u001b[0m | \u001b[1mINFO    \u001b[0m | \u001b[36mlighthouse.data_loader.load_chuv\u001b[0m:\u001b[36mconcatenate_dt5\u001b[0m:\u001b[36m497\u001b[0m - \u001b[1mLoading /Volumes/__UP2/0_RAW_DATA/UP2_001/UP2001_2024_01_16_Rehabilitation_day28/ABSD data/2024_01_16_14_52_17 (rec2)/ABSD data/2024_01_16_14_56_13_03of03.dt5\u001b[0m\n"
          ]
        },
        {
          "name": "stdout",
          "output_type": "stream",
          "text": [
            "Signals shape: (88, 392704)\n",
            "New signal shape: (88, 59531)\n"
          ]
        },
        {
          "name": "stderr",
          "output_type": "stream",
          "text": [
            "\u001b[32m2024-10-18 06:20:07.712\u001b[0m | \u001b[1mINFO    \u001b[0m | \u001b[36mlighthouse.data_loader.load_chuv\u001b[0m:\u001b[36mconcatenate_dt5\u001b[0m:\u001b[36m497\u001b[0m - \u001b[1mLoading /Volumes/__UP2/0_RAW_DATA/UP2_001/UP2001_2024_01_16_Rehabilitation_day28/ABSD data/2024_01_16_15_07_49 (rec3)/ABSD data/2024_01_16_15_10_22_01of04.dt5\u001b[0m\n",
            "\u001b[32m2024-10-18 06:20:48.634\u001b[0m | \u001b[1mINFO    \u001b[0m | \u001b[36mlighthouse.data_loader.load_chuv\u001b[0m:\u001b[36mload_dt5\u001b[0m:\u001b[36m196\u001b[0m - \u001b[1mScenario Name: classBCIViewerAvatarAllDegreesCourtine\u001b[0m\n",
            "\u001b[32m2024-10-18 06:20:48.638\u001b[0m | \u001b[1mINFO    \u001b[0m | \u001b[36mlighthouse.data_loader.load_chuv\u001b[0m:\u001b[36mload_dt5\u001b[0m:\u001b[36m199\u001b[0m - \u001b[1mSub Scenario Name: classBSISubScenarioUpperJointsClassif\u001b[0m\n",
            "\u001b[32m2024-10-18 06:20:52.639\u001b[0m | \u001b[1mINFO    \u001b[0m | \u001b[36mlighthouse.data_loader.load_chuv\u001b[0m:\u001b[36mconcatenate_dt5\u001b[0m:\u001b[36m497\u001b[0m - \u001b[1mLoading /Volumes/__UP2/0_RAW_DATA/UP2_001/UP2001_2024_01_16_Rehabilitation_day28/ABSD data/2024_01_16_15_07_49 (rec3)/ABSD data/2024_01_16_15_10_22_02of04.dt5\u001b[0m\n",
            "\u001b[32m2024-10-18 06:21:44.205\u001b[0m | \u001b[1mINFO    \u001b[0m | \u001b[36mlighthouse.data_loader.load_chuv\u001b[0m:\u001b[36mconcatenate_dt5\u001b[0m:\u001b[36m497\u001b[0m - \u001b[1mLoading /Volumes/__UP2/0_RAW_DATA/UP2_001/UP2001_2024_01_16_Rehabilitation_day28/ABSD data/2024_01_16_15_07_49 (rec3)/ABSD data/2024_01_16_15_10_22_03of04.dt5\u001b[0m\n",
            "\u001b[32m2024-10-18 06:23:26.739\u001b[0m | \u001b[1mINFO    \u001b[0m | \u001b[36mlighthouse.data_loader.load_chuv\u001b[0m:\u001b[36mconcatenate_dt5\u001b[0m:\u001b[36m497\u001b[0m - \u001b[1mLoading /Volumes/__UP2/0_RAW_DATA/UP2_001/UP2001_2024_01_16_Rehabilitation_day28/ABSD data/2024_01_16_15_07_49 (rec3)/ABSD data/2024_01_16_15_10_22_04of04.dt5\u001b[0m\n"
          ]
        },
        {
          "name": "stdout",
          "output_type": "stream",
          "text": [
            "Signals shape: (56, 626639)\n",
            "New signal shape: (56, 52687)\n",
            "length of data: 97\n"
          ]
        },
        {
          "name": "stderr",
          "output_type": "stream",
          "text": [
            " 55%|█████▌    | 36/65 [6:15:34<7:27:21, 925.58s/it] "
          ]
        },
        {
          "name": "stdout",
          "output_type": "stream",
          "text": [
            "Checkpoint saved after session 35\n",
            "Current session: (PosixPath('/Volumes/__UP2/0_RAW_DATA/UP2_001/UP2001_2024_01_17_Rehabilitation_day29'), 36)\n"
          ]
        },
        {
          "name": "stderr",
          "output_type": "stream",
          "text": [
            "\u001b[32m2024-10-18 06:24:22.520\u001b[0m | \u001b[1mINFO    \u001b[0m | \u001b[36mlighthouse.data_loader.load_chuv\u001b[0m:\u001b[36mconcatenate_dt5\u001b[0m:\u001b[36m497\u001b[0m - \u001b[1mLoading /Volumes/__UP2/0_RAW_DATA/UP2_001/UP2001_2024_01_17_Rehabilitation_day29/wisci/2024_01_17_13_27_26 (rec00)/ABSD data/2024_01_17_13_31_50_01of01.dt5\u001b[0m\n",
            "\u001b[32m2024-10-18 06:24:32.454\u001b[0m | \u001b[1mINFO    \u001b[0m | \u001b[36mlighthouse.data_loader.load_chuv\u001b[0m:\u001b[36mload_dt5\u001b[0m:\u001b[36m196\u001b[0m - \u001b[1mScenario Name: classBCIViewerAvatarAllDegreesCourtine\u001b[0m\n",
            "\u001b[32m2024-10-18 06:24:32.463\u001b[0m | \u001b[1mINFO    \u001b[0m | \u001b[36mlighthouse.data_loader.load_chuv\u001b[0m:\u001b[36mload_dt5\u001b[0m:\u001b[36m199\u001b[0m - \u001b[1mSub Scenario Name: classBSISubScenarioUpperJointsClassif\u001b[0m\n"
          ]
        },
        {
          "name": "stdout",
          "output_type": "stream",
          "text": [
            "Signals shape: (56, 41005)\n",
            "New signal shape: (56, 0)\n"
          ]
        },
        {
          "name": "stderr",
          "output_type": "stream",
          "text": [
            "\u001b[32m2024-10-18 06:24:33.826\u001b[0m | \u001b[1mINFO    \u001b[0m | \u001b[36mlighthouse.data_loader.load_chuv\u001b[0m:\u001b[36mconcatenate_dt5\u001b[0m:\u001b[36m497\u001b[0m - \u001b[1mLoading /Volumes/__UP2/0_RAW_DATA/UP2_001/UP2001_2024_01_17_Rehabilitation_day29/wisci/2024_01_17_13_33_28 (rec03)/ABSD data/2024_01_17_13_35_47_01of01.dt5\u001b[0m\n",
            "\u001b[32m2024-10-18 06:25:17.275\u001b[0m | \u001b[1mINFO    \u001b[0m | \u001b[36mlighthouse.data_loader.load_chuv\u001b[0m:\u001b[36mload_dt5\u001b[0m:\u001b[36m196\u001b[0m - \u001b[1mScenario Name: classBCIViewerAvatarAllDegreesCourtine\u001b[0m\n",
            "\u001b[32m2024-10-18 06:25:17.279\u001b[0m | \u001b[1mINFO    \u001b[0m | \u001b[36mlighthouse.data_loader.load_chuv\u001b[0m:\u001b[36mload_dt5\u001b[0m:\u001b[36m199\u001b[0m - \u001b[1mSub Scenario Name: classBSISubScenarioUpperJointsClassif\u001b[0m\n"
          ]
        },
        {
          "name": "stdout",
          "output_type": "stream",
          "text": [
            "Signals shape: (56, 165200)\n",
            "New signal shape: (56, 0)\n"
          ]
        },
        {
          "name": "stderr",
          "output_type": "stream",
          "text": [
            "\u001b[32m2024-10-18 06:25:21.446\u001b[0m | \u001b[1mINFO    \u001b[0m | \u001b[36mlighthouse.data_loader.load_chuv\u001b[0m:\u001b[36mconcatenate_dt5\u001b[0m:\u001b[36m497\u001b[0m - \u001b[1mLoading /Volumes/__UP2/0_RAW_DATA/UP2_001/UP2001_2024_01_17_Rehabilitation_day29/wisci/2024_01_17_13_42_30 (rec1)/ABSD data/2024_01_17_13_44_53_01of05.dt5\u001b[0m\n",
            "\u001b[32m2024-10-18 06:26:07.377\u001b[0m | \u001b[1mINFO    \u001b[0m | \u001b[36mlighthouse.data_loader.load_chuv\u001b[0m:\u001b[36mload_dt5\u001b[0m:\u001b[36m196\u001b[0m - \u001b[1mScenario Name: classBCIViewerAvatarAllDegreesCourtine\u001b[0m\n",
            "\u001b[32m2024-10-18 06:26:07.384\u001b[0m | \u001b[1mINFO    \u001b[0m | \u001b[36mlighthouse.data_loader.load_chuv\u001b[0m:\u001b[36mload_dt5\u001b[0m:\u001b[36m199\u001b[0m - \u001b[1mSub Scenario Name: classBSISubScenarioUpperJointsClassif\u001b[0m\n",
            "\u001b[32m2024-10-18 06:26:11.492\u001b[0m | \u001b[1mINFO    \u001b[0m | \u001b[36mlighthouse.data_loader.load_chuv\u001b[0m:\u001b[36mconcatenate_dt5\u001b[0m:\u001b[36m497\u001b[0m - \u001b[1mLoading /Volumes/__UP2/0_RAW_DATA/UP2_001/UP2001_2024_01_17_Rehabilitation_day29/wisci/2024_01_17_13_42_30 (rec1)/ABSD data/2024_01_17_13_44_53_02of05.dt5\u001b[0m\n",
            "\u001b[32m2024-10-18 06:27:04.505\u001b[0m | \u001b[1mINFO    \u001b[0m | \u001b[36mlighthouse.data_loader.load_chuv\u001b[0m:\u001b[36mconcatenate_dt5\u001b[0m:\u001b[36m497\u001b[0m - \u001b[1mLoading /Volumes/__UP2/0_RAW_DATA/UP2_001/UP2001_2024_01_17_Rehabilitation_day29/wisci/2024_01_17_13_42_30 (rec1)/ABSD data/2024_01_17_13_44_53_03of05.dt5\u001b[0m\n",
            "\u001b[32m2024-10-18 06:28:10.185\u001b[0m | \u001b[1mINFO    \u001b[0m | \u001b[36mlighthouse.data_loader.load_chuv\u001b[0m:\u001b[36mconcatenate_dt5\u001b[0m:\u001b[36m497\u001b[0m - \u001b[1mLoading /Volumes/__UP2/0_RAW_DATA/UP2_001/UP2001_2024_01_17_Rehabilitation_day29/wisci/2024_01_17_13_42_30 (rec1)/ABSD data/2024_01_17_13_44_53_04of05.dt5\u001b[0m\n",
            "\u001b[32m2024-10-18 06:29:05.459\u001b[0m | \u001b[1mINFO    \u001b[0m | \u001b[36mlighthouse.data_loader.load_chuv\u001b[0m:\u001b[36mconcatenate_dt5\u001b[0m:\u001b[36m497\u001b[0m - \u001b[1mLoading /Volumes/__UP2/0_RAW_DATA/UP2_001/UP2001_2024_01_17_Rehabilitation_day29/wisci/2024_01_17_13_42_30 (rec1)/ABSD data/2024_01_17_13_44_53_05of05.dt5\u001b[0m\n"
          ]
        },
        {
          "name": "stdout",
          "output_type": "stream",
          "text": [
            "Signals shape: (56, 720803)\n",
            "New signal shape: (56, 181366)\n"
          ]
        },
        {
          "name": "stderr",
          "output_type": "stream",
          "text": [
            "\u001b[32m2024-10-18 06:29:10.311\u001b[0m | \u001b[1mINFO    \u001b[0m | \u001b[36mlighthouse.data_loader.load_chuv\u001b[0m:\u001b[36mconcatenate_dt5\u001b[0m:\u001b[36m497\u001b[0m - \u001b[1mLoading /Volumes/__UP2/0_RAW_DATA/UP2_001/UP2001_2024_01_17_Rehabilitation_day29/wisci/2024_01_17_14_12_27 (rec2)/ABSD data/2024_01_17_14_14_51_01of05.dt5\u001b[0m\n",
            "\u001b[32m2024-10-18 06:30:37.498\u001b[0m | \u001b[1mINFO    \u001b[0m | \u001b[36mlighthouse.data_loader.load_chuv\u001b[0m:\u001b[36mload_dt5\u001b[0m:\u001b[36m196\u001b[0m - \u001b[1mScenario Name: classBCIViewerAvatarAllDegreesCourtine\u001b[0m\n",
            "\u001b[32m2024-10-18 06:30:37.502\u001b[0m | \u001b[1mINFO    \u001b[0m | \u001b[36mlighthouse.data_loader.load_chuv\u001b[0m:\u001b[36mload_dt5\u001b[0m:\u001b[36m199\u001b[0m - \u001b[1mSub Scenario Name: classBSISubScenarioUpperJointsClassif\u001b[0m\n",
            "\u001b[32m2024-10-18 06:30:41.436\u001b[0m | \u001b[1mINFO    \u001b[0m | \u001b[36mlighthouse.data_loader.load_chuv\u001b[0m:\u001b[36mconcatenate_dt5\u001b[0m:\u001b[36m497\u001b[0m - \u001b[1mLoading /Volumes/__UP2/0_RAW_DATA/UP2_001/UP2001_2024_01_17_Rehabilitation_day29/wisci/2024_01_17_14_12_27 (rec2)/ABSD data/2024_01_17_14_14_51_02of05.dt5\u001b[0m\n",
            "\u001b[32m2024-10-18 06:31:25.304\u001b[0m | \u001b[1mINFO    \u001b[0m | \u001b[36mlighthouse.data_loader.load_chuv\u001b[0m:\u001b[36mconcatenate_dt5\u001b[0m:\u001b[36m497\u001b[0m - \u001b[1mLoading /Volumes/__UP2/0_RAW_DATA/UP2_001/UP2001_2024_01_17_Rehabilitation_day29/wisci/2024_01_17_14_12_27 (rec2)/ABSD data/2024_01_17_14_14_51_03of05.dt5\u001b[0m\n",
            "\u001b[32m2024-10-18 06:32:25.427\u001b[0m | \u001b[1mINFO    \u001b[0m | \u001b[36mlighthouse.data_loader.load_chuv\u001b[0m:\u001b[36mconcatenate_dt5\u001b[0m:\u001b[36m497\u001b[0m - \u001b[1mLoading /Volumes/__UP2/0_RAW_DATA/UP2_001/UP2001_2024_01_17_Rehabilitation_day29/wisci/2024_01_17_14_12_27 (rec2)/ABSD data/2024_01_17_14_14_51_04of05.dt5\u001b[0m\n",
            "\u001b[32m2024-10-18 06:33:15.091\u001b[0m | \u001b[1mINFO    \u001b[0m | \u001b[36mlighthouse.data_loader.load_chuv\u001b[0m:\u001b[36mconcatenate_dt5\u001b[0m:\u001b[36m497\u001b[0m - \u001b[1mLoading /Volumes/__UP2/0_RAW_DATA/UP2_001/UP2001_2024_01_17_Rehabilitation_day29/wisci/2024_01_17_14_12_27 (rec2)/ABSD data/2024_01_17_14_14_51_05of05.dt5\u001b[0m\n"
          ]
        },
        {
          "name": "stdout",
          "output_type": "stream",
          "text": [
            "Signals shape: (56, 735907)\n",
            "New signal shape: (56, 125257)\n"
          ]
        },
        {
          "name": "stderr",
          "output_type": "stream",
          "text": [
            "\u001b[32m2024-10-18 06:33:23.762\u001b[0m | \u001b[1mINFO    \u001b[0m | \u001b[36mlighthouse.data_loader.load_chuv\u001b[0m:\u001b[36mconcatenate_dt5\u001b[0m:\u001b[36m497\u001b[0m - \u001b[1mLoading /Volumes/__UP2/0_RAW_DATA/UP2_001/UP2001_2024_01_17_Rehabilitation_day29/wisci/2024_01_17_14_36_37 (rec3)/ABSD data/2024_01_17_14_40_06_01of09.dt5\u001b[0m\n",
            "\u001b[32m2024-10-18 06:34:08.316\u001b[0m | \u001b[1mINFO    \u001b[0m | \u001b[36mlighthouse.data_loader.load_chuv\u001b[0m:\u001b[36mload_dt5\u001b[0m:\u001b[36m196\u001b[0m - \u001b[1mScenario Name: classBCIViewerAvatarAllDegreesCourtine\u001b[0m\n",
            "\u001b[32m2024-10-18 06:34:08.320\u001b[0m | \u001b[1mINFO    \u001b[0m | \u001b[36mlighthouse.data_loader.load_chuv\u001b[0m:\u001b[36mload_dt5\u001b[0m:\u001b[36m199\u001b[0m - \u001b[1mSub Scenario Name: classBSISubScenarioUpperJointsClassif\u001b[0m\n",
            "\u001b[32m2024-10-18 06:34:12.410\u001b[0m | \u001b[1mINFO    \u001b[0m | \u001b[36mlighthouse.data_loader.load_chuv\u001b[0m:\u001b[36mconcatenate_dt5\u001b[0m:\u001b[36m497\u001b[0m - \u001b[1mLoading /Volumes/__UP2/0_RAW_DATA/UP2_001/UP2001_2024_01_17_Rehabilitation_day29/wisci/2024_01_17_14_36_37 (rec3)/ABSD data/2024_01_17_14_40_06_02of09.dt5\u001b[0m\n",
            "\u001b[32m2024-10-18 06:35:26.195\u001b[0m | \u001b[1mINFO    \u001b[0m | \u001b[36mlighthouse.data_loader.load_chuv\u001b[0m:\u001b[36mconcatenate_dt5\u001b[0m:\u001b[36m497\u001b[0m - \u001b[1mLoading /Volumes/__UP2/0_RAW_DATA/UP2_001/UP2001_2024_01_17_Rehabilitation_day29/wisci/2024_01_17_14_36_37 (rec3)/ABSD data/2024_01_17_14_40_06_03of09.dt5\u001b[0m\n",
            "\u001b[32m2024-10-18 06:36:18.998\u001b[0m | \u001b[1mINFO    \u001b[0m | \u001b[36mlighthouse.data_loader.load_chuv\u001b[0m:\u001b[36mconcatenate_dt5\u001b[0m:\u001b[36m497\u001b[0m - \u001b[1mLoading /Volumes/__UP2/0_RAW_DATA/UP2_001/UP2001_2024_01_17_Rehabilitation_day29/wisci/2024_01_17_14_36_37 (rec3)/ABSD data/2024_01_17_14_40_06_04of09.dt5\u001b[0m\n",
            "\u001b[32m2024-10-18 06:37:05.468\u001b[0m | \u001b[1mINFO    \u001b[0m | \u001b[36mlighthouse.data_loader.load_chuv\u001b[0m:\u001b[36mconcatenate_dt5\u001b[0m:\u001b[36m497\u001b[0m - \u001b[1mLoading /Volumes/__UP2/0_RAW_DATA/UP2_001/UP2001_2024_01_17_Rehabilitation_day29/wisci/2024_01_17_14_36_37 (rec3)/ABSD data/2024_01_17_14_40_06_05of09.dt5\u001b[0m\n",
            "\u001b[32m2024-10-18 06:37:51.160\u001b[0m | \u001b[1mINFO    \u001b[0m | \u001b[36mlighthouse.data_loader.load_chuv\u001b[0m:\u001b[36mconcatenate_dt5\u001b[0m:\u001b[36m497\u001b[0m - \u001b[1mLoading /Volumes/__UP2/0_RAW_DATA/UP2_001/UP2001_2024_01_17_Rehabilitation_day29/wisci/2024_01_17_14_36_37 (rec3)/ABSD data/2024_01_17_14_40_06_06of09.dt5\u001b[0m\n",
            "\u001b[32m2024-10-18 06:38:37.721\u001b[0m | \u001b[1mINFO    \u001b[0m | \u001b[36mlighthouse.data_loader.load_chuv\u001b[0m:\u001b[36mconcatenate_dt5\u001b[0m:\u001b[36m497\u001b[0m - \u001b[1mLoading /Volumes/__UP2/0_RAW_DATA/UP2_001/UP2001_2024_01_17_Rehabilitation_day29/wisci/2024_01_17_14_36_37 (rec3)/ABSD data/2024_01_17_14_40_06_07of09.dt5\u001b[0m\n",
            "\u001b[32m2024-10-18 06:39:33.072\u001b[0m | \u001b[1mINFO    \u001b[0m | \u001b[36mlighthouse.data_loader.load_chuv\u001b[0m:\u001b[36mconcatenate_dt5\u001b[0m:\u001b[36m497\u001b[0m - \u001b[1mLoading /Volumes/__UP2/0_RAW_DATA/UP2_001/UP2001_2024_01_17_Rehabilitation_day29/wisci/2024_01_17_14_36_37 (rec3)/ABSD data/2024_01_17_14_40_06_08of09.dt5\u001b[0m\n",
            "\u001b[32m2024-10-18 06:40:18.207\u001b[0m | \u001b[1mINFO    \u001b[0m | \u001b[36mlighthouse.data_loader.load_chuv\u001b[0m:\u001b[36mconcatenate_dt5\u001b[0m:\u001b[36m497\u001b[0m - \u001b[1mLoading /Volumes/__UP2/0_RAW_DATA/UP2_001/UP2001_2024_01_17_Rehabilitation_day29/wisci/2024_01_17_14_36_37 (rec3)/ABSD data/2024_01_17_14_40_06_09of09.dt5\u001b[0m\n"
          ]
        },
        {
          "name": "stdout",
          "output_type": "stream",
          "text": [
            "Signals shape: (56, 1441547)\n",
            "New signal shape: (56, 0)\n",
            "length of data: 102\n"
          ]
        },
        {
          "name": "stderr",
          "output_type": "stream",
          "text": [
            " 57%|█████▋    | 37/65 [6:32:11<7:22:01, 947.19s/it]"
          ]
        },
        {
          "name": "stdout",
          "output_type": "stream",
          "text": [
            "Checkpoint saved after session 36\n",
            "Current session: (PosixPath('/Volumes/__UP2/0_RAW_DATA/UP2_001/UP2001_2024_01_18_Rehabilitation_day30'), 37)\n"
          ]
        },
        {
          "name": "stderr",
          "output_type": "stream",
          "text": [
            "\u001b[32m2024-10-18 06:41:00.577\u001b[0m | \u001b[1mINFO    \u001b[0m | \u001b[36mlighthouse.data_loader.load_chuv\u001b[0m:\u001b[36mconcatenate_dt5\u001b[0m:\u001b[36m497\u001b[0m - \u001b[1mLoading /Volumes/__UP2/0_RAW_DATA/UP2_001/UP2001_2024_01_18_Rehabilitation_day30/wisci/2024_01_18_13_21_40 (rec1)/ABSD data/2024_01_18_13_25_43_01of03.dt5\u001b[0m\n",
            "\u001b[32m2024-10-18 06:42:00.505\u001b[0m | \u001b[1mINFO    \u001b[0m | \u001b[36mlighthouse.data_loader.load_chuv\u001b[0m:\u001b[36mload_dt5\u001b[0m:\u001b[36m196\u001b[0m - \u001b[1mScenario Name: classBCIViewerAvatarAllDegreesCourtine\u001b[0m\n",
            "\u001b[32m2024-10-18 06:42:00.525\u001b[0m | \u001b[1mINFO    \u001b[0m | \u001b[36mlighthouse.data_loader.load_chuv\u001b[0m:\u001b[36mload_dt5\u001b[0m:\u001b[36m199\u001b[0m - \u001b[1mSub Scenario Name: classBSISubScenarioUpperJointsClassif\u001b[0m\n",
            "\u001b[32m2024-10-18 06:42:05.733\u001b[0m | \u001b[1mINFO    \u001b[0m | \u001b[36mlighthouse.data_loader.load_chuv\u001b[0m:\u001b[36mconcatenate_dt5\u001b[0m:\u001b[36m497\u001b[0m - \u001b[1mLoading /Volumes/__UP2/0_RAW_DATA/UP2_001/UP2001_2024_01_18_Rehabilitation_day30/wisci/2024_01_18_13_21_40 (rec1)/ABSD data/2024_01_18_13_25_43_02of03.dt5\u001b[0m\n",
            "\u001b[32m2024-10-18 06:43:25.279\u001b[0m | \u001b[1mINFO    \u001b[0m | \u001b[36mlighthouse.data_loader.load_chuv\u001b[0m:\u001b[36mconcatenate_dt5\u001b[0m:\u001b[36m497\u001b[0m - \u001b[1mLoading /Volumes/__UP2/0_RAW_DATA/UP2_001/UP2001_2024_01_18_Rehabilitation_day30/wisci/2024_01_18_13_21_40 (rec1)/ABSD data/2024_01_18_13_25_43_03of03.dt5\u001b[0m\n"
          ]
        },
        {
          "name": "stdout",
          "output_type": "stream",
          "text": [
            "Signals shape: (88, 424446)\n",
            "New signal shape: (88, 43601)\n"
          ]
        },
        {
          "name": "stderr",
          "output_type": "stream",
          "text": [
            "\u001b[32m2024-10-18 06:43:47.772\u001b[0m | \u001b[1mINFO    \u001b[0m | \u001b[36mlighthouse.data_loader.load_chuv\u001b[0m:\u001b[36mconcatenate_dt5\u001b[0m:\u001b[36m497\u001b[0m - \u001b[1mLoading /Volumes/__UP2/0_RAW_DATA/UP2_001/UP2001_2024_01_18_Rehabilitation_day30/wisci/2024_01_18_13_53_34 (rec2)/ABSD data/2024_01_18_13_55_22_01of01.dt5\u001b[0m\n",
            "\u001b[32m2024-10-18 06:44:36.195\u001b[0m | \u001b[1mINFO    \u001b[0m | \u001b[36mlighthouse.data_loader.load_chuv\u001b[0m:\u001b[36mload_dt5\u001b[0m:\u001b[36m196\u001b[0m - \u001b[1mScenario Name: classBCIViewerAvatarAllDegreesCourtine\u001b[0m\n",
            "\u001b[32m2024-10-18 06:44:36.199\u001b[0m | \u001b[1mINFO    \u001b[0m | \u001b[36mlighthouse.data_loader.load_chuv\u001b[0m:\u001b[36mload_dt5\u001b[0m:\u001b[36m199\u001b[0m - \u001b[1mSub Scenario Name: classBSISubScenarioUpperJointsClassif\u001b[0m\n"
          ]
        },
        {
          "name": "stdout",
          "output_type": "stream",
          "text": [
            "Signals shape: (56, 131157)\n",
            "New signal shape: (56, 0)\n"
          ]
        },
        {
          "name": "stderr",
          "output_type": "stream",
          "text": [
            "\u001b[32m2024-10-18 06:44:39.545\u001b[0m | \u001b[1mINFO    \u001b[0m | \u001b[36mlighthouse.data_loader.load_chuv\u001b[0m:\u001b[36mconcatenate_dt5\u001b[0m:\u001b[36m497\u001b[0m - \u001b[1mLoading /Volumes/__UP2/0_RAW_DATA/UP2_001/UP2001_2024_01_18_Rehabilitation_day30/wisci/2024_01_18_14_00_59 (rec3)/ABSD data/2024_01_18_14_03_05_01of19.dt5\u001b[0m\n",
            "\u001b[32m2024-10-18 06:45:21.421\u001b[0m | \u001b[1mINFO    \u001b[0m | \u001b[36mlighthouse.data_loader.load_chuv\u001b[0m:\u001b[36mload_dt5\u001b[0m:\u001b[36m196\u001b[0m - \u001b[1mScenario Name: classBCIViewerAvatarAllDegreesCourtine\u001b[0m\n",
            "\u001b[32m2024-10-18 06:45:21.425\u001b[0m | \u001b[1mINFO    \u001b[0m | \u001b[36mlighthouse.data_loader.load_chuv\u001b[0m:\u001b[36mload_dt5\u001b[0m:\u001b[36m199\u001b[0m - \u001b[1mSub Scenario Name: classBSISubScenarioUpperJointsClassif\u001b[0m\n",
            "\u001b[32m2024-10-18 06:45:25.522\u001b[0m | \u001b[1mINFO    \u001b[0m | \u001b[36mlighthouse.data_loader.load_chuv\u001b[0m:\u001b[36mconcatenate_dt5\u001b[0m:\u001b[36m497\u001b[0m - \u001b[1mLoading /Volumes/__UP2/0_RAW_DATA/UP2_001/UP2001_2024_01_18_Rehabilitation_day30/wisci/2024_01_18_14_00_59 (rec3)/ABSD data/2024_01_18_14_03_05_02of19.dt5\u001b[0m\n",
            "\u001b[32m2024-10-18 06:46:25.371\u001b[0m | \u001b[1mINFO    \u001b[0m | \u001b[36mlighthouse.data_loader.load_chuv\u001b[0m:\u001b[36mconcatenate_dt5\u001b[0m:\u001b[36m497\u001b[0m - \u001b[1mLoading /Volumes/__UP2/0_RAW_DATA/UP2_001/UP2001_2024_01_18_Rehabilitation_day30/wisci/2024_01_18_14_00_59 (rec3)/ABSD data/2024_01_18_14_03_05_03of19.dt5\u001b[0m\n",
            "\u001b[32m2024-10-18 06:47:21.319\u001b[0m | \u001b[1mINFO    \u001b[0m | \u001b[36mlighthouse.data_loader.load_chuv\u001b[0m:\u001b[36mconcatenate_dt5\u001b[0m:\u001b[36m497\u001b[0m - \u001b[1mLoading /Volumes/__UP2/0_RAW_DATA/UP2_001/UP2001_2024_01_18_Rehabilitation_day30/wisci/2024_01_18_14_00_59 (rec3)/ABSD data/2024_01_18_14_03_05_04of19.dt5\u001b[0m\n",
            "\u001b[32m2024-10-18 06:48:18.901\u001b[0m | \u001b[1mINFO    \u001b[0m | \u001b[36mlighthouse.data_loader.load_chuv\u001b[0m:\u001b[36mconcatenate_dt5\u001b[0m:\u001b[36m497\u001b[0m - \u001b[1mLoading /Volumes/__UP2/0_RAW_DATA/UP2_001/UP2001_2024_01_18_Rehabilitation_day30/wisci/2024_01_18_14_00_59 (rec3)/ABSD data/2024_01_18_14_03_05_05of19.dt5\u001b[0m\n",
            "\u001b[32m2024-10-18 06:49:04.764\u001b[0m | \u001b[1mINFO    \u001b[0m | \u001b[36mlighthouse.data_loader.load_chuv\u001b[0m:\u001b[36mconcatenate_dt5\u001b[0m:\u001b[36m497\u001b[0m - \u001b[1mLoading /Volumes/__UP2/0_RAW_DATA/UP2_001/UP2001_2024_01_18_Rehabilitation_day30/wisci/2024_01_18_14_00_59 (rec3)/ABSD data/2024_01_18_14_03_05_06of19.dt5\u001b[0m\n",
            "\u001b[32m2024-10-18 06:49:49.899\u001b[0m | \u001b[1mINFO    \u001b[0m | \u001b[36mlighthouse.data_loader.load_chuv\u001b[0m:\u001b[36mconcatenate_dt5\u001b[0m:\u001b[36m497\u001b[0m - \u001b[1mLoading /Volumes/__UP2/0_RAW_DATA/UP2_001/UP2001_2024_01_18_Rehabilitation_day30/wisci/2024_01_18_14_00_59 (rec3)/ABSD data/2024_01_18_14_03_05_07of19.dt5\u001b[0m\n",
            "\u001b[32m2024-10-18 06:50:39.612\u001b[0m | \u001b[1mINFO    \u001b[0m | \u001b[36mlighthouse.data_loader.load_chuv\u001b[0m:\u001b[36mconcatenate_dt5\u001b[0m:\u001b[36m497\u001b[0m - \u001b[1mLoading /Volumes/__UP2/0_RAW_DATA/UP2_001/UP2001_2024_01_18_Rehabilitation_day30/wisci/2024_01_18_14_00_59 (rec3)/ABSD data/2024_01_18_14_03_05_08of19.dt5\u001b[0m\n",
            "\u001b[32m2024-10-18 06:51:26.385\u001b[0m | \u001b[1mINFO    \u001b[0m | \u001b[36mlighthouse.data_loader.load_chuv\u001b[0m:\u001b[36mconcatenate_dt5\u001b[0m:\u001b[36m497\u001b[0m - \u001b[1mLoading /Volumes/__UP2/0_RAW_DATA/UP2_001/UP2001_2024_01_18_Rehabilitation_day30/wisci/2024_01_18_14_00_59 (rec3)/ABSD data/2024_01_18_14_03_05_09of19.dt5\u001b[0m\n",
            "\u001b[32m2024-10-18 06:52:21.711\u001b[0m | \u001b[1mINFO    \u001b[0m | \u001b[36mlighthouse.data_loader.load_chuv\u001b[0m:\u001b[36mconcatenate_dt5\u001b[0m:\u001b[36m497\u001b[0m - \u001b[1mLoading /Volumes/__UP2/0_RAW_DATA/UP2_001/UP2001_2024_01_18_Rehabilitation_day30/wisci/2024_01_18_14_00_59 (rec3)/ABSD data/2024_01_18_14_03_05_10of19.dt5\u001b[0m\n",
            "\u001b[32m2024-10-18 06:53:07.232\u001b[0m | \u001b[1mINFO    \u001b[0m | \u001b[36mlighthouse.data_loader.load_chuv\u001b[0m:\u001b[36mconcatenate_dt5\u001b[0m:\u001b[36m497\u001b[0m - \u001b[1mLoading /Volumes/__UP2/0_RAW_DATA/UP2_001/UP2001_2024_01_18_Rehabilitation_day30/wisci/2024_01_18_14_00_59 (rec3)/ABSD data/2024_01_18_14_03_05_11of19.dt5\u001b[0m\n",
            "\u001b[32m2024-10-18 06:53:56.608\u001b[0m | \u001b[1mINFO    \u001b[0m | \u001b[36mlighthouse.data_loader.load_chuv\u001b[0m:\u001b[36mconcatenate_dt5\u001b[0m:\u001b[36m497\u001b[0m - \u001b[1mLoading /Volumes/__UP2/0_RAW_DATA/UP2_001/UP2001_2024_01_18_Rehabilitation_day30/wisci/2024_01_18_14_00_59 (rec3)/ABSD data/2024_01_18_14_03_05_12of19.dt5\u001b[0m\n",
            "\u001b[32m2024-10-18 06:54:40.662\u001b[0m | \u001b[1mINFO    \u001b[0m | \u001b[36mlighthouse.data_loader.load_chuv\u001b[0m:\u001b[36mconcatenate_dt5\u001b[0m:\u001b[36m497\u001b[0m - \u001b[1mLoading /Volumes/__UP2/0_RAW_DATA/UP2_001/UP2001_2024_01_18_Rehabilitation_day30/wisci/2024_01_18_14_00_59 (rec3)/ABSD data/2024_01_18_14_03_05_13of19.dt5\u001b[0m\n",
            "\u001b[32m2024-10-18 06:55:28.287\u001b[0m | \u001b[1mINFO    \u001b[0m | \u001b[36mlighthouse.data_loader.load_chuv\u001b[0m:\u001b[36mconcatenate_dt5\u001b[0m:\u001b[36m497\u001b[0m - \u001b[1mLoading /Volumes/__UP2/0_RAW_DATA/UP2_001/UP2001_2024_01_18_Rehabilitation_day30/wisci/2024_01_18_14_00_59 (rec3)/ABSD data/2024_01_18_14_03_05_14of19.dt5\u001b[0m\n",
            "\u001b[32m2024-10-18 06:56:32.184\u001b[0m | \u001b[1mINFO    \u001b[0m | \u001b[36mlighthouse.data_loader.load_chuv\u001b[0m:\u001b[36mconcatenate_dt5\u001b[0m:\u001b[36m497\u001b[0m - \u001b[1mLoading /Volumes/__UP2/0_RAW_DATA/UP2_001/UP2001_2024_01_18_Rehabilitation_day30/wisci/2024_01_18_14_00_59 (rec3)/ABSD data/2024_01_18_14_03_05_15of19.dt5\u001b[0m\n",
            "\u001b[32m2024-10-18 06:57:19.332\u001b[0m | \u001b[1mINFO    \u001b[0m | \u001b[36mlighthouse.data_loader.load_chuv\u001b[0m:\u001b[36mconcatenate_dt5\u001b[0m:\u001b[36m497\u001b[0m - \u001b[1mLoading /Volumes/__UP2/0_RAW_DATA/UP2_001/UP2001_2024_01_18_Rehabilitation_day30/wisci/2024_01_18_14_00_59 (rec3)/ABSD data/2024_01_18_14_03_05_16of19.dt5\u001b[0m\n",
            "\u001b[32m2024-10-18 06:58:09.972\u001b[0m | \u001b[1mINFO    \u001b[0m | \u001b[36mlighthouse.data_loader.load_chuv\u001b[0m:\u001b[36mconcatenate_dt5\u001b[0m:\u001b[36m497\u001b[0m - \u001b[1mLoading /Volumes/__UP2/0_RAW_DATA/UP2_001/UP2001_2024_01_18_Rehabilitation_day30/wisci/2024_01_18_14_00_59 (rec3)/ABSD data/2024_01_18_14_03_05_17of19.dt5\u001b[0m\n",
            "\u001b[32m2024-10-18 06:58:55.422\u001b[0m | \u001b[1mINFO    \u001b[0m | \u001b[36mlighthouse.data_loader.load_chuv\u001b[0m:\u001b[36mconcatenate_dt5\u001b[0m:\u001b[36m497\u001b[0m - \u001b[1mLoading /Volumes/__UP2/0_RAW_DATA/UP2_001/UP2001_2024_01_18_Rehabilitation_day30/wisci/2024_01_18_14_00_59 (rec3)/ABSD data/2024_01_18_14_03_05_18of19.dt5\u001b[0m\n",
            "\u001b[32m2024-10-18 06:59:44.278\u001b[0m | \u001b[1mINFO    \u001b[0m | \u001b[36mlighthouse.data_loader.load_chuv\u001b[0m:\u001b[36mconcatenate_dt5\u001b[0m:\u001b[36m497\u001b[0m - \u001b[1mLoading /Volumes/__UP2/0_RAW_DATA/UP2_001/UP2001_2024_01_18_Rehabilitation_day30/wisci/2024_01_18_14_00_59 (rec3)/ABSD data/2024_01_18_14_03_05_19of19.dt5\u001b[0m\n"
          ]
        },
        {
          "name": "stdout",
          "output_type": "stream",
          "text": [
            "Signals shape: (56, 3205942)\n",
            "New signal shape: (56, 0)\n",
            "length of data: 105\n"
          ]
        },
        {
          "name": "stderr",
          "output_type": "stream",
          "text": [
            " 58%|█████▊    | 38/65 [6:51:37<7:35:45, 1012.79s/it]"
          ]
        },
        {
          "name": "stdout",
          "output_type": "stream",
          "text": [
            "Checkpoint saved after session 37\n",
            "Current session: (PosixPath('/Volumes/__UP2/0_RAW_DATA/UP2_001/UP2001_2024_01_19_Rehabilitation_day31'), 38)\n",
            "length of data: 105\n"
          ]
        },
        {
          "name": "stderr",
          "output_type": "stream",
          "text": [
            " 60%|██████    | 39/65 [6:52:12<5:11:44, 719.40s/it] "
          ]
        },
        {
          "name": "stdout",
          "output_type": "stream",
          "text": [
            "Checkpoint saved after session 38\n",
            "Current session: (PosixPath('/Volumes/__UP2/0_RAW_DATA/UP2_001/UP2001_2024_01_23_Rehabilitation_day33'), 39)\n"
          ]
        },
        {
          "name": "stderr",
          "output_type": "stream",
          "text": [
            "\u001b[32m2024-10-18 07:00:57.534\u001b[0m | \u001b[1mINFO    \u001b[0m | \u001b[36mlighthouse.data_loader.load_chuv\u001b[0m:\u001b[36mconcatenate_dt5\u001b[0m:\u001b[36m497\u001b[0m - \u001b[1mLoading /Volumes/__UP2/0_RAW_DATA/UP2_001/UP2001_2024_01_23_Rehabilitation_day33/wisci/2024_01_23_14_09_53 (rec1)/ABSD data/2024_01_23_14_13_50_01of01.dt5\u001b[0m\n",
            "\u001b[32m2024-10-18 07:01:03.376\u001b[0m | \u001b[1mINFO    \u001b[0m | \u001b[36mlighthouse.data_loader.load_chuv\u001b[0m:\u001b[36mload_dt5\u001b[0m:\u001b[36m196\u001b[0m - \u001b[1mScenario Name: classBCIViewerAvatarAllDegreesCourtine\u001b[0m\n",
            "\u001b[32m2024-10-18 07:01:03.385\u001b[0m | \u001b[1mINFO    \u001b[0m | \u001b[36mlighthouse.data_loader.load_chuv\u001b[0m:\u001b[36mload_dt5\u001b[0m:\u001b[36m199\u001b[0m - \u001b[1mSub Scenario Name: classBSISubScenarioUpperJointsClassif\u001b[0m\n"
          ]
        },
        {
          "name": "stdout",
          "output_type": "stream",
          "text": [
            "Signals shape: (56, 27730)\n",
            "New signal shape: (56, 0)\n"
          ]
        },
        {
          "name": "stderr",
          "output_type": "stream",
          "text": [
            "\u001b[32m2024-10-18 07:01:04.690\u001b[0m | \u001b[1mINFO    \u001b[0m | \u001b[36mlighthouse.data_loader.load_chuv\u001b[0m:\u001b[36mconcatenate_dt5\u001b[0m:\u001b[36m497\u001b[0m - \u001b[1mLoading /Volumes/__UP2/0_RAW_DATA/UP2_001/UP2001_2024_01_23_Rehabilitation_day33/wisci/2024_01_23_14_15_28 (rec2)/ABSD data/2024_01_23_14_16_52_01of08.dt5\u001b[0m\n",
            "\u001b[32m2024-10-18 07:01:50.750\u001b[0m | \u001b[1mINFO    \u001b[0m | \u001b[36mlighthouse.data_loader.load_chuv\u001b[0m:\u001b[36mload_dt5\u001b[0m:\u001b[36m196\u001b[0m - \u001b[1mScenario Name: classBCIViewerAvatarAllDegreesCourtine\u001b[0m\n",
            "\u001b[32m2024-10-18 07:01:50.764\u001b[0m | \u001b[1mINFO    \u001b[0m | \u001b[36mlighthouse.data_loader.load_chuv\u001b[0m:\u001b[36mload_dt5\u001b[0m:\u001b[36m199\u001b[0m - \u001b[1mSub Scenario Name: classBSISubScenarioUpperJointsClassif\u001b[0m\n",
            "\u001b[32m2024-10-18 07:01:55.610\u001b[0m | \u001b[1mINFO    \u001b[0m | \u001b[36mlighthouse.data_loader.load_chuv\u001b[0m:\u001b[36mconcatenate_dt5\u001b[0m:\u001b[36m497\u001b[0m - \u001b[1mLoading /Volumes/__UP2/0_RAW_DATA/UP2_001/UP2001_2024_01_23_Rehabilitation_day33/wisci/2024_01_23_14_15_28 (rec2)/ABSD data/2024_01_23_14_16_52_02of08.dt5\u001b[0m\n",
            "\u001b[32m2024-10-18 07:02:47.825\u001b[0m | \u001b[1mINFO    \u001b[0m | \u001b[36mlighthouse.data_loader.load_chuv\u001b[0m:\u001b[36mconcatenate_dt5\u001b[0m:\u001b[36m497\u001b[0m - \u001b[1mLoading /Volumes/__UP2/0_RAW_DATA/UP2_001/UP2001_2024_01_23_Rehabilitation_day33/wisci/2024_01_23_14_15_28 (rec2)/ABSD data/2024_01_23_14_16_52_03of08.dt5\u001b[0m\n",
            "\u001b[32m2024-10-18 07:03:42.468\u001b[0m | \u001b[1mINFO    \u001b[0m | \u001b[36mlighthouse.data_loader.load_chuv\u001b[0m:\u001b[36mconcatenate_dt5\u001b[0m:\u001b[36m497\u001b[0m - \u001b[1mLoading /Volumes/__UP2/0_RAW_DATA/UP2_001/UP2001_2024_01_23_Rehabilitation_day33/wisci/2024_01_23_14_15_28 (rec2)/ABSD data/2024_01_23_14_16_52_04of08.dt5\u001b[0m\n",
            "\u001b[32m2024-10-18 07:04:33.193\u001b[0m | \u001b[1mINFO    \u001b[0m | \u001b[36mlighthouse.data_loader.load_chuv\u001b[0m:\u001b[36mconcatenate_dt5\u001b[0m:\u001b[36m497\u001b[0m - \u001b[1mLoading /Volumes/__UP2/0_RAW_DATA/UP2_001/UP2001_2024_01_23_Rehabilitation_day33/wisci/2024_01_23_14_15_28 (rec2)/ABSD data/2024_01_23_14_16_52_05of08.dt5\u001b[0m\n",
            "\u001b[32m2024-10-18 07:05:18.183\u001b[0m | \u001b[1mINFO    \u001b[0m | \u001b[36mlighthouse.data_loader.load_chuv\u001b[0m:\u001b[36mconcatenate_dt5\u001b[0m:\u001b[36m497\u001b[0m - \u001b[1mLoading /Volumes/__UP2/0_RAW_DATA/UP2_001/UP2001_2024_01_23_Rehabilitation_day33/wisci/2024_01_23_14_15_28 (rec2)/ABSD data/2024_01_23_14_16_52_06of08.dt5\u001b[0m\n",
            "\u001b[32m2024-10-18 07:06:31.769\u001b[0m | \u001b[1mINFO    \u001b[0m | \u001b[36mlighthouse.data_loader.load_chuv\u001b[0m:\u001b[36mconcatenate_dt5\u001b[0m:\u001b[36m497\u001b[0m - \u001b[1mLoading /Volumes/__UP2/0_RAW_DATA/UP2_001/UP2001_2024_01_23_Rehabilitation_day33/wisci/2024_01_23_14_15_28 (rec2)/ABSD data/2024_01_23_14_16_52_07of08.dt5\u001b[0m\n",
            "\u001b[32m2024-10-18 07:07:57.439\u001b[0m | \u001b[1mINFO    \u001b[0m | \u001b[36mlighthouse.data_loader.load_chuv\u001b[0m:\u001b[36mconcatenate_dt5\u001b[0m:\u001b[36m497\u001b[0m - \u001b[1mLoading /Volumes/__UP2/0_RAW_DATA/UP2_001/UP2001_2024_01_23_Rehabilitation_day33/wisci/2024_01_23_14_15_28 (rec2)/ABSD data/2024_01_23_14_16_52_08of08.dt5\u001b[0m\n"
          ]
        },
        {
          "name": "stdout",
          "output_type": "stream",
          "text": [
            "Signals shape: (56, 1347678)\n",
            "New signal shape: (56, 110802)\n"
          ]
        },
        {
          "name": "stderr",
          "output_type": "stream",
          "text": [
            "\u001b[32m2024-10-18 07:08:30.035\u001b[0m | \u001b[1mINFO    \u001b[0m | \u001b[36mlighthouse.data_loader.load_chuv\u001b[0m:\u001b[36mconcatenate_dt5\u001b[0m:\u001b[36m497\u001b[0m - \u001b[1mLoading /Volumes/__UP2/0_RAW_DATA/UP2_001/UP2001_2024_01_23_Rehabilitation_day33/wisci/2024_01_23_14_58_53 (rec3)/ABSD data/2024_01_23_15_04_55_01of02.dt5\u001b[0m\n",
            "\u001b[32m2024-10-18 07:09:14.524\u001b[0m | \u001b[1mINFO    \u001b[0m | \u001b[36mlighthouse.data_loader.load_chuv\u001b[0m:\u001b[36mload_dt5\u001b[0m:\u001b[36m196\u001b[0m - \u001b[1mScenario Name: classBCIViewerAvatarAllDegreesCourtine\u001b[0m\n",
            "\u001b[32m2024-10-18 07:09:14.527\u001b[0m | \u001b[1mINFO    \u001b[0m | \u001b[36mlighthouse.data_loader.load_chuv\u001b[0m:\u001b[36mload_dt5\u001b[0m:\u001b[36m199\u001b[0m - \u001b[1mSub Scenario Name: classBSISubScenarioUpperJointsClassif\u001b[0m\n",
            "\u001b[32m2024-10-18 07:09:18.727\u001b[0m | \u001b[1mINFO    \u001b[0m | \u001b[36mlighthouse.data_loader.load_chuv\u001b[0m:\u001b[36mconcatenate_dt5\u001b[0m:\u001b[36m497\u001b[0m - \u001b[1mLoading /Volumes/__UP2/0_RAW_DATA/UP2_001/UP2001_2024_01_23_Rehabilitation_day33/wisci/2024_01_23_14_58_53 (rec3)/ABSD data/2024_01_23_15_04_55_02of02.dt5\u001b[0m\n"
          ]
        },
        {
          "name": "stdout",
          "output_type": "stream",
          "text": [
            "Signals shape: (56, 336477)\n",
            "New signal shape: (56, 0)\n"
          ]
        },
        {
          "name": "stderr",
          "output_type": "stream",
          "text": [
            "\u001b[32m2024-10-18 07:10:07.272\u001b[0m | \u001b[1mINFO    \u001b[0m | \u001b[36mlighthouse.data_loader.load_chuv\u001b[0m:\u001b[36mconcatenate_dt5\u001b[0m:\u001b[36m497\u001b[0m - \u001b[1mLoading /Volumes/__UP2/0_RAW_DATA/UP2_001/UP2001_2024_01_23_Rehabilitation_day33/wisci/2024_01_23_15_14_46 (rec4)/ABSD data/2024_01_23_15_16_01_01of02.dt5\u001b[0m\n",
            "\u001b[32m2024-10-18 07:11:07.862\u001b[0m | \u001b[1mINFO    \u001b[0m | \u001b[36mlighthouse.data_loader.load_chuv\u001b[0m:\u001b[36mload_dt5\u001b[0m:\u001b[36m196\u001b[0m - \u001b[1mScenario Name: classBCIViewerAvatarAllDegreesCourtine\u001b[0m\n",
            "\u001b[32m2024-10-18 07:11:07.865\u001b[0m | \u001b[1mINFO    \u001b[0m | \u001b[36mlighthouse.data_loader.load_chuv\u001b[0m:\u001b[36mload_dt5\u001b[0m:\u001b[36m199\u001b[0m - \u001b[1mSub Scenario Name: classBSISubScenarioUpperJointsClassif\u001b[0m\n",
            "\u001b[32m2024-10-18 07:11:11.894\u001b[0m | \u001b[1mINFO    \u001b[0m | \u001b[36mlighthouse.data_loader.load_chuv\u001b[0m:\u001b[36mconcatenate_dt5\u001b[0m:\u001b[36m497\u001b[0m - \u001b[1mLoading /Volumes/__UP2/0_RAW_DATA/UP2_001/UP2001_2024_01_23_Rehabilitation_day33/wisci/2024_01_23_15_14_46 (rec4)/ABSD data/2024_01_23_15_16_01_02of02.dt5\u001b[0m\n"
          ]
        },
        {
          "name": "stdout",
          "output_type": "stream",
          "text": [
            "Signals shape: (56, 307213)\n",
            "New signal shape: (56, 0)\n",
            "length of data: 109\n"
          ]
        },
        {
          "name": "stderr",
          "output_type": "stream",
          "text": [
            " 62%|██████▏   | 40/65 [7:03:33<4:54:53, 707.73s/it]"
          ]
        },
        {
          "name": "stdout",
          "output_type": "stream",
          "text": [
            "Checkpoint saved after session 39\n",
            "Current session: (PosixPath('/Volumes/__UP2/0_RAW_DATA/UP2_001/UP2001_2024_01_22_Rehabiltation_day32'), 40)\n"
          ]
        },
        {
          "name": "stderr",
          "output_type": "stream",
          "text": [
            "\u001b[32m2024-10-18 07:12:23.674\u001b[0m | \u001b[1mINFO    \u001b[0m | \u001b[36mlighthouse.data_loader.load_chuv\u001b[0m:\u001b[36mconcatenate_dt5\u001b[0m:\u001b[36m497\u001b[0m - \u001b[1mLoading /Volumes/__UP2/0_RAW_DATA/UP2_001/UP2001_2024_01_22_Rehabiltation_day32/wisci/2024_01_22_13_36_24 (rec3)/ABSD data/2024_01_22_13_40_37_01of02.dt5\u001b[0m\n",
            "\u001b[32m2024-10-18 07:13:07.624\u001b[0m | \u001b[1mINFO    \u001b[0m | \u001b[36mlighthouse.data_loader.load_chuv\u001b[0m:\u001b[36mload_dt5\u001b[0m:\u001b[36m196\u001b[0m - \u001b[1mScenario Name: classBCIViewerAvatarAllDegreesCourtine\u001b[0m\n",
            "\u001b[32m2024-10-18 07:13:07.631\u001b[0m | \u001b[1mINFO    \u001b[0m | \u001b[36mlighthouse.data_loader.load_chuv\u001b[0m:\u001b[36mload_dt5\u001b[0m:\u001b[36m199\u001b[0m - \u001b[1mSub Scenario Name: classBSISubScenarioUpperJointsClassif\u001b[0m\n",
            "\u001b[32m2024-10-18 07:13:12.498\u001b[0m | \u001b[1mINFO    \u001b[0m | \u001b[36mlighthouse.data_loader.load_chuv\u001b[0m:\u001b[36mconcatenate_dt5\u001b[0m:\u001b[36m497\u001b[0m - \u001b[1mLoading /Volumes/__UP2/0_RAW_DATA/UP2_001/UP2001_2024_01_22_Rehabiltation_day32/wisci/2024_01_22_13_36_24 (rec3)/ABSD data/2024_01_22_13_40_37_02of02.dt5\u001b[0m\n"
          ]
        },
        {
          "name": "stdout",
          "output_type": "stream",
          "text": [
            "Signals shape: (56, 346271)\n",
            "New signal shape: (56, 0)\n"
          ]
        },
        {
          "name": "stderr",
          "output_type": "stream",
          "text": [
            "\u001b[32m2024-10-18 07:14:01.041\u001b[0m | \u001b[1mINFO    \u001b[0m | \u001b[36mlighthouse.data_loader.load_chuv\u001b[0m:\u001b[36mconcatenate_dt5\u001b[0m:\u001b[36m497\u001b[0m - \u001b[1mLoading /Volumes/__UP2/0_RAW_DATA/UP2_001/UP2001_2024_01_22_Rehabiltation_day32/wisci/2024_01_22_13_59_08 (rec4)/ABSD data/2024_01_22_14_05_48_01of07.dt5\u001b[0m\n",
            "\u001b[32m2024-10-18 07:14:40.842\u001b[0m | \u001b[1mINFO    \u001b[0m | \u001b[36mlighthouse.data_loader.load_chuv\u001b[0m:\u001b[36mload_dt5\u001b[0m:\u001b[36m196\u001b[0m - \u001b[1mScenario Name: classBCIViewerAvatarAllDegreesCourtine\u001b[0m\n",
            "\u001b[32m2024-10-18 07:14:40.848\u001b[0m | \u001b[1mINFO    \u001b[0m | \u001b[36mlighthouse.data_loader.load_chuv\u001b[0m:\u001b[36mload_dt5\u001b[0m:\u001b[36m199\u001b[0m - \u001b[1mSub Scenario Name: classBSISubScenarioUpperJointsClassif\u001b[0m\n",
            "\u001b[32m2024-10-18 07:14:45.025\u001b[0m | \u001b[1mINFO    \u001b[0m | \u001b[36mlighthouse.data_loader.load_chuv\u001b[0m:\u001b[36mconcatenate_dt5\u001b[0m:\u001b[36m497\u001b[0m - \u001b[1mLoading /Volumes/__UP2/0_RAW_DATA/UP2_001/UP2001_2024_01_22_Rehabiltation_day32/wisci/2024_01_22_13_59_08 (rec4)/ABSD data/2024_01_22_14_05_48_02of07.dt5\u001b[0m\n",
            "\u001b[32m2024-10-18 07:15:33.686\u001b[0m | \u001b[1mINFO    \u001b[0m | \u001b[36mlighthouse.data_loader.load_chuv\u001b[0m:\u001b[36mconcatenate_dt5\u001b[0m:\u001b[36m497\u001b[0m - \u001b[1mLoading /Volumes/__UP2/0_RAW_DATA/UP2_001/UP2001_2024_01_22_Rehabiltation_day32/wisci/2024_01_22_13_59_08 (rec4)/ABSD data/2024_01_22_14_05_48_03of07.dt5\u001b[0m\n",
            "\u001b[32m2024-10-18 07:16:22.238\u001b[0m | \u001b[1mINFO    \u001b[0m | \u001b[36mlighthouse.data_loader.load_chuv\u001b[0m:\u001b[36mconcatenate_dt5\u001b[0m:\u001b[36m497\u001b[0m - \u001b[1mLoading /Volumes/__UP2/0_RAW_DATA/UP2_001/UP2001_2024_01_22_Rehabiltation_day32/wisci/2024_01_22_13_59_08 (rec4)/ABSD data/2024_01_22_14_05_48_04of07.dt5\u001b[0m\n",
            "\u001b[32m2024-10-18 07:18:00.304\u001b[0m | \u001b[1mINFO    \u001b[0m | \u001b[36mlighthouse.data_loader.load_chuv\u001b[0m:\u001b[36mconcatenate_dt5\u001b[0m:\u001b[36m497\u001b[0m - \u001b[1mLoading /Volumes/__UP2/0_RAW_DATA/UP2_001/UP2001_2024_01_22_Rehabiltation_day32/wisci/2024_01_22_13_59_08 (rec4)/ABSD data/2024_01_22_14_05_48_05of07.dt5\u001b[0m\n",
            "\u001b[32m2024-10-18 07:18:54.613\u001b[0m | \u001b[1mINFO    \u001b[0m | \u001b[36mlighthouse.data_loader.load_chuv\u001b[0m:\u001b[36mconcatenate_dt5\u001b[0m:\u001b[36m497\u001b[0m - \u001b[1mLoading /Volumes/__UP2/0_RAW_DATA/UP2_001/UP2001_2024_01_22_Rehabiltation_day32/wisci/2024_01_22_13_59_08 (rec4)/ABSD data/2024_01_22_14_05_48_06of07.dt5\u001b[0m\n",
            "\u001b[32m2024-10-18 07:19:48.272\u001b[0m | \u001b[1mINFO    \u001b[0m | \u001b[36mlighthouse.data_loader.load_chuv\u001b[0m:\u001b[36mconcatenate_dt5\u001b[0m:\u001b[36m497\u001b[0m - \u001b[1mLoading /Volumes/__UP2/0_RAW_DATA/UP2_001/UP2001_2024_01_22_Rehabiltation_day32/wisci/2024_01_22_13_59_08 (rec4)/ABSD data/2024_01_22_14_05_48_07of07.dt5\u001b[0m\n"
          ]
        },
        {
          "name": "stdout",
          "output_type": "stream",
          "text": [
            "Signals shape: (56, 1174926)\n",
            "New signal shape: (56, 85668)\n"
          ]
        },
        {
          "name": "stderr",
          "output_type": "stream",
          "text": [
            "\u001b[32m2024-10-18 07:20:24.786\u001b[0m | \u001b[1mINFO    \u001b[0m | \u001b[36mlighthouse.data_loader.load_chuv\u001b[0m:\u001b[36mconcatenate_dt5\u001b[0m:\u001b[36m497\u001b[0m - \u001b[1mLoading /Volumes/__UP2/0_RAW_DATA/UP2_001/UP2001_2024_01_22_Rehabiltation_day32/wisci/2024_01_22_14_40_40 (rec5)/ABSD data/2024_01_22_14_42_31_01of04.dt5\u001b[0m\n",
            "\u001b[32m2024-10-18 07:21:35.204\u001b[0m | \u001b[1mINFO    \u001b[0m | \u001b[36mlighthouse.data_loader.load_chuv\u001b[0m:\u001b[36mload_dt5\u001b[0m:\u001b[36m196\u001b[0m - \u001b[1mScenario Name: classBCIViewerAvatarAllDegreesCourtine\u001b[0m\n",
            "\u001b[32m2024-10-18 07:21:35.208\u001b[0m | \u001b[1mINFO    \u001b[0m | \u001b[36mlighthouse.data_loader.load_chuv\u001b[0m:\u001b[36mload_dt5\u001b[0m:\u001b[36m199\u001b[0m - \u001b[1mSub Scenario Name: classBSISubScenarioUpperJointsClassif\u001b[0m\n",
            "\u001b[32m2024-10-18 07:21:39.506\u001b[0m | \u001b[1mINFO    \u001b[0m | \u001b[36mlighthouse.data_loader.load_chuv\u001b[0m:\u001b[36mconcatenate_dt5\u001b[0m:\u001b[36m497\u001b[0m - \u001b[1mLoading /Volumes/__UP2/0_RAW_DATA/UP2_001/UP2001_2024_01_22_Rehabiltation_day32/wisci/2024_01_22_14_40_40 (rec5)/ABSD data/2024_01_22_14_42_31_02of04.dt5\u001b[0m\n",
            "\u001b[32m2024-10-18 07:22:50.567\u001b[0m | \u001b[1mINFO    \u001b[0m | \u001b[36mlighthouse.data_loader.load_chuv\u001b[0m:\u001b[36mconcatenate_dt5\u001b[0m:\u001b[36m497\u001b[0m - \u001b[1mLoading /Volumes/__UP2/0_RAW_DATA/UP2_001/UP2001_2024_01_22_Rehabiltation_day32/wisci/2024_01_22_14_40_40 (rec5)/ABSD data/2024_01_22_14_42_31_03of04.dt5\u001b[0m\n",
            "\u001b[32m2024-10-18 07:23:46.459\u001b[0m | \u001b[1mINFO    \u001b[0m | \u001b[36mlighthouse.data_loader.load_chuv\u001b[0m:\u001b[36mconcatenate_dt5\u001b[0m:\u001b[36m497\u001b[0m - \u001b[1mLoading /Volumes/__UP2/0_RAW_DATA/UP2_001/UP2001_2024_01_22_Rehabiltation_day32/wisci/2024_01_22_14_40_40 (rec5)/ABSD data/2024_01_22_14_42_31_04of04.dt5\u001b[0m\n"
          ]
        },
        {
          "name": "stdout",
          "output_type": "stream",
          "text": [
            "Signals shape: (56, 569527)\n",
            "New signal shape: (56, 94754)\n"
          ]
        },
        {
          "name": "stderr",
          "output_type": "stream",
          "text": [
            "\u001b[32m2024-10-18 07:23:59.943\u001b[0m | \u001b[1mINFO    \u001b[0m | \u001b[36mlighthouse.data_loader.load_chuv\u001b[0m:\u001b[36mconcatenate_dt5\u001b[0m:\u001b[36m497\u001b[0m - \u001b[1mLoading /Volumes/__UP2/0_RAW_DATA/UP2_001/UP2001_2024_01_22_Rehabiltation_day32/wisci/2024_01_22_14_59_23 (rec6)/ABSD data/2024_01_22_15_01_14_01of05.dt5\u001b[0m\n",
            "\u001b[32m2024-10-18 07:24:52.300\u001b[0m | \u001b[1mINFO    \u001b[0m | \u001b[36mlighthouse.data_loader.load_chuv\u001b[0m:\u001b[36mload_dt5\u001b[0m:\u001b[36m196\u001b[0m - \u001b[1mScenario Name: classBCIViewerAvatarAllDegreesCourtine\u001b[0m\n",
            "\u001b[32m2024-10-18 07:24:52.306\u001b[0m | \u001b[1mINFO    \u001b[0m | \u001b[36mlighthouse.data_loader.load_chuv\u001b[0m:\u001b[36mload_dt5\u001b[0m:\u001b[36m199\u001b[0m - \u001b[1mSub Scenario Name: classBSISubScenarioUpperJointsClassif\u001b[0m\n",
            "\u001b[32m2024-10-18 07:24:56.487\u001b[0m | \u001b[1mINFO    \u001b[0m | \u001b[36mlighthouse.data_loader.load_chuv\u001b[0m:\u001b[36mconcatenate_dt5\u001b[0m:\u001b[36m497\u001b[0m - \u001b[1mLoading /Volumes/__UP2/0_RAW_DATA/UP2_001/UP2001_2024_01_22_Rehabiltation_day32/wisci/2024_01_22_14_59_23 (rec6)/ABSD data/2024_01_22_15_01_14_02of05.dt5\u001b[0m\n",
            "\u001b[32m2024-10-18 07:25:42.143\u001b[0m | \u001b[1mINFO    \u001b[0m | \u001b[36mlighthouse.data_loader.load_chuv\u001b[0m:\u001b[36mconcatenate_dt5\u001b[0m:\u001b[36m497\u001b[0m - \u001b[1mLoading /Volumes/__UP2/0_RAW_DATA/UP2_001/UP2001_2024_01_22_Rehabiltation_day32/wisci/2024_01_22_14_59_23 (rec6)/ABSD data/2024_01_22_15_01_14_03of05.dt5\u001b[0m\n",
            "\u001b[32m2024-10-18 07:27:03.775\u001b[0m | \u001b[1mINFO    \u001b[0m | \u001b[36mlighthouse.data_loader.load_chuv\u001b[0m:\u001b[36mconcatenate_dt5\u001b[0m:\u001b[36m497\u001b[0m - \u001b[1mLoading /Volumes/__UP2/0_RAW_DATA/UP2_001/UP2001_2024_01_22_Rehabiltation_day32/wisci/2024_01_22_14_59_23 (rec6)/ABSD data/2024_01_22_15_01_14_04of05.dt5\u001b[0m\n",
            "\u001b[32m2024-10-18 07:28:21.383\u001b[0m | \u001b[1mINFO    \u001b[0m | \u001b[36mlighthouse.data_loader.load_chuv\u001b[0m:\u001b[36mconcatenate_dt5\u001b[0m:\u001b[36m497\u001b[0m - \u001b[1mLoading /Volumes/__UP2/0_RAW_DATA/UP2_001/UP2001_2024_01_22_Rehabiltation_day32/wisci/2024_01_22_14_59_23 (rec6)/ABSD data/2024_01_22_15_01_14_05of05.dt5\u001b[0m\n"
          ]
        },
        {
          "name": "stdout",
          "output_type": "stream",
          "text": [
            "Signals shape: (56, 795674)\n",
            "New signal shape: (56, 40533)\n"
          ]
        },
        {
          "name": "stderr",
          "output_type": "stream",
          "text": [
            "\u001b[32m2024-10-18 07:28:48.032\u001b[0m | \u001b[1mINFO    \u001b[0m | \u001b[36mlighthouse.data_loader.load_chuv\u001b[0m:\u001b[36mconcatenate_dt5\u001b[0m:\u001b[36m497\u001b[0m - \u001b[1mLoading /Volumes/__UP2/0_RAW_DATA/UP2_001/UP2001_2024_01_22_Rehabiltation_day32/wisci/2024_01_22_15_24_56 (rec7)/ABSD data/2024_01_22_15_26_49_01of03.dt5\u001b[0m\n",
            "\u001b[32m2024-10-18 07:29:46.210\u001b[0m | \u001b[1mINFO    \u001b[0m | \u001b[36mlighthouse.data_loader.load_chuv\u001b[0m:\u001b[36mload_dt5\u001b[0m:\u001b[36m196\u001b[0m - \u001b[1mScenario Name: classBCIViewerAvatarAllDegreesCourtine\u001b[0m\n",
            "\u001b[32m2024-10-18 07:29:46.214\u001b[0m | \u001b[1mINFO    \u001b[0m | \u001b[36mlighthouse.data_loader.load_chuv\u001b[0m:\u001b[36mload_dt5\u001b[0m:\u001b[36m199\u001b[0m - \u001b[1mSub Scenario Name: classBSISubScenarioUpperJointsClassif\u001b[0m\n",
            "\u001b[32m2024-10-18 07:29:50.574\u001b[0m | \u001b[1mINFO    \u001b[0m | \u001b[36mlighthouse.data_loader.load_chuv\u001b[0m:\u001b[36mconcatenate_dt5\u001b[0m:\u001b[36m497\u001b[0m - \u001b[1mLoading /Volumes/__UP2/0_RAW_DATA/UP2_001/UP2001_2024_01_22_Rehabiltation_day32/wisci/2024_01_22_15_24_56 (rec7)/ABSD data/2024_01_22_15_26_49_02of03.dt5\u001b[0m\n",
            "\u001b[32m2024-10-18 07:30:45.360\u001b[0m | \u001b[1mINFO    \u001b[0m | \u001b[36mlighthouse.data_loader.load_chuv\u001b[0m:\u001b[36mconcatenate_dt5\u001b[0m:\u001b[36m497\u001b[0m - \u001b[1mLoading /Volumes/__UP2/0_RAW_DATA/UP2_001/UP2001_2024_01_22_Rehabiltation_day32/wisci/2024_01_22_15_24_56 (rec7)/ABSD data/2024_01_22_15_26_49_03of03.dt5\u001b[0m\n"
          ]
        },
        {
          "name": "stdout",
          "output_type": "stream",
          "text": [
            "Signals shape: (56, 372703)\n",
            "New signal shape: (56, 0)\n",
            "length of data: 114\n"
          ]
        },
        {
          "name": "stderr",
          "output_type": "stream",
          "text": [
            " 63%|██████▎   | 41/65 [7:22:36<5:35:25, 838.54s/it]"
          ]
        },
        {
          "name": "stdout",
          "output_type": "stream",
          "text": [
            "Checkpoint saved after session 40\n",
            "Current session: (PosixPath('/Volumes/__UP2/0_RAW_DATA/UP2_001/UP2001_2024_01_25_Rehabilitation_day34'), 41)\n"
          ]
        },
        {
          "name": "stderr",
          "output_type": "stream",
          "text": [
            "\u001b[32m2024-10-18 07:31:22.391\u001b[0m | \u001b[1mINFO    \u001b[0m | \u001b[36mlighthouse.data_loader.load_chuv\u001b[0m:\u001b[36mconcatenate_dt5\u001b[0m:\u001b[36m497\u001b[0m - \u001b[1mLoading /Volumes/__UP2/0_RAW_DATA/UP2_001/UP2001_2024_01_25_Rehabilitation_day34/wisci/2024_01_25_14_26_31 (rec5)/ABSD data/2024_01_25_14_49_50_01of11.dt5\u001b[0m\n",
            "\u001b[32m2024-10-18 07:32:11.314\u001b[0m | \u001b[1mINFO    \u001b[0m | \u001b[36mlighthouse.data_loader.load_chuv\u001b[0m:\u001b[36mload_dt5\u001b[0m:\u001b[36m196\u001b[0m - \u001b[1mScenario Name: classBCIViewerAvatarAllDegreesCourtine\u001b[0m\n",
            "\u001b[32m2024-10-18 07:32:11.322\u001b[0m | \u001b[1mINFO    \u001b[0m | \u001b[36mlighthouse.data_loader.load_chuv\u001b[0m:\u001b[36mload_dt5\u001b[0m:\u001b[36m199\u001b[0m - \u001b[1mSub Scenario Name: classBSISubScenarioUpperJointsClassif\u001b[0m\n",
            "\u001b[32m2024-10-18 07:32:16.176\u001b[0m | \u001b[1mINFO    \u001b[0m | \u001b[36mlighthouse.data_loader.load_chuv\u001b[0m:\u001b[36mconcatenate_dt5\u001b[0m:\u001b[36m497\u001b[0m - \u001b[1mLoading /Volumes/__UP2/0_RAW_DATA/UP2_001/UP2001_2024_01_25_Rehabilitation_day34/wisci/2024_01_25_14_26_31 (rec5)/ABSD data/2024_01_25_14_49_50_02of11.dt5\u001b[0m\n",
            "\u001b[32m2024-10-18 07:33:09.521\u001b[0m | \u001b[1mINFO    \u001b[0m | \u001b[36mlighthouse.data_loader.load_chuv\u001b[0m:\u001b[36mconcatenate_dt5\u001b[0m:\u001b[36m497\u001b[0m - \u001b[1mLoading /Volumes/__UP2/0_RAW_DATA/UP2_001/UP2001_2024_01_25_Rehabilitation_day34/wisci/2024_01_25_14_26_31 (rec5)/ABSD data/2024_01_25_14_49_50_03of11.dt5\u001b[0m\n",
            "\u001b[32m2024-10-18 07:34:05.699\u001b[0m | \u001b[1mINFO    \u001b[0m | \u001b[36mlighthouse.data_loader.load_chuv\u001b[0m:\u001b[36mconcatenate_dt5\u001b[0m:\u001b[36m497\u001b[0m - \u001b[1mLoading /Volumes/__UP2/0_RAW_DATA/UP2_001/UP2001_2024_01_25_Rehabilitation_day34/wisci/2024_01_25_14_26_31 (rec5)/ABSD data/2024_01_25_14_49_50_04of11.dt5\u001b[0m\n",
            "\u001b[32m2024-10-18 07:35:17.300\u001b[0m | \u001b[1mINFO    \u001b[0m | \u001b[36mlighthouse.data_loader.load_chuv\u001b[0m:\u001b[36mconcatenate_dt5\u001b[0m:\u001b[36m497\u001b[0m - \u001b[1mLoading /Volumes/__UP2/0_RAW_DATA/UP2_001/UP2001_2024_01_25_Rehabilitation_day34/wisci/2024_01_25_14_26_31 (rec5)/ABSD data/2024_01_25_14_49_50_05of11.dt5\u001b[0m\n",
            "\u001b[32m2024-10-18 07:36:41.884\u001b[0m | \u001b[1mINFO    \u001b[0m | \u001b[36mlighthouse.data_loader.load_chuv\u001b[0m:\u001b[36mconcatenate_dt5\u001b[0m:\u001b[36m497\u001b[0m - \u001b[1mLoading /Volumes/__UP2/0_RAW_DATA/UP2_001/UP2001_2024_01_25_Rehabilitation_day34/wisci/2024_01_25_14_26_31 (rec5)/ABSD data/2024_01_25_14_49_50_06of11.dt5\u001b[0m\n",
            "\u001b[32m2024-10-18 07:37:35.152\u001b[0m | \u001b[1mINFO    \u001b[0m | \u001b[36mlighthouse.data_loader.load_chuv\u001b[0m:\u001b[36mconcatenate_dt5\u001b[0m:\u001b[36m497\u001b[0m - \u001b[1mLoading /Volumes/__UP2/0_RAW_DATA/UP2_001/UP2001_2024_01_25_Rehabilitation_day34/wisci/2024_01_25_14_26_31 (rec5)/ABSD data/2024_01_25_14_49_50_07of11.dt5\u001b[0m\n",
            "\u001b[32m2024-10-18 07:38:24.029\u001b[0m | \u001b[1mINFO    \u001b[0m | \u001b[36mlighthouse.data_loader.load_chuv\u001b[0m:\u001b[36mconcatenate_dt5\u001b[0m:\u001b[36m497\u001b[0m - \u001b[1mLoading /Volumes/__UP2/0_RAW_DATA/UP2_001/UP2001_2024_01_25_Rehabilitation_day34/wisci/2024_01_25_14_26_31 (rec5)/ABSD data/2024_01_25_14_49_50_08of11.dt5\u001b[0m\n",
            "\u001b[32m2024-10-18 07:39:13.108\u001b[0m | \u001b[1mINFO    \u001b[0m | \u001b[36mlighthouse.data_loader.load_chuv\u001b[0m:\u001b[36mconcatenate_dt5\u001b[0m:\u001b[36m497\u001b[0m - \u001b[1mLoading /Volumes/__UP2/0_RAW_DATA/UP2_001/UP2001_2024_01_25_Rehabilitation_day34/wisci/2024_01_25_14_26_31 (rec5)/ABSD data/2024_01_25_14_49_50_09of11.dt5\u001b[0m\n",
            "\u001b[32m2024-10-18 07:40:05.273\u001b[0m | \u001b[1mINFO    \u001b[0m | \u001b[36mlighthouse.data_loader.load_chuv\u001b[0m:\u001b[36mconcatenate_dt5\u001b[0m:\u001b[36m497\u001b[0m - \u001b[1mLoading /Volumes/__UP2/0_RAW_DATA/UP2_001/UP2001_2024_01_25_Rehabilitation_day34/wisci/2024_01_25_14_26_31 (rec5)/ABSD data/2024_01_25_14_49_50_10of11.dt5\u001b[0m\n",
            "\u001b[32m2024-10-18 07:41:45.746\u001b[0m | \u001b[1mINFO    \u001b[0m | \u001b[36mlighthouse.data_loader.load_chuv\u001b[0m:\u001b[36mconcatenate_dt5\u001b[0m:\u001b[36m497\u001b[0m - \u001b[1mLoading /Volumes/__UP2/0_RAW_DATA/UP2_001/UP2001_2024_01_25_Rehabilitation_day34/wisci/2024_01_25_14_26_31 (rec5)/ABSD data/2024_01_25_14_49_50_11of11.dt5\u001b[0m\n"
          ]
        },
        {
          "name": "stdout",
          "output_type": "stream",
          "text": [
            "Signals shape: (56, 1800149)\n",
            "New signal shape: (56, 300664)\n"
          ]
        },
        {
          "name": "stderr",
          "output_type": "stream",
          "text": [
            "\u001b[32m2024-10-18 07:41:56.258\u001b[0m | \u001b[1mINFO    \u001b[0m | \u001b[36mlighthouse.data_loader.load_chuv\u001b[0m:\u001b[36mconcatenate_dt5\u001b[0m:\u001b[36m497\u001b[0m - \u001b[1mLoading /Volumes/__UP2/0_RAW_DATA/UP2_001/UP2001_2024_01_25_Rehabilitation_day34/wisci/2024_01_25_13_18_12 (rec3)/ABSD data/2024_01_25_13_23_59_01of04.dt5\u001b[0m\n",
            "\u001b[32m2024-10-18 07:43:35.948\u001b[0m | \u001b[1mINFO    \u001b[0m | \u001b[36mlighthouse.data_loader.load_chuv\u001b[0m:\u001b[36mload_dt5\u001b[0m:\u001b[36m196\u001b[0m - \u001b[1mScenario Name: classBCIViewerAvatarAllDegreesCourtine\u001b[0m\n",
            "\u001b[32m2024-10-18 07:43:35.951\u001b[0m | \u001b[1mINFO    \u001b[0m | \u001b[36mlighthouse.data_loader.load_chuv\u001b[0m:\u001b[36mload_dt5\u001b[0m:\u001b[36m199\u001b[0m - \u001b[1mSub Scenario Name: classBSISubScenarioUpperJointsClassif\u001b[0m\n",
            "\u001b[32m2024-10-18 07:43:40.216\u001b[0m | \u001b[1mINFO    \u001b[0m | \u001b[36mlighthouse.data_loader.load_chuv\u001b[0m:\u001b[36mconcatenate_dt5\u001b[0m:\u001b[36m497\u001b[0m - \u001b[1mLoading /Volumes/__UP2/0_RAW_DATA/UP2_001/UP2001_2024_01_25_Rehabilitation_day34/wisci/2024_01_25_13_18_12 (rec3)/ABSD data/2024_01_25_13_23_59_02of04.dt5\u001b[0m\n",
            "\u001b[32m2024-10-18 07:44:37.483\u001b[0m | \u001b[1mINFO    \u001b[0m | \u001b[36mlighthouse.data_loader.load_chuv\u001b[0m:\u001b[36mconcatenate_dt5\u001b[0m:\u001b[36m497\u001b[0m - \u001b[1mLoading /Volumes/__UP2/0_RAW_DATA/UP2_001/UP2001_2024_01_25_Rehabilitation_day34/wisci/2024_01_25_13_18_12 (rec3)/ABSD data/2024_01_25_13_23_59_03of04.dt5\u001b[0m\n",
            "\u001b[32m2024-10-18 07:45:43.080\u001b[0m | \u001b[1mINFO    \u001b[0m | \u001b[36mlighthouse.data_loader.load_chuv\u001b[0m:\u001b[36mconcatenate_dt5\u001b[0m:\u001b[36m497\u001b[0m - \u001b[1mLoading /Volumes/__UP2/0_RAW_DATA/UP2_001/UP2001_2024_01_25_Rehabilitation_day34/wisci/2024_01_25_13_18_12 (rec3)/ABSD data/2024_01_25_13_23_59_04of04.dt5\u001b[0m\n"
          ]
        },
        {
          "name": "stdout",
          "output_type": "stream",
          "text": [
            "Signals shape: (56, 552240)\n",
            "New signal shape: (56, 0)\n"
          ]
        },
        {
          "name": "stderr",
          "output_type": "stream",
          "text": [
            "\u001b[32m2024-10-18 07:45:49.323\u001b[0m | \u001b[1mINFO    \u001b[0m | \u001b[36mlighthouse.data_loader.load_chuv\u001b[0m:\u001b[36mconcatenate_dt5\u001b[0m:\u001b[36m497\u001b[0m - \u001b[1mLoading /Volumes/__UP2/0_RAW_DATA/UP2_001/UP2001_2024_01_25_Rehabilitation_day34/wisci/2024_01_25_13_40_18 (rec4)/ABSD data/2024_01_25_13_45_19_01of08.dt5\u001b[0m\n",
            "\u001b[32m2024-10-18 07:46:38.364\u001b[0m | \u001b[1mINFO    \u001b[0m | \u001b[36mlighthouse.data_loader.load_chuv\u001b[0m:\u001b[36mload_dt5\u001b[0m:\u001b[36m196\u001b[0m - \u001b[1mScenario Name: classBCIViewerAvatarAllDegreesCourtine\u001b[0m\n",
            "\u001b[32m2024-10-18 07:46:38.368\u001b[0m | \u001b[1mINFO    \u001b[0m | \u001b[36mlighthouse.data_loader.load_chuv\u001b[0m:\u001b[36mload_dt5\u001b[0m:\u001b[36m199\u001b[0m - \u001b[1mSub Scenario Name: classBSISubScenarioUpperJointsClassif\u001b[0m\n",
            "\u001b[32m2024-10-18 07:46:42.487\u001b[0m | \u001b[1mINFO    \u001b[0m | \u001b[36mlighthouse.data_loader.load_chuv\u001b[0m:\u001b[36mconcatenate_dt5\u001b[0m:\u001b[36m497\u001b[0m - \u001b[1mLoading /Volumes/__UP2/0_RAW_DATA/UP2_001/UP2001_2024_01_25_Rehabilitation_day34/wisci/2024_01_25_13_40_18 (rec4)/ABSD data/2024_01_25_13_45_19_02of08.dt5\u001b[0m\n",
            "\u001b[32m2024-10-18 07:47:28.852\u001b[0m | \u001b[1mINFO    \u001b[0m | \u001b[36mlighthouse.data_loader.load_chuv\u001b[0m:\u001b[36mconcatenate_dt5\u001b[0m:\u001b[36m497\u001b[0m - \u001b[1mLoading /Volumes/__UP2/0_RAW_DATA/UP2_001/UP2001_2024_01_25_Rehabilitation_day34/wisci/2024_01_25_13_40_18 (rec4)/ABSD data/2024_01_25_13_45_19_03of08.dt5\u001b[0m\n",
            "\u001b[32m2024-10-18 07:48:21.855\u001b[0m | \u001b[1mINFO    \u001b[0m | \u001b[36mlighthouse.data_loader.load_chuv\u001b[0m:\u001b[36mconcatenate_dt5\u001b[0m:\u001b[36m497\u001b[0m - \u001b[1mLoading /Volumes/__UP2/0_RAW_DATA/UP2_001/UP2001_2024_01_25_Rehabilitation_day34/wisci/2024_01_25_13_40_18 (rec4)/ABSD data/2024_01_25_13_45_19_04of08.dt5\u001b[0m\n",
            "\u001b[32m2024-10-18 07:49:21.121\u001b[0m | \u001b[1mINFO    \u001b[0m | \u001b[36mlighthouse.data_loader.load_chuv\u001b[0m:\u001b[36mconcatenate_dt5\u001b[0m:\u001b[36m497\u001b[0m - \u001b[1mLoading /Volumes/__UP2/0_RAW_DATA/UP2_001/UP2001_2024_01_25_Rehabilitation_day34/wisci/2024_01_25_13_40_18 (rec4)/ABSD data/2024_01_25_13_45_19_05of08.dt5\u001b[0m\n",
            "\u001b[32m2024-10-18 07:50:37.453\u001b[0m | \u001b[1mINFO    \u001b[0m | \u001b[36mlighthouse.data_loader.load_chuv\u001b[0m:\u001b[36mconcatenate_dt5\u001b[0m:\u001b[36m497\u001b[0m - \u001b[1mLoading /Volumes/__UP2/0_RAW_DATA/UP2_001/UP2001_2024_01_25_Rehabilitation_day34/wisci/2024_01_25_13_40_18 (rec4)/ABSD data/2024_01_25_13_45_19_06of08.dt5\u001b[0m\n",
            "\u001b[32m2024-10-18 07:51:38.950\u001b[0m | \u001b[1mINFO    \u001b[0m | \u001b[36mlighthouse.data_loader.load_chuv\u001b[0m:\u001b[36mconcatenate_dt5\u001b[0m:\u001b[36m497\u001b[0m - \u001b[1mLoading /Volumes/__UP2/0_RAW_DATA/UP2_001/UP2001_2024_01_25_Rehabilitation_day34/wisci/2024_01_25_13_40_18 (rec4)/ABSD data/2024_01_25_13_45_19_07of08.dt5\u001b[0m\n",
            "\u001b[32m2024-10-18 07:52:34.160\u001b[0m | \u001b[1mINFO    \u001b[0m | \u001b[36mlighthouse.data_loader.load_chuv\u001b[0m:\u001b[36mconcatenate_dt5\u001b[0m:\u001b[36m497\u001b[0m - \u001b[1mLoading /Volumes/__UP2/0_RAW_DATA/UP2_001/UP2001_2024_01_25_Rehabilitation_day34/wisci/2024_01_25_13_40_18 (rec4)/ABSD data/2024_01_25_13_45_19_08of08.dt5\u001b[0m\n"
          ]
        },
        {
          "name": "stdout",
          "output_type": "stream",
          "text": [
            "Signals shape: (56, 1385792)\n",
            "New signal shape: (56, 9971)\n",
            "length of data: 117\n"
          ]
        },
        {
          "name": "stderr",
          "output_type": "stream",
          "text": [
            " 65%|██████▍   | 42/65 [7:45:19<6:21:43, 995.82s/it]"
          ]
        },
        {
          "name": "stdout",
          "output_type": "stream",
          "text": [
            "Checkpoint saved after session 41\n",
            "Current session: (PosixPath('/Volumes/__UP2/0_RAW_DATA/UP2_001/UP2001_2024_01_29_Rehabilitation_day36'), 42)\n"
          ]
        },
        {
          "name": "stderr",
          "output_type": "stream",
          "text": [
            "\u001b[32m2024-10-18 07:54:06.210\u001b[0m | \u001b[1mINFO    \u001b[0m | \u001b[36mlighthouse.data_loader.load_chuv\u001b[0m:\u001b[36mconcatenate_dt5\u001b[0m:\u001b[36m497\u001b[0m - \u001b[1mLoading /Volumes/__UP2/0_RAW_DATA/UP2_001/UP2001_2024_01_29_Rehabilitation_day36/wisci/2024_01_29_13_36_20 (rec1)/ABSD data/2024_01_29_13_39_30_01of09.dt5\u001b[0m\n",
            "\u001b[32m2024-10-18 07:54:50.563\u001b[0m | \u001b[1mINFO    \u001b[0m | \u001b[36mlighthouse.data_loader.load_chuv\u001b[0m:\u001b[36mload_dt5\u001b[0m:\u001b[36m196\u001b[0m - \u001b[1mScenario Name: classBCIViewerAvatarAllDegreesCourtine\u001b[0m\n",
            "\u001b[32m2024-10-18 07:54:50.577\u001b[0m | \u001b[1mINFO    \u001b[0m | \u001b[36mlighthouse.data_loader.load_chuv\u001b[0m:\u001b[36mload_dt5\u001b[0m:\u001b[36m199\u001b[0m - \u001b[1mSub Scenario Name: classBSISubScenarioUpperJointsClassif\u001b[0m\n",
            "\u001b[32m2024-10-18 07:54:55.049\u001b[0m | \u001b[1mINFO    \u001b[0m | \u001b[36mlighthouse.data_loader.load_chuv\u001b[0m:\u001b[36mconcatenate_dt5\u001b[0m:\u001b[36m497\u001b[0m - \u001b[1mLoading /Volumes/__UP2/0_RAW_DATA/UP2_001/UP2001_2024_01_29_Rehabilitation_day36/wisci/2024_01_29_13_36_20 (rec1)/ABSD data/2024_01_29_13_39_30_02of09.dt5\u001b[0m\n",
            "\u001b[32m2024-10-18 07:55:42.151\u001b[0m | \u001b[1mINFO    \u001b[0m | \u001b[36mlighthouse.data_loader.load_chuv\u001b[0m:\u001b[36mconcatenate_dt5\u001b[0m:\u001b[36m497\u001b[0m - \u001b[1mLoading /Volumes/__UP2/0_RAW_DATA/UP2_001/UP2001_2024_01_29_Rehabilitation_day36/wisci/2024_01_29_13_36_20 (rec1)/ABSD data/2024_01_29_13_39_30_03of09.dt5\u001b[0m\n",
            "\u001b[32m2024-10-18 07:56:27.753\u001b[0m | \u001b[1mINFO    \u001b[0m | \u001b[36mlighthouse.data_loader.load_chuv\u001b[0m:\u001b[36mconcatenate_dt5\u001b[0m:\u001b[36m497\u001b[0m - \u001b[1mLoading /Volumes/__UP2/0_RAW_DATA/UP2_001/UP2001_2024_01_29_Rehabilitation_day36/wisci/2024_01_29_13_36_20 (rec1)/ABSD data/2024_01_29_13_39_30_04of09.dt5\u001b[0m\n",
            "\u001b[32m2024-10-18 07:57:18.136\u001b[0m | \u001b[1mINFO    \u001b[0m | \u001b[36mlighthouse.data_loader.load_chuv\u001b[0m:\u001b[36mconcatenate_dt5\u001b[0m:\u001b[36m497\u001b[0m - \u001b[1mLoading /Volumes/__UP2/0_RAW_DATA/UP2_001/UP2001_2024_01_29_Rehabilitation_day36/wisci/2024_01_29_13_36_20 (rec1)/ABSD data/2024_01_29_13_39_30_05of09.dt5\u001b[0m\n",
            "\u001b[32m2024-10-18 07:58:12.335\u001b[0m | \u001b[1mINFO    \u001b[0m | \u001b[36mlighthouse.data_loader.load_chuv\u001b[0m:\u001b[36mconcatenate_dt5\u001b[0m:\u001b[36m497\u001b[0m - \u001b[1mLoading /Volumes/__UP2/0_RAW_DATA/UP2_001/UP2001_2024_01_29_Rehabilitation_day36/wisci/2024_01_29_13_36_20 (rec1)/ABSD data/2024_01_29_13_39_30_06of09.dt5\u001b[0m\n",
            "\u001b[32m2024-10-18 07:59:36.941\u001b[0m | \u001b[1mINFO    \u001b[0m | \u001b[36mlighthouse.data_loader.load_chuv\u001b[0m:\u001b[36mconcatenate_dt5\u001b[0m:\u001b[36m497\u001b[0m - \u001b[1mLoading /Volumes/__UP2/0_RAW_DATA/UP2_001/UP2001_2024_01_29_Rehabilitation_day36/wisci/2024_01_29_13_36_20 (rec1)/ABSD data/2024_01_29_13_39_30_07of09.dt5\u001b[0m\n",
            "\u001b[32m2024-10-18 08:00:41.357\u001b[0m | \u001b[1mINFO    \u001b[0m | \u001b[36mlighthouse.data_loader.load_chuv\u001b[0m:\u001b[36mconcatenate_dt5\u001b[0m:\u001b[36m497\u001b[0m - \u001b[1mLoading /Volumes/__UP2/0_RAW_DATA/UP2_001/UP2001_2024_01_29_Rehabilitation_day36/wisci/2024_01_29_13_36_20 (rec1)/ABSD data/2024_01_29_13_39_30_08of09.dt5\u001b[0m\n",
            "\u001b[32m2024-10-18 08:01:53.654\u001b[0m | \u001b[1mINFO    \u001b[0m | \u001b[36mlighthouse.data_loader.load_chuv\u001b[0m:\u001b[36mconcatenate_dt5\u001b[0m:\u001b[36m497\u001b[0m - \u001b[1mLoading /Volumes/__UP2/0_RAW_DATA/UP2_001/UP2001_2024_01_29_Rehabilitation_day36/wisci/2024_01_29_13_36_20 (rec1)/ABSD data/2024_01_29_13_39_30_09of09.dt5\u001b[0m\n"
          ]
        },
        {
          "name": "stdout",
          "output_type": "stream",
          "text": [
            "Signals shape: (56, 1464793)\n",
            "New signal shape: (56, 107262)\n"
          ]
        },
        {
          "name": "stderr",
          "output_type": "stream",
          "text": [
            "\u001b[32m2024-10-18 08:02:29.723\u001b[0m | \u001b[1mINFO    \u001b[0m | \u001b[36mlighthouse.data_loader.load_chuv\u001b[0m:\u001b[36mconcatenate_dt5\u001b[0m:\u001b[36m497\u001b[0m - \u001b[1mLoading /Volumes/__UP2/0_RAW_DATA/UP2_001/UP2001_2024_01_29_Rehabilitation_day36/wisci/2024_01_29_14_23_40 (rec2)/ABSD data/2024_01_29_14_26_46_01of07.dt5\u001b[0m\n",
            "\u001b[32m2024-10-18 08:04:38.725\u001b[0m | \u001b[1mINFO    \u001b[0m | \u001b[36mlighthouse.data_loader.load_chuv\u001b[0m:\u001b[36mload_dt5\u001b[0m:\u001b[36m196\u001b[0m - \u001b[1mScenario Name: classBCIViewerAvatarAllDegreesCourtine\u001b[0m\n",
            "\u001b[32m2024-10-18 08:04:38.728\u001b[0m | \u001b[1mINFO    \u001b[0m | \u001b[36mlighthouse.data_loader.load_chuv\u001b[0m:\u001b[36mload_dt5\u001b[0m:\u001b[36m199\u001b[0m - \u001b[1mSub Scenario Name: classBSISubScenarioUpperJointsClassif\u001b[0m\n",
            "\u001b[32m2024-10-18 08:04:43.144\u001b[0m | \u001b[1mINFO    \u001b[0m | \u001b[36mlighthouse.data_loader.load_chuv\u001b[0m:\u001b[36mconcatenate_dt5\u001b[0m:\u001b[36m497\u001b[0m - \u001b[1mLoading /Volumes/__UP2/0_RAW_DATA/UP2_001/UP2001_2024_01_29_Rehabilitation_day36/wisci/2024_01_29_14_23_40 (rec2)/ABSD data/2024_01_29_14_26_46_02of07.dt5\u001b[0m\n",
            "\u001b[32m2024-10-18 08:07:11.842\u001b[0m | \u001b[1mINFO    \u001b[0m | \u001b[36mlighthouse.data_loader.load_chuv\u001b[0m:\u001b[36mconcatenate_dt5\u001b[0m:\u001b[36m497\u001b[0m - \u001b[1mLoading /Volumes/__UP2/0_RAW_DATA/UP2_001/UP2001_2024_01_29_Rehabilitation_day36/wisci/2024_01_29_14_23_40 (rec2)/ABSD data/2024_01_29_14_26_46_03of07.dt5\u001b[0m\n",
            "\u001b[32m2024-10-18 08:08:08.332\u001b[0m | \u001b[1mINFO    \u001b[0m | \u001b[36mlighthouse.data_loader.load_chuv\u001b[0m:\u001b[36mconcatenate_dt5\u001b[0m:\u001b[36m497\u001b[0m - \u001b[1mLoading /Volumes/__UP2/0_RAW_DATA/UP2_001/UP2001_2024_01_29_Rehabilitation_day36/wisci/2024_01_29_14_23_40 (rec2)/ABSD data/2024_01_29_14_26_46_04of07.dt5\u001b[0m\n",
            "\u001b[32m2024-10-18 08:09:29.974\u001b[0m | \u001b[1mINFO    \u001b[0m | \u001b[36mlighthouse.data_loader.load_chuv\u001b[0m:\u001b[36mconcatenate_dt5\u001b[0m:\u001b[36m497\u001b[0m - \u001b[1mLoading /Volumes/__UP2/0_RAW_DATA/UP2_001/UP2001_2024_01_29_Rehabilitation_day36/wisci/2024_01_29_14_23_40 (rec2)/ABSD data/2024_01_29_14_26_46_05of07.dt5\u001b[0m\n",
            "\u001b[32m2024-10-18 08:10:45.907\u001b[0m | \u001b[1mINFO    \u001b[0m | \u001b[36mlighthouse.data_loader.load_chuv\u001b[0m:\u001b[36mconcatenate_dt5\u001b[0m:\u001b[36m497\u001b[0m - \u001b[1mLoading /Volumes/__UP2/0_RAW_DATA/UP2_001/UP2001_2024_01_29_Rehabilitation_day36/wisci/2024_01_29_14_23_40 (rec2)/ABSD data/2024_01_29_14_26_46_06of07.dt5\u001b[0m\n",
            "\u001b[32m2024-10-18 08:12:01.156\u001b[0m | \u001b[1mINFO    \u001b[0m | \u001b[36mlighthouse.data_loader.load_chuv\u001b[0m:\u001b[36mconcatenate_dt5\u001b[0m:\u001b[36m497\u001b[0m - \u001b[1mLoading /Volumes/__UP2/0_RAW_DATA/UP2_001/UP2001_2024_01_29_Rehabilitation_day36/wisci/2024_01_29_14_23_40 (rec2)/ABSD data/2024_01_29_14_26_46_07of07.dt5\u001b[0m\n"
          ]
        },
        {
          "name": "stdout",
          "output_type": "stream",
          "text": [
            "Signals shape: (56, 1226669)\n",
            "New signal shape: (56, 0)\n"
          ]
        },
        {
          "name": "stderr",
          "output_type": "stream",
          "text": [
            "\u001b[32m2024-10-18 08:13:10.203\u001b[0m | \u001b[1mINFO    \u001b[0m | \u001b[36mlighthouse.data_loader.load_chuv\u001b[0m:\u001b[36mconcatenate_dt5\u001b[0m:\u001b[36m497\u001b[0m - \u001b[1mLoading /Volumes/__UP2/0_RAW_DATA/UP2_001/UP2001_2024_01_29_Rehabilitation_day36/wisci/2024_01_29_15_03_24 (rec3)/ABSD data/2024_01_29_15_06_54_01of06.dt5\u001b[0m\n",
            "\u001b[32m2024-10-18 08:15:16.635\u001b[0m | \u001b[1mINFO    \u001b[0m | \u001b[36mlighthouse.data_loader.load_chuv\u001b[0m:\u001b[36mload_dt5\u001b[0m:\u001b[36m196\u001b[0m - \u001b[1mScenario Name: classBCIViewerAvatarAllDegreesCourtine\u001b[0m\n",
            "\u001b[32m2024-10-18 08:15:16.643\u001b[0m | \u001b[1mINFO    \u001b[0m | \u001b[36mlighthouse.data_loader.load_chuv\u001b[0m:\u001b[36mload_dt5\u001b[0m:\u001b[36m199\u001b[0m - \u001b[1mSub Scenario Name: classBSISubScenarioUpperJointsClassif\u001b[0m\n",
            "\u001b[32m2024-10-18 08:15:20.924\u001b[0m | \u001b[1mINFO    \u001b[0m | \u001b[36mlighthouse.data_loader.load_chuv\u001b[0m:\u001b[36mconcatenate_dt5\u001b[0m:\u001b[36m497\u001b[0m - \u001b[1mLoading /Volumes/__UP2/0_RAW_DATA/UP2_001/UP2001_2024_01_29_Rehabilitation_day36/wisci/2024_01_29_15_03_24 (rec3)/ABSD data/2024_01_29_15_06_54_02of06.dt5\u001b[0m\n",
            "\u001b[32m2024-10-18 08:17:30.438\u001b[0m | \u001b[1mINFO    \u001b[0m | \u001b[36mlighthouse.data_loader.load_chuv\u001b[0m:\u001b[36mconcatenate_dt5\u001b[0m:\u001b[36m497\u001b[0m - \u001b[1mLoading /Volumes/__UP2/0_RAW_DATA/UP2_001/UP2001_2024_01_29_Rehabilitation_day36/wisci/2024_01_29_15_03_24 (rec3)/ABSD data/2024_01_29_15_06_54_03of06.dt5\u001b[0m\n",
            "\u001b[32m2024-10-18 08:19:08.054\u001b[0m | \u001b[1mINFO    \u001b[0m | \u001b[36mlighthouse.data_loader.load_chuv\u001b[0m:\u001b[36mconcatenate_dt5\u001b[0m:\u001b[36m497\u001b[0m - \u001b[1mLoading /Volumes/__UP2/0_RAW_DATA/UP2_001/UP2001_2024_01_29_Rehabilitation_day36/wisci/2024_01_29_15_03_24 (rec3)/ABSD data/2024_01_29_15_06_54_04of06.dt5\u001b[0m\n",
            "\u001b[32m2024-10-18 08:20:44.901\u001b[0m | \u001b[1mINFO    \u001b[0m | \u001b[36mlighthouse.data_loader.load_chuv\u001b[0m:\u001b[36mconcatenate_dt5\u001b[0m:\u001b[36m497\u001b[0m - \u001b[1mLoading /Volumes/__UP2/0_RAW_DATA/UP2_001/UP2001_2024_01_29_Rehabilitation_day36/wisci/2024_01_29_15_03_24 (rec3)/ABSD data/2024_01_29_15_06_54_05of06.dt5\u001b[0m\n",
            "\u001b[32m2024-10-18 08:22:17.979\u001b[0m | \u001b[1mINFO    \u001b[0m | \u001b[36mlighthouse.data_loader.load_chuv\u001b[0m:\u001b[36mconcatenate_dt5\u001b[0m:\u001b[36m497\u001b[0m - \u001b[1mLoading /Volumes/__UP2/0_RAW_DATA/UP2_001/UP2001_2024_01_29_Rehabilitation_day36/wisci/2024_01_29_15_03_24 (rec3)/ABSD data/2024_01_29_15_06_54_06of06.dt5\u001b[0m\n"
          ]
        },
        {
          "name": "stdout",
          "output_type": "stream",
          "text": [
            "Signals shape: (56, 930489)\n",
            "New signal shape: (56, 36521)\n",
            "length of data: 120\n"
          ]
        },
        {
          "name": "stderr",
          "output_type": "stream",
          "text": [
            " 66%|██████▌   | 43/65 [8:14:21<7:27:09, 1219.51s/it]"
          ]
        },
        {
          "name": "stdout",
          "output_type": "stream",
          "text": [
            "Checkpoint saved after session 42\n",
            "Current session: (PosixPath('/Volumes/__UP2/0_RAW_DATA/UP2_001/UP2001_2024_01_30_Rehabilitation_day37'), 43)\n"
          ]
        },
        {
          "name": "stderr",
          "output_type": "stream",
          "text": [
            "\u001b[32m2024-10-18 08:23:06.529\u001b[0m | \u001b[1mINFO    \u001b[0m | \u001b[36mlighthouse.data_loader.load_chuv\u001b[0m:\u001b[36mconcatenate_dt5\u001b[0m:\u001b[36m497\u001b[0m - \u001b[1mLoading /Volumes/__UP2/0_RAW_DATA/UP2_001/UP2001_2024_01_30_Rehabilitation_day37/wisci/2024_01_30_15_08_46 (rec2)/ABSD data/2024_01_30_15_10_51_01of09.dt5\u001b[0m\n",
            "\u001b[32m2024-10-18 08:24:43.632\u001b[0m | \u001b[1mINFO    \u001b[0m | \u001b[36mlighthouse.data_loader.load_chuv\u001b[0m:\u001b[36mload_dt5\u001b[0m:\u001b[36m196\u001b[0m - \u001b[1mScenario Name: classBCIViewerAvatarAllDegreesCourtine\u001b[0m\n",
            "\u001b[32m2024-10-18 08:24:43.651\u001b[0m | \u001b[1mINFO    \u001b[0m | \u001b[36mlighthouse.data_loader.load_chuv\u001b[0m:\u001b[36mload_dt5\u001b[0m:\u001b[36m199\u001b[0m - \u001b[1mSub Scenario Name: classBSISubScenarioUpperJointsClassif\u001b[0m\n",
            "\u001b[32m2024-10-18 08:24:48.217\u001b[0m | \u001b[1mINFO    \u001b[0m | \u001b[36mlighthouse.data_loader.load_chuv\u001b[0m:\u001b[36mconcatenate_dt5\u001b[0m:\u001b[36m497\u001b[0m - \u001b[1mLoading /Volumes/__UP2/0_RAW_DATA/UP2_001/UP2001_2024_01_30_Rehabilitation_day37/wisci/2024_01_30_15_08_46 (rec2)/ABSD data/2024_01_30_15_10_51_02of09.dt5\u001b[0m\n",
            "\u001b[32m2024-10-18 08:26:14.438\u001b[0m | \u001b[1mINFO    \u001b[0m | \u001b[36mlighthouse.data_loader.load_chuv\u001b[0m:\u001b[36mconcatenate_dt5\u001b[0m:\u001b[36m497\u001b[0m - \u001b[1mLoading /Volumes/__UP2/0_RAW_DATA/UP2_001/UP2001_2024_01_30_Rehabilitation_day37/wisci/2024_01_30_15_08_46 (rec2)/ABSD data/2024_01_30_15_10_51_03of09.dt5\u001b[0m\n",
            "\u001b[32m2024-10-18 08:27:59.991\u001b[0m | \u001b[1mINFO    \u001b[0m | \u001b[36mlighthouse.data_loader.load_chuv\u001b[0m:\u001b[36mconcatenate_dt5\u001b[0m:\u001b[36m497\u001b[0m - \u001b[1mLoading /Volumes/__UP2/0_RAW_DATA/UP2_001/UP2001_2024_01_30_Rehabilitation_day37/wisci/2024_01_30_15_08_46 (rec2)/ABSD data/2024_01_30_15_10_51_04of09.dt5\u001b[0m\n",
            "\u001b[32m2024-10-18 08:29:48.311\u001b[0m | \u001b[1mINFO    \u001b[0m | \u001b[36mlighthouse.data_loader.load_chuv\u001b[0m:\u001b[36mconcatenate_dt5\u001b[0m:\u001b[36m497\u001b[0m - \u001b[1mLoading /Volumes/__UP2/0_RAW_DATA/UP2_001/UP2001_2024_01_30_Rehabilitation_day37/wisci/2024_01_30_15_08_46 (rec2)/ABSD data/2024_01_30_15_10_51_05of09.dt5\u001b[0m\n",
            "\u001b[32m2024-10-18 08:31:01.792\u001b[0m | \u001b[1mINFO    \u001b[0m | \u001b[36mlighthouse.data_loader.load_chuv\u001b[0m:\u001b[36mconcatenate_dt5\u001b[0m:\u001b[36m497\u001b[0m - \u001b[1mLoading /Volumes/__UP2/0_RAW_DATA/UP2_001/UP2001_2024_01_30_Rehabilitation_day37/wisci/2024_01_30_15_08_46 (rec2)/ABSD data/2024_01_30_15_10_51_06of09.dt5\u001b[0m\n",
            "\u001b[32m2024-10-18 08:32:02.694\u001b[0m | \u001b[1mINFO    \u001b[0m | \u001b[36mlighthouse.data_loader.load_chuv\u001b[0m:\u001b[36mconcatenate_dt5\u001b[0m:\u001b[36m497\u001b[0m - \u001b[1mLoading /Volumes/__UP2/0_RAW_DATA/UP2_001/UP2001_2024_01_30_Rehabilitation_day37/wisci/2024_01_30_15_08_46 (rec2)/ABSD data/2024_01_30_15_10_51_07of09.dt5\u001b[0m\n",
            "\u001b[32m2024-10-18 08:33:03.200\u001b[0m | \u001b[1mINFO    \u001b[0m | \u001b[36mlighthouse.data_loader.load_chuv\u001b[0m:\u001b[36mconcatenate_dt5\u001b[0m:\u001b[36m497\u001b[0m - \u001b[1mLoading /Volumes/__UP2/0_RAW_DATA/UP2_001/UP2001_2024_01_30_Rehabilitation_day37/wisci/2024_01_30_15_08_46 (rec2)/ABSD data/2024_01_30_15_10_51_08of09.dt5\u001b[0m\n",
            "\u001b[32m2024-10-18 08:34:51.237\u001b[0m | \u001b[1mINFO    \u001b[0m | \u001b[36mlighthouse.data_loader.load_chuv\u001b[0m:\u001b[36mconcatenate_dt5\u001b[0m:\u001b[36m497\u001b[0m - \u001b[1mLoading /Volumes/__UP2/0_RAW_DATA/UP2_001/UP2001_2024_01_30_Rehabilitation_day37/wisci/2024_01_30_15_08_46 (rec2)/ABSD data/2024_01_30_15_10_51_09of09.dt5\u001b[0m\n"
          ]
        },
        {
          "name": "stdout",
          "output_type": "stream",
          "text": [
            "Signals shape: (56, 1562556)\n",
            "New signal shape: (56, 190865)\n"
          ]
        },
        {
          "name": "stderr",
          "output_type": "stream",
          "text": [
            "\u001b[32m2024-10-18 08:35:40.015\u001b[0m | \u001b[1mINFO    \u001b[0m | \u001b[36mlighthouse.data_loader.load_chuv\u001b[0m:\u001b[36mconcatenate_dt5\u001b[0m:\u001b[36m497\u001b[0m - \u001b[1mLoading /Volumes/__UP2/0_RAW_DATA/UP2_001/UP2001_2024_01_30_Rehabilitation_day37/wisci/2024_01_30_14_14_43 (rec1)/ABSD data/2024_01_30_14_17_30_01of10.dt5\u001b[0m\n",
            "\u001b[32m2024-10-18 08:36:53.542\u001b[0m | \u001b[1mINFO    \u001b[0m | \u001b[36mlighthouse.data_loader.load_chuv\u001b[0m:\u001b[36mload_dt5\u001b[0m:\u001b[36m196\u001b[0m - \u001b[1mScenario Name: classBCIViewerAvatarAllDegreesCourtine\u001b[0m\n",
            "\u001b[32m2024-10-18 08:36:53.547\u001b[0m | \u001b[1mINFO    \u001b[0m | \u001b[36mlighthouse.data_loader.load_chuv\u001b[0m:\u001b[36mload_dt5\u001b[0m:\u001b[36m199\u001b[0m - \u001b[1mSub Scenario Name: classBSISubScenarioUpperJointsClassif\u001b[0m\n",
            "\u001b[32m2024-10-18 08:36:57.784\u001b[0m | \u001b[1mINFO    \u001b[0m | \u001b[36mlighthouse.data_loader.load_chuv\u001b[0m:\u001b[36mconcatenate_dt5\u001b[0m:\u001b[36m497\u001b[0m - \u001b[1mLoading /Volumes/__UP2/0_RAW_DATA/UP2_001/UP2001_2024_01_30_Rehabilitation_day37/wisci/2024_01_30_14_14_43 (rec1)/ABSD data/2024_01_30_14_17_30_02of10.dt5\u001b[0m\n",
            "\u001b[32m2024-10-18 08:38:01.603\u001b[0m | \u001b[1mINFO    \u001b[0m | \u001b[36mlighthouse.data_loader.load_chuv\u001b[0m:\u001b[36mconcatenate_dt5\u001b[0m:\u001b[36m497\u001b[0m - \u001b[1mLoading /Volumes/__UP2/0_RAW_DATA/UP2_001/UP2001_2024_01_30_Rehabilitation_day37/wisci/2024_01_30_14_14_43 (rec1)/ABSD data/2024_01_30_14_17_30_03of10.dt5\u001b[0m\n",
            "\u001b[32m2024-10-18 08:39:29.647\u001b[0m | \u001b[1mINFO    \u001b[0m | \u001b[36mlighthouse.data_loader.load_chuv\u001b[0m:\u001b[36mconcatenate_dt5\u001b[0m:\u001b[36m497\u001b[0m - \u001b[1mLoading /Volumes/__UP2/0_RAW_DATA/UP2_001/UP2001_2024_01_30_Rehabilitation_day37/wisci/2024_01_30_14_14_43 (rec1)/ABSD data/2024_01_30_14_17_30_04of10.dt5\u001b[0m\n",
            "\u001b[32m2024-10-18 08:41:03.662\u001b[0m | \u001b[1mINFO    \u001b[0m | \u001b[36mlighthouse.data_loader.load_chuv\u001b[0m:\u001b[36mconcatenate_dt5\u001b[0m:\u001b[36m497\u001b[0m - \u001b[1mLoading /Volumes/__UP2/0_RAW_DATA/UP2_001/UP2001_2024_01_30_Rehabilitation_day37/wisci/2024_01_30_14_14_43 (rec1)/ABSD data/2024_01_30_14_17_30_05of10.dt5\u001b[0m\n",
            "\u001b[32m2024-10-18 08:43:02.384\u001b[0m | \u001b[1mINFO    \u001b[0m | \u001b[36mlighthouse.data_loader.load_chuv\u001b[0m:\u001b[36mconcatenate_dt5\u001b[0m:\u001b[36m497\u001b[0m - \u001b[1mLoading /Volumes/__UP2/0_RAW_DATA/UP2_001/UP2001_2024_01_30_Rehabilitation_day37/wisci/2024_01_30_14_14_43 (rec1)/ABSD data/2024_01_30_14_17_30_06of10.dt5\u001b[0m\n",
            "\u001b[32m2024-10-18 08:45:11.625\u001b[0m | \u001b[1mINFO    \u001b[0m | \u001b[36mlighthouse.data_loader.load_chuv\u001b[0m:\u001b[36mconcatenate_dt5\u001b[0m:\u001b[36m497\u001b[0m - \u001b[1mLoading /Volumes/__UP2/0_RAW_DATA/UP2_001/UP2001_2024_01_30_Rehabilitation_day37/wisci/2024_01_30_14_14_43 (rec1)/ABSD data/2024_01_30_14_17_30_07of10.dt5\u001b[0m\n",
            "\u001b[32m2024-10-18 08:47:16.650\u001b[0m | \u001b[1mINFO    \u001b[0m | \u001b[36mlighthouse.data_loader.load_chuv\u001b[0m:\u001b[36mconcatenate_dt5\u001b[0m:\u001b[36m497\u001b[0m - \u001b[1mLoading /Volumes/__UP2/0_RAW_DATA/UP2_001/UP2001_2024_01_30_Rehabilitation_day37/wisci/2024_01_30_14_14_43 (rec1)/ABSD data/2024_01_30_14_17_30_08of10.dt5\u001b[0m\n",
            "\u001b[32m2024-10-18 08:48:08.825\u001b[0m | \u001b[1mINFO    \u001b[0m | \u001b[36mlighthouse.data_loader.load_chuv\u001b[0m:\u001b[36mconcatenate_dt5\u001b[0m:\u001b[36m497\u001b[0m - \u001b[1mLoading /Volumes/__UP2/0_RAW_DATA/UP2_001/UP2001_2024_01_30_Rehabilitation_day37/wisci/2024_01_30_14_14_43 (rec1)/ABSD data/2024_01_30_14_17_30_09of10.dt5\u001b[0m\n",
            "\u001b[32m2024-10-18 08:49:05.267\u001b[0m | \u001b[1mINFO    \u001b[0m | \u001b[36mlighthouse.data_loader.load_chuv\u001b[0m:\u001b[36mconcatenate_dt5\u001b[0m:\u001b[36m497\u001b[0m - \u001b[1mLoading /Volumes/__UP2/0_RAW_DATA/UP2_001/UP2001_2024_01_30_Rehabilitation_day37/wisci/2024_01_30_14_14_43 (rec1)/ABSD data/2024_01_30_14_17_30_10of10.dt5\u001b[0m\n"
          ]
        },
        {
          "name": "stdout",
          "output_type": "stream",
          "text": [
            "Signals shape: (56, 1694244)\n",
            "New signal shape: (56, 304322)\n",
            "length of data: 122\n"
          ]
        },
        {
          "name": "stderr",
          "output_type": "stream",
          "text": [
            " 68%|██████▊   | 44/65 [8:41:24<7:49:16, 1340.81s/it]"
          ]
        },
        {
          "name": "stdout",
          "output_type": "stream",
          "text": [
            "Checkpoint saved after session 43\n",
            "Current session: (PosixPath('/Volumes/__UP2/0_RAW_DATA/UP2_001/UP2001_2024_02_01_Rehabilitation_day39'), 44)\n"
          ]
        },
        {
          "name": "stderr",
          "output_type": "stream",
          "text": [
            "\u001b[32m2024-10-18 08:50:11.211\u001b[0m | \u001b[1mINFO    \u001b[0m | \u001b[36mlighthouse.data_loader.load_chuv\u001b[0m:\u001b[36mconcatenate_dt5\u001b[0m:\u001b[36m497\u001b[0m - \u001b[1mLoading /Volumes/__UP2/0_RAW_DATA/UP2_001/UP2001_2024_02_01_Rehabilitation_day39/wisci/ABSD_Data/2024_02_01_13_14_01_01of12.dt5\u001b[0m\n",
            "\u001b[32m2024-10-18 08:50:58.741\u001b[0m | \u001b[1mINFO    \u001b[0m | \u001b[36mlighthouse.data_loader.load_chuv\u001b[0m:\u001b[36mload_dt5\u001b[0m:\u001b[36m196\u001b[0m - \u001b[1mScenario Name: classBCIViewerAvatarAllDegreesCourtine\u001b[0m\n",
            "\u001b[32m2024-10-18 08:50:58.768\u001b[0m | \u001b[1mINFO    \u001b[0m | \u001b[36mlighthouse.data_loader.load_chuv\u001b[0m:\u001b[36mload_dt5\u001b[0m:\u001b[36m199\u001b[0m - \u001b[1mSub Scenario Name: classBSISubScenarioUpperJointsClassif\u001b[0m\n",
            "\u001b[32m2024-10-18 08:51:03.808\u001b[0m | \u001b[1mINFO    \u001b[0m | \u001b[36mlighthouse.data_loader.load_chuv\u001b[0m:\u001b[36mconcatenate_dt5\u001b[0m:\u001b[36m497\u001b[0m - \u001b[1mLoading /Volumes/__UP2/0_RAW_DATA/UP2_001/UP2001_2024_02_01_Rehabilitation_day39/wisci/ABSD_Data/2024_02_01_13_14_01_02of12.dt5\u001b[0m\n",
            "\u001b[32m2024-10-18 08:52:03.405\u001b[0m | \u001b[1mINFO    \u001b[0m | \u001b[36mlighthouse.data_loader.load_chuv\u001b[0m:\u001b[36mconcatenate_dt5\u001b[0m:\u001b[36m497\u001b[0m - \u001b[1mLoading /Volumes/__UP2/0_RAW_DATA/UP2_001/UP2001_2024_02_01_Rehabilitation_day39/wisci/ABSD_Data/2024_02_01_13_14_01_03of12.dt5\u001b[0m\n",
            "\u001b[32m2024-10-18 08:52:57.714\u001b[0m | \u001b[1mINFO    \u001b[0m | \u001b[36mlighthouse.data_loader.load_chuv\u001b[0m:\u001b[36mconcatenate_dt5\u001b[0m:\u001b[36m497\u001b[0m - \u001b[1mLoading /Volumes/__UP2/0_RAW_DATA/UP2_001/UP2001_2024_02_01_Rehabilitation_day39/wisci/ABSD_Data/2024_02_01_13_14_01_04of12.dt5\u001b[0m\n",
            "\u001b[32m2024-10-18 08:53:46.933\u001b[0m | \u001b[1mINFO    \u001b[0m | \u001b[36mlighthouse.data_loader.load_chuv\u001b[0m:\u001b[36mconcatenate_dt5\u001b[0m:\u001b[36m497\u001b[0m - \u001b[1mLoading /Volumes/__UP2/0_RAW_DATA/UP2_001/UP2001_2024_02_01_Rehabilitation_day39/wisci/ABSD_Data/2024_02_01_13_14_01_05of12.dt5\u001b[0m\n",
            "\u001b[32m2024-10-18 08:55:53.637\u001b[0m | \u001b[1mINFO    \u001b[0m | \u001b[36mlighthouse.data_loader.load_chuv\u001b[0m:\u001b[36mconcatenate_dt5\u001b[0m:\u001b[36m497\u001b[0m - \u001b[1mLoading /Volumes/__UP2/0_RAW_DATA/UP2_001/UP2001_2024_02_01_Rehabilitation_day39/wisci/ABSD_Data/2024_02_01_13_14_01_06of12.dt5\u001b[0m\n",
            "\u001b[32m2024-10-18 08:57:23.877\u001b[0m | \u001b[1mINFO    \u001b[0m | \u001b[36mlighthouse.data_loader.load_chuv\u001b[0m:\u001b[36mconcatenate_dt5\u001b[0m:\u001b[36m497\u001b[0m - \u001b[1mLoading /Volumes/__UP2/0_RAW_DATA/UP2_001/UP2001_2024_02_01_Rehabilitation_day39/wisci/ABSD_Data/2024_02_01_13_14_01_07of12.dt5\u001b[0m\n",
            "\u001b[32m2024-10-18 08:58:30.548\u001b[0m | \u001b[1mINFO    \u001b[0m | \u001b[36mlighthouse.data_loader.load_chuv\u001b[0m:\u001b[36mconcatenate_dt5\u001b[0m:\u001b[36m497\u001b[0m - \u001b[1mLoading /Volumes/__UP2/0_RAW_DATA/UP2_001/UP2001_2024_02_01_Rehabilitation_day39/wisci/ABSD_Data/2024_02_01_13_14_01_08of12.dt5\u001b[0m\n",
            "\u001b[32m2024-10-18 08:59:52.387\u001b[0m | \u001b[1mINFO    \u001b[0m | \u001b[36mlighthouse.data_loader.load_chuv\u001b[0m:\u001b[36mconcatenate_dt5\u001b[0m:\u001b[36m497\u001b[0m - \u001b[1mLoading /Volumes/__UP2/0_RAW_DATA/UP2_001/UP2001_2024_02_01_Rehabilitation_day39/wisci/ABSD_Data/2024_02_01_13_14_01_09of12.dt5\u001b[0m\n",
            "\u001b[32m2024-10-18 09:01:15.484\u001b[0m | \u001b[1mINFO    \u001b[0m | \u001b[36mlighthouse.data_loader.load_chuv\u001b[0m:\u001b[36mconcatenate_dt5\u001b[0m:\u001b[36m497\u001b[0m - \u001b[1mLoading /Volumes/__UP2/0_RAW_DATA/UP2_001/UP2001_2024_02_01_Rehabilitation_day39/wisci/ABSD_Data/2024_02_01_13_14_01_10of12.dt5\u001b[0m\n",
            "\u001b[32m2024-10-18 09:02:34.261\u001b[0m | \u001b[1mINFO    \u001b[0m | \u001b[36mlighthouse.data_loader.load_chuv\u001b[0m:\u001b[36mconcatenate_dt5\u001b[0m:\u001b[36m497\u001b[0m - \u001b[1mLoading /Volumes/__UP2/0_RAW_DATA/UP2_001/UP2001_2024_02_01_Rehabilitation_day39/wisci/ABSD_Data/2024_02_01_13_14_01_11of12.dt5\u001b[0m\n",
            "\u001b[32m2024-10-18 09:03:48.199\u001b[0m | \u001b[1mINFO    \u001b[0m | \u001b[36mlighthouse.data_loader.load_chuv\u001b[0m:\u001b[36mconcatenate_dt5\u001b[0m:\u001b[36m497\u001b[0m - \u001b[1mLoading /Volumes/__UP2/0_RAW_DATA/UP2_001/UP2001_2024_02_01_Rehabilitation_day39/wisci/ABSD_Data/2024_02_01_13_14_01_12of12.dt5\u001b[0m\n"
          ]
        },
        {
          "name": "stdout",
          "output_type": "stream",
          "text": [
            "Signals shape: (56, 2083526)\n",
            "New signal shape: (56, 484980)\n"
          ]
        },
        {
          "name": "stderr",
          "output_type": "stream",
          "text": [
            "\u001b[32m2024-10-18 09:04:58.189\u001b[0m | \u001b[1mINFO    \u001b[0m | \u001b[36mlighthouse.data_loader.load_chuv\u001b[0m:\u001b[36mconcatenate_dt5\u001b[0m:\u001b[36m497\u001b[0m - \u001b[1mLoading /Volumes/__UP2/0_RAW_DATA/UP2_001/UP2001_2024_02_01_Rehabilitation_day39/wisci/2024_02_01_14_24_52 (rec2)/ABSD data/2024_02_01_14_28_48_01of10.dt5\u001b[0m\n",
            "\u001b[32m2024-10-18 09:06:21.706\u001b[0m | \u001b[1mINFO    \u001b[0m | \u001b[36mlighthouse.data_loader.load_chuv\u001b[0m:\u001b[36mload_dt5\u001b[0m:\u001b[36m196\u001b[0m - \u001b[1mScenario Name: classBCIViewerAvatarAllDegreesCourtine\u001b[0m\n",
            "\u001b[32m2024-10-18 09:06:21.709\u001b[0m | \u001b[1mINFO    \u001b[0m | \u001b[36mlighthouse.data_loader.load_chuv\u001b[0m:\u001b[36mload_dt5\u001b[0m:\u001b[36m199\u001b[0m - \u001b[1mSub Scenario Name: classBSISubScenarioUpperJointsClassif\u001b[0m\n",
            "\u001b[32m2024-10-18 09:06:25.901\u001b[0m | \u001b[1mINFO    \u001b[0m | \u001b[36mlighthouse.data_loader.load_chuv\u001b[0m:\u001b[36mconcatenate_dt5\u001b[0m:\u001b[36m497\u001b[0m - \u001b[1mLoading /Volumes/__UP2/0_RAW_DATA/UP2_001/UP2001_2024_02_01_Rehabilitation_day39/wisci/2024_02_01_14_24_52 (rec2)/ABSD data/2024_02_01_14_28_48_02of10.dt5\u001b[0m\n",
            "\u001b[32m2024-10-18 09:07:42.086\u001b[0m | \u001b[1mINFO    \u001b[0m | \u001b[36mlighthouse.data_loader.load_chuv\u001b[0m:\u001b[36mconcatenate_dt5\u001b[0m:\u001b[36m497\u001b[0m - \u001b[1mLoading /Volumes/__UP2/0_RAW_DATA/UP2_001/UP2001_2024_02_01_Rehabilitation_day39/wisci/2024_02_01_14_24_52 (rec2)/ABSD data/2024_02_01_14_28_48_03of10.dt5\u001b[0m\n",
            "\u001b[32m2024-10-18 09:08:58.840\u001b[0m | \u001b[1mINFO    \u001b[0m | \u001b[36mlighthouse.data_loader.load_chuv\u001b[0m:\u001b[36mconcatenate_dt5\u001b[0m:\u001b[36m497\u001b[0m - \u001b[1mLoading /Volumes/__UP2/0_RAW_DATA/UP2_001/UP2001_2024_02_01_Rehabilitation_day39/wisci/2024_02_01_14_24_52 (rec2)/ABSD data/2024_02_01_14_28_48_04of10.dt5\u001b[0m\n",
            "\u001b[32m2024-10-18 09:10:11.385\u001b[0m | \u001b[1mINFO    \u001b[0m | \u001b[36mlighthouse.data_loader.load_chuv\u001b[0m:\u001b[36mconcatenate_dt5\u001b[0m:\u001b[36m497\u001b[0m - \u001b[1mLoading /Volumes/__UP2/0_RAW_DATA/UP2_001/UP2001_2024_02_01_Rehabilitation_day39/wisci/2024_02_01_14_24_52 (rec2)/ABSD data/2024_02_01_14_28_48_05of10.dt5\u001b[0m\n",
            "\u001b[32m2024-10-18 09:11:25.230\u001b[0m | \u001b[1mINFO    \u001b[0m | \u001b[36mlighthouse.data_loader.load_chuv\u001b[0m:\u001b[36mconcatenate_dt5\u001b[0m:\u001b[36m497\u001b[0m - \u001b[1mLoading /Volumes/__UP2/0_RAW_DATA/UP2_001/UP2001_2024_02_01_Rehabilitation_day39/wisci/2024_02_01_14_24_52 (rec2)/ABSD data/2024_02_01_14_28_48_06of10.dt5\u001b[0m\n",
            "\u001b[32m2024-10-18 09:12:22.777\u001b[0m | \u001b[1mINFO    \u001b[0m | \u001b[36mlighthouse.data_loader.load_chuv\u001b[0m:\u001b[36mconcatenate_dt5\u001b[0m:\u001b[36m497\u001b[0m - \u001b[1mLoading /Volumes/__UP2/0_RAW_DATA/UP2_001/UP2001_2024_02_01_Rehabilitation_day39/wisci/2024_02_01_14_24_52 (rec2)/ABSD data/2024_02_01_14_28_48_07of10.dt5\u001b[0m\n",
            "\u001b[32m2024-10-18 09:13:13.232\u001b[0m | \u001b[1mINFO    \u001b[0m | \u001b[36mlighthouse.data_loader.load_chuv\u001b[0m:\u001b[36mconcatenate_dt5\u001b[0m:\u001b[36m497\u001b[0m - \u001b[1mLoading /Volumes/__UP2/0_RAW_DATA/UP2_001/UP2001_2024_02_01_Rehabilitation_day39/wisci/2024_02_01_14_24_52 (rec2)/ABSD data/2024_02_01_14_28_48_08of10.dt5\u001b[0m\n",
            "\u001b[32m2024-10-18 09:14:05.487\u001b[0m | \u001b[1mINFO    \u001b[0m | \u001b[36mlighthouse.data_loader.load_chuv\u001b[0m:\u001b[36mconcatenate_dt5\u001b[0m:\u001b[36m497\u001b[0m - \u001b[1mLoading /Volumes/__UP2/0_RAW_DATA/UP2_001/UP2001_2024_02_01_Rehabilitation_day39/wisci/2024_02_01_14_24_52 (rec2)/ABSD data/2024_02_01_14_28_48_09of10.dt5\u001b[0m\n",
            "\u001b[32m2024-10-18 09:15:27.661\u001b[0m | \u001b[1mINFO    \u001b[0m | \u001b[36mlighthouse.data_loader.load_chuv\u001b[0m:\u001b[36mconcatenate_dt5\u001b[0m:\u001b[36m497\u001b[0m - \u001b[1mLoading /Volumes/__UP2/0_RAW_DATA/UP2_001/UP2001_2024_02_01_Rehabilitation_day39/wisci/2024_02_01_14_24_52 (rec2)/ABSD data/2024_02_01_14_28_48_10of10.dt5\u001b[0m\n"
          ]
        },
        {
          "name": "stdout",
          "output_type": "stream",
          "text": [
            "Signals shape: (56, 1647398)\n",
            "New signal shape: (56, 189803)\n"
          ]
        },
        {
          "name": "stderr",
          "output_type": "stream",
          "text": [
            "\u001b[32m2024-10-18 09:15:44.184\u001b[0m | \u001b[1mINFO    \u001b[0m | \u001b[36mlighthouse.data_loader.load_chuv\u001b[0m:\u001b[36mconcatenate_dt5\u001b[0m:\u001b[36m497\u001b[0m - \u001b[1mLoading /Volumes/__UP2/0_RAW_DATA/UP2_001/UP2001_2024_02_01_Rehabilitation_day39/wisci/2024_02_01_15_18_08 (rec3)/ABSD data/2024_02_01_15_20_10_01of04.dt5\u001b[0m\n",
            "\u001b[32m2024-10-18 09:16:38.941\u001b[0m | \u001b[1mINFO    \u001b[0m | \u001b[36mlighthouse.data_loader.load_chuv\u001b[0m:\u001b[36mload_dt5\u001b[0m:\u001b[36m196\u001b[0m - \u001b[1mScenario Name: classBCIViewerAvatarAllDegreesCourtine\u001b[0m\n",
            "\u001b[32m2024-10-18 09:16:38.945\u001b[0m | \u001b[1mINFO    \u001b[0m | \u001b[36mlighthouse.data_loader.load_chuv\u001b[0m:\u001b[36mload_dt5\u001b[0m:\u001b[36m199\u001b[0m - \u001b[1mSub Scenario Name: classBSISubScenarioUpperJointsClassif\u001b[0m\n",
            "\u001b[32m2024-10-18 09:16:42.965\u001b[0m | \u001b[1mINFO    \u001b[0m | \u001b[36mlighthouse.data_loader.load_chuv\u001b[0m:\u001b[36mconcatenate_dt5\u001b[0m:\u001b[36m497\u001b[0m - \u001b[1mLoading /Volumes/__UP2/0_RAW_DATA/UP2_001/UP2001_2024_02_01_Rehabilitation_day39/wisci/2024_02_01_15_18_08 (rec3)/ABSD data/2024_02_01_15_20_10_02of04.dt5\u001b[0m\n",
            "\u001b[32m2024-10-18 09:17:40.982\u001b[0m | \u001b[1mINFO    \u001b[0m | \u001b[36mlighthouse.data_loader.load_chuv\u001b[0m:\u001b[36mconcatenate_dt5\u001b[0m:\u001b[36m497\u001b[0m - \u001b[1mLoading /Volumes/__UP2/0_RAW_DATA/UP2_001/UP2001_2024_02_01_Rehabilitation_day39/wisci/2024_02_01_15_18_08 (rec3)/ABSD data/2024_02_01_15_20_10_03of04.dt5\u001b[0m\n",
            "\u001b[32m2024-10-18 09:18:31.776\u001b[0m | \u001b[1mINFO    \u001b[0m | \u001b[36mlighthouse.data_loader.load_chuv\u001b[0m:\u001b[36mconcatenate_dt5\u001b[0m:\u001b[36m497\u001b[0m - \u001b[1mLoading /Volumes/__UP2/0_RAW_DATA/UP2_001/UP2001_2024_02_01_Rehabilitation_day39/wisci/2024_02_01_15_18_08 (rec3)/ABSD data/2024_02_01_15_20_10_04of04.dt5\u001b[0m\n"
          ]
        },
        {
          "name": "stdout",
          "output_type": "stream",
          "text": [
            "Signals shape: (56, 537313)\n",
            "New signal shape: (56, 177590)\n",
            "length of data: 125\n"
          ]
        },
        {
          "name": "stderr",
          "output_type": "stream",
          "text": [
            " 69%|██████▉   | 45/65 [9:10:23<8:06:41, 1460.09s/it]"
          ]
        },
        {
          "name": "stdout",
          "output_type": "stream",
          "text": [
            "Checkpoint saved after session 44\n",
            "Current session: (PosixPath('/Volumes/__UP2/0_RAW_DATA/UP2_001/UP2001_2024_02_02_Rehabilitation_day40'), 45)\n"
          ]
        },
        {
          "name": "stderr",
          "output_type": "stream",
          "text": [
            "\u001b[32m2024-10-18 09:19:11.583\u001b[0m | \u001b[1mINFO    \u001b[0m | \u001b[36mlighthouse.data_loader.load_chuv\u001b[0m:\u001b[36mconcatenate_dt5\u001b[0m:\u001b[36m497\u001b[0m - \u001b[1mLoading /Volumes/__UP2/0_RAW_DATA/UP2_001/UP2001_2024_02_02_Rehabilitation_day40/wisci/ABSD data 576/2024_02_02_15_23_59_01of01.dt5\u001b[0m\n",
            "\u001b[32m2024-10-18 09:19:31.454\u001b[0m | \u001b[1mINFO    \u001b[0m | \u001b[36mlighthouse.data_loader.load_chuv\u001b[0m:\u001b[36mload_dt5\u001b[0m:\u001b[36m196\u001b[0m - \u001b[1mScenario Name: classBCIViewerAvatarAllDegreesCourtine\u001b[0m\n",
            "\u001b[32m2024-10-18 09:19:31.474\u001b[0m | \u001b[1mINFO    \u001b[0m | \u001b[36mlighthouse.data_loader.load_chuv\u001b[0m:\u001b[36mload_dt5\u001b[0m:\u001b[36m199\u001b[0m - \u001b[1mSub Scenario Name: classBSISubScenarioNDstim\u001b[0m\n",
            "\u001b[32m2024-10-18 09:19:33.018\u001b[0m | \u001b[33m\u001b[1mWARNING \u001b[0m | \u001b[36mlighthouse.data_loader.load_chuv\u001b[0m:\u001b[36mload_dt5\u001b[0m:\u001b[36m388\u001b[0m - \u001b[33m\u001b[1mUnknown scenario!\u001b[0m\n"
          ]
        },
        {
          "name": "stdout",
          "output_type": "stream",
          "text": [
            "Signals shape: (77, 60534)\n",
            "New signal shape: (77, 0)\n"
          ]
        },
        {
          "name": "stderr",
          "output_type": "stream",
          "text": [
            "\u001b[32m2024-10-18 09:19:33.902\u001b[0m | \u001b[1mINFO    \u001b[0m | \u001b[36mlighthouse.data_loader.load_chuv\u001b[0m:\u001b[36mconcatenate_dt5\u001b[0m:\u001b[36m497\u001b[0m - \u001b[1mLoading /Volumes/__UP2/0_RAW_DATA/UP2_001/UP2001_2024_02_02_Rehabilitation_day40/wisci/2024_02_02_15_21_55/ABSD data/2024_02_02_15_29_10_01of05.dt5\u001b[0m\n",
            "\u001b[32m2024-10-18 09:21:21.640\u001b[0m | \u001b[1mINFO    \u001b[0m | \u001b[36mlighthouse.data_loader.load_chuv\u001b[0m:\u001b[36mload_dt5\u001b[0m:\u001b[36m196\u001b[0m - \u001b[1mScenario Name: classBCIViewerAvatarAllDegreesCourtine\u001b[0m\n",
            "\u001b[32m2024-10-18 09:21:21.644\u001b[0m | \u001b[1mINFO    \u001b[0m | \u001b[36mlighthouse.data_loader.load_chuv\u001b[0m:\u001b[36mload_dt5\u001b[0m:\u001b[36m199\u001b[0m - \u001b[1mSub Scenario Name: classBSISubScenarioNDstim\u001b[0m\n",
            "\u001b[32m2024-10-18 09:21:26.208\u001b[0m | \u001b[33m\u001b[1mWARNING \u001b[0m | \u001b[36mlighthouse.data_loader.load_chuv\u001b[0m:\u001b[36mload_dt5\u001b[0m:\u001b[36m388\u001b[0m - \u001b[33m\u001b[1mUnknown scenario!\u001b[0m\n",
            "\u001b[32m2024-10-18 09:21:26.747\u001b[0m | \u001b[1mINFO    \u001b[0m | \u001b[36mlighthouse.data_loader.load_chuv\u001b[0m:\u001b[36mconcatenate_dt5\u001b[0m:\u001b[36m497\u001b[0m - \u001b[1mLoading /Volumes/__UP2/0_RAW_DATA/UP2_001/UP2001_2024_02_02_Rehabilitation_day40/wisci/2024_02_02_15_21_55/ABSD data/2024_02_02_15_29_10_02of05.dt5\u001b[0m\n",
            "\u001b[32m2024-10-18 09:23:28.656\u001b[0m | \u001b[33m\u001b[1mWARNING \u001b[0m | \u001b[36mlighthouse.data_loader.load_chuv\u001b[0m:\u001b[36mload_dt5\u001b[0m:\u001b[36m388\u001b[0m - \u001b[33m\u001b[1mUnknown scenario!\u001b[0m\n",
            "\u001b[32m2024-10-18 09:23:29.195\u001b[0m | \u001b[1mINFO    \u001b[0m | \u001b[36mlighthouse.data_loader.load_chuv\u001b[0m:\u001b[36mconcatenate_dt5\u001b[0m:\u001b[36m497\u001b[0m - \u001b[1mLoading /Volumes/__UP2/0_RAW_DATA/UP2_001/UP2001_2024_02_02_Rehabilitation_day40/wisci/2024_02_02_15_21_55/ABSD data/2024_02_02_15_29_10_03of05.dt5\u001b[0m\n",
            "\u001b[32m2024-10-18 09:26:31.682\u001b[0m | \u001b[33m\u001b[1mWARNING \u001b[0m | \u001b[36mlighthouse.data_loader.load_chuv\u001b[0m:\u001b[36mload_dt5\u001b[0m:\u001b[36m388\u001b[0m - \u001b[33m\u001b[1mUnknown scenario!\u001b[0m\n",
            "\u001b[32m2024-10-18 09:26:32.314\u001b[0m | \u001b[1mINFO    \u001b[0m | \u001b[36mlighthouse.data_loader.load_chuv\u001b[0m:\u001b[36mconcatenate_dt5\u001b[0m:\u001b[36m497\u001b[0m - \u001b[1mLoading /Volumes/__UP2/0_RAW_DATA/UP2_001/UP2001_2024_02_02_Rehabilitation_day40/wisci/2024_02_02_15_21_55/ABSD data/2024_02_02_15_29_10_04of05.dt5\u001b[0m\n",
            "\u001b[32m2024-10-18 09:28:21.679\u001b[0m | \u001b[33m\u001b[1mWARNING \u001b[0m | \u001b[36mlighthouse.data_loader.load_chuv\u001b[0m:\u001b[36mload_dt5\u001b[0m:\u001b[36m388\u001b[0m - \u001b[33m\u001b[1mUnknown scenario!\u001b[0m\n",
            "\u001b[32m2024-10-18 09:28:22.220\u001b[0m | \u001b[1mINFO    \u001b[0m | \u001b[36mlighthouse.data_loader.load_chuv\u001b[0m:\u001b[36mconcatenate_dt5\u001b[0m:\u001b[36m497\u001b[0m - \u001b[1mLoading /Volumes/__UP2/0_RAW_DATA/UP2_001/UP2001_2024_02_02_Rehabilitation_day40/wisci/2024_02_02_15_21_55/ABSD data/2024_02_02_15_29_10_05of05.dt5\u001b[0m\n",
            "\u001b[32m2024-10-18 09:28:27.482\u001b[0m | \u001b[33m\u001b[1mWARNING \u001b[0m | \u001b[36mlighthouse.data_loader.load_chuv\u001b[0m:\u001b[36mload_dt5\u001b[0m:\u001b[36m388\u001b[0m - \u001b[33m\u001b[1mUnknown scenario!\u001b[0m\n"
          ]
        },
        {
          "name": "stdout",
          "output_type": "stream",
          "text": [
            "Signals shape: (77, 716673)\n",
            "New signal shape: (77, 314470)\n",
            "length of data: 127\n"
          ]
        },
        {
          "name": "stderr",
          "output_type": "stream",
          "text": [
            " 71%|███████   | 46/65 [9:20:20<6:20:24, 1201.28s/it]"
          ]
        },
        {
          "name": "stdout",
          "output_type": "stream",
          "text": [
            "Checkpoint saved after session 45\n",
            "Current session: (PosixPath('/Volumes/__UP2/0_RAW_DATA/UP2_001/UP2001_2024_02_05_Rehabilitation_day41'), 46)\n"
          ]
        },
        {
          "name": "stderr",
          "output_type": "stream",
          "text": [
            "\u001b[32m2024-10-18 09:29:09.408\u001b[0m | \u001b[1mINFO    \u001b[0m | \u001b[36mlighthouse.data_loader.load_chuv\u001b[0m:\u001b[36mconcatenate_dt5\u001b[0m:\u001b[36m497\u001b[0m - \u001b[1mLoading /Volumes/__UP2/0_RAW_DATA/UP2_001/UP2001_2024_02_05_Rehabilitation_day41/wisci/ABSD data/2024_02_05_13_10_10_01of01.dt5\u001b[0m\n",
            "\u001b[32m2024-10-18 09:29:18.657\u001b[0m | \u001b[1mINFO    \u001b[0m | \u001b[36mlighthouse.data_loader.load_chuv\u001b[0m:\u001b[36mload_dt5\u001b[0m:\u001b[36m196\u001b[0m - \u001b[1mScenario Name: classBCIViewerAvatarAllDegreesCourtine\u001b[0m\n",
            "\u001b[32m2024-10-18 09:29:18.669\u001b[0m | \u001b[1mINFO    \u001b[0m | \u001b[36mlighthouse.data_loader.load_chuv\u001b[0m:\u001b[36mload_dt5\u001b[0m:\u001b[36m199\u001b[0m - \u001b[1mSub Scenario Name: classBSISubScenarioNDstim\u001b[0m\n",
            "\u001b[32m2024-10-18 09:29:19.528\u001b[0m | \u001b[33m\u001b[1mWARNING \u001b[0m | \u001b[36mlighthouse.data_loader.load_chuv\u001b[0m:\u001b[36mload_dt5\u001b[0m:\u001b[36m388\u001b[0m - \u001b[33m\u001b[1mUnknown scenario!\u001b[0m\n"
          ]
        },
        {
          "name": "stdout",
          "output_type": "stream",
          "text": [
            "Signals shape: (68, 27848)\n",
            "New signal shape: (68, 0)\n"
          ]
        },
        {
          "name": "stderr",
          "output_type": "stream",
          "text": [
            "\u001b[32m2024-10-18 09:29:20.084\u001b[0m | \u001b[1mINFO    \u001b[0m | \u001b[36mlighthouse.data_loader.load_chuv\u001b[0m:\u001b[36mconcatenate_dt5\u001b[0m:\u001b[36m497\u001b[0m - \u001b[1mLoading /Volumes/__UP2/0_RAW_DATA/UP2_001/UP2001_2024_02_05_Rehabilitation_day41/wisci/ABSD data 576/2024_02_05_11_43_26_01of01.dt5\u001b[0m\n",
            "\u001b[32m2024-10-18 09:29:50.805\u001b[0m | \u001b[1mINFO    \u001b[0m | \u001b[36mlighthouse.data_loader.load_chuv\u001b[0m:\u001b[36mload_dt5\u001b[0m:\u001b[36m196\u001b[0m - \u001b[1mScenario Name: classBCIViewerAvatarAllDegreesCourtine\u001b[0m\n",
            "\u001b[32m2024-10-18 09:29:50.810\u001b[0m | \u001b[1mINFO    \u001b[0m | \u001b[36mlighthouse.data_loader.load_chuv\u001b[0m:\u001b[36mload_dt5\u001b[0m:\u001b[36m199\u001b[0m - \u001b[1mSub Scenario Name: classBSISubScenarioNDstim\u001b[0m\n",
            "\u001b[32m2024-10-18 09:29:52.483\u001b[0m | \u001b[33m\u001b[1mWARNING \u001b[0m | \u001b[36mlighthouse.data_loader.load_chuv\u001b[0m:\u001b[36mload_dt5\u001b[0m:\u001b[36m388\u001b[0m - \u001b[33m\u001b[1mUnknown scenario!\u001b[0m\n"
          ]
        },
        {
          "name": "stdout",
          "output_type": "stream",
          "text": [
            "Signals shape: (68, 76936)\n",
            "New signal shape: (68, 0)\n"
          ]
        },
        {
          "name": "stderr",
          "output_type": "stream",
          "text": [
            "\u001b[32m2024-10-18 09:29:53.229\u001b[0m | \u001b[1mINFO    \u001b[0m | \u001b[36mlighthouse.data_loader.load_chuv\u001b[0m:\u001b[36mconcatenate_dt5\u001b[0m:\u001b[36m497\u001b[0m - \u001b[1mLoading /Volumes/__UP2/0_RAW_DATA/UP2_001/UP2001_2024_02_05_Rehabilitation_day41/wisci/2024_02_05_13_14_33 (rec3)/ABSD data/2024_02_05_13_16_08_01of04.dt5\u001b[0m\n",
            "\u001b[32m2024-10-18 09:31:36.126\u001b[0m | \u001b[1mINFO    \u001b[0m | \u001b[36mlighthouse.data_loader.load_chuv\u001b[0m:\u001b[36mload_dt5\u001b[0m:\u001b[36m196\u001b[0m - \u001b[1mScenario Name: classBCIViewerAvatarAllDegreesCourtine\u001b[0m\n",
            "\u001b[32m2024-10-18 09:31:36.132\u001b[0m | \u001b[1mINFO    \u001b[0m | \u001b[36mlighthouse.data_loader.load_chuv\u001b[0m:\u001b[36mload_dt5\u001b[0m:\u001b[36m199\u001b[0m - \u001b[1mSub Scenario Name: classBSISubScenarioNDstim\u001b[0m\n",
            "\u001b[32m2024-10-18 09:31:40.861\u001b[0m | \u001b[33m\u001b[1mWARNING \u001b[0m | \u001b[36mlighthouse.data_loader.load_chuv\u001b[0m:\u001b[36mload_dt5\u001b[0m:\u001b[36m388\u001b[0m - \u001b[33m\u001b[1mUnknown scenario!\u001b[0m\n",
            "\u001b[32m2024-10-18 09:31:41.440\u001b[0m | \u001b[1mINFO    \u001b[0m | \u001b[36mlighthouse.data_loader.load_chuv\u001b[0m:\u001b[36mconcatenate_dt5\u001b[0m:\u001b[36m497\u001b[0m - \u001b[1mLoading /Volumes/__UP2/0_RAW_DATA/UP2_001/UP2001_2024_02_05_Rehabilitation_day41/wisci/2024_02_05_13_14_33 (rec3)/ABSD data/2024_02_05_13_16_08_02of04.dt5\u001b[0m\n",
            "\u001b[32m2024-10-18 09:34:15.701\u001b[0m | \u001b[33m\u001b[1mWARNING \u001b[0m | \u001b[36mlighthouse.data_loader.load_chuv\u001b[0m:\u001b[36mload_dt5\u001b[0m:\u001b[36m388\u001b[0m - \u001b[33m\u001b[1mUnknown scenario!\u001b[0m\n",
            "\u001b[32m2024-10-18 09:34:16.263\u001b[0m | \u001b[1mINFO    \u001b[0m | \u001b[36mlighthouse.data_loader.load_chuv\u001b[0m:\u001b[36mconcatenate_dt5\u001b[0m:\u001b[36m497\u001b[0m - \u001b[1mLoading /Volumes/__UP2/0_RAW_DATA/UP2_001/UP2001_2024_02_05_Rehabilitation_day41/wisci/2024_02_05_13_14_33 (rec3)/ABSD data/2024_02_05_13_16_08_03of04.dt5\u001b[0m\n",
            "\u001b[32m2024-10-18 09:35:48.422\u001b[0m | \u001b[33m\u001b[1mWARNING \u001b[0m | \u001b[36mlighthouse.data_loader.load_chuv\u001b[0m:\u001b[36mload_dt5\u001b[0m:\u001b[36m388\u001b[0m - \u001b[33m\u001b[1mUnknown scenario!\u001b[0m\n",
            "\u001b[32m2024-10-18 09:35:49.125\u001b[0m | \u001b[1mINFO    \u001b[0m | \u001b[36mlighthouse.data_loader.load_chuv\u001b[0m:\u001b[36mconcatenate_dt5\u001b[0m:\u001b[36m497\u001b[0m - \u001b[1mLoading /Volumes/__UP2/0_RAW_DATA/UP2_001/UP2001_2024_02_05_Rehabilitation_day41/wisci/2024_02_05_13_14_33 (rec3)/ABSD data/2024_02_05_13_16_08_04of04.dt5\u001b[0m\n",
            "\u001b[32m2024-10-18 09:37:01.260\u001b[0m | \u001b[33m\u001b[1mWARNING \u001b[0m | \u001b[36mlighthouse.data_loader.load_chuv\u001b[0m:\u001b[36mload_dt5\u001b[0m:\u001b[36m388\u001b[0m - \u001b[33m\u001b[1mUnknown scenario!\u001b[0m\n"
          ]
        },
        {
          "name": "stdout",
          "output_type": "stream",
          "text": [
            "Signals shape: (77, 701687)\n",
            "New signal shape: (77, 202488)\n"
          ]
        },
        {
          "name": "stderr",
          "output_type": "stream",
          "text": [
            "\u001b[32m2024-10-18 09:37:03.238\u001b[0m | \u001b[1mINFO    \u001b[0m | \u001b[36mlighthouse.data_loader.load_chuv\u001b[0m:\u001b[36mconcatenate_dt5\u001b[0m:\u001b[36m497\u001b[0m - \u001b[1mLoading /Volumes/__UP2/0_RAW_DATA/UP2_001/UP2001_2024_02_05_Rehabilitation_day41/wisci/2024_02_05_14_09_34 (rec5)/ABSD data/2024_02_05_14_13_49_01of12.dt5\u001b[0m\n",
            "\u001b[32m2024-10-18 09:38:28.249\u001b[0m | \u001b[1mINFO    \u001b[0m | \u001b[36mlighthouse.data_loader.load_chuv\u001b[0m:\u001b[36mload_dt5\u001b[0m:\u001b[36m196\u001b[0m - \u001b[1mScenario Name: classBCIViewerAvatarAllDegreesCourtine\u001b[0m\n",
            "\u001b[32m2024-10-18 09:38:28.254\u001b[0m | \u001b[1mINFO    \u001b[0m | \u001b[36mlighthouse.data_loader.load_chuv\u001b[0m:\u001b[36mload_dt5\u001b[0m:\u001b[36m199\u001b[0m - \u001b[1mSub Scenario Name: classBSISubScenarioNDstim\u001b[0m\n",
            "\u001b[32m2024-10-18 09:38:32.431\u001b[0m | \u001b[33m\u001b[1mWARNING \u001b[0m | \u001b[36mlighthouse.data_loader.load_chuv\u001b[0m:\u001b[36mload_dt5\u001b[0m:\u001b[36m388\u001b[0m - \u001b[33m\u001b[1mUnknown scenario!\u001b[0m\n",
            "\u001b[32m2024-10-18 09:38:33.046\u001b[0m | \u001b[1mINFO    \u001b[0m | \u001b[36mlighthouse.data_loader.load_chuv\u001b[0m:\u001b[36mconcatenate_dt5\u001b[0m:\u001b[36m497\u001b[0m - \u001b[1mLoading /Volumes/__UP2/0_RAW_DATA/UP2_001/UP2001_2024_02_05_Rehabilitation_day41/wisci/2024_02_05_14_09_34 (rec5)/ABSD data/2024_02_05_14_13_49_02of12.dt5\u001b[0m\n",
            "\u001b[32m2024-10-18 09:40:05.409\u001b[0m | \u001b[33m\u001b[1mWARNING \u001b[0m | \u001b[36mlighthouse.data_loader.load_chuv\u001b[0m:\u001b[36mload_dt5\u001b[0m:\u001b[36m388\u001b[0m - \u001b[33m\u001b[1mUnknown scenario!\u001b[0m\n",
            "\u001b[32m2024-10-18 09:40:05.982\u001b[0m | \u001b[1mINFO    \u001b[0m | \u001b[36mlighthouse.data_loader.load_chuv\u001b[0m:\u001b[36mconcatenate_dt5\u001b[0m:\u001b[36m497\u001b[0m - \u001b[1mLoading /Volumes/__UP2/0_RAW_DATA/UP2_001/UP2001_2024_02_05_Rehabilitation_day41/wisci/2024_02_05_14_09_34 (rec5)/ABSD data/2024_02_05_14_13_49_03of12.dt5\u001b[0m\n",
            "\u001b[32m2024-10-18 09:42:44.836\u001b[0m | \u001b[33m\u001b[1mWARNING \u001b[0m | \u001b[36mlighthouse.data_loader.load_chuv\u001b[0m:\u001b[36mload_dt5\u001b[0m:\u001b[36m388\u001b[0m - \u001b[33m\u001b[1mUnknown scenario!\u001b[0m\n",
            "\u001b[32m2024-10-18 09:42:45.344\u001b[0m | \u001b[1mINFO    \u001b[0m | \u001b[36mlighthouse.data_loader.load_chuv\u001b[0m:\u001b[36mconcatenate_dt5\u001b[0m:\u001b[36m497\u001b[0m - \u001b[1mLoading /Volumes/__UP2/0_RAW_DATA/UP2_001/UP2001_2024_02_05_Rehabilitation_day41/wisci/2024_02_05_14_09_34 (rec5)/ABSD data/2024_02_05_14_13_49_04of12.dt5\u001b[0m\n",
            "\u001b[32m2024-10-18 09:45:12.901\u001b[0m | \u001b[33m\u001b[1mWARNING \u001b[0m | \u001b[36mlighthouse.data_loader.load_chuv\u001b[0m:\u001b[36mload_dt5\u001b[0m:\u001b[36m388\u001b[0m - \u001b[33m\u001b[1mUnknown scenario!\u001b[0m\n",
            "\u001b[32m2024-10-18 09:45:13.512\u001b[0m | \u001b[1mINFO    \u001b[0m | \u001b[36mlighthouse.data_loader.load_chuv\u001b[0m:\u001b[36mconcatenate_dt5\u001b[0m:\u001b[36m497\u001b[0m - \u001b[1mLoading /Volumes/__UP2/0_RAW_DATA/UP2_001/UP2001_2024_02_05_Rehabilitation_day41/wisci/2024_02_05_14_09_34 (rec5)/ABSD data/2024_02_05_14_13_49_05of12.dt5\u001b[0m\n",
            "\u001b[32m2024-10-18 09:46:49.935\u001b[0m | \u001b[33m\u001b[1mWARNING \u001b[0m | \u001b[36mlighthouse.data_loader.load_chuv\u001b[0m:\u001b[36mload_dt5\u001b[0m:\u001b[36m388\u001b[0m - \u001b[33m\u001b[1mUnknown scenario!\u001b[0m\n",
            "\u001b[32m2024-10-18 09:46:50.498\u001b[0m | \u001b[1mINFO    \u001b[0m | \u001b[36mlighthouse.data_loader.load_chuv\u001b[0m:\u001b[36mconcatenate_dt5\u001b[0m:\u001b[36m497\u001b[0m - \u001b[1mLoading /Volumes/__UP2/0_RAW_DATA/UP2_001/UP2001_2024_02_05_Rehabilitation_day41/wisci/2024_02_05_14_09_34 (rec5)/ABSD data/2024_02_05_14_13_49_06of12.dt5\u001b[0m\n",
            "\u001b[32m2024-10-18 09:48:01.064\u001b[0m | \u001b[33m\u001b[1mWARNING \u001b[0m | \u001b[36mlighthouse.data_loader.load_chuv\u001b[0m:\u001b[36mload_dt5\u001b[0m:\u001b[36m388\u001b[0m - \u001b[33m\u001b[1mUnknown scenario!\u001b[0m\n",
            "\u001b[32m2024-10-18 09:48:01.710\u001b[0m | \u001b[1mINFO    \u001b[0m | \u001b[36mlighthouse.data_loader.load_chuv\u001b[0m:\u001b[36mconcatenate_dt5\u001b[0m:\u001b[36m497\u001b[0m - \u001b[1mLoading /Volumes/__UP2/0_RAW_DATA/UP2_001/UP2001_2024_02_05_Rehabilitation_day41/wisci/2024_02_05_14_09_34 (rec5)/ABSD data/2024_02_05_14_13_49_07of12.dt5\u001b[0m\n",
            "\u001b[32m2024-10-18 09:49:59.978\u001b[0m | \u001b[33m\u001b[1mWARNING \u001b[0m | \u001b[36mlighthouse.data_loader.load_chuv\u001b[0m:\u001b[36mload_dt5\u001b[0m:\u001b[36m388\u001b[0m - \u001b[33m\u001b[1mUnknown scenario!\u001b[0m\n",
            "\u001b[32m2024-10-18 09:50:00.466\u001b[0m | \u001b[1mINFO    \u001b[0m | \u001b[36mlighthouse.data_loader.load_chuv\u001b[0m:\u001b[36mconcatenate_dt5\u001b[0m:\u001b[36m497\u001b[0m - \u001b[1mLoading /Volumes/__UP2/0_RAW_DATA/UP2_001/UP2001_2024_02_05_Rehabilitation_day41/wisci/2024_02_05_14_09_34 (rec5)/ABSD data/2024_02_05_14_13_49_08of12.dt5\u001b[0m\n",
            "\u001b[32m2024-10-18 09:52:19.794\u001b[0m | \u001b[33m\u001b[1mWARNING \u001b[0m | \u001b[36mlighthouse.data_loader.load_chuv\u001b[0m:\u001b[36mload_dt5\u001b[0m:\u001b[36m388\u001b[0m - \u001b[33m\u001b[1mUnknown scenario!\u001b[0m\n",
            "\u001b[32m2024-10-18 09:52:20.338\u001b[0m | \u001b[1mINFO    \u001b[0m | \u001b[36mlighthouse.data_loader.load_chuv\u001b[0m:\u001b[36mconcatenate_dt5\u001b[0m:\u001b[36m497\u001b[0m - \u001b[1mLoading /Volumes/__UP2/0_RAW_DATA/UP2_001/UP2001_2024_02_05_Rehabilitation_day41/wisci/2024_02_05_14_09_34 (rec5)/ABSD data/2024_02_05_14_13_49_09of12.dt5\u001b[0m\n",
            "\u001b[32m2024-10-18 09:54:10.340\u001b[0m | \u001b[33m\u001b[1mWARNING \u001b[0m | \u001b[36mlighthouse.data_loader.load_chuv\u001b[0m:\u001b[36mload_dt5\u001b[0m:\u001b[36m388\u001b[0m - \u001b[33m\u001b[1mUnknown scenario!\u001b[0m\n",
            "\u001b[32m2024-10-18 09:54:10.957\u001b[0m | \u001b[1mINFO    \u001b[0m | \u001b[36mlighthouse.data_loader.load_chuv\u001b[0m:\u001b[36mconcatenate_dt5\u001b[0m:\u001b[36m497\u001b[0m - \u001b[1mLoading /Volumes/__UP2/0_RAW_DATA/UP2_001/UP2001_2024_02_05_Rehabilitation_day41/wisci/2024_02_05_14_09_34 (rec5)/ABSD data/2024_02_05_14_13_49_10of12.dt5\u001b[0m\n",
            "\u001b[32m2024-10-18 09:56:00.788\u001b[0m | \u001b[33m\u001b[1mWARNING \u001b[0m | \u001b[36mlighthouse.data_loader.load_chuv\u001b[0m:\u001b[36mload_dt5\u001b[0m:\u001b[36m388\u001b[0m - \u001b[33m\u001b[1mUnknown scenario!\u001b[0m\n",
            "\u001b[32m2024-10-18 09:56:01.298\u001b[0m | \u001b[1mINFO    \u001b[0m | \u001b[36mlighthouse.data_loader.load_chuv\u001b[0m:\u001b[36mconcatenate_dt5\u001b[0m:\u001b[36m497\u001b[0m - \u001b[1mLoading /Volumes/__UP2/0_RAW_DATA/UP2_001/UP2001_2024_02_05_Rehabilitation_day41/wisci/2024_02_05_14_09_34 (rec5)/ABSD data/2024_02_05_14_13_49_11of12.dt5\u001b[0m\n",
            "\u001b[32m2024-10-18 09:57:58.713\u001b[0m | \u001b[33m\u001b[1mWARNING \u001b[0m | \u001b[36mlighthouse.data_loader.load_chuv\u001b[0m:\u001b[36mload_dt5\u001b[0m:\u001b[36m388\u001b[0m - \u001b[33m\u001b[1mUnknown scenario!\u001b[0m\n",
            "\u001b[32m2024-10-18 09:57:59.320\u001b[0m | \u001b[1mINFO    \u001b[0m | \u001b[36mlighthouse.data_loader.load_chuv\u001b[0m:\u001b[36mconcatenate_dt5\u001b[0m:\u001b[36m497\u001b[0m - \u001b[1mLoading /Volumes/__UP2/0_RAW_DATA/UP2_001/UP2001_2024_02_05_Rehabilitation_day41/wisci/2024_02_05_14_09_34 (rec5)/ABSD data/2024_02_05_14_13_49_12of12.dt5\u001b[0m\n",
            "\u001b[32m2024-10-18 09:59:22.854\u001b[0m | \u001b[33m\u001b[1mWARNING \u001b[0m | \u001b[36mlighthouse.data_loader.load_chuv\u001b[0m:\u001b[36mload_dt5\u001b[0m:\u001b[36m388\u001b[0m - \u001b[33m\u001b[1mUnknown scenario!\u001b[0m\n"
          ]
        },
        {
          "name": "stdout",
          "output_type": "stream",
          "text": [
            "Signals shape: (77, 2082405)\n",
            "New signal shape: (77, 355180)\n"
          ]
        },
        {
          "name": "stderr",
          "output_type": "stream",
          "text": [
            "\u001b[32m2024-10-18 09:59:26.081\u001b[0m | \u001b[1mINFO    \u001b[0m | \u001b[36mlighthouse.data_loader.load_chuv\u001b[0m:\u001b[36mconcatenate_dt5\u001b[0m:\u001b[36m497\u001b[0m - \u001b[1mLoading /Volumes/__UP2/0_RAW_DATA/UP2_001/UP2001_2024_02_05_Rehabilitation_day41/wisci/2024_02_05_15_15_10 (rec6)/ABSD data/2024_02_05_15_18_28_01of01.dt5\u001b[0m\n",
            "\u001b[32m2024-10-18 09:59:27.383\u001b[0m | \u001b[1mINFO    \u001b[0m | \u001b[36mlighthouse.data_loader.load_chuv\u001b[0m:\u001b[36mload_dt5\u001b[0m:\u001b[36m196\u001b[0m - \u001b[1mScenario Name: classBCIViewerAvatarAllDegreesCourtine\u001b[0m\n",
            "\u001b[32m2024-10-18 09:59:27.387\u001b[0m | \u001b[1mINFO    \u001b[0m | \u001b[36mlighthouse.data_loader.load_chuv\u001b[0m:\u001b[36mload_dt5\u001b[0m:\u001b[36m199\u001b[0m - \u001b[1mSub Scenario Name: classBSISubScenarioUpperJointsClassif\u001b[0m\n"
          ]
        },
        {
          "name": "stdout",
          "output_type": "stream",
          "text": [
            "Signals shape: (56, 3245)\n",
            "New signal shape: (56, 0)\n"
          ]
        },
        {
          "name": "stderr",
          "output_type": "stream",
          "text": [
            "\u001b[32m2024-10-18 09:59:28.129\u001b[0m | \u001b[1mINFO    \u001b[0m | \u001b[36mlighthouse.data_loader.load_chuv\u001b[0m:\u001b[36mconcatenate_dt5\u001b[0m:\u001b[36m497\u001b[0m - \u001b[1mLoading /Volumes/__UP2/0_RAW_DATA/UP2_001/UP2001_2024_02_05_Rehabilitation_day41/wisci/2024_02_05_15_18_45 (rec8)/ABSD data/2024_02_05_15_20_23_01of05.dt5\u001b[0m\n",
            "\u001b[32m2024-10-18 10:00:37.400\u001b[0m | \u001b[1mINFO    \u001b[0m | \u001b[36mlighthouse.data_loader.load_chuv\u001b[0m:\u001b[36mload_dt5\u001b[0m:\u001b[36m196\u001b[0m - \u001b[1mScenario Name: classBCIViewerAvatarAllDegreesCourtine\u001b[0m\n",
            "\u001b[32m2024-10-18 10:00:37.404\u001b[0m | \u001b[1mINFO    \u001b[0m | \u001b[36mlighthouse.data_loader.load_chuv\u001b[0m:\u001b[36mload_dt5\u001b[0m:\u001b[36m199\u001b[0m - \u001b[1mSub Scenario Name: classBSISubScenarioUpperJointsClassif\u001b[0m\n",
            "\u001b[32m2024-10-18 10:00:41.764\u001b[0m | \u001b[1mINFO    \u001b[0m | \u001b[36mlighthouse.data_loader.load_chuv\u001b[0m:\u001b[36mconcatenate_dt5\u001b[0m:\u001b[36m497\u001b[0m - \u001b[1mLoading /Volumes/__UP2/0_RAW_DATA/UP2_001/UP2001_2024_02_05_Rehabilitation_day41/wisci/2024_02_05_15_18_45 (rec8)/ABSD data/2024_02_05_15_20_23_02of05.dt5\u001b[0m\n",
            "\u001b[32m2024-10-18 10:01:46.615\u001b[0m | \u001b[1mINFO    \u001b[0m | \u001b[36mlighthouse.data_loader.load_chuv\u001b[0m:\u001b[36mconcatenate_dt5\u001b[0m:\u001b[36m497\u001b[0m - \u001b[1mLoading /Volumes/__UP2/0_RAW_DATA/UP2_001/UP2001_2024_02_05_Rehabilitation_day41/wisci/2024_02_05_15_18_45 (rec8)/ABSD data/2024_02_05_15_20_23_03of05.dt5\u001b[0m\n",
            "\u001b[32m2024-10-18 10:03:10.226\u001b[0m | \u001b[1mINFO    \u001b[0m | \u001b[36mlighthouse.data_loader.load_chuv\u001b[0m:\u001b[36mconcatenate_dt5\u001b[0m:\u001b[36m497\u001b[0m - \u001b[1mLoading /Volumes/__UP2/0_RAW_DATA/UP2_001/UP2001_2024_02_05_Rehabilitation_day41/wisci/2024_02_05_15_18_45 (rec8)/ABSD data/2024_02_05_15_20_23_04of05.dt5\u001b[0m\n",
            "\u001b[32m2024-10-18 10:04:38.893\u001b[0m | \u001b[1mINFO    \u001b[0m | \u001b[36mlighthouse.data_loader.load_chuv\u001b[0m:\u001b[36mconcatenate_dt5\u001b[0m:\u001b[36m497\u001b[0m - \u001b[1mLoading /Volumes/__UP2/0_RAW_DATA/UP2_001/UP2001_2024_02_05_Rehabilitation_day41/wisci/2024_02_05_15_18_45 (rec8)/ABSD data/2024_02_05_15_20_23_05of05.dt5\u001b[0m\n"
          ]
        },
        {
          "name": "stdout",
          "output_type": "stream",
          "text": [
            "Signals shape: (56, 775673)\n",
            "New signal shape: (56, 33158)\n",
            "length of data: 133\n"
          ]
        },
        {
          "name": "stderr",
          "output_type": "stream",
          "text": [
            " 72%|███████▏  | 47/65 [9:57:07<7:30:52, 1502.92s/it]"
          ]
        },
        {
          "name": "stdout",
          "output_type": "stream",
          "text": [
            "Checkpoint saved after session 46\n",
            "Current session: (PosixPath('/Volumes/__UP2/0_RAW_DATA/UP2_001/UP2001_2024_02_06_Rehabilitation_day42'), 47)\n"
          ]
        },
        {
          "name": "stderr",
          "output_type": "stream",
          "text": [
            "\u001b[32m2024-10-18 10:05:53.619\u001b[0m | \u001b[1mINFO    \u001b[0m | \u001b[36mlighthouse.data_loader.load_chuv\u001b[0m:\u001b[36mconcatenate_dt5\u001b[0m:\u001b[36m497\u001b[0m - \u001b[1mLoading /Volumes/__UP2/0_RAW_DATA/UP2_001/UP2001_2024_02_06_Rehabilitation_day42/wisci/ABSD data/2024_02_06_17_27_06_01of01.dt5\u001b[0m\n",
            "\u001b[32m2024-10-18 10:06:43.051\u001b[0m | \u001b[1mINFO    \u001b[0m | \u001b[36mlighthouse.data_loader.load_chuv\u001b[0m:\u001b[36mload_dt5\u001b[0m:\u001b[36m196\u001b[0m - \u001b[1mScenario Name: classBCIViewerAvatarAllDegreesCourtine\u001b[0m\n",
            "\u001b[32m2024-10-18 10:06:43.058\u001b[0m | \u001b[1mINFO    \u001b[0m | \u001b[36mlighthouse.data_loader.load_chuv\u001b[0m:\u001b[36mload_dt5\u001b[0m:\u001b[36m199\u001b[0m - \u001b[1mSub Scenario Name: classBSISubScenarioUpperJointsClassif\u001b[0m\n"
          ]
        },
        {
          "name": "stdout",
          "output_type": "stream",
          "text": [
            "Signals shape: (79, 129800)\n",
            "New signal shape: (79, 0)\n"
          ]
        },
        {
          "name": "stderr",
          "output_type": "stream",
          "text": [
            "\u001b[32m2024-10-18 10:06:47.451\u001b[0m | \u001b[1mINFO    \u001b[0m | \u001b[36mlighthouse.data_loader.load_chuv\u001b[0m:\u001b[36mconcatenate_dt5\u001b[0m:\u001b[36m497\u001b[0m - \u001b[1mLoading /Volumes/__UP2/0_RAW_DATA/UP2_001/UP2001_2024_02_06_Rehabilitation_day42/wisci/2024_02_06_14_00_23 (rec1)/ABSD data/2024_02_06_14_02_52_01of08.dt5\u001b[0m\n",
            "\u001b[32m2024-10-18 10:08:06.197\u001b[0m | \u001b[1mINFO    \u001b[0m | \u001b[36mlighthouse.data_loader.load_chuv\u001b[0m:\u001b[36mload_dt5\u001b[0m:\u001b[36m196\u001b[0m - \u001b[1mScenario Name: classBCIViewerAvatarAllDegreesCourtine\u001b[0m\n",
            "\u001b[32m2024-10-18 10:08:06.202\u001b[0m | \u001b[1mINFO    \u001b[0m | \u001b[36mlighthouse.data_loader.load_chuv\u001b[0m:\u001b[36mload_dt5\u001b[0m:\u001b[36m199\u001b[0m - \u001b[1mSub Scenario Name: classBSISubScenarioNDstim\u001b[0m\n",
            "\u001b[32m2024-10-18 10:08:10.715\u001b[0m | \u001b[33m\u001b[1mWARNING \u001b[0m | \u001b[36mlighthouse.data_loader.load_chuv\u001b[0m:\u001b[36mload_dt5\u001b[0m:\u001b[36m388\u001b[0m - \u001b[33m\u001b[1mUnknown scenario!\u001b[0m\n",
            "\u001b[32m2024-10-18 10:08:11.254\u001b[0m | \u001b[1mINFO    \u001b[0m | \u001b[36mlighthouse.data_loader.load_chuv\u001b[0m:\u001b[36mconcatenate_dt5\u001b[0m:\u001b[36m497\u001b[0m - \u001b[1mLoading /Volumes/__UP2/0_RAW_DATA/UP2_001/UP2001_2024_02_06_Rehabilitation_day42/wisci/2024_02_06_14_00_23 (rec1)/ABSD data/2024_02_06_14_02_52_02of08.dt5\u001b[0m\n",
            "\u001b[32m2024-10-18 10:10:00.609\u001b[0m | \u001b[33m\u001b[1mWARNING \u001b[0m | \u001b[36mlighthouse.data_loader.load_chuv\u001b[0m:\u001b[36mload_dt5\u001b[0m:\u001b[36m388\u001b[0m - \u001b[33m\u001b[1mUnknown scenario!\u001b[0m\n",
            "\u001b[32m2024-10-18 10:10:01.235\u001b[0m | \u001b[1mINFO    \u001b[0m | \u001b[36mlighthouse.data_loader.load_chuv\u001b[0m:\u001b[36mconcatenate_dt5\u001b[0m:\u001b[36m497\u001b[0m - \u001b[1mLoading /Volumes/__UP2/0_RAW_DATA/UP2_001/UP2001_2024_02_06_Rehabilitation_day42/wisci/2024_02_06_14_00_23 (rec1)/ABSD data/2024_02_06_14_02_52_03of08.dt5\u001b[0m\n",
            "\u001b[32m2024-10-18 10:11:37.971\u001b[0m | \u001b[33m\u001b[1mWARNING \u001b[0m | \u001b[36mlighthouse.data_loader.load_chuv\u001b[0m:\u001b[36mload_dt5\u001b[0m:\u001b[36m388\u001b[0m - \u001b[33m\u001b[1mUnknown scenario!\u001b[0m\n",
            "\u001b[32m2024-10-18 10:11:38.429\u001b[0m | \u001b[1mINFO    \u001b[0m | \u001b[36mlighthouse.data_loader.load_chuv\u001b[0m:\u001b[36mconcatenate_dt5\u001b[0m:\u001b[36m497\u001b[0m - \u001b[1mLoading /Volumes/__UP2/0_RAW_DATA/UP2_001/UP2001_2024_02_06_Rehabilitation_day42/wisci/2024_02_06_14_00_23 (rec1)/ABSD data/2024_02_06_14_02_52_04of08.dt5\u001b[0m\n",
            "\u001b[32m2024-10-18 10:14:02.063\u001b[0m | \u001b[33m\u001b[1mWARNING \u001b[0m | \u001b[36mlighthouse.data_loader.load_chuv\u001b[0m:\u001b[36mload_dt5\u001b[0m:\u001b[36m388\u001b[0m - \u001b[33m\u001b[1mUnknown scenario!\u001b[0m\n",
            "\u001b[32m2024-10-18 10:14:02.543\u001b[0m | \u001b[1mINFO    \u001b[0m | \u001b[36mlighthouse.data_loader.load_chuv\u001b[0m:\u001b[36mconcatenate_dt5\u001b[0m:\u001b[36m497\u001b[0m - \u001b[1mLoading /Volumes/__UP2/0_RAW_DATA/UP2_001/UP2001_2024_02_06_Rehabilitation_day42/wisci/2024_02_06_14_00_23 (rec1)/ABSD data/2024_02_06_14_02_52_05of08.dt5\u001b[0m\n",
            "\u001b[32m2024-10-18 10:16:00.659\u001b[0m | \u001b[33m\u001b[1mWARNING \u001b[0m | \u001b[36mlighthouse.data_loader.load_chuv\u001b[0m:\u001b[36mload_dt5\u001b[0m:\u001b[36m388\u001b[0m - \u001b[33m\u001b[1mUnknown scenario!\u001b[0m\n",
            "\u001b[32m2024-10-18 10:16:01.184\u001b[0m | \u001b[1mINFO    \u001b[0m | \u001b[36mlighthouse.data_loader.load_chuv\u001b[0m:\u001b[36mconcatenate_dt5\u001b[0m:\u001b[36m497\u001b[0m - \u001b[1mLoading /Volumes/__UP2/0_RAW_DATA/UP2_001/UP2001_2024_02_06_Rehabilitation_day42/wisci/2024_02_06_14_00_23 (rec1)/ABSD data/2024_02_06_14_02_52_06of08.dt5\u001b[0m\n",
            "\u001b[32m2024-10-18 10:17:20.552\u001b[0m | \u001b[33m\u001b[1mWARNING \u001b[0m | \u001b[36mlighthouse.data_loader.load_chuv\u001b[0m:\u001b[36mload_dt5\u001b[0m:\u001b[36m388\u001b[0m - \u001b[33m\u001b[1mUnknown scenario!\u001b[0m\n",
            "\u001b[32m2024-10-18 10:17:21.110\u001b[0m | \u001b[1mINFO    \u001b[0m | \u001b[36mlighthouse.data_loader.load_chuv\u001b[0m:\u001b[36mconcatenate_dt5\u001b[0m:\u001b[36m497\u001b[0m - \u001b[1mLoading /Volumes/__UP2/0_RAW_DATA/UP2_001/UP2001_2024_02_06_Rehabilitation_day42/wisci/2024_02_06_14_00_23 (rec1)/ABSD data/2024_02_06_14_02_52_07of08.dt5\u001b[0m\n",
            "\u001b[32m2024-10-18 10:18:24.037\u001b[0m | \u001b[33m\u001b[1mWARNING \u001b[0m | \u001b[36mlighthouse.data_loader.load_chuv\u001b[0m:\u001b[36mload_dt5\u001b[0m:\u001b[36m388\u001b[0m - \u001b[33m\u001b[1mUnknown scenario!\u001b[0m\n",
            "\u001b[32m2024-10-18 10:18:24.593\u001b[0m | \u001b[1mINFO    \u001b[0m | \u001b[36mlighthouse.data_loader.load_chuv\u001b[0m:\u001b[36mconcatenate_dt5\u001b[0m:\u001b[36m497\u001b[0m - \u001b[1mLoading /Volumes/__UP2/0_RAW_DATA/UP2_001/UP2001_2024_02_06_Rehabilitation_day42/wisci/2024_02_06_14_00_23 (rec1)/ABSD data/2024_02_06_14_02_52_08of08.dt5\u001b[0m\n",
            "\u001b[32m2024-10-18 10:19:19.754\u001b[0m | \u001b[33m\u001b[1mWARNING \u001b[0m | \u001b[36mlighthouse.data_loader.load_chuv\u001b[0m:\u001b[36mload_dt5\u001b[0m:\u001b[36m388\u001b[0m - \u001b[33m\u001b[1mUnknown scenario!\u001b[0m\n"
          ]
        },
        {
          "name": "stdout",
          "output_type": "stream",
          "text": [
            "Signals shape: (77, 1382901)\n",
            "New signal shape: (77, 402616)\n"
          ]
        },
        {
          "name": "stderr",
          "output_type": "stream",
          "text": [
            "\u001b[32m2024-10-18 10:19:23.016\u001b[0m | \u001b[1mINFO    \u001b[0m | \u001b[36mlighthouse.data_loader.load_chuv\u001b[0m:\u001b[36mconcatenate_dt5\u001b[0m:\u001b[36m497\u001b[0m - \u001b[1mLoading /Volumes/__UP2/0_RAW_DATA/UP2_001/UP2001_2024_02_06_Rehabilitation_day42/wisci/2024_02_06_14_43_44 (rec2)/ABSD data/2024_02_06_14_45_49_01of01.dt5\u001b[0m\n",
            "\u001b[32m2024-10-18 10:19:45.068\u001b[0m | \u001b[1mINFO    \u001b[0m | \u001b[36mlighthouse.data_loader.load_chuv\u001b[0m:\u001b[36mload_dt5\u001b[0m:\u001b[36m196\u001b[0m - \u001b[1mScenario Name: classBCIViewerAvatarAllDegreesCourtine\u001b[0m\n",
            "\u001b[32m2024-10-18 10:19:45.073\u001b[0m | \u001b[1mINFO    \u001b[0m | \u001b[36mlighthouse.data_loader.load_chuv\u001b[0m:\u001b[36mload_dt5\u001b[0m:\u001b[36m199\u001b[0m - \u001b[1mSub Scenario Name: classBSISubScenarioNDstim\u001b[0m\n",
            "\u001b[32m2024-10-18 10:19:46.413\u001b[0m | \u001b[33m\u001b[1mWARNING \u001b[0m | \u001b[36mlighthouse.data_loader.load_chuv\u001b[0m:\u001b[36mload_dt5\u001b[0m:\u001b[36m388\u001b[0m - \u001b[33m\u001b[1mUnknown scenario!\u001b[0m\n"
          ]
        },
        {
          "name": "stdout",
          "output_type": "stream",
          "text": [
            "Signals shape: (77, 65667)\n",
            "New signal shape: (77, 9204)\n"
          ]
        },
        {
          "name": "stderr",
          "output_type": "stream",
          "text": [
            "\u001b[32m2024-10-18 10:19:47.158\u001b[0m | \u001b[1mINFO    \u001b[0m | \u001b[36mlighthouse.data_loader.load_chuv\u001b[0m:\u001b[36mconcatenate_dt5\u001b[0m:\u001b[36m497\u001b[0m - \u001b[1mLoading /Volumes/__UP2/0_RAW_DATA/UP2_001/UP2001_2024_02_06_Rehabilitation_day42/wisci/2024_02_06_14_49_04 (rec3)/ABSD data/2024_02_06_14_50_51_01of10.dt5\u001b[0m\n",
            "\u001b[32m2024-10-18 10:20:44.159\u001b[0m | \u001b[1mINFO    \u001b[0m | \u001b[36mlighthouse.data_loader.load_chuv\u001b[0m:\u001b[36mload_dt5\u001b[0m:\u001b[36m196\u001b[0m - \u001b[1mScenario Name: classBCIViewerAvatarAllDegreesCourtine\u001b[0m\n",
            "\u001b[32m2024-10-18 10:20:44.163\u001b[0m | \u001b[1mINFO    \u001b[0m | \u001b[36mlighthouse.data_loader.load_chuv\u001b[0m:\u001b[36mload_dt5\u001b[0m:\u001b[36m199\u001b[0m - \u001b[1mSub Scenario Name: classBSISubScenarioNDstim\u001b[0m\n",
            "\u001b[32m2024-10-18 10:20:48.152\u001b[0m | \u001b[33m\u001b[1mWARNING \u001b[0m | \u001b[36mlighthouse.data_loader.load_chuv\u001b[0m:\u001b[36mload_dt5\u001b[0m:\u001b[36m388\u001b[0m - \u001b[33m\u001b[1mUnknown scenario!\u001b[0m\n",
            "\u001b[32m2024-10-18 10:20:48.708\u001b[0m | \u001b[1mINFO    \u001b[0m | \u001b[36mlighthouse.data_loader.load_chuv\u001b[0m:\u001b[36mconcatenate_dt5\u001b[0m:\u001b[36m497\u001b[0m - \u001b[1mLoading /Volumes/__UP2/0_RAW_DATA/UP2_001/UP2001_2024_02_06_Rehabilitation_day42/wisci/2024_02_06_14_49_04 (rec3)/ABSD data/2024_02_06_14_50_51_02of10.dt5\u001b[0m\n",
            "\u001b[32m2024-10-18 10:21:48.687\u001b[0m | \u001b[33m\u001b[1mWARNING \u001b[0m | \u001b[36mlighthouse.data_loader.load_chuv\u001b[0m:\u001b[36mload_dt5\u001b[0m:\u001b[36m388\u001b[0m - \u001b[33m\u001b[1mUnknown scenario!\u001b[0m\n",
            "\u001b[32m2024-10-18 10:21:49.154\u001b[0m | \u001b[1mINFO    \u001b[0m | \u001b[36mlighthouse.data_loader.load_chuv\u001b[0m:\u001b[36mconcatenate_dt5\u001b[0m:\u001b[36m497\u001b[0m - \u001b[1mLoading /Volumes/__UP2/0_RAW_DATA/UP2_001/UP2001_2024_02_06_Rehabilitation_day42/wisci/2024_02_06_14_49_04 (rec3)/ABSD data/2024_02_06_14_50_51_03of10.dt5\u001b[0m\n",
            "\u001b[32m2024-10-18 10:23:02.634\u001b[0m | \u001b[33m\u001b[1mWARNING \u001b[0m | \u001b[36mlighthouse.data_loader.load_chuv\u001b[0m:\u001b[36mload_dt5\u001b[0m:\u001b[36m388\u001b[0m - \u001b[33m\u001b[1mUnknown scenario!\u001b[0m\n",
            "\u001b[32m2024-10-18 10:23:03.117\u001b[0m | \u001b[1mINFO    \u001b[0m | \u001b[36mlighthouse.data_loader.load_chuv\u001b[0m:\u001b[36mconcatenate_dt5\u001b[0m:\u001b[36m497\u001b[0m - \u001b[1mLoading /Volumes/__UP2/0_RAW_DATA/UP2_001/UP2001_2024_02_06_Rehabilitation_day42/wisci/2024_02_06_14_49_04 (rec3)/ABSD data/2024_02_06_14_50_51_04of10.dt5\u001b[0m\n",
            "\u001b[32m2024-10-18 10:24:03.087\u001b[0m | \u001b[33m\u001b[1mWARNING \u001b[0m | \u001b[36mlighthouse.data_loader.load_chuv\u001b[0m:\u001b[36mload_dt5\u001b[0m:\u001b[36m388\u001b[0m - \u001b[33m\u001b[1mUnknown scenario!\u001b[0m\n",
            "\u001b[32m2024-10-18 10:24:03.645\u001b[0m | \u001b[1mINFO    \u001b[0m | \u001b[36mlighthouse.data_loader.load_chuv\u001b[0m:\u001b[36mconcatenate_dt5\u001b[0m:\u001b[36m497\u001b[0m - \u001b[1mLoading /Volumes/__UP2/0_RAW_DATA/UP2_001/UP2001_2024_02_06_Rehabilitation_day42/wisci/2024_02_06_14_49_04 (rec3)/ABSD data/2024_02_06_14_50_51_05of10.dt5\u001b[0m\n",
            "\u001b[32m2024-10-18 10:25:04.194\u001b[0m | \u001b[33m\u001b[1mWARNING \u001b[0m | \u001b[36mlighthouse.data_loader.load_chuv\u001b[0m:\u001b[36mload_dt5\u001b[0m:\u001b[36m388\u001b[0m - \u001b[33m\u001b[1mUnknown scenario!\u001b[0m\n",
            "\u001b[32m2024-10-18 10:25:04.730\u001b[0m | \u001b[1mINFO    \u001b[0m | \u001b[36mlighthouse.data_loader.load_chuv\u001b[0m:\u001b[36mconcatenate_dt5\u001b[0m:\u001b[36m497\u001b[0m - \u001b[1mLoading /Volumes/__UP2/0_RAW_DATA/UP2_001/UP2001_2024_02_06_Rehabilitation_day42/wisci/2024_02_06_14_49_04 (rec3)/ABSD data/2024_02_06_14_50_51_06of10.dt5\u001b[0m\n",
            "\u001b[32m2024-10-18 10:26:21.360\u001b[0m | \u001b[33m\u001b[1mWARNING \u001b[0m | \u001b[36mlighthouse.data_loader.load_chuv\u001b[0m:\u001b[36mload_dt5\u001b[0m:\u001b[36m388\u001b[0m - \u001b[33m\u001b[1mUnknown scenario!\u001b[0m\n",
            "\u001b[32m2024-10-18 10:26:21.853\u001b[0m | \u001b[1mINFO    \u001b[0m | \u001b[36mlighthouse.data_loader.load_chuv\u001b[0m:\u001b[36mconcatenate_dt5\u001b[0m:\u001b[36m497\u001b[0m - \u001b[1mLoading /Volumes/__UP2/0_RAW_DATA/UP2_001/UP2001_2024_02_06_Rehabilitation_day42/wisci/2024_02_06_14_49_04 (rec3)/ABSD data/2024_02_06_14_50_51_07of10.dt5\u001b[0m\n",
            "\u001b[32m2024-10-18 10:27:23.434\u001b[0m | \u001b[33m\u001b[1mWARNING \u001b[0m | \u001b[36mlighthouse.data_loader.load_chuv\u001b[0m:\u001b[36mload_dt5\u001b[0m:\u001b[36m388\u001b[0m - \u001b[33m\u001b[1mUnknown scenario!\u001b[0m\n",
            "\u001b[32m2024-10-18 10:27:24.002\u001b[0m | \u001b[1mINFO    \u001b[0m | \u001b[36mlighthouse.data_loader.load_chuv\u001b[0m:\u001b[36mconcatenate_dt5\u001b[0m:\u001b[36m497\u001b[0m - \u001b[1mLoading /Volumes/__UP2/0_RAW_DATA/UP2_001/UP2001_2024_02_06_Rehabilitation_day42/wisci/2024_02_06_14_49_04 (rec3)/ABSD data/2024_02_06_14_50_51_08of10.dt5\u001b[0m\n",
            "\u001b[32m2024-10-18 10:28:30.320\u001b[0m | \u001b[33m\u001b[1mWARNING \u001b[0m | \u001b[36mlighthouse.data_loader.load_chuv\u001b[0m:\u001b[36mload_dt5\u001b[0m:\u001b[36m388\u001b[0m - \u001b[33m\u001b[1mUnknown scenario!\u001b[0m\n",
            "\u001b[32m2024-10-18 10:28:30.879\u001b[0m | \u001b[1mINFO    \u001b[0m | \u001b[36mlighthouse.data_loader.load_chuv\u001b[0m:\u001b[36mconcatenate_dt5\u001b[0m:\u001b[36m497\u001b[0m - \u001b[1mLoading /Volumes/__UP2/0_RAW_DATA/UP2_001/UP2001_2024_02_06_Rehabilitation_day42/wisci/2024_02_06_14_49_04 (rec3)/ABSD data/2024_02_06_14_50_51_09of10.dt5\u001b[0m\n",
            "\u001b[32m2024-10-18 10:30:02.346\u001b[0m | \u001b[33m\u001b[1mWARNING \u001b[0m | \u001b[36mlighthouse.data_loader.load_chuv\u001b[0m:\u001b[36mload_dt5\u001b[0m:\u001b[36m388\u001b[0m - \u001b[33m\u001b[1mUnknown scenario!\u001b[0m\n",
            "\u001b[32m2024-10-18 10:30:02.831\u001b[0m | \u001b[1mINFO    \u001b[0m | \u001b[36mlighthouse.data_loader.load_chuv\u001b[0m:\u001b[36mconcatenate_dt5\u001b[0m:\u001b[36m497\u001b[0m - \u001b[1mLoading /Volumes/__UP2/0_RAW_DATA/UP2_001/UP2001_2024_02_06_Rehabilitation_day42/wisci/2024_02_06_14_49_04 (rec3)/ABSD data/2024_02_06_14_50_51_10of10.dt5\u001b[0m\n",
            "\u001b[32m2024-10-18 10:30:25.109\u001b[0m | \u001b[33m\u001b[1mWARNING \u001b[0m | \u001b[36mlighthouse.data_loader.load_chuv\u001b[0m:\u001b[36mload_dt5\u001b[0m:\u001b[36m388\u001b[0m - \u001b[33m\u001b[1mUnknown scenario!\u001b[0m\n"
          ]
        },
        {
          "name": "stdout",
          "output_type": "stream",
          "text": [
            "Signals shape: (77, 1652649)\n",
            "New signal shape: (77, 422912)\n"
          ]
        },
        {
          "name": "stderr",
          "output_type": "stream",
          "text": [
            "\u001b[32m2024-10-18 10:30:27.499\u001b[0m | \u001b[1mINFO    \u001b[0m | \u001b[36mlighthouse.data_loader.load_chuv\u001b[0m:\u001b[36mconcatenate_dt5\u001b[0m:\u001b[36m497\u001b[0m - \u001b[1mLoading /Volumes/__UP2/0_RAW_DATA/UP2_001/UP2001_2024_02_06_Rehabilitation_day42/wisci/2024_02_06_15_39_04 (rec4)/ABSD data/2024_02_06_15_41_32_01of01.dt5\u001b[0m\n",
            "\u001b[32m2024-10-18 10:30:32.199\u001b[0m | \u001b[1mINFO    \u001b[0m | \u001b[36mlighthouse.data_loader.load_chuv\u001b[0m:\u001b[36mload_dt5\u001b[0m:\u001b[36m196\u001b[0m - \u001b[1mScenario Name: classBCIViewerAvatarAllDegreesCourtine\u001b[0m\n",
            "\u001b[32m2024-10-18 10:30:32.203\u001b[0m | \u001b[1mINFO    \u001b[0m | \u001b[36mlighthouse.data_loader.load_chuv\u001b[0m:\u001b[36mload_dt5\u001b[0m:\u001b[36m199\u001b[0m - \u001b[1mSub Scenario Name: classBSISubScenarioNDstim\u001b[0m\n",
            "\u001b[32m2024-10-18 10:30:32.469\u001b[0m | \u001b[33m\u001b[1mWARNING \u001b[0m | \u001b[36mlighthouse.data_loader.load_chuv\u001b[0m:\u001b[36mload_dt5\u001b[0m:\u001b[36m388\u001b[0m - \u001b[33m\u001b[1mUnknown scenario!\u001b[0m\n"
          ]
        },
        {
          "name": "stdout",
          "output_type": "stream",
          "text": [
            "Signals shape: (77, 11210)\n",
            "New signal shape: (77, 0)\n"
          ]
        },
        {
          "name": "stderr",
          "output_type": "stream",
          "text": [
            "\u001b[32m2024-10-18 10:30:33.061\u001b[0m | \u001b[1mINFO    \u001b[0m | \u001b[36mlighthouse.data_loader.load_chuv\u001b[0m:\u001b[36mconcatenate_dt5\u001b[0m:\u001b[36m497\u001b[0m - \u001b[1mLoading /Volumes/__UP2/0_RAW_DATA/UP2_001/UP2001_2024_02_06_Rehabilitation_day42/wisci/2024_02_06_15_42_00 (rec5)/ABSD data/2024_02_06_15_43_16_01of02.dt5\u001b[0m\n",
            "\u001b[32m2024-10-18 10:31:36.831\u001b[0m | \u001b[1mINFO    \u001b[0m | \u001b[36mlighthouse.data_loader.load_chuv\u001b[0m:\u001b[36mload_dt5\u001b[0m:\u001b[36m196\u001b[0m - \u001b[1mScenario Name: classBCIViewerAvatarAllDegreesCourtine\u001b[0m\n",
            "\u001b[32m2024-10-18 10:31:36.835\u001b[0m | \u001b[1mINFO    \u001b[0m | \u001b[36mlighthouse.data_loader.load_chuv\u001b[0m:\u001b[36mload_dt5\u001b[0m:\u001b[36m199\u001b[0m - \u001b[1mSub Scenario Name: classBSISubScenarioNDstim\u001b[0m\n",
            "\u001b[32m2024-10-18 10:31:40.862\u001b[0m | \u001b[33m\u001b[1mWARNING \u001b[0m | \u001b[36mlighthouse.data_loader.load_chuv\u001b[0m:\u001b[36mload_dt5\u001b[0m:\u001b[36m388\u001b[0m - \u001b[33m\u001b[1mUnknown scenario!\u001b[0m\n",
            "\u001b[32m2024-10-18 10:31:41.397\u001b[0m | \u001b[1mINFO    \u001b[0m | \u001b[36mlighthouse.data_loader.load_chuv\u001b[0m:\u001b[36mconcatenate_dt5\u001b[0m:\u001b[36m497\u001b[0m - \u001b[1mLoading /Volumes/__UP2/0_RAW_DATA/UP2_001/UP2001_2024_02_06_Rehabilitation_day42/wisci/2024_02_06_15_42_00 (rec5)/ABSD data/2024_02_06_15_43_16_02of02.dt5\u001b[0m\n",
            "\u001b[32m2024-10-18 10:32:21.410\u001b[0m | \u001b[33m\u001b[1mWARNING \u001b[0m | \u001b[36mlighthouse.data_loader.load_chuv\u001b[0m:\u001b[36mload_dt5\u001b[0m:\u001b[36m388\u001b[0m - \u001b[33m\u001b[1mUnknown scenario!\u001b[0m\n"
          ]
        },
        {
          "name": "stdout",
          "output_type": "stream",
          "text": [
            "Signals shape: (77, 289100)\n",
            "New signal shape: (77, 0)\n",
            "length of data: 139\n"
          ]
        },
        {
          "name": "stderr",
          "output_type": "stream",
          "text": [
            " 74%|███████▍  | 48/65 [10:24:16<7:16:35, 1540.89s/it]"
          ]
        },
        {
          "name": "stdout",
          "output_type": "stream",
          "text": [
            "Checkpoint saved after session 47\n",
            "Current session: (PosixPath('/Volumes/__UP2/0_RAW_DATA/UP2_001/UP2001_2024_02_07_Rehabilitation_day43'), 48)\n"
          ]
        },
        {
          "name": "stderr",
          "output_type": "stream",
          "text": [
            "\u001b[32m2024-10-18 10:33:00.628\u001b[0m | \u001b[1mINFO    \u001b[0m | \u001b[36mlighthouse.data_loader.load_chuv\u001b[0m:\u001b[36mconcatenate_dt5\u001b[0m:\u001b[36m497\u001b[0m - \u001b[1mLoading /Volumes/__UP2/0_RAW_DATA/UP2_001/UP2001_2024_02_07_Rehabilitation_day43/wisci/2024_02_07_13_27_33 (rec1)/ABSD data/2024_02_07_13_31_58_01of05.dt5\u001b[0m\n",
            "\u001b[32m2024-10-18 10:33:50.200\u001b[0m | \u001b[1mINFO    \u001b[0m | \u001b[36mlighthouse.data_loader.load_chuv\u001b[0m:\u001b[36mload_dt5\u001b[0m:\u001b[36m196\u001b[0m - \u001b[1mScenario Name: classBSIIndependentJointsClassif\u001b[0m\n",
            "\u001b[32m2024-10-18 10:33:50.249\u001b[0m | \u001b[33m\u001b[1mWARNING \u001b[0m | \u001b[36mlighthouse.data_loader.load_chuv\u001b[0m:\u001b[36mload_dt5\u001b[0m:\u001b[36m203\u001b[0m - \u001b[33m\u001b[1mCannot get metadata from chuv files: \"Unable to open object (object 'SubScenarioNames' doesn't exist)\"\u001b[0m\n",
            "\u001b[32m2024-10-18 10:33:55.022\u001b[0m | \u001b[1mINFO    \u001b[0m | \u001b[36mlighthouse.data_loader.load_chuv\u001b[0m:\u001b[36mconcatenate_dt5\u001b[0m:\u001b[36m497\u001b[0m - \u001b[1mLoading /Volumes/__UP2/0_RAW_DATA/UP2_001/UP2001_2024_02_07_Rehabilitation_day43/wisci/2024_02_07_13_27_33 (rec1)/ABSD data/2024_02_07_13_31_58_02of05.dt5\u001b[0m\n",
            "\u001b[32m2024-10-18 10:34:52.484\u001b[0m | \u001b[1mINFO    \u001b[0m | \u001b[36mlighthouse.data_loader.load_chuv\u001b[0m:\u001b[36mconcatenate_dt5\u001b[0m:\u001b[36m497\u001b[0m - \u001b[1mLoading /Volumes/__UP2/0_RAW_DATA/UP2_001/UP2001_2024_02_07_Rehabilitation_day43/wisci/2024_02_07_13_27_33 (rec1)/ABSD data/2024_02_07_13_31_58_03of05.dt5\u001b[0m\n",
            "\u001b[32m2024-10-18 10:35:49.745\u001b[0m | \u001b[1mINFO    \u001b[0m | \u001b[36mlighthouse.data_loader.load_chuv\u001b[0m:\u001b[36mconcatenate_dt5\u001b[0m:\u001b[36m497\u001b[0m - \u001b[1mLoading /Volumes/__UP2/0_RAW_DATA/UP2_001/UP2001_2024_02_07_Rehabilitation_day43/wisci/2024_02_07_13_27_33 (rec1)/ABSD data/2024_02_07_13_31_58_04of05.dt5\u001b[0m\n",
            "\u001b[32m2024-10-18 10:36:45.150\u001b[0m | \u001b[1mINFO    \u001b[0m | \u001b[36mlighthouse.data_loader.load_chuv\u001b[0m:\u001b[36mconcatenate_dt5\u001b[0m:\u001b[36m497\u001b[0m - \u001b[1mLoading /Volumes/__UP2/0_RAW_DATA/UP2_001/UP2001_2024_02_07_Rehabilitation_day43/wisci/2024_02_07_13_27_33 (rec1)/ABSD data/2024_02_07_13_31_58_05of05.dt5\u001b[0m\n"
          ]
        },
        {
          "name": "stdout",
          "output_type": "stream",
          "text": [
            "Signals shape: (62, 745760)\n",
            "New signal shape: (62, 257712)\n"
          ]
        },
        {
          "name": "stderr",
          "output_type": "stream",
          "text": [
            "\u001b[32m2024-10-18 10:36:57.193\u001b[0m | \u001b[1mINFO    \u001b[0m | \u001b[36mlighthouse.data_loader.load_chuv\u001b[0m:\u001b[36mconcatenate_dt5\u001b[0m:\u001b[36m497\u001b[0m - \u001b[1mLoading /Volumes/__UP2/0_RAW_DATA/UP2_001/UP2001_2024_02_07_Rehabilitation_day43/wisci/2024_02_07_13_54_28 (rec2)/ABSD data/2024_02_07_13_59_08_01of02.dt5\u001b[0m\n",
            "\u001b[32m2024-10-18 10:37:53.641\u001b[0m | \u001b[1mINFO    \u001b[0m | \u001b[36mlighthouse.data_loader.load_chuv\u001b[0m:\u001b[36mload_dt5\u001b[0m:\u001b[36m196\u001b[0m - \u001b[1mScenario Name: classBSIIndependentJointsClassif\u001b[0m\n",
            "\u001b[32m2024-10-18 10:37:53.643\u001b[0m | \u001b[33m\u001b[1mWARNING \u001b[0m | \u001b[36mlighthouse.data_loader.load_chuv\u001b[0m:\u001b[36mload_dt5\u001b[0m:\u001b[36m203\u001b[0m - \u001b[33m\u001b[1mCannot get metadata from chuv files: \"Unable to open object (object 'SubScenarioNames' doesn't exist)\"\u001b[0m\n",
            "\u001b[32m2024-10-18 10:37:57.654\u001b[0m | \u001b[1mINFO    \u001b[0m | \u001b[36mlighthouse.data_loader.load_chuv\u001b[0m:\u001b[36mconcatenate_dt5\u001b[0m:\u001b[36m497\u001b[0m - \u001b[1mLoading /Volumes/__UP2/0_RAW_DATA/UP2_001/UP2001_2024_02_07_Rehabilitation_day43/wisci/2024_02_07_13_54_28 (rec2)/ABSD data/2024_02_07_13_59_08_02of02.dt5\u001b[0m\n"
          ]
        },
        {
          "name": "stdout",
          "output_type": "stream",
          "text": [
            "Signals shape: (62, 240012)\n",
            "New signal shape: (62, 75697)\n"
          ]
        },
        {
          "name": "stderr",
          "output_type": "stream",
          "text": [
            "\u001b[32m2024-10-18 10:38:19.124\u001b[0m | \u001b[1mINFO    \u001b[0m | \u001b[36mlighthouse.data_loader.load_chuv\u001b[0m:\u001b[36mconcatenate_dt5\u001b[0m:\u001b[36m497\u001b[0m - \u001b[1mLoading /Volumes/__UP2/0_RAW_DATA/UP2_001/UP2001_2024_02_07_Rehabilitation_day43/wisci/2024_02_07_14_07_00 (rec3)/ABSD data/2024_02_07_14_09_31_01of19.dt5\u001b[0m\n",
            "\u001b[32m2024-10-18 10:39:13.695\u001b[0m | \u001b[1mINFO    \u001b[0m | \u001b[36mlighthouse.data_loader.load_chuv\u001b[0m:\u001b[36mload_dt5\u001b[0m:\u001b[36m196\u001b[0m - \u001b[1mScenario Name: classBSIIndependentJointsClassif\u001b[0m\n",
            "\u001b[32m2024-10-18 10:39:13.696\u001b[0m | \u001b[33m\u001b[1mWARNING \u001b[0m | \u001b[36mlighthouse.data_loader.load_chuv\u001b[0m:\u001b[36mload_dt5\u001b[0m:\u001b[36m203\u001b[0m - \u001b[33m\u001b[1mCannot get metadata from chuv files: \"Unable to open object (object 'SubScenarioNames' doesn't exist)\"\u001b[0m\n",
            "\u001b[32m2024-10-18 10:39:17.941\u001b[0m | \u001b[1mINFO    \u001b[0m | \u001b[36mlighthouse.data_loader.load_chuv\u001b[0m:\u001b[36mconcatenate_dt5\u001b[0m:\u001b[36m497\u001b[0m - \u001b[1mLoading /Volumes/__UP2/0_RAW_DATA/UP2_001/UP2001_2024_02_07_Rehabilitation_day43/wisci/2024_02_07_14_07_00 (rec3)/ABSD data/2024_02_07_14_09_31_02of19.dt5\u001b[0m\n",
            "\u001b[32m2024-10-18 10:40:20.665\u001b[0m | \u001b[1mINFO    \u001b[0m | \u001b[36mlighthouse.data_loader.load_chuv\u001b[0m:\u001b[36mconcatenate_dt5\u001b[0m:\u001b[36m497\u001b[0m - \u001b[1mLoading /Volumes/__UP2/0_RAW_DATA/UP2_001/UP2001_2024_02_07_Rehabilitation_day43/wisci/2024_02_07_14_07_00 (rec3)/ABSD data/2024_02_07_14_09_31_03of19.dt5\u001b[0m\n",
            "\u001b[32m2024-10-18 10:41:11.807\u001b[0m | \u001b[1mINFO    \u001b[0m | \u001b[36mlighthouse.data_loader.load_chuv\u001b[0m:\u001b[36mconcatenate_dt5\u001b[0m:\u001b[36m497\u001b[0m - \u001b[1mLoading /Volumes/__UP2/0_RAW_DATA/UP2_001/UP2001_2024_02_07_Rehabilitation_day43/wisci/2024_02_07_14_07_00 (rec3)/ABSD data/2024_02_07_14_09_31_04of19.dt5\u001b[0m\n",
            "\u001b[32m2024-10-18 10:42:07.640\u001b[0m | \u001b[1mINFO    \u001b[0m | \u001b[36mlighthouse.data_loader.load_chuv\u001b[0m:\u001b[36mconcatenate_dt5\u001b[0m:\u001b[36m497\u001b[0m - \u001b[1mLoading /Volumes/__UP2/0_RAW_DATA/UP2_001/UP2001_2024_02_07_Rehabilitation_day43/wisci/2024_02_07_14_07_00 (rec3)/ABSD data/2024_02_07_14_09_31_05of19.dt5\u001b[0m\n",
            "\u001b[32m2024-10-18 10:43:02.340\u001b[0m | \u001b[1mINFO    \u001b[0m | \u001b[36mlighthouse.data_loader.load_chuv\u001b[0m:\u001b[36mconcatenate_dt5\u001b[0m:\u001b[36m497\u001b[0m - \u001b[1mLoading /Volumes/__UP2/0_RAW_DATA/UP2_001/UP2001_2024_02_07_Rehabilitation_day43/wisci/2024_02_07_14_07_00 (rec3)/ABSD data/2024_02_07_14_09_31_06of19.dt5\u001b[0m\n",
            "\u001b[32m2024-10-18 10:43:55.678\u001b[0m | \u001b[1mINFO    \u001b[0m | \u001b[36mlighthouse.data_loader.load_chuv\u001b[0m:\u001b[36mconcatenate_dt5\u001b[0m:\u001b[36m497\u001b[0m - \u001b[1mLoading /Volumes/__UP2/0_RAW_DATA/UP2_001/UP2001_2024_02_07_Rehabilitation_day43/wisci/2024_02_07_14_07_00 (rec3)/ABSD data/2024_02_07_14_09_31_07of19.dt5\u001b[0m\n",
            "\u001b[32m2024-10-18 10:44:51.733\u001b[0m | \u001b[1mINFO    \u001b[0m | \u001b[36mlighthouse.data_loader.load_chuv\u001b[0m:\u001b[36mconcatenate_dt5\u001b[0m:\u001b[36m497\u001b[0m - \u001b[1mLoading /Volumes/__UP2/0_RAW_DATA/UP2_001/UP2001_2024_02_07_Rehabilitation_day43/wisci/2024_02_07_14_07_00 (rec3)/ABSD data/2024_02_07_14_09_31_08of19.dt5\u001b[0m\n",
            "\u001b[32m2024-10-18 10:45:43.173\u001b[0m | \u001b[1mINFO    \u001b[0m | \u001b[36mlighthouse.data_loader.load_chuv\u001b[0m:\u001b[36mconcatenate_dt5\u001b[0m:\u001b[36m497\u001b[0m - \u001b[1mLoading /Volumes/__UP2/0_RAW_DATA/UP2_001/UP2001_2024_02_07_Rehabilitation_day43/wisci/2024_02_07_14_07_00 (rec3)/ABSD data/2024_02_07_14_09_31_09of19.dt5\u001b[0m\n",
            "\u001b[32m2024-10-18 10:46:35.739\u001b[0m | \u001b[1mINFO    \u001b[0m | \u001b[36mlighthouse.data_loader.load_chuv\u001b[0m:\u001b[36mconcatenate_dt5\u001b[0m:\u001b[36m497\u001b[0m - \u001b[1mLoading /Volumes/__UP2/0_RAW_DATA/UP2_001/UP2001_2024_02_07_Rehabilitation_day43/wisci/2024_02_07_14_07_00 (rec3)/ABSD data/2024_02_07_14_09_31_10of19.dt5\u001b[0m\n",
            "\u001b[32m2024-10-18 10:47:29.884\u001b[0m | \u001b[1mINFO    \u001b[0m | \u001b[36mlighthouse.data_loader.load_chuv\u001b[0m:\u001b[36mconcatenate_dt5\u001b[0m:\u001b[36m497\u001b[0m - \u001b[1mLoading /Volumes/__UP2/0_RAW_DATA/UP2_001/UP2001_2024_02_07_Rehabilitation_day43/wisci/2024_02_07_14_07_00 (rec3)/ABSD data/2024_02_07_14_09_31_11of19.dt5\u001b[0m\n",
            "\u001b[32m2024-10-18 10:48:31.118\u001b[0m | \u001b[1mINFO    \u001b[0m | \u001b[36mlighthouse.data_loader.load_chuv\u001b[0m:\u001b[36mconcatenate_dt5\u001b[0m:\u001b[36m497\u001b[0m - \u001b[1mLoading /Volumes/__UP2/0_RAW_DATA/UP2_001/UP2001_2024_02_07_Rehabilitation_day43/wisci/2024_02_07_14_07_00 (rec3)/ABSD data/2024_02_07_14_09_31_12of19.dt5\u001b[0m\n",
            "\u001b[32m2024-10-18 10:49:22.781\u001b[0m | \u001b[1mINFO    \u001b[0m | \u001b[36mlighthouse.data_loader.load_chuv\u001b[0m:\u001b[36mconcatenate_dt5\u001b[0m:\u001b[36m497\u001b[0m - \u001b[1mLoading /Volumes/__UP2/0_RAW_DATA/UP2_001/UP2001_2024_02_07_Rehabilitation_day43/wisci/2024_02_07_14_07_00 (rec3)/ABSD data/2024_02_07_14_09_31_13of19.dt5\u001b[0m\n",
            "\u001b[32m2024-10-18 10:50:15.675\u001b[0m | \u001b[1mINFO    \u001b[0m | \u001b[36mlighthouse.data_loader.load_chuv\u001b[0m:\u001b[36mconcatenate_dt5\u001b[0m:\u001b[36m497\u001b[0m - \u001b[1mLoading /Volumes/__UP2/0_RAW_DATA/UP2_001/UP2001_2024_02_07_Rehabilitation_day43/wisci/2024_02_07_14_07_00 (rec3)/ABSD data/2024_02_07_14_09_31_14of19.dt5\u001b[0m\n",
            "\u001b[32m2024-10-18 10:51:12.433\u001b[0m | \u001b[1mINFO    \u001b[0m | \u001b[36mlighthouse.data_loader.load_chuv\u001b[0m:\u001b[36mconcatenate_dt5\u001b[0m:\u001b[36m497\u001b[0m - \u001b[1mLoading /Volumes/__UP2/0_RAW_DATA/UP2_001/UP2001_2024_02_07_Rehabilitation_day43/wisci/2024_02_07_14_07_00 (rec3)/ABSD data/2024_02_07_14_09_31_15of19.dt5\u001b[0m\n",
            "\u001b[32m2024-10-18 10:52:40.973\u001b[0m | \u001b[1mINFO    \u001b[0m | \u001b[36mlighthouse.data_loader.load_chuv\u001b[0m:\u001b[36mconcatenate_dt5\u001b[0m:\u001b[36m497\u001b[0m - \u001b[1mLoading /Volumes/__UP2/0_RAW_DATA/UP2_001/UP2001_2024_02_07_Rehabilitation_day43/wisci/2024_02_07_14_07_00 (rec3)/ABSD data/2024_02_07_14_09_31_16of19.dt5\u001b[0m\n",
            "\u001b[32m2024-10-18 10:54:04.892\u001b[0m | \u001b[1mINFO    \u001b[0m | \u001b[36mlighthouse.data_loader.load_chuv\u001b[0m:\u001b[36mconcatenate_dt5\u001b[0m:\u001b[36m497\u001b[0m - \u001b[1mLoading /Volumes/__UP2/0_RAW_DATA/UP2_001/UP2001_2024_02_07_Rehabilitation_day43/wisci/2024_02_07_14_07_00 (rec3)/ABSD data/2024_02_07_14_09_31_17of19.dt5\u001b[0m\n",
            "\u001b[32m2024-10-18 10:55:30.744\u001b[0m | \u001b[1mINFO    \u001b[0m | \u001b[36mlighthouse.data_loader.load_chuv\u001b[0m:\u001b[36mconcatenate_dt5\u001b[0m:\u001b[36m497\u001b[0m - \u001b[1mLoading /Volumes/__UP2/0_RAW_DATA/UP2_001/UP2001_2024_02_07_Rehabilitation_day43/wisci/2024_02_07_14_07_00 (rec3)/ABSD data/2024_02_07_14_09_31_18of19.dt5\u001b[0m\n",
            "\u001b[32m2024-10-18 10:56:54.116\u001b[0m | \u001b[1mINFO    \u001b[0m | \u001b[36mlighthouse.data_loader.load_chuv\u001b[0m:\u001b[36mconcatenate_dt5\u001b[0m:\u001b[36m497\u001b[0m - \u001b[1mLoading /Volumes/__UP2/0_RAW_DATA/UP2_001/UP2001_2024_02_07_Rehabilitation_day43/wisci/2024_02_07_14_07_00 (rec3)/ABSD data/2024_02_07_14_09_31_19of19.dt5\u001b[0m\n"
          ]
        },
        {
          "name": "stdout",
          "output_type": "stream",
          "text": [
            "Signals shape: (62, 3228716)\n",
            "New signal shape: (62, 354767)\n",
            "length of data: 142\n"
          ]
        },
        {
          "name": "stderr",
          "output_type": "stream",
          "text": [
            " 75%|███████▌  | 49/65 [10:49:11<6:47:12, 1527.05s/it]"
          ]
        },
        {
          "name": "stdout",
          "output_type": "stream",
          "text": [
            "Checkpoint saved after session 48\n",
            "Current session: (PosixPath('/Volumes/__UP2/0_RAW_DATA/UP2_001/UP2001_2024_02_08_Rehabilitation_day44'), 49)\n"
          ]
        },
        {
          "name": "stderr",
          "output_type": "stream",
          "text": [
            "\u001b[32m2024-10-18 10:58:02.478\u001b[0m | \u001b[1mINFO    \u001b[0m | \u001b[36mlighthouse.data_loader.load_chuv\u001b[0m:\u001b[36mconcatenate_dt5\u001b[0m:\u001b[36m497\u001b[0m - \u001b[1mLoading /Volumes/__UP2/0_RAW_DATA/UP2_001/UP2001_2024_02_08_Rehabilitation_day44/wisci/2024_02_08_14_03_50 (rec1)/ABSD data/2024_02_08_14_06_47_01of11.dt5\u001b[0m\n",
            "\u001b[32m2024-10-18 10:59:12.044\u001b[0m | \u001b[1mINFO    \u001b[0m | \u001b[36mlighthouse.data_loader.load_chuv\u001b[0m:\u001b[36mload_dt5\u001b[0m:\u001b[36m196\u001b[0m - \u001b[1mScenario Name: classBCIViewerAvatarAllDegreesCourtine\u001b[0m\n",
            "\u001b[32m2024-10-18 10:59:12.052\u001b[0m | \u001b[1mINFO    \u001b[0m | \u001b[36mlighthouse.data_loader.load_chuv\u001b[0m:\u001b[36mload_dt5\u001b[0m:\u001b[36m199\u001b[0m - \u001b[1mSub Scenario Name: classBSISubScenarioUpperJointsClassif\u001b[0m\n",
            "\u001b[32m2024-10-18 10:59:17.051\u001b[0m | \u001b[1mINFO    \u001b[0m | \u001b[36mlighthouse.data_loader.load_chuv\u001b[0m:\u001b[36mconcatenate_dt5\u001b[0m:\u001b[36m497\u001b[0m - \u001b[1mLoading /Volumes/__UP2/0_RAW_DATA/UP2_001/UP2001_2024_02_08_Rehabilitation_day44/wisci/2024_02_08_14_03_50 (rec1)/ABSD data/2024_02_08_14_06_47_02of11.dt5\u001b[0m\n",
            "\u001b[32m2024-10-18 11:00:35.324\u001b[0m | \u001b[1mINFO    \u001b[0m | \u001b[36mlighthouse.data_loader.load_chuv\u001b[0m:\u001b[36mconcatenate_dt5\u001b[0m:\u001b[36m497\u001b[0m - \u001b[1mLoading /Volumes/__UP2/0_RAW_DATA/UP2_001/UP2001_2024_02_08_Rehabilitation_day44/wisci/2024_02_08_14_03_50 (rec1)/ABSD data/2024_02_08_14_06_47_03of11.dt5\u001b[0m\n",
            "\u001b[32m2024-10-18 11:01:33.860\u001b[0m | \u001b[1mINFO    \u001b[0m | \u001b[36mlighthouse.data_loader.load_chuv\u001b[0m:\u001b[36mconcatenate_dt5\u001b[0m:\u001b[36m497\u001b[0m - \u001b[1mLoading /Volumes/__UP2/0_RAW_DATA/UP2_001/UP2001_2024_02_08_Rehabilitation_day44/wisci/2024_02_08_14_03_50 (rec1)/ABSD data/2024_02_08_14_06_47_04of11.dt5\u001b[0m\n",
            "\u001b[32m2024-10-18 11:02:36.223\u001b[0m | \u001b[1mINFO    \u001b[0m | \u001b[36mlighthouse.data_loader.load_chuv\u001b[0m:\u001b[36mconcatenate_dt5\u001b[0m:\u001b[36m497\u001b[0m - \u001b[1mLoading /Volumes/__UP2/0_RAW_DATA/UP2_001/UP2001_2024_02_08_Rehabilitation_day44/wisci/2024_02_08_14_03_50 (rec1)/ABSD data/2024_02_08_14_06_47_05of11.dt5\u001b[0m\n",
            "\u001b[32m2024-10-18 11:03:32.380\u001b[0m | \u001b[1mINFO    \u001b[0m | \u001b[36mlighthouse.data_loader.load_chuv\u001b[0m:\u001b[36mconcatenate_dt5\u001b[0m:\u001b[36m497\u001b[0m - \u001b[1mLoading /Volumes/__UP2/0_RAW_DATA/UP2_001/UP2001_2024_02_08_Rehabilitation_day44/wisci/2024_02_08_14_03_50 (rec1)/ABSD data/2024_02_08_14_06_47_06of11.dt5\u001b[0m\n",
            "\u001b[32m2024-10-18 11:04:48.932\u001b[0m | \u001b[1mINFO    \u001b[0m | \u001b[36mlighthouse.data_loader.load_chuv\u001b[0m:\u001b[36mconcatenate_dt5\u001b[0m:\u001b[36m497\u001b[0m - \u001b[1mLoading /Volumes/__UP2/0_RAW_DATA/UP2_001/UP2001_2024_02_08_Rehabilitation_day44/wisci/2024_02_08_14_03_50 (rec1)/ABSD data/2024_02_08_14_06_47_07of11.dt5\u001b[0m\n",
            "\u001b[32m2024-10-18 11:06:11.674\u001b[0m | \u001b[1mINFO    \u001b[0m | \u001b[36mlighthouse.data_loader.load_chuv\u001b[0m:\u001b[36mconcatenate_dt5\u001b[0m:\u001b[36m497\u001b[0m - \u001b[1mLoading /Volumes/__UP2/0_RAW_DATA/UP2_001/UP2001_2024_02_08_Rehabilitation_day44/wisci/2024_02_08_14_03_50 (rec1)/ABSD data/2024_02_08_14_06_47_08of11.dt5\u001b[0m\n",
            "\u001b[32m2024-10-18 11:07:17.648\u001b[0m | \u001b[1mINFO    \u001b[0m | \u001b[36mlighthouse.data_loader.load_chuv\u001b[0m:\u001b[36mconcatenate_dt5\u001b[0m:\u001b[36m497\u001b[0m - \u001b[1mLoading /Volumes/__UP2/0_RAW_DATA/UP2_001/UP2001_2024_02_08_Rehabilitation_day44/wisci/2024_02_08_14_03_50 (rec1)/ABSD data/2024_02_08_14_06_47_09of11.dt5\u001b[0m\n",
            "\u001b[32m2024-10-18 11:08:37.893\u001b[0m | \u001b[1mINFO    \u001b[0m | \u001b[36mlighthouse.data_loader.load_chuv\u001b[0m:\u001b[36mconcatenate_dt5\u001b[0m:\u001b[36m497\u001b[0m - \u001b[1mLoading /Volumes/__UP2/0_RAW_DATA/UP2_001/UP2001_2024_02_08_Rehabilitation_day44/wisci/2024_02_08_14_03_50 (rec1)/ABSD data/2024_02_08_14_06_47_10of11.dt5\u001b[0m\n",
            "\u001b[32m2024-10-18 11:10:57.657\u001b[0m | \u001b[1mINFO    \u001b[0m | \u001b[36mlighthouse.data_loader.load_chuv\u001b[0m:\u001b[36mconcatenate_dt5\u001b[0m:\u001b[36m497\u001b[0m - \u001b[1mLoading /Volumes/__UP2/0_RAW_DATA/UP2_001/UP2001_2024_02_08_Rehabilitation_day44/wisci/2024_02_08_14_03_50 (rec1)/ABSD data/2024_02_08_14_06_47_11of11.dt5\u001b[0m\n"
          ]
        },
        {
          "name": "stdout",
          "output_type": "stream",
          "text": [
            "Signals shape: (56, 1893369)\n",
            "New signal shape: (56, 48675)\n"
          ]
        },
        {
          "name": "stderr",
          "output_type": "stream",
          "text": [
            "\u001b[32m2024-10-18 11:11:47.403\u001b[0m | \u001b[1mINFO    \u001b[0m | \u001b[36mlighthouse.data_loader.load_chuv\u001b[0m:\u001b[36mconcatenate_dt5\u001b[0m:\u001b[36m497\u001b[0m - \u001b[1mLoading /Volumes/__UP2/0_RAW_DATA/UP2_001/UP2001_2024_02_08_Rehabilitation_day44/wisci/2024_02_08_15_03_30 (rec2)/ABSD data/2024_02_08_15_05_35_01of06.dt5\u001b[0m\n",
            "\u001b[32m2024-10-18 11:13:48.558\u001b[0m | \u001b[1mINFO    \u001b[0m | \u001b[36mlighthouse.data_loader.load_chuv\u001b[0m:\u001b[36mload_dt5\u001b[0m:\u001b[36m196\u001b[0m - \u001b[1mScenario Name: classBCIViewerAvatarAllDegreesCourtine\u001b[0m\n",
            "\u001b[32m2024-10-18 11:13:48.562\u001b[0m | \u001b[1mINFO    \u001b[0m | \u001b[36mlighthouse.data_loader.load_chuv\u001b[0m:\u001b[36mload_dt5\u001b[0m:\u001b[36m199\u001b[0m - \u001b[1mSub Scenario Name: classBSISubScenarioUpperJointsClassif\u001b[0m\n",
            "\u001b[32m2024-10-18 11:13:52.791\u001b[0m | \u001b[1mINFO    \u001b[0m | \u001b[36mlighthouse.data_loader.load_chuv\u001b[0m:\u001b[36mconcatenate_dt5\u001b[0m:\u001b[36m497\u001b[0m - \u001b[1mLoading /Volumes/__UP2/0_RAW_DATA/UP2_001/UP2001_2024_02_08_Rehabilitation_day44/wisci/2024_02_08_15_03_30 (rec2)/ABSD data/2024_02_08_15_05_35_02of06.dt5\u001b[0m\n",
            "\u001b[32m2024-10-18 11:14:46.410\u001b[0m | \u001b[1mINFO    \u001b[0m | \u001b[36mlighthouse.data_loader.load_chuv\u001b[0m:\u001b[36mconcatenate_dt5\u001b[0m:\u001b[36m497\u001b[0m - \u001b[1mLoading /Volumes/__UP2/0_RAW_DATA/UP2_001/UP2001_2024_02_08_Rehabilitation_day44/wisci/2024_02_08_15_03_30 (rec2)/ABSD data/2024_02_08_15_05_35_03of06.dt5\u001b[0m\n",
            "\u001b[32m2024-10-18 11:15:37.951\u001b[0m | \u001b[1mINFO    \u001b[0m | \u001b[36mlighthouse.data_loader.load_chuv\u001b[0m:\u001b[36mconcatenate_dt5\u001b[0m:\u001b[36m497\u001b[0m - \u001b[1mLoading /Volumes/__UP2/0_RAW_DATA/UP2_001/UP2001_2024_02_08_Rehabilitation_day44/wisci/2024_02_08_15_03_30 (rec2)/ABSD data/2024_02_08_15_05_35_04of06.dt5\u001b[0m\n",
            "\u001b[32m2024-10-18 11:17:05.039\u001b[0m | \u001b[1mINFO    \u001b[0m | \u001b[36mlighthouse.data_loader.load_chuv\u001b[0m:\u001b[36mconcatenate_dt5\u001b[0m:\u001b[36m497\u001b[0m - \u001b[1mLoading /Volumes/__UP2/0_RAW_DATA/UP2_001/UP2001_2024_02_08_Rehabilitation_day44/wisci/2024_02_08_15_03_30 (rec2)/ABSD data/2024_02_08_15_05_35_05of06.dt5\u001b[0m\n",
            "\u001b[32m2024-10-18 11:18:54.531\u001b[0m | \u001b[1mINFO    \u001b[0m | \u001b[36mlighthouse.data_loader.load_chuv\u001b[0m:\u001b[36mconcatenate_dt5\u001b[0m:\u001b[36m497\u001b[0m - \u001b[1mLoading /Volumes/__UP2/0_RAW_DATA/UP2_001/UP2001_2024_02_08_Rehabilitation_day44/wisci/2024_02_08_15_03_30 (rec2)/ABSD data/2024_02_08_15_05_35_06of06.dt5\u001b[0m\n"
          ]
        },
        {
          "name": "stdout",
          "output_type": "stream",
          "text": [
            "Signals shape: (56, 1041055)\n",
            "New signal shape: (56, 1829)\n",
            "length of data: 144\n"
          ]
        },
        {
          "name": "stderr",
          "output_type": "stream",
          "text": [
            " 77%|███████▋  | 50/65 [11:12:12<6:10:47, 1483.15s/it]"
          ]
        },
        {
          "name": "stdout",
          "output_type": "stream",
          "text": [
            "Checkpoint saved after session 49\n",
            "Current session: (PosixPath('/Volumes/__UP2/0_RAW_DATA/UP2_001/UP2001_2024_02_09_Rehabilitation_day45'), 50)\n"
          ]
        },
        {
          "name": "stderr",
          "output_type": "stream",
          "text": [
            "\u001b[32m2024-10-18 11:20:59.321\u001b[0m | \u001b[1mINFO    \u001b[0m | \u001b[36mlighthouse.data_loader.load_chuv\u001b[0m:\u001b[36mconcatenate_dt5\u001b[0m:\u001b[36m497\u001b[0m - \u001b[1mLoading /Volumes/__UP2/0_RAW_DATA/UP2_001/UP2001_2024_02_09_Rehabilitation_day45/wisci/ABSD data/2024_02_09_14_15_14_01of01.dt5\u001b[0m\n",
            "\u001b[32m2024-10-18 11:21:29.859\u001b[0m | \u001b[1mINFO    \u001b[0m | \u001b[36mlighthouse.data_loader.load_chuv\u001b[0m:\u001b[36mload_dt5\u001b[0m:\u001b[36m196\u001b[0m - \u001b[1mScenario Name: classBSIIndependentJointsClassif\u001b[0m\n",
            "\u001b[32m2024-10-18 11:21:29.866\u001b[0m | \u001b[33m\u001b[1mWARNING \u001b[0m | \u001b[36mlighthouse.data_loader.load_chuv\u001b[0m:\u001b[36mload_dt5\u001b[0m:\u001b[36m203\u001b[0m - \u001b[33m\u001b[1mCannot get metadata from chuv files: \"Unable to open object (object 'SubScenarioNames' doesn't exist)\"\u001b[0m\n"
          ]
        },
        {
          "name": "stdout",
          "output_type": "stream",
          "text": [
            "Signals shape: (62, 97822)\n",
            "New signal shape: (62, 0)\n"
          ]
        },
        {
          "name": "stderr",
          "output_type": "stream",
          "text": [
            "\u001b[32m2024-10-18 11:21:32.636\u001b[0m | \u001b[1mINFO    \u001b[0m | \u001b[36mlighthouse.data_loader.load_chuv\u001b[0m:\u001b[36mconcatenate_dt5\u001b[0m:\u001b[36m497\u001b[0m - \u001b[1mLoading /Volumes/__UP2/0_RAW_DATA/UP2_001/UP2001_2024_02_09_Rehabilitation_day45/wisci/2024_02_09_14_12_24 (rec1)/ABSD data/2024_02_09_14_15_14_01of01.dt5\u001b[0m\n",
            "\u001b[32m2024-10-18 11:22:35.400\u001b[0m | \u001b[1mINFO    \u001b[0m | \u001b[36mlighthouse.data_loader.load_chuv\u001b[0m:\u001b[36mload_dt5\u001b[0m:\u001b[36m196\u001b[0m - \u001b[1mScenario Name: classBSIIndependentJointsClassif\u001b[0m\n",
            "\u001b[32m2024-10-18 11:22:35.402\u001b[0m | \u001b[33m\u001b[1mWARNING \u001b[0m | \u001b[36mlighthouse.data_loader.load_chuv\u001b[0m:\u001b[36mload_dt5\u001b[0m:\u001b[36m203\u001b[0m - \u001b[33m\u001b[1mCannot get metadata from chuv files: \"Unable to open object (object 'SubScenarioNames' doesn't exist)\"\u001b[0m\n"
          ]
        },
        {
          "name": "stdout",
          "output_type": "stream",
          "text": [
            "Signals shape: (62, 97822)\n",
            "New signal shape: (62, 0)\n"
          ]
        },
        {
          "name": "stderr",
          "output_type": "stream",
          "text": [
            "\u001b[32m2024-10-18 11:22:38.074\u001b[0m | \u001b[1mINFO    \u001b[0m | \u001b[36mlighthouse.data_loader.load_chuv\u001b[0m:\u001b[36mconcatenate_dt5\u001b[0m:\u001b[36m497\u001b[0m - \u001b[1mLoading /Volumes/__UP2/0_RAW_DATA/UP2_001/UP2001_2024_02_09_Rehabilitation_day45/wisci/2024_02_09_14_18_13 (rec2)/ABSD data/2024_02_09_14_19_19_01of06.dt5\u001b[0m\n",
            "\u001b[32m2024-10-18 11:25:36.770\u001b[0m | \u001b[1mINFO    \u001b[0m | \u001b[36mlighthouse.data_loader.load_chuv\u001b[0m:\u001b[36mload_dt5\u001b[0m:\u001b[36m196\u001b[0m - \u001b[1mScenario Name: classBSIIndependentJointsClassif\u001b[0m\n",
            "\u001b[32m2024-10-18 11:25:36.776\u001b[0m | \u001b[33m\u001b[1mWARNING \u001b[0m | \u001b[36mlighthouse.data_loader.load_chuv\u001b[0m:\u001b[36mload_dt5\u001b[0m:\u001b[36m203\u001b[0m - \u001b[33m\u001b[1mCannot get metadata from chuv files: \"Unable to open object (object 'SubScenarioNames' doesn't exist)\"\u001b[0m\n",
            "\u001b[32m2024-10-18 11:25:42.700\u001b[0m | \u001b[1mINFO    \u001b[0m | \u001b[36mlighthouse.data_loader.load_chuv\u001b[0m:\u001b[36mconcatenate_dt5\u001b[0m:\u001b[36m497\u001b[0m - \u001b[1mLoading /Volumes/__UP2/0_RAW_DATA/UP2_001/UP2001_2024_02_09_Rehabilitation_day45/wisci/2024_02_09_14_18_13 (rec2)/ABSD data/2024_02_09_14_19_19_02of06.dt5\u001b[0m\n",
            "\u001b[32m2024-10-18 11:28:44.078\u001b[0m | \u001b[1mINFO    \u001b[0m | \u001b[36mlighthouse.data_loader.load_chuv\u001b[0m:\u001b[36mconcatenate_dt5\u001b[0m:\u001b[36m497\u001b[0m - \u001b[1mLoading /Volumes/__UP2/0_RAW_DATA/UP2_001/UP2001_2024_02_09_Rehabilitation_day45/wisci/2024_02_09_14_18_13 (rec2)/ABSD data/2024_02_09_14_19_19_03of06.dt5\u001b[0m\n",
            "\u001b[32m2024-10-18 11:32:21.595\u001b[0m | \u001b[1mINFO    \u001b[0m | \u001b[36mlighthouse.data_loader.load_chuv\u001b[0m:\u001b[36mconcatenate_dt5\u001b[0m:\u001b[36m497\u001b[0m - \u001b[1mLoading /Volumes/__UP2/0_RAW_DATA/UP2_001/UP2001_2024_02_09_Rehabilitation_day45/wisci/2024_02_09_14_18_13 (rec2)/ABSD data/2024_02_09_14_19_19_04of06.dt5\u001b[0m\n",
            "\u001b[32m2024-10-18 11:35:06.675\u001b[0m | \u001b[1mINFO    \u001b[0m | \u001b[36mlighthouse.data_loader.load_chuv\u001b[0m:\u001b[36mconcatenate_dt5\u001b[0m:\u001b[36m497\u001b[0m - \u001b[1mLoading /Volumes/__UP2/0_RAW_DATA/UP2_001/UP2001_2024_02_09_Rehabilitation_day45/wisci/2024_02_09_14_18_13 (rec2)/ABSD data/2024_02_09_14_19_19_05of06.dt5\u001b[0m\n",
            "\u001b[32m2024-10-18 11:40:28.606\u001b[0m | \u001b[1mINFO    \u001b[0m | \u001b[36mlighthouse.data_loader.load_chuv\u001b[0m:\u001b[36mconcatenate_dt5\u001b[0m:\u001b[36m497\u001b[0m - \u001b[1mLoading /Volumes/__UP2/0_RAW_DATA/UP2_001/UP2001_2024_02_09_Rehabilitation_day45/wisci/2024_02_09_14_18_13 (rec2)/ABSD data/2024_02_09_14_19_19_06of06.dt5\u001b[0m\n"
          ]
        },
        {
          "name": "stdout",
          "output_type": "stream",
          "text": [
            "Signals shape: (62, 972556)\n",
            "New signal shape: (62, 48793)\n"
          ]
        },
        {
          "name": "stderr",
          "output_type": "stream",
          "text": [
            "\u001b[32m2024-10-18 11:41:42.623\u001b[0m | \u001b[1mINFO    \u001b[0m | \u001b[36mlighthouse.data_loader.load_chuv\u001b[0m:\u001b[36mconcatenate_dt5\u001b[0m:\u001b[36m497\u001b[0m - \u001b[1mLoading /Volumes/__UP2/0_RAW_DATA/UP2_001/UP2001_2024_02_09_Rehabilitation_day45/wisci/2024_02_09_14_48_15 (rec3)/ABSD data/2024_02_09_14_51_08_01of03.dt5\u001b[0m\n",
            "\u001b[32m2024-10-18 11:46:52.062\u001b[0m | \u001b[1mINFO    \u001b[0m | \u001b[36mlighthouse.data_loader.load_chuv\u001b[0m:\u001b[36mload_dt5\u001b[0m:\u001b[36m196\u001b[0m - \u001b[1mScenario Name: classBSIIndependentJointsClassif\u001b[0m\n",
            "\u001b[32m2024-10-18 11:46:52.070\u001b[0m | \u001b[33m\u001b[1mWARNING \u001b[0m | \u001b[36mlighthouse.data_loader.load_chuv\u001b[0m:\u001b[36mload_dt5\u001b[0m:\u001b[36m203\u001b[0m - \u001b[33m\u001b[1mCannot get metadata from chuv files: \"Unable to open object (object 'SubScenarioNames' doesn't exist)\"\u001b[0m\n",
            "\u001b[32m2024-10-18 11:46:56.503\u001b[0m | \u001b[1mINFO    \u001b[0m | \u001b[36mlighthouse.data_loader.load_chuv\u001b[0m:\u001b[36mconcatenate_dt5\u001b[0m:\u001b[36m497\u001b[0m - \u001b[1mLoading /Volumes/__UP2/0_RAW_DATA/UP2_001/UP2001_2024_02_09_Rehabilitation_day45/wisci/2024_02_09_14_48_15 (rec3)/ABSD data/2024_02_09_14_51_08_02of03.dt5\u001b[0m\n",
            "\u001b[32m2024-10-18 11:50:29.976\u001b[0m | \u001b[1mINFO    \u001b[0m | \u001b[36mlighthouse.data_loader.load_chuv\u001b[0m:\u001b[36mconcatenate_dt5\u001b[0m:\u001b[36m497\u001b[0m - \u001b[1mLoading /Volumes/__UP2/0_RAW_DATA/UP2_001/UP2001_2024_02_09_Rehabilitation_day45/wisci/2024_02_09_14_48_15 (rec3)/ABSD data/2024_02_09_14_51_08_03of03.dt5\u001b[0m\n"
          ]
        },
        {
          "name": "stdout",
          "output_type": "stream",
          "text": [
            "Signals shape: (62, 363381)\n",
            "New signal shape: (62, 0)\n"
          ]
        },
        {
          "name": "stderr",
          "output_type": "stream",
          "text": [
            "\u001b[32m2024-10-18 11:50:37.833\u001b[0m | \u001b[1mINFO    \u001b[0m | \u001b[36mlighthouse.data_loader.load_chuv\u001b[0m:\u001b[36mconcatenate_dt5\u001b[0m:\u001b[36m497\u001b[0m - \u001b[1mLoading /Volumes/__UP2/0_RAW_DATA/UP2_001/UP2001_2024_02_09_Rehabilitation_day45/wisci/2024_02_09_15_02_12 (rec4)/ABSD data/2024_02_09_15_06_27_01of10.dt5\u001b[0m\n",
            "\u001b[32m2024-10-18 11:55:43.417\u001b[0m | \u001b[1mINFO    \u001b[0m | \u001b[36mlighthouse.data_loader.load_chuv\u001b[0m:\u001b[36mload_dt5\u001b[0m:\u001b[36m196\u001b[0m - \u001b[1mScenario Name: classBSIIndependentJointsClassif\u001b[0m\n",
            "\u001b[32m2024-10-18 11:55:43.420\u001b[0m | \u001b[33m\u001b[1mWARNING \u001b[0m | \u001b[36mlighthouse.data_loader.load_chuv\u001b[0m:\u001b[36mload_dt5\u001b[0m:\u001b[36m203\u001b[0m - \u001b[33m\u001b[1mCannot get metadata from chuv files: \"Unable to open object (object 'SubScenarioNames' doesn't exist)\"\u001b[0m\n",
            "\u001b[32m2024-10-18 11:55:48.256\u001b[0m | \u001b[1mINFO    \u001b[0m | \u001b[36mlighthouse.data_loader.load_chuv\u001b[0m:\u001b[36mconcatenate_dt5\u001b[0m:\u001b[36m497\u001b[0m - \u001b[1mLoading /Volumes/__UP2/0_RAW_DATA/UP2_001/UP2001_2024_02_09_Rehabilitation_day45/wisci/2024_02_09_15_02_12 (rec4)/ABSD data/2024_02_09_15_06_27_02of10.dt5\u001b[0m\n",
            "\u001b[32m2024-10-18 11:58:37.775\u001b[0m | \u001b[1mINFO    \u001b[0m | \u001b[36mlighthouse.data_loader.load_chuv\u001b[0m:\u001b[36mconcatenate_dt5\u001b[0m:\u001b[36m497\u001b[0m - \u001b[1mLoading /Volumes/__UP2/0_RAW_DATA/UP2_001/UP2001_2024_02_09_Rehabilitation_day45/wisci/2024_02_09_15_02_12 (rec4)/ABSD data/2024_02_09_15_06_27_03of10.dt5\u001b[0m\n",
            "\u001b[32m2024-10-18 11:59:30.907\u001b[0m | \u001b[1mINFO    \u001b[0m | \u001b[36mlighthouse.data_loader.load_chuv\u001b[0m:\u001b[36mconcatenate_dt5\u001b[0m:\u001b[36m497\u001b[0m - \u001b[1mLoading /Volumes/__UP2/0_RAW_DATA/UP2_001/UP2001_2024_02_09_Rehabilitation_day45/wisci/2024_02_09_15_02_12 (rec4)/ABSD data/2024_02_09_15_06_27_04of10.dt5\u001b[0m\n",
            "\u001b[32m2024-10-18 12:00:40.264\u001b[0m | \u001b[1mINFO    \u001b[0m | \u001b[36mlighthouse.data_loader.load_chuv\u001b[0m:\u001b[36mconcatenate_dt5\u001b[0m:\u001b[36m497\u001b[0m - \u001b[1mLoading /Volumes/__UP2/0_RAW_DATA/UP2_001/UP2001_2024_02_09_Rehabilitation_day45/wisci/2024_02_09_15_02_12 (rec4)/ABSD data/2024_02_09_15_06_27_05of10.dt5\u001b[0m\n",
            "\u001b[32m2024-10-18 12:02:19.973\u001b[0m | \u001b[1mINFO    \u001b[0m | \u001b[36mlighthouse.data_loader.load_chuv\u001b[0m:\u001b[36mconcatenate_dt5\u001b[0m:\u001b[36m497\u001b[0m - \u001b[1mLoading /Volumes/__UP2/0_RAW_DATA/UP2_001/UP2001_2024_02_09_Rehabilitation_day45/wisci/2024_02_09_15_02_12 (rec4)/ABSD data/2024_02_09_15_06_27_06of10.dt5\u001b[0m\n",
            "\u001b[32m2024-10-18 12:08:38.407\u001b[0m | \u001b[1mINFO    \u001b[0m | \u001b[36mlighthouse.data_loader.load_chuv\u001b[0m:\u001b[36mconcatenate_dt5\u001b[0m:\u001b[36m497\u001b[0m - \u001b[1mLoading /Volumes/__UP2/0_RAW_DATA/UP2_001/UP2001_2024_02_09_Rehabilitation_day45/wisci/2024_02_09_15_02_12 (rec4)/ABSD data/2024_02_09_15_06_27_07of10.dt5\u001b[0m\n",
            "\u001b[32m2024-10-18 12:10:09.117\u001b[0m | \u001b[1mINFO    \u001b[0m | \u001b[36mlighthouse.data_loader.load_chuv\u001b[0m:\u001b[36mconcatenate_dt5\u001b[0m:\u001b[36m497\u001b[0m - \u001b[1mLoading /Volumes/__UP2/0_RAW_DATA/UP2_001/UP2001_2024_02_09_Rehabilitation_day45/wisci/2024_02_09_15_02_12 (rec4)/ABSD data/2024_02_09_15_06_27_08of10.dt5\u001b[0m\n",
            "\u001b[32m2024-10-18 12:13:45.321\u001b[0m | \u001b[1mINFO    \u001b[0m | \u001b[36mlighthouse.data_loader.load_chuv\u001b[0m:\u001b[36mconcatenate_dt5\u001b[0m:\u001b[36m497\u001b[0m - \u001b[1mLoading /Volumes/__UP2/0_RAW_DATA/UP2_001/UP2001_2024_02_09_Rehabilitation_day45/wisci/2024_02_09_15_02_12 (rec4)/ABSD data/2024_02_09_15_06_27_09of10.dt5\u001b[0m\n",
            "\u001b[32m2024-10-18 12:18:48.555\u001b[0m | \u001b[1mINFO    \u001b[0m | \u001b[36mlighthouse.data_loader.load_chuv\u001b[0m:\u001b[36mconcatenate_dt5\u001b[0m:\u001b[36m497\u001b[0m - \u001b[1mLoading /Volumes/__UP2/0_RAW_DATA/UP2_001/UP2001_2024_02_09_Rehabilitation_day45/wisci/2024_02_09_15_02_12 (rec4)/ABSD data/2024_02_09_15_06_27_10of10.dt5\u001b[0m\n"
          ]
        },
        {
          "name": "stdout",
          "output_type": "stream",
          "text": [
            "Signals shape: (62, 1642973)\n",
            "New signal shape: (62, 565987)\n",
            "length of data: 149\n"
          ]
        },
        {
          "name": "stderr",
          "output_type": "stream",
          "text": [
            " 78%|███████▊  | 51/65 [12:11:09<8:09:51, 2099.41s/it]"
          ]
        },
        {
          "name": "stdout",
          "output_type": "stream",
          "text": [
            "Checkpoint saved after session 50\n",
            "Current session: (PosixPath('/Volumes/__UP2/0_RAW_DATA/UP2_001/UP2001_2024_02_13_Rehabilitation_day47'), 51)\n"
          ]
        },
        {
          "name": "stderr",
          "output_type": "stream",
          "text": [
            "\u001b[32m2024-10-18 12:19:57.327\u001b[0m | \u001b[1mINFO    \u001b[0m | \u001b[36mlighthouse.data_loader.load_chuv\u001b[0m:\u001b[36mconcatenate_dt5\u001b[0m:\u001b[36m497\u001b[0m - \u001b[1mLoading /Volumes/__UP2/0_RAW_DATA/UP2_001/UP2001_2024_02_13_Rehabilitation_day47/wisci/2024_02_13_14_54_49 (rec3)/ABSD data/2024_02_13_14_56_22_01of05.dt5\u001b[0m\n",
            "\u001b[32m2024-10-18 12:21:00.240\u001b[0m | \u001b[1mINFO    \u001b[0m | \u001b[36mlighthouse.data_loader.load_chuv\u001b[0m:\u001b[36mload_dt5\u001b[0m:\u001b[36m196\u001b[0m - \u001b[1mScenario Name: classBSIIndependentJointsClassif\u001b[0m\n",
            "\u001b[32m2024-10-18 12:21:00.242\u001b[0m | \u001b[33m\u001b[1mWARNING \u001b[0m | \u001b[36mlighthouse.data_loader.load_chuv\u001b[0m:\u001b[36mload_dt5\u001b[0m:\u001b[36m203\u001b[0m - \u001b[33m\u001b[1mCannot get metadata from chuv files: \"Unable to open object (object 'SubScenarioNames' doesn't exist)\"\u001b[0m\n",
            "\u001b[32m2024-10-18 12:21:04.721\u001b[0m | \u001b[1mINFO    \u001b[0m | \u001b[36mlighthouse.data_loader.load_chuv\u001b[0m:\u001b[36mconcatenate_dt5\u001b[0m:\u001b[36m497\u001b[0m - \u001b[1mLoading /Volumes/__UP2/0_RAW_DATA/UP2_001/UP2001_2024_02_13_Rehabilitation_day47/wisci/2024_02_13_14_54_49 (rec3)/ABSD data/2024_02_13_14_56_22_02of05.dt5\u001b[0m\n",
            "\u001b[32m2024-10-18 12:23:32.527\u001b[0m | \u001b[1mINFO    \u001b[0m | \u001b[36mlighthouse.data_loader.load_chuv\u001b[0m:\u001b[36mconcatenate_dt5\u001b[0m:\u001b[36m497\u001b[0m - \u001b[1mLoading /Volumes/__UP2/0_RAW_DATA/UP2_001/UP2001_2024_02_13_Rehabilitation_day47/wisci/2024_02_13_14_54_49 (rec3)/ABSD data/2024_02_13_14_56_22_03of05.dt5\u001b[0m\n",
            "\u001b[32m2024-10-18 12:28:47.058\u001b[0m | \u001b[1mINFO    \u001b[0m | \u001b[36mlighthouse.data_loader.load_chuv\u001b[0m:\u001b[36mconcatenate_dt5\u001b[0m:\u001b[36m497\u001b[0m - \u001b[1mLoading /Volumes/__UP2/0_RAW_DATA/UP2_001/UP2001_2024_02_13_Rehabilitation_day47/wisci/2024_02_13_14_54_49 (rec3)/ABSD data/2024_02_13_14_56_22_04of05.dt5\u001b[0m\n",
            "\u001b[32m2024-10-18 12:33:59.441\u001b[0m | \u001b[1mINFO    \u001b[0m | \u001b[36mlighthouse.data_loader.load_chuv\u001b[0m:\u001b[36mconcatenate_dt5\u001b[0m:\u001b[36m497\u001b[0m - \u001b[1mLoading /Volumes/__UP2/0_RAW_DATA/UP2_001/UP2001_2024_02_13_Rehabilitation_day47/wisci/2024_02_13_14_54_49 (rec3)/ABSD data/2024_02_13_14_56_22_05of05.dt5\u001b[0m\n"
          ]
        },
        {
          "name": "stdout",
          "output_type": "stream",
          "text": [
            "Signals shape: (62, 762634)\n",
            "New signal shape: (62, 0)\n",
            "length of data: 150\n"
          ]
        },
        {
          "name": "stderr",
          "output_type": "stream",
          "text": [
            " 80%|████████  | 52/65 [12:26:17<6:17:24, 1741.86s/it]"
          ]
        },
        {
          "name": "stdout",
          "output_type": "stream",
          "text": [
            "Checkpoint saved after session 51\n",
            "Current session: (PosixPath('/Volumes/__UP2/0_RAW_DATA/UP2_001/UP2001_2024_02_14_Rehabilitation_day48'), 52)\n"
          ]
        },
        {
          "name": "stderr",
          "output_type": "stream",
          "text": [
            "\u001b[32m2024-10-18 12:35:06.108\u001b[0m | \u001b[1mINFO    \u001b[0m | \u001b[36mlighthouse.data_loader.load_chuv\u001b[0m:\u001b[36mconcatenate_dt5\u001b[0m:\u001b[36m497\u001b[0m - \u001b[1mLoading /Volumes/__UP2/0_RAW_DATA/UP2_001/UP2001_2024_02_14_Rehabilitation_day48/wisci/2024_02_14_13_13_48 (rec1)/ABSD data/2024_02_14_13_16_58_01of08.dt5\u001b[0m\n",
            "\u001b[32m2024-10-18 12:35:54.545\u001b[0m | \u001b[1mINFO    \u001b[0m | \u001b[36mlighthouse.data_loader.load_chuv\u001b[0m:\u001b[36mload_dt5\u001b[0m:\u001b[36m196\u001b[0m - \u001b[1mScenario Name: classBSIIndependentJointsClassif\u001b[0m\n",
            "\u001b[32m2024-10-18 12:35:54.547\u001b[0m | \u001b[33m\u001b[1mWARNING \u001b[0m | \u001b[36mlighthouse.data_loader.load_chuv\u001b[0m:\u001b[36mload_dt5\u001b[0m:\u001b[36m203\u001b[0m - \u001b[33m\u001b[1mCannot get metadata from chuv files: \"Unable to open object (object 'SubScenarioNames' doesn't exist)\"\u001b[0m\n",
            "\u001b[32m2024-10-18 12:35:59.034\u001b[0m | \u001b[1mINFO    \u001b[0m | \u001b[36mlighthouse.data_loader.load_chuv\u001b[0m:\u001b[36mconcatenate_dt5\u001b[0m:\u001b[36m497\u001b[0m - \u001b[1mLoading /Volumes/__UP2/0_RAW_DATA/UP2_001/UP2001_2024_02_14_Rehabilitation_day48/wisci/2024_02_14_13_13_48 (rec1)/ABSD data/2024_02_14_13_16_58_02of08.dt5\u001b[0m\n",
            "\u001b[32m2024-10-18 12:37:05.171\u001b[0m | \u001b[1mINFO    \u001b[0m | \u001b[36mlighthouse.data_loader.load_chuv\u001b[0m:\u001b[36mconcatenate_dt5\u001b[0m:\u001b[36m497\u001b[0m - \u001b[1mLoading /Volumes/__UP2/0_RAW_DATA/UP2_001/UP2001_2024_02_14_Rehabilitation_day48/wisci/2024_02_14_13_13_48 (rec1)/ABSD data/2024_02_14_13_16_58_03of08.dt5\u001b[0m\n",
            "\u001b[32m2024-10-18 12:38:24.650\u001b[0m | \u001b[1mINFO    \u001b[0m | \u001b[36mlighthouse.data_loader.load_chuv\u001b[0m:\u001b[36mconcatenate_dt5\u001b[0m:\u001b[36m497\u001b[0m - \u001b[1mLoading /Volumes/__UP2/0_RAW_DATA/UP2_001/UP2001_2024_02_14_Rehabilitation_day48/wisci/2024_02_14_13_13_48 (rec1)/ABSD data/2024_02_14_13_16_58_04of08.dt5\u001b[0m\n",
            "\u001b[32m2024-10-18 12:39:13.797\u001b[0m | \u001b[1mINFO    \u001b[0m | \u001b[36mlighthouse.data_loader.load_chuv\u001b[0m:\u001b[36mconcatenate_dt5\u001b[0m:\u001b[36m497\u001b[0m - \u001b[1mLoading /Volumes/__UP2/0_RAW_DATA/UP2_001/UP2001_2024_02_14_Rehabilitation_day48/wisci/2024_02_14_13_13_48 (rec1)/ABSD data/2024_02_14_13_16_58_05of08.dt5\u001b[0m\n",
            "\u001b[32m2024-10-18 12:40:03.373\u001b[0m | \u001b[1mINFO    \u001b[0m | \u001b[36mlighthouse.data_loader.load_chuv\u001b[0m:\u001b[36mconcatenate_dt5\u001b[0m:\u001b[36m497\u001b[0m - \u001b[1mLoading /Volumes/__UP2/0_RAW_DATA/UP2_001/UP2001_2024_02_14_Rehabilitation_day48/wisci/2024_02_14_13_13_48 (rec1)/ABSD data/2024_02_14_13_16_58_06of08.dt5\u001b[0m\n",
            "\u001b[32m2024-10-18 12:40:53.271\u001b[0m | \u001b[1mINFO    \u001b[0m | \u001b[36mlighthouse.data_loader.load_chuv\u001b[0m:\u001b[36mconcatenate_dt5\u001b[0m:\u001b[36m497\u001b[0m - \u001b[1mLoading /Volumes/__UP2/0_RAW_DATA/UP2_001/UP2001_2024_02_14_Rehabilitation_day48/wisci/2024_02_14_13_13_48 (rec1)/ABSD data/2024_02_14_13_16_58_07of08.dt5\u001b[0m\n",
            "\u001b[32m2024-10-18 12:42:04.304\u001b[0m | \u001b[1mINFO    \u001b[0m | \u001b[36mlighthouse.data_loader.load_chuv\u001b[0m:\u001b[36mconcatenate_dt5\u001b[0m:\u001b[36m497\u001b[0m - \u001b[1mLoading /Volumes/__UP2/0_RAW_DATA/UP2_001/UP2001_2024_02_14_Rehabilitation_day48/wisci/2024_02_14_13_13_48 (rec1)/ABSD data/2024_02_14_13_16_58_08of08.dt5\u001b[0m\n"
          ]
        },
        {
          "name": "stdout",
          "output_type": "stream",
          "text": [
            "Signals shape: (62, 1355702)\n",
            "New signal shape: (62, 470938)\n"
          ]
        },
        {
          "name": "stderr",
          "output_type": "stream",
          "text": [
            "\u001b[32m2024-10-18 12:42:38.858\u001b[0m | \u001b[1mINFO    \u001b[0m | \u001b[36mlighthouse.data_loader.load_chuv\u001b[0m:\u001b[36mconcatenate_dt5\u001b[0m:\u001b[36m497\u001b[0m - \u001b[1mLoading /Volumes/__UP2/0_RAW_DATA/UP2_001/UP2001_2024_02_14_Rehabilitation_day48/wisci/2024_02_14_13_57_15 (rec2)/ABSD data/2024_02_14_14_01_51_01of04.dt5\u001b[0m\n",
            "\u001b[32m2024-10-18 12:43:21.189\u001b[0m | \u001b[1mINFO    \u001b[0m | \u001b[36mlighthouse.data_loader.load_chuv\u001b[0m:\u001b[36mload_dt5\u001b[0m:\u001b[36m196\u001b[0m - \u001b[1mScenario Name: classBCIViewerAvatarAllDegreesCourtine\u001b[0m\n",
            "\u001b[32m2024-10-18 12:43:21.196\u001b[0m | \u001b[1mINFO    \u001b[0m | \u001b[36mlighthouse.data_loader.load_chuv\u001b[0m:\u001b[36mload_dt5\u001b[0m:\u001b[36m199\u001b[0m - \u001b[1mSub Scenario Name: classBSISubScenarioUpperJointsClassif\u001b[0m\n",
            "\u001b[32m2024-10-18 12:43:24.937\u001b[0m | \u001b[1mINFO    \u001b[0m | \u001b[36mlighthouse.data_loader.load_chuv\u001b[0m:\u001b[36mconcatenate_dt5\u001b[0m:\u001b[36m497\u001b[0m - \u001b[1mLoading /Volumes/__UP2/0_RAW_DATA/UP2_001/UP2001_2024_02_14_Rehabilitation_day48/wisci/2024_02_14_13_57_15 (rec2)/ABSD data/2024_02_14_14_01_51_02of04.dt5\u001b[0m\n",
            "\u001b[32m2024-10-18 12:44:17.006\u001b[0m | \u001b[1mINFO    \u001b[0m | \u001b[36mlighthouse.data_loader.load_chuv\u001b[0m:\u001b[36mconcatenate_dt5\u001b[0m:\u001b[36m497\u001b[0m - \u001b[1mLoading /Volumes/__UP2/0_RAW_DATA/UP2_001/UP2001_2024_02_14_Rehabilitation_day48/wisci/2024_02_14_13_57_15 (rec2)/ABSD data/2024_02_14_14_01_51_03of04.dt5\u001b[0m\n",
            "\u001b[32m2024-10-18 12:45:09.523\u001b[0m | \u001b[1mINFO    \u001b[0m | \u001b[36mlighthouse.data_loader.load_chuv\u001b[0m:\u001b[36mconcatenate_dt5\u001b[0m:\u001b[36m497\u001b[0m - \u001b[1mLoading /Volumes/__UP2/0_RAW_DATA/UP2_001/UP2001_2024_02_14_Rehabilitation_day48/wisci/2024_02_14_13_57_15 (rec2)/ABSD data/2024_02_14_14_01_51_04of04.dt5\u001b[0m\n"
          ]
        },
        {
          "name": "stdout",
          "output_type": "stream",
          "text": [
            "Signals shape: (56, 600738)\n",
            "New signal shape: (56, 73514)\n"
          ]
        },
        {
          "name": "stderr",
          "output_type": "stream",
          "text": [
            "\u001b[32m2024-10-18 12:45:28.657\u001b[0m | \u001b[1mINFO    \u001b[0m | \u001b[36mlighthouse.data_loader.load_chuv\u001b[0m:\u001b[36mconcatenate_dt5\u001b[0m:\u001b[36m497\u001b[0m - \u001b[1mLoading /Volumes/__UP2/0_RAW_DATA/UP2_001/UP2001_2024_02_14_Rehabilitation_day48/wisci/2024_02_14_14_19_39 (rec3)/ABSD data/2024_02_14_14_24_31_01of06.dt5\u001b[0m\n",
            "\u001b[32m2024-10-18 12:46:15.199\u001b[0m | \u001b[1mINFO    \u001b[0m | \u001b[36mlighthouse.data_loader.load_chuv\u001b[0m:\u001b[36mload_dt5\u001b[0m:\u001b[36m196\u001b[0m - \u001b[1mScenario Name: classBSIIndependentJointsClassif\u001b[0m\n",
            "\u001b[32m2024-10-18 12:46:15.201\u001b[0m | \u001b[33m\u001b[1mWARNING \u001b[0m | \u001b[36mlighthouse.data_loader.load_chuv\u001b[0m:\u001b[36mload_dt5\u001b[0m:\u001b[36m203\u001b[0m - \u001b[33m\u001b[1mCannot get metadata from chuv files: \"Unable to open object (object 'SubScenarioNames' doesn't exist)\"\u001b[0m\n",
            "\u001b[32m2024-10-18 12:46:18.981\u001b[0m | \u001b[1mINFO    \u001b[0m | \u001b[36mlighthouse.data_loader.load_chuv\u001b[0m:\u001b[36mconcatenate_dt5\u001b[0m:\u001b[36m497\u001b[0m - \u001b[1mLoading /Volumes/__UP2/0_RAW_DATA/UP2_001/UP2001_2024_02_14_Rehabilitation_day48/wisci/2024_02_14_14_19_39 (rec3)/ABSD data/2024_02_14_14_24_31_02of06.dt5\u001b[0m\n",
            "\u001b[32m2024-10-18 12:47:08.549\u001b[0m | \u001b[1mINFO    \u001b[0m | \u001b[36mlighthouse.data_loader.load_chuv\u001b[0m:\u001b[36mconcatenate_dt5\u001b[0m:\u001b[36m497\u001b[0m - \u001b[1mLoading /Volumes/__UP2/0_RAW_DATA/UP2_001/UP2001_2024_02_14_Rehabilitation_day48/wisci/2024_02_14_14_19_39 (rec3)/ABSD data/2024_02_14_14_24_31_03of06.dt5\u001b[0m\n",
            "\u001b[32m2024-10-18 12:48:00.531\u001b[0m | \u001b[1mINFO    \u001b[0m | \u001b[36mlighthouse.data_loader.load_chuv\u001b[0m:\u001b[36mconcatenate_dt5\u001b[0m:\u001b[36m497\u001b[0m - \u001b[1mLoading /Volumes/__UP2/0_RAW_DATA/UP2_001/UP2001_2024_02_14_Rehabilitation_day48/wisci/2024_02_14_14_19_39 (rec3)/ABSD data/2024_02_14_14_24_31_04of06.dt5\u001b[0m\n",
            "\u001b[32m2024-10-18 12:48:55.554\u001b[0m | \u001b[1mINFO    \u001b[0m | \u001b[36mlighthouse.data_loader.load_chuv\u001b[0m:\u001b[36mconcatenate_dt5\u001b[0m:\u001b[36m497\u001b[0m - \u001b[1mLoading /Volumes/__UP2/0_RAW_DATA/UP2_001/UP2001_2024_02_14_Rehabilitation_day48/wisci/2024_02_14_14_19_39 (rec3)/ABSD data/2024_02_14_14_24_31_05of06.dt5\u001b[0m\n",
            "\u001b[32m2024-10-18 12:49:46.014\u001b[0m | \u001b[1mINFO    \u001b[0m | \u001b[36mlighthouse.data_loader.load_chuv\u001b[0m:\u001b[36mconcatenate_dt5\u001b[0m:\u001b[36m497\u001b[0m - \u001b[1mLoading /Volumes/__UP2/0_RAW_DATA/UP2_001/UP2001_2024_02_14_Rehabilitation_day48/wisci/2024_02_14_14_19_39 (rec3)/ABSD data/2024_02_14_14_24_31_06of06.dt5\u001b[0m\n"
          ]
        },
        {
          "name": "stdout",
          "output_type": "stream",
          "text": [
            "Signals shape: (62, 1011083)\n",
            "New signal shape: (62, 13511)\n"
          ]
        },
        {
          "name": "stderr",
          "output_type": "stream",
          "text": [
            "\u001b[32m2024-10-18 12:50:21.071\u001b[0m | \u001b[1mINFO    \u001b[0m | \u001b[36mlighthouse.data_loader.load_chuv\u001b[0m:\u001b[36mconcatenate_dt5\u001b[0m:\u001b[36m497\u001b[0m - \u001b[1mLoading /Volumes/__UP2/0_RAW_DATA/UP2_001/UP2001_2024_02_14_Rehabilitation_day48/wisci/2024_02_14_14_54_53 (rec4)/ABSD data/2024_02_14_14_57_06_01of01.dt5\u001b[0m\n",
            "\u001b[32m2024-10-18 12:50:55.386\u001b[0m | \u001b[1mINFO    \u001b[0m | \u001b[36mlighthouse.data_loader.load_chuv\u001b[0m:\u001b[36mload_dt5\u001b[0m:\u001b[36m196\u001b[0m - \u001b[1mScenario Name: classBSIIndependentJointsClassif\u001b[0m\n",
            "\u001b[32m2024-10-18 12:50:55.387\u001b[0m | \u001b[33m\u001b[1mWARNING \u001b[0m | \u001b[36mlighthouse.data_loader.load_chuv\u001b[0m:\u001b[36mload_dt5\u001b[0m:\u001b[36m203\u001b[0m - \u001b[33m\u001b[1mCannot get metadata from chuv files: \"Unable to open object (object 'SubScenarioNames' doesn't exist)\"\u001b[0m\n"
          ]
        },
        {
          "name": "stdout",
          "output_type": "stream",
          "text": [
            "Signals shape: (62, 117174)\n",
            "New signal shape: (62, 0)\n"
          ]
        },
        {
          "name": "stderr",
          "output_type": "stream",
          "text": [
            "\u001b[32m2024-10-18 12:50:58.133\u001b[0m | \u001b[1mINFO    \u001b[0m | \u001b[36mlighthouse.data_loader.load_chuv\u001b[0m:\u001b[36mconcatenate_dt5\u001b[0m:\u001b[36m497\u001b[0m - \u001b[1mLoading /Volumes/__UP2/0_RAW_DATA/UP2_001/UP2001_2024_02_14_Rehabilitation_day48/wisci/2024_02_14_15_00_45 (rec5)/ABSD data/2024_02_14_15_04_23_01of01.dt5\u001b[0m\n",
            "\u001b[32m2024-10-18 12:50:59.071\u001b[0m | \u001b[1mINFO    \u001b[0m | \u001b[36mlighthouse.data_loader.load_chuv\u001b[0m:\u001b[36mload_dt5\u001b[0m:\u001b[36m196\u001b[0m - \u001b[1mScenario Name: classBCIViewerAvatarAllDegreesCourtine\u001b[0m\n",
            "\u001b[32m2024-10-18 12:50:59.075\u001b[0m | \u001b[1mINFO    \u001b[0m | \u001b[36mlighthouse.data_loader.load_chuv\u001b[0m:\u001b[36mload_dt5\u001b[0m:\u001b[36m199\u001b[0m - \u001b[1mSub Scenario Name: classBSISubScenarioUpperJointsClassif\u001b[0m\n"
          ]
        },
        {
          "name": "stdout",
          "output_type": "stream",
          "text": [
            "Signals shape: (56, 2891)\n",
            "New signal shape: (56, 0)\n"
          ]
        },
        {
          "name": "stderr",
          "output_type": "stream",
          "text": [
            "\u001b[32m2024-10-18 12:50:59.515\u001b[0m | \u001b[1mINFO    \u001b[0m | \u001b[36mlighthouse.data_loader.load_chuv\u001b[0m:\u001b[36mconcatenate_dt5\u001b[0m:\u001b[36m497\u001b[0m - \u001b[1mLoading /Volumes/__UP2/0_RAW_DATA/UP2_001/UP2001_2024_02_14_Rehabilitation_day48/wisci/2024_02_14_15_04_41 (rec6)/ABSD data/2024_02_14_15_06_45_01of07.dt5\u001b[0m\n",
            "\u001b[32m2024-10-18 12:51:45.201\u001b[0m | \u001b[1mINFO    \u001b[0m | \u001b[36mlighthouse.data_loader.load_chuv\u001b[0m:\u001b[36mload_dt5\u001b[0m:\u001b[36m196\u001b[0m - \u001b[1mScenario Name: classBCIViewerAvatarAllDegreesCourtine\u001b[0m\n",
            "\u001b[32m2024-10-18 12:51:45.208\u001b[0m | \u001b[1mINFO    \u001b[0m | \u001b[36mlighthouse.data_loader.load_chuv\u001b[0m:\u001b[36mload_dt5\u001b[0m:\u001b[36m199\u001b[0m - \u001b[1mSub Scenario Name: classBSISubScenarioUpperJointsClassif\u001b[0m\n",
            "\u001b[32m2024-10-18 12:51:48.843\u001b[0m | \u001b[1mINFO    \u001b[0m | \u001b[36mlighthouse.data_loader.load_chuv\u001b[0m:\u001b[36mconcatenate_dt5\u001b[0m:\u001b[36m497\u001b[0m - \u001b[1mLoading /Volumes/__UP2/0_RAW_DATA/UP2_001/UP2001_2024_02_14_Rehabilitation_day48/wisci/2024_02_14_15_04_41 (rec6)/ABSD data/2024_02_14_15_06_45_02of07.dt5\u001b[0m\n",
            "\u001b[32m2024-10-18 12:52:35.341\u001b[0m | \u001b[1mINFO    \u001b[0m | \u001b[36mlighthouse.data_loader.load_chuv\u001b[0m:\u001b[36mconcatenate_dt5\u001b[0m:\u001b[36m497\u001b[0m - \u001b[1mLoading /Volumes/__UP2/0_RAW_DATA/UP2_001/UP2001_2024_02_14_Rehabilitation_day48/wisci/2024_02_14_15_04_41 (rec6)/ABSD data/2024_02_14_15_06_45_03of07.dt5\u001b[0m\n",
            "\u001b[32m2024-10-18 12:53:22.582\u001b[0m | \u001b[1mINFO    \u001b[0m | \u001b[36mlighthouse.data_loader.load_chuv\u001b[0m:\u001b[36mconcatenate_dt5\u001b[0m:\u001b[36m497\u001b[0m - \u001b[1mLoading /Volumes/__UP2/0_RAW_DATA/UP2_001/UP2001_2024_02_14_Rehabilitation_day48/wisci/2024_02_14_15_04_41 (rec6)/ABSD data/2024_02_14_15_06_45_04of07.dt5\u001b[0m\n",
            "\u001b[32m2024-10-18 12:54:10.411\u001b[0m | \u001b[1mINFO    \u001b[0m | \u001b[36mlighthouse.data_loader.load_chuv\u001b[0m:\u001b[36mconcatenate_dt5\u001b[0m:\u001b[36m497\u001b[0m - \u001b[1mLoading /Volumes/__UP2/0_RAW_DATA/UP2_001/UP2001_2024_02_14_Rehabilitation_day48/wisci/2024_02_14_15_04_41 (rec6)/ABSD data/2024_02_14_15_06_45_05of07.dt5\u001b[0m\n",
            "\u001b[32m2024-10-18 12:54:57.956\u001b[0m | \u001b[1mINFO    \u001b[0m | \u001b[36mlighthouse.data_loader.load_chuv\u001b[0m:\u001b[36mconcatenate_dt5\u001b[0m:\u001b[36m497\u001b[0m - \u001b[1mLoading /Volumes/__UP2/0_RAW_DATA/UP2_001/UP2001_2024_02_14_Rehabilitation_day48/wisci/2024_02_14_15_04_41 (rec6)/ABSD data/2024_02_14_15_06_45_06of07.dt5\u001b[0m\n",
            "\u001b[32m2024-10-18 12:55:45.686\u001b[0m | \u001b[1mINFO    \u001b[0m | \u001b[36mlighthouse.data_loader.load_chuv\u001b[0m:\u001b[36mconcatenate_dt5\u001b[0m:\u001b[36m497\u001b[0m - \u001b[1mLoading /Volumes/__UP2/0_RAW_DATA/UP2_001/UP2001_2024_02_14_Rehabilitation_day48/wisci/2024_02_14_15_04_41 (rec6)/ABSD data/2024_02_14_15_06_45_07of07.dt5\u001b[0m\n"
          ]
        },
        {
          "name": "stdout",
          "output_type": "stream",
          "text": [
            "Signals shape: (56, 1175634)\n",
            "New signal shape: (56, 22656)\n",
            "length of data: 156\n"
          ]
        },
        {
          "name": "stderr",
          "output_type": "stream",
          "text": [
            " 82%|████████▏ | 53/65 [12:48:19<5:23:12, 1616.01s/it]"
          ]
        },
        {
          "name": "stdout",
          "output_type": "stream",
          "text": [
            "Checkpoint saved after session 52\n",
            "Current session: (PosixPath('/Volumes/__UP2/0_RAW_DATA/UP2_001/UP2001_2024_02_15_Rehabilitation_day49'), 53)\n"
          ]
        },
        {
          "name": "stderr",
          "output_type": "stream",
          "text": [
            "\u001b[32m2024-10-18 12:57:03.716\u001b[0m | \u001b[1mINFO    \u001b[0m | \u001b[36mlighthouse.data_loader.load_chuv\u001b[0m:\u001b[36mconcatenate_dt5\u001b[0m:\u001b[36m497\u001b[0m - \u001b[1mLoading /Volumes/__UP2/0_RAW_DATA/UP2_001/UP2001_2024_02_15_Rehabilitation_day49/wisci/ABSD data/2024_02_15_13_08_46_01of08.dt5\u001b[0m\n",
            "\u001b[32m2024-10-18 12:57:46.535\u001b[0m | \u001b[1mINFO    \u001b[0m | \u001b[36mlighthouse.data_loader.load_chuv\u001b[0m:\u001b[36mload_dt5\u001b[0m:\u001b[36m196\u001b[0m - \u001b[1mScenario Name: classBCIViewerAvatarAllDegreesCourtine\u001b[0m\n",
            "\u001b[32m2024-10-18 12:57:46.548\u001b[0m | \u001b[1mINFO    \u001b[0m | \u001b[36mlighthouse.data_loader.load_chuv\u001b[0m:\u001b[36mload_dt5\u001b[0m:\u001b[36m199\u001b[0m - \u001b[1mSub Scenario Name: classBSISubScenarioUpperJointsClassif\u001b[0m\n",
            "\u001b[32m2024-10-18 12:57:51.319\u001b[0m | \u001b[1mINFO    \u001b[0m | \u001b[36mlighthouse.data_loader.load_chuv\u001b[0m:\u001b[36mconcatenate_dt5\u001b[0m:\u001b[36m497\u001b[0m - \u001b[1mLoading /Volumes/__UP2/0_RAW_DATA/UP2_001/UP2001_2024_02_15_Rehabilitation_day49/wisci/ABSD data/2024_02_15_13_08_46_02of08.dt5\u001b[0m\n",
            "\u001b[32m2024-10-18 12:58:38.918\u001b[0m | \u001b[1mINFO    \u001b[0m | \u001b[36mlighthouse.data_loader.load_chuv\u001b[0m:\u001b[36mconcatenate_dt5\u001b[0m:\u001b[36m497\u001b[0m - \u001b[1mLoading /Volumes/__UP2/0_RAW_DATA/UP2_001/UP2001_2024_02_15_Rehabilitation_day49/wisci/ABSD data/2024_02_15_13_08_46_03of08.dt5\u001b[0m\n",
            "\u001b[32m2024-10-18 12:59:28.377\u001b[0m | \u001b[1mINFO    \u001b[0m | \u001b[36mlighthouse.data_loader.load_chuv\u001b[0m:\u001b[36mconcatenate_dt5\u001b[0m:\u001b[36m497\u001b[0m - \u001b[1mLoading /Volumes/__UP2/0_RAW_DATA/UP2_001/UP2001_2024_02_15_Rehabilitation_day49/wisci/ABSD data/2024_02_15_13_08_46_04of08.dt5\u001b[0m\n",
            "\u001b[32m2024-10-18 13:00:41.516\u001b[0m | \u001b[1mINFO    \u001b[0m | \u001b[36mlighthouse.data_loader.load_chuv\u001b[0m:\u001b[36mconcatenate_dt5\u001b[0m:\u001b[36m497\u001b[0m - \u001b[1mLoading /Volumes/__UP2/0_RAW_DATA/UP2_001/UP2001_2024_02_15_Rehabilitation_day49/wisci/ABSD data/2024_02_15_13_08_46_05of08.dt5\u001b[0m\n",
            "\u001b[32m2024-10-18 13:01:31.933\u001b[0m | \u001b[1mINFO    \u001b[0m | \u001b[36mlighthouse.data_loader.load_chuv\u001b[0m:\u001b[36mconcatenate_dt5\u001b[0m:\u001b[36m497\u001b[0m - \u001b[1mLoading /Volumes/__UP2/0_RAW_DATA/UP2_001/UP2001_2024_02_15_Rehabilitation_day49/wisci/ABSD data/2024_02_15_13_08_46_06of08.dt5\u001b[0m\n",
            "\u001b[32m2024-10-18 13:02:24.995\u001b[0m | \u001b[1mINFO    \u001b[0m | \u001b[36mlighthouse.data_loader.load_chuv\u001b[0m:\u001b[36mconcatenate_dt5\u001b[0m:\u001b[36m497\u001b[0m - \u001b[1mLoading /Volumes/__UP2/0_RAW_DATA/UP2_001/UP2001_2024_02_15_Rehabilitation_day49/wisci/ABSD data/2024_02_15_13_08_46_07of08.dt5\u001b[0m\n",
            "\u001b[32m2024-10-18 13:03:15.265\u001b[0m | \u001b[1mINFO    \u001b[0m | \u001b[36mlighthouse.data_loader.load_chuv\u001b[0m:\u001b[36mconcatenate_dt5\u001b[0m:\u001b[36m497\u001b[0m - \u001b[1mLoading /Volumes/__UP2/0_RAW_DATA/UP2_001/UP2001_2024_02_15_Rehabilitation_day49/wisci/ABSD data/2024_02_15_13_08_46_08of08.dt5\u001b[0m\n"
          ]
        },
        {
          "name": "stdout",
          "output_type": "stream",
          "text": [
            "Signals shape: (56, 1387916)\n",
            "New signal shape: (56, 289159)\n"
          ]
        },
        {
          "name": "stderr",
          "output_type": "stream",
          "text": [
            "\u001b[32m2024-10-18 13:03:55.291\u001b[0m | \u001b[1mINFO    \u001b[0m | \u001b[36mlighthouse.data_loader.load_chuv\u001b[0m:\u001b[36mconcatenate_dt5\u001b[0m:\u001b[36m497\u001b[0m - \u001b[1mLoading /Volumes/__UP2/0_RAW_DATA/UP2_001/UP2001_2024_02_15_Rehabilitation_day49/wisci/2024_02_15_13_49_45 (rec2)/ABSD data/2024_02_15_13_52_33_01of05.dt5\u001b[0m\n",
            "\u001b[32m2024-10-18 13:04:38.367\u001b[0m | \u001b[1mINFO    \u001b[0m | \u001b[36mlighthouse.data_loader.load_chuv\u001b[0m:\u001b[36mload_dt5\u001b[0m:\u001b[36m196\u001b[0m - \u001b[1mScenario Name: classBCIViewerAvatarAllDegreesCourtine\u001b[0m\n",
            "\u001b[32m2024-10-18 13:04:38.372\u001b[0m | \u001b[1mINFO    \u001b[0m | \u001b[36mlighthouse.data_loader.load_chuv\u001b[0m:\u001b[36mload_dt5\u001b[0m:\u001b[36m199\u001b[0m - \u001b[1mSub Scenario Name: classBSISubScenarioUpperJointsClassif\u001b[0m\n",
            "\u001b[32m2024-10-18 13:04:42.238\u001b[0m | \u001b[1mINFO    \u001b[0m | \u001b[36mlighthouse.data_loader.load_chuv\u001b[0m:\u001b[36mconcatenate_dt5\u001b[0m:\u001b[36m497\u001b[0m - \u001b[1mLoading /Volumes/__UP2/0_RAW_DATA/UP2_001/UP2001_2024_02_15_Rehabilitation_day49/wisci/2024_02_15_13_49_45 (rec2)/ABSD data/2024_02_15_13_52_33_02of05.dt5\u001b[0m\n",
            "\u001b[32m2024-10-18 13:05:29.072\u001b[0m | \u001b[1mINFO    \u001b[0m | \u001b[36mlighthouse.data_loader.load_chuv\u001b[0m:\u001b[36mconcatenate_dt5\u001b[0m:\u001b[36m497\u001b[0m - \u001b[1mLoading /Volumes/__UP2/0_RAW_DATA/UP2_001/UP2001_2024_02_15_Rehabilitation_day49/wisci/2024_02_15_13_49_45 (rec2)/ABSD data/2024_02_15_13_52_33_03of05.dt5\u001b[0m\n",
            "\u001b[32m2024-10-18 13:06:15.371\u001b[0m | \u001b[1mINFO    \u001b[0m | \u001b[36mlighthouse.data_loader.load_chuv\u001b[0m:\u001b[36mconcatenate_dt5\u001b[0m:\u001b[36m497\u001b[0m - \u001b[1mLoading /Volumes/__UP2/0_RAW_DATA/UP2_001/UP2001_2024_02_15_Rehabilitation_day49/wisci/2024_02_15_13_49_45 (rec2)/ABSD data/2024_02_15_13_52_33_04of05.dt5\u001b[0m\n",
            "\u001b[32m2024-10-18 13:06:58.993\u001b[0m | \u001b[1mINFO    \u001b[0m | \u001b[36mlighthouse.data_loader.load_chuv\u001b[0m:\u001b[36mconcatenate_dt5\u001b[0m:\u001b[36m497\u001b[0m - \u001b[1mLoading /Volumes/__UP2/0_RAW_DATA/UP2_001/UP2001_2024_02_15_Rehabilitation_day49/wisci/2024_02_15_13_49_45 (rec2)/ABSD data/2024_02_15_13_52_33_05of05.dt5\u001b[0m\n"
          ]
        },
        {
          "name": "stdout",
          "output_type": "stream",
          "text": [
            "Signals shape: (56, 804937)\n",
            "New signal shape: (56, 42834)\n"
          ]
        },
        {
          "name": "stderr",
          "output_type": "stream",
          "text": [
            "\u001b[32m2024-10-18 13:07:23.985\u001b[0m | \u001b[1mINFO    \u001b[0m | \u001b[36mlighthouse.data_loader.load_chuv\u001b[0m:\u001b[36mconcatenate_dt5\u001b[0m:\u001b[36m497\u001b[0m - \u001b[1mLoading /Volumes/__UP2/0_RAW_DATA/UP2_001/UP2001_2024_02_15_Rehabilitation_day49/wisci/2024_02_15_14_16_15 (rec3)/ABSD data/2024_02_15_14_17_37_01of11.dt5\u001b[0m\n",
            "\u001b[32m2024-10-18 13:08:08.305\u001b[0m | \u001b[1mINFO    \u001b[0m | \u001b[36mlighthouse.data_loader.load_chuv\u001b[0m:\u001b[36mload_dt5\u001b[0m:\u001b[36m196\u001b[0m - \u001b[1mScenario Name: classBCIViewerAvatarAllDegreesCourtine\u001b[0m\n",
            "\u001b[32m2024-10-18 13:08:08.312\u001b[0m | \u001b[1mINFO    \u001b[0m | \u001b[36mlighthouse.data_loader.load_chuv\u001b[0m:\u001b[36mload_dt5\u001b[0m:\u001b[36m199\u001b[0m - \u001b[1mSub Scenario Name: classBSISubScenarioUpperJointsClassif\u001b[0m\n",
            "\u001b[32m2024-10-18 13:08:12.006\u001b[0m | \u001b[1mINFO    \u001b[0m | \u001b[36mlighthouse.data_loader.load_chuv\u001b[0m:\u001b[36mconcatenate_dt5\u001b[0m:\u001b[36m497\u001b[0m - \u001b[1mLoading /Volumes/__UP2/0_RAW_DATA/UP2_001/UP2001_2024_02_15_Rehabilitation_day49/wisci/2024_02_15_14_16_15 (rec3)/ABSD data/2024_02_15_14_17_37_02of11.dt5\u001b[0m\n",
            "\u001b[32m2024-10-18 13:08:56.827\u001b[0m | \u001b[1mINFO    \u001b[0m | \u001b[36mlighthouse.data_loader.load_chuv\u001b[0m:\u001b[36mconcatenate_dt5\u001b[0m:\u001b[36m497\u001b[0m - \u001b[1mLoading /Volumes/__UP2/0_RAW_DATA/UP2_001/UP2001_2024_02_15_Rehabilitation_day49/wisci/2024_02_15_14_16_15 (rec3)/ABSD data/2024_02_15_14_17_37_03of11.dt5\u001b[0m\n",
            "\u001b[32m2024-10-18 13:09:57.461\u001b[0m | \u001b[1mINFO    \u001b[0m | \u001b[36mlighthouse.data_loader.load_chuv\u001b[0m:\u001b[36mconcatenate_dt5\u001b[0m:\u001b[36m497\u001b[0m - \u001b[1mLoading /Volumes/__UP2/0_RAW_DATA/UP2_001/UP2001_2024_02_15_Rehabilitation_day49/wisci/2024_02_15_14_16_15 (rec3)/ABSD data/2024_02_15_14_17_37_04of11.dt5\u001b[0m\n",
            "\u001b[32m2024-10-18 13:10:43.508\u001b[0m | \u001b[1mINFO    \u001b[0m | \u001b[36mlighthouse.data_loader.load_chuv\u001b[0m:\u001b[36mconcatenate_dt5\u001b[0m:\u001b[36m497\u001b[0m - \u001b[1mLoading /Volumes/__UP2/0_RAW_DATA/UP2_001/UP2001_2024_02_15_Rehabilitation_day49/wisci/2024_02_15_14_16_15 (rec3)/ABSD data/2024_02_15_14_17_37_05of11.dt5\u001b[0m\n",
            "\u001b[32m2024-10-18 13:11:28.598\u001b[0m | \u001b[1mINFO    \u001b[0m | \u001b[36mlighthouse.data_loader.load_chuv\u001b[0m:\u001b[36mconcatenate_dt5\u001b[0m:\u001b[36m497\u001b[0m - \u001b[1mLoading /Volumes/__UP2/0_RAW_DATA/UP2_001/UP2001_2024_02_15_Rehabilitation_day49/wisci/2024_02_15_14_16_15 (rec3)/ABSD data/2024_02_15_14_17_37_06of11.dt5\u001b[0m\n",
            "\u001b[32m2024-10-18 13:12:14.967\u001b[0m | \u001b[1mINFO    \u001b[0m | \u001b[36mlighthouse.data_loader.load_chuv\u001b[0m:\u001b[36mconcatenate_dt5\u001b[0m:\u001b[36m497\u001b[0m - \u001b[1mLoading /Volumes/__UP2/0_RAW_DATA/UP2_001/UP2001_2024_02_15_Rehabilitation_day49/wisci/2024_02_15_14_16_15 (rec3)/ABSD data/2024_02_15_14_17_37_07of11.dt5\u001b[0m\n",
            "\u001b[32m2024-10-18 13:13:01.120\u001b[0m | \u001b[1mINFO    \u001b[0m | \u001b[36mlighthouse.data_loader.load_chuv\u001b[0m:\u001b[36mconcatenate_dt5\u001b[0m:\u001b[36m497\u001b[0m - \u001b[1mLoading /Volumes/__UP2/0_RAW_DATA/UP2_001/UP2001_2024_02_15_Rehabilitation_day49/wisci/2024_02_15_14_16_15 (rec3)/ABSD data/2024_02_15_14_17_37_08of11.dt5\u001b[0m\n",
            "\u001b[32m2024-10-18 13:13:46.804\u001b[0m | \u001b[1mINFO    \u001b[0m | \u001b[36mlighthouse.data_loader.load_chuv\u001b[0m:\u001b[36mconcatenate_dt5\u001b[0m:\u001b[36m497\u001b[0m - \u001b[1mLoading /Volumes/__UP2/0_RAW_DATA/UP2_001/UP2001_2024_02_15_Rehabilitation_day49/wisci/2024_02_15_14_16_15 (rec3)/ABSD data/2024_02_15_14_17_37_09of11.dt5\u001b[0m\n",
            "\u001b[32m2024-10-18 13:14:31.959\u001b[0m | \u001b[1mINFO    \u001b[0m | \u001b[36mlighthouse.data_loader.load_chuv\u001b[0m:\u001b[36mconcatenate_dt5\u001b[0m:\u001b[36m497\u001b[0m - \u001b[1mLoading /Volumes/__UP2/0_RAW_DATA/UP2_001/UP2001_2024_02_15_Rehabilitation_day49/wisci/2024_02_15_14_16_15 (rec3)/ABSD data/2024_02_15_14_17_37_10of11.dt5\u001b[0m\n",
            "\u001b[32m2024-10-18 13:15:18.135\u001b[0m | \u001b[1mINFO    \u001b[0m | \u001b[36mlighthouse.data_loader.load_chuv\u001b[0m:\u001b[36mconcatenate_dt5\u001b[0m:\u001b[36m497\u001b[0m - \u001b[1mLoading /Volumes/__UP2/0_RAW_DATA/UP2_001/UP2001_2024_02_15_Rehabilitation_day49/wisci/2024_02_15_14_16_15 (rec3)/ABSD data/2024_02_15_14_17_37_11of11.dt5\u001b[0m\n"
          ]
        },
        {
          "name": "stdout",
          "output_type": "stream",
          "text": [
            "Signals shape: (56, 1937088)\n",
            "New signal shape: (56, 165790)\n"
          ]
        },
        {
          "name": "stderr",
          "output_type": "stream",
          "text": [
            "\u001b[32m2024-10-18 13:16:06.068\u001b[0m | \u001b[1mINFO    \u001b[0m | \u001b[36mlighthouse.data_loader.load_chuv\u001b[0m:\u001b[36mconcatenate_dt5\u001b[0m:\u001b[36m497\u001b[0m - \u001b[1mLoading /Volumes/__UP2/0_RAW_DATA/UP2_001/UP2001_2024_02_15_Rehabilitation_day49/wisci/2024_02_15_15_15_52 (rec4)/ABSD data/2024_02_15_15_17_30_01of05.dt5\u001b[0m\n",
            "\u001b[32m2024-10-18 13:16:49.706\u001b[0m | \u001b[1mINFO    \u001b[0m | \u001b[36mlighthouse.data_loader.load_chuv\u001b[0m:\u001b[36mload_dt5\u001b[0m:\u001b[36m196\u001b[0m - \u001b[1mScenario Name: classBCIViewerAvatarAllDegreesCourtine\u001b[0m\n",
            "\u001b[32m2024-10-18 13:16:49.712\u001b[0m | \u001b[1mINFO    \u001b[0m | \u001b[36mlighthouse.data_loader.load_chuv\u001b[0m:\u001b[36mload_dt5\u001b[0m:\u001b[36m199\u001b[0m - \u001b[1mSub Scenario Name: classBSISubScenarioUpperJointsClassif\u001b[0m\n",
            "\u001b[32m2024-10-18 13:16:53.420\u001b[0m | \u001b[1mINFO    \u001b[0m | \u001b[36mlighthouse.data_loader.load_chuv\u001b[0m:\u001b[36mconcatenate_dt5\u001b[0m:\u001b[36m497\u001b[0m - \u001b[1mLoading /Volumes/__UP2/0_RAW_DATA/UP2_001/UP2001_2024_02_15_Rehabilitation_day49/wisci/2024_02_15_15_15_52 (rec4)/ABSD data/2024_02_15_15_17_30_02of05.dt5\u001b[0m\n",
            "\u001b[32m2024-10-18 13:17:38.303\u001b[0m | \u001b[1mINFO    \u001b[0m | \u001b[36mlighthouse.data_loader.load_chuv\u001b[0m:\u001b[36mconcatenate_dt5\u001b[0m:\u001b[36m497\u001b[0m - \u001b[1mLoading /Volumes/__UP2/0_RAW_DATA/UP2_001/UP2001_2024_02_15_Rehabilitation_day49/wisci/2024_02_15_15_15_52 (rec4)/ABSD data/2024_02_15_15_17_30_03of05.dt5\u001b[0m\n",
            "\u001b[32m2024-10-18 13:18:24.497\u001b[0m | \u001b[1mINFO    \u001b[0m | \u001b[36mlighthouse.data_loader.load_chuv\u001b[0m:\u001b[36mconcatenate_dt5\u001b[0m:\u001b[36m497\u001b[0m - \u001b[1mLoading /Volumes/__UP2/0_RAW_DATA/UP2_001/UP2001_2024_02_15_Rehabilitation_day49/wisci/2024_02_15_15_15_52 (rec4)/ABSD data/2024_02_15_15_17_30_04of05.dt5\u001b[0m\n",
            "\u001b[32m2024-10-18 13:19:09.912\u001b[0m | \u001b[1mINFO    \u001b[0m | \u001b[36mlighthouse.data_loader.load_chuv\u001b[0m:\u001b[36mconcatenate_dt5\u001b[0m:\u001b[36m497\u001b[0m - \u001b[1mLoading /Volumes/__UP2/0_RAW_DATA/UP2_001/UP2001_2024_02_15_Rehabilitation_day49/wisci/2024_02_15_15_15_52 (rec4)/ABSD data/2024_02_15_15_17_30_05of05.dt5\u001b[0m\n"
          ]
        },
        {
          "name": "stdout",
          "output_type": "stream",
          "text": [
            "Signals shape: (56, 769596)\n",
            "New signal shape: (56, 234879)\n",
            "length of data: 160\n"
          ]
        },
        {
          "name": "stderr",
          "output_type": "stream",
          "text": [
            " 83%|████████▎ | 54/65 [13:11:32<4:43:58, 1548.98s/it]"
          ]
        },
        {
          "name": "stdout",
          "output_type": "stream",
          "text": [
            "Checkpoint saved after session 53\n",
            "Current session: (PosixPath('/Volumes/__UP2/0_RAW_DATA/UP2_001/UP2001_2024_02_16_Rehabilitation_day50'), 54)\n"
          ]
        },
        {
          "name": "stderr",
          "output_type": "stream",
          "text": [
            "\u001b[32m2024-10-18 13:20:17.912\u001b[0m | \u001b[1mINFO    \u001b[0m | \u001b[36mlighthouse.data_loader.load_chuv\u001b[0m:\u001b[36mconcatenate_dt5\u001b[0m:\u001b[36m497\u001b[0m - \u001b[1mLoading /Volumes/__UP2/0_RAW_DATA/UP2_001/UP2001_2024_02_16_Rehabilitation_day50/wisci/wisci/2024_02_16_13_47_44 (rec1)/ABSD data/2024_02_16_13_49_37_01of04.dt5\u001b[0m\n",
            "\u001b[32m2024-10-18 13:21:00.399\u001b[0m | \u001b[1mINFO    \u001b[0m | \u001b[36mlighthouse.data_loader.load_chuv\u001b[0m:\u001b[36mload_dt5\u001b[0m:\u001b[36m196\u001b[0m - \u001b[1mScenario Name: classBCIViewerAvatarAllDegreesCourtine\u001b[0m\n",
            "\u001b[32m2024-10-18 13:21:00.407\u001b[0m | \u001b[1mINFO    \u001b[0m | \u001b[36mlighthouse.data_loader.load_chuv\u001b[0m:\u001b[36mload_dt5\u001b[0m:\u001b[36m199\u001b[0m - \u001b[1mSub Scenario Name: classBSISubScenarioUpperJointsClassif\u001b[0m\n",
            "\u001b[32m2024-10-18 13:21:05.233\u001b[0m | \u001b[1mINFO    \u001b[0m | \u001b[36mlighthouse.data_loader.load_chuv\u001b[0m:\u001b[36mconcatenate_dt5\u001b[0m:\u001b[36m497\u001b[0m - \u001b[1mLoading /Volumes/__UP2/0_RAW_DATA/UP2_001/UP2001_2024_02_16_Rehabilitation_day50/wisci/wisci/2024_02_16_13_47_44 (rec1)/ABSD data/2024_02_16_13_49_37_02of04.dt5\u001b[0m\n",
            "\u001b[32m2024-10-18 13:21:52.276\u001b[0m | \u001b[1mINFO    \u001b[0m | \u001b[36mlighthouse.data_loader.load_chuv\u001b[0m:\u001b[36mconcatenate_dt5\u001b[0m:\u001b[36m497\u001b[0m - \u001b[1mLoading /Volumes/__UP2/0_RAW_DATA/UP2_001/UP2001_2024_02_16_Rehabilitation_day50/wisci/wisci/2024_02_16_13_47_44 (rec1)/ABSD data/2024_02_16_13_49_37_03of04.dt5\u001b[0m\n",
            "\u001b[32m2024-10-18 13:22:38.864\u001b[0m | \u001b[1mINFO    \u001b[0m | \u001b[36mlighthouse.data_loader.load_chuv\u001b[0m:\u001b[36mconcatenate_dt5\u001b[0m:\u001b[36m497\u001b[0m - \u001b[1mLoading /Volumes/__UP2/0_RAW_DATA/UP2_001/UP2001_2024_02_16_Rehabilitation_day50/wisci/wisci/2024_02_16_13_47_44 (rec1)/ABSD data/2024_02_16_13_49_37_04of04.dt5\u001b[0m\n"
          ]
        },
        {
          "name": "stdout",
          "output_type": "stream",
          "text": [
            "Signals shape: (56, 538434)\n",
            "New signal shape: (56, 221250)\n"
          ]
        },
        {
          "name": "stderr",
          "output_type": "stream",
          "text": [
            "\u001b[32m2024-10-18 13:22:41.881\u001b[0m | \u001b[1mINFO    \u001b[0m | \u001b[36mlighthouse.data_loader.load_chuv\u001b[0m:\u001b[36mconcatenate_dt5\u001b[0m:\u001b[36m497\u001b[0m - \u001b[1mLoading /Volumes/__UP2/0_RAW_DATA/UP2_001/UP2001_2024_02_16_Rehabilitation_day50/wisci/wisci/2024_02_16_14_05_30 (rec2)/ABSD data/2024_02_16_14_06_53_01of11.dt5\u001b[0m\n",
            "\u001b[32m2024-10-18 13:23:25.999\u001b[0m | \u001b[1mINFO    \u001b[0m | \u001b[36mlighthouse.data_loader.load_chuv\u001b[0m:\u001b[36mload_dt5\u001b[0m:\u001b[36m196\u001b[0m - \u001b[1mScenario Name: classBCIViewerAvatarAllDegreesCourtine\u001b[0m\n",
            "\u001b[32m2024-10-18 13:23:26.005\u001b[0m | \u001b[1mINFO    \u001b[0m | \u001b[36mlighthouse.data_loader.load_chuv\u001b[0m:\u001b[36mload_dt5\u001b[0m:\u001b[36m199\u001b[0m - \u001b[1mSub Scenario Name: classBSISubScenarioUpperJointsClassif\u001b[0m\n",
            "\u001b[32m2024-10-18 13:23:29.707\u001b[0m | \u001b[1mINFO    \u001b[0m | \u001b[36mlighthouse.data_loader.load_chuv\u001b[0m:\u001b[36mconcatenate_dt5\u001b[0m:\u001b[36m497\u001b[0m - \u001b[1mLoading /Volumes/__UP2/0_RAW_DATA/UP2_001/UP2001_2024_02_16_Rehabilitation_day50/wisci/wisci/2024_02_16_14_05_30 (rec2)/ABSD data/2024_02_16_14_06_53_02of11.dt5\u001b[0m\n",
            "\u001b[32m2024-10-18 13:24:19.144\u001b[0m | \u001b[1mINFO    \u001b[0m | \u001b[36mlighthouse.data_loader.load_chuv\u001b[0m:\u001b[36mconcatenate_dt5\u001b[0m:\u001b[36m497\u001b[0m - \u001b[1mLoading /Volumes/__UP2/0_RAW_DATA/UP2_001/UP2001_2024_02_16_Rehabilitation_day50/wisci/wisci/2024_02_16_14_05_30 (rec2)/ABSD data/2024_02_16_14_06_53_03of11.dt5\u001b[0m\n",
            "\u001b[32m2024-10-18 13:25:58.502\u001b[0m | \u001b[1mINFO    \u001b[0m | \u001b[36mlighthouse.data_loader.load_chuv\u001b[0m:\u001b[36mconcatenate_dt5\u001b[0m:\u001b[36m497\u001b[0m - \u001b[1mLoading /Volumes/__UP2/0_RAW_DATA/UP2_001/UP2001_2024_02_16_Rehabilitation_day50/wisci/wisci/2024_02_16_14_05_30 (rec2)/ABSD data/2024_02_16_14_06_53_04of11.dt5\u001b[0m\n",
            "\u001b[32m2024-10-18 13:27:19.530\u001b[0m | \u001b[1mINFO    \u001b[0m | \u001b[36mlighthouse.data_loader.load_chuv\u001b[0m:\u001b[36mconcatenate_dt5\u001b[0m:\u001b[36m497\u001b[0m - \u001b[1mLoading /Volumes/__UP2/0_RAW_DATA/UP2_001/UP2001_2024_02_16_Rehabilitation_day50/wisci/wisci/2024_02_16_14_05_30 (rec2)/ABSD data/2024_02_16_14_06_53_05of11.dt5\u001b[0m\n",
            "\u001b[32m2024-10-18 13:28:04.989\u001b[0m | \u001b[1mINFO    \u001b[0m | \u001b[36mlighthouse.data_loader.load_chuv\u001b[0m:\u001b[36mconcatenate_dt5\u001b[0m:\u001b[36m497\u001b[0m - \u001b[1mLoading /Volumes/__UP2/0_RAW_DATA/UP2_001/UP2001_2024_02_16_Rehabilitation_day50/wisci/wisci/2024_02_16_14_05_30 (rec2)/ABSD data/2024_02_16_14_06_53_06of11.dt5\u001b[0m\n",
            "\u001b[32m2024-10-18 13:28:52.537\u001b[0m | \u001b[1mINFO    \u001b[0m | \u001b[36mlighthouse.data_loader.load_chuv\u001b[0m:\u001b[36mconcatenate_dt5\u001b[0m:\u001b[36m497\u001b[0m - \u001b[1mLoading /Volumes/__UP2/0_RAW_DATA/UP2_001/UP2001_2024_02_16_Rehabilitation_day50/wisci/wisci/2024_02_16_14_05_30 (rec2)/ABSD data/2024_02_16_14_06_53_07of11.dt5\u001b[0m\n",
            "\u001b[32m2024-10-18 13:29:43.263\u001b[0m | \u001b[1mINFO    \u001b[0m | \u001b[36mlighthouse.data_loader.load_chuv\u001b[0m:\u001b[36mconcatenate_dt5\u001b[0m:\u001b[36m497\u001b[0m - \u001b[1mLoading /Volumes/__UP2/0_RAW_DATA/UP2_001/UP2001_2024_02_16_Rehabilitation_day50/wisci/wisci/2024_02_16_14_05_30 (rec2)/ABSD data/2024_02_16_14_06_53_08of11.dt5\u001b[0m\n",
            "\u001b[32m2024-10-18 13:31:25.502\u001b[0m | \u001b[1mINFO    \u001b[0m | \u001b[36mlighthouse.data_loader.load_chuv\u001b[0m:\u001b[36mconcatenate_dt5\u001b[0m:\u001b[36m497\u001b[0m - \u001b[1mLoading /Volumes/__UP2/0_RAW_DATA/UP2_001/UP2001_2024_02_16_Rehabilitation_day50/wisci/wisci/2024_02_16_14_05_30 (rec2)/ABSD data/2024_02_16_14_06_53_09of11.dt5\u001b[0m\n",
            "\u001b[32m2024-10-18 13:32:12.761\u001b[0m | \u001b[1mINFO    \u001b[0m | \u001b[36mlighthouse.data_loader.load_chuv\u001b[0m:\u001b[36mconcatenate_dt5\u001b[0m:\u001b[36m497\u001b[0m - \u001b[1mLoading /Volumes/__UP2/0_RAW_DATA/UP2_001/UP2001_2024_02_16_Rehabilitation_day50/wisci/wisci/2024_02_16_14_05_30 (rec2)/ABSD data/2024_02_16_14_06_53_10of11.dt5\u001b[0m\n",
            "\u001b[32m2024-10-18 13:32:59.472\u001b[0m | \u001b[1mINFO    \u001b[0m | \u001b[36mlighthouse.data_loader.load_chuv\u001b[0m:\u001b[36mconcatenate_dt5\u001b[0m:\u001b[36m497\u001b[0m - \u001b[1mLoading /Volumes/__UP2/0_RAW_DATA/UP2_001/UP2001_2024_02_16_Rehabilitation_day50/wisci/wisci/2024_02_16_14_05_30 (rec2)/ABSD data/2024_02_16_14_06_53_11of11.dt5\u001b[0m\n"
          ]
        },
        {
          "name": "stdout",
          "output_type": "stream",
          "text": [
            "Signals shape: (56, 1847644)\n",
            "New signal shape: (56, 483741)\n"
          ]
        },
        {
          "name": "stderr",
          "output_type": "stream",
          "text": [
            "\u001b[32m2024-10-18 13:33:21.966\u001b[0m | \u001b[1mINFO    \u001b[0m | \u001b[36mlighthouse.data_loader.load_chuv\u001b[0m:\u001b[36mconcatenate_dt5\u001b[0m:\u001b[36m497\u001b[0m - \u001b[1mLoading /Volumes/__UP2/0_RAW_DATA/UP2_001/UP2001_2024_02_16_Rehabilitation_day50/wisci/wisci/2024_02_16_15_03_26 (rec3)/ABSD data/2024_02_16_15_06_58_01of02.dt5\u001b[0m\n",
            "\u001b[32m2024-10-18 13:34:06.745\u001b[0m | \u001b[1mINFO    \u001b[0m | \u001b[36mlighthouse.data_loader.load_chuv\u001b[0m:\u001b[36mload_dt5\u001b[0m:\u001b[36m196\u001b[0m - \u001b[1mScenario Name: classBCIViewerAvatarAllDegreesCourtine\u001b[0m\n",
            "\u001b[32m2024-10-18 13:34:06.751\u001b[0m | \u001b[1mINFO    \u001b[0m | \u001b[36mlighthouse.data_loader.load_chuv\u001b[0m:\u001b[36mload_dt5\u001b[0m:\u001b[36m199\u001b[0m - \u001b[1mSub Scenario Name: classBSISubScenarioUpperJointsClassif\u001b[0m\n",
            "\u001b[32m2024-10-18 13:34:10.475\u001b[0m | \u001b[1mINFO    \u001b[0m | \u001b[36mlighthouse.data_loader.load_chuv\u001b[0m:\u001b[36mconcatenate_dt5\u001b[0m:\u001b[36m497\u001b[0m - \u001b[1mLoading /Volumes/__UP2/0_RAW_DATA/UP2_001/UP2001_2024_02_16_Rehabilitation_day50/wisci/wisci/2024_02_16_15_03_26 (rec3)/ABSD data/2024_02_16_15_06_58_02of02.dt5\u001b[0m\n"
          ]
        },
        {
          "name": "stdout",
          "output_type": "stream",
          "text": [
            "Signals shape: (56, 233522)\n",
            "New signal shape: (56, 21653)\n",
            "length of data: 163\n"
          ]
        },
        {
          "name": "stderr",
          "output_type": "stream",
          "text": [
            " 85%|████████▍ | 55/65 [13:26:30<3:45:36, 1353.67s/it]"
          ]
        },
        {
          "name": "stdout",
          "output_type": "stream",
          "text": [
            "Checkpoint saved after session 54\n",
            "Current session: (PosixPath('/Volumes/__UP2/0_RAW_DATA/UP2_001/UP2001_2024_02_21_PostRehab_ARAT_GRASSP_withBSI'), 55)\n"
          ]
        },
        {
          "name": "stderr",
          "output_type": "stream",
          "text": [
            "\u001b[32m2024-10-18 13:35:30.288\u001b[0m | \u001b[1mINFO    \u001b[0m | \u001b[36mlighthouse.data_loader.load_chuv\u001b[0m:\u001b[36mconcatenate_dt5\u001b[0m:\u001b[36m497\u001b[0m - \u001b[1mLoading /Volumes/__UP2/0_RAW_DATA/UP2_001/UP2001_2024_02_21_PostRehab_ARAT_GRASSP_withBSI/wisci/ABSD data/2024_02_21_08_58_02_01of08.dt5\u001b[0m\n",
            "\u001b[32m2024-10-18 13:36:20.720\u001b[0m | \u001b[1mINFO    \u001b[0m | \u001b[36mlighthouse.data_loader.load_chuv\u001b[0m:\u001b[36mload_dt5\u001b[0m:\u001b[36m196\u001b[0m - \u001b[1mScenario Name: classBCIViewerAvatarAllDegreesCourtine\u001b[0m\n",
            "\u001b[32m2024-10-18 13:36:20.739\u001b[0m | \u001b[1mINFO    \u001b[0m | \u001b[36mlighthouse.data_loader.load_chuv\u001b[0m:\u001b[36mload_dt5\u001b[0m:\u001b[36m199\u001b[0m - \u001b[1mSub Scenario Name: classBSISubScenarioUpperJointsClassif\u001b[0m\n",
            "\u001b[32m2024-10-18 13:36:25.366\u001b[0m | \u001b[1mINFO    \u001b[0m | \u001b[36mlighthouse.data_loader.load_chuv\u001b[0m:\u001b[36mconcatenate_dt5\u001b[0m:\u001b[36m497\u001b[0m - \u001b[1mLoading /Volumes/__UP2/0_RAW_DATA/UP2_001/UP2001_2024_02_21_PostRehab_ARAT_GRASSP_withBSI/wisci/ABSD data/2024_02_21_08_58_02_02of08.dt5\u001b[0m\n",
            "\u001b[32m2024-10-18 13:37:18.022\u001b[0m | \u001b[1mINFO    \u001b[0m | \u001b[36mlighthouse.data_loader.load_chuv\u001b[0m:\u001b[36mconcatenate_dt5\u001b[0m:\u001b[36m497\u001b[0m - \u001b[1mLoading /Volumes/__UP2/0_RAW_DATA/UP2_001/UP2001_2024_02_21_PostRehab_ARAT_GRASSP_withBSI/wisci/ABSD data/2024_02_21_08_58_02_03of08.dt5\u001b[0m\n",
            "\u001b[32m2024-10-18 13:38:18.418\u001b[0m | \u001b[1mINFO    \u001b[0m | \u001b[36mlighthouse.data_loader.load_chuv\u001b[0m:\u001b[36mconcatenate_dt5\u001b[0m:\u001b[36m497\u001b[0m - \u001b[1mLoading /Volumes/__UP2/0_RAW_DATA/UP2_001/UP2001_2024_02_21_PostRehab_ARAT_GRASSP_withBSI/wisci/ABSD data/2024_02_21_08_58_02_04of08.dt5\u001b[0m\n",
            "\u001b[32m2024-10-18 13:39:20.247\u001b[0m | \u001b[1mINFO    \u001b[0m | \u001b[36mlighthouse.data_loader.load_chuv\u001b[0m:\u001b[36mconcatenate_dt5\u001b[0m:\u001b[36m497\u001b[0m - \u001b[1mLoading /Volumes/__UP2/0_RAW_DATA/UP2_001/UP2001_2024_02_21_PostRehab_ARAT_GRASSP_withBSI/wisci/ABSD data/2024_02_21_08_58_02_05of08.dt5\u001b[0m\n",
            "\u001b[32m2024-10-18 13:40:29.167\u001b[0m | \u001b[1mINFO    \u001b[0m | \u001b[36mlighthouse.data_loader.load_chuv\u001b[0m:\u001b[36mconcatenate_dt5\u001b[0m:\u001b[36m497\u001b[0m - \u001b[1mLoading /Volumes/__UP2/0_RAW_DATA/UP2_001/UP2001_2024_02_21_PostRehab_ARAT_GRASSP_withBSI/wisci/ABSD data/2024_02_21_08_58_02_06of08.dt5\u001b[0m\n",
            "\u001b[32m2024-10-18 13:42:06.907\u001b[0m | \u001b[1mINFO    \u001b[0m | \u001b[36mlighthouse.data_loader.load_chuv\u001b[0m:\u001b[36mconcatenate_dt5\u001b[0m:\u001b[36m497\u001b[0m - \u001b[1mLoading /Volumes/__UP2/0_RAW_DATA/UP2_001/UP2001_2024_02_21_PostRehab_ARAT_GRASSP_withBSI/wisci/ABSD data/2024_02_21_08_58_02_07of08.dt5\u001b[0m\n",
            "\u001b[32m2024-10-18 13:44:01.003\u001b[0m | \u001b[1mINFO    \u001b[0m | \u001b[36mlighthouse.data_loader.load_chuv\u001b[0m:\u001b[36mconcatenate_dt5\u001b[0m:\u001b[36m497\u001b[0m - \u001b[1mLoading /Volumes/__UP2/0_RAW_DATA/UP2_001/UP2001_2024_02_21_PostRehab_ARAT_GRASSP_withBSI/wisci/ABSD data/2024_02_21_08_58_02_08of08.dt5\u001b[0m\n"
          ]
        },
        {
          "name": "stdout",
          "output_type": "stream",
          "text": [
            "Signals shape: (79, 1267792)\n",
            "New signal shape: (79, 24662)\n"
          ]
        },
        {
          "name": "stderr",
          "output_type": "stream",
          "text": [
            "\u001b[32m2024-10-18 13:44:12.710\u001b[0m | \u001b[1mINFO    \u001b[0m | \u001b[36mlighthouse.data_loader.load_chuv\u001b[0m:\u001b[36mconcatenate_dt5\u001b[0m:\u001b[36m497\u001b[0m - \u001b[1mLoading /Volumes/__UP2/0_RAW_DATA/UP2_001/UP2001_2024_02_21_PostRehab_ARAT_GRASSP_withBSI/wisci/2024_02_21_13_21_43 (rec1)/ABSD data/2024_02_21_13_24_19_01of03.dt5\u001b[0m\n",
            "\u001b[32m2024-10-18 13:45:00.758\u001b[0m | \u001b[1mINFO    \u001b[0m | \u001b[36mlighthouse.data_loader.load_chuv\u001b[0m:\u001b[36mload_dt5\u001b[0m:\u001b[36m196\u001b[0m - \u001b[1mScenario Name: classBCIViewerAvatarAllDegreesCourtine\u001b[0m\n",
            "\u001b[32m2024-10-18 13:45:00.764\u001b[0m | \u001b[1mINFO    \u001b[0m | \u001b[36mlighthouse.data_loader.load_chuv\u001b[0m:\u001b[36mload_dt5\u001b[0m:\u001b[36m199\u001b[0m - \u001b[1mSub Scenario Name: classBSISubScenarioUpperJointsClassif\u001b[0m\n",
            "\u001b[32m2024-10-18 13:45:04.775\u001b[0m | \u001b[1mINFO    \u001b[0m | \u001b[36mlighthouse.data_loader.load_chuv\u001b[0m:\u001b[36mconcatenate_dt5\u001b[0m:\u001b[36m497\u001b[0m - \u001b[1mLoading /Volumes/__UP2/0_RAW_DATA/UP2_001/UP2001_2024_02_21_PostRehab_ARAT_GRASSP_withBSI/wisci/2024_02_21_13_21_43 (rec1)/ABSD data/2024_02_21_13_24_19_02of03.dt5\u001b[0m\n",
            "\u001b[32m2024-10-18 13:45:53.608\u001b[0m | \u001b[1mINFO    \u001b[0m | \u001b[36mlighthouse.data_loader.load_chuv\u001b[0m:\u001b[36mconcatenate_dt5\u001b[0m:\u001b[36m497\u001b[0m - \u001b[1mLoading /Volumes/__UP2/0_RAW_DATA/UP2_001/UP2001_2024_02_21_PostRehab_ARAT_GRASSP_withBSI/wisci/2024_02_21_13_21_43 (rec1)/ABSD data/2024_02_21_13_24_19_03of03.dt5\u001b[0m\n"
          ]
        },
        {
          "name": "stdout",
          "output_type": "stream",
          "text": [
            "Signals shape: (56, 473770)\n",
            "New signal shape: (56, 108855)\n"
          ]
        },
        {
          "name": "stderr",
          "output_type": "stream",
          "text": [
            "\u001b[32m2024-10-18 13:46:26.954\u001b[0m | \u001b[1mINFO    \u001b[0m | \u001b[36mlighthouse.data_loader.load_chuv\u001b[0m:\u001b[36mconcatenate_dt5\u001b[0m:\u001b[36m497\u001b[0m - \u001b[1mLoading /Volumes/__UP2/0_RAW_DATA/UP2_001/UP2001_2024_02_21_PostRehab_ARAT_GRASSP_withBSI/wisci/2024_02_21_13_38_11 (rec2)/ABSD data/2024_02_21_13_40_16_01of02.dt5\u001b[0m\n",
            "\u001b[32m2024-10-18 13:47:15.260\u001b[0m | \u001b[1mINFO    \u001b[0m | \u001b[36mlighthouse.data_loader.load_chuv\u001b[0m:\u001b[36mload_dt5\u001b[0m:\u001b[36m196\u001b[0m - \u001b[1mScenario Name: classBCIViewerAvatarAllDegreesCourtine\u001b[0m\n",
            "\u001b[32m2024-10-18 13:47:15.269\u001b[0m | \u001b[1mINFO    \u001b[0m | \u001b[36mlighthouse.data_loader.load_chuv\u001b[0m:\u001b[36mload_dt5\u001b[0m:\u001b[36m199\u001b[0m - \u001b[1mSub Scenario Name: classBSISubScenarioUpperJointsClassif\u001b[0m\n",
            "\u001b[32m2024-10-18 13:47:18.860\u001b[0m | \u001b[1mINFO    \u001b[0m | \u001b[36mlighthouse.data_loader.load_chuv\u001b[0m:\u001b[36mconcatenate_dt5\u001b[0m:\u001b[36m497\u001b[0m - \u001b[1mLoading /Volumes/__UP2/0_RAW_DATA/UP2_001/UP2001_2024_02_21_PostRehab_ARAT_GRASSP_withBSI/wisci/2024_02_21_13_38_11 (rec2)/ABSD data/2024_02_21_13_40_16_02of02.dt5\u001b[0m\n"
          ]
        },
        {
          "name": "stdout",
          "output_type": "stream",
          "text": [
            "Signals shape: (56, 233935)\n",
            "New signal shape: (56, 0)\n"
          ]
        },
        {
          "name": "stderr",
          "output_type": "stream",
          "text": [
            "\u001b[32m2024-10-18 13:47:34.839\u001b[0m | \u001b[1mINFO    \u001b[0m | \u001b[36mlighthouse.data_loader.load_chuv\u001b[0m:\u001b[36mconcatenate_dt5\u001b[0m:\u001b[36m497\u001b[0m - \u001b[1mLoading /Volumes/__UP2/0_RAW_DATA/UP2_001/UP2001_2024_02_21_PostRehab_ARAT_GRASSP_withBSI/wisci/2024_02_21_13_47_12 (rec3)/ABSD data/2024_02_21_13_49_33_01of01.dt5\u001b[0m\n",
            "\u001b[32m2024-10-18 13:48:06.926\u001b[0m | \u001b[1mINFO    \u001b[0m | \u001b[36mlighthouse.data_loader.load_chuv\u001b[0m:\u001b[36mload_dt5\u001b[0m:\u001b[36m196\u001b[0m - \u001b[1mScenario Name: classBCIViewerAvatarAllDegreesCourtine\u001b[0m\n",
            "\u001b[32m2024-10-18 13:48:06.931\u001b[0m | \u001b[1mINFO    \u001b[0m | \u001b[36mlighthouse.data_loader.load_chuv\u001b[0m:\u001b[36mload_dt5\u001b[0m:\u001b[36m199\u001b[0m - \u001b[1mSub Scenario Name: classBSISubScenarioUpperJointsClassif\u001b[0m\n"
          ]
        },
        {
          "name": "stdout",
          "output_type": "stream",
          "text": [
            "Signals shape: (56, 133694)\n",
            "New signal shape: (56, 0)\n"
          ]
        },
        {
          "name": "stderr",
          "output_type": "stream",
          "text": [
            "\u001b[32m2024-10-18 13:48:09.947\u001b[0m | \u001b[1mINFO    \u001b[0m | \u001b[36mlighthouse.data_loader.load_chuv\u001b[0m:\u001b[36mconcatenate_dt5\u001b[0m:\u001b[36m497\u001b[0m - \u001b[1mLoading /Volumes/__UP2/0_RAW_DATA/UP2_001/UP2001_2024_02_21_PostRehab_ARAT_GRASSP_withBSI/wisci/2024_02_21_14_06_04 (rec5)/ABSD data/2024_02_21_14_07_59_01of01.dt5\u001b[0m\n",
            "\u001b[32m2024-10-18 13:48:39.238\u001b[0m | \u001b[1mINFO    \u001b[0m | \u001b[36mlighthouse.data_loader.load_chuv\u001b[0m:\u001b[36mload_dt5\u001b[0m:\u001b[36m196\u001b[0m - \u001b[1mScenario Name: classBCIViewerAvatarAllDegreesCourtine\u001b[0m\n",
            "\u001b[32m2024-10-18 13:48:39.243\u001b[0m | \u001b[1mINFO    \u001b[0m | \u001b[36mlighthouse.data_loader.load_chuv\u001b[0m:\u001b[36mload_dt5\u001b[0m:\u001b[36m199\u001b[0m - \u001b[1mSub Scenario Name: classBSISubScenarioUpperJointsClassif\u001b[0m\n"
          ]
        },
        {
          "name": "stdout",
          "output_type": "stream",
          "text": [
            "Signals shape: (56, 125847)\n",
            "New signal shape: (56, 0)\n"
          ]
        },
        {
          "name": "stderr",
          "output_type": "stream",
          "text": [
            "\u001b[32m2024-10-18 13:48:42.027\u001b[0m | \u001b[1mINFO    \u001b[0m | \u001b[36mlighthouse.data_loader.load_chuv\u001b[0m:\u001b[36mconcatenate_dt5\u001b[0m:\u001b[36m497\u001b[0m - \u001b[1mLoading /Volumes/__UP2/0_RAW_DATA/UP2_001/UP2001_2024_02_21_PostRehab_ARAT_GRASSP_withBSI/wisci/2024_02_21_14_11_51 (rec6)/ABSD data/2024_02_21_14_14_02_01of02.dt5\u001b[0m\n",
            "\u001b[32m2024-10-18 13:49:27.820\u001b[0m | \u001b[1mINFO    \u001b[0m | \u001b[36mlighthouse.data_loader.load_chuv\u001b[0m:\u001b[36mload_dt5\u001b[0m:\u001b[36m196\u001b[0m - \u001b[1mScenario Name: classBCIViewerAvatarAllDegreesCourtine\u001b[0m\n",
            "\u001b[32m2024-10-18 13:49:27.825\u001b[0m | \u001b[1mINFO    \u001b[0m | \u001b[36mlighthouse.data_loader.load_chuv\u001b[0m:\u001b[36mload_dt5\u001b[0m:\u001b[36m199\u001b[0m - \u001b[1mSub Scenario Name: classBSISubScenarioUpperJointsClassif\u001b[0m\n",
            "\u001b[32m2024-10-18 13:49:31.643\u001b[0m | \u001b[1mINFO    \u001b[0m | \u001b[36mlighthouse.data_loader.load_chuv\u001b[0m:\u001b[36mconcatenate_dt5\u001b[0m:\u001b[36m497\u001b[0m - \u001b[1mLoading /Volumes/__UP2/0_RAW_DATA/UP2_001/UP2001_2024_02_21_PostRehab_ARAT_GRASSP_withBSI/wisci/2024_02_21_14_11_51 (rec6)/ABSD data/2024_02_21_14_14_02_02of02.dt5\u001b[0m\n"
          ]
        },
        {
          "name": "stdout",
          "output_type": "stream",
          "text": [
            "Signals shape: (56, 328276)\n",
            "New signal shape: (56, 0)\n"
          ]
        },
        {
          "name": "stderr",
          "output_type": "stream",
          "text": [
            "\u001b[32m2024-10-18 13:50:18.558\u001b[0m | \u001b[1mINFO    \u001b[0m | \u001b[36mlighthouse.data_loader.load_chuv\u001b[0m:\u001b[36mconcatenate_dt5\u001b[0m:\u001b[36m497\u001b[0m - \u001b[1mLoading /Volumes/__UP2/0_RAW_DATA/UP2_001/UP2001_2024_02_21_PostRehab_ARAT_GRASSP_withBSI/wisci/2024_02_21_14_23_56 (rec7)/ABSD data/2024_02_21_14_26_44_01of02.dt5\u001b[0m\n",
            "\u001b[32m2024-10-18 13:51:02.287\u001b[0m | \u001b[1mINFO    \u001b[0m | \u001b[36mlighthouse.data_loader.load_chuv\u001b[0m:\u001b[36mload_dt5\u001b[0m:\u001b[36m196\u001b[0m - \u001b[1mScenario Name: classBCIViewerAvatarAllDegreesCourtine\u001b[0m\n",
            "\u001b[32m2024-10-18 13:51:02.292\u001b[0m | \u001b[1mINFO    \u001b[0m | \u001b[36mlighthouse.data_loader.load_chuv\u001b[0m:\u001b[36mload_dt5\u001b[0m:\u001b[36m199\u001b[0m - \u001b[1mSub Scenario Name: classBSISubScenarioUpperJointsClassif\u001b[0m\n",
            "\u001b[32m2024-10-18 13:51:05.923\u001b[0m | \u001b[1mINFO    \u001b[0m | \u001b[36mlighthouse.data_loader.load_chuv\u001b[0m:\u001b[36mconcatenate_dt5\u001b[0m:\u001b[36m497\u001b[0m - \u001b[1mLoading /Volumes/__UP2/0_RAW_DATA/UP2_001/UP2001_2024_02_21_PostRehab_ARAT_GRASSP_withBSI/wisci/2024_02_21_14_23_56 (rec7)/ABSD data/2024_02_21_14_26_44_02of02.dt5\u001b[0m\n"
          ]
        },
        {
          "name": "stdout",
          "output_type": "stream",
          "text": [
            "Signals shape: (56, 190570)\n",
            "New signal shape: (56, 0)\n"
          ]
        },
        {
          "name": "stderr",
          "output_type": "stream",
          "text": [
            "\u001b[32m2024-10-18 13:51:10.042\u001b[0m | \u001b[1mINFO    \u001b[0m | \u001b[36mlighthouse.data_loader.load_chuv\u001b[0m:\u001b[36mconcatenate_dt5\u001b[0m:\u001b[36m497\u001b[0m - \u001b[1mLoading /Volumes/__UP2/0_RAW_DATA/UP2_001/UP2001_2024_02_21_PostRehab_ARAT_GRASSP_withBSI/wisci/2024_02_21_14_33_51 (rec8)/ABSD data/2024_02_21_14_35_57_01of01.dt5\u001b[0m\n",
            "\u001b[32m2024-10-18 13:51:47.428\u001b[0m | \u001b[1mINFO    \u001b[0m | \u001b[36mlighthouse.data_loader.load_chuv\u001b[0m:\u001b[36mload_dt5\u001b[0m:\u001b[36m196\u001b[0m - \u001b[1mScenario Name: classBCIViewerAvatarAllDegreesCourtine\u001b[0m\n",
            "\u001b[32m2024-10-18 13:51:47.432\u001b[0m | \u001b[1mINFO    \u001b[0m | \u001b[36mlighthouse.data_loader.load_chuv\u001b[0m:\u001b[36mload_dt5\u001b[0m:\u001b[36m199\u001b[0m - \u001b[1mSub Scenario Name: classBSISubScenarioUpperJointsClassif\u001b[0m\n"
          ]
        },
        {
          "name": "stdout",
          "output_type": "stream",
          "text": [
            "Signals shape: (56, 130095)\n",
            "New signal shape: (56, 0)\n"
          ]
        },
        {
          "name": "stderr",
          "output_type": "stream",
          "text": [
            "\u001b[32m2024-10-18 13:51:50.308\u001b[0m | \u001b[1mINFO    \u001b[0m | \u001b[36mlighthouse.data_loader.load_chuv\u001b[0m:\u001b[36mconcatenate_dt5\u001b[0m:\u001b[36m497\u001b[0m - \u001b[1mLoading /Volumes/__UP2/0_RAW_DATA/UP2_001/UP2001_2024_02_21_PostRehab_ARAT_GRASSP_withBSI/wisci/2024_02_21_14_40_03 (rec9)/ABSD data/2024_02_21_14_41_35_01of02.dt5\u001b[0m\n",
            "\u001b[32m2024-10-18 13:52:41.043\u001b[0m | \u001b[1mINFO    \u001b[0m | \u001b[36mlighthouse.data_loader.load_chuv\u001b[0m:\u001b[36mload_dt5\u001b[0m:\u001b[36m196\u001b[0m - \u001b[1mScenario Name: classBCIViewerAvatarAllDegreesCourtine\u001b[0m\n",
            "\u001b[32m2024-10-18 13:52:41.047\u001b[0m | \u001b[1mINFO    \u001b[0m | \u001b[36mlighthouse.data_loader.load_chuv\u001b[0m:\u001b[36mload_dt5\u001b[0m:\u001b[36m199\u001b[0m - \u001b[1mSub Scenario Name: classBSISubScenarioUpperJointsClassif\u001b[0m\n",
            "\u001b[32m2024-10-18 13:52:44.840\u001b[0m | \u001b[1mINFO    \u001b[0m | \u001b[36mlighthouse.data_loader.load_chuv\u001b[0m:\u001b[36mconcatenate_dt5\u001b[0m:\u001b[36m497\u001b[0m - \u001b[1mLoading /Volumes/__UP2/0_RAW_DATA/UP2_001/UP2001_2024_02_21_PostRehab_ARAT_GRASSP_withBSI/wisci/2024_02_21_14_40_03 (rec9)/ABSD data/2024_02_21_14_41_35_02of02.dt5\u001b[0m\n"
          ]
        },
        {
          "name": "stdout",
          "output_type": "stream",
          "text": [
            "Signals shape: (56, 291873)\n",
            "New signal shape: (56, 0)\n"
          ]
        },
        {
          "name": "stderr",
          "output_type": "stream",
          "text": [
            "\u001b[32m2024-10-18 13:53:18.836\u001b[0m | \u001b[1mINFO    \u001b[0m | \u001b[36mlighthouse.data_loader.load_chuv\u001b[0m:\u001b[36mconcatenate_dt5\u001b[0m:\u001b[36m497\u001b[0m - \u001b[1mLoading /Volumes/__UP2/0_RAW_DATA/UP2_001/UP2001_2024_02_21_PostRehab_ARAT_GRASSP_withBSI/wisci/2024_02_21_14_50_14 (rec10)/ABSD data/2024_02_21_14_51_53_01of06.dt5\u001b[0m\n",
            "\u001b[32m2024-10-18 13:54:11.402\u001b[0m | \u001b[1mINFO    \u001b[0m | \u001b[36mlighthouse.data_loader.load_chuv\u001b[0m:\u001b[36mload_dt5\u001b[0m:\u001b[36m196\u001b[0m - \u001b[1mScenario Name: classBCIViewerAvatarAllDegreesCourtine\u001b[0m\n",
            "\u001b[32m2024-10-18 13:54:11.406\u001b[0m | \u001b[1mINFO    \u001b[0m | \u001b[36mlighthouse.data_loader.load_chuv\u001b[0m:\u001b[36mload_dt5\u001b[0m:\u001b[36m199\u001b[0m - \u001b[1mSub Scenario Name: classBSISubScenarioUpperJointsClassif\u001b[0m\n",
            "\u001b[32m2024-10-18 13:54:15.048\u001b[0m | \u001b[1mINFO    \u001b[0m | \u001b[36mlighthouse.data_loader.load_chuv\u001b[0m:\u001b[36mconcatenate_dt5\u001b[0m:\u001b[36m497\u001b[0m - \u001b[1mLoading /Volumes/__UP2/0_RAW_DATA/UP2_001/UP2001_2024_02_21_PostRehab_ARAT_GRASSP_withBSI/wisci/2024_02_21_14_50_14 (rec10)/ABSD data/2024_02_21_14_51_53_02of06.dt5\u001b[0m\n",
            "\u001b[32m2024-10-18 13:55:04.822\u001b[0m | \u001b[1mINFO    \u001b[0m | \u001b[36mlighthouse.data_loader.load_chuv\u001b[0m:\u001b[36mconcatenate_dt5\u001b[0m:\u001b[36m497\u001b[0m - \u001b[1mLoading /Volumes/__UP2/0_RAW_DATA/UP2_001/UP2001_2024_02_21_PostRehab_ARAT_GRASSP_withBSI/wisci/2024_02_21_14_50_14 (rec10)/ABSD data/2024_02_21_14_51_53_03of06.dt5\u001b[0m\n",
            "\u001b[32m2024-10-18 13:55:55.000\u001b[0m | \u001b[1mINFO    \u001b[0m | \u001b[36mlighthouse.data_loader.load_chuv\u001b[0m:\u001b[36mconcatenate_dt5\u001b[0m:\u001b[36m497\u001b[0m - \u001b[1mLoading /Volumes/__UP2/0_RAW_DATA/UP2_001/UP2001_2024_02_21_PostRehab_ARAT_GRASSP_withBSI/wisci/2024_02_21_14_50_14 (rec10)/ABSD data/2024_02_21_14_51_53_04of06.dt5\u001b[0m\n",
            "\u001b[32m2024-10-18 13:56:49.510\u001b[0m | \u001b[1mINFO    \u001b[0m | \u001b[36mlighthouse.data_loader.load_chuv\u001b[0m:\u001b[36mconcatenate_dt5\u001b[0m:\u001b[36m497\u001b[0m - \u001b[1mLoading /Volumes/__UP2/0_RAW_DATA/UP2_001/UP2001_2024_02_21_PostRehab_ARAT_GRASSP_withBSI/wisci/2024_02_21_14_50_14 (rec10)/ABSD data/2024_02_21_14_51_53_05of06.dt5\u001b[0m\n",
            "\u001b[32m2024-10-18 13:57:37.912\u001b[0m | \u001b[1mINFO    \u001b[0m | \u001b[36mlighthouse.data_loader.load_chuv\u001b[0m:\u001b[36mconcatenate_dt5\u001b[0m:\u001b[36m497\u001b[0m - \u001b[1mLoading /Volumes/__UP2/0_RAW_DATA/UP2_001/UP2001_2024_02_21_PostRehab_ARAT_GRASSP_withBSI/wisci/2024_02_21_14_50_14 (rec10)/ABSD data/2024_02_21_14_51_53_06of06.dt5\u001b[0m\n"
          ]
        },
        {
          "name": "stdout",
          "output_type": "stream",
          "text": [
            "Signals shape: (56, 1049846)\n",
            "New signal shape: (56, 0)\n",
            "length of data: 173\n"
          ]
        },
        {
          "name": "stderr",
          "output_type": "stream",
          "text": [
            " 86%|████████▌ | 56/65 [13:50:29<3:26:54, 1379.42s/it]"
          ]
        },
        {
          "name": "stdout",
          "output_type": "stream",
          "text": [
            "Checkpoint saved after session 55\n",
            "Current session: (PosixPath('/Volumes/__UP2/0_RAW_DATA/UP2_001/UP2001_2024_02_22_PostRehab_MVC'), 56)\n"
          ]
        },
        {
          "name": "stderr",
          "output_type": "stream",
          "text": [
            "\u001b[32m2024-10-18 13:59:25.529\u001b[0m | \u001b[1mINFO    \u001b[0m | \u001b[36mlighthouse.data_loader.load_chuv\u001b[0m:\u001b[36mconcatenate_dt5\u001b[0m:\u001b[36m497\u001b[0m - \u001b[1mLoading /Volumes/__UP2/0_RAW_DATA/UP2_001/UP2001_2024_02_22_PostRehab_MVC/wisci/2024_02_22_13_48_51 (rec2)/ABSD data/2024_02_22_13_51_02_01of06.dt5\u001b[0m\n",
            "\u001b[32m2024-10-18 14:00:53.698\u001b[0m | \u001b[1mINFO    \u001b[0m | \u001b[36mlighthouse.data_loader.load_chuv\u001b[0m:\u001b[36mload_dt5\u001b[0m:\u001b[36m196\u001b[0m - \u001b[1mScenario Name: classBCIViewerAvatarAllDegreesCourtine\u001b[0m\n",
            "\u001b[32m2024-10-18 14:00:53.721\u001b[0m | \u001b[1mINFO    \u001b[0m | \u001b[36mlighthouse.data_loader.load_chuv\u001b[0m:\u001b[36mload_dt5\u001b[0m:\u001b[36m199\u001b[0m - \u001b[1mSub Scenario Name: classBSISubScenarioUpperJointsClassif\u001b[0m\n",
            "\u001b[32m2024-10-18 14:00:59.814\u001b[0m | \u001b[1mINFO    \u001b[0m | \u001b[36mlighthouse.data_loader.load_chuv\u001b[0m:\u001b[36mconcatenate_dt5\u001b[0m:\u001b[36m497\u001b[0m - \u001b[1mLoading /Volumes/__UP2/0_RAW_DATA/UP2_001/UP2001_2024_02_22_PostRehab_MVC/wisci/2024_02_22_13_48_51 (rec2)/ABSD data/2024_02_22_13_51_02_02of06.dt5\u001b[0m\n",
            "\u001b[32m2024-10-18 14:01:48.566\u001b[0m | \u001b[1mINFO    \u001b[0m | \u001b[36mlighthouse.data_loader.load_chuv\u001b[0m:\u001b[36mconcatenate_dt5\u001b[0m:\u001b[36m497\u001b[0m - \u001b[1mLoading /Volumes/__UP2/0_RAW_DATA/UP2_001/UP2001_2024_02_22_PostRehab_MVC/wisci/2024_02_22_13_48_51 (rec2)/ABSD data/2024_02_22_13_51_02_03of06.dt5\u001b[0m\n",
            "\u001b[32m2024-10-18 14:03:18.322\u001b[0m | \u001b[1mINFO    \u001b[0m | \u001b[36mlighthouse.data_loader.load_chuv\u001b[0m:\u001b[36mconcatenate_dt5\u001b[0m:\u001b[36m497\u001b[0m - \u001b[1mLoading /Volumes/__UP2/0_RAW_DATA/UP2_001/UP2001_2024_02_22_PostRehab_MVC/wisci/2024_02_22_13_48_51 (rec2)/ABSD data/2024_02_22_13_51_02_04of06.dt5\u001b[0m\n",
            "\u001b[32m2024-10-18 14:04:08.974\u001b[0m | \u001b[1mINFO    \u001b[0m | \u001b[36mlighthouse.data_loader.load_chuv\u001b[0m:\u001b[36mconcatenate_dt5\u001b[0m:\u001b[36m497\u001b[0m - \u001b[1mLoading /Volumes/__UP2/0_RAW_DATA/UP2_001/UP2001_2024_02_22_PostRehab_MVC/wisci/2024_02_22_13_48_51 (rec2)/ABSD data/2024_02_22_13_51_02_05of06.dt5\u001b[0m\n",
            "\u001b[32m2024-10-18 14:06:18.493\u001b[0m | \u001b[1mINFO    \u001b[0m | \u001b[36mlighthouse.data_loader.load_chuv\u001b[0m:\u001b[36mconcatenate_dt5\u001b[0m:\u001b[36m497\u001b[0m - \u001b[1mLoading /Volumes/__UP2/0_RAW_DATA/UP2_001/UP2001_2024_02_22_PostRehab_MVC/wisci/2024_02_22_13_48_51 (rec2)/ABSD data/2024_02_22_13_51_02_06of06.dt5\u001b[0m\n"
          ]
        },
        {
          "name": "stdout",
          "output_type": "stream",
          "text": [
            "Signals shape: (56, 1015862)\n",
            "New signal shape: (56, 53690)\n"
          ]
        },
        {
          "name": "stderr",
          "output_type": "stream",
          "text": [
            "\u001b[32m2024-10-18 14:07:05.183\u001b[0m | \u001b[1mINFO    \u001b[0m | \u001b[36mlighthouse.data_loader.load_chuv\u001b[0m:\u001b[36mconcatenate_dt5\u001b[0m:\u001b[36m497\u001b[0m - \u001b[1mLoading /Volumes/__UP2/0_RAW_DATA/UP2_001/UP2001_2024_02_22_PostRehab_MVC/wisci/2024_02_22_14_37_30 (rec3)/ABSD data/2024_02_22_14_42_29_01of06.dt5\u001b[0m\n",
            "\u001b[32m2024-10-18 14:08:22.277\u001b[0m | \u001b[1mINFO    \u001b[0m | \u001b[36mlighthouse.data_loader.load_chuv\u001b[0m:\u001b[36mload_dt5\u001b[0m:\u001b[36m196\u001b[0m - \u001b[1mScenario Name: classBCIViewerAvatarAllDegreesCourtine\u001b[0m\n",
            "\u001b[32m2024-10-18 14:08:22.282\u001b[0m | \u001b[1mINFO    \u001b[0m | \u001b[36mlighthouse.data_loader.load_chuv\u001b[0m:\u001b[36mload_dt5\u001b[0m:\u001b[36m199\u001b[0m - \u001b[1mSub Scenario Name: classBSISubScenarioUpperJointsClassif\u001b[0m\n",
            "\u001b[32m2024-10-18 14:08:26.893\u001b[0m | \u001b[1mINFO    \u001b[0m | \u001b[36mlighthouse.data_loader.load_chuv\u001b[0m:\u001b[36mconcatenate_dt5\u001b[0m:\u001b[36m497\u001b[0m - \u001b[1mLoading /Volumes/__UP2/0_RAW_DATA/UP2_001/UP2001_2024_02_22_PostRehab_MVC/wisci/2024_02_22_14_37_30 (rec3)/ABSD data/2024_02_22_14_42_29_02of06.dt5\u001b[0m\n",
            "\u001b[32m2024-10-18 14:10:57.099\u001b[0m | \u001b[1mINFO    \u001b[0m | \u001b[36mlighthouse.data_loader.load_chuv\u001b[0m:\u001b[36mconcatenate_dt5\u001b[0m:\u001b[36m497\u001b[0m - \u001b[1mLoading /Volumes/__UP2/0_RAW_DATA/UP2_001/UP2001_2024_02_22_PostRehab_MVC/wisci/2024_02_22_14_37_30 (rec3)/ABSD data/2024_02_22_14_42_29_03of06.dt5\u001b[0m\n",
            "\u001b[32m2024-10-18 14:14:27.774\u001b[0m | \u001b[1mINFO    \u001b[0m | \u001b[36mlighthouse.data_loader.load_chuv\u001b[0m:\u001b[36mconcatenate_dt5\u001b[0m:\u001b[36m497\u001b[0m - \u001b[1mLoading /Volumes/__UP2/0_RAW_DATA/UP2_001/UP2001_2024_02_22_PostRehab_MVC/wisci/2024_02_22_14_37_30 (rec3)/ABSD data/2024_02_22_14_42_29_04of06.dt5\u001b[0m\n",
            "\u001b[32m2024-10-18 14:16:02.885\u001b[0m | \u001b[1mINFO    \u001b[0m | \u001b[36mlighthouse.data_loader.load_chuv\u001b[0m:\u001b[36mconcatenate_dt5\u001b[0m:\u001b[36m497\u001b[0m - \u001b[1mLoading /Volumes/__UP2/0_RAW_DATA/UP2_001/UP2001_2024_02_22_PostRehab_MVC/wisci/2024_02_22_14_37_30 (rec3)/ABSD data/2024_02_22_14_42_29_05of06.dt5\u001b[0m\n",
            "\u001b[32m2024-10-18 14:19:46.793\u001b[0m | \u001b[1mINFO    \u001b[0m | \u001b[36mlighthouse.data_loader.load_chuv\u001b[0m:\u001b[36mconcatenate_dt5\u001b[0m:\u001b[36m497\u001b[0m - \u001b[1mLoading /Volumes/__UP2/0_RAW_DATA/UP2_001/UP2001_2024_02_22_PostRehab_MVC/wisci/2024_02_22_14_37_30 (rec3)/ABSD data/2024_02_22_14_42_29_06of06.dt5\u001b[0m\n"
          ]
        },
        {
          "name": "stdout",
          "output_type": "stream",
          "text": [
            "Signals shape: (56, 1044359)\n",
            "New signal shape: (56, 0)\n"
          ]
        },
        {
          "name": "stderr",
          "output_type": "stream",
          "text": [
            "\u001b[32m2024-10-18 14:21:15.727\u001b[0m | \u001b[1mINFO    \u001b[0m | \u001b[36mlighthouse.data_loader.load_chuv\u001b[0m:\u001b[36mconcatenate_dt5\u001b[0m:\u001b[36m497\u001b[0m - \u001b[1mLoading /Volumes/__UP2/0_RAW_DATA/UP2_001/UP2001_2024_02_22_PostRehab_MVC/wisci/2024_02_22_15_13_19 (rec4)/ABSD data/2024_02_22_15_19_59_01of07.dt5\u001b[0m\n",
            "\u001b[32m2024-10-18 14:22:13.747\u001b[0m | \u001b[1mINFO    \u001b[0m | \u001b[36mlighthouse.data_loader.load_chuv\u001b[0m:\u001b[36mload_dt5\u001b[0m:\u001b[36m196\u001b[0m - \u001b[1mScenario Name: classBCIViewerAvatarAllDegreesCourtine\u001b[0m\n",
            "\u001b[32m2024-10-18 14:22:13.752\u001b[0m | \u001b[1mINFO    \u001b[0m | \u001b[36mlighthouse.data_loader.load_chuv\u001b[0m:\u001b[36mload_dt5\u001b[0m:\u001b[36m199\u001b[0m - \u001b[1mSub Scenario Name: classBSISubScenarioUpperJointsClassif\u001b[0m\n",
            "\u001b[32m2024-10-18 14:22:17.920\u001b[0m | \u001b[1mINFO    \u001b[0m | \u001b[36mlighthouse.data_loader.load_chuv\u001b[0m:\u001b[36mconcatenate_dt5\u001b[0m:\u001b[36m497\u001b[0m - \u001b[1mLoading /Volumes/__UP2/0_RAW_DATA/UP2_001/UP2001_2024_02_22_PostRehab_MVC/wisci/2024_02_22_15_13_19 (rec4)/ABSD data/2024_02_22_15_19_59_02of07.dt5\u001b[0m\n",
            "\u001b[32m2024-10-18 14:23:06.308\u001b[0m | \u001b[1mINFO    \u001b[0m | \u001b[36mlighthouse.data_loader.load_chuv\u001b[0m:\u001b[36mconcatenate_dt5\u001b[0m:\u001b[36m497\u001b[0m - \u001b[1mLoading /Volumes/__UP2/0_RAW_DATA/UP2_001/UP2001_2024_02_22_PostRehab_MVC/wisci/2024_02_22_15_13_19 (rec4)/ABSD data/2024_02_22_15_19_59_03of07.dt5\u001b[0m\n",
            "\u001b[32m2024-10-18 14:24:41.242\u001b[0m | \u001b[1mINFO    \u001b[0m | \u001b[36mlighthouse.data_loader.load_chuv\u001b[0m:\u001b[36mconcatenate_dt5\u001b[0m:\u001b[36m497\u001b[0m - \u001b[1mLoading /Volumes/__UP2/0_RAW_DATA/UP2_001/UP2001_2024_02_22_PostRehab_MVC/wisci/2024_02_22_15_13_19 (rec4)/ABSD data/2024_02_22_15_19_59_04of07.dt5\u001b[0m\n",
            "\u001b[32m2024-10-18 14:25:35.328\u001b[0m | \u001b[1mINFO    \u001b[0m | \u001b[36mlighthouse.data_loader.load_chuv\u001b[0m:\u001b[36mconcatenate_dt5\u001b[0m:\u001b[36m497\u001b[0m - \u001b[1mLoading /Volumes/__UP2/0_RAW_DATA/UP2_001/UP2001_2024_02_22_PostRehab_MVC/wisci/2024_02_22_15_13_19 (rec4)/ABSD data/2024_02_22_15_19_59_05of07.dt5\u001b[0m\n",
            "\u001b[32m2024-10-18 14:26:23.154\u001b[0m | \u001b[1mINFO    \u001b[0m | \u001b[36mlighthouse.data_loader.load_chuv\u001b[0m:\u001b[36mconcatenate_dt5\u001b[0m:\u001b[36m497\u001b[0m - \u001b[1mLoading /Volumes/__UP2/0_RAW_DATA/UP2_001/UP2001_2024_02_22_PostRehab_MVC/wisci/2024_02_22_15_13_19 (rec4)/ABSD data/2024_02_22_15_19_59_06of07.dt5\u001b[0m\n",
            "\u001b[32m2024-10-18 14:27:29.109\u001b[0m | \u001b[1mINFO    \u001b[0m | \u001b[36mlighthouse.data_loader.load_chuv\u001b[0m:\u001b[36mconcatenate_dt5\u001b[0m:\u001b[36m497\u001b[0m - \u001b[1mLoading /Volumes/__UP2/0_RAW_DATA/UP2_001/UP2001_2024_02_22_PostRehab_MVC/wisci/2024_02_22_15_13_19 (rec4)/ABSD data/2024_02_22_15_19_59_07of07.dt5\u001b[0m\n"
          ]
        },
        {
          "name": "stdout",
          "output_type": "stream",
          "text": [
            "Signals shape: (56, 1142004)\n",
            "New signal shape: (56, 0)\n",
            "length of data: 176\n"
          ]
        },
        {
          "name": "stderr",
          "output_type": "stream",
          "text": [
            " 88%|████████▊ | 57/65 [14:20:00<3:19:33, 1496.67s/it]"
          ]
        },
        {
          "name": "stdout",
          "output_type": "stream",
          "text": [
            "Checkpoint saved after session 56\n",
            "Current session: (PosixPath('/Volumes/__UP2/0_RAW_DATA/UP2_001/UP2001_2024_02_23_MAS andRoM'), 57)\n"
          ]
        },
        {
          "name": "stderr",
          "output_type": "stream",
          "text": [
            "\u001b[32m2024-10-18 14:28:47.303\u001b[0m | \u001b[1mINFO    \u001b[0m | \u001b[36mlighthouse.data_loader.load_chuv\u001b[0m:\u001b[36mconcatenate_dt5\u001b[0m:\u001b[36m497\u001b[0m - \u001b[1mLoading /Volumes/__UP2/0_RAW_DATA/UP2_001/UP2001_2024_02_23_MAS andRoM/wisci/2024_02_23_14_58_13 (rec1)/ABSD data/2024_02_23_15_00_49_01of06.dt5\u001b[0m\n",
            "\u001b[32m2024-10-18 14:29:42.530\u001b[0m | \u001b[1mINFO    \u001b[0m | \u001b[36mlighthouse.data_loader.load_chuv\u001b[0m:\u001b[36mload_dt5\u001b[0m:\u001b[36m196\u001b[0m - \u001b[1mScenario Name: classBCIViewerAvatarAllDegreesCourtine\u001b[0m\n",
            "\u001b[32m2024-10-18 14:29:42.541\u001b[0m | \u001b[1mINFO    \u001b[0m | \u001b[36mlighthouse.data_loader.load_chuv\u001b[0m:\u001b[36mload_dt5\u001b[0m:\u001b[36m199\u001b[0m - \u001b[1mSub Scenario Name: classBSISubScenarioUpperJointsClassif\u001b[0m\n",
            "\u001b[32m2024-10-18 14:29:47.975\u001b[0m | \u001b[1mINFO    \u001b[0m | \u001b[36mlighthouse.data_loader.load_chuv\u001b[0m:\u001b[36mconcatenate_dt5\u001b[0m:\u001b[36m497\u001b[0m - \u001b[1mLoading /Volumes/__UP2/0_RAW_DATA/UP2_001/UP2001_2024_02_23_MAS andRoM/wisci/2024_02_23_14_58_13 (rec1)/ABSD data/2024_02_23_15_00_49_02of06.dt5\u001b[0m\n",
            "\u001b[32m2024-10-18 14:30:39.705\u001b[0m | \u001b[1mINFO    \u001b[0m | \u001b[36mlighthouse.data_loader.load_chuv\u001b[0m:\u001b[36mconcatenate_dt5\u001b[0m:\u001b[36m497\u001b[0m - \u001b[1mLoading /Volumes/__UP2/0_RAW_DATA/UP2_001/UP2001_2024_02_23_MAS andRoM/wisci/2024_02_23_14_58_13 (rec1)/ABSD data/2024_02_23_15_00_49_03of06.dt5\u001b[0m\n",
            "\u001b[32m2024-10-18 14:31:33.913\u001b[0m | \u001b[1mINFO    \u001b[0m | \u001b[36mlighthouse.data_loader.load_chuv\u001b[0m:\u001b[36mconcatenate_dt5\u001b[0m:\u001b[36m497\u001b[0m - \u001b[1mLoading /Volumes/__UP2/0_RAW_DATA/UP2_001/UP2001_2024_02_23_MAS andRoM/wisci/2024_02_23_14_58_13 (rec1)/ABSD data/2024_02_23_15_00_49_04of06.dt5\u001b[0m\n",
            "\u001b[32m2024-10-18 14:32:22.677\u001b[0m | \u001b[1mINFO    \u001b[0m | \u001b[36mlighthouse.data_loader.load_chuv\u001b[0m:\u001b[36mconcatenate_dt5\u001b[0m:\u001b[36m497\u001b[0m - \u001b[1mLoading /Volumes/__UP2/0_RAW_DATA/UP2_001/UP2001_2024_02_23_MAS andRoM/wisci/2024_02_23_14_58_13 (rec1)/ABSD data/2024_02_23_15_00_49_05of06.dt5\u001b[0m\n",
            "\u001b[32m2024-10-18 14:33:10.075\u001b[0m | \u001b[1mINFO    \u001b[0m | \u001b[36mlighthouse.data_loader.load_chuv\u001b[0m:\u001b[36mconcatenate_dt5\u001b[0m:\u001b[36m497\u001b[0m - \u001b[1mLoading /Volumes/__UP2/0_RAW_DATA/UP2_001/UP2001_2024_02_23_MAS andRoM/wisci/2024_02_23_14_58_13 (rec1)/ABSD data/2024_02_23_15_00_49_06of06.dt5\u001b[0m\n"
          ]
        },
        {
          "name": "stdout",
          "output_type": "stream",
          "text": [
            "Signals shape: (56, 926831)\n",
            "New signal shape: (56, 0)\n"
          ]
        },
        {
          "name": "stderr",
          "output_type": "stream",
          "text": [
            "\u001b[32m2024-10-18 14:33:26.982\u001b[0m | \u001b[1mINFO    \u001b[0m | \u001b[36mlighthouse.data_loader.load_chuv\u001b[0m:\u001b[36mconcatenate_dt5\u001b[0m:\u001b[36m497\u001b[0m - \u001b[1mLoading /Volumes/__UP2/0_RAW_DATA/UP2_001/UP2001_2024_02_23_MAS andRoM/wisci/2024_02_23_15_28_00 (rec2)/ABSD data/2024_02_23_15_30_39_01of02.dt5\u001b[0m\n",
            "\u001b[32m2024-10-18 14:35:02.339\u001b[0m | \u001b[1mINFO    \u001b[0m | \u001b[36mlighthouse.data_loader.load_chuv\u001b[0m:\u001b[36mload_dt5\u001b[0m:\u001b[36m196\u001b[0m - \u001b[1mScenario Name: classBCIViewerAvatarAllDegreesCourtine\u001b[0m\n",
            "\u001b[32m2024-10-18 14:35:02.344\u001b[0m | \u001b[1mINFO    \u001b[0m | \u001b[36mlighthouse.data_loader.load_chuv\u001b[0m:\u001b[36mload_dt5\u001b[0m:\u001b[36m199\u001b[0m - \u001b[1mSub Scenario Name: classBSISubScenarioUpperJointsClassif\u001b[0m\n",
            "\u001b[32m2024-10-18 14:35:06.993\u001b[0m | \u001b[1mINFO    \u001b[0m | \u001b[36mlighthouse.data_loader.load_chuv\u001b[0m:\u001b[36mconcatenate_dt5\u001b[0m:\u001b[36m497\u001b[0m - \u001b[1mLoading /Volumes/__UP2/0_RAW_DATA/UP2_001/UP2001_2024_02_23_MAS andRoM/wisci/2024_02_23_15_28_00 (rec2)/ABSD data/2024_02_23_15_30_39_02of02.dt5\u001b[0m\n"
          ]
        },
        {
          "name": "stdout",
          "output_type": "stream",
          "text": [
            "Signals shape: (56, 342377)\n",
            "New signal shape: (56, 0)\n",
            "length of data: 178\n"
          ]
        },
        {
          "name": "stderr",
          "output_type": "stream",
          "text": [
            " 89%|████████▉ | 58/65 [14:28:03<2:19:08, 1192.69s/it]"
          ]
        },
        {
          "name": "stdout",
          "output_type": "stream",
          "text": [
            "Checkpoint saved after session 57\n",
            "Current session: (PosixPath('/Volumes/__UP2/0_RAW_DATA/UP2_001/UP2001_2024_02_27_CUE-T'), 58)\n"
          ]
        },
        {
          "name": "stderr",
          "output_type": "stream",
          "text": [
            "\u001b[32m2024-10-18 14:36:50.851\u001b[0m | \u001b[1mINFO    \u001b[0m | \u001b[36mlighthouse.data_loader.load_chuv\u001b[0m:\u001b[36mconcatenate_dt5\u001b[0m:\u001b[36m497\u001b[0m - \u001b[1mLoading /Volumes/__UP2/0_RAW_DATA/UP2_001/UP2001_2024_02_27_CUE-T/wisci/2024_02_27_15_08_04 (rec2)/ABSD data/2024_02_27_15_10_58_01of06.dt5\u001b[0m\n",
            "\u001b[32m2024-10-18 14:37:43.310\u001b[0m | \u001b[1mINFO    \u001b[0m | \u001b[36mlighthouse.data_loader.load_chuv\u001b[0m:\u001b[36mload_dt5\u001b[0m:\u001b[36m196\u001b[0m - \u001b[1mScenario Name: classBCIViewerAvatarAllDegreesCourtine\u001b[0m\n",
            "\u001b[32m2024-10-18 14:37:43.346\u001b[0m | \u001b[1mINFO    \u001b[0m | \u001b[36mlighthouse.data_loader.load_chuv\u001b[0m:\u001b[36mload_dt5\u001b[0m:\u001b[36m199\u001b[0m - \u001b[1mSub Scenario Name: classBSISubScenarioUpperJointsClassif\u001b[0m\n",
            "\u001b[32m2024-10-18 14:37:47.879\u001b[0m | \u001b[1mINFO    \u001b[0m | \u001b[36mlighthouse.data_loader.load_chuv\u001b[0m:\u001b[36mconcatenate_dt5\u001b[0m:\u001b[36m497\u001b[0m - \u001b[1mLoading /Volumes/__UP2/0_RAW_DATA/UP2_001/UP2001_2024_02_27_CUE-T/wisci/2024_02_27_15_08_04 (rec2)/ABSD data/2024_02_27_15_10_58_02of06.dt5\u001b[0m\n",
            "\u001b[32m2024-10-18 14:38:48.899\u001b[0m | \u001b[1mINFO    \u001b[0m | \u001b[36mlighthouse.data_loader.load_chuv\u001b[0m:\u001b[36mconcatenate_dt5\u001b[0m:\u001b[36m497\u001b[0m - \u001b[1mLoading /Volumes/__UP2/0_RAW_DATA/UP2_001/UP2001_2024_02_27_CUE-T/wisci/2024_02_27_15_08_04 (rec2)/ABSD data/2024_02_27_15_10_58_03of06.dt5\u001b[0m\n",
            "\u001b[32m2024-10-18 14:39:43.402\u001b[0m | \u001b[1mINFO    \u001b[0m | \u001b[36mlighthouse.data_loader.load_chuv\u001b[0m:\u001b[36mconcatenate_dt5\u001b[0m:\u001b[36m497\u001b[0m - \u001b[1mLoading /Volumes/__UP2/0_RAW_DATA/UP2_001/UP2001_2024_02_27_CUE-T/wisci/2024_02_27_15_08_04 (rec2)/ABSD data/2024_02_27_15_10_58_04of06.dt5\u001b[0m\n",
            "\u001b[32m2024-10-18 14:41:12.914\u001b[0m | \u001b[1mINFO    \u001b[0m | \u001b[36mlighthouse.data_loader.load_chuv\u001b[0m:\u001b[36mconcatenate_dt5\u001b[0m:\u001b[36m497\u001b[0m - \u001b[1mLoading /Volumes/__UP2/0_RAW_DATA/UP2_001/UP2001_2024_02_27_CUE-T/wisci/2024_02_27_15_08_04 (rec2)/ABSD data/2024_02_27_15_10_58_05of06.dt5\u001b[0m\n",
            "\u001b[32m2024-10-18 14:42:46.478\u001b[0m | \u001b[1mINFO    \u001b[0m | \u001b[36mlighthouse.data_loader.load_chuv\u001b[0m:\u001b[36mconcatenate_dt5\u001b[0m:\u001b[36m497\u001b[0m - \u001b[1mLoading /Volumes/__UP2/0_RAW_DATA/UP2_001/UP2001_2024_02_27_CUE-T/wisci/2024_02_27_15_08_04 (rec2)/ABSD data/2024_02_27_15_10_58_06of06.dt5\u001b[0m\n"
          ]
        },
        {
          "name": "stdout",
          "output_type": "stream",
          "text": [
            "Signals shape: (56, 1023119)\n",
            "New signal shape: (56, 104253)\n",
            "length of data: 179\n"
          ]
        },
        {
          "name": "stderr",
          "output_type": "stream",
          "text": [
            " 91%|█████████ | 59/65 [14:36:19<1:38:21, 983.59s/it] "
          ]
        },
        {
          "name": "stdout",
          "output_type": "stream",
          "text": [
            "Checkpoint saved after session 58\n",
            "Current session: (PosixPath('/Volumes/__UP2/0_RAW_DATA/UP2_001/UP2001_2024_02_29_SSEP'), 59)\n",
            "length of data: 179\n"
          ]
        },
        {
          "name": "stderr",
          "output_type": "stream",
          "text": [
            " 92%|█████████▏| 60/65 [14:37:17<58:50, 706.08s/it]  "
          ]
        },
        {
          "name": "stdout",
          "output_type": "stream",
          "text": [
            "Checkpoint saved after session 59\n",
            "Current session: (PosixPath('/Volumes/__UP2/0_RAW_DATA/UP2_001/UP2001_2024_03_19_ExtraSession_1'), 60)\n"
          ]
        },
        {
          "name": "stderr",
          "output_type": "stream",
          "text": [
            "\u001b[32m2024-10-18 14:46:03.865\u001b[0m | \u001b[1mINFO    \u001b[0m | \u001b[36mlighthouse.data_loader.load_chuv\u001b[0m:\u001b[36mconcatenate_dt5\u001b[0m:\u001b[36m497\u001b[0m - \u001b[1mLoading /Volumes/__UP2/0_RAW_DATA/UP2_001/UP2001_2024_03_19_ExtraSession_1/wisci/2024_03_19_13_17_02 (rec1)/ABSD data/2024_03_19_13_18_56_01of01.dt5\u001b[0m\n",
            "\u001b[32m2024-10-18 14:46:07.570\u001b[0m | \u001b[1mINFO    \u001b[0m | \u001b[36mlighthouse.data_loader.load_chuv\u001b[0m:\u001b[36mload_dt5\u001b[0m:\u001b[36m196\u001b[0m - \u001b[1mScenario Name: classBSIIndependentJointsClassif\u001b[0m\n",
            "\u001b[32m2024-10-18 14:46:07.586\u001b[0m | \u001b[33m\u001b[1mWARNING \u001b[0m | \u001b[36mlighthouse.data_loader.load_chuv\u001b[0m:\u001b[36mload_dt5\u001b[0m:\u001b[36m203\u001b[0m - \u001b[33m\u001b[1mCannot get metadata from chuv files: \"Unable to open object (object 'SubScenarioNames' doesn't exist)\"\u001b[0m\n"
          ]
        },
        {
          "name": "stdout",
          "output_type": "stream",
          "text": [
            "Signals shape: (62, 15930)\n",
            "New signal shape: (62, 0)\n"
          ]
        },
        {
          "name": "stderr",
          "output_type": "stream",
          "text": [
            "\u001b[32m2024-10-18 14:46:08.589\u001b[0m | \u001b[1mINFO    \u001b[0m | \u001b[36mlighthouse.data_loader.load_chuv\u001b[0m:\u001b[36mconcatenate_dt5\u001b[0m:\u001b[36m497\u001b[0m - \u001b[1mLoading /Volumes/__UP2/0_RAW_DATA/UP2_001/UP2001_2024_03_19_ExtraSession_1/wisci/2024_03_19_13_29_28/ABSD data/2024_03_19_13_31_26_01of10.dt5\u001b[0m\n",
            "\u001b[32m2024-10-18 14:46:56.875\u001b[0m | \u001b[1mINFO    \u001b[0m | \u001b[36mlighthouse.data_loader.load_chuv\u001b[0m:\u001b[36mload_dt5\u001b[0m:\u001b[36m196\u001b[0m - \u001b[1mScenario Name: classBSIIndependentJointsClassif\u001b[0m\n",
            "\u001b[32m2024-10-18 14:46:56.876\u001b[0m | \u001b[33m\u001b[1mWARNING \u001b[0m | \u001b[36mlighthouse.data_loader.load_chuv\u001b[0m:\u001b[36mload_dt5\u001b[0m:\u001b[36m203\u001b[0m - \u001b[33m\u001b[1mCannot get metadata from chuv files: \"Unable to open object (object 'SubScenarioNames' doesn't exist)\"\u001b[0m\n",
            "\u001b[32m2024-10-18 14:47:01.455\u001b[0m | \u001b[1mINFO    \u001b[0m | \u001b[36mlighthouse.data_loader.load_chuv\u001b[0m:\u001b[36mconcatenate_dt5\u001b[0m:\u001b[36m497\u001b[0m - \u001b[1mLoading /Volumes/__UP2/0_RAW_DATA/UP2_001/UP2001_2024_03_19_ExtraSession_1/wisci/2024_03_19_13_29_28/ABSD data/2024_03_19_13_31_26_02of10.dt5\u001b[0m\n",
            "\u001b[32m2024-10-18 14:47:56.120\u001b[0m | \u001b[1mINFO    \u001b[0m | \u001b[36mlighthouse.data_loader.load_chuv\u001b[0m:\u001b[36mconcatenate_dt5\u001b[0m:\u001b[36m497\u001b[0m - \u001b[1mLoading /Volumes/__UP2/0_RAW_DATA/UP2_001/UP2001_2024_03_19_ExtraSession_1/wisci/2024_03_19_13_29_28/ABSD data/2024_03_19_13_31_26_03of10.dt5\u001b[0m\n",
            "\u001b[32m2024-10-18 14:49:09.495\u001b[0m | \u001b[1mINFO    \u001b[0m | \u001b[36mlighthouse.data_loader.load_chuv\u001b[0m:\u001b[36mconcatenate_dt5\u001b[0m:\u001b[36m497\u001b[0m - \u001b[1mLoading /Volumes/__UP2/0_RAW_DATA/UP2_001/UP2001_2024_03_19_ExtraSession_1/wisci/2024_03_19_13_29_28/ABSD data/2024_03_19_13_31_26_04of10.dt5\u001b[0m\n",
            "\u001b[32m2024-10-18 14:50:04.351\u001b[0m | \u001b[1mINFO    \u001b[0m | \u001b[36mlighthouse.data_loader.load_chuv\u001b[0m:\u001b[36mconcatenate_dt5\u001b[0m:\u001b[36m497\u001b[0m - \u001b[1mLoading /Volumes/__UP2/0_RAW_DATA/UP2_001/UP2001_2024_03_19_ExtraSession_1/wisci/2024_03_19_13_29_28/ABSD data/2024_03_19_13_31_26_05of10.dt5\u001b[0m\n",
            "\u001b[32m2024-10-18 14:50:57.854\u001b[0m | \u001b[1mINFO    \u001b[0m | \u001b[36mlighthouse.data_loader.load_chuv\u001b[0m:\u001b[36mconcatenate_dt5\u001b[0m:\u001b[36m497\u001b[0m - \u001b[1mLoading /Volumes/__UP2/0_RAW_DATA/UP2_001/UP2001_2024_03_19_ExtraSession_1/wisci/2024_03_19_13_29_28/ABSD data/2024_03_19_13_31_26_06of10.dt5\u001b[0m\n",
            "\u001b[32m2024-10-18 14:51:51.542\u001b[0m | \u001b[1mINFO    \u001b[0m | \u001b[36mlighthouse.data_loader.load_chuv\u001b[0m:\u001b[36mconcatenate_dt5\u001b[0m:\u001b[36m497\u001b[0m - \u001b[1mLoading /Volumes/__UP2/0_RAW_DATA/UP2_001/UP2001_2024_03_19_ExtraSession_1/wisci/2024_03_19_13_29_28/ABSD data/2024_03_19_13_31_26_07of10.dt5\u001b[0m\n",
            "\u001b[32m2024-10-18 14:53:22.201\u001b[0m | \u001b[1mINFO    \u001b[0m | \u001b[36mlighthouse.data_loader.load_chuv\u001b[0m:\u001b[36mconcatenate_dt5\u001b[0m:\u001b[36m497\u001b[0m - \u001b[1mLoading /Volumes/__UP2/0_RAW_DATA/UP2_001/UP2001_2024_03_19_ExtraSession_1/wisci/2024_03_19_13_29_28/ABSD data/2024_03_19_13_31_26_08of10.dt5\u001b[0m\n",
            "\u001b[32m2024-10-18 14:54:33.820\u001b[0m | \u001b[1mINFO    \u001b[0m | \u001b[36mlighthouse.data_loader.load_chuv\u001b[0m:\u001b[36mconcatenate_dt5\u001b[0m:\u001b[36m497\u001b[0m - \u001b[1mLoading /Volumes/__UP2/0_RAW_DATA/UP2_001/UP2001_2024_03_19_ExtraSession_1/wisci/2024_03_19_13_29_28/ABSD data/2024_03_19_13_31_26_09of10.dt5\u001b[0m\n",
            "\u001b[32m2024-10-18 14:55:30.842\u001b[0m | \u001b[1mINFO    \u001b[0m | \u001b[36mlighthouse.data_loader.load_chuv\u001b[0m:\u001b[36mconcatenate_dt5\u001b[0m:\u001b[36m497\u001b[0m - \u001b[1mLoading /Volumes/__UP2/0_RAW_DATA/UP2_001/UP2001_2024_03_19_ExtraSession_1/wisci/2024_03_19_13_29_28/ABSD data/2024_03_19_13_31_26_10of10.dt5\u001b[0m\n"
          ]
        },
        {
          "name": "stdout",
          "output_type": "stream",
          "text": [
            "Signals shape: (62, 1653357)\n",
            "New signal shape: (62, 473534)\n",
            "length of data: 181\n"
          ]
        },
        {
          "name": "stderr",
          "output_type": "stream",
          "text": [
            " 94%|█████████▍| 61/65 [14:47:55<45:42, 685.64s/it]"
          ]
        },
        {
          "name": "stdout",
          "output_type": "stream",
          "text": [
            "Checkpoint saved after session 60\n",
            "Current session: (PosixPath('/Volumes/__UP2/0_RAW_DATA/UP2_001/UP2001_2024_04_02_ExtraSession_2'), 61)\n"
          ]
        },
        {
          "name": "stderr",
          "output_type": "stream",
          "text": [
            "\u001b[32m2024-10-18 14:56:43.222\u001b[0m | \u001b[1mINFO    \u001b[0m | \u001b[36mlighthouse.data_loader.load_chuv\u001b[0m:\u001b[36mconcatenate_dt5\u001b[0m:\u001b[36m497\u001b[0m - \u001b[1mLoading /Volumes/__UP2/0_RAW_DATA/UP2_001/UP2001_2024_04_02_ExtraSession_2/wisci/2024_04_02_12_36_30 (rec2)/ABSD data/2024_04_02_12_38_06_01of07.dt5\u001b[0m\n",
            "\u001b[32m2024-10-18 14:57:33.815\u001b[0m | \u001b[1mINFO    \u001b[0m | \u001b[36mlighthouse.data_loader.load_chuv\u001b[0m:\u001b[36mload_dt5\u001b[0m:\u001b[36m196\u001b[0m - \u001b[1mScenario Name: classBSIIndependentJointsClassif\u001b[0m\n",
            "\u001b[32m2024-10-18 14:57:33.822\u001b[0m | \u001b[33m\u001b[1mWARNING \u001b[0m | \u001b[36mlighthouse.data_loader.load_chuv\u001b[0m:\u001b[36mload_dt5\u001b[0m:\u001b[36m203\u001b[0m - \u001b[33m\u001b[1mCannot get metadata from chuv files: \"Unable to open object (object 'SubScenarioNames' doesn't exist)\"\u001b[0m\n",
            "\u001b[32m2024-10-18 14:57:38.475\u001b[0m | \u001b[1mINFO    \u001b[0m | \u001b[36mlighthouse.data_loader.load_chuv\u001b[0m:\u001b[36mconcatenate_dt5\u001b[0m:\u001b[36m497\u001b[0m - \u001b[1mLoading /Volumes/__UP2/0_RAW_DATA/UP2_001/UP2001_2024_04_02_ExtraSession_2/wisci/2024_04_02_12_36_30 (rec2)/ABSD data/2024_04_02_12_38_06_02of07.dt5\u001b[0m\n",
            "\u001b[32m2024-10-18 14:58:36.121\u001b[0m | \u001b[1mINFO    \u001b[0m | \u001b[36mlighthouse.data_loader.load_chuv\u001b[0m:\u001b[36mconcatenate_dt5\u001b[0m:\u001b[36m497\u001b[0m - \u001b[1mLoading /Volumes/__UP2/0_RAW_DATA/UP2_001/UP2001_2024_04_02_ExtraSession_2/wisci/2024_04_02_12_36_30 (rec2)/ABSD data/2024_04_02_12_38_06_03of07.dt5\u001b[0m\n",
            "\u001b[32m2024-10-18 14:59:35.937\u001b[0m | \u001b[1mINFO    \u001b[0m | \u001b[36mlighthouse.data_loader.load_chuv\u001b[0m:\u001b[36mconcatenate_dt5\u001b[0m:\u001b[36m497\u001b[0m - \u001b[1mLoading /Volumes/__UP2/0_RAW_DATA/UP2_001/UP2001_2024_04_02_ExtraSession_2/wisci/2024_04_02_12_36_30 (rec2)/ABSD data/2024_04_02_12_38_06_04of07.dt5\u001b[0m\n",
            "\u001b[32m2024-10-18 15:00:25.626\u001b[0m | \u001b[1mINFO    \u001b[0m | \u001b[36mlighthouse.data_loader.load_chuv\u001b[0m:\u001b[36mconcatenate_dt5\u001b[0m:\u001b[36m497\u001b[0m - \u001b[1mLoading /Volumes/__UP2/0_RAW_DATA/UP2_001/UP2001_2024_04_02_ExtraSession_2/wisci/2024_04_02_12_36_30 (rec2)/ABSD data/2024_04_02_12_38_06_05of07.dt5\u001b[0m\n",
            "\u001b[32m2024-10-18 15:01:21.163\u001b[0m | \u001b[1mINFO    \u001b[0m | \u001b[36mlighthouse.data_loader.load_chuv\u001b[0m:\u001b[36mconcatenate_dt5\u001b[0m:\u001b[36m497\u001b[0m - \u001b[1mLoading /Volumes/__UP2/0_RAW_DATA/UP2_001/UP2001_2024_04_02_ExtraSession_2/wisci/2024_04_02_12_36_30 (rec2)/ABSD data/2024_04_02_12_38_06_06of07.dt5\u001b[0m\n",
            "\u001b[32m2024-10-18 15:02:47.577\u001b[0m | \u001b[1mINFO    \u001b[0m | \u001b[36mlighthouse.data_loader.load_chuv\u001b[0m:\u001b[36mconcatenate_dt5\u001b[0m:\u001b[36m497\u001b[0m - \u001b[1mLoading /Volumes/__UP2/0_RAW_DATA/UP2_001/UP2001_2024_04_02_ExtraSession_2/wisci/2024_04_02_12_36_30 (rec2)/ABSD data/2024_04_02_12_38_06_07of07.dt5\u001b[0m\n"
          ]
        },
        {
          "name": "stdout",
          "output_type": "stream",
          "text": [
            "Signals shape: (62, 1092031)\n",
            "New signal shape: (62, 141954)\n",
            "length of data: 182\n"
          ]
        },
        {
          "name": "stderr",
          "output_type": "stream",
          "text": [
            " 95%|█████████▌| 62/65 [14:55:11<30:32, 610.79s/it]"
          ]
        },
        {
          "name": "stdout",
          "output_type": "stream",
          "text": [
            "Checkpoint saved after session 61\n",
            "Current session: (PosixPath('/Volumes/__UP2/0_RAW_DATA/UP2_001/UP2001_2024_04_26_ExtraSession_3'), 62)\n"
          ]
        },
        {
          "name": "stderr",
          "output_type": "stream",
          "text": [
            "\u001b[32m2024-10-18 15:04:00.618\u001b[0m | \u001b[1mINFO    \u001b[0m | \u001b[36mlighthouse.data_loader.load_chuv\u001b[0m:\u001b[36mconcatenate_dt5\u001b[0m:\u001b[36m497\u001b[0m - \u001b[1mLoading /Volumes/__UP2/0_RAW_DATA/UP2_001/UP2001_2024_04_26_ExtraSession_3/wisci/2024_04_16_13_45_58 (rec5_OpenCloseLatest)/ABSD data/2024_04_16_13_46_36_01of02.dt5\u001b[0m\n",
            "\u001b[32m2024-10-18 15:04:49.870\u001b[0m | \u001b[1mINFO    \u001b[0m | \u001b[36mlighthouse.data_loader.load_chuv\u001b[0m:\u001b[36mload_dt5\u001b[0m:\u001b[36m196\u001b[0m - \u001b[1mScenario Name: classBSIIndependentJointsClassif\u001b[0m\n",
            "\u001b[32m2024-10-18 15:04:49.876\u001b[0m | \u001b[33m\u001b[1mWARNING \u001b[0m | \u001b[36mlighthouse.data_loader.load_chuv\u001b[0m:\u001b[36mload_dt5\u001b[0m:\u001b[36m203\u001b[0m - \u001b[33m\u001b[1mCannot get metadata from chuv files: \"Unable to open object (object 'SubScenarioNames' doesn't exist)\"\u001b[0m\n",
            "\u001b[32m2024-10-18 15:04:54.488\u001b[0m | \u001b[1mINFO    \u001b[0m | \u001b[36mlighthouse.data_loader.load_chuv\u001b[0m:\u001b[36mconcatenate_dt5\u001b[0m:\u001b[36m497\u001b[0m - \u001b[1mLoading /Volumes/__UP2/0_RAW_DATA/UP2_001/UP2001_2024_04_26_ExtraSession_3/wisci/2024_04_16_13_45_58 (rec5_OpenCloseLatest)/ABSD data/2024_04_16_13_46_36_02of02.dt5\u001b[0m\n"
          ]
        },
        {
          "name": "stdout",
          "output_type": "stream",
          "text": [
            "Signals shape: (62, 312995)\n",
            "New signal shape: (62, 90565)\n"
          ]
        },
        {
          "name": "stderr",
          "output_type": "stream",
          "text": [
            "\u001b[32m2024-10-18 15:05:35.859\u001b[0m | \u001b[1mINFO    \u001b[0m | \u001b[36mlighthouse.data_loader.load_chuv\u001b[0m:\u001b[36mconcatenate_dt5\u001b[0m:\u001b[36m497\u001b[0m - \u001b[1mLoading /Volumes/__UP2/0_RAW_DATA/UP2_001/UP2001_2024_04_26_ExtraSession_3/wisci/2024_04_16_12_36_37 (rec3_independentShoulderElbow)/ABSD data/2024_04_16_12_38_32_01of10.dt5\u001b[0m\n",
            "\u001b[32m2024-10-18 15:06:25.297\u001b[0m | \u001b[1mINFO    \u001b[0m | \u001b[36mlighthouse.data_loader.load_chuv\u001b[0m:\u001b[36mload_dt5\u001b[0m:\u001b[36m196\u001b[0m - \u001b[1mScenario Name: classBSIIndependentJointsClassif\u001b[0m\n",
            "\u001b[32m2024-10-18 15:06:25.299\u001b[0m | \u001b[33m\u001b[1mWARNING \u001b[0m | \u001b[36mlighthouse.data_loader.load_chuv\u001b[0m:\u001b[36mload_dt5\u001b[0m:\u001b[36m203\u001b[0m - \u001b[33m\u001b[1mCannot get metadata from chuv files: \"Unable to open object (object 'SubScenarioNames' doesn't exist)\"\u001b[0m\n",
            "\u001b[32m2024-10-18 15:06:29.391\u001b[0m | \u001b[1mINFO    \u001b[0m | \u001b[36mlighthouse.data_loader.load_chuv\u001b[0m:\u001b[36mconcatenate_dt5\u001b[0m:\u001b[36m497\u001b[0m - \u001b[1mLoading /Volumes/__UP2/0_RAW_DATA/UP2_001/UP2001_2024_04_26_ExtraSession_3/wisci/2024_04_16_12_36_37 (rec3_independentShoulderElbow)/ABSD data/2024_04_16_12_38_32_02of10.dt5\u001b[0m\n",
            "\u001b[32m2024-10-18 15:07:23.186\u001b[0m | \u001b[1mINFO    \u001b[0m | \u001b[36mlighthouse.data_loader.load_chuv\u001b[0m:\u001b[36mconcatenate_dt5\u001b[0m:\u001b[36m497\u001b[0m - \u001b[1mLoading /Volumes/__UP2/0_RAW_DATA/UP2_001/UP2001_2024_04_26_ExtraSession_3/wisci/2024_04_16_12_36_37 (rec3_independentShoulderElbow)/ABSD data/2024_04_16_12_38_32_03of10.dt5\u001b[0m\n",
            "\u001b[32m2024-10-18 15:08:16.561\u001b[0m | \u001b[1mINFO    \u001b[0m | \u001b[36mlighthouse.data_loader.load_chuv\u001b[0m:\u001b[36mconcatenate_dt5\u001b[0m:\u001b[36m497\u001b[0m - \u001b[1mLoading /Volumes/__UP2/0_RAW_DATA/UP2_001/UP2001_2024_04_26_ExtraSession_3/wisci/2024_04_16_12_36_37 (rec3_independentShoulderElbow)/ABSD data/2024_04_16_12_38_32_04of10.dt5\u001b[0m\n",
            "\u001b[32m2024-10-18 15:09:10.760\u001b[0m | \u001b[1mINFO    \u001b[0m | \u001b[36mlighthouse.data_loader.load_chuv\u001b[0m:\u001b[36mconcatenate_dt5\u001b[0m:\u001b[36m497\u001b[0m - \u001b[1mLoading /Volumes/__UP2/0_RAW_DATA/UP2_001/UP2001_2024_04_26_ExtraSession_3/wisci/2024_04_16_12_36_37 (rec3_independentShoulderElbow)/ABSD data/2024_04_16_12_38_32_05of10.dt5\u001b[0m\n",
            "\u001b[32m2024-10-18 15:10:52.890\u001b[0m | \u001b[1mINFO    \u001b[0m | \u001b[36mlighthouse.data_loader.load_chuv\u001b[0m:\u001b[36mconcatenate_dt5\u001b[0m:\u001b[36m497\u001b[0m - \u001b[1mLoading /Volumes/__UP2/0_RAW_DATA/UP2_001/UP2001_2024_04_26_ExtraSession_3/wisci/2024_04_16_12_36_37 (rec3_independentShoulderElbow)/ABSD data/2024_04_16_12_38_32_06of10.dt5\u001b[0m\n",
            "\u001b[32m2024-10-18 15:12:07.948\u001b[0m | \u001b[1mINFO    \u001b[0m | \u001b[36mlighthouse.data_loader.load_chuv\u001b[0m:\u001b[36mconcatenate_dt5\u001b[0m:\u001b[36m497\u001b[0m - \u001b[1mLoading /Volumes/__UP2/0_RAW_DATA/UP2_001/UP2001_2024_04_26_ExtraSession_3/wisci/2024_04_16_12_36_37 (rec3_independentShoulderElbow)/ABSD data/2024_04_16_12_38_32_07of10.dt5\u001b[0m\n",
            "\u001b[32m2024-10-18 15:13:13.342\u001b[0m | \u001b[1mINFO    \u001b[0m | \u001b[36mlighthouse.data_loader.load_chuv\u001b[0m:\u001b[36mconcatenate_dt5\u001b[0m:\u001b[36m497\u001b[0m - \u001b[1mLoading /Volumes/__UP2/0_RAW_DATA/UP2_001/UP2001_2024_04_26_ExtraSession_3/wisci/2024_04_16_12_36_37 (rec3_independentShoulderElbow)/ABSD data/2024_04_16_12_38_32_08of10.dt5\u001b[0m\n",
            "\u001b[32m2024-10-18 15:14:19.478\u001b[0m | \u001b[1mINFO    \u001b[0m | \u001b[36mlighthouse.data_loader.load_chuv\u001b[0m:\u001b[36mconcatenate_dt5\u001b[0m:\u001b[36m497\u001b[0m - \u001b[1mLoading /Volumes/__UP2/0_RAW_DATA/UP2_001/UP2001_2024_04_26_ExtraSession_3/wisci/2024_04_16_12_36_37 (rec3_independentShoulderElbow)/ABSD data/2024_04_16_12_38_32_09of10.dt5\u001b[0m\n",
            "\u001b[32m2024-10-18 15:15:30.690\u001b[0m | \u001b[1mINFO    \u001b[0m | \u001b[36mlighthouse.data_loader.load_chuv\u001b[0m:\u001b[36mconcatenate_dt5\u001b[0m:\u001b[36m497\u001b[0m - \u001b[1mLoading /Volumes/__UP2/0_RAW_DATA/UP2_001/UP2001_2024_04_26_ExtraSession_3/wisci/2024_04_16_12_36_37 (rec3_independentShoulderElbow)/ABSD data/2024_04_16_12_38_32_10of10.dt5\u001b[0m\n"
          ]
        },
        {
          "name": "stdout",
          "output_type": "stream",
          "text": [
            "Signals shape: (62, 1666514)\n",
            "New signal shape: (62, 99356)\n"
          ]
        },
        {
          "name": "stderr",
          "output_type": "stream",
          "text": [
            "\u001b[32m2024-10-18 15:15:58.042\u001b[0m | \u001b[1mINFO    \u001b[0m | \u001b[36mlighthouse.data_loader.load_chuv\u001b[0m:\u001b[36mconcatenate_dt5\u001b[0m:\u001b[36m497\u001b[0m - \u001b[1mLoading /Volumes/__UP2/0_RAW_DATA/UP2_001/UP2001_2024_04_26_ExtraSession_3/wisci/2024_04_16_13_29_48 (rec4_OpenClose)/ABSD data/2024_04_16_13_33_26_01of02.dt5\u001b[0m\n",
            "\u001b[32m2024-10-18 15:16:48.575\u001b[0m | \u001b[1mINFO    \u001b[0m | \u001b[36mlighthouse.data_loader.load_chuv\u001b[0m:\u001b[36mload_dt5\u001b[0m:\u001b[36m196\u001b[0m - \u001b[1mScenario Name: classBSIIndependentJointsClassif\u001b[0m\n",
            "\u001b[32m2024-10-18 15:16:48.578\u001b[0m | \u001b[33m\u001b[1mWARNING \u001b[0m | \u001b[36mlighthouse.data_loader.load_chuv\u001b[0m:\u001b[36mload_dt5\u001b[0m:\u001b[36m203\u001b[0m - \u001b[33m\u001b[1mCannot get metadata from chuv files: \"Unable to open object (object 'SubScenarioNames' doesn't exist)\"\u001b[0m\n",
            "\u001b[32m2024-10-18 15:16:52.682\u001b[0m | \u001b[1mINFO    \u001b[0m | \u001b[36mlighthouse.data_loader.load_chuv\u001b[0m:\u001b[36mconcatenate_dt5\u001b[0m:\u001b[36m497\u001b[0m - \u001b[1mLoading /Volumes/__UP2/0_RAW_DATA/UP2_001/UP2001_2024_04_26_ExtraSession_3/wisci/2024_04_16_13_29_48 (rec4_OpenClose)/ABSD data/2024_04_16_13_33_26_02of02.dt5\u001b[0m\n"
          ]
        },
        {
          "name": "stdout",
          "output_type": "stream",
          "text": [
            "Signals shape: (62, 346507)\n",
            "New signal shape: (62, 111215)\n",
            "length of data: 185\n"
          ]
        },
        {
          "name": "stderr",
          "output_type": "stream",
          "text": [
            " 97%|█████████▋| 63/65 [15:09:56<23:05, 692.94s/it]"
          ]
        },
        {
          "name": "stdout",
          "output_type": "stream",
          "text": [
            "Checkpoint saved after session 62\n",
            "Current session: (PosixPath('/Volumes/__UP2/0_RAW_DATA/UP2_001/UP2001_2024_04_30_ExtraSession_4'), 63)\n"
          ]
        },
        {
          "name": "stderr",
          "output_type": "stream",
          "text": [
            "\u001b[32m2024-10-18 15:18:42.339\u001b[0m | \u001b[1mINFO    \u001b[0m | \u001b[36mlighthouse.data_loader.load_chuv\u001b[0m:\u001b[36mconcatenate_dt5\u001b[0m:\u001b[36m497\u001b[0m - \u001b[1mLoading /Volumes/__UP2/0_RAW_DATA/UP2_001/UP2001_2024_04_30_ExtraSession_4/wisci/2024_04_30_12_26_26/ABSD data/2024_04_30_12_31_28_01of07.dt5\u001b[0m\n",
            "\u001b[32m2024-10-18 15:19:35.166\u001b[0m | \u001b[1mINFO    \u001b[0m | \u001b[36mlighthouse.data_loader.load_chuv\u001b[0m:\u001b[36mload_dt5\u001b[0m:\u001b[36m196\u001b[0m - \u001b[1mScenario Name: classBSIIndependentJointsClassif\u001b[0m\n",
            "\u001b[32m2024-10-18 15:19:35.178\u001b[0m | \u001b[33m\u001b[1mWARNING \u001b[0m | \u001b[36mlighthouse.data_loader.load_chuv\u001b[0m:\u001b[36mload_dt5\u001b[0m:\u001b[36m203\u001b[0m - \u001b[33m\u001b[1mCannot get metadata from chuv files: \"Unable to open object (object 'SubScenarioNames' doesn't exist)\"\u001b[0m\n",
            "\u001b[32m2024-10-18 15:19:41.411\u001b[0m | \u001b[1mINFO    \u001b[0m | \u001b[36mlighthouse.data_loader.load_chuv\u001b[0m:\u001b[36mconcatenate_dt5\u001b[0m:\u001b[36m497\u001b[0m - \u001b[1mLoading /Volumes/__UP2/0_RAW_DATA/UP2_001/UP2001_2024_04_30_ExtraSession_4/wisci/2024_04_30_12_26_26/ABSD data/2024_04_30_12_31_28_02of07.dt5\u001b[0m\n",
            "\u001b[32m2024-10-18 15:20:38.903\u001b[0m | \u001b[1mINFO    \u001b[0m | \u001b[36mlighthouse.data_loader.load_chuv\u001b[0m:\u001b[36mconcatenate_dt5\u001b[0m:\u001b[36m497\u001b[0m - \u001b[1mLoading /Volumes/__UP2/0_RAW_DATA/UP2_001/UP2001_2024_04_30_ExtraSession_4/wisci/2024_04_30_12_26_26/ABSD data/2024_04_30_12_31_28_03of07.dt5\u001b[0m\n",
            "\u001b[32m2024-10-18 15:22:12.453\u001b[0m | \u001b[1mINFO    \u001b[0m | \u001b[36mlighthouse.data_loader.load_chuv\u001b[0m:\u001b[36mconcatenate_dt5\u001b[0m:\u001b[36m497\u001b[0m - \u001b[1mLoading /Volumes/__UP2/0_RAW_DATA/UP2_001/UP2001_2024_04_30_ExtraSession_4/wisci/2024_04_30_12_26_26/ABSD data/2024_04_30_12_31_28_04of07.dt5\u001b[0m\n",
            "\u001b[32m2024-10-18 15:23:24.344\u001b[0m | \u001b[1mINFO    \u001b[0m | \u001b[36mlighthouse.data_loader.load_chuv\u001b[0m:\u001b[36mconcatenate_dt5\u001b[0m:\u001b[36m497\u001b[0m - \u001b[1mLoading /Volumes/__UP2/0_RAW_DATA/UP2_001/UP2001_2024_04_30_ExtraSession_4/wisci/2024_04_30_12_26_26/ABSD data/2024_04_30_12_31_28_05of07.dt5\u001b[0m\n",
            "\u001b[32m2024-10-18 15:24:16.607\u001b[0m | \u001b[1mINFO    \u001b[0m | \u001b[36mlighthouse.data_loader.load_chuv\u001b[0m:\u001b[36mconcatenate_dt5\u001b[0m:\u001b[36m497\u001b[0m - \u001b[1mLoading /Volumes/__UP2/0_RAW_DATA/UP2_001/UP2001_2024_04_30_ExtraSession_4/wisci/2024_04_30_12_26_26/ABSD data/2024_04_30_12_31_28_06of07.dt5\u001b[0m\n",
            "\u001b[32m2024-10-18 15:25:12.651\u001b[0m | \u001b[1mINFO    \u001b[0m | \u001b[36mlighthouse.data_loader.load_chuv\u001b[0m:\u001b[36mconcatenate_dt5\u001b[0m:\u001b[36m497\u001b[0m - \u001b[1mLoading /Volumes/__UP2/0_RAW_DATA/UP2_001/UP2001_2024_04_30_ExtraSession_4/wisci/2024_04_30_12_26_26/ABSD data/2024_04_30_12_31_28_07of07.dt5\u001b[0m\n"
          ]
        },
        {
          "name": "stdout",
          "output_type": "stream",
          "text": [
            "Signals shape: (61, 1163893)\n",
            "New signal shape: (61, 217592)\n"
          ]
        },
        {
          "name": "stderr",
          "output_type": "stream",
          "text": [
            "\u001b[32m2024-10-18 15:25:42.086\u001b[0m | \u001b[1mINFO    \u001b[0m | \u001b[36mlighthouse.data_loader.load_chuv\u001b[0m:\u001b[36mconcatenate_dt5\u001b[0m:\u001b[36m497\u001b[0m - \u001b[1mLoading /Volumes/__UP2/0_RAW_DATA/UP2_001/UP2001_2024_04_30_ExtraSession_4/wisci/2024_04_30_13_05_43 (rec2 openclosetask)/ABSD data/2024_04_30_13_10_48_01of02.dt5\u001b[0m\n",
            "\u001b[32m2024-10-18 15:26:28.096\u001b[0m | \u001b[1mINFO    \u001b[0m | \u001b[36mlighthouse.data_loader.load_chuv\u001b[0m:\u001b[36mload_dt5\u001b[0m:\u001b[36m196\u001b[0m - \u001b[1mScenario Name: classBSIIndependentJointsClassif\u001b[0m\n",
            "\u001b[32m2024-10-18 15:26:28.098\u001b[0m | \u001b[33m\u001b[1mWARNING \u001b[0m | \u001b[36mlighthouse.data_loader.load_chuv\u001b[0m:\u001b[36mload_dt5\u001b[0m:\u001b[36m203\u001b[0m - \u001b[33m\u001b[1mCannot get metadata from chuv files: \"Unable to open object (object 'SubScenarioNames' doesn't exist)\"\u001b[0m\n",
            "\u001b[32m2024-10-18 15:26:32.314\u001b[0m | \u001b[1mINFO    \u001b[0m | \u001b[36mlighthouse.data_loader.load_chuv\u001b[0m:\u001b[36mconcatenate_dt5\u001b[0m:\u001b[36m497\u001b[0m - \u001b[1mLoading /Volumes/__UP2/0_RAW_DATA/UP2_001/UP2001_2024_04_30_ExtraSession_4/wisci/2024_04_30_13_05_43 (rec2 openclosetask)/ABSD data/2024_04_30_13_10_48_02of02.dt5\u001b[0m\n"
          ]
        },
        {
          "name": "stdout",
          "output_type": "stream",
          "text": [
            "Signals shape: (61, 258597)\n",
            "New signal shape: (61, 25724)\n"
          ]
        },
        {
          "name": "stderr",
          "output_type": "stream",
          "text": [
            "\u001b[32m2024-10-18 15:26:57.344\u001b[0m | \u001b[1mINFO    \u001b[0m | \u001b[36mlighthouse.data_loader.load_chuv\u001b[0m:\u001b[36mconcatenate_dt5\u001b[0m:\u001b[36m497\u001b[0m - \u001b[1mLoading /Volumes/__UP2/0_RAW_DATA/UP2_001/UP2001_2024_04_30_ExtraSession_4/wisci/2024_04_30_13_19_58 (rec3 rostral)/ABSD data/2024_04_30_13_22_02_01of05.dt5\u001b[0m\n",
            "\u001b[32m2024-10-18 15:27:47.493\u001b[0m | \u001b[1mINFO    \u001b[0m | \u001b[36mlighthouse.data_loader.load_chuv\u001b[0m:\u001b[36mload_dt5\u001b[0m:\u001b[36m196\u001b[0m - \u001b[1mScenario Name: classBSIIndependentJointsClassif\u001b[0m\n",
            "\u001b[32m2024-10-18 15:27:47.495\u001b[0m | \u001b[33m\u001b[1mWARNING \u001b[0m | \u001b[36mlighthouse.data_loader.load_chuv\u001b[0m:\u001b[36mload_dt5\u001b[0m:\u001b[36m203\u001b[0m - \u001b[33m\u001b[1mCannot get metadata from chuv files: \"Unable to open object (object 'SubScenarioNames' doesn't exist)\"\u001b[0m\n",
            "\u001b[32m2024-10-18 15:27:51.500\u001b[0m | \u001b[1mINFO    \u001b[0m | \u001b[36mlighthouse.data_loader.load_chuv\u001b[0m:\u001b[36mconcatenate_dt5\u001b[0m:\u001b[36m497\u001b[0m - \u001b[1mLoading /Volumes/__UP2/0_RAW_DATA/UP2_001/UP2001_2024_04_30_ExtraSession_4/wisci/2024_04_30_13_19_58 (rec3 rostral)/ABSD data/2024_04_30_13_22_02_02of05.dt5\u001b[0m\n",
            "\u001b[32m2024-10-18 15:28:48.345\u001b[0m | \u001b[1mINFO    \u001b[0m | \u001b[36mlighthouse.data_loader.load_chuv\u001b[0m:\u001b[36mconcatenate_dt5\u001b[0m:\u001b[36m497\u001b[0m - \u001b[1mLoading /Volumes/__UP2/0_RAW_DATA/UP2_001/UP2001_2024_04_30_ExtraSession_4/wisci/2024_04_30_13_19_58 (rec3 rostral)/ABSD data/2024_04_30_13_22_02_03of05.dt5\u001b[0m\n",
            "\u001b[32m2024-10-18 15:29:37.700\u001b[0m | \u001b[1mINFO    \u001b[0m | \u001b[36mlighthouse.data_loader.load_chuv\u001b[0m:\u001b[36mconcatenate_dt5\u001b[0m:\u001b[36m497\u001b[0m - \u001b[1mLoading /Volumes/__UP2/0_RAW_DATA/UP2_001/UP2001_2024_04_30_ExtraSession_4/wisci/2024_04_30_13_19_58 (rec3 rostral)/ABSD data/2024_04_30_13_22_02_04of05.dt5\u001b[0m\n",
            "\u001b[32m2024-10-18 15:30:29.475\u001b[0m | \u001b[1mINFO    \u001b[0m | \u001b[36mlighthouse.data_loader.load_chuv\u001b[0m:\u001b[36mconcatenate_dt5\u001b[0m:\u001b[36m497\u001b[0m - \u001b[1mLoading /Volumes/__UP2/0_RAW_DATA/UP2_001/UP2001_2024_04_30_ExtraSession_4/wisci/2024_04_30_13_19_58 (rec3 rostral)/ABSD data/2024_04_30_13_22_02_05of05.dt5\u001b[0m\n"
          ]
        },
        {
          "name": "stdout",
          "output_type": "stream",
          "text": [
            "Signals shape: (61, 755318)\n",
            "New signal shape: (61, 70387)\n",
            "length of data: 188\n"
          ]
        },
        {
          "name": "stderr",
          "output_type": "stream",
          "text": [
            " 98%|█████████▊| 64/65 [15:22:54<11:58, 718.57s/it]"
          ]
        },
        {
          "name": "stdout",
          "output_type": "stream",
          "text": [
            "Checkpoint saved after session 63\n",
            "Current session: (PosixPath('/Volumes/__UP2/0_RAW_DATA/UP2_001/UP2001_2023_10_23_BSITraining_day3_PhysioUpperLead'), 64)\n"
          ]
        },
        {
          "name": "stderr",
          "output_type": "stream",
          "text": [
            "\u001b[32m2024-10-18 15:31:42.600\u001b[0m | \u001b[1mINFO    \u001b[0m | \u001b[36mlighthouse.data_loader.load_chuv\u001b[0m:\u001b[36mconcatenate_dt5\u001b[0m:\u001b[36m497\u001b[0m - \u001b[1mLoading /Volumes/__UP2/0_RAW_DATA/UP2_001/UP2001_2023_10_23_BSITraining_day3_PhysioUpperLead/WIMAGINE/2023_10_23_15_45_12 (shoulderabd2)/ABSD data/2023_10_23_15_46_26_01of02.dt5\u001b[0m\n",
            "\u001b[32m2024-10-18 15:32:07.840\u001b[0m | \u001b[1mINFO    \u001b[0m | \u001b[36mlighthouse.data_loader.load_chuv\u001b[0m:\u001b[36mload_dt5\u001b[0m:\u001b[36m196\u001b[0m - \u001b[1mScenario Name: classBCIViewerAvatarAllDegreesCourtine\u001b[0m\n",
            "\u001b[32m2024-10-18 15:32:07.850\u001b[0m | \u001b[1mINFO    \u001b[0m | \u001b[36mlighthouse.data_loader.load_chuv\u001b[0m:\u001b[36mload_dt5\u001b[0m:\u001b[36m199\u001b[0m - \u001b[1mSub Scenario Name: classBSISubScenarioUpperJointsClassif\u001b[0m\n",
            "\u001b[32m2024-10-18 15:32:13.103\u001b[0m | \u001b[1mINFO    \u001b[0m | \u001b[36mlighthouse.data_loader.load_chuv\u001b[0m:\u001b[36mconcatenate_dt5\u001b[0m:\u001b[36m497\u001b[0m - \u001b[1mLoading /Volumes/__UP2/0_RAW_DATA/UP2_001/UP2001_2023_10_23_BSITraining_day3_PhysioUpperLead/WIMAGINE/2023_10_23_15_45_12 (shoulderabd2)/ABSD data/2023_10_23_15_46_26_02of02.dt5\u001b[0m\n"
          ]
        },
        {
          "name": "stdout",
          "output_type": "stream",
          "text": [
            "Signals shape: (56, 235056)\n",
            "New signal shape: (56, 0)\n"
          ]
        },
        {
          "name": "stderr",
          "output_type": "stream",
          "text": [
            "\u001b[32m2024-10-18 15:32:22.635\u001b[0m | \u001b[1mINFO    \u001b[0m | \u001b[36mlighthouse.data_loader.load_chuv\u001b[0m:\u001b[36mconcatenate_dt5\u001b[0m:\u001b[36m497\u001b[0m - \u001b[1mLoading /Volumes/__UP2/0_RAW_DATA/UP2_001/UP2001_2023_10_23_BSITraining_day3_PhysioUpperLead/WIMAGINE/2023_10_23_13_19_22 (shoulder flexion)/ABSD data/2023_10_23_13_25_45_01of06.dt5\u001b[0m\n",
            "\u001b[32m2024-10-18 15:32:45.471\u001b[0m | \u001b[1mINFO    \u001b[0m | \u001b[36mlighthouse.data_loader.load_chuv\u001b[0m:\u001b[36mload_dt5\u001b[0m:\u001b[36m196\u001b[0m - \u001b[1mScenario Name: classBCIViewerAvatarAllDegreesCourtine\u001b[0m\n",
            "\u001b[32m2024-10-18 15:32:45.474\u001b[0m | \u001b[1mINFO    \u001b[0m | \u001b[36mlighthouse.data_loader.load_chuv\u001b[0m:\u001b[36mload_dt5\u001b[0m:\u001b[36m199\u001b[0m - \u001b[1mSub Scenario Name: classBSISubScenarioUpperJointsClassif\u001b[0m\n",
            "\u001b[32m2024-10-18 15:32:49.351\u001b[0m | \u001b[1mINFO    \u001b[0m | \u001b[36mlighthouse.data_loader.load_chuv\u001b[0m:\u001b[36mconcatenate_dt5\u001b[0m:\u001b[36m497\u001b[0m - \u001b[1mLoading /Volumes/__UP2/0_RAW_DATA/UP2_001/UP2001_2023_10_23_BSITraining_day3_PhysioUpperLead/WIMAGINE/2023_10_23_13_19_22 (shoulder flexion)/ABSD data/2023_10_23_13_25_45_02of06.dt5\u001b[0m\n",
            "\u001b[32m2024-10-18 15:33:15.622\u001b[0m | \u001b[1mINFO    \u001b[0m | \u001b[36mlighthouse.data_loader.load_chuv\u001b[0m:\u001b[36mconcatenate_dt5\u001b[0m:\u001b[36m497\u001b[0m - \u001b[1mLoading /Volumes/__UP2/0_RAW_DATA/UP2_001/UP2001_2023_10_23_BSITraining_day3_PhysioUpperLead/WIMAGINE/2023_10_23_13_19_22 (shoulder flexion)/ABSD data/2023_10_23_13_25_45_03of06.dt5\u001b[0m\n",
            "\u001b[32m2024-10-18 15:33:42.684\u001b[0m | \u001b[1mINFO    \u001b[0m | \u001b[36mlighthouse.data_loader.load_chuv\u001b[0m:\u001b[36mconcatenate_dt5\u001b[0m:\u001b[36m497\u001b[0m - \u001b[1mLoading /Volumes/__UP2/0_RAW_DATA/UP2_001/UP2001_2023_10_23_BSITraining_day3_PhysioUpperLead/WIMAGINE/2023_10_23_13_19_22 (shoulder flexion)/ABSD data/2023_10_23_13_25_45_04of06.dt5\u001b[0m\n",
            "\u001b[32m2024-10-18 15:34:11.816\u001b[0m | \u001b[1mINFO    \u001b[0m | \u001b[36mlighthouse.data_loader.load_chuv\u001b[0m:\u001b[36mconcatenate_dt5\u001b[0m:\u001b[36m497\u001b[0m - \u001b[1mLoading /Volumes/__UP2/0_RAW_DATA/UP2_001/UP2001_2023_10_23_BSITraining_day3_PhysioUpperLead/WIMAGINE/2023_10_23_13_19_22 (shoulder flexion)/ABSD data/2023_10_23_13_25_45_05of06.dt5\u001b[0m\n",
            "\u001b[32m2024-10-18 15:34:39.441\u001b[0m | \u001b[1mINFO    \u001b[0m | \u001b[36mlighthouse.data_loader.load_chuv\u001b[0m:\u001b[36mconcatenate_dt5\u001b[0m:\u001b[36m497\u001b[0m - \u001b[1mLoading /Volumes/__UP2/0_RAW_DATA/UP2_001/UP2001_2023_10_23_BSITraining_day3_PhysioUpperLead/WIMAGINE/2023_10_23_13_19_22 (shoulder flexion)/ABSD data/2023_10_23_13_25_45_06of06.dt5\u001b[0m\n"
          ]
        },
        {
          "name": "stdout",
          "output_type": "stream",
          "text": [
            "Signals shape: (56, 1054920)\n",
            "New signal shape: (56, 225026)\n"
          ]
        },
        {
          "name": "stderr",
          "output_type": "stream",
          "text": [
            "\u001b[32m2024-10-18 15:35:09.526\u001b[0m | \u001b[1mINFO    \u001b[0m | \u001b[36mlighthouse.data_loader.load_chuv\u001b[0m:\u001b[36mconcatenate_dt5\u001b[0m:\u001b[36m497\u001b[0m - \u001b[1mLoading /Volumes/__UP2/0_RAW_DATA/UP2_001/UP2001_2023_10_23_BSITraining_day3_PhysioUpperLead/WIMAGINE/2023_10_23_13_56_45 (elbowExtension1)/ABSD data/2023_10_23_13_57_51_01of04.dt5\u001b[0m\n",
            "\u001b[32m2024-10-18 15:35:32.040\u001b[0m | \u001b[1mINFO    \u001b[0m | \u001b[36mlighthouse.data_loader.load_chuv\u001b[0m:\u001b[36mload_dt5\u001b[0m:\u001b[36m196\u001b[0m - \u001b[1mScenario Name: classBCIViewerAvatarAllDegreesCourtine\u001b[0m\n",
            "\u001b[32m2024-10-18 15:35:32.043\u001b[0m | \u001b[1mINFO    \u001b[0m | \u001b[36mlighthouse.data_loader.load_chuv\u001b[0m:\u001b[36mload_dt5\u001b[0m:\u001b[36m199\u001b[0m - \u001b[1mSub Scenario Name: classBSISubScenarioUpperJointsClassif\u001b[0m\n",
            "\u001b[32m2024-10-18 15:35:35.932\u001b[0m | \u001b[1mINFO    \u001b[0m | \u001b[36mlighthouse.data_loader.load_chuv\u001b[0m:\u001b[36mconcatenate_dt5\u001b[0m:\u001b[36m497\u001b[0m - \u001b[1mLoading /Volumes/__UP2/0_RAW_DATA/UP2_001/UP2001_2023_10_23_BSITraining_day3_PhysioUpperLead/WIMAGINE/2023_10_23_13_56_45 (elbowExtension1)/ABSD data/2023_10_23_13_57_51_02of04.dt5\u001b[0m\n",
            "\u001b[32m2024-10-18 15:36:08.596\u001b[0m | \u001b[1mINFO    \u001b[0m | \u001b[36mlighthouse.data_loader.load_chuv\u001b[0m:\u001b[36mconcatenate_dt5\u001b[0m:\u001b[36m497\u001b[0m - \u001b[1mLoading /Volumes/__UP2/0_RAW_DATA/UP2_001/UP2001_2023_10_23_BSITraining_day3_PhysioUpperLead/WIMAGINE/2023_10_23_13_56_45 (elbowExtension1)/ABSD data/2023_10_23_13_57_51_03of04.dt5\u001b[0m\n",
            "\u001b[32m2024-10-18 15:36:35.461\u001b[0m | \u001b[1mINFO    \u001b[0m | \u001b[36mlighthouse.data_loader.load_chuv\u001b[0m:\u001b[36mconcatenate_dt5\u001b[0m:\u001b[36m497\u001b[0m - \u001b[1mLoading /Volumes/__UP2/0_RAW_DATA/UP2_001/UP2001_2023_10_23_BSITraining_day3_PhysioUpperLead/WIMAGINE/2023_10_23_13_56_45 (elbowExtension1)/ABSD data/2023_10_23_13_57_51_04of04.dt5\u001b[0m\n"
          ]
        },
        {
          "name": "stdout",
          "output_type": "stream",
          "text": [
            "Signals shape: (56, 707528)\n",
            "New signal shape: (56, 152869)\n"
          ]
        },
        {
          "name": "stderr",
          "output_type": "stream",
          "text": [
            "\u001b[32m2024-10-18 15:37:04.000\u001b[0m | \u001b[1mINFO    \u001b[0m | \u001b[36mlighthouse.data_loader.load_chuv\u001b[0m:\u001b[36mconcatenate_dt5\u001b[0m:\u001b[36m497\u001b[0m - \u001b[1mLoading /Volumes/__UP2/0_RAW_DATA/UP2_001/UP2001_2023_10_23_BSITraining_day3_PhysioUpperLead/WIMAGINE/2023_10_23_14_18_43 (elbow extension)/ABSD data/2023_10_23_14_19_36_01of17.dt5\u001b[0m\n",
            "\u001b[32m2024-10-18 15:37:28.310\u001b[0m | \u001b[1mINFO    \u001b[0m | \u001b[36mlighthouse.data_loader.load_chuv\u001b[0m:\u001b[36mload_dt5\u001b[0m:\u001b[36m196\u001b[0m - \u001b[1mScenario Name: classBCIViewerAvatarAllDegreesCourtine\u001b[0m\n",
            "\u001b[32m2024-10-18 15:37:28.314\u001b[0m | \u001b[1mINFO    \u001b[0m | \u001b[36mlighthouse.data_loader.load_chuv\u001b[0m:\u001b[36mload_dt5\u001b[0m:\u001b[36m199\u001b[0m - \u001b[1mSub Scenario Name: classBSISubScenarioUpperJointsClassif\u001b[0m\n",
            "\u001b[32m2024-10-18 15:37:32.241\u001b[0m | \u001b[1mINFO    \u001b[0m | \u001b[36mlighthouse.data_loader.load_chuv\u001b[0m:\u001b[36mconcatenate_dt5\u001b[0m:\u001b[36m497\u001b[0m - \u001b[1mLoading /Volumes/__UP2/0_RAW_DATA/UP2_001/UP2001_2023_10_23_BSITraining_day3_PhysioUpperLead/WIMAGINE/2023_10_23_14_18_43 (elbow extension)/ABSD data/2023_10_23_14_19_36_02of17.dt5\u001b[0m\n",
            "\u001b[32m2024-10-18 15:38:00.982\u001b[0m | \u001b[1mINFO    \u001b[0m | \u001b[36mlighthouse.data_loader.load_chuv\u001b[0m:\u001b[36mconcatenate_dt5\u001b[0m:\u001b[36m497\u001b[0m - \u001b[1mLoading /Volumes/__UP2/0_RAW_DATA/UP2_001/UP2001_2023_10_23_BSITraining_day3_PhysioUpperLead/WIMAGINE/2023_10_23_14_18_43 (elbow extension)/ABSD data/2023_10_23_14_19_36_03of17.dt5\u001b[0m\n",
            "\u001b[32m2024-10-18 15:38:30.608\u001b[0m | \u001b[1mINFO    \u001b[0m | \u001b[36mlighthouse.data_loader.load_chuv\u001b[0m:\u001b[36mconcatenate_dt5\u001b[0m:\u001b[36m497\u001b[0m - \u001b[1mLoading /Volumes/__UP2/0_RAW_DATA/UP2_001/UP2001_2023_10_23_BSITraining_day3_PhysioUpperLead/WIMAGINE/2023_10_23_14_18_43 (elbow extension)/ABSD data/2023_10_23_14_19_36_04of17.dt5\u001b[0m\n",
            "\u001b[32m2024-10-18 15:38:57.097\u001b[0m | \u001b[1mINFO    \u001b[0m | \u001b[36mlighthouse.data_loader.load_chuv\u001b[0m:\u001b[36mconcatenate_dt5\u001b[0m:\u001b[36m497\u001b[0m - \u001b[1mLoading /Volumes/__UP2/0_RAW_DATA/UP2_001/UP2001_2023_10_23_BSITraining_day3_PhysioUpperLead/WIMAGINE/2023_10_23_14_18_43 (elbow extension)/ABSD data/2023_10_23_14_19_36_05of17.dt5\u001b[0m\n",
            "\u001b[32m2024-10-18 15:39:25.093\u001b[0m | \u001b[1mINFO    \u001b[0m | \u001b[36mlighthouse.data_loader.load_chuv\u001b[0m:\u001b[36mconcatenate_dt5\u001b[0m:\u001b[36m497\u001b[0m - \u001b[1mLoading /Volumes/__UP2/0_RAW_DATA/UP2_001/UP2001_2023_10_23_BSITraining_day3_PhysioUpperLead/WIMAGINE/2023_10_23_14_18_43 (elbow extension)/ABSD data/2023_10_23_14_19_36_06of17.dt5\u001b[0m\n",
            "\u001b[32m2024-10-18 15:39:51.930\u001b[0m | \u001b[1mINFO    \u001b[0m | \u001b[36mlighthouse.data_loader.load_chuv\u001b[0m:\u001b[36mconcatenate_dt5\u001b[0m:\u001b[36m497\u001b[0m - \u001b[1mLoading /Volumes/__UP2/0_RAW_DATA/UP2_001/UP2001_2023_10_23_BSITraining_day3_PhysioUpperLead/WIMAGINE/2023_10_23_14_18_43 (elbow extension)/ABSD data/2023_10_23_14_19_36_07of17.dt5\u001b[0m\n",
            "\u001b[32m2024-10-18 15:40:18.788\u001b[0m | \u001b[1mINFO    \u001b[0m | \u001b[36mlighthouse.data_loader.load_chuv\u001b[0m:\u001b[36mconcatenate_dt5\u001b[0m:\u001b[36m497\u001b[0m - \u001b[1mLoading /Volumes/__UP2/0_RAW_DATA/UP2_001/UP2001_2023_10_23_BSITraining_day3_PhysioUpperLead/WIMAGINE/2023_10_23_14_18_43 (elbow extension)/ABSD data/2023_10_23_14_19_36_08of17.dt5\u001b[0m\n",
            "\u001b[32m2024-10-18 15:40:45.842\u001b[0m | \u001b[1mINFO    \u001b[0m | \u001b[36mlighthouse.data_loader.load_chuv\u001b[0m:\u001b[36mconcatenate_dt5\u001b[0m:\u001b[36m497\u001b[0m - \u001b[1mLoading /Volumes/__UP2/0_RAW_DATA/UP2_001/UP2001_2023_10_23_BSITraining_day3_PhysioUpperLead/WIMAGINE/2023_10_23_14_18_43 (elbow extension)/ABSD data/2023_10_23_14_19_36_09of17.dt5\u001b[0m\n",
            "\u001b[32m2024-10-18 15:41:10.683\u001b[0m | \u001b[1mINFO    \u001b[0m | \u001b[36mlighthouse.data_loader.load_chuv\u001b[0m:\u001b[36mconcatenate_dt5\u001b[0m:\u001b[36m497\u001b[0m - \u001b[1mLoading /Volumes/__UP2/0_RAW_DATA/UP2_001/UP2001_2023_10_23_BSITraining_day3_PhysioUpperLead/WIMAGINE/2023_10_23_14_18_43 (elbow extension)/ABSD data/2023_10_23_14_19_36_10of17.dt5\u001b[0m\n",
            "\u001b[32m2024-10-18 15:41:39.826\u001b[0m | \u001b[1mINFO    \u001b[0m | \u001b[36mlighthouse.data_loader.load_chuv\u001b[0m:\u001b[36mconcatenate_dt5\u001b[0m:\u001b[36m497\u001b[0m - \u001b[1mLoading /Volumes/__UP2/0_RAW_DATA/UP2_001/UP2001_2023_10_23_BSITraining_day3_PhysioUpperLead/WIMAGINE/2023_10_23_14_18_43 (elbow extension)/ABSD data/2023_10_23_14_19_36_11of17.dt5\u001b[0m\n",
            "\u001b[32m2024-10-18 15:42:04.560\u001b[0m | \u001b[1mINFO    \u001b[0m | \u001b[36mlighthouse.data_loader.load_chuv\u001b[0m:\u001b[36mconcatenate_dt5\u001b[0m:\u001b[36m497\u001b[0m - \u001b[1mLoading /Volumes/__UP2/0_RAW_DATA/UP2_001/UP2001_2023_10_23_BSITraining_day3_PhysioUpperLead/WIMAGINE/2023_10_23_14_18_43 (elbow extension)/ABSD data/2023_10_23_14_19_36_12of17.dt5\u001b[0m\n",
            "\u001b[32m2024-10-18 15:42:34.786\u001b[0m | \u001b[1mINFO    \u001b[0m | \u001b[36mlighthouse.data_loader.load_chuv\u001b[0m:\u001b[36mconcatenate_dt5\u001b[0m:\u001b[36m497\u001b[0m - \u001b[1mLoading /Volumes/__UP2/0_RAW_DATA/UP2_001/UP2001_2023_10_23_BSITraining_day3_PhysioUpperLead/WIMAGINE/2023_10_23_14_18_43 (elbow extension)/ABSD data/2023_10_23_14_19_36_13of17.dt5\u001b[0m\n",
            "\u001b[32m2024-10-18 15:43:01.116\u001b[0m | \u001b[1mINFO    \u001b[0m | \u001b[36mlighthouse.data_loader.load_chuv\u001b[0m:\u001b[36mconcatenate_dt5\u001b[0m:\u001b[36m497\u001b[0m - \u001b[1mLoading /Volumes/__UP2/0_RAW_DATA/UP2_001/UP2001_2023_10_23_BSITraining_day3_PhysioUpperLead/WIMAGINE/2023_10_23_14_18_43 (elbow extension)/ABSD data/2023_10_23_14_19_36_14of17.dt5\u001b[0m\n",
            "\u001b[32m2024-10-18 15:43:27.206\u001b[0m | \u001b[1mINFO    \u001b[0m | \u001b[36mlighthouse.data_loader.load_chuv\u001b[0m:\u001b[36mconcatenate_dt5\u001b[0m:\u001b[36m497\u001b[0m - \u001b[1mLoading /Volumes/__UP2/0_RAW_DATA/UP2_001/UP2001_2023_10_23_BSITraining_day3_PhysioUpperLead/WIMAGINE/2023_10_23_14_18_43 (elbow extension)/ABSD data/2023_10_23_14_19_36_15of17.dt5\u001b[0m\n",
            "\u001b[32m2024-10-18 15:43:53.851\u001b[0m | \u001b[1mINFO    \u001b[0m | \u001b[36mlighthouse.data_loader.load_chuv\u001b[0m:\u001b[36mconcatenate_dt5\u001b[0m:\u001b[36m497\u001b[0m - \u001b[1mLoading /Volumes/__UP2/0_RAW_DATA/UP2_001/UP2001_2023_10_23_BSITraining_day3_PhysioUpperLead/WIMAGINE/2023_10_23_14_18_43 (elbow extension)/ABSD data/2023_10_23_14_19_36_16of17.dt5\u001b[0m\n",
            "\u001b[32m2024-10-18 15:44:21.068\u001b[0m | \u001b[1mINFO    \u001b[0m | \u001b[36mlighthouse.data_loader.load_chuv\u001b[0m:\u001b[36mconcatenate_dt5\u001b[0m:\u001b[36m497\u001b[0m - \u001b[1mLoading /Volumes/__UP2/0_RAW_DATA/UP2_001/UP2001_2023_10_23_BSITraining_day3_PhysioUpperLead/WIMAGINE/2023_10_23_14_18_43 (elbow extension)/ABSD data/2023_10_23_14_19_36_17of17.dt5\u001b[0m\n"
          ]
        },
        {
          "name": "stdout",
          "output_type": "stream",
          "text": [
            "Signals shape: (56, 2955487)\n",
            "New signal shape: (56, 395772)\n",
            "length of data: 192\n"
          ]
        },
        {
          "name": "stderr",
          "output_type": "stream",
          "text": [
            "100%|██████████| 65/65 [15:36:54<00:00, 864.83s/it]"
          ]
        },
        {
          "name": "stdout",
          "output_type": "stream",
          "text": [
            "Checkpoint saved after session 64\n",
            "length of data_: 192\n"
          ]
        },
        {
          "name": "stderr",
          "output_type": "stream",
          "text": [
            "\n"
          ]
        },
        {
          "name": "stdout",
          "output_type": "stream",
          "text": [
            "Final save complete.\n"
          ]
        }
      ],
      "source": [
        "\n",
        "# Load previous checkpoints if available\n",
        "try:\n",
        "    X = list(np.load('Train_data.npy', allow_pickle=True))\n",
        "    Dir = list(np.load('Ch_train.npy', allow_pickle=True))\n",
        "    Train_Dir = list(np.load('dir_train.npy', allow_pickle=True))\n",
        "    start_session = read_checkpoint()  # Resume from the last saved session\n",
        "    print(\"Found File\")\n",
        "    print(f\"Starting from session: {start_session}\")\n",
        "except FileNotFoundError:\n",
        "    X, Dir, Train_Dir = [], [], []\n",
        "    start_session = 0  # Start from the beginning if no previous data\n",
        "\n",
        "\n",
        "try:\n",
        "    for i, train_ses in enumerate(tqdm(training_sessions[start_session:]), start=start_session):\n",
        "        print(f\"Current session: {train_ses, i}\")\n",
        "        absd_dirs = [\n",
        "            p.resolve() for p in Path(train_ses).glob(\"**\") if p.is_dir() and (\"ABSD\" in p.name or \"absd\" in p.name)\n",
        "        ]\n",
        "\n",
        "        for absd_dir in absd_dirs:\n",
        "            dt5_files = sorted(list(Path(absd_dir).glob(\"*.dt5\")))\n",
        "\n",
        "            if len(dt5_files) == 0:\n",
        "                continue\n",
        "\n",
        "            n_files = len(dt5_files)\n",
        "            counter = 1\n",
        "            skip_this = False\n",
        "            for file in dt5_files:\n",
        "                if not int(file.stem[-2:]) == n_files:\n",
        "                    skip_this = True\n",
        "                    continue\n",
        "                if not counter == int(file.stem[-6:-4]):\n",
        "                    skip_this = True\n",
        "                    continue\n",
        "                counter += 1\n",
        "\n",
        "            if skip_this:\n",
        "                continue\n",
        "\n",
        "            # Process signals\n",
        "            signals, ch_names = load_absd(absd_dir, return_is_updating=True, return_states=True)\n",
        "            update_index = int(np.argwhere(np.array(ch_names) == 'is_updating'))\n",
        "            update = np.argwhere(signals[update_index, :] == 1)\n",
        "            print(f\"Signals shape: {signals.shape}\")\n",
        "\n",
        "            new_sig = np.squeeze(signals[:, update])\n",
        "            print(f\"New signal shape: {new_sig.shape}\")\n",
        "            X.append(new_sig)\n",
        "            Dir.append(ch_names)\n",
        "            Train_Dir.append(absd_dir)\n",
        "\n",
        "\n",
        "\n",
        "        # Save after every checkpoint interval\n",
        "\n",
        "        np_array_X = np.empty(len(X), dtype=object)\n",
        "        for j, x in enumerate(X):\n",
        "            np_array_X[j] = x\n",
        "        print(f\"length of data: {len(X)}\")\n",
        "\n",
        "        np.save('Ch_train.npy', np.array(Dir, dtype=object), allow_pickle=True)\n",
        "        np.save('Train_data.npy', np.array(np_array_X, dtype=object), allow_pickle=True)\n",
        "        np.save('dir_train.npy', np.array(Train_Dir, dtype=object), allow_pickle=True)\n",
        "        write_checkpoint(i)\n",
        "        print(f\"Checkpoint saved after session {i}\")\n",
        "\n",
        "except KeyboardInterrupt:\n",
        "    print(f\"Script interrupted at session {i}. Saving current progress...\")\n",
        "    print(\"Progress saved after interruption.\")\n",
        "\n",
        "except Exception as e:\n",
        "    print(f\"An error occurred: {e}\")\n",
        "    print(f\"Saving progress at session {i} before exiting...\")\n",
        "    raise  # Re-raise the exception after saving\n",
        "\n",
        "else:\n",
        "    # Final save after the loop completes successfully\n",
        "    np_array_X = np.empty(len(X), dtype=object)\n",
        "    for j, x in enumerate(X):\n",
        "        np_array_X[j] = x\n",
        "    print(f\"length of data_: {len(X)}\")\n",
        "\n",
        "    np.save('Ch_train.npy', np.array(Dir, dtype=object), allow_pickle=True)\n",
        "    np.save('Train_data.npy', np.array(np_array_X, dtype=object), allow_pickle=True)\n",
        "    np.save('dir_train.npy', np.array(Train_Dir, dtype=object), allow_pickle=True)\n",
        "    write_checkpoint(i + 1)\n",
        "    print(\"Final save complete.\")\n"
      ]
    },
    {
      "cell_type": "code",
      "execution_count": null,
      "metadata": {
        "id": "UURcII2wGN2q"
      },
      "outputs": [],
      "source": []
    }
  ],
  "metadata": {
    "kernelspec": {
      "display_name": "base",
      "language": "python",
      "name": "python3"
    },
    "language_info": {
      "codemirror_mode": {
        "name": "ipython",
        "version": 3
      },
      "file_extension": ".py",
      "mimetype": "text/x-python",
      "name": "python",
      "nbconvert_exporter": "python",
      "pygments_lexer": "ipython3",
      "version": "3.12.2"
    },
    "colab": {
      "provenance": []
    }
  },
  "nbformat": 4,
  "nbformat_minor": 0
}