{
  "nbformat": 4,
  "nbformat_minor": 0,
  "metadata": {
    "colab": {
      "provenance": [],
      "machine_shape": "hm"
    },
    "kernelspec": {
      "name": "python3",
      "display_name": "Python 3"
    },
    "language_info": {
      "name": "python"
    },
    "widgets": {
      "application/vnd.jupyter.widget-state+json": {
        "dc7c90a96f9a4a8aabf1adcbca61d5dd": {
          "model_module": "@jupyter-widgets/controls",
          "model_name": "HBoxModel",
          "model_module_version": "1.5.0",
          "state": {
            "_dom_classes": [],
            "_model_module": "@jupyter-widgets/controls",
            "_model_module_version": "1.5.0",
            "_model_name": "HBoxModel",
            "_view_count": null,
            "_view_module": "@jupyter-widgets/controls",
            "_view_module_version": "1.5.0",
            "_view_name": "HBoxView",
            "box_style": "",
            "children": [
              "IPY_MODEL_ce7ae349a95140b7b6b1d10b522ffca4",
              "IPY_MODEL_805af7b80b3d43e29a1fc5f5be3bf9d1",
              "IPY_MODEL_411f3b4b285d42a5a35e80773dc027b5"
            ],
            "layout": "IPY_MODEL_63a4159a1e144bac9cd79bd607ae4b46"
          }
        },
        "ce7ae349a95140b7b6b1d10b522ffca4": {
          "model_module": "@jupyter-widgets/controls",
          "model_name": "HTMLModel",
          "model_module_version": "1.5.0",
          "state": {
            "_dom_classes": [],
            "_model_module": "@jupyter-widgets/controls",
            "_model_module_version": "1.5.0",
            "_model_name": "HTMLModel",
            "_view_count": null,
            "_view_module": "@jupyter-widgets/controls",
            "_view_module_version": "1.5.0",
            "_view_name": "HTMLView",
            "description": "",
            "description_tooltip": null,
            "layout": "IPY_MODEL_130998b566084b23a2eabe9c2fd00f7c",
            "placeholder": "​",
            "style": "IPY_MODEL_30c0ea9bdf8948ae991f233a566bbae6",
            "value": "Epoch 49: 100%"
          }
        },
        "805af7b80b3d43e29a1fc5f5be3bf9d1": {
          "model_module": "@jupyter-widgets/controls",
          "model_name": "FloatProgressModel",
          "model_module_version": "1.5.0",
          "state": {
            "_dom_classes": [],
            "_model_module": "@jupyter-widgets/controls",
            "_model_module_version": "1.5.0",
            "_model_name": "FloatProgressModel",
            "_view_count": null,
            "_view_module": "@jupyter-widgets/controls",
            "_view_module_version": "1.5.0",
            "_view_name": "ProgressView",
            "bar_style": "success",
            "description": "",
            "description_tooltip": null,
            "layout": "IPY_MODEL_482e21b9c07c43cea4d76f40b23ade6e",
            "max": 1450,
            "min": 0,
            "orientation": "horizontal",
            "style": "IPY_MODEL_7489e29e57384a91a3658e4d84eb08b2",
            "value": 1450
          }
        },
        "411f3b4b285d42a5a35e80773dc027b5": {
          "model_module": "@jupyter-widgets/controls",
          "model_name": "HTMLModel",
          "model_module_version": "1.5.0",
          "state": {
            "_dom_classes": [],
            "_model_module": "@jupyter-widgets/controls",
            "_model_module_version": "1.5.0",
            "_model_name": "HTMLModel",
            "_view_count": null,
            "_view_module": "@jupyter-widgets/controls",
            "_view_module_version": "1.5.0",
            "_view_name": "HTMLView",
            "description": "",
            "description_tooltip": null,
            "layout": "IPY_MODEL_43e9e58744be4247ac5124916682f11a",
            "placeholder": "​",
            "style": "IPY_MODEL_694aa7365169436fa3469829a91a5c2b",
            "value": " 1450/1450 [00:48&lt;00:00, 29.67it/s, v_num=3]"
          }
        },
        "63a4159a1e144bac9cd79bd607ae4b46": {
          "model_module": "@jupyter-widgets/base",
          "model_name": "LayoutModel",
          "model_module_version": "1.2.0",
          "state": {
            "_model_module": "@jupyter-widgets/base",
            "_model_module_version": "1.2.0",
            "_model_name": "LayoutModel",
            "_view_count": null,
            "_view_module": "@jupyter-widgets/base",
            "_view_module_version": "1.2.0",
            "_view_name": "LayoutView",
            "align_content": null,
            "align_items": null,
            "align_self": null,
            "border": null,
            "bottom": null,
            "display": "inline-flex",
            "flex": null,
            "flex_flow": "row wrap",
            "grid_area": null,
            "grid_auto_columns": null,
            "grid_auto_flow": null,
            "grid_auto_rows": null,
            "grid_column": null,
            "grid_gap": null,
            "grid_row": null,
            "grid_template_areas": null,
            "grid_template_columns": null,
            "grid_template_rows": null,
            "height": null,
            "justify_content": null,
            "justify_items": null,
            "left": null,
            "margin": null,
            "max_height": null,
            "max_width": null,
            "min_height": null,
            "min_width": null,
            "object_fit": null,
            "object_position": null,
            "order": null,
            "overflow": null,
            "overflow_x": null,
            "overflow_y": null,
            "padding": null,
            "right": null,
            "top": null,
            "visibility": null,
            "width": "100%"
          }
        },
        "130998b566084b23a2eabe9c2fd00f7c": {
          "model_module": "@jupyter-widgets/base",
          "model_name": "LayoutModel",
          "model_module_version": "1.2.0",
          "state": {
            "_model_module": "@jupyter-widgets/base",
            "_model_module_version": "1.2.0",
            "_model_name": "LayoutModel",
            "_view_count": null,
            "_view_module": "@jupyter-widgets/base",
            "_view_module_version": "1.2.0",
            "_view_name": "LayoutView",
            "align_content": null,
            "align_items": null,
            "align_self": null,
            "border": null,
            "bottom": null,
            "display": null,
            "flex": null,
            "flex_flow": null,
            "grid_area": null,
            "grid_auto_columns": null,
            "grid_auto_flow": null,
            "grid_auto_rows": null,
            "grid_column": null,
            "grid_gap": null,
            "grid_row": null,
            "grid_template_areas": null,
            "grid_template_columns": null,
            "grid_template_rows": null,
            "height": null,
            "justify_content": null,
            "justify_items": null,
            "left": null,
            "margin": null,
            "max_height": null,
            "max_width": null,
            "min_height": null,
            "min_width": null,
            "object_fit": null,
            "object_position": null,
            "order": null,
            "overflow": null,
            "overflow_x": null,
            "overflow_y": null,
            "padding": null,
            "right": null,
            "top": null,
            "visibility": null,
            "width": null
          }
        },
        "30c0ea9bdf8948ae991f233a566bbae6": {
          "model_module": "@jupyter-widgets/controls",
          "model_name": "DescriptionStyleModel",
          "model_module_version": "1.5.0",
          "state": {
            "_model_module": "@jupyter-widgets/controls",
            "_model_module_version": "1.5.0",
            "_model_name": "DescriptionStyleModel",
            "_view_count": null,
            "_view_module": "@jupyter-widgets/base",
            "_view_module_version": "1.2.0",
            "_view_name": "StyleView",
            "description_width": ""
          }
        },
        "482e21b9c07c43cea4d76f40b23ade6e": {
          "model_module": "@jupyter-widgets/base",
          "model_name": "LayoutModel",
          "model_module_version": "1.2.0",
          "state": {
            "_model_module": "@jupyter-widgets/base",
            "_model_module_version": "1.2.0",
            "_model_name": "LayoutModel",
            "_view_count": null,
            "_view_module": "@jupyter-widgets/base",
            "_view_module_version": "1.2.0",
            "_view_name": "LayoutView",
            "align_content": null,
            "align_items": null,
            "align_self": null,
            "border": null,
            "bottom": null,
            "display": null,
            "flex": "2",
            "flex_flow": null,
            "grid_area": null,
            "grid_auto_columns": null,
            "grid_auto_flow": null,
            "grid_auto_rows": null,
            "grid_column": null,
            "grid_gap": null,
            "grid_row": null,
            "grid_template_areas": null,
            "grid_template_columns": null,
            "grid_template_rows": null,
            "height": null,
            "justify_content": null,
            "justify_items": null,
            "left": null,
            "margin": null,
            "max_height": null,
            "max_width": null,
            "min_height": null,
            "min_width": null,
            "object_fit": null,
            "object_position": null,
            "order": null,
            "overflow": null,
            "overflow_x": null,
            "overflow_y": null,
            "padding": null,
            "right": null,
            "top": null,
            "visibility": null,
            "width": null
          }
        },
        "7489e29e57384a91a3658e4d84eb08b2": {
          "model_module": "@jupyter-widgets/controls",
          "model_name": "ProgressStyleModel",
          "model_module_version": "1.5.0",
          "state": {
            "_model_module": "@jupyter-widgets/controls",
            "_model_module_version": "1.5.0",
            "_model_name": "ProgressStyleModel",
            "_view_count": null,
            "_view_module": "@jupyter-widgets/base",
            "_view_module_version": "1.2.0",
            "_view_name": "StyleView",
            "bar_color": null,
            "description_width": ""
          }
        },
        "43e9e58744be4247ac5124916682f11a": {
          "model_module": "@jupyter-widgets/base",
          "model_name": "LayoutModel",
          "model_module_version": "1.2.0",
          "state": {
            "_model_module": "@jupyter-widgets/base",
            "_model_module_version": "1.2.0",
            "_model_name": "LayoutModel",
            "_view_count": null,
            "_view_module": "@jupyter-widgets/base",
            "_view_module_version": "1.2.0",
            "_view_name": "LayoutView",
            "align_content": null,
            "align_items": null,
            "align_self": null,
            "border": null,
            "bottom": null,
            "display": null,
            "flex": null,
            "flex_flow": null,
            "grid_area": null,
            "grid_auto_columns": null,
            "grid_auto_flow": null,
            "grid_auto_rows": null,
            "grid_column": null,
            "grid_gap": null,
            "grid_row": null,
            "grid_template_areas": null,
            "grid_template_columns": null,
            "grid_template_rows": null,
            "height": null,
            "justify_content": null,
            "justify_items": null,
            "left": null,
            "margin": null,
            "max_height": null,
            "max_width": null,
            "min_height": null,
            "min_width": null,
            "object_fit": null,
            "object_position": null,
            "order": null,
            "overflow": null,
            "overflow_x": null,
            "overflow_y": null,
            "padding": null,
            "right": null,
            "top": null,
            "visibility": null,
            "width": null
          }
        },
        "694aa7365169436fa3469829a91a5c2b": {
          "model_module": "@jupyter-widgets/controls",
          "model_name": "DescriptionStyleModel",
          "model_module_version": "1.5.0",
          "state": {
            "_model_module": "@jupyter-widgets/controls",
            "_model_module_version": "1.5.0",
            "_model_name": "DescriptionStyleModel",
            "_view_count": null,
            "_view_module": "@jupyter-widgets/base",
            "_view_module_version": "1.2.0",
            "_view_name": "StyleView",
            "description_width": ""
          }
        }
      }
    }
  },
  "cells": [
    {
      "cell_type": "markdown",
      "source": [
        "Based Arshia Azfal's code: Training the Vision Transformer model to classify the intended upperlimb movement using FFT features. Preprocessing of the data using Etienne Montalivet's MNEFilter."
      ],
      "metadata": {
        "id": "gQ_qRiNkGHNQ"
      }
    },
    {
      "cell_type": "code",
      "execution_count": 1,
      "metadata": {
        "id": "m5MJnHN8kEzq",
        "colab": {
          "base_uri": "https://localhost:8080/"
        },
        "outputId": "a534addb-8394-4a8c-e325-745bb9f76154"
      },
      "outputs": [
        {
          "output_type": "stream",
          "name": "stdout",
          "text": [
            "\u001b[2K     \u001b[90m━━━━━━━━━━━━━━━━━━━━━━━━━━━━━━━━━━━━━━━━\u001b[0m \u001b[32m63.1/63.1 kB\u001b[0m \u001b[31m1.7 MB/s\u001b[0m eta \u001b[36m0:00:00\u001b[0m\n",
            "\u001b[2K   \u001b[90m━━━━━━━━━━━━━━━━━━━━━━━━━━━━━━━━━━━━━━━━\u001b[0m \u001b[32m1.1/1.1 MB\u001b[0m \u001b[31m19.0 MB/s\u001b[0m eta \u001b[36m0:00:00\u001b[0m\n",
            "\u001b[2K   \u001b[90m━━━━━━━━━━━━━━━━━━━━━━━━━━━━━━━━━━━━━━━━\u001b[0m \u001b[32m811.0/811.0 kB\u001b[0m \u001b[31m40.8 MB/s\u001b[0m eta \u001b[36m0:00:00\u001b[0m\n",
            "\u001b[2K   \u001b[90m━━━━━━━━━━━━━━━━━━━━━━━━━━━━━━━━━━━━━━━━\u001b[0m \u001b[32m7.4/7.4 MB\u001b[0m \u001b[31m91.6 MB/s\u001b[0m eta \u001b[36m0:00:00\u001b[0m\n",
            "\u001b[2K   \u001b[90m━━━━━━━━━━━━━━━━━━━━━━━━━━━━━━━━━━━━━━━━\u001b[0m \u001b[32m926.4/926.4 kB\u001b[0m \u001b[31m47.7 MB/s\u001b[0m eta \u001b[36m0:00:00\u001b[0m\n",
            "\u001b[2K   \u001b[90m━━━━━━━━━━━━━━━━━━━━━━━━━━━━━━━━━━━━━━━━\u001b[0m \u001b[32m815.2/815.2 kB\u001b[0m \u001b[31m45.4 MB/s\u001b[0m eta \u001b[36m0:00:00\u001b[0m\n",
            "\u001b[?25h"
          ]
        }
      ],
      "source": [
        "!pip install -q torch_geometric lightning wandb mne"
      ]
    },
    {
      "cell_type": "code",
      "source": [
        "from google.colab import drive\n",
        "drive.mount('/content/drive')\n",
        "import torch\n",
        "import numpy as np\n",
        "import glob\n",
        "import os\n",
        "from tqdm import tqdm\n",
        "import csv\n",
        "import random\n",
        "import h5py\n",
        "import sys\n",
        "\n",
        "from torch.profiler import profile, record_function, ProfilerActivity\n",
        "\n",
        "import torch.nn.functional as F\n",
        "import scipy.io as sio\n",
        "\n",
        "from torch_geometric.nn import GCNConv\n",
        "from torch_geometric.nn import global_mean_pool\n",
        "from torch_geometric.nn import global_max_pool\n",
        "from torch_geometric.data import Data\n",
        "import lightning as L\n",
        "\n",
        "from torch_geometric.loader import DataLoader\n",
        "\n",
        "import torch.optim as optim\n",
        "from torch.optim.lr_scheduler import CosineAnnealingLR\n",
        "\n",
        "import wandb\n",
        "\n",
        "import matplotlib.pyplot as plt\n",
        "import time\n",
        "\n",
        "import torch.nn as nn\n",
        "import torch.nn.functional as F\n",
        "import torch.optim as optim\n",
        "import torch.utils.data as data\n",
        "\n",
        "from torchmetrics.classification import MulticlassF1Score"
      ],
      "metadata": {
        "colab": {
          "base_uri": "https://localhost:8080/"
        },
        "id": "K_iTx-SBkUYG",
        "outputId": "0167106d-9f86-417e-8a00-28f41ce33fec"
      },
      "execution_count": 3,
      "outputs": [
        {
          "output_type": "stream",
          "name": "stdout",
          "text": [
            "Mounted at /content/drive\n"
          ]
        }
      ]
    },
    {
      "cell_type": "code",
      "source": [
        "import sys\n",
        "sys.path.append('/content/drive/MyDrive/Colab Notebooks/INL')\n",
        "from transform import MNEFilter\n",
        "import mne"
      ],
      "metadata": {
        "id": "BvBnXatika20"
      },
      "execution_count": 4,
      "outputs": []
    },
    {
      "cell_type": "code",
      "source": [
        "fs = 590 #Sampling frequency\n",
        "n_ecogs = 31 #number of ecog channels\n",
        "window_duration = 3 #seconds\n",
        "num_classes = 6"
      ],
      "metadata": {
        "id": "wYGUhNkwkoRL"
      },
      "execution_count": 5,
      "outputs": []
    },
    {
      "cell_type": "code",
      "source": [
        "y = np.load('/content/drive/MyDrive/Colab Notebooks/INL/processed_data/label2.npy')\n",
        "X_train =  np.load('/content/drive/MyDrive/Colab Notebooks/INL/processed_data/X_train2.npy')\n",
        "\n",
        "y_test = np.load('/content/drive/MyDrive/Colab Notebooks/INL/processed_data/label_test.npy')\n",
        "X_test =  np.load('/content/drive/MyDrive/Colab Notebooks/INL/processed_data/X_test.npy')"
      ],
      "metadata": {
        "id": "QnB0RUEYmREJ"
      },
      "execution_count": 6,
      "outputs": []
    },
    {
      "cell_type": "code",
      "source": [
        "X_train.shape"
      ],
      "metadata": {
        "colab": {
          "base_uri": "https://localhost:8080/"
        },
        "id": "2Cr9lFUyRIi-",
        "outputId": "38e189c1-034a-4176-cd1d-c9624aa6b829"
      },
      "execution_count": 7,
      "outputs": [
        {
          "output_type": "execute_result",
          "data": {
            "text/plain": [
              "(11730, 31, 1770)"
            ]
          },
          "metadata": {},
          "execution_count": 7
        }
      ]
    },
    {
      "cell_type": "code",
      "source": [
        "#Preprocess the data before reshaping for the Transformer\n",
        "sfreq=fs\n",
        "l_freq=1\n",
        "h_freq=200\n",
        "notch_freqs=[50, 100, 150, 200]\n",
        "apply_car=True\n",
        "\n",
        "mne_filter = MNEFilter(sfreq=sfreq, l_freq=l_freq, h_freq=h_freq, notch_freqs=notch_freqs, apply_car=apply_car)"
      ],
      "metadata": {
        "id": "r_eoGG3iQJPp"
      },
      "execution_count": 8,
      "outputs": []
    },
    {
      "cell_type": "code",
      "source": [
        "filtered_data_train = []\n",
        "filtered_data_test = []\n",
        "\n",
        "mne.set_log_level(\"error\")\n",
        "for window in tqdm(X_train):\n",
        "  filtered_window = mne_filter(window)\n",
        "  filtered_data_train.append(filtered_window)\n",
        "\n",
        "for window in tqdm(X_test):\n",
        "  filtered_window = mne_filter(window)\n",
        "  filtered_data_test.append(filtered_window)"
      ],
      "metadata": {
        "colab": {
          "base_uri": "https://localhost:8080/"
        },
        "id": "sfkr0oUuU1oJ",
        "outputId": "b4c1c9e7-eccb-407e-889d-ed920e572738"
      },
      "execution_count": 9,
      "outputs": [
        {
          "output_type": "stream",
          "name": "stderr",
          "text": [
            "100%|██████████| 11730/11730 [12:03<00:00, 16.21it/s]\n",
            "100%|██████████| 2237/2237 [02:16<00:00, 16.34it/s]\n"
          ]
        }
      ]
    },
    {
      "cell_type": "code",
      "source": [
        "print(len(filtered_data_train))\n",
        "print(len(filtered_data_test))"
      ],
      "metadata": {
        "id": "8Z23D3L1i87m",
        "colab": {
          "base_uri": "https://localhost:8080/"
        },
        "outputId": "a0a93ef9-ad36-4acb-9626-6403e8b5bd62"
      },
      "execution_count": 10,
      "outputs": [
        {
          "output_type": "stream",
          "name": "stdout",
          "text": [
            "11730\n",
            "2237\n"
          ]
        }
      ]
    },
    {
      "cell_type": "code",
      "source": [
        "np.array(filtered_data_train).shape"
      ],
      "metadata": {
        "id": "ZcF7EDtYqOl9",
        "colab": {
          "base_uri": "https://localhost:8080/"
        },
        "outputId": "8545a16c-3b34-4893-9a9a-edc818a1240b"
      },
      "execution_count": 11,
      "outputs": [
        {
          "output_type": "execute_result",
          "data": {
            "text/plain": [
              "(11730, 31, 1770)"
            ]
          },
          "metadata": {},
          "execution_count": 11
        }
      ]
    },
    {
      "cell_type": "code",
      "source": [
        "X_train = np.array(filtered_data_train).reshape(-1, n_ecogs * window_duration,fs)\n",
        "X_test = np.array(filtered_data_test).reshape(-1,n_ecogs * window_duration,fs)"
      ],
      "metadata": {
        "id": "BvbJKxUAp4FG"
      },
      "execution_count": 12,
      "outputs": []
    },
    {
      "cell_type": "code",
      "source": [
        "dataset = []\n",
        "\n",
        "for idx in tqdm(range(X_train.shape[0])):\n",
        "    eeg_clip = X_train[idx, :, :]\n",
        "    label = y[idx]\n",
        "    if label == 4 or label == 7: #ignore label 4 and 7, which produces weird results\n",
        "        continue\n",
        "    if label >= 4:\n",
        "      label = label - 1\n",
        "    dataset.append((torch.tensor(eeg_clip).float(), torch.tensor((label), dtype=torch.long)))\n",
        "\n",
        "random.shuffle(dataset)\n",
        "\n",
        "\n",
        "dataset_test = []\n",
        "\n",
        "for idx in tqdm(range(X_test.shape[0])):\n",
        "    eeg_clip = X_test[idx,:,:]\n",
        "    label = y_test[idx]\n",
        "    if label == 4 or label == 7: #ignore label 7\n",
        "        continue\n",
        "    if label >= 4:\n",
        "      label = label - 1\n",
        "    dataset_test.append( ( torch.tensor(eeg_clip).float(), torch.tensor((label) , dtype=torch.long) ) )\n",
        "\n",
        "random.shuffle(dataset_test)"
      ],
      "metadata": {
        "id": "wZ7eBBWzmWkk",
        "colab": {
          "base_uri": "https://localhost:8080/"
        },
        "outputId": "47534f3d-c271-4111-db05-e342a2eef760"
      },
      "execution_count": 13,
      "outputs": [
        {
          "output_type": "stream",
          "name": "stderr",
          "text": [
            "100%|██████████| 11730/11730 [00:07<00:00, 1505.11it/s]\n",
            "100%|██████████| 2237/2237 [00:01<00:00, 1510.29it/s]\n"
          ]
        }
      ]
    },
    {
      "cell_type": "code",
      "source": [
        "train_dataloader = DataLoader(dataset , batch_size = 8)\n",
        "test_dataloader = DataLoader(dataset_test , batch_size = 8)"
      ],
      "metadata": {
        "id": "As_2CFVjmXc8"
      },
      "execution_count": 14,
      "outputs": []
    },
    {
      "cell_type": "code",
      "source": [
        "class AttentionBlock(nn.Module):\n",
        "    def __init__(self, embed_dim, hidden_dim, num_heads, dropout=0.0):\n",
        "        \"\"\"Attention Block.\n",
        "\n",
        "        Args:\n",
        "            embed_dim: Dimensionality of input and attention feature vectors\n",
        "            hidden_dim: Dimensionality of hidden layer in feed-forward network\n",
        "                         (usually 2-4x larger than embed_dim)\n",
        "            num_heads: Number of heads to use in the Multi-Head Attention block\n",
        "            dropout: Amount of dropout to apply in the feed-forward network\n",
        "        \"\"\"\n",
        "        super().__init__()\n",
        "\n",
        "\n",
        "        self.layer_norm_1 = nn.LayerNorm(embed_dim)\n",
        "        self.attn = nn.MultiheadAttention(embed_dim, num_heads)\n",
        "        self.layer_norm_2 = nn.LayerNorm(embed_dim)\n",
        "        self.linear = nn.Sequential(\n",
        "            nn.Linear(embed_dim, hidden_dim),\n",
        "            nn.GELU(),\n",
        "            nn.Dropout(dropout),\n",
        "            nn.Linear(hidden_dim, embed_dim),\n",
        "            nn.Dropout(dropout),\n",
        "        )\n",
        "\n",
        "    def forward(self, x):\n",
        "        inp_x = self.layer_norm_1(x)\n",
        "        x = x + self.attn(inp_x, inp_x, inp_x)[0]\n",
        "        x = x + self.linear(self.layer_norm_2(x))\n",
        "        return x\n",
        "\n",
        "\n",
        "\n",
        "class VisionTransformer(nn.Module):\n",
        "    def __init__(\n",
        "        self,\n",
        "        embed_dim,\n",
        "        hidden_dim,\n",
        "        num_t_pints,\n",
        "        num_heads,\n",
        "        num_layers,\n",
        "        num_classes,\n",
        "        num_patches,\n",
        "        dropout=0.0,\n",
        "    ):\n",
        "        \"\"\"Vision Transformer.\n",
        "\n",
        "        Args:\n",
        "            embed_dim: Dimensionality of the input feature vectors to the Transformer\n",
        "            hidden_dim: Dimensionality of the hidden layer in the feed-forward networks\n",
        "                         within the Transformer\n",
        "            num_channels: Number of channels of the input (3 for RGB)\n",
        "            num_heads: Number of heads to use in the Multi-Head Attention block\n",
        "            num_layers: Number of layers to use in the Transformer\n",
        "            num_classes: Number of classes to predict\n",
        "            patch_size: Number of pixels that the patches have per dimension\n",
        "            num_patches: Maximum number of patches an image can have\n",
        "            dropout: Amount of dropout to apply in the feed-forward network and\n",
        "                      on the input encoding\n",
        "        \"\"\"\n",
        "        super().__init__()\n",
        "\n",
        "        #self.mne_filter = MNEFilter()\n",
        "\n",
        "        self.input_layer = nn.Linear(num_t_pints  , embed_dim)\n",
        "        self.transformer = nn.Sequential(\n",
        "            *(AttentionBlock(embed_dim, hidden_dim, num_heads, dropout=dropout) for _ in range(num_layers))\n",
        "        )\n",
        "        self.mlp_head = nn.Sequential(nn.LayerNorm(embed_dim), nn.Linear(embed_dim, num_classes))\n",
        "        self.dropout = nn.Dropout(dropout)\n",
        "\n",
        "        # Parameters/Embeddings\n",
        "        self.cls_token = nn.Parameter(torch.randn(1, 1, embed_dim))\n",
        "        self.pos_embedding = nn.Parameter(torch.randn(1, 1 + num_patches, embed_dim))\n",
        "\n",
        "    def forward(self, x):\n",
        "        # Preprocess input\n",
        "        #x = torch.stack([torch.from_numpy(self.mne_filter(sample.cpu().numpy())) for sample in x])\n",
        "        #x = x.cuda().float()\n",
        "\n",
        "        x = torch.log( torch.abs( torch.fft.fft(x , dim=-1) ) + 1e-10 )\n",
        "\n",
        "        #x = torch.cat( [torch.log(torch.abs( torch.fft.fft(x , dim=-1).imag[:,:,0:295]))  , torch.log(torch.abs(torch.fft.fft(x , dim=-1).real[:,:,0:295]) ) ] , dim=-1)\n",
        "\n",
        "        x = (x - x.mean(dim=-1 , keepdim=True) )/x.std(dim=-1 , keepdim=True)\n",
        "\n",
        "        #B, T, _ = x.shape # B Batch, T Timepoints\n",
        "        B, _, T = x.shape # B Batch, T Timepoints\n",
        "        #print(f\"shape of x: {x.shape}\")\n",
        "        x = self.input_layer(x)\n",
        "\n",
        "        # Add CLS token and positional encoding\n",
        "        cls_token = self.cls_token.repeat(B, 1, 1)\n",
        "        x = torch.cat([cls_token, x], dim=1)\n",
        "        x = x + self.pos_embedding#[:, :, :T + 1]\n",
        "\n",
        "        # Apply Transforrmer\n",
        "        x = self.dropout(x)\n",
        "        x = x.transpose(0, 1)\n",
        "        x = self.transformer(x)\n",
        "\n",
        "        # Perform classification prediction\n",
        "        cls = x[0]\n",
        "        out = self.mlp_head(cls)\n",
        "        return out\n",
        "\n",
        "\n",
        "\n",
        "\n",
        "class ViT(L.LightningModule):\n",
        "    def __init__(self, model_kwargs):\n",
        "        super().__init__()\n",
        "\n",
        "        self.model = VisionTransformer(**model_kwargs)\n",
        "\n",
        "\n",
        "    def forward(self, x):\n",
        "        return self.model(x)\n",
        "\n",
        "    def configure_optimizers(self):\n",
        "\n",
        "        optimizer = optim.Adam(params=self.parameters(), lr = 1e-3)\n",
        "\n",
        "        scheduler = CosineAnnealingLR(optimizer, T_max = 50)\n",
        "\n",
        "        return [optimizer], [{\"scheduler\": scheduler, \"interval\": \"epoch\"}]\n",
        "\n",
        "\n",
        "    def training_step(self, batch, batch_idx):\n",
        "        imgs, labels = batch\n",
        "        preds = self.model(imgs)\n",
        "        loss = F.cross_entropy(preds, labels)\n",
        "\n",
        "        #wandb.log({ \"Bridge-GPT-Loss\": loss})\n",
        "\n",
        "        return loss"
      ],
      "metadata": {
        "id": "ERtP6-ZNmdaM"
      },
      "execution_count": 26,
      "outputs": []
    },
    {
      "cell_type": "code",
      "source": [
        "\"\"\"\n",
        "model_kwargs={\n",
        "        \"embed_dim\": 64,\n",
        "        \"hidden_dim\": 64,\n",
        "        \"num_heads\": 8,\n",
        "        \"num_layers\": 4,\n",
        "        \"num_t_pints\": 590,\n",
        "        \"num_patches\": 93,\n",
        "        \"num_classes\": num_classes,\n",
        "        \"dropout\": 0.2,\n",
        "    }\n",
        "\"\"\"\n",
        "\n",
        "model_kwargs={\n",
        "        \"embed_dim\": 32,\n",
        "        \"hidden_dim\": 64,\n",
        "        \"num_heads\": 4,\n",
        "        \"num_layers\": 4,\n",
        "        \"num_t_pints\": 590,\n",
        "        \"num_patches\": 93,\n",
        "        \"num_classes\": num_classes,\n",
        "        \"dropout\": 0.2,\n",
        "    }\n",
        "\n",
        "\n",
        "model = ViT(model_kwargs)"
      ],
      "metadata": {
        "id": "j8VK4gOxzZdf"
      },
      "execution_count": 27,
      "outputs": []
    },
    {
      "cell_type": "code",
      "source": [
        "trainer = L.Trainer(max_epochs= 50 , devices= 1, accelerator=\"cpu\")\n",
        "\n",
        "trainer.fit(model, train_dataloader)"
      ],
      "metadata": {
        "id": "Ee1z_dG1zdHK",
        "colab": {
          "base_uri": "https://localhost:8080/",
          "height": 565,
          "referenced_widgets": [
            "dc7c90a96f9a4a8aabf1adcbca61d5dd",
            "ce7ae349a95140b7b6b1d10b522ffca4",
            "805af7b80b3d43e29a1fc5f5be3bf9d1",
            "411f3b4b285d42a5a35e80773dc027b5",
            "63a4159a1e144bac9cd79bd607ae4b46",
            "130998b566084b23a2eabe9c2fd00f7c",
            "30c0ea9bdf8948ae991f233a566bbae6",
            "482e21b9c07c43cea4d76f40b23ade6e",
            "7489e29e57384a91a3658e4d84eb08b2",
            "43e9e58744be4247ac5124916682f11a",
            "694aa7365169436fa3469829a91a5c2b"
          ]
        },
        "outputId": "c1a90225-e238-4cf0-93c1-61a99e4c02bd"
      },
      "execution_count": 28,
      "outputs": [
        {
          "output_type": "stream",
          "name": "stderr",
          "text": [
            "INFO:pytorch_lightning.utilities.rank_zero:GPU available: False, used: False\n",
            "INFO:pytorch_lightning.utilities.rank_zero:TPU available: False, using: 0 TPU cores\n",
            "INFO:pytorch_lightning.utilities.rank_zero:HPU available: False, using: 0 HPUs\n",
            "INFO: \n",
            "  | Name  | Type              | Params | Mode \n",
            "----------------------------------------------------\n",
            "0 | model | VisionTransformer | 56.4 K | train\n",
            "----------------------------------------------------\n",
            "56.4 K    Trainable params\n",
            "0         Non-trainable params\n",
            "56.4 K    Total params\n",
            "0.226     Total estimated model params size (MB)\n",
            "51        Modules in train mode\n",
            "0         Modules in eval mode\n",
            "INFO:lightning.pytorch.callbacks.model_summary:\n",
            "  | Name  | Type              | Params | Mode \n",
            "----------------------------------------------------\n",
            "0 | model | VisionTransformer | 56.4 K | train\n",
            "----------------------------------------------------\n",
            "56.4 K    Trainable params\n",
            "0         Non-trainable params\n",
            "56.4 K    Total params\n",
            "0.226     Total estimated model params size (MB)\n",
            "51        Modules in train mode\n",
            "0         Modules in eval mode\n",
            "/usr/local/lib/python3.10/dist-packages/lightning/pytorch/trainer/connectors/data_connector.py:424: The 'train_dataloader' does not have many workers which may be a bottleneck. Consider increasing the value of the `num_workers` argument` to `num_workers=7` in the `DataLoader` to improve performance.\n"
          ]
        },
        {
          "output_type": "display_data",
          "data": {
            "text/plain": [
              "Training: |          | 0/? [00:00<?, ?it/s]"
            ],
            "application/vnd.jupyter.widget-view+json": {
              "version_major": 2,
              "version_minor": 0,
              "model_id": "dc7c90a96f9a4a8aabf1adcbca61d5dd"
            }
          },
          "metadata": {}
        },
        {
          "output_type": "stream",
          "name": "stderr",
          "text": [
            "INFO:pytorch_lightning.utilities.rank_zero:`Trainer.fit` stopped: `max_epochs=50` reached.\n"
          ]
        }
      ]
    },
    {
      "cell_type": "code",
      "source": [
        "device = \"cuda\" if torch.cuda.is_available() else \"cpu\""
      ],
      "metadata": {
        "id": "72g2WSQiLv-O"
      },
      "execution_count": 29,
      "outputs": []
    },
    {
      "cell_type": "code",
      "source": [
        "import pytorch_lightning\n",
        "\n",
        "torch.seed()\n",
        "np.random.seed(120)\n",
        "random.seed(123)\n",
        "pytorch_lightning.utilities.seed\n",
        "\n",
        "model.to(device)\n",
        "l = [] #labels\n",
        "gt = [] #ground thruth\n",
        "\n",
        "for data in (tqdm(test_dataloader)):\n",
        "\n",
        "    out = model(data[0].to(device))\n",
        "\n",
        "    l.extend(out.to('cpu').detach().numpy())\n",
        "\n",
        "    gt.extend(( data[1].type(torch.float32).reshape(-1,1).to('cpu') ).detach().numpy())"
      ],
      "metadata": {
        "id": "MWGO50tyzfAF",
        "colab": {
          "base_uri": "https://localhost:8080/"
        },
        "outputId": "3b64e01c-efcb-4ff5-8c9e-920aedc70f90"
      },
      "execution_count": 30,
      "outputs": [
        {
          "output_type": "stream",
          "name": "stderr",
          "text": [
            "\n",
            "  0%|          | 0/278 [00:00<?, ?it/s]\u001b[A\n",
            "  2%|▏         | 6/278 [00:00<00:04, 56.60it/s]\u001b[A\n",
            "  4%|▍         | 12/278 [00:00<00:04, 55.95it/s]\u001b[A\n",
            "  6%|▋         | 18/278 [00:00<00:04, 56.85it/s]\u001b[A\n",
            "  9%|▊         | 24/278 [00:00<00:04, 57.29it/s]\u001b[A\n",
            " 11%|█         | 31/278 [00:00<00:04, 60.98it/s]\u001b[A\n",
            " 14%|█▎        | 38/278 [00:00<00:03, 63.41it/s]\u001b[A\n",
            " 16%|█▌        | 45/278 [00:00<00:03, 63.32it/s]\u001b[A\n",
            " 19%|█▊        | 52/278 [00:00<00:03, 63.88it/s]\u001b[A\n",
            " 21%|██        | 59/278 [00:00<00:03, 61.62it/s]\u001b[A\n",
            " 24%|██▎       | 66/278 [00:01<00:03, 59.69it/s]\u001b[A\n",
            " 26%|██▌       | 72/278 [00:01<00:03, 59.29it/s]\u001b[A\n",
            " 28%|██▊       | 79/278 [00:01<00:03, 60.00it/s]\u001b[A\n",
            " 31%|███       | 86/278 [00:01<00:03, 61.15it/s]\u001b[A\n",
            " 33%|███▎      | 93/278 [00:01<00:03, 60.91it/s]\u001b[A\n",
            " 36%|███▌      | 100/278 [00:01<00:02, 61.73it/s]\u001b[A\n",
            " 38%|███▊      | 107/278 [00:01<00:02, 61.31it/s]\u001b[A\n",
            " 41%|████      | 114/278 [00:01<00:02, 60.95it/s]\u001b[A\n",
            " 44%|████▎     | 121/278 [00:01<00:02, 60.57it/s]\u001b[A\n",
            " 46%|████▌     | 128/278 [00:02<00:02, 60.36it/s]\u001b[A\n",
            " 49%|████▊     | 135/278 [00:02<00:02, 58.49it/s]\u001b[A\n",
            " 51%|█████     | 142/278 [00:02<00:02, 59.58it/s]\u001b[A\n",
            " 54%|█████▎    | 149/278 [00:02<00:02, 61.17it/s]\u001b[A\n",
            " 56%|█████▌    | 156/278 [00:02<00:01, 61.25it/s]\u001b[A\n",
            " 59%|█████▊    | 163/278 [00:02<00:01, 62.55it/s]\u001b[A\n",
            " 61%|██████    | 170/278 [00:02<00:01, 62.14it/s]\u001b[A\n",
            " 64%|██████▎   | 177/278 [00:02<00:01, 63.45it/s]\u001b[A\n",
            " 66%|██████▌   | 184/278 [00:03<00:01, 62.18it/s]\u001b[A\n",
            " 69%|██████▊   | 191/278 [00:03<00:01, 60.80it/s]\u001b[A\n",
            " 71%|███████   | 198/278 [00:03<00:01, 62.27it/s]\u001b[A\n",
            " 74%|███████▎  | 205/278 [00:03<00:01, 62.12it/s]\u001b[A\n",
            " 76%|███████▋  | 212/278 [00:03<00:01, 62.30it/s]\u001b[A\n",
            " 79%|███████▉  | 219/278 [00:03<00:00, 62.57it/s]\u001b[A\n",
            " 81%|████████▏ | 226/278 [00:03<00:00, 62.83it/s]\u001b[A\n",
            " 84%|████████▍ | 233/278 [00:03<00:00, 63.54it/s]\u001b[A\n",
            " 86%|████████▋ | 240/278 [00:03<00:00, 64.03it/s]\u001b[A\n",
            " 89%|████████▉ | 247/278 [00:04<00:00, 61.25it/s]\u001b[A\n",
            " 91%|█████████▏| 254/278 [00:04<00:00, 58.23it/s]\u001b[A\n",
            " 94%|█████████▍| 261/278 [00:04<00:00, 59.98it/s]\u001b[A\n",
            " 96%|█████████▋| 268/278 [00:04<00:00, 60.10it/s]\u001b[A\n",
            "100%|██████████| 278/278 [00:04<00:00, 61.24it/s]\n"
          ]
        }
      ]
    },
    {
      "cell_type": "code",
      "source": [
        "from torchmetrics.classification import MulticlassConfusionMatrix\n",
        "\n",
        "target = torch.tensor( np.array(gt).reshape(-1,) )\n",
        "label =   torch.squeeze( torch.tensor( np.array(l)) )\n",
        "\n",
        "metric = MulticlassConfusionMatrix(num_classes=num_classes)\n",
        "\n",
        "c = np.array(metric(torch.argmax(label,-1) , target))"
      ],
      "metadata": {
        "id": "RtL95Uh3usmY"
      },
      "execution_count": 31,
      "outputs": []
    },
    {
      "cell_type": "code",
      "source": [
        "label_dict = {0: 'state__idle',\n",
        "           1: 'state__shoulder__flexion',\n",
        "           2: 'state__elbow__extension',\n",
        "           3: 'state__wrist__pronation',\n",
        "           4: 'state__hand__open',\n",
        "           5: 'state__hand__close',\n",
        "          }"
      ],
      "metadata": {
        "id": "bT_wWsZDvIzc"
      },
      "execution_count": 32,
      "outputs": []
    },
    {
      "cell_type": "code",
      "source": [
        "# import matplotlib.pyplot as plt\n",
        "import numpy as np\n",
        "import matplotlib as mpl\n",
        "\n",
        "import matplotlib.pyplot as plt\n",
        "from matplotlib.colors import LinearSegmentedColormap\n",
        "import numpy as np\n",
        "\n",
        "C = c\n",
        "\n",
        "colors = ['k' , '#F601FF'] # first color is black, last is red\n",
        "cm = LinearSegmentedColormap.from_list(\n",
        "        \"Custom\", colors, N=200)\n",
        "\n",
        "class_labels = [0, 1, 2, 3, 4, 5]\n",
        "\n",
        "normalized_confusion_matrix =  np.round(C/ np.sum(C, axis=1, keepdims=True), 3)\n",
        "\n",
        "fig, ax = plt.subplots(facecolor='k')\n",
        "im = ax.imshow(normalized_confusion_matrix , cmap = cm , vmin=0, vmax=1)\n",
        "cb = fig.colorbar(im , ax=ax)\n",
        "cb.outline.set_edgecolor('w')\n",
        "\n",
        "ax.set_xlabel(\"Predicted Labels\", color='w')\n",
        "ax.set_ylabel(\"True Labels\", color='w')\n",
        "\n",
        "ax.set_xticks(np.arange(len(class_labels)), labels=[name for _, name in  label_dict.items()], color='w', rotation=45, ha='right')\n",
        "ax.set_yticks(np.arange(len(class_labels)), labels=[name for _, name in  label_dict.items()], color='w')\n",
        "\n",
        "\n",
        "\n",
        "\n",
        "for i in range(len(class_labels)):\n",
        "    for j in range(len(class_labels)):\n",
        "        text = ax.text(j, i, normalized_confusion_matrix[i, j],\n",
        "                        ha=\"center\", va=\"center\", color=\"w\" , size=8)\n",
        "\n",
        "\n",
        "fig.tight_layout()\n",
        "plt.show()"
      ],
      "metadata": {
        "id": "qXt9o-S2uvs7",
        "colab": {
          "base_uri": "https://localhost:8080/",
          "height": 487
        },
        "outputId": "db9668e1-dc8f-4744-c510-ed2f8e4dde0d"
      },
      "execution_count": 33,
      "outputs": [
        {
          "output_type": "display_data",
          "data": {
            "text/plain": [
              "<Figure size 640x480 with 2 Axes>"
            ],
            "image/png": "[encoded data removed]"
          },
          "metadata": {}
        }
      ]
    },
    {
      "cell_type": "code",
      "source": [
        "diagonal_avg = np.mean(np.diag(normalized_confusion_matrix))\n",
        "print(\"Diagonal Average of Confusion Matrix:\", diagonal_avg)\n",
        "\n",
        "# Initialize the F1 metric (macro-average)\n",
        "f1_metric = MulticlassF1Score(num_classes=num_classes, average='macro')\n",
        "\n",
        "# Compute the F1 score\n",
        "f1_score = f1_metric(torch.argmax(label,-1) , target)\n",
        "print(\"Macro-Averaged F1-Score:\", f1_score.item())"
      ],
      "metadata": {
        "id": "s4x3FtkwvCEh",
        "colab": {
          "base_uri": "https://localhost:8080/"
        },
        "outputId": "45811c1f-39ed-4024-cf59-e3462362842f"
      },
      "execution_count": 34,
      "outputs": [
        {
          "output_type": "stream",
          "name": "stdout",
          "text": [
            "Diagonal Average of Confusion Matrix: 0.4471666666666667\n",
            "Macro-Averaged F1-Score: 0.44008615612983704\n"
          ]
        }
      ]
    },
    {
      "cell_type": "code",
      "source": [],
      "metadata": {
        "id": "NbnPOnyyL65C"
      },
      "execution_count": null,
      "outputs": []
    }
  ]
}